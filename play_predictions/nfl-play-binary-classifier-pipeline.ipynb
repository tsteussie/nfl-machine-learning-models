{
 "cells": [
  {
   "cell_type": "code",
   "execution_count": 1,
   "outputs": [],
   "source": [
    "import warnings\n",
    "from numba.core.errors import NumbaDeprecationWarning, NumbaPendingDeprecationWarning\n",
    "warnings.simplefilter('ignore', category=UserWarning)\n",
    "warnings.filterwarnings('ignore',category=ImportWarning)\n",
    "warnings.filterwarnings('ignore',category=DeprecationWarning)\n",
    "warnings.simplefilter('ignore', category=NumbaDeprecationWarning)\n",
    "warnings.simplefilter('ignore', category=NumbaPendingDeprecationWarning)\n",
    "\n",
    "import pandas as pd\n",
    "import numpy as np\n",
    "import category_encoders as ce\n",
    "from scipy.stats import randint\n",
    "from imblearn.pipeline import Pipeline\n",
    "from imblearn.over_sampling import ADASYN\n",
    "from BorutaShap import BorutaShap\n",
    "\n",
    "from sklearn.impute import SimpleImputer\n",
    "from sklearn.preprocessing import OrdinalEncoder, OneHotEncoder, MinMaxScaler # StandardScaler, MaxAbsScaler, RobustScaler\n",
    "from sklearn.experimental import enable_halving_search_cv\n",
    "from sklearn.model_selection import train_test_split, HalvingRandomSearchCV\n",
    "from sklearn.compose import ColumnTransformer\n",
    "from sklearn.utils.fixes import loguniform\n",
    "from sklearn.metrics import accuracy_score, balanced_accuracy_score, f1_score, roc_auc_score, classification_report, confusion_matrix\n",
    "from sklearn.dummy import DummyClassifier\n",
    "from sklearn.ensemble import RandomForestClassifier, ExtraTreesClassifier, GradientBoostingClassifier, AdaBoostClassifier\n",
    "import operator\n"
   ],
   "metadata": {
    "collapsed": false,
    "ExecuteTime": {
     "end_time": "2023-12-11T04:00:11.366960Z",
     "start_time": "2023-12-11T03:59:50.041563Z"
    }
   },
   "id": "774348c602e5ca1e"
  },
  {
   "cell_type": "markdown",
   "id": "c4f8e047",
   "metadata": {
    "pycharm": {
     "name": "#%% md\n"
    }
   },
   "source": [
    "## IMPORT PROCESSED NFL-DATA-PY CSV FILE\n",
    "##### https://pypi.org/project/nfl-data-py/"
   ]
  },
  {
   "cell_type": "code",
   "execution_count": 2,
   "outputs": [
    {
     "data": {
      "text/plain": "(58894, 157)"
     },
     "execution_count": 2,
     "metadata": {},
     "output_type": "execute_result"
    }
   ],
   "source": [
    "# Import csv file from nfl-data-py\n",
    "df = pd.read_csv(r'/Users/ttas2/Documents/Python/nfl-machine-learning-models/output_files/nfl_post_processing_run_pass_classification_data.csv')\n",
    "\n",
    "df.shape"
   ],
   "metadata": {
    "collapsed": false,
    "ExecuteTime": {
     "end_time": "2023-12-11T04:00:12.626536Z",
     "start_time": "2023-12-11T04:00:11.369167Z"
    }
   },
   "id": "f8d686327dce3e32"
  },
  {
   "cell_type": "code",
   "execution_count": 3,
   "outputs": [
    {
     "name": "stdout",
     "output_type": "stream",
     "text": [
      "[]\n"
     ]
    }
   ],
   "source": [
    "# Print columns with missing values\n",
    "print(df.columns[df.isnull().any()].tolist())"
   ],
   "metadata": {
    "collapsed": false,
    "ExecuteTime": {
     "end_time": "2023-12-11T04:00:12.674108Z",
     "start_time": "2023-12-11T04:00:12.618407Z"
    }
   },
   "id": "629bc39586b0fba6"
  },
  {
   "cell_type": "code",
   "execution_count": 4,
   "outputs": [
    {
     "data": {
      "text/plain": "       week posteam defteam  yardline_100  quarter_seconds_remaining   \n49638    14     PIT      NE          46.0                        331  \\\n13039     6     CLE      NE          71.0                        197   \n\n       half_seconds_remaining  game_seconds_remaining  game_half  qtr  down   \n49638                     331                    2131          1    2   2.0  \\\n13039                     197                    1997          1    2   1.0   \n\n       ...  remain_yds_div_off_hb_count  remain_yds_prod_off_hb_count   \n49638  ...                     1.250000                      5.000000  \\\n13039  ...                     1.666667                      6.666667   \n\n      remain_yds_div_def_dl_count  remain_yds_prod_def_dl_count   \n49638                    0.833333                           7.5  \\\n13039                    1.111111                          10.0   \n\n       remain_yds_div_def_db_count  remain_yds_prod_def_db_count   \n49638                     0.500000                     12.500000  \\\n13039                     0.666667                     16.666667   \n\n       remain_yds_div_score_diff  remain_yds_prod_score_diff   \n49638                  -0.138889                  -45.000000  \\\n13039                  -0.476190                  -23.333333   \n\n       run_ratio_off_priors  run_ratio_def_priors  \n49638              0.476190               0.30000  \n13039              0.577778               0.65873  \n\n[2 rows x 157 columns]",
      "text/html": "<div>\n<style scoped>\n    .dataframe tbody tr th:only-of-type {\n        vertical-align: middle;\n    }\n\n    .dataframe tbody tr th {\n        vertical-align: top;\n    }\n\n    .dataframe thead th {\n        text-align: right;\n    }\n</style>\n<table border=\"1\" class=\"dataframe\">\n  <thead>\n    <tr style=\"text-align: right;\">\n      <th></th>\n      <th>week</th>\n      <th>posteam</th>\n      <th>defteam</th>\n      <th>yardline_100</th>\n      <th>quarter_seconds_remaining</th>\n      <th>half_seconds_remaining</th>\n      <th>game_seconds_remaining</th>\n      <th>game_half</th>\n      <th>qtr</th>\n      <th>down</th>\n      <th>...</th>\n      <th>remain_yds_div_off_hb_count</th>\n      <th>remain_yds_prod_off_hb_count</th>\n      <th>remain_yds_div_def_dl_count</th>\n      <th>remain_yds_prod_def_dl_count</th>\n      <th>remain_yds_div_def_db_count</th>\n      <th>remain_yds_prod_def_db_count</th>\n      <th>remain_yds_div_score_diff</th>\n      <th>remain_yds_prod_score_diff</th>\n      <th>run_ratio_off_priors</th>\n      <th>run_ratio_def_priors</th>\n    </tr>\n  </thead>\n  <tbody>\n    <tr>\n      <th>49638</th>\n      <td>14</td>\n      <td>PIT</td>\n      <td>NE</td>\n      <td>46.0</td>\n      <td>331</td>\n      <td>331</td>\n      <td>2131</td>\n      <td>1</td>\n      <td>2</td>\n      <td>2.0</td>\n      <td>...</td>\n      <td>1.250000</td>\n      <td>5.000000</td>\n      <td>0.833333</td>\n      <td>7.5</td>\n      <td>0.500000</td>\n      <td>12.500000</td>\n      <td>-0.138889</td>\n      <td>-45.000000</td>\n      <td>0.476190</td>\n      <td>0.30000</td>\n    </tr>\n    <tr>\n      <th>13039</th>\n      <td>6</td>\n      <td>CLE</td>\n      <td>NE</td>\n      <td>71.0</td>\n      <td>197</td>\n      <td>197</td>\n      <td>1997</td>\n      <td>1</td>\n      <td>2</td>\n      <td>1.0</td>\n      <td>...</td>\n      <td>1.666667</td>\n      <td>6.666667</td>\n      <td>1.111111</td>\n      <td>10.0</td>\n      <td>0.666667</td>\n      <td>16.666667</td>\n      <td>-0.476190</td>\n      <td>-23.333333</td>\n      <td>0.577778</td>\n      <td>0.65873</td>\n    </tr>\n  </tbody>\n</table>\n<p>2 rows × 157 columns</p>\n</div>"
     },
     "execution_count": 4,
     "metadata": {},
     "output_type": "execute_result"
    }
   ],
   "source": [
    "# Convert binary columns to integers\n",
    "binary_columns = df.columns[df.isin([0,1]).all()].tolist()\n",
    "df[binary_columns] = df[binary_columns].apply(pd.to_numeric, downcast='integer', errors='coerce', axis=1)\n",
    "\n",
    "df.sample(2)"
   ],
   "metadata": {
    "collapsed": false,
    "ExecuteTime": {
     "end_time": "2023-12-11T04:00:24.410612Z",
     "start_time": "2023-12-11T04:00:12.723012Z"
    }
   },
   "id": "41f7422bcc2cf003"
  },
  {
   "cell_type": "code",
   "execution_count": 5,
   "id": "4c9bcb28",
   "metadata": {
    "pycharm": {
     "name": "#%%\n"
    },
    "ExecuteTime": {
     "end_time": "2023-12-11T04:00:24.425877Z",
     "start_time": "2023-12-11T04:00:24.411028Z"
    }
   },
   "outputs": [
    {
     "data": {
      "text/plain": "play_type\npass    0.59872\nrun     0.40128\nName: proportion, dtype: float64"
     },
     "execution_count": 5,
     "metadata": {},
     "output_type": "execute_result"
    }
   ],
   "source": [
    "# Target frequency\n",
    "target_count = df.play_type.value_counts(normalize=True)\n",
    "target_count"
   ]
  },
  {
   "cell_type": "code",
   "execution_count": 6,
   "outputs": [],
   "source": [
    "df['play_type'] = np.where(df['play_type'] == 'pass', 1, 0)"
   ],
   "metadata": {
    "collapsed": false,
    "ExecuteTime": {
     "end_time": "2023-12-11T04:00:24.442014Z",
     "start_time": "2023-12-11T04:00:24.415583Z"
    }
   },
   "id": "91112ef9f7a1ba3c"
  },
  {
   "cell_type": "markdown",
   "source": [
    "## TRAIN TEST SPLIT\n",
    "##### https://scikit-learn.org/stable/modules/generated/sklearn.model_selection.train_test_split.html"
   ],
   "metadata": {
    "collapsed": false
   },
   "id": "4c140526b778c182"
  },
  {
   "cell_type": "code",
   "execution_count": 7,
   "id": "4943bbf5",
   "metadata": {
    "pycharm": {
     "name": "#%%\n"
    },
    "ExecuteTime": {
     "end_time": "2023-12-11T04:00:24.579276Z",
     "start_time": "2023-12-11T04:00:24.428792Z"
    }
   },
   "outputs": [
    {
     "name": "stdout",
     "output_type": "stream",
     "text": [
      "156 features before feature selection\n",
      "Column names: ['week', 'posteam', 'defteam', 'yardline_100', 'quarter_seconds_remaining', 'half_seconds_remaining', 'game_seconds_remaining', 'game_half', 'qtr', 'down', 'goal_to_go', 'ydstogo', 'shotgun', 'no_huddle', 'posteam_timeouts_remaining', 'defteam_timeouts_remaining', 'posteam_score', 'defteam_score', 'score_differential', 'no_score_prob', 'fg_prob', 'safety_prob', 'td_prob', 'ep', 'wp', 'drive_play_count', 'spread_line', 'total_line', 'div_game', 'surface', 'offense_formation', 'offense_personnel', 'defenders_in_box', 'defense_personnel', 'n_offense', 'n_defense', 'qb_rank', 'qb_pts', 'qb_plays', 'qb_qbr_raw', 'qb_qbr', 'qb_pass', 'qb_run', 'report_eligible', 'off_rb_count', 'off_te_count', 'off_wr_count', 'off_hb_count', 'off_ol_count', 'def_dl_count', 'def_lb_count', 'def_db_count', 'wr_to_db_ratio', 'hb_to_lb_ratio', 'ol_to_dl_ratio', 'play_sequence_game', 'play_sequence_series', 'game_temp', 'game_humidity', 'game_wind', 'game_weather', 'dtg_99to90', 'dtg_89to60', 'dtg_59to45', 'dtg_44to35', 'dtg_34to21', 'dtg_20to10', 'dtg_09to00', 'prev1_big_play_pass', 'prev2_big_play_pass', 'prev3_big_play_pass', 'prev1_big_play_run', 'prev2_big_play_run', 'prev3_big_play_run', 'prev1_negative_pass', 'prev2_negative_pass', 'prev3_negative_pass', 'prev1_negative_run', 'prev2_negative_run', 'prev3_negative_run', 'play_type_prev1', 'play_type_prev2', 'play_type_prev3', 'play_type_prev4', 'prev1_play_off_penalty', 'prev1_play_def_penalty', 'prev2_play_off_penalty', 'prev2_play_def_penalty', 'prev3_play_off_penalty', 'prev3_play_def_penalty', 'prev1_play_run_outside', 'prev1_play_run_inside', 'prev1_play_pass_deep', 'prev1_play_pass_short', 'prev2_play_run_outside', 'prev2_play_run_inside', 'prev2_play_pass_deep', 'prev2_play_pass_short', 'prev3_play_run_outside', 'prev3_play_run_inside', 'prev3_play_pass_deep', 'prev3_play_pass_short', 'prev1_incomplete_pass', 'prev2_incomplete_pass', 'prev3_incomplete_pass', 'prev4_incomplete_pass', 'drive_incomplete_pass_pcnt', 'prev1_yards_gained', 'prev2_yards_gained', 'prev3_yards_gained', 'prev4_yards_gained', 'prev1_wpa', 'prev2_wpa', 'prev3_wpa', 'prev4_wpa', 'prev1_shotgun', 'prev2_shotgun', 'prev3_shotgun', 'drive_shotgun_pcnt', 'prev1_qb_hit', 'prev2_qb_hit', 'prev3_qb_hit', 'drive_qb_hit_pcnt', 'prev1_no_huddle', 'prev2_no_huddle', 'prev3_no_huddle', 'drive_no_huddle_pcnt', 'prev1_first_down_pass', 'prev2_first_down_pass', 'prev3_first_down_pass', 'prev1_first_down_run', 'prev2_first_down_run', 'prev3_first_down_run', 'prev1_effct_play', 'prev2_effct_play', 'prev3_effct_play', 'drive_effct_play_pcnt', 'remaining_downs', 'remaining_yards_per_down', 'drive_start', 'two_min_warning', 'ep_half_sec_ratio', 'ep_game_sec_ratio', 'posteam_side', 'remain_yds_div_def_box', 'remain_yds_prod_def_box', 'remain_yds_div_off_hb_count', 'remain_yds_prod_off_hb_count', 'remain_yds_div_def_dl_count', 'remain_yds_prod_def_dl_count', 'remain_yds_div_def_db_count', 'remain_yds_prod_def_db_count', 'remain_yds_div_score_diff', 'remain_yds_prod_score_diff', 'run_ratio_off_priors', 'run_ratio_def_priors']\n"
     ]
    }
   ],
   "source": [
    "# split data into target and feature datasets\n",
    "X, y = df.loc[:, df.columns != 'play_type'], df['play_type']\n",
    "\n",
    "initial_features = X.columns.to_list()\n",
    "\n",
    "# Create train and test datasets\n",
    "X_train, X_test, y_train, y_test = train_test_split(X, y, test_size=0.20, random_state=67)\n",
    "\n",
    "print(X_train.shape[1], 'features before feature selection')\n",
    "print('Column names:', X_train.columns.to_list())"
   ]
  },
  {
   "cell_type": "markdown",
   "id": "4b6cd4c3",
   "metadata": {
    "pycharm": {
     "name": "#%% md\n"
    }
   },
   "source": [
    "## BASELINE MODEL\n",
    "##### https://scikit-learn.org/stable/modules/generated/sklearn.dummy.DummyClassifier.html"
   ]
  },
  {
   "cell_type": "code",
   "execution_count": 8,
   "id": "28e9513e",
   "metadata": {
    "pycharm": {
     "name": "#%%\n"
    },
    "ExecuteTime": {
     "end_time": "2023-12-11T04:00:24.686358Z",
     "start_time": "2023-12-11T04:00:24.573640Z"
    }
   },
   "outputs": [
    {
     "name": "stdout",
     "output_type": "stream",
     "text": [
      "Baseline accuracy: 59.9%\n",
      "Baseline f1 score: 74.9%\n"
     ]
    }
   ],
   "source": [
    "# Create and fit baseline model to compare performance\n",
    "baseline_model = DummyClassifier(strategy='most_frequent', random_state=67)\n",
    "baseline_model.fit(X_train, y_train)\n",
    "\n",
    "# Calculate model accuracy on test data\n",
    "y_baseline_pred = baseline_model.predict(X_test)\n",
    "# accuracy_score(y_test, y_baseline_pred)\n",
    "print(f\"Baseline accuracy: {(round(accuracy_score(y_test,y_baseline_pred),3)*100)}%\")\n",
    "print(f\"Baseline f1 score: {(round(f1_score(y_test,y_baseline_pred),3)*100)}%\")"
   ]
  },
  {
   "cell_type": "markdown",
   "source": [
    "## ENCODE CATEGORICAL FEATURES\n",
    "##### https://contrib.scikit-learn.org/category_encoders/leaveoneout.html"
   ],
   "metadata": {
    "collapsed": false
   },
   "id": "e0f3ad4dbdd2f444"
  },
  {
   "cell_type": "code",
   "execution_count": 9,
   "outputs": [
    {
     "name": "stdout",
     "output_type": "stream",
     "text": [
      "156 features after categorical encoding\n"
     ]
    }
   ],
   "source": [
    "# Create list of features for each dtype\n",
    "categorical_feat = list(X_train.select_dtypes(include='object'))\n",
    "\n",
    "# Encoded column represents mean response over all rows for this category, providing one-column representation while avoiding direct response leakage\n",
    "\n",
    "# Sigma adds normal (Gaussian) distribution noise into training data in order to decrease over-fitting (testing data are untouched). Sigma gives the standard deviation (spread or “width”) of the normal distribution. The optimal value is commonly between 0.05 and 0.6. The default is to not add noise, but that leads to significantly suboptimal results.\n",
    "train_encoder = ce.LeaveOneOutEncoder(return_df=True, cols=categorical_feat, handle_missing='value', handle_unknown='value', sigma=0.05)\n",
    "test_encoder = ce.LeaveOneOutEncoder(return_df=True, cols=categorical_feat, handle_missing='value', handle_unknown='value')\n",
    "\n",
    "X_train = train_encoder.fit_transform(X_train, y_train)\n",
    "X_test = test_encoder.transform(X_test)\n",
    "\n",
    "print(X_train.shape[1], 'features after categorical encoding')"
   ],
   "metadata": {
    "collapsed": false,
    "ExecuteTime": {
     "end_time": "2023-12-11T04:00:25.678393Z",
     "start_time": "2023-12-11T04:00:24.614786Z"
    }
   },
   "id": "d33d4e0b73750e26"
  },
  {
   "cell_type": "markdown",
   "source": [
    "## FEATURE SELECTION\n",
    "##### https://pypi.org/project/BorutaShap/"
   ],
   "metadata": {
    "collapsed": false
   },
   "id": "65fe86e88f378c61"
  },
  {
   "cell_type": "code",
   "execution_count": 10,
   "outputs": [],
   "source": [
    "feature_model = RandomForestClassifier(ccp_alpha=1e-04,\n",
    "                                       criterion='log_loss',\n",
    "                                       max_depth=60,\n",
    "                                       max_features=0.50,\n",
    "                                       max_leaf_nodes=30,\n",
    "                                       max_samples=0.30,\n",
    "                                       min_impurity_decrease=1e-07,\n",
    "                                       #min_samples_leaf=0.03,\n",
    "                                       #min_samples_split=0.03,\n",
    "                                       #min_weight_fraction_leaf=0.03,\n",
    "                                       n_estimators=400,\n",
    "                                       class_weight='balanced_subsample',\n",
    "                                       bootstrap=False,\n",
    "                                       oob_score=False,\n",
    "                                       warm_start=True,\n",
    "                                       n_jobs=6,\n",
    "                                       random_state=67,\n",
    "                                       )"
   ],
   "metadata": {
    "collapsed": false,
    "ExecuteTime": {
     "end_time": "2023-12-11T04:00:25.679546Z",
     "start_time": "2023-12-11T04:00:25.669810Z"
    }
   },
   "id": "39e692ffcbfd70ba"
  },
  {
   "cell_type": "code",
   "execution_count": 11,
   "outputs": [
    {
     "name": "stderr",
     "output_type": "stream",
     "text": [
      "100%|██████████| 400/400 [1:27:55<00:00, 13.19s/it]"
     ]
    },
    {
     "name": "stdout",
     "output_type": "stream",
     "text": [
      "18 attributes confirmed important: ['play_sequence_series', 'off_hb_count', 'prev4_yards_gained', 'ep', 'surface', 'prev3_shotgun', 'drive_start', 'remain_yds_div_def_box', 'play_type_prev1', 'play_type_prev4', 'off_wr_count', 'wp', 'play_type_prev2', 'prev4_wpa', 'offense_formation', 'play_type_prev3', 'offense_personnel', 'game_weather']\n",
      "137 attributes confirmed unimportant: ['dtg_09to00', 'yardline_100', 'down', 'prev3_incomplete_pass', 'week', 'score_differential', 'prev2_negative_run', 'two_min_warning', 'prev2_qb_hit', 'prev1_yards_gained', 'hb_to_lb_ratio', 'prev3_no_huddle', 'total_line', 'n_offense', 'remain_yds_prod_def_box', 'dtg_89to60', 'play_sequence_game', 'ol_to_dl_ratio', 'prev3_big_play_run', 'def_dl_count', 'off_ol_count', 'remain_yds_div_score_diff', 'prev1_qb_hit', 'defteam', 'posteam', 'remain_yds_prod_def_db_count', 'safety_prob', 'dtg_44to35', 'prev3_effct_play', 'prev2_play_pass_short', 'game_temp', 'prev2_play_off_penalty', 'drive_qb_hit_pcnt', 'off_te_count', 'qb_qbr_raw', 'prev2_play_pass_deep', 'defenders_in_box', 'qb_run', 'td_prob', 'no_huddle', 'prev1_shotgun', 'prev2_negative_pass', 'def_lb_count', 'remain_yds_div_def_db_count', 'prev2_effct_play', 'prev1_play_pass_deep', 'ep_game_sec_ratio', 'remain_yds_prod_off_hb_count', 'prev1_big_play_pass', 'remain_yds_prod_score_diff', 'prev2_play_run_outside', 'game_humidity', 'remaining_yards_per_down', 'drive_effct_play_pcnt', 'qb_rank', 'prev2_wpa', 'prev2_play_run_inside', 'quarter_seconds_remaining', 'remaining_downs', 'prev1_play_run_outside', 'prev2_no_huddle', 'dtg_59to45', 'prev3_negative_run', 'qb_qbr', 'qtr', 'wr_to_db_ratio', 'report_eligible', 'prev3_play_pass_deep', 'prev4_incomplete_pass', 'posteam_side', 'prev2_incomplete_pass', 'prev2_first_down_run', 'no_score_prob', 'qb_pts', 'prev3_play_run_outside', 'dtg_99to90', 'prev1_first_down_pass', 'drive_incomplete_pass_pcnt', 'prev1_effct_play', 'posteam_score', 'drive_shotgun_pcnt', 'goal_to_go', 'prev3_qb_hit', 'prev1_incomplete_pass', 'run_ratio_off_priors', 'prev2_yards_gained', 'run_ratio_def_priors', 'n_defense', 'ydstogo', 'game_wind', 'prev2_big_play_pass', 'prev1_no_huddle', 'prev1_negative_run', 'prev2_shotgun', 'prev1_play_off_penalty', 'remain_yds_div_def_dl_count', 'prev1_play_def_penalty', 'qb_plays', 'prev1_first_down_run', 'prev3_play_def_penalty', 'prev1_play_run_inside', 'prev3_wpa', 'qb_pass', 'remain_yds_div_off_hb_count', 'prev1_negative_pass', 'half_seconds_remaining', 'dtg_20to10', 'prev3_big_play_pass', 'prev2_play_def_penalty', 'div_game', 'def_db_count', 'ep_half_sec_ratio', 'drive_no_huddle_pcnt', 'game_seconds_remaining', 'posteam_timeouts_remaining', 'defteam_score', 'prev3_first_down_run', 'game_half', 'off_rb_count', 'prev2_big_play_run', 'prev3_yards_gained', 'prev3_first_down_pass', 'defteam_timeouts_remaining', 'spread_line', 'prev3_play_off_penalty', 'prev3_play_pass_short', 'prev1_play_pass_short', 'drive_play_count', 'prev2_first_down_pass', 'prev3_play_run_inside', 'defense_personnel', 'remain_yds_prod_def_dl_count', 'dtg_34to21', 'prev1_wpa', 'prev3_negative_pass', 'fg_prob', 'prev1_big_play_run']\n",
      "1 tentative attributes remains: ['shotgun']\n"
     ]
    },
    {
     "name": "stderr",
     "output_type": "stream",
     "text": [
      "\n"
     ]
    }
   ],
   "source": [
    "# no model selected default is Random Forest\n",
    "Feature_Selector = BorutaShap(importance_measure='shap',\n",
    "                              classification=True,\n",
    "                              model=feature_model,\n",
    "                              )\n",
    "\n",
    "Feature_Selector.fit(X=X_train,\n",
    "                     y=y_train,\n",
    "                     n_trials=400,\n",
    "                     sample=False,\n",
    "                     random_state=67,\n",
    "                     )"
   ],
   "metadata": {
    "collapsed": false,
    "ExecuteTime": {
     "end_time": "2023-12-11T05:28:29.666970Z",
     "start_time": "2023-12-11T04:00:25.676702Z"
    }
   },
   "id": "4e7034bfcd562178"
  },
  {
   "cell_type": "code",
   "execution_count": 12,
   "outputs": [
    {
     "data": {
      "text/plain": "<Figure size 1800x800 with 1 Axes>",
      "image/png": "[encoded data removed]"
     },
     "metadata": {},
     "output_type": "display_data"
    }
   ],
   "source": [
    "# Plot selected features with shap values on x-axis\n",
    "Feature_Selector.plot(which_features='accepted', figsize=(18, 8), y_scale='log')"
   ],
   "metadata": {
    "collapsed": false,
    "ExecuteTime": {
     "end_time": "2023-12-11T05:28:30.755987Z",
     "start_time": "2023-12-11T05:28:29.690004Z"
    }
   },
   "id": "c20134f76d62fa54"
  },
  {
   "cell_type": "code",
   "execution_count": 13,
   "outputs": [
    {
     "name": "stdout",
     "output_type": "stream",
     "text": [
      "Training features: 18\n",
      "Testing features: 18\n",
      "Most important features: ['shotgun', 'ep', 'wp', 'surface', 'offense_formation', 'offense_personnel', 'off_wr_count', 'off_hb_count', 'play_sequence_series', 'game_weather', 'play_type_prev1', 'play_type_prev2', 'play_type_prev3', 'play_type_prev4', 'prev4_yards_gained', 'prev4_wpa', 'prev3_shotgun', 'drive_start']\n"
     ]
    }
   ],
   "source": [
    "# Drops features that were identified by BorutaShap as not important\n",
    "features_to_remove = Feature_Selector.features_to_remove\n",
    "\n",
    "X_train = X_train.drop(columns=features_to_remove)\n",
    "X_test = X_test.drop(columns=features_to_remove)\n",
    "\n",
    "# Print the shape of the new datasets\n",
    "print('Training features:', X_train.shape[1])\n",
    "print('Testing features:', X_test.shape[1])\n",
    "print('Most important features:', X_train.columns.to_list())"
   ],
   "metadata": {
    "collapsed": false,
    "ExecuteTime": {
     "end_time": "2023-12-11T05:28:30.779522Z",
     "start_time": "2023-12-11T05:28:30.766742Z"
    }
   },
   "id": "afa5c66c26a42f87"
  },
  {
   "cell_type": "markdown",
   "source": [
    "## MODEL PIPELINE\n",
    "##### https://scikit-learn.org/stable/modules/generated/sklearn.compose.ColumnTransformer.html\n",
    "##### https://scikit-learn.org/stable/modules/generated/sklearn.impute.SimpleImputer.html\n",
    "##### https://scikit-learn.org/stable/modules/generated/sklearn.preprocessing.PowerTransformer.html\n",
    "##### https://www.statsmodels.org/dev/generated/statsmodels.stats.outliers_influence.variance_inflation_factor.html\n",
    "##### https://imbalanced-learn.org/stable/references/over_sampling.html\n",
    "##### https://scikit-learn.org/stable/modules/generated/sklearn.model_selection.HalvingRandomSearchCV.html\n",
    "##### https://scikit-learn.org/stable/modules/generated/sklearn.metrics.f1_score.html\n",
    "##### https://scikit-learn.org/stable/modules/generated/sklearn.ensemble.GradientBoostingClassifier.html\n",
    "##### https://scikit-learn.org/stable/modules/generated/sklearn.ensemble.RandomForestClassifier.html\n",
    "##### https://scikit-learn.org/stable/modules/generated/sklearn.ensemble.ExtraTreesClassifier.html\n",
    "##### https://xgboost.readthedocs.io/en/stable/parameter.html"
   ],
   "metadata": {
    "collapsed": false
   },
   "id": "28eb7c49ea06b6d2"
  },
  {
   "cell_type": "code",
   "execution_count": 14,
   "outputs": [
    {
     "name": "stdout",
     "output_type": "stream",
     "text": [
      "categorical features: 0 : []\n",
      "ordinal features: 0 : []\n",
      "boolean features: 2 : ['shotgun', 'prev3_shotgun']\n",
      "numeric features: 16 : ['ep', 'wp', 'surface', 'offense_formation', 'offense_personnel', 'off_wr_count', 'off_hb_count', 'play_sequence_series', 'game_weather', 'play_type_prev1', 'play_type_prev2', 'play_type_prev3', 'play_type_prev4', 'prev4_yards_gained', 'prev4_wpa', 'drive_start']\n"
     ]
    }
   ],
   "source": [
    "# Create feature type lists for column transform stage of the pipeline\n",
    "ordinal_features = X_train.columns[X_train.isin([1,2,3,4,5,6,7,8,9,10]).all()].tolist()\n",
    "categorical_features = list(X_train.select_dtypes(include='object'))\n",
    "boolean_features = X_train.columns[X_train.isin([0, 1]).all()].tolist()\n",
    "\n",
    "numeric_features = [x for x in X_train.columns if x not in ordinal_features]\n",
    "numeric_features = [x for x in numeric_features if x not in categorical_features]\n",
    "numeric_features = [x for x in numeric_features if x not in boolean_features]\n",
    "\n",
    "print('categorical features:', len(categorical_features), ':', categorical_features)\n",
    "print('ordinal features:', len(ordinal_features), ':', ordinal_features)\n",
    "print('boolean features:', len(boolean_features), ':', boolean_features)\n",
    "print('numeric features:', len(numeric_features), ':', numeric_features)"
   ],
   "metadata": {
    "collapsed": false,
    "ExecuteTime": {
     "end_time": "2023-12-11T05:28:31.028765Z",
     "start_time": "2023-12-11T05:28:30.778925Z"
    }
   },
   "id": "e95804b4c341fcbb"
  },
  {
   "cell_type": "code",
   "execution_count": 15,
   "outputs": [],
   "source": [
    "# Outlier removal\n",
    "def iqr_outliers(x, features):\n",
    "\n",
    "    out_index_list = []\n",
    "        \n",
    "    for col in features:\n",
    "        q1 = np.nanpercentile(x[col], 25.)\n",
    "        q3 = np.nanpercentile(x[col], 75.)\n",
    "        \n",
    "        cut_off = (q3 - q1) * 1.5\n",
    "        upper, lower = q3 + cut_off, q1 - cut_off\n",
    "                \n",
    "        outliers_index = x[col][(x[col] < lower) | (x[col] > upper)].index.tolist()\n",
    "        out_index_list.extend(outliers_index)\n",
    "        \n",
    "    # Remove duplicates\n",
    "    list(set(out_index_list)).sort()"
   ],
   "metadata": {
    "pycharm": {
     "name": "#%%\n"
    },
    "ExecuteTime": {
     "end_time": "2023-12-11T05:28:31.029530Z",
     "start_time": "2023-12-11T05:28:30.967301Z"
    }
   },
   "id": "3e4ff9bb"
  },
  {
   "cell_type": "code",
   "execution_count": 16,
   "outputs": [],
   "source": [
    "# Specify the transformations per data type\n",
    "num_trans = Pipeline(steps=[('simple_imputer', SimpleImputer(missing_values=np.nan, strategy='median')),\n",
    "                            ('iqr_outlier', iqr_outliers(X_train, numeric_features)),\n",
    "                            ('scaler', MinMaxScaler()),\n",
    "                           ])\n",
    "\n",
    "cat_trans = Pipeline(steps=[('simple_imputer', SimpleImputer(missing_values=np.nan, strategy='most_frequent')),\n",
    "                            ('onehot_encoder', OneHotEncoder(sparse=False, handle_unknown='infrequent_if_exist')),\n",
    "                           ])\n",
    "\n",
    "ord_trans = Pipeline(steps=[('simple_imputer', SimpleImputer(missing_values=np.nan, strategy='most_frequent')),\n",
    "                            ('ordinal_encoder', OrdinalEncoder(categories='auto', handle_unknown='error')),\n",
    "                            ('scaler', MinMaxScaler()),\n",
    "                           ])\n",
    "                             \n",
    "Column_Transform = ColumnTransformer(transformers=[('numeric_transform', num_trans, numeric_features),\n",
    "                                                   ('categorical_transform', cat_trans, categorical_features),\n",
    "                                                   ('ordinal_transform', ord_trans, ordinal_features),\n",
    "                                                   ],\n",
    "                                     remainder='passthrough',\n",
    "                                    )"
   ],
   "metadata": {
    "pycharm": {
     "name": "#%%\n"
    },
    "ExecuteTime": {
     "end_time": "2023-12-11T05:28:31.088168Z",
     "start_time": "2023-12-11T05:28:30.975308Z"
    }
   },
   "id": "58cc5161"
  },
  {
   "cell_type": "code",
   "execution_count": 17,
   "id": "17593a5b",
   "metadata": {
    "pycharm": {
     "name": "#%%\n"
    },
    "ExecuteTime": {
     "end_time": "2023-12-11T05:28:31.090663Z",
     "start_time": "2023-12-11T05:28:31.012094Z"
    }
   },
   "outputs": [],
   "source": [
    "# Specify number of target classes\n",
    "n_classes = y_train.nunique() * 3\n",
    "\n",
    "# Specify cross validation folds\n",
    "n_cross_validation = 10\n",
    "\n",
    "# Specify HalvingRandomSearchCV halving_parameter (aka factor)\n",
    "halving_parameter = 2.0\n",
    "\n",
    "# Specify the HalvingRandomSearchCV minimum/maximum resources\n",
    "max_resource = 2500\n",
    "resource_divisor = 2.0\n",
    "min_resource = int(round((max_resource / resource_divisor), 0))\n",
    "\n",
    "# Create scorer\n",
    "scoring = 'accuracy'"
   ]
  },
  {
   "cell_type": "code",
   "execution_count": 18,
   "id": "e4b3074a",
   "metadata": {
    "pycharm": {
     "name": "#%%\n"
    },
    "ExecuteTime": {
     "end_time": "2023-12-11T05:28:31.113222Z",
     "start_time": "2023-12-11T05:28:31.017017Z"
    }
   },
   "outputs": [],
   "source": [
    "def random_search():\n",
    "    \n",
    "    pipeline1 = Pipeline([\n",
    "    ('col', Column_Transform),\n",
    "    ('smpl', ADASYN(n_neighbors=n_classes, sampling_strategy='not majority', random_state=67)),\n",
    "    ('clf', RandomForestClassifier()),\n",
    "    ])\n",
    "    \n",
    "    pipeline2 = Pipeline([\n",
    "    ('col', Column_Transform),\n",
    "    ('smpl', ADASYN(n_neighbors=n_classes, sampling_strategy='not majority', random_state=67)),\n",
    "    ('clf', ExtraTreesClassifier()),\n",
    "    ])\n",
    "    \n",
    "    pipeline3 = Pipeline([\n",
    "    ('col', Column_Transform),\n",
    "    ('smpl', ADASYN(n_neighbors=n_classes, sampling_strategy='not majority', random_state=67)),\n",
    "    ('clf', GradientBoostingClassifier()),\n",
    "    ])\n",
    "    \n",
    "    pipeline4 = Pipeline([\n",
    "    ('col', Column_Transform),\n",
    "    ('smpl', ADASYN(n_neighbors=n_classes, sampling_strategy='not majority', random_state=67)),\n",
    "    ('clf', AdaBoostClassifier()),\n",
    "    ])\n",
    "    \n",
    "    # RandomForestClassifier\n",
    "    parameters1 = {\n",
    "    'clf__bootstrap': [False],\n",
    "    'clf__ccp_alpha': loguniform(1e-04, 1e-00),              # cost-complexity pruning is an algorithm used to prune a tree to avoid over-fitting\n",
    "    'clf__criterion': ['entropy'],\n",
    "    'clf__max_depth': randint(25, 50),\n",
    "    'clf__max_features': loguniform(0.01, 0.08), \n",
    "    'clf__min_impurity_decrease': loguniform(1e-06, 1e-04),\n",
    "    #'clf__max_samples': loguniform(0.02, 1.0),              # max_samples is not supported for bootstrap=False\n",
    "    'clf__min_samples_leaf': loguniform(0.02, 0.07),\n",
    "    'clf__min_samples_split': loguniform(0.10, 0.20),\n",
    "    'clf__min_weight_fraction_leaf': loguniform(0.05, 0.12),\n",
    "    'clf__oob_score': [False],                                # Only for bootstrap=True\n",
    "    'clf__warm_start': [True],\n",
    "    'clf__n_jobs': [6],\n",
    "    'clf__random_state': [67],\n",
    "    }\n",
    "\n",
    "    # ExtraTreesClassifier\n",
    "    parameters2 = {\n",
    "    'clf__bootstrap': [False],\n",
    "    'clf__ccp_alpha': loguniform(1e-09, 1e-06),               # cost-complexity pruning is an algorithm used to prune a tree to avoid over-fitting\n",
    "    'clf__criterion': ['gini','log_loss'],\n",
    "    'clf__max_depth': randint(35, 60),\n",
    "    'clf__max_features': loguniform(0.65, 0.90),\n",
    "    'clf__max_leaf_nodes': randint(40, 85),\n",
    "    #'clf__max_samples': loguniform(0.30, 1.0),             # max_samples is not supported for bootstrap=False\n",
    "    'clf__min_impurity_decrease': loguniform(1e-06, 1e-02),\n",
    "    'clf__min_samples_leaf': loguniform(0.02, 0.08),\n",
    "    'clf__min_samples_split': loguniform(0.02, 0.08),\n",
    "    'clf__min_weight_fraction_leaf': loguniform(0.02, 0.08),\n",
    "    'clf__oob_score': [False],                                # Only for bootstrap=True\n",
    "    'clf__warm_start': [False], # Changed\n",
    "    'clf__n_jobs': [6],\n",
    "    'clf__random_state': [67],\n",
    "    }\n",
    "    \n",
    "    # GradientBoostingClassifier\n",
    "    parameters3 = {\n",
    "    'clf__criterion': ['friedman_mse'],\n",
    "    'clf__ccp_alpha': loguniform(1e-11, 1e-07),                # cost-complexity pruning is an algorithm used to prune a tree to avoid over-fitting\n",
    "    'clf__learning_rate': loguniform(1e-03, 1e-00),\n",
    "    'clf__loss': ['log_loss'],\n",
    "    'clf__max_depth': randint(5, 15),\n",
    "    'clf__max_features': loguniform(0.25, 0.45), \n",
    "    'clf__max_leaf_nodes': [None],\n",
    "    'clf__min_weight_fraction_leaf': loguniform(0.25, 0.45),   # New in version 0.24.\n",
    "    'clf__min_impurity_decrease': loguniform(1e-03, 1e-00),\n",
    "    'clf__min_samples_leaf': loguniform(0.05, 0.55),\n",
    "    'clf__min_samples_split': loguniform(0.25, 0.45),\n",
    "    'clf__n_iter_no_change': [150],\n",
    "    'clf__tol': loguniform(1e-06, 1e-02),\n",
    "    'clf__validation_fraction': loguniform(0.10, 0.15),\n",
    "    'clf__warm_start': [False],\n",
    "    'clf__subsample': loguniform(0.95, 1.00),                                   # Choosing subsample < 1.0 leads to a reduction of variance and an increase in bias\n",
    "    'clf__random_state': [67],\n",
    "    }\n",
    "\n",
    "    # AdaBoostClassifier\n",
    "    parameters4  = {\n",
    "    'clf__algorithm': ['SAMME','SAMME.R'],\n",
    "    'clf__learning_rate':  loguniform(1e-10, 1e-01),\n",
    "    'clf__random_state': [67],\n",
    "    }\n",
    "\n",
    "    pars = [parameters1, parameters2, parameters3, parameters4]\n",
    "    pips = [pipeline1, pipeline2, pipeline3, pipeline4]\n",
    "\n",
    "    result = []\n",
    "    \n",
    "    for i in range(len(pars)):\n",
    "        \n",
    "        rs = HalvingRandomSearchCV(pips[i],\n",
    "                                   pars[i],\n",
    "                                   factor=halving_parameter,\n",
    "                                   resource='clf__n_estimators',\n",
    "                                   n_candidates='exhaust',\n",
    "                                   min_resources=min_resource,\n",
    "                                   max_resources=max_resource,\n",
    "                                   scoring=scoring,\n",
    "                                   aggressive_elimination=False,\n",
    "                                   return_train_score=True,\n",
    "                                   refit=True,                   \n",
    "                                   cv=n_cross_validation,\n",
    "                                   n_jobs=6,\n",
    "                                   verbose=1,\n",
    "                                   random_state=67,\n",
    "                                   error_score='raise',\n",
    "                                  )\n",
    "\n",
    "        # Fit models on training data\n",
    "        rs = rs.fit(X_train, y_train)\n",
    "        \n",
    "        # Apply models to test data to determine model performance\n",
    "        y_pred = rs.predict(X_test)\n",
    "        y_pred_prob = rs.predict_proba(X_test)[:, 1]\n",
    "\n",
    "        print(\" \")\n",
    "        print(\" \")\n",
    "        \n",
    "        # storing model results\n",
    "        result.append({\n",
    "        'grid': rs,\n",
    "        'cv results': rs.cv_results_,\n",
    "        'train accuracy score': rs.best_score_,\n",
    "        'best params': rs.best_params_, \n",
    "        'best estimator': rs.best_estimator_,\n",
    "        'feature importance': rs.best_estimator_.named_steps['clf'].feature_importances_,\n",
    "        'test f1 score': f1_score(y_test, y_pred, average='micro'),\n",
    "        'test accuracy score': accuracy_score(y_test, y_pred),\n",
    "        'test balanced accuracy score': balanced_accuracy_score(y_test, y_pred),\n",
    "        'test roc auc score': roc_auc_score(y_test, y_pred_prob),\n",
    "        'test classification report': classification_report(y_test, y_pred, target_names=['pass','run'], digits=5),\n",
    "        'test confusion matrix': confusion_matrix(y_test, y_pred),\n",
    "        'cv': rs.cv,\n",
    "        'model #': i + 1\n",
    "        })\n",
    "\n",
    "    # sorting results by best test score\n",
    "    result = sorted(result, key=operator.itemgetter('test f1 score'), reverse=True)\n",
    "    \n",
    "    print(' ')\n",
    "    for element in result:\n",
    "        if element['model #']==1:\n",
    "            print('Random Forest classifier: ')\n",
    "        elif element['model #']==2:\n",
    "            print('ExtraTrees classifier: ')\n",
    "        elif element['model #']==3:\n",
    "            print('GradientBoosting classifier: ')\n",
    "        elif element['model #']==4:\n",
    "            print('AdaBoost classifier: ')\n",
    "        else:\n",
    "            print('Other: ')  \n",
    "        \n",
    "        print('Parameters:  ' + str(element['best params']))\n",
    "        print(' ')\n",
    "        print('Train accuracy score:         ' + str(element['train accuracy score']))\n",
    "        print('Test accuracy score:          ' + str(element['test accuracy score']))\n",
    "        print('Test balanced accuracy score: ' + str(element['test accuracy score']))\n",
    "        print('Test f1 score:                ' + str(element['test f1 score']))\n",
    "        print('Test roc auc score:           ' + str(element['test roc auc score']))\n",
    "        print(' ')\n",
    "        print(element['test classification report'])\n",
    "        print(element['test confusion matrix'])\n",
    "        print(' ')\n",
    "        print('-----------------------')\n",
    "        print(' ')\n",
    "        \n",
    "        # Export best model as csv file\n",
    "        pd.DataFrame(element['cv results']).to_csv(r'/Users/ttas2/Documents/Python/nfl-machine-learning-models/output_files/run_pass_classifier_model.csv')\n",
    "        pd.DataFrame(element['feature importance'], index=X_train.columns).to_csv(r'/Users/ttas2/Documents/Python/nfl-machine-learning-models/output_files/run_pass_classifier_feature_importance.csv')\n"
   ]
  },
  {
   "cell_type": "code",
   "execution_count": 19,
   "id": "e7e2a726",
   "metadata": {
    "pycharm": {
     "name": "#%%\n"
    },
    "scrolled": false,
    "ExecuteTime": {
     "end_time": "2023-12-11T06:04:34.877065Z",
     "start_time": "2023-12-11T05:28:31.036701Z"
    }
   },
   "outputs": [
    {
     "name": "stdout",
     "output_type": "stream",
     "text": [
      "n_iterations: 2\n",
      "n_required_iterations: 2\n",
      "n_possible_iterations: 2\n",
      "min_resources_: 1250\n",
      "max_resources_: 2500\n",
      "aggressive_elimination: False\n",
      "factor: 2.0\n",
      "----------\n",
      "iter: 0\n",
      "n_candidates: 2\n",
      "n_resources: 1250\n",
      "Fitting 10 folds for each of 2 candidates, totalling 20 fits\n",
      "----------\n",
      "iter: 1\n",
      "n_candidates: 1\n",
      "n_resources: 2500\n",
      "Fitting 10 folds for each of 1 candidates, totalling 10 fits\n",
      " \n",
      " \n",
      "n_iterations: 2\n",
      "n_required_iterations: 2\n",
      "n_possible_iterations: 2\n",
      "min_resources_: 1250\n",
      "max_resources_: 2500\n",
      "aggressive_elimination: False\n",
      "factor: 2.0\n",
      "----------\n",
      "iter: 0\n",
      "n_candidates: 2\n",
      "n_resources: 1250\n",
      "Fitting 10 folds for each of 2 candidates, totalling 20 fits\n",
      "----------\n",
      "iter: 1\n",
      "n_candidates: 1\n",
      "n_resources: 2500\n",
      "Fitting 10 folds for each of 1 candidates, totalling 10 fits\n",
      " \n",
      " \n",
      "n_iterations: 2\n",
      "n_required_iterations: 2\n",
      "n_possible_iterations: 2\n",
      "min_resources_: 1250\n",
      "max_resources_: 2500\n",
      "aggressive_elimination: False\n",
      "factor: 2.0\n",
      "----------\n",
      "iter: 0\n",
      "n_candidates: 2\n",
      "n_resources: 1250\n",
      "Fitting 10 folds for each of 2 candidates, totalling 20 fits\n",
      "----------\n",
      "iter: 1\n",
      "n_candidates: 1\n",
      "n_resources: 2500\n",
      "Fitting 10 folds for each of 1 candidates, totalling 10 fits\n",
      " \n",
      " \n",
      "n_iterations: 2\n",
      "n_required_iterations: 2\n",
      "n_possible_iterations: 2\n",
      "min_resources_: 1250\n",
      "max_resources_: 2500\n",
      "aggressive_elimination: False\n",
      "factor: 2.0\n",
      "----------\n",
      "iter: 0\n",
      "n_candidates: 2\n",
      "n_resources: 1250\n",
      "Fitting 10 folds for each of 2 candidates, totalling 20 fits\n",
      "----------\n",
      "iter: 1\n",
      "n_candidates: 1\n",
      "n_resources: 2500\n",
      "Fitting 10 folds for each of 1 candidates, totalling 10 fits\n",
      " \n",
      " \n",
      " \n",
      "ExtraTrees classifier: \n",
      "Parameters:  {'clf__bootstrap': False, 'clf__ccp_alpha': 4.340645213116582e-08, 'clf__criterion': 'gini', 'clf__max_depth': 40, 'clf__max_features': 0.8125497757999977, 'clf__max_leaf_nodes': 49, 'clf__min_impurity_decrease': 0.002286773699856294, 'clf__min_samples_leaf': 0.05982134504588247, 'clf__min_samples_split': 0.024569487189533605, 'clf__min_weight_fraction_leaf': 0.057051727989604416, 'clf__n_jobs': 6, 'clf__oob_score': False, 'clf__random_state': 67, 'clf__warm_start': False, 'clf__n_estimators': 2500}\n",
      " \n",
      "Train accuracy score:         0.9084792788903189\n",
      "Test accuracy score:          0.7307920876135495\n",
      "Test balanced accuracy score: 0.7307920876135495\n",
      "Test f1 score:                0.7307920876135495\n",
      "Test roc auc score:           0.767966216013103\n",
      " \n",
      "              precision    recall  f1-score   support\n",
      "\n",
      "        pass    0.68894   0.59987   0.64133      4726\n",
      "         run    0.75326   0.81852   0.78453      7053\n",
      "\n",
      "    accuracy                        0.73079     11779\n",
      "   macro avg    0.72110   0.70919   0.71293     11779\n",
      "weighted avg    0.72746   0.73079   0.72708     11779\n",
      "\n",
      "[[2835 1891]\n",
      " [1280 5773]]\n",
      " \n",
      "-----------------------\n",
      " \n",
      "Random Forest classifier: \n",
      "Parameters:  {'clf__bootstrap': False, 'clf__ccp_alpha': 0.01525477195575271, 'clf__criterion': 'entropy', 'clf__max_depth': 35, 'clf__max_features': 0.07230316656582081, 'clf__min_impurity_decrease': 1.7458991423008954e-05, 'clf__min_samples_leaf': 0.05727188711166107, 'clf__min_samples_split': 0.17294702230145872, 'clf__min_weight_fraction_leaf': 0.05693852749883098, 'clf__n_jobs': 6, 'clf__oob_score': False, 'clf__random_state': 67, 'clf__warm_start': True, 'clf__n_estimators': 2500}\n",
      " \n",
      "Train accuracy score:         0.9977925989781529\n",
      "Test accuracy score:          0.63825452075728\n",
      "Test balanced accuracy score: 0.63825452075728\n",
      "Test f1 score:                0.63825452075728\n",
      "Test roc auc score:           0.6859084854117357\n",
      " \n",
      "              precision    recall  f1-score   support\n",
      "\n",
      "        pass    0.67816   0.18726   0.29348      4726\n",
      "         run    0.63328   0.94045   0.75689      7053\n",
      "\n",
      "    accuracy                        0.63825     11779\n",
      "   macro avg    0.65572   0.56386   0.52519     11779\n",
      "weighted avg    0.65129   0.63825   0.57096     11779\n",
      "\n",
      "[[ 885 3841]\n",
      " [ 420 6633]]\n",
      " \n",
      "-----------------------\n",
      " \n",
      "GradientBoosting classifier: \n",
      "Parameters:  {'clf__ccp_alpha': 5.553285954939524e-11, 'clf__criterion': 'friedman_mse', 'clf__learning_rate': 0.025231975343624136, 'clf__loss': 'log_loss', 'clf__max_depth': 8, 'clf__max_features': 0.35148370866199397, 'clf__max_leaf_nodes': None, 'clf__min_impurity_decrease': 0.9796759418182323, 'clf__min_samples_leaf': 0.30695170213410283, 'clf__min_samples_split': 0.2995125897987927, 'clf__min_weight_fraction_leaf': 0.28275251089675796, 'clf__n_iter_no_change': 150, 'clf__random_state': 67, 'clf__subsample': 0.9919132241716516, 'clf__tol': 0.000659669718131626, 'clf__validation_fraction': 0.12119133321782695, 'clf__warm_start': False, 'clf__n_estimators': 2500}\n",
      " \n",
      "Train accuracy score:         0.9933142513331692\n",
      "Test accuracy score:          0.6104083538500722\n",
      "Test balanced accuracy score: 0.6104083538500722\n",
      "Test f1 score:                0.6104083538500722\n",
      "Test roc auc score:           0.6054792565977243\n",
      " \n",
      "              precision    recall  f1-score   support\n",
      "\n",
      "        pass    0.51559   0.47948   0.49688      4726\n",
      "         run    0.66685   0.69814   0.68214      7053\n",
      "\n",
      "    accuracy                        0.61041     11779\n",
      "   macro avg    0.59122   0.58881   0.58951     11779\n",
      "weighted avg    0.60616   0.61041   0.60781     11779\n",
      "\n",
      "[[2266 2460]\n",
      " [2129 4924]]\n",
      " \n",
      "-----------------------\n",
      " \n",
      "AdaBoost classifier: \n",
      "Parameters:  {'clf__algorithm': 'SAMME.R', 'clf__learning_rate': 0.0005791835996776365, 'clf__random_state': 67, 'clf__n_estimators': 2500}\n",
      " \n",
      "Train accuracy score:         0.9880505168159338\n",
      "Test accuracy score:          0.5985227948043128\n",
      "Test balanced accuracy score: 0.5985227948043128\n",
      "Test f1 score:                0.5985227948043128\n",
      "Test roc auc score:           0.5008902578440162\n",
      " \n",
      "              precision    recall  f1-score   support\n",
      "\n",
      "        pass    0.36364   0.00085   0.00169      4726\n",
      "         run    0.59874   0.99901   0.74874      7053\n",
      "\n",
      "    accuracy                        0.59852     11779\n",
      "   macro avg    0.48119   0.49993   0.37521     11779\n",
      "weighted avg    0.50441   0.59852   0.44901     11779\n",
      "\n",
      "[[   4 4722]\n",
      " [   7 7046]]\n",
      " \n",
      "-----------------------\n",
      " \n"
     ]
    }
   ],
   "source": [
    "%%capture --no-stdout --no-display\n",
    "random_search()"
   ]
  },
  {
   "cell_type": "markdown",
   "source": [
    "## LIST RESULTS"
   ],
   "metadata": {
    "collapsed": false
   },
   "id": "fb1540d2bf6bbb08"
  },
  {
   "cell_type": "raw",
   "source": [
    "ExtraTrees classifier: \n",
    "\n",
    "Parameters:  {'clf__bootstrap': False, 'clf__ccp_alpha': 1.932920799880702e-08, 'clf__criterion': 'log_loss', 'clf__max_depth': 54, 'clf__max_features': 0.9571619543611936, 'clf__max_leaf_nodes': 53, 'clf__min_impurity_decrease': 0.0005370970420210334, 'clf__min_samples_leaf': 0.04456788069726774, 'clf__min_samples_split': 0.05814515536119159, 'clf__min_weight_fraction_leaf': 0.03197095116721199, 'clf__n_jobs': 6, 'clf__oob_score': False, 'clf__random_state': 67, 'clf__warm_start': True, 'clf__n_estimators': 2500}\n",
    "Train accuracy score:         0.8898468687474705\n",
    "Test accuracy score:          0.7354933981931897\n",
    "\n",
    "Parameters:  {'clf__bootstrap': False, 'clf__ccp_alpha': 3.92695500731765e-05, 'clf__criterion': 'gini', 'clf__max_depth': 51, 'clf__max_features': 0.832369429439366, 'clf__max_leaf_nodes': 70, 'clf__min_impurity_decrease': 3.2540861791746014e-08, 'clf__min_samples_leaf': 0.0377347435155502, 'clf__min_samples_split': 0.029201137733074412, 'clf__min_weight_fraction_leaf': 0.04051178471565094, 'clf__n_jobs': 6, 'clf__oob_score': False, 'clf__random_state': 67, 'clf__warm_start': True, 'clf__n_estimators': 1250}\n",
    "Train accuracy score:         0.8886741359776844\n",
    "Test accuracy score:          0.7360145934676859\n",
    "\n",
    "Parameters:  {'clf__bootstrap': False, 'clf__ccp_alpha': 3.92695500731765e-05, 'clf__criterion': 'log_loss', 'clf__max_depth': 51, 'clf__max_features': 0.832369429439366, 'clf__max_leaf_nodes': 70, 'clf__min_impurity_decrease': 3.2540861791746014e-08, 'clf__min_samples_leaf': 0.0377347435155502, 'clf__min_samples_split': 0.029201137733074412, 'clf__min_weight_fraction_leaf': 0.04051178471565094, 'clf__n_jobs': 6, 'clf__oob_score': False, 'clf__random_state': 67, 'clf__warm_start': True, 'clf__n_estimators': 2500}\n",
    "Train accuracy score:         0.8876968335139817\n",
    "Test accuracy score:          0.7354933981931897\n",
    "\n",
    "Parameters:  {'clf__bootstrap': False, 'clf__ccp_alpha': 5.361140014825927e-07, 'clf__criterion': 'gini', 'clf__max_depth': 30, 'clf__max_features': 0.9797903160612914, 'clf__max_leaf_nodes': 50, 'clf__min_impurity_decrease': 9.762272497212737e-08, 'clf__min_samples_leaf': 0.022570015623467634, 'clf__min_samples_split': 0.04355587259285359, 'clf__min_weight_fraction_leaf': 0.030729053269466716, 'clf__n_jobs': 6, 'clf__oob_score': False, 'clf__random_state': 67, 'clf__warm_start': True, 'clf__n_estimators': 2000}\n",
    "Train accuracy score:         0.8575313396424578\n",
    "Test accuracy score:          0.7289581338671773\n",
    "\n",
    "Parameters:  {'clf__bootstrap': False, 'clf__ccp_alpha': 5.361140014825927e-07, 'clf__criterion': 'gini', 'clf__max_depth': 30, 'clf__max_features': 0.9797903160612914, 'clf__max_leaf_nodes': 50, 'clf__min_impurity_decrease': 4.549452186429162e-07, 'clf__min_samples_leaf': 0.022570015623467634, 'clf__min_samples_split': 0.04355587259285359, 'clf__min_weight_fraction_leaf': 0.030729053269466716, 'clf__oob_score': False, 'clf__warm_start': True}\n",
    "Train accuracy score:         0.8575313396424578\n",
    "Test accuracy score:          0.7289581338671773\n",
    "\n",
    "Parameters:  {'clf__bootstrap': False, 'clf__ccp_alpha': 5.361140014825927e-07, 'clf__criterion': 'gini', 'clf__max_depth': 30, 'clf__max_features': 0.9797903160612914, 'clf__max_leaf_nodes': 50, 'clf__min_impurity_decrease': 4.549452186429162e-07, 'clf__min_samples_leaf': 0.03406971286893125, 'clf__min_samples_split': 0.06804764187384621, 'clf__min_weight_fraction_leaf': 0.04714044110371554, 'clf__n_jobs': 6, 'clf__oob_score': False, 'clf__random_state': 67, 'clf__warm_start': True, }\n",
    "Train accuracy score:         0.8429949778915479\n",
    "Test accuracy score:          0.7304378100792062\n",
    "\n",
    "Parameters:  {'clf__bootstrap': False, 'clf__ccp_alpha': 5.361140014825927e-07, 'clf__criterion': 'gini', 'clf__max_depth': 30, 'clf__max_features': 0.9797903160612914, 'clf__max_leaf_nodes': 50, 'clf__min_impurity_decrease': 4.549452186429162e-07, 'clf__min_samples_leaf': 0.022570015623467634, 'clf__min_samples_split': 0.04355587259285359, 'clf__min_weight_fraction_leaf': 0.030729053269466716, 'clf__n_jobs': 6, 'clf__oob_score': False, 'clf__random_state': 67, 'clf__warm_start': True, 'clf__n_estimators': 2000}\n",
    "Train accuracy score:         0.8575313396424578\n",
    "Test accuracy score:          0.7289581338671773\n",
    "\n",
    "#########################################################################################################################\n",
    "\n",
    "GradientBoosting classifier: \n",
    "\n",
    "Parameters:  {'clf__ccp_alpha': 1.9286054848532502e-08,'clf__learning_rate': 0.05964973215128587, 'clf__loss': 'log_loss', 'clf__max_depth': 44, 'clf__max_features': 0.3008641382449955, 'clf__max_leaf_nodes': None, 'clf__min_impurity_decrease': 8.693408977543109e-05, 'clf__min_samples_leaf': 0.0638641139528947, 'clf__min_samples_split': 0.3062145212906411, 'clf__min_weight_fraction_leaf': 0.2513093354282211, 'clf__subsample': 1.0, 'clf__tol': 0.00043486458393823704, 'clf__validation_fraction': 0.118193721001249, 'clf__warm_start': False\n",
    "Train accuracy score:         0.99932675264204\n",
    "Test accuracy score:          0.6109277275886031\n",
    "\n",
    "Parameters:  {'clf__ccp_alpha': 4.340645213116577e-09, 'clf__criterion': 'friedman_mse', 'clf__learning_rate': 0.40815352626202356, 'clf__loss': 'log_loss', 'clf__max_depth': 11, 'clf__max_features': 0.3479565278706742, 'clf__max_leaf_nodes': None, 'clf__min_impurity_decrease': 0.021020420313342787, 'clf__min_samples_leaf': 0.03425070799464598, 'clf__min_samples_split': 0.30989215897047634, 'clf__min_weight_fraction_leaf': 0.36394239029227815, 'clf__random_state': 67, 'clf__subsample': 0.9626168723049344, 'clf__tol': 0.00013156651854104531, 'clf__validation_fraction': 0.10783933184155159, 'clf__warm_start': False, 'clf__n_estimators': 2500\n",
    "Train accuracy score:         0.9842762796076865\n",
    "Test accuracy score:          0.6312543432939541\n",
    "\n",
    "Parameters:  {'clf__ccp_alpha': 1.525477195575269e-08, 'clf__criterion': 'friedman_mse', 'clf__learning_rate': 0.19691692845736394, 'clf__loss': 'log_loss', 'clf__max_depth': 11, 'clf__max_features': 0.29855759184037495, 'clf__max_leaf_nodes': 24, 'clf__min_impurity_decrease': 1.2308985167095568e-05, 'clf__min_samples_leaf': 0.04330465050662455, 'clf__min_samples_split': 0.5872521564902026, 'clf__min_weight_fraction_leaf': 0.16906223589445682, 'clf__n_iter_no_change': 100, 'clf__random_state': 67, 'clf__subsample': 0.8084154627448413, 'clf__tol': 0.03719519116206052, 'clf__validation_fraction': 0.12712268153258718, 'clf__warm_start': False, 'clf__n_estimators': 2500}\n",
    "Train accuracy score:         1.0\n",
    "Test accuracy score:          0.6026754690757471\n",
    "\n",
    "Parameters:  {'clf__ccp_alpha': 5.923188611891756e-09, 'clf__criterion': 'squared_error', 'clf__learning_rate': 0.00603498867202771, 'clf__loss': 'log_loss', 'clf__max_depth': 40, 'clf__max_features': 0.5946220956881455, 'clf__random_state': 67, 'clf__subsample': 1.0, 'clf__warm_start': True, 'clf__n_estimators': 2000}\n",
    "Train accuracy score:         1.0\n",
    "Test accuracy score:          0.5962224736704674\n",
    "\n",
    "Parameters:  {'clf__criterion': 'squared_error', 'clf__learning_rate': 0.008946452744518588, 'clf__loss': 'log_loss', 'clf__max_depth': 40, 'clf__max_features': 0.47799605951152874, 'clf__random_state': 67, 'clf__subsample': 1.0, 'clf__warm_start': False, 'clf__n_estimators': 2000}\n",
    "Train accuracy score:         1.0\n",
    "Test accuracy score:          0.5962224736704674\n",
    "\n",
    "Parameters:  {'clf__ccp_alpha': 1.633615549907472e-09, 'clf__criterion': 'friedman_mse', 'clf__learning_rate': 0.03926955007317649, 'clf__loss': 'exponential', 'clf__max_depth': 50, 'clf__max_features': 0.3131718901233578, 'clf__min_samples_leaf': 0.8912935577937706, 'clf__min_samples_split': 0.7788443958044925, 'clf__subsample': 1.0, 'clf__warm_start': False}\n",
    "Train accuracy score:         0.4018366162182946\n",
    "Test accuracy score:          0.4037775263295326\n",
    "\n",
    "Parameters:  {'clf__ccp_alpha': 4.340645213116582e-08, 'clf__criterion': 'friedman_mse', 'clf__learning_rate': 0.057116912148829774, 'clf__loss': 'exponential', 'clf__max_depth': 45, 'clf__max_features': 0.37752032582642847, 'clf__min_samples_leaf': 0.4136583268985789, 'clf__min_samples_split': 0.49652393605893347, 'clf__subsample': 1.0, 'clf__warm_start': False}\n",
    "Train accuracy score:         0.9714932841255728\n",
    "Test accuracy score:          0.6135433893289233\n",
    " \n",
    "Parameters:  {'clf__ccp_alpha': 4.359629433974235e-09, 'clf__criterion': 'friedman_mse', 'clf__learning_rate': 0.03926955007317649, 'clf__loss': 'exponential', 'clf__max_depth': 42, 'clf__max_features': 0.710756574197145, 'clf__min_samples_leaf': 0.5677936404812652, 'clf__min_samples_split': 0.6880289557464101, 'clf__subsample': 1.0, 'clf__warm_start': False}\n",
    "Train accuracy score:         0.4018366162182946\n",
    "Test accuracy score:          0.4037775263295326\n",
    "\n",
    "#########################################################################################################################\n",
    "\n",
    "Random Forest classifier: \n",
    "\n",
    "Parameters:  {'clf__bootstrap': False, 'clf__ccp_alpha': 0.004305965227884401, 'clf__criterion': 'entropy', 'clf__max_depth': 41, 'clf__max_features': 0.029101255083059524, 'clf__min_impurity_decrease': 2.170628092169255e-06, 'clf__min_samples_leaf': 0.0306838447998599, 'clf__min_samples_split': 0.09113616729609823, 'clf__min_weight_fraction_leaf': 0.07852316103238322, 'clf__n_jobs': 6, 'clf__oob_score': False, 'clf__random_state': 67, 'clf__warm_start': True, 'clf__n_estimators': 2500}\n",
    "Train accuracy score:         0.9798675183077361\n",
    "Test accuracy score:          0.6720813064628214\n",
    "\n",
    "Parameters:  {'clf__bootstrap': False, 'clf__ccp_alpha': 0.05370646903135125, 'clf__criterion': 'entropy', 'clf__max_depth': 33, 'clf__max_features': 0.05609127762024954, 'clf__min_impurity_decrease': 1.1470244920708769e-06, 'clf__min_samples_leaf': 0.01535102960643776, 'clf__min_samples_split': 0.07527473114952214, 'clf__min_weight_fraction_leaf': 0.03591788915341219, 'clf__n_jobs': 6, 'clf__oob_score': False, 'clf__random_state': 67, 'clf__warm_start': True, 'clf__n_estimators': 2500}\n",
    "Train accuracy score:         0.995113525414807\n",
    "Test accuracy score:          0.6239576094510076\n",
    "\n",
    "Parameters:  {'clf__bootstrap': False, 'clf__ccp_alpha': 0.02241245758415181, 'clf__criterion': 'log_loss', 'clf__max_depth': 46, 'clf__max_features': 0.10464712592045404, 'clf__min_impurity_decrease': 9.10641622131743e-06, 'clf__min_samples_leaf': 0.041149491380905644, 'clf__min_samples_split': 0.0492813175244628, 'clf__min_weight_fraction_leaf': 0.019500003426879804, 'clf__n_jobs': 6, 'clf__oob_score': False, 'clf__random_state': 67, 'clf__warm_start': True, 'clf__n_estimators': 2500}\n",
    "Train accuracy score:         0.9982625833552659\n",
    "Test accuracy score:          0.610406532314107\n",
    "\n",
    "Parameters:  {'clf__bootstrap': False, 'clf__ccp_alpha': 0.004305965227884401, 'clf__criterion': 'entropy', 'clf__max_depth': 36, 'clf__max_features': 0.05751401115329137, 'clf__min_impurity_decrease': 1.8673236044140826e-05, 'clf__min_samples_leaf': 0.048547241858546246, 'clf__min_samples_split': 0.16514348326962935, 'clf__min_weight_fraction_leaf': 0.09543306614881979, 'clf__n_jobs': 6, 'clf__oob_score': False, 'clf__random_state': 67, 'clf__warm_start': True, 'clf__n_estimators': 2500}\n",
    "Train accuracy score:         0.9756108270106436\n",
    "Test accuracy score:          0.6766851980542044\n",
    "\n",
    "Parameters:  {'clf__bootstrap': False, 'clf__ccp_alpha': 3.807679176571892e-08, 'clf__criterion': 'gini', 'clf__max_depth': 40, 'clf__max_features': 0.47799605951152874, 'clf__n_jobs': 6, 'clf__random_state': 67, 'clf__warm_start': False, 'clf__n_estimators': 2000}\n",
    "Train accuracy score:         1.0\n",
    "Test accuracy score:          0.5962224736704674\n",
    "Test balanced accuracy score: 0.5962224736704674\n",
    "\n",
    "Parameters:  {'clf__bootstrap': False, 'clf__criterion': 'log_loss', 'clf__max_depth': 30, 'clf__max_features': 0.0778823488142087, 'clf__n_jobs': 6, 'clf__random_state': 67, 'clf__warm_start': False, 'clf__n_estimators': 2000}\n",
    "Train accuracy score:         1.0\n",
    "Test accuracy score:          0.5961354338932893\n",
    "\n",
    "Parameters:  {'clf__bootstrap': False, 'clf__ccp_alpha': 5.361140014825927e-07, 'clf__criterion': 'log_loss', 'clf__max_depth': 25, 'clf__max_features': 0.6804028469322392, 'clf__min_impurity_decrease': 4.549452186429162e-07, 'clf__min_samples_leaf': 0.022570015623467634, 'clf__min_samples_split': 0.04355587259285359, 'clf__min_weight_fraction_leaf': 0.030729053269466716, 'clf__n_jobs': 6, 'clf__oob_score': False, 'clf__random_state': 67, 'clf__warm_start': True, 'clf__n_estimators': 2000}\n",
    "Train accuracy score:         1.0\n",
    "Test accuracy score:          0.5962224736704674\n",
    "Test balanced accuracy score: 0.5962224736704674\n",
    "\n",
    "Parameters:  {'clf__bootstrap': False, 'clf__ccp_alpha': 1.855264675148909e-07, 'clf__criterion': 'gini', 'clf__max_depth': 55, 'clf__max_features': 0.24868924634705292, 'clf__min_samples_leaf': 0.5335788704602863, 'clf__min_samples_split': 0.44391363867794514, 'clf__n_jobs': 6, 'clf__warm_start': False}\n",
    "Train accuracy score:         0.4018366162182946\n",
    "Test accuracy score:          0.4037775263295326\n",
    "\n",
    "Parameters:  {'clf__bootstrap': True, 'clf__criterion': 'gini', 'clf__min_samples_leaf': 0.4065134383105919, 'clf__n_jobs': 6, 'clf__oob_score': True, 'clf__random_state': 67, 'clf__warm_start': False, 'clf__n_estimators': 2000}\n",
    "Train accuracy score:         0.4018366162182946\n",
    "Test accuracy score:          0.4037775263295326"
   ],
   "metadata": {
    "collapsed": false
   },
   "id": "31d91f3312f47115"
  }
 ],
 "metadata": {
  "colab": {
   "name": "nfl_offensive_play_classification_v1.1.ipynb",
   "provenance": []
  },
  "kernelspec": {
   "display_name": "Python 3 (ipykernel)",
   "language": "python",
   "name": "python3"
  },
  "language_info": {
   "codemirror_mode": {
    "name": "ipython",
    "version": 3
   },
   "file_extension": ".py",
   "mimetype": "text/x-python",
   "name": "python",
   "nbconvert_exporter": "python",
   "pygments_lexer": "ipython3",
   "version": "3.9.6"
  }
 },
 "nbformat": 4,
 "nbformat_minor": 5
}
