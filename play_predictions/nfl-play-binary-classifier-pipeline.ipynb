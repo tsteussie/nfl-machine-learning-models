{
 "cells": [
  {
   "cell_type": "code",
   "execution_count": 1,
   "outputs": [],
   "source": [
    "import warnings\n",
    "from numba.core.errors import NumbaDeprecationWarning, NumbaPendingDeprecationWarning\n",
    "warnings.simplefilter('ignore', category=UserWarning)\n",
    "warnings.filterwarnings('ignore',category=ImportWarning)\n",
    "warnings.filterwarnings('ignore',category=DeprecationWarning)\n",
    "warnings.simplefilter('ignore', category=NumbaDeprecationWarning)\n",
    "warnings.simplefilter('ignore', category=NumbaPendingDeprecationWarning)\n",
    "\n",
    "import pandas as pd\n",
    "import numpy as np\n",
    "import category_encoders as ce\n",
    "from scipy.stats import randint\n",
    "from imblearn.pipeline import Pipeline\n",
    "from imblearn.over_sampling import ADASYN\n",
    "from BorutaShap import BorutaShap\n",
    "\n",
    "from sklearn.impute import SimpleImputer\n",
    "from sklearn.preprocessing import StandardScaler, MaxAbsScaler, PowerTransformer, OrdinalEncoder, OneHotEncoder\n",
    "from sklearn.experimental import enable_halving_search_cv\n",
    "from sklearn.model_selection import train_test_split, HalvingRandomSearchCV\n",
    "from sklearn.compose import ColumnTransformer\n",
    "from sklearn.utils.fixes import loguniform\n",
    "from sklearn.metrics import make_scorer, accuracy_score, balanced_accuracy_score, f1_score, roc_auc_score, classification_report, confusion_matrix\n",
    "from sklearn.dummy import DummyClassifier\n",
    "from sklearn.ensemble import RandomForestClassifier, ExtraTreesClassifier, GradientBoostingClassifier, AdaBoostClassifier\n",
    "\n",
    "import joblib\n",
    "import operator"
   ],
   "metadata": {
    "collapsed": false,
    "ExecuteTime": {
     "end_time": "2023-11-25T03:51:44.058366Z",
     "start_time": "2023-11-25T03:51:34.844507Z"
    }
   },
   "id": "774348c602e5ca1e"
  },
  {
   "cell_type": "markdown",
   "id": "c4f8e047",
   "metadata": {
    "pycharm": {
     "name": "#%% md\n"
    }
   },
   "source": [
    "## Import data from nfl-data-py\n",
    "##### https://pypi.org/project/nfl-data-py/"
   ]
  },
  {
   "cell_type": "code",
   "execution_count": 2,
   "outputs": [
    {
     "data": {
      "text/plain": "(51724, 127)"
     },
     "execution_count": 2,
     "metadata": {},
     "output_type": "execute_result"
    }
   ],
   "source": [
    "# Import csv file from nfl-data-py\n",
    "df = pd.read_csv(r'/Users/ttas2/Documents/Python/nfl-machine-learning-models/output_files/nfl_post_processing_run_pass_classification_data.csv')\n",
    "\n",
    "df.shape"
   ],
   "metadata": {
    "collapsed": false,
    "ExecuteTime": {
     "end_time": "2023-11-25T03:51:45.095854Z",
     "start_time": "2023-11-25T03:51:44.059426Z"
    }
   },
   "id": "f8d686327dce3e32"
  },
  {
   "cell_type": "code",
   "execution_count": 3,
   "outputs": [
    {
     "name": "stdout",
     "output_type": "stream",
     "text": [
      "[]\n"
     ]
    }
   ],
   "source": [
    "# Print columns with missing values\n",
    "print(df.columns[df.isnull().any()].tolist())"
   ],
   "metadata": {
    "collapsed": false,
    "ExecuteTime": {
     "end_time": "2023-11-25T03:51:45.170009Z",
     "start_time": "2023-11-25T03:51:45.096362Z"
    }
   },
   "id": "629bc39586b0fba6"
  },
  {
   "cell_type": "code",
   "execution_count": 4,
   "outputs": [
    {
     "data": {
      "text/plain": "       week posteam defteam  yardline_100  quarter_seconds_remaining   \n10184    15     CIN      TB            62                        496  \\\n29784    14      LV      LA            36                        224   \n\n       half_seconds_remaining  game_seconds_remaining  game_half  qtr  down   \n10184                     496                     496          2    4     2  \\\n29784                    1124                    2924          1    1     2   \n\n       ...  drive_effct_play_pcnt  remaining_downs remaining_yards_per_down   \n10184  ...                   -0.5                2                      5.0  \\\n29784  ...                   -0.5                2                      3.0   \n\n         drive_start  two_min_warning  ep_sec_ratio  remain_yds_div_def_box   \n10184  transfer_poss                0      0.002275                0.833333  \\\n29784  transfer_poss                0      0.002823                0.375000   \n\n       remain_yds_prod_def_box  run_ratio_off_priors  run_ratio_def_priors  \n10184                     30.0              0.600000              0.492063  \n29784                     24.0              0.420635              0.288889  \n\n[2 rows x 127 columns]",
      "text/html": "<div>\n<style scoped>\n    .dataframe tbody tr th:only-of-type {\n        vertical-align: middle;\n    }\n\n    .dataframe tbody tr th {\n        vertical-align: top;\n    }\n\n    .dataframe thead th {\n        text-align: right;\n    }\n</style>\n<table border=\"1\" class=\"dataframe\">\n  <thead>\n    <tr style=\"text-align: right;\">\n      <th></th>\n      <th>week</th>\n      <th>posteam</th>\n      <th>defteam</th>\n      <th>yardline_100</th>\n      <th>quarter_seconds_remaining</th>\n      <th>half_seconds_remaining</th>\n      <th>game_seconds_remaining</th>\n      <th>game_half</th>\n      <th>qtr</th>\n      <th>down</th>\n      <th>...</th>\n      <th>drive_effct_play_pcnt</th>\n      <th>remaining_downs</th>\n      <th>remaining_yards_per_down</th>\n      <th>drive_start</th>\n      <th>two_min_warning</th>\n      <th>ep_sec_ratio</th>\n      <th>remain_yds_div_def_box</th>\n      <th>remain_yds_prod_def_box</th>\n      <th>run_ratio_off_priors</th>\n      <th>run_ratio_def_priors</th>\n    </tr>\n  </thead>\n  <tbody>\n    <tr>\n      <th>10184</th>\n      <td>15</td>\n      <td>CIN</td>\n      <td>TB</td>\n      <td>62</td>\n      <td>496</td>\n      <td>496</td>\n      <td>496</td>\n      <td>2</td>\n      <td>4</td>\n      <td>2</td>\n      <td>...</td>\n      <td>-0.5</td>\n      <td>2</td>\n      <td>5.0</td>\n      <td>transfer_poss</td>\n      <td>0</td>\n      <td>0.002275</td>\n      <td>0.833333</td>\n      <td>30.0</td>\n      <td>0.600000</td>\n      <td>0.492063</td>\n    </tr>\n    <tr>\n      <th>29784</th>\n      <td>14</td>\n      <td>LV</td>\n      <td>LA</td>\n      <td>36</td>\n      <td>224</td>\n      <td>1124</td>\n      <td>2924</td>\n      <td>1</td>\n      <td>1</td>\n      <td>2</td>\n      <td>...</td>\n      <td>-0.5</td>\n      <td>2</td>\n      <td>3.0</td>\n      <td>transfer_poss</td>\n      <td>0</td>\n      <td>0.002823</td>\n      <td>0.375000</td>\n      <td>24.0</td>\n      <td>0.420635</td>\n      <td>0.288889</td>\n    </tr>\n  </tbody>\n</table>\n<p>2 rows × 127 columns</p>\n</div>"
     },
     "execution_count": 4,
     "metadata": {},
     "output_type": "execute_result"
    }
   ],
   "source": [
    "# Convert binary columns to integers\n",
    "binary_columns = df.columns[df.isin([0,1]).all()].tolist()\n",
    "df[binary_columns] = df[binary_columns].apply(pd.to_numeric, downcast='integer', errors='coerce', axis=1)\n",
    "\n",
    "df.sample(2)"
   ],
   "metadata": {
    "collapsed": false,
    "ExecuteTime": {
     "end_time": "2023-11-25T03:51:55.207026Z",
     "start_time": "2023-11-25T03:51:45.365294Z"
    }
   },
   "id": "41f7422bcc2cf003"
  },
  {
   "cell_type": "code",
   "execution_count": 5,
   "id": "4c9bcb28",
   "metadata": {
    "pycharm": {
     "name": "#%%\n"
    },
    "ExecuteTime": {
     "end_time": "2023-11-25T03:51:55.227166Z",
     "start_time": "2023-11-25T03:51:55.207701Z"
    }
   },
   "outputs": [
    {
     "data": {
      "text/plain": "play_type\npass    0.58062\nrun     0.41938\nName: proportion, dtype: float64"
     },
     "execution_count": 5,
     "metadata": {},
     "output_type": "execute_result"
    }
   ],
   "source": [
    "# Target frequency\n",
    "target_count = df.play_type.value_counts(normalize=True)\n",
    "target_count"
   ]
  },
  {
   "cell_type": "code",
   "execution_count": 6,
   "outputs": [],
   "source": [
    "df['play_type'] = np.where(df['play_type'] == 'pass', 1, 0)"
   ],
   "metadata": {
    "collapsed": false,
    "ExecuteTime": {
     "end_time": "2023-11-25T03:51:55.273505Z",
     "start_time": "2023-11-25T03:51:55.225548Z"
    }
   },
   "id": "91112ef9f7a1ba3c"
  },
  {
   "cell_type": "markdown",
   "source": [
    "## Train test split data\n",
    "##### https://scikit-learn.org/stable/modules/generated/sklearn.model_selection.train_test_split.html"
   ],
   "metadata": {
    "collapsed": false
   },
   "id": "4c140526b778c182"
  },
  {
   "cell_type": "code",
   "execution_count": 7,
   "id": "4943bbf5",
   "metadata": {
    "pycharm": {
     "name": "#%%\n"
    },
    "ExecuteTime": {
     "end_time": "2023-11-25T03:51:55.493804Z",
     "start_time": "2023-11-25T03:51:55.243264Z"
    }
   },
   "outputs": [
    {
     "name": "stdout",
     "output_type": "stream",
     "text": [
      "126 features before feature selection\n",
      "Column names: ['week', 'posteam', 'defteam', 'yardline_100', 'quarter_seconds_remaining', 'half_seconds_remaining', 'game_seconds_remaining', 'game_half', 'qtr', 'down', 'goal_to_go', 'ydstogo', 'shotgun', 'no_huddle', 'posteam_timeouts_remaining', 'defteam_timeouts_remaining', 'posteam_score', 'defteam_score', 'score_differential', 'no_score_prob', 'fg_prob', 'safety_prob', 'td_prob', 'ep', 'wp', 'drive_play_count', 'spread_line', 'total_line', 'div_game', 'surface', 'play', 'offense_formation', 'offense_personnel', 'defenders_in_box', 'defense_personnel', 'n_offense', 'n_defense', 'qb_rank', 'qb_pts', 'qb_plays', 'qb_qbr_raw', 'qb_qbr', 'qb_pass', 'qb_run', 'play_sequence_game', 'play_sequence_series', 'run_formation', 'dtg_99to95', 'dtg_94to90', 'dtg_40to31', 'dtg_30to21', 'dtg_20to11', 'dtg_10to06', 'dtg_05to01', 'prev1_big_play_pass', 'prev2_big_play_pass', 'prev3_big_play_pass', 'drive_big_play_pass_pcnt', 'prev1_big_play_run', 'prev2_big_play_run', 'prev3_big_play_run', 'drive_big_play_run_pcnt', 'prev1_negative_pass', 'prev2_negative_pass', 'prev3_negative_pass', 'prev1_negative_run', 'prev2_negative_run', 'prev3_negative_run', 'prev1_play_off_penalty', 'prev1_play_def_penalty', 'prev2_play_off_penalty', 'prev2_play_def_penalty', 'prev3_play_off_penalty', 'prev1_play_run_outside', 'prev1_play_run_inside', 'prev1_play_pass_deep', 'prev1_play_pass_short', 'prev2_play_run_outside', 'prev2_play_run_inside', 'prev2_play_pass_deep', 'prev2_play_pass_short', 'prev3_play_run_outside', 'prev3_play_run_inside', 'prev3_play_pass_deep', 'prev3_play_pass_short', 'prev1_incomplete_pass', 'prev2_incomplete_pass', 'prev3_incomplete_pass', 'drive_incomplete_pass_pcnt', 'prev1_yards_gained', 'prev2_yards_gained', 'prev3_yards_gained', 'prev1_wpa', 'prev2_wpa', 'prev3_wpa', 'prev1_shotgun', 'prev2_shotgun', 'prev3_shotgun', 'drive_shotgun_pcnt', 'prev1_qb_hit', 'prev2_qb_hit', 'prev3_qb_hit', 'drive_qb_hit_pcnt', 'prev1_no_huddle', 'prev2_no_huddle', 'prev3_no_huddle', 'drive_no_huddle_pcnt', 'prev1_first_down_pass', 'prev2_first_down_pass', 'prev3_first_down_pass', 'prev1_first_down_run', 'prev2_first_down_run', 'prev3_first_down_run', 'prev1_effct_play', 'prev2_effct_play', 'prev3_effct_play', 'drive_effct_play_pcnt', 'remaining_downs', 'remaining_yards_per_down', 'drive_start', 'two_min_warning', 'ep_sec_ratio', 'remain_yds_div_def_box', 'remain_yds_prod_def_box', 'run_ratio_off_priors', 'run_ratio_def_priors']\n"
     ]
    }
   ],
   "source": [
    "# split data into target and feature datasets\n",
    "X, y = df.loc[:, df.columns != 'play_type'], df['play_type']\n",
    "\n",
    "initial_features = X.columns.to_list()\n",
    "\n",
    "# Create train and test datasets\n",
    "X_train, X_test, y_train, y_test = train_test_split(X, y, test_size=0.20, random_state=67)\n",
    "\n",
    "print(X_train.shape[1], 'features before feature selection')\n",
    "print('Column names:', X_train.columns.to_list())"
   ]
  },
  {
   "cell_type": "markdown",
   "id": "4b6cd4c3",
   "metadata": {
    "pycharm": {
     "name": "#%% md\n"
    }
   },
   "source": [
    "## Baseline model\n",
    "##### https://scikit-learn.org/stable/modules/generated/sklearn.dummy.DummyClassifier.html"
   ]
  },
  {
   "cell_type": "code",
   "execution_count": 8,
   "id": "28e9513e",
   "metadata": {
    "pycharm": {
     "name": "#%%\n"
    },
    "ExecuteTime": {
     "end_time": "2023-11-25T03:51:55.494411Z",
     "start_time": "2023-11-25T03:51:55.352810Z"
    }
   },
   "outputs": [
    {
     "name": "stdout",
     "output_type": "stream",
     "text": [
      "Baseline accuracy: 58.3%\n",
      "Baseline f1 score: 73.7%\n"
     ]
    }
   ],
   "source": [
    "# Create and fit baseline model to compare performance\n",
    "baseline_model = DummyClassifier(strategy='most_frequent', random_state=67)\n",
    "baseline_model.fit(X_train, y_train)\n",
    "\n",
    "# Calculate model accuracy on test data\n",
    "y_baseline_pred = baseline_model.predict(X_test)\n",
    "# accuracy_score(y_test, y_baseline_pred)\n",
    "print(f\"Baseline accuracy: {(round(accuracy_score(y_test,y_baseline_pred),3)*100)}%\")\n",
    "print(f\"Baseline f1 score: {(round(f1_score(y_test,y_baseline_pred),3)*100)}%\")"
   ]
  },
  {
   "cell_type": "markdown",
   "source": [
    "## Encode categorical features\n",
    "##### https://contrib.scikit-learn.org/category_encoders/leaveoneout.html"
   ],
   "metadata": {
    "collapsed": false
   },
   "id": "e0f3ad4dbdd2f444"
  },
  {
   "cell_type": "code",
   "execution_count": 9,
   "outputs": [
    {
     "name": "stdout",
     "output_type": "stream",
     "text": [
      "126 features after categorical encoding\n"
     ]
    }
   ],
   "source": [
    "# Create list of features for each dtype\n",
    "categorical_feat = list(X_train.select_dtypes(include='object'))\n",
    "\n",
    "# Encoded column represents mean response over all rows for this category, providing one-column representation while avoiding direct response leakage\n",
    "encoder = ce.LeaveOneOutEncoder(return_df=True, cols=categorical_feat)\n",
    "\n",
    "X_train = encoder.fit_transform(X_train, y_train)\n",
    "X_test = encoder.transform(X_test)\n",
    "\n",
    "print(X_train.shape[1], 'features after categorical encoding')"
   ],
   "metadata": {
    "collapsed": false,
    "ExecuteTime": {
     "end_time": "2023-11-25T03:51:55.857741Z",
     "start_time": "2023-11-25T03:51:55.382630Z"
    }
   },
   "id": "d33d4e0b73750e26"
  },
  {
   "cell_type": "markdown",
   "source": [
    "## BorutaShap Feature selection\n",
    "##### https://pypi.org/project/BorutaShap/"
   ],
   "metadata": {
    "collapsed": false
   },
   "id": "65fe86e88f378c61"
  },
  {
   "cell_type": "code",
   "execution_count": 10,
   "outputs": [],
   "source": [
    "feature_model = RandomForestClassifier(ccp_alpha=1e-06,\n",
    "                                       criterion='gini',\n",
    "                                       max_depth=30,\n",
    "                                       max_features=0.50,\n",
    "                                       max_leaf_nodes=50,\n",
    "                                       max_samples=0.40,\n",
    "                                       #min_impurity_decrease=1e-05,\n",
    "                                       #min_samples_leaf=0.03,\n",
    "                                       #min_samples_split=0.03,\n",
    "                                       #min_weight_fraction_leaf=0.03,\n",
    "                                       n_estimators=300,\n",
    "                                       class_weight='balanced_subsample',\n",
    "                                       bootstrap=True,\n",
    "                                       oob_score=True,\n",
    "                                       warm_start=False,\n",
    "                                       n_jobs=6,\n",
    "                                       random_state=67,\n",
    "                                       )"
   ],
   "metadata": {
    "collapsed": false,
    "ExecuteTime": {
     "end_time": "2023-11-25T03:51:55.877494Z",
     "start_time": "2023-11-25T03:51:55.859197Z"
    }
   },
   "id": "39e692ffcbfd70ba"
  },
  {
   "cell_type": "code",
   "execution_count": 11,
   "outputs": [
    {
     "name": "stderr",
     "output_type": "stream",
     "text": [
      "100%|██████████| 300/300 [2:25:28<00:00, 29.09s/it]  "
     ]
    },
    {
     "name": "stdout",
     "output_type": "stream",
     "text": [
      "14 attributes confirmed important: ['drive_start', 'defense_personnel', 'game_seconds_remaining', 'shotgun', 'td_prob', 'defenders_in_box', 'offense_formation', 'remain_yds_prod_def_box', 'wp', 'remaining_yards_per_down', 'surface', 'remain_yds_div_def_box', 'offense_personnel', 'score_differential']\n",
      "112 attributes confirmed unimportant: ['drive_qb_hit_pcnt', 'drive_effct_play_pcnt', 'prev1_negative_pass', 'dtg_20to11', 'prev2_play_pass_deep', 'prev3_qb_hit', 'ep_sec_ratio', 'prev2_play_off_penalty', 'spread_line', 'prev1_shotgun', 'remaining_downs', 'half_seconds_remaining', 'prev2_negative_run', 'safety_prob', 'prev2_shotgun', 'prev3_play_pass_deep', 'prev1_yards_gained', 'prev2_wpa', 'prev1_play_pass_deep', 'quarter_seconds_remaining', 'prev3_first_down_pass', 'drive_incomplete_pass_pcnt', 'prev3_wpa', 'qb_pass', 'prev3_negative_run', 'two_min_warning', 'drive_no_huddle_pcnt', 'dtg_99to95', 'prev2_play_pass_short', 'prev3_no_huddle', 'prev3_incomplete_pass', 'drive_play_count', 'run_ratio_def_priors', 'prev3_yards_gained', 'ep', 'n_offense', 'run_ratio_off_priors', 'posteam_timeouts_remaining', 'drive_big_play_pass_pcnt', 'defteam_timeouts_remaining', 'fg_prob', 'prev1_play_run_outside', 'dtg_10to06', 'prev3_negative_pass', 'qb_pts', 'prev1_wpa', 'no_score_prob', 'div_game', 'qb_run', 'prev1_play_def_penalty', 'drive_shotgun_pcnt', 'posteam_score', 'prev2_no_huddle', 'dtg_94to90', 'qb_qbr', 'prev3_play_off_penalty', 'prev1_first_down_run', 'goal_to_go', 'qb_rank', 'drive_big_play_run_pcnt', 'dtg_05to01', 'prev2_yards_gained', 'prev1_no_huddle', 'prev1_play_pass_short', 'prev3_big_play_run', 'dtg_30to21', 'prev2_first_down_pass', 'prev3_play_pass_short', 'prev1_effct_play', 'prev3_first_down_run', 'prev3_effct_play', 'play_sequence_game', 'run_formation', 'prev2_negative_pass', 'prev3_play_run_inside', 'week', 'prev1_play_off_penalty', 'play', 'prev2_effct_play', 'prev1_first_down_pass', 'prev1_big_play_run', 'yardline_100', 'prev2_play_run_outside', 'prev2_big_play_pass', 'defteam', 'qb_plays', 'prev1_qb_hit', 'prev2_first_down_run', 'prev1_negative_run', 'posteam', 'prev3_big_play_pass', 'play_sequence_series', 'prev2_big_play_run', 'n_defense', 'defteam_score', 'prev3_shotgun', 'prev1_incomplete_pass', 'prev2_play_def_penalty', 'total_line', 'prev2_qb_hit', 'game_half', 'qtr', 'prev1_play_run_inside', 'qb_qbr_raw', 'down', 'prev3_play_run_outside', 'ydstogo', 'dtg_40to31', 'no_huddle', 'prev2_play_run_inside', 'prev1_big_play_pass', 'prev2_incomplete_pass']\n",
      "0 tentative attributes remains: []\n"
     ]
    },
    {
     "name": "stderr",
     "output_type": "stream",
     "text": [
      "\n"
     ]
    }
   ],
   "source": [
    "# no model selected default is Random Forest\n",
    "Feature_Selector = BorutaShap(importance_measure='shap',\n",
    "                              classification=True,\n",
    "                              model=feature_model,\n",
    "                              )\n",
    "\n",
    "Feature_Selector.fit(X=X_train,\n",
    "                     y=y_train,\n",
    "                     n_trials=300,\n",
    "                     sample=False,\n",
    "                     random_state=67,\n",
    "                     )"
   ],
   "metadata": {
    "collapsed": false,
    "ExecuteTime": {
     "end_time": "2023-11-25T06:17:24.409599Z",
     "start_time": "2023-11-25T03:51:55.865021Z"
    }
   },
   "id": "4e7034bfcd562178"
  },
  {
   "cell_type": "code",
   "execution_count": 12,
   "outputs": [
    {
     "data": {
      "text/plain": "<Figure size 1800x800 with 1 Axes>",
      "image/png": "[encoded data removed]"
     },
     "metadata": {},
     "output_type": "display_data"
    }
   ],
   "source": [
    "# Plot selected features with shap values on x-axis\n",
    "Feature_Selector.plot(which_features='accepted', figsize=(18, 8))"
   ],
   "metadata": {
    "collapsed": false,
    "ExecuteTime": {
     "end_time": "2023-11-25T06:17:25.270046Z",
     "start_time": "2023-11-25T06:17:24.415724Z"
    }
   },
   "id": "c20134f76d62fa54"
  },
  {
   "cell_type": "code",
   "execution_count": 13,
   "outputs": [
    {
     "name": "stdout",
     "output_type": "stream",
     "text": [
      "Training features: 12\n",
      "Testing features: 12\n",
      "Most important features: ['shotgun', 'score_differential', 'wp', 'surface', 'offense_formation', 'offense_personnel', 'defenders_in_box', 'defense_personnel', 'remaining_yards_per_down', 'drive_start', 'remain_yds_div_def_box', 'remain_yds_prod_def_box']\n"
     ]
    }
   ],
   "source": [
    "# Drops features that were identified by BorutaShap as not important\n",
    "features_to_remove = Feature_Selector.features_to_remove\n",
    "\n",
    "X_train = X_train.drop(columns=features_to_remove)\n",
    "X_test = X_test.drop(columns=features_to_remove)\n",
    "\n",
    "# Print the shape of the new datasets\n",
    "print('Training features:', X_train.shape[1])\n",
    "print('Testing features:', X_test.shape[1])\n",
    "print('Most important features:', X_train.columns.to_list())"
   ],
   "metadata": {
    "collapsed": false,
    "ExecuteTime": {
     "end_time": "2023-11-25T06:17:25.284711Z",
     "start_time": "2023-11-25T06:17:25.279504Z"
    }
   },
   "id": "afa5c66c26a42f87"
  },
  {
   "cell_type": "markdown",
   "source": [
    "## Model pipeline\n",
    "##### https://scikit-learn.org/stable/modules/generated/sklearn.compose.ColumnTransformer.html\n",
    "##### https://scikit-learn.org/stable/modules/generated/sklearn.impute.SimpleImputer.html\n",
    "##### https://scikit-learn.org/stable/modules/generated/sklearn.preprocessing.PowerTransformer.html\n",
    "##### https://www.statsmodels.org/dev/generated/statsmodels.stats.outliers_influence.variance_inflation_factor.html\n",
    "##### https://imbalanced-learn.org/stable/references/over_sampling.html\n",
    "##### https://scikit-learn.org/stable/modules/generated/sklearn.model_selection.HalvingRandomSearchCV.html\n",
    "##### https://scikit-learn.org/stable/modules/generated/sklearn.metrics.f1_score.html\n",
    "##### https://scikit-learn.org/stable/modules/generated/sklearn.ensemble.GradientBoostingClassifier.html\n",
    "##### https://scikit-learn.org/stable/modules/generated/sklearn.ensemble.RandomForestClassifier.html\n",
    "##### https://scikit-learn.org/stable/modules/generated/sklearn.ensemble.ExtraTreesClassifier.html\n",
    "##### https://xgboost.readthedocs.io/en/stable/parameter.html"
   ],
   "metadata": {
    "collapsed": false
   },
   "id": "28eb7c49ea06b6d2"
  },
  {
   "cell_type": "code",
   "execution_count": 20,
   "outputs": [
    {
     "name": "stdout",
     "output_type": "stream",
     "text": [
      "categorical features: 0 : []\n",
      "ordinal features: 0 : []\n",
      "boolean features: 1 : ['shotgun']\n",
      "numeric features: 11 : ['score_differential', 'wp', 'surface', 'offense_formation', 'offense_personnel', 'defenders_in_box', 'defense_personnel', 'remaining_yards_per_down', 'drive_start', 'remain_yds_div_def_box', 'remain_yds_prod_def_box']\n"
     ]
    }
   ],
   "source": [
    "# Create feature type lists for column transform stage of the pipeline\n",
    "ordinal_features = X_train.columns[X_train.isin([1,2,3,4,5]).all()].tolist()\n",
    "categorical_features = list(X_train.select_dtypes(include='object'))\n",
    "boolean_features = X_train.columns[X_train.isin([0, 1]).all()].tolist()\n",
    "\n",
    "numeric_features = [x for x in X_train.columns if x not in ordinal_features]\n",
    "numeric_features = [x for x in numeric_features if x not in categorical_features]\n",
    "numeric_features = [x for x in numeric_features if x not in boolean_features]\n",
    "\n",
    "print('categorical features:', len(categorical_features), ':', categorical_features)\n",
    "print('ordinal features:', len(ordinal_features), ':', ordinal_features)\n",
    "print('boolean features:', len(boolean_features), ':', boolean_features)\n",
    "print('numeric features:', len(numeric_features), ':', numeric_features)"
   ],
   "metadata": {
    "collapsed": false,
    "ExecuteTime": {
     "end_time": "2023-11-25T14:29:09.157745Z",
     "start_time": "2023-11-25T14:29:09.004712Z"
    }
   },
   "id": "e95804b4c341fcbb"
  },
  {
   "cell_type": "code",
   "execution_count": 21,
   "id": "3e4ff9bb",
   "metadata": {
    "pycharm": {
     "name": "#%%\n"
    },
    "ExecuteTime": {
     "end_time": "2023-11-25T14:29:18.398266Z",
     "start_time": "2023-11-25T14:29:18.377064Z"
    }
   },
   "outputs": [],
   "source": [
    "# Outlier removal\n",
    "def iqr_outliers(x, features):\n",
    "\n",
    "    out_index_list = []\n",
    "        \n",
    "    for col in features:\n",
    "        q1 = np.nanpercentile(x[col], 25.)\n",
    "        q3 = np.nanpercentile(x[col], 75.)\n",
    "        \n",
    "        cut_off = (q3 - q1) * 1.5\n",
    "        upper, lower = q3 + cut_off, q1 - cut_off\n",
    "                \n",
    "        outliers_index = x[col][(x[col] < lower) | (x[col] > upper)].index.tolist()\n",
    "        out_index_list.extend(outliers_index)\n",
    "        \n",
    "    # Remove duplicates\n",
    "    list(set(out_index_list)).sort()"
   ]
  },
  {
   "cell_type": "code",
   "execution_count": 22,
   "id": "58cc5161",
   "metadata": {
    "pycharm": {
     "name": "#%%\n"
    },
    "ExecuteTime": {
     "end_time": "2023-11-25T14:29:19.174139Z",
     "start_time": "2023-11-25T14:29:19.135713Z"
    }
   },
   "outputs": [],
   "source": [
    "# Specify the transformations per data type\n",
    "num_trans = Pipeline(steps=[('simple_imputer', SimpleImputer(missing_values=np.nan, strategy='median')),\n",
    "                            ('iqr_outlier', iqr_outliers(X_train, numeric_features)),\n",
    "                            ('power_trans', PowerTransformer(method='yeo-johnson', copy=False)),\n",
    "                            ('scaler', StandardScaler()),\n",
    "                           ])\n",
    "\n",
    "cat_trans = Pipeline(steps=[('simple_imputer', SimpleImputer(missing_values=np.nan, strategy='most_frequent')),\n",
    "                            ('onehot_encoder', OneHotEncoder(sparse=False, handle_unknown='infrequent_if_exist')),\n",
    "                           ])\n",
    "\n",
    "ord_trans = Pipeline(steps=[('simple_imputer', SimpleImputer(missing_values=np.nan, strategy='most_frequent')),\n",
    "                            ('ordinal_encoder', OrdinalEncoder(handle_unknown='use_encoded_value', unknown_value=-1)),\n",
    "                            ('scaler', StandardScaler()),\n",
    "                           ])\n",
    "                             \n",
    "Column_Transform = ColumnTransformer(transformers=[('numeric_transform', num_trans, numeric_features),\n",
    "                                                   ('categorical_transform', cat_trans, categorical_features),\n",
    "                                                   ('ordinal_transform', ord_trans, ordinal_features),\n",
    "                                                   ],\n",
    "                                     remainder='passthrough',\n",
    "                                    )"
   ]
  },
  {
   "cell_type": "code",
   "execution_count": 49,
   "id": "17593a5b",
   "metadata": {
    "pycharm": {
     "name": "#%%\n"
    },
    "ExecuteTime": {
     "end_time": "2023-11-26T01:26:06.939532Z",
     "start_time": "2023-11-26T01:26:06.915920Z"
    }
   },
   "outputs": [],
   "source": [
    "# Specify number of target classes\n",
    "n_classes = y_train.nunique()\n",
    "\n",
    "# Specify cross validation folds\n",
    "cross_validation = 10\n",
    "\n",
    "# Specify HalvingRandomSearchCV halving_parameter (aka factor)\n",
    "halving_parameter = 2.0\n",
    "\n",
    "# Specify the HalvingRandomSearchCV minimum/maximum resources\n",
    "max_resource = 2000\n",
    "resource_divisor = 2.0\n",
    "min_resource = int(round((max_resource / resource_divisor), 0))\n",
    "\n",
    "# Create scorer\n",
    "scoring = 'accuracy'"
   ]
  },
  {
   "cell_type": "code",
   "execution_count": 50,
   "id": "e4b3074a",
   "metadata": {
    "pycharm": {
     "name": "#%%\n"
    },
    "ExecuteTime": {
     "end_time": "2023-11-26T01:26:07.918904Z",
     "start_time": "2023-11-26T01:26:07.908252Z"
    }
   },
   "outputs": [],
   "source": [
    "def random_search():\n",
    "    \n",
    "    pipeline1 = Pipeline([\n",
    "    ('col', Column_Transform),\n",
    "    ('smpl', ADASYN(n_neighbors=n_classes, sampling_strategy='not majority', random_state=67)),\n",
    "    ('clf', RandomForestClassifier()),\n",
    "    ])\n",
    "    \n",
    "    pipeline2 = Pipeline([\n",
    "    ('col', Column_Transform),\n",
    "    ('smpl', ADASYN(n_neighbors=n_classes, sampling_strategy='not majority', random_state=67)),\n",
    "    ('clf', ExtraTreesClassifier()),\n",
    "    ])\n",
    "    \n",
    "    pipeline3 = Pipeline([\n",
    "    ('col', Column_Transform),\n",
    "    ('smpl', ADASYN(n_neighbors=n_classes, sampling_strategy='not majority', random_state=67)),\n",
    "    ('clf', GradientBoostingClassifier()),\n",
    "    ])\n",
    "    \n",
    "    pipeline4 = Pipeline([\n",
    "    ('col', Column_Transform),\n",
    "    ('smpl', ADASYN(n_neighbors=n_classes, sampling_strategy='not majority', random_state=67)),\n",
    "    ('clf', AdaBoostClassifier()),\n",
    "    ])\n",
    "\n",
    "    # RandomForestClassifier\n",
    "    parameters1 = {\n",
    "    'clf__bootstrap': [False],\n",
    "    'clf__ccp_alpha':  loguniform(1e-08, 1e-04),\n",
    "    'clf__criterion': ['gini','entropy','log_loss'],\n",
    "    'clf__max_depth': randint(5, 20),\n",
    "    'clf__max_features': ['sqrt','log2', None], #loguniform(0.50, 0.99),\n",
    "    'clf__min_impurity_decrease': loguniform(1e-08, 1e-03),\n",
    "    #'clf__max_samples': loguniform(0.02, 0.20), # max_samples is not supported for bootstrap=False\n",
    "    'clf__min_samples_leaf': loguniform(0.01, 0.20),\n",
    "    'clf__min_samples_split': loguniform(0.01, 0.20),\n",
    "    'clf__min_weight_fraction_leaf':  loguniform(0.01, 0.20),\n",
    "    'clf__oob_score': [False],\n",
    "    'clf__warm_start': [True, False],\n",
    "    'clf__n_jobs': [6],\n",
    "    'clf__random_state': [67],\n",
    "    }\n",
    "    \n",
    "    # ExtraTreesClassifier\n",
    "    parameters2 = {\n",
    "    'clf__bootstrap': [False],\n",
    "    'clf__ccp_alpha': loguniform(1e-08, 1e-04),\n",
    "    'clf__criterion': ['gini'],\n",
    "    'clf__max_depth': randint(10, 50),\n",
    "    'clf__max_features': loguniform(0.75, 0.99),\n",
    "    'clf__max_leaf_nodes': randint(35, 85),\n",
    "    # 'clf__max_samples': loguniform(0.30, 0.99), # max_samples is not supported for bootstrap=False\n",
    "    'clf__min_impurity_decrease': loguniform(1e-08, 1e-03),\n",
    "    'clf__min_samples_leaf': loguniform(0.01, 0.25),\n",
    "    'clf__min_samples_split': loguniform(0.01, 0.25),\n",
    "    'clf__min_weight_fraction_leaf': loguniform(0.10, 0.25),\n",
    "    'clf__oob_score':  [False], # Only for bootstrap=True\n",
    "    'clf__warm_start': [True],\n",
    "    'clf__n_jobs': [6],\n",
    "    'clf__random_state': [67],\n",
    "    }\n",
    "            \n",
    "    # GradientBoostingClassifier\n",
    "    parameters3 = {\n",
    "    'clf__criterion': ['friedman_mse'],\n",
    "    'clf__ccp_alpha': loguniform(1e-08, 1e-03),\n",
    "    'clf__learning_rate': loguniform(1e-08, 1e-01),\n",
    "    'clf__loss': ['log_loss','exponential'],\n",
    "    'clf__max_depth': randint(2, 7),\n",
    "    'clf__max_features': ['sqrt', 'log2', None], #loguniform(0.01, 0.50), \n",
    "    'clf__max_leaf_nodes': randint(2, 10),\n",
    "    'clf__min_impurity_decrease': loguniform(1e-08, 1e-04),\n",
    "    'clf__min_samples_leaf': loguniform(0.01, 0.25),\n",
    "    'clf__min_samples_split': loguniform(0.01, 0.25),\n",
    "    'clf__n_iter_no_change': [50, 100],\n",
    "    'clf__tol': loguniform(1e-08, 1e-04),\n",
    "    'clf__validation_fraction': loguniform(0.05, 0.15),\n",
    "    'clf__warm_start': [True, False], # True is not supported for loss='deviance'\n",
    "    'clf__subsample': loguniform(0.02, 0.40),\n",
    "    'clf__random_state': [67],\n",
    "    }\n",
    "\n",
    "    # AdaBoostClassifier\n",
    "    parameters4  = {\n",
    "    'clf__algorithm': ['SAMME','SAMME.R'],\n",
    "    'clf__learning_rate': loguniform(0.0001, 1.0),\n",
    "    'clf__random_state': [67],\n",
    "    }\n",
    "\n",
    "    pars = [parameters1, parameters2, parameters3, parameters4]\n",
    "    pips = [pipeline1, pipeline2, pipeline3, pipeline4]\n",
    "\n",
    "    result = []\n",
    "    \n",
    "    for i in range(len(pars)):\n",
    "        \n",
    "        rs = HalvingRandomSearchCV(pips[i],\n",
    "                                   pars[i],\n",
    "                                   factor=halving_parameter,\n",
    "                                   resource='clf__n_estimators',\n",
    "                                   n_candidates='exhaust',\n",
    "                                   min_resources=min_resource,\n",
    "                                   max_resources=max_resource,\n",
    "                                   scoring=scoring,\n",
    "                                   aggressive_elimination=False,\n",
    "                                   return_train_score=True,\n",
    "                                   refit=True,                   \n",
    "                                   cv=cross_validation,\n",
    "                                   n_jobs=6,\n",
    "                                   verbose=1,\n",
    "                                   random_state=67,\n",
    "                                   error_score='raise',\n",
    "                                  )\n",
    "\n",
    "        # Fit models on training data\n",
    "        rs = rs.fit(X_train, y_train)\n",
    "        \n",
    "        # Apply models to test data to determine model performance\n",
    "        y_pred = rs.predict(X_test)\n",
    "        y_pred_prob = rs.predict_proba(X_test)[:, 1]\n",
    "\n",
    "        print(\" \")\n",
    "        print(\" \")\n",
    "        \n",
    "        # storing model results\n",
    "        result.append({\n",
    "        'grid': rs,\n",
    "        'cv results': rs.cv_results_,\n",
    "        'train accuracy score': rs.best_score_,\n",
    "        'best params': rs.best_params_, \n",
    "        'best estimator': rs.best_estimator_,\n",
    "        'feature importance': rs.best_estimator_.named_steps['clf'].feature_importances_,\n",
    "        'test f1 score': f1_score(y_test, y_pred, average='micro'),\n",
    "        'test accuracy score': accuracy_score(y_test, y_pred),\n",
    "        'test balanced accuracy score': balanced_accuracy_score(y_test, y_pred),\n",
    "        'test roc auc score': roc_auc_score(y_test, y_pred_prob),\n",
    "        'test classification report': classification_report(y_test, y_pred, target_names=['pass','run'], digits=5),\n",
    "        'test confusion matrix': confusion_matrix(y_test, y_pred),\n",
    "        'cv': rs.cv,\n",
    "        'model #': i + 1\n",
    "        })\n",
    "\n",
    "    # sorting results by best test score\n",
    "    result = sorted(result, key=operator.itemgetter('test f1 score'), reverse=True)\n",
    "    \n",
    "    print(' ')\n",
    "    for element in result:\n",
    "        if element['model #']==1:\n",
    "            print('Random Forest classifier: ')\n",
    "        elif element['model #']==2:\n",
    "            print('ExtraTrees classifier: ')\n",
    "        elif element['model #']==3:\n",
    "            print('GradientBoosting classifier: ')\n",
    "        elif element['model #']==4:\n",
    "            print('AdaBoost classifier: ')\n",
    "        else:\n",
    "            print('Other: ')  \n",
    "        \n",
    "        print('Parameters:  ' + str(element['best params']))\n",
    "        print(' ')\n",
    "        print('Train accuracy score:         ' + str(element['train accuracy score']))\n",
    "        print('Test accuracy score:          ' + str(element['test accuracy score']))\n",
    "        print('Test balanced accuracy score: ' + str(element['test accuracy score']))\n",
    "        print('Test f1 score:                ' + str(element['test f1 score']))\n",
    "        print('Test roc auc score:           ' + str(element['test roc auc score']))\n",
    "        print(' ')\n",
    "        print(element['test classification report'])\n",
    "        print(element['test confusion matrix'])\n",
    "        print(' ')\n",
    "        print('-----------------------')\n",
    "        print(' ')\n",
    "\n",
    "    # Save best model as pickle file\n",
    "    joblib.dump(rs.best_params_, r'/Users/ttas2/Documents/Python/nfl-machine-learning-models/output_files/run_pass_classifier_results.pkl', compress=1)\n",
    "    joblib.dump(rs.cv_results_, r'/Users/ttas2/Documents/Python/nfl-machine-learning-models/output_files/run_pass_classifier_model.csv')"
   ]
  },
  {
   "cell_type": "code",
   "execution_count": 51,
   "id": "e7e2a726",
   "metadata": {
    "pycharm": {
     "name": "#%%\n"
    },
    "scrolled": false,
    "ExecuteTime": {
     "end_time": "2023-11-26T01:53:27.549795Z",
     "start_time": "2023-11-26T01:26:09.512337Z"
    }
   },
   "outputs": [
    {
     "name": "stdout",
     "output_type": "stream",
     "text": [
      "n_iterations: 2\n",
      "n_required_iterations: 2\n",
      "n_possible_iterations: 2\n",
      "min_resources_: 1000\n",
      "max_resources_: 2000\n",
      "aggressive_elimination: False\n",
      "factor: 2.0\n",
      "----------\n",
      "iter: 0\n",
      "n_candidates: 2\n",
      "n_resources: 1000\n",
      "Fitting 10 folds for each of 2 candidates, totalling 20 fits\n",
      "----------\n",
      "iter: 1\n",
      "n_candidates: 1\n",
      "n_resources: 2000\n",
      "Fitting 10 folds for each of 1 candidates, totalling 10 fits\n",
      " \n",
      " \n",
      "n_iterations: 2\n",
      "n_required_iterations: 2\n",
      "n_possible_iterations: 2\n",
      "min_resources_: 1000\n",
      "max_resources_: 2000\n",
      "aggressive_elimination: False\n",
      "factor: 2.0\n",
      "----------\n",
      "iter: 0\n",
      "n_candidates: 2\n",
      "n_resources: 1000\n",
      "Fitting 10 folds for each of 2 candidates, totalling 20 fits\n",
      "----------\n",
      "iter: 1\n",
      "n_candidates: 1\n",
      "n_resources: 2000\n",
      "Fitting 10 folds for each of 1 candidates, totalling 10 fits\n",
      " \n",
      " \n",
      "n_iterations: 2\n",
      "n_required_iterations: 2\n",
      "n_possible_iterations: 2\n",
      "min_resources_: 1000\n",
      "max_resources_: 2000\n",
      "aggressive_elimination: False\n",
      "factor: 2.0\n",
      "----------\n",
      "iter: 0\n",
      "n_candidates: 2\n",
      "n_resources: 1000\n",
      "Fitting 10 folds for each of 2 candidates, totalling 20 fits\n",
      "----------\n",
      "iter: 1\n",
      "n_candidates: 1\n",
      "n_resources: 2000\n",
      "Fitting 10 folds for each of 1 candidates, totalling 10 fits\n",
      " \n",
      " \n",
      "n_iterations: 2\n",
      "n_required_iterations: 2\n",
      "n_possible_iterations: 2\n",
      "min_resources_: 1000\n",
      "max_resources_: 2000\n",
      "aggressive_elimination: False\n",
      "factor: 2.0\n",
      "----------\n",
      "iter: 0\n",
      "n_candidates: 2\n",
      "n_resources: 1000\n",
      "Fitting 10 folds for each of 2 candidates, totalling 20 fits\n",
      "----------\n",
      "iter: 1\n",
      "n_candidates: 1\n",
      "n_resources: 2000\n",
      "Fitting 10 folds for each of 1 candidates, totalling 10 fits\n",
      " \n",
      " \n",
      " \n",
      "ExtraTrees classifier: \n",
      "Parameters:  {'clf__bootstrap': False, 'clf__ccp_alpha': 1.5254771955752696e-06, 'clf__criterion': 'gini', 'clf__max_depth': 20, 'clf__max_features': 0.9767189814414287, 'clf__max_leaf_nodes': 60, 'clf__min_impurity_decrease': 4.549452186429162e-07, 'clf__min_samples_leaf': 0.01213035486886127, 'clf__min_samples_split': 0.03467313931574917, 'clf__min_weight_fraction_leaf': 0.121568443601911, 'clf__n_jobs': 6, 'clf__oob_score': False, 'clf__random_state': 67, 'clf__warm_start': True, 'clf__n_estimators': 2000}\n",
      " \n",
      "Train accuracy score:         0.8031363043876751\n",
      "Test accuracy score:          0.7349444175930401\n",
      "Test balanced accuracy score: 0.7349444175930401\n",
      "Test f1 score:                0.7349444175930401\n",
      "Test roc auc score:           0.7899577676238954\n",
      " \n",
      "              precision    recall  f1-score   support\n",
      "\n",
      "        pass    0.68965   0.66148   0.67527      4310\n",
      "         run    0.76509   0.78741   0.77609      6035\n",
      "\n",
      "    accuracy                        0.73494     10345\n",
      "   macro avg    0.72737   0.72445   0.72568     10345\n",
      "weighted avg    0.73366   0.73494   0.73409     10345\n",
      "\n",
      "[[2851 1459]\n",
      " [1283 4752]]\n",
      " \n",
      "-----------------------\n",
      " \n",
      "Random Forest classifier: \n",
      "Parameters:  {'clf__bootstrap': False, 'clf__ccp_alpha': 1.5254771955752696e-06, 'clf__criterion': 'log_loss', 'clf__max_depth': 10, 'clf__max_features': 'log2', 'clf__min_impurity_decrease': 4.549452186429162e-07, 'clf__min_samples_leaf': 0.011969034148012361, 'clf__min_samples_split': 0.031809656532089677, 'clf__min_weight_fraction_leaf': 0.018937138685200767, 'clf__n_jobs': 6, 'clf__oob_score': False, 'clf__random_state': 67, 'clf__warm_start': True, 'clf__n_estimators': 2000}\n",
      " \n",
      "Train accuracy score:         0.9985499540683266\n",
      "Test accuracy score:          0.5919768003866602\n",
      "Test balanced accuracy score: 0.5919768003866602\n",
      "Test f1 score:                0.5919768003866602\n",
      "Test roc auc score:           0.7147223754702364\n",
      " \n",
      "              precision    recall  f1-score   support\n",
      "\n",
      "        pass    0.74860   0.03109   0.05970      4310\n",
      "         run    0.58922   0.99254   0.73946      6035\n",
      "\n",
      "    accuracy                        0.59198     10345\n",
      "   macro avg    0.66891   0.51182   0.39958     10345\n",
      "weighted avg    0.65562   0.59198   0.45625     10345\n",
      "\n",
      "[[ 134 4176]\n",
      " [  45 5990]]\n",
      " \n",
      "-----------------------\n",
      " \n",
      "GradientBoosting classifier: \n",
      "Parameters:  {'clf__ccp_alpha': 5.361140014825924e-06, 'clf__criterion': 'friedman_mse', 'clf__learning_rate': 0.010280074786985604, 'clf__loss': 'exponential', 'clf__max_depth': 3, 'clf__max_features': 'log2', 'clf__max_leaf_nodes': 5, 'clf__min_impurity_decrease': 1.737767690156845e-08, 'clf__min_samples_leaf': 0.03467313931574917, 'clf__min_samples_split': 0.019859609984613134, 'clf__n_iter_no_change': 50, 'clf__random_state': 67, 'clf__subsample': 0.3136396119167168, 'clf__tol': 2.0750819810032563e-05, 'clf__validation_fraction': 0.08803117142201713, 'clf__warm_start': False, 'clf__n_estimators': 2000}\n",
      " \n",
      "Train accuracy score:         0.9999758337361044\n",
      "Test accuracy score:          0.5858869018849686\n",
      "Test balanced accuracy score: 0.5858869018849686\n",
      "Test f1 score:                0.5858869018849686\n",
      "Test roc auc score:           0.7165468448743505\n",
      " \n",
      "              precision    recall  f1-score   support\n",
      "\n",
      "        pass    0.93333   0.00650   0.01290      4310\n",
      "         run    0.58488   0.99967   0.73798      6035\n",
      "\n",
      "    accuracy                        0.58589     10345\n",
      "   macro avg    0.75910   0.50308   0.37544     10345\n",
      "weighted avg    0.73005   0.58589   0.43589     10345\n",
      "\n",
      "[[  28 4282]\n",
      " [   2 6033]]\n",
      " \n",
      "-----------------------\n",
      " \n",
      "AdaBoost classifier: \n",
      "Parameters:  {'clf__algorithm': 'SAMME.R', 'clf__learning_rate': 0.05540772851471989, 'clf__random_state': 67, 'clf__n_estimators': 2000}\n",
      " \n",
      "Train accuracy score:         1.0\n",
      "Test accuracy score:          0.583373610439826\n",
      "Test balanced accuracy score: 0.583373610439826\n",
      "Test f1 score:                0.583373610439826\n",
      "Test roc auc score:           0.5900507096077214\n",
      " \n",
      "              precision    recall  f1-score   support\n",
      "\n",
      "        pass    0.00000   0.00000   0.00000      4310\n",
      "         run    0.58337   1.00000   0.73687      6035\n",
      "\n",
      "    accuracy                        0.58337     10345\n",
      "   macro avg    0.29169   0.50000   0.36844     10345\n",
      "weighted avg    0.34032   0.58337   0.42987     10345\n",
      "\n",
      "[[   0 4310]\n",
      " [   0 6035]]\n",
      " \n",
      "-----------------------\n",
      " \n"
     ]
    }
   ],
   "source": [
    "%%capture --no-stdout --no-display\n",
    "random_search()"
   ]
  },
  {
   "cell_type": "raw",
   "source": [
    "# Load best model\n",
    "best_model = joblib.load(r'/Users/ttas2/Documents/Python/nfl-machine-learning-models/output_files/run_pass_classifier_results.pkl')\n",
    "best_model"
   ],
   "metadata": {
    "collapsed": false
   },
   "id": "2a323e0678ce7ec2"
  },
  {
   "cell_type": "code",
   "execution_count": 19,
   "outputs": [],
   "source": [],
   "metadata": {
    "collapsed": false,
    "ExecuteTime": {
     "end_time": "2023-11-25T06:43:32.182810Z",
     "start_time": "2023-11-25T06:43:32.168684Z"
    }
   },
   "id": "84e730b18dc73635"
  }
 ],
 "metadata": {
  "colab": {
   "name": "nfl_offensive_play_classification_v1.1.ipynb",
   "provenance": []
  },
  "kernelspec": {
   "display_name": "Python 3 (ipykernel)",
   "language": "python",
   "name": "python3"
  },
  "language_info": {
   "codemirror_mode": {
    "name": "ipython",
    "version": 3
   },
   "file_extension": ".py",
   "mimetype": "text/x-python",
   "name": "python",
   "nbconvert_exporter": "python",
   "pygments_lexer": "ipython3",
   "version": "3.9.6"
  }
 },
 "nbformat": 4,
 "nbformat_minor": 5
}
