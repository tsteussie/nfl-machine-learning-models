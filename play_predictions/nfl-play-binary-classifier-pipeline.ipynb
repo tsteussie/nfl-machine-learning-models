{
 "cells": [
  {
   "cell_type": "code",
   "execution_count": 1,
   "outputs": [],
   "source": [
    "import warnings\n",
    "from numba.core.errors import NumbaDeprecationWarning, NumbaPendingDeprecationWarning\n",
    "warnings.simplefilter('ignore', category=UserWarning)\n",
    "warnings.filterwarnings('ignore',category=ImportWarning)\n",
    "warnings.filterwarnings('ignore',category=DeprecationWarning)\n",
    "warnings.simplefilter('ignore', category=NumbaDeprecationWarning)\n",
    "warnings.simplefilter('ignore', category=NumbaPendingDeprecationWarning)\n",
    "\n",
    "import pandas as pd\n",
    "import numpy as np\n",
    "import time\n",
    "\n",
    "import category_encoders as ce\n",
    "from scipy.stats import randint\n",
    "from imblearn.pipeline import Pipeline\n",
    "from imblearn.over_sampling import ADASYN\n",
    "from BorutaShap import BorutaShap\n",
    "from xgboost import XGBClassifier\n",
    "\n",
    "from sklearn.impute import SimpleImputer\n",
    "from sklearn.preprocessing import OrdinalEncoder, OneHotEncoder, MinMaxScaler, StandardScaler, MaxAbsScaler, RobustScaler\n",
    "from sklearn.experimental import enable_halving_search_cv\n",
    "from sklearn.model_selection import train_test_split, HalvingRandomSearchCV\n",
    "from sklearn.compose import ColumnTransformer\n",
    "from sklearn.utils.fixes import loguniform\n",
    "from sklearn.metrics import accuracy_score, balanced_accuracy_score, f1_score, roc_auc_score, classification_report, confusion_matrix\n",
    "from sklearn.dummy import DummyClassifier\n",
    "from sklearn.ensemble import RandomForestClassifier, ExtraTreesClassifier, GradientBoostingClassifier, AdaBoostClassifier\n",
    "import operator\n"
   ],
   "metadata": {
    "collapsed": false,
    "ExecuteTime": {
     "end_time": "2023-12-17T23:35:01.552750Z",
     "start_time": "2023-12-17T23:34:51.112036Z"
    }
   },
   "id": "774348c602e5ca1e"
  },
  {
   "cell_type": "code",
   "execution_count": 2,
   "outputs": [],
   "source": [
    "# Train test split parameters\n",
    "test_holdout_percentage = 0.15\n",
    "\n",
    "# Leave One Out Encoder Sigma value\n",
    "sigma = 0.05                                                        # Tested parameters: 0.05, 0.10, 0.30, 0.60\n",
    "\n",
    "# BorutaShap parameters\n",
    "xgb_max_depth = 8                                                   # Tested parameters: 6, 8, 10\n",
    "feature_model_n_trials = 300\n",
    "\n",
    "# ADASYN sampling multiplier\n",
    "adasyn_class_multiplier = 2                                         # Tested parameters: 1, 2, 3\n",
    "\n",
    "# Feature scaler\n",
    "feature_scaler = StandardScaler()                                   # Tested parameters: MinMaxScaler(), StandardScaler(), MaxAbsScaler(), RobustScaler()\n",
    "\n",
    "# HalvingRandomSearchCV parameters\n",
    "scoring = 'accuracy'\n",
    "n_cross_validation = 5\n",
    "\n",
    "# Specify the HalvingRandomSearchCV parameters\n",
    "halving_parameter = 2.0\n",
    "max_resource = 2000\n",
    "resource_divisor = 2.0\n",
    "min_resource = int(round((max_resource / resource_divisor), 0))\n"
   ],
   "metadata": {
    "collapsed": false,
    "ExecuteTime": {
     "end_time": "2023-12-17T23:35:01.569034Z",
     "start_time": "2023-12-17T23:35:01.557711Z"
    }
   },
   "id": "39c59abc33e5e515"
  },
  {
   "cell_type": "code",
   "execution_count": 3,
   "outputs": [],
   "source": [
    "# Create timer to calculate total workbook time in hours\n",
    "start_time = time.time()"
   ],
   "metadata": {
    "collapsed": false,
    "ExecuteTime": {
     "end_time": "2023-12-17T23:35:01.570629Z",
     "start_time": "2023-12-17T23:35:01.562565Z"
    }
   },
   "id": "5dc8446203dc414e"
  },
  {
   "cell_type": "markdown",
   "id": "c4f8e047",
   "metadata": {
    "pycharm": {
     "name": "#%% md\n"
    }
   },
   "source": [
    "## IMPORT PROCESSED NFL-DATA-PY CSV FILE\n",
    "##### https://pypi.org/project/nfl-data-py/"
   ]
  },
  {
   "cell_type": "code",
   "execution_count": 4,
   "outputs": [
    {
     "data": {
      "text/plain": "(59386, 168)"
     },
     "execution_count": 4,
     "metadata": {},
     "output_type": "execute_result"
    }
   ],
   "source": [
    "# Import csv file from nfl-data-py\n",
    "df = pd.read_csv(r'/Users/ttas2/Documents/Python/nfl-machine-learning-models/output_files/nfl_post_processing_run_pass_classification_data.csv')\n",
    "\n",
    "df.shape"
   ],
   "metadata": {
    "collapsed": false,
    "ExecuteTime": {
     "end_time": "2023-12-17T23:35:02.976745Z",
     "start_time": "2023-12-17T23:35:01.568936Z"
    }
   },
   "id": "f8d686327dce3e32"
  },
  {
   "cell_type": "code",
   "execution_count": 5,
   "outputs": [
    {
     "name": "stdout",
     "output_type": "stream",
     "text": [
      "[]\n"
     ]
    }
   ],
   "source": [
    "# Print columns with missing values\n",
    "print(df.columns[df.isnull().any()].tolist())"
   ],
   "metadata": {
    "collapsed": false,
    "ExecuteTime": {
     "end_time": "2023-12-17T23:35:03.028930Z",
     "start_time": "2023-12-17T23:35:02.964627Z"
    }
   },
   "id": "629bc39586b0fba6"
  },
  {
   "cell_type": "code",
   "execution_count": 6,
   "outputs": [
    {
     "data": {
      "text/plain": "       week posteam posteam_type defteam  yardline_100   \n49130    15     PIT         away     CAR          66.0  \\\n9081      1     CHI         home      SF          65.0   \n\n       quarter_seconds_remaining  half_seconds_remaining   \n49130                        174                     174  \\\n9081                         458                    1358   \n\n       game_seconds_remaining  game_half  qtr  ...   \n49130                    1974          1    2  ...  \\\n9081                     3158          1    1  ...   \n\n       remain_yds_div_def_dl_count  remain_yds_prod_def_dl_count   \n49130                        1.125                          18.0  \\\n9081                         1.750                          28.0   \n\n       remain_yds_div_def_db_count remain_yds_prod_def_db_count   \n49130                          0.9                         22.5  \\\n9081                           1.4                         35.0   \n\n       remain_yds_div_score_diff  remain_yds_prod_score_diff   \n49130                   0.642857                        31.5  \\\n9081                    0.000000                         0.0   \n\n       run_ratio_off_priors  run_ratio_def_priors  posteam_season   \n49130              0.588889              0.253968        pit_2022  \\\n9081               0.177313              0.177503        chi_2022   \n\n       defteam_season  \n49130        car_2022  \n9081          sf_2022  \n\n[2 rows x 168 columns]",
      "text/html": "<div>\n<style scoped>\n    .dataframe tbody tr th:only-of-type {\n        vertical-align: middle;\n    }\n\n    .dataframe tbody tr th {\n        vertical-align: top;\n    }\n\n    .dataframe thead th {\n        text-align: right;\n    }\n</style>\n<table border=\"1\" class=\"dataframe\">\n  <thead>\n    <tr style=\"text-align: right;\">\n      <th></th>\n      <th>week</th>\n      <th>posteam</th>\n      <th>posteam_type</th>\n      <th>defteam</th>\n      <th>yardline_100</th>\n      <th>quarter_seconds_remaining</th>\n      <th>half_seconds_remaining</th>\n      <th>game_seconds_remaining</th>\n      <th>game_half</th>\n      <th>qtr</th>\n      <th>...</th>\n      <th>remain_yds_div_def_dl_count</th>\n      <th>remain_yds_prod_def_dl_count</th>\n      <th>remain_yds_div_def_db_count</th>\n      <th>remain_yds_prod_def_db_count</th>\n      <th>remain_yds_div_score_diff</th>\n      <th>remain_yds_prod_score_diff</th>\n      <th>run_ratio_off_priors</th>\n      <th>run_ratio_def_priors</th>\n      <th>posteam_season</th>\n      <th>defteam_season</th>\n    </tr>\n  </thead>\n  <tbody>\n    <tr>\n      <th>49130</th>\n      <td>15</td>\n      <td>PIT</td>\n      <td>away</td>\n      <td>CAR</td>\n      <td>66.0</td>\n      <td>174</td>\n      <td>174</td>\n      <td>1974</td>\n      <td>1</td>\n      <td>2</td>\n      <td>...</td>\n      <td>1.125</td>\n      <td>18.0</td>\n      <td>0.9</td>\n      <td>22.5</td>\n      <td>0.642857</td>\n      <td>31.5</td>\n      <td>0.588889</td>\n      <td>0.253968</td>\n      <td>pit_2022</td>\n      <td>car_2022</td>\n    </tr>\n    <tr>\n      <th>9081</th>\n      <td>1</td>\n      <td>CHI</td>\n      <td>home</td>\n      <td>SF</td>\n      <td>65.0</td>\n      <td>458</td>\n      <td>1358</td>\n      <td>3158</td>\n      <td>1</td>\n      <td>1</td>\n      <td>...</td>\n      <td>1.750</td>\n      <td>28.0</td>\n      <td>1.4</td>\n      <td>35.0</td>\n      <td>0.000000</td>\n      <td>0.0</td>\n      <td>0.177313</td>\n      <td>0.177503</td>\n      <td>chi_2022</td>\n      <td>sf_2022</td>\n    </tr>\n  </tbody>\n</table>\n<p>2 rows × 168 columns</p>\n</div>"
     },
     "execution_count": 6,
     "metadata": {},
     "output_type": "execute_result"
    }
   ],
   "source": [
    "# Convert binary columns to integers\n",
    "binary_columns = df.columns[df.isin([0,1]).all()].tolist()\n",
    "df[binary_columns] = df[binary_columns].apply(pd.to_numeric, downcast='integer', errors='coerce', axis=1)\n",
    "\n",
    "df.sample(2)"
   ],
   "metadata": {
    "collapsed": false,
    "ExecuteTime": {
     "end_time": "2023-12-17T23:35:15.106543Z",
     "start_time": "2023-12-17T23:35:03.094701Z"
    }
   },
   "id": "41f7422bcc2cf003"
  },
  {
   "cell_type": "code",
   "execution_count": 7,
   "id": "4c9bcb28",
   "metadata": {
    "pycharm": {
     "name": "#%%\n"
    },
    "ExecuteTime": {
     "end_time": "2023-12-17T23:35:15.120674Z",
     "start_time": "2023-12-17T23:35:15.115199Z"
    }
   },
   "outputs": [
    {
     "data": {
      "text/plain": "play_type\npass    0.598491\nrun     0.401509\nName: proportion, dtype: float64"
     },
     "execution_count": 7,
     "metadata": {},
     "output_type": "execute_result"
    }
   ],
   "source": [
    "# Target frequency\n",
    "target_count = df.play_type.value_counts(normalize=True)\n",
    "\n",
    "target_count"
   ]
  },
  {
   "cell_type": "code",
   "execution_count": 8,
   "outputs": [],
   "source": [
    "df['play_type'] = np.where(df['play_type'] == 'pass', 1, 0)\n"
   ],
   "metadata": {
    "collapsed": false,
    "ExecuteTime": {
     "end_time": "2023-12-17T23:35:15.160757Z",
     "start_time": "2023-12-17T23:35:15.126996Z"
    }
   },
   "id": "91112ef9f7a1ba3c"
  },
  {
   "cell_type": "markdown",
   "source": [
    "## TRAIN TEST SPLIT\n",
    "##### https://scikit-learn.org/stable/modules/generated/sklearn.model_selection.train_test_split.html"
   ],
   "metadata": {
    "collapsed": false
   },
   "id": "4c140526b778c182"
  },
  {
   "cell_type": "code",
   "execution_count": 9,
   "id": "4943bbf5",
   "metadata": {
    "pycharm": {
     "name": "#%%\n"
    },
    "ExecuteTime": {
     "end_time": "2023-12-17T23:35:15.330739Z",
     "start_time": "2023-12-17T23:35:15.155502Z"
    }
   },
   "outputs": [
    {
     "name": "stdout",
     "output_type": "stream",
     "text": [
      "167 initial features before processing\n"
     ]
    }
   ],
   "source": [
    "# split data into target and feature datasets\n",
    "X, y = df.loc[:, df.columns != 'play_type'], df['play_type']\n",
    "\n",
    "initial_features = X.columns.to_list()\n",
    "\n",
    "# Create train and test datasets\n",
    "X_train, X_test, y_train, y_test = train_test_split(X, y, test_size=test_holdout_percentage, random_state=67)\n",
    "\n",
    "print(X_train.shape[1], 'initial features before processing')"
   ]
  },
  {
   "cell_type": "code",
   "execution_count": 10,
   "outputs": [
    {
     "name": "stdout",
     "output_type": "stream",
     "text": [
      "XGBClassifier scale_pos_weight: 1.49\n"
     ]
    }
   ],
   "source": [
    "# Used to balancing the effect of XGBClassifier weights on imbalanced dataset: scale_pos_weight = total_majority observations / total minority observations\n",
    "target_count = y_train.value_counts()\n",
    "\n",
    "scale_pos_weight = round(target_count[1] / target_count[0], 2)\n",
    "print('XGBClassifier scale_pos_weight:', scale_pos_weight)"
   ],
   "metadata": {
    "collapsed": false,
    "ExecuteTime": {
     "end_time": "2023-12-17T23:35:15.332860Z",
     "start_time": "2023-12-17T23:35:15.305880Z"
    }
   },
   "id": "b352da1cbdd2f7e6"
  },
  {
   "cell_type": "markdown",
   "id": "4b6cd4c3",
   "metadata": {
    "pycharm": {
     "name": "#%% md\n"
    }
   },
   "source": [
    "## BASELINE MODEL\n",
    "##### https://scikit-learn.org/stable/modules/generated/sklearn.dummy.DummyClassifier.html"
   ]
  },
  {
   "cell_type": "code",
   "execution_count": 11,
   "id": "28e9513e",
   "metadata": {
    "pycharm": {
     "name": "#%%\n"
    },
    "ExecuteTime": {
     "end_time": "2023-12-17T23:35:15.499838Z",
     "start_time": "2023-12-17T23:35:15.313717Z"
    }
   },
   "outputs": [
    {
     "name": "stdout",
     "output_type": "stream",
     "text": [
      "Baseline accuracy: 59.7%\n",
      "Baseline f1 score: 74.7%\n"
     ]
    }
   ],
   "source": [
    "# Create and fit baseline model to compare performance\n",
    "baseline_model = DummyClassifier(strategy='most_frequent', random_state=67)\n",
    "baseline_model.fit(X_train, y_train)\n",
    "\n",
    "# Calculate model accuracy on test data\n",
    "y_baseline_pred = baseline_model.predict(X_test)\n",
    "\n",
    "print(f\"Baseline accuracy: {round(accuracy_score(y_test,y_baseline_pred)*100, 1)}%\")\n",
    "print(f\"Baseline f1 score: {round(f1_score(y_test,y_baseline_pred)*100, 1)}%\")\n"
   ]
  },
  {
   "cell_type": "markdown",
   "source": [
    "## ENCODE CATEGORICAL FEATURES\n",
    "##### https://contrib.scikit-learn.org/category_encoders/leaveoneout.html"
   ],
   "metadata": {
    "collapsed": false
   },
   "id": "e0f3ad4dbdd2f444"
  },
  {
   "cell_type": "code",
   "execution_count": 12,
   "outputs": [
    {
     "name": "stdout",
     "output_type": "stream",
     "text": [
      "Total observations in training dataset: 50478\n",
      "Total features before encoding: 167\n",
      " \n",
      "Dropped features due to invariance: []\n",
      " \n",
      "Features after categorical encoding: 167\n",
      "Column names: ['week', 'posteam', 'posteam_type', 'defteam', 'yardline_100', 'quarter_seconds_remaining', 'half_seconds_remaining', 'game_seconds_remaining', 'game_half', 'qtr', 'down', 'goal_to_go', 'ydstogo', 'shotgun', 'no_huddle', 'posteam_timeouts_remaining', 'defteam_timeouts_remaining', 'posteam_score', 'defteam_score', 'score_differential', 'no_score_prob', 'fg_prob', 'safety_prob', 'td_prob', 'ep', 'wp', 'drive_play_count', 'spread_line', 'total_line', 'div_game', 'roof', 'surface', 'possession_team', 'offense_formation', 'offense_personnel', 'defenders_in_box', 'defense_personnel', 'n_offense', 'n_defense', 'qb_rank', 'qb_pts', 'qb_plays', 'qb_qbr_raw', 'qb_qbr', 'qb_pass', 'qb_run', 'report_eligible', 'off_rb_count', 'off_te_count', 'off_wr_count', 'off_hb_count', 'off_ol_count', 'def_dl_count', 'def_lb_count', 'def_db_count', 'wr_to_db_ratio', 'hb_to_lb_ratio', 'ol_to_dl_ratio', 'play_sequence_game', 'play_sequence_series', 'game_temp', 'game_humidity', 'game_wind', 'game_weather', 'dtg_99to90', 'dtg_89to60', 'dtg_59to45', 'dtg_44to35', 'dtg_34to21', 'dtg_20to10', 'dtg_09to00', 'prev1_big_play_pass', 'prev2_big_play_pass', 'prev3_big_play_pass', 'prev1_big_play_run', 'prev2_big_play_run', 'prev3_big_play_run', 'prev1_negative_pass', 'prev2_negative_pass', 'prev3_negative_pass', 'prev1_negative_run', 'prev2_negative_run', 'prev3_negative_run', 'play_type_prev1', 'play_type_prev2', 'play_type_prev3', 'play_type_prev4', 'prev1_play_off_penalty', 'prev1_play_def_penalty', 'prev2_play_off_penalty', 'prev2_play_def_penalty', 'prev3_play_off_penalty', 'prev3_play_def_penalty', 'prev1_play_run_outside', 'prev1_play_run_inside', 'prev1_play_pass_deep', 'prev1_play_pass_short', 'prev2_play_run_outside', 'prev2_play_run_inside', 'prev2_play_pass_deep', 'prev2_play_pass_short', 'prev3_play_run_outside', 'prev3_play_run_inside', 'prev3_play_pass_deep', 'prev3_play_pass_short', 'prev1_incomplete_pass', 'prev2_incomplete_pass', 'prev3_incomplete_pass', 'prev4_incomplete_pass', 'drive_incomplete_pass_pcnt', 'prev1_yards_gained', 'prev2_yards_gained', 'prev3_yards_gained', 'prev4_yards_gained', 'prev1_wpa', 'prev2_wpa', 'prev3_wpa', 'prev4_wpa', 'prev1_shotgun', 'prev2_shotgun', 'prev3_shotgun', 'drive_shotgun_pcnt', 'prev1_qb_hit', 'prev2_qb_hit', 'prev3_qb_hit', 'drive_qb_hit_pcnt', 'prev1_no_huddle', 'prev2_no_huddle', 'prev3_no_huddle', 'drive_no_huddle_pcnt', 'prev1_first_down_pass', 'prev2_first_down_pass', 'prev3_first_down_pass', 'prev1_first_down_run', 'prev2_first_down_run', 'prev3_first_down_run', 'prev1_effct_play', 'prev2_effct_play', 'prev3_effct_play', 'drive_effct_play_pcnt', 'remaining_downs', 'remaining_yards_per_down', 'drive_start', 'two_min_warning', 'ep_half_sec_ratio', 'ep_game_sec_ratio', 'posteam_side', 'half_seconds_div_score_diff', 'half_seconds_prod_score_diff', 'game_wind_div_game_temp', 'game_wind_prod_game_temp', 'game_temp_div_game_humidity', 'game_temp_prod_game_humidity', 'remain_yds_div_def_box', 'remain_yds_prod_def_box', 'remain_yds_div_off_hb_count', 'remain_yds_prod_off_hb_count', 'remain_yds_div_def_dl_count', 'remain_yds_prod_def_dl_count', 'remain_yds_div_def_db_count', 'remain_yds_prod_def_db_count', 'remain_yds_div_score_diff', 'remain_yds_prod_score_diff', 'run_ratio_off_priors', 'run_ratio_def_priors', 'posteam_season', 'defteam_season']\n"
     ]
    }
   ],
   "source": [
    "# Encoded column represents mean response over all rows for this category, providing one-column representation while avoiding direct response leakage\n",
    "\n",
    "pre_features = X_train.columns.to_list()\n",
    "categorical_features = list(X_train.select_dtypes(include='object'))\n",
    "\n",
    "# Sigma adds normal (Gaussian) distribution noise into training data in order to decrease over-fitting (testing data are untouched). Sigma gives the standard deviation (spread or “width”) of the normal distribution. The optimal value is commonly between 0.05 and 0.6. The default is to not add noise, but that leads to significantly suboptimal results.\n",
    "encoder = ce.LeaveOneOutEncoder(return_df=True, cols=categorical_features, handle_missing='value', handle_unknown='value', sigma=sigma, random_state=67, drop_invariant=False)\n",
    "\n",
    "X_train = encoder.fit_transform(X_train, y_train)\n",
    "X_test = encoder.transform(X_test)\n",
    "\n",
    "post_features = X_train.columns.to_list()\n",
    "\n",
    "# Compare 2 lists and identify elements in first list not in second list\n",
    "def diff(list1, list2):\n",
    "    return list(set(list1) - set(list2))\n",
    "\n",
    "print('Total observations in training dataset:', len(X_train))\n",
    "print('Total features before encoding:', len(pre_features))\n",
    "print(' ')\n",
    "print('Dropped features due to invariance:', diff(pre_features, post_features))\n",
    "print(' ')\n",
    "print('Features after categorical encoding:', len(post_features))\n",
    "print('Column names:', X_train.columns.to_list())"
   ],
   "metadata": {
    "collapsed": false,
    "ExecuteTime": {
     "end_time": "2023-12-17T23:35:16.658363Z",
     "start_time": "2023-12-17T23:35:15.355Z"
    }
   },
   "id": "d33d4e0b73750e26"
  },
  {
   "cell_type": "markdown",
   "source": [
    "## FEATURE SELECTION\n",
    "##### https://pypi.org/project/BorutaShap/"
   ],
   "metadata": {
    "collapsed": false
   },
   "id": "65fe86e88f378c61"
  },
  {
   "cell_type": "code",
   "execution_count": 13,
   "outputs": [],
   "source": [
    "feature_model =  XGBClassifier(booster='gbtree',\n",
    "                              objective='binary:logistic',\n",
    "                              max_depth=xgb_max_depth,\n",
    "                              scale_pos_weight=scale_pos_weight,\n",
    "                              seed=67,\n",
    "                              )"
   ],
   "metadata": {
    "collapsed": false,
    "ExecuteTime": {
     "end_time": "2023-12-17T23:35:16.662474Z",
     "start_time": "2023-12-17T23:35:16.660276Z"
    }
   },
   "id": "145f2b3382fdccf2"
  },
  {
   "cell_type": "code",
   "execution_count": 14,
   "outputs": [
    {
     "name": "stderr",
     "output_type": "stream",
     "text": [
      "100%|██████████| 300/300 [4:21:49<00:00, 52.36s/it]  "
     ]
    },
    {
     "name": "stdout",
     "output_type": "stream",
     "text": [
      "30 attributes confirmed important: ['play_type_prev2', 'play_type_prev1', 'total_line', 'remain_yds_div_def_box', 'play_type_prev4', 'prev2_wpa', 'prev1_yards_gained', 'play_type_prev3', 'yardline_100', 'defenders_in_box', 'drive_start', 'defense_personnel', 'safety_prob', 'td_prob', 'game_seconds_remaining', 'wp', 'qb_pts', 'possession_team', 'run_ratio_off_priors', 'offense_formation', 'remain_yds_div_def_db_count', 'remain_yds_div_score_diff', 'offense_personnel', 'half_seconds_remaining', 'down', 'qb_run', 'ep_game_sec_ratio', 'drive_play_count', 'posteam_season', 'ydstogo']\n",
      "133 attributes confirmed unimportant: ['prev2_yards_gained', 'report_eligible', 'prev2_no_huddle', 'prev1_big_play_pass', 'prev3_no_huddle', 'two_min_warning', 'half_seconds_prod_score_diff', 'qb_qbr_raw', 'dtg_99to90', 'dtg_44to35', 'prev3_negative_pass', 'no_score_prob', 'defteam_score', 'prev3_big_play_run', 'defteam', 'surface', 'prev1_negative_pass', 'drive_no_huddle_pcnt', 'prev3_play_pass_short', 'prev3_qb_hit', 'prev3_play_off_penalty', 'prev2_negative_run', 'prev1_effct_play', 'run_ratio_def_priors', 'defteam_season', 'spread_line', 'prev1_play_off_penalty', 'prev1_no_huddle', 'play_sequence_series', 'prev2_first_down_pass', 'prev1_wpa', 'prev3_shotgun', 'prev3_big_play_pass', 'prev1_play_def_penalty', 'prev1_qb_hit', 'posteam', 'n_defense', 'prev3_yards_gained', 'drive_shotgun_pcnt', 'quarter_seconds_remaining', 'prev3_effct_play', 'prev2_first_down_run', 'posteam_type', 'half_seconds_div_score_diff', 'game_humidity', 'score_differential', 'qb_rank', 'div_game', 'prev1_first_down_pass', 'prev1_play_run_outside', 'prev1_play_pass_deep', 'game_temp_prod_game_humidity', 'dtg_20to10', 'game_temp', 'prev3_first_down_run', 'prev1_negative_run', 'prev3_play_def_penalty', 'dtg_59to45', 'prev1_play_run_inside', 'remain_yds_prod_def_box', 'prev2_shotgun', 'prev1_shotgun', 'prev3_incomplete_pass', 'remain_yds_div_def_dl_count', 'remain_yds_div_off_hb_count', 'qb_pass', 'week', 'shotgun', 'game_half', 'prev3_play_pass_deep', 'remaining_yards_per_down', 'prev1_incomplete_pass', 'game_wind_div_game_temp', 'prev3_play_run_inside', 'prev2_play_pass_deep', 'prev4_incomplete_pass', 'off_ol_count', 'def_dl_count', 'qb_plays', 'off_wr_count', 'hb_to_lb_ratio', 'defteam_timeouts_remaining', 'game_wind_prod_game_temp', 'drive_qb_hit_pcnt', 'qb_qbr', 'qtr', 'game_wind', 'prev1_play_pass_short', 'def_lb_count', 'ol_to_dl_ratio', 'prev1_big_play_run', 'off_hb_count', 'dtg_89to60', 'prev1_first_down_run', 'prev2_play_def_penalty', 'prev2_play_run_outside', 'off_rb_count', 'ep_half_sec_ratio', 'prev2_play_off_penalty', 'fg_prob', 'dtg_34to21', 'posteam_timeouts_remaining', 'prev2_negative_pass', 'remain_yds_prod_def_dl_count', 'prev3_first_down_pass', 'goal_to_go', 'n_offense', 'drive_effct_play_pcnt', 'game_weather', 'wr_to_db_ratio', 'dtg_09to00', 'prev4_yards_gained', 'prev2_big_play_run', 'remaining_downs', 'prev2_big_play_pass', 'def_db_count', 'posteam_side', 'prev2_incomplete_pass', 'prev3_negative_run', 'prev2_effct_play', 'prev4_wpa', 'posteam_score', 'roof', 'drive_incomplete_pass_pcnt', 'remain_yds_prod_score_diff', 'off_te_count', 'prev2_play_pass_short', 'prev3_wpa', 'no_huddle', 'prev2_play_run_inside', 'play_sequence_game', 'prev3_play_run_outside', 'prev2_qb_hit']\n",
      "4 tentative attributes remains: ['remain_yds_prod_def_db_count', 'game_temp_div_game_humidity', 'remain_yds_prod_off_hb_count', 'ep']\n"
     ]
    },
    {
     "name": "stderr",
     "output_type": "stream",
     "text": [
      "\n"
     ]
    }
   ],
   "source": [
    "# no model selected default is Random Forest\n",
    "Feature_Selector = BorutaShap(importance_measure='shap',\n",
    "                              classification=True,\n",
    "                              model=feature_model,\n",
    "                              )\n",
    "\n",
    "Feature_Selector.fit(X=X_train,\n",
    "                    y=y_train,\n",
    "                    n_trials=feature_model_n_trials,\n",
    "                    normalize=True,\n",
    "                    sample=False,\n",
    "                    random_state=67,\n",
    "                    )"
   ],
   "metadata": {
    "collapsed": false,
    "ExecuteTime": {
     "end_time": "2023-12-18T03:57:06.181086Z",
     "start_time": "2023-12-17T23:35:16.662743Z"
    }
   },
   "id": "4e7034bfcd562178"
  },
  {
   "cell_type": "code",
   "execution_count": 15,
   "outputs": [
    {
     "data": {
      "text/plain": "<Figure size 1800x1000 with 1 Axes>",
      "image/png": "[encoded data removed]"
     },
     "metadata": {},
     "output_type": "display_data"
    }
   ],
   "source": [
    "# Plot selected features with shap values on x-axis, angle labeled by shap value, color by feature value\n",
    "Feature_Selector.plot(which_features='accepted', figsize=(18, 10)) #, y_scale='log')"
   ],
   "metadata": {
    "collapsed": false,
    "ExecuteTime": {
     "end_time": "2023-12-18T03:57:07.621506Z",
     "start_time": "2023-12-18T03:57:06.182267Z"
    }
   },
   "id": "6e9ee7092d851d1e"
  },
  {
   "cell_type": "code",
   "execution_count": 16,
   "outputs": [
    {
     "name": "stdout",
     "output_type": "stream",
     "text": [
      "Training features: 34\n",
      "Testing features: 34\n",
      "Most important features: ['yardline_100', 'half_seconds_remaining', 'game_seconds_remaining', 'down', 'ydstogo', 'safety_prob', 'td_prob', 'ep', 'wp', 'drive_play_count', 'total_line', 'possession_team', 'offense_formation', 'offense_personnel', 'defenders_in_box', 'defense_personnel', 'qb_pts', 'qb_run', 'play_type_prev1', 'play_type_prev2', 'play_type_prev3', 'play_type_prev4', 'prev1_yards_gained', 'prev2_wpa', 'drive_start', 'ep_game_sec_ratio', 'game_temp_div_game_humidity', 'remain_yds_div_def_box', 'remain_yds_prod_off_hb_count', 'remain_yds_div_def_db_count', 'remain_yds_prod_def_db_count', 'remain_yds_div_score_diff', 'run_ratio_off_priors', 'posteam_season']\n"
     ]
    }
   ],
   "source": [
    "# Drops features that were identified by BorutaShap as not important\n",
    "features_to_remove = Feature_Selector.features_to_remove\n",
    "\n",
    "X_train = X_train.drop(columns=features_to_remove)\n",
    "X_test = X_test.drop(columns=features_to_remove)\n",
    "\n",
    "print('Training features:', X_train.shape[1])\n",
    "print('Testing features:', X_test.shape[1])\n",
    "print('Most important features:', X_train.columns.to_list())"
   ],
   "metadata": {
    "collapsed": false,
    "ExecuteTime": {
     "end_time": "2023-12-18T03:57:08.152538Z",
     "start_time": "2023-12-18T03:57:07.618482Z"
    }
   },
   "id": "afa5c66c26a42f87"
  },
  {
   "cell_type": "code",
   "execution_count": 17,
   "outputs": [
    {
     "name": "stdout",
     "output_type": "stream",
     "text": [
      "Total time: 4.37 hours\n"
     ]
    }
   ],
   "source": [
    "# Calculate workbook processing time in hours\n",
    "end_time = time.time()\n",
    "total_time = end_time - start_time\n",
    "\n",
    "print('Total time:', round(total_time / 3600, 2), 'hours')"
   ],
   "metadata": {
    "collapsed": false,
    "ExecuteTime": {
     "end_time": "2023-12-18T03:57:08.154141Z",
     "start_time": "2023-12-18T03:57:07.655517Z"
    }
   },
   "id": "303ed2263cd313f4"
  },
  {
   "cell_type": "markdown",
   "source": [
    "## MODEL PIPELINE\n",
    "##### https://scikit-learn.org/stable/modules/generated/sklearn.compose.ColumnTransformer.html\n",
    "##### https://scikit-learn.org/stable/modules/generated/sklearn.impute.SimpleImputer.html\n",
    "##### https://scikit-learn.org/stable/modules/generated/sklearn.preprocessing.PowerTransformer.html\n",
    "##### https://www.statsmodels.org/dev/generated/statsmodels.stats.outliers_influence.variance_inflation_factor.html\n",
    "##### https://imbalanced-learn.org/stable/references/over_sampling.html\n",
    "##### https://scikit-learn.org/stable/modules/generated/sklearn.model_selection.HalvingRandomSearchCV.html\n",
    "##### https://scikit-learn.org/stable/modules/generated/sklearn.metrics.f1_score.html\n",
    "##### https://scikit-learn.org/stable/modules/generated/sklearn.ensemble.GradientBoostingClassifier.html\n",
    "##### https://scikit-learn.org/stable/modules/generated/sklearn.ensemble.RandomForestClassifier.html\n",
    "##### https://scikit-learn.org/stable/modules/generated/sklearn.ensemble.ExtraTreesClassifier.html\n",
    "##### https://xgboost.readthedocs.io/en/stable/parameter.html"
   ],
   "metadata": {
    "collapsed": false
   },
   "id": "28eb7c49ea06b6d2"
  },
  {
   "cell_type": "code",
   "execution_count": 18,
   "outputs": [
    {
     "name": "stdout",
     "output_type": "stream",
     "text": [
      "ordinal features: 1 : ['down']\n",
      "boolean features: 0 : []\n",
      "numeric features: 33 : ['yardline_100', 'half_seconds_remaining', 'game_seconds_remaining', 'ydstogo', 'safety_prob', 'td_prob', 'ep', 'wp', 'drive_play_count', 'total_line', 'possession_team', 'offense_formation', 'offense_personnel', 'defenders_in_box', 'defense_personnel', 'qb_pts', 'qb_run', 'play_type_prev1', 'play_type_prev2', 'play_type_prev3', 'play_type_prev4', 'prev1_yards_gained', 'prev2_wpa', 'drive_start', 'ep_game_sec_ratio', 'game_temp_div_game_humidity', 'remain_yds_div_def_box', 'remain_yds_prod_off_hb_count', 'remain_yds_div_def_db_count', 'remain_yds_prod_def_db_count', 'remain_yds_div_score_diff', 'run_ratio_off_priors', 'posteam_season']\n"
     ]
    }
   ],
   "source": [
    "# Create feature type lists for column transform stage of the pipeline\n",
    "ordinal_features = X_train.columns[X_train.isin([1,2,3,4,5]).all()].tolist()\n",
    "categorical_features = list(X_train.select_dtypes(include='object'))\n",
    "boolean_features = X_train.columns[X_train.isin([0, 1]).all()].tolist()\n",
    "\n",
    "numeric_features = [x for x in X_train.columns if x not in ordinal_features]\n",
    "numeric_features = [x for x in numeric_features if x not in categorical_features]\n",
    "numeric_features = [x for x in numeric_features if x not in boolean_features]\n",
    "\n",
    "#print('categorical features:', len(categorical_features), ':', categorical_features)\n",
    "print('ordinal features:', len(ordinal_features), ':', ordinal_features)\n",
    "print('boolean features:', len(boolean_features), ':', boolean_features)\n",
    "print('numeric features:', len(numeric_features), ':', numeric_features)"
   ],
   "metadata": {
    "collapsed": false,
    "ExecuteTime": {
     "end_time": "2023-12-18T03:57:08.383134Z",
     "start_time": "2023-12-18T03:57:07.665963Z"
    }
   },
   "id": "e95804b4c341fcbb"
  },
  {
   "cell_type": "code",
   "execution_count": 19,
   "outputs": [],
   "source": [
    "# Outlier removal\n",
    "def iqr_outliers(x, features):\n",
    "\n",
    "    out_index_list = []\n",
    "        \n",
    "    for col in features:\n",
    "        q1 = np.nanpercentile(x[col], 25.)\n",
    "        q3 = np.nanpercentile(x[col], 75.)\n",
    "        \n",
    "        cut_off = (q3 - q1) * 1.5\n",
    "        upper, lower = q3 + cut_off, q1 - cut_off\n",
    "                \n",
    "        outliers_index = x[col][(x[col] < lower) | (x[col] > upper)].index.tolist()\n",
    "        out_index_list.extend(outliers_index)\n",
    "        \n",
    "    # Remove duplicates\n",
    "    list(set(out_index_list)).sort()"
   ],
   "metadata": {
    "pycharm": {
     "name": "#%%\n"
    },
    "ExecuteTime": {
     "end_time": "2023-12-18T03:57:08.384506Z",
     "start_time": "2023-12-18T03:57:08.378912Z"
    }
   },
   "id": "3e4ff9bb"
  },
  {
   "cell_type": "code",
   "execution_count": 25,
   "outputs": [],
   "source": [
    "# Specify the transformations per data type\n",
    "num_trans = Pipeline(steps=[('simple_imputer', SimpleImputer(missing_values=np.nan, strategy='median')),\n",
    "                            ('iqr_outlier', iqr_outliers(X_train, numeric_features)),\n",
    "                            ('scaler', feature_scaler),\n",
    "                           ])\n",
    "\n",
    "cat_trans = Pipeline(steps=[('simple_imputer', SimpleImputer(missing_values=np.nan, strategy='most_frequent')),\n",
    "                            ('onehot_encoder', OneHotEncoder(sparse=False, handle_unknown='infrequent_if_exist')),\n",
    "                            ])\n",
    "\n",
    "ord_trans = Pipeline(steps=[('simple_imputer', SimpleImputer(missing_values=np.nan, strategy='most_frequent')),\n",
    "                            ('ordinal_encoder', OrdinalEncoder(categories='auto', handle_unknown='error')),\n",
    "                            ('scaler', feature_scaler),\n",
    "                           ])\n",
    "                             \n",
    "Column_Transform = ColumnTransformer(transformers=[('numeric_transform', num_trans, numeric_features),\n",
    "                                                   ('categorical_transform', cat_trans, categorical_features),\n",
    "                                                   ('ordinal_transform', ord_trans, ordinal_features),\n",
    "                                                   ],\n",
    "                                     remainder='passthrough',\n",
    "                                    )"
   ],
   "metadata": {
    "pycharm": {
     "name": "#%%\n"
    },
    "ExecuteTime": {
     "end_time": "2023-12-18T04:47:29.393662Z",
     "start_time": "2023-12-18T04:47:29.289075Z"
    }
   },
   "id": "58cc5161"
  },
  {
   "cell_type": "code",
   "execution_count": 26,
   "id": "17593a5b",
   "metadata": {
    "pycharm": {
     "name": "#%%\n"
    },
    "ExecuteTime": {
     "end_time": "2023-12-18T04:47:30.459605Z",
     "start_time": "2023-12-18T04:47:30.446817Z"
    }
   },
   "outputs": [],
   "source": [
    "# Specify number of target classes\n",
    "n_classes = round(y_train.nunique() * adasyn_class_multiplier, 0)"
   ]
  },
  {
   "cell_type": "code",
   "execution_count": 27,
   "id": "e4b3074a",
   "metadata": {
    "pycharm": {
     "name": "#%%\n"
    },
    "ExecuteTime": {
     "end_time": "2023-12-18T04:47:37.193446Z",
     "start_time": "2023-12-18T04:47:37.185307Z"
    }
   },
   "outputs": [],
   "source": [
    "def random_search():\n",
    "    \n",
    "    pipeline1 = Pipeline([\n",
    "    ('col', Column_Transform),\n",
    "    ('smpl', ADASYN(n_neighbors=n_classes, sampling_strategy='not majority', random_state=67)),\n",
    "    ('clf', RandomForestClassifier()),\n",
    "    ])\n",
    "    \n",
    "    pipeline2 = Pipeline([\n",
    "    ('col', Column_Transform),\n",
    "    ('smpl', ADASYN(n_neighbors=n_classes, sampling_strategy='not majority', random_state=67)),\n",
    "    ('clf', ExtraTreesClassifier()),\n",
    "    ])\n",
    "    \n",
    "    pipeline3 = Pipeline([\n",
    "    ('col', Column_Transform),\n",
    "    ('smpl', ADASYN(n_neighbors=n_classes, sampling_strategy='not majority', random_state=67)),\n",
    "    ('clf', GradientBoostingClassifier()),\n",
    "    ])\n",
    "    \n",
    "    pipeline4 = Pipeline([\n",
    "    ('col', Column_Transform),\n",
    "    ('smpl', ADASYN(n_neighbors=n_classes, sampling_strategy='not majority', random_state=67)),\n",
    "    ('clf', AdaBoostClassifier()),\n",
    "    ])\n",
    "\n",
    "    # RandomForestClassifier\n",
    "    parameters1 = {\n",
    "    'clf__bootstrap': [True],\n",
    "    'clf__ccp_alpha': loguniform(1e-06, 1e-01),               # cost-complexity pruning is an algorithm used to prune a tree to avoid over-fitting\n",
    "    'clf__criterion': ['gini','entropy'],\n",
    "    'clf__max_depth': randint(5, 30),\n",
    "    'clf__max_features': loguniform(0.10, 0.35), \n",
    "    'clf__min_impurity_decrease': loguniform(1e-09, 1e-04),\n",
    "    #'clf__max_samples': loguniform(0.02, 0.49),              # Only for bootstrap=True\n",
    "    'clf__min_samples_leaf': loguniform(0.005, 0.20),\n",
    "    'clf__min_samples_split': loguniform(0.005, 0.20),\n",
    "    'clf__min_weight_fraction_leaf': loguniform(0.005, 0.20),\n",
    "    'clf__oob_score': [True, False],                                # Only for bootstrap=True\n",
    "    'clf__warm_start': [True, False],\n",
    "    'clf__n_jobs': [6],\n",
    "    'clf__random_state': [67],\n",
    "    }\n",
    "\n",
    "    # ExtraTreesClassifier\n",
    "    parameters2 = {\n",
    "    'clf__bootstrap': [True],\n",
    "    'clf__ccp_alpha': loguniform(1e-06, 1e-01),               # cost-complexity pruning is an algorithm used to prune a tree to avoid over-fitting\n",
    "    'clf__criterion': ['gini','entropy'],\n",
    "    'clf__max_depth': randint(5, 50),\n",
    "    'clf__max_features': loguniform(0.50, 0.90),\n",
    "    'clf__max_leaf_nodes': randint(20, 60),\n",
    "    #'clf__max_samples': loguniform(0.10, 0.50),               # Only for bootstrap=True\n",
    "    'clf__min_impurity_decrease': loguniform(1e-05, 1e-01),\n",
    "    'clf__min_samples_leaf': loguniform(0.05, 0.30),\n",
    "    'clf__min_samples_split': loguniform(0.005, 0.15),\n",
    "    'clf__min_weight_fraction_leaf': loguniform(0.05, 0.25),\n",
    "    'clf__oob_score': [True, False],                                # Only for bootstrap=True\n",
    "    'clf__warm_start': [True, False],\n",
    "    'clf__n_jobs': [6],\n",
    "    'clf__random_state': [67],\n",
    "    }\n",
    "    \n",
    "    # GradientBoostingClassifier\n",
    "    parameters3 = {\n",
    "    'clf__criterion': ['friedman_mse'],\n",
    "    'clf__ccp_alpha': loguniform(1e-06, 1e-01),                # cost-complexity pruning is an algorithm used to prune a tree to avoid over-fitting\n",
    "    'clf__learning_rate': loguniform(1e-05, 1e-00),\n",
    "    'clf__loss': ['log_loss','exponential'],\n",
    "    'clf__max_depth': randint(25, 60),\n",
    "    'clf__max_features': loguniform(0.45, 0.85), \n",
    "    'clf__max_leaf_nodes': randint(20, 50),\n",
    "    'clf__min_weight_fraction_leaf': loguniform(0.30, 0.50),   # Must be <= 0.5\n",
    "    'clf__min_impurity_decrease': loguniform(1e-08, 1e-04),\n",
    "    'clf__min_samples_leaf': loguniform(0.01, 0.25),\n",
    "    'clf__min_samples_split': loguniform(0.10, 0.35),\n",
    "    'clf__n_iter_no_change': [200],\n",
    "    'clf__tol': loguniform(1e-08, 1e-03),\n",
    "    'clf__validation_fraction': loguniform(0.05, 0.15),\n",
    "    'clf__warm_start': [True, False],\n",
    "    'clf__subsample': loguniform(0.65, 1.00),                  # Choosing subsample < 1.0 leads to a reduction of variance and an increase in bias\n",
    "    'clf__random_state': [67],\n",
    "    }\n",
    "\n",
    "    # AdaBoostClassifier\n",
    "    parameters4  = {\n",
    "    'clf__algorithm': ['SAMME','SAMME.R'],\n",
    "    'clf__learning_rate': loguniform(1e-08, 1e-01),\n",
    "    'clf__random_state': [67],\n",
    "    }\n",
    "\n",
    "    pars = [parameters1, parameters2, parameters3, parameters4]\n",
    "    pips = [pipeline1, pipeline2, pipeline3, pipeline4]\n",
    "\n",
    "    result = []\n",
    "    \n",
    "    for i in range(len(pars)):\n",
    "        \n",
    "        rs = HalvingRandomSearchCV(pips[i],\n",
    "                                   pars[i],\n",
    "                                   factor=halving_parameter,\n",
    "                                   resource='clf__n_estimators',\n",
    "                                   n_candidates='exhaust',\n",
    "                                   min_resources=min_resource,\n",
    "                                   max_resources=max_resource,\n",
    "                                   scoring=scoring,\n",
    "                                   aggressive_elimination=False,\n",
    "                                   return_train_score=True,\n",
    "                                   refit=True,                   \n",
    "                                   cv=n_cross_validation,\n",
    "                                   n_jobs=6,\n",
    "                                   verbose=1,\n",
    "                                   random_state=67,\n",
    "                                   error_score='raise',\n",
    "                                  )\n",
    "\n",
    "        # Fit models on training data\n",
    "        rs = rs.fit(X_train, y_train)\n",
    "        \n",
    "        # Apply models to test data to determine model performance\n",
    "        y_pred = rs.predict(X_test)\n",
    "        y_pred_prob = rs.predict_proba(X_test)[:, 1]\n",
    "\n",
    "        print(\" \")\n",
    "        \n",
    "        # storing model results\n",
    "        result.append({\n",
    "        'grid': rs,\n",
    "        'cv results': rs.cv_results_,\n",
    "        'train accuracy score': rs.best_score_,\n",
    "        'best params': rs.best_params_, \n",
    "        'best estimator': rs.best_estimator_,\n",
    "        'feature importance': rs.best_estimator_.named_steps['clf'].feature_importances_,\n",
    "        'test f1 score': f1_score(y_test, y_pred, average='micro'),\n",
    "        'test accuracy score': accuracy_score(y_test, y_pred),\n",
    "        'test balanced accuracy score': balanced_accuracy_score(y_test, y_pred),\n",
    "        'test roc auc score': roc_auc_score(y_test, y_pred_prob),\n",
    "        'test classification report': classification_report(y_test, y_pred, target_names=['pass','run'], digits=5),\n",
    "        'test confusion matrix': confusion_matrix(y_test, y_pred),\n",
    "        'cv': rs.cv,\n",
    "        'model #': i + 1\n",
    "        })\n",
    "\n",
    "    # sorting results by best test score\n",
    "    result = sorted(result, key=operator.itemgetter('test f1 score'), reverse=True)\n",
    "    \n",
    "    print(' ')\n",
    "    for element in result:\n",
    "        if element['model #']==1:\n",
    "            print('Random Forest classifier: ')\n",
    "        elif element['model #']==2:\n",
    "            print('ExtraTrees classifier: ')\n",
    "        elif element['model #']==3:\n",
    "            print('GradientBoosting classifier: ')\n",
    "        elif element['model #']==4:\n",
    "            print('AdaBoost classifier: ')\n",
    "        else:\n",
    "            print('Other: ')  \n",
    "        \n",
    "        print('Parameters:  ' + str(element['best params']))\n",
    "        print(' ')\n",
    "        print('Train accuracy score:         ' + str(element['train accuracy score']))\n",
    "        print('Test accuracy score:          ' + str(element['test accuracy score']))\n",
    "        print('Test balanced accuracy score: ' + str(element['test accuracy score']))\n",
    "        print('Test f1 score:                ' + str(element['test f1 score']))\n",
    "        print('Test roc auc score:           ' + str(element['test roc auc score']))\n",
    "        print(' ')\n",
    "        print(element['test classification report'])\n",
    "        print(element['test confusion matrix'])\n",
    "        print(' ')\n",
    "        print('-----------------------')\n",
    "        print(' ')\n",
    "        \n",
    "        # Export best model as csv file\n",
    "        pd.DataFrame(element['cv results']).to_csv(r'/Users/ttas2/Documents/Python/nfl-machine-learning-models/output_files/run_pass_classifier_model.csv')\n",
    "        pd.DataFrame(element['feature importance'], index=X_train.columns).to_csv(r'/Users/ttas2/Documents/Python/nfl-machine-learning-models/output_files/run_pass_classifier_feature_importance.csv')\n"
   ]
  },
  {
   "cell_type": "code",
   "execution_count": 28,
   "id": "e7e2a726",
   "metadata": {
    "pycharm": {
     "name": "#%%\n"
    },
    "scrolled": false,
    "ExecuteTime": {
     "end_time": "2023-12-18T05:39:56.134545Z",
     "start_time": "2023-12-18T04:47:40.759043Z"
    }
   },
   "outputs": [
    {
     "name": "stdout",
     "output_type": "stream",
     "text": [
      "n_iterations: 2\n",
      "n_required_iterations: 2\n",
      "n_possible_iterations: 2\n",
      "min_resources_: 1000\n",
      "max_resources_: 2000\n",
      "aggressive_elimination: False\n",
      "factor: 2.0\n",
      "----------\n",
      "iter: 0\n",
      "n_candidates: 2\n",
      "n_resources: 1000\n",
      "Fitting 5 folds for each of 2 candidates, totalling 10 fits\n",
      "----------\n",
      "iter: 1\n",
      "n_candidates: 1\n",
      "n_resources: 2000\n",
      "Fitting 5 folds for each of 1 candidates, totalling 5 fits\n",
      " \n",
      "n_iterations: 2\n",
      "n_required_iterations: 2\n",
      "n_possible_iterations: 2\n",
      "min_resources_: 1000\n",
      "max_resources_: 2000\n",
      "aggressive_elimination: False\n",
      "factor: 2.0\n",
      "----------\n",
      "iter: 0\n",
      "n_candidates: 2\n",
      "n_resources: 1000\n",
      "Fitting 5 folds for each of 2 candidates, totalling 10 fits\n",
      "----------\n",
      "iter: 1\n",
      "n_candidates: 1\n",
      "n_resources: 2000\n",
      "Fitting 5 folds for each of 1 candidates, totalling 5 fits\n",
      " \n",
      "n_iterations: 2\n",
      "n_required_iterations: 2\n",
      "n_possible_iterations: 2\n",
      "min_resources_: 1000\n",
      "max_resources_: 2000\n",
      "aggressive_elimination: False\n",
      "factor: 2.0\n",
      "----------\n",
      "iter: 0\n",
      "n_candidates: 2\n",
      "n_resources: 1000\n",
      "Fitting 5 folds for each of 2 candidates, totalling 10 fits\n",
      "----------\n",
      "iter: 1\n",
      "n_candidates: 1\n",
      "n_resources: 2000\n",
      "Fitting 5 folds for each of 1 candidates, totalling 5 fits\n",
      " \n",
      "n_iterations: 2\n",
      "n_required_iterations: 2\n",
      "n_possible_iterations: 2\n",
      "min_resources_: 1000\n",
      "max_resources_: 2000\n",
      "aggressive_elimination: False\n",
      "factor: 2.0\n",
      "----------\n",
      "iter: 0\n",
      "n_candidates: 2\n",
      "n_resources: 1000\n",
      "Fitting 5 folds for each of 2 candidates, totalling 10 fits\n",
      "----------\n",
      "iter: 1\n",
      "n_candidates: 1\n",
      "n_resources: 2000\n",
      "Fitting 5 folds for each of 1 candidates, totalling 5 fits\n",
      " \n",
      " \n",
      "AdaBoost classifier: \n",
      "Parameters:  {'clf__algorithm': 'SAMME.R', 'clf__learning_rate': 0.001819567616473989, 'clf__random_state': 67, 'clf__n_estimators': 2000}\n",
      " \n",
      "Train accuracy score:         0.7336859717784063\n",
      "Test accuracy score:          0.739559946115851\n",
      "Test balanced accuracy score: 0.739559946115851\n",
      "Test f1 score:                0.739559946115851\n",
      "Test roc auc score:           0.8021520159756402\n",
      " \n",
      "              precision    recall  f1-score   support\n",
      "\n",
      "        pass    0.66350   0.71854   0.68992      3592\n",
      "         run    0.79853   0.75376   0.77550      5316\n",
      "\n",
      "    accuracy                        0.73956      8908\n",
      "   macro avg    0.73101   0.73615   0.73271      8908\n",
      "weighted avg    0.74408   0.73956   0.74099      8908\n",
      "\n",
      "[[2581 1011]\n",
      " [1309 4007]]\n",
      " \n",
      "-----------------------\n",
      " \n",
      "Random Forest classifier: \n",
      "Parameters:  {'clf__bootstrap': True, 'clf__ccp_alpha': 0.004112363485239494, 'clf__criterion': 'gini', 'clf__max_depth': 9, 'clf__max_features': 0.2798008230298567, 'clf__min_impurity_decrease': 9.106416221317437e-07, 'clf__min_samples_leaf': 0.012670789699661794, 'clf__min_samples_split': 0.015986071983193174, 'clf__min_weight_fraction_leaf': 0.00999764668148106, 'clf__n_jobs': 6, 'clf__oob_score': True, 'clf__random_state': 67, 'clf__warm_start': True, 'clf__n_estimators': 2000}\n",
      " \n",
      "Train accuracy score:         0.7335473559818806\n",
      "Test accuracy score:          0.7383251010327795\n",
      "Test balanced accuracy score: 0.7383251010327795\n",
      "Test f1 score:                0.7383251010327795\n",
      "Test roc auc score:           0.804055910341684\n",
      " \n",
      "              precision    recall  f1-score   support\n",
      "\n",
      "        pass    0.66015   0.72355   0.69040      3592\n",
      "         run    0.80024   0.74831   0.77340      5316\n",
      "\n",
      "    accuracy                        0.73833      8908\n",
      "   macro avg    0.73019   0.73593   0.73190      8908\n",
      "weighted avg    0.74375   0.73833   0.73993      8908\n",
      "\n",
      "[[2599  993]\n",
      " [1338 3978]]\n",
      " \n",
      "-----------------------\n",
      " \n",
      "ExtraTrees classifier: \n",
      "Parameters:  {'clf__bootstrap': True, 'clf__ccp_alpha': 0.014005353466960604, 'clf__criterion': 'gini', 'clf__max_depth': 36, 'clf__max_features': 0.5578093538405019, 'clf__max_leaf_nodes': 53, 'clf__min_impurity_decrease': 3.96411930114887e-05, 'clf__min_samples_leaf': 0.12921015304952282, 'clf__min_samples_split': 0.035905666612043134, 'clf__min_weight_fraction_leaf': 0.24880683519453364, 'clf__n_jobs': 6, 'clf__oob_score': True, 'clf__random_state': 67, 'clf__warm_start': False, 'clf__n_estimators': 2000}\n",
      " \n",
      "Train accuracy score:         0.7333690655884785\n",
      "Test accuracy score:          0.7324876515491693\n",
      "Test balanced accuracy score: 0.7324876515491693\n",
      "Test f1 score:                0.7324876515491693\n",
      "Test roc auc score:           0.7849927981418452\n",
      " \n",
      "              precision    recall  f1-score   support\n",
      "\n",
      "        pass    0.68180   0.63112   0.65549      3592\n",
      "         run    0.76267   0.80098   0.78136      5316\n",
      "\n",
      "    accuracy                        0.73249      8908\n",
      "   macro avg    0.72224   0.71605   0.71842      8908\n",
      "weighted avg    0.73006   0.73249   0.73060      8908\n",
      "\n",
      "[[2267 1325]\n",
      " [1058 4258]]\n",
      " \n",
      "-----------------------\n",
      " \n",
      "GradientBoosting classifier: \n",
      "Parameters:  {'clf__ccp_alpha': 1.8211995819534176e-05, 'clf__criterion': 'friedman_mse', 'clf__learning_rate': 0.0003761693892248827, 'clf__loss': 'exponential', 'clf__max_depth': 59, 'clf__max_features': 0.4531920718375533, 'clf__max_leaf_nodes': 41, 'clf__min_impurity_decrease': 6.883261775055951e-08, 'clf__min_samples_leaf': 0.15019248856066603, 'clf__min_samples_split': 0.2418111766892731, 'clf__min_weight_fraction_leaf': 0.3821932278101374, 'clf__n_iter_no_change': 200, 'clf__random_state': 67, 'clf__subsample': 0.8561634438374421, 'clf__tol': 2.347606339495969e-05, 'clf__validation_fraction': 0.061368980136258265, 'clf__warm_start': True, 'clf__n_estimators': 2000}\n",
      " \n",
      "Train accuracy score:         0.7270295956244521\n",
      "Test accuracy score:          0.7322631342613382\n",
      "Test balanced accuracy score: 0.7322631342613382\n",
      "Test f1 score:                0.7322631342613382\n",
      "Test roc auc score:           0.7827061348603451\n",
      " \n",
      "              precision    recall  f1-score   support\n",
      "\n",
      "        pass    0.64817   0.73497   0.68885      3592\n",
      "         run    0.80310   0.73044   0.76505      5316\n",
      "\n",
      "    accuracy                        0.73226      8908\n",
      "   macro avg    0.72564   0.73270   0.72695      8908\n",
      "weighted avg    0.74063   0.73226   0.73432      8908\n",
      "\n",
      "[[2640  952]\n",
      " [1433 3883]]\n",
      " \n",
      "-----------------------\n",
      " \n"
     ]
    }
   ],
   "source": [
    "%%capture --no-stdout --no-display\n",
    "random_search()"
   ]
  },
  {
   "cell_type": "code",
   "execution_count": 24,
   "outputs": [
    {
     "name": "stdout",
     "output_type": "stream",
     "text": [
      "Total process time: 5.12 hours\n"
     ]
    }
   ],
   "source": [
    "# Calculate workbook processing time in hours\n",
    "end_time = time.time()\n",
    "total_time = end_time - start_time\n",
    "\n",
    "print('Total process time:', round(total_time / 3600, 2), 'hours')"
   ],
   "metadata": {
    "collapsed": false,
    "ExecuteTime": {
     "end_time": "2023-12-18T04:42:25.319785Z",
     "start_time": "2023-12-18T04:42:25.315913Z"
    }
   },
   "id": "d7e4b6574bc08686"
  },
  {
   "cell_type": "markdown",
   "source": [
    "## TEST RESULTS FROM SCALING METHODS"
   ],
   "metadata": {
    "collapsed": false
   },
   "id": "fb1540d2bf6bbb08"
  },
  {
   "cell_type": "raw",
   "source": [
    "ExtraTrees classifier: \n",
    " \n",
    " Parameters:  {'clf__bootstrap': True, 'clf__ccp_alpha': 0.014005353466960604, 'clf__criterion': 'gini', 'clf__max_depth': 36, 'clf__max_features': 0.5578093538405019, 'clf__max_leaf_nodes': 53, 'clf__min_impurity_decrease': 3.96411930114887e-05, 'clf__min_samples_leaf': 0.12921015304952282, 'clf__min_samples_split': 0.035905666612043134, 'clf__min_weight_fraction_leaf': 0.24880683519453364, 'clf__n_jobs': 6, 'clf__oob_score': True, 'clf__random_state': 67, 'clf__warm_start': False, 'clf__n_estimators': 2000, RobustScaler}\n",
    "Train accuracy score:         0.7333690655884785\n",
    "Test accuracy score:          0.7324876515491693\n",
    "\n",
    " Parameters:  {'clf__bootstrap': True, 'clf__ccp_alpha': 0.014005353466960604, 'clf__criterion': 'gini', 'clf__max_depth': 36, 'clf__max_features': 0.5578093538405019, 'clf__max_leaf_nodes': 53, 'clf__min_impurity_decrease': 3.96411930114887e-05, 'clf__min_samples_leaf': 0.12921015304952282, 'clf__min_samples_split': 0.035905666612043134, 'clf__min_weight_fraction_leaf': 0.24880683519453364, 'clf__n_jobs': 6, 'clf__oob_score': True, 'clf__random_state': 67, 'clf__warm_start': False, 'clf__n_estimators': 2000, MinMaxScaler}\n",
    "Train accuracy score:         0.7337256620740054\n",
    "Test accuracy score:          0.7320386169735069\n",
    "\n",
    " Parameters:  {'clf__bootstrap': True, 'clf__ccp_alpha': 0.014005353466960604, 'clf__criterion': 'gini', 'clf__max_depth': 36, 'clf__max_features': 0.5578093538405019, 'clf__max_leaf_nodes': 53, 'clf__min_impurity_decrease': 3.96411930114887e-05, 'clf__min_samples_leaf': 0.12921015304952282, 'clf__min_samples_split': 0.035905666612043134, 'clf__min_weight_fraction_leaf': 0.24880683519453364, 'clf__n_jobs': 6, 'clf__oob_score': True, 'clf__random_state': 67, 'clf__warm_start': False, 'clf__n_estimators': 2000, MaxAbsScaler}\n",
    "Train accuracy score:         0.7344190138219404\n",
    "Test accuracy score:          0.7338347552761563\n",
    "\n",
    " Parameters:  {'clf__bootstrap': True, 'clf__ccp_alpha': 0.014005353466960604, 'clf__criterion': 'gini', 'clf__max_depth': 36, 'clf__max_features': 0.5578093538405019, 'clf__max_leaf_nodes': 53, 'clf__min_impurity_decrease': 3.96411930114887e-05, 'clf__min_samples_leaf': 0.12921015304952282, 'clf__min_samples_split': 0.035905666612043134, 'clf__min_weight_fraction_leaf': 0.24880683519453364, 'clf__n_jobs': 6, 'clf__oob_score': True, 'clf__random_state': 67, 'clf__warm_start': False, 'clf__n_estimators': 2000, StandardScaler}\n",
    "Train accuracy score:         0.7341614841258441\n",
    "Test accuracy score:          0.7339470139200719\n",
    "\n",
    " \n",
    "#########################################################################################################################\n",
    " \n",
    "GradientBoosting classifier: \n",
    "\n",
    "Parameters:  {'clf__ccp_alpha': 1.8211995819534176e-05, 'clf__criterion': 'friedman_mse', 'clf__learning_rate': 0.0003761693892248827, 'clf__loss': 'exponential', 'clf__max_depth': 59, 'clf__max_features': 0.4531920718375533, 'clf__max_leaf_nodes': 41, 'clf__min_impurity_decrease': 6.883261775055951e-08, 'clf__min_samples_leaf': 0.15019248856066603, 'clf__min_samples_split': 0.2418111766892731, 'clf__min_weight_fraction_leaf': 0.3821932278101374, 'clf__n_iter_no_change': 200, 'clf__random_state': 67, 'clf__subsample': 0.8561634438374421, 'clf__tol': 2.347606339495969e-05, 'clf__validation_fraction': 0.061368980136258265, 'clf__warm_start': True, 'clf__n_estimators': 2000, RobustScaler}\n",
    "Train accuracy score:         0.7270295956244521\n",
    "Test accuracy score:          0.7322631342613382\n",
    "\n",
    "Parameters:  {'clf__ccp_alpha': 1.8211995819534176e-05, 'clf__criterion': 'friedman_mse', 'clf__learning_rate': 0.0003761693892248827, 'clf__loss': 'exponential', 'clf__max_depth': 59, 'clf__max_features': 0.4531920718375533, 'clf__max_leaf_nodes': 41, 'clf__min_impurity_decrease': 6.883261775055951e-08, 'clf__min_samples_leaf': 0.15019248856066603, 'clf__min_samples_split': 0.2418111766892731, 'clf__min_weight_fraction_leaf': 0.3821932278101374, 'clf__n_iter_no_change': 200, 'clf__random_state': 67, 'clf__subsample': 0.8561634438374421, 'clf__tol': 2.347606339495969e-05, 'clf__validation_fraction': 0.061368980136258265, 'clf__warm_start': True, 'clf__n_estimators': 2000, MinMaxScaler}\n",
    "Train accuracy score:         0.7208883279211987\n",
    "Test accuracy score:          0.7318140996856758\n",
    "\n",
    "Parameters:  {'clf__ccp_alpha': 1.8211995819534176e-05, 'clf__criterion': 'friedman_mse', 'clf__learning_rate': 0.0003761693892248827, 'clf__loss': 'exponential', 'clf__max_depth': 59, 'clf__max_features': 0.4531920718375533, 'clf__max_leaf_nodes': 41, 'clf__min_impurity_decrease': 6.883261775055951e-08, 'clf__min_samples_leaf': 0.15019248856066603, 'clf__min_samples_split': 0.2418111766892731, 'clf__min_weight_fraction_leaf': 0.3821932278101374, 'clf__n_iter_no_change': 200, 'clf__random_state': 67, 'clf__subsample': 0.8561634438374421, 'clf__tol': 2.347606339495969e-05, 'clf__validation_fraction': 0.061368980136258265, 'clf__warm_start': True, 'clf__n_estimators': 2000, MaxAbsScaler}\n",
    "Train accuracy score:         0.7193628967754039\n",
    "Test accuracy score:          0.7319263583295914\n",
    "\n",
    "Parameters:  {'clf__ccp_alpha': 1.8211995819534176e-05, 'clf__criterion': 'friedman_mse', 'clf__learning_rate': 0.0003761693892248827, 'clf__loss': 'exponential', 'clf__max_depth': 59, 'clf__max_features': 0.4531920718375533, 'clf__max_leaf_nodes': 41, 'clf__min_impurity_decrease': 6.883261775055951e-08, 'clf__min_samples_leaf': 0.15019248856066603, 'clf__min_samples_split': 0.2418111766892731, 'clf__min_weight_fraction_leaf': 0.3821932278101374, 'clf__n_iter_no_change': 200, 'clf__random_state': 67, 'clf__subsample': 0.8561634438374421, 'clf__tol': 2.347606339495969e-05, 'clf__validation_fraction': 0.061368980136258265, 'clf__warm_start': True, 'clf__n_estimators': 2000, StandardScaler}\n",
    "Train accuracy score:         0.7257815471719143\n",
    "Test accuracy score:          0.7322631342613382\n",
    "\n",
    "#########################################################################################################################\n",
    "\n",
    "Random Forest classifier: \n",
    "\n",
    "Parameters:  {'clf__bootstrap': True, 'clf__ccp_alpha': 0.004112363485239494, 'clf__criterion': 'gini', 'clf__max_depth': 9, 'clf__max_features': 0.2798008230298567, 'clf__min_impurity_decrease': 9.106416221317437e-07, 'clf__min_samples_leaf': 0.012670789699661794, 'clf__min_samples_split': 0.015986071983193174, 'clf__min_weight_fraction_leaf': 0.00999764668148106, 'clf__n_jobs': 6, 'clf__oob_score': True, 'clf__random_state': 67, 'clf__warm_start': True, 'clf__n_estimators': 2000, RobustScaler}\n",
    "Train accuracy score:         0.7335473559818806\n",
    "Test accuracy score:          0.7383251010327795\n",
    "\n",
    "Parameters:  {'clf__bootstrap': True, 'clf__ccp_alpha': 0.0005361140014825931, 'clf__criterion': 'gini', 'clf__max_depth': 10, 'clf__max_features': 0.23614145682895635, 'clf__min_impurity_decrease': 4.5494521864291655e-08, 'clf__min_samples_leaf': 0.006238645191614481, 'clf__min_samples_split': 0.020787879125554312, 'clf__min_weight_fraction_leaf': 0.010976120471026344, 'clf__n_jobs': 6, 'clf__oob_score': True, 'clf__random_state': 67, 'clf__warm_start': False, 'clf__n_estimators': 2000, MinMaxScaler}\n",
    "Train accuracy score:         0.7298030948461879\n",
    "Test accuracy score:          0.7360799281544679\n",
    "\n",
    "Parameters:  {'clf__bootstrap': True, 'clf__ccp_alpha': 0.004112363485239494, 'clf__criterion': 'gini', 'clf__max_depth': 9, 'clf__max_features': 0.2798008230298567, 'clf__min_impurity_decrease': 9.106416221317437e-07, 'clf__min_samples_leaf': 0.012670789699661794, 'clf__min_samples_split': 0.015986071983193174, 'clf__min_weight_fraction_leaf': 0.00999764668148106, 'clf__n_jobs': 6, 'clf__oob_score': True, 'clf__random_state': 67, 'clf__warm_start': True, 'clf__n_estimators': 2000, MaxAbsScaler}\n",
    "Train accuracy score:         0.7288720094914478\n",
    "Test accuracy score:          0.7325999101930849\n",
    "\n",
    "Parameters:  {'clf__bootstrap': True, 'clf__ccp_alpha': 0.0005361140014825931, 'clf__criterion': 'gini', 'clf__max_depth': 10, 'clf__max_features': 0.23614145682895635, 'clf__min_impurity_decrease': 4.5494521864291655e-08, 'clf__min_samples_leaf': 0.006238645191614481, 'clf__min_samples_split': 0.020787879125554312, 'clf__min_weight_fraction_leaf': 0.010976120471026344, 'clf__n_jobs': 6, 'clf__oob_score': True, 'clf__random_state': 67, 'clf__warm_start': False, 'clf__n_estimators': 2000, StandardScaler}\n",
    "Train accuracy score:         0.7296644103677504\n",
    "Test accuracy score:          0.7378760664571172\n",
    "\n",
    "#########################################################################################################################\n",
    "\n",
    "AdaBoost classifier: \n",
    "\n",
    "Parameters:  {'clf__algorithm': 'SAMME.R', 'clf__learning_rate': 0.001819567616473989, 'clf__random_state': 67, 'clf__n_estimators': 2000, RobustScaler}\n",
    "Train accuracy score:         0.7336859717784063\n",
    "Test accuracy score:          0.739559946115851\n",
    "\n",
    "Parameters:  {'clf__algorithm': 'SAMME.R', 'clf__learning_rate': 0.001819567616473989, 'clf__random_state': 67, 'clf__n_estimators': 2000, MinMaxScaler}\n",
    "Train accuracy score:         0.7276635512551521\n",
    "Test accuracy score:          0.7302424786708577\n",
    "\n",
    "Parameters:  {'clf__algorithm': 'SAMME.R', 'clf__learning_rate': 0.001819567616473989, 'clf__random_state': 67, 'clf__n_estimators': 2000, MaxAbsScaler}\n",
    "Train accuracy score:         0.7276041727989803\n",
    "Test accuracy score:          0.7308037718904355\n",
    "\n",
    "Parameters:  {'clf__algorithm': 'SAMME.R', 'clf__learning_rate': 0.0006327732420620172, 'clf__random_state': 67, 'clf__n_estimators': 2000, StandardScaler}\n",
    "Train accuracy score:         0.7254051467477349\n",
    "Test accuracy score:          0.7283340817242928\n"
   ],
   "metadata": {
    "collapsed": false
   },
   "id": "31d91f3312f47115"
  },
  {
   "cell_type": "code",
   "execution_count": 24,
   "outputs": [],
   "source": [],
   "metadata": {
    "collapsed": false,
    "ExecuteTime": {
     "end_time": "2023-12-18T04:42:25.327581Z",
     "start_time": "2023-12-18T04:42:25.320751Z"
    }
   },
   "id": "8b4ac4275dcfbe6"
  }
 ],
 "metadata": {
  "colab": {
   "name": "nfl_offensive_play_classification_v1.1.ipynb",
   "provenance": []
  },
  "kernelspec": {
   "display_name": "Python 3 (ipykernel)",
   "language": "python",
   "name": "python3"
  },
  "language_info": {
   "codemirror_mode": {
    "name": "ipython",
    "version": 3
   },
   "file_extension": ".py",
   "mimetype": "text/x-python",
   "name": "python",
   "nbconvert_exporter": "python",
   "pygments_lexer": "ipython3",
   "version": "3.9.6"
  }
 },
 "nbformat": 4,
 "nbformat_minor": 5
}
