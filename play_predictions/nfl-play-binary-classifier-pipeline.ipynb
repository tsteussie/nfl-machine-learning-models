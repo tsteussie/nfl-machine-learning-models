{
 "cells": [
  {
   "cell_type": "code",
   "execution_count": 1,
   "outputs": [],
   "source": [
    "import warnings\n",
    "\n",
    "import sklearn.metrics\n",
    "from numba.core.errors import NumbaDeprecationWarning, NumbaPendingDeprecationWarning\n",
    "warnings.simplefilter('ignore', category=UserWarning)\n",
    "warnings.filterwarnings('ignore',category=ImportWarning)\n",
    "warnings.filterwarnings('ignore',category=DeprecationWarning)\n",
    "warnings.simplefilter('ignore', category=NumbaDeprecationWarning)\n",
    "warnings.simplefilter('ignore', category=NumbaPendingDeprecationWarning)\n",
    "\n",
    "import pandas as pd\n",
    "import numpy as np\n",
    "import matplotlib.pyplot as plt\n",
    "\n",
    "import category_encoders as ce\n",
    "from scipy.stats import randint\n",
    "from imblearn.pipeline import Pipeline\n",
    "from imblearn.over_sampling import ADASYN\n",
    "from BorutaShap import BorutaShap\n",
    "\n",
    "from sklearn.impute import SimpleImputer\n",
    "from sklearn.preprocessing import StandardScaler, PowerTransformer, OrdinalEncoder, OneHotEncoder\n",
    "from sklearn.experimental import enable_halving_search_cv\n",
    "from sklearn.model_selection import train_test_split, HalvingRandomSearchCV\n",
    "from sklearn.compose import ColumnTransformer\n",
    "from sklearn.utils.fixes import loguniform\n",
    "from sklearn.metrics import accuracy_score, balanced_accuracy_score, f1_score, ConfusionMatrixDisplay, classification_report\n",
    "from sklearn.dummy import DummyClassifier\n",
    "from sklearn.ensemble import RandomForestClassifier, ExtraTreesClassifier, GradientBoostingClassifier\n",
    "import xgboost as xgb\n",
    "\n",
    "import joblib\n",
    "import operator"
   ],
   "metadata": {
    "collapsed": false,
    "ExecuteTime": {
     "end_time": "2023-07-13T04:33:21.523884Z",
     "start_time": "2023-07-13T04:33:19.303493Z"
    }
   }
  },
  {
   "cell_type": "markdown",
   "id": "c4f8e047",
   "metadata": {
    "pycharm": {
     "name": "#%% md\n"
    }
   },
   "source": [
    "## Import data from nfl-data-py\n",
    "##### https://pypi.org/project/nfl-data-py/"
   ]
  },
  {
   "cell_type": "code",
   "execution_count": 2,
   "outputs": [
    {
     "data": {
      "text/plain": "(34252, 83)"
     },
     "execution_count": 2,
     "metadata": {},
     "output_type": "execute_result"
    }
   ],
   "source": [
    "# Import csv file from nfl-data-py\n",
    "df = pd.read_csv(r'/Users/ttas2/Documents/Python/nfl-machine-learning-models/play_predictions/output_files/nfl_post_processing_run_pass_classification_data.csv')\n",
    "\n",
    "df.shape"
   ],
   "metadata": {
    "collapsed": false,
    "ExecuteTime": {
     "end_time": "2023-07-13T04:33:21.765357Z",
     "start_time": "2023-07-13T04:33:21.526432Z"
    }
   }
  },
  {
   "cell_type": "code",
   "execution_count": 3,
   "outputs": [
    {
     "name": "stdout",
     "output_type": "stream",
     "text": [
      "[]\n"
     ]
    }
   ],
   "source": [
    "# Print columns with missing values\n",
    "print(df.columns[df.isnull().any()].tolist())"
   ],
   "metadata": {
    "collapsed": false,
    "ExecuteTime": {
     "end_time": "2023-07-13T04:33:21.776438Z",
     "start_time": "2023-07-13T04:33:21.765653Z"
    }
   }
  },
  {
   "cell_type": "code",
   "execution_count": 4,
   "outputs": [
    {
     "data": {
      "text/plain": "<pandas.io.formats.style.Styler at 0x13dc91d80>",
      "text/html": "<style type=\"text/css\">\n</style>\n<table id=\"T_ae1a3\">\n  <thead>\n    <tr>\n      <th class=\"blank level0\" >&nbsp;</th>\n      <th id=\"T_ae1a3_level0_col0\" class=\"col_heading level0 col0\" >posteam</th>\n      <th id=\"T_ae1a3_level0_col1\" class=\"col_heading level0 col1\" >play_type</th>\n      <th id=\"T_ae1a3_level0_col2\" class=\"col_heading level0 col2\" >surface</th>\n      <th id=\"T_ae1a3_level0_col3\" class=\"col_heading level0 col3\" >drive_start</th>\n      <th id=\"T_ae1a3_level0_col4\" class=\"col_heading level0 col4\" >week</th>\n      <th id=\"T_ae1a3_level0_col5\" class=\"col_heading level0 col5\" >goal_to_go</th>\n      <th id=\"T_ae1a3_level0_col6\" class=\"col_heading level0 col6\" >shotgun</th>\n      <th id=\"T_ae1a3_level0_col7\" class=\"col_heading level0 col7\" >no_huddle</th>\n      <th id=\"T_ae1a3_level0_col8\" class=\"col_heading level0 col8\" >defteam_score</th>\n      <th id=\"T_ae1a3_level0_col9\" class=\"col_heading level0 col9\" >score_differential</th>\n      <th id=\"T_ae1a3_level0_col10\" class=\"col_heading level0 col10\" >no_score_prob</th>\n      <th id=\"T_ae1a3_level0_col11\" class=\"col_heading level0 col11\" >safety_prob</th>\n      <th id=\"T_ae1a3_level0_col12\" class=\"col_heading level0 col12\" >spread_line</th>\n      <th id=\"T_ae1a3_level0_col13\" class=\"col_heading level0 col13\" >div_game</th>\n      <th id=\"T_ae1a3_level0_col14\" class=\"col_heading level0 col14\" >play_sequence_game</th>\n      <th id=\"T_ae1a3_level0_col15\" class=\"col_heading level0 col15\" >run_formation</th>\n      <th id=\"T_ae1a3_level0_col16\" class=\"col_heading level0 col16\" >dtg_99to95</th>\n      <th id=\"T_ae1a3_level0_col17\" class=\"col_heading level0 col17\" >dtg_94to90</th>\n      <th id=\"T_ae1a3_level0_col18\" class=\"col_heading level0 col18\" >dtg_40to31</th>\n      <th id=\"T_ae1a3_level0_col19\" class=\"col_heading level0 col19\" >dtg_30to21</th>\n      <th id=\"T_ae1a3_level0_col20\" class=\"col_heading level0 col20\" >dtg_20to11</th>\n      <th id=\"T_ae1a3_level0_col21\" class=\"col_heading level0 col21\" >dtg_10to06</th>\n      <th id=\"T_ae1a3_level0_col22\" class=\"col_heading level0 col22\" >dtg_05to01</th>\n      <th id=\"T_ae1a3_level0_col23\" class=\"col_heading level0 col23\" >prev1_big_play_pass</th>\n      <th id=\"T_ae1a3_level0_col24\" class=\"col_heading level0 col24\" >prev2_big_play_pass</th>\n      <th id=\"T_ae1a3_level0_col25\" class=\"col_heading level0 col25\" >prev3_big_play_pass</th>\n      <th id=\"T_ae1a3_level0_col26\" class=\"col_heading level0 col26\" >prev1_big_play_run</th>\n      <th id=\"T_ae1a3_level0_col27\" class=\"col_heading level0 col27\" >prev2_big_play_run</th>\n      <th id=\"T_ae1a3_level0_col28\" class=\"col_heading level0 col28\" >prev3_big_play_run</th>\n      <th id=\"T_ae1a3_level0_col29\" class=\"col_heading level0 col29\" >prev1_negative_pass</th>\n      <th id=\"T_ae1a3_level0_col30\" class=\"col_heading level0 col30\" >prev2_negative_pass</th>\n      <th id=\"T_ae1a3_level0_col31\" class=\"col_heading level0 col31\" >prev3_negative_pass</th>\n      <th id=\"T_ae1a3_level0_col32\" class=\"col_heading level0 col32\" >prev1_negative_run</th>\n      <th id=\"T_ae1a3_level0_col33\" class=\"col_heading level0 col33\" >prev2_negative_run</th>\n      <th id=\"T_ae1a3_level0_col34\" class=\"col_heading level0 col34\" >prev3_negative_run</th>\n      <th id=\"T_ae1a3_level0_col35\" class=\"col_heading level0 col35\" >prev1_play_off_penalty</th>\n      <th id=\"T_ae1a3_level0_col36\" class=\"col_heading level0 col36\" >prev1_play_def_penalty</th>\n      <th id=\"T_ae1a3_level0_col37\" class=\"col_heading level0 col37\" >prev2_play_off_penalty</th>\n      <th id=\"T_ae1a3_level0_col38\" class=\"col_heading level0 col38\" >prev2_play_def_penalty</th>\n      <th id=\"T_ae1a3_level0_col39\" class=\"col_heading level0 col39\" >prev3_play_off_penalty</th>\n      <th id=\"T_ae1a3_level0_col40\" class=\"col_heading level0 col40\" >prev3_play_def_penalty</th>\n      <th id=\"T_ae1a3_level0_col41\" class=\"col_heading level0 col41\" >prev1_play_run_outside</th>\n      <th id=\"T_ae1a3_level0_col42\" class=\"col_heading level0 col42\" >prev1_play_run_inside</th>\n      <th id=\"T_ae1a3_level0_col43\" class=\"col_heading level0 col43\" >prev1_play_pass_deep</th>\n      <th id=\"T_ae1a3_level0_col44\" class=\"col_heading level0 col44\" >prev1_play_pass_short</th>\n      <th id=\"T_ae1a3_level0_col45\" class=\"col_heading level0 col45\" >prev2_play_run_outside</th>\n      <th id=\"T_ae1a3_level0_col46\" class=\"col_heading level0 col46\" >prev2_play_run_inside</th>\n      <th id=\"T_ae1a3_level0_col47\" class=\"col_heading level0 col47\" >prev2_play_pass_deep</th>\n      <th id=\"T_ae1a3_level0_col48\" class=\"col_heading level0 col48\" >prev2_play_pass_short</th>\n      <th id=\"T_ae1a3_level0_col49\" class=\"col_heading level0 col49\" >prev3_play_run_outside</th>\n      <th id=\"T_ae1a3_level0_col50\" class=\"col_heading level0 col50\" >prev3_play_run_inside</th>\n      <th id=\"T_ae1a3_level0_col51\" class=\"col_heading level0 col51\" >prev3_play_pass_deep</th>\n      <th id=\"T_ae1a3_level0_col52\" class=\"col_heading level0 col52\" >prev3_play_pass_short</th>\n      <th id=\"T_ae1a3_level0_col53\" class=\"col_heading level0 col53\" >prev1_incomplete_pass</th>\n      <th id=\"T_ae1a3_level0_col54\" class=\"col_heading level0 col54\" >prev2_incomplete_pass</th>\n      <th id=\"T_ae1a3_level0_col55\" class=\"col_heading level0 col55\" >prev3_incomplete_pass</th>\n      <th id=\"T_ae1a3_level0_col56\" class=\"col_heading level0 col56\" >prev3_yards_gained</th>\n      <th id=\"T_ae1a3_level0_col57\" class=\"col_heading level0 col57\" >prev1_wpa</th>\n      <th id=\"T_ae1a3_level0_col58\" class=\"col_heading level0 col58\" >prev2_wpa</th>\n      <th id=\"T_ae1a3_level0_col59\" class=\"col_heading level0 col59\" >prev3_wpa</th>\n      <th id=\"T_ae1a3_level0_col60\" class=\"col_heading level0 col60\" >prev1_shotgun</th>\n      <th id=\"T_ae1a3_level0_col61\" class=\"col_heading level0 col61\" >prev2_shotgun</th>\n      <th id=\"T_ae1a3_level0_col62\" class=\"col_heading level0 col62\" >prev3_shotgun</th>\n      <th id=\"T_ae1a3_level0_col63\" class=\"col_heading level0 col63\" >prev1_qb_hit</th>\n      <th id=\"T_ae1a3_level0_col64\" class=\"col_heading level0 col64\" >prev2_qb_hit</th>\n      <th id=\"T_ae1a3_level0_col65\" class=\"col_heading level0 col65\" >prev3_qb_hit</th>\n      <th id=\"T_ae1a3_level0_col66\" class=\"col_heading level0 col66\" >prev1_no_huddle</th>\n      <th id=\"T_ae1a3_level0_col67\" class=\"col_heading level0 col67\" >prev2_no_huddle</th>\n      <th id=\"T_ae1a3_level0_col68\" class=\"col_heading level0 col68\" >prev3_no_huddle</th>\n      <th id=\"T_ae1a3_level0_col69\" class=\"col_heading level0 col69\" >prev1_first_down_pass</th>\n      <th id=\"T_ae1a3_level0_col70\" class=\"col_heading level0 col70\" >prev2_first_down_pass</th>\n      <th id=\"T_ae1a3_level0_col71\" class=\"col_heading level0 col71\" >prev3_first_down_pass</th>\n      <th id=\"T_ae1a3_level0_col72\" class=\"col_heading level0 col72\" >prev1_first_down_run</th>\n      <th id=\"T_ae1a3_level0_col73\" class=\"col_heading level0 col73\" >prev2_first_down_run</th>\n      <th id=\"T_ae1a3_level0_col74\" class=\"col_heading level0 col74\" >prev3_first_down_run</th>\n      <th id=\"T_ae1a3_level0_col75\" class=\"col_heading level0 col75\" >prev1_effct_play</th>\n      <th id=\"T_ae1a3_level0_col76\" class=\"col_heading level0 col76\" >prev2_effct_play</th>\n      <th id=\"T_ae1a3_level0_col77\" class=\"col_heading level0 col77\" >prev3_effct_play</th>\n      <th id=\"T_ae1a3_level0_col78\" class=\"col_heading level0 col78\" >remaining_yards_per_down</th>\n      <th id=\"T_ae1a3_level0_col79\" class=\"col_heading level0 col79\" >two_min_warning</th>\n      <th id=\"T_ae1a3_level0_col80\" class=\"col_heading level0 col80\" >ep_sec_ratio</th>\n      <th id=\"T_ae1a3_level0_col81\" class=\"col_heading level0 col81\" >run_ratio_off_priors</th>\n      <th id=\"T_ae1a3_level0_col82\" class=\"col_heading level0 col82\" >run_ratio_def_priors</th>\n    </tr>\n  </thead>\n  <tbody>\n    <tr>\n      <th id=\"T_ae1a3_level0_row0\" class=\"row_heading level0 row0\" >17798</th>\n      <td id=\"T_ae1a3_row0_col0\" class=\"data row0 col0\" >LA</td>\n      <td id=\"T_ae1a3_row0_col1\" class=\"data row0 col1\" >pass</td>\n      <td id=\"T_ae1a3_row0_col2\" class=\"data row0 col2\" >grass</td>\n      <td id=\"T_ae1a3_row0_col3\" class=\"data row0 col3\" >punt</td>\n      <td id=\"T_ae1a3_row0_col4\" class=\"data row0 col4\" >14</td>\n      <td id=\"T_ae1a3_row0_col5\" class=\"data row0 col5\" >0</td>\n      <td id=\"T_ae1a3_row0_col6\" class=\"data row0 col6\" >1</td>\n      <td id=\"T_ae1a3_row0_col7\" class=\"data row0 col7\" >1</td>\n      <td id=\"T_ae1a3_row0_col8\" class=\"data row0 col8\" >3</td>\n      <td id=\"T_ae1a3_row0_col9\" class=\"data row0 col9\" >4</td>\n      <td id=\"T_ae1a3_row0_col10\" class=\"data row0 col10\" >0.105610</td>\n      <td id=\"T_ae1a3_row0_col11\" class=\"data row0 col11\" >0.004140</td>\n      <td id=\"T_ae1a3_row0_col12\" class=\"data row0 col12\" >3.000000</td>\n      <td id=\"T_ae1a3_row0_col13\" class=\"data row0 col13\" >1</td>\n      <td id=\"T_ae1a3_row0_col14\" class=\"data row0 col14\" >101</td>\n      <td id=\"T_ae1a3_row0_col15\" class=\"data row0 col15\" >0</td>\n      <td id=\"T_ae1a3_row0_col16\" class=\"data row0 col16\" >0</td>\n      <td id=\"T_ae1a3_row0_col17\" class=\"data row0 col17\" >0</td>\n      <td id=\"T_ae1a3_row0_col18\" class=\"data row0 col18\" >0</td>\n      <td id=\"T_ae1a3_row0_col19\" class=\"data row0 col19\" >0</td>\n      <td id=\"T_ae1a3_row0_col20\" class=\"data row0 col20\" >0</td>\n      <td id=\"T_ae1a3_row0_col21\" class=\"data row0 col21\" >0</td>\n      <td id=\"T_ae1a3_row0_col22\" class=\"data row0 col22\" >0</td>\n      <td id=\"T_ae1a3_row0_col23\" class=\"data row0 col23\" >0</td>\n      <td id=\"T_ae1a3_row0_col24\" class=\"data row0 col24\" >0</td>\n      <td id=\"T_ae1a3_row0_col25\" class=\"data row0 col25\" >0</td>\n      <td id=\"T_ae1a3_row0_col26\" class=\"data row0 col26\" >1</td>\n      <td id=\"T_ae1a3_row0_col27\" class=\"data row0 col27\" >0</td>\n      <td id=\"T_ae1a3_row0_col28\" class=\"data row0 col28\" >0</td>\n      <td id=\"T_ae1a3_row0_col29\" class=\"data row0 col29\" >0</td>\n      <td id=\"T_ae1a3_row0_col30\" class=\"data row0 col30\" >0</td>\n      <td id=\"T_ae1a3_row0_col31\" class=\"data row0 col31\" >0</td>\n      <td id=\"T_ae1a3_row0_col32\" class=\"data row0 col32\" >0</td>\n      <td id=\"T_ae1a3_row0_col33\" class=\"data row0 col33\" >0</td>\n      <td id=\"T_ae1a3_row0_col34\" class=\"data row0 col34\" >0</td>\n      <td id=\"T_ae1a3_row0_col35\" class=\"data row0 col35\" >0</td>\n      <td id=\"T_ae1a3_row0_col36\" class=\"data row0 col36\" >0</td>\n      <td id=\"T_ae1a3_row0_col37\" class=\"data row0 col37\" >0</td>\n      <td id=\"T_ae1a3_row0_col38\" class=\"data row0 col38\" >0</td>\n      <td id=\"T_ae1a3_row0_col39\" class=\"data row0 col39\" >0</td>\n      <td id=\"T_ae1a3_row0_col40\" class=\"data row0 col40\" >0</td>\n      <td id=\"T_ae1a3_row0_col41\" class=\"data row0 col41\" >0</td>\n      <td id=\"T_ae1a3_row0_col42\" class=\"data row0 col42\" >1</td>\n      <td id=\"T_ae1a3_row0_col43\" class=\"data row0 col43\" >0</td>\n      <td id=\"T_ae1a3_row0_col44\" class=\"data row0 col44\" >0</td>\n      <td id=\"T_ae1a3_row0_col45\" class=\"data row0 col45\" >0</td>\n      <td id=\"T_ae1a3_row0_col46\" class=\"data row0 col46\" >0</td>\n      <td id=\"T_ae1a3_row0_col47\" class=\"data row0 col47\" >0</td>\n      <td id=\"T_ae1a3_row0_col48\" class=\"data row0 col48\" >0</td>\n      <td id=\"T_ae1a3_row0_col49\" class=\"data row0 col49\" >0</td>\n      <td id=\"T_ae1a3_row0_col50\" class=\"data row0 col50\" >0</td>\n      <td id=\"T_ae1a3_row0_col51\" class=\"data row0 col51\" >1</td>\n      <td id=\"T_ae1a3_row0_col52\" class=\"data row0 col52\" >0</td>\n      <td id=\"T_ae1a3_row0_col53\" class=\"data row0 col53\" >0</td>\n      <td id=\"T_ae1a3_row0_col54\" class=\"data row0 col54\" >0</td>\n      <td id=\"T_ae1a3_row0_col55\" class=\"data row0 col55\" >1</td>\n      <td id=\"T_ae1a3_row0_col56\" class=\"data row0 col56\" >0.000000</td>\n      <td id=\"T_ae1a3_row0_col57\" class=\"data row0 col57\" >-0.000145</td>\n      <td id=\"T_ae1a3_row0_col58\" class=\"data row0 col58\" >-0.027327</td>\n      <td id=\"T_ae1a3_row0_col59\" class=\"data row0 col59\" >-0.013763</td>\n      <td id=\"T_ae1a3_row0_col60\" class=\"data row0 col60\" >1</td>\n      <td id=\"T_ae1a3_row0_col61\" class=\"data row0 col61\" >1</td>\n      <td id=\"T_ae1a3_row0_col62\" class=\"data row0 col62\" >1</td>\n      <td id=\"T_ae1a3_row0_col63\" class=\"data row0 col63\" >0</td>\n      <td id=\"T_ae1a3_row0_col64\" class=\"data row0 col64\" >0</td>\n      <td id=\"T_ae1a3_row0_col65\" class=\"data row0 col65\" >0</td>\n      <td id=\"T_ae1a3_row0_col66\" class=\"data row0 col66\" >0</td>\n      <td id=\"T_ae1a3_row0_col67\" class=\"data row0 col67\" >0</td>\n      <td id=\"T_ae1a3_row0_col68\" class=\"data row0 col68\" >1</td>\n      <td id=\"T_ae1a3_row0_col69\" class=\"data row0 col69\" >0</td>\n      <td id=\"T_ae1a3_row0_col70\" class=\"data row0 col70\" >0</td>\n      <td id=\"T_ae1a3_row0_col71\" class=\"data row0 col71\" >0</td>\n      <td id=\"T_ae1a3_row0_col72\" class=\"data row0 col72\" >0</td>\n      <td id=\"T_ae1a3_row0_col73\" class=\"data row0 col73\" >0</td>\n      <td id=\"T_ae1a3_row0_col74\" class=\"data row0 col74\" >0</td>\n      <td id=\"T_ae1a3_row0_col75\" class=\"data row0 col75\" >1</td>\n      <td id=\"T_ae1a3_row0_col76\" class=\"data row0 col76\" >0</td>\n      <td id=\"T_ae1a3_row0_col77\" class=\"data row0 col77\" >0</td>\n      <td id=\"T_ae1a3_row0_col78\" class=\"data row0 col78\" >8.000000</td>\n      <td id=\"T_ae1a3_row0_col79\" class=\"data row0 col79\" >0</td>\n      <td id=\"T_ae1a3_row0_col80\" class=\"data row0 col80\" >0.001607</td>\n      <td id=\"T_ae1a3_row0_col81\" class=\"data row0 col81\" >0.083333</td>\n      <td id=\"T_ae1a3_row0_col82\" class=\"data row0 col82\" >0.111111</td>\n    </tr>\n    <tr>\n      <th id=\"T_ae1a3_level0_row1\" class=\"row_heading level0 row1\" >20661</th>\n      <td id=\"T_ae1a3_row1_col0\" class=\"data row1 col0\" >MIA</td>\n      <td id=\"T_ae1a3_row1_col1\" class=\"data row1 col1\" >run</td>\n      <td id=\"T_ae1a3_row1_col2\" class=\"data row1 col2\" >grass</td>\n      <td id=\"T_ae1a3_row1_col3\" class=\"data row1 col3\" >punt</td>\n      <td id=\"T_ae1a3_row1_col4\" class=\"data row1 col4\" >3</td>\n      <td id=\"T_ae1a3_row1_col5\" class=\"data row1 col5\" >0</td>\n      <td id=\"T_ae1a3_row1_col6\" class=\"data row1 col6\" >0</td>\n      <td id=\"T_ae1a3_row1_col7\" class=\"data row1 col7\" >0</td>\n      <td id=\"T_ae1a3_row1_col8\" class=\"data row1 col8\" >25</td>\n      <td id=\"T_ae1a3_row1_col9\" class=\"data row1 col9\" >-8</td>\n      <td id=\"T_ae1a3_row1_col10\" class=\"data row1 col10\" >0.370822</td>\n      <td id=\"T_ae1a3_row1_col11\" class=\"data row1 col11\" >0.001897</td>\n      <td id=\"T_ae1a3_row1_col12\" class=\"data row1 col12\" >4.000000</td>\n      <td id=\"T_ae1a3_row1_col13\" class=\"data row1 col13\" >0</td>\n      <td id=\"T_ae1a3_row1_col14\" class=\"data row1 col14\" >125</td>\n      <td id=\"T_ae1a3_row1_col15\" class=\"data row1 col15\" >0</td>\n      <td id=\"T_ae1a3_row1_col16\" class=\"data row1 col16\" >0</td>\n      <td id=\"T_ae1a3_row1_col17\" class=\"data row1 col17\" >0</td>\n      <td id=\"T_ae1a3_row1_col18\" class=\"data row1 col18\" >0</td>\n      <td id=\"T_ae1a3_row1_col19\" class=\"data row1 col19\" >0</td>\n      <td id=\"T_ae1a3_row1_col20\" class=\"data row1 col20\" >0</td>\n      <td id=\"T_ae1a3_row1_col21\" class=\"data row1 col21\" >0</td>\n      <td id=\"T_ae1a3_row1_col22\" class=\"data row1 col22\" >0</td>\n      <td id=\"T_ae1a3_row1_col23\" class=\"data row1 col23\" >0</td>\n      <td id=\"T_ae1a3_row1_col24\" class=\"data row1 col24\" >0</td>\n      <td id=\"T_ae1a3_row1_col25\" class=\"data row1 col25\" >0</td>\n      <td id=\"T_ae1a3_row1_col26\" class=\"data row1 col26\" >0</td>\n      <td id=\"T_ae1a3_row1_col27\" class=\"data row1 col27\" >0</td>\n      <td id=\"T_ae1a3_row1_col28\" class=\"data row1 col28\" >0</td>\n      <td id=\"T_ae1a3_row1_col29\" class=\"data row1 col29\" >0</td>\n      <td id=\"T_ae1a3_row1_col30\" class=\"data row1 col30\" >0</td>\n      <td id=\"T_ae1a3_row1_col31\" class=\"data row1 col31\" >0</td>\n      <td id=\"T_ae1a3_row1_col32\" class=\"data row1 col32\" >0</td>\n      <td id=\"T_ae1a3_row1_col33\" class=\"data row1 col33\" >0</td>\n      <td id=\"T_ae1a3_row1_col34\" class=\"data row1 col34\" >0</td>\n      <td id=\"T_ae1a3_row1_col35\" class=\"data row1 col35\" >0</td>\n      <td id=\"T_ae1a3_row1_col36\" class=\"data row1 col36\" >0</td>\n      <td id=\"T_ae1a3_row1_col37\" class=\"data row1 col37\" >0</td>\n      <td id=\"T_ae1a3_row1_col38\" class=\"data row1 col38\" >0</td>\n      <td id=\"T_ae1a3_row1_col39\" class=\"data row1 col39\" >0</td>\n      <td id=\"T_ae1a3_row1_col40\" class=\"data row1 col40\" >0</td>\n      <td id=\"T_ae1a3_row1_col41\" class=\"data row1 col41\" >0</td>\n      <td id=\"T_ae1a3_row1_col42\" class=\"data row1 col42\" >1</td>\n      <td id=\"T_ae1a3_row1_col43\" class=\"data row1 col43\" >0</td>\n      <td id=\"T_ae1a3_row1_col44\" class=\"data row1 col44\" >0</td>\n      <td id=\"T_ae1a3_row1_col45\" class=\"data row1 col45\" >0</td>\n      <td id=\"T_ae1a3_row1_col46\" class=\"data row1 col46\" >0</td>\n      <td id=\"T_ae1a3_row1_col47\" class=\"data row1 col47\" >0</td>\n      <td id=\"T_ae1a3_row1_col48\" class=\"data row1 col48\" >1</td>\n      <td id=\"T_ae1a3_row1_col49\" class=\"data row1 col49\" >0</td>\n      <td id=\"T_ae1a3_row1_col50\" class=\"data row1 col50\" >0</td>\n      <td id=\"T_ae1a3_row1_col51\" class=\"data row1 col51\" >1</td>\n      <td id=\"T_ae1a3_row1_col52\" class=\"data row1 col52\" >0</td>\n      <td id=\"T_ae1a3_row1_col53\" class=\"data row1 col53\" >0</td>\n      <td id=\"T_ae1a3_row1_col54\" class=\"data row1 col54\" >0</td>\n      <td id=\"T_ae1a3_row1_col55\" class=\"data row1 col55\" >0</td>\n      <td id=\"T_ae1a3_row1_col56\" class=\"data row1 col56\" >0.000000</td>\n      <td id=\"T_ae1a3_row1_col57\" class=\"data row1 col57\" >0.001734</td>\n      <td id=\"T_ae1a3_row1_col58\" class=\"data row1 col58\" >-0.002802</td>\n      <td id=\"T_ae1a3_row1_col59\" class=\"data row1 col59\" >0.036108</td>\n      <td id=\"T_ae1a3_row1_col60\" class=\"data row1 col60\" >1</td>\n      <td id=\"T_ae1a3_row1_col61\" class=\"data row1 col61\" >1</td>\n      <td id=\"T_ae1a3_row1_col62\" class=\"data row1 col62\" >1</td>\n      <td id=\"T_ae1a3_row1_col63\" class=\"data row1 col63\" >0</td>\n      <td id=\"T_ae1a3_row1_col64\" class=\"data row1 col64\" >0</td>\n      <td id=\"T_ae1a3_row1_col65\" class=\"data row1 col65\" >0</td>\n      <td id=\"T_ae1a3_row1_col66\" class=\"data row1 col66\" >0</td>\n      <td id=\"T_ae1a3_row1_col67\" class=\"data row1 col67\" >0</td>\n      <td id=\"T_ae1a3_row1_col68\" class=\"data row1 col68\" >0</td>\n      <td id=\"T_ae1a3_row1_col69\" class=\"data row1 col69\" >0</td>\n      <td id=\"T_ae1a3_row1_col70\" class=\"data row1 col70\" >0</td>\n      <td id=\"T_ae1a3_row1_col71\" class=\"data row1 col71\" >0</td>\n      <td id=\"T_ae1a3_row1_col72\" class=\"data row1 col72\" >0</td>\n      <td id=\"T_ae1a3_row1_col73\" class=\"data row1 col73\" >0</td>\n      <td id=\"T_ae1a3_row1_col74\" class=\"data row1 col74\" >0</td>\n      <td id=\"T_ae1a3_row1_col75\" class=\"data row1 col75\" >1</td>\n      <td id=\"T_ae1a3_row1_col76\" class=\"data row1 col76\" >1</td>\n      <td id=\"T_ae1a3_row1_col77\" class=\"data row1 col77\" >0</td>\n      <td id=\"T_ae1a3_row1_col78\" class=\"data row1 col78\" >1.000000</td>\n      <td id=\"T_ae1a3_row1_col79\" class=\"data row1 col79\" >0</td>\n      <td id=\"T_ae1a3_row1_col80\" class=\"data row1 col80\" >0.006492</td>\n      <td id=\"T_ae1a3_row1_col81\" class=\"data row1 col81\" >0.350000</td>\n      <td id=\"T_ae1a3_row1_col82\" class=\"data row1 col82\" >0.500000</td>\n    </tr>\n  </tbody>\n</table>\n"
     },
     "execution_count": 4,
     "metadata": {},
     "output_type": "execute_result"
    }
   ],
   "source": [
    "# Convert binary columns to integers\n",
    "binary_columns = df.columns[df.isin([0,1]).all()].tolist()\n",
    "df[binary_columns] = df[binary_columns].apply(pd.to_numeric, downcast='integer', errors='coerce', axis=1)\n",
    "\n",
    "df.sample(2).style"
   ],
   "metadata": {
    "collapsed": false,
    "ExecuteTime": {
     "end_time": "2023-07-13T04:33:28.296596Z",
     "start_time": "2023-07-13T04:33:21.792149Z"
    }
   }
  },
  {
   "cell_type": "code",
   "execution_count": 5,
   "id": "4c9bcb28",
   "metadata": {
    "pycharm": {
     "name": "#%%\n"
    },
    "ExecuteTime": {
     "end_time": "2023-07-13T04:33:28.307551Z",
     "start_time": "2023-07-13T04:33:28.303695Z"
    }
   },
   "outputs": [
    {
     "data": {
      "text/plain": "play_type\npass    0.595702\nrun     0.404298\nName: proportion, dtype: float64"
     },
     "execution_count": 5,
     "metadata": {},
     "output_type": "execute_result"
    }
   ],
   "source": [
    "# Target frequency\n",
    "target_count = df.play_type.value_counts(normalize=True)\n",
    "target_count"
   ]
  },
  {
   "cell_type": "code",
   "execution_count": 6,
   "outputs": [],
   "source": [
    "df['play_type'] = np.where(df['play_type'] == 'pass', 1, 0)"
   ],
   "metadata": {
    "collapsed": false,
    "ExecuteTime": {
     "end_time": "2023-07-13T04:33:28.313123Z",
     "start_time": "2023-07-13T04:33:28.311083Z"
    }
   }
  },
  {
   "cell_type": "markdown",
   "source": [
    "## Train test split data\n",
    "##### https://scikit-learn.org/stable/modules/generated/sklearn.model_selection.train_test_split.html"
   ],
   "metadata": {
    "collapsed": false
   }
  },
  {
   "cell_type": "code",
   "execution_count": 7,
   "id": "4943bbf5",
   "metadata": {
    "pycharm": {
     "name": "#%%\n"
    },
    "ExecuteTime": {
     "end_time": "2023-07-13T04:33:28.356090Z",
     "start_time": "2023-07-13T04:33:28.328934Z"
    }
   },
   "outputs": [
    {
     "name": "stdout",
     "output_type": "stream",
     "text": [
      "82 features before feature selection\n"
     ]
    }
   ],
   "source": [
    "# split data into target and feature datasets\n",
    "X, y = df.loc[:, df.columns != 'play_type'], df['play_type']\n",
    "\n",
    "initial_features = X.columns.to_list()\n",
    "\n",
    "# Create train and test datasets\n",
    "X_train, X_test, y_train, y_test = train_test_split(X, y, test_size=0.25, random_state=67)\n",
    "\n",
    "print(X_train.shape[1], 'features before feature selection')"
   ]
  },
  {
   "cell_type": "markdown",
   "source": [
    "## Encode categorical features\n",
    "##### https://contrib.scikit-learn.org/category_encoders/leaveoneout.html"
   ],
   "metadata": {
    "collapsed": false
   }
  },
  {
   "cell_type": "code",
   "execution_count": 8,
   "outputs": [
    {
     "name": "stdout",
     "output_type": "stream",
     "text": [
      "82 features after categorical encoding\n"
     ]
    }
   ],
   "source": [
    "# Create list of features for each dtype\n",
    "categorical_feat = list(X_train.select_dtypes(include='object'))\n",
    "\n",
    "# One hot encoding of categorical features\n",
    "# encoder = ce.OneHotEncoder(return_df=True, cols=categorical_feat, use_cat_names=True)\n",
    "\n",
    "# Encoded column represents mean response over all rows for this category, providing one-column representation while avoiding direct response leakage\n",
    "encoder = ce.LeaveOneOutEncoder(return_df=True, cols=categorical_feat)\n",
    "\n",
    "X_train = encoder.fit_transform(X_train, y_train)\n",
    "X_test = encoder.transform(X_test)\n",
    "\n",
    "print(X_train.shape[1], 'features after categorical encoding')"
   ],
   "metadata": {
    "collapsed": false,
    "ExecuteTime": {
     "end_time": "2023-07-13T04:33:28.446253Z",
     "start_time": "2023-07-13T04:33:28.356467Z"
    }
   }
  },
  {
   "cell_type": "markdown",
   "source": [
    "## BorutaShap Feature selection\n",
    "##### https://pypi.org/project/BorutaShap/\n",
    "##### https://scikit-learn.org/stable/modules/generated/sklearn.ensemble.GradientBoostingClassifier.html"
   ],
   "metadata": {
    "collapsed": false
   }
  },
  {
   "cell_type": "code",
   "execution_count": 9,
   "outputs": [],
   "source": [
    "# Specify feature selection model\n",
    "feature_model = GradientBoostingClassifier(loss='log_loss',\n",
    "                                           n_estimators=300,\n",
    "                                           max_depth=40,\n",
    "                                           max_features=0.4,\n",
    "                                           max_leaf_nodes=30,\n",
    "                                           subsample=0.5,\n",
    "                                           tol=1e-06,\n",
    "                                           learning_rate=0.05,\n",
    "                                           min_samples_split=0.05,\n",
    "                                           criterion='friedman_mse',\n",
    "                                           random_state=67,\n",
    "                                           )"
   ],
   "metadata": {
    "collapsed": false,
    "ExecuteTime": {
     "end_time": "2023-07-13T04:33:28.450898Z",
     "start_time": "2023-07-13T04:33:28.448266Z"
    }
   }
  },
  {
   "cell_type": "code",
   "execution_count": null,
   "outputs": [
    {
     "data": {
      "text/plain": "  0%|          | 0/300 [00:00<?, ?it/s]",
      "application/vnd.jupyter.widget-view+json": {
       "version_major": 2,
       "version_minor": 0,
       "model_id": "e077b9862b704993bb24a521ec5c7818"
      }
     },
     "metadata": {},
     "output_type": "display_data"
    }
   ],
   "source": [
    "# no model selected default is Random Forest\n",
    "Feature_Selector = BorutaShap(model=feature_model,\n",
    "                              importance_measure='shap',\n",
    "                              classification=True,\n",
    "                              percentile=100,\n",
    "                              pvalue=0.05,\n",
    "                              )\n",
    "\n",
    "Feature_Selector.fit(X=X_train,\n",
    "                     y=y_train,\n",
    "                     n_trials=300,\n",
    "                     sample=False,\n",
    "                     train_or_test='test',\n",
    "                     normalize=True,\n",
    "                     verbose=True,\n",
    "                     random_state=67,\n",
    "                     )"
   ],
   "metadata": {
    "collapsed": false,
    "is_executing": true,
    "ExecuteTime": {
     "start_time": "2023-07-13T04:33:28.453728Z"
    }
   }
  },
  {
   "cell_type": "code",
   "execution_count": null,
   "outputs": [],
   "source": [
    "Feature_Selector.plot(which_features='all')"
   ],
   "metadata": {
    "collapsed": false,
    "is_executing": true
   }
  },
  {
   "cell_type": "code",
   "execution_count": null,
   "outputs": [],
   "source": [
    "# Drops features that were identified by BorutaShap as not important\n",
    "features_to_remove = Feature_Selector.features_to_remove\n",
    "\n",
    "X_train = X_train.drop(columns=features_to_remove)\n",
    "X_test = X_test.drop(columns=features_to_remove)\n",
    "\n",
    "# Print the shape of the new datasets\n",
    "print('Training features:', X_train.shape[1])\n",
    "print('Testing features:', X_test.shape[1])\n",
    "print('Remaining features:', X_train.columns.to_list())"
   ],
   "metadata": {
    "collapsed": false,
    "is_executing": true
   }
  },
  {
   "cell_type": "markdown",
   "id": "4b6cd4c3",
   "metadata": {
    "pycharm": {
     "name": "#%% md\n"
    }
   },
   "source": [
    "## Baseline model\n",
    "##### https://scikit-learn.org/stable/modules/generated/sklearn.dummy.DummyClassifier.html"
   ]
  },
  {
   "cell_type": "code",
   "execution_count": null,
   "id": "28e9513e",
   "metadata": {
    "pycharm": {
     "name": "#%%\n"
    },
    "is_executing": true
   },
   "outputs": [],
   "source": [
    "# Create and fit baseline model to compare performance\n",
    "baseline_model = DummyClassifier(strategy='most_frequent', random_state=67)\n",
    "baseline_model.fit(X_train, y_train)\n",
    "\n",
    "# Calculate model accuracy on test data\n",
    "y_baseline_pred = baseline_model.predict(X_test)\n",
    "accuracy_score(y_test, y_baseline_pred)\n",
    "print(f\"Baseline test accuracy: {(round(accuracy_score(y_test,y_baseline_pred),3)*100)}%\")"
   ]
  },
  {
   "cell_type": "markdown",
   "source": [
    "## Model pipeline\n",
    "##### https://scikit-learn.org/stable/modules/generated/sklearn.compose.ColumnTransformer.html\n",
    "##### https://scikit-learn.org/stable/modules/generated/sklearn.impute.SimpleImputer.html\n",
    "##### https://scikit-learn.org/stable/modules/generated/sklearn.preprocessing.PowerTransformer.html\n",
    "##### https://www.statsmodels.org/dev/generated/statsmodels.stats.outliers_influence.variance_inflation_factor.html\n",
    "##### https://imbalanced-learn.org/stable/references/over_sampling.html\n",
    "##### https://scikit-learn.org/stable/modules/generated/sklearn.model_selection.HalvingRandomSearchCV.html\n",
    "##### https://scikit-learn.org/stable/modules/generated/sklearn.metrics.f1_score.html\n",
    "##### https://scikit-learn.org/stable/modules/generated/sklearn.ensemble.GradientBoostingClassifier.html\n",
    "##### https://scikit-learn.org/stable/modules/generated/sklearn.ensemble.RandomForestClassifier.html\n",
    "##### https://scikit-learn.org/stable/modules/generated/sklearn.ensemble.ExtraTreesClassifier.html\n",
    "##### https://xgboost.readthedocs.io/en/stable/parameter.html"
   ],
   "metadata": {
    "collapsed": false
   }
  },
  {
   "cell_type": "code",
   "execution_count": null,
   "outputs": [],
   "source": [
    "# Create feature type lists for column transform stage of the pipeline\n",
    "ordinal_features = X_train.columns[X_train.isin([1,2,3,4,5,6,7,8,9,10,11,12,13,14,15,16,17,18,19,20,21,22,23,24,25]).all()].tolist()\n",
    "categorical_features = list(X_train.select_dtypes(include='object'))\n",
    "boolean_features = X_train.columns[X_train.isin([0, 1]).all()].tolist()\n",
    "\n",
    "numeric_features = [x for x in X_train.columns if x not in ordinal_features]\n",
    "numeric_features = [x for x in numeric_features if x not in categorical_features]\n",
    "numeric_features = [x for x in numeric_features if x not in boolean_features]\n",
    "\n",
    "# print('categorical features:', len(categorical_features), ':', categorical_features)\n",
    "print('ordinal features:', len(ordinal_features), ':', ordinal_features)\n",
    "print('boolean features:', len(boolean_features), ':', boolean_features)\n",
    "print('numeric features:', len(numeric_features), ':', numeric_features)"
   ],
   "metadata": {
    "collapsed": false,
    "is_executing": true
   }
  },
  {
   "cell_type": "code",
   "execution_count": null,
   "id": "3e4ff9bb",
   "metadata": {
    "pycharm": {
     "name": "#%%\n"
    },
    "is_executing": true
   },
   "outputs": [],
   "source": [
    "# Outlier removal\n",
    "def IQR_Outliers(x, features):\n",
    "\n",
    "    out_index_list = []\n",
    "        \n",
    "    for col in features:\n",
    "        q1 = np.nanpercentile(x[col], 25.)\n",
    "        q3 = np.nanpercentile(x[col], 75.)\n",
    "        \n",
    "        cut_off = (q3 - q1) * 1.5\n",
    "        upper, lower = q3 + cut_off, q1 - cut_off\n",
    "                \n",
    "        outliers_index = x[col][(x[col] < lower) | (x[col] > upper)].index.tolist()\n",
    "        out_index_list.extend(outliers_index)\n",
    "        \n",
    "    # Remove duplicates\n",
    "    list(set(out_index_list)).sort()"
   ]
  },
  {
   "cell_type": "code",
   "execution_count": null,
   "id": "58cc5161",
   "metadata": {
    "pycharm": {
     "name": "#%%\n"
    },
    "is_executing": true
   },
   "outputs": [],
   "source": [
    "# Specify the transformations per data type\n",
    "num_trans = Pipeline(steps=[('simple_imputer', SimpleImputer(missing_values=np.nan, strategy='median')),\n",
    "                            ('iqr_outlier', IQR_Outliers(X_train, numeric_features)),\n",
    "                            ('power_trans', PowerTransformer(method='yeo-johnson', copy=False)),\n",
    "                            ('std_scaler', StandardScaler()),\n",
    "                           ])\n",
    "\n",
    "cat_trans = Pipeline(steps=[('simple_imputer', SimpleImputer(missing_values=np.nan, strategy='most_frequent')),\n",
    "                            ('onehot_encoder', OneHotEncoder(sparse=False, handle_unknown='raise')),\n",
    "                           ])\n",
    "\n",
    "ord_trans = Pipeline(steps=[('simple_imputer', SimpleImputer(missing_values=np.nan, strategy='most_frequent')),\n",
    "                            ('ordinal_encoder', OrdinalEncoder()),\n",
    "                            ('std_scaler', StandardScaler()),\n",
    "                           ])\n",
    "                                \n",
    "Column_Transform = ColumnTransformer(transformers=[('numeric_transform', num_trans, numeric_features),\n",
    "                                                  ('categorical_transform', cat_trans, categorical_features),\n",
    "                                                  ('ordinal_transform', ord_trans, ordinal_features),\n",
    "                                                  ],\n",
    "                                    remainder='passthrough',\n",
    "                                    )"
   ]
  },
  {
   "cell_type": "code",
   "execution_count": null,
   "id": "17593a5b",
   "metadata": {
    "pycharm": {
     "name": "#%%\n"
    },
    "is_executing": true
   },
   "outputs": [],
   "source": [
    "# Specify number of target classes\n",
    "n_classes = y_train.nunique()\n",
    "\n",
    "# Specify HalvingRandomSearchCV halving_parameter (aka factor)\n",
    "halving_parameter = 5.0\n",
    "\n",
    "# Specify the HalvingRandomSearchCV minimum/maximum resources\n",
    "max_resource = 2500\n",
    "resource_divisor = 2.0\n",
    "min_resource = int(round((max_resource / resource_divisor), 0))"
   ]
  },
  {
   "cell_type": "code",
   "execution_count": null,
   "id": "e4b3074a",
   "metadata": {
    "pycharm": {
     "name": "#%%\n"
    },
    "is_executing": true
   },
   "outputs": [],
   "source": [
    "def random_search():\n",
    "    \n",
    "    pipeline1 = Pipeline([\n",
    "    ('col', Column_Transform),\n",
    "    ('smpl', ADASYN(n_neighbors=n_classes, sampling_strategy='not majority', random_state=67)),\n",
    "    ('clf', RandomForestClassifier()),\n",
    "    ])\n",
    "    \n",
    "    pipeline2 = Pipeline([\n",
    "    ('col', Column_Transform),\n",
    "    ('smpl', ADASYN(n_neighbors=n_classes, sampling_strategy='not majority', random_state=67)),\n",
    "    ('clf', ExtraTreesClassifier()),\n",
    "    ])\n",
    "    \n",
    "    pipeline3 = Pipeline([\n",
    "    ('col', Column_Transform),\n",
    "    ('smpl', ADASYN(n_neighbors=n_classes, sampling_strategy='not majority', random_state=67)),\n",
    "    ('clf', GradientBoostingClassifier()),\n",
    "    ])\n",
    "\n",
    "    # RandomForestClassifier\n",
    "    parameters1 = {\n",
    "    'clf__criterion': ['gini','entropy'],\n",
    "    'clf__max_features': loguniform(0.30, 0.65),\n",
    "    'clf__max_depth': randint(15, 35),\n",
    "    'clf__min_samples_split': loguniform(0.35, 0.60),\n",
    "    'clf__min_samples_leaf': loguniform(0.20, 0.40),\n",
    "    'clf__min_impurity_decrease': loguniform(1e-09, 1e-06),\n",
    "    'clf__min_weight_fraction_leaf':  loguniform(0.25, 0.50),\n",
    "    'clf__ccp_alpha':  loguniform(1e-08, 1e-03),\n",
    "    'clf__bootstrap': [True, False],\n",
    "    'clf__oob_score': [False],\n",
    "    'clf__warm_start': [True],\n",
    "    'clf__n_jobs': [6],\n",
    "    'clf__random_state': [67],\n",
    "    }\n",
    "    \n",
    "    # ExtraTreesClassifier\n",
    "    parameters2 = {\n",
    "    'clf__criterion': ['gini'],\n",
    "    'clf__max_depth': randint(20, 50),\n",
    "    'clf__max_features': loguniform(0.50, 0.95),\n",
    "    'clf__max_leaf_nodes': [None],\n",
    "    'clf__max_samples': [None], #loguniform(0.35, 0.75),\n",
    "    'clf__min_samples_split': loguniform(0.10, 0.35),\n",
    "    'clf__min_samples_leaf': loguniform(0.10, 0.35),\n",
    "    'clf__min_weight_fraction_leaf': loguniform(0.20, 0.50),\n",
    "    'clf__min_impurity_decrease': loguniform(1e-09, 1e-05),\n",
    "    'clf__ccp_alpha': loguniform(1e-07, 1e-02),\n",
    "    'clf__bootstrap': [False], #  test\n",
    "    'clf__oob_score': [False],\n",
    "    'clf__warm_start': [False],\n",
    "    'clf__n_jobs': [6],\n",
    "    'clf__random_state': [67],\n",
    "    }\n",
    "            \n",
    "    # GradientBoostingClassifier\n",
    "    parameters3 = {\n",
    "    'clf__loss': ['log_loss'],\n",
    "    'clf__max_features': loguniform(0.25, 0.55),\n",
    "    'clf__learning_rate': loguniform(1e-04, 1e-01),\n",
    "    'clf__ccp_alpha': loguniform(1e-05, 1e-01),\n",
    "    'clf__max_depth': randint(35, 55),\n",
    "    'clf__max_leaf_nodes': randint(2, 10),\n",
    "    'clf__min_samples_split': loguniform(0.35, 0.55),\n",
    "    'clf__min_impurity_decrease': loguniform(1e-07, 1e-03),\n",
    "    'clf__min_samples_leaf': loguniform(0.30, 0.50),\n",
    "    'clf__n_iter_no_change': [150, 200, None],\n",
    "    'clf__tol': loguniform(1e-07, 1e-03),\n",
    "    'clf__validation_fraction': loguniform(0.05, 0.15),\n",
    "    'clf__warm_start': [False],\n",
    "    'clf__random_state': [67],\n",
    "    }\n",
    "\n",
    "    pars = [parameters1, parameters2, parameters3]\n",
    "    pips = [pipeline1, pipeline2, pipeline3]\n",
    "\n",
    "    result = []\n",
    "    \n",
    "    for i in range(len(pars)):\n",
    "        \n",
    "        rs = HalvingRandomSearchCV(pips[i],\n",
    "                                   pars[i],\n",
    "                                   factor=halving_parameter,\n",
    "                                   resource='clf__n_estimators',\n",
    "                                   n_candidates='exhaust',\n",
    "                                   min_resources=min_resource,\n",
    "                                   max_resources=max_resource,\n",
    "                                   scoring='balanced_accuracy',\n",
    "                                   aggressive_elimination=False,\n",
    "                                   return_train_score=True,\n",
    "                                   refit=True,\n",
    "                                   cv=10,\n",
    "                                   n_jobs=6,\n",
    "                                   verbose=1,\n",
    "                                   random_state=67,\n",
    "                                   error_score='raise',\n",
    "                                  )\n",
    "\n",
    "        # Fit models on training data\n",
    "        rs = rs.fit(X_train, y_train)\n",
    "        \n",
    "        # Apply models to test data to determine model performance\n",
    "        y_pred = rs.predict(X_test)\n",
    "        #y_pred_train = rs.predict(X_train)\n",
    "        y_pred_prob = rs.predict_proba(X_test)[:, 1]\n",
    "\n",
    "        # print(\"HalvingRandomSearchCV completed subsearch\")\n",
    "        print(\" \")\n",
    "        print(\" \")\n",
    "        \n",
    "        # storing model results\n",
    "        result.append({\n",
    "        'grid': rs,\n",
    "        'cv results': rs.cv_results_,\n",
    "        'best train balanced accuracy score': rs.best_score_,\n",
    "        'best params': rs.best_params_, \n",
    "        'best estimator': rs.best_estimator_,\n",
    "        'feature importance': rs.best_estimator_.named_steps['clf'].feature_importances_,\n",
    "        #'best train accuracy score': balanced_accuracy_score(y_train, y_pred),\n",
    "        'best test balanced accuracy score': balanced_accuracy_score(y_test, y_pred),\n",
    "        #'best test f1_score': f1_score(y_true=y_test, y_pred=y_pred_prob, average='binary', labels=['run','pass'], pos_label='pass'),\n",
    "        'test classification report': classification_report(y_test, y_pred, target_names=['pass','run']),\n",
    "        'cv': rs.cv,\n",
    "        'model #': i + 1\n",
    "        })\n",
    "\n",
    "    # sorting results by best test score\n",
    "    result = sorted(result, key=operator.itemgetter('best test balanced accuracy score'), reverse=True)\n",
    "    \n",
    "    print('Best Models:')\n",
    "    print(' ')\n",
    "    for element in result:\n",
    "        if element['model #']==1:\n",
    "            print('Random Forest classifier: ')\n",
    "        elif element['model #']==2:\n",
    "            print('ExtraTrees classifier: ')\n",
    "        elif element['model #']==3:\n",
    "            print('GradientBoosting classifier: ')\n",
    "        else:\n",
    "            print('Other: ')  \n",
    "        print('Parameters:  ' + str(element['best params']))\n",
    "        print(' ')\n",
    "        print('Train f1_score:  ' + str(element['best train balanced accuracy score']))\n",
    "        print('Test f1_score:   ' + str(element['best test balanced accuracy score']))\n",
    "        #print('Train accuracy score: ' + str(element['best train accuracy score']))\n",
    "        #print('Test accuracy score:  ' + str(element['best test accuracy score']))\n",
    "\n",
    "        ConfusionMatrixDisplay.from_predictions(y_test, y_pred)\n",
    "        plt.show()\n",
    "        print(' ')\n",
    "\n",
    "    # Save best model as pickle file\n",
    "    joblib.dump(rs.best_params_, r'/Users/ttas2/Documents/Python/nfl-machine-learning-models/play_predictions/output_files/run_pass_classifier_results.pkl', compress=1)"
   ]
  },
  {
   "cell_type": "code",
   "execution_count": null,
   "id": "e7e2a726",
   "metadata": {
    "pycharm": {
     "name": "#%%\n"
    },
    "scrolled": false,
    "is_executing": true
   },
   "outputs": [],
   "source": [
    "%%capture --no-stdout --no-display\n",
    "random_search()"
   ]
  },
  {
   "cell_type": "code",
   "execution_count": null,
   "outputs": [],
   "source": [
    "# Load best model\n",
    "best_model = joblib.load(r'/Users/ttas2/Documents/Python/nfl-machine-learning-models/play_predictions/output_files/run_pass_classifier_results.pkl')\n",
    "best_model"
   ],
   "metadata": {
    "collapsed": false,
    "is_executing": true
   }
  },
  {
   "cell_type": "code",
   "execution_count": null,
   "outputs": [],
   "source": [],
   "metadata": {
    "collapsed": false,
    "is_executing": true
   }
  }
 ],
 "metadata": {
  "colab": {
   "name": "nfl_offensive_play_classification_v1.1.ipynb",
   "provenance": []
  },
  "kernelspec": {
   "display_name": "Python 3 (ipykernel)",
   "language": "python",
   "name": "python3"
  },
  "language_info": {
   "codemirror_mode": {
    "name": "ipython",
    "version": 3
   },
   "file_extension": ".py",
   "mimetype": "text/x-python",
   "name": "python",
   "nbconvert_exporter": "python",
   "pygments_lexer": "ipython3",
   "version": "3.9.6"
  }
 },
 "nbformat": 4,
 "nbformat_minor": 5
}
