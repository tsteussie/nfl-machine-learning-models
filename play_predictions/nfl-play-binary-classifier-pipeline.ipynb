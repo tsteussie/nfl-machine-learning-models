{
 "cells": [
  {
   "cell_type": "code",
   "execution_count": 1,
   "outputs": [],
   "source": [
    "import warnings\n",
    "from numba.core.errors import NumbaDeprecationWarning, NumbaPendingDeprecationWarning\n",
    "warnings.simplefilter('ignore', category=UserWarning)\n",
    "warnings.filterwarnings('ignore',category=ImportWarning)\n",
    "warnings.filterwarnings('ignore',category=DeprecationWarning)\n",
    "warnings.simplefilter('ignore', category=NumbaDeprecationWarning)\n",
    "warnings.simplefilter('ignore', category=NumbaPendingDeprecationWarning)\n",
    "\n",
    "import pandas as pd\n",
    "import numpy as np\n",
    "import time\n",
    "\n",
    "import category_encoders as ce\n",
    "from scipy.stats import randint\n",
    "from imblearn.pipeline import Pipeline\n",
    "from imblearn.over_sampling import ADASYN\n",
    "from BorutaShap import BorutaShap\n",
    "from xgboost import XGBClassifier\n",
    "\n",
    "from sklearn.impute import SimpleImputer\n",
    "from sklearn.preprocessing import OrdinalEncoder, OneHotEncoder, RobustScaler # MinMaxScaler, StandardScaler, MaxAbsScaler\n",
    "from sklearn.experimental import enable_halving_search_cv\n",
    "from sklearn.model_selection import train_test_split, HalvingRandomSearchCV\n",
    "from sklearn.compose import ColumnTransformer\n",
    "from sklearn.utils.fixes import loguniform\n",
    "from sklearn.metrics import accuracy_score, balanced_accuracy_score, f1_score, roc_auc_score, classification_report, confusion_matrix\n",
    "from sklearn.dummy import DummyClassifier\n",
    "from sklearn.ensemble import RandomForestClassifier, ExtraTreesClassifier, GradientBoostingClassifier, AdaBoostClassifier\n",
    "import operator\n"
   ],
   "metadata": {
    "collapsed": false,
    "ExecuteTime": {
     "end_time": "2023-12-22T05:31:40.576056Z",
     "start_time": "2023-12-22T05:31:37.039144Z"
    }
   },
   "id": "774348c602e5ca1e"
  },
  {
   "cell_type": "code",
   "execution_count": 2,
   "outputs": [],
   "source": [
    "# Train test split parameters\n",
    "test_holdout_percentage = 0.10\n",
    "\n",
    "# Leave One Out Encoder Sigma value - 0.04 is the top performing value.\n",
    "sigma = 0.03                                                        # Tested parameters: 0.04, 0.05, 0.10, 0.30, 0.60\n",
    "\n",
    "# BorutaShap parameters\n",
    "xgb_max_depth = 6                                                   # Tested parameters: 6, 8, 10, with optimal time/performance at 8\n",
    "feature_model_n_trials = 300\n",
    "\n",
    "# ADASYN sampling multiplier - 2 is the top performing value.\n",
    "adasyn_class_multiplier = 2                                         # Tested parameters: 1, 2, 3\n",
    "\n",
    "# Feature scaler\n",
    "feature_scaler = RobustScaler()                                     # Tested parameters: MinMaxScaler(), StandardScaler(), MaxAbsScaler(), RobustScaler()\n",
    "\n",
    "# HalvingRandomSearchCV parameters\n",
    "scoring = 'accuracy'\n",
    "n_cross_validation = 5\n",
    "\n",
    "# Specify the HalvingRandomSearchCV parameters\n",
    "halving_parameter = 2.0\n",
    "max_resource = 2000\n",
    "resource_divisor = 2.0\n",
    "min_resource = int(round((max_resource / resource_divisor), 0))\n"
   ],
   "metadata": {
    "collapsed": false,
    "ExecuteTime": {
     "end_time": "2023-12-22T05:31:40.586390Z",
     "start_time": "2023-12-22T05:31:40.579853Z"
    }
   },
   "id": "39c59abc33e5e515"
  },
  {
   "cell_type": "code",
   "execution_count": 3,
   "outputs": [],
   "source": [
    "# Create timer to calculate total workbook time in hours\n",
    "start_time = time.time()"
   ],
   "metadata": {
    "collapsed": false,
    "ExecuteTime": {
     "end_time": "2023-12-22T05:31:40.589326Z",
     "start_time": "2023-12-22T05:31:40.584467Z"
    }
   },
   "id": "5dc8446203dc414e"
  },
  {
   "cell_type": "markdown",
   "id": "c4f8e047",
   "metadata": {
    "pycharm": {
     "name": "#%% md\n"
    }
   },
   "source": [
    "## IMPORT PROCESSED NFL-DATA-PY CSV FILE\n",
    "##### https://pypi.org/project/nfl-data-py/"
   ]
  },
  {
   "cell_type": "code",
   "execution_count": 4,
   "outputs": [
    {
     "data": {
      "text/plain": "(60331, 160)"
     },
     "execution_count": 4,
     "metadata": {},
     "output_type": "execute_result"
    }
   ],
   "source": [
    "# Import csv file from nfl-data-py\n",
    "df = pd.read_csv(r'/Users/ttas2/Documents/Python/nfl-machine-learning-models/output_files/nfl_post_processing_run_pass_classification_data.csv')\n",
    "\n",
    "df.shape"
   ],
   "metadata": {
    "collapsed": false,
    "ExecuteTime": {
     "end_time": "2023-12-22T05:31:41.853019Z",
     "start_time": "2023-12-22T05:31:40.591221Z"
    }
   },
   "id": "f8d686327dce3e32"
  },
  {
   "cell_type": "code",
   "execution_count": 5,
   "outputs": [
    {
     "name": "stdout",
     "output_type": "stream",
     "text": [
      "[]\n"
     ]
    }
   ],
   "source": [
    "# Print columns with missing values\n",
    "print(df.columns[df.isnull().any()].tolist())"
   ],
   "metadata": {
    "collapsed": false,
    "ExecuteTime": {
     "end_time": "2023-12-22T05:31:41.923289Z",
     "start_time": "2023-12-22T05:31:41.854099Z"
    }
   },
   "id": "629bc39586b0fba6"
  },
  {
   "cell_type": "code",
   "execution_count": 6,
   "outputs": [
    {
     "data": {
      "text/plain": "       week posteam posteam_type defteam  yardline_100   \n9071     12     CAR         away     TEN          32.0  \\\n38566    15     MIN         home     IND          53.0   \n\n       quarter_seconds_remaining  half_seconds_remaining   \n9071                         539                     539  \\\n38566                        344                     344   \n\n       game_seconds_remaining  game_half  qtr  ...   \n9071                     2339          1    2  ...  \\\n38566                     344          3    5  ...   \n\n       remain_yds_div_def_dl_count  remain_yds_prod_def_dl_count   \n9071                           9.0                          36.0  \\\n38566                          6.0                          96.0   \n\n       remain_yds_div_def_db_count remain_yds_prod_def_db_count   \n9071                           3.0                        108.0  \\\n38566                          4.8                        120.0   \n\n       remain_yds_div_score_diff  remain_yds_prod_score_diff   \n9071                   -2.571429                      -126.0  \\\n38566                   0.000000                         0.0   \n\n       run_ratio_off_priors  run_ratio_def_priors  posteam_season   \n9071               0.111111              0.194444        car_2023  \\\n38566              0.000000              0.750000        min_2022   \n\n       defteam_season  \n9071         ten_2023  \n38566        ind_2022  \n\n[2 rows x 160 columns]",
      "text/html": "<div>\n<style scoped>\n    .dataframe tbody tr th:only-of-type {\n        vertical-align: middle;\n    }\n\n    .dataframe tbody tr th {\n        vertical-align: top;\n    }\n\n    .dataframe thead th {\n        text-align: right;\n    }\n</style>\n<table border=\"1\" class=\"dataframe\">\n  <thead>\n    <tr style=\"text-align: right;\">\n      <th></th>\n      <th>week</th>\n      <th>posteam</th>\n      <th>posteam_type</th>\n      <th>defteam</th>\n      <th>yardline_100</th>\n      <th>quarter_seconds_remaining</th>\n      <th>half_seconds_remaining</th>\n      <th>game_seconds_remaining</th>\n      <th>game_half</th>\n      <th>qtr</th>\n      <th>...</th>\n      <th>remain_yds_div_def_dl_count</th>\n      <th>remain_yds_prod_def_dl_count</th>\n      <th>remain_yds_div_def_db_count</th>\n      <th>remain_yds_prod_def_db_count</th>\n      <th>remain_yds_div_score_diff</th>\n      <th>remain_yds_prod_score_diff</th>\n      <th>run_ratio_off_priors</th>\n      <th>run_ratio_def_priors</th>\n      <th>posteam_season</th>\n      <th>defteam_season</th>\n    </tr>\n  </thead>\n  <tbody>\n    <tr>\n      <th>9071</th>\n      <td>12</td>\n      <td>CAR</td>\n      <td>away</td>\n      <td>TEN</td>\n      <td>32.0</td>\n      <td>539</td>\n      <td>539</td>\n      <td>2339</td>\n      <td>1</td>\n      <td>2</td>\n      <td>...</td>\n      <td>9.0</td>\n      <td>36.0</td>\n      <td>3.0</td>\n      <td>108.0</td>\n      <td>-2.571429</td>\n      <td>-126.0</td>\n      <td>0.111111</td>\n      <td>0.194444</td>\n      <td>car_2023</td>\n      <td>ten_2023</td>\n    </tr>\n    <tr>\n      <th>38566</th>\n      <td>15</td>\n      <td>MIN</td>\n      <td>home</td>\n      <td>IND</td>\n      <td>53.0</td>\n      <td>344</td>\n      <td>344</td>\n      <td>344</td>\n      <td>3</td>\n      <td>5</td>\n      <td>...</td>\n      <td>6.0</td>\n      <td>96.0</td>\n      <td>4.8</td>\n      <td>120.0</td>\n      <td>0.000000</td>\n      <td>0.0</td>\n      <td>0.000000</td>\n      <td>0.750000</td>\n      <td>min_2022</td>\n      <td>ind_2022</td>\n    </tr>\n  </tbody>\n</table>\n<p>2 rows × 160 columns</p>\n</div>"
     },
     "execution_count": 6,
     "metadata": {},
     "output_type": "execute_result"
    }
   ],
   "source": [
    "# Convert binary columns to integers\n",
    "binary_columns = df.columns[df.isin([0,1]).all()].tolist()\n",
    "df[binary_columns] = df[binary_columns].apply(pd.to_numeric, downcast='integer', errors='coerce', axis=1)\n",
    "\n",
    "df.sample(2)"
   ],
   "metadata": {
    "collapsed": false,
    "ExecuteTime": {
     "end_time": "2023-12-22T05:31:55.007274Z",
     "start_time": "2023-12-22T05:31:41.915331Z"
    }
   },
   "id": "41f7422bcc2cf003"
  },
  {
   "cell_type": "code",
   "execution_count": 7,
   "id": "4c9bcb28",
   "metadata": {
    "pycharm": {
     "name": "#%%\n"
    },
    "ExecuteTime": {
     "end_time": "2023-12-22T05:31:55.011491Z",
     "start_time": "2023-12-22T05:31:55.007034Z"
    }
   },
   "outputs": [
    {
     "data": {
      "text/plain": "play_type\npass    0.598382\nrun     0.401618\nName: proportion, dtype: float64"
     },
     "execution_count": 7,
     "metadata": {},
     "output_type": "execute_result"
    }
   ],
   "source": [
    "# Target frequency\n",
    "target_count = df.play_type.value_counts(normalize=True)\n",
    "\n",
    "target_count"
   ]
  },
  {
   "cell_type": "code",
   "execution_count": 8,
   "outputs": [],
   "source": [
    "df['play_type'] = np.where(df['play_type'] == 'pass', 1, 0)\n"
   ],
   "metadata": {
    "collapsed": false,
    "ExecuteTime": {
     "end_time": "2023-12-22T05:31:55.043679Z",
     "start_time": "2023-12-22T05:31:55.011159Z"
    }
   },
   "id": "91112ef9f7a1ba3c"
  },
  {
   "cell_type": "markdown",
   "source": [
    "## TRAIN TEST SPLIT\n",
    "##### https://scikit-learn.org/stable/modules/generated/sklearn.model_selection.train_test_split.html"
   ],
   "metadata": {
    "collapsed": false
   },
   "id": "4c140526b778c182"
  },
  {
   "cell_type": "code",
   "execution_count": 9,
   "id": "4943bbf5",
   "metadata": {
    "pycharm": {
     "name": "#%%\n"
    },
    "ExecuteTime": {
     "end_time": "2023-12-22T05:31:55.222488Z",
     "start_time": "2023-12-22T05:31:55.021178Z"
    }
   },
   "outputs": [
    {
     "name": "stdout",
     "output_type": "stream",
     "text": [
      "159 initial features before processing\n"
     ]
    }
   ],
   "source": [
    "# split data into target and feature datasets\n",
    "X, y = df.loc[:, df.columns != 'play_type'], df['play_type']\n",
    "\n",
    "initial_features = X.columns.to_list()\n",
    "\n",
    "# Create train and test datasets\n",
    "X_train, X_test, y_train, y_test = train_test_split(X, y, test_size=test_holdout_percentage, random_state=67)\n",
    "\n",
    "print(X_train.shape[1], 'initial features before processing')"
   ]
  },
  {
   "cell_type": "code",
   "execution_count": 10,
   "outputs": [
    {
     "name": "stdout",
     "output_type": "stream",
     "text": [
      "XGBClassifier scale_pos_weight: 1.49\n"
     ]
    }
   ],
   "source": [
    "# Used to balancing the effect of XGBClassifier weights on imbalanced dataset: scale_pos_weight = total_majority observations / total minority observations\n",
    "target_count = y_train.value_counts()\n",
    "\n",
    "scale_pos_weight = round(target_count[1] / target_count[0], 2)\n",
    "print('XGBClassifier scale_pos_weight:', scale_pos_weight)"
   ],
   "metadata": {
    "collapsed": false,
    "ExecuteTime": {
     "end_time": "2023-12-22T05:31:55.223744Z",
     "start_time": "2023-12-22T05:31:55.190725Z"
    }
   },
   "id": "b352da1cbdd2f7e6"
  },
  {
   "cell_type": "markdown",
   "id": "4b6cd4c3",
   "metadata": {
    "pycharm": {
     "name": "#%% md\n"
    }
   },
   "source": [
    "## BASELINE MODEL\n",
    "##### https://scikit-learn.org/stable/modules/generated/sklearn.dummy.DummyClassifier.html"
   ]
  },
  {
   "cell_type": "code",
   "execution_count": 11,
   "id": "28e9513e",
   "metadata": {
    "pycharm": {
     "name": "#%%\n"
    },
    "ExecuteTime": {
     "end_time": "2023-12-22T05:31:55.225029Z",
     "start_time": "2023-12-22T05:31:55.196271Z"
    }
   },
   "outputs": [
    {
     "name": "stdout",
     "output_type": "stream",
     "text": [
      "Baseline accuracy: 59.6%\n",
      "Baseline f1 score: 74.7%\n"
     ]
    }
   ],
   "source": [
    "# Create and fit baseline model to compare performance\n",
    "baseline_model = DummyClassifier(strategy='most_frequent', random_state=67)\n",
    "baseline_model.fit(X_train, y_train)\n",
    "\n",
    "# Calculate model accuracy on test data\n",
    "y_baseline_pred = baseline_model.predict(X_test)\n",
    "\n",
    "print(f\"Baseline accuracy: {round(accuracy_score(y_test,y_baseline_pred)*100, 1)}%\")\n",
    "print(f\"Baseline f1 score: {round(f1_score(y_test,y_baseline_pred)*100, 1)}%\")\n"
   ]
  },
  {
   "cell_type": "markdown",
   "source": [
    "## ENCODE CATEGORICAL FEATURES\n",
    "##### https://contrib.scikit-learn.org/category_encoders/leaveoneout.html"
   ],
   "metadata": {
    "collapsed": false
   },
   "id": "e0f3ad4dbdd2f444"
  },
  {
   "cell_type": "code",
   "execution_count": 12,
   "outputs": [
    {
     "name": "stdout",
     "output_type": "stream",
     "text": [
      "Total observations in training dataset: 54297\n",
      "Total features before encoding: 159\n",
      " \n",
      "Dropped features due to invariance: []\n",
      " \n",
      "Features after categorical encoding: 159\n",
      "Column names: ['week', 'posteam', 'posteam_type', 'defteam', 'yardline_100', 'quarter_seconds_remaining', 'half_seconds_remaining', 'game_seconds_remaining', 'game_half', 'qtr', 'down', 'goal_to_go', 'ydstogo', 'shotgun', 'no_huddle', 'posteam_timeouts_remaining', 'defteam_timeouts_remaining', 'posteam_score', 'defteam_score', 'score_differential', 'no_score_prob', 'fg_prob', 'safety_prob', 'td_prob', 'ep', 'wp', 'drive_play_count', 'spread_line', 'total_line', 'div_game', 'roof', 'surface', 'offense_formation', 'offense_personnel', 'defenders_in_box', 'defense_personnel', 'n_offense', 'n_defense', 'report_eligible', 'off_rb_count', 'off_te_count', 'off_wr_count', 'off_hb_count', 'off_ol_count', 'def_dl_count', 'def_lb_count', 'def_db_count', 'wr_to_db_ratio', 'hb_to_lb_ratio', 'ol_to_dl_ratio', 'play_sequence_game', 'play_sequence_series', 'game_temp', 'game_humidity', 'game_wind', 'game_weather', 'dtg_99to90', 'dtg_89to60', 'dtg_59to45', 'dtg_44to35', 'dtg_34to21', 'dtg_20to10', 'dtg_09to00', 'prev1_big_play_pass', 'prev2_big_play_pass', 'prev3_big_play_pass', 'prev1_big_play_run', 'prev2_big_play_run', 'prev3_big_play_run', 'prev1_negative_pass', 'prev2_negative_pass', 'prev3_negative_pass', 'prev1_negative_run', 'prev2_negative_run', 'prev3_negative_run', 'play_type_prev1', 'play_type_prev2', 'play_type_prev3', 'play_type_prev4', 'prev1_play_off_penalty', 'prev1_play_def_penalty', 'prev2_play_off_penalty', 'prev2_play_def_penalty', 'prev3_play_off_penalty', 'prev3_play_def_penalty', 'prev1_play_run_outside', 'prev1_play_run_inside', 'prev1_play_pass_deep', 'prev1_play_pass_short', 'prev2_play_run_outside', 'prev2_play_run_inside', 'prev2_play_pass_deep', 'prev2_play_pass_short', 'prev3_play_run_outside', 'prev3_play_run_inside', 'prev3_play_pass_deep', 'prev3_play_pass_short', 'prev1_incomplete_pass', 'prev2_incomplete_pass', 'prev3_incomplete_pass', 'prev4_incomplete_pass', 'drive_incomplete_pass_pcnt', 'prev1_yards_gained', 'prev2_yards_gained', 'prev3_yards_gained', 'prev4_yards_gained', 'prev1_wpa', 'prev2_wpa', 'prev3_wpa', 'prev4_wpa', 'prev1_shotgun', 'prev2_shotgun', 'prev3_shotgun', 'drive_shotgun_pcnt', 'prev1_qb_hit', 'prev2_qb_hit', 'prev3_qb_hit', 'drive_qb_hit_pcnt', 'prev1_no_huddle', 'prev2_no_huddle', 'prev3_no_huddle', 'drive_no_huddle_pcnt', 'prev1_first_down_pass', 'prev2_first_down_pass', 'prev3_first_down_pass', 'prev1_first_down_run', 'prev2_first_down_run', 'prev3_first_down_run', 'prev1_effct_play', 'prev2_effct_play', 'prev3_effct_play', 'drive_effct_play_pcnt', 'remaining_downs', 'remaining_yards_per_down', 'drive_start', 'two_min_warning', 'ep_half_sec_ratio', 'ep_game_sec_ratio', 'posteam_side', 'half_seconds_div_score_diff', 'half_seconds_prod_score_diff', 'game_wind_div_game_temp', 'game_wind_prod_game_temp', 'game_temp_div_game_humidity', 'game_temp_prod_game_humidity', 'remain_yds_div_def_box', 'remain_yds_prod_def_box', 'remain_yds_div_off_hb_count', 'remain_yds_prod_off_hb_count', 'remain_yds_div_def_dl_count', 'remain_yds_prod_def_dl_count', 'remain_yds_div_def_db_count', 'remain_yds_prod_def_db_count', 'remain_yds_div_score_diff', 'remain_yds_prod_score_diff', 'run_ratio_off_priors', 'run_ratio_def_priors', 'posteam_season', 'defteam_season']\n"
     ]
    }
   ],
   "source": [
    "# Encoded column represents mean response over all rows for this category, providing one-column representation while avoiding direct response leakage\n",
    "\n",
    "pre_features = X_train.columns.to_list()\n",
    "categorical_features = list(X_train.select_dtypes(include='object'))\n",
    "\n",
    "# Sigma adds normal (Gaussian) distribution noise into training data in order to decrease over-fitting (testing data are untouched). Sigma gives the standard deviation (spread or “width”) of the normal distribution. The optimal value is commonly between 0.05 and 0.6. The default is to not add noise, but that leads to significantly suboptimal results.\n",
    "encoder = ce.LeaveOneOutEncoder(return_df=True, cols=categorical_features, handle_missing='value', handle_unknown='value', sigma=sigma, random_state=67, drop_invariant=False)\n",
    "\n",
    "X_train = encoder.fit_transform(X_train, y_train)\n",
    "X_test = encoder.transform(X_test)\n",
    "\n",
    "post_features = X_train.columns.to_list()\n",
    "\n",
    "# Compare 2 lists and identify elements in first list not in second list\n",
    "def diff(list1, list2):\n",
    "    return list(set(list1) - set(list2))\n",
    "\n",
    "print('Total observations in training dataset:', len(X_train))\n",
    "print('Total features before encoding:', len(pre_features))\n",
    "print(' ')\n",
    "print('Dropped features due to invariance:', diff(pre_features, post_features))\n",
    "print(' ')\n",
    "print('Features after categorical encoding:', len(post_features))\n",
    "print('Column names:', X_train.columns.to_list())"
   ],
   "metadata": {
    "collapsed": false,
    "ExecuteTime": {
     "end_time": "2023-12-22T05:31:56.524243Z",
     "start_time": "2023-12-22T05:31:55.220698Z"
    }
   },
   "id": "d33d4e0b73750e26"
  },
  {
   "cell_type": "markdown",
   "source": [
    "## FEATURE SELECTION\n",
    "##### https://pypi.org/project/BorutaShap/"
   ],
   "metadata": {
    "collapsed": false
   },
   "id": "65fe86e88f378c61"
  },
  {
   "cell_type": "code",
   "execution_count": 13,
   "outputs": [],
   "source": [
    "feature_model =  XGBClassifier(booster='gbtree',\n",
    "                              objective='binary:logistic',\n",
    "                              max_depth=xgb_max_depth,\n",
    "                              scale_pos_weight=scale_pos_weight,\n",
    "                              seed=67,\n",
    "                              )"
   ],
   "metadata": {
    "collapsed": false,
    "ExecuteTime": {
     "end_time": "2023-12-22T05:31:56.538567Z",
     "start_time": "2023-12-22T05:31:56.524346Z"
    }
   },
   "id": "145f2b3382fdccf2"
  },
  {
   "cell_type": "code",
   "execution_count": 14,
   "outputs": [
    {
     "name": "stderr",
     "output_type": "stream",
     "text": [
      "100%|██████████| 300/300 [1:35:57<00:00, 19.19s/it]"
     ]
    },
    {
     "name": "stdout",
     "output_type": "stream",
     "text": [
      "31 attributes confirmed important: ['half_seconds_div_score_diff', 'remain_yds_div_def_box', 'run_ratio_off_priors', 'game_humidity', 'prev1_yards_gained', 'ep_game_sec_ratio', 'remain_yds_div_def_db_count', 'offense_personnel', 'play_type_prev2', 'total_line', 'defteam_season', 'half_seconds_remaining', 'drive_play_count', 'wp', 'game_temp_div_game_humidity', 'posteam', 'game_seconds_remaining', 'remain_yds_div_score_diff', 'defenders_in_box', 'ydstogo', 'defense_personnel', 'play_type_prev3', 'safety_prob', 'offense_formation', 'posteam_season', 'play_type_prev4', 'down', 'td_prob', 'remaining_yards_per_down', 'play_type_prev1', 'yardline_100']\n",
      "126 attributes confirmed unimportant: ['n_offense', 'prev2_big_play_run', 'prev1_incomplete_pass', 'prev1_no_huddle', 'drive_qb_hit_pcnt', 'posteam_type', 'prev4_yards_gained', 'prev3_yards_gained', 'defteam_timeouts_remaining', 'off_wr_count', 'def_db_count', 'dtg_34to21', 'prev1_negative_pass', 'def_dl_count', 'prev3_incomplete_pass', 'prev1_wpa', 'drive_effct_play_pcnt', 'spread_line', 'ol_to_dl_ratio', 'prev3_play_run_outside', 'prev3_effct_play', 'dtg_89to60', 'ep_half_sec_ratio', 'prev1_play_pass_short', 'prev3_qb_hit', 'prev3_play_run_inside', 'prev1_play_pass_deep', 'qtr', 'game_wind_prod_game_temp', 'half_seconds_prod_score_diff', 'quarter_seconds_remaining', 'hb_to_lb_ratio', 'prev3_play_off_penalty', 'prev2_negative_pass', 'game_half', 'n_defense', 'prev1_play_run_inside', 'prev3_first_down_pass', 'posteam_side', 'remain_yds_div_def_dl_count', 'prev2_play_pass_short', 'prev2_play_run_outside', 'week', 'dtg_59to45', 'prev1_first_down_run', 'prev3_play_pass_short', 'off_te_count', 'goal_to_go', 'wr_to_db_ratio', 'prev2_play_pass_deep', 'prev3_big_play_run', 'prev2_negative_run', 'prev3_first_down_run', 'shotgun', 'prev1_effct_play', 'prev2_big_play_pass', 'prev2_yards_gained', 'prev2_qb_hit', 'dtg_09to00', 'prev1_first_down_pass', 'prev3_wpa', 'play_sequence_series', 'prev2_first_down_run', 'fg_prob', 'prev2_wpa', 'off_ol_count', 'remain_yds_div_off_hb_count', 'prev2_play_off_penalty', 'prev1_big_play_run', 'drive_shotgun_pcnt', 'prev1_play_def_penalty', 'prev1_play_run_outside', 'prev1_qb_hit', 'def_lb_count', 'prev3_negative_pass', 'run_ratio_def_priors', 'score_differential', 'prev3_play_pass_deep', 'dtg_44to35', 'game_wind', 'game_temp_prod_game_humidity', 'prev2_effct_play', 'div_game', 'off_hb_count', 'prev1_shotgun', 'prev3_play_def_penalty', 'drive_no_huddle_pcnt', 'prev2_no_huddle', 'report_eligible', 'prev3_shotgun', 'dtg_20to10', 'prev2_incomplete_pass', 'drive_incomplete_pass_pcnt', 'posteam_timeouts_remaining', 'prev3_negative_run', 'prev1_negative_run', 'prev4_wpa', 'defteam_score', 'game_temp', 'remain_yds_prod_def_dl_count', 'surface', 'remain_yds_prod_def_box', 'remain_yds_prod_score_diff', 'prev3_no_huddle', 'no_score_prob', 'prev2_play_run_inside', 'prev2_first_down_pass', 'prev2_play_def_penalty', 'remain_yds_prod_def_db_count', 'prev1_play_off_penalty', 'remain_yds_prod_off_hb_count', 'remaining_downs', 'roof', 'prev2_shotgun', 'prev3_big_play_pass', 'drive_start', 'game_wind_div_game_temp', 'off_rb_count', 'posteam_score', 'dtg_99to90', 'prev4_incomplete_pass', 'defteam', 'play_sequence_game', 'prev1_big_play_pass', 'no_huddle', 'two_min_warning']\n",
      "2 tentative attributes remains: ['game_weather', 'ep']\n"
     ]
    },
    {
     "name": "stderr",
     "output_type": "stream",
     "text": [
      "\n"
     ]
    }
   ],
   "source": [
    "# no model selected default is Random Forest\n",
    "Feature_Selector = BorutaShap(importance_measure='shap',\n",
    "                              classification=True,\n",
    "                              model=feature_model,\n",
    "                              )\n",
    "\n",
    "Feature_Selector.fit(X=X_train,\n",
    "                    y=y_train,\n",
    "                    n_trials=feature_model_n_trials,\n",
    "                    normalize=True,\n",
    "                    sample=False,\n",
    "                    random_state=67,\n",
    "                    )"
   ],
   "metadata": {
    "collapsed": false,
    "ExecuteTime": {
     "end_time": "2023-12-22T07:07:54.457005Z",
     "start_time": "2023-12-22T05:31:56.531492Z"
    }
   },
   "id": "4e7034bfcd562178"
  },
  {
   "cell_type": "code",
   "execution_count": 15,
   "outputs": [
    {
     "data": {
      "text/plain": "<Figure size 1800x1000 with 1 Axes>",
      "image/png": "[encoded data removed]"
     },
     "metadata": {},
     "output_type": "display_data"
    }
   ],
   "source": [
    "# Plot selected features with shap values on x-axis, angle labeled by shap value, color by feature value\n",
    "Feature_Selector.plot(which_features='accepted', figsize=(18, 10)) #, y_scale='log')"
   ],
   "metadata": {
    "collapsed": false,
    "ExecuteTime": {
     "end_time": "2023-12-22T07:07:55.543442Z",
     "start_time": "2023-12-22T07:07:54.455508Z"
    }
   },
   "id": "6e9ee7092d851d1e"
  },
  {
   "cell_type": "code",
   "execution_count": 16,
   "outputs": [
    {
     "name": "stdout",
     "output_type": "stream",
     "text": [
      "Training features: 33\n",
      "Testing features: 33\n",
      "Most important features: ['posteam', 'yardline_100', 'half_seconds_remaining', 'game_seconds_remaining', 'down', 'ydstogo', 'safety_prob', 'td_prob', 'ep', 'wp', 'drive_play_count', 'total_line', 'offense_formation', 'offense_personnel', 'defenders_in_box', 'defense_personnel', 'game_humidity', 'game_weather', 'play_type_prev1', 'play_type_prev2', 'play_type_prev3', 'play_type_prev4', 'prev1_yards_gained', 'remaining_yards_per_down', 'ep_game_sec_ratio', 'half_seconds_div_score_diff', 'game_temp_div_game_humidity', 'remain_yds_div_def_box', 'remain_yds_div_def_db_count', 'remain_yds_div_score_diff', 'run_ratio_off_priors', 'posteam_season', 'defteam_season']\n"
     ]
    }
   ],
   "source": [
    "# Drops features that were identified by BorutaShap as not important\n",
    "features_to_remove = Feature_Selector.features_to_remove\n",
    "\n",
    "X_train = X_train.drop(columns=features_to_remove)\n",
    "X_test = X_test.drop(columns=features_to_remove)\n",
    "\n",
    "print('Training features:', X_train.shape[1])\n",
    "print('Testing features:', X_test.shape[1])\n",
    "print('Most important features:', X_train.columns.to_list())"
   ],
   "metadata": {
    "collapsed": false,
    "ExecuteTime": {
     "end_time": "2023-12-22T07:07:55.566157Z",
     "start_time": "2023-12-22T07:07:55.543457Z"
    }
   },
   "id": "afa5c66c26a42f87"
  },
  {
   "cell_type": "code",
   "execution_count": 17,
   "outputs": [
    {
     "name": "stdout",
     "output_type": "stream",
     "text": [
      "Total time: 1.6 hours\n"
     ]
    }
   ],
   "source": [
    "# Calculate workbook processing time in hours\n",
    "end_time = time.time()\n",
    "total_time = end_time - start_time\n",
    "\n",
    "print('Total time:', round(total_time / 3600, 2), 'hours')"
   ],
   "metadata": {
    "collapsed": false,
    "ExecuteTime": {
     "end_time": "2023-12-22T07:07:55.816286Z",
     "start_time": "2023-12-22T07:07:55.568317Z"
    }
   },
   "id": "303ed2263cd313f4"
  },
  {
   "cell_type": "markdown",
   "source": [
    "## MODEL PIPELINE\n",
    "##### https://scikit-learn.org/stable/modules/generated/sklearn.compose.ColumnTransformer.html\n",
    "##### https://scikit-learn.org/stable/modules/generated/sklearn.impute.SimpleImputer.html\n",
    "##### https://scikit-learn.org/stable/modules/generated/sklearn.preprocessing.PowerTransformer.html\n",
    "##### https://www.statsmodels.org/dev/generated/statsmodels.stats.outliers_influence.variance_inflation_factor.html\n",
    "##### https://imbalanced-learn.org/stable/references/over_sampling.html\n",
    "##### https://scikit-learn.org/stable/modules/generated/sklearn.model_selection.HalvingRandomSearchCV.html\n",
    "##### https://scikit-learn.org/stable/modules/generated/sklearn.metrics.f1_score.html\n",
    "##### https://scikit-learn.org/stable/modules/generated/sklearn.ensemble.GradientBoostingClassifier.html\n",
    "##### https://scikit-learn.org/stable/modules/generated/sklearn.ensemble.RandomForestClassifier.html\n",
    "##### https://scikit-learn.org/stable/modules/generated/sklearn.ensemble.ExtraTreesClassifier.html\n",
    "##### https://xgboost.readthedocs.io/en/stable/parameter.html"
   ],
   "metadata": {
    "collapsed": false
   },
   "id": "28eb7c49ea06b6d2"
  },
  {
   "cell_type": "code",
   "execution_count": 18,
   "outputs": [
    {
     "name": "stdout",
     "output_type": "stream",
     "text": [
      "ordinal features: 1 : ['down']\n",
      "boolean features: 0 : []\n",
      "numeric features: 32 : ['posteam', 'yardline_100', 'half_seconds_remaining', 'game_seconds_remaining', 'ydstogo', 'safety_prob', 'td_prob', 'ep', 'wp', 'drive_play_count', 'total_line', 'offense_formation', 'offense_personnel', 'defenders_in_box', 'defense_personnel', 'game_humidity', 'game_weather', 'play_type_prev1', 'play_type_prev2', 'play_type_prev3', 'play_type_prev4', 'prev1_yards_gained', 'remaining_yards_per_down', 'ep_game_sec_ratio', 'half_seconds_div_score_diff', 'game_temp_div_game_humidity', 'remain_yds_div_def_box', 'remain_yds_div_def_db_count', 'remain_yds_div_score_diff', 'run_ratio_off_priors', 'posteam_season', 'defteam_season']\n"
     ]
    }
   ],
   "source": [
    "# Create timer to calculate total workbook time in hours\n",
    "start_time = time.time()\n",
    "\n",
    "# Create feature type lists for column transform stage of the pipeline\n",
    "ordinal_features = X_train.columns[X_train.isin([1,2,3,4,5]).all()].tolist()\n",
    "categorical_features = list(X_train.select_dtypes(include='object'))\n",
    "boolean_features = X_train.columns[X_train.isin([0, 1]).all()].tolist()\n",
    "\n",
    "numeric_features = [x for x in X_train.columns if x not in ordinal_features]\n",
    "numeric_features = [x for x in numeric_features if x not in categorical_features]\n",
    "numeric_features = [x for x in numeric_features if x not in boolean_features]\n",
    "\n",
    "#print('categorical features:', len(categorical_features), ':', categorical_features)\n",
    "print('ordinal features:', len(ordinal_features), ':', ordinal_features)\n",
    "print('boolean features:', len(boolean_features), ':', boolean_features)\n",
    "print('numeric features:', len(numeric_features), ':', numeric_features)"
   ],
   "metadata": {
    "collapsed": false,
    "ExecuteTime": {
     "end_time": "2023-12-22T07:07:56.168529Z",
     "start_time": "2023-12-22T07:07:55.573651Z"
    }
   },
   "id": "e95804b4c341fcbb"
  },
  {
   "cell_type": "code",
   "execution_count": null,
   "outputs": [],
   "source": [
    "# Outlier removal\n",
    "def iqr_outliers(x, features):\n",
    "\n",
    "    out_index_list = []\n",
    "        \n",
    "    for col in features:\n",
    "        q1 = np.nanpercentile(x[col], 25.)\n",
    "        q3 = np.nanpercentile(x[col], 75.)\n",
    "        \n",
    "        cut_off = (q3 - q1) * 1.5\n",
    "        upper, lower = q3 + cut_off, q1 - cut_off\n",
    "                \n",
    "        outliers_index = x[col][(x[col] < lower) | (x[col] > upper)].index.tolist()\n",
    "        out_index_list.extend(outliers_index)\n",
    "        \n",
    "    # Remove duplicates\n",
    "    list(set(out_index_list)).sort()"
   ],
   "metadata": {
    "collapsed": false
   },
   "id": "2707fd4252fb392a"
  },
  {
   "cell_type": "code",
   "execution_count": 26,
   "outputs": [],
   "source": [
    "# Specify the transformations per data type\n",
    "num_trans = Pipeline(steps=[('simple_imputer', SimpleImputer(missing_values=np.nan, strategy='median')),\n",
    "                            ('iqr_outlier', iqr_outliers(X_train, numeric_features)),\n",
    "                            ('scaler', feature_scaler),\n",
    "                           ])\n",
    "\n",
    "cat_trans = Pipeline(steps=[('simple_imputer', SimpleImputer(missing_values=np.nan, strategy='most_frequent')),\n",
    "                            ('onehot_encoder', OneHotEncoder(sparse=False, handle_unknown='infrequent_if_exist')),\n",
    "                            ])\n",
    "\n",
    "ord_trans = Pipeline(steps=[('simple_imputer', SimpleImputer(missing_values=np.nan, strategy='most_frequent')),\n",
    "                            ('ordinal_encoder', OrdinalEncoder(categories='auto', handle_unknown='error')),\n",
    "                            ('scaler', feature_scaler),\n",
    "                           ])\n",
    "                             \n",
    "Column_Transform = ColumnTransformer(transformers=[('numeric_transform', num_trans, numeric_features),\n",
    "                                                   ('categorical_transform', cat_trans, categorical_features),\n",
    "                                                   ('ordinal_transform', ord_trans, ordinal_features),\n",
    "                                                   ],\n",
    "                                     remainder='passthrough',\n",
    "                                    )"
   ],
   "metadata": {
    "pycharm": {
     "name": "#%%\n"
    },
    "ExecuteTime": {
     "end_time": "2023-12-22T13:51:30.146983Z",
     "start_time": "2023-12-22T13:51:30.021451Z"
    }
   },
   "id": "58cc5161"
  },
  {
   "cell_type": "code",
   "execution_count": 27,
   "id": "17593a5b",
   "metadata": {
    "pycharm": {
     "name": "#%%\n"
    },
    "ExecuteTime": {
     "end_time": "2023-12-22T13:51:33.373261Z",
     "start_time": "2023-12-22T13:51:33.349669Z"
    }
   },
   "outputs": [],
   "source": [
    "# Specify number of target classes\n",
    "n_classes = round(y_train.nunique() * adasyn_class_multiplier, 0)"
   ]
  },
  {
   "cell_type": "code",
   "execution_count": 28,
   "id": "e4b3074a",
   "metadata": {
    "pycharm": {
     "name": "#%%\n"
    },
    "ExecuteTime": {
     "end_time": "2023-12-22T13:51:35.937525Z",
     "start_time": "2023-12-22T13:51:35.927406Z"
    }
   },
   "outputs": [],
   "source": [
    "def random_search():\n",
    "    \n",
    "    pipeline1 = Pipeline([\n",
    "    ('col', Column_Transform),\n",
    "    ('smpl', ADASYN(n_neighbors=n_classes, sampling_strategy='not majority', random_state=67)),\n",
    "    ('clf', RandomForestClassifier()),\n",
    "    ])\n",
    "    \n",
    "    pipeline2 = Pipeline([\n",
    "    ('col', Column_Transform),\n",
    "    ('smpl', ADASYN(n_neighbors=n_classes, sampling_strategy='not majority', random_state=67)),\n",
    "    ('clf', ExtraTreesClassifier()),\n",
    "    ])\n",
    "    \n",
    "    pipeline3 = Pipeline([\n",
    "    ('col', Column_Transform),\n",
    "    ('smpl', ADASYN(n_neighbors=n_classes, sampling_strategy='not majority', random_state=67)),\n",
    "    ('clf', GradientBoostingClassifier()),\n",
    "    ])\n",
    "    \n",
    "    pipeline4 = Pipeline([\n",
    "    ('col', Column_Transform),\n",
    "    ('smpl', ADASYN(n_neighbors=n_classes, sampling_strategy='not majority', random_state=67)),\n",
    "    ('clf', AdaBoostClassifier()),\n",
    "    ])\n",
    "\n",
    "    # RandomForestClassifier\n",
    "    parameters1 = {\n",
    "    'clf__bootstrap': [True],\n",
    "    'clf__ccp_alpha': loguniform(1e-06, 1e-01),               # cost-complexity pruning is an algorithm used to prune a tree to avoid over-fitting\n",
    "    'clf__criterion': ['gini','entropy'],\n",
    "    'clf__max_depth': randint(5, 30),\n",
    "    'clf__max_features': loguniform(0.10, 0.35), \n",
    "    'clf__min_impurity_decrease': loguniform(1e-09, 1e-04),\n",
    "    #'clf__max_samples': loguniform(0.02, 0.49),              # Only for bootstrap=True\n",
    "    'clf__min_samples_leaf': loguniform(0.005, 0.20),\n",
    "    'clf__min_samples_split': loguniform(0.005, 0.20),\n",
    "    'clf__min_weight_fraction_leaf': loguniform(0.005, 0.20),\n",
    "    'clf__oob_score': [True, False],                                # Only for bootstrap=True\n",
    "    'clf__warm_start': [True, False],\n",
    "    'clf__n_jobs': [6],\n",
    "    'clf__random_state': [67],\n",
    "    }\n",
    "\n",
    "    # ExtraTreesClassifier\n",
    "    parameters2 = {\n",
    "    'clf__bootstrap': [False],\n",
    "    'clf__ccp_alpha': loguniform(1e-06, 1e-01),               # cost-complexity pruning is an algorithm used to prune a tree to avoid over-fitting\n",
    "    'clf__criterion': ['gini','entropy'],\n",
    "    'clf__max_depth': randint(5, 80),\n",
    "    'clf__max_features': loguniform(0.50, 0.95),\n",
    "    'clf__max_leaf_nodes': randint(20, 70),\n",
    "    #'clf__max_samples': loguniform(0.10, 0.50),               # Only for bootstrap=True\n",
    "    'clf__min_impurity_decrease': loguniform(1e-05, 1e-01),\n",
    "    'clf__min_samples_leaf': loguniform(0.05, 0.30),\n",
    "    'clf__min_samples_split': loguniform(0.005, 0.15),\n",
    "    'clf__min_weight_fraction_leaf': loguniform(0.05, 0.25),\n",
    "    'clf__oob_score': [False],                                # Only for bootstrap=True\n",
    "    'clf__warm_start': [True, False],\n",
    "    'clf__n_jobs': [6],\n",
    "    'clf__random_state': [67],\n",
    "    }\n",
    "    \n",
    "    # GradientBoostingClassifier\n",
    "    parameters3 = {\n",
    "    'clf__criterion': ['friedman_mse'],\n",
    "    'clf__ccp_alpha': loguniform(1e-06, 1e-01),                # cost-complexity pruning is an algorithm used to prune a tree to avoid over-fitting\n",
    "    'clf__learning_rate': loguniform(1e-05, 1e-00),\n",
    "    'clf__loss': ['log_loss','exponential'],\n",
    "    'clf__max_depth': randint(25, 60),\n",
    "    'clf__max_features': loguniform(0.45, 0.85), \n",
    "    'clf__max_leaf_nodes': randint(20, 50),\n",
    "    'clf__min_weight_fraction_leaf': loguniform(0.30, 0.50),   # Must be <= 0.5\n",
    "    'clf__min_impurity_decrease': loguniform(1e-08, 1e-04),\n",
    "    'clf__min_samples_leaf': loguniform(0.01, 0.25),\n",
    "    'clf__min_samples_split': loguniform(0.10, 0.35),\n",
    "    'clf__n_iter_no_change': [200],\n",
    "    'clf__tol': loguniform(1e-08, 1e-03),\n",
    "    'clf__validation_fraction': loguniform(0.05, 0.15),\n",
    "    'clf__warm_start': [True, False],\n",
    "    'clf__subsample': loguniform(0.65, 1.00),                  # Choosing subsample < 1.0 leads to a reduction of variance and an increase in bias\n",
    "    'clf__random_state': [67],\n",
    "    }\n",
    "\n",
    "    # AdaBoostClassifier\n",
    "    parameters4  = {\n",
    "    'clf__algorithm': ['SAMME','SAMME.R'],\n",
    "    'clf__learning_rate': loguniform(1e-08, 1e-01),\n",
    "    'clf__random_state': [67],\n",
    "    }\n",
    "\n",
    "    pars = [parameters1, parameters2, parameters3, parameters4]\n",
    "    pips = [pipeline1, pipeline2, pipeline3, pipeline4]\n",
    "\n",
    "    result = []\n",
    "    \n",
    "    for i in range(len(pars)):\n",
    "        \n",
    "        rs = HalvingRandomSearchCV(pips[i],\n",
    "                                   pars[i],\n",
    "                                   factor=halving_parameter,\n",
    "                                   resource='clf__n_estimators',\n",
    "                                   n_candidates='exhaust',\n",
    "                                   min_resources=min_resource,\n",
    "                                   max_resources=max_resource,\n",
    "                                   scoring=scoring,\n",
    "                                   aggressive_elimination=False,\n",
    "                                   return_train_score=True,\n",
    "                                   refit=True,                   \n",
    "                                   cv=n_cross_validation,\n",
    "                                   n_jobs=6,\n",
    "                                   verbose=1,\n",
    "                                   random_state=67,\n",
    "                                   error_score='raise',\n",
    "                                  )\n",
    "\n",
    "        # Fit models on training data\n",
    "        rs = rs.fit(X_train, y_train)\n",
    "        \n",
    "        # Apply models to test data to determine model performance\n",
    "        y_pred = rs.predict(X_test)\n",
    "        y_pred_prob = rs.predict_proba(X_test)[:, 1]\n",
    "\n",
    "        print(\" \")\n",
    "        \n",
    "        # storing model results\n",
    "        result.append({\n",
    "        'grid': rs,\n",
    "        'cv results': rs.cv_results_,\n",
    "        'train accuracy score': rs.best_score_,\n",
    "        'best params': rs.best_params_, \n",
    "        'best estimator': rs.best_estimator_,\n",
    "        'feature importance': rs.best_estimator_.named_steps['clf'].feature_importances_,\n",
    "        'test f1 score': f1_score(y_test, y_pred, average='micro'),\n",
    "        'test accuracy score': accuracy_score(y_test, y_pred),\n",
    "        'test balanced accuracy score': balanced_accuracy_score(y_test, y_pred),\n",
    "        'test roc auc score': roc_auc_score(y_test, y_pred_prob),\n",
    "        'test classification report': classification_report(y_test, y_pred, target_names=['pass','run'], digits=5),\n",
    "        'test confusion matrix': confusion_matrix(y_test, y_pred),\n",
    "        'cv': rs.cv,\n",
    "        'model #': i + 1\n",
    "        })\n",
    "\n",
    "    # sorting results by best test score\n",
    "    result = sorted(result, key=operator.itemgetter('test f1 score'), reverse=True)\n",
    "    \n",
    "    print(' ')\n",
    "    for element in result:\n",
    "        if element['model #']==1:\n",
    "            print('Random Forest classifier: ')\n",
    "        elif element['model #']==2:\n",
    "            print('ExtraTrees classifier: ')\n",
    "        elif element['model #']==3:\n",
    "            print('GradientBoosting classifier: ')\n",
    "        elif element['model #']==4:\n",
    "            print('AdaBoost classifier: ')\n",
    "        else:\n",
    "            print('Other: ')  \n",
    "        \n",
    "        print('Parameters:  ' + str(element['best params']))\n",
    "        print(' ')\n",
    "        print('Train accuracy score:         ' + str(element['train accuracy score']))\n",
    "        print('Test accuracy score:          ' + str(element['test accuracy score']))\n",
    "        print('Test balanced accuracy score: ' + str(element['test accuracy score']))\n",
    "        print('Test f1 score:                ' + str(element['test f1 score']))\n",
    "        print('Test roc auc score:           ' + str(element['test roc auc score']))\n",
    "        print(' ')\n",
    "        print(element['test classification report'])\n",
    "        print(element['test confusion matrix'])\n",
    "        print(' ')\n",
    "        print('-----------------------')\n",
    "        print(' ')\n",
    "        \n",
    "        # Export best model as csv file\n",
    "        pd.DataFrame(element['cv results']).to_csv(r'/Users/ttas2/Documents/Python/nfl-machine-learning-models/output_files/run_pass_classifier_model.csv')\n",
    "        pd.DataFrame(element['feature importance'], index=X_train.columns).to_csv(r'/Users/ttas2/Documents/Python/nfl-machine-learning-models/output_files/run_pass_classifier_feature_importance.csv')\n"
   ]
  },
  {
   "cell_type": "code",
   "execution_count": 29,
   "id": "e7e2a726",
   "metadata": {
    "pycharm": {
     "name": "#%%\n"
    },
    "scrolled": false,
    "ExecuteTime": {
     "end_time": "2023-12-22T13:51:41.449224Z",
     "start_time": "2023-12-22T13:51:37.092227Z"
    }
   },
   "outputs": [
    {
     "name": "stdout",
     "output_type": "stream",
     "text": [
      "n_iterations: 2\n",
      "n_required_iterations: 2\n",
      "n_possible_iterations: 2\n",
      "min_resources_: 1000\n",
      "max_resources_: 2000\n",
      "aggressive_elimination: False\n",
      "factor: 2.0\n",
      "----------\n",
      "iter: 0\n",
      "n_candidates: 2\n",
      "n_resources: 1000\n",
      "Fitting 5 folds for each of 2 candidates, totalling 10 fits\n"
     ]
    },
    {
     "ename": "ValueError",
     "evalue": "The truth value of a DataFrame is ambiguous. Use a.empty, a.bool(), a.item(), a.any() or a.all().",
     "output_type": "error",
     "traceback": [
      "\u001B[0;31m---------------------------------------------------------------------------\u001B[0m",
      "\u001B[0;31m_RemoteTraceback\u001B[0m                          Traceback (most recent call last)",
      "\u001B[0;31m_RemoteTraceback\u001B[0m: \n\"\"\"\nTraceback (most recent call last):\n  File \"/Users/ttas2/Documents/Python/nfl-machine-learning-models/venv/lib/python3.11/site-packages/joblib/externals/loky/process_executor.py\", line 463, in _process_worker\n    r = call_item()\n        ^^^^^^^^^^^\n  File \"/Users/ttas2/Documents/Python/nfl-machine-learning-models/venv/lib/python3.11/site-packages/joblib/externals/loky/process_executor.py\", line 291, in __call__\n    return self.fn(*self.args, **self.kwargs)\n           ^^^^^^^^^^^^^^^^^^^^^^^^^^^^^^^^^^\n  File \"/Users/ttas2/Documents/Python/nfl-machine-learning-models/venv/lib/python3.11/site-packages/joblib/parallel.py\", line 589, in __call__\n    return [func(*args, **kwargs)\n           ^^^^^^^^^^^^^^^^^^^^^^\n  File \"/Users/ttas2/Documents/Python/nfl-machine-learning-models/venv/lib/python3.11/site-packages/joblib/parallel.py\", line 589, in <listcomp>\n    return [func(*args, **kwargs)\n            ^^^^^^^^^^^^^^^^^^^^^\n  File \"/Users/ttas2/Documents/Python/nfl-machine-learning-models/venv/lib/python3.11/site-packages/sklearn/utils/fixes.py\", line 117, in __call__\n    return self.function(*args, **kwargs)\n           ^^^^^^^^^^^^^^^^^^^^^^^^^^^^^^\n  File \"/Users/ttas2/Documents/Python/nfl-machine-learning-models/venv/lib/python3.11/site-packages/sklearn/model_selection/_validation.py\", line 686, in _fit_and_score\n    estimator.fit(X_train, y_train, **fit_params)\n  File \"/Users/ttas2/Documents/Python/nfl-machine-learning-models/venv/lib/python3.11/site-packages/imblearn/pipeline.py\", line 293, in fit\n    Xt, yt = self._fit(X, y, **fit_params_steps)\n             ^^^^^^^^^^^^^^^^^^^^^^^^^^^^^^^^^^^\n  File \"/Users/ttas2/Documents/Python/nfl-machine-learning-models/venv/lib/python3.11/site-packages/imblearn/pipeline.py\", line 240, in _fit\n    X, fitted_transformer = fit_transform_one_cached(\n                            ^^^^^^^^^^^^^^^^^^^^^^^^^\n  File \"/Users/ttas2/Documents/Python/nfl-machine-learning-models/venv/lib/python3.11/site-packages/joblib/memory.py\", line 353, in __call__\n    return self.func(*args, **kwargs)\n           ^^^^^^^^^^^^^^^^^^^^^^^^^^\n  File \"/Users/ttas2/Documents/Python/nfl-machine-learning-models/venv/lib/python3.11/site-packages/sklearn/pipeline.py\", line 870, in _fit_transform_one\n    res = transformer.fit_transform(X, y, **fit_params)\n          ^^^^^^^^^^^^^^^^^^^^^^^^^^^^^^^^^^^^^^^^^^^^^\n  File \"/Users/ttas2/Documents/Python/nfl-machine-learning-models/venv/lib/python3.11/site-packages/sklearn/compose/_column_transformer.py\", line 690, in fit_transform\n    result = self._fit_transform(X, y, _fit_transform_one)\n             ^^^^^^^^^^^^^^^^^^^^^^^^^^^^^^^^^^^^^^^^^^^^^\n  File \"/Users/ttas2/Documents/Python/nfl-machine-learning-models/venv/lib/python3.11/site-packages/sklearn/compose/_column_transformer.py\", line 621, in _fit_transform\n    return Parallel(n_jobs=self.n_jobs)(\n           ^^^^^^^^^^^^^^^^^^^^^^^^^^^^^\n  File \"/Users/ttas2/Documents/Python/nfl-machine-learning-models/venv/lib/python3.11/site-packages/joblib/parallel.py\", line 1863, in __call__\n    return output if self.return_generator else list(output)\n                                                ^^^^^^^^^^^^\n  File \"/Users/ttas2/Documents/Python/nfl-machine-learning-models/venv/lib/python3.11/site-packages/joblib/parallel.py\", line 1792, in _get_sequential_output\n    res = func(*args, **kwargs)\n          ^^^^^^^^^^^^^^^^^^^^^\n  File \"/Users/ttas2/Documents/Python/nfl-machine-learning-models/venv/lib/python3.11/site-packages/sklearn/utils/fixes.py\", line 117, in __call__\n    return self.function(*args, **kwargs)\n           ^^^^^^^^^^^^^^^^^^^^^^^^^^^^^^\n  File \"/Users/ttas2/Documents/Python/nfl-machine-learning-models/venv/lib/python3.11/site-packages/sklearn/pipeline.py\", line 870, in _fit_transform_one\n    res = transformer.fit_transform(X, y, **fit_params)\n          ^^^^^^^^^^^^^^^^^^^^^^^^^^^^^^^^^^^^^^^^^^^^^\n  File \"/Users/ttas2/Documents/Python/nfl-machine-learning-models/venv/lib/python3.11/site-packages/imblearn/pipeline.py\", line 329, in fit_transform\n    Xt, yt = self._fit(X, y, **fit_params_steps)\n             ^^^^^^^^^^^^^^^^^^^^^^^^^^^^^^^^^^^\n  File \"/Users/ttas2/Documents/Python/nfl-machine-learning-models/venv/lib/python3.11/site-packages/imblearn/pipeline.py\", line 211, in _fit\n    self._validate_steps()\n  File \"/Users/ttas2/Documents/Python/nfl-machine-learning-models/venv/lib/python3.11/site-packages/imblearn/pipeline.py\", line 153, in _validate_steps\n    if t is None or t == \"passthrough\":\n                    ^^^^^^^^^^^^^^^^^^\n  File \"/Users/ttas2/Documents/Python/nfl-machine-learning-models/venv/lib/python3.11/site-packages/pandas/core/generic.py\", line 1466, in __nonzero__\n    raise ValueError(\nValueError: The truth value of a DataFrame is ambiguous. Use a.empty, a.bool(), a.item(), a.any() or a.all().\n\"\"\"",
      "\nThe above exception was the direct cause of the following exception:\n",
      "\u001B[0;31mValueError\u001B[0m                                Traceback (most recent call last)",
      "Cell \u001B[0;32mIn[29], line 1\u001B[0m\n\u001B[0;32m----> 1\u001B[0m \u001B[43mrandom_search\u001B[49m\u001B[43m(\u001B[49m\u001B[43m)\u001B[49m\n",
      "Cell \u001B[0;32mIn[28], line 118\u001B[0m, in \u001B[0;36mrandom_search\u001B[0;34m()\u001B[0m\n\u001B[1;32m     99\u001B[0m rs \u001B[38;5;241m=\u001B[39m HalvingRandomSearchCV(pips[i],\n\u001B[1;32m    100\u001B[0m                            pars[i],\n\u001B[1;32m    101\u001B[0m                            factor\u001B[38;5;241m=\u001B[39mhalving_parameter,\n\u001B[0;32m   (...)\u001B[0m\n\u001B[1;32m    114\u001B[0m                            error_score\u001B[38;5;241m=\u001B[39m\u001B[38;5;124m'\u001B[39m\u001B[38;5;124mraise\u001B[39m\u001B[38;5;124m'\u001B[39m,\n\u001B[1;32m    115\u001B[0m                           )\n\u001B[1;32m    117\u001B[0m \u001B[38;5;66;03m# Fit models on training data\u001B[39;00m\n\u001B[0;32m--> 118\u001B[0m rs \u001B[38;5;241m=\u001B[39m \u001B[43mrs\u001B[49m\u001B[38;5;241;43m.\u001B[39;49m\u001B[43mfit\u001B[49m\u001B[43m(\u001B[49m\u001B[43mX_train\u001B[49m\u001B[43m,\u001B[49m\u001B[43m \u001B[49m\u001B[43my_train\u001B[49m\u001B[43m)\u001B[49m\n\u001B[1;32m    120\u001B[0m \u001B[38;5;66;03m# Apply models to test data to determine model performance\u001B[39;00m\n\u001B[1;32m    121\u001B[0m y_pred \u001B[38;5;241m=\u001B[39m rs\u001B[38;5;241m.\u001B[39mpredict(X_test)\n",
      "File \u001B[0;32m~/Documents/Python/nfl-machine-learning-models/venv/lib/python3.11/site-packages/sklearn/model_selection/_search_successive_halving.py:261\u001B[0m, in \u001B[0;36mBaseSuccessiveHalving.fit\u001B[0;34m(self, X, y, groups, **fit_params)\u001B[0m\n\u001B[1;32m    253\u001B[0m \u001B[38;5;28mself\u001B[39m\u001B[38;5;241m.\u001B[39m_check_input_parameters(\n\u001B[1;32m    254\u001B[0m     X\u001B[38;5;241m=\u001B[39mX,\n\u001B[1;32m    255\u001B[0m     y\u001B[38;5;241m=\u001B[39my,\n\u001B[1;32m    256\u001B[0m     groups\u001B[38;5;241m=\u001B[39mgroups,\n\u001B[1;32m    257\u001B[0m )\n\u001B[1;32m    259\u001B[0m \u001B[38;5;28mself\u001B[39m\u001B[38;5;241m.\u001B[39m_n_samples_orig \u001B[38;5;241m=\u001B[39m _num_samples(X)\n\u001B[0;32m--> 261\u001B[0m \u001B[38;5;28;43msuper\u001B[39;49m\u001B[43m(\u001B[49m\u001B[43m)\u001B[49m\u001B[38;5;241;43m.\u001B[39;49m\u001B[43mfit\u001B[49m\u001B[43m(\u001B[49m\u001B[43mX\u001B[49m\u001B[43m,\u001B[49m\u001B[43m \u001B[49m\u001B[43my\u001B[49m\u001B[38;5;241;43m=\u001B[39;49m\u001B[43my\u001B[49m\u001B[43m,\u001B[49m\u001B[43m \u001B[49m\u001B[43mgroups\u001B[49m\u001B[38;5;241;43m=\u001B[39;49m\u001B[43mgroups\u001B[49m\u001B[43m,\u001B[49m\u001B[43m \u001B[49m\u001B[38;5;241;43m*\u001B[39;49m\u001B[38;5;241;43m*\u001B[39;49m\u001B[43mfit_params\u001B[49m\u001B[43m)\u001B[49m\n\u001B[1;32m    263\u001B[0m \u001B[38;5;66;03m# Set best_score_: BaseSearchCV does not set it, as refit is a callable\u001B[39;00m\n\u001B[1;32m    264\u001B[0m \u001B[38;5;28mself\u001B[39m\u001B[38;5;241m.\u001B[39mbest_score_ \u001B[38;5;241m=\u001B[39m \u001B[38;5;28mself\u001B[39m\u001B[38;5;241m.\u001B[39mcv_results_[\u001B[38;5;124m\"\u001B[39m\u001B[38;5;124mmean_test_score\u001B[39m\u001B[38;5;124m\"\u001B[39m][\u001B[38;5;28mself\u001B[39m\u001B[38;5;241m.\u001B[39mbest_index_]\n",
      "File \u001B[0;32m~/Documents/Python/nfl-machine-learning-models/venv/lib/python3.11/site-packages/sklearn/model_selection/_search.py:875\u001B[0m, in \u001B[0;36mBaseSearchCV.fit\u001B[0;34m(self, X, y, groups, **fit_params)\u001B[0m\n\u001B[1;32m    869\u001B[0m     results \u001B[38;5;241m=\u001B[39m \u001B[38;5;28mself\u001B[39m\u001B[38;5;241m.\u001B[39m_format_results(\n\u001B[1;32m    870\u001B[0m         all_candidate_params, n_splits, all_out, all_more_results\n\u001B[1;32m    871\u001B[0m     )\n\u001B[1;32m    873\u001B[0m     \u001B[38;5;28;01mreturn\u001B[39;00m results\n\u001B[0;32m--> 875\u001B[0m \u001B[38;5;28;43mself\u001B[39;49m\u001B[38;5;241;43m.\u001B[39;49m\u001B[43m_run_search\u001B[49m\u001B[43m(\u001B[49m\u001B[43mevaluate_candidates\u001B[49m\u001B[43m)\u001B[49m\n\u001B[1;32m    877\u001B[0m \u001B[38;5;66;03m# multimetric is determined here because in the case of a callable\u001B[39;00m\n\u001B[1;32m    878\u001B[0m \u001B[38;5;66;03m# self.scoring the return type is only known after calling\u001B[39;00m\n\u001B[1;32m    879\u001B[0m first_test_score \u001B[38;5;241m=\u001B[39m all_out[\u001B[38;5;241m0\u001B[39m][\u001B[38;5;124m\"\u001B[39m\u001B[38;5;124mtest_scores\u001B[39m\u001B[38;5;124m\"\u001B[39m]\n",
      "File \u001B[0;32m~/Documents/Python/nfl-machine-learning-models/venv/lib/python3.11/site-packages/sklearn/model_selection/_search_successive_halving.py:366\u001B[0m, in \u001B[0;36mBaseSuccessiveHalving._run_search\u001B[0;34m(self, evaluate_candidates)\u001B[0m\n\u001B[1;32m    359\u001B[0m     cv \u001B[38;5;241m=\u001B[39m \u001B[38;5;28mself\u001B[39m\u001B[38;5;241m.\u001B[39m_checked_cv_orig\n\u001B[1;32m    361\u001B[0m more_results \u001B[38;5;241m=\u001B[39m {\n\u001B[1;32m    362\u001B[0m     \u001B[38;5;124m\"\u001B[39m\u001B[38;5;124miter\u001B[39m\u001B[38;5;124m\"\u001B[39m: [itr] \u001B[38;5;241m*\u001B[39m n_candidates,\n\u001B[1;32m    363\u001B[0m     \u001B[38;5;124m\"\u001B[39m\u001B[38;5;124mn_resources\u001B[39m\u001B[38;5;124m\"\u001B[39m: [n_resources] \u001B[38;5;241m*\u001B[39m n_candidates,\n\u001B[1;32m    364\u001B[0m }\n\u001B[0;32m--> 366\u001B[0m results \u001B[38;5;241m=\u001B[39m \u001B[43mevaluate_candidates\u001B[49m\u001B[43m(\u001B[49m\n\u001B[1;32m    367\u001B[0m \u001B[43m    \u001B[49m\u001B[43mcandidate_params\u001B[49m\u001B[43m,\u001B[49m\u001B[43m \u001B[49m\u001B[43mcv\u001B[49m\u001B[43m,\u001B[49m\u001B[43m \u001B[49m\u001B[43mmore_results\u001B[49m\u001B[38;5;241;43m=\u001B[39;49m\u001B[43mmore_results\u001B[49m\n\u001B[1;32m    368\u001B[0m \u001B[43m\u001B[49m\u001B[43m)\u001B[49m\n\u001B[1;32m    370\u001B[0m n_candidates_to_keep \u001B[38;5;241m=\u001B[39m ceil(n_candidates \u001B[38;5;241m/\u001B[39m \u001B[38;5;28mself\u001B[39m\u001B[38;5;241m.\u001B[39mfactor)\n\u001B[1;32m    371\u001B[0m candidate_params \u001B[38;5;241m=\u001B[39m _top_k(results, n_candidates_to_keep, itr)\n",
      "File \u001B[0;32m~/Documents/Python/nfl-machine-learning-models/venv/lib/python3.11/site-packages/sklearn/model_selection/_search.py:822\u001B[0m, in \u001B[0;36mBaseSearchCV.fit.<locals>.evaluate_candidates\u001B[0;34m(candidate_params, cv, more_results)\u001B[0m\n\u001B[1;32m    814\u001B[0m \u001B[38;5;28;01mif\u001B[39;00m \u001B[38;5;28mself\u001B[39m\u001B[38;5;241m.\u001B[39mverbose \u001B[38;5;241m>\u001B[39m \u001B[38;5;241m0\u001B[39m:\n\u001B[1;32m    815\u001B[0m     \u001B[38;5;28mprint\u001B[39m(\n\u001B[1;32m    816\u001B[0m         \u001B[38;5;124m\"\u001B[39m\u001B[38;5;124mFitting \u001B[39m\u001B[38;5;132;01m{0}\u001B[39;00m\u001B[38;5;124m folds for each of \u001B[39m\u001B[38;5;132;01m{1}\u001B[39;00m\u001B[38;5;124m candidates,\u001B[39m\u001B[38;5;124m\"\u001B[39m\n\u001B[1;32m    817\u001B[0m         \u001B[38;5;124m\"\u001B[39m\u001B[38;5;124m totalling \u001B[39m\u001B[38;5;132;01m{2}\u001B[39;00m\u001B[38;5;124m fits\u001B[39m\u001B[38;5;124m\"\u001B[39m\u001B[38;5;241m.\u001B[39mformat(\n\u001B[1;32m    818\u001B[0m             n_splits, n_candidates, n_candidates \u001B[38;5;241m*\u001B[39m n_splits\n\u001B[1;32m    819\u001B[0m         )\n\u001B[1;32m    820\u001B[0m     )\n\u001B[0;32m--> 822\u001B[0m out \u001B[38;5;241m=\u001B[39m \u001B[43mparallel\u001B[49m\u001B[43m(\u001B[49m\n\u001B[1;32m    823\u001B[0m \u001B[43m    \u001B[49m\u001B[43mdelayed\u001B[49m\u001B[43m(\u001B[49m\u001B[43m_fit_and_score\u001B[49m\u001B[43m)\u001B[49m\u001B[43m(\u001B[49m\n\u001B[1;32m    824\u001B[0m \u001B[43m        \u001B[49m\u001B[43mclone\u001B[49m\u001B[43m(\u001B[49m\u001B[43mbase_estimator\u001B[49m\u001B[43m)\u001B[49m\u001B[43m,\u001B[49m\n\u001B[1;32m    825\u001B[0m \u001B[43m        \u001B[49m\u001B[43mX\u001B[49m\u001B[43m,\u001B[49m\n\u001B[1;32m    826\u001B[0m \u001B[43m        \u001B[49m\u001B[43my\u001B[49m\u001B[43m,\u001B[49m\n\u001B[1;32m    827\u001B[0m \u001B[43m        \u001B[49m\u001B[43mtrain\u001B[49m\u001B[38;5;241;43m=\u001B[39;49m\u001B[43mtrain\u001B[49m\u001B[43m,\u001B[49m\n\u001B[1;32m    828\u001B[0m \u001B[43m        \u001B[49m\u001B[43mtest\u001B[49m\u001B[38;5;241;43m=\u001B[39;49m\u001B[43mtest\u001B[49m\u001B[43m,\u001B[49m\n\u001B[1;32m    829\u001B[0m \u001B[43m        \u001B[49m\u001B[43mparameters\u001B[49m\u001B[38;5;241;43m=\u001B[39;49m\u001B[43mparameters\u001B[49m\u001B[43m,\u001B[49m\n\u001B[1;32m    830\u001B[0m \u001B[43m        \u001B[49m\u001B[43msplit_progress\u001B[49m\u001B[38;5;241;43m=\u001B[39;49m\u001B[43m(\u001B[49m\u001B[43msplit_idx\u001B[49m\u001B[43m,\u001B[49m\u001B[43m \u001B[49m\u001B[43mn_splits\u001B[49m\u001B[43m)\u001B[49m\u001B[43m,\u001B[49m\n\u001B[1;32m    831\u001B[0m \u001B[43m        \u001B[49m\u001B[43mcandidate_progress\u001B[49m\u001B[38;5;241;43m=\u001B[39;49m\u001B[43m(\u001B[49m\u001B[43mcand_idx\u001B[49m\u001B[43m,\u001B[49m\u001B[43m \u001B[49m\u001B[43mn_candidates\u001B[49m\u001B[43m)\u001B[49m\u001B[43m,\u001B[49m\n\u001B[1;32m    832\u001B[0m \u001B[43m        \u001B[49m\u001B[38;5;241;43m*\u001B[39;49m\u001B[38;5;241;43m*\u001B[39;49m\u001B[43mfit_and_score_kwargs\u001B[49m\u001B[43m,\u001B[49m\n\u001B[1;32m    833\u001B[0m \u001B[43m    \u001B[49m\u001B[43m)\u001B[49m\n\u001B[1;32m    834\u001B[0m \u001B[43m    \u001B[49m\u001B[38;5;28;43;01mfor\u001B[39;49;00m\u001B[43m \u001B[49m\u001B[43m(\u001B[49m\u001B[43mcand_idx\u001B[49m\u001B[43m,\u001B[49m\u001B[43m \u001B[49m\u001B[43mparameters\u001B[49m\u001B[43m)\u001B[49m\u001B[43m,\u001B[49m\u001B[43m \u001B[49m\u001B[43m(\u001B[49m\u001B[43msplit_idx\u001B[49m\u001B[43m,\u001B[49m\u001B[43m \u001B[49m\u001B[43m(\u001B[49m\u001B[43mtrain\u001B[49m\u001B[43m,\u001B[49m\u001B[43m \u001B[49m\u001B[43mtest\u001B[49m\u001B[43m)\u001B[49m\u001B[43m)\u001B[49m\u001B[43m \u001B[49m\u001B[38;5;129;43;01min\u001B[39;49;00m\u001B[43m \u001B[49m\u001B[43mproduct\u001B[49m\u001B[43m(\u001B[49m\n\u001B[1;32m    835\u001B[0m \u001B[43m        \u001B[49m\u001B[38;5;28;43menumerate\u001B[39;49m\u001B[43m(\u001B[49m\u001B[43mcandidate_params\u001B[49m\u001B[43m)\u001B[49m\u001B[43m,\u001B[49m\u001B[43m \u001B[49m\u001B[38;5;28;43menumerate\u001B[39;49m\u001B[43m(\u001B[49m\u001B[43mcv\u001B[49m\u001B[38;5;241;43m.\u001B[39;49m\u001B[43msplit\u001B[49m\u001B[43m(\u001B[49m\u001B[43mX\u001B[49m\u001B[43m,\u001B[49m\u001B[43m \u001B[49m\u001B[43my\u001B[49m\u001B[43m,\u001B[49m\u001B[43m \u001B[49m\u001B[43mgroups\u001B[49m\u001B[43m)\u001B[49m\u001B[43m)\u001B[49m\n\u001B[1;32m    836\u001B[0m \u001B[43m    \u001B[49m\u001B[43m)\u001B[49m\n\u001B[1;32m    837\u001B[0m \u001B[43m\u001B[49m\u001B[43m)\u001B[49m\n\u001B[1;32m    839\u001B[0m \u001B[38;5;28;01mif\u001B[39;00m \u001B[38;5;28mlen\u001B[39m(out) \u001B[38;5;241m<\u001B[39m \u001B[38;5;241m1\u001B[39m:\n\u001B[1;32m    840\u001B[0m     \u001B[38;5;28;01mraise\u001B[39;00m \u001B[38;5;167;01mValueError\u001B[39;00m(\n\u001B[1;32m    841\u001B[0m         \u001B[38;5;124m\"\u001B[39m\u001B[38;5;124mNo fits were performed. \u001B[39m\u001B[38;5;124m\"\u001B[39m\n\u001B[1;32m    842\u001B[0m         \u001B[38;5;124m\"\u001B[39m\u001B[38;5;124mWas the CV iterator empty? \u001B[39m\u001B[38;5;124m\"\u001B[39m\n\u001B[1;32m    843\u001B[0m         \u001B[38;5;124m\"\u001B[39m\u001B[38;5;124mWere there no candidates?\u001B[39m\u001B[38;5;124m\"\u001B[39m\n\u001B[1;32m    844\u001B[0m     )\n",
      "File \u001B[0;32m~/Documents/Python/nfl-machine-learning-models/venv/lib/python3.11/site-packages/joblib/parallel.py:1952\u001B[0m, in \u001B[0;36mParallel.__call__\u001B[0;34m(self, iterable)\u001B[0m\n\u001B[1;32m   1946\u001B[0m \u001B[38;5;66;03m# The first item from the output is blank, but it makes the interpreter\u001B[39;00m\n\u001B[1;32m   1947\u001B[0m \u001B[38;5;66;03m# progress until it enters the Try/Except block of the generator and\u001B[39;00m\n\u001B[1;32m   1948\u001B[0m \u001B[38;5;66;03m# reach the first `yield` statement. This starts the aynchronous\u001B[39;00m\n\u001B[1;32m   1949\u001B[0m \u001B[38;5;66;03m# dispatch of the tasks to the workers.\u001B[39;00m\n\u001B[1;32m   1950\u001B[0m \u001B[38;5;28mnext\u001B[39m(output)\n\u001B[0;32m-> 1952\u001B[0m \u001B[38;5;28;01mreturn\u001B[39;00m output \u001B[38;5;28;01mif\u001B[39;00m \u001B[38;5;28mself\u001B[39m\u001B[38;5;241m.\u001B[39mreturn_generator \u001B[38;5;28;01melse\u001B[39;00m \u001B[38;5;28mlist\u001B[39m(output)\n",
      "File \u001B[0;32m~/Documents/Python/nfl-machine-learning-models/venv/lib/python3.11/site-packages/joblib/parallel.py:1595\u001B[0m, in \u001B[0;36mParallel._get_outputs\u001B[0;34m(self, iterator, pre_dispatch)\u001B[0m\n\u001B[1;32m   1592\u001B[0m     \u001B[38;5;28;01myield\u001B[39;00m\n\u001B[1;32m   1594\u001B[0m     \u001B[38;5;28;01mwith\u001B[39;00m \u001B[38;5;28mself\u001B[39m\u001B[38;5;241m.\u001B[39m_backend\u001B[38;5;241m.\u001B[39mretrieval_context():\n\u001B[0;32m-> 1595\u001B[0m         \u001B[38;5;28;01myield from\u001B[39;00m \u001B[38;5;28mself\u001B[39m\u001B[38;5;241m.\u001B[39m_retrieve()\n\u001B[1;32m   1597\u001B[0m \u001B[38;5;28;01mexcept\u001B[39;00m \u001B[38;5;167;01mGeneratorExit\u001B[39;00m:\n\u001B[1;32m   1598\u001B[0m     \u001B[38;5;66;03m# The generator has been garbage collected before being fully\u001B[39;00m\n\u001B[1;32m   1599\u001B[0m     \u001B[38;5;66;03m# consumed. This aborts the remaining tasks if possible and warn\u001B[39;00m\n\u001B[1;32m   1600\u001B[0m     \u001B[38;5;66;03m# the user if necessary.\u001B[39;00m\n\u001B[1;32m   1601\u001B[0m     \u001B[38;5;28mself\u001B[39m\u001B[38;5;241m.\u001B[39m_exception \u001B[38;5;241m=\u001B[39m \u001B[38;5;28;01mTrue\u001B[39;00m\n",
      "File \u001B[0;32m~/Documents/Python/nfl-machine-learning-models/venv/lib/python3.11/site-packages/joblib/parallel.py:1699\u001B[0m, in \u001B[0;36mParallel._retrieve\u001B[0;34m(self)\u001B[0m\n\u001B[1;32m   1692\u001B[0m \u001B[38;5;28;01mwhile\u001B[39;00m \u001B[38;5;28mself\u001B[39m\u001B[38;5;241m.\u001B[39m_wait_retrieval():\n\u001B[1;32m   1693\u001B[0m \n\u001B[1;32m   1694\u001B[0m     \u001B[38;5;66;03m# If the callback thread of a worker has signaled that its task\u001B[39;00m\n\u001B[1;32m   1695\u001B[0m     \u001B[38;5;66;03m# triggered an exception, or if the retrieval loop has raised an\u001B[39;00m\n\u001B[1;32m   1696\u001B[0m     \u001B[38;5;66;03m# exception (e.g. `GeneratorExit`), exit the loop and surface the\u001B[39;00m\n\u001B[1;32m   1697\u001B[0m     \u001B[38;5;66;03m# worker traceback.\u001B[39;00m\n\u001B[1;32m   1698\u001B[0m     \u001B[38;5;28;01mif\u001B[39;00m \u001B[38;5;28mself\u001B[39m\u001B[38;5;241m.\u001B[39m_aborting:\n\u001B[0;32m-> 1699\u001B[0m         \u001B[38;5;28;43mself\u001B[39;49m\u001B[38;5;241;43m.\u001B[39;49m\u001B[43m_raise_error_fast\u001B[49m\u001B[43m(\u001B[49m\u001B[43m)\u001B[49m\n\u001B[1;32m   1700\u001B[0m         \u001B[38;5;28;01mbreak\u001B[39;00m\n\u001B[1;32m   1702\u001B[0m     \u001B[38;5;66;03m# If the next job is not ready for retrieval yet, we just wait for\u001B[39;00m\n\u001B[1;32m   1703\u001B[0m     \u001B[38;5;66;03m# async callbacks to progress.\u001B[39;00m\n",
      "File \u001B[0;32m~/Documents/Python/nfl-machine-learning-models/venv/lib/python3.11/site-packages/joblib/parallel.py:1734\u001B[0m, in \u001B[0;36mParallel._raise_error_fast\u001B[0;34m(self)\u001B[0m\n\u001B[1;32m   1730\u001B[0m \u001B[38;5;66;03m# If this error job exists, immediatly raise the error by\u001B[39;00m\n\u001B[1;32m   1731\u001B[0m \u001B[38;5;66;03m# calling get_result. This job might not exists if abort has been\u001B[39;00m\n\u001B[1;32m   1732\u001B[0m \u001B[38;5;66;03m# called directly or if the generator is gc'ed.\u001B[39;00m\n\u001B[1;32m   1733\u001B[0m \u001B[38;5;28;01mif\u001B[39;00m error_job \u001B[38;5;129;01mis\u001B[39;00m \u001B[38;5;129;01mnot\u001B[39;00m \u001B[38;5;28;01mNone\u001B[39;00m:\n\u001B[0;32m-> 1734\u001B[0m     \u001B[43merror_job\u001B[49m\u001B[38;5;241;43m.\u001B[39;49m\u001B[43mget_result\u001B[49m\u001B[43m(\u001B[49m\u001B[38;5;28;43mself\u001B[39;49m\u001B[38;5;241;43m.\u001B[39;49m\u001B[43mtimeout\u001B[49m\u001B[43m)\u001B[49m\n",
      "File \u001B[0;32m~/Documents/Python/nfl-machine-learning-models/venv/lib/python3.11/site-packages/joblib/parallel.py:736\u001B[0m, in \u001B[0;36mBatchCompletionCallBack.get_result\u001B[0;34m(self, timeout)\u001B[0m\n\u001B[1;32m    730\u001B[0m backend \u001B[38;5;241m=\u001B[39m \u001B[38;5;28mself\u001B[39m\u001B[38;5;241m.\u001B[39mparallel\u001B[38;5;241m.\u001B[39m_backend\n\u001B[1;32m    732\u001B[0m \u001B[38;5;28;01mif\u001B[39;00m backend\u001B[38;5;241m.\u001B[39msupports_retrieve_callback:\n\u001B[1;32m    733\u001B[0m     \u001B[38;5;66;03m# We assume that the result has already been retrieved by the\u001B[39;00m\n\u001B[1;32m    734\u001B[0m     \u001B[38;5;66;03m# callback thread, and is stored internally. It's just waiting to\u001B[39;00m\n\u001B[1;32m    735\u001B[0m     \u001B[38;5;66;03m# be returned.\u001B[39;00m\n\u001B[0;32m--> 736\u001B[0m     \u001B[38;5;28;01mreturn\u001B[39;00m \u001B[38;5;28;43mself\u001B[39;49m\u001B[38;5;241;43m.\u001B[39;49m\u001B[43m_return_or_raise\u001B[49m\u001B[43m(\u001B[49m\u001B[43m)\u001B[49m\n\u001B[1;32m    738\u001B[0m \u001B[38;5;66;03m# For other backends, the main thread needs to run the retrieval step.\u001B[39;00m\n\u001B[1;32m    739\u001B[0m \u001B[38;5;28;01mtry\u001B[39;00m:\n",
      "File \u001B[0;32m~/Documents/Python/nfl-machine-learning-models/venv/lib/python3.11/site-packages/joblib/parallel.py:754\u001B[0m, in \u001B[0;36mBatchCompletionCallBack._return_or_raise\u001B[0;34m(self)\u001B[0m\n\u001B[1;32m    752\u001B[0m \u001B[38;5;28;01mtry\u001B[39;00m:\n\u001B[1;32m    753\u001B[0m     \u001B[38;5;28;01mif\u001B[39;00m \u001B[38;5;28mself\u001B[39m\u001B[38;5;241m.\u001B[39mstatus \u001B[38;5;241m==\u001B[39m TASK_ERROR:\n\u001B[0;32m--> 754\u001B[0m         \u001B[38;5;28;01mraise\u001B[39;00m \u001B[38;5;28mself\u001B[39m\u001B[38;5;241m.\u001B[39m_result\n\u001B[1;32m    755\u001B[0m     \u001B[38;5;28;01mreturn\u001B[39;00m \u001B[38;5;28mself\u001B[39m\u001B[38;5;241m.\u001B[39m_result\n\u001B[1;32m    756\u001B[0m \u001B[38;5;28;01mfinally\u001B[39;00m:\n",
      "\u001B[0;31mValueError\u001B[0m: The truth value of a DataFrame is ambiguous. Use a.empty, a.bool(), a.item(), a.any() or a.all()."
     ]
    }
   ],
   "source": [
    "%%capture --no-stdout --no-display\n",
    "random_search()"
   ]
  },
  {
   "cell_type": "code",
   "execution_count": 24,
   "outputs": [
    {
     "name": "stdout",
     "output_type": "stream",
     "text": [
      "Total time running pipeline: 0.91 hours (not including feature selection time)\n"
     ]
    }
   ],
   "source": [
    "# Calculate workbook processing time in hours\n",
    "end_time = time.time()\n",
    "total_time = end_time - start_time\n",
    "\n",
    "print('Total time running pipeline:', round(total_time / 3600, 2), 'hours (not including feature selection time)')"
   ],
   "metadata": {
    "collapsed": false,
    "ExecuteTime": {
     "end_time": "2023-12-22T08:02:45.615456Z",
     "start_time": "2023-12-22T08:02:45.604682Z"
    }
   },
   "id": "d7e4b6574bc08686"
  },
  {
   "cell_type": "markdown",
   "source": [
    "## TEST RESULTS FROM SCALING METHODS"
   ],
   "metadata": {
    "collapsed": false
   },
   "id": "fb1540d2bf6bbb08"
  },
  {
   "cell_type": "raw",
   "source": [
    "ExtraTrees classifier: \n",
    " \n",
    " Parameters:  {'clf__bootstrap': True, 'clf__ccp_alpha': 0.014005353466960604, 'clf__criterion': 'gini', 'clf__max_depth': 36, 'clf__max_features': 0.5578093538405019, 'clf__max_leaf_nodes': 53, 'clf__min_impurity_decrease': 3.96411930114887e-05, 'clf__min_samples_leaf': 0.12921015304952282, 'clf__min_samples_split': 0.035905666612043134, 'clf__min_weight_fraction_leaf': 0.24880683519453364, 'clf__n_jobs': 6, 'clf__oob_score': True, 'clf__random_state': 67, 'clf__warm_start': False, 'clf__n_estimators': 2000, RobustScaler}\n",
    "Train accuracy score:         0.7333690655884785\n",
    "Test accuracy score:          0.7324876515491693\n",
    "\n",
    " Parameters:  {'clf__bootstrap': True, 'clf__ccp_alpha': 0.014005353466960604, 'clf__criterion': 'gini', 'clf__max_depth': 36, 'clf__max_features': 0.5578093538405019, 'clf__max_leaf_nodes': 53, 'clf__min_impurity_decrease': 3.96411930114887e-05, 'clf__min_samples_leaf': 0.12921015304952282, 'clf__min_samples_split': 0.035905666612043134, 'clf__min_weight_fraction_leaf': 0.24880683519453364, 'clf__n_jobs': 6, 'clf__oob_score': True, 'clf__random_state': 67, 'clf__warm_start': False, 'clf__n_estimators': 2000, MinMaxScaler}\n",
    "Train accuracy score:         0.7337256620740054\n",
    "Test accuracy score:          0.7320386169735069\n",
    "\n",
    " Parameters:  {'clf__bootstrap': True, 'clf__ccp_alpha': 0.014005353466960604, 'clf__criterion': 'gini', 'clf__max_depth': 36, 'clf__max_features': 0.5578093538405019, 'clf__max_leaf_nodes': 53, 'clf__min_impurity_decrease': 3.96411930114887e-05, 'clf__min_samples_leaf': 0.12921015304952282, 'clf__min_samples_split': 0.035905666612043134, 'clf__min_weight_fraction_leaf': 0.24880683519453364, 'clf__n_jobs': 6, 'clf__oob_score': True, 'clf__random_state': 67, 'clf__warm_start': False, 'clf__n_estimators': 2000, MaxAbsScaler}\n",
    "Train accuracy score:         0.7344190138219404\n",
    "Test accuracy score:          0.7338347552761563\n",
    "\n",
    " Parameters:  {'clf__bootstrap': True, 'clf__ccp_alpha': 0.014005353466960604, 'clf__criterion': 'gini', 'clf__max_depth': 36, 'clf__max_features': 0.5578093538405019, 'clf__max_leaf_nodes': 53, 'clf__min_impurity_decrease': 3.96411930114887e-05, 'clf__min_samples_leaf': 0.12921015304952282, 'clf__min_samples_split': 0.035905666612043134, 'clf__min_weight_fraction_leaf': 0.24880683519453364, 'clf__n_jobs': 6, 'clf__oob_score': True, 'clf__random_state': 67, 'clf__warm_start': False, 'clf__n_estimators': 2000, StandardScaler}\n",
    "Train accuracy score:         0.7341614841258441\n",
    "Test accuracy score:          0.7339470139200719\n",
    "\n",
    " \n",
    "#########################################################################################################################\n",
    " \n",
    "GradientBoosting classifier: \n",
    "\n",
    "Parameters:  {'clf__ccp_alpha': 1.8211995819534176e-05, 'clf__criterion': 'friedman_mse', 'clf__learning_rate': 0.0003761693892248827, 'clf__loss': 'exponential', 'clf__max_depth': 59, 'clf__max_features': 0.4531920718375533, 'clf__max_leaf_nodes': 41, 'clf__min_impurity_decrease': 6.883261775055951e-08, 'clf__min_samples_leaf': 0.15019248856066603, 'clf__min_samples_split': 0.2418111766892731, 'clf__min_weight_fraction_leaf': 0.3821932278101374, 'clf__n_iter_no_change': 200, 'clf__random_state': 67, 'clf__subsample': 0.8561634438374421, 'clf__tol': 2.347606339495969e-05, 'clf__validation_fraction': 0.061368980136258265, 'clf__warm_start': True, 'clf__n_estimators': 2000, RobustScaler}\n",
    "Train accuracy score:         0.7270295956244521\n",
    "Test accuracy score:          0.7322631342613382\n",
    "\n",
    "Parameters:  {'clf__ccp_alpha': 1.8211995819534176e-05, 'clf__criterion': 'friedman_mse', 'clf__learning_rate': 0.0003761693892248827, 'clf__loss': 'exponential', 'clf__max_depth': 59, 'clf__max_features': 0.4531920718375533, 'clf__max_leaf_nodes': 41, 'clf__min_impurity_decrease': 6.883261775055951e-08, 'clf__min_samples_leaf': 0.15019248856066603, 'clf__min_samples_split': 0.2418111766892731, 'clf__min_weight_fraction_leaf': 0.3821932278101374, 'clf__n_iter_no_change': 200, 'clf__random_state': 67, 'clf__subsample': 0.8561634438374421, 'clf__tol': 2.347606339495969e-05, 'clf__validation_fraction': 0.061368980136258265, 'clf__warm_start': True, 'clf__n_estimators': 2000, MinMaxScaler}\n",
    "Train accuracy score:         0.7208883279211987\n",
    "Test accuracy score:          0.7318140996856758\n",
    "\n",
    "Parameters:  {'clf__ccp_alpha': 1.8211995819534176e-05, 'clf__criterion': 'friedman_mse', 'clf__learning_rate': 0.0003761693892248827, 'clf__loss': 'exponential', 'clf__max_depth': 59, 'clf__max_features': 0.4531920718375533, 'clf__max_leaf_nodes': 41, 'clf__min_impurity_decrease': 6.883261775055951e-08, 'clf__min_samples_leaf': 0.15019248856066603, 'clf__min_samples_split': 0.2418111766892731, 'clf__min_weight_fraction_leaf': 0.3821932278101374, 'clf__n_iter_no_change': 200, 'clf__random_state': 67, 'clf__subsample': 0.8561634438374421, 'clf__tol': 2.347606339495969e-05, 'clf__validation_fraction': 0.061368980136258265, 'clf__warm_start': True, 'clf__n_estimators': 2000, MaxAbsScaler}\n",
    "Train accuracy score:         0.7193628967754039\n",
    "Test accuracy score:          0.7319263583295914\n",
    "\n",
    "Parameters:  {'clf__ccp_alpha': 1.8211995819534176e-05, 'clf__criterion': 'friedman_mse', 'clf__learning_rate': 0.0003761693892248827, 'clf__loss': 'exponential', 'clf__max_depth': 59, 'clf__max_features': 0.4531920718375533, 'clf__max_leaf_nodes': 41, 'clf__min_impurity_decrease': 6.883261775055951e-08, 'clf__min_samples_leaf': 0.15019248856066603, 'clf__min_samples_split': 0.2418111766892731, 'clf__min_weight_fraction_leaf': 0.3821932278101374, 'clf__n_iter_no_change': 200, 'clf__random_state': 67, 'clf__subsample': 0.8561634438374421, 'clf__tol': 2.347606339495969e-05, 'clf__validation_fraction': 0.061368980136258265, 'clf__warm_start': True, 'clf__n_estimators': 2000, StandardScaler}\n",
    "Train accuracy score:         0.7257815471719143\n",
    "Test accuracy score:          0.7322631342613382\n",
    "\n",
    "#########################################################################################################################\n",
    "\n",
    "Random Forest classifier: \n",
    "\n",
    "Parameters:  {'clf__bootstrap': True, 'clf__ccp_alpha': 0.004112363485239494, 'clf__criterion': 'gini', 'clf__max_depth': 9, 'clf__max_features': 0.2798008230298567, 'clf__min_impurity_decrease': 9.106416221317437e-07, 'clf__min_samples_leaf': 0.012670789699661794, 'clf__min_samples_split': 0.015986071983193174, 'clf__min_weight_fraction_leaf': 0.00999764668148106, 'clf__n_jobs': 6, 'clf__oob_score': True, 'clf__random_state': 67, 'clf__warm_start': True, 'clf__n_estimators': 2000, RobustScaler}\n",
    "Train accuracy score:         0.7335473559818806\n",
    "Test accuracy score:          0.7383251010327795\n",
    "\n",
    "Parameters:  {'clf__bootstrap': True, 'clf__ccp_alpha': 0.0005361140014825931, 'clf__criterion': 'gini', 'clf__max_depth': 10, 'clf__max_features': 0.23614145682895635, 'clf__min_impurity_decrease': 4.5494521864291655e-08, 'clf__min_samples_leaf': 0.006238645191614481, 'clf__min_samples_split': 0.020787879125554312, 'clf__min_weight_fraction_leaf': 0.010976120471026344, 'clf__n_jobs': 6, 'clf__oob_score': True, 'clf__random_state': 67, 'clf__warm_start': False, 'clf__n_estimators': 2000, MinMaxScaler}\n",
    "Train accuracy score:         0.7298030948461879\n",
    "Test accuracy score:          0.7360799281544679\n",
    "\n",
    "Parameters:  {'clf__bootstrap': True, 'clf__ccp_alpha': 0.004112363485239494, 'clf__criterion': 'gini', 'clf__max_depth': 9, 'clf__max_features': 0.2798008230298567, 'clf__min_impurity_decrease': 9.106416221317437e-07, 'clf__min_samples_leaf': 0.012670789699661794, 'clf__min_samples_split': 0.015986071983193174, 'clf__min_weight_fraction_leaf': 0.00999764668148106, 'clf__n_jobs': 6, 'clf__oob_score': True, 'clf__random_state': 67, 'clf__warm_start': True, 'clf__n_estimators': 2000, MaxAbsScaler}\n",
    "Train accuracy score:         0.7288720094914478\n",
    "Test accuracy score:          0.7325999101930849\n",
    "\n",
    "Parameters:  {'clf__bootstrap': True, 'clf__ccp_alpha': 0.0005361140014825931, 'clf__criterion': 'gini', 'clf__max_depth': 10, 'clf__max_features': 0.23614145682895635, 'clf__min_impurity_decrease': 4.5494521864291655e-08, 'clf__min_samples_leaf': 0.006238645191614481, 'clf__min_samples_split': 0.020787879125554312, 'clf__min_weight_fraction_leaf': 0.010976120471026344, 'clf__n_jobs': 6, 'clf__oob_score': True, 'clf__random_state': 67, 'clf__warm_start': False, 'clf__n_estimators': 2000, StandardScaler}\n",
    "Train accuracy score:         0.7296644103677504\n",
    "Test accuracy score:          0.7378760664571172\n",
    "\n",
    "#########################################################################################################################\n",
    "\n",
    "AdaBoost classifier: \n",
    "\n",
    "Parameters:  {'clf__algorithm': 'SAMME.R', 'clf__learning_rate': 0.001819567616473989, 'clf__random_state': 67, 'clf__n_estimators': 2000, RobustScaler}\n",
    "Train accuracy score:         0.7336859717784063\n",
    "Test accuracy score:          0.739559946115851\n",
    "\n",
    "Parameters:  {'clf__algorithm': 'SAMME.R', 'clf__learning_rate': 0.001819567616473989, 'clf__random_state': 67, 'clf__n_estimators': 2000, MinMaxScaler}\n",
    "Train accuracy score:         0.7276635512551521\n",
    "Test accuracy score:          0.7302424786708577\n",
    "\n",
    "Parameters:  {'clf__algorithm': 'SAMME.R', 'clf__learning_rate': 0.001819567616473989, 'clf__random_state': 67, 'clf__n_estimators': 2000, MaxAbsScaler}\n",
    "Train accuracy score:         0.7276041727989803\n",
    "Test accuracy score:          0.7308037718904355\n",
    "\n",
    "Parameters:  {'clf__algorithm': 'SAMME.R', 'clf__learning_rate': 0.0006327732420620172, 'clf__random_state': 67, 'clf__n_estimators': 2000, StandardScaler}\n",
    "Train accuracy score:         0.7254051467477349\n",
    "Test accuracy score:          0.7283340817242928\n"
   ],
   "metadata": {
    "collapsed": false
   },
   "id": "31d91f3312f47115"
  },
  {
   "cell_type": "code",
   "execution_count": 24,
   "outputs": [],
   "source": [],
   "metadata": {
    "collapsed": false,
    "ExecuteTime": {
     "end_time": "2023-12-22T08:02:45.616465Z",
     "start_time": "2023-12-22T08:02:45.610125Z"
    }
   },
   "id": "8b4ac4275dcfbe6"
  }
 ],
 "metadata": {
  "colab": {
   "name": "nfl_offensive_play_classification_v1.1.ipynb",
   "provenance": []
  },
  "kernelspec": {
   "display_name": "Python 3 (ipykernel)",
   "language": "python",
   "name": "python3"
  },
  "language_info": {
   "codemirror_mode": {
    "name": "ipython",
    "version": 3
   },
   "file_extension": ".py",
   "mimetype": "text/x-python",
   "name": "python",
   "nbconvert_exporter": "python",
   "pygments_lexer": "ipython3",
   "version": "3.9.6"
  }
 },
 "nbformat": 4,
 "nbformat_minor": 5
}
