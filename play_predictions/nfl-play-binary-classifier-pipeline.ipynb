{
 "cells": [
  {
   "cell_type": "code",
   "execution_count": 27,
   "outputs": [],
   "source": [
    "import warnings\n",
    "from numba.core.errors import NumbaDeprecationWarning, NumbaPendingDeprecationWarning\n",
    "warnings.simplefilter('ignore', category=UserWarning)\n",
    "warnings.filterwarnings('ignore',category=ImportWarning)\n",
    "warnings.filterwarnings('ignore',category=DeprecationWarning)\n",
    "warnings.simplefilter('ignore', category=NumbaDeprecationWarning)\n",
    "warnings.simplefilter('ignore', category=NumbaPendingDeprecationWarning)\n",
    "\n",
    "import pandas as pd\n",
    "import numpy as np\n",
    "import category_encoders as ce\n",
    "from scipy.stats import randint\n",
    "from imblearn.pipeline import Pipeline\n",
    "from imblearn.over_sampling import ADASYN\n",
    "from BorutaShap import BorutaShap\n",
    "\n",
    "from sklearn.impute import SimpleImputer\n",
    "from sklearn.preprocessing import StandardScaler, MaxAbsScaler, PowerTransformer, OrdinalEncoder, OneHotEncoder\n",
    "from sklearn.experimental import enable_halving_search_cv\n",
    "from sklearn.model_selection import train_test_split, HalvingRandomSearchCV\n",
    "from sklearn.compose import ColumnTransformer\n",
    "from sklearn.utils.fixes import loguniform\n",
    "from sklearn.metrics import make_scorer, accuracy_score, balanced_accuracy_score, f1_score, roc_auc_score, classification_report, confusion_matrix\n",
    "from sklearn.dummy import DummyClassifier\n",
    "from sklearn.ensemble import RandomForestClassifier, ExtraTreesClassifier, GradientBoostingClassifier, AdaBoostClassifier\n",
    "\n",
    "import joblib\n",
    "import operator"
   ],
   "metadata": {
    "collapsed": false,
    "ExecuteTime": {
     "end_time": "2023-10-29T13:40:42.160410Z",
     "start_time": "2023-10-29T13:40:42.146853Z"
    }
   },
   "id": "774348c602e5ca1e"
  },
  {
   "cell_type": "markdown",
   "id": "c4f8e047",
   "metadata": {
    "pycharm": {
     "name": "#%% md\n"
    }
   },
   "source": [
    "## Import data from nfl-data-py\n",
    "##### https://pypi.org/project/nfl-data-py/"
   ]
  },
  {
   "cell_type": "code",
   "execution_count": 2,
   "outputs": [
    {
     "data": {
      "text/plain": "(44869, 127)"
     },
     "execution_count": 2,
     "metadata": {},
     "output_type": "execute_result"
    }
   ],
   "source": [
    "# Import csv file from nfl-data-py\n",
    "df = pd.read_csv(r'/Users/ttas2/Documents/Python/nfl-machine-learning-models/output_files/nfl_post_processing_run_pass_classification_data.csv')\n",
    "\n",
    "df.shape"
   ],
   "metadata": {
    "collapsed": false,
    "ExecuteTime": {
     "end_time": "2023-10-29T02:29:48.112994Z",
     "start_time": "2023-10-29T02:29:47.147852Z"
    }
   },
   "id": "f8d686327dce3e32"
  },
  {
   "cell_type": "code",
   "execution_count": 3,
   "outputs": [
    {
     "name": "stdout",
     "output_type": "stream",
     "text": [
      "[]\n"
     ]
    }
   ],
   "source": [
    "# Print columns with missing values\n",
    "print(df.columns[df.isnull().any()].tolist())"
   ],
   "metadata": {
    "collapsed": false,
    "ExecuteTime": {
     "end_time": "2023-10-29T02:29:48.165274Z",
     "start_time": "2023-10-29T02:29:48.109279Z"
    }
   },
   "id": "629bc39586b0fba6"
  },
  {
   "cell_type": "code",
   "execution_count": 4,
   "outputs": [
    {
     "data": {
      "text/plain": "       week posteam defteam  yardline_100  quarter_seconds_remaining   \n10272    12     CLE      TB            50                        551  \\\n33132    19     NYG     MIN            75                        749   \n\n       half_seconds_remaining  game_seconds_remaining  game_half  qtr  down   \n10272                     551                     551          2    4     3  \\\n33132                     749                     749          2    4     2   \n\n       ...  drive_effct_play_pcnt  remaining_downs remaining_yards_per_down   \n10272  ...              -0.666667                1                     15.0  \\\n33132  ...              -1.000000                2                      5.0   \n\n         drive_start  two_min_warning  ep_sec_ratio  remain_yds_div_def_box   \n10272  transfer_poss                0      0.001666                2.500000  \\\n33132  transfer_poss                0      0.000839                0.833333   \n\n       remain_yds_prod_def_box  run_ratio_off_priors  run_ratio_def_priors  \n10272                     90.0              0.333333              0.611111  \n33132                     30.0              0.511111              0.444444  \n\n[2 rows x 127 columns]",
      "text/html": "<div>\n<style scoped>\n    .dataframe tbody tr th:only-of-type {\n        vertical-align: middle;\n    }\n\n    .dataframe tbody tr th {\n        vertical-align: top;\n    }\n\n    .dataframe thead th {\n        text-align: right;\n    }\n</style>\n<table border=\"1\" class=\"dataframe\">\n  <thead>\n    <tr style=\"text-align: right;\">\n      <th></th>\n      <th>week</th>\n      <th>posteam</th>\n      <th>defteam</th>\n      <th>yardline_100</th>\n      <th>quarter_seconds_remaining</th>\n      <th>half_seconds_remaining</th>\n      <th>game_seconds_remaining</th>\n      <th>game_half</th>\n      <th>qtr</th>\n      <th>down</th>\n      <th>...</th>\n      <th>drive_effct_play_pcnt</th>\n      <th>remaining_downs</th>\n      <th>remaining_yards_per_down</th>\n      <th>drive_start</th>\n      <th>two_min_warning</th>\n      <th>ep_sec_ratio</th>\n      <th>remain_yds_div_def_box</th>\n      <th>remain_yds_prod_def_box</th>\n      <th>run_ratio_off_priors</th>\n      <th>run_ratio_def_priors</th>\n    </tr>\n  </thead>\n  <tbody>\n    <tr>\n      <th>10272</th>\n      <td>12</td>\n      <td>CLE</td>\n      <td>TB</td>\n      <td>50</td>\n      <td>551</td>\n      <td>551</td>\n      <td>551</td>\n      <td>2</td>\n      <td>4</td>\n      <td>3</td>\n      <td>...</td>\n      <td>-0.666667</td>\n      <td>1</td>\n      <td>15.0</td>\n      <td>transfer_poss</td>\n      <td>0</td>\n      <td>0.001666</td>\n      <td>2.500000</td>\n      <td>90.0</td>\n      <td>0.333333</td>\n      <td>0.611111</td>\n    </tr>\n    <tr>\n      <th>33132</th>\n      <td>19</td>\n      <td>NYG</td>\n      <td>MIN</td>\n      <td>75</td>\n      <td>749</td>\n      <td>749</td>\n      <td>749</td>\n      <td>2</td>\n      <td>4</td>\n      <td>2</td>\n      <td>...</td>\n      <td>-1.000000</td>\n      <td>2</td>\n      <td>5.0</td>\n      <td>transfer_poss</td>\n      <td>0</td>\n      <td>0.000839</td>\n      <td>0.833333</td>\n      <td>30.0</td>\n      <td>0.511111</td>\n      <td>0.444444</td>\n    </tr>\n  </tbody>\n</table>\n<p>2 rows × 127 columns</p>\n</div>"
     },
     "execution_count": 4,
     "metadata": {},
     "output_type": "execute_result"
    }
   ],
   "source": [
    "# Convert binary columns to integers\n",
    "binary_columns = df.columns[df.isin([0,1]).all()].tolist()\n",
    "df[binary_columns] = df[binary_columns].apply(pd.to_numeric, downcast='integer', errors='coerce', axis=1)\n",
    "\n",
    "df.sample(2)"
   ],
   "metadata": {
    "collapsed": false,
    "ExecuteTime": {
     "end_time": "2023-10-29T02:29:56.027461Z",
     "start_time": "2023-10-29T02:29:48.137647Z"
    }
   },
   "id": "41f7422bcc2cf003"
  },
  {
   "cell_type": "code",
   "execution_count": 5,
   "id": "4c9bcb28",
   "metadata": {
    "pycharm": {
     "name": "#%%\n"
    },
    "ExecuteTime": {
     "end_time": "2023-10-29T02:29:56.042402Z",
     "start_time": "2023-10-29T02:29:56.031445Z"
    }
   },
   "outputs": [
    {
     "data": {
      "text/plain": "play_type\npass    0.579777\nrun     0.420223\nName: proportion, dtype: float64"
     },
     "execution_count": 5,
     "metadata": {},
     "output_type": "execute_result"
    }
   ],
   "source": [
    "# Target frequency\n",
    "target_count = df.play_type.value_counts(normalize=True)\n",
    "target_count"
   ]
  },
  {
   "cell_type": "code",
   "execution_count": 6,
   "outputs": [],
   "source": [
    "df['play_type'] = np.where(df['play_type'] == 'pass', 1, 0)"
   ],
   "metadata": {
    "collapsed": false,
    "ExecuteTime": {
     "end_time": "2023-10-29T02:29:56.052995Z",
     "start_time": "2023-10-29T02:29:56.041725Z"
    }
   },
   "id": "91112ef9f7a1ba3c"
  },
  {
   "cell_type": "markdown",
   "source": [
    "## Train test split data\n",
    "##### https://scikit-learn.org/stable/modules/generated/sklearn.model_selection.train_test_split.html"
   ],
   "metadata": {
    "collapsed": false
   },
   "id": "4c140526b778c182"
  },
  {
   "cell_type": "code",
   "execution_count": 7,
   "id": "4943bbf5",
   "metadata": {
    "pycharm": {
     "name": "#%%\n"
    },
    "ExecuteTime": {
     "end_time": "2023-10-29T02:29:56.201831Z",
     "start_time": "2023-10-29T02:29:56.046334Z"
    }
   },
   "outputs": [
    {
     "name": "stdout",
     "output_type": "stream",
     "text": [
      "126 features before feature selection\n",
      "Column names: ['week', 'posteam', 'defteam', 'yardline_100', 'quarter_seconds_remaining', 'half_seconds_remaining', 'game_seconds_remaining', 'game_half', 'qtr', 'down', 'goal_to_go', 'ydstogo', 'shotgun', 'no_huddle', 'posteam_timeouts_remaining', 'defteam_timeouts_remaining', 'posteam_score', 'defteam_score', 'score_differential', 'no_score_prob', 'fg_prob', 'safety_prob', 'td_prob', 'ep', 'wp', 'drive_play_count', 'spread_line', 'total_line', 'div_game', 'surface', 'play', 'offense_formation', 'offense_personnel', 'defenders_in_box', 'defense_personnel', 'n_offense', 'n_defense', 'qb_rank', 'qb_pts', 'qb_plays', 'qb_qbr_raw', 'qb_qbr', 'qb_pass', 'qb_run', 'play_sequence_game', 'play_sequence_series', 'run_formation', 'dtg_99to95', 'dtg_94to90', 'dtg_40to31', 'dtg_30to21', 'dtg_20to11', 'dtg_10to06', 'dtg_05to01', 'prev1_big_play_pass', 'prev2_big_play_pass', 'prev3_big_play_pass', 'drive_big_play_pass_pcnt', 'prev1_big_play_run', 'prev2_big_play_run', 'prev3_big_play_run', 'drive_big_play_run_pcnt', 'prev1_negative_pass', 'prev2_negative_pass', 'prev3_negative_pass', 'prev1_negative_run', 'prev2_negative_run', 'prev3_negative_run', 'prev1_play_off_penalty', 'prev1_play_def_penalty', 'prev2_play_off_penalty', 'prev2_play_def_penalty', 'prev3_play_off_penalty', 'prev1_play_run_outside', 'prev1_play_run_inside', 'prev1_play_pass_deep', 'prev1_play_pass_short', 'prev2_play_run_outside', 'prev2_play_run_inside', 'prev2_play_pass_deep', 'prev2_play_pass_short', 'prev3_play_run_outside', 'prev3_play_run_inside', 'prev3_play_pass_deep', 'prev3_play_pass_short', 'prev1_incomplete_pass', 'prev2_incomplete_pass', 'prev3_incomplete_pass', 'drive_incomplete_pass_pcnt', 'prev1_yards_gained', 'prev2_yards_gained', 'prev3_yards_gained', 'prev1_wpa', 'prev2_wpa', 'prev3_wpa', 'prev1_shotgun', 'prev2_shotgun', 'prev3_shotgun', 'drive_shotgun_pcnt', 'prev1_qb_hit', 'prev2_qb_hit', 'prev3_qb_hit', 'drive_qb_hit_pcnt', 'prev1_no_huddle', 'prev2_no_huddle', 'prev3_no_huddle', 'drive_no_huddle_pcnt', 'prev1_first_down_pass', 'prev2_first_down_pass', 'prev3_first_down_pass', 'prev1_first_down_run', 'prev2_first_down_run', 'prev3_first_down_run', 'prev1_effct_play', 'prev2_effct_play', 'prev3_effct_play', 'drive_effct_play_pcnt', 'remaining_downs', 'remaining_yards_per_down', 'drive_start', 'two_min_warning', 'ep_sec_ratio', 'remain_yds_div_def_box', 'remain_yds_prod_def_box', 'run_ratio_off_priors', 'run_ratio_def_priors']\n"
     ]
    }
   ],
   "source": [
    "# split data into target and feature datasets\n",
    "X, y = df.loc[:, df.columns != 'play_type'], df['play_type']\n",
    "\n",
    "initial_features = X.columns.to_list()\n",
    "\n",
    "# Create train and test datasets\n",
    "X_train, X_test, y_train, y_test = train_test_split(X, y, test_size=0.20, random_state=67)\n",
    "\n",
    "print(X_train.shape[1], 'features before feature selection')\n",
    "print('Column names:', X_train.columns.to_list())"
   ]
  },
  {
   "cell_type": "markdown",
   "id": "4b6cd4c3",
   "metadata": {
    "pycharm": {
     "name": "#%% md\n"
    }
   },
   "source": [
    "## Baseline model\n",
    "##### https://scikit-learn.org/stable/modules/generated/sklearn.dummy.DummyClassifier.html"
   ]
  },
  {
   "cell_type": "code",
   "execution_count": 8,
   "id": "28e9513e",
   "metadata": {
    "pycharm": {
     "name": "#%%\n"
    },
    "ExecuteTime": {
     "end_time": "2023-10-29T02:29:56.202119Z",
     "start_time": "2023-10-29T02:29:56.135338Z"
    }
   },
   "outputs": [
    {
     "name": "stdout",
     "output_type": "stream",
     "text": [
      "Baseline accuracy: 57.99999999999999%\n",
      "Baseline f1 score: 73.4%\n"
     ]
    }
   ],
   "source": [
    "# Create and fit baseline model to compare performance\n",
    "baseline_model = DummyClassifier(strategy='most_frequent', random_state=67)\n",
    "baseline_model.fit(X_train, y_train)\n",
    "\n",
    "# Calculate model accuracy on test data\n",
    "y_baseline_pred = baseline_model.predict(X_test)\n",
    "# accuracy_score(y_test, y_baseline_pred)\n",
    "print(f\"Baseline accuracy: {(round(accuracy_score(y_test,y_baseline_pred),3)*100)}%\")\n",
    "print(f\"Baseline f1 score: {(round(f1_score(y_test,y_baseline_pred),3)*100)}%\")"
   ]
  },
  {
   "cell_type": "markdown",
   "source": [
    "## Encode categorical features\n",
    "##### https://contrib.scikit-learn.org/category_encoders/leaveoneout.html"
   ],
   "metadata": {
    "collapsed": false
   },
   "id": "e0f3ad4dbdd2f444"
  },
  {
   "cell_type": "code",
   "execution_count": 9,
   "outputs": [
    {
     "name": "stdout",
     "output_type": "stream",
     "text": [
      "126 features after categorical encoding\n"
     ]
    }
   ],
   "source": [
    "# Create list of features for each dtype\n",
    "categorical_feat = list(X_train.select_dtypes(include='object'))\n",
    "\n",
    "# Encoded column represents mean response over all rows for this category, providing one-column representation while avoiding direct response leakage\n",
    "encoder = ce.LeaveOneOutEncoder(return_df=True, cols=categorical_feat)\n",
    "\n",
    "X_train = encoder.fit_transform(X_train, y_train)\n",
    "X_test = encoder.transform(X_test)\n",
    "\n",
    "print(X_train.shape[1], 'features after categorical encoding')"
   ],
   "metadata": {
    "collapsed": false,
    "ExecuteTime": {
     "end_time": "2023-10-29T02:29:56.535885Z",
     "start_time": "2023-10-29T02:29:56.154442Z"
    }
   },
   "id": "d33d4e0b73750e26"
  },
  {
   "cell_type": "markdown",
   "source": [
    "## BorutaShap Feature selection\n",
    "##### https://pypi.org/project/BorutaShap/"
   ],
   "metadata": {
    "collapsed": false
   },
   "id": "65fe86e88f378c61"
  },
  {
   "cell_type": "code",
   "execution_count": 10,
   "outputs": [],
   "source": [
    "feature_model = RandomForestClassifier(ccp_alpha=1e-05,\n",
    "                                       criterion='gini',\n",
    "                                       max_depth=30,\n",
    "                                       max_features=0.60,\n",
    "                                       max_leaf_nodes=50,\n",
    "                                       max_samples=0.40,\n",
    "                                       #min_impurity_decrease=1e-05,\n",
    "                                       #min_samples_leaf=0.03,\n",
    "                                       #min_samples_split=0.03,\n",
    "                                       #min_weight_fraction_leaf=0.03,\n",
    "                                       n_estimators=250,\n",
    "                                       class_weight='balanced_subsample',\n",
    "                                       bootstrap=True,\n",
    "                                       oob_score=True,\n",
    "                                       warm_start=False,\n",
    "                                       n_jobs=6,\n",
    "                                       random_state=67,\n",
    "                                       )"
   ],
   "metadata": {
    "collapsed": false,
    "ExecuteTime": {
     "end_time": "2023-10-29T02:29:56.540983Z",
     "start_time": "2023-10-29T02:29:56.532234Z"
    }
   },
   "id": "39e692ffcbfd70ba"
  },
  {
   "cell_type": "code",
   "execution_count": 11,
   "outputs": [
    {
     "name": "stderr",
     "output_type": "stream",
     "text": [
      "100%|██████████| 250/250 [1:19:51<00:00, 19.17s/it]"
     ]
    },
    {
     "name": "stdout",
     "output_type": "stream",
     "text": [
      "14 attributes confirmed important: ['posteam', 'offense_personnel', 'remain_yds_div_def_box', 'defense_personnel', 'td_prob', 'remaining_yards_per_down', 'surface', 'game_seconds_remaining', 'drive_start', 'defteam', 'shotgun', 'defenders_in_box', 'offense_formation', 'wp']\n",
      "112 attributes confirmed unimportant: ['play_sequence_series', 'drive_big_play_run_pcnt', 'game_half', 'no_score_prob', 'prev3_big_play_run', 'ep', 'prev3_big_play_pass', 'dtg_30to21', 'prev1_play_run_inside', 'run_ratio_def_priors', 'dtg_10to06', 'prev3_negative_pass', 'prev1_play_pass_short', 'dtg_94to90', 'run_ratio_off_priors', 'prev3_play_pass_deep', 'qb_plays', 'qb_qbr', 'prev2_negative_run', 'prev3_negative_run', 'qb_run', 'prev3_play_run_inside', 'score_differential', 'dtg_05to01', 'prev1_negative_run', 'prev3_first_down_run', 'posteam_score', 'qtr', 'safety_prob', 'posteam_timeouts_remaining', 'play', 'drive_big_play_pass_pcnt', 'qb_pts', 'drive_qb_hit_pcnt', 'prev1_play_pass_deep', 'total_line', 'down', 'qb_pass', 'goal_to_go', 'prev3_incomplete_pass', 'prev3_wpa', 'prev3_play_run_outside', 'prev1_yards_gained', 'prev2_qb_hit', 'prev2_big_play_pass', 'prev1_play_def_penalty', 'quarter_seconds_remaining', 'two_min_warning', 'ep_sec_ratio', 'dtg_99to95', 'prev3_effct_play', 'prev2_first_down_pass', 'remain_yds_prod_def_box', 'dtg_40to31', 'prev2_big_play_run', 'prev2_negative_pass', 'defteam_score', 'prev1_no_huddle', 'drive_shotgun_pcnt', 'prev1_play_run_outside', 'prev2_incomplete_pass', 'prev3_no_huddle', 'week', 'prev1_first_down_run', 'prev2_no_huddle', 'defteam_timeouts_remaining', 'prev1_wpa', 'prev3_first_down_pass', 'prev1_effct_play', 'no_huddle', 'drive_effct_play_pcnt', 'n_offense', 'prev2_first_down_run', 'drive_incomplete_pass_pcnt', 'prev1_shotgun', 'prev2_play_def_penalty', 'dtg_20to11', 'prev3_play_off_penalty', 'run_formation', 'n_defense', 'prev2_play_pass_deep', 'prev2_play_off_penalty', 'yardline_100', 'prev2_play_run_inside', 'prev1_play_off_penalty', 'play_sequence_game', 'fg_prob', 'prev1_incomplete_pass', 'prev1_first_down_pass', 'drive_play_count', 'drive_no_huddle_pcnt', 'prev2_effct_play', 'prev3_yards_gained', 'prev1_big_play_pass', 'prev3_play_pass_short', 'prev3_shotgun', 'prev1_negative_pass', 'div_game', 'prev2_play_pass_short', 'ydstogo', 'prev1_qb_hit', 'prev2_shotgun', 'prev1_big_play_run', 'remaining_downs', 'qb_qbr_raw', 'qb_rank', 'prev2_yards_gained', 'prev3_qb_hit', 'half_seconds_remaining', 'spread_line', 'prev2_play_run_outside', 'prev2_wpa']\n",
      "0 tentative attributes remains: []\n"
     ]
    },
    {
     "name": "stderr",
     "output_type": "stream",
     "text": [
      "\n"
     ]
    }
   ],
   "source": [
    "# no model selected default is Random Forest\n",
    "Feature_Selector = BorutaShap(importance_measure='shap',\n",
    "                              classification=True,\n",
    "                              model=feature_model,\n",
    "                              )\n",
    "\n",
    "Feature_Selector.fit(X=X_train,\n",
    "                     y=y_train,\n",
    "                     n_trials=250,\n",
    "                     sample=False,\n",
    "                     random_state=67,\n",
    "                     )"
   ],
   "metadata": {
    "collapsed": false,
    "ExecuteTime": {
     "end_time": "2023-10-29T03:49:48.542773Z",
     "start_time": "2023-10-29T02:29:56.537904Z"
    }
   },
   "id": "4e7034bfcd562178"
  },
  {
   "cell_type": "code",
   "execution_count": 12,
   "outputs": [
    {
     "data": {
      "text/plain": "<Figure size 1800x800 with 1 Axes>",
      "image/png": "[encoded data removed]"
     },
     "metadata": {},
     "output_type": "display_data"
    }
   ],
   "source": [
    "# Plot selected features with shap values on x-axis\n",
    "Feature_Selector.plot(which_features='accepted', figsize=(18, 8))"
   ],
   "metadata": {
    "collapsed": false,
    "ExecuteTime": {
     "end_time": "2023-10-29T03:49:49.378626Z",
     "start_time": "2023-10-29T03:49:48.540494Z"
    }
   },
   "id": "c20134f76d62fa54"
  },
  {
   "cell_type": "code",
   "execution_count": 13,
   "outputs": [
    {
     "name": "stdout",
     "output_type": "stream",
     "text": [
      "Training features: 13\n",
      "Testing features: 13\n",
      "Most important features: ['posteam', 'defteam', 'game_seconds_remaining', 'shotgun', 'td_prob', 'wp', 'surface', 'offense_formation', 'offense_personnel', 'defenders_in_box', 'defense_personnel', 'drive_start', 'remain_yds_div_def_box']\n"
     ]
    }
   ],
   "source": [
    "# Drops features that were identified by BorutaShap as not important\n",
    "features_to_remove = Feature_Selector.features_to_remove\n",
    "\n",
    "X_train = X_train.drop(columns=features_to_remove)\n",
    "X_test = X_test.drop(columns=features_to_remove)\n",
    "\n",
    "# Print the shape of the new datasets\n",
    "print('Training features:', X_train.shape[1])\n",
    "print('Testing features:', X_test.shape[1])\n",
    "print('Most important features:', X_train.columns.to_list())"
   ],
   "metadata": {
    "collapsed": false,
    "ExecuteTime": {
     "end_time": "2023-10-29T03:49:49.393552Z",
     "start_time": "2023-10-29T03:49:49.373815Z"
    }
   },
   "id": "afa5c66c26a42f87"
  },
  {
   "cell_type": "markdown",
   "source": [
    "## Model pipeline\n",
    "##### https://scikit-learn.org/stable/modules/generated/sklearn.compose.ColumnTransformer.html\n",
    "##### https://scikit-learn.org/stable/modules/generated/sklearn.impute.SimpleImputer.html\n",
    "##### https://scikit-learn.org/stable/modules/generated/sklearn.preprocessing.PowerTransformer.html\n",
    "##### https://www.statsmodels.org/dev/generated/statsmodels.stats.outliers_influence.variance_inflation_factor.html\n",
    "##### https://imbalanced-learn.org/stable/references/over_sampling.html\n",
    "##### https://scikit-learn.org/stable/modules/generated/sklearn.model_selection.HalvingRandomSearchCV.html\n",
    "##### https://scikit-learn.org/stable/modules/generated/sklearn.metrics.f1_score.html\n",
    "##### https://scikit-learn.org/stable/modules/generated/sklearn.ensemble.GradientBoostingClassifier.html\n",
    "##### https://scikit-learn.org/stable/modules/generated/sklearn.ensemble.RandomForestClassifier.html\n",
    "##### https://scikit-learn.org/stable/modules/generated/sklearn.ensemble.ExtraTreesClassifier.html\n",
    "##### https://xgboost.readthedocs.io/en/stable/parameter.html"
   ],
   "metadata": {
    "collapsed": false
   },
   "id": "28eb7c49ea06b6d2"
  },
  {
   "cell_type": "code",
   "execution_count": 14,
   "outputs": [
    {
     "name": "stdout",
     "output_type": "stream",
     "text": [
      "categorical features: 0 : []\n",
      "ordinal features: 1 : ['defenders_in_box']\n",
      "boolean features: 1 : ['shotgun']\n",
      "numeric features: 11 : ['posteam', 'defteam', 'game_seconds_remaining', 'td_prob', 'wp', 'surface', 'offense_formation', 'offense_personnel', 'defense_personnel', 'drive_start', 'remain_yds_div_def_box']\n"
     ]
    }
   ],
   "source": [
    "# Create feature type lists for column transform stage of the pipeline\n",
    "ordinal_features = X_train.columns[X_train.isin([1,2,3,4,5,6,7,8,9,10,11,12,13,14,15,16,17,18,19,20,21,22,23,24,25]).all()].tolist()\n",
    "categorical_features = list(X_train.select_dtypes(include='object'))\n",
    "boolean_features = X_train.columns[X_train.isin([0, 1]).all()].tolist()\n",
    "\n",
    "numeric_features = [x for x in X_train.columns if x not in ordinal_features]\n",
    "numeric_features = [x for x in numeric_features if x not in categorical_features]\n",
    "numeric_features = [x for x in numeric_features if x not in boolean_features]\n",
    "\n",
    "print('categorical features:', len(categorical_features), ':', categorical_features)\n",
    "print('ordinal features:', len(ordinal_features), ':', ordinal_features)\n",
    "print('boolean features:', len(boolean_features), ':', boolean_features)\n",
    "print('numeric features:', len(numeric_features), ':', numeric_features)"
   ],
   "metadata": {
    "collapsed": false,
    "ExecuteTime": {
     "end_time": "2023-10-29T03:49:49.822958Z",
     "start_time": "2023-10-29T03:49:49.393005Z"
    }
   },
   "id": "e95804b4c341fcbb"
  },
  {
   "cell_type": "code",
   "execution_count": 15,
   "id": "3e4ff9bb",
   "metadata": {
    "pycharm": {
     "name": "#%%\n"
    },
    "ExecuteTime": {
     "end_time": "2023-10-29T03:49:49.823243Z",
     "start_time": "2023-10-29T03:49:49.531805Z"
    }
   },
   "outputs": [],
   "source": [
    "# Outlier removal\n",
    "def iqr_outliers(x, features):\n",
    "\n",
    "    out_index_list = []\n",
    "        \n",
    "    for col in features:\n",
    "        q1 = np.nanpercentile(x[col], 25.)\n",
    "        q3 = np.nanpercentile(x[col], 75.)\n",
    "        \n",
    "        cut_off = (q3 - q1) * 1.5\n",
    "        upper, lower = q3 + cut_off, q1 - cut_off\n",
    "                \n",
    "        outliers_index = x[col][(x[col] < lower) | (x[col] > upper)].index.tolist()\n",
    "        out_index_list.extend(outliers_index)\n",
    "        \n",
    "    # Remove duplicates\n",
    "    list(set(out_index_list)).sort()"
   ]
  },
  {
   "cell_type": "code",
   "execution_count": 16,
   "id": "58cc5161",
   "metadata": {
    "pycharm": {
     "name": "#%%\n"
    },
    "ExecuteTime": {
     "end_time": "2023-10-29T03:49:49.823435Z",
     "start_time": "2023-10-29T03:49:49.540806Z"
    }
   },
   "outputs": [],
   "source": [
    "# Specify the transformations per data type\n",
    "num_trans = Pipeline(steps=[('simple_imputer', SimpleImputer(missing_values=np.nan, strategy='median')),\n",
    "                            ('iqr_outlier', iqr_outliers(X_train, numeric_features)),\n",
    "                            ('power_trans', PowerTransformer(method='yeo-johnson', copy=False)),\n",
    "                            ('scaler', StandardScaler()),\n",
    "                           ])\n",
    "\n",
    "cat_trans = Pipeline(steps=[('simple_imputer', SimpleImputer(missing_values=np.nan, strategy='most_frequent')),\n",
    "                            ('onehot_encoder', OneHotEncoder(sparse=False, handle_unknown='infrequent_if_exist')),\n",
    "                           ])\n",
    "\n",
    "ord_trans = Pipeline(steps=[('simple_imputer', SimpleImputer(missing_values=np.nan, strategy='most_frequent')),\n",
    "                            ('ordinal_encoder', OrdinalEncoder(handle_unknown='use_encoded_value', unknown_value=-1)),\n",
    "                            ('scaler', StandardScaler()),\n",
    "                           ])\n",
    "                             \n",
    "Column_Transform = ColumnTransformer(transformers=[('numeric_transform', num_trans, numeric_features),\n",
    "                                                   ('categorical_transform', cat_trans, categorical_features),\n",
    "                                                   ('ordinal_transform', ord_trans, ordinal_features),\n",
    "                                                   ],\n",
    "                                     remainder='passthrough',\n",
    "                                    )"
   ]
  },
  {
   "cell_type": "code",
   "execution_count": 50,
   "id": "17593a5b",
   "metadata": {
    "pycharm": {
     "name": "#%%\n"
    },
    "ExecuteTime": {
     "end_time": "2023-10-29T16:23:24.958079Z",
     "start_time": "2023-10-29T16:23:24.919101Z"
    }
   },
   "outputs": [],
   "source": [
    "# Specify number of target classes\n",
    "n_classes = y_train.nunique()\n",
    "\n",
    "# Specify cross validation folds\n",
    "cross_validation = 10\n",
    "\n",
    "# Specify HalvingRandomSearchCV halving_parameter (aka factor)\n",
    "halving_parameter = 4.0\n",
    "\n",
    "# Specify the HalvingRandomSearchCV minimum/maximum resources\n",
    "max_resource = 2000\n",
    "resource_divisor = 5.0\n",
    "min_resource = int(round((max_resource / resource_divisor), 0))\n",
    "\n",
    "# Create scorer\n",
    "scoring = 'accuracy'"
   ]
  },
  {
   "cell_type": "code",
   "execution_count": 61,
   "id": "e4b3074a",
   "metadata": {
    "pycharm": {
     "name": "#%%\n"
    },
    "ExecuteTime": {
     "end_time": "2023-10-30T02:44:36.298065Z",
     "start_time": "2023-10-30T02:44:36.273121Z"
    }
   },
   "outputs": [],
   "source": [
    "def random_search():\n",
    "    \n",
    "    pipeline1 = Pipeline([\n",
    "    ('col', Column_Transform),\n",
    "    ('smpl', ADASYN(n_neighbors=n_classes, sampling_strategy='not majority', random_state=67)),\n",
    "    ('clf', RandomForestClassifier()),\n",
    "    ])\n",
    "    \n",
    "    pipeline2 = Pipeline([\n",
    "    ('col', Column_Transform),\n",
    "    ('smpl', ADASYN(n_neighbors=n_classes, sampling_strategy='not majority', random_state=67)),\n",
    "    ('clf', ExtraTreesClassifier()),\n",
    "    ])\n",
    "    \n",
    "    pipeline3 = Pipeline([\n",
    "    ('col', Column_Transform),\n",
    "    ('smpl', ADASYN(n_neighbors=n_classes, sampling_strategy='not majority', random_state=67)),\n",
    "    ('clf', GradientBoostingClassifier()),\n",
    "    ])\n",
    "    \n",
    "    pipeline4 = Pipeline([\n",
    "    ('col', Column_Transform),\n",
    "    ('smpl', ADASYN(n_neighbors=n_classes, sampling_strategy='not majority', random_state=67)),\n",
    "    ('clf', AdaBoostClassifier()),\n",
    "    ])\n",
    "\n",
    "    # RandomForestClassifier\n",
    "    parameters1 = {\n",
    "    'clf__bootstrap': [True],\n",
    "    'clf__ccp_alpha':  loguniform(1e-08, 1e-03),\n",
    "    'clf__criterion': ['gini'],\n",
    "    'clf__max_depth': randint(1, 10),\n",
    "    'clf__max_features': loguniform(0.10, 0.25),\n",
    "    'clf__min_impurity_decrease': loguniform(1e-08, 1e-04),\n",
    "    'clf__max_samples': loguniform(0.05, 0.25), # max_samples is not supported for bootstrap=False\n",
    "    'clf__min_samples_leaf': loguniform(0.10, 0.25),\n",
    "    'clf__min_samples_split': loguniform(0.10, 0.25),\n",
    "    'clf__min_weight_fraction_leaf':  loguniform(0.10, 0.25),\n",
    "    'clf__oob_score': [True],\n",
    "    'clf__warm_start': [True, False],\n",
    "    'clf__n_jobs': [6],\n",
    "    'clf__random_state': [67],\n",
    "    }\n",
    "    \n",
    "    # ExtraTreesClassifier\n",
    "    parameters2 = {\n",
    "    'clf__bootstrap': [False],\n",
    "    'clf__ccp_alpha': loguniform(1e-08, 1e-04),\n",
    "    'clf__criterion': ['gini'],\n",
    "    'clf__max_depth': randint(10, 50),\n",
    "    'clf__max_features': loguniform(0.75, 0.99),\n",
    "    'clf__max_leaf_nodes': randint(35, 65),\n",
    "    # 'clf__max_samples': loguniform(0.30, 0.99), # max_samples is not supported for bootstrap=False\n",
    "    'clf__min_impurity_decrease': loguniform(1e-08, 1e-03),\n",
    "    'clf__min_samples_leaf': loguniform(0.01, 0.25),\n",
    "    'clf__min_samples_split': loguniform(0.01, 0.25),\n",
    "    'clf__min_weight_fraction_leaf': loguniform(0.01, 0.25),\n",
    "    'clf__oob_score':  [False], # Only for bootstrap=True\n",
    "    'clf__warm_start': [True],\n",
    "    'clf__n_jobs': [6],\n",
    "    'clf__random_state': [67],\n",
    "    }\n",
    "            \n",
    "    # GradientBoostingClassifier\n",
    "    parameters3 = {\n",
    "    'clf__ccp_alpha': loguniform(1e-08, 1e-01),\n",
    "    'clf__learning_rate': loguniform(1e-08, 1e-02),\n",
    "    'clf__loss': ['log_loss'],\n",
    "    'clf__max_depth': randint(2, 10),\n",
    "    'clf__max_features': loguniform(0.15, 0.35), \n",
    "    'clf__max_leaf_nodes': randint(10, 20),\n",
    "    'clf__min_impurity_decrease': loguniform(1e-08, 1e-04),\n",
    "    'clf__min_samples_leaf': loguniform(0.05, 0.20),\n",
    "    'clf__min_samples_split': loguniform(0.05, 0.20),\n",
    "    'clf__n_iter_no_change': [50, 100],\n",
    "    'clf__tol': loguniform(1e-08, 1e-04),\n",
    "    'clf__validation_fraction': loguniform(0.05, 0.15),\n",
    "    'clf__warm_start': [False], # True is not supported for loss='deviance'\n",
    "    'clf__subsample': loguniform(0.02, 0.15),\n",
    "    'clf__random_state': [67],\n",
    "    }\n",
    "\n",
    "    # AdaBoostClassifier\n",
    "    parameters4  = {\n",
    "    'clf__algorithm': ['SAMME','SAMME.R'],\n",
    "    'clf__learning_rate': loguniform(0.001, 1.0),\n",
    "    'clf__random_state': [67],\n",
    "    }\n",
    "\n",
    "    pars = [parameters1, parameters2, parameters3, parameters4]\n",
    "    pips = [pipeline1, pipeline2, pipeline3, pipeline4]\n",
    "\n",
    "    result = []\n",
    "    \n",
    "    for i in range(len(pars)):\n",
    "        \n",
    "        rs = HalvingRandomSearchCV(pips[i],\n",
    "                                   pars[i],\n",
    "                                   factor=halving_parameter,\n",
    "                                   resource='clf__n_estimators',\n",
    "                                   n_candidates='exhaust',\n",
    "                                   min_resources=min_resource,\n",
    "                                   max_resources=max_resource,\n",
    "                                   scoring=scoring,\n",
    "                                   aggressive_elimination=False,\n",
    "                                   return_train_score=True,\n",
    "                                   refit=True,                   \n",
    "                                   cv=cross_validation,\n",
    "                                   n_jobs=6,\n",
    "                                   verbose=1,\n",
    "                                   random_state=67,\n",
    "                                   error_score='raise',\n",
    "                                  )\n",
    "\n",
    "        # Fit models on training data\n",
    "        rs = rs.fit(X_train, y_train)\n",
    "        \n",
    "        # Apply models to test data to determine model performance\n",
    "        y_pred = rs.predict(X_test)\n",
    "        y_pred_prob = rs.predict_proba(X_test)[:, 1]\n",
    "\n",
    "        print(\" \")\n",
    "        print(\" \")\n",
    "        \n",
    "        # storing model results\n",
    "        result.append({\n",
    "        'grid': rs,\n",
    "        'cv results': rs.cv_results_,\n",
    "        'train accuracy score': rs.best_score_,\n",
    "        'best params': rs.best_params_, \n",
    "        'best estimator': rs.best_estimator_,\n",
    "        'feature importance': rs.best_estimator_.named_steps['clf'].feature_importances_,\n",
    "        'test f1 score': f1_score(y_test, y_pred, average='micro'),\n",
    "        'test accuracy score': accuracy_score(y_test, y_pred),\n",
    "        'test balanced accuracy score': balanced_accuracy_score(y_test, y_pred),\n",
    "        'test roc auc score': roc_auc_score(y_test, y_pred_prob),\n",
    "        'test classification report': classification_report(y_test, y_pred, target_names=['pass','run'], digits=5),\n",
    "        'test confusion matrix': confusion_matrix(y_test, y_pred),\n",
    "        'cv': rs.cv,\n",
    "        'model #': i + 1\n",
    "        })\n",
    "\n",
    "    # sorting results by best test score\n",
    "    result = sorted(result, key=operator.itemgetter('test f1 score'), reverse=True)\n",
    "    \n",
    "    print(' ')\n",
    "    for element in result:\n",
    "        if element['model #']==1:\n",
    "            print('Random Forest classifier: ')\n",
    "        elif element['model #']==2:\n",
    "            print('ExtraTrees classifier: ')\n",
    "        elif element['model #']==3:\n",
    "            print('GradientBoosting classifier: ')\n",
    "        elif element['model #']==4:\n",
    "            print('AdaBoost classifier: ')\n",
    "        else:\n",
    "            print('Other: ')  \n",
    "        \n",
    "        print('Parameters:  ' + str(element['best params']))\n",
    "        print(' ')\n",
    "        print('Train accuracy score:         ' + str(element['train accuracy score']))\n",
    "        print('Test accuracy score:          ' + str(element['test accuracy score']))\n",
    "        print('Test balanced accuracy score: ' + str(element['test accuracy score']))\n",
    "        print('Test f1 score:                ' + str(element['test f1 score']))\n",
    "        print('Test roc auc score:           ' + str(element['test roc auc score']))\n",
    "        print(' ')\n",
    "        print(element['test classification report'])\n",
    "        print(element['test confusion matrix'])\n",
    "        print(' ')\n",
    "        print('-----------------------')\n",
    "        print(' ')\n",
    "\n",
    "    # Save best model as pickle file\n",
    "    joblib.dump(rs.best_params_, r'/Users/ttas2/Documents/Python/nfl-machine-learning-models/output_files/run_pass_classifier_results.pkl', compress=1)\n",
    "    joblib.dump(rs.cv_results_, r'/Users/ttas2/Documents/Python/nfl-machine-learning-models/output_files/run_pass_classifier_model.csv')"
   ]
  },
  {
   "cell_type": "code",
   "execution_count": 62,
   "id": "e7e2a726",
   "metadata": {
    "pycharm": {
     "name": "#%%\n"
    },
    "scrolled": false,
    "ExecuteTime": {
     "end_time": "2023-10-30T03:19:53.612687Z",
     "start_time": "2023-10-30T02:44:38.442441Z"
    }
   },
   "outputs": [
    {
     "name": "stdout",
     "output_type": "stream",
     "text": [
      "n_iterations: 2\n",
      "n_required_iterations: 2\n",
      "n_possible_iterations: 2\n",
      "min_resources_: 400\n",
      "max_resources_: 2000\n",
      "aggressive_elimination: False\n",
      "factor: 4.0\n",
      "----------\n",
      "iter: 0\n",
      "n_candidates: 5\n",
      "n_resources: 400\n",
      "Fitting 10 folds for each of 5 candidates, totalling 50 fits\n",
      "----------\n",
      "iter: 1\n",
      "n_candidates: 2\n",
      "n_resources: 1600\n",
      "Fitting 10 folds for each of 2 candidates, totalling 20 fits\n",
      " \n",
      " \n",
      "n_iterations: 2\n",
      "n_required_iterations: 2\n",
      "n_possible_iterations: 2\n",
      "min_resources_: 400\n",
      "max_resources_: 2000\n",
      "aggressive_elimination: False\n",
      "factor: 4.0\n",
      "----------\n",
      "iter: 0\n",
      "n_candidates: 5\n",
      "n_resources: 400\n",
      "Fitting 10 folds for each of 5 candidates, totalling 50 fits\n",
      "----------\n",
      "iter: 1\n",
      "n_candidates: 2\n",
      "n_resources: 1600\n",
      "Fitting 10 folds for each of 2 candidates, totalling 20 fits\n",
      " \n",
      " \n",
      "n_iterations: 2\n",
      "n_required_iterations: 2\n",
      "n_possible_iterations: 2\n",
      "min_resources_: 400\n",
      "max_resources_: 2000\n",
      "aggressive_elimination: False\n",
      "factor: 4.0\n",
      "----------\n",
      "iter: 0\n",
      "n_candidates: 5\n",
      "n_resources: 400\n",
      "Fitting 10 folds for each of 5 candidates, totalling 50 fits\n",
      "----------\n",
      "iter: 1\n",
      "n_candidates: 2\n",
      "n_resources: 1600\n",
      "Fitting 10 folds for each of 2 candidates, totalling 20 fits\n",
      " \n",
      " \n",
      "n_iterations: 2\n",
      "n_required_iterations: 2\n",
      "n_possible_iterations: 2\n",
      "min_resources_: 400\n",
      "max_resources_: 2000\n",
      "aggressive_elimination: False\n",
      "factor: 4.0\n",
      "----------\n",
      "iter: 0\n",
      "n_candidates: 5\n",
      "n_resources: 400\n",
      "Fitting 10 folds for each of 5 candidates, totalling 50 fits\n",
      "----------\n",
      "iter: 1\n",
      "n_candidates: 2\n",
      "n_resources: 1600\n",
      "Fitting 10 folds for each of 2 candidates, totalling 20 fits\n",
      " \n",
      " \n",
      " \n",
      "ExtraTrees classifier: \n",
      "Parameters:  {'clf__bootstrap': False, 'clf__ccp_alpha': 1.5254771955752696e-06, 'clf__criterion': 'gini', 'clf__max_depth': 20, 'clf__max_features': 0.9767189814414287, 'clf__max_leaf_nodes': 60, 'clf__min_impurity_decrease': 4.549452186429162e-07, 'clf__min_samples_leaf': 0.01213035486886127, 'clf__min_samples_split': 0.03467313931574917, 'clf__min_weight_fraction_leaf': 0.019859609984613134, 'clf__n_jobs': 6, 'clf__oob_score': False, 'clf__random_state': 67, 'clf__warm_start': True, 'clf__n_estimators': 1600}\n",
      " \n",
      "Train accuracy score:         0.9579895160933555\n",
      "Test accuracy score:          0.734789391575663\n",
      "Test balanced accuracy score: 0.734789391575663\n",
      "Test f1 score:                0.734789391575663\n",
      "Test roc auc score:           0.8101513419854092\n",
      " \n",
      "              precision    recall  f1-score   support\n",
      "\n",
      "        pass    0.70467   0.63356   0.66723      3766\n",
      "         run    0.75304   0.80799   0.77955      5208\n",
      "\n",
      "    accuracy                        0.73479      8974\n",
      "   macro avg    0.72885   0.72078   0.72339      8974\n",
      "weighted avg    0.73274   0.73479   0.73241      8974\n",
      "\n",
      "[[2386 1380]\n",
      " [1000 4208]]\n",
      " \n",
      "-----------------------\n",
      " \n",
      "Random Forest classifier: \n",
      "Parameters:  {'clf__bootstrap': True, 'clf__ccp_alpha': 8.559647038227906e-08, 'clf__criterion': 'gini', 'clf__max_depth': 5, 'clf__max_features': 0.1658265502819345, 'clf__max_samples': 0.1563771226491786, 'clf__min_impurity_decrease': 6.511757408206972e-05, 'clf__min_samples_leaf': 0.17359210240943146, 'clf__min_samples_split': 0.14456794019453834, 'clf__min_weight_fraction_leaf': 0.1384334131152064, 'clf__n_jobs': 6, 'clf__oob_score': True, 'clf__random_state': 67, 'clf__warm_start': False, 'clf__n_estimators': 1600}\n",
      " \n",
      "Train accuracy score:         0.5637018947557959\n",
      "Test accuracy score:          0.5803432137285491\n",
      "Test balanced accuracy score: 0.5803432137285491\n",
      "Test f1 score:                0.5803432137285491\n",
      "Test roc auc score:           0.5\n",
      " \n",
      "              precision    recall  f1-score   support\n",
      "\n",
      "        pass    0.00000   0.00000   0.00000      3766\n",
      "         run    0.58034   1.00000   0.73445      5208\n",
      "\n",
      "    accuracy                        0.58034      8974\n",
      "   macro avg    0.29017   0.50000   0.36723      8974\n",
      "weighted avg    0.33680   0.58034   0.42623      8974\n",
      "\n",
      "[[   0 3766]\n",
      " [   0 5208]]\n",
      " \n",
      "-----------------------\n",
      " \n",
      "GradientBoosting classifier: \n",
      "Parameters:  {'clf__ccp_alpha': 0.016819231759062084, 'clf__learning_rate': 3.814818119867549e-08, 'clf__loss': 'log_loss', 'clf__max_depth': 2, 'clf__max_features': 0.3392213333654863, 'clf__max_leaf_nodes': 17, 'clf__min_impurity_decrease': 8.569594248066904e-06, 'clf__min_samples_leaf': 0.05330267926404758, 'clf__min_samples_split': 0.19174285082786693, 'clf__n_iter_no_change': 100, 'clf__random_state': 67, 'clf__subsample': 0.05405477048981226, 'clf__tol': 3.3984166406927163e-07, 'clf__validation_fraction': 0.07741974341130692, 'clf__warm_start': False, 'clf__n_estimators': 1600}\n",
      " \n",
      "Train accuracy score:         0.5637018947557959\n",
      "Test accuracy score:          0.5803432137285491\n",
      "Test balanced accuracy score: 0.5803432137285491\n",
      "Test f1 score:                0.5803432137285491\n",
      "Test roc auc score:           0.5\n",
      " \n",
      "              precision    recall  f1-score   support\n",
      "\n",
      "        pass    0.00000   0.00000   0.00000      3766\n",
      "         run    0.58034   1.00000   0.73445      5208\n",
      "\n",
      "    accuracy                        0.58034      8974\n",
      "   macro avg    0.29017   0.50000   0.36723      8974\n",
      "weighted avg    0.33680   0.58034   0.42623      8974\n",
      "\n",
      "[[   0 3766]\n",
      " [   0 5208]]\n",
      " \n",
      "-----------------------\n",
      " \n",
      "AdaBoost classifier: \n",
      "Parameters:  {'clf__algorithm': 'SAMME.R', 'clf__learning_rate': 0.3306872050900211, 'clf__random_state': 67, 'clf__n_estimators': 1600}\n",
      " \n",
      "Train accuracy score:         1.0\n",
      "Test accuracy score:          0.5772230889235569\n",
      "Test balanced accuracy score: 0.5772230889235569\n",
      "Test f1 score:                0.5772230889235569\n",
      "Test roc auc score:           0.5166499535417957\n",
      " \n",
      "              precision    recall  f1-score   support\n",
      "\n",
      "        pass    0.48827   0.15481   0.23508      3766\n",
      "         run    0.59087   0.88268   0.70788      5208\n",
      "\n",
      "    accuracy                        0.57722      8974\n",
      "   macro avg    0.53957   0.51874   0.47148      8974\n",
      "weighted avg    0.54782   0.57722   0.50947      8974\n",
      "\n",
      "[[ 583 3183]\n",
      " [ 611 4597]]\n",
      " \n",
      "-----------------------\n",
      " \n"
     ]
    }
   ],
   "source": [
    "%%capture --no-stdout --no-display\n",
    "random_search()"
   ]
  },
  {
   "cell_type": "raw",
   "source": [
    "# Load best model\n",
    "best_model = joblib.load(r'/Users/ttas2/Documents/Python/nfl-machine-learning-models/output_files/run_pass_classifier_results.pkl')\n",
    "best_model"
   ],
   "metadata": {
    "collapsed": false
   },
   "id": "2a323e0678ce7ec2"
  },
  {
   "cell_type": "code",
   "execution_count": 19,
   "outputs": [],
   "source": [],
   "metadata": {
    "collapsed": false,
    "ExecuteTime": {
     "end_time": "2023-10-29T04:04:06.021605Z",
     "start_time": "2023-10-29T04:04:06.012729Z"
    }
   },
   "id": "84e730b18dc73635"
  }
 ],
 "metadata": {
  "colab": {
   "name": "nfl_offensive_play_classification_v1.1.ipynb",
   "provenance": []
  },
  "kernelspec": {
   "display_name": "Python 3 (ipykernel)",
   "language": "python",
   "name": "python3"
  },
  "language_info": {
   "codemirror_mode": {
    "name": "ipython",
    "version": 3
   },
   "file_extension": ".py",
   "mimetype": "text/x-python",
   "name": "python",
   "nbconvert_exporter": "python",
   "pygments_lexer": "ipython3",
   "version": "3.9.6"
  }
 },
 "nbformat": 4,
 "nbformat_minor": 5
}
