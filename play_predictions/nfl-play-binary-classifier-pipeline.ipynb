{
 "cells": [
  {
   "cell_type": "code",
   "execution_count": 1,
   "outputs": [],
   "source": [
    "import warnings\n",
    "from numba.core.errors import NumbaDeprecationWarning, NumbaPendingDeprecationWarning\n",
    "warnings.simplefilter('ignore', category=UserWarning)\n",
    "warnings.filterwarnings('ignore',category=ImportWarning)\n",
    "warnings.filterwarnings('ignore',category=DeprecationWarning)\n",
    "warnings.simplefilter('ignore', category=NumbaDeprecationWarning)\n",
    "warnings.simplefilter('ignore', category=NumbaPendingDeprecationWarning)\n",
    "\n",
    "import pandas as pd\n",
    "import numpy as np\n",
    "import time\n",
    "\n",
    "import category_encoders as ce\n",
    "from scipy.stats import randint\n",
    "from imblearn.pipeline import Pipeline\n",
    "from imblearn.over_sampling import ADASYN\n",
    "from BorutaShap import BorutaShap\n",
    "from xgboost import XGBClassifier\n",
    "\n",
    "from sklearn.impute import SimpleImputer\n",
    "from sklearn.preprocessing import OrdinalEncoder, OneHotEncoder, MinMaxScaler # StandardScaler, MaxAbsScaler, RobustScaler\n",
    "from sklearn.experimental import enable_halving_search_cv\n",
    "from sklearn.model_selection import train_test_split, HalvingRandomSearchCV\n",
    "from sklearn.compose import ColumnTransformer\n",
    "from sklearn.utils.fixes import loguniform\n",
    "from sklearn.metrics import accuracy_score, balanced_accuracy_score, f1_score, roc_auc_score, classification_report, confusion_matrix\n",
    "from sklearn.dummy import DummyClassifier\n",
    "from sklearn.ensemble import RandomForestClassifier, ExtraTreesClassifier, GradientBoostingClassifier, AdaBoostClassifier\n",
    "import operator\n"
   ],
   "metadata": {
    "collapsed": false,
    "ExecuteTime": {
     "end_time": "2023-12-15T02:29:40.999904Z",
     "start_time": "2023-12-15T02:29:35.772504Z"
    }
   },
   "id": "774348c602e5ca1e"
  },
  {
   "cell_type": "code",
   "execution_count": 2,
   "outputs": [],
   "source": [
    "# Train test split parameters\n",
    "test_holdout_percentage = 0.20\n",
    "\n",
    "# Leave One Out Encoder Sigma value\n",
    "sigma = 0.05\n",
    "\n",
    "# Feature model parameters\n",
    "feature_model_n_estimators = 200\n",
    "feature_model_max_depth = 70\n",
    "feature_model_max_features = 0.50\n",
    "\n",
    "# BorutaShap parameters\n",
    "feature_model_n_trials = 200\n",
    "\n",
    "# ADASYN sampling multiplier\n",
    "adasyn_class_multiplier = 1\n",
    "\n",
    "# Specify model pipeline parameters\n",
    "scoring = 'accuracy'\n",
    "n_cross_validation = 5\n",
    "\n",
    "# Specify the HalvingRandomSearchCV parameters\n",
    "halving_parameter = 2.0\n",
    "max_resource = 2000\n",
    "resource_divisor = 2.0\n",
    "min_resource = int(round((max_resource / resource_divisor), 0))\n"
   ],
   "metadata": {
    "collapsed": false,
    "ExecuteTime": {
     "end_time": "2023-12-15T02:29:41.010328Z",
     "start_time": "2023-12-15T02:29:41.003142Z"
    }
   },
   "id": "39c59abc33e5e515"
  },
  {
   "cell_type": "code",
   "execution_count": 3,
   "outputs": [],
   "source": [
    "# Create timer to calculate total workbook time in hours\n",
    "start_time = time.time()"
   ],
   "metadata": {
    "collapsed": false,
    "ExecuteTime": {
     "end_time": "2023-12-15T02:29:41.020994Z",
     "start_time": "2023-12-15T02:29:41.010072Z"
    }
   },
   "id": "5dc8446203dc414e"
  },
  {
   "cell_type": "markdown",
   "id": "c4f8e047",
   "metadata": {
    "pycharm": {
     "name": "#%% md\n"
    }
   },
   "source": [
    "## IMPORT PROCESSED NFL-DATA-PY CSV FILE\n",
    "##### https://pypi.org/project/nfl-data-py/"
   ]
  },
  {
   "cell_type": "code",
   "execution_count": 4,
   "outputs": [
    {
     "data": {
      "text/plain": "(59261, 168)"
     },
     "execution_count": 4,
     "metadata": {},
     "output_type": "execute_result"
    }
   ],
   "source": [
    "# Import csv file from nfl-data-py\n",
    "df = pd.read_csv(r'/Users/ttas2/Documents/Python/nfl-machine-learning-models/output_files/nfl_post_processing_run_pass_classification_data.csv')\n",
    "\n",
    "df.shape"
   ],
   "metadata": {
    "collapsed": false,
    "ExecuteTime": {
     "end_time": "2023-12-15T02:29:42.090090Z",
     "start_time": "2023-12-15T02:29:41.015075Z"
    }
   },
   "id": "f8d686327dce3e32"
  },
  {
   "cell_type": "code",
   "execution_count": 5,
   "outputs": [
    {
     "name": "stdout",
     "output_type": "stream",
     "text": [
      "[]\n"
     ]
    }
   ],
   "source": [
    "# Print columns with missing values\n",
    "print(df.columns[df.isnull().any()].tolist())"
   ],
   "metadata": {
    "collapsed": false,
    "ExecuteTime": {
     "end_time": "2023-12-15T02:29:42.145546Z",
     "start_time": "2023-12-15T02:29:42.086878Z"
    }
   },
   "id": "629bc39586b0fba6"
  },
  {
   "cell_type": "code",
   "execution_count": 6,
   "outputs": [
    {
     "data": {
      "text/plain": "       week posteam posteam_type defteam  yardline_100   \n15541    16     DAL         home     PHI          61.0  \\\n35784    12     MIA         home     HOU          77.0   \n\n       quarter_seconds_remaining  half_seconds_remaining   \n15541                        348                     348  \\\n35784                        648                     648   \n\n       game_seconds_remaining  game_half  qtr  ...   \n15541                    2148          1    2  ...  \\\n35784                    2448          1    2  ...   \n\n       remain_yds_div_def_dl_count  remain_yds_prod_def_dl_count   \n15541                        0.875                          14.0  \\\n35784                        1.250                          20.0   \n\n       remain_yds_div_def_db_count remain_yds_prod_def_db_count   \n15541                         0.70                         17.5  \\\n35784                         1.25                         20.0   \n\n       remain_yds_div_score_diff  remain_yds_prod_score_diff   \n15541                  -1.166667                       -10.5  \\\n35784                   0.294118                        85.0   \n\n       run_ratio_off_priors  run_ratio_def_priors  posteam_season   \n15541              0.310847              0.300000        dal_2022  \\\n35784              0.125000              0.522222        mia_2022   \n\n       defteam_season  \n15541        phi_2022  \n35784        hou_2022  \n\n[2 rows x 168 columns]",
      "text/html": "<div>\n<style scoped>\n    .dataframe tbody tr th:only-of-type {\n        vertical-align: middle;\n    }\n\n    .dataframe tbody tr th {\n        vertical-align: top;\n    }\n\n    .dataframe thead th {\n        text-align: right;\n    }\n</style>\n<table border=\"1\" class=\"dataframe\">\n  <thead>\n    <tr style=\"text-align: right;\">\n      <th></th>\n      <th>week</th>\n      <th>posteam</th>\n      <th>posteam_type</th>\n      <th>defteam</th>\n      <th>yardline_100</th>\n      <th>quarter_seconds_remaining</th>\n      <th>half_seconds_remaining</th>\n      <th>game_seconds_remaining</th>\n      <th>game_half</th>\n      <th>qtr</th>\n      <th>...</th>\n      <th>remain_yds_div_def_dl_count</th>\n      <th>remain_yds_prod_def_dl_count</th>\n      <th>remain_yds_div_def_db_count</th>\n      <th>remain_yds_prod_def_db_count</th>\n      <th>remain_yds_div_score_diff</th>\n      <th>remain_yds_prod_score_diff</th>\n      <th>run_ratio_off_priors</th>\n      <th>run_ratio_def_priors</th>\n      <th>posteam_season</th>\n      <th>defteam_season</th>\n    </tr>\n  </thead>\n  <tbody>\n    <tr>\n      <th>15541</th>\n      <td>16</td>\n      <td>DAL</td>\n      <td>home</td>\n      <td>PHI</td>\n      <td>61.0</td>\n      <td>348</td>\n      <td>348</td>\n      <td>2148</td>\n      <td>1</td>\n      <td>2</td>\n      <td>...</td>\n      <td>0.875</td>\n      <td>14.0</td>\n      <td>0.70</td>\n      <td>17.5</td>\n      <td>-1.166667</td>\n      <td>-10.5</td>\n      <td>0.310847</td>\n      <td>0.300000</td>\n      <td>dal_2022</td>\n      <td>phi_2022</td>\n    </tr>\n    <tr>\n      <th>35784</th>\n      <td>12</td>\n      <td>MIA</td>\n      <td>home</td>\n      <td>HOU</td>\n      <td>77.0</td>\n      <td>648</td>\n      <td>648</td>\n      <td>2448</td>\n      <td>1</td>\n      <td>2</td>\n      <td>...</td>\n      <td>1.250</td>\n      <td>20.0</td>\n      <td>1.25</td>\n      <td>20.0</td>\n      <td>0.294118</td>\n      <td>85.0</td>\n      <td>0.125000</td>\n      <td>0.522222</td>\n      <td>mia_2022</td>\n      <td>hou_2022</td>\n    </tr>\n  </tbody>\n</table>\n<p>2 rows × 168 columns</p>\n</div>"
     },
     "execution_count": 6,
     "metadata": {},
     "output_type": "execute_result"
    }
   ],
   "source": [
    "# Convert binary columns to integers\n",
    "binary_columns = df.columns[df.isin([0,1]).all()].tolist()\n",
    "df[binary_columns] = df[binary_columns].apply(pd.to_numeric, downcast='integer', errors='coerce', axis=1)\n",
    "\n",
    "df.sample(2)"
   ],
   "metadata": {
    "collapsed": false,
    "ExecuteTime": {
     "end_time": "2023-12-15T02:29:53.928733Z",
     "start_time": "2023-12-15T02:29:42.147075Z"
    }
   },
   "id": "41f7422bcc2cf003"
  },
  {
   "cell_type": "code",
   "execution_count": 7,
   "id": "4c9bcb28",
   "metadata": {
    "pycharm": {
     "name": "#%%\n"
    },
    "ExecuteTime": {
     "end_time": "2023-12-15T02:29:53.931525Z",
     "start_time": "2023-12-15T02:29:53.927798Z"
    }
   },
   "outputs": [
    {
     "data": {
      "text/plain": "play_type\npass    0.598539\nrun     0.401461\nName: proportion, dtype: float64"
     },
     "execution_count": 7,
     "metadata": {},
     "output_type": "execute_result"
    }
   ],
   "source": [
    "# Target frequency\n",
    "target_count = df.play_type.value_counts(normalize=True)\n",
    "target_count"
   ]
  },
  {
   "cell_type": "code",
   "execution_count": 8,
   "outputs": [],
   "source": [
    "df['play_type'] = np.where(df['play_type'] == 'pass', 1, 0)"
   ],
   "metadata": {
    "collapsed": false,
    "ExecuteTime": {
     "end_time": "2023-12-15T02:29:53.966563Z",
     "start_time": "2023-12-15T02:29:53.931439Z"
    }
   },
   "id": "91112ef9f7a1ba3c"
  },
  {
   "cell_type": "markdown",
   "source": [
    "## TRAIN TEST SPLIT\n",
    "##### https://scikit-learn.org/stable/modules/generated/sklearn.model_selection.train_test_split.html"
   ],
   "metadata": {
    "collapsed": false
   },
   "id": "4c140526b778c182"
  },
  {
   "cell_type": "code",
   "execution_count": 9,
   "id": "4943bbf5",
   "metadata": {
    "pycharm": {
     "name": "#%%\n"
    },
    "ExecuteTime": {
     "end_time": "2023-12-15T02:29:54.167893Z",
     "start_time": "2023-12-15T02:29:53.944406Z"
    }
   },
   "outputs": [
    {
     "name": "stdout",
     "output_type": "stream",
     "text": [
      "167 initial features before processing\n"
     ]
    }
   ],
   "source": [
    "# split data into target and feature datasets\n",
    "X, y = df.loc[:, df.columns != 'play_type'], df['play_type']\n",
    "\n",
    "initial_features = X.columns.to_list()\n",
    "\n",
    "# Create train and test datasets\n",
    "X_train, X_test, y_train, y_test = train_test_split(X, y, test_size=test_holdout_percentage, random_state=67)\n",
    "\n",
    "print(X_train.shape[1], 'initial features before processing')"
   ]
  },
  {
   "cell_type": "markdown",
   "id": "4b6cd4c3",
   "metadata": {
    "pycharm": {
     "name": "#%% md\n"
    }
   },
   "source": [
    "## BASELINE MODEL\n",
    "##### https://scikit-learn.org/stable/modules/generated/sklearn.dummy.DummyClassifier.html"
   ]
  },
  {
   "cell_type": "code",
   "execution_count": 10,
   "id": "28e9513e",
   "metadata": {
    "pycharm": {
     "name": "#%%\n"
    },
    "ExecuteTime": {
     "end_time": "2023-12-15T02:29:54.279557Z",
     "start_time": "2023-12-15T02:29:54.129582Z"
    }
   },
   "outputs": [
    {
     "name": "stdout",
     "output_type": "stream",
     "text": [
      "Baseline accuracy: 60.2%\n",
      "Baseline f1 score: 75.2%\n"
     ]
    }
   ],
   "source": [
    "# Create and fit baseline model to compare performance\n",
    "baseline_model = DummyClassifier(strategy='most_frequent', random_state=67)\n",
    "baseline_model.fit(X_train, y_train)\n",
    "\n",
    "# Calculate model accuracy on test data\n",
    "y_baseline_pred = baseline_model.predict(X_test)\n",
    "\n",
    "print(f\"Baseline accuracy: {round(accuracy_score(y_test,y_baseline_pred)*100, 1)}%\")\n",
    "print(f\"Baseline f1 score: {round(f1_score(y_test,y_baseline_pred)*100, 1)}%\")\n"
   ]
  },
  {
   "cell_type": "markdown",
   "source": [
    "## ENCODE CATEGORICAL FEATURES\n",
    "##### https://contrib.scikit-learn.org/category_encoders/leaveoneout.html"
   ],
   "metadata": {
    "collapsed": false
   },
   "id": "e0f3ad4dbdd2f444"
  },
  {
   "cell_type": "code",
   "execution_count": 11,
   "outputs": [
    {
     "name": "stdout",
     "output_type": "stream",
     "text": [
      "Total observations in training dataset: 47408\n",
      "Total features before encoding: 167\n",
      " \n",
      "Categorical features dropped due to invariance: []\n",
      " \n",
      "Total features after categorical encoding: 167\n",
      "Column names: ['week', 'posteam', 'posteam_type', 'defteam', 'yardline_100', 'quarter_seconds_remaining', 'half_seconds_remaining', 'game_seconds_remaining', 'game_half', 'qtr', 'down', 'goal_to_go', 'ydstogo', 'shotgun', 'no_huddle', 'posteam_timeouts_remaining', 'defteam_timeouts_remaining', 'posteam_score', 'defteam_score', 'score_differential', 'no_score_prob', 'fg_prob', 'safety_prob', 'td_prob', 'ep', 'wp', 'drive_play_count', 'spread_line', 'total_line', 'div_game', 'roof', 'surface', 'possession_team', 'offense_formation', 'offense_personnel', 'defenders_in_box', 'defense_personnel', 'n_offense', 'n_defense', 'qb_rank', 'qb_pts', 'qb_plays', 'qb_qbr_raw', 'qb_qbr', 'qb_pass', 'qb_run', 'report_eligible', 'off_rb_count', 'off_te_count', 'off_wr_count', 'off_hb_count', 'off_ol_count', 'def_dl_count', 'def_lb_count', 'def_db_count', 'wr_to_db_ratio', 'hb_to_lb_ratio', 'ol_to_dl_ratio', 'play_sequence_game', 'play_sequence_series', 'game_temp', 'game_humidity', 'game_wind', 'game_weather', 'dtg_99to90', 'dtg_89to60', 'dtg_59to45', 'dtg_44to35', 'dtg_34to21', 'dtg_20to10', 'dtg_09to00', 'prev1_big_play_pass', 'prev2_big_play_pass', 'prev3_big_play_pass', 'prev1_big_play_run', 'prev2_big_play_run', 'prev3_big_play_run', 'prev1_negative_pass', 'prev2_negative_pass', 'prev3_negative_pass', 'prev1_negative_run', 'prev2_negative_run', 'prev3_negative_run', 'play_type_prev1', 'play_type_prev2', 'play_type_prev3', 'play_type_prev4', 'prev1_play_off_penalty', 'prev1_play_def_penalty', 'prev2_play_off_penalty', 'prev2_play_def_penalty', 'prev3_play_off_penalty', 'prev3_play_def_penalty', 'prev1_play_run_outside', 'prev1_play_run_inside', 'prev1_play_pass_deep', 'prev1_play_pass_short', 'prev2_play_run_outside', 'prev2_play_run_inside', 'prev2_play_pass_deep', 'prev2_play_pass_short', 'prev3_play_run_outside', 'prev3_play_run_inside', 'prev3_play_pass_deep', 'prev3_play_pass_short', 'prev1_incomplete_pass', 'prev2_incomplete_pass', 'prev3_incomplete_pass', 'prev4_incomplete_pass', 'drive_incomplete_pass_pcnt', 'prev1_yards_gained', 'prev2_yards_gained', 'prev3_yards_gained', 'prev4_yards_gained', 'prev1_wpa', 'prev2_wpa', 'prev3_wpa', 'prev4_wpa', 'prev1_shotgun', 'prev2_shotgun', 'prev3_shotgun', 'drive_shotgun_pcnt', 'prev1_qb_hit', 'prev2_qb_hit', 'prev3_qb_hit', 'drive_qb_hit_pcnt', 'prev1_no_huddle', 'prev2_no_huddle', 'prev3_no_huddle', 'drive_no_huddle_pcnt', 'prev1_first_down_pass', 'prev2_first_down_pass', 'prev3_first_down_pass', 'prev1_first_down_run', 'prev2_first_down_run', 'prev3_first_down_run', 'prev1_effct_play', 'prev2_effct_play', 'prev3_effct_play', 'drive_effct_play_pcnt', 'remaining_downs', 'remaining_yards_per_down', 'drive_start', 'two_min_warning', 'ep_half_sec_ratio', 'ep_game_sec_ratio', 'posteam_side', 'half_seconds_div_score_diff', 'half_seconds_prod_score_diff', 'game_wind_div_game_temp', 'game_wind_prod_game_temp', 'game_temp_div_game_humidity', 'game_temp_prod_game_humidity', 'remain_yds_div_def_box', 'remain_yds_prod_def_box', 'remain_yds_div_off_hb_count', 'remain_yds_prod_off_hb_count', 'remain_yds_div_def_dl_count', 'remain_yds_prod_def_dl_count', 'remain_yds_div_def_db_count', 'remain_yds_prod_def_db_count', 'remain_yds_div_score_diff', 'remain_yds_prod_score_diff', 'run_ratio_off_priors', 'run_ratio_def_priors', 'posteam_season', 'defteam_season']\n"
     ]
    }
   ],
   "source": [
    "# Encoded column represents mean response over all rows for this category, providing one-column representation while avoiding direct response leakage\n",
    "\n",
    "pre_features = X_train.columns.to_list()\n",
    "categorical_features = list(X_train.select_dtypes(include='object'))\n",
    "\n",
    "# Sigma adds normal (Gaussian) distribution noise into training data in order to decrease over-fitting (testing data are untouched). Sigma gives the standard deviation (spread or “width”) of the normal distribution. The optimal value is commonly between 0.05 and 0.6. The default is to not add noise, but that leads to significantly suboptimal results.\n",
    "encoder = ce.LeaveOneOutEncoder(return_df=True, cols=categorical_features, handle_missing='value', handle_unknown='value', sigma=sigma, random_state=67, drop_invariant=False)\n",
    "\n",
    "X_train = encoder.fit_transform(X_train, y_train)\n",
    "X_test = encoder.transform(X_test)\n",
    "\n",
    "post_features = X_train.columns.to_list()\n",
    "\n",
    "# Compare 2 lists and identify elements in first list not in second list\n",
    "def diff(list1, list2):\n",
    "    return list(set(list1) - set(list2))\n",
    "\n",
    "print('Total observations in training dataset:', len(X_train))\n",
    "print('Total features before encoding:', len(pre_features))\n",
    "print(' ')\n",
    "print('Categorical features dropped due to invariance:', diff(pre_features, post_features))\n",
    "print(' ')\n",
    "print('Total features after categorical encoding:', len(post_features))\n",
    "print('Column names:', X_train.columns.to_list())"
   ],
   "metadata": {
    "collapsed": false,
    "ExecuteTime": {
     "end_time": "2023-12-15T02:29:55.836851Z",
     "start_time": "2023-12-15T02:29:54.171251Z"
    }
   },
   "id": "d33d4e0b73750e26"
  },
  {
   "cell_type": "markdown",
   "source": [
    "## FEATURE SELECTION\n",
    "##### https://pypi.org/project/BorutaShap/"
   ],
   "metadata": {
    "collapsed": false
   },
   "id": "65fe86e88f378c61"
  },
  {
   "cell_type": "raw",
   "source": [
    "feature_model =  XGBClassifier()"
   ],
   "metadata": {
    "collapsed": false
   },
   "id": "93c2b0bed128bd09"
  },
  {
   "cell_type": "code",
   "execution_count": 12,
   "outputs": [],
   "source": [
    "feature_model = RandomForestClassifier(ccp_alpha=1e-03,                             # cost-complexity pruning is an algorithm used to prune a tree to avoid over-fitting\n",
    "                                      criterion='gini',\n",
    "                                      max_depth=feature_model_max_depth, \n",
    "                                      max_features=feature_model_max_features,\n",
    "                                      max_leaf_nodes=50,                           # max_leaf_nodes is not supported for bootstrap=False\n",
    "                                      max_samples=0.30,                            # max_samples is not supported for bootstrap=False\n",
    "                                      min_impurity_decrease=1e-05,                 # A node will be split if this split induces a decrease of the impurity greater than or equal to this value\n",
    "                                      #min_samples_leaf=0.02,\n",
    "                                      #min_samples_split=0.02,\n",
    "                                      #min_weight_fraction_leaf=0.03,\n",
    "                                      n_estimators=feature_model_n_estimators,\n",
    "                                      class_weight='balanced_subsample',\n",
    "                                      bootstrap=True,\n",
    "                                      oob_score=False,                              # Only for bootstrap=True\n",
    "                                      warm_start=False,\n",
    "                                      n_jobs=6,\n",
    "                                      random_state=67,\n",
    "                                       )"
   ],
   "metadata": {
    "collapsed": false,
    "ExecuteTime": {
     "end_time": "2023-12-15T02:29:55.852502Z",
     "start_time": "2023-12-15T02:29:55.839550Z"
    }
   },
   "id": "39e692ffcbfd70ba"
  },
  {
   "cell_type": "code",
   "execution_count": 13,
   "outputs": [
    {
     "name": "stderr",
     "output_type": "stream",
     "text": [
      "100%|██████████| 200/200 [2:18:21<00:00, 41.51s/it]  "
     ]
    },
    {
     "name": "stdout",
     "output_type": "stream",
     "text": [
      "55 attributes confirmed important: ['offense_personnel', 'prev1_yards_gained', 'posteam_season', 'drive_incomplete_pass_pcnt', 'half_seconds_div_score_diff', 'half_seconds_remaining', 'posteam', 'prev2_wpa', 'defense_personnel', 'prev1_incomplete_pass', 'run_ratio_def_priors', 'no_score_prob', 'remain_yds_prod_def_dl_count', 'two_min_warning', 'prev1_play_run_outside', 'defenders_in_box', 'shotgun', 'posteam_score', 'remain_yds_div_off_hb_count', 'prev1_wpa', 'remaining_yards_per_down', 'safety_prob', 'remain_yds_div_def_db_count', 'prev1_play_pass_deep', 'play_type_prev3', 'td_prob', 'defteam_score', 'remain_yds_prod_def_db_count', 'possession_team', 'score_differential', 'def_db_count', 'play_type_prev2', 'remain_yds_div_def_box', 'ep', 'qtr', 'remain_yds_prod_off_hb_count', 'remain_yds_div_def_dl_count', 'remain_yds_prod_def_box', 'posteam_timeouts_remaining', 'game_seconds_remaining', 'down', 'wp', 'yardline_100', 'remain_yds_prod_score_diff', 'ydstogo', 'run_ratio_off_priors', 'remaining_downs', 'qb_pass', 'ep_game_sec_ratio', 'play_type_prev1', 'quarter_seconds_remaining', 'remain_yds_div_score_diff', 'offense_formation', 'ep_half_sec_ratio', 'half_seconds_prod_score_diff']\n",
      "112 attributes confirmed unimportant: ['goal_to_go', 'game_wind', 'qb_pts', 'prev2_shotgun', 'prev2_negative_pass', 'posteam_side', 'game_wind_div_game_temp', 'defteam_season', 'prev2_effct_play', 'prev3_big_play_run', 'total_line', 'prev3_first_down_pass', 'prev3_play_run_outside', 'dtg_44to35', 'fg_prob', 'def_lb_count', 'prev3_effct_play', 'prev3_first_down_run', 'prev4_incomplete_pass', 'prev2_no_huddle', 'prev1_shotgun', 'drive_qb_hit_pcnt', 'prev1_play_run_inside', 'drive_start', 'off_ol_count', 'prev2_yards_gained', 'no_huddle', 'prev3_negative_pass', 'prev3_play_run_inside', 'qb_rank', 'dtg_89to60', 'game_temp_prod_game_humidity', 'div_game', 'game_half', 'prev3_no_huddle', 'drive_no_huddle_pcnt', 'def_dl_count', 'wr_to_db_ratio', 'defteam_timeouts_remaining', 'dtg_99to90', 'ol_to_dl_ratio', 'prev4_yards_gained', 'prev2_big_play_pass', 'prev2_big_play_run', 'prev2_play_run_outside', 'prev3_play_def_penalty', 'prev1_first_down_pass', 'game_humidity', 'prev2_play_pass_short', 'prev2_play_off_penalty', 'prev2_play_pass_deep', 'prev1_qb_hit', 'week', 'game_temp', 'prev2_play_run_inside', 'prev3_negative_run', 'qb_plays', 'hb_to_lb_ratio', 'prev3_shotgun', 'play_sequence_game', 'prev1_play_def_penalty', 'game_temp_div_game_humidity', 'dtg_09to00', 'prev2_incomplete_pass', 'off_rb_count', 'spread_line', 'off_te_count', 'qb_qbr_raw', 'prev2_negative_run', 'dtg_34to21', 'prev1_big_play_run', 'qb_qbr', 'prev1_no_huddle', 'roof', 'prev3_qb_hit', 'drive_play_count', 'drive_effct_play_pcnt', 'prev1_big_play_pass', 'n_offense', 'prev3_play_off_penalty', 'prev1_first_down_run', 'prev3_wpa', 'prev3_play_pass_short', 'off_wr_count', 'prev2_first_down_run', 'prev1_negative_pass', 'prev2_play_def_penalty', 'off_hb_count', 'prev1_play_pass_short', 'prev3_yards_gained', 'prev1_effct_play', 'game_weather', 'n_defense', 'defteam', 'posteam_type', 'prev3_big_play_pass', 'prev2_first_down_pass', 'play_type_prev4', 'qb_run', 'dtg_20to10', 'dtg_59to45', 'surface', 'prev1_negative_run', 'prev3_play_pass_deep', 'prev2_qb_hit', 'prev1_play_off_penalty', 'game_wind_prod_game_temp', 'play_sequence_series', 'prev3_incomplete_pass', 'report_eligible', 'drive_shotgun_pcnt', 'prev4_wpa']\n",
      "0 tentative attributes remains: []\n"
     ]
    },
    {
     "name": "stderr",
     "output_type": "stream",
     "text": [
      "\n"
     ]
    }
   ],
   "source": [
    "# no model selected default is Random Forest\n",
    "Feature_Selector = BorutaShap(importance_measure='shap',\n",
    "                              classification=True,\n",
    "                              model=feature_model,\n",
    "                              )\n",
    "\n",
    "Feature_Selector.fit(X=X_train,\n",
    "                    y=y_train,\n",
    "                    n_trials=feature_model_n_trials,\n",
    "                    sample=False,\n",
    "                    random_state=67,\n",
    "                    )"
   ],
   "metadata": {
    "collapsed": false,
    "ExecuteTime": {
     "end_time": "2023-12-15T04:48:17.763194Z",
     "start_time": "2023-12-15T02:29:55.842508Z"
    }
   },
   "id": "4e7034bfcd562178"
  },
  {
   "cell_type": "code",
   "execution_count": 14,
   "outputs": [
    {
     "data": {
      "text/plain": "<Figure size 1800x1000 with 1 Axes>",
      "image/png": "[encoded data removed]"
     },
     "metadata": {},
     "output_type": "display_data"
    }
   ],
   "source": [
    "# Plot selected features with shap values on x-axis\n",
    "Feature_Selector.plot(which_features='accepted', figsize=(18, 10), y_scale='log')"
   ],
   "metadata": {
    "collapsed": false,
    "ExecuteTime": {
     "end_time": "2023-12-15T04:48:18.938594Z",
     "start_time": "2023-12-15T04:48:17.770855Z"
    }
   },
   "id": "c20134f76d62fa54"
  },
  {
   "cell_type": "code",
   "execution_count": 15,
   "outputs": [
    {
     "name": "stdout",
     "output_type": "stream",
     "text": [
      "Training features: 55\n",
      "Testing features: 55\n",
      "Most important features: ['posteam', 'yardline_100', 'quarter_seconds_remaining', 'half_seconds_remaining', 'game_seconds_remaining', 'qtr', 'down', 'ydstogo', 'shotgun', 'posteam_timeouts_remaining', 'posteam_score', 'defteam_score', 'score_differential', 'no_score_prob', 'safety_prob', 'td_prob', 'ep', 'wp', 'possession_team', 'offense_formation', 'offense_personnel', 'defenders_in_box', 'defense_personnel', 'qb_pass', 'def_db_count', 'play_type_prev1', 'play_type_prev2', 'play_type_prev3', 'prev1_play_run_outside', 'prev1_play_pass_deep', 'prev1_incomplete_pass', 'drive_incomplete_pass_pcnt', 'prev1_yards_gained', 'prev1_wpa', 'prev2_wpa', 'remaining_downs', 'remaining_yards_per_down', 'two_min_warning', 'ep_half_sec_ratio', 'ep_game_sec_ratio', 'half_seconds_div_score_diff', 'half_seconds_prod_score_diff', 'remain_yds_div_def_box', 'remain_yds_prod_def_box', 'remain_yds_div_off_hb_count', 'remain_yds_prod_off_hb_count', 'remain_yds_div_def_dl_count', 'remain_yds_prod_def_dl_count', 'remain_yds_div_def_db_count', 'remain_yds_prod_def_db_count', 'remain_yds_div_score_diff', 'remain_yds_prod_score_diff', 'run_ratio_off_priors', 'run_ratio_def_priors', 'posteam_season']\n"
     ]
    }
   ],
   "source": [
    "# Drops features that were identified by BorutaShap as not important\n",
    "features_to_remove = Feature_Selector.features_to_remove\n",
    "\n",
    "X_train = X_train.drop(columns=features_to_remove)\n",
    "X_test = X_test.drop(columns=features_to_remove)\n",
    "\n",
    "print('Training features:', X_train.shape[1])\n",
    "print('Testing features:', X_test.shape[1])\n",
    "print('Most important features:', X_train.columns.to_list())"
   ],
   "metadata": {
    "collapsed": false,
    "ExecuteTime": {
     "end_time": "2023-12-15T04:48:19.314638Z",
     "start_time": "2023-12-15T04:48:18.970845Z"
    }
   },
   "id": "afa5c66c26a42f87"
  },
  {
   "cell_type": "code",
   "execution_count": 16,
   "outputs": [
    {
     "name": "stdout",
     "output_type": "stream",
     "text": [
      "Total time: 2.31 hours\n"
     ]
    }
   ],
   "source": [
    "# Calculate workbook processing time in hours\n",
    "end_time = time.time()\n",
    "total_time = end_time - start_time\n",
    "\n",
    "print('Total time:', round(total_time / 3600, 2), 'hours')"
   ],
   "metadata": {
    "collapsed": false,
    "ExecuteTime": {
     "end_time": "2023-12-15T04:48:19.315697Z",
     "start_time": "2023-12-15T04:48:18.975475Z"
    }
   },
   "id": "303ed2263cd313f4"
  },
  {
   "cell_type": "markdown",
   "source": [
    "## MODEL PIPELINE\n",
    "##### https://scikit-learn.org/stable/modules/generated/sklearn.compose.ColumnTransformer.html\n",
    "##### https://scikit-learn.org/stable/modules/generated/sklearn.impute.SimpleImputer.html\n",
    "##### https://scikit-learn.org/stable/modules/generated/sklearn.preprocessing.PowerTransformer.html\n",
    "##### https://www.statsmodels.org/dev/generated/statsmodels.stats.outliers_influence.variance_inflation_factor.html\n",
    "##### https://imbalanced-learn.org/stable/references/over_sampling.html\n",
    "##### https://scikit-learn.org/stable/modules/generated/sklearn.model_selection.HalvingRandomSearchCV.html\n",
    "##### https://scikit-learn.org/stable/modules/generated/sklearn.metrics.f1_score.html\n",
    "##### https://scikit-learn.org/stable/modules/generated/sklearn.ensemble.GradientBoostingClassifier.html\n",
    "##### https://scikit-learn.org/stable/modules/generated/sklearn.ensemble.RandomForestClassifier.html\n",
    "##### https://scikit-learn.org/stable/modules/generated/sklearn.ensemble.ExtraTreesClassifier.html\n",
    "##### https://xgboost.readthedocs.io/en/stable/parameter.html"
   ],
   "metadata": {
    "collapsed": false
   },
   "id": "28eb7c49ea06b6d2"
  },
  {
   "cell_type": "code",
   "execution_count": 17,
   "outputs": [
    {
     "name": "stdout",
     "output_type": "stream",
     "text": [
      "ordinal features: 3 : ['qtr', 'down', 'remaining_downs']\n",
      "boolean features: 5 : ['shotgun', 'prev1_play_run_outside', 'prev1_play_pass_deep', 'prev1_incomplete_pass', 'two_min_warning']\n",
      "numeric features: 47 : ['posteam', 'yardline_100', 'quarter_seconds_remaining', 'half_seconds_remaining', 'game_seconds_remaining', 'ydstogo', 'posteam_timeouts_remaining', 'posteam_score', 'defteam_score', 'score_differential', 'no_score_prob', 'safety_prob', 'td_prob', 'ep', 'wp', 'possession_team', 'offense_formation', 'offense_personnel', 'defenders_in_box', 'defense_personnel', 'qb_pass', 'def_db_count', 'play_type_prev1', 'play_type_prev2', 'play_type_prev3', 'drive_incomplete_pass_pcnt', 'prev1_yards_gained', 'prev1_wpa', 'prev2_wpa', 'remaining_yards_per_down', 'ep_half_sec_ratio', 'ep_game_sec_ratio', 'half_seconds_div_score_diff', 'half_seconds_prod_score_diff', 'remain_yds_div_def_box', 'remain_yds_prod_def_box', 'remain_yds_div_off_hb_count', 'remain_yds_prod_off_hb_count', 'remain_yds_div_def_dl_count', 'remain_yds_prod_def_dl_count', 'remain_yds_div_def_db_count', 'remain_yds_prod_def_db_count', 'remain_yds_div_score_diff', 'remain_yds_prod_score_diff', 'run_ratio_off_priors', 'run_ratio_def_priors', 'posteam_season']\n"
     ]
    }
   ],
   "source": [
    "# Create feature type lists for column transform stage of the pipeline\n",
    "ordinal_features = X_train.columns[X_train.isin([1,2,3,4,5]).all()].tolist()\n",
    "categorical_features = list(X_train.select_dtypes(include='object'))\n",
    "boolean_features = X_train.columns[X_train.isin([0, 1]).all()].tolist()\n",
    "\n",
    "numeric_features = [x for x in X_train.columns if x not in ordinal_features]\n",
    "numeric_features = [x for x in numeric_features if x not in categorical_features]\n",
    "numeric_features = [x for x in numeric_features if x not in boolean_features]\n",
    "\n",
    "#print('categorical features:', len(categorical_features), ':', categorical_features)\n",
    "print('ordinal features:', len(ordinal_features), ':', ordinal_features)\n",
    "print('boolean features:', len(boolean_features), ':', boolean_features)\n",
    "print('numeric features:', len(numeric_features), ':', numeric_features)"
   ],
   "metadata": {
    "collapsed": false,
    "ExecuteTime": {
     "end_time": "2023-12-15T04:48:19.822226Z",
     "start_time": "2023-12-15T04:48:18.985854Z"
    }
   },
   "id": "e95804b4c341fcbb"
  },
  {
   "cell_type": "code",
   "execution_count": 18,
   "outputs": [],
   "source": [
    "# Outlier removal\n",
    "def iqr_outliers(x, features):\n",
    "\n",
    "    out_index_list = []\n",
    "        \n",
    "    for col in features:\n",
    "        q1 = np.nanpercentile(x[col], 25.)\n",
    "        q3 = np.nanpercentile(x[col], 75.)\n",
    "        \n",
    "        cut_off = (q3 - q1) * 1.5\n",
    "        upper, lower = q3 + cut_off, q1 - cut_off\n",
    "                \n",
    "        outliers_index = x[col][(x[col] < lower) | (x[col] > upper)].index.tolist()\n",
    "        out_index_list.extend(outliers_index)\n",
    "        \n",
    "    # Remove duplicates\n",
    "    list(set(out_index_list)).sort()"
   ],
   "metadata": {
    "pycharm": {
     "name": "#%%\n"
    },
    "ExecuteTime": {
     "end_time": "2023-12-15T04:48:19.824194Z",
     "start_time": "2023-12-15T04:48:19.813835Z"
    }
   },
   "id": "3e4ff9bb"
  },
  {
   "cell_type": "code",
   "execution_count": 19,
   "outputs": [],
   "source": [
    "# Specify the transformations per data type\n",
    "num_trans = Pipeline(steps=[('simple_imputer', SimpleImputer(missing_values=np.nan, strategy='median')),\n",
    "                            ('iqr_outlier', iqr_outliers(X_train, numeric_features)),\n",
    "                            ('scaler', MinMaxScaler()),\n",
    "                           ])\n",
    "\n",
    "cat_trans = Pipeline(steps=[('simple_imputer', SimpleImputer(missing_values=np.nan, strategy='most_frequent')),\n",
    "                            ('onehot_encoder', OneHotEncoder(sparse=False, handle_unknown='infrequent_if_exist')),\n",
    "                            ])\n",
    "\n",
    "ord_trans = Pipeline(steps=[('simple_imputer', SimpleImputer(missing_values=np.nan, strategy='most_frequent')),\n",
    "                            ('ordinal_encoder', OrdinalEncoder(categories='auto', handle_unknown='error')),\n",
    "                            ('scaler', MinMaxScaler()),\n",
    "                           ])\n",
    "                             \n",
    "Column_Transform = ColumnTransformer(transformers=[('numeric_transform', num_trans, numeric_features),\n",
    "                                                   ('categorical_transform', cat_trans, categorical_features),\n",
    "                                                   ('ordinal_transform', ord_trans, ordinal_features),\n",
    "                                                   ],\n",
    "                                     remainder='passthrough',\n",
    "                                    )"
   ],
   "metadata": {
    "pycharm": {
     "name": "#%%\n"
    },
    "ExecuteTime": {
     "end_time": "2023-12-15T04:48:19.981849Z",
     "start_time": "2023-12-15T04:48:19.820582Z"
    }
   },
   "id": "58cc5161"
  },
  {
   "cell_type": "code",
   "execution_count": 20,
   "id": "17593a5b",
   "metadata": {
    "pycharm": {
     "name": "#%%\n"
    },
    "ExecuteTime": {
     "end_time": "2023-12-15T04:48:19.995650Z",
     "start_time": "2023-12-15T04:48:19.987741Z"
    }
   },
   "outputs": [],
   "source": [
    "# Specify number of target classes\n",
    "n_classes = y_train.nunique() * adasyn_class_multiplier"
   ]
  },
  {
   "cell_type": "code",
   "execution_count": 21,
   "id": "e4b3074a",
   "metadata": {
    "pycharm": {
     "name": "#%%\n"
    },
    "ExecuteTime": {
     "end_time": "2023-12-15T04:48:20.030710Z",
     "start_time": "2023-12-15T04:48:20.010201Z"
    }
   },
   "outputs": [],
   "source": [
    "def random_search():\n",
    "    \n",
    "    pipeline1 = Pipeline([\n",
    "    ('col', Column_Transform),\n",
    "    ('smpl', ADASYN(n_neighbors=n_classes, sampling_strategy='not majority', random_state=67)),\n",
    "    ('clf', RandomForestClassifier()),\n",
    "    ])\n",
    "    \n",
    "    pipeline2 = Pipeline([\n",
    "    ('col', Column_Transform),\n",
    "    ('smpl', ADASYN(n_neighbors=n_classes, sampling_strategy='not majority', random_state=67)),\n",
    "    ('clf', ExtraTreesClassifier()),\n",
    "    ])\n",
    "    \n",
    "    pipeline3 = Pipeline([\n",
    "    ('col', Column_Transform),\n",
    "    ('smpl', ADASYN(n_neighbors=n_classes, sampling_strategy='not majority', random_state=67)),\n",
    "    ('clf', GradientBoostingClassifier()),\n",
    "    ])\n",
    "    \n",
    "    pipeline4 = Pipeline([\n",
    "    ('col', Column_Transform),\n",
    "    ('smpl', ADASYN(n_neighbors=n_classes, sampling_strategy='not majority', random_state=67)),\n",
    "    ('clf', AdaBoostClassifier()),\n",
    "    ])\n",
    "\n",
    "    # RandomForestClassifier\n",
    "    parameters1 = {\n",
    "    'clf__bootstrap': [False],\n",
    "    'clf__ccp_alpha': loguniform(1e-07, 1e-01),              # cost-complexity pruning is an algorithm used to prune a tree to avoid over-fitting\n",
    "    'clf__criterion': ['gini','entropy'],\n",
    "    'clf__max_depth': randint(10, 40),\n",
    "    'clf__max_features': loguniform(0.02, 0.40), \n",
    "    'clf__min_impurity_decrease': loguniform(1e-08, 1e-04),\n",
    "    #'clf__max_samples': loguniform(0.02, 0.49),              # max_samples is not supported for bootstrap=False\n",
    "    'clf__min_samples_leaf': loguniform(0.01, 0.20),\n",
    "    'clf__min_samples_split': loguniform(0.01, 0.20),\n",
    "    'clf__min_weight_fraction_leaf': loguniform(0.01, 0.20),\n",
    "    'clf__oob_score': [False],                                # Only for bootstrap=True\n",
    "    'clf__warm_start': [True, False],\n",
    "    'clf__n_jobs': [6],\n",
    "    'clf__random_state': [67],\n",
    "    }\n",
    "\n",
    "    # ExtraTreesClassifier\n",
    "    parameters2 = {\n",
    "    'clf__bootstrap': [False],\n",
    "    'clf__ccp_alpha': loguniform(1e-06, 1e-01),               # cost-complexity pruning is an algorithm used to prune a tree to avoid over-fitting\n",
    "    'clf__criterion': ['gini','entropy'],\n",
    "    'clf__max_depth': randint(10, 60),\n",
    "    'clf__max_features': loguniform(0.35, 0.85),\n",
    "    'clf__max_leaf_nodes': randint(20, 60),\n",
    "    #'clf__max_samples': loguniform(0.10, 0.50),               # max_samples is not supported for bootstrap=False\n",
    "    'clf__min_impurity_decrease': loguniform(1e-06, 1e-01),\n",
    "    'clf__min_samples_leaf': loguniform(0.02, 0.30),\n",
    "    'clf__min_samples_split': loguniform(0.01, 0.30),\n",
    "    'clf__min_weight_fraction_leaf': loguniform(0.02, 0.30),\n",
    "    'clf__oob_score': [False],                                # Only for bootstrap=True\n",
    "    'clf__warm_start': [True, False],\n",
    "    'clf__n_jobs': [6],\n",
    "    'clf__random_state': [67],\n",
    "    }\n",
    "\n",
    "    # GradientBoostingClassifier\n",
    "    parameters3 = {\n",
    "    'clf__criterion': ['friedman_mse'],\n",
    "    'clf__ccp_alpha': loguniform(1e-06, 1e-02),                # cost-complexity pruning is an algorithm used to prune a tree to avoid over-fitting\n",
    "    'clf__learning_rate': loguniform(1e-05, 1e-00),\n",
    "    'clf__loss': ['log_loss','exponential'],\n",
    "    'clf__max_depth': randint(10, 40),\n",
    "    'clf__max_features': loguniform(0.20, 0.75), \n",
    "    'clf__max_leaf_nodes': randint(15, 60),\n",
    "    'clf__min_weight_fraction_leaf': loguniform(0.25, 0.70),   # New in version 0.24.\n",
    "    'clf__min_impurity_decrease': loguniform(1e-08, 1e-04),\n",
    "    'clf__min_samples_leaf': loguniform(0.02, 0.35),\n",
    "    'clf__min_samples_split': loguniform(0.02, 0.35),\n",
    "    'clf__n_iter_no_change': [150],\n",
    "    'clf__tol': loguniform(1e-08, 1e-04),\n",
    "    'clf__validation_fraction': loguniform(0.10, 0.15),\n",
    "    'clf__warm_start': [True],\n",
    "    'clf__subsample': loguniform(0.90, 1.00),                  # Choosing subsample < 1.0 leads to a reduction of variance and an increase in bias\n",
    "    'clf__random_state': [67],\n",
    "    }\n",
    "\n",
    "    # AdaBoostClassifier\n",
    "    parameters4  = {\n",
    "    'clf__algorithm': ['SAMME','SAMME.R'],\n",
    "    'clf__learning_rate':  loguniform(1e-10, 1e-01),\n",
    "    'clf__random_state': [67],\n",
    "    }\n",
    "\n",
    "    pars = [parameters1, parameters2, parameters3, parameters4]\n",
    "    pips = [pipeline1, pipeline2, pipeline3, pipeline4]\n",
    "\n",
    "    result = []\n",
    "    \n",
    "    for i in range(len(pars)):\n",
    "        \n",
    "        rs = HalvingRandomSearchCV(pips[i],\n",
    "                                   pars[i],\n",
    "                                   factor=halving_parameter,\n",
    "                                   resource='clf__n_estimators',\n",
    "                                   n_candidates='exhaust',\n",
    "                                   min_resources=min_resource,\n",
    "                                   max_resources=max_resource,\n",
    "                                   scoring=scoring,\n",
    "                                   aggressive_elimination=False,\n",
    "                                   return_train_score=True,\n",
    "                                   refit=True,                   \n",
    "                                   cv=n_cross_validation,\n",
    "                                   n_jobs=6,\n",
    "                                   verbose=1,\n",
    "                                   random_state=67,\n",
    "                                   error_score='raise',\n",
    "                                  )\n",
    "\n",
    "        # Fit models on training data\n",
    "        rs = rs.fit(X_train, y_train)\n",
    "        \n",
    "        # Apply models to test data to determine model performance\n",
    "        y_pred = rs.predict(X_test)\n",
    "        y_pred_prob = rs.predict_proba(X_test)[:, 1]\n",
    "\n",
    "        print(\" \")\n",
    "        print(\" \")\n",
    "        \n",
    "        # storing model results\n",
    "        result.append({\n",
    "        'grid': rs,\n",
    "        'cv results': rs.cv_results_,\n",
    "        'train accuracy score': rs.best_score_,\n",
    "        'best params': rs.best_params_, \n",
    "        'best estimator': rs.best_estimator_,\n",
    "        'feature importance': rs.best_estimator_.named_steps['clf'].feature_importances_,\n",
    "        'test f1 score': f1_score(y_test, y_pred, average='micro'),\n",
    "        'test accuracy score': accuracy_score(y_test, y_pred),\n",
    "        'test balanced accuracy score': balanced_accuracy_score(y_test, y_pred),\n",
    "        'test roc auc score': roc_auc_score(y_test, y_pred_prob),\n",
    "        'test classification report': classification_report(y_test, y_pred, target_names=['pass','run'], digits=5),\n",
    "        'test confusion matrix': confusion_matrix(y_test, y_pred),\n",
    "        'cv': rs.cv,\n",
    "        'model #': i + 1\n",
    "        })\n",
    "\n",
    "    # sorting results by best test score\n",
    "    result = sorted(result, key=operator.itemgetter('test f1 score'), reverse=True)\n",
    "    \n",
    "    print(' ')\n",
    "    for element in result:\n",
    "        if element['model #']==1:\n",
    "            print('Random Forest classifier: ')\n",
    "        elif element['model #']==2:\n",
    "            print('ExtraTrees classifier: ')\n",
    "        elif element['model #']==3:\n",
    "            print('GradientBoosting classifier: ')\n",
    "        elif element['model #']==4:\n",
    "            print('AdaBoost classifier: ')\n",
    "        else:\n",
    "            print('Other: ')  \n",
    "        \n",
    "        print('Parameters:  ' + str(element['best params']))\n",
    "        print(' ')\n",
    "        print('Train accuracy score:         ' + str(element['train accuracy score']))\n",
    "        print('Test accuracy score:          ' + str(element['test accuracy score']))\n",
    "        print('Test balanced accuracy score: ' + str(element['test accuracy score']))\n",
    "        print('Test f1 score:                ' + str(element['test f1 score']))\n",
    "        print('Test roc auc score:           ' + str(element['test roc auc score']))\n",
    "        print(' ')\n",
    "        print(element['test classification report'])\n",
    "        print(element['test confusion matrix'])\n",
    "        print(' ')\n",
    "        print('-----------------------')\n",
    "        print(' ')\n",
    "        \n",
    "        # Export best model as csv file\n",
    "        pd.DataFrame(element['cv results']).to_csv(r'/Users/ttas2/Documents/Python/nfl-machine-learning-models/output_files/run_pass_classifier_model.csv')\n",
    "        pd.DataFrame(element['feature importance'], index=X_train.columns).to_csv(r'/Users/ttas2/Documents/Python/nfl-machine-learning-models/output_files/run_pass_classifier_feature_importance.csv')\n"
   ]
  },
  {
   "cell_type": "code",
   "execution_count": 22,
   "id": "e7e2a726",
   "metadata": {
    "pycharm": {
     "name": "#%%\n"
    },
    "scrolled": false,
    "ExecuteTime": {
     "end_time": "2023-12-15T05:40:21.156980Z",
     "start_time": "2023-12-15T04:48:20.014078Z"
    }
   },
   "outputs": [
    {
     "name": "stdout",
     "output_type": "stream",
     "text": [
      "n_iterations: 2\n",
      "n_required_iterations: 2\n",
      "n_possible_iterations: 2\n",
      "min_resources_: 1000\n",
      "max_resources_: 2000\n",
      "aggressive_elimination: False\n",
      "factor: 2.0\n",
      "----------\n",
      "iter: 0\n",
      "n_candidates: 2\n",
      "n_resources: 1000\n",
      "Fitting 5 folds for each of 2 candidates, totalling 10 fits\n",
      "----------\n",
      "iter: 1\n",
      "n_candidates: 1\n",
      "n_resources: 2000\n",
      "Fitting 5 folds for each of 1 candidates, totalling 5 fits\n",
      " \n",
      " \n",
      "n_iterations: 2\n",
      "n_required_iterations: 2\n",
      "n_possible_iterations: 2\n",
      "min_resources_: 1000\n",
      "max_resources_: 2000\n",
      "aggressive_elimination: False\n",
      "factor: 2.0\n",
      "----------\n",
      "iter: 0\n",
      "n_candidates: 2\n",
      "n_resources: 1000\n",
      "Fitting 5 folds for each of 2 candidates, totalling 10 fits\n",
      "----------\n",
      "iter: 1\n",
      "n_candidates: 1\n",
      "n_resources: 2000\n",
      "Fitting 5 folds for each of 1 candidates, totalling 5 fits\n",
      " \n",
      " \n",
      "n_iterations: 2\n",
      "n_required_iterations: 2\n",
      "n_possible_iterations: 2\n",
      "min_resources_: 1000\n",
      "max_resources_: 2000\n",
      "aggressive_elimination: False\n",
      "factor: 2.0\n",
      "----------\n",
      "iter: 0\n",
      "n_candidates: 2\n",
      "n_resources: 1000\n",
      "Fitting 5 folds for each of 2 candidates, totalling 10 fits\n",
      "----------\n",
      "iter: 1\n",
      "n_candidates: 1\n",
      "n_resources: 2000\n",
      "Fitting 5 folds for each of 1 candidates, totalling 5 fits\n",
      " \n",
      " \n",
      "n_iterations: 2\n",
      "n_required_iterations: 2\n",
      "n_possible_iterations: 2\n",
      "min_resources_: 1000\n",
      "max_resources_: 2000\n",
      "aggressive_elimination: False\n",
      "factor: 2.0\n",
      "----------\n",
      "iter: 0\n",
      "n_candidates: 2\n",
      "n_resources: 1000\n",
      "Fitting 5 folds for each of 2 candidates, totalling 10 fits\n",
      "----------\n",
      "iter: 1\n",
      "n_candidates: 1\n",
      "n_resources: 2000\n",
      "Fitting 5 folds for each of 1 candidates, totalling 5 fits\n",
      " \n",
      " \n",
      " \n",
      "ExtraTrees classifier: \n",
      "Parameters:  {'clf__bootstrap': False, 'clf__ccp_alpha': 0.0010132021756292177, 'clf__criterion': 'gini', 'clf__max_depth': 35, 'clf__max_features': 0.6246104982047875, 'clf__max_leaf_nodes': 34, 'clf__min_impurity_decrease': 0.002286773699856294, 'clf__min_samples_leaf': 0.17003189913968828, 'clf__min_samples_split': 0.029895221560732294, 'clf__min_weight_fraction_leaf': 0.15499372042391774, 'clf__n_jobs': 6, 'clf__oob_score': False, 'clf__random_state': 67, 'clf__warm_start': False, 'clf__n_estimators': 2000}\n",
      " \n",
      "Train accuracy score:         0.7327455363663082\n",
      "Test accuracy score:          0.7383784695857589\n",
      "Test balanced accuracy score: 0.7383784695857589\n",
      "Test f1 score:                0.738378469585759\n",
      "Test roc auc score:           0.7857436906440913\n",
      " \n",
      "              precision    recall  f1-score   support\n",
      "\n",
      "        pass    0.68814   0.62550   0.65533      4713\n",
      "         run    0.76681   0.81289   0.78918      7140\n",
      "\n",
      "    accuracy                        0.73838     11853\n",
      "   macro avg    0.72748   0.71919   0.72225     11853\n",
      "weighted avg    0.73553   0.73838   0.73596     11853\n",
      "\n",
      "[[2948 1765]\n",
      " [1336 5804]]\n",
      " \n",
      "-----------------------\n",
      " \n",
      "Random Forest classifier: \n",
      "Parameters:  {'clf__bootstrap': False, 'clf__ccp_alpha': 0.0032251073165355574, 'clf__criterion': 'gini', 'clf__max_depth': 25, 'clf__max_features': 0.18191423484775873, 'clf__min_impurity_decrease': 2.120153396918038e-06, 'clf__min_samples_leaf': 0.0239380682960247, 'clf__min_samples_split': 0.06361931306417937, 'clf__min_weight_fraction_leaf': 0.03787427737040153, 'clf__n_jobs': 6, 'clf__oob_score': False, 'clf__random_state': 67, 'clf__warm_start': True, 'clf__n_estimators': 2000}\n",
      " \n",
      "Train accuracy score:         0.728400310206443\n",
      "Test accuracy score:          0.7305323546781406\n",
      "Test balanced accuracy score: 0.7305323546781406\n",
      "Test f1 score:                0.7305323546781406\n",
      "Test roc auc score:           0.7990796806734575\n",
      " \n",
      "              precision    recall  f1-score   support\n",
      "\n",
      "        pass    0.64016   0.73605   0.68476      4713\n",
      "         run    0.80665   0.72689   0.76470      7140\n",
      "\n",
      "    accuracy                        0.73053     11853\n",
      "   macro avg    0.72340   0.73147   0.72473     11853\n",
      "weighted avg    0.74045   0.73053   0.73291     11853\n",
      "\n",
      "[[3469 1244]\n",
      " [1950 5190]]\n",
      " \n",
      "-----------------------\n",
      " \n",
      "AdaBoost classifier: \n",
      "Parameters:  {'clf__algorithm': 'SAMME.R', 'clf__learning_rate': 0.00014894752087814164, 'clf__random_state': 67, 'clf__n_estimators': 2000}\n",
      " \n",
      "Train accuracy score:         0.7222409405451519\n",
      "Test accuracy score:          0.724373576309795\n",
      "Test balanced accuracy score: 0.724373576309795\n",
      "Test f1 score:                0.724373576309795\n",
      "Test roc auc score:           0.7803991997817588\n",
      " \n",
      "              precision    recall  f1-score   support\n",
      "\n",
      "        pass    0.63678   0.71419   0.67327      4713\n",
      "         run    0.79488   0.73109   0.76165      7140\n",
      "\n",
      "    accuracy                        0.72437     11853\n",
      "   macro avg    0.71583   0.72264   0.71746     11853\n",
      "weighted avg    0.73202   0.72437   0.72651     11853\n",
      "\n",
      "[[3366 1347]\n",
      " [1920 5220]]\n",
      " \n",
      "-----------------------\n",
      " \n",
      "GradientBoosting classifier: \n",
      "Parameters:  {'clf__ccp_alpha': 0.00015254771955752704, 'clf__criterion': 'friedman_mse', 'clf__learning_rate': 0.027253760954919798, 'clf__loss': 'log_loss', 'clf__max_depth': 22, 'clf__max_features': 0.45447386084029795, 'clf__max_leaf_nodes': 37, 'clf__min_impurity_decrease': 2.290802125320806e-07, 'clf__min_samples_leaf': 0.12625159106580724, 'clf__min_samples_split': 0.08335712129212816, 'clf__min_weight_fraction_leaf': 0.4485327689331512, 'clf__n_iter_no_change': 150, 'clf__random_state': 67, 'clf__subsample': 0.9712183089566733, 'clf__tol': 1.54021456749761e-06, 'clf__validation_fraction': 0.13951652852936217, 'clf__warm_start': True, 'clf__n_estimators': 2000}\n",
      " \n",
      "Train accuracy score:         0.7016747935418346\n",
      "Test accuracy score:          0.7138277229393403\n",
      "Test balanced accuracy score: 0.7138277229393403\n",
      "Test f1 score:                0.7138277229393404\n",
      "Test roc auc score:           0.784919535393194\n",
      " \n",
      "              precision    recall  f1-score   support\n",
      "\n",
      "        pass    0.62033   0.72247   0.66752      4713\n",
      "         run    0.79447   0.70812   0.74882      7140\n",
      "\n",
      "    accuracy                        0.71383     11853\n",
      "   macro avg    0.70740   0.71530   0.70817     11853\n",
      "weighted avg    0.72523   0.71383   0.71649     11853\n",
      "\n",
      "[[3405 1308]\n",
      " [2084 5056]]\n",
      " \n",
      "-----------------------\n",
      " \n"
     ]
    }
   ],
   "source": [
    "%%capture --no-stdout --no-display\n",
    "random_search()"
   ]
  },
  {
   "cell_type": "code",
   "execution_count": 23,
   "outputs": [
    {
     "name": "stdout",
     "output_type": "stream",
     "text": [
      "Total process time: 3.18 hours\n"
     ]
    }
   ],
   "source": [
    "# Calculate workbook processing time in hours\n",
    "end_time = time.time()\n",
    "total_time = end_time - start_time\n",
    "\n",
    "print('Total process time:', round(total_time / 3600, 2), 'hours')"
   ],
   "metadata": {
    "collapsed": false,
    "ExecuteTime": {
     "end_time": "2023-12-15T05:40:21.167136Z",
     "start_time": "2023-12-15T05:40:21.163015Z"
    }
   },
   "id": "d7e4b6574bc08686"
  },
  {
   "cell_type": "markdown",
   "source": [
    "## LIST RESULTS"
   ],
   "metadata": {
    "collapsed": false
   },
   "id": "fb1540d2bf6bbb08"
  },
  {
   "cell_type": "raw",
   "source": [
    "ExtraTrees classifier: \n",
    "\n",
    "\n",
    "Sigma: 0.05\n",
    "adasyn_class_multiplier = 1\n",
    "\n",
    "Parameters:  {'clf__bootstrap': False, 'clf__ccp_alpha': 0.0010132021756292177, 'clf__criterion': 'gini', 'clf__max_depth': 35, 'clf__max_features': 0.6246104982047875, 'clf__max_leaf_nodes': 34, 'clf__min_impurity_decrease': 0.002286773699856294, 'clf__min_samples_leaf': 0.17003189913968828, 'clf__min_samples_split': 0.029895221560732294, 'clf__min_weight_fraction_leaf': 0.15499372042391774, 'clf__n_jobs': 6, 'clf__oob_score': False, 'clf__random_state': 67, 'clf__warm_start': False, 'clf__n_estimators': 2000}\n",
    "Train accuracy score:         0.7327455363663082\n",
    "Test accuracy score:          0.7383784695857589\n",
    "Sigma: 0.05\n",
    "adasyn_class_multiplier = 2\n",
    "\n",
    "Parameters:  {'clf__bootstrap': True, 'clf__ccp_alpha': 0.00015254771955752704, 'clf__criterion': 'gini', 'clf__max_depth': 40, 'clf__max_features': 0.7109690887594401, 'clf__max_leaf_nodes': 50, 'clf__max_samples': 0.27100895887372795, 'clf__min_impurity_decrease': 1.737767690156849e-06, 'clf__min_samples_leaf': 0.04867520359234982, 'clf__min_samples_split': 0.03267231099814945, 'clf__min_weight_fraction_leaf': 0.17121296400160577, 'clf__n_jobs': 6, 'clf__oob_score': True, 'clf__random_state': 67, 'clf__warm_start': False, 'clf__n_estimators': 2000}\n",
    "Train accuracy score:         0.7328509971240786\n",
    "Test accuracy score:          0.7374504344891588\n",
    "Sigma: 0.05\n",
    "adasyn_class_multiplier = 3\n",
    "\n",
    "Parameters:  {'clf__bootstrap': True, 'clf__ccp_alpha': 0.00015254771955752704, 'clf__criterion': 'gini', 'clf__max_depth': 40, 'clf__max_features': 0.7109690887594401, 'clf__max_leaf_nodes': 50, 'clf__max_samples': 0.27100895887372795, 'clf__min_impurity_decrease': 1.737767690156849e-06, 'clf__min_samples_leaf': 0.04867520359234982, 'clf__min_samples_split': 0.03267231099814945, 'clf__min_weight_fraction_leaf': 0.17121296400160577, 'clf__n_jobs': 6, 'clf__oob_score': True, 'clf__random_state': 67, 'clf__warm_start': False, 'clf__n_estimators': 2000}\n",
    "Train accuracy score:         0.7234644379512698\n",
    "Test accuracy score:          0.729688686408504\n",
    "Sigma: 0.30\n",
    "adasyn_class_multiplier = 3\n",
    "\n",
    "\n",
    "#########################################################################################################################\n",
    " \n",
    "GradientBoosting classifier: \n",
    " \n",
    "\n",
    "Sigma: 0.05\n",
    "adasyn_class_multiplier = 1\n",
    "\n",
    "Parameters:  {'clf__ccp_alpha': 0.00015254771955752704, 'clf__criterion': 'friedman_mse', 'clf__learning_rate': 0.027253760954919798, 'clf__loss': 'log_loss', 'clf__max_depth': 22, 'clf__max_features': 0.45447386084029795, 'clf__max_leaf_nodes': 37, 'clf__min_impurity_decrease': 2.290802125320806e-07, 'clf__min_samples_leaf': 0.12625159106580724, 'clf__min_samples_split': 0.08335712129212816, 'clf__min_weight_fraction_leaf': 0.4485327689331512, 'clf__n_iter_no_change': 150, 'clf__random_state': 67, 'clf__subsample': 0.9712183089566733, 'clf__tol': 1.54021456749761e-06, 'clf__validation_fraction': 0.13951652852936217, 'clf__warm_start': True, 'clf__n_estimators': 2000}\n",
    "Train accuracy score:         0.7016747935418346\n",
    "Test accuracy score:          0.7138277229393403\n",
    "Sigma: 0.05\n",
    "adasyn_class_multiplier = 2\n",
    "\n",
    "Parameters:  {'clf__ccp_alpha': 0.00015254771955752704, 'clf__criterion': 'friedman_mse', 'clf__learning_rate': 0.027253760954919798, 'clf__loss': 'log_loss', 'clf__max_depth': 22, 'clf__max_features': 0.40793199792771945, 'clf__max_leaf_nodes': 37, 'clf__min_impurity_decrease': 2.290802125320806e-07, 'clf__min_samples_leaf': 0.12625159106580724, 'clf__min_samples_split': 0.08335712129212816, 'clf__min_weight_fraction_leaf': 0.4485327689331512, 'clf__n_iter_no_change': 100, 'clf__random_state': 67, 'clf__subsample': 0.9712183089566733, 'clf__tol': 1.54021456749761e-06, 'clf__validation_fraction': 0.13951652852936217, 'clf__warm_start': False, 'clf__n_estimators': 2000}\n",
    "Train accuracy score:         0.6996287115689432\n",
    "Test accuracy score:          0.7120560195731038\n",
    "Sigma: 0.05\n",
    "adasyn_class_multiplier = 3\n",
    "\n",
    "Parameters:  {'clf__ccp_alpha': 0.00015254771955752704, 'clf__criterion': 'friedman_mse', 'clf__learning_rate': 0.027253760954919798, 'clf__loss': 'log_loss', 'clf__max_depth': 22, 'clf__max_features': 0.40793199792771945, 'clf__max_leaf_nodes': 37, 'clf__min_impurity_decrease': 2.290802125320806e-07, 'clf__min_samples_leaf': 0.12625159106580724, 'clf__min_samples_split': 0.08335712129212816, 'clf__min_weight_fraction_leaf': 0.4485327689331512, 'clf__n_iter_no_change': 100, 'clf__random_state': 67, 'clf__subsample': 0.9712183089566733, 'clf__tol': 1.54021456749761e-06, 'clf__validation_fraction': 0.13951652852936217, 'clf__warm_start': False, 'clf__n_estimators': 2000}\n",
    "Train accuracy score:         0.6936802901198661\n",
    "Test accuracy score:          0.710621783514722\n",
    "Sigma: 0.30\n",
    "adasyn_class_multiplier = 3\n",
    "\n",
    "#########################################################################################################################\n",
    "\n",
    "Random Forest classifier: \n",
    "\n",
    "\n",
    "Sigma: 0.05\n",
    "adasyn_class_multiplier = 1\n",
    "\n",
    "Parameters:  {'clf__bootstrap': False, 'clf__ccp_alpha': 0.0032251073165355574, 'clf__criterion': 'gini', 'clf__max_depth': 25, 'clf__max_features': 0.18191423484775873, 'clf__min_impurity_decrease': 2.120153396918038e-06, 'clf__min_samples_leaf': 0.0239380682960247, 'clf__min_samples_split': 0.06361931306417937, 'clf__min_weight_fraction_leaf': 0.03787427737040153, 'clf__n_jobs': 6, 'clf__oob_score': False, 'clf__random_state': 67, 'clf__warm_start': True, 'clf__n_estimators': 2000}\n",
    "Train accuracy score:         0.728400310206443\n",
    "Test accuracy score:          0.7305323546781406\n",
    "Sigma: 0.05\n",
    "adasyn_class_multiplier = 2\n",
    "\n",
    "Parameters:  {'clf__bootstrap': True, 'clf__ccp_alpha': 6.621555286692298e-05, 'clf__criterion': 'gini', 'clf__max_depth': 30, 'clf__max_features': 0.2629710119017867, 'clf__min_impurity_decrease': 0.0007295057635380967, 'clf__min_samples_leaf': 0.1383043350125251, 'clf__min_samples_split': 0.12341278988130677, 'clf__min_weight_fraction_leaf': 0.02814905818969609, 'clf__n_jobs': 6, 'clf__oob_score': True, 'clf__random_state': 67, 'clf__warm_start': False, 'clf__n_estimators': 2000}\n",
    "Train accuracy score:         0.7047965289697502\n",
    "Test accuracy score:          0.7073314772631402\n",
    "Sigma: 0.05\n",
    "adasyn_class_multiplier = 3\n",
    "\n",
    "Parameters:  {'clf__bootstrap': True, 'clf__ccp_alpha': 6.621555286692298e-05, 'clf__criterion': 'gini', 'clf__max_depth': 30, 'clf__max_features': 0.2629710119017867, 'clf__min_impurity_decrease': 0.0007295057635380967, 'clf__min_samples_leaf': 0.1383043350125251, 'clf__min_samples_split': 0.12341278988130677, 'clf__min_weight_fraction_leaf': 0.02814905818969609, 'clf__n_jobs': 6, 'clf__oob_score': True, 'clf__random_state': 67, 'clf__warm_start': False, 'clf__n_estimators': 2000}\n",
    "Train accuracy score:         0.6836397581183526\n",
    "Test accuracy score:          0.6921454484096853\n",
    "Sigma: 0.30\n",
    "adasyn_class_multiplier = 3\n",
    "\n",
    "#########################################################################################################################\n",
    "\n",
    "AdaBoost classifier: \n",
    "\n",
    "\n",
    "Sigma: 0.05\n",
    "adasyn_class_multiplier = 1\n",
    "\n",
    "Parameters:  {'clf__algorithm': 'SAMME.R', 'clf__learning_rate': 0.00014894752087814164, 'clf__random_state': 67, 'clf__n_estimators': 2000}\n",
    "Train accuracy score:         0.7222409405451519\n",
    "Test accuracy score:          0.724373576309795\n",
    "Sigma: 0.05\n",
    "adasyn_class_multiplier = 2\n",
    "\n",
    "AdaBoost classifier: \n",
    "Parameters:  {'clf__algorithm': 'SAMME.R', 'clf__learning_rate': 0.00014894752087814164, 'clf__random_state': 67, 'clf__n_estimators': 2000}\n",
    "Train accuracy score:         0.7220932923696615\n",
    "Test accuracy score:          0.724373576309795\n",
    "Sigma: 0.05\n",
    "adasyn_class_multiplier = 3\n",
    "\n",
    "Parameters:  {'clf__algorithm': 'SAMME.R', 'clf__learning_rate': 0.0005791835996776365, 'clf__random_state': 67, 'clf__n_estimators': 2000}\n",
    "Train accuracy score:         0.7171995585883075\n",
    "Test accuracy score:          0.7187209989032313\n",
    "Sigma 0.30\n",
    "adasyn_class_multiplier = 3"
   ],
   "metadata": {
    "collapsed": false
   },
   "id": "31d91f3312f47115"
  },
  {
   "cell_type": "code",
   "execution_count": 23,
   "outputs": [],
   "source": [],
   "metadata": {
    "collapsed": false,
    "ExecuteTime": {
     "end_time": "2023-12-15T05:40:21.180107Z",
     "start_time": "2023-12-15T05:40:21.168842Z"
    }
   },
   "id": "2c4c9d9e5feec16b"
  }
 ],
 "metadata": {
  "colab": {
   "name": "nfl_offensive_play_classification_v1.1.ipynb",
   "provenance": []
  },
  "kernelspec": {
   "display_name": "Python 3 (ipykernel)",
   "language": "python",
   "name": "python3"
  },
  "language_info": {
   "codemirror_mode": {
    "name": "ipython",
    "version": 3
   },
   "file_extension": ".py",
   "mimetype": "text/x-python",
   "name": "python",
   "nbconvert_exporter": "python",
   "pygments_lexer": "ipython3",
   "version": "3.9.6"
  }
 },
 "nbformat": 4,
 "nbformat_minor": 5
}
