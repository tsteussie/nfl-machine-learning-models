{
 "cells": [
  {
   "cell_type": "code",
   "execution_count": 1,
   "outputs": [],
   "source": [
    "import warnings\n",
    "from numba.core.errors import NumbaDeprecationWarning, NumbaPendingDeprecationWarning\n",
    "warnings.simplefilter('ignore', category=UserWarning)\n",
    "warnings.filterwarnings('ignore',category=ImportWarning)\n",
    "warnings.filterwarnings('ignore',category=DeprecationWarning)\n",
    "warnings.simplefilter('ignore', category=NumbaDeprecationWarning)\n",
    "warnings.simplefilter('ignore', category=NumbaPendingDeprecationWarning)\n",
    "\n",
    "import pandas as pd\n",
    "import numpy as np\n",
    "import category_encoders as ce\n",
    "from scipy.stats import randint\n",
    "from imblearn.pipeline import Pipeline\n",
    "from imblearn.over_sampling import ADASYN\n",
    "from BorutaShap import BorutaShap\n",
    "\n",
    "from sklearn.impute import SimpleImputer\n",
    "from sklearn.preprocessing import OrdinalEncoder, OneHotEncoder, MinMaxScaler, StandardScaler, MaxAbsScaler, RobustScaler\n",
    "from sklearn.experimental import enable_halving_search_cv\n",
    "from sklearn.model_selection import train_test_split, HalvingRandomSearchCV\n",
    "from sklearn.compose import ColumnTransformer\n",
    "from sklearn.utils.fixes import loguniform\n",
    "from sklearn.metrics import accuracy_score, balanced_accuracy_score, f1_score, roc_auc_score, classification_report, confusion_matrix\n",
    "from sklearn.dummy import DummyClassifier\n",
    "from sklearn.ensemble import RandomForestClassifier, ExtraTreesClassifier, GradientBoostingClassifier, AdaBoostClassifier\n",
    "\n",
    "import joblib\n",
    "import operator"
   ],
   "metadata": {
    "collapsed": false,
    "ExecuteTime": {
     "end_time": "2023-12-06T04:46:16.926182Z",
     "start_time": "2023-12-06T04:46:12.872780Z"
    }
   },
   "id": "774348c602e5ca1e"
  },
  {
   "cell_type": "markdown",
   "id": "c4f8e047",
   "metadata": {
    "pycharm": {
     "name": "#%% md\n"
    }
   },
   "source": [
    "## Import data from nfl-data-py\n",
    "##### https://pypi.org/project/nfl-data-py/"
   ]
  },
  {
   "cell_type": "code",
   "execution_count": 2,
   "outputs": [
    {
     "data": {
      "text/plain": "(57443, 146)"
     },
     "execution_count": 2,
     "metadata": {},
     "output_type": "execute_result"
    }
   ],
   "source": [
    "# Import csv file from nfl-data-py\n",
    "df = pd.read_csv(r'/Users/ttas2/Documents/Python/nfl-machine-learning-models/output_files/nfl_post_processing_run_pass_classification_data.csv')\n",
    "\n",
    "df.shape"
   ],
   "metadata": {
    "collapsed": false,
    "ExecuteTime": {
     "end_time": "2023-12-06T04:46:18.207910Z",
     "start_time": "2023-12-06T04:46:16.931502Z"
    }
   },
   "id": "f8d686327dce3e32"
  },
  {
   "cell_type": "code",
   "execution_count": 3,
   "outputs": [
    {
     "name": "stdout",
     "output_type": "stream",
     "text": [
      "[]\n"
     ]
    }
   ],
   "source": [
    "# Print columns with missing values\n",
    "print(df.columns[df.isnull().any()].tolist())"
   ],
   "metadata": {
    "collapsed": false,
    "ExecuteTime": {
     "end_time": "2023-12-06T04:46:18.258335Z",
     "start_time": "2023-12-06T04:46:18.202315Z"
    }
   },
   "id": "629bc39586b0fba6"
  },
  {
   "cell_type": "code",
   "execution_count": 4,
   "outputs": [
    {
     "data": {
      "text/plain": "       week posteam defteam  yardline_100  quarter_seconds_remaining   \n55239     8     TEN     ATL            56                        162  \\\n5921     12     BUF     DET            70                        860   \n\n       half_seconds_remaining  game_seconds_remaining  game_half  qtr  down   \n55239                     162                     162          2    4     2  \\\n5921                     1760                    1760          2    3     2   \n\n       ...  remaining_yards_per_down    drive_start two_min_warning   \n55239  ...                       3.0  transfer_poss               0  \\\n5921   ...                       2.5  transfer_poss               0   \n\n      ep_half_sec_ratio  ep_game_sec_ratio  posteam_side   \n55239          0.009527           0.009527             1  \\\n5921           0.000591           0.000591             1   \n\n       remain_yds_div_def_box  remain_yds_prod_def_box  run_ratio_off_priors   \n55239                  0.3750                     24.0              0.583333  \\\n5921                   0.3125                     20.0              0.611111   \n\n       run_ratio_def_priors  \n55239              0.533333  \n5921               0.214286  \n\n[2 rows x 146 columns]",
      "text/html": "<div>\n<style scoped>\n    .dataframe tbody tr th:only-of-type {\n        vertical-align: middle;\n    }\n\n    .dataframe tbody tr th {\n        vertical-align: top;\n    }\n\n    .dataframe thead th {\n        text-align: right;\n    }\n</style>\n<table border=\"1\" class=\"dataframe\">\n  <thead>\n    <tr style=\"text-align: right;\">\n      <th></th>\n      <th>week</th>\n      <th>posteam</th>\n      <th>defteam</th>\n      <th>yardline_100</th>\n      <th>quarter_seconds_remaining</th>\n      <th>half_seconds_remaining</th>\n      <th>game_seconds_remaining</th>\n      <th>game_half</th>\n      <th>qtr</th>\n      <th>down</th>\n      <th>...</th>\n      <th>remaining_yards_per_down</th>\n      <th>drive_start</th>\n      <th>two_min_warning</th>\n      <th>ep_half_sec_ratio</th>\n      <th>ep_game_sec_ratio</th>\n      <th>posteam_side</th>\n      <th>remain_yds_div_def_box</th>\n      <th>remain_yds_prod_def_box</th>\n      <th>run_ratio_off_priors</th>\n      <th>run_ratio_def_priors</th>\n    </tr>\n  </thead>\n  <tbody>\n    <tr>\n      <th>55239</th>\n      <td>8</td>\n      <td>TEN</td>\n      <td>ATL</td>\n      <td>56</td>\n      <td>162</td>\n      <td>162</td>\n      <td>162</td>\n      <td>2</td>\n      <td>4</td>\n      <td>2</td>\n      <td>...</td>\n      <td>3.0</td>\n      <td>transfer_poss</td>\n      <td>0</td>\n      <td>0.009527</td>\n      <td>0.009527</td>\n      <td>1</td>\n      <td>0.3750</td>\n      <td>24.0</td>\n      <td>0.583333</td>\n      <td>0.533333</td>\n    </tr>\n    <tr>\n      <th>5921</th>\n      <td>12</td>\n      <td>BUF</td>\n      <td>DET</td>\n      <td>70</td>\n      <td>860</td>\n      <td>1760</td>\n      <td>1760</td>\n      <td>2</td>\n      <td>3</td>\n      <td>2</td>\n      <td>...</td>\n      <td>2.5</td>\n      <td>transfer_poss</td>\n      <td>0</td>\n      <td>0.000591</td>\n      <td>0.000591</td>\n      <td>1</td>\n      <td>0.3125</td>\n      <td>20.0</td>\n      <td>0.611111</td>\n      <td>0.214286</td>\n    </tr>\n  </tbody>\n</table>\n<p>2 rows × 146 columns</p>\n</div>"
     },
     "execution_count": 4,
     "metadata": {},
     "output_type": "execute_result"
    }
   ],
   "source": [
    "# Convert binary columns to integers\n",
    "binary_columns = df.columns[df.isin([0,1]).all()].tolist()\n",
    "df[binary_columns] = df[binary_columns].apply(pd.to_numeric, downcast='integer', errors='coerce', axis=1)\n",
    "\n",
    "df.sample(2)"
   ],
   "metadata": {
    "collapsed": false,
    "ExecuteTime": {
     "end_time": "2023-12-06T04:46:30.006389Z",
     "start_time": "2023-12-06T04:46:18.252467Z"
    }
   },
   "id": "41f7422bcc2cf003"
  },
  {
   "cell_type": "code",
   "execution_count": 5,
   "id": "4c9bcb28",
   "metadata": {
    "pycharm": {
     "name": "#%%\n"
    },
    "ExecuteTime": {
     "end_time": "2023-12-06T04:46:30.027138Z",
     "start_time": "2023-12-06T04:46:30.007604Z"
    }
   },
   "outputs": [
    {
     "data": {
      "text/plain": "play_type\npass    0.597775\nrun     0.402225\nName: proportion, dtype: float64"
     },
     "execution_count": 5,
     "metadata": {},
     "output_type": "execute_result"
    }
   ],
   "source": [
    "# Target frequency\n",
    "target_count = df.play_type.value_counts(normalize=True)\n",
    "target_count"
   ]
  },
  {
   "cell_type": "code",
   "execution_count": 6,
   "outputs": [],
   "source": [
    "df['play_type'] = np.where(df['play_type'] == 'pass', 1, 0)"
   ],
   "metadata": {
    "collapsed": false,
    "ExecuteTime": {
     "end_time": "2023-12-06T04:46:30.041639Z",
     "start_time": "2023-12-06T04:46:30.012528Z"
    }
   },
   "id": "91112ef9f7a1ba3c"
  },
  {
   "cell_type": "markdown",
   "source": [
    "## Train test split data\n",
    "##### https://scikit-learn.org/stable/modules/generated/sklearn.model_selection.train_test_split.html"
   ],
   "metadata": {
    "collapsed": false
   },
   "id": "4c140526b778c182"
  },
  {
   "cell_type": "code",
   "execution_count": 7,
   "id": "4943bbf5",
   "metadata": {
    "pycharm": {
     "name": "#%%\n"
    },
    "ExecuteTime": {
     "end_time": "2023-12-06T04:46:30.191299Z",
     "start_time": "2023-12-06T04:46:30.032581Z"
    }
   },
   "outputs": [
    {
     "name": "stdout",
     "output_type": "stream",
     "text": [
      "145 features before feature selection\n",
      "Column names: ['week', 'posteam', 'defteam', 'yardline_100', 'quarter_seconds_remaining', 'half_seconds_remaining', 'game_seconds_remaining', 'game_half', 'qtr', 'down', 'goal_to_go', 'ydstogo', 'desc', 'shotgun', 'no_huddle', 'posteam_timeouts_remaining', 'defteam_timeouts_remaining', 'posteam_score', 'defteam_score', 'score_differential', 'no_score_prob', 'fg_prob', 'safety_prob', 'td_prob', 'ep', 'wp', 'drive_play_count', 'spread_line', 'total_line', 'div_game', 'surface', 'offense_formation', 'offense_personnel', 'defenders_in_box', 'defense_personnel', 'n_offense', 'n_defense', 'qb_rank', 'qb_pts', 'qb_plays', 'qb_qbr_raw', 'qb_qbr', 'qb_pass', 'qb_run', 'report_eligible', 'off_rb_count', 'off_te_count', 'off_wr_count', 'off_hb_count', 'off_ol_count', 'def_dl_count', 'def_lb_count', 'def_db_count', 'wr_to_db_ratio', 'hb_to_lb_ratio', 'ol_to_dl_ratio', 'play_sequence_game', 'play_sequence_series', 'dtg_99to90', 'dtg_89to60', 'dtg_59to45', 'dtg_44to35', 'dtg_34to21', 'dtg_20to10', 'dtg_09to00', 'prev1_big_play_pass', 'prev2_big_play_pass', 'prev3_big_play_pass', 'prev1_big_play_run', 'prev2_big_play_run', 'prev3_big_play_run', 'prev1_negative_pass', 'prev2_negative_pass', 'prev3_negative_pass', 'prev1_negative_run', 'prev2_negative_run', 'prev3_negative_run', 'play_type_prev1', 'play_type_prev2', 'play_type_prev3', 'play_type_prev4', 'prev1_play_off_penalty', 'prev1_play_def_penalty', 'prev2_play_off_penalty', 'prev2_play_def_penalty', 'prev3_play_off_penalty', 'prev3_play_def_penalty', 'prev1_play_run_outside', 'prev1_play_run_inside', 'prev1_play_pass_deep', 'prev1_play_pass_short', 'prev2_play_run_outside', 'prev2_play_run_inside', 'prev2_play_pass_deep', 'prev2_play_pass_short', 'prev3_play_run_outside', 'prev3_play_run_inside', 'prev3_play_pass_deep', 'prev3_play_pass_short', 'prev1_incomplete_pass', 'prev2_incomplete_pass', 'prev3_incomplete_pass', 'prev4_incomplete_pass', 'drive_incomplete_pass_pcnt', 'prev1_yards_gained', 'prev2_yards_gained', 'prev3_yards_gained', 'prev4_yards_gained', 'prev1_wpa', 'prev2_wpa', 'prev3_wpa', 'prev4_wpa', 'prev1_shotgun', 'prev2_shotgun', 'prev3_shotgun', 'drive_shotgun_pcnt', 'prev1_qb_hit', 'prev2_qb_hit', 'prev3_qb_hit', 'drive_qb_hit_pcnt', 'prev1_no_huddle', 'prev2_no_huddle', 'prev3_no_huddle', 'drive_no_huddle_pcnt', 'prev1_first_down_pass', 'prev2_first_down_pass', 'prev3_first_down_pass', 'prev1_first_down_run', 'prev2_first_down_run', 'prev3_first_down_run', 'prev1_effct_play', 'prev2_effct_play', 'prev3_effct_play', 'drive_effct_play_pcnt', 'remaining_downs', 'remaining_yards_per_down', 'drive_start', 'two_min_warning', 'ep_half_sec_ratio', 'ep_game_sec_ratio', 'posteam_side', 'remain_yds_div_def_box', 'remain_yds_prod_def_box', 'run_ratio_off_priors', 'run_ratio_def_priors']\n"
     ]
    }
   ],
   "source": [
    "# split data into target and feature datasets\n",
    "X, y = df.loc[:, df.columns != 'play_type'], df['play_type']\n",
    "\n",
    "initial_features = X.columns.to_list()\n",
    "\n",
    "# Create train and test datasets\n",
    "X_train, X_test, y_train, y_test = train_test_split(X, y, test_size=0.20, random_state=67)\n",
    "\n",
    "print(X_train.shape[1], 'features before feature selection')\n",
    "print('Column names:', X_train.columns.to_list())"
   ]
  },
  {
   "cell_type": "markdown",
   "id": "4b6cd4c3",
   "metadata": {
    "pycharm": {
     "name": "#%% md\n"
    }
   },
   "source": [
    "## Baseline model\n",
    "##### https://scikit-learn.org/stable/modules/generated/sklearn.dummy.DummyClassifier.html"
   ]
  },
  {
   "cell_type": "code",
   "execution_count": 8,
   "id": "28e9513e",
   "metadata": {
    "pycharm": {
     "name": "#%%\n"
    },
    "ExecuteTime": {
     "end_time": "2023-12-06T04:46:30.205213Z",
     "start_time": "2023-12-06T04:46:30.169454Z"
    }
   },
   "outputs": [
    {
     "name": "stdout",
     "output_type": "stream",
     "text": [
      "Baseline accuracy: 59.599999999999994%\n",
      "Baseline f1 score: 74.7%\n"
     ]
    }
   ],
   "source": [
    "# Create and fit baseline model to compare performance\n",
    "baseline_model = DummyClassifier(strategy='most_frequent', random_state=67)\n",
    "baseline_model.fit(X_train, y_train)\n",
    "\n",
    "# Calculate model accuracy on test data\n",
    "y_baseline_pred = baseline_model.predict(X_test)\n",
    "# accuracy_score(y_test, y_baseline_pred)\n",
    "print(f\"Baseline accuracy: {(round(accuracy_score(y_test,y_baseline_pred),3)*100)}%\")\n",
    "print(f\"Baseline f1 score: {(round(f1_score(y_test,y_baseline_pred),3)*100)}%\")"
   ]
  },
  {
   "cell_type": "markdown",
   "source": [
    "## Encode categorical features\n",
    "##### https://contrib.scikit-learn.org/category_encoders/leaveoneout.html"
   ],
   "metadata": {
    "collapsed": false
   },
   "id": "e0f3ad4dbdd2f444"
  },
  {
   "cell_type": "code",
   "execution_count": 9,
   "outputs": [
    {
     "name": "stdout",
     "output_type": "stream",
     "text": [
      "145 features after categorical encoding\n"
     ]
    }
   ],
   "source": [
    "# Create list of features for each dtype\n",
    "categorical_feat = list(X_train.select_dtypes(include='object'))\n",
    "\n",
    "# Encoded column represents mean response over all rows for this category, providing one-column representation while avoiding direct response leakage\n",
    "encoder = ce.LeaveOneOutEncoder(return_df=True, cols=categorical_feat)\n",
    "\n",
    "X_train = encoder.fit_transform(X_train, y_train)\n",
    "X_test = encoder.transform(X_test)\n",
    "\n",
    "print(X_train.shape[1], 'features after categorical encoding')"
   ],
   "metadata": {
    "collapsed": false,
    "ExecuteTime": {
     "end_time": "2023-12-06T04:46:31.848822Z",
     "start_time": "2023-12-06T04:46:30.192542Z"
    }
   },
   "id": "d33d4e0b73750e26"
  },
  {
   "cell_type": "markdown",
   "source": [
    "## BorutaShap Feature selection\n",
    "##### https://pypi.org/project/BorutaShap/"
   ],
   "metadata": {
    "collapsed": false
   },
   "id": "65fe86e88f378c61"
  },
  {
   "cell_type": "code",
   "execution_count": 10,
   "outputs": [],
   "source": [
    "feature_model = RandomForestClassifier(ccp_alpha=1e-06,\n",
    "                                       criterion='gini',\n",
    "                                       max_depth=30,\n",
    "                                       max_features=0.50,\n",
    "                                       max_leaf_nodes=30,\n",
    "                                       max_samples=0.30,\n",
    "                                       min_impurity_decrease=1e-07,\n",
    "                                       #min_samples_leaf=0.03,\n",
    "                                       #min_samples_split=0.03,\n",
    "                                       #min_weight_fraction_leaf=0.03,\n",
    "                                       n_estimators=400,\n",
    "                                       class_weight='balanced_subsample',\n",
    "                                       bootstrap=True,\n",
    "                                       oob_score=True,\n",
    "                                       warm_start=False,\n",
    "                                       n_jobs=6,\n",
    "                                       random_state=67,\n",
    "                                       )"
   ],
   "metadata": {
    "collapsed": false,
    "ExecuteTime": {
     "end_time": "2023-12-06T04:46:31.865724Z",
     "start_time": "2023-12-06T04:46:31.847551Z"
    }
   },
   "id": "39e692ffcbfd70ba"
  },
  {
   "cell_type": "code",
   "execution_count": 11,
   "outputs": [
    {
     "name": "stderr",
     "output_type": "stream",
     "text": [
      "100%|██████████| 400/400 [6:18:22<00:00, 56.76s/it]  "
     ]
    },
    {
     "name": "stdout",
     "output_type": "stream",
     "text": [
      "24 attributes confirmed important: ['off_hb_count', 'play_type_prev4', 'ep', 'prev4_wpa', 'defense_personnel', 'def_db_count', 'play_type_prev3', 'surface', 'prev3_first_down_run', 'prev4_yards_gained', 'drive_start', 'play_type_prev1', 'defenders_in_box', 'play_sequence_series', 'play_type_prev2', 'prev3_yards_gained', 'prev3_shotgun', 'remain_yds_div_def_box', 'offense_personnel', 'offense_formation', 'yardline_100', 'wp', 'shotgun', 'off_wr_count']\n",
      "121 attributes confirmed unimportant: ['prev2_play_off_penalty', 'n_defense', 'prev1_yards_gained', 'defteam_timeouts_remaining', 'qb_qbr_raw', 'hb_to_lb_ratio', 'dtg_89to60', 'prev3_play_pass_short', 'prev1_first_down_pass', 'prev1_play_pass_deep', 'qb_run', 'prev3_play_def_penalty', 'prev2_no_huddle', 'total_line', 'off_ol_count', 'prev2_first_down_pass', 'prev3_incomplete_pass', 'off_rb_count', 'prev3_qb_hit', 'dtg_20to10', 'prev2_play_def_penalty', 'prev2_play_run_inside', 'drive_incomplete_pass_pcnt', 'prev1_play_run_inside', 'no_huddle', 'posteam_timeouts_remaining', 'prev2_shotgun', 'drive_effct_play_pcnt', 'ol_to_dl_ratio', 'run_ratio_def_priors', 'dtg_59to45', 'prev3_no_huddle', 'prev2_play_run_outside', 'safety_prob', 'dtg_09to00', 'dtg_34to21', 'fg_prob', 'prev1_big_play_pass', 'prev2_effct_play', 'prev3_play_run_inside', 'prev2_incomplete_pass', 'n_offense', 'prev2_play_pass_deep', 'prev3_play_run_outside', 'week', 'dtg_99to90', 'div_game', 'drive_qb_hit_pcnt', 'game_half', 'prev2_big_play_run', 'prev1_play_off_penalty', 'prev2_big_play_pass', 'ydstogo', 'prev3_big_play_run', 'prev1_shotgun', 'score_differential', 'run_ratio_off_priors', 'prev3_play_pass_deep', 'prev1_incomplete_pass', 'wr_to_db_ratio', 'quarter_seconds_remaining', 'prev2_qb_hit', 'defteam_score', 'qb_plays', 'prev3_negative_run', 'qb_pass', 'prev1_effct_play', 'qb_pts', 'def_lb_count', 'ep_half_sec_ratio', 'posteam', 'prev2_play_pass_short', 'dtg_44to35', 'remaining_downs', 'down', 'prev2_negative_pass', 'qb_rank', 'prev1_negative_run', 'remain_yds_prod_def_box', 'prev4_incomplete_pass', 'desc', 'game_seconds_remaining', 'prev1_play_run_outside', 'qb_qbr', 'goal_to_go', 'prev1_qb_hit', 'prev3_effct_play', 'prev3_wpa', 'half_seconds_remaining', 'drive_no_huddle_pcnt', 'prev1_play_pass_short', 'prev1_first_down_run', 'prev3_first_down_pass', 'drive_play_count', 'prev1_big_play_run', 'spread_line', 'report_eligible', 'play_sequence_game', 'defteam', 'qtr', 'prev1_no_huddle', 'posteam_side', 'prev1_negative_pass', 'off_te_count', 'prev2_yards_gained', 'def_dl_count', 'prev3_negative_pass', 'ep_game_sec_ratio', 'remaining_yards_per_down', 'td_prob', 'two_min_warning', 'prev2_first_down_run', 'drive_shotgun_pcnt', 'no_score_prob', 'prev1_wpa', 'posteam_score', 'prev2_wpa', 'prev1_play_def_penalty', 'prev2_negative_run', 'prev3_big_play_pass', 'prev3_play_off_penalty']\n",
      "0 tentative attributes remains: []\n"
     ]
    },
    {
     "name": "stderr",
     "output_type": "stream",
     "text": [
      "\n"
     ]
    }
   ],
   "source": [
    "# no model selected default is Random Forest\n",
    "Feature_Selector = BorutaShap(importance_measure='shap',\n",
    "                              classification=True,\n",
    "                              model=feature_model,\n",
    "                              )\n",
    "\n",
    "Feature_Selector.fit(X=X_train,\n",
    "                     y=y_train,\n",
    "                     n_trials=400,\n",
    "                     sample=False,\n",
    "                     random_state=67,\n",
    "                     )"
   ],
   "metadata": {
    "collapsed": false,
    "ExecuteTime": {
     "end_time": "2023-12-06T11:04:54.879502Z",
     "start_time": "2023-12-06T04:46:31.851384Z"
    }
   },
   "id": "4e7034bfcd562178"
  },
  {
   "cell_type": "code",
   "execution_count": 12,
   "outputs": [
    {
     "data": {
      "text/plain": "<Figure size 1800x800 with 1 Axes>",
      "image/png": "[encoded data removed]"
     },
     "metadata": {},
     "output_type": "display_data"
    }
   ],
   "source": [
    "# Plot selected features with shap values on x-axis\n",
    "Feature_Selector.plot(which_features='accepted', figsize=(18, 8))"
   ],
   "metadata": {
    "collapsed": false,
    "ExecuteTime": {
     "end_time": "2023-12-06T11:04:55.962557Z",
     "start_time": "2023-12-06T11:04:54.882921Z"
    }
   },
   "id": "c20134f76d62fa54"
  },
  {
   "cell_type": "code",
   "execution_count": 13,
   "outputs": [
    {
     "name": "stdout",
     "output_type": "stream",
     "text": [
      "Training features: 22\n",
      "Testing features: 22\n",
      "Most important features: ['yardline_100', 'shotgun', 'ep', 'wp', 'surface', 'offense_formation', 'offense_personnel', 'defenders_in_box', 'defense_personnel', 'off_wr_count', 'off_hb_count', 'def_db_count', 'play_sequence_series', 'play_type_prev1', 'play_type_prev2', 'play_type_prev3', 'play_type_prev4', 'prev3_yards_gained', 'prev4_yards_gained', 'prev4_wpa', 'prev3_first_down_run', 'drive_start']\n"
     ]
    }
   ],
   "source": [
    "# Drops features that were identified by BorutaShap as not important\n",
    "features_to_remove = Feature_Selector.features_to_remove\n",
    "\n",
    "X_train = X_train.drop(columns=features_to_remove)\n",
    "X_test = X_test.drop(columns=features_to_remove)\n",
    "\n",
    "# Print the shape of the new datasets\n",
    "print('Training features:', X_train.shape[1])\n",
    "print('Testing features:', X_test.shape[1])\n",
    "print('Most important features:', X_train.columns.to_list())"
   ],
   "metadata": {
    "collapsed": false,
    "ExecuteTime": {
     "end_time": "2023-12-06T11:04:56.147130Z",
     "start_time": "2023-12-06T11:04:55.955147Z"
    }
   },
   "id": "afa5c66c26a42f87"
  },
  {
   "cell_type": "markdown",
   "source": [
    "## Model pipeline\n",
    "##### https://scikit-learn.org/stable/modules/generated/sklearn.compose.ColumnTransformer.html\n",
    "##### https://scikit-learn.org/stable/modules/generated/sklearn.impute.SimpleImputer.html\n",
    "##### https://scikit-learn.org/stable/modules/generated/sklearn.preprocessing.PowerTransformer.html\n",
    "##### https://www.statsmodels.org/dev/generated/statsmodels.stats.outliers_influence.variance_inflation_factor.html\n",
    "##### https://imbalanced-learn.org/stable/references/over_sampling.html\n",
    "##### https://scikit-learn.org/stable/modules/generated/sklearn.model_selection.HalvingRandomSearchCV.html\n",
    "##### https://scikit-learn.org/stable/modules/generated/sklearn.metrics.f1_score.html\n",
    "##### https://scikit-learn.org/stable/modules/generated/sklearn.ensemble.GradientBoostingClassifier.html\n",
    "##### https://scikit-learn.org/stable/modules/generated/sklearn.ensemble.RandomForestClassifier.html\n",
    "##### https://scikit-learn.org/stable/modules/generated/sklearn.ensemble.ExtraTreesClassifier.html\n",
    "##### https://xgboost.readthedocs.io/en/stable/parameter.html"
   ],
   "metadata": {
    "collapsed": false
   },
   "id": "28eb7c49ea06b6d2"
  },
  {
   "cell_type": "code",
   "execution_count": 14,
   "outputs": [
    {
     "name": "stdout",
     "output_type": "stream",
     "text": [
      "categorical features: 0 : []\n",
      "ordinal features: 1 : ['def_db_count']\n",
      "boolean features: 2 : ['shotgun', 'prev3_first_down_run']\n",
      "numeric features: 19 : ['yardline_100', 'ep', 'wp', 'surface', 'offense_formation', 'offense_personnel', 'defenders_in_box', 'defense_personnel', 'off_wr_count', 'off_hb_count', 'play_sequence_series', 'play_type_prev1', 'play_type_prev2', 'play_type_prev3', 'play_type_prev4', 'prev3_yards_gained', 'prev4_yards_gained', 'prev4_wpa', 'drive_start']\n"
     ]
    }
   ],
   "source": [
    "# Create feature type lists for column transform stage of the pipeline\n",
    "ordinal_features = X_train.columns[X_train.isin([1,2,3,4,5,6,7,8,9,10]).all()].tolist()\n",
    "categorical_features = list(X_train.select_dtypes(include='object'))\n",
    "boolean_features = X_train.columns[X_train.isin([0, 1]).all()].tolist()\n",
    "\n",
    "numeric_features = [x for x in X_train.columns if x not in ordinal_features]\n",
    "numeric_features = [x for x in numeric_features if x not in categorical_features]\n",
    "numeric_features = [x for x in numeric_features if x not in boolean_features]\n",
    "\n",
    "print('categorical features:', len(categorical_features), ':', categorical_features)\n",
    "print('ordinal features:', len(ordinal_features), ':', ordinal_features)\n",
    "print('boolean features:', len(boolean_features), ':', boolean_features)\n",
    "print('numeric features:', len(numeric_features), ':', numeric_features)"
   ],
   "metadata": {
    "collapsed": false,
    "ExecuteTime": {
     "end_time": "2023-12-06T11:04:56.557518Z",
     "start_time": "2023-12-06T11:04:55.987396Z"
    }
   },
   "id": "e95804b4c341fcbb"
  },
  {
   "cell_type": "code",
   "execution_count": 15,
   "id": "3e4ff9bb",
   "metadata": {
    "pycharm": {
     "name": "#%%\n"
    },
    "ExecuteTime": {
     "end_time": "2023-12-06T11:04:56.557647Z",
     "start_time": "2023-12-06T11:04:56.552618Z"
    }
   },
   "outputs": [],
   "source": [
    "# Outlier removal\n",
    "def iqr_outliers(x, features):\n",
    "\n",
    "    out_index_list = []\n",
    "        \n",
    "    for col in features:\n",
    "        q1 = np.nanpercentile(x[col], 25.)\n",
    "        q3 = np.nanpercentile(x[col], 75.)\n",
    "        \n",
    "        cut_off = (q3 - q1) * 1.5\n",
    "        upper, lower = q3 + cut_off, q1 - cut_off\n",
    "                \n",
    "        outliers_index = x[col][(x[col] < lower) | (x[col] > upper)].index.tolist()\n",
    "        out_index_list.extend(outliers_index)\n",
    "        \n",
    "    # Remove duplicates\n",
    "    list(set(out_index_list)).sort()"
   ]
  },
  {
   "cell_type": "code",
   "execution_count": 16,
   "id": "58cc5161",
   "metadata": {
    "pycharm": {
     "name": "#%%\n"
    },
    "ExecuteTime": {
     "end_time": "2023-12-06T11:04:56.617635Z",
     "start_time": "2023-12-06T11:04:56.560330Z"
    }
   },
   "outputs": [],
   "source": [
    "# Specify the transformations per data type\n",
    "num_trans = Pipeline(steps=[('simple_imputer', SimpleImputer(missing_values=np.nan, strategy='median')),\n",
    "                            ('iqr_outlier', iqr_outliers(X_train, numeric_features)),\n",
    "                            ('scaler', MinMaxScaler()),\n",
    "                           ])\n",
    "\n",
    "cat_trans = Pipeline(steps=[('simple_imputer', SimpleImputer(missing_values=np.nan, strategy='most_frequent')),\n",
    "                            ('onehot_encoder', OneHotEncoder(sparse=False, handle_unknown='infrequent_if_exist')),\n",
    "                           ])\n",
    "\n",
    "ord_trans = Pipeline(steps=[('simple_imputer', SimpleImputer(missing_values=np.nan, strategy='most_frequent')),\n",
    "                            ('ordinal_encoder', OrdinalEncoder(handle_unknown='use_encoded_value', unknown_value=-1)),\n",
    "                            ('scaler', MinMaxScaler()),\n",
    "                           ])\n",
    "                             \n",
    "Column_Transform = ColumnTransformer(transformers=[('numeric_transform', num_trans, numeric_features),\n",
    "                                                   ('categorical_transform', cat_trans, categorical_features),\n",
    "                                                   ('ordinal_transform', ord_trans, ordinal_features),\n",
    "                                                   ],\n",
    "                                     remainder='passthrough',\n",
    "                                    )"
   ]
  },
  {
   "cell_type": "code",
   "execution_count": 17,
   "id": "17593a5b",
   "metadata": {
    "pycharm": {
     "name": "#%%\n"
    },
    "ExecuteTime": {
     "end_time": "2023-12-06T11:04:56.639411Z",
     "start_time": "2023-12-06T11:04:56.616196Z"
    }
   },
   "outputs": [],
   "source": [
    "# Specify number of target classes\n",
    "n_classes = y_train.nunique()\n",
    "\n",
    "# Specify cross validation folds\n",
    "n_cross_validation = 10\n",
    "\n",
    "# Specify HalvingRandomSearchCV halving_parameter (aka factor)\n",
    "halving_parameter = 2.0\n",
    "\n",
    "# Specify the HalvingRandomSearchCV minimum/maximum resources\n",
    "max_resource = 2000\n",
    "resource_divisor = 2.0\n",
    "min_resource = int(round((max_resource / resource_divisor), 0))\n",
    "\n",
    "# Create scorer\n",
    "scoring = 'accuracy'"
   ]
  },
  {
   "cell_type": "code",
   "execution_count": 49,
   "id": "e4b3074a",
   "metadata": {
    "pycharm": {
     "name": "#%%\n"
    },
    "ExecuteTime": {
     "end_time": "2023-12-08T00:37:19.680687Z",
     "start_time": "2023-12-08T00:37:19.628877Z"
    }
   },
   "outputs": [],
   "source": [
    "def random_search():\n",
    "    \n",
    "    pipeline1 = Pipeline([\n",
    "    ('col', Column_Transform),\n",
    "    ('smpl', ADASYN(n_neighbors=n_classes, sampling_strategy='not majority', random_state=67)),\n",
    "    ('clf', RandomForestClassifier()),\n",
    "    ])\n",
    "    \n",
    "    pipeline2 = Pipeline([\n",
    "    ('col', Column_Transform),\n",
    "    ('smpl', ADASYN(n_neighbors=n_classes, sampling_strategy='not majority', random_state=67)),\n",
    "    ('clf', ExtraTreesClassifier()),\n",
    "    ])\n",
    "    \n",
    "    pipeline3 = Pipeline([\n",
    "    ('col', Column_Transform),\n",
    "    ('smpl', ADASYN(n_neighbors=n_classes, sampling_strategy='not majority', random_state=67)),\n",
    "    ('clf', GradientBoostingClassifier()),\n",
    "    ])\n",
    "    \n",
    "    pipeline4 = Pipeline([\n",
    "    ('col', Column_Transform),\n",
    "    ('smpl', ADASYN(n_neighbors=n_classes, sampling_strategy='not majority', random_state=67)),\n",
    "    ('clf', AdaBoostClassifier()),\n",
    "    ])\n",
    "\n",
    "    # RandomForestClassifier\n",
    "    parameters1 = {\n",
    "    'clf__bootstrap': [True],\n",
    "    'clf__ccp_alpha': loguniform(1e-09, 1e-01),              # cost-complexity pruning is an algorithm used to prune a tree to avoid over-fitting\n",
    "    'clf__criterion': ['entropy','gini','log_loss'],\n",
    "    'clf__max_depth': randint(5, 50),\n",
    "    'clf__max_features': loguniform(0.05, 0.99), \n",
    "    #'clf__min_impurity_decrease': loguniform(1e-08, 1e-03),\n",
    "    'clf__max_samples': loguniform(0.01, 1.0),              # max_samples is not supported for bootstrap=False  NEXT\n",
    "    #'clf__min_samples_leaf': loguniform(0.05, 0.75),\n",
    "    #'clf__min_samples_split': loguniform(0.05, 0.75),\n",
    "    #'clf__min_weight_fraction_leaf': loguniform(0.30, 0.75),\n",
    "    #'clf__oob_score': [True],                               # Only for bootstrap=True\n",
    "    'clf__warm_start': [False],\n",
    "    'clf__n_jobs': [6],\n",
    "    'clf__random_state': [67],\n",
    "    }\n",
    "    \n",
    "    # ExtraTreesClassifier\n",
    "    parameters2 = {\n",
    "    'clf__bootstrap': [False],\n",
    "    'clf__ccp_alpha': loguniform(1e-09, 1e-04),               # cost-complexity pruning is an algorithm used to prune a tree to avoid over-fitting\n",
    "    'clf__criterion': ['gini','entropy','log_loss'],\n",
    "    'clf__max_depth': randint(20, 55),\n",
    "    'clf__max_features': loguniform(0.80, 0.99),\n",
    "    'clf__max_leaf_nodes': randint(25, 85),\n",
    "    #'clf__max_samples': loguniform(0.30, 1.0),             # max_samples is not supported for bootstrap=False\n",
    "    'clf__min_impurity_decrease': loguniform(1e-09, 1e-03),\n",
    "    'clf__min_samples_leaf': loguniform(0.02, 0.15),\n",
    "    'clf__min_samples_split': loguniform(0.02, 0.15),\n",
    "    'clf__min_weight_fraction_leaf': loguniform(0.02, 0.15),\n",
    "    'clf__oob_score': [False],                                # Only for bootstrap=True\n",
    "    'clf__warm_start': [True],\n",
    "    'clf__n_jobs': [6],\n",
    "    'clf__random_state': [67],\n",
    "    }\n",
    "            \n",
    "    # GradientBoostingClassifier\n",
    "    parameters3 = {\n",
    "    'clf__criterion': ['friedman_mse','squared_error'],\n",
    "    'clf__ccp_alpha': loguniform(1e-09, 1e-01),               # cost-complexity pruning is an algorithm used to prune a tree to avoid over-fitting\n",
    "    'clf__learning_rate': loguniform(1e-06, 1e-01),\n",
    "    'clf__loss': ['exponential','log_loss'],\n",
    "    'clf__max_depth': randint(5, 50),\n",
    "    'clf__max_features': loguniform(0.05, 0.99), \n",
    "    'clf__max_leaf_nodes': randint(10, 50),              # NEXT\n",
    "    #'clf__min_impurity_decrease': loguniform(1e-08, 1e-04),\n",
    "    #'clf__min_samples_leaf': loguniform(0.05, 0.75),\n",
    "    #'clf__min_samples_split': loguniform(0.05, 0.75),\n",
    "    #'clf__n_iter_no_change': [150],\n",
    "    #'clf__tol': loguniform(1e-08, 1e-03),\n",
    "    #'clf__validation_fraction': loguniform(0.10, 0.15),\n",
    "    'clf__warm_start': [False],\n",
    "    'clf__subsample': [1.0],                                 # Choosing subsample < 1.0 leads to a reduction of variance and an increase in bias\n",
    "    'clf__random_state': [67],\n",
    "    }\n",
    "\n",
    "    # AdaBoostClassifier\n",
    "    parameters4  = {\n",
    "    'clf__algorithm': ['SAMME','SAMME.R'],\n",
    "    'clf__learning_rate': loguniform(0.000001, 1.0),\n",
    "    'clf__random_state': [67],\n",
    "    }\n",
    "\n",
    "    pars = [parameters1, parameters2, parameters3, parameters4]\n",
    "    pips = [pipeline1, pipeline2, pipeline3, pipeline4]\n",
    "\n",
    "    result = []\n",
    "    \n",
    "    for i in range(len(pars)):\n",
    "        \n",
    "        rs = HalvingRandomSearchCV(pips[i],\n",
    "                                   pars[i],\n",
    "                                   factor=halving_parameter,\n",
    "                                   resource='clf__n_estimators',\n",
    "                                   n_candidates='exhaust',\n",
    "                                   min_resources=min_resource,\n",
    "                                   max_resources=max_resource,\n",
    "                                   scoring=scoring,\n",
    "                                   aggressive_elimination=False,\n",
    "                                   return_train_score=True,\n",
    "                                   refit=True,                   \n",
    "                                   cv=n_cross_validation,\n",
    "                                   n_jobs=6,\n",
    "                                   verbose=1,\n",
    "                                   random_state=67,\n",
    "                                   error_score='raise',\n",
    "                                  )\n",
    "\n",
    "        # Fit models on training data\n",
    "        rs = rs.fit(X_train, y_train)\n",
    "        \n",
    "        # Apply models to test data to determine model performance\n",
    "        y_pred = rs.predict(X_test)\n",
    "        y_pred_prob = rs.predict_proba(X_test)[:, 1]\n",
    "\n",
    "        print(\" \")\n",
    "        print(\" \")\n",
    "        \n",
    "        # storing model results\n",
    "        result.append({\n",
    "        'grid': rs,\n",
    "        'cv results': rs.cv_results_,\n",
    "        'train accuracy score': rs.best_score_,\n",
    "        'best params': rs.best_params_, \n",
    "        'best estimator': rs.best_estimator_,\n",
    "        'feature importance': rs.best_estimator_.named_steps['clf'].feature_importances_,\n",
    "        'test f1 score': f1_score(y_test, y_pred, average='micro'),\n",
    "        'test accuracy score': accuracy_score(y_test, y_pred),\n",
    "        'test balanced accuracy score': balanced_accuracy_score(y_test, y_pred),\n",
    "        'test roc auc score': roc_auc_score(y_test, y_pred_prob),\n",
    "        'test classification report': classification_report(y_test, y_pred, target_names=['pass','run'], digits=5),\n",
    "        'test confusion matrix': confusion_matrix(y_test, y_pred),\n",
    "        'cv': rs.cv,\n",
    "        'model #': i + 1\n",
    "        })\n",
    "\n",
    "    # sorting results by best test score\n",
    "    result = sorted(result, key=operator.itemgetter('test f1 score'), reverse=True)\n",
    "    \n",
    "    print(' ')\n",
    "    for element in result:\n",
    "        if element['model #']==1:\n",
    "            print('Random Forest classifier: ')\n",
    "        elif element['model #']==2:\n",
    "            print('ExtraTrees classifier: ')\n",
    "        elif element['model #']==3:\n",
    "            print('GradientBoosting classifier: ')\n",
    "        elif element['model #']==4:\n",
    "            print('AdaBoost classifier: ')\n",
    "        else:\n",
    "            print('Other: ')  \n",
    "        \n",
    "        print('Parameters:  ' + str(element['best params']))\n",
    "        print(' ')\n",
    "        print('Train accuracy score:         ' + str(element['train accuracy score']))\n",
    "        print('Test accuracy score:          ' + str(element['test accuracy score']))\n",
    "        print('Test balanced accuracy score: ' + str(element['test accuracy score']))\n",
    "        print('Test f1 score:                ' + str(element['test f1 score']))\n",
    "        print('Test roc auc score:           ' + str(element['test roc auc score']))\n",
    "        print(' ')\n",
    "        print(element['test classification report'])\n",
    "        print(element['test confusion matrix'])\n",
    "        print(' ')\n",
    "        print('-----------------------')\n",
    "        print(' ')\n",
    "\n",
    "    # Save best model as pickle file\n",
    "    joblib.dump(rs.best_params_, r'/Users/ttas2/Documents/Python/nfl-machine-learning-models/output_files/run_pass_classifier_results.pkl', compress=1)\n",
    "    joblib.dump(rs.cv_results_, r'/Users/ttas2/Documents/Python/nfl-machine-learning-models/output_files/run_pass_classifier_model.csv')"
   ]
  },
  {
   "cell_type": "code",
   "execution_count": 50,
   "id": "e7e2a726",
   "metadata": {
    "pycharm": {
     "name": "#%%\n"
    },
    "scrolled": false,
    "ExecuteTime": {
     "end_time": "2023-12-08T01:53:37.648206Z",
     "start_time": "2023-12-08T00:37:21.204227Z"
    }
   },
   "outputs": [
    {
     "name": "stdout",
     "output_type": "stream",
     "text": [
      "n_iterations: 2\n",
      "n_required_iterations: 2\n",
      "n_possible_iterations: 2\n",
      "min_resources_: 1000\n",
      "max_resources_: 2000\n",
      "aggressive_elimination: False\n",
      "factor: 2.0\n",
      "----------\n",
      "iter: 0\n",
      "n_candidates: 2\n",
      "n_resources: 1000\n",
      "Fitting 10 folds for each of 2 candidates, totalling 20 fits\n",
      "----------\n",
      "iter: 1\n",
      "n_candidates: 1\n",
      "n_resources: 2000\n",
      "Fitting 10 folds for each of 1 candidates, totalling 10 fits\n",
      " \n",
      " \n",
      "n_iterations: 2\n",
      "n_required_iterations: 2\n",
      "n_possible_iterations: 2\n",
      "min_resources_: 1000\n",
      "max_resources_: 2000\n",
      "aggressive_elimination: False\n",
      "factor: 2.0\n",
      "----------\n",
      "iter: 0\n",
      "n_candidates: 2\n",
      "n_resources: 1000\n",
      "Fitting 10 folds for each of 2 candidates, totalling 20 fits\n",
      "----------\n",
      "iter: 1\n",
      "n_candidates: 1\n",
      "n_resources: 2000\n",
      "Fitting 10 folds for each of 1 candidates, totalling 10 fits\n",
      " \n",
      " \n",
      "n_iterations: 2\n",
      "n_required_iterations: 2\n",
      "n_possible_iterations: 2\n",
      "min_resources_: 1000\n",
      "max_resources_: 2000\n",
      "aggressive_elimination: False\n",
      "factor: 2.0\n",
      "----------\n",
      "iter: 0\n",
      "n_candidates: 2\n",
      "n_resources: 1000\n",
      "Fitting 10 folds for each of 2 candidates, totalling 20 fits\n",
      "----------\n",
      "iter: 1\n",
      "n_candidates: 1\n",
      "n_resources: 2000\n",
      "Fitting 10 folds for each of 1 candidates, totalling 10 fits\n",
      " \n",
      " \n",
      "n_iterations: 2\n",
      "n_required_iterations: 2\n",
      "n_possible_iterations: 2\n",
      "min_resources_: 1000\n",
      "max_resources_: 2000\n",
      "aggressive_elimination: False\n",
      "factor: 2.0\n",
      "----------\n",
      "iter: 0\n",
      "n_candidates: 2\n",
      "n_resources: 1000\n",
      "Fitting 10 folds for each of 2 candidates, totalling 20 fits\n",
      "----------\n",
      "iter: 1\n",
      "n_candidates: 1\n",
      "n_resources: 2000\n",
      "Fitting 10 folds for each of 1 candidates, totalling 10 fits\n",
      " \n",
      " \n",
      " \n",
      "ExtraTrees classifier: \n",
      "Parameters:  {'clf__bootstrap': False, 'clf__ccp_alpha': 3.92695500731765e-05, 'clf__criterion': 'log_loss', 'clf__max_depth': 51, 'clf__max_features': 0.832369429439366, 'clf__max_leaf_nodes': 70, 'clf__min_impurity_decrease': 3.2540861791746014e-08, 'clf__min_samples_leaf': 0.0377347435155502, 'clf__min_samples_split': 0.029201137733074412, 'clf__min_weight_fraction_leaf': 0.04051178471565094, 'clf__n_jobs': 6, 'clf__oob_score': False, 'clf__random_state': 67, 'clf__warm_start': True, 'clf__n_estimators': 2000}\n",
      " \n",
      "Train accuracy score:         0.8420157425059024\n",
      "Test accuracy score:          0.7294803725302463\n",
      "Test balanced accuracy score: 0.7294803725302463\n",
      "Test f1 score:                0.7294803725302463\n",
      "Test roc auc score:           0.7948141667833648\n",
      " \n",
      "              precision    recall  f1-score   support\n",
      "\n",
      "        pass    0.65600   0.69390   0.67442      4639\n",
      "         run    0.78426   0.75358   0.76861      6850\n",
      "\n",
      "    accuracy                        0.72948     11489\n",
      "   macro avg    0.72013   0.72374   0.72152     11489\n",
      "weighted avg    0.73247   0.72948   0.73058     11489\n",
      "\n",
      "[[3219 1420]\n",
      " [1688 5162]]\n",
      " \n",
      "-----------------------\n",
      " \n",
      "Random Forest classifier: \n",
      "Parameters:  {'clf__bootstrap': True, 'clf__ccp_alpha': 3.0198365449530695e-09, 'clf__criterion': 'gini', 'clf__max_depth': 40, 'clf__max_features': 0.47799605951152874, 'clf__max_samples': 0.6880537563360075, 'clf__n_jobs': 6, 'clf__random_state': 67, 'clf__warm_start': False, 'clf__n_estimators': 2000}\n",
      " \n",
      "Train accuracy score:         1.0\n",
      "Test accuracy score:          0.5962224736704674\n",
      "Test balanced accuracy score: 0.5962224736704674\n",
      "Test f1 score:                0.5962224736704674\n",
      "Test roc auc score:           0.5714832985336948\n",
      " \n",
      "              precision    recall  f1-score   support\n",
      "\n",
      "        pass    0.00000   0.00000   0.00000      4639\n",
      "         run    0.59622   1.00000   0.74704      6850\n",
      "\n",
      "    accuracy                        0.59622     11489\n",
      "   macro avg    0.29811   0.50000   0.37352     11489\n",
      "weighted avg    0.35548   0.59622   0.44540     11489\n",
      "\n",
      "[[   0 4639]\n",
      " [   0 6850]]\n",
      " \n",
      "-----------------------\n",
      " \n",
      "GradientBoosting classifier: \n",
      "Parameters:  {'clf__ccp_alpha': 1.2308985167095598e-06, 'clf__criterion': 'squared_error', 'clf__learning_rate': 0.00603498867202771, 'clf__loss': 'log_loss', 'clf__max_depth': 40, 'clf__max_features': 0.5946220956881455, 'clf__max_leaf_nodes': 46, 'clf__random_state': 67, 'clf__subsample': 1.0, 'clf__warm_start': False, 'clf__n_estimators': 2000}\n",
      " \n",
      "Train accuracy score:         1.0\n",
      "Test accuracy score:          0.5962224736704674\n",
      "Test balanced accuracy score: 0.5962224736704674\n",
      "Test f1 score:                0.5962224736704674\n",
      "Test roc auc score:           0.5437305264946667\n",
      " \n",
      "              precision    recall  f1-score   support\n",
      "\n",
      "        pass    0.00000   0.00000   0.00000      4639\n",
      "         run    0.59622   1.00000   0.74704      6850\n",
      "\n",
      "    accuracy                        0.59622     11489\n",
      "   macro avg    0.29811   0.50000   0.37352     11489\n",
      "weighted avg    0.35548   0.59622   0.44540     11489\n",
      "\n",
      "[[   0 4639]\n",
      " [   0 6850]]\n",
      " \n",
      "-----------------------\n",
      " \n",
      "AdaBoost classifier: \n",
      "Parameters:  {'clf__algorithm': 'SAMME.R', 'clf__learning_rate': 0.013042340053544483, 'clf__random_state': 67, 'clf__n_estimators': 2000}\n",
      " \n",
      "Train accuracy score:         1.0\n",
      "Test accuracy score:          0.5962224736704674\n",
      "Test balanced accuracy score: 0.5962224736704674\n",
      "Test f1 score:                0.5962224736704674\n",
      "Test roc auc score:           0.5755848463439924\n",
      " \n",
      "              precision    recall  f1-score   support\n",
      "\n",
      "        pass    0.00000   0.00000   0.00000      4639\n",
      "         run    0.59622   1.00000   0.74704      6850\n",
      "\n",
      "    accuracy                        0.59622     11489\n",
      "   macro avg    0.29811   0.50000   0.37352     11489\n",
      "weighted avg    0.35548   0.59622   0.44540     11489\n",
      "\n",
      "[[   0 4639]\n",
      " [   0 6850]]\n",
      " \n",
      "-----------------------\n",
      " \n"
     ]
    }
   ],
   "source": [
    "%%capture --no-stdout --no-display\n",
    "random_search()"
   ]
  },
  {
   "cell_type": "markdown",
   "source": [
    "# RESULTS"
   ],
   "metadata": {
    "collapsed": false
   },
   "id": "fb1540d2bf6bbb08"
  },
  {
   "cell_type": "raw",
   "source": [
    "ExtraTrees classifier: \n",
    "\n",
    "Parameters:  {'clf__bootstrap': False, 'clf__ccp_alpha': 5.361140014825927e-07, 'clf__criterion': 'gini', 'clf__max_depth': 30, 'clf__max_features': 0.9797903160612914, 'clf__max_leaf_nodes': 50, 'clf__min_impurity_decrease': 9.762272497212737e-08, 'clf__min_samples_leaf': 0.022570015623467634, 'clf__min_samples_split': 0.04355587259285359, 'clf__min_weight_fraction_leaf': 0.030729053269466716, 'clf__n_jobs': 6, 'clf__oob_score': False, 'clf__random_state': 67, 'clf__warm_start': True, 'clf__n_estimators': 2000}\n",
    "Train accuracy score:         0.8575313396424578\n",
    "Test accuracy score:          0.7289581338671773\n",
    "\n",
    "Parameters:  {'clf__bootstrap': False, 'clf__ccp_alpha': 5.361140014825927e-07, 'clf__criterion': 'gini', 'clf__max_depth': 30, 'clf__max_features': 0.9797903160612914, 'clf__max_leaf_nodes': 50, 'clf__min_impurity_decrease': 4.549452186429162e-07, 'clf__min_samples_leaf': 0.022570015623467634, 'clf__min_samples_split': 0.04355587259285359, 'clf__min_weight_fraction_leaf': 0.030729053269466716, 'clf__oob_score': False, 'clf__warm_start': True}\n",
    "Train accuracy score:         0.8575313396424578\n",
    "Test accuracy score:          0.7289581338671773\n",
    "\n",
    "Parameters:  {'clf__bootstrap': False, 'clf__ccp_alpha': 5.361140014825927e-07, 'clf__criterion': 'gini', 'clf__max_depth': 30, 'clf__max_features': 0.9797903160612914, 'clf__max_leaf_nodes': 50, 'clf__min_impurity_decrease': 4.549452186429162e-07, 'clf__min_samples_leaf': 0.03406971286893125, 'clf__min_samples_split': 0.06804764187384621, 'clf__min_weight_fraction_leaf': 0.04714044110371554, 'clf__n_jobs': 6, 'clf__oob_score': False, 'clf__random_state': 67, 'clf__warm_start': True, }\n",
    "Train accuracy score:         0.8429949778915479\n",
    "Test accuracy score:          0.7304378100792062\n",
    "\n",
    "Parameters:  {'clf__bootstrap': False, 'clf__ccp_alpha': 5.361140014825927e-07, 'clf__criterion': 'gini', 'clf__max_depth': 30, 'clf__max_features': 0.9797903160612914, 'clf__max_leaf_nodes': 50, 'clf__min_impurity_decrease': 4.549452186429162e-07, 'clf__min_samples_leaf': 0.022570015623467634, 'clf__min_samples_split': 0.04355587259285359, 'clf__min_weight_fraction_leaf': 0.030729053269466716, 'clf__n_jobs': 6, 'clf__oob_score': False, 'clf__random_state': 67, 'clf__warm_start': True, 'clf__n_estimators': 2000}\n",
    "Train accuracy score:         0.8575313396424578\n",
    "Test accuracy score:          0.7289581338671773\n",
    "\n",
    "#########################################################################################################################\n",
    "\n",
    "GradientBoosting classifier: \n",
    "Parameters:  {'clf__ccp_alpha': 5.923188611891756e-09, 'clf__criterion': 'squared_error', 'clf__learning_rate': 0.00603498867202771, 'clf__loss': 'log_loss', 'clf__max_depth': 40, 'clf__max_features': 0.5946220956881455, 'clf__random_state': 67, 'clf__subsample': 1.0, 'clf__warm_start': True, 'clf__n_estimators': 2000}\n",
    "Train accuracy score:         1.0\n",
    "Test accuracy score:          0.5962224736704674\n",
    "\n",
    "Parameters:  {'clf__criterion': 'squared_error', 'clf__learning_rate': 0.008946452744518588, 'clf__loss': 'log_loss', 'clf__max_depth': 40, 'clf__max_features': 0.47799605951152874, 'clf__random_state': 67, 'clf__subsample': 1.0, 'clf__warm_start': False, 'clf__n_estimators': 2000}\n",
    "Train accuracy score:         1.0\n",
    "Test accuracy score:          0.5962224736704674\n",
    "\n",
    "Parameters:  {'clf__ccp_alpha': 1.633615549907472e-09, 'clf__criterion': 'friedman_mse', 'clf__learning_rate': 0.03926955007317649, 'clf__loss': 'exponential', 'clf__max_depth': 50, 'clf__max_features': 0.3131718901233578, 'clf__min_samples_leaf': 0.8912935577937706, 'clf__min_samples_split': 0.7788443958044925, 'clf__subsample': 1.0, 'clf__warm_start': False}\n",
    "Train accuracy score:         0.4018366162182946\n",
    "Test accuracy score:          0.4037775263295326\n",
    "\n",
    "Parameters:  {'clf__ccp_alpha': 4.340645213116582e-08, 'clf__criterion': 'friedman_mse', 'clf__learning_rate': 0.057116912148829774, 'clf__loss': 'exponential', 'clf__max_depth': 45, 'clf__max_features': 0.37752032582642847, 'clf__min_samples_leaf': 0.4136583268985789, 'clf__min_samples_split': 0.49652393605893347, 'clf__subsample': 1.0, 'clf__warm_start': False}\n",
    "Train accuracy score:         0.9714932841255728\n",
    "Test accuracy score:          0.6135433893289233\n",
    " \n",
    "Parameters:  {'clf__ccp_alpha': 4.359629433974235e-09, 'clf__criterion': 'friedman_mse', 'clf__learning_rate': 0.03926955007317649, 'clf__loss': 'exponential', 'clf__max_depth': 42, 'clf__max_features': 0.710756574197145, 'clf__min_samples_leaf': 0.5677936404812652, 'clf__min_samples_split': 0.6880289557464101, 'clf__random_state': 67, 'clf__subsample': 1.0, 'clf__warm_start': False, 'clf__n_estimators': 2000}\n",
    "Train accuracy score:         0.4018366162182946\n",
    "Test accuracy score:          0.4037775263295326\n",
    "\n",
    "#########################################################################################################################\n",
    "\n",
    "Random Forest classifier: \n",
    "\n",
    "Parameters:  {'clf__bootstrap': False, 'clf__ccp_alpha': 3.807679176571892e-08, 'clf__criterion': 'gini', 'clf__max_depth': 40, 'clf__max_features': 0.47799605951152874, 'clf__n_jobs': 6, 'clf__random_state': 67, 'clf__warm_start': False, 'clf__n_estimators': 2000}\n",
    "Train accuracy score:         1.0\n",
    "Test accuracy score:          0.5962224736704674\n",
    "Test balanced accuracy score: 0.5962224736704674\n",
    "\n",
    "Parameters:  {'clf__bootstrap': False, 'clf__criterion': 'log_loss', 'clf__max_depth': 30, 'clf__max_features': 0.0778823488142087, 'clf__n_jobs': 6, 'clf__random_state': 67, 'clf__warm_start': False, 'clf__n_estimators': 2000}\n",
    "Train accuracy score:         1.0\n",
    "Test accuracy score:          0.5961354338932893\n",
    "\n",
    "Parameters:  {'clf__bootstrap': False, 'clf__ccp_alpha': 5.361140014825927e-07, 'clf__criterion': 'log_loss', 'clf__max_depth': 25, 'clf__max_features': 0.6804028469322392, 'clf__min_impurity_decrease': 4.549452186429162e-07, 'clf__min_samples_leaf': 0.022570015623467634, 'clf__min_samples_split': 0.04355587259285359, 'clf__min_weight_fraction_leaf': 0.030729053269466716, 'clf__n_jobs': 6, 'clf__oob_score': False, 'clf__random_state': 67, 'clf__warm_start': True, 'clf__n_estimators': 2000}\n",
    "Train accuracy score:         1.0\n",
    "Test accuracy score:          0.5962224736704674\n",
    "Test balanced accuracy score: 0.5962224736704674\n",
    "\n",
    "Parameters:  {'clf__bootstrap': False, 'clf__ccp_alpha': 1.855264675148909e-07, 'clf__criterion': 'gini', 'clf__max_depth': 55, 'clf__max_features': 0.24868924634705292, 'clf__min_samples_leaf': 0.5335788704602863, 'clf__min_samples_split': 0.44391363867794514, 'clf__n_jobs': 6, 'clf__warm_start': False}\n",
    "Train accuracy score:         0.4018366162182946\n",
    "Test accuracy score:          0.4037775263295326\n",
    "\n",
    "Parameters:  {'clf__bootstrap': True, 'clf__criterion': 'gini', 'clf__min_samples_leaf': 0.4065134383105919, 'clf__n_jobs': 6, 'clf__oob_score': True, 'clf__random_state': 67, 'clf__warm_start': False, 'clf__n_estimators': 2000}\n",
    "Train accuracy score:         0.4018366162182946\n",
    "Test accuracy score:          0.4037775263295326"
   ],
   "metadata": {
    "collapsed": false
   },
   "id": "31d91f3312f47115"
  },
  {
   "cell_type": "raw",
   "source": [
    "# Load best model\n",
    "best_model = joblib.load(r'/Users/ttas2/Documents/Python/nfl-machine-learning-models/output_files/run_pass_classifier_results.pkl')\n",
    "best_model"
   ],
   "metadata": {
    "collapsed": false
   },
   "id": "2a323e0678ce7ec2"
  }
 ],
 "metadata": {
  "colab": {
   "name": "nfl_offensive_play_classification_v1.1.ipynb",
   "provenance": []
  },
  "kernelspec": {
   "display_name": "Python 3 (ipykernel)",
   "language": "python",
   "name": "python3"
  },
  "language_info": {
   "codemirror_mode": {
    "name": "ipython",
    "version": 3
   },
   "file_extension": ".py",
   "mimetype": "text/x-python",
   "name": "python",
   "nbconvert_exporter": "python",
   "pygments_lexer": "ipython3",
   "version": "3.9.6"
  }
 },
 "nbformat": 4,
 "nbformat_minor": 5
}
