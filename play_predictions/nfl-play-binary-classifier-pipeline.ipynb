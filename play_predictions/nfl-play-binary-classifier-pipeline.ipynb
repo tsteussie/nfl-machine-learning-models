{
 "cells": [
  {
   "cell_type": "code",
   "execution_count": 1,
   "outputs": [],
   "source": [
    "import warnings\n",
    "from numba.core.errors import NumbaDeprecationWarning, NumbaPendingDeprecationWarning\n",
    "warnings.simplefilter('ignore', category=UserWarning)\n",
    "warnings.filterwarnings('ignore',category=ImportWarning)\n",
    "warnings.filterwarnings('ignore',category=DeprecationWarning)\n",
    "warnings.simplefilter('ignore', category=NumbaDeprecationWarning)\n",
    "warnings.simplefilter('ignore', category=NumbaPendingDeprecationWarning)\n",
    "\n",
    "import pandas as pd\n",
    "import numpy as np\n",
    "import category_encoders as ce\n",
    "from scipy.stats import randint\n",
    "from imblearn.pipeline import Pipeline\n",
    "from imblearn.over_sampling import ADASYN\n",
    "from BorutaShap import BorutaShap\n",
    "\n",
    "from sklearn.impute import SimpleImputer\n",
    "from sklearn.preprocessing import StandardScaler, MaxAbsScaler, PowerTransformer, OrdinalEncoder, OneHotEncoder\n",
    "from sklearn.experimental import enable_halving_search_cv\n",
    "from sklearn.model_selection import train_test_split, HalvingRandomSearchCV\n",
    "from sklearn.compose import ColumnTransformer\n",
    "from sklearn.utils.fixes import loguniform\n",
    "from sklearn.metrics import make_scorer, accuracy_score, balanced_accuracy_score, f1_score, roc_auc_score, classification_report, confusion_matrix\n",
    "from sklearn.dummy import DummyClassifier\n",
    "from sklearn.ensemble import RandomForestClassifier, ExtraTreesClassifier, GradientBoostingClassifier, AdaBoostClassifier\n",
    "\n",
    "import joblib\n",
    "import operator"
   ],
   "metadata": {
    "collapsed": false,
    "ExecuteTime": {
     "end_time": "2023-11-06T01:49:13.308051Z",
     "start_time": "2023-11-06T01:49:08.649898Z"
    }
   },
   "id": "774348c602e5ca1e"
  },
  {
   "cell_type": "markdown",
   "id": "c4f8e047",
   "metadata": {
    "pycharm": {
     "name": "#%% md\n"
    }
   },
   "source": [
    "## Import data from nfl-data-py\n",
    "##### https://pypi.org/project/nfl-data-py/"
   ]
  },
  {
   "cell_type": "code",
   "execution_count": 2,
   "outputs": [
    {
     "data": {
      "text/plain": "(47948, 119)"
     },
     "execution_count": 2,
     "metadata": {},
     "output_type": "execute_result"
    }
   ],
   "source": [
    "# Import csv file from nfl-data-py\n",
    "df = pd.read_csv(r'/Users/ttas2/Documents/Python/nfl-machine-learning-models/output_files/nfl_post_processing_run_pass_classification_data.csv')\n",
    "\n",
    "df.shape"
   ],
   "metadata": {
    "collapsed": false,
    "ExecuteTime": {
     "end_time": "2023-11-06T01:49:14.450620Z",
     "start_time": "2023-11-06T01:49:13.315145Z"
    }
   },
   "id": "f8d686327dce3e32"
  },
  {
   "cell_type": "code",
   "execution_count": 3,
   "outputs": [
    {
     "name": "stdout",
     "output_type": "stream",
     "text": [
      "[]\n"
     ]
    }
   ],
   "source": [
    "# Print columns with missing values\n",
    "print(df.columns[df.isnull().any()].tolist())"
   ],
   "metadata": {
    "collapsed": false,
    "ExecuteTime": {
     "end_time": "2023-11-06T01:49:14.600825Z",
     "start_time": "2023-11-06T01:49:14.433204Z"
    }
   },
   "id": "629bc39586b0fba6"
  },
  {
   "cell_type": "code",
   "execution_count": 4,
   "outputs": [
    {
     "data": {
      "text/plain": "       week posteam defteam  yardline_100  quarter_seconds_remaining   \n42345    10      SF     LAC            83                         44  \\\n19214     2     IND     JAX            61                         24   \n\n       half_seconds_remaining  game_seconds_remaining  game_half  qtr  down   \n42345                     944                    2744          1    1     1  \\\n19214                      24                    1824          1    2     3   \n\n       ...  prev2_effct_play  prev3_effct_play drive_effct_play_pcnt   \n42345  ...                 0                 0                   0.0  \\\n19214  ...                 0                 1                  -0.6   \n\n       remaining_downs  remaining_yards_per_down    drive_start   \n42345                3                  3.333333  transfer_poss  \\\n19214                1                 13.000000  transfer_poss   \n\n       two_min_warning  ep_sec_ratio  run_ratio_off_priors   \n42345                0      0.000728              0.486111  \\\n19214                1      0.015145              0.250000   \n\n       run_ratio_def_priors  \n42345              0.477778  \n19214              0.000000  \n\n[2 rows x 119 columns]",
      "text/html": "<div>\n<style scoped>\n    .dataframe tbody tr th:only-of-type {\n        vertical-align: middle;\n    }\n\n    .dataframe tbody tr th {\n        vertical-align: top;\n    }\n\n    .dataframe thead th {\n        text-align: right;\n    }\n</style>\n<table border=\"1\" class=\"dataframe\">\n  <thead>\n    <tr style=\"text-align: right;\">\n      <th></th>\n      <th>week</th>\n      <th>posteam</th>\n      <th>defteam</th>\n      <th>yardline_100</th>\n      <th>quarter_seconds_remaining</th>\n      <th>half_seconds_remaining</th>\n      <th>game_seconds_remaining</th>\n      <th>game_half</th>\n      <th>qtr</th>\n      <th>down</th>\n      <th>...</th>\n      <th>prev2_effct_play</th>\n      <th>prev3_effct_play</th>\n      <th>drive_effct_play_pcnt</th>\n      <th>remaining_downs</th>\n      <th>remaining_yards_per_down</th>\n      <th>drive_start</th>\n      <th>two_min_warning</th>\n      <th>ep_sec_ratio</th>\n      <th>run_ratio_off_priors</th>\n      <th>run_ratio_def_priors</th>\n    </tr>\n  </thead>\n  <tbody>\n    <tr>\n      <th>42345</th>\n      <td>10</td>\n      <td>SF</td>\n      <td>LAC</td>\n      <td>83</td>\n      <td>44</td>\n      <td>944</td>\n      <td>2744</td>\n      <td>1</td>\n      <td>1</td>\n      <td>1</td>\n      <td>...</td>\n      <td>0</td>\n      <td>0</td>\n      <td>0.0</td>\n      <td>3</td>\n      <td>3.333333</td>\n      <td>transfer_poss</td>\n      <td>0</td>\n      <td>0.000728</td>\n      <td>0.486111</td>\n      <td>0.477778</td>\n    </tr>\n    <tr>\n      <th>19214</th>\n      <td>2</td>\n      <td>IND</td>\n      <td>JAX</td>\n      <td>61</td>\n      <td>24</td>\n      <td>24</td>\n      <td>1824</td>\n      <td>1</td>\n      <td>2</td>\n      <td>3</td>\n      <td>...</td>\n      <td>0</td>\n      <td>1</td>\n      <td>-0.6</td>\n      <td>1</td>\n      <td>13.000000</td>\n      <td>transfer_poss</td>\n      <td>1</td>\n      <td>0.015145</td>\n      <td>0.250000</td>\n      <td>0.000000</td>\n    </tr>\n  </tbody>\n</table>\n<p>2 rows × 119 columns</p>\n</div>"
     },
     "execution_count": 4,
     "metadata": {},
     "output_type": "execute_result"
    }
   ],
   "source": [
    "# Convert binary columns to integers\n",
    "binary_columns = df.columns[df.isin([0,1]).all()].tolist()\n",
    "df[binary_columns] = df[binary_columns].apply(pd.to_numeric, downcast='integer', errors='coerce', axis=1)\n",
    "\n",
    "df.sample(2)"
   ],
   "metadata": {
    "collapsed": false,
    "ExecuteTime": {
     "end_time": "2023-11-06T01:49:28.411164Z",
     "start_time": "2023-11-06T01:49:14.793922Z"
    }
   },
   "id": "41f7422bcc2cf003"
  },
  {
   "cell_type": "code",
   "execution_count": 5,
   "id": "4c9bcb28",
   "metadata": {
    "pycharm": {
     "name": "#%%\n"
    },
    "ExecuteTime": {
     "end_time": "2023-11-06T01:49:28.462160Z",
     "start_time": "2023-11-06T01:49:28.416971Z"
    }
   },
   "outputs": [
    {
     "data": {
      "text/plain": "play_type\npass    0.579607\nrun     0.420393\nName: proportion, dtype: float64"
     },
     "execution_count": 5,
     "metadata": {},
     "output_type": "execute_result"
    }
   ],
   "source": [
    "# Target frequency\n",
    "target_count = df.play_type.value_counts(normalize=True)\n",
    "target_count"
   ]
  },
  {
   "cell_type": "code",
   "execution_count": 6,
   "outputs": [],
   "source": [
    "df['play_type'] = np.where(df['play_type'] == 'pass', 1, 0)"
   ],
   "metadata": {
    "collapsed": false,
    "ExecuteTime": {
     "end_time": "2023-11-06T01:49:28.637687Z",
     "start_time": "2023-11-06T01:49:28.432548Z"
    }
   },
   "id": "91112ef9f7a1ba3c"
  },
  {
   "cell_type": "markdown",
   "source": [
    "## Train test split data\n",
    "##### https://scikit-learn.org/stable/modules/generated/sklearn.model_selection.train_test_split.html"
   ],
   "metadata": {
    "collapsed": false
   },
   "id": "4c140526b778c182"
  },
  {
   "cell_type": "code",
   "execution_count": 7,
   "id": "4943bbf5",
   "metadata": {
    "pycharm": {
     "name": "#%%\n"
    },
    "ExecuteTime": {
     "end_time": "2023-11-06T01:49:28.766688Z",
     "start_time": "2023-11-06T01:49:28.480286Z"
    }
   },
   "outputs": [
    {
     "name": "stdout",
     "output_type": "stream",
     "text": [
      "118 features before feature selection\n",
      "Column names: ['week', 'posteam', 'defteam', 'yardline_100', 'quarter_seconds_remaining', 'half_seconds_remaining', 'game_seconds_remaining', 'game_half', 'qtr', 'down', 'goal_to_go', 'ydstogo', 'shotgun', 'no_huddle', 'posteam_timeouts_remaining', 'defteam_timeouts_remaining', 'posteam_score', 'defteam_score', 'score_differential', 'no_score_prob', 'fg_prob', 'safety_prob', 'td_prob', 'ep', 'wp', 'drive_play_count', 'spread_line', 'total_line', 'div_game', 'play', 'offense_formation', 'qb_rank', 'qb_pts', 'qb_plays', 'qb_qbr_raw', 'qb_qbr', 'qb_pass', 'qb_run', 'play_sequence_game', 'play_sequence_series', 'run_formation', 'dtg_99to95', 'dtg_94to90', 'dtg_40to31', 'dtg_30to21', 'dtg_20to11', 'dtg_10to06', 'dtg_05to01', 'prev1_big_play_pass', 'prev2_big_play_pass', 'prev3_big_play_pass', 'drive_big_play_pass_pcnt', 'prev1_big_play_run', 'prev2_big_play_run', 'prev3_big_play_run', 'drive_big_play_run_pcnt', 'prev1_negative_pass', 'prev2_negative_pass', 'prev3_negative_pass', 'prev1_negative_run', 'prev2_negative_run', 'prev3_negative_run', 'prev1_play_off_penalty', 'prev1_play_def_penalty', 'prev2_play_off_penalty', 'prev2_play_def_penalty', 'prev3_play_off_penalty', 'prev1_play_run_outside', 'prev1_play_run_inside', 'prev1_play_pass_deep', 'prev1_play_pass_short', 'prev2_play_run_outside', 'prev2_play_run_inside', 'prev2_play_pass_deep', 'prev2_play_pass_short', 'prev3_play_run_outside', 'prev3_play_run_inside', 'prev3_play_pass_deep', 'prev3_play_pass_short', 'prev1_incomplete_pass', 'prev2_incomplete_pass', 'prev3_incomplete_pass', 'drive_incomplete_pass_pcnt', 'prev1_yards_gained', 'prev2_yards_gained', 'prev3_yards_gained', 'prev1_wpa', 'prev2_wpa', 'prev3_wpa', 'prev1_shotgun', 'prev2_shotgun', 'prev3_shotgun', 'drive_shotgun_pcnt', 'prev1_qb_hit', 'prev2_qb_hit', 'prev3_qb_hit', 'drive_qb_hit_pcnt', 'prev1_no_huddle', 'prev2_no_huddle', 'prev3_no_huddle', 'drive_no_huddle_pcnt', 'prev1_first_down_pass', 'prev2_first_down_pass', 'prev3_first_down_pass', 'prev1_first_down_run', 'prev2_first_down_run', 'prev3_first_down_run', 'prev1_effct_play', 'prev2_effct_play', 'prev3_effct_play', 'drive_effct_play_pcnt', 'remaining_downs', 'remaining_yards_per_down', 'drive_start', 'two_min_warning', 'ep_sec_ratio', 'run_ratio_off_priors', 'run_ratio_def_priors']\n"
     ]
    }
   ],
   "source": [
    "# split data into target and feature datasets\n",
    "X, y = df.loc[:, df.columns != 'play_type'], df['play_type']\n",
    "\n",
    "initial_features = X.columns.to_list()\n",
    "\n",
    "# Create train and test datasets\n",
    "X_train, X_test, y_train, y_test = train_test_split(X, y, test_size=0.20, random_state=67)\n",
    "\n",
    "print(X_train.shape[1], 'features before feature selection')\n",
    "print('Column names:', X_train.columns.to_list())"
   ]
  },
  {
   "cell_type": "markdown",
   "id": "4b6cd4c3",
   "metadata": {
    "pycharm": {
     "name": "#%% md\n"
    }
   },
   "source": [
    "## Baseline model\n",
    "##### https://scikit-learn.org/stable/modules/generated/sklearn.dummy.DummyClassifier.html"
   ]
  },
  {
   "cell_type": "code",
   "execution_count": 8,
   "id": "28e9513e",
   "metadata": {
    "pycharm": {
     "name": "#%%\n"
    },
    "ExecuteTime": {
     "end_time": "2023-11-06T01:49:28.793685Z",
     "start_time": "2023-11-06T01:49:28.579634Z"
    }
   },
   "outputs": [
    {
     "name": "stdout",
     "output_type": "stream",
     "text": [
      "Baseline accuracy: 58.5%\n",
      "Baseline f1 score: 73.8%\n"
     ]
    }
   ],
   "source": [
    "# Create and fit baseline model to compare performance\n",
    "baseline_model = DummyClassifier(strategy='most_frequent', random_state=67)\n",
    "baseline_model.fit(X_train, y_train)\n",
    "\n",
    "# Calculate model accuracy on test data\n",
    "y_baseline_pred = baseline_model.predict(X_test)\n",
    "# accuracy_score(y_test, y_baseline_pred)\n",
    "print(f\"Baseline accuracy: {(round(accuracy_score(y_test,y_baseline_pred),3)*100)}%\")\n",
    "print(f\"Baseline f1 score: {(round(f1_score(y_test,y_baseline_pred),3)*100)}%\")"
   ]
  },
  {
   "cell_type": "markdown",
   "source": [
    "## Encode categorical features\n",
    "##### https://contrib.scikit-learn.org/category_encoders/leaveoneout.html"
   ],
   "metadata": {
    "collapsed": false
   },
   "id": "e0f3ad4dbdd2f444"
  },
  {
   "cell_type": "code",
   "execution_count": 9,
   "outputs": [
    {
     "name": "stdout",
     "output_type": "stream",
     "text": [
      "118 features after categorical encoding\n"
     ]
    }
   ],
   "source": [
    "# Create list of features for each dtype\n",
    "categorical_feat = list(X_train.select_dtypes(include='object'))\n",
    "\n",
    "# Encoded column represents mean response over all rows for this category, providing one-column representation while avoiding direct response leakage\n",
    "encoder = ce.LeaveOneOutEncoder(return_df=True, cols=categorical_feat)\n",
    "\n",
    "X_train = encoder.fit_transform(X_train, y_train)\n",
    "X_test = encoder.transform(X_test)\n",
    "\n",
    "print(X_train.shape[1], 'features after categorical encoding')"
   ],
   "metadata": {
    "collapsed": false,
    "ExecuteTime": {
     "end_time": "2023-11-06T01:49:29.056702Z",
     "start_time": "2023-11-06T01:49:28.615583Z"
    }
   },
   "id": "d33d4e0b73750e26"
  },
  {
   "cell_type": "markdown",
   "source": [
    "## BorutaShap Feature selection\n",
    "##### https://pypi.org/project/BorutaShap/"
   ],
   "metadata": {
    "collapsed": false
   },
   "id": "65fe86e88f378c61"
  },
  {
   "cell_type": "code",
   "execution_count": 10,
   "outputs": [],
   "source": [
    "feature_model = RandomForestClassifier(ccp_alpha=1e-05,\n",
    "                                       criterion='gini',\n",
    "                                       max_depth=30,\n",
    "                                       max_features=0.60,\n",
    "                                       max_leaf_nodes=50,\n",
    "                                       max_samples=0.40,\n",
    "                                       #min_impurity_decrease=1e-05,\n",
    "                                       #min_samples_leaf=0.03,\n",
    "                                       #min_samples_split=0.03,\n",
    "                                       #min_weight_fraction_leaf=0.03,\n",
    "                                       n_estimators=250,\n",
    "                                       class_weight='balanced_subsample',\n",
    "                                       bootstrap=True,\n",
    "                                       oob_score=True,\n",
    "                                       warm_start=False,\n",
    "                                       n_jobs=6,\n",
    "                                       random_state=67,\n",
    "                                       )"
   ],
   "metadata": {
    "collapsed": false,
    "ExecuteTime": {
     "end_time": "2023-11-06T01:49:29.056988Z",
     "start_time": "2023-11-06T01:49:29.039761Z"
    }
   },
   "id": "39e692ffcbfd70ba"
  },
  {
   "cell_type": "code",
   "execution_count": 11,
   "outputs": [
    {
     "name": "stderr",
     "output_type": "stream",
     "text": [
      "100%|██████████| 250/250 [2:10:59<00:00, 31.44s/it]  "
     ]
    },
    {
     "name": "stdout",
     "output_type": "stream",
     "text": [
      "26 attributes confirmed important: ['safety_prob', 'offense_formation', 'score_differential', 'game_seconds_remaining', 'remaining_yards_per_down', 'prev1_wpa', 'drive_start', 'drive_big_play_run_pcnt', 'ep_sec_ratio', 'down', 'td_prob', 'posteam_score', 'posteam', 'defteam', 'yardline_100', 'half_seconds_remaining', 'shotgun', 'wp', 'ep', 'prev2_wpa', 'remaining_downs', 'play', 'ydstogo', 'qtr', 'play_sequence_series', 'no_score_prob']\n",
      "92 attributes confirmed unimportant: ['prev1_negative_pass', 'run_ratio_def_priors', 'fg_prob', 'prev1_play_pass_deep', 'prev3_play_pass_short', 'prev3_incomplete_pass', 'prev1_no_huddle', 'prev3_play_pass_deep', 'dtg_30to21', 'run_ratio_off_priors', 'prev2_yards_gained', 'drive_shotgun_pcnt', 'qb_pts', 'prev3_big_play_run', 'prev2_qb_hit', 'prev3_no_huddle', 'qb_rank', 'drive_qb_hit_pcnt', 'prev1_big_play_run', 'prev1_play_run_outside', 'prev3_play_run_inside', 'play_sequence_game', 'game_half', 'dtg_05to01', 'prev1_qb_hit', 'prev3_shotgun', 'posteam_timeouts_remaining', 'prev1_yards_gained', 'two_min_warning', 'prev2_first_down_pass', 'prev3_wpa', 'prev1_shotgun', 'prev3_qb_hit', 'prev1_play_run_inside', 'drive_effct_play_pcnt', 'dtg_20to11', 'qb_qbr', 'week', 'prev2_no_huddle', 'dtg_99to95', 'div_game', 'prev2_shotgun', 'prev2_big_play_pass', 'prev1_incomplete_pass', 'prev1_effct_play', 'prev3_negative_run', 'prev2_big_play_run', 'dtg_10to06', 'prev3_yards_gained', 'prev2_negative_pass', 'quarter_seconds_remaining', 'prev2_play_run_outside', 'no_huddle', 'drive_play_count', 'prev1_play_pass_short', 'prev2_first_down_run', 'defteam_timeouts_remaining', 'prev2_play_off_penalty', 'goal_to_go', 'prev2_play_def_penalty', 'defteam_score', 'total_line', 'drive_incomplete_pass_pcnt', 'prev2_play_pass_short', 'run_formation', 'qb_pass', 'prev2_play_pass_deep', 'prev3_negative_pass', 'drive_big_play_pass_pcnt', 'prev3_first_down_pass', 'prev1_first_down_run', 'qb_run', 'prev3_first_down_run', 'drive_no_huddle_pcnt', 'prev2_negative_run', 'prev2_effct_play', 'prev2_play_run_inside', 'dtg_40to31', 'prev3_big_play_pass', 'prev2_incomplete_pass', 'prev3_play_off_penalty', 'spread_line', 'prev1_play_off_penalty', 'prev3_play_run_outside', 'qb_plays', 'prev1_big_play_pass', 'prev1_first_down_pass', 'prev1_negative_run', 'prev1_play_def_penalty', 'prev3_effct_play', 'dtg_94to90', 'qb_qbr_raw']\n",
      "0 tentative attributes remains: []\n"
     ]
    },
    {
     "name": "stderr",
     "output_type": "stream",
     "text": [
      "\n"
     ]
    }
   ],
   "source": [
    "# no model selected default is Random Forest\n",
    "Feature_Selector = BorutaShap(importance_measure='shap',\n",
    "                              classification=True,\n",
    "                              model=feature_model,\n",
    "                              )\n",
    "\n",
    "Feature_Selector.fit(X=X_train,\n",
    "                     y=y_train,\n",
    "                     n_trials=250,\n",
    "                     sample=False,\n",
    "                     random_state=67,\n",
    "                     )"
   ],
   "metadata": {
    "collapsed": false,
    "ExecuteTime": {
     "end_time": "2023-11-06T04:00:28.440595Z",
     "start_time": "2023-11-06T01:49:29.048720Z"
    }
   },
   "id": "4e7034bfcd562178"
  },
  {
   "cell_type": "code",
   "execution_count": 12,
   "outputs": [
    {
     "data": {
      "text/plain": "<Figure size 1800x800 with 1 Axes>",
      "image/png": "[encoded data removed]"
     },
     "metadata": {},
     "output_type": "display_data"
    }
   ],
   "source": [
    "# Plot selected features with shap values on x-axis\n",
    "Feature_Selector.plot(which_features='accepted', figsize=(18, 8))"
   ],
   "metadata": {
    "collapsed": false,
    "ExecuteTime": {
     "end_time": "2023-11-06T04:00:29.580036Z",
     "start_time": "2023-11-06T04:00:28.658456Z"
    }
   },
   "id": "c20134f76d62fa54"
  },
  {
   "cell_type": "code",
   "execution_count": 13,
   "outputs": [
    {
     "name": "stdout",
     "output_type": "stream",
     "text": [
      "Training features: 23\n",
      "Testing features: 23\n",
      "Most important features: ['posteam', 'defteam', 'yardline_100', 'half_seconds_remaining', 'game_seconds_remaining', 'down', 'ydstogo', 'shotgun', 'posteam_score', 'score_differential', 'no_score_prob', 'safety_prob', 'td_prob', 'ep', 'wp', 'play', 'offense_formation', 'play_sequence_series', 'drive_big_play_run_pcnt', 'prev1_wpa', 'remaining_downs', 'remaining_yards_per_down', 'drive_start']\n"
     ]
    }
   ],
   "source": [
    "# Drops features that were identified by BorutaShap as not important\n",
    "features_to_remove = Feature_Selector.features_to_remove\n",
    "\n",
    "X_train = X_train.drop(columns=features_to_remove)\n",
    "X_test = X_test.drop(columns=features_to_remove)\n",
    "\n",
    "# Print the shape of the new datasets\n",
    "print('Training features:', X_train.shape[1])\n",
    "print('Testing features:', X_test.shape[1])\n",
    "print('Most important features:', X_train.columns.to_list())"
   ],
   "metadata": {
    "collapsed": false,
    "ExecuteTime": {
     "end_time": "2023-11-06T04:00:29.594958Z",
     "start_time": "2023-11-06T04:00:29.589647Z"
    }
   },
   "id": "afa5c66c26a42f87"
  },
  {
   "cell_type": "markdown",
   "source": [
    "## Model pipeline\n",
    "##### https://scikit-learn.org/stable/modules/generated/sklearn.compose.ColumnTransformer.html\n",
    "##### https://scikit-learn.org/stable/modules/generated/sklearn.impute.SimpleImputer.html\n",
    "##### https://scikit-learn.org/stable/modules/generated/sklearn.preprocessing.PowerTransformer.html\n",
    "##### https://www.statsmodels.org/dev/generated/statsmodels.stats.outliers_influence.variance_inflation_factor.html\n",
    "##### https://imbalanced-learn.org/stable/references/over_sampling.html\n",
    "##### https://scikit-learn.org/stable/modules/generated/sklearn.model_selection.HalvingRandomSearchCV.html\n",
    "##### https://scikit-learn.org/stable/modules/generated/sklearn.metrics.f1_score.html\n",
    "##### https://scikit-learn.org/stable/modules/generated/sklearn.ensemble.GradientBoostingClassifier.html\n",
    "##### https://scikit-learn.org/stable/modules/generated/sklearn.ensemble.RandomForestClassifier.html\n",
    "##### https://scikit-learn.org/stable/modules/generated/sklearn.ensemble.ExtraTreesClassifier.html\n",
    "##### https://xgboost.readthedocs.io/en/stable/parameter.html"
   ],
   "metadata": {
    "collapsed": false
   },
   "id": "28eb7c49ea06b6d2"
  },
  {
   "cell_type": "code",
   "execution_count": 14,
   "outputs": [
    {
     "name": "stdout",
     "output_type": "stream",
     "text": [
      "categorical features: 0 : []\n",
      "ordinal features: 3 : ['down', 'play_sequence_series', 'remaining_downs']\n",
      "boolean features: 1 : ['shotgun']\n",
      "numeric features: 19 : ['posteam', 'defteam', 'yardline_100', 'half_seconds_remaining', 'game_seconds_remaining', 'ydstogo', 'posteam_score', 'score_differential', 'no_score_prob', 'safety_prob', 'td_prob', 'ep', 'wp', 'play', 'offense_formation', 'drive_big_play_run_pcnt', 'prev1_wpa', 'remaining_yards_per_down', 'drive_start']\n"
     ]
    }
   ],
   "source": [
    "# Create feature type lists for column transform stage of the pipeline\n",
    "ordinal_features = X_train.columns[X_train.isin([1,2,3,4,5,6,7,8,9,10,11,12,13,14,15,16,17,18,19,20,21,22,23,24,25]).all()].tolist()\n",
    "categorical_features = list(X_train.select_dtypes(include='object'))\n",
    "boolean_features = X_train.columns[X_train.isin([0, 1]).all()].tolist()\n",
    "\n",
    "numeric_features = [x for x in X_train.columns if x not in ordinal_features]\n",
    "numeric_features = [x for x in numeric_features if x not in categorical_features]\n",
    "numeric_features = [x for x in numeric_features if x not in boolean_features]\n",
    "\n",
    "print('categorical features:', len(categorical_features), ':', categorical_features)\n",
    "print('ordinal features:', len(ordinal_features), ':', ordinal_features)\n",
    "print('boolean features:', len(boolean_features), ':', boolean_features)\n",
    "print('numeric features:', len(numeric_features), ':', numeric_features)"
   ],
   "metadata": {
    "collapsed": false,
    "ExecuteTime": {
     "end_time": "2023-11-06T04:00:29.909928Z",
     "start_time": "2023-11-06T04:00:29.600508Z"
    }
   },
   "id": "e95804b4c341fcbb"
  },
  {
   "cell_type": "code",
   "execution_count": 15,
   "id": "3e4ff9bb",
   "metadata": {
    "pycharm": {
     "name": "#%%\n"
    },
    "ExecuteTime": {
     "end_time": "2023-11-06T04:00:29.910151Z",
     "start_time": "2023-11-06T04:00:29.904567Z"
    }
   },
   "outputs": [],
   "source": [
    "# Outlier removal\n",
    "def iqr_outliers(x, features):\n",
    "\n",
    "    out_index_list = []\n",
    "        \n",
    "    for col in features:\n",
    "        q1 = np.nanpercentile(x[col], 25.)\n",
    "        q3 = np.nanpercentile(x[col], 75.)\n",
    "        \n",
    "        cut_off = (q3 - q1) * 1.5\n",
    "        upper, lower = q3 + cut_off, q1 - cut_off\n",
    "                \n",
    "        outliers_index = x[col][(x[col] < lower) | (x[col] > upper)].index.tolist()\n",
    "        out_index_list.extend(outliers_index)\n",
    "        \n",
    "    # Remove duplicates\n",
    "    list(set(out_index_list)).sort()"
   ]
  },
  {
   "cell_type": "code",
   "execution_count": 16,
   "id": "58cc5161",
   "metadata": {
    "pycharm": {
     "name": "#%%\n"
    },
    "ExecuteTime": {
     "end_time": "2023-11-06T04:00:29.964364Z",
     "start_time": "2023-11-06T04:00:29.915327Z"
    }
   },
   "outputs": [],
   "source": [
    "# Specify the transformations per data type\n",
    "num_trans = Pipeline(steps=[('simple_imputer', SimpleImputer(missing_values=np.nan, strategy='median')),\n",
    "                            ('iqr_outlier', iqr_outliers(X_train, numeric_features)),\n",
    "                            ('power_trans', PowerTransformer(method='yeo-johnson', copy=False)),\n",
    "                            ('scaler', StandardScaler()),\n",
    "                           ])\n",
    "\n",
    "cat_trans = Pipeline(steps=[('simple_imputer', SimpleImputer(missing_values=np.nan, strategy='most_frequent')),\n",
    "                            ('onehot_encoder', OneHotEncoder(sparse=False, handle_unknown='infrequent_if_exist')),\n",
    "                           ])\n",
    "\n",
    "ord_trans = Pipeline(steps=[('simple_imputer', SimpleImputer(missing_values=np.nan, strategy='most_frequent')),\n",
    "                            ('ordinal_encoder', OrdinalEncoder(handle_unknown='use_encoded_value', unknown_value=-1)),\n",
    "                            ('scaler', StandardScaler()),\n",
    "                           ])\n",
    "                             \n",
    "Column_Transform = ColumnTransformer(transformers=[('numeric_transform', num_trans, numeric_features),\n",
    "                                                   ('categorical_transform', cat_trans, categorical_features),\n",
    "                                                   ('ordinal_transform', ord_trans, ordinal_features),\n",
    "                                                   ],\n",
    "                                     remainder='passthrough',\n",
    "                                    )"
   ]
  },
  {
   "cell_type": "code",
   "execution_count": 20,
   "id": "17593a5b",
   "metadata": {
    "pycharm": {
     "name": "#%%\n"
    },
    "ExecuteTime": {
     "end_time": "2023-11-06T05:23:54.247665Z",
     "start_time": "2023-11-06T05:23:54.200211Z"
    }
   },
   "outputs": [],
   "source": [
    "# Specify number of target classes\n",
    "n_classes = y_train.nunique()\n",
    "\n",
    "# Specify cross validation folds\n",
    "cross_validation = 10\n",
    "\n",
    "# Specify HalvingRandomSearchCV halving_parameter (aka factor)\n",
    "halving_parameter = 2.0\n",
    "\n",
    "# Specify the HalvingRandomSearchCV minimum/maximum resources\n",
    "max_resource = 2500\n",
    "resource_divisor = 2.0\n",
    "min_resource = int(round((max_resource / resource_divisor), 0))\n",
    "\n",
    "# Create scorer\n",
    "scoring = 'accuracy'"
   ]
  },
  {
   "cell_type": "code",
   "execution_count": 21,
   "id": "e4b3074a",
   "metadata": {
    "pycharm": {
     "name": "#%%\n"
    },
    "ExecuteTime": {
     "end_time": "2023-11-06T05:25:51.780033Z",
     "start_time": "2023-11-06T05:25:51.749990Z"
    }
   },
   "outputs": [],
   "source": [
    "def random_search():\n",
    "    \n",
    "    pipeline1 = Pipeline([\n",
    "    ('col', Column_Transform),\n",
    "    ('smpl', ADASYN(n_neighbors=n_classes, sampling_strategy='not majority', random_state=67)),\n",
    "    ('clf', RandomForestClassifier()),\n",
    "    ])\n",
    "    \n",
    "    pipeline2 = Pipeline([\n",
    "    ('col', Column_Transform),\n",
    "    ('smpl', ADASYN(n_neighbors=n_classes, sampling_strategy='not majority', random_state=67)),\n",
    "    ('clf', ExtraTreesClassifier()),\n",
    "    ])\n",
    "    \n",
    "    pipeline3 = Pipeline([\n",
    "    ('col', Column_Transform),\n",
    "    ('smpl', ADASYN(n_neighbors=n_classes, sampling_strategy='not majority', random_state=67)),\n",
    "    ('clf', GradientBoostingClassifier()),\n",
    "    ])\n",
    "    \n",
    "    pipeline4 = Pipeline([\n",
    "    ('col', Column_Transform),\n",
    "    ('smpl', ADASYN(n_neighbors=n_classes, sampling_strategy='not majority', random_state=67)),\n",
    "    ('clf', AdaBoostClassifier()),\n",
    "    ])\n",
    "\n",
    "    # RandomForestClassifier\n",
    "    parameters1 = {\n",
    "    'clf__bootstrap': [True],\n",
    "    'clf__ccp_alpha':  loguniform(1e-08, 1e-03),\n",
    "    'clf__criterion': ['gini'],\n",
    "    'clf__max_depth': randint(5, 30),\n",
    "    'clf__max_features': loguniform(0.15, 0.50),\n",
    "    'clf__min_impurity_decrease': loguniform(1e-08, 1e-04),\n",
    "    'clf__max_samples': loguniform(0.05, 0.25), # max_samples is not supported for bootstrap=False\n",
    "    'clf__min_samples_leaf': loguniform(0.10, 0.25),\n",
    "    'clf__min_samples_split': loguniform(0.10, 0.25),\n",
    "    'clf__min_weight_fraction_leaf':  loguniform(0.10, 0.25),\n",
    "    'clf__oob_score': [True],\n",
    "    'clf__warm_start': [True, False],\n",
    "    'clf__n_jobs': [6],\n",
    "    'clf__random_state': [67],\n",
    "    }\n",
    "    \n",
    "    # ExtraTreesClassifier\n",
    "    parameters2 = {\n",
    "    'clf__bootstrap': [False],\n",
    "    'clf__ccp_alpha': loguniform(1e-08, 1e-04),\n",
    "    'clf__criterion': ['gini'],\n",
    "    'clf__max_depth': randint(10, 50),\n",
    "    'clf__max_features': loguniform(0.75, 0.99),\n",
    "    'clf__max_leaf_nodes': randint(35, 65),\n",
    "    # 'clf__max_samples': loguniform(0.30, 0.99), # max_samples is not supported for bootstrap=False\n",
    "    'clf__min_impurity_decrease': loguniform(1e-08, 1e-03),\n",
    "    'clf__min_samples_leaf': loguniform(0.01, 0.25),\n",
    "    'clf__min_samples_split': loguniform(0.01, 0.25),\n",
    "    'clf__min_weight_fraction_leaf': loguniform(0.01, 0.25),\n",
    "    'clf__oob_score':  [False], # Only for bootstrap=True\n",
    "    'clf__warm_start': [True],\n",
    "    'clf__n_jobs': [6],\n",
    "    'clf__random_state': [67],\n",
    "    }\n",
    "            \n",
    "    # GradientBoostingClassifier\n",
    "    parameters3 = {\n",
    "    'clf__ccp_alpha': loguniform(1e-08, 1e-01),\n",
    "    'clf__learning_rate': loguniform(1e-08, 1e-02),\n",
    "    'clf__loss': ['log_loss'],\n",
    "    'clf__max_depth': randint(5, 25),\n",
    "    'clf__max_features': loguniform(0.10, 0.50), \n",
    "    'clf__max_leaf_nodes': randint(10, 20),\n",
    "    'clf__min_impurity_decrease': loguniform(1e-08, 1e-04),\n",
    "    'clf__min_samples_leaf': loguniform(0.05, 0.20),\n",
    "    'clf__min_samples_split': loguniform(0.05, 0.20),\n",
    "    'clf__n_iter_no_change': [50, 100],\n",
    "    'clf__tol': loguniform(1e-08, 1e-04),\n",
    "    'clf__validation_fraction': loguniform(0.05, 0.15),\n",
    "    'clf__warm_start': [False], # True is not supported for loss='deviance'\n",
    "    'clf__subsample': loguniform(0.02, 0.15),\n",
    "    'clf__random_state': [67],\n",
    "    }\n",
    "\n",
    "    # AdaBoostClassifier\n",
    "    parameters4  = {\n",
    "    'clf__algorithm': ['SAMME','SAMME.R'],\n",
    "    'clf__learning_rate': loguniform(0.001, 1.0),\n",
    "    'clf__random_state': [67],\n",
    "    }\n",
    "\n",
    "    pars = [parameters1, parameters2, parameters3, parameters4]\n",
    "    pips = [pipeline1, pipeline2, pipeline3, pipeline4]\n",
    "\n",
    "    result = []\n",
    "    \n",
    "    for i in range(len(pars)):\n",
    "        \n",
    "        rs = HalvingRandomSearchCV(pips[i],\n",
    "                                   pars[i],\n",
    "                                   factor=halving_parameter,\n",
    "                                   resource='clf__n_estimators',\n",
    "                                   n_candidates='exhaust',\n",
    "                                   min_resources=min_resource,\n",
    "                                   max_resources=max_resource,\n",
    "                                   scoring=scoring,\n",
    "                                   aggressive_elimination=False,\n",
    "                                   return_train_score=True,\n",
    "                                   refit=True,                   \n",
    "                                   cv=cross_validation,\n",
    "                                   n_jobs=6,\n",
    "                                   verbose=1,\n",
    "                                   random_state=67,\n",
    "                                   error_score='raise',\n",
    "                                  )\n",
    "\n",
    "        # Fit models on training data\n",
    "        rs = rs.fit(X_train, y_train)\n",
    "        \n",
    "        # Apply models to test data to determine model performance\n",
    "        y_pred = rs.predict(X_test)\n",
    "        y_pred_prob = rs.predict_proba(X_test)[:, 1]\n",
    "\n",
    "        print(\" \")\n",
    "        print(\" \")\n",
    "        \n",
    "        # storing model results\n",
    "        result.append({\n",
    "        'grid': rs,\n",
    "        'cv results': rs.cv_results_,\n",
    "        'train accuracy score': rs.best_score_,\n",
    "        'best params': rs.best_params_, \n",
    "        'best estimator': rs.best_estimator_,\n",
    "        'feature importance': rs.best_estimator_.named_steps['clf'].feature_importances_,\n",
    "        'test f1 score': f1_score(y_test, y_pred, average='micro'),\n",
    "        'test accuracy score': accuracy_score(y_test, y_pred),\n",
    "        'test balanced accuracy score': balanced_accuracy_score(y_test, y_pred),\n",
    "        'test roc auc score': roc_auc_score(y_test, y_pred_prob),\n",
    "        'test classification report': classification_report(y_test, y_pred, target_names=['pass','run'], digits=5),\n",
    "        'test confusion matrix': confusion_matrix(y_test, y_pred),\n",
    "        'cv': rs.cv,\n",
    "        'model #': i + 1\n",
    "        })\n",
    "\n",
    "    # sorting results by best test score\n",
    "    result = sorted(result, key=operator.itemgetter('test f1 score'), reverse=True)\n",
    "    \n",
    "    print(' ')\n",
    "    for element in result:\n",
    "        if element['model #']==1:\n",
    "            print('Random Forest classifier: ')\n",
    "        elif element['model #']==2:\n",
    "            print('ExtraTrees classifier: ')\n",
    "        elif element['model #']==3:\n",
    "            print('GradientBoosting classifier: ')\n",
    "        elif element['model #']==4:\n",
    "            print('AdaBoost classifier: ')\n",
    "        else:\n",
    "            print('Other: ')  \n",
    "        \n",
    "        print('Parameters:  ' + str(element['best params']))\n",
    "        print(' ')\n",
    "        print('Train accuracy score:         ' + str(element['train accuracy score']))\n",
    "        print('Test accuracy score:          ' + str(element['test accuracy score']))\n",
    "        print('Test balanced accuracy score: ' + str(element['test accuracy score']))\n",
    "        print('Test f1 score:                ' + str(element['test f1 score']))\n",
    "        print('Test roc auc score:           ' + str(element['test roc auc score']))\n",
    "        print(' ')\n",
    "        print(element['test classification report'])\n",
    "        print(element['test confusion matrix'])\n",
    "        print(' ')\n",
    "        print('-----------------------')\n",
    "        print(' ')\n",
    "\n",
    "    # Save best model as pickle file\n",
    "    joblib.dump(rs.best_params_, r'/Users/ttas2/Documents/Python/nfl-machine-learning-models/output_files/run_pass_classifier_results.pkl', compress=1)\n",
    "    joblib.dump(rs.cv_results_, r'/Users/ttas2/Documents/Python/nfl-machine-learning-models/output_files/run_pass_classifier_model.csv')"
   ]
  },
  {
   "cell_type": "code",
   "execution_count": 22,
   "id": "e7e2a726",
   "metadata": {
    "pycharm": {
     "name": "#%%\n"
    },
    "scrolled": false,
    "ExecuteTime": {
     "end_time": "2023-11-06T06:19:30.269628Z",
     "start_time": "2023-11-06T05:25:53.185297Z"
    }
   },
   "outputs": [
    {
     "name": "stdout",
     "output_type": "stream",
     "text": [
      "n_iterations: 2\n",
      "n_required_iterations: 2\n",
      "n_possible_iterations: 2\n",
      "min_resources_: 1250\n",
      "max_resources_: 2500\n",
      "aggressive_elimination: False\n",
      "factor: 2.0\n",
      "----------\n",
      "iter: 0\n",
      "n_candidates: 2\n",
      "n_resources: 1250\n",
      "Fitting 10 folds for each of 2 candidates, totalling 20 fits\n",
      "----------\n",
      "iter: 1\n",
      "n_candidates: 1\n",
      "n_resources: 2500\n",
      "Fitting 10 folds for each of 1 candidates, totalling 10 fits\n",
      " \n",
      " \n",
      "n_iterations: 2\n",
      "n_required_iterations: 2\n",
      "n_possible_iterations: 2\n",
      "min_resources_: 1250\n",
      "max_resources_: 2500\n",
      "aggressive_elimination: False\n",
      "factor: 2.0\n",
      "----------\n",
      "iter: 0\n",
      "n_candidates: 2\n",
      "n_resources: 1250\n",
      "Fitting 10 folds for each of 2 candidates, totalling 20 fits\n",
      "----------\n",
      "iter: 1\n",
      "n_candidates: 1\n",
      "n_resources: 2500\n",
      "Fitting 10 folds for each of 1 candidates, totalling 10 fits\n",
      " \n",
      " \n",
      "n_iterations: 2\n",
      "n_required_iterations: 2\n",
      "n_possible_iterations: 2\n",
      "min_resources_: 1250\n",
      "max_resources_: 2500\n",
      "aggressive_elimination: False\n",
      "factor: 2.0\n",
      "----------\n",
      "iter: 0\n",
      "n_candidates: 2\n",
      "n_resources: 1250\n",
      "Fitting 10 folds for each of 2 candidates, totalling 20 fits\n",
      "----------\n",
      "iter: 1\n",
      "n_candidates: 1\n",
      "n_resources: 2500\n",
      "Fitting 10 folds for each of 1 candidates, totalling 10 fits\n",
      " \n",
      " \n",
      "n_iterations: 2\n",
      "n_required_iterations: 2\n",
      "n_possible_iterations: 2\n",
      "min_resources_: 1250\n",
      "max_resources_: 2500\n",
      "aggressive_elimination: False\n",
      "factor: 2.0\n",
      "----------\n",
      "iter: 0\n",
      "n_candidates: 2\n",
      "n_resources: 1250\n",
      "Fitting 10 folds for each of 2 candidates, totalling 20 fits\n",
      "----------\n",
      "iter: 1\n",
      "n_candidates: 1\n",
      "n_resources: 2500\n",
      "Fitting 10 folds for each of 1 candidates, totalling 10 fits\n",
      " \n",
      " \n",
      " \n",
      "ExtraTrees classifier: \n",
      "Parameters:  {'clf__bootstrap': False, 'clf__ccp_alpha': 1.5254771955752696e-06, 'clf__criterion': 'gini', 'clf__max_depth': 20, 'clf__max_features': 0.9767189814414287, 'clf__max_leaf_nodes': 60, 'clf__min_impurity_decrease': 4.549452186429162e-07, 'clf__min_samples_leaf': 0.01213035486886127, 'clf__min_samples_split': 0.03467313931574917, 'clf__min_weight_fraction_leaf': 0.019859609984613134, 'clf__n_jobs': 6, 'clf__oob_score': False, 'clf__random_state': 67, 'clf__warm_start': True, 'clf__n_estimators': 2500}\n",
      " \n",
      "Train accuracy score:         0.7757966727074732\n",
      "Test accuracy score:          0.7272158498435871\n",
      "Test balanced accuracy score: 0.7272158498435871\n",
      "Test f1 score:                0.7272158498435871\n",
      "Test roc auc score:           0.80769968940827\n",
      " \n",
      "              precision    recall  f1-score   support\n",
      "\n",
      "        pass    0.65977   0.70624   0.68222      3976\n",
      "         run    0.78103   0.74207   0.76105      5614\n",
      "\n",
      "    accuracy                        0.72722      9590\n",
      "   macro avg    0.72040   0.72416   0.72163      9590\n",
      "weighted avg    0.73076   0.72722   0.72837      9590\n",
      "\n",
      "[[2808 1168]\n",
      " [1448 4166]]\n",
      " \n",
      "-----------------------\n",
      " \n",
      "Random Forest classifier: \n",
      "Parameters:  {'clf__bootstrap': True, 'clf__ccp_alpha': 4.1123634852394923e-05, 'clf__criterion': 'gini', 'clf__max_depth': 27, 'clf__max_features': 0.2788161687617899, 'clf__max_samples': 0.06746438100575868, 'clf__min_impurity_decrease': 7.400623926520826e-07, 'clf__min_samples_leaf': 0.11468500222865707, 'clf__min_samples_split': 0.1625026232535642, 'clf__min_weight_fraction_leaf': 0.17008281881741577, 'clf__n_jobs': 6, 'clf__oob_score': True, 'clf__random_state': 67, 'clf__warm_start': True, 'clf__n_estimators': 2500}\n",
      " \n",
      "Train accuracy score:         0.5781583991908128\n",
      "Test accuracy score:          0.5854014598540146\n",
      "Test balanced accuracy score: 0.5854014598540146\n",
      "Test f1 score:                0.5854014598540146\n",
      "Test roc auc score:           0.5\n",
      " \n",
      "              precision    recall  f1-score   support\n",
      "\n",
      "        pass    0.00000   0.00000   0.00000      3976\n",
      "         run    0.58540   1.00000   0.73849      5614\n",
      "\n",
      "    accuracy                        0.58540      9590\n",
      "   macro avg    0.29270   0.50000   0.36924      9590\n",
      "weighted avg    0.34269   0.58540   0.43231      9590\n",
      "\n",
      "[[   0 3976]\n",
      " [   0 5614]]\n",
      " \n",
      "-----------------------\n",
      " \n",
      "GradientBoosting classifier: \n",
      "Parameters:  {'clf__ccp_alpha': 0.00013902294847787587, 'clf__learning_rate': 3.2540861791745936e-07, 'clf__loss': 'log_loss', 'clf__max_depth': 24, 'clf__max_features': 0.25418407363310824, 'clf__max_leaf_nodes': 17, 'clf__min_impurity_decrease': 1.0643889438937452e-05, 'clf__min_samples_leaf': 0.0765690749824717, 'clf__min_samples_split': 0.06684525887374529, 'clf__n_iter_no_change': 50, 'clf__random_state': 67, 'clf__subsample': 0.021818395810717026, 'clf__tol': 6.607469600484675e-05, 'clf__validation_fraction': 0.0773945339580176, 'clf__warm_start': False, 'clf__n_estimators': 2500}\n",
      " \n",
      "Train accuracy score:         0.5781583991908128\n",
      "Test accuracy score:          0.5854014598540146\n",
      "Test balanced accuracy score: 0.5854014598540146\n",
      "Test f1 score:                0.5854014598540146\n",
      "Test roc auc score:           0.5\n",
      " \n",
      "              precision    recall  f1-score   support\n",
      "\n",
      "        pass    0.00000   0.00000   0.00000      3976\n",
      "         run    0.58540   1.00000   0.73849      5614\n",
      "\n",
      "    accuracy                        0.58540      9590\n",
      "   macro avg    0.29270   0.50000   0.36924      9590\n",
      "weighted avg    0.34269   0.58540   0.43231      9590\n",
      "\n",
      "[[   0 3976]\n",
      " [   0 5614]]\n",
      " \n",
      "-----------------------\n",
      " \n",
      "AdaBoost classifier: \n",
      "Parameters:  {'clf__algorithm': 'SAMME.R', 'clf__learning_rate': 0.11420306499190151, 'clf__random_state': 67, 'clf__n_estimators': 2500}\n",
      " \n",
      "Train accuracy score:         1.0\n",
      "Test accuracy score:          0.5854014598540146\n",
      "Test balanced accuracy score: 0.5854014598540146\n",
      "Test f1 score:                0.5854014598540146\n",
      "Test roc auc score:           0.521653926050066\n",
      " \n",
      "              precision    recall  f1-score   support\n",
      "\n",
      "        pass    0.00000   0.00000   0.00000      3976\n",
      "         run    0.58540   1.00000   0.73849      5614\n",
      "\n",
      "    accuracy                        0.58540      9590\n",
      "   macro avg    0.29270   0.50000   0.36924      9590\n",
      "weighted avg    0.34269   0.58540   0.43231      9590\n",
      "\n",
      "[[   0 3976]\n",
      " [   0 5614]]\n",
      " \n",
      "-----------------------\n",
      " \n"
     ]
    }
   ],
   "source": [
    "%%capture --no-stdout --no-display\n",
    "random_search()"
   ]
  },
  {
   "cell_type": "raw",
   "source": [
    "# Load best model\n",
    "best_model = joblib.load(r'/Users/ttas2/Documents/Python/nfl-machine-learning-models/output_files/run_pass_classifier_results.pkl')\n",
    "best_model"
   ],
   "metadata": {
    "collapsed": false
   },
   "id": "2a323e0678ce7ec2"
  },
  {
   "cell_type": "code",
   "execution_count": 19,
   "outputs": [],
   "source": [],
   "metadata": {
    "collapsed": false,
    "ExecuteTime": {
     "end_time": "2023-11-06T04:50:56.785559Z",
     "start_time": "2023-11-06T04:50:56.778117Z"
    }
   },
   "id": "84e730b18dc73635"
  }
 ],
 "metadata": {
  "colab": {
   "name": "nfl_offensive_play_classification_v1.1.ipynb",
   "provenance": []
  },
  "kernelspec": {
   "display_name": "Python 3 (ipykernel)",
   "language": "python",
   "name": "python3"
  },
  "language_info": {
   "codemirror_mode": {
    "name": "ipython",
    "version": 3
   },
   "file_extension": ".py",
   "mimetype": "text/x-python",
   "name": "python",
   "nbconvert_exporter": "python",
   "pygments_lexer": "ipython3",
   "version": "3.9.6"
  }
 },
 "nbformat": 4,
 "nbformat_minor": 5
}
