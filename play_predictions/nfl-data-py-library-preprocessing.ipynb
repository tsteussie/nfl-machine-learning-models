{
 "cells": [
  {
   "cell_type": "code",
   "execution_count": 125,
   "id": "5312cec7",
   "metadata": {
    "pycharm": {
     "name": "#%%\n"
    },
    "ExecuteTime": {
     "end_time": "2024-01-15T04:58:30.506471Z",
     "start_time": "2024-01-15T04:58:30.192711Z"
    }
   },
   "outputs": [],
   "source": [
    "import warnings\n",
    "warnings.filterwarnings('ignore')\n",
    "\n",
    "import pandas as pd\n",
    "import numpy as np\n",
    "import nfl_data_py as nfl\n",
    "import ssl\n",
    "ssl._create_default_https_context = ssl._create_stdlib_context\n",
    "import statsmodels.api as sm\n",
    "from statsmodels.stats.outliers_influence import variance_inflation_factor"
   ]
  },
  {
   "cell_type": "code",
   "execution_count": 126,
   "outputs": [],
   "source": [
    "rolling_game_window = 4\n",
    "rolling_series_window = 3\n",
    "rolling_play_window = 30\n",
    "rolling_play_quarter_window = 20"
   ],
   "metadata": {
    "collapsed": false,
    "ExecuteTime": {
     "end_time": "2024-01-15T04:58:30.593384Z",
     "start_time": "2024-01-15T04:58:30.199991Z"
    }
   },
   "id": "3426c1c71eace70"
  },
  {
   "cell_type": "markdown",
   "id": "bd81412b",
   "metadata": {
    "pycharm": {
     "name": "#%% md\n"
    }
   },
   "source": [
    "## nfl-data-py"
   ]
  },
  {
   "cell_type": "code",
   "execution_count": 127,
   "id": "349503b8",
   "metadata": {
    "pycharm": {
     "name": "#%%\n"
    },
    "ExecuteTime": {
     "end_time": "2024-01-15T04:58:30.767148Z",
     "start_time": "2024-01-15T04:58:30.207586Z"
    }
   },
   "outputs": [
    {
     "name": "stdout",
     "output_type": "stream",
     "text": [
      "[2022, 2023]\n",
      "[2000, 2001, 2002, 2003, 2004, 2005, 2006, 2007, 2008, 2009, 2010, 2011, 2012, 2013, 2014, 2015, 2016, 2017, 2018, 2019, 2020, 2021, 2022, 2023]\n"
     ]
    }
   ],
   "source": [
    "# 1999-2021 available for analysis. Some properties are not available in earlier years.  Offensive formation available starting in 2022\n",
    "start_season = 2022\n",
    "end_season = 2023\n",
    "\n",
    "end_season = end_season + 1\n",
    "seasons = [*range(start_season, end_season, 1)]\n",
    "\n",
    "draft_years = [*range(2000, 2024, 1)]\n",
    "\n",
    "print(seasons)\n",
    "print(draft_years)"
   ]
  },
  {
   "cell_type": "markdown",
   "id": "d6bbdf80",
   "metadata": {
    "pycharm": {
     "name": "#%% md\n"
    }
   },
   "source": [
    "## DATA DICTIONARY"
   ]
  },
  {
   "cell_type": "code",
   "execution_count": 128,
   "outputs": [],
   "source": [
    "# Display https://nflreadr.nflverse.com/articles/dictionary_pbp.html\n",
    "# from IPython.display import IFrame\n",
    "# IFrame(src='https://nflreadr.nflverse.com/articles/dictionary_pbp.html', width=1000, height=600)"
   ],
   "metadata": {
    "collapsed": false,
    "ExecuteTime": {
     "end_time": "2024-01-15T04:58:30.854262Z",
     "start_time": "2024-01-15T04:58:30.215727Z"
    }
   },
   "id": "289d0802c77dd9b"
  },
  {
   "cell_type": "markdown",
   "id": "3ad92036",
   "metadata": {
    "pycharm": {
     "name": "#%% md\n"
    }
   },
   "source": [
    "## NFL PLAY-BY-PLAY DATA"
   ]
  },
  {
   "cell_type": "code",
   "execution_count": 129,
   "id": "7905b061",
   "metadata": {
    "pycharm": {
     "name": "#%%\n"
    },
    "scrolled": true,
    "ExecuteTime": {
     "end_time": "2024-01-15T04:58:42.386580Z",
     "start_time": "2024-01-15T04:58:30.223132Z"
    }
   },
   "outputs": [
    {
     "name": "stdout",
     "output_type": "stream",
     "text": [
      "2022 done.\n",
      "2023 done.\n"
     ]
    },
    {
     "data": {
      "text/plain": "(98079, 390)"
     },
     "execution_count": 129,
     "metadata": {},
     "output_type": "execute_result"
    }
   ],
   "source": [
    "play_data = nfl.import_pbp_data(years=seasons, downcast=False, cache=False) # , alt_path=None)\n",
    "\n",
    "# Clean dataframe using nfl-data-api cleaning function\n",
    "play_df = nfl.clean_nfl_data(play_data)\n",
    "\n",
    "play_df.shape"
   ]
  },
  {
   "cell_type": "code",
   "outputs": [
    {
     "name": "stdout",
     "output_type": "stream",
     "text": [
      "['play_id', 'game_id', 'old_game_id', 'home_team', 'away_team', 'season_type', 'week', 'posteam', 'posteam_type', 'defteam', 'side_of_field', 'yardline_100', 'game_date', 'quarter_seconds_remaining', 'half_seconds_remaining', 'game_seconds_remaining', 'game_half', 'quarter_end', 'drive', 'sp', 'qtr', 'down', 'goal_to_go', 'time', 'yrdln', 'ydstogo', 'ydsnet', 'desc', 'play_type', 'yards_gained', 'shotgun', 'no_huddle', 'qb_dropback', 'qb_kneel', 'qb_spike', 'qb_scramble', 'pass_length', 'pass_location', 'air_yards', 'yards_after_catch', 'run_location', 'run_gap', 'field_goal_result', 'kick_distance', 'extra_point_result', 'two_point_conv_result', 'home_timeouts_remaining', 'away_timeouts_remaining', 'timeout', 'timeout_team', 'td_team', 'td_player_name', 'td_player_id', 'posteam_timeouts_remaining', 'defteam_timeouts_remaining', 'total_home_score', 'total_away_score', 'posteam_score', 'defteam_score', 'score_differential', 'posteam_score_post', 'defteam_score_post', 'score_differential_post', 'no_score_prob', 'opp_fg_prob', 'opp_safety_prob', 'opp_td_prob', 'fg_prob', 'safety_prob', 'td_prob', 'extra_point_prob', 'two_point_conversion_prob', 'ep', 'epa', 'total_home_epa', 'total_away_epa', 'total_home_rush_epa', 'total_away_rush_epa', 'total_home_pass_epa', 'total_away_pass_epa', 'air_epa', 'yac_epa', 'comp_air_epa', 'comp_yac_epa', 'total_home_comp_air_epa', 'total_away_comp_air_epa', 'total_home_comp_yac_epa', 'total_away_comp_yac_epa', 'total_home_raw_air_epa', 'total_away_raw_air_epa', 'total_home_raw_yac_epa', 'total_away_raw_yac_epa', 'wp', 'def_wp', 'home_wp', 'away_wp', 'wpa', 'vegas_wpa', 'vegas_home_wpa', 'home_wp_post', 'away_wp_post', 'vegas_wp', 'vegas_home_wp', 'total_home_rush_wpa', 'total_away_rush_wpa', 'total_home_pass_wpa', 'total_away_pass_wpa', 'air_wpa', 'yac_wpa', 'comp_air_wpa', 'comp_yac_wpa', 'total_home_comp_air_wpa', 'total_away_comp_air_wpa', 'total_home_comp_yac_wpa', 'total_away_comp_yac_wpa', 'total_home_raw_air_wpa', 'total_away_raw_air_wpa', 'total_home_raw_yac_wpa', 'total_away_raw_yac_wpa', 'punt_blocked', 'first_down_rush', 'first_down_pass', 'first_down_penalty', 'third_down_converted', 'third_down_failed', 'fourth_down_converted', 'fourth_down_failed', 'incomplete_pass', 'touchback', 'interception', 'punt_inside_twenty', 'punt_in_endzone', 'punt_out_of_bounds', 'punt_downed', 'punt_fair_catch', 'kickoff_inside_twenty', 'kickoff_in_endzone', 'kickoff_out_of_bounds', 'kickoff_downed', 'kickoff_fair_catch', 'fumble_forced', 'fumble_not_forced', 'fumble_out_of_bounds', 'solo_tackle', 'safety', 'penalty', 'tackled_for_loss', 'fumble_lost', 'own_kickoff_recovery', 'own_kickoff_recovery_td', 'qb_hit', 'rush_attempt', 'pass_attempt', 'sack', 'touchdown', 'pass_touchdown', 'rush_touchdown', 'return_touchdown', 'extra_point_attempt', 'two_point_attempt', 'field_goal_attempt', 'kickoff_attempt', 'punt_attempt', 'fumble', 'complete_pass', 'assist_tackle', 'lateral_reception', 'lateral_rush', 'lateral_return', 'lateral_recovery', 'passer_player_id', 'passer_player_name', 'passing_yards', 'receiver_player_id', 'receiver_player_name', 'receiving_yards', 'rusher_player_id', 'rusher_player_name', 'rushing_yards', 'lateral_receiver_player_id', 'lateral_receiver_player_name', 'lateral_receiving_yards', 'lateral_rusher_player_id', 'lateral_rusher_player_name', 'lateral_rushing_yards', 'lateral_sack_player_id', 'lateral_sack_player_name', 'interception_player_id', 'interception_player_name', 'lateral_interception_player_id', 'lateral_interception_player_name', 'punt_returner_player_id', 'punt_returner_player_name', 'lateral_punt_returner_player_id', 'lateral_punt_returner_player_name', 'kickoff_returner_player_name', 'kickoff_returner_player_id', 'lateral_kickoff_returner_player_id', 'lateral_kickoff_returner_player_name', 'punter_player_id', 'punter_player_name', 'kicker_player_name', 'kicker_player_id', 'own_kickoff_recovery_player_id', 'own_kickoff_recovery_player_name', 'blocked_player_id', 'blocked_player_name', 'tackle_for_loss_1_player_id', 'tackle_for_loss_1_player_name', 'tackle_for_loss_2_player_id', 'tackle_for_loss_2_player_name', 'qb_hit_1_player_id', 'qb_hit_1_player_name', 'qb_hit_2_player_id', 'qb_hit_2_player_name', 'forced_fumble_player_1_team', 'forced_fumble_player_1_player_id', 'forced_fumble_player_1_player_name', 'forced_fumble_player_2_team', 'forced_fumble_player_2_player_id', 'forced_fumble_player_2_player_name', 'solo_tackle_1_team', 'solo_tackle_2_team', 'solo_tackle_1_player_id', 'solo_tackle_2_player_id', 'solo_tackle_1_player_name', 'solo_tackle_2_player_name', 'assist_tackle_1_player_id', 'assist_tackle_1_player_name', 'assist_tackle_1_team', 'assist_tackle_2_player_id', 'assist_tackle_2_player_name', 'assist_tackle_2_team', 'assist_tackle_3_player_id', 'assist_tackle_3_player_name', 'assist_tackle_3_team', 'assist_tackle_4_player_id', 'assist_tackle_4_player_name', 'assist_tackle_4_team', 'tackle_with_assist', 'tackle_with_assist_1_player_id', 'tackle_with_assist_1_player_name', 'tackle_with_assist_1_team', 'tackle_with_assist_2_player_id', 'tackle_with_assist_2_player_name', 'tackle_with_assist_2_team', 'pass_defense_1_player_id', 'pass_defense_1_player_name', 'pass_defense_2_player_id', 'pass_defense_2_player_name', 'fumbled_1_team', 'fumbled_1_player_id', 'fumbled_1_player_name', 'fumbled_2_player_id', 'fumbled_2_player_name', 'fumbled_2_team', 'fumble_recovery_1_team', 'fumble_recovery_1_yards', 'fumble_recovery_1_player_id', 'fumble_recovery_1_player_name', 'fumble_recovery_2_team', 'fumble_recovery_2_yards', 'fumble_recovery_2_player_id', 'fumble_recovery_2_player_name', 'sack_player_id', 'sack_player_name', 'half_sack_1_player_id', 'half_sack_1_player_name', 'half_sack_2_player_id', 'half_sack_2_player_name', 'return_team', 'return_yards', 'penalty_team', 'penalty_player_id', 'penalty_player_name', 'penalty_yards', 'replay_or_challenge', 'replay_or_challenge_result', 'penalty_type', 'defensive_two_point_attempt', 'defensive_two_point_conv', 'defensive_extra_point_attempt', 'defensive_extra_point_conv', 'safety_player_name', 'safety_player_id', 'season', 'cp', 'cpoe', 'series', 'series_success', 'series_result', 'order_sequence', 'start_time', 'time_of_day', 'stadium', 'weather', 'nfl_api_id', 'play_clock', 'play_deleted', 'play_type_nfl', 'special_teams_play', 'st_play_type', 'end_clock_time', 'end_yard_line', 'fixed_drive', 'fixed_drive_result', 'drive_real_start_time', 'drive_play_count', 'drive_time_of_possession', 'drive_first_downs', 'drive_inside20', 'drive_ended_with_score', 'drive_quarter_start', 'drive_quarter_end', 'drive_yards_penalized', 'drive_start_transition', 'drive_end_transition', 'drive_game_clock_start', 'drive_game_clock_end', 'drive_start_yard_line', 'drive_end_yard_line', 'drive_play_id_started', 'drive_play_id_ended', 'away_score', 'home_score', 'location', 'result', 'total', 'spread_line', 'total_line', 'div_game', 'roof', 'surface', 'temp', 'wind', 'home_coach', 'away_coach', 'stadium_id', 'game_stadium', 'aborted_play', 'success', 'passer', 'passer_jersey_number', 'rusher', 'rusher_jersey_number', 'receiver', 'receiver_jersey_number', 'pass', 'rush', 'first_down', 'special', 'play', 'passer_id', 'rusher_id', 'receiver_id', 'name', 'jersey_number', 'id', 'fantasy_player_name', 'fantasy_player_id', 'fantasy', 'fantasy_id', 'out_of_bounds', 'home_opening_kickoff', 'qb_epa', 'xyac_epa', 'xyac_mean_yardage', 'xyac_median_yardage', 'xyac_success', 'xyac_fd', 'xpass', 'pass_oe', 'nflverse_game_id', 'possession_team', 'offense_formation', 'offense_personnel', 'defenders_in_box', 'defense_personnel', 'number_of_pass_rushers', 'players_on_play', 'offense_players', 'defense_players', 'n_offense', 'n_defense', 'ngs_air_yards', 'time_to_throw', 'was_pressure', 'route', 'defense_man_zone_type', 'defense_coverage_type']\n"
     ]
    }
   ],
   "source": [
    "# Print columns\n",
    "print(play_df.columns.tolist())"
   ],
   "metadata": {
    "collapsed": false,
    "ExecuteTime": {
     "end_time": "2024-01-15T04:58:42.564413Z",
     "start_time": "2024-01-15T04:58:42.289074Z"
    }
   },
   "id": "413cafec6489786e",
   "execution_count": 130
  },
  {
   "cell_type": "code",
   "execution_count": 131,
   "outputs": [
    {
     "data": {
      "text/plain": "(85536, 390)"
     },
     "execution_count": 131,
     "metadata": {},
     "output_type": "execute_result"
    }
   ],
   "source": [
    "# Preliminary play_type filter 'None' and 'no play'\n",
    "play_df = play_df.loc[~(play_df['play_type'].isin([None,'no_play']))]\n",
    "\n",
    "play_df.shape"
   ],
   "metadata": {
    "collapsed": false,
    "ExecuteTime": {
     "end_time": "2024-01-15T04:58:42.877027Z",
     "start_time": "2024-01-15T04:58:42.308499Z"
    }
   },
   "id": "82c2d371047d828a"
  },
  {
   "cell_type": "code",
   "execution_count": 132,
   "id": "98db002a",
   "metadata": {
    "pycharm": {
     "name": "#%%\n"
    },
    "ExecuteTime": {
     "end_time": "2024-01-15T04:58:43.580485Z",
     "start_time": "2024-01-15T04:58:42.665939Z"
    }
   },
   "outputs": [
    {
     "data": {
      "text/plain": "       play_id          game_id old_game_id home_team away_team season_type  \\\n41605   1431.0  2022_16_NYG_MIN  2022122405       MIN       NYG         REG   \n\n       week posteam posteam_type defteam  ...  \\\n41605    16     NYG         away     MIN  ...   \n\n                                         defense_players  n_offense n_defense  \\\n41605  00-0033546;00-0036348;00-0036335;00-0036909;00...       11.0      11.0   \n\n       ngs_air_yards  time_to_throw  was_pressure route  \\\n41605            NaN            NaN           NaN  None   \n\n       defense_man_zone_type  defense_coverage_type         game_alt_id  \n41605                   None                   None  MIN_NYG_2022_12_24  \n\n[1 rows x 391 columns]",
      "text/html": "<div>\n<style scoped>\n    .dataframe tbody tr th:only-of-type {\n        vertical-align: middle;\n    }\n\n    .dataframe tbody tr th {\n        vertical-align: top;\n    }\n\n    .dataframe thead th {\n        text-align: right;\n    }\n</style>\n<table border=\"1\" class=\"dataframe\">\n  <thead>\n    <tr style=\"text-align: right;\">\n      <th></th>\n      <th>play_id</th>\n      <th>game_id</th>\n      <th>old_game_id</th>\n      <th>home_team</th>\n      <th>away_team</th>\n      <th>season_type</th>\n      <th>week</th>\n      <th>posteam</th>\n      <th>posteam_type</th>\n      <th>defteam</th>\n      <th>...</th>\n      <th>defense_players</th>\n      <th>n_offense</th>\n      <th>n_defense</th>\n      <th>ngs_air_yards</th>\n      <th>time_to_throw</th>\n      <th>was_pressure</th>\n      <th>route</th>\n      <th>defense_man_zone_type</th>\n      <th>defense_coverage_type</th>\n      <th>game_alt_id</th>\n    </tr>\n  </thead>\n  <tbody>\n    <tr>\n      <th>41605</th>\n      <td>1431.0</td>\n      <td>2022_16_NYG_MIN</td>\n      <td>2022122405</td>\n      <td>MIN</td>\n      <td>NYG</td>\n      <td>REG</td>\n      <td>16</td>\n      <td>NYG</td>\n      <td>away</td>\n      <td>MIN</td>\n      <td>...</td>\n      <td>00-0033546;00-0036348;00-0036335;00-0036909;00...</td>\n      <td>11.0</td>\n      <td>11.0</td>\n      <td>NaN</td>\n      <td>NaN</td>\n      <td>NaN</td>\n      <td>None</td>\n      <td>None</td>\n      <td>None</td>\n      <td>MIN_NYG_2022_12_24</td>\n    </tr>\n  </tbody>\n</table>\n<p>1 rows × 391 columns</p>\n</div>"
     },
     "execution_count": 132,
     "metadata": {},
     "output_type": "execute_result"
    }
   ],
   "source": [
    "# Modify team names to match other data sources\n",
    "play_df['home_team'] = np.where(play_df['home_team'] == 'OAK', 'LV', play_df['home_team'])\n",
    "play_df['away_team'] = np.where(play_df['away_team'] == 'OAK', 'LV', play_df['away_team'])\n",
    "play_df['posteam'] = np.where(play_df['posteam'] == 'OAK', 'LV', play_df['posteam'])\n",
    "play_df['defteam'] = np.where(play_df['defteam'] == 'OAK', 'LV', play_df['defteam'])\n",
    "play_df['penalty_team'] = np.where(play_df['penalty_team'] == 'OAK', 'LV', play_df['penalty_team'])\n",
    "play_df['side_of_field'] = np.where(play_df['side_of_field'] == 'OAK', 'LV', play_df['side_of_field'])\n",
    "play_df['game_id'] = play_df['game_id'].str.replace('OAK', 'LV', case=True)\n",
    "\n",
    "# Convert game_date to datetime format\n",
    "play_df['game_date']= pd.to_datetime(play_df['game_date'])\n",
    "\n",
    "# Create year column from game_date using isoformat\n",
    "play_df['year'] = play_df['game_date'].dt.year\n",
    "play_df['month'] = play_df['game_date'].dt.month\n",
    "play_df['day'] = play_df['game_date'].dt.day\n",
    "\n",
    "play_df['game_alt_id'] = play_df['home_team'] + '_' + play_df['away_team'] + '_' +  play_df['year'].astype(str) + '_' + play_df['month'].astype(str).str.zfill(2) + '_' + play_df['day'].astype(str).str.zfill(2)\n",
    "    \n",
    "play_df.drop(['year','month','day'], axis=1, inplace=True)\n",
    "\n",
    "play_df.sample(1)"
   ]
  },
  {
   "cell_type": "code",
   "execution_count": 133,
   "outputs": [],
   "source": [
    "# Move game_alt_id to fourth column in dataframe\n",
    "cols = play_df.columns.tolist()\n",
    "cols = cols[:3] + cols[-1:] + cols[3:-1]\n",
    "play_df = play_df[cols]"
   ],
   "metadata": {
    "collapsed": false,
    "ExecuteTime": {
     "end_time": "2024-01-15T04:58:43.978549Z",
     "start_time": "2024-01-15T04:58:43.484102Z"
    }
   },
   "id": "ce7405ebec078e6b"
  },
  {
   "cell_type": "code",
   "execution_count": 134,
   "id": "75902bba",
   "metadata": {
    "pycharm": {
     "name": "#%%\n"
    },
    "ExecuteTime": {
     "end_time": "2024-01-15T04:58:44.159374Z",
     "start_time": "2024-01-15T04:58:43.822964Z"
    }
   },
   "outputs": [
    {
     "data": {
      "text/plain": "32"
     },
     "execution_count": 134,
     "metadata": {},
     "output_type": "execute_result"
    }
   ],
   "source": [
    "play_df.home_team.nunique()"
   ]
  },
  {
   "cell_type": "code",
   "execution_count": 135,
   "outputs": [
    {
     "data": {
      "text/plain": "208"
     },
     "execution_count": 135,
     "metadata": {},
     "output_type": "execute_result"
    }
   ],
   "source": [
    "# Game-play sequence\n",
    "play_df['play'] = play_df.groupby(['game_id'])['play_id'].cumcount() + 1\n",
    "\n",
    "play_df.play.nunique()"
   ],
   "metadata": {
    "collapsed": false,
    "ExecuteTime": {
     "end_time": "2024-01-15T04:58:44.400784Z",
     "start_time": "2024-01-15T04:58:43.831937Z"
    }
   },
   "id": "50d3c38c52d45e0d"
  },
  {
   "cell_type": "markdown",
   "id": "46536268",
   "metadata": {
    "pycharm": {
     "name": "#%% md\n"
    }
   },
   "source": [
    "## NFL GAME SCHEDULE DATA"
   ]
  },
  {
   "cell_type": "code",
   "execution_count": 136,
   "id": "63f722f6",
   "metadata": {
    "pycharm": {
     "name": "#%%\n"
    },
    "ExecuteTime": {
     "end_time": "2024-01-15T04:58:45.158859Z",
     "start_time": "2024-01-15T04:58:43.858291Z"
    }
   },
   "outputs": [
    {
     "data": {
      "text/plain": "(562, 46)"
     },
     "execution_count": 136,
     "metadata": {},
     "output_type": "execute_result"
    }
   ],
   "source": [
    "game_data = nfl.import_schedules(years=seasons)\n",
    "\n",
    "# Clean dataframe using nfl-data-api cleaning function\n",
    "game_df = nfl.clean_nfl_data(game_data)\n",
    "\n",
    "# # Sort dataframe\n",
    "game_df = game_df.sort_values(by=['season','week','gameday'], ascending=True)\n",
    "\n",
    "game_df.shape"
   ]
  },
  {
   "cell_type": "code",
   "execution_count": 137,
   "id": "b64669eb",
   "metadata": {
    "pycharm": {
     "name": "#%%\n"
    },
    "scrolled": false,
    "ExecuteTime": {
     "end_time": "2024-01-15T04:58:45.330414Z",
     "start_time": "2024-01-15T04:58:45.052545Z"
    }
   },
   "outputs": [
    {
     "data": {
      "text/plain": "             game_id  season game_type  week     gameday   weekday gametime  \\\n6137  2022_01_BUF_LA    2022       REG     1  2022-09-08  Thursday    20:20   \n6138  2022_01_NO_ATL    2022       REG     1  2022-09-11    Sunday    13:00   \n\n     away_team  away_score home_team  ...  wind  away_qb_id  home_qb_id  \\\n6137       BUF        31.0        LA  ...   NaN  00-0034857  00-0026498   \n6138        NO        27.0       ATL  ...   NaN  00-0031503  00-0032268   \n\n        away_qb_name      home_qb_name      away_coach    home_coach  \\\n6137      Josh Allen  Matthew Stafford  Sean McDermott    Sean McVay   \n6138  Jameis Winston    Marcus Mariota    Dennis Allen  Arthur Smith   \n\n            referee stadium_id                stadium  \n6137  Carl Cheffers      LAX01           SoFi Stadium  \n6138      Alex Kemp      ATL97  Mercedes-Benz Stadium  \n\n[2 rows x 46 columns]",
      "text/html": "<div>\n<style scoped>\n    .dataframe tbody tr th:only-of-type {\n        vertical-align: middle;\n    }\n\n    .dataframe tbody tr th {\n        vertical-align: top;\n    }\n\n    .dataframe thead th {\n        text-align: right;\n    }\n</style>\n<table border=\"1\" class=\"dataframe\">\n  <thead>\n    <tr style=\"text-align: right;\">\n      <th></th>\n      <th>game_id</th>\n      <th>season</th>\n      <th>game_type</th>\n      <th>week</th>\n      <th>gameday</th>\n      <th>weekday</th>\n      <th>gametime</th>\n      <th>away_team</th>\n      <th>away_score</th>\n      <th>home_team</th>\n      <th>...</th>\n      <th>wind</th>\n      <th>away_qb_id</th>\n      <th>home_qb_id</th>\n      <th>away_qb_name</th>\n      <th>home_qb_name</th>\n      <th>away_coach</th>\n      <th>home_coach</th>\n      <th>referee</th>\n      <th>stadium_id</th>\n      <th>stadium</th>\n    </tr>\n  </thead>\n  <tbody>\n    <tr>\n      <th>6137</th>\n      <td>2022_01_BUF_LA</td>\n      <td>2022</td>\n      <td>REG</td>\n      <td>1</td>\n      <td>2022-09-08</td>\n      <td>Thursday</td>\n      <td>20:20</td>\n      <td>BUF</td>\n      <td>31.0</td>\n      <td>LA</td>\n      <td>...</td>\n      <td>NaN</td>\n      <td>00-0034857</td>\n      <td>00-0026498</td>\n      <td>Josh Allen</td>\n      <td>Matthew Stafford</td>\n      <td>Sean McDermott</td>\n      <td>Sean McVay</td>\n      <td>Carl Cheffers</td>\n      <td>LAX01</td>\n      <td>SoFi Stadium</td>\n    </tr>\n    <tr>\n      <th>6138</th>\n      <td>2022_01_NO_ATL</td>\n      <td>2022</td>\n      <td>REG</td>\n      <td>1</td>\n      <td>2022-09-11</td>\n      <td>Sunday</td>\n      <td>13:00</td>\n      <td>NO</td>\n      <td>27.0</td>\n      <td>ATL</td>\n      <td>...</td>\n      <td>NaN</td>\n      <td>00-0031503</td>\n      <td>00-0032268</td>\n      <td>Jameis Winston</td>\n      <td>Marcus Mariota</td>\n      <td>Dennis Allen</td>\n      <td>Arthur Smith</td>\n      <td>Alex Kemp</td>\n      <td>ATL97</td>\n      <td>Mercedes-Benz Stadium</td>\n    </tr>\n  </tbody>\n</table>\n<p>2 rows × 46 columns</p>\n</div>"
     },
     "execution_count": 137,
     "metadata": {},
     "output_type": "execute_result"
    }
   ],
   "source": [
    "game_df.head(2)"
   ]
  },
  {
   "cell_type": "code",
   "execution_count": 138,
   "id": "8752388f",
   "metadata": {
    "pycharm": {
     "name": "#%%\n"
    },
    "ExecuteTime": {
     "end_time": "2024-01-15T04:58:45.414993Z",
     "start_time": "2024-01-15T04:58:45.072848Z"
    }
   },
   "outputs": [],
   "source": [
    "# Modify team codes to match schedule\n",
    "game_df['home_team'] = np.where(game_df['home_team'] == 'OAK', 'LV', game_df['home_team'])\n",
    "game_df['away_team'] = np.where(game_df['away_team'] == 'OAK', 'LV', game_df['away_team'])\n",
    "game_df['game_id'] = game_df['game_id'].str.replace('OAK', 'LV', case=True)"
   ]
  },
  {
   "cell_type": "code",
   "execution_count": 139,
   "id": "53bb21e7",
   "metadata": {
    "pycharm": {
     "name": "#%%\n"
    },
    "ExecuteTime": {
     "end_time": "2024-01-15T04:58:45.592059Z",
     "start_time": "2024-01-15T04:58:45.085874Z"
    }
   },
   "outputs": [
    {
     "data": {
      "text/plain": "32"
     },
     "execution_count": 139,
     "metadata": {},
     "output_type": "execute_result"
    }
   ],
   "source": [
    "game_df.home_team.nunique()"
   ]
  },
  {
   "cell_type": "code",
   "execution_count": 140,
   "id": "a7bfeaeb",
   "metadata": {
    "pycharm": {
     "name": "#%%\n"
    },
    "ExecuteTime": {
     "end_time": "2024-01-15T04:58:45.771272Z",
     "start_time": "2024-01-15T04:58:45.106562Z"
    }
   },
   "outputs": [
    {
     "data": {
      "text/plain": "32"
     },
     "execution_count": 140,
     "metadata": {},
     "output_type": "execute_result"
    }
   ],
   "source": [
    "game_df.away_team.nunique()"
   ]
  },
  {
   "cell_type": "code",
   "execution_count": 141,
   "id": "cbbf6c4f",
   "metadata": {
    "pycharm": {
     "name": "#%%\n"
    },
    "ExecuteTime": {
     "end_time": "2024-01-15T04:58:45.949317Z",
     "start_time": "2024-01-15T04:58:45.126579Z"
    }
   },
   "outputs": [
    {
     "data": {
      "text/plain": "              game_id         game_alt_id    gameday   weekday gametime  \\\n6571  2023_11_CIN_BAL  BAL_CIN_2023_11_16 2023-11-16  Thursday    20:15   \n6597    2023_12_KC_LV    LV_KC_2023_11_26 2023-11-26    Sunday    16:25   \n\n      under_odds  over_odds  away_rest  home_rest  \n6571      -112.0     -108.0          4          4  \n6597      -112.0     -108.0          6          7  ",
      "text/html": "<div>\n<style scoped>\n    .dataframe tbody tr th:only-of-type {\n        vertical-align: middle;\n    }\n\n    .dataframe tbody tr th {\n        vertical-align: top;\n    }\n\n    .dataframe thead th {\n        text-align: right;\n    }\n</style>\n<table border=\"1\" class=\"dataframe\">\n  <thead>\n    <tr style=\"text-align: right;\">\n      <th></th>\n      <th>game_id</th>\n      <th>game_alt_id</th>\n      <th>gameday</th>\n      <th>weekday</th>\n      <th>gametime</th>\n      <th>under_odds</th>\n      <th>over_odds</th>\n      <th>away_rest</th>\n      <th>home_rest</th>\n    </tr>\n  </thead>\n  <tbody>\n    <tr>\n      <th>6571</th>\n      <td>2023_11_CIN_BAL</td>\n      <td>BAL_CIN_2023_11_16</td>\n      <td>2023-11-16</td>\n      <td>Thursday</td>\n      <td>20:15</td>\n      <td>-112.0</td>\n      <td>-108.0</td>\n      <td>4</td>\n      <td>4</td>\n    </tr>\n    <tr>\n      <th>6597</th>\n      <td>2023_12_KC_LV</td>\n      <td>LV_KC_2023_11_26</td>\n      <td>2023-11-26</td>\n      <td>Sunday</td>\n      <td>16:25</td>\n      <td>-112.0</td>\n      <td>-108.0</td>\n      <td>6</td>\n      <td>7</td>\n    </tr>\n  </tbody>\n</table>\n</div>"
     },
     "execution_count": 141,
     "metadata": {},
     "output_type": "execute_result"
    }
   ],
   "source": [
    "# Encode year month and day from gameday using isoformat\n",
    "game_df['gameday'] = pd.to_datetime(game_df['gameday'])\n",
    "\n",
    "game_df['year'] = game_df['gameday'].dt.year\n",
    "game_df['month'] = game_df['gameday'].dt.month\n",
    "game_df['day'] = game_df['gameday'].dt.day\n",
    "\n",
    "game_df['game_alt_id'] = game_df['home_team'] + '_' + game_df['away_team'] + '_' + game_df['year'].astype(str) + '_' + game_df['month'].astype(str).str.zfill(2) + '_' + game_df['day'].astype(str).str.zfill(2)\n",
    "    \n",
    "game_df.drop(['year','month','day'], axis=1, inplace=True)\n",
    "\n",
    "# Create game_id lookup table (joined with QBR table)\n",
    "game_df = game_df[['game_id','game_alt_id','gameday','weekday','gametime','under_odds','over_odds','away_rest','home_rest']]\n",
    "\n",
    "game_df.sample(2)"
   ]
  },
  {
   "cell_type": "markdown",
   "id": "b1c077dd",
   "metadata": {
    "pycharm": {
     "name": "#%% md\n"
    }
   },
   "source": [
    "## NFL QBR DATA"
   ]
  },
  {
   "cell_type": "code",
   "execution_count": 142,
   "id": "19302f2d",
   "metadata": {
    "pycharm": {
     "name": "#%%\n"
    },
    "ExecuteTime": {
     "end_time": "2024-01-15T04:58:46.392959Z",
     "start_time": "2024-01-15T04:58:45.160124Z"
    }
   },
   "outputs": [
    {
     "data": {
      "text/plain": "(1112, 30)"
     },
     "execution_count": 142,
     "metadata": {},
     "output_type": "execute_result"
    }
   ],
   "source": [
    "qbr_data = nfl.import_qbr(years=seasons, level='nfl', frequency='weekly')\n",
    "\n",
    "# Clean dataframe using nfl-data-api cleaning function\n",
    "qbr_df = nfl.clean_nfl_data(qbr_data)\n",
    "\n",
    "qbr_df.shape"
   ]
  },
  {
   "cell_type": "code",
   "execution_count": 143,
   "outputs": [
    {
     "data": {
      "text/plain": "      season season_type    game_id  game_week week_text team_abb  player_id  \\\n8526    2022     Regular  401437740          3    Week 3      NYJ      11252   \n9082    2023     Regular  401547439          3    Week 3       LV      16760   \n\n        name_short  rank  qbr_total  ...  name_last     name_display  \\\n8526     J. Flacco  27.0       18.2  ...     Flacco       Joe Flacco   \n9082  J. Garoppolo  22.0       41.8  ...  Garoppolo  Jimmy Garoppolo   \n\n                                          headshot_href     team  opp_id  \\\n8526  https://a.espncdn.com/i/headshots/nfl/players/...     Jets       4   \n9082  https://a.espncdn.com/i/headshots/nfl/players/...  Raiders      23   \n\n      opp_abb             opp_team  opp_name  week_num qualified  \n8526      CIN   Cincinnati Bengals   Bengals         3      True  \n9082      PIT  Pittsburgh Steelers  Steelers         3      True  \n\n[2 rows x 30 columns]",
      "text/html": "<div>\n<style scoped>\n    .dataframe tbody tr th:only-of-type {\n        vertical-align: middle;\n    }\n\n    .dataframe tbody tr th {\n        vertical-align: top;\n    }\n\n    .dataframe thead th {\n        text-align: right;\n    }\n</style>\n<table border=\"1\" class=\"dataframe\">\n  <thead>\n    <tr style=\"text-align: right;\">\n      <th></th>\n      <th>season</th>\n      <th>season_type</th>\n      <th>game_id</th>\n      <th>game_week</th>\n      <th>week_text</th>\n      <th>team_abb</th>\n      <th>player_id</th>\n      <th>name_short</th>\n      <th>rank</th>\n      <th>qbr_total</th>\n      <th>...</th>\n      <th>name_last</th>\n      <th>name_display</th>\n      <th>headshot_href</th>\n      <th>team</th>\n      <th>opp_id</th>\n      <th>opp_abb</th>\n      <th>opp_team</th>\n      <th>opp_name</th>\n      <th>week_num</th>\n      <th>qualified</th>\n    </tr>\n  </thead>\n  <tbody>\n    <tr>\n      <th>8526</th>\n      <td>2022</td>\n      <td>Regular</td>\n      <td>401437740</td>\n      <td>3</td>\n      <td>Week 3</td>\n      <td>NYJ</td>\n      <td>11252</td>\n      <td>J. Flacco</td>\n      <td>27.0</td>\n      <td>18.2</td>\n      <td>...</td>\n      <td>Flacco</td>\n      <td>Joe Flacco</td>\n      <td>https://a.espncdn.com/i/headshots/nfl/players/...</td>\n      <td>Jets</td>\n      <td>4</td>\n      <td>CIN</td>\n      <td>Cincinnati Bengals</td>\n      <td>Bengals</td>\n      <td>3</td>\n      <td>True</td>\n    </tr>\n    <tr>\n      <th>9082</th>\n      <td>2023</td>\n      <td>Regular</td>\n      <td>401547439</td>\n      <td>3</td>\n      <td>Week 3</td>\n      <td>LV</td>\n      <td>16760</td>\n      <td>J. Garoppolo</td>\n      <td>22.0</td>\n      <td>41.8</td>\n      <td>...</td>\n      <td>Garoppolo</td>\n      <td>Jimmy Garoppolo</td>\n      <td>https://a.espncdn.com/i/headshots/nfl/players/...</td>\n      <td>Raiders</td>\n      <td>23</td>\n      <td>PIT</td>\n      <td>Pittsburgh Steelers</td>\n      <td>Steelers</td>\n      <td>3</td>\n      <td>True</td>\n    </tr>\n  </tbody>\n</table>\n<p>2 rows × 30 columns</p>\n</div>"
     },
     "execution_count": 143,
     "metadata": {},
     "output_type": "execute_result"
    }
   ],
   "source": [
    "qbr_df.sample(2)"
   ],
   "metadata": {
    "collapsed": false,
    "ExecuteTime": {
     "end_time": "2024-01-15T04:58:46.484217Z",
     "start_time": "2024-01-15T04:58:45.614942Z"
    }
   },
   "id": "51e38494c0112001"
  },
  {
   "cell_type": "raw",
   "source": [
    "# Filter missing game_alt_id values\n",
    "qbr_df = qbr_df.loc[~(qbr_df['game_alt_id'].isnull())]\n",
    "\n",
    "qbr_df.shape"
   ],
   "metadata": {
    "collapsed": false
   },
   "id": "3b96201b23ce3263"
  },
  {
   "cell_type": "code",
   "execution_count": 144,
   "outputs": [
    {
     "data": {
      "text/plain": "(1112, 22)"
     },
     "execution_count": 144,
     "metadata": {},
     "output_type": "execute_result"
    }
   ],
   "source": [
    "# Rename columns\n",
    "qbr_df = qbr_df.rename(columns={'team_abb':'posteam', 'opp_abb':'defteam'})\n",
    "\n",
    "# Drop column\n",
    "# qbr_df.drop(['game_id'], axis=1, inplace=True)\n",
    "\n",
    "# Rename columns\n",
    "qbr_df = qbr_df.rename(columns={'qb_plays': 'plays'})\n",
    "\n",
    "# Create sequential week column\n",
    "qbr_df['week'] = np.where((qbr_df['season'] < 2021) & (qbr_df['season_type'] == 'Playoffs'), (17 + qbr_df['game_week']),\n",
    "                 np.where((qbr_df['season'] >= 2021) & (qbr_df['season_type'] == 'Playoffs'), (18 + qbr_df['game_week']),\n",
    "                 qbr_df['game_week']))\n",
    "\n",
    "# Modify team codes to match schedule\n",
    "qbr_df['posteam'] = np.where(qbr_df['posteam'] == 'OAK', 'LV', qbr_df['posteam'])\n",
    "qbr_df['defteam'] = np.where(qbr_df['defteam'] == 'OAK', 'LV', qbr_df['defteam'])\n",
    "qbr_df['posteam'] = np.where(qbr_df['posteam'] == 'LAR', 'LA', qbr_df['posteam'])\n",
    "qbr_df['defteam'] = np.where(qbr_df['defteam'] == 'LAR', 'LA', qbr_df['defteam'])\n",
    "qbr_df['posteam'] = np.where(qbr_df['posteam'] == 'WSH', 'WAS', qbr_df['posteam'])\n",
    "qbr_df['defteam'] = np.where(qbr_df['defteam'] == 'WSH', 'WAS', qbr_df['defteam'])\n",
    "\n",
    "# Impute incorrect values\n",
    "qbr_df['week'] = np.where((qbr_df['season'] == 2018) & (qbr_df['posteam'] == 'LV') & (qbr_df['defteam'] == 'BAL') & (qbr_df['week'] == 1), 12, qbr_df['week'])\n",
    "qbr_df['week'] = np.where((qbr_df['season'] == 2018) & (qbr_df['posteam'] == 'BAL') & (qbr_df['defteam'] == 'LV') & (qbr_df['week'] == 1), 12, qbr_df['week'])\n",
    "qbr_df['defteam'] = np.where((qbr_df['season'] == 2018) & (qbr_df['posteam'] == 'LV') & (qbr_df['defteam'] == 'CHI') & (qbr_df['week'] == 9), 'SF', qbr_df['defteam'])\n",
    "qbr_df['defteam'] = np.where((qbr_df['season'] == 2018) & (qbr_df['posteam'] == 'CHI') & (qbr_df['defteam'] == 'LV') & (qbr_df['week'] == 9), 'SF', qbr_df['defteam'])\n",
    "\n",
    "# Create both combinations of game_id\n",
    "qbr_df['game_id_1'] = qbr_df['season'].astype(str) + '_' + qbr_df['week'].astype(str).str.zfill(2) + '_' + qbr_df['posteam'] + '_' + qbr_df['defteam']\n",
    "qbr_df['game_id_2'] = qbr_df['season'].astype(str) + '_' + qbr_df['week'].astype(str).str.zfill(2) + '_' + qbr_df['defteam'] + '_' + qbr_df['posteam']\n",
    "\n",
    "# Reduce dataframe dimensions\n",
    "qbr_df = qbr_df[['game_id_1','game_id_2','season','week','posteam','rank','pts_added','plays','qbr_raw','qbr_total','exp_sack','sack','pass','run']]\n",
    "\n",
    "# Merge with schedule dataframe to get game_id\n",
    "qbr_df = pd.merge(qbr_df, game_df, how='left', left_on=['game_id_1'], right_on = ['game_id'])\n",
    "qbr_df = qbr_df.rename(columns={'game_id':'game_id1',\n",
    "                                'game_alt_id':'game_alt_id1',\n",
    "                                'gameday':'gameday1',\n",
    "                                'weekday':'weekday1',\n",
    "                                'gametime':'gametime1',\n",
    "                                'under_odds':'under_odds1',\n",
    "                                'over_odds':'over_odds1',\n",
    "                                'away_rest':'away_rest1',\n",
    "                                'home_rest':'home_rest1',\n",
    "                                })\n",
    "\n",
    "qbr_df = pd.merge(qbr_df, game_df, how='left', left_on=['game_id_2'], right_on = ['game_id'])\n",
    "qbr_df = qbr_df.rename(columns={'game_id':'game_id2',\n",
    "                                'game_alt_id':'game_alt_id2',\n",
    "                                'gameday':'gameday2',\n",
    "                                'weekday':'weekday2',\n",
    "                                'gametime':'gametime2',\n",
    "                                'under_odds':'under_odds2',\n",
    "                                'over_odds':'over_odds2',\n",
    "                                'away_rest':'away_rest2',\n",
    "                                'home_rest':'home_rest2',\n",
    "                                })\n",
    "\n",
    "# Combine columns\n",
    "qbr_df['game_id'] = np.where(qbr_df['game_id1'].isnull(), qbr_df['game_id2'], qbr_df['game_id1'])\n",
    "#qbr_df['game_alt_id'] = np.where(qbr_df['game_alt_id1'].isnull(), qbr_df['game_alt_id2'], qbr_df['game_alt_id1'])\n",
    "qbr_df['gameday'] = np.where(qbr_df['gameday1'].isnull(), qbr_df['gameday2'], qbr_df['gameday1'])\n",
    "qbr_df['weekday'] = np.where(qbr_df['weekday1'].isnull(), qbr_df['weekday2'], qbr_df['weekday1'])\n",
    "\n",
    "qbr_df['gametime'] = np.where(qbr_df['gametime1'].isnull(), qbr_df['gametime2'], qbr_df['gametime1'])\n",
    "qbr_df['under_odds'] = np.where(qbr_df['under_odds1'].isnull(), qbr_df['under_odds2'], qbr_df['under_odds1'])\n",
    "qbr_df['over_odds'] = np.where(qbr_df['over_odds1'].isnull(), qbr_df['over_odds2'], qbr_df['over_odds1'])\n",
    "qbr_df['away_rest'] = np.where(qbr_df['away_rest1'].isnull(), qbr_df['away_rest2'], qbr_df['away_rest1'])\n",
    "qbr_df['home_rest'] = np.where(qbr_df['home_rest1'].isnull(), qbr_df['home_rest2'], qbr_df['home_rest1'])\n",
    "\n",
    "qbr_df['game_id'].fillna('NULL', inplace = True)\n",
    "\n",
    "qbr_df.drop(['game_id_1','game_id_2','game_id1','game_id2','gameday1','gameday2','weekday1','weekday2','gametime1','gametime2','under_odds1','under_odds2','over_odds1','over_odds2','away_rest1','away_rest2','home_rest1','home_rest2'], axis=1, inplace=True) # 'game_alt_id1','game_alt_id2',\n",
    "\n",
    "qbr_df.shape"
   ],
   "metadata": {
    "pycharm": {
     "name": "#%%\n"
    },
    "ExecuteTime": {
     "end_time": "2024-01-15T04:58:46.660686Z",
     "start_time": "2024-01-15T04:58:45.641625Z"
    }
   },
   "id": "47fe0094"
  },
  {
   "cell_type": "code",
   "execution_count": 145,
   "id": "54ea3a71",
   "metadata": {
    "pycharm": {
     "name": "#%%\n"
    },
    "ExecuteTime": {
     "end_time": "2024-01-15T04:58:46.757908Z",
     "start_time": "2024-01-15T04:58:45.699368Z"
    }
   },
   "outputs": [
    {
     "data": {
      "text/plain": "(1085, 22)"
     },
     "execution_count": 145,
     "metadata": {},
     "output_type": "execute_result"
    }
   ],
   "source": [
    "# Sort dataframe and drop quarterback with fewer passes during week\n",
    "qbr_df = qbr_df.sort_values(by=['season','posteam','week','plays'], ascending=True)\n",
    "\n",
    "qbr_df = qbr_df.drop_duplicates(['season','posteam','week'], keep='last')\n",
    "\n",
    "qbr_df.shape"
   ]
  },
  {
   "cell_type": "code",
   "execution_count": 146,
   "id": "daf990b3",
   "metadata": {
    "pycharm": {
     "name": "#%%\n"
    },
    "ExecuteTime": {
     "end_time": "2024-01-15T04:58:46.860301Z",
     "start_time": "2024-01-15T04:58:45.721838Z"
    }
   },
   "outputs": [],
   "source": [
    "# Create rolling average of quarterback statistics\n",
    "qbr_df['qb_rank'] = qbr_df.groupby(['season',\n",
    "                                    'posteam'])['rank'].transform(lambda x: x.rolling(window=rolling_game_window,\n",
    "                                                                                      min_periods=1,\n",
    "                                                                                      closed='left',\n",
    "                                                                                      center=False).mean())\n",
    "\n",
    "qbr_df['qb_pts'] = qbr_df.groupby(['season',\n",
    "                                    'posteam'])['pts_added'].transform(lambda x: x.rolling(window=rolling_game_window,\n",
    "                                                                                      min_periods=1,\n",
    "                                                                                      closed='left',\n",
    "                                                                                      center=False).mean())\n",
    "\n",
    "qbr_df['qb_plays'] = qbr_df.groupby(['season',\n",
    "                                    'posteam'])['plays'].transform(lambda x: x.rolling(window=rolling_game_window,\n",
    "                                                                                      min_periods=1,\n",
    "                                                                                      closed='left',\n",
    "                                                                                      center=False).mean())\n",
    "qbr_df['qb_qbr_raw'] = qbr_df.groupby(['season',\n",
    "                                    'posteam'])['qbr_raw'].transform(lambda x: x.rolling(window=rolling_game_window,\n",
    "                                                                                      min_periods=1,\n",
    "                                                                                      closed='left',\n",
    "                                                                                      center=False).mean())\n",
    "qbr_df['qb_qbr'] = qbr_df.groupby(['season',\n",
    "                                    'posteam'])['qbr_total'].transform(lambda x: x.rolling(window=rolling_game_window,\n",
    "                                                                                      min_periods=1,\n",
    "                                                                                      closed='left',\n",
    "                                                                                      center=False).mean())\n",
    "# qbr_df['qb_sack'] = qbr_df.groupby(['season',\n",
    "#                                     'posteam'])['sack'].transform(lambda x: x.rolling(window=rolling_game_window,\n",
    "#                                                                                       min_periods=1,\n",
    "#                                                                                       closed='left',\n",
    "#                                                                                       center=False).mean())\n",
    "# qbr_df['qb_exp_sack'] = qbr_df.groupby(['season',\n",
    "#                                     'posteam'])['exp_sack'].transform(lambda x: x.rolling(window=rolling_game_window,\n",
    "#                                                                                       min_periods=1,\n",
    "#                                                                                       closed='left',\n",
    "#                                                                                       center=False).mean())\n",
    "qbr_df['qb_pass'] = qbr_df.groupby(['season',\n",
    "                                    'posteam'])['pass'].transform(lambda x: x.rolling(window=rolling_game_window,\n",
    "                                                                                      min_periods=1,\n",
    "                                                                                      closed='left',\n",
    "                                                                                      center=False).mean())\n",
    "qbr_df['qb_run'] = qbr_df.groupby(['season',\n",
    "                                    'posteam'])['run'].transform(lambda x: x.rolling(window=rolling_game_window,\n",
    "                                                                                      min_periods=1,\n",
    "                                                                                      closed='left',\n",
    "                                                                                      center=False).mean())\n",
    "\n",
    "# Sort dataframe by gameday and posteam\n",
    "qbr_df = qbr_df.sort_values(by=['gameday','posteam'], ascending=True)\n",
    "\n",
    "# Print column names\n",
    "qbr_df.drop(['game_id','season','week','rank','pts_added','plays','qbr_raw','qbr_total','exp_sack','sack','pass','run','gameday','weekday','gametime','under_odds','over_odds','away_rest','home_rest'],  axis=1, inplace=True)"
   ]
  },
  {
   "cell_type": "code",
   "execution_count": 147,
   "id": "085bae1d",
   "metadata": {
    "pycharm": {
     "name": "#%%\n"
    },
    "ExecuteTime": {
     "end_time": "2024-01-15T04:58:47.050939Z",
     "start_time": "2024-01-15T04:58:45.890539Z"
    }
   },
   "outputs": [
    {
     "data": {
      "text/plain": "(1085, 10)"
     },
     "execution_count": 147,
     "metadata": {},
     "output_type": "execute_result"
    }
   ],
   "source": [
    "# Impute missing data with median values\n",
    "qbr_df['qb_rank'] = qbr_df['qb_rank'].fillna(qbr_df.qb_rank.median())\n",
    "qbr_df['qb_pts'] = qbr_df['qb_pts'].fillna(qbr_df.qb_pts.median())\n",
    "qbr_df['qb_plays'] = qbr_df['qb_plays'].fillna(qbr_df.qb_plays.median())\n",
    "qbr_df['qb_qbr_raw'] = qbr_df['qb_qbr_raw'].fillna(qbr_df.qb_qbr_raw.median())\n",
    "qbr_df['qb_qbr'] = qbr_df['qb_qbr'].fillna(qbr_df.qb_qbr.median())\n",
    "# qbr_df['qb_sack'] = qbr_df['qb_sack'].fillna(qbr_df.qb_sack.median())\n",
    "# qbr_df['qb_exp_sack'] = qbr_df['qb_exp_sack'].fillna(qbr_df.qb_exp_sack.median())\n",
    "qbr_df['qb_pass'] = qbr_df['qb_pass'].fillna(qbr_df.qb_pass.median())\n",
    "qbr_df['qb_run'] = qbr_df['qb_run'].fillna(qbr_df.qb_run.median())\n",
    "\n",
    "qbr_df.shape"
   ]
  },
  {
   "cell_type": "code",
   "execution_count": 148,
   "id": "f45aa49c",
   "metadata": {
    "pycharm": {
     "name": "#%%\n"
    },
    "ExecuteTime": {
     "end_time": "2024-01-15T04:58:47.244950Z",
     "start_time": "2024-01-15T04:58:45.905545Z"
    }
   },
   "outputs": [
    {
     "name": "stdout",
     "output_type": "stream",
     "text": [
      "team count: 32\n"
     ]
    }
   ],
   "source": [
    "print('team count:', qbr_df.posteam.nunique())"
   ]
  },
  {
   "cell_type": "code",
   "execution_count": 149,
   "id": "0cf35ea9",
   "metadata": {
    "pycharm": {
     "name": "#%%\n"
    },
    "ExecuteTime": {
     "end_time": "2024-01-15T04:58:47.421957Z",
     "start_time": "2024-01-15T04:58:45.920725Z"
    }
   },
   "outputs": [
    {
     "data": {
      "text/plain": "   posteam       game_alt_id1       game_alt_id2  qb_rank  qb_pts  qb_plays  \\\n1      BUF  LA_BUF_2022_09_08                NaN    15.75     0.2      41.5   \n26      LA                NaN  LA_BUF_2022_09_08    15.75     0.2      41.5   \n14     ARI                NaN  ARI_KC_2022_09_11    15.75     0.2      41.5   \n\n    qb_qbr_raw  qb_qbr  qb_pass  qb_run  \n1         52.1   52.25    3.025   0.375  \n26        52.1   52.25    3.025   0.375  \n14        52.1   52.25    3.025   0.375  ",
      "text/html": "<div>\n<style scoped>\n    .dataframe tbody tr th:only-of-type {\n        vertical-align: middle;\n    }\n\n    .dataframe tbody tr th {\n        vertical-align: top;\n    }\n\n    .dataframe thead th {\n        text-align: right;\n    }\n</style>\n<table border=\"1\" class=\"dataframe\">\n  <thead>\n    <tr style=\"text-align: right;\">\n      <th></th>\n      <th>posteam</th>\n      <th>game_alt_id1</th>\n      <th>game_alt_id2</th>\n      <th>qb_rank</th>\n      <th>qb_pts</th>\n      <th>qb_plays</th>\n      <th>qb_qbr_raw</th>\n      <th>qb_qbr</th>\n      <th>qb_pass</th>\n      <th>qb_run</th>\n    </tr>\n  </thead>\n  <tbody>\n    <tr>\n      <th>1</th>\n      <td>BUF</td>\n      <td>LA_BUF_2022_09_08</td>\n      <td>NaN</td>\n      <td>15.75</td>\n      <td>0.2</td>\n      <td>41.5</td>\n      <td>52.1</td>\n      <td>52.25</td>\n      <td>3.025</td>\n      <td>0.375</td>\n    </tr>\n    <tr>\n      <th>26</th>\n      <td>LA</td>\n      <td>NaN</td>\n      <td>LA_BUF_2022_09_08</td>\n      <td>15.75</td>\n      <td>0.2</td>\n      <td>41.5</td>\n      <td>52.1</td>\n      <td>52.25</td>\n      <td>3.025</td>\n      <td>0.375</td>\n    </tr>\n    <tr>\n      <th>14</th>\n      <td>ARI</td>\n      <td>NaN</td>\n      <td>ARI_KC_2022_09_11</td>\n      <td>15.75</td>\n      <td>0.2</td>\n      <td>41.5</td>\n      <td>52.1</td>\n      <td>52.25</td>\n      <td>3.025</td>\n      <td>0.375</td>\n    </tr>\n  </tbody>\n</table>\n</div>"
     },
     "execution_count": 149,
     "metadata": {},
     "output_type": "execute_result"
    }
   ],
   "source": [
    "qbr_df.head(3)"
   ]
  },
  {
   "cell_type": "markdown",
   "id": "de726bb7",
   "metadata": {
    "pycharm": {
     "name": "#%% md\n"
    }
   },
   "source": [
    "## NFL GAME ROSTERS"
   ]
  },
  {
   "cell_type": "raw",
   "source": [
    "gr_data = nfl.import_rosters(years=seasons)\n",
    "\n",
    "# Clean dataframe using nfl-data-api cleaning function\n",
    "gr_df = nfl.clean_nfl_data(gr_data)\n",
    "\n",
    "gr_df.shape"
   ],
   "metadata": {
    "collapsed": false
   },
   "id": "b41fdc447488efed"
  },
  {
   "cell_type": "raw",
   "source": [
    "print('team count:', gr_df.team.nunique())"
   ],
   "metadata": {
    "collapsed": false
   },
   "id": "b7c1096c1dfb4507"
  },
  {
   "cell_type": "raw",
   "source": [
    "# Impute missing height with median by position\n",
    "gr_df['height'] = gr_df.groupby(['position'])['height'].transform(lambda x: x.fillna(x.median()))\n",
    "gr_df['weight'] = gr_df.groupby(['position'])['weight'].transform(lambda x: x.fillna(x.median()))\n",
    "\n",
    "gr_df['weight'] = gr_df['weight'].astype(np.int64)\n",
    "\n",
    "gr_df.sample(1)"
   ],
   "metadata": {
    "collapsed": false
   },
   "id": "4238dd92d119204b"
  },
  {
   "cell_type": "markdown",
   "id": "0573d5d5",
   "metadata": {
    "pycharm": {
     "name": "#%% md\n"
    }
   },
   "source": [
    "## NFL DEPTH CHART DATA"
   ]
  },
  {
   "cell_type": "raw",
   "source": [
    "dc_data = nfl.import_depth_charts(years=seasons)\n",
    "\n",
    "# Clean dataframe using nfl-data-api cleaning function\n",
    "dc_df = nfl.clean_nfl_data(dc_data)\n",
    "\n",
    "# season + week + away team + home team\n",
    "dc_df['season_week_team'] = dc_df['season'].astype(np.int64).astype(str) + '_' + dc_df['week'].astype(np.int64).astype(str).str.zfill(2) + '_' + dc_df.club_code.astype(str)\n",
    "\n",
    "dc_df.shape"
   ],
   "metadata": {
    "collapsed": false
   },
   "id": "b6a047cbf3a51f1"
  },
  {
   "cell_type": "raw",
   "source": [
    "print('team count:', dc_df.club_code.nunique())"
   ],
   "metadata": {
    "collapsed": false
   },
   "id": "aa2bdc0182473da4"
  },
  {
   "cell_type": "raw",
   "source": [
    "dc_df.sample(1)"
   ],
   "metadata": {
    "collapsed": false
   },
   "id": "bc53cd3511312f42"
  },
  {
   "cell_type": "markdown",
   "id": "63788128",
   "metadata": {
    "pycharm": {
     "name": "#%% md\n"
    }
   },
   "source": [
    "## NFL SNAP COUNT DATA"
   ]
  },
  {
   "cell_type": "code",
   "execution_count": 150,
   "id": "3fcedae1",
   "metadata": {
    "pycharm": {
     "name": "#%%\n"
    },
    "ExecuteTime": {
     "end_time": "2024-01-15T04:58:48.249557Z",
     "start_time": "2024-01-15T04:58:45.931459Z"
    }
   },
   "outputs": [
    {
     "data": {
      "text/plain": "(51830, 16)"
     },
     "execution_count": 150,
     "metadata": {},
     "output_type": "execute_result"
    }
   ],
   "source": [
    "sc_data = nfl.import_snap_counts(years=seasons)\n",
    "\n",
    "# Clean dataframe using nfl-data-api cleaning function\n",
    "sc_df = nfl.clean_nfl_data(sc_data)\n",
    "\n",
    "sc_df.shape"
   ]
  },
  {
   "cell_type": "code",
   "execution_count": 151,
   "id": "ce93d9d6",
   "metadata": {
    "pycharm": {
     "name": "#%%\n"
    },
    "ExecuteTime": {
     "end_time": "2024-01-15T04:58:48.430460Z",
     "start_time": "2024-01-15T04:58:47.194228Z"
    }
   },
   "outputs": [
    {
     "name": "stdout",
     "output_type": "stream",
     "text": [
      "team count: 32\n"
     ]
    }
   ],
   "source": [
    "print('team count:', sc_df.team.nunique())"
   ]
  },
  {
   "cell_type": "code",
   "execution_count": 152,
   "id": "0a2453c9",
   "metadata": {
    "pycharm": {
     "name": "#%%\n"
    },
    "ExecuteTime": {
     "end_time": "2024-01-15T04:58:48.610257Z",
     "start_time": "2024-01-15T04:58:47.206405Z"
    }
   },
   "outputs": [
    {
     "data": {
      "text/plain": "               game_id   pfr_game_id  season game_type  week          player  \\\n20173  2022_15_MIA_BUF  202212170buf    2022       REG    15    Jerome Baker   \n18721  2022_14_MIA_LAC  202212110sdg    2022       REG    14  DeAndre Carter   \n\n      pfr_player_id position team opponent  offense_snaps  offense_pct  \\\n20173      BakeJe00       LB  MIA      BUF            0.0         0.00   \n18721      CartDe02       WR  LAC      MIA           12.0         0.15   \n\n       defense_snaps  defense_pct  st_snaps  st_pct  \n20173           69.0         0.88       0.0    0.00  \n18721            0.0         0.00      11.0    0.38  ",
      "text/html": "<div>\n<style scoped>\n    .dataframe tbody tr th:only-of-type {\n        vertical-align: middle;\n    }\n\n    .dataframe tbody tr th {\n        vertical-align: top;\n    }\n\n    .dataframe thead th {\n        text-align: right;\n    }\n</style>\n<table border=\"1\" class=\"dataframe\">\n  <thead>\n    <tr style=\"text-align: right;\">\n      <th></th>\n      <th>game_id</th>\n      <th>pfr_game_id</th>\n      <th>season</th>\n      <th>game_type</th>\n      <th>week</th>\n      <th>player</th>\n      <th>pfr_player_id</th>\n      <th>position</th>\n      <th>team</th>\n      <th>opponent</th>\n      <th>offense_snaps</th>\n      <th>offense_pct</th>\n      <th>defense_snaps</th>\n      <th>defense_pct</th>\n      <th>st_snaps</th>\n      <th>st_pct</th>\n    </tr>\n  </thead>\n  <tbody>\n    <tr>\n      <th>20173</th>\n      <td>2022_15_MIA_BUF</td>\n      <td>202212170buf</td>\n      <td>2022</td>\n      <td>REG</td>\n      <td>15</td>\n      <td>Jerome Baker</td>\n      <td>BakeJe00</td>\n      <td>LB</td>\n      <td>MIA</td>\n      <td>BUF</td>\n      <td>0.0</td>\n      <td>0.00</td>\n      <td>69.0</td>\n      <td>0.88</td>\n      <td>0.0</td>\n      <td>0.00</td>\n    </tr>\n    <tr>\n      <th>18721</th>\n      <td>2022_14_MIA_LAC</td>\n      <td>202212110sdg</td>\n      <td>2022</td>\n      <td>REG</td>\n      <td>14</td>\n      <td>DeAndre Carter</td>\n      <td>CartDe02</td>\n      <td>WR</td>\n      <td>LAC</td>\n      <td>MIA</td>\n      <td>12.0</td>\n      <td>0.15</td>\n      <td>0.0</td>\n      <td>0.00</td>\n      <td>11.0</td>\n      <td>0.38</td>\n    </tr>\n  </tbody>\n</table>\n</div>"
     },
     "execution_count": 152,
     "metadata": {},
     "output_type": "execute_result"
    }
   ],
   "source": [
    "sc_df.sample(2)"
   ]
  },
  {
   "cell_type": "markdown",
   "id": "d0cc139e",
   "metadata": {
    "pycharm": {
     "name": "#%% md\n"
    }
   },
   "source": [
    "## NFL COMBINE DATA"
   ]
  },
  {
   "cell_type": "code",
   "execution_count": 153,
   "id": "199caa44",
   "metadata": {
    "pycharm": {
     "name": "#%%\n"
    },
    "ExecuteTime": {
     "end_time": "2024-01-15T04:58:49.002572Z",
     "start_time": "2024-01-15T04:58:47.229254Z"
    }
   },
   "outputs": [
    {
     "data": {
      "text/plain": "(7999, 18)"
     },
     "execution_count": 153,
     "metadata": {},
     "output_type": "execute_result"
    }
   ],
   "source": [
    "co_data = nfl.import_combine_data(years=draft_years)\n",
    "\n",
    "# Clean dataframe using nfl-data-api cleaning function\n",
    "co_df = nfl.clean_nfl_data(co_data)\n",
    "\n",
    "co_df.shape"
   ]
  },
  {
   "cell_type": "code",
   "execution_count": 154,
   "id": "8188f7e2",
   "metadata": {
    "pycharm": {
     "name": "#%%\n"
    },
    "ExecuteTime": {
     "end_time": "2024-01-15T04:58:49.091613Z",
     "start_time": "2024-01-15T04:58:47.750095Z"
    }
   },
   "outputs": [
    {
     "data": {
      "text/plain": "(6606, 13)"
     },
     "execution_count": 154,
     "metadata": {},
     "output_type": "execute_result"
    }
   ],
   "source": [
    "co_df['pfr_id'].fillna('NULL', inplace = True)\n",
    "co_df = co_df.loc[co_df['pfr_id'] != 'NULL']\n",
    "\n",
    "co_df = co_df.rename(columns={'pfr_id':'pfr_player_id',\n",
    "                              'season':'combine',\n",
    "                              'player_name':'comb_name',\n",
    "                              'school':'comb_school',\n",
    "                              'ht':'comb_ht',\n",
    "                              'wt':'comb_wt',\n",
    "                              'pos':'comb_pos',\n",
    "                              'forty':'comb_forty',\n",
    "                              'bench':'comb_bench',\n",
    "                              'vertical':'comb_vert',\n",
    "                              'broad_jump':'comb_broad',\n",
    "                              'cone':'comb_cone',\n",
    "                              'shuttle':'comb_shut',\n",
    "                              })\n",
    "\n",
    "co_df.drop(['draft_year','draft_team','draft_round','draft_ovr','cfb_id'], axis=1, inplace=True)\n",
    "\n",
    "co_df.shape"
   ]
  },
  {
   "cell_type": "code",
   "execution_count": 155,
   "id": "3f730caf",
   "metadata": {
    "pycharm": {
     "name": "#%%\n"
    },
    "ExecuteTime": {
     "end_time": "2024-01-15T04:58:49.489480Z",
     "start_time": "2024-01-15T04:58:47.776837Z"
    }
   },
   "outputs": [],
   "source": [
    "# Convert height to inches\n",
    "co_df['comb_ht'].fillna('NULL', inplace = True)\n",
    "co_df['comb_ht'] = np.where(co_df['comb_ht'] == 'NULL', '0-0', co_df['comb_ht'])\n",
    "co_df['comb_ht'] = (co_df['comb_ht'].astype(str).str[0]).astype(float) * 12 + (co_df['comb_ht'].astype(str).str[2]).astype(float)"
   ]
  },
  {
   "cell_type": "code",
   "execution_count": 156,
   "id": "8181c857",
   "metadata": {
    "pycharm": {
     "name": "#%%\n"
    },
    "ExecuteTime": {
     "end_time": "2024-01-15T04:58:49.674744Z",
     "start_time": "2024-01-15T04:58:47.792038Z"
    }
   },
   "outputs": [
    {
     "data": {
      "text/plain": "      combine pfr_player_id     comb_name comb_pos comb_school  comb_ht  \\\n4565     2013      WoodRo02  Robert Woods       WR         USC     72.0   \n\n      comb_wt  comb_forty  comb_bench  comb_vert  comb_broad  comb_cone  \\\n4565    201.0        4.51        14.0       33.5       117.0       7.15   \n\n      comb_shut  \n4565       4.47  ",
      "text/html": "<div>\n<style scoped>\n    .dataframe tbody tr th:only-of-type {\n        vertical-align: middle;\n    }\n\n    .dataframe tbody tr th {\n        vertical-align: top;\n    }\n\n    .dataframe thead th {\n        text-align: right;\n    }\n</style>\n<table border=\"1\" class=\"dataframe\">\n  <thead>\n    <tr style=\"text-align: right;\">\n      <th></th>\n      <th>combine</th>\n      <th>pfr_player_id</th>\n      <th>comb_name</th>\n      <th>comb_pos</th>\n      <th>comb_school</th>\n      <th>comb_ht</th>\n      <th>comb_wt</th>\n      <th>comb_forty</th>\n      <th>comb_bench</th>\n      <th>comb_vert</th>\n      <th>comb_broad</th>\n      <th>comb_cone</th>\n      <th>comb_shut</th>\n    </tr>\n  </thead>\n  <tbody>\n    <tr>\n      <th>4565</th>\n      <td>2013</td>\n      <td>WoodRo02</td>\n      <td>Robert Woods</td>\n      <td>WR</td>\n      <td>USC</td>\n      <td>72.0</td>\n      <td>201.0</td>\n      <td>4.51</td>\n      <td>14.0</td>\n      <td>33.5</td>\n      <td>117.0</td>\n      <td>7.15</td>\n      <td>4.47</td>\n    </tr>\n  </tbody>\n</table>\n</div>"
     },
     "execution_count": 156,
     "metadata": {},
     "output_type": "execute_result"
    }
   ],
   "source": [
    "co_df.sample(1)"
   ]
  },
  {
   "cell_type": "markdown",
   "id": "4c845090",
   "metadata": {
    "pycharm": {
     "name": "#%% md\n"
    }
   },
   "source": [
    "## NFL DRAFT DATA"
   ]
  },
  {
   "cell_type": "code",
   "execution_count": 157,
   "id": "de2283b8",
   "metadata": {
    "pycharm": {
     "name": "#%%\n"
    },
    "ExecuteTime": {
     "end_time": "2024-01-15T04:58:49.917Z",
     "start_time": "2024-01-15T04:58:47.800795Z"
    }
   },
   "outputs": [
    {
     "data": {
      "text/plain": "(6130, 36)"
     },
     "execution_count": 157,
     "metadata": {},
     "output_type": "execute_result"
    }
   ],
   "source": [
    "dr_data = nfl.import_draft_picks(years=draft_years)\n",
    "\n",
    "# Clean dataframe using nfl-data-api cleaning function\n",
    "dr_df = nfl.clean_nfl_data(dr_data)\n",
    "\n",
    "dr_df.shape"
   ]
  },
  {
   "cell_type": "code",
   "execution_count": 158,
   "id": "9dc60448",
   "metadata": {
    "pycharm": {
     "name": "#%%\n"
    },
    "ExecuteTime": {
     "end_time": "2024-01-15T04:58:50.098585Z",
     "start_time": "2024-01-15T04:58:48.593260Z"
    }
   },
   "outputs": [
    {
     "name": "stdout",
     "output_type": "stream",
     "text": [
      "team count: 32\n"
     ]
    }
   ],
   "source": [
    "dr_df['team'] = np.where(dr_df['team'] == 'GNB', 'GB', dr_df['team'])\n",
    "dr_df['team'] = np.where(dr_df['team'] == 'KAN', 'KC', dr_df['team'])\n",
    "\n",
    "dr_df['team'] = np.where(dr_df['team'] == 'RAM', 'LA', dr_df['team'])\n",
    "dr_df['team'] = np.where(dr_df['team'] == 'STL', 'LA', dr_df['team'])\n",
    "\n",
    "dr_df['team'] = np.where(dr_df['team'] == 'SDG', 'LAC', dr_df['team'])\n",
    "\n",
    "dr_df['team'] = np.where(dr_df['team'] == 'RAI', 'LV', dr_df['team'])\n",
    "dr_df['team'] = np.where(dr_df['team'] == 'OAK', 'LV', dr_df['team'])\n",
    "dr_df['team'] = np.where(dr_df['team'] == 'LVR', 'LV', dr_df['team'])\n",
    "dr_df['team'] = np.where(dr_df['team'] == 'LAR', 'LV', dr_df['team'])\n",
    "\n",
    "dr_df['team'] = np.where(dr_df['team'] == 'NWE', 'NE', dr_df['team'])\n",
    "dr_df['team'] = np.where(dr_df['team'] == 'NOR', 'NO', dr_df['team'])\n",
    "\n",
    "dr_df['team'] = np.where(dr_df['team'] == 'SFO', 'SF', dr_df['team'])\n",
    "dr_df['team'] = np.where(dr_df['team'] == 'TAM', 'TB', dr_df['team'])\n",
    "\n",
    "print('team count:', dr_df.team.nunique())"
   ]
  },
  {
   "cell_type": "code",
   "execution_count": 159,
   "id": "1c1f849b",
   "metadata": {
    "pycharm": {
     "name": "#%%\n"
    },
    "ExecuteTime": {
     "end_time": "2024-01-15T04:58:50.191251Z",
     "start_time": "2024-01-15T04:58:48.624371Z"
    }
   },
   "outputs": [],
   "source": [
    "# Calculate years in the NFL\n",
    "dr_df['to'].fillna((dr_df['season']-1), inplace=True)\n",
    "\n",
    "dr_df['nfl_years'] = dr_df['to'] - dr_df['season'] + 1"
   ]
  },
  {
   "cell_type": "code",
   "execution_count": 160,
   "id": "4969379f",
   "metadata": {
    "pycharm": {
     "name": "#%%\n"
    },
    "ExecuteTime": {
     "end_time": "2024-01-15T04:58:50.280326Z",
     "start_time": "2024-01-15T04:58:48.633873Z"
    }
   },
   "outputs": [],
   "source": [
    "# Convert HOF to binary\n",
    "dr_df['hof'] = np.where(dr_df['hof'] == True, 1, 0)"
   ]
  },
  {
   "cell_type": "code",
   "execution_count": 161,
   "id": "bc8785b2",
   "metadata": {
    "pycharm": {
     "name": "#%%\n"
    },
    "ExecuteTime": {
     "end_time": "2024-01-15T04:58:50.458607Z",
     "start_time": "2024-01-15T04:58:48.646521Z"
    }
   },
   "outputs": [
    {
     "data": {
      "text/plain": "(5874, 17)"
     },
     "execution_count": 161,
     "metadata": {},
     "output_type": "execute_result"
    }
   ],
   "source": [
    "dr_df['pfr_player_id'].fillna('NULL', inplace = True)\n",
    "dr_df = dr_df.loc[dr_df['pfr_player_id'] != 'NULL']\n",
    "\n",
    "dr_df = dr_df.rename(columns={'season':'draft',\n",
    "                              'team':'draft_team',\n",
    "                              'pfr_player_name':'player_name',\n",
    "                              'probowls':'pro_bowls'})\n",
    "\n",
    "dr_df.drop(['cfb_player_id','gsis_id','w_av','car_av','dr_av','pass_attempts','pass_completions','pass_yards','pass_tds','pass_ints','rush_atts','rush_yards','rush_tds','receptions','rec_yards','rec_tds','def_solo_tackles','def_ints','def_sacks','to'], axis=1, inplace=True)\n",
    "\n",
    "dr_df.shape"
   ]
  },
  {
   "cell_type": "markdown",
   "id": "ac90fd5a",
   "metadata": {
    "pycharm": {
     "name": "#%% md\n"
    }
   },
   "source": [
    "## MERGE DRAFT AND COMBINE DATA"
   ]
  },
  {
   "cell_type": "code",
   "execution_count": 162,
   "id": "0fa5e61e",
   "metadata": {
    "pycharm": {
     "name": "#%%\n"
    },
    "ExecuteTime": {
     "end_time": "2024-01-15T04:58:50.640539Z",
     "start_time": "2024-01-15T04:58:48.662240Z"
    }
   },
   "outputs": [
    {
     "name": "stdout",
     "output_type": "stream",
     "text": [
      "combine records: 6606\n",
      "draft records: 5874\n"
     ]
    }
   ],
   "source": [
    "print('combine records:', co_df.shape[0])\n",
    "print('draft records:', dr_df.shape[0])"
   ]
  },
  {
   "cell_type": "code",
   "execution_count": 163,
   "id": "0a770d40",
   "metadata": {
    "pycharm": {
     "name": "#%%\n"
    },
    "ExecuteTime": {
     "end_time": "2024-01-15T04:58:50.834470Z",
     "start_time": "2024-01-15T04:58:48.676249Z"
    }
   },
   "outputs": [
    {
     "data": {
      "text/plain": "(4967, 29)"
     },
     "execution_count": 163,
     "metadata": {},
     "output_type": "execute_result"
    }
   ],
   "source": [
    "draft_df = pd.merge(dr_df, co_df, how='inner', left_on=['pfr_player_id'], right_on = ['pfr_player_id'])\n",
    "\n",
    "draft_df.shape"
   ]
  },
  {
   "cell_type": "code",
   "execution_count": 164,
   "id": "001fa09d",
   "metadata": {
    "pycharm": {
     "name": "#%%\n"
    },
    "ExecuteTime": {
     "end_time": "2024-01-15T04:58:51.007553Z",
     "start_time": "2024-01-15T04:58:48.697272Z"
    }
   },
   "outputs": [
    {
     "data": {
      "text/plain": "(4892, 29)"
     },
     "execution_count": 164,
     "metadata": {},
     "output_type": "execute_result"
    }
   ],
   "source": [
    "draft_df = draft_df.loc[(draft_df['category'] != 'P') & \n",
    "                        (draft_df['category'] != 'K') & \n",
    "                        (draft_df['category'] != 'LS')]\n",
    "\n",
    "draft_df.shape"
   ]
  },
  {
   "cell_type": "code",
   "execution_count": 165,
   "id": "3395b7f8",
   "metadata": {
    "pycharm": {
     "name": "#%%\n"
    },
    "ExecuteTime": {
     "end_time": "2024-01-15T04:58:51.102826Z",
     "start_time": "2024-01-15T04:58:48.715654Z"
    }
   },
   "outputs": [],
   "source": [
    "# Impute missing values\n",
    "draft_df['age'] = draft_df.age.fillna(draft_df.groupby('category').age.transform('median'))\n",
    "draft_df['comb_ht'] = draft_df.comb_ht.fillna(draft_df.groupby('category').comb_ht.transform('median'))\n",
    "draft_df['comb_wt'] = draft_df.comb_wt.fillna(draft_df.groupby('category').comb_wt.transform('median'))\n",
    "draft_df['comb_forty'] = draft_df.comb_forty.fillna(draft_df.groupby('category').comb_forty.transform('median'))\n",
    "draft_df['comb_bench'] = draft_df.comb_bench.fillna(draft_df.groupby('category').comb_bench.transform('median'))\n",
    "draft_df['comb_vert'] = draft_df.comb_vert.fillna(draft_df.groupby('category').comb_vert.transform('median'))\n",
    "draft_df['comb_broad'] = draft_df.comb_broad.fillna(draft_df.groupby('category').comb_broad.transform('median'))\n",
    "draft_df['comb_cone'] = draft_df.comb_cone.fillna(draft_df.groupby('category').comb_cone.transform('median'))\n",
    "draft_df['comb_shut'] = draft_df.comb_shut.fillna(draft_df.groupby('category').comb_shut.transform('median'))\n",
    "draft_df['games'].fillna(0, inplace = True)"
   ]
  },
  {
   "cell_type": "code",
   "execution_count": 166,
   "id": "7032dcf2",
   "metadata": {
    "pycharm": {
     "name": "#%%\n"
    },
    "ExecuteTime": {
     "end_time": "2024-01-15T04:58:51.278254Z",
     "start_time": "2024-01-15T04:58:48.744703Z"
    }
   },
   "outputs": [
    {
     "data": {
      "text/plain": "draft              0\nround              0\npick               0\ndraft_team         0\npfr_player_id      0\nplayer_name        0\nhof                0\nposition           0\ncategory           0\nside               0\ncollege            0\nage                0\nallpro             0\npro_bowls          0\nseasons_started    0\ngames              0\nnfl_years          0\ncombine            0\ncomb_name          0\ncomb_pos           0\ncomb_school        0\ncomb_ht            0\ncomb_wt            0\ncomb_forty         0\ncomb_bench         0\ncomb_vert          0\ncomb_broad         0\ncomb_cone          0\ncomb_shut          0\ndtype: int64"
     },
     "execution_count": 166,
     "metadata": {},
     "output_type": "execute_result"
    }
   ],
   "source": [
    "# Count missing data\n",
    "missing = draft_df.isnull().sum()\n",
    "missing"
   ]
  },
  {
   "cell_type": "code",
   "execution_count": 167,
   "id": "8a960ae6",
   "metadata": {
    "pycharm": {
     "name": "#%%\n"
    },
    "ExecuteTime": {
     "end_time": "2024-01-15T04:58:51.459778Z",
     "start_time": "2024-01-15T04:58:48.779448Z"
    }
   },
   "outputs": [
    {
     "data": {
      "text/plain": "      draft  round  pick draft_team pfr_player_id       player_name  hof  \\\n1255   2006      4   105        BUF      SimpKo20        Ko Simpson    0   \n4643   2017      3    90        SEA      GrifSh00  Shaquill Griffin    0   \n330    2001      6   176         KC      SulfAl20     Alex Sulfsted    0   \n2360   2011      6   197         GB      ElmoRi00      Ricky Elmore    0   \n904    2004      5   155        MIN      DaviRo21         Rod Davis    0   \n\n     position category side  ... comb_pos      comb_school  comb_ht  comb_wt  \\\n1255       DB       DB    D  ...        S   South Carolina     73.0    209.0   \n4643       DB       DB    D  ...       CB  Central Florida     72.0    194.0   \n330         T       OL    O  ...       OG       Miami (OH)     76.0    312.0   \n2360       DL       DL    D  ...       DE          Arizona     76.0    255.0   \n904        LB       LB    D  ...      ILB    Southern Miss     74.0    239.0   \n\n      comb_forty  comb_bench  comb_vert  comb_broad comb_cone comb_shut  \n1255        4.45        11.0       40.5       122.0      7.09      4.17  \n4643        4.38        17.0       38.5       132.0      6.87      4.14  \n330         5.30        26.0       30.5        96.0      7.77      4.70  \n2360        4.88        26.0       31.5       106.0      7.25      4.32  \n904         4.76        23.0       34.5       114.0      7.20      4.02  \n\n[5 rows x 29 columns]",
      "text/html": "<div>\n<style scoped>\n    .dataframe tbody tr th:only-of-type {\n        vertical-align: middle;\n    }\n\n    .dataframe tbody tr th {\n        vertical-align: top;\n    }\n\n    .dataframe thead th {\n        text-align: right;\n    }\n</style>\n<table border=\"1\" class=\"dataframe\">\n  <thead>\n    <tr style=\"text-align: right;\">\n      <th></th>\n      <th>draft</th>\n      <th>round</th>\n      <th>pick</th>\n      <th>draft_team</th>\n      <th>pfr_player_id</th>\n      <th>player_name</th>\n      <th>hof</th>\n      <th>position</th>\n      <th>category</th>\n      <th>side</th>\n      <th>...</th>\n      <th>comb_pos</th>\n      <th>comb_school</th>\n      <th>comb_ht</th>\n      <th>comb_wt</th>\n      <th>comb_forty</th>\n      <th>comb_bench</th>\n      <th>comb_vert</th>\n      <th>comb_broad</th>\n      <th>comb_cone</th>\n      <th>comb_shut</th>\n    </tr>\n  </thead>\n  <tbody>\n    <tr>\n      <th>1255</th>\n      <td>2006</td>\n      <td>4</td>\n      <td>105</td>\n      <td>BUF</td>\n      <td>SimpKo20</td>\n      <td>Ko Simpson</td>\n      <td>0</td>\n      <td>DB</td>\n      <td>DB</td>\n      <td>D</td>\n      <td>...</td>\n      <td>S</td>\n      <td>South Carolina</td>\n      <td>73.0</td>\n      <td>209.0</td>\n      <td>4.45</td>\n      <td>11.0</td>\n      <td>40.5</td>\n      <td>122.0</td>\n      <td>7.09</td>\n      <td>4.17</td>\n    </tr>\n    <tr>\n      <th>4643</th>\n      <td>2017</td>\n      <td>3</td>\n      <td>90</td>\n      <td>SEA</td>\n      <td>GrifSh00</td>\n      <td>Shaquill Griffin</td>\n      <td>0</td>\n      <td>DB</td>\n      <td>DB</td>\n      <td>D</td>\n      <td>...</td>\n      <td>CB</td>\n      <td>Central Florida</td>\n      <td>72.0</td>\n      <td>194.0</td>\n      <td>4.38</td>\n      <td>17.0</td>\n      <td>38.5</td>\n      <td>132.0</td>\n      <td>6.87</td>\n      <td>4.14</td>\n    </tr>\n    <tr>\n      <th>330</th>\n      <td>2001</td>\n      <td>6</td>\n      <td>176</td>\n      <td>KC</td>\n      <td>SulfAl20</td>\n      <td>Alex Sulfsted</td>\n      <td>0</td>\n      <td>T</td>\n      <td>OL</td>\n      <td>O</td>\n      <td>...</td>\n      <td>OG</td>\n      <td>Miami (OH)</td>\n      <td>76.0</td>\n      <td>312.0</td>\n      <td>5.30</td>\n      <td>26.0</td>\n      <td>30.5</td>\n      <td>96.0</td>\n      <td>7.77</td>\n      <td>4.70</td>\n    </tr>\n    <tr>\n      <th>2360</th>\n      <td>2011</td>\n      <td>6</td>\n      <td>197</td>\n      <td>GB</td>\n      <td>ElmoRi00</td>\n      <td>Ricky Elmore</td>\n      <td>0</td>\n      <td>DL</td>\n      <td>DL</td>\n      <td>D</td>\n      <td>...</td>\n      <td>DE</td>\n      <td>Arizona</td>\n      <td>76.0</td>\n      <td>255.0</td>\n      <td>4.88</td>\n      <td>26.0</td>\n      <td>31.5</td>\n      <td>106.0</td>\n      <td>7.25</td>\n      <td>4.32</td>\n    </tr>\n    <tr>\n      <th>904</th>\n      <td>2004</td>\n      <td>5</td>\n      <td>155</td>\n      <td>MIN</td>\n      <td>DaviRo21</td>\n      <td>Rod Davis</td>\n      <td>0</td>\n      <td>LB</td>\n      <td>LB</td>\n      <td>D</td>\n      <td>...</td>\n      <td>ILB</td>\n      <td>Southern Miss</td>\n      <td>74.0</td>\n      <td>239.0</td>\n      <td>4.76</td>\n      <td>23.0</td>\n      <td>34.5</td>\n      <td>114.0</td>\n      <td>7.20</td>\n      <td>4.02</td>\n    </tr>\n  </tbody>\n</table>\n<p>5 rows × 29 columns</p>\n</div>"
     },
     "execution_count": 167,
     "metadata": {},
     "output_type": "execute_result"
    }
   ],
   "source": [
    "draft_df.sample(5)"
   ]
  },
  {
   "cell_type": "code",
   "execution_count": 168,
   "id": "844b8130",
   "metadata": {
    "pycharm": {
     "name": "#%%\n"
    },
    "ExecuteTime": {
     "end_time": "2024-01-15T04:58:51.661863Z",
     "start_time": "2024-01-15T04:58:48.788132Z"
    }
   },
   "outputs": [],
   "source": [
    "# Export binary classifier dataframe\n",
    "draft_df.to_csv(r'/Users/ttas2/Documents/Python/nfl-machine-learning-models/output_files/nfl_post_processing_draft_data.csv', index=None, header=True)"
   ]
  },
  {
   "cell_type": "markdown",
   "id": "7751f385",
   "metadata": {
    "pycharm": {
     "name": "#%% md\n"
    }
   },
   "source": [
    "## MERGE PLAY-BY-PLAY WITH SUPPLEMENTARY DATA"
   ]
  },
  {
   "cell_type": "code",
   "execution_count": 169,
   "id": "c432b15c",
   "metadata": {
    "pycharm": {
     "name": "#%%\n"
    },
    "ExecuteTime": {
     "end_time": "2024-01-15T04:58:52.667377Z",
     "start_time": "2024-01-15T04:58:48.890267Z"
    }
   },
   "outputs": [],
   "source": [
    "df = play_df.copy()"
   ]
  },
  {
   "cell_type": "raw",
   "source": [
    "# Print qbr_df columns\n",
    "print(qbr_df.columns.tolist())"
   ],
   "metadata": {
    "collapsed": false
   },
   "id": "de39609ef7f96bc3"
  },
  {
   "cell_type": "raw",
   "source": [
    "qbr_df.shape"
   ],
   "metadata": {
    "collapsed": false
   },
   "id": "1593de2714e940a8"
  },
  {
   "cell_type": "raw",
   "source": [
    "# Merge play-by-play and QBR data\n",
    "df = pd.merge(play_df, \n",
    "              qbr_df, \n",
    "              how='left', \n",
    "              on=['game_alt_id','posteam'],\n",
    "              )\n",
    "\n",
    "df.shape"
   ],
   "metadata": {
    "collapsed": false
   },
   "id": "78453dcf05c31ee"
  },
  {
   "cell_type": "raw",
   "source": [
    "df.game_alt_id.nunique()"
   ],
   "metadata": {
    "collapsed": false
   },
   "id": "25115ba61805694b"
  },
  {
   "cell_type": "raw",
   "source": [
    "# Print column names\n",
    "print(df.columns.tolist())"
   ],
   "metadata": {
    "collapsed": false
   },
   "id": "98929e82977eb631"
  },
  {
   "cell_type": "raw",
   "source": [
    "# Fillna for qb_rank\n",
    "df['qb_rank'].fillna(df.qb_rank.median(), inplace=True)\n",
    "df['qb_pts'].fillna(df.qb_pts.median(), inplace=True)\n",
    "df['qb_plays'].fillna(df.qb_plays.median(), inplace=True)\n",
    "df['qb_qbr_raw'].fillna(df.qb_qbr_raw.median(), inplace=True)\n",
    "df['qb_qbr'].fillna(df.qb_qbr.median(), inplace=True)\n",
    "df['qb_pass'].fillna(df.qb_pass.median(), inplace=True)\n",
    "df['qb_run'].fillna(df.qb_run.median(), inplace=True)"
   ],
   "metadata": {
    "collapsed": false
   },
   "id": "919ba4176862a5a1"
  },
  {
   "cell_type": "markdown",
   "id": "90a8726d",
   "metadata": {
    "pycharm": {
     "name": "#%% md\n"
    }
   },
   "source": [
    "# _______________\n",
    "## PRELIMINARY PLAY-BY-PLAY FILTERS"
   ]
  },
  {
   "cell_type": "code",
   "execution_count": 170,
   "id": "64a55058",
   "metadata": {
    "pycharm": {
     "name": "#%%\n"
    },
    "ExecuteTime": {
     "end_time": "2024-01-15T04:58:55.435374Z",
     "start_time": "2024-01-15T04:58:50.001283Z"
    }
   },
   "outputs": [
    {
     "data": {
      "text/plain": "(69276, 391)"
     },
     "execution_count": 170,
     "metadata": {},
     "output_type": "execute_result"
    }
   ],
   "source": [
    "# Exclude columns with the following records\n",
    "df = df.loc[~(df['desc'].str.startswith(\"END |END_|Two-Minute|Two Minute|Two minute|Two-minute|Two minute|Two-min\"))]\n",
    "\n",
    "# Exclude columns with specific keywords\n",
    "df = df.loc[~(df['desc'].str.contains(\"Captains:|CAPTAINS:|Captians:|Captains #|Captians #\"))]\n",
    "df = df.loc[~(df['desc'].str.contains(\"Two-Minute Warning\"))]\n",
    "df = df.loc[~(df['desc'].str.contains(\"game has been suspended|game has resumed|Game was resumed\"))]\n",
    "df = df.loc[~(df['desc'].str.contains(\"Game delayed|game delayed|Game suspended|Game was resumed\"))]\n",
    "df = df.loc[~(df['desc'].str.contains(\"no play run|Humidity|weather delay|severe weather\"))]\n",
    "df = df.loc[df['down'] >= 1.0]\n",
    "df = df.loc[df['special_teams_play'] == 0]\n",
    "df = df.loc[df['season_type'] != 'PRE']\n",
    "df = df.loc[~(df['play_type'].isin(['punt','kickoff','extra_point','field_goal','qb_kneel','qb_spike']))]\n",
    "df = df.loc[df['aborted_play'] == 0]\n",
    "df = df.loc[df['play_deleted'] == 0]\n",
    "df = df.loc[~df['drive'].isnull()]\n",
    "df = df.loc[~(df['offense_personnel'].astype(str).str.contains(\"LS\"))]\n",
    "\n",
    "df.shape"
   ]
  },
  {
   "cell_type": "code",
   "execution_count": 171,
   "outputs": [
    {
     "name": "stdout",
     "output_type": "stream",
     "text": [
      "Single value columns: Index(['quarter_end', 'qb_kneel', 'qb_spike', 'extra_point_prob',\n",
      "       'two_point_conversion_prob', 'punt_blocked', 'punt_inside_twenty',\n",
      "       'punt_in_endzone', 'punt_out_of_bounds', 'punt_downed',\n",
      "       'punt_fair_catch', 'kickoff_inside_twenty', 'kickoff_in_endzone',\n",
      "       'kickoff_out_of_bounds', 'kickoff_downed', 'kickoff_fair_catch',\n",
      "       'own_kickoff_recovery', 'own_kickoff_recovery_td',\n",
      "       'extra_point_attempt', 'two_point_attempt', 'field_goal_attempt',\n",
      "       'kickoff_attempt', 'punt_attempt', 'tackle_with_assist_2_player_id',\n",
      "       'tackle_with_assist_2_player_name', 'tackle_with_assist_2_team',\n",
      "       'defensive_two_point_attempt', 'defensive_two_point_conv',\n",
      "       'defensive_extra_point_attempt', 'defensive_extra_point_conv',\n",
      "       'play_deleted', 'special_teams_play', 'aborted_play', 'special'],\n",
      "      dtype='object')\n",
      "Remaining columns: 326\n"
     ]
    }
   ],
   "source": [
    "# Print a list of columns with only one value and then drop them\n",
    "single_value_columns = df.loc[:,df.nunique() == 1].columns\n",
    "df = df.loc[:,df.nunique() > 1]\n",
    "\n",
    "print('Single value columns:', single_value_columns)\n",
    "print('Remaining columns:', df.shape[1])"
   ],
   "metadata": {
    "collapsed": false,
    "ExecuteTime": {
     "end_time": "2024-01-15T04:58:57.671730Z",
     "start_time": "2024-01-15T04:58:55.335884Z"
    }
   },
   "id": "898a5775e5fd31b4"
  },
  {
   "cell_type": "code",
   "execution_count": 172,
   "id": "2557cf9e",
   "metadata": {
    "pycharm": {
     "name": "#%%\n"
    },
    "ExecuteTime": {
     "end_time": "2024-01-15T04:58:58.475788Z",
     "start_time": "2024-01-15T04:58:57.585625Z"
    }
   },
   "outputs": [],
   "source": [
    "# Convert missing values to Null\n",
    "df = df.fillna(value=np.nan)"
   ]
  },
  {
   "cell_type": "code",
   "execution_count": 173,
   "outputs": [
    {
     "data": {
      "text/plain": "(69276, 326)"
     },
     "execution_count": 173,
     "metadata": {},
     "output_type": "execute_result"
    }
   ],
   "source": [
    "# Convert field to datetime format\n",
    "df['game_date']= pd.to_datetime(df['game_date'])\n",
    "\n",
    "# Sort dataframe\n",
    "df = df.sort_values(by=['posteam','game_date','play'], ascending=True)\n",
    "\n",
    "df.shape"
   ],
   "metadata": {
    "collapsed": false,
    "ExecuteTime": {
     "end_time": "2024-01-15T04:58:58.986049Z",
     "start_time": "2024-01-15T04:58:58.476905Z"
    }
   },
   "id": "842b1e391a959cbf"
  },
  {
   "cell_type": "markdown",
   "source": [
    "## PERSONNEL FEATURES"
   ],
   "metadata": {
    "collapsed": false
   },
   "id": "1dfa7a0e"
  },
  {
   "cell_type": "code",
   "execution_count": 174,
   "outputs": [
    {
     "data": {
      "text/plain": "0.018794387666724408"
     },
     "execution_count": 174,
     "metadata": {},
     "output_type": "execute_result"
    }
   ],
   "source": [
    "df['report_eligible'] = np.where(df['desc'].str.find('as eligible')>= 0, 1, 0)\n",
    "\n",
    "df.report_eligible.mean()"
   ],
   "metadata": {
    "collapsed": false,
    "ExecuteTime": {
     "end_time": "2024-01-15T04:58:59.217962Z",
     "start_time": "2024-01-15T04:58:58.878622Z"
    }
   },
   "id": "b5584191ef9444fc"
  },
  {
   "cell_type": "code",
   "execution_count": 175,
   "outputs": [],
   "source": [
    "# Remove commas from strings\n",
    "df['offense_personnel'] = df['offense_personnel'].str.replace(',', ', ').str.replace('  ',' ').str.replace(',', '').str.strip()\n",
    "df['defense_personnel'] = df['defense_personnel'].str.replace(',', ', ').str.replace('  ',' ').str.replace(',', '').str.strip()\n",
    "\n",
    "# Impute personnel with modes\n",
    "df['offense_personnel'].fillna(df['offense_personnel'].mode()[0], inplace=True)\n",
    "df['defense_personnel'].fillna(df['defense_personnel'].mode()[0], inplace=True)"
   ],
   "metadata": {
    "collapsed": false,
    "ExecuteTime": {
     "end_time": "2024-01-15T04:58:59.405716Z",
     "start_time": "2024-01-15T04:58:58.973278Z"
    }
   },
   "id": "829a9585d59e901b"
  },
  {
   "cell_type": "code",
   "outputs": [],
   "source": [
    "# Offensive personnel counts\n",
    "df['off_rb_count'] = df['offense_personnel'].str.extract('(\\d+) RB').fillna(0).astype(int)\n",
    "#df['off_te_count'] = df['offense_personnel'].str.extract('(\\d+) TE').fillna(0).astype(int)\n",
    "df['off_wr_count'] = df['offense_personnel'].str.extract('(\\d+) WR').fillna(0).astype(int)\n",
    "#df['off_hb_count'] = df['off_rb_count'] + df['off_te_count']\n",
    "\n",
    "df['off_ol_count'] = df['offense_personnel'].str.extract('(\\d+) OL').fillna(5).astype(int)\n",
    "df['off_ol_count'] = np.where((df['off_ol_count'] == 5) & (df['report_eligible'] == 1), 6, df['off_ol_count']) \n",
    "\n",
    "# Defensive personnel counts\n",
    "df['def_dl_count'] = df['defense_personnel'].str.extract('(\\d+) DL').fillna(0).astype(int)\n",
    "#df['def_lb_count'] = df['defense_personnel'].str.extract('(\\d+) LB').fillna(0).astype(int)\n",
    "df['def_db_count'] = df['defense_personnel'].str.extract('(\\d+) DB').fillna(0).astype(int)\n",
    "\n",
    "# Calculate personnel ratios\n",
    "df['wr_to_db_ratio'] = df['off_wr_count'] / df['def_db_count']\n",
    "#df['hb_to_lb_ratio'] = df['off_hb_count'] / df['def_lb_count']\n",
    "df['ol_to_dl_ratio'] = df['off_ol_count'] / df['def_dl_count']\n",
    "\n",
    "# Convert inf to 0\n",
    "df['wr_to_db_ratio'] = np.where((df['off_wr_count'] > 0) & (df['def_db_count'] == 0), df['off_wr_count'], \n",
    "                                np.where((df['def_db_count'] > 0) & (df['off_wr_count'] == 0), df['def_db_count'],df['wr_to_db_ratio']))\n",
    "\n",
    "#df['hb_to_lb_ratio'] = np.where((df['off_hb_count'] > 0) & (df['def_lb_count'] == 0), df['off_hb_count'], np.where((df['def_lb_count'] > 0) & (df['off_hb_count'] == 0), df['def_lb_count'], df['hb_to_lb_ratio']))\n",
    "\n",
    "df['ol_to_dl_ratio'] = np.where((df['off_ol_count'] > 0) & (df['def_dl_count'] == 0), df['off_ol_count'], np.where((df['def_dl_count'] > 0) & (df['off_ol_count'] == 0), df['def_dl_count'], df['ol_to_dl_ratio']))\n",
    "\n",
    "# Convert inf values to 0\n",
    "df['wr_to_db_ratio'] = np.where(df['wr_to_db_ratio'] == np.inf, 0, df['wr_to_db_ratio'])\n",
    "#df['hb_to_lb_ratio'] = np.where(df['hb_to_lb_ratio'] == np.inf, 0, df['hb_to_lb_ratio'])\n",
    "df['ol_to_dl_ratio'] = np.where(df['ol_to_dl_ratio'] == np.inf, 0, df['ol_to_dl_ratio'])\n",
    "\n",
    "# Impute missing values\n",
    "df['wr_to_db_ratio'].fillna(df['wr_to_db_ratio'].median(), inplace=True)\n",
    "# df['hb_to_lb_ratio'].fillna(df['hb_to_lb_ratio'].median(), inplace=True)\n",
    "df['ol_to_dl_ratio'].fillna(df['ol_to_dl_ratio'].median(), inplace=True)\n",
    "\n",
    "# Drop personnel counts\n",
    "df.drop(['off_rb_count','off_wr_count','off_ol_count','def_dl_count','def_db_count'], axis=1, inplace=True)"
   ],
   "metadata": {
    "collapsed": false,
    "ExecuteTime": {
     "end_time": "2024-01-15T04:59:00.286528Z",
     "start_time": "2024-01-15T04:58:59.284741Z"
    }
   },
   "id": "271ca72e0eed6dd4",
   "execution_count": 176
  },
  {
   "cell_type": "markdown",
   "source": [
    "## MODIFY DATAFRAME"
   ],
   "metadata": {
    "collapsed": false
   },
   "id": "5a6a04437b294076"
  },
  {
   "cell_type": "code",
   "execution_count": 177,
   "outputs": [],
   "source": [
    "# Impute missing values\n",
    "df['time_of_day'].fillna(method='ffill', inplace=True)\n",
    "df['quarter_seconds_remaining'].fillna(method='bfill', inplace=True)\n",
    "df['half_seconds_remaining'].fillna(method='bfill', inplace=True)\n",
    "df['game_seconds_remaining'].fillna(method='bfill', inplace=True)\n",
    "df['wp'].fillna(method='bfill', inplace=True)\n",
    "df['def_wp'].fillna(method='bfill', inplace=True)\n"
   ],
   "metadata": {
    "collapsed": false,
    "ExecuteTime": {
     "end_time": "2024-01-15T04:59:00.370323Z",
     "start_time": "2024-01-15T04:59:00.301447Z"
    }
   },
   "id": "4c090210"
  },
  {
   "cell_type": "code",
   "execution_count": 178,
   "id": "b780f49d",
   "metadata": {
    "pycharm": {
     "name": "#%%\n"
    },
    "ExecuteTime": {
     "end_time": "2024-01-15T04:59:08.335404Z",
     "start_time": "2024-01-15T04:59:00.341324Z"
    }
   },
   "outputs": [],
   "source": [
    "# Strip all whitespace from strings\n",
    "df = df.applymap(lambda x: x.strip() if isinstance(x, str) else x)\n",
    "\n",
    "# Strips all objects in dataframe\n",
    "df = df.apply(lambda x: x.str.strip() if x.dtype == \"object\" else x)"
   ]
  },
  {
   "cell_type": "code",
   "execution_count": 179,
   "id": "40bb776b",
   "metadata": {
    "pycharm": {
     "name": "#%%\n"
    },
    "ExecuteTime": {
     "end_time": "2024-01-15T04:59:08.554826Z",
     "start_time": "2024-01-15T04:59:08.396712Z"
    }
   },
   "outputs": [],
   "source": [
    "# Impute missing values\n",
    "df['play_type'].fillna('no_play', inplace = True)\n",
    "df['play_type_nfl'].fillna('NO_PLAY', inplace = True)\n",
    "df['sp'].fillna(0, inplace = True)\n",
    "df['qtr'].fillna(0, inplace = True)\n",
    "df['goal_to_go'].fillna(0, inplace = True)\n",
    "df['ydstogo'].fillna(0, inplace = True) \n",
    "df['ydsnet'].fillna(0, inplace = True)\n",
    "df['shotgun'].fillna(0, inplace = True)\n",
    "df['no_huddle'].fillna(0, inplace = True)\n",
    "df['qb_dropback'].fillna(0, inplace = True)\n",
    "df['qb_scramble'].fillna(0, inplace = True)\n",
    "df['yards_after_catch'].fillna(0, inplace = True)\n",
    "df['home_timeouts_remaining'].fillna(0, inplace = True)\n",
    "df['away_timeouts_remaining'].fillna(0, inplace = True)\n",
    "df['timeout'].fillna(0, inplace = True)\n",
    "df['posteam_timeouts_remaining'].fillna(0, inplace = True) \n",
    "df['defteam_timeouts_remaining'].fillna(0, inplace = True)\n",
    "df['total_home_score'].fillna(0, inplace = True)\n",
    "df['total_away_score'].fillna(0, inplace = True)\n",
    "df['posteam_score'].fillna(0, inplace = True) \n",
    "df['defteam_score'].fillna(0, inplace = True)\n",
    "df['score_differential'].fillna(0, inplace = True)\n",
    "df['posteam_score_post'].fillna(0, inplace = True)\n",
    "df['defteam_score_post'].fillna(0, inplace = True)\n",
    "df['score_differential_post'].fillna(0, inplace = True)\n",
    "df['first_down_rush'].fillna(0, inplace = True)\n",
    "df['first_down_pass'].fillna(0, inplace = True)\n",
    "df['first_down_penalty'].fillna(0, inplace = True)\n",
    "df['third_down_converted'].fillna(0, inplace = True)\n",
    "df['third_down_failed'].fillna(0, inplace = True)\n",
    "df['fourth_down_converted'].fillna(0, inplace = True)\n",
    "df['fourth_down_failed'].fillna(0, inplace = True)\n",
    "df['incomplete_pass'].fillna(0, inplace = True)\n",
    "df['touchback'].fillna(0, inplace = True)\n",
    "df['interception'].fillna(0, inplace = True)\n",
    "df['fumble_forced'].fillna(0, inplace = True)\n",
    "df['fumble_not_forced'].fillna(0, inplace = True)\n",
    "df['fumble_out_of_bounds'].fillna(0, inplace = True)\n",
    "df['solo_tackle'].fillna(0, inplace = True)\n",
    "df['penalty'].fillna(0, inplace = True)\n",
    "df['tackled_for_loss'].fillna(0, inplace = True)\n",
    "df['fumble'].fillna(0, inplace = True)\n",
    "df['fumble_lost'].fillna(0, inplace = True)\n",
    "df['qb_hit'].fillna(0, inplace = True)\n",
    "df['rush_attempt'].fillna(0, inplace = True)\n",
    "df['pass_attempt'].fillna(0, inplace = True)\n",
    "df['sack'].fillna(0, inplace = True)\n",
    "df['safety'].fillna(0, inplace = True)\n",
    "df['touchdown'].fillna(0, inplace = True)\n",
    "df['pass_touchdown'].fillna(0, inplace = True)\n",
    "df['rush_touchdown'].fillna(0, inplace = True)\n",
    "df['return_touchdown'].fillna(0, inplace = True)\n",
    "df['complete_pass'].fillna(0, inplace = True)\n",
    "df['assist_tackle'].fillna(0, inplace = True)\n",
    "df['lateral_reception'].fillna(0, inplace = True)\n",
    "df['lateral_rush'].fillna(0, inplace = True)\n",
    "df['lateral_return'].fillna(0, inplace = True)\n",
    "df['lateral_recovery'].fillna(0, inplace = True)\n",
    "df['passing_yards'].fillna(0, inplace = True)\n",
    "df['receiving_yards'].fillna(0, inplace = True)\n",
    "df['rushing_yards'].fillna(0, inplace = True)\n",
    "df['lateral_receiving_yards'].fillna(0, inplace = True)\n",
    "df['lateral_rushing_yards'].fillna(0, inplace = True)\n",
    "df['tackle_with_assist'].fillna(0, inplace = True)\n",
    "df['return_yards'].fillna(0, inplace = True)\n",
    "df['replay_or_challenge'].fillna(0, inplace = True)\n",
    "df['series_success'].fillna(0, inplace = True)\n",
    "df['order_sequence'].fillna(0, inplace = True)\n",
    "df['fixed_drive'].fillna(0, inplace = True)\n",
    "df['drive_play_count'].fillna(0, inplace = True)\n",
    "df['drive_first_downs'].fillna(0, inplace = True)\n",
    "df['drive_inside20'].fillna(0, inplace = True)\n",
    "df['drive_ended_with_score'].fillna(0, inplace = True)\n",
    "df['drive_quarter_start'].fillna(0, inplace = True)\n",
    "df['drive_quarter_end'].fillna(0, inplace = True)\n",
    "df['drive_yards_penalized'].fillna(0, inplace = True)\n",
    "df['drive_play_id_started'].fillna(0, inplace = True)\n",
    "df['drive_play_id_ended'].fillna(0, inplace = True)\n",
    "df['success'].fillna(0, inplace = True)\n",
    "df['pass'].fillna(0, inplace = True)\n",
    "df['rush'].fillna(0, inplace = True)\n",
    "df['first_down'].fillna(0, inplace = True)\n",
    "df['play'].fillna(0, inplace = True)\n",
    "df['out_of_bounds'].fillna(0, inplace = True)\n",
    "df['home_opening_kickoff'].fillna(0, inplace = True)\n",
    "df['fumble_recovery_1_yards'].fillna(0, inplace = True)\n",
    "df['fumble_recovery_2_yards'].fillna(0, inplace = True)\n",
    "df['penalty_yards'].fillna(0, inplace = True)"
   ]
  },
  {
   "cell_type": "code",
   "execution_count": 180,
   "id": "f6e57cd8",
   "metadata": {
    "pycharm": {
     "name": "#%%\n"
    },
    "ExecuteTime": {
     "end_time": "2024-01-15T04:59:08.907578Z",
     "start_time": "2024-01-15T04:59:08.532366Z"
    }
   },
   "outputs": [
    {
     "data": {
      "text/plain": "(69276, 329)"
     },
     "execution_count": 180,
     "metadata": {},
     "output_type": "execute_result"
    }
   ],
   "source": [
    "# Convert to integer\n",
    "df['play_id'] = df['play_id'].astype(int)\n",
    "df['quarter_seconds_remaining'] = df['quarter_seconds_remaining'].astype(int)\n",
    "df['half_seconds_remaining'] = df['half_seconds_remaining'].astype(int)\n",
    "df['game_seconds_remaining'] = df['game_seconds_remaining'].astype(int)\n",
    "df['sp'] = df['sp'].astype(int)\n",
    "df['qtr'] = df['qtr'].astype(int)\n",
    "df['goal_to_go'] = df['goal_to_go'].astype(int)\n",
    "df['ydstogo'] = df['ydstogo'].astype(int)\n",
    "df['shotgun'] = df['shotgun'].astype(int)\n",
    "df['no_huddle'] = df['no_huddle'].astype(int)\n",
    "df['qb_dropback'] = df['qb_dropback'].astype(int)\n",
    "df['qb_scramble'] = df['qb_scramble'].astype(int)\n",
    "df['yards_after_catch'] = df['yards_after_catch'].astype(int)\n",
    "df['home_timeouts_remaining'] = df['home_timeouts_remaining'].astype(int)\n",
    "df['away_timeouts_remaining'] = df['away_timeouts_remaining'].astype(int)\n",
    "df['timeout'] = df['timeout'].astype(int)\n",
    "df['posteam_timeouts_remaining'] = df['posteam_timeouts_remaining'].astype(int)\n",
    "df['defteam_timeouts_remaining'] = df['defteam_timeouts_remaining'].astype(int)\n",
    "df['total_home_score'] = df['total_home_score'].astype(int)\n",
    "df['total_away_score'] = df['total_away_score'].astype(int)\n",
    "df['posteam_score'] = df['posteam_score'].astype(int)\n",
    "df['defteam_score'] = df['defteam_score'].astype(int)\n",
    "df['score_differential'] = df['score_differential'].astype(int)\n",
    "df['posteam_score_post'] = df['posteam_score_post'].astype(int)\n",
    "df['defteam_score_post'] = df['defteam_score_post'].astype(int)\n",
    "df['score_differential_post'] = df['score_differential_post'].astype(int)\n",
    "df['first_down_rush'] = df['first_down_rush'].astype(int)\n",
    "df['first_down_pass'] = df['first_down_pass'].astype(int)\n",
    "df['first_down_penalty'] = df['first_down_penalty'].astype(int)\n",
    "df['third_down_converted'] = df['third_down_converted'].astype(int)\n",
    "df['third_down_failed'] = df['third_down_failed'].astype(int)\n",
    "df['fourth_down_converted'] = df['fourth_down_converted'].astype(int)\n",
    "df['fourth_down_failed'] = df['fourth_down_failed'].astype(int)\n",
    "df['incomplete_pass'] = df['incomplete_pass'].astype(int)\n",
    "df['touchback'] = df['touchback'].astype(int)\n",
    "df['interception'] = df['interception'].astype(int)\n",
    "df['fumble_forced'] = df['fumble_forced'].astype(int)\n",
    "df['fumble_not_forced'] = df['fumble_not_forced'].astype(int)\n",
    "df['fumble_out_of_bounds'] = df['fumble_out_of_bounds'].astype(int)\n",
    "df['solo_tackle'] = df['solo_tackle'].astype(int)\n",
    "df['safety'] = df['safety'].astype(int)\n",
    "df['penalty'] = df['penalty'].astype(int)\n",
    "df['tackled_for_loss'] = df['tackled_for_loss'].astype(int)\n",
    "df['fumble_lost'] = df['fumble_lost'].astype(int)\n",
    "df['qb_hit'] = df['qb_hit'].astype(int)\n",
    "df['rush_attempt'] = df['rush_attempt'].astype(int)\n",
    "df['pass_attempt'] = df['pass_attempt'].astype(int)\n",
    "df['sack'] = df['sack'].astype(int)\n",
    "df['touchdown'] = df['touchdown'].astype(int)\n",
    "df['rush_touchdown'] = df['rush_touchdown'].astype(int)\n",
    "df['pass_touchdown'] = df['pass_touchdown'].astype(int)\n",
    "df['return_touchdown'] = df['return_touchdown'].astype(int)\n",
    "df['fumble'] = df['fumble'].astype(int)\n",
    "df['complete_pass'] = df['complete_pass'].astype(int)\n",
    "df['assist_tackle'] = df['assist_tackle'].astype(int)\n",
    "df['lateral_reception'] = df['lateral_reception'].astype(int)\n",
    "df['lateral_rush'] = df['lateral_rush'].astype(int)\n",
    "df['lateral_return'] = df['lateral_return'].astype(int)\n",
    "df['lateral_recovery'] = df['lateral_recovery'].astype(int)\n",
    "df['passing_yards'] = df['passing_yards'].astype(int)\n",
    "df['receiving_yards'] = df['receiving_yards'].astype(int)\n",
    "df['rushing_yards'] = df['rushing_yards'].astype(int)\n",
    "df['lateral_receiving_yards'] = df['lateral_receiving_yards'].astype(int)\n",
    "df['lateral_rushing_yards'] = df['lateral_rushing_yards'].astype(int)\n",
    "df['tackle_with_assist'] = df['tackle_with_assist'].astype(int)\n",
    "df['return_yards'] = df['return_yards'].astype(int)\n",
    "df['replay_or_challenge'] = df['replay_or_challenge'].astype(int)\n",
    "df['series'] = df['series'].astype(int)\n",
    "df['series_success'] = df['series_success'].astype(int)\n",
    "df['order_sequence'] = df['order_sequence'].astype(int)\n",
    "df['fixed_drive'] = df['fixed_drive'].astype(int)\n",
    "df['drive_play_count'] = df['drive_play_count'].astype(int)\n",
    "df['drive_first_downs'] = df['drive_first_downs'].astype(int)\n",
    "df['drive_inside20'] = df['drive_inside20'].astype(int)\n",
    "df['drive_ended_with_score'] = df['drive_ended_with_score'].astype(int)\n",
    "df['drive_quarter_start'] = df['drive_quarter_start'].astype(int)\n",
    "df['drive_quarter_end'] = df['drive_quarter_end'].astype(int)\n",
    "df['drive_yards_penalized'] = df['drive_yards_penalized'].astype(int)\n",
    "df['drive_play_id_started'] = df['drive_play_id_started'].astype(int)\n",
    "df['drive_play_id_ended'] = df['drive_play_id_ended'].astype(int)\n",
    "df['success'] = df['success'].astype(int)\n",
    "df['pass'] = df['pass'].astype(int)\n",
    "df['rush'] = df['rush'].astype(int)\n",
    "df['first_down'] = df['first_down'].astype(int)\n",
    "df['play'] = df['play'].astype(int)\n",
    "df['out_of_bounds'] = df['out_of_bounds'].astype(int)\n",
    "df['home_opening_kickoff'] = df['home_opening_kickoff'].astype(int)\n",
    "df['fumble_recovery_1_yards'] = df['fumble_recovery_1_yards'].astype(int)\n",
    "df['fumble_recovery_2_yards'] = df['fumble_recovery_2_yards'].astype(int)\n",
    "df['penalty_yards'] = df['penalty_yards'].astype(int)\n",
    "# df['home_rest'] = df['home_rest'].astype(int)\n",
    "# df['away_rest'] = df['away_rest'].astype(int)\n",
    "df.shape"
   ]
  },
  {
   "cell_type": "code",
   "execution_count": 181,
   "id": "deacf807",
   "metadata": {
    "pycharm": {
     "name": "#%%\n"
    },
    "ExecuteTime": {
     "end_time": "2024-01-15T04:59:08.935232Z",
     "start_time": "2024-01-15T04:59:08.640742Z"
    }
   },
   "outputs": [
    {
     "data": {
      "text/plain": "play_type_nfl\nPASS                            36941\nRUSH                            29098\nSACK                             2774\nINTERCEPTION                      446\nFUMBLE_RECOVERED_BY_OPPONENT       15\nUNSPECIFIED                         2\nName: count, dtype: int64"
     },
     "execution_count": 181,
     "metadata": {},
     "output_type": "execute_result"
    }
   ],
   "source": [
    "counts = df.play_type_nfl.value_counts(normalize=False)\n",
    "counts"
   ]
  },
  {
   "cell_type": "code",
   "execution_count": 182,
   "id": "11e507b0",
   "metadata": {
    "pycharm": {
     "name": "#%%\n"
    },
    "ExecuteTime": {
     "end_time": "2024-01-15T04:59:08.946936Z",
     "start_time": "2024-01-15T04:59:08.658175Z"
    }
   },
   "outputs": [
    {
     "data": {
      "text/plain": "play_type\npass    40176\nrun     29100\nName: count, dtype: int64"
     },
     "execution_count": 182,
     "metadata": {},
     "output_type": "execute_result"
    }
   ],
   "source": [
    "counts = df.play_type.value_counts(normalize=False)\n",
    "counts"
   ]
  },
  {
   "cell_type": "markdown",
   "id": "294748d7",
   "metadata": {
    "pycharm": {
     "name": "#%% md\n"
    }
   },
   "source": [
    "## IMPUTE PLAY TYPE"
   ]
  },
  {
   "cell_type": "code",
   "execution_count": 183,
   "id": "40e0f78c",
   "metadata": {
    "pycharm": {
     "name": "#%%\n"
    },
    "ExecuteTime": {
     "end_time": "2024-01-15T04:59:09.326292Z",
     "start_time": "2024-01-15T04:59:08.666369Z"
    }
   },
   "outputs": [
    {
     "data": {
      "text/plain": "(69276, 329)"
     },
     "execution_count": 183,
     "metadata": {},
     "output_type": "execute_result"
    }
   ],
   "source": [
    "df1 = df.copy()\n",
    "\n",
    "df1.shape"
   ]
  },
  {
   "cell_type": "code",
   "execution_count": 184,
   "id": "6de7e60a",
   "metadata": {
    "pycharm": {
     "name": "#%%\n"
    },
    "ExecuteTime": {
     "end_time": "2024-01-15T04:59:12.683858Z",
     "start_time": "2024-01-15T04:59:09.021625Z"
    }
   },
   "outputs": [],
   "source": [
    "# Modify play type\n",
    "df1['desc'] = df1['desc'].str.strip().str.lower()\n",
    "\n",
    "# QB Scramble\n",
    "df1['play_type'] = np.where((df1['play_type'] == 'no_play') & (df1['desc'].str.find('scrambles ')>= 0), 'qb_scramble', df1['play_type'])\n",
    "df1['play_type'] = np.where((df1['play_type'] == 'run') & (df1['desc'].str.find('scrambles ')>= 0), 'qb_scramble', df1['play_type'])\n",
    "\n",
    "# Kickoffs\n",
    "df1['play_type'] = np.where((df1['play_type'] == 'no_play') & (df1['desc'].str.find('kicks')>= 0), 'kickoff', df1['play_type'])\n",
    "df1['play_type'] = np.where((df1['play_type'] == 'no_play') & (df1['desc'].str.find('kick formation')>= 0), 'kickoff', df1['play_type'])\n",
    "\n",
    "# Field goals\n",
    "df1['play_type'] = np.where((df1['play_type'] == 'no_play') & (df1['desc'].str.find('field goal')>= 0), 'field_goal', df1['play_type'])\n",
    "\n",
    "# Punts\n",
    "df1['play_type'] = np.where((df1['play_type'] == 'no_play') & (df1['desc'].str.find(' punts')>= 0), 'punt', df1['play_type'])\n",
    "df1['play_type'] = np.where((df1['play_type'] == 'no_play') & (df1['desc'].str.find(' punt is')>= 0), 'punt', df1['play_type'])\n",
    "\n",
    "# Extra points (PATs)\n",
    "df1['play_type'] = np.where((df1['play_type'] == 'no_play') & (df1['desc'].str.find(' extra point')>= 0) & (df1['desc'].str.find('penalty')>= 0), 'extra_point', df1['play_type'])\n",
    "df1['play_type'] = np.where((df1['play_type'] == 'no_play') & (df1['desc'].str.find('two-point conversion')>= 0), 'two_point', df1['play_type'])\n",
    "\n",
    "# Kneel\n",
    "df1['play_type'] = np.where((df1['play_type'] == 'no_play') & (df1['desc'].str.find(' kneels')>= 0) & (df1['desc'].str.find('penalty')>= 0), 'qb_kneel', df1['play_type'])\n",
    "\n",
    "# QB spikes\n",
    "df1['play_type'] = np.where((df1['play_type'] == 'no_play') & (df1['desc'].str.find(' spiked')>= 0) & (df1['desc'].str.find('penalty')>= 0), 'qb_spike', df1['play_type'])\n",
    "\n",
    "# Passes\n",
    "df1['play_type'] = np.where((df1['play_type'] == 'no_play') & (df1['desc'].str.find('pass incomplete')>= 0), 'pass', df1['play_type'])\n",
    "df1['play_type'] = np.where((df1['play_type'] == 'no_play') & (df1['desc'].str.find('pass complete')>= 0), 'pass', df1['play_type'])\n",
    "df1['play_type'] = np.where((df1['play_type'] == 'no_play') & (df1['desc'].str.find('pass short')>= 0), 'pass', df1['play_type'])\n",
    "df1['play_type'] = np.where((df1['play_type'] == 'no_play') & (df1['desc'].str.find('pass deep')>= 0), 'pass', df1['play_type'])\n",
    "df1['play_type'] = np.where((df1['play_type'] == 'no_play') & (df1['desc'].str.find('pass to')>= 0), 'pass', df1['play_type'])\n",
    "df1['play_type'] = np.where((df1['play_type'] == 'no_play') & (df1['desc'].str.find('sacked')>= 0), 'pass', df1['play_type'])\n",
    "df1['play_type'] = np.where((df1['play_type'] == 'no_play') & (df1['desc'].str.find('pass intended')>= 0), 'pass', df1['play_type'])\n",
    "df1['play_type'] = np.where((df1['play_type'] == 'no_play') & (df1['desc'].str.find('pass intercepted')>= 0), 'pass', df1['play_type'])\n",
    "df1['play_type'] = np.where((df1['play_type'] == 'timeout') & (df1['desc'].str.find('pass incomplete')>= 0), 'pass', df1['play_type'])\n",
    "df1['play_type'] = np.where((df1['play_type'] == 'timeout') & (df1['desc'].str.find('pass complete')>= 0), 'pass', df1['play_type'])\n",
    "df1['play_type'] = np.where((df1['play_type'] == 'timeout') & (df1['desc'].str.find('pass short')>= 0), 'pass', df1['play_type'])\n",
    "df1['play_type'] = np.where((df1['play_type'] == 'timeout') & (df1['desc'].str.find('pass deep')>= 0), 'pass', df1['play_type'])\n",
    "df1['play_type'] = np.where((df1['play_type'] == 'timeout') & (df1['desc'].str.find('pass to')>= 0), 'pass', df1['play_type'])\n",
    "df1['play_type'] = np.where((df1['play_type'] == 'timeout') & (df1['desc'].str.find('sacked')>= 0), 'pass', df1['play_type'])\n",
    "df1['play_type'] = np.where((df1['play_type'] == 'timeout') & (df1['desc'].str.find('pass intended')>= 0), 'pass', df1['play_type'])\n",
    "df1['play_type'] = np.where((df1['play_type'] == 'timeout') & (df1['desc'].str.find('pass intercepted')>= 0), 'pass', df1['play_type'])\n",
    "\n",
    "# Runs\n",
    "df1['play_type'] = np.where((df1['play_type'] == 'no_play') & (df1['desc'].str.find('left end')>= 0), 'run', df1['play_type'])\n",
    "df1['play_type'] = np.where((df1['play_type'] == 'no_play') & (df1['desc'].str.find('left tackle')>= 0), 'run', df1['play_type'])\n",
    "df1['play_type'] = np.where((df1['play_type'] == 'no_play') & (df1['desc'].str.find('left guard')>= 0), 'run', df1['play_type'])\n",
    "df1['play_type'] = np.where((df1['play_type'] == 'no_play') & (df1['desc'].str.find('up the middle')>= 0), 'run', df1['play_type'])\n",
    "df1['play_type'] = np.where((df1['play_type'] == 'no_play') & (df1['desc'].str.find('right guard')>= 0), 'run', df1['play_type'])\n",
    "df1['play_type'] = np.where((df1['play_type'] == 'no_play') & (df1['desc'].str.find('right tackle')>= 0), 'run', df1['play_type'])\n",
    "df1['play_type'] = np.where((df1['play_type'] == 'no_play') & (df1['desc'].str.find('right end')>= 0), 'run', df1['play_type'])\n",
    "df1['play_type'] = np.where((df1['play_type'] == 'no_play') & (df1['desc'].str.find('end around')>= 0), 'run', df1['play_type'])\n",
    "df1['play_type'] = np.where((df1['play_type'] == 'timeout') & (df1['desc'].str.find('left end')>= 0), 'run', df1['play_type'])\n",
    "df1['play_type'] = np.where((df1['play_type'] == 'timeout') & (df1['desc'].str.find('left tackle')>= 0), 'run', df1['play_type'])\n",
    "df1['play_type'] = np.where((df1['play_type'] == 'timeout') & (df1['desc'].str.find('left guard')>= 0), 'run', df1['play_type'])\n",
    "df1['play_type'] = np.where((df1['play_type'] == 'timeout') & (df1['desc'].str.find('up the middle')>= 0), 'run', df1['play_type'])\n",
    "df1['play_type'] = np.where((df1['play_type'] == 'timeout') & (df1['desc'].str.find('right guard')>= 0), 'run', df1['play_type'])\n",
    "df1['play_type'] = np.where((df1['play_type'] == 'timeout') & (df1['desc'].str.find('right tackle')>= 0), 'run', df1['play_type'])\n",
    "df1['play_type'] = np.where((df1['play_type'] == 'timeout') & (df1['desc'].str.find('right end')>= 0), 'run', df1['play_type'])\n",
    "df1['play_type'] = np.where((df1['play_type'] == 'timeout') & (df1['desc'].str.find('end around')>= 0), 'run', df1['play_type'])"
   ]
  },
  {
   "cell_type": "code",
   "execution_count": 185,
   "id": "3d70fc00",
   "metadata": {
    "pycharm": {
     "name": "#%%\n"
    },
    "ExecuteTime": {
     "end_time": "2024-01-15T04:59:15.931091Z",
     "start_time": "2024-01-15T04:59:12.689955Z"
    }
   },
   "outputs": [],
   "source": [
    "# Penalties\n",
    "df1['play_type'] = np.where(df1['desc'].str.find('false start')>= 0, 'penalty', df1['play_type'])\n",
    "df1['play_type'] = np.where(df1['desc'].str.find('offensive delay of game')>= 0, 'penalty', df1['play_type'])\n",
    "df1['play_type'] = np.where((df1['desc'].str.find('penalty') >= 0) & (df1['desc'].str.find('neutral zone')>= 0), 'penalty', df1['play_type'])\n",
    "df1['play_type'] = np.where((df1['desc'].str.find('penalty')>= 0) & (df1['desc'].str.find('delay of kickoff')>= 0), 'penalty', df1['play_type'])\n",
    "df1['play_type'] = np.where((df1['play_type'] == 'no_play') & (df1['desc'].str.find('penalty')>= 0) & (df1['desc'].str.find('too many men')>= 0), 'penalty', df1['play_type'])\n",
    "df1['play_type'] = np.where((df1['play_type'] == 'no_play') & (df1['desc'].str.find('penalty')>= 0) & (df1['desc'].str.find('encroachment')>= 0), 'penalty', df1['play_type'])\n",
    "df1['play_type'] = np.where((df1['play_type'] == 'no_play') & (df1['desc'].str.find('penalty')>= 0) & (df1['desc'].str.find('12 on-field')>= 0), 'penalty', df1['play_type'])\n",
    "df1['play_type'] = np.where((df1['play_type'] == 'no_play') & (df1['desc'].str.find('penalty')>= 0) & (df1['desc'].str.find('unsportsmanlike')>= 0), 'penalty', df1['play_type'])\n",
    "df1['play_type'] = np.where((df1['play_type'] == 'no_play') & (df1['desc'].str.find('penalty')>= 0) & (df1['desc'].str.find('interference')>= 0), 'penalty', df1['play_type'])\n",
    "df1['play_type'] = np.where((df1['play_type'] == 'no_play') & (df1['desc'].str.find('penalty')>= 0) & (df1['desc'].str.find('holding')>= 0), 'penalty', df1['play_type'])\n",
    "df1['play_type'] = np.where((df1['play_type'] == 'no_play') & (df1['desc'].str.find('penalty')>= 0) & (df1['desc'].str.find('illegal')>= 0), 'penalty', df1['play_type'])\n",
    "df1['play_type'] = np.where((df1['play_type'] == 'no_play') & (df1['desc'].str.find('penalty')>= 0) & (df1['desc'].str.find('offside')>= 0), 'penalty', df1['play_type'])\n",
    "df1['play_type'] = np.where((df1['play_type'] == 'no_play') & (df1['desc'].str.find('penalty')>= 0) & (df1['desc'].str.find('roughness')>= 0), 'penalty', df1['play_type'])\n",
    "df1['play_type'] = np.where((df1['play_type'] == 'no_play') & (df1['desc'].str.find('penalty')>= 0) & (df1['desc'].str.find('chop block')>= 0), 'penalty', df1['play_type'])\n",
    "df1['play_type'] = np.where((df1['play_type'] == 'no_play') & (df1['desc'].str.find('penalty')>= 0) & (df1['desc'].str.find('tripping')>= 0), 'penalty', df1['play_type'])\n",
    "df1['play_type'] = np.where((df1['play_type'] == 'no_play') & (df1['desc'].str.find('penalty')>= 0) & (df1['desc'].str.find('roughing')>= 0), 'penalty', df1['play_type'])\n",
    "df1['play_type'] = np.where((df1['play_type'] == 'no_play') & (df1['desc'].str.find('penalty')>= 0) & (df1['desc'].str.find('face mask')>= 0), 'penalty', df1['play_type'])\n",
    "df1['play_type'] = np.where((df1['play_type'] == 'no_play') & (df1['desc'].str.find('penalty')>= 0) & (df1['desc'].str.find('personal foul')>= 0), 'penalty', df1['play_type'])\n",
    "df1['play_type'] = np.where((df1['play_type'] == 'no_play') & (df1['desc'].str.find('penalty')>= 0) & (df1['desc'].str.find('disqualification')>= 0), 'penalty', df1['play_type'])\n",
    "df1['play_type'] = np.where((df1['play_type'] == 'no_play') & (df1['desc'].str.find('penalty')>= 0) & (df1['desc'].str.find('taunting')>= 0), 'penalty', df1['play_type'])\n",
    "df1['play_type'] = np.where((df1['play_type'] == 'no_play') & (df1['desc'].str.find('penalty')>= 0) & (df1['desc'].str.find('intentional grounding')>= 0), 'penalty', df1['play_type'])\n",
    "df1['play_type'] = np.where((df1['desc'].str.find('penalty')>= 0) & (df1['desc'].str.find('play over the down')>= 0), 'penalty', df1['play_type'])\n",
    "\n",
    "# Replay reviews\n",
    "df1['play_type'] = np.where((df1['play_type'] == 'no_play') & (df1['desc'].str.find('replay was upheld')>= 0), 'replay_review', df1['play_type'])\n",
    "df1['play_type'] = np.where((df1['play_type'] == 'no_play') & (df1['desc'].str.find('replay assistant')>= 0), 'replay_review', df1['play_type'])\n",
    "\n",
    "# Timeouts\n",
    "df1['play_type'] = np.where((df1['desc'].str.find('timeout #')>= 0) & (df1['desc'].str.find('passer_jersey_number')>= 0) &  (df1['desc'].str.find('rusher_jersey_number')>= 0), 'timeout', df1['play_type'])\n",
    "df1['play_type'] = np.where((df1['desc'].str.find('timeout at')>= 0) & (df1['desc'].str.find('passer_jersey_number')>= 0) &  (df1['desc'].str.find('rusher_jersey_number')>= 0), 'timeout', df1['play_type'])\n",
    "\n",
    "# Clock runoff (no play)\n",
    "df1['play_type'] = np.where(df1['desc'].str.find('end of quarter due to 10 second clock run-off')>= 0, 'clock_runoff', df1['play_type'])\n",
    "\n",
    "# Replay down (no play)\n",
    "df1['play_type'] = np.where(df1['desc'].str.find('play over the down')>= 0, 'replay_down', df1['play_type'])\n",
    "df1['play_type'] = np.where(df1['desc'].str.find('play the down')>= 0, 'replay_down', df1['play_type'])"
   ]
  },
  {
   "cell_type": "code",
   "execution_count": 186,
   "id": "f1e4f8ea",
   "metadata": {
    "pycharm": {
     "name": "#%%\n"
    },
    "ExecuteTime": {
     "end_time": "2024-01-15T04:59:16.125275Z",
     "start_time": "2024-01-15T04:59:15.955988Z"
    }
   },
   "outputs": [],
   "source": [
    "df1['play_type_nfl'] = np.where(df1['play_type'] == 'run', 'RUSH',\n",
    "                                np.where(df1['play_type'] == 'penalty', 'PENALTY',\n",
    "                                         np.where(df1['play_type'] == 'extra_point', 'XP_KICK',\n",
    "                                                  np.where(df1['play_type'] == 'field_goal', 'FIELD_GOAL',\n",
    "                                                           np.where(df1['play_type'] == 'timeout', 'TIMEOUT',\n",
    "                                                                    np.where(df1['play_type'] == 'two_point', 'PAT2',\n",
    "                                                                             df1['play_type_nfl']))))))\n",
    "\n",
    "# Impute down property\n",
    "df1['down'] = np.where(df1['play_type'] == 'kickoff', 0,\n",
    "                       np.where(df1['play_type'] == 'extra_point', 0,\n",
    "                                np.where(df1['play_type'] == 'two_point', 0,\n",
    "                                         np.where(df1['play_type'] == 'injury',  df1['down'].shift(-1),\n",
    "                                                  np.where(df1['play_type'] == 'replay',  df1['down'].shift(-1),\n",
    "                                                           np.where(df1['play_type'] == 'timeout', df1['down'].shift(1),\n",
    "                                                                    np.where(df1['play_type'] == 'penalty', df1['down'].shift(1),\n",
    "                                                                             df1['down'])))))))\n",
    "\n",
    "# Remove kickoff from drive groupings\n",
    "df1['drive'] = np.where(df1['play_type'] == 'kickoff', np.nan, df1['drive'])\n",
    "\n",
    "# Offsetting penalties\n",
    "df1['offsetting_penalties'] = np.where((df1['desc'].str.find('offsetting') >= 0) & (df1['desc'].str.find('no play') >= 0), 1, 0)\n",
    "\n",
    "# Impute missing yards_gained\n",
    "df1['yards_gained'] = np.where(df1['offsetting_penalties'] == 1, 0, df1['yards_gained'])\n",
    "df1['yards_gained'] = np.where(df1['play_type'] == 'timeout', 0, df1['yards_gained'])\n",
    "df1['yards_gained'] = np.where((df1['play_type']=='penalty') & (df1['yards_gained']==np.nan),0,df1['yards_gained'])"
   ]
  },
  {
   "cell_type": "code",
   "execution_count": 187,
   "outputs": [],
   "source": [
    "# Impute pass location for pass play type when missing\n",
    "df1['pass_location'] = np.where((df1['play_type']=='pass') & (df1['desc'].str.find('pass middle')>= 0), 'middle',\n",
    "                                np.where((df1['play_type']=='pass') &  (df1['desc'].str.find('incomplete middle')>= 0), 'middle', \n",
    "                                         np.where((df1['play_type']=='pass') & (df1['desc'].str.find('pass left')>= 0), 'left',\n",
    "                                                  np.where((df1['play_type']=='pass') & (df1['desc'].str.find('incomplete left')>= 0), 'left', \n",
    "                                                           np.where((df1['play_type']=='pass') & (df1['desc'].str.find('pass right')>= 0), 'right',\n",
    "                                                                    np.where((df1['play_type']=='pass') & (df1['desc'].str.find('incomplete right')>= 0), 'right',\n",
    "                                                                             df1['pass_location']))))))\n",
    "\n",
    "# Impute pass length for pass play type when missing\n",
    "df1['pass_length'] = np.where((df1['play_type']=='pass') & (df1['pass_length']==np.nan) & (df1['desc'].str.find('deep')>= 0), 'deep',\n",
    "                              np.where((df1['play_type']=='pass') & (df1['pass_length']==np.nan) & (df1['desc'].str.find('short')>= 0), 'short',\n",
    "                                       np.where((df1['play_type']=='pass') & (df1['pass_length']==np.nan) & (df1['desc'].str.find('deep, incomplete')>= 0), 'deep',\n",
    "                                                np.where((df1['play_type']=='pass') & (df1['pass_length']==np.nan) & (df1['desc'].str.find('short, incomplete')>= 0), 'short',\n",
    "                                                         df1['pass_length']))))\n",
    "\n",
    "df1['intentional_grounding'] = np.where((df1['play_type']=='pass') & (df1['desc'].str.find('intentional grounding')>= 0), 1, 0)\n"
   ],
   "metadata": {
    "collapsed": false,
    "ExecuteTime": {
     "end_time": "2024-01-15T04:59:16.942995Z",
     "start_time": "2024-01-15T04:59:16.163019Z"
    }
   },
   "id": "190232d468dcfdb5"
  },
  {
   "cell_type": "markdown",
   "source": [
    "## INITIAL PLAY FILTERS"
   ],
   "metadata": {
    "collapsed": false
   },
   "id": "5f6a5227b92070a7"
  },
  {
   "cell_type": "code",
   "execution_count": 188,
   "id": "3c0054c0",
   "metadata": {
    "pycharm": {
     "name": "#%%\n"
    },
    "ExecuteTime": {
     "end_time": "2024-01-15T04:59:17.785266Z",
     "start_time": "2024-01-15T04:59:16.919444Z"
    }
   },
   "outputs": [
    {
     "data": {
      "text/plain": "(69276, 331)"
     },
     "execution_count": 188,
     "metadata": {},
     "output_type": "execute_result"
    }
   ],
   "source": [
    "df2 = df1.copy()\n",
    "\n",
    "df2.shape"
   ]
  },
  {
   "cell_type": "code",
   "execution_count": 189,
   "id": "638d9dc1",
   "metadata": {
    "pycharm": {
     "name": "#%%\n"
    },
    "ExecuteTime": {
     "end_time": "2024-01-15T04:59:17.800421Z",
     "start_time": "2024-01-15T04:59:17.774835Z"
    }
   },
   "outputs": [
    {
     "data": {
      "text/plain": "play_type_nfl\nPASS                            36941\nRUSH                            29100\nSACK                             2774\nINTERCEPTION                      446\nFUMBLE_RECOVERED_BY_OPPONENT       15\nName: count, dtype: int64"
     },
     "execution_count": 189,
     "metadata": {},
     "output_type": "execute_result"
    }
   ],
   "source": [
    "counts = df2.play_type_nfl.value_counts(normalize=False)\n",
    "counts"
   ]
  },
  {
   "cell_type": "code",
   "execution_count": 190,
   "outputs": [
    {
     "data": {
      "text/plain": "play_type\npass           40176\nrun            27093\nqb_scramble     2007\nName: count, dtype: int64"
     },
     "execution_count": 190,
     "metadata": {},
     "output_type": "execute_result"
    }
   ],
   "source": [
    "counts = df2.play_type.value_counts(normalize=False, dropna=False)\n",
    "counts"
   ],
   "metadata": {
    "collapsed": false,
    "ExecuteTime": {
     "end_time": "2024-01-15T04:59:17.889962Z",
     "start_time": "2024-01-15T04:59:17.786558Z"
    }
   },
   "id": "78e0e8c7d8ae46bb"
  },
  {
   "cell_type": "code",
   "execution_count": 191,
   "outputs": [
    {
     "data": {
      "text/plain": "(67269, 331)"
     },
     "execution_count": 191,
     "metadata": {},
     "output_type": "execute_result"
    }
   ],
   "source": [
    "df2 = df2[~df2['play_type'].isin(['punt','qb_kneel','field_goal','qb_scramble','qb_spike'])] # retain penalty to capture previous penalty events\n",
    "\n",
    "df2.shape"
   ],
   "metadata": {
    "collapsed": false,
    "ExecuteTime": {
     "end_time": "2024-01-15T04:59:18.159898Z",
     "start_time": "2024-01-15T04:59:17.798137Z"
    }
   },
   "id": "94ab495ff75ed747"
  },
  {
   "cell_type": "code",
   "execution_count": 192,
   "outputs": [
    {
     "data": {
      "text/plain": "play_type\npass    40176\nrun     27093\nName: count, dtype: int64"
     },
     "execution_count": 192,
     "metadata": {},
     "output_type": "execute_result"
    }
   ],
   "source": [
    "counts = df2.play_type.value_counts(normalize=False, dropna=False)\n",
    "counts"
   ],
   "metadata": {
    "collapsed": false,
    "ExecuteTime": {
     "end_time": "2024-01-15T04:59:18.172192Z",
     "start_time": "2024-01-15T04:59:18.044Z"
    }
   },
   "id": "152e4d3b"
  },
  {
   "cell_type": "markdown",
   "id": "5bc410cd",
   "metadata": {
    "pycharm": {
     "name": "#%% md\n"
    }
   },
   "source": [
    "## FEATURE ENGINEERING"
   ]
  },
  {
   "cell_type": "code",
   "execution_count": 193,
   "id": "ccf48419",
   "metadata": {
    "pycharm": {
     "name": "#%%\n"
    },
    "ExecuteTime": {
     "end_time": "2024-01-15T04:59:18.309651Z",
     "start_time": "2024-01-15T04:59:18.055493Z"
    }
   },
   "outputs": [],
   "source": [
    "# Game-play sequence\n",
    "df2['play_sequence_game'] = df2.groupby(['game_id'])['play_id'].cumcount() + 1\n",
    "\n",
    "# Game-play-drive sequence\n",
    "df2['play_sequence_series'] = df2.groupby(['game_id','drive']).cumcount() + 1\n",
    "\n",
    "# Code turnover on play\n",
    "df2['turnover'] = np.where((df2['fumble_lost'] == 1) | (df2['interception'] == 1), 1, 0)"
   ]
  },
  {
   "cell_type": "code",
   "execution_count": 194,
   "outputs": [],
   "source": [
    "# Normalize score_differential between 0 and 1, based on min and max values\n",
    "df2['score_differential_norm'] = (df2['score_differential'] - df2['score_differential'].min()) / (df2['score_differential'].max() - df2['score_differential'].min())\n"
   ],
   "metadata": {
    "collapsed": false,
    "ExecuteTime": {
     "end_time": "2024-01-15T04:59:18.347151Z",
     "start_time": "2024-01-15T04:59:18.094223Z"
    }
   },
   "id": "bc17647b27060f1"
  },
  {
   "cell_type": "code",
   "execution_count": 195,
   "id": "b295629c",
   "metadata": {
    "pycharm": {
     "name": "#%%\n"
    },
    "ExecuteTime": {
     "end_time": "2024-01-15T04:59:19.086902Z",
     "start_time": "2024-01-15T04:59:18.124423Z"
    }
   },
   "outputs": [
    {
     "data": {
      "text/plain": "play_type_detail\npass_short     26402\nrun_inside     14021\nrun_outside    13048\npass_deep      10997\npass_sack       2775\nrun               24\npass               2\nName: count, dtype: int64"
     },
     "execution_count": 195,
     "metadata": {},
     "output_type": "execute_result"
    }
   ],
   "source": [
    "df2['play_type_detail'] = np.where((df2['play_type']=='run') & (df2['desc'].str.find('left end')>= 0), 'run_outside',\n",
    "                          np.where((df2['play_type']=='run') & (df2['desc'].str.find('right end')>= 0), 'run_outside',\n",
    "                          np.where((df2['play_type']=='run') & (df2['desc'].str.find('end around')>= 0), 'run_outside',\n",
    "                          np.where((df2['play_type']=='run') & (df2['desc'].str.find('left tackle')>= 0), 'run_outside',\n",
    "                          np.where((df2['play_type']=='run') & (df2['desc'].str.find('left guard')>= 0), 'run_inside',\n",
    "                          np.where((df2['play_type']=='run') & (df2['desc'].str.find('middle')>= 0), 'run_inside',\n",
    "                          np.where((df2['play_type']=='run') & (df2['desc'].str.find('right guard')>= 0), 'run_inside',\n",
    "                          np.where((df2['play_type']=='run') & (df2['desc'].str.find('right tackle')>= 0), 'run_outside',\n",
    "\n",
    "                          np.where(df2['pass_length']=='deep', 'pass_deep',\n",
    "                          np.where((df2['play_type']=='pass') & (df2['air_yards']>10), 'pass_deep',\n",
    "                          np.where((df2['play_type']=='pass') & (df2['desc'].str.find('pass deep')>= 0),'pass_deep',\n",
    "                          np.where((df2['play_type']=='pass') & (df2['desc'].str.find('complete deep')>= 0), 'pass_deep',\n",
    "                          np.where((df2['play_type']=='pass') & (df2['air_yards'] == np.nan) & (df2['yards_after_catch'] == 0) & (df2['passing_yards'] >= 10), 'pass_deep',\n",
    "\n",
    "                          np.where(df2['pass_length']=='short', 'pass_short',\n",
    "                          np.where((df2['play_type']=='pass') & (df2['air_yards']<= 10), 'pass_short',\n",
    "                          np.where((df2['play_type']=='pass') & (df2['air_yards'] == np.nan) & (df2['yards_after_catch'] == 0) & (df2['passing_yards'] < 10), 'pass_short',\n",
    "                          np.where((df2['play_type']=='pass') & (df2['desc'].str.find('intentional grounding')>= 0), 'pass_short',\n",
    "\n",
    "                          np.where((df2['play_type']=='pass') & (df2['desc'].str.find('sack')>= 0),'pass_sack',\n",
    "                          np.where((df2['play_type']=='pass') & (df2['air_yards']==np.nan), 'pass',\n",
    "\n",
    "                          np.where((df2['play_type']=='pass') & (df2['desc'].str.find('aborted')>= 0),'aborted',\n",
    "                          df2['play_type']))))))))))))))))))))\n",
    "\n",
    "counts = df2.play_type_detail.value_counts(normalize=False)\n",
    "counts"
   ]
  },
  {
   "cell_type": "code",
   "execution_count": 196,
   "id": "528d5203",
   "metadata": {
    "pycharm": {
     "name": "#%%\n"
    },
    "ExecuteTime": {
     "end_time": "2024-01-15T04:59:19.240516Z",
     "start_time": "2024-01-15T04:59:19.076899Z"
    }
   },
   "outputs": [
    {
     "data": {
      "text/plain": "array(['grass', 'turf'], dtype=object)"
     },
     "execution_count": 196,
     "metadata": {},
     "output_type": "execute_result"
    }
   ],
   "source": [
    "# Remove ® from stadium names\n",
    "df2['stadium'] = df2['stadium'].str.replace('®', '').str.replace('-','').str.replace('&','').str.replace('.','').str.replace(\"'\",\"\").str.strip().str.lower()\n",
    "\n",
    "# Impute nan values to NULL\n",
    "df2['surface'] = np.where(df2['surface'] == '', np.nan, df2['surface'])\n",
    "\n",
    "# Map stadiums to new values\n",
    "stadium_map = {'allegiant stadium': 'grass',\n",
    "               'azteca stadium': 'grass',\n",
    "               'fedexfield': 'grass',\n",
    "               'state farm stadium': 'grass',\n",
    "               'mercedesbenz stadium': 'turf',\n",
    "               'mt bank stadium': 'grass',\n",
    "               'paycor stadium': 'turf',\n",
    "               'metlife stadium':'turf',\n",
    "               'highmark stadium':'turf',\n",
    "               'bank of america stadium': 'grass',\n",
    "               'soldier field': 'grass',\n",
    "               'raymond james stadium': 'grass',\n",
    "               'cleveland browns stadium': 'grass', \n",
    "               'firstenergy stadium': 'grass',\n",
    "               'acrisure stadium': 'grass',\n",
    "               'att stadium': 'turf',\n",
    "               'wembley stadium': 'grass',\n",
    "               'empower field at mile high': 'grass', \n",
    "               'geha field at arrowhead stadium': 'grass', \n",
    "               'ford field': 'turf',\n",
    "               'tottenham hotspur stadium': 'turf',\n",
    "               'nrg stadium': 'turf',\n",
    "               'lucas oil stadium': 'turf',\n",
    "               'everbank stadium': 'grass',\n",
    "               'tiaa bank field': 'grass',\n",
    "               \"levis stadium\": 'grass',\n",
    "               'lumen field': 'turf',\n",
    "               'sofi stadium': 'turf', \n",
    "               'nissan stadium': 'turf',\n",
    "               'gillette stadium': 'turf',\n",
    "               'us bank stadium': 'turf',\n",
    "               'lincoln financial field': 'grass',\n",
    "               'caesars superdome': 'turf',\n",
    "               'allianz arena': 'turf',\n",
    "               'hard rock stadium': 'grass',\n",
    "               'lambeau field': 'grass',\n",
    "               'frankfurt stadium': 'turf',\n",
    "               }\n",
    "\n",
    "df2['surface'] = df2['stadium'].map(stadium_map).fillna(df2['surface'])\n",
    "\n",
    "df2.surface.unique()"
   ]
  },
  {
   "cell_type": "code",
   "execution_count": 197,
   "outputs": [
    {
     "data": {
      "text/plain": "519"
     },
     "execution_count": 197,
     "metadata": {},
     "output_type": "execute_result"
    }
   ],
   "source": [
    "# Remove wind direction from weather\n",
    "df2.weather.str.strip()\n",
    "df2['weather'] = df2['weather'].str.lower().str.replace('(','').str.replace(')','').str.replace('.','').str.replace(\"'\",\"\").str.replace('n/a','').str.replace('  ', ' ').str.strip()\n",
    "df2['weather'] = df2['weather'].str.replace(' n ', ' ').str.replace(' nnw ', ' ').str.replace(' wnw ', ' ').str.replace(' nw ', ' ')\n",
    "df2['weather'] = df2['weather'].str.replace(' w ', ' ').str.replace(' ssw ', ' ').str.replace(' sws ', ' ').str.replace(' sw ', ' ')\n",
    "df2['weather'] = df2['weather'].str.replace(' s ', ' ').str.replace(' sse ', ' ').str.replace(' ese ', ' ').str.replace(' se ', ' ')\n",
    "df2['weather'] = df2['weather'].str.replace(' e ', ' ').str.replace(' nne ', ' ').str.replace(' ene ', ' ').str.replace(' ne ', ' ')\n",
    "\n",
    "df2.weather.nunique()"
   ],
   "metadata": {
    "collapsed": false,
    "ExecuteTime": {
     "end_time": "2024-01-15T04:59:20.098206Z",
     "start_time": "2024-01-15T04:59:19.209527Z"
    }
   },
   "id": "c89688c4612605dd"
  },
  {
   "cell_type": "code",
   "execution_count": 198,
   "outputs": [
    {
     "name": "stdout",
     "output_type": "stream",
     "text": [
      "['DAL_GB_2024_01_14']\n"
     ]
    }
   ],
   "source": [
    "df2.weather.str.strip()\n",
    "\n",
    "df2['weather'] = np.where(df2['weather'] == 'n/a temp: humidity: wind: mph', np.nan,\n",
    "                          np.where(df2['weather'] == 'temp: humidity: wind: mph', np.nan,\n",
    "                                   np.where(df2['weather'] == '', np.nan,\n",
    "                                            df2['weather'])))\n",
    "\n",
    "# Impute missing values with previous value within game\n",
    "df2['weather'] = df2.groupby(['game_id'])['weather'].fillna(method='ffill')\n",
    "\n",
    "# Map stadiums to new values\n",
    "weather_map = {'ARI_KC_2022_09_11': 'indoors temp: 72° f, humidity: 18%, wind: 0 mph',\n",
    "               'ARI_LA_2022_09_25': 'indoors temp: 72° f, humidity: 18%, wind: 0 mph',\n",
    "               'ARI_PHI_2022_10_09': 'indoors temp: 72° f, humidity: 18%, wind: 0 mph',\n",
    "               'ARI_NE_2022_12_12': 'indoors temp: 72° f, humidity: 18%, wind: 0 mph',\n",
    "               'ARI_NYG_2023_09_17': 'indoors temp: 72° f, humidity: 18%, wind: 0 mph',\n",
    "               'ARI_CIN_2023_10_08': 'indoors temp: 72° f, humidity: 18%, wind: 0 mph',\n",
    "               'ARI_ATL_2023_11_12': 'indoors temp: 72° f, humidity: 18%, wind: 0 mph',\n",
    "               'DAL_CIN_2022_09_18': 'indoors temp: 72° f, humidity: 18%, wind: 0 mph',\n",
    "               'KC_CIN_2023_01_29': 'mostly cloudy temp: 22° f, humidity: 55%, wind: 10 mph',\n",
    "               'DAL_TB_2022_09_11':  'indoors temp: 72° f, humidity: 18%, wind: 0 mph',\n",
    "               'DAL_WAS_2022_10_02': 'indoors temp: 72° f, humidity: 18%, wind: 0 mph',\n",
    "               'DAL_DET_2022_10_23': 'indoors temp: 72° f, humidity: 18%, wind: 0 mph',\n",
    "               'DAL_NYG_2022_11_24': 'indoors temp: 72° f, humidity: 18%, wind: 0 mph',\n",
    "               'DAL_IND_2022_12_04': 'indoors temp: 72° f, humidity: 18%, wind: 0 mph',\n",
    "               'DAL_HOU_2022_12_11': 'indoors temp: 72° f, humidity: 18%, wind: 0 mph',\n",
    "               'DAL_PHI_2022_12_24': 'indoors temp: 72° f, humidity: 18%, wind: 0 mph',\n",
    "               'DAL_NYJ_2023_09_17': 'indoors temp: 72° f, humidity: 18%, wind: 0 mph',\n",
    "               'DAL_NE_2023_10_01':  'indoors temp: 72° f, humidity: 18%, wind: 0 mph',\n",
    "               'DAL_NYG_2023_11_12': 'indoors temp: 72° f, humidity: 18%, wind: 0 mph',\n",
    "               'DAL_WAS_2023_11_23': 'indoors temp: 72° f, humidity: 18%, wind: 0 mph',\n",
    "               'DAL_SEA_2023_11_30': 'indoors temp: 72° f, humidity: 18%, wind: 0 mph',\n",
    "               'PHI_KC_2023_02_12': 'sunny temp: 77° f, humidity: 9%, wind: 0 mph',\n",
    "               'DAL_PHI_2023_12_10': 'indoors temp: 72° f, humidity: 18%, wind: 0 mph',\n",
    "               'DAL_DET_2023_12_30': 'indoors temp: 72° f, humidity: 18%, wind: 0 mph',\n",
    "               }\n",
    "\n",
    "# Use weather map values based on game_alt_id\n",
    "df2['weather'] = np.where(df2['game_alt_id'].isin(weather_map.keys()), df2['game_alt_id'].map(weather_map), df2['weather'])\n",
    "\n",
    "# Impute missing weather values\n",
    "# df2['weather'] = np.where(df2['weather'].isnull(), 'indoors temp: 65° f, humidity: 18%, wind: 0 mph', df2['weather'])\n",
    "\n",
    "# Replace t: with temp:\n",
    "df2['weather'] = df2['weather'].str.replace('t: ', 'temp: ').str.replace('h: ', 'humidity: ').str.replace('w: ', 'wind: ')\n",
    "\n",
    "# Print game_alt_id with null values\n",
    "missing_weather = df2[df2['weather'].isnull()]['game_alt_id'].unique()\n",
    "print(missing_weather)"
   ],
   "metadata": {
    "collapsed": false,
    "ExecuteTime": {
     "end_time": "2024-01-15T04:59:20.393992Z",
     "start_time": "2024-01-15T04:59:20.099098Z"
    }
   },
   "id": "85e183a448bfb026"
  },
  {
   "cell_type": "code",
   "execution_count": 199,
   "outputs": [
    {
     "data": {
      "text/plain": "game_weather\ncloudy           25864\nsunny            21476\nindoor            8590\nunknown           5679\nrain              4573\nsnow               479\ncold               235\nfog                232\nthunderstorms      141\nName: count, dtype: int64"
     },
     "execution_count": 199,
     "metadata": {},
     "output_type": "execute_result"
    }
   ],
   "source": [
    "# Extract values from weather\n",
    "df2['game_temp'] = df2['weather'].str.extract(r'temp: (\\d+)').astype(float)\n",
    "df2['game_humidity'] = df2['weather'].str.extract(r'humidity: (\\d+)').astype(float)\n",
    "df2['game_wind'] = df2['weather'].str.extract(r'wind: (\\d+)').fillna(0).astype(float)\n",
    "\n",
    "# Impute with median value\n",
    "df2['game_temp'] = df2['game_temp'].fillna(df2['game_temp'].median())\n",
    "df2['game_humidity'] = df2['game_humidity'].fillna(df2['game_humidity'].median())\n",
    "df2['game_wind'] = df2['game_wind'].fillna(0)\n",
    "\n",
    "# Code weather conditions, cloudy, sunny, rain, snow, partly cloudy\n",
    "df2['game_weather'] = np.where(df2['weather'].str.find('controlled climate') >= 0, 'indoor',\n",
    "                               np.where(df2['weather'].str.find('indoor') >= 0, 'indoor', \n",
    "                               np.where(df2['weather'].str[0:7] == 'indoors', 'indoors',\n",
    "                               np.where(df2['weather'].str[0:18] == 'controlled climate', 'indoors',\n",
    "                               np.where(df2['weather'].str.find('rain') >= 0, 'rain',\n",
    "                               np.where(df2['weather'].str.find('drizzle') >= 0, 'rain',\n",
    "                               np.where(df2['weather'].str.find('snow') >= 0, 'snow',\n",
    "                               np.where(df2['weather'].str[0:16] == 'scattered clouds', 'cloudy',\n",
    "                               np.where(df2['weather'].str[0:5] == 'hazey', 'cloudy',\n",
    "                               np.where(df2['weather'].str.find('overcast') >= 0, 'cloudy',\n",
    "                               np.where(df2['weather'].str.find('partly') >= 0, 'cloudy',\n",
    "                               np.where(df2['weather'].str[0:6] == 'cloudy', 'cloudy',\n",
    "                               np.where(df2['weather'].str.find('sunny') >= 0, 'sunny',\n",
    "                               np.where(df2['weather'].str.find('clear') >= 0, 'sunny',\n",
    "                               np.where(df2['weather'].str[0:5] == 'sunny', 'sunny',\n",
    "                               np.where(df2['weather'].str[0:4] == 'fair', 'sunny',\n",
    "                               np.where(df2['weather'].str[0:3] == 'fog', 'fog',\n",
    "                               np.where(df2['weather'].str[0:5] == 'frigid', 'cold',\n",
    "                               np.where(df2['weather'].str[0:4] == 'cold', 'cold',\n",
    "                               np.where(df2['weather'].str[0:6] == 'frigid', 'cold',\n",
    "                               np.where(df2['weather'].str[0:4] == 'sun/', 'sunny',\n",
    "                               np.where(df2['weather'].str[0:7] == 'drizzle', 'rain',\n",
    "                               np.where(df2['weather'].str[0:13] == 'thunderstorms', 'thunderstorms',\n",
    "                               np.where(df2['weather'].str.find('cloudy') >= 0, 'cloudy',\n",
    "                               'unknown'))))))))))))))))))))))))\n",
    "\n",
    "df2.game_weather.value_counts(dropna=False, normalize=False)"
   ],
   "metadata": {
    "collapsed": false,
    "ExecuteTime": {
     "end_time": "2024-01-15T04:59:22.536489Z",
     "start_time": "2024-01-15T04:59:20.385654Z"
    }
   },
   "id": "ca4fb562b0309900"
  },
  {
   "cell_type": "code",
   "outputs": [
    {
     "data": {
      "text/plain": "array(['temp: 74° f, humidity: 91%, wind: 14 mph',\n       'temp: 64° f, humidity: 29%, wind: 5 mph',\n       'temp: 58° f, humidity: 81%, wind: 13 mph',\n       'temp: 62° f, humidity: 35%, wind: 15 mph',\n       'temp: 45° f, humidity: 43%, wind: 5 mph',\n       'temp: 56° f, humidity: 47%, wind: 8 mph',\n       'temp: 66; humidity: 60%; wind: 7mph temp: 66° f, humidity: 60%, wind: northwest 7 mph',\n       'temp: 82° f, humidity: 37%, wind: 9 mph',\n       'temp: 45° f, humidity: 84%, wind: 15 mph',\n       'temp: 61° f, humidity: 60%, wind: 4 mph',\n       'temp: 36° f, humidity: 59%, wind: 12 mph',\n       'temp: 53° f, humidity: 70%, wind: 15 mph',\n       'temp: 51° f, humidity: 47%, wind: 4 mph', nan,\n       'temp: 64° f, humidity: 18%, wind: 15 mph',\n       'upper 40s to mid 30s by end of game temp: 46° f, humidity: 27%, wind: 8 mph',\n       'temp: 53° f, humidity: 71%, wind: 8 mph',\n       'temp: 62° f, humidity: 67%, wind: 15 mph',\n       'temperatures to remain in 70s throughout the game temp: 72° f, humidity: 22%, wind: 9 mph',\n       'temp: 83° f, humidity: 36%, wind: 6 mph',\n       'temp: 46° f, humidity: 63%, wind: 12 mph',\n       'temp: 84° f, humidity: 51%, wind: wsw 6 mph',\n       'temp: 78° f, humidity: 87%, wind: 9 mph',\n       'temp: 68° f, humidity: 57%, wind: 10 mph',\n       'temp: 71° f, humidity: 71%, wind: 6 mph',\n       'temp: 81° f, humidity: 76%, wind: 12 mph',\n       'temp: 33° f, humidity: 56%, wind: 9 mph',\n       'temp: 59° f, humidity: 54%, wind: 4 mph',\n       'temp: 45° f, humidity: 52%, wind: 6 mph',\n       'temp: 37° f, humidity: 92%, wind: 6 mph',\n       'temp: 87° f, humidity: 68%, wind: 5 mph',\n       'temp: 59° f, humidity: 94%, wind: 11 mph',\n       'temp: 75° f, humidity: 62%, wind: 3 mph',\n       'temp: 81° f, humidity: 40%, wind: south 13 mph',\n       'temp: 58° f, humidity: 40%, wind: 14 mph',\n       'temp: 67° f, humidity: 33%, wind: 6 mph',\n       'temp: 44° f, humidity: 65%, wind: northwest 10 mph',\n       'temp: 12° f, humidity: 55%, wind: 15 mph',\n       'temp: 72° f, humidity: 35%, wind: 10 mph',\n       'temp: 45° f, humidity: 90%, wind: 12 mph',\n       'temp: 38° f, humidity: 89%, wind: 11 mph',\n       'temp: -4° f, humidity: 64%, wind: 19 mph',\n       'temp: 53° f, humidity: 20%, wind: 15 mph',\n       'temp: 64° f, humidity: 32%, wind: 9 mph',\n       'temp: 78° f, humidity: 54%, wind: 11 mph',\n       'temp: 76° f, humidity: 54%, wind: 10 mph',\n       'temp: 63° f, humidity: 78%, wind: 10 mph'], dtype=object)"
     },
     "execution_count": 200,
     "metadata": {},
     "output_type": "execute_result"
    }
   ],
   "source": [
    "# Return the rows with unknown weather\n",
    "test_df = df2[df2['game_weather'] == 'unknown']\n",
    "test_df = test_df[['game_id','game_weather','weather']]\n",
    "test_df.weather.unique()"
   ],
   "metadata": {
    "collapsed": false,
    "ExecuteTime": {
     "end_time": "2024-01-15T04:59:22.654176Z",
     "start_time": "2024-01-15T04:59:22.533323Z"
    }
   },
   "id": "15f1f56e7ca2fd65",
   "execution_count": 200
  },
  {
   "cell_type": "code",
   "outputs": [
    {
     "data": {
      "text/plain": "game_weather\ncloudy           31543\nsunny            21476\nindoor            8590\nrain              4573\nsnow               479\ncold               235\nfog                232\nthunderstorms      141\nName: count, dtype: int64"
     },
     "execution_count": 201,
     "metadata": {},
     "output_type": "execute_result"
    }
   ],
   "source": [
    "# Impute missing game_weather values with mode\n",
    "df2['game_weather'] = np.where(df2['game_weather'] =='unknown', df2['game_weather'].mode()[0], df2['game_weather'])\n",
    "\n",
    "df2.game_weather.value_counts(dropna=False, normalize=False)"
   ],
   "metadata": {
    "collapsed": false,
    "ExecuteTime": {
     "end_time": "2024-01-15T04:59:22.726248Z",
     "start_time": "2024-01-15T04:59:22.579866Z"
    }
   },
   "id": "cc50f401dfc2ff00",
   "execution_count": 201
  },
  {
   "cell_type": "code",
   "outputs": [
    {
     "data": {
      "text/plain": "array(['temp: 74° f, humidity: 91%, wind: 14 mph',\n       'temp: 64° f, humidity: 29%, wind: 5 mph',\n       'temp: 58° f, humidity: 81%, wind: 13 mph',\n       'temp: 62° f, humidity: 35%, wind: 15 mph',\n       'temp: 45° f, humidity: 43%, wind: 5 mph',\n       'temp: 56° f, humidity: 47%, wind: 8 mph',\n       'temp: 66; humidity: 60%; wind: 7mph temp: 66° f, humidity: 60%, wind: northwest 7 mph',\n       'temp: 82° f, humidity: 37%, wind: 9 mph',\n       'temp: 45° f, humidity: 84%, wind: 15 mph',\n       'temp: 61° f, humidity: 60%, wind: 4 mph',\n       'temp: 36° f, humidity: 59%, wind: 12 mph',\n       'temp: 53° f, humidity: 70%, wind: 15 mph',\n       'temp: 51° f, humidity: 47%, wind: 4 mph', nan,\n       'temp: 64° f, humidity: 18%, wind: 15 mph',\n       'upper 40s to mid 30s by end of game temp: 46° f, humidity: 27%, wind: 8 mph',\n       'temp: 53° f, humidity: 71%, wind: 8 mph',\n       'temp: 62° f, humidity: 67%, wind: 15 mph',\n       'temperatures to remain in 70s throughout the game temp: 72° f, humidity: 22%, wind: 9 mph',\n       'temp: 83° f, humidity: 36%, wind: 6 mph',\n       'temp: 46° f, humidity: 63%, wind: 12 mph',\n       'temp: 84° f, humidity: 51%, wind: wsw 6 mph',\n       'temp: 78° f, humidity: 87%, wind: 9 mph',\n       'temp: 68° f, humidity: 57%, wind: 10 mph',\n       'temp: 71° f, humidity: 71%, wind: 6 mph',\n       'temp: 81° f, humidity: 76%, wind: 12 mph',\n       'temp: 33° f, humidity: 56%, wind: 9 mph',\n       'temp: 59° f, humidity: 54%, wind: 4 mph',\n       'temp: 45° f, humidity: 52%, wind: 6 mph',\n       'temp: 37° f, humidity: 92%, wind: 6 mph',\n       'temp: 87° f, humidity: 68%, wind: 5 mph',\n       'temp: 59° f, humidity: 94%, wind: 11 mph',\n       'temp: 75° f, humidity: 62%, wind: 3 mph',\n       'temp: 81° f, humidity: 40%, wind: south 13 mph',\n       'temp: 58° f, humidity: 40%, wind: 14 mph',\n       'temp: 67° f, humidity: 33%, wind: 6 mph',\n       'temp: 44° f, humidity: 65%, wind: northwest 10 mph',\n       'temp: 12° f, humidity: 55%, wind: 15 mph',\n       'temp: 72° f, humidity: 35%, wind: 10 mph',\n       'temp: 45° f, humidity: 90%, wind: 12 mph',\n       'temp: 38° f, humidity: 89%, wind: 11 mph',\n       'temp: -4° f, humidity: 64%, wind: 19 mph',\n       'temp: 53° f, humidity: 20%, wind: 15 mph',\n       'temp: 64° f, humidity: 32%, wind: 9 mph',\n       'temp: 78° f, humidity: 54%, wind: 11 mph',\n       'temp: 76° f, humidity: 54%, wind: 10 mph',\n       'temp: 63° f, humidity: 78%, wind: 10 mph'], dtype=object)"
     },
     "execution_count": 202,
     "metadata": {},
     "output_type": "execute_result"
    }
   ],
   "source": [
    "test_df.weather.unique()"
   ],
   "metadata": {
    "collapsed": false,
    "ExecuteTime": {
     "end_time": "2024-01-15T04:59:22.764586Z",
     "start_time": "2024-01-15T04:59:22.597874Z"
    }
   },
   "id": "499d371ab799e4a9",
   "execution_count": 202
  },
  {
   "cell_type": "code",
   "execution_count": 203,
   "outputs": [
    {
     "data": {
      "text/plain": "          game_temp  game_humidity     game_wind\ncount  67269.000000   67269.000000  67269.000000\nmean      60.160743      57.960651      6.827528\nstd       16.442764      21.397827      5.118105\nmin        3.000000       0.000000      0.000000\n25%       50.000000      44.000000      3.000000\n50%       63.000000      60.000000      6.000000\n75%       72.000000      72.000000     10.000000\nmax       93.000000     100.000000     44.000000",
      "text/html": "<div>\n<style scoped>\n    .dataframe tbody tr th:only-of-type {\n        vertical-align: middle;\n    }\n\n    .dataframe tbody tr th {\n        vertical-align: top;\n    }\n\n    .dataframe thead th {\n        text-align: right;\n    }\n</style>\n<table border=\"1\" class=\"dataframe\">\n  <thead>\n    <tr style=\"text-align: right;\">\n      <th></th>\n      <th>game_temp</th>\n      <th>game_humidity</th>\n      <th>game_wind</th>\n    </tr>\n  </thead>\n  <tbody>\n    <tr>\n      <th>count</th>\n      <td>67269.000000</td>\n      <td>67269.000000</td>\n      <td>67269.000000</td>\n    </tr>\n    <tr>\n      <th>mean</th>\n      <td>60.160743</td>\n      <td>57.960651</td>\n      <td>6.827528</td>\n    </tr>\n    <tr>\n      <th>std</th>\n      <td>16.442764</td>\n      <td>21.397827</td>\n      <td>5.118105</td>\n    </tr>\n    <tr>\n      <th>min</th>\n      <td>3.000000</td>\n      <td>0.000000</td>\n      <td>0.000000</td>\n    </tr>\n    <tr>\n      <th>25%</th>\n      <td>50.000000</td>\n      <td>44.000000</td>\n      <td>3.000000</td>\n    </tr>\n    <tr>\n      <th>50%</th>\n      <td>63.000000</td>\n      <td>60.000000</td>\n      <td>6.000000</td>\n    </tr>\n    <tr>\n      <th>75%</th>\n      <td>72.000000</td>\n      <td>72.000000</td>\n      <td>10.000000</td>\n    </tr>\n    <tr>\n      <th>max</th>\n      <td>93.000000</td>\n      <td>100.000000</td>\n      <td>44.000000</td>\n    </tr>\n  </tbody>\n</table>\n</div>"
     },
     "execution_count": 203,
     "metadata": {},
     "output_type": "execute_result"
    }
   ],
   "source": [
    "# Print summary stats for game_temp, game_humidity, game_wind\n",
    "df2[['game_temp','game_humidity','game_wind']].describe()"
   ],
   "metadata": {
    "collapsed": false,
    "ExecuteTime": {
     "end_time": "2024-01-15T04:59:22.890970Z",
     "start_time": "2024-01-15T04:59:22.605970Z"
    }
   },
   "id": "795c890e9dc76ecb"
  },
  {
   "cell_type": "code",
   "execution_count": 204,
   "outputs": [
    {
     "data": {
      "text/plain": "offense_formation\nSHOTGUN       35758\nSINGLEBACK    14595\nEMPTY          4928\nNaN            4378\nI_FORM         3580\nPISTOL         3094\nJUMBO           591\nWILDCAT         345\nName: count, dtype: int64"
     },
     "execution_count": 204,
     "metadata": {},
     "output_type": "execute_result"
    }
   ],
   "source": [
    "df2.offense_formation.value_counts(dropna=False, normalize=False)"
   ],
   "metadata": {
    "collapsed": false,
    "ExecuteTime": {
     "end_time": "2024-01-15T04:59:22.891707Z",
     "start_time": "2024-01-15T04:59:22.628525Z"
    }
   },
   "id": "5681b892dd60b1e5"
  },
  {
   "cell_type": "code",
   "execution_count": 205,
   "outputs": [
    {
     "data": {
      "text/plain": "offense_formation\nshotgun       40133\nsingleback    14595\nempty          4928\ni_form         3580\npistol         3094\njumbo           594\nwildcat         345\nName: count, dtype: int64"
     },
     "execution_count": 205,
     "metadata": {},
     "output_type": "execute_result"
    }
   ],
   "source": [
    "df2['offense_formation'] = df2['offense_formation'].str.strip().str.lower()\n",
    "\n",
    "# Impute missing offense_formation with pass formation and run formation\n",
    "df2['offense_formation'] = np.where((df2['offense_formation'].isnull()) & (df2['shotgun'] == 1),'shotgun', \n",
    "                                             np.where((df2['offense_formation'].isnull()) & (df2['offense_personnel'].str[0:4] == '6 OL'),'jumbo',\n",
    "                                                      np.where((df2['offense_formation'].isnull()) & (df2['offense_personnel'].str.find('3 TE') >0),'jumbo',\n",
    "                                                               np.where((df2['offense_formation'].isnull()) & (df2['offense_personnel'].str.find('0 WR') >0),'jumbo',\n",
    "                                                                        np.where((df2['offense_formation'].isnull()) & (df2['offense_personnel'].str.find('3 WR') >0), 'shotgun',\n",
    "                                                                                 np.where((df2['offense_formation'].isnull()) & (df2['offense_personnel'].str[0:4] == '2 RB'), 'shotgun',\n",
    "                                                                                          np.where((df2['offense_formation'].isnull()) & (df2['offense_personnel'].str[0:4] == '1 RB'), 'singleback',\n",
    "                                                                                                   df2['offense_formation'])))))))\n",
    "\n",
    "# Impute missing offense_formation with mode\n",
    "df2['offense_formation'] = df2['offense_formation'].fillna(df2['offense_formation'].mode()[0])\n",
    "\n",
    "df2.offense_formation.value_counts(dropna=False, normalize=False)"
   ],
   "metadata": {
    "collapsed": false,
    "ExecuteTime": {
     "end_time": "2024-01-15T04:59:23.409815Z",
     "start_time": "2024-01-15T04:59:22.640011Z"
    }
   },
   "id": "42d86bfc093b4d84"
  },
  {
   "cell_type": "code",
   "execution_count": 206,
   "id": "06c444c5",
   "metadata": {
    "pycharm": {
     "name": "#%%\n"
    },
    "ExecuteTime": {
     "end_time": "2024-01-15T04:59:23.424382Z",
     "start_time": "2024-01-15T04:59:22.938610Z"
    }
   },
   "outputs": [],
   "source": [
    "# Offsetting penalties\n",
    "df2['offsetting_penalties'] = np.where((df2['desc'].str.find('offsetting') >= 0) & (df2['desc'].str.find('no play') >= 0), 1, 0)\n",
    "\n",
    "# Impute missing yards_gained\n",
    "df2['yards_gained'] = np.where(df2['offsetting_penalties'] == 1, 0, df2['yards_gained'])"
   ]
  },
  {
   "cell_type": "code",
   "outputs": [],
   "source": [
    "# Code yardline zones\n",
    "df2['dtg_99to96'] = np.where(df2['yardline_100'] >= 96, 1, 0)\n",
    "df2['dtg_95to90'] = np.where((df2['yardline_100'] <= 95) & (df2['yardline_100'] >= 90), 1, 0)\n",
    "df2['dtg_89to75'] = np.where((df2['yardline_100'] <= 89) & (df2['yardline_100'] >= 75), 1, 0)\n",
    "df2['dtg_74to55'] = np.where((df2['yardline_100'] <= 74) & (df2['yardline_100'] >= 55), 1, 0)\n",
    "df2['dtg_54to45'] = np.where((df2['yardline_100'] <= 54) & (df2['yardline_100'] >= 45), 1, 0)\n",
    "df2['dtg_44to35'] = np.where((df2['yardline_100'] <= 44) & (df2['yardline_100'] >= 35), 1, 0)\n",
    "df2['dtg_34to21'] = np.where((df2['yardline_100'] <= 34) & (df2['yardline_100'] >= 21), 1, 0)\n",
    "df2['dtg_20to10'] = np.where((df2['yardline_100'] <= 20) & (df2['yardline_100'] >= 10), 1, 0)\n",
    "df2['dtg_09to00'] = np.where(df2['yardline_100'] <=9, 1, 0)"
   ],
   "metadata": {
    "collapsed": false,
    "ExecuteTime": {
     "end_time": "2024-01-15T04:59:23.459976Z",
     "start_time": "2024-01-15T04:59:23.040035Z"
    }
   },
   "id": "52386face2332294",
   "execution_count": 207
  },
  {
   "cell_type": "code",
   "execution_count": 208,
   "id": "6a1e2887",
   "metadata": {
    "pycharm": {
     "name": "#%%\n"
    },
    "ExecuteTime": {
     "end_time": "2024-01-15T04:59:30.282551Z",
     "start_time": "2024-01-15T04:59:23.057372Z"
    }
   },
   "outputs": [],
   "source": [
    "# Code big gains on previous run plays (>= 15 yards)\n",
    "df2['big_play_pass'] = np.where((df2['play_type']=='pass') & (df2['yards_gained']>=15) & (df2['turnover']==0), 1, 0)\n",
    "\n",
    "df2['prev1_big_play_pass'] = df2['big_play_pass'].shift(1).where(df2['drive'].shift(1) == df2['drive'], 0)\n",
    "df2['prev2_big_play_pass'] = df2['big_play_pass'].shift(2).where(df2['drive'].shift(2) == df2['drive'], 0)\n",
    "df2['prev3_big_play_pass'] = df2['big_play_pass'].shift(3).where(df2['drive'].shift(3) == df2['drive'], 0)\n",
    "\n",
    "# Calculate the percent of play classification within prior plays of current drive\n",
    "df2['drive_big_play_pass_pcnt'] = (df2.groupby(['game_id', 'drive'])['big_play_pass'].transform(lambda x: x.rolling(window=rolling_series_window, min_periods=1, closed='left').sum())/df2['play_sequence_series'] - 1).fillna(0)\n",
    "\n",
    "# Convert inf values to zero\n",
    "#df2['drive_big_play_pass_pcnt'] = np.where(df2['drive_big_play_pass_pcnt'] == np.inf, 0, df2['drive_big_play_pass_pcnt'])\n",
    "#df2['drive_big_play_pass_pcnt'] = np.where(df2['drive_big_play_pass_pcnt'] == -np.inf, 0, df2['drive_big_play_pass_pcnt'])\n",
    "\n",
    "# Convert values < 0 to zero\n",
    "df2['drive_big_play_pass_pcnt'] = np.where(df2['drive_big_play_pass_pcnt'] < 0, 0, df2['drive_big_play_pass_pcnt'])\n",
    "\n",
    "# Drop big play pass\n",
    "df2.drop(['big_play_pass'], axis=1, inplace=True)"
   ]
  },
  {
   "cell_type": "code",
   "execution_count": 209,
   "id": "de6800cd",
   "metadata": {
    "pycharm": {
     "name": "#%%\n"
    },
    "ExecuteTime": {
     "end_time": "2024-01-15T04:59:35.906838Z",
     "start_time": "2024-01-15T04:59:30.282377Z"
    }
   },
   "outputs": [],
   "source": [
    "# Code big gains on previous run plays (>= 7 yards)\n",
    "df2['big_play_run'] = np.where((df2['play_type']=='run') & (df2['yards_gained']>=7) & (df2['turnover']==0), 1, 0)\n",
    "\n",
    "df2['prev1_big_play_run'] = df2['big_play_run'].shift(1).where(df2['drive'].shift(1) == df2['drive'], 0)\n",
    "df2['prev2_big_play_run'] = df2['big_play_run'].shift(2).where(df2['drive'].shift(2) == df2['drive'], 0)\n",
    "df2['prev3_big_play_run'] = df2['big_play_run'].shift(3).where(df2['drive'].shift(3) == df2['drive'], 0)\n",
    "\n",
    "# Calculate the percent of play classification within prior plays of current drive\n",
    "df2['drive_big_play_run_pcnt'] = (df2.groupby(['game_id', 'drive'])['big_play_run'].transform(lambda x: x.rolling(window=rolling_series_window, min_periods=1, closed='left').sum())/df2['play_sequence_series'] - 1).fillna(0)\n",
    "\n",
    "# Convert inf values to zero\n",
    "df2['drive_big_play_run_pcnt'] = np.where(df2['drive_big_play_run_pcnt'] == np.inf, 0, df2['drive_big_play_run_pcnt'])\n",
    "df2['drive_big_play_run_pcnt'] = np.where(df2['drive_big_play_run_pcnt'] == -np.inf, 0, df2['drive_big_play_run_pcnt'])\n",
    "\n",
    "# Convert values < 0 to zero\n",
    "df2['drive_big_play_run_pcnt'] = np.where(df2['drive_big_play_run_pcnt'] < 0, 0, df2['drive_big_play_run_pcnt'])\n",
    "\n",
    "# Drop big play run\n",
    "df2.drop(['big_play_run'], axis=1, inplace=True)"
   ]
  },
  {
   "cell_type": "code",
   "execution_count": 210,
   "id": "0c88d03d",
   "metadata": {
    "pycharm": {
     "name": "#%%\n"
    },
    "ExecuteTime": {
     "end_time": "2024-01-15T04:59:36.103494Z",
     "start_time": "2024-01-15T04:59:35.915564Z"
    }
   },
   "outputs": [],
   "source": [
    "# Code negative run on previous plays\n",
    "df2['negative_pass'] = np.where((df2['play_type']=='pass') & (df2['yards_gained']<0) & (df2['turnover']==0), 1, 0)\n",
    "\n",
    "df2['prev1_negative_pass'] = df2['negative_pass'].shift(1).where(df2['drive'].shift(1) == df2['drive'], 0)\n",
    "df2['prev2_negative_pass'] = df2['negative_pass'].shift(2).where(df2['drive'].shift(2) == df2['drive'], 0)\n",
    "df2['prev3_negative_pass'] = df2['negative_pass'].shift(3).where(df2['drive'].shift(3) == df2['drive'], 0)\n",
    "\n",
    "# Drop negative pass\n",
    "df2.drop(['negative_pass'], axis=1, inplace=True)"
   ]
  },
  {
   "cell_type": "code",
   "execution_count": 211,
   "id": "a792fe83",
   "metadata": {
    "pycharm": {
     "name": "#%%\n"
    },
    "ExecuteTime": {
     "end_time": "2024-01-15T04:59:36.295939Z",
     "start_time": "2024-01-15T04:59:36.109028Z"
    }
   },
   "outputs": [],
   "source": [
    "# Code negative run on previous plays\n",
    "df2['negative_run'] = np.where((df2['play_type']=='run') & (df2['yards_gained'] < 0) & (df2['turnover']==0), 1, 0)\n",
    "\n",
    "df2['prev1_negative_run'] = df2['negative_run'].shift(1).where(df2['drive'].shift(1) == df2['drive'], 0)\n",
    "df2['prev2_negative_run'] = df2['negative_run'].shift(2).where(df2['drive'].shift(2) == df2['drive'], 0)\n",
    "df2['prev3_negative_run'] = df2['negative_run'].shift(3).where(df2['drive'].shift(3) == df2['drive'], 0)\n",
    "\n",
    "# Drop negative run\n",
    "df2.drop(['negative_run'], axis=1, inplace=True)"
   ]
  },
  {
   "cell_type": "code",
   "execution_count": 212,
   "id": "a9c916bb4fbfb0a8",
   "metadata": {
    "pycharm": {
     "name": "#%%\n"
    },
    "ExecuteTime": {
     "end_time": "2024-01-15T04:59:36.384734Z",
     "start_time": "2024-01-15T04:59:36.298714Z"
    }
   },
   "outputs": [
    {
     "data": {
      "text/plain": "play_type_prev1\npass    30713\nrun     24704\nnone    11852\nName: count, dtype: int64"
     },
     "execution_count": 212,
     "metadata": {},
     "output_type": "execute_result"
    }
   ],
   "source": [
    "# Code the play_type on previous plays\n",
    "df2['play_type_prev1'] = df2['play_type'].shift(1).where(df2['drive'].shift(1) == df2['drive'], np.nan)\n",
    "df2['play_type_prev2'] = df2['play_type'].shift(2).where(df2['drive'].shift(2) == df2['drive'], np.nan)\n",
    "df2['play_type_prev3'] = df2['play_type'].shift(3).where(df2['drive'].shift(3) == df2['drive'], np.nan)\n",
    "df2['play_type_prev4'] = df2['play_type'].shift(4).where(df2['drive'].shift(4) == df2['drive'], np.nan)\n",
    "df2['play_type_prev5'] = df2['play_type'].shift(5).where(df2['drive'].shift(5) == df2['drive'], np.nan)\n",
    "\n",
    "\n",
    "# Impute with mode value\n",
    "df2['play_type_prev1'] = np.where(df2['play_type_prev1'].isnull(), 'none', df2['play_type_prev1'])\n",
    "df2['play_type_prev2'] = np.where(df2['play_type_prev2'].isnull(), 'none', df2['play_type_prev2'])\n",
    "df2['play_type_prev3'] = np.where(df2['play_type_prev3'].isnull(), 'none', df2['play_type_prev3'])\n",
    "df2['play_type_prev4'] = np.where(df2['play_type_prev4'].isnull(), 'none', df2['play_type_prev4'])\n",
    "df2['play_type_prev5'] = np.where(df2['play_type_prev5'].isnull(), 'none', df2['play_type_prev5'])\n",
    "\n",
    "df2.play_type_prev1.value_counts(dropna=False)"
   ]
  },
  {
   "cell_type": "code",
   "execution_count": 213,
   "outputs": [],
   "source": [
    "# Code the play_type on previous plays\n",
    "df2['penalty_team_prev1'] = df2['penalty_team'].shift(1).where(df2['drive'].shift(1) == df2['drive'], '')\n",
    "df2['penalty_team_prev2'] = df2['penalty_team'].shift(2).where(df2['drive'].shift(2) == df2['drive'], '')\n",
    "df2['penalty_team_prev3'] = df2['penalty_team'].shift(3).where(df2['drive'].shift(3) == df2['drive'], '')\n",
    "df2['penalty_team_prev4'] = df2['penalty_team'].shift(4).where(df2['drive'].shift(4) == df2['drive'], '')\n",
    "df2['penalty_team_prev5'] = df2['penalty_team'].shift(5).where(df2['drive'].shift(5) == df2['drive'], '')\n",
    "\n",
    "##########\n",
    "df2['prev1_play_off_penalty'] = np.where(df2['penalty_team_prev1'] == df2['posteam'], 1, 0)\n",
    "df2['prev1_play_def_penalty'] = np.where(df2['penalty_team_prev1'] == df2['defteam'], 1, 0)\n",
    "\n",
    "##########\n",
    "df2['prev2_play_off_penalty'] = np.where(df2['penalty_team_prev2'] == df2['posteam'], 1, 0)\n",
    "df2['prev2_play_def_penalty'] = np.where(df2['penalty_team_prev2'] == df2['defteam'], 1, 0)\n",
    "\n",
    "##########\n",
    "df2['prev3_play_off_penalty'] = np.where(df2['penalty_team_prev3'] == df2['posteam'], 1, 0)\n",
    "df2['prev3_play_def_penalty'] = np.where(df2['penalty_team_prev3'] == df2['defteam'], 1, 0)\n",
    "\n",
    "##########\n",
    "df2['prev4_play_off_penalty'] = np.where(df2['penalty_team_prev4'] == df2['posteam'], 1, 0)\n",
    "df2['prev4_play_def_penalty'] = np.where(df2['penalty_team_prev4'] == df2['defteam'], 1, 0)\n",
    "\n",
    "##########\n",
    "df2['prev5_play_off_penalty'] = np.where(df2['penalty_team_prev5'] == df2['posteam'], 1, 0)\n",
    "df2['prev5_play_def_penalty'] = np.where(df2['penalty_team_prev5'] == df2['defteam'], 1, 0)\n",
    "\n",
    "#########\n",
    "df2.drop(['penalty_team','penalty_team_prev1','penalty_team_prev2','penalty_team_prev3','penalty_team_prev4','penalty_team_prev5'], axis=1, inplace=True)"
   ],
   "metadata": {
    "collapsed": false,
    "ExecuteTime": {
     "end_time": "2024-01-15T04:59:36.621073Z",
     "start_time": "2024-01-15T04:59:36.350508Z"
    }
   },
   "id": "53492c4f9a22319d"
  },
  {
   "cell_type": "code",
   "outputs": [],
   "source": [
    "# Code the play_type_detail on previous plays\n",
    "df2['play_type_detail_prev1'] = df2['play_type_detail'].shift(1).where(df2['drive'].shift(1) == df2['drive'], '')\n",
    "df2['play_type_detail_prev2'] = df2['play_type_detail'].shift(2).where(df2['drive'].shift(2) == df2['drive'], '')\n",
    "df2['play_type_detail_prev3'] = df2['play_type_detail'].shift(3).where(df2['drive'].shift(3) == df2['drive'], '')\n",
    "\n",
    "df2['prev1_play_run_outside'] = np.where(df2['play_type_detail_prev1'] == 'run_outside', 1, 0)\n",
    "df2['prev1_play_run_inside'] = np.where(df2['play_type_detail_prev1'] == 'run_inside', 1, 0)\n",
    "df2['prev1_play_pass_deep'] = np.where(df2['play_type_detail_prev1'] == 'pass_deep', 1, 0)\n",
    "df2['prev1_play_pass_short'] = np.where(df2['play_type_detail_prev1'] == 'pass_short', 1, 0)\n",
    "\n",
    "df2['prev2_play_run_outside'] = np.where(df2['play_type_detail_prev2'] == 'run_outside', 1, 0)\n",
    "df2['prev2_play_run_inside'] = np.where(df2['play_type_detail_prev2'] == 'run_inside', 1, 0)\n",
    "df2['prev2_play_pass_deep'] = np.where(df2['play_type_detail_prev2'] == 'pass_deep', 1, 0)\n",
    "df2['prev2_play_pass_short'] = np.where(df2['play_type_detail_prev2'] == 'pass_short', 1, 0)\n",
    "\n",
    "df2['prev3_play_run_outside'] = np.where(df2['play_type_detail_prev3'] == 'run_outside', 1, 0)\n",
    "df2['prev3_play_run_inside'] = np.where(df2['play_type_detail_prev3'] == 'run_inside', 1, 0)\n",
    "df2['prev3_play_pass_deep'] = np.where(df2['play_type_detail_prev3'] == 'pass_deep', 1, 0)\n",
    "df2['prev3_play_pass_short'] = np.where(df2['play_type_detail_prev3'] == 'pass_short', 1, 0)\n",
    "\n",
    "df2.drop(['play_type_detail_prev1','play_type_detail_prev2','play_type_detail_prev3'], axis=1, inplace=True)"
   ],
   "metadata": {
    "collapsed": false,
    "ExecuteTime": {
     "end_time": "2024-01-15T04:59:36.890875Z",
     "start_time": "2024-01-15T04:59:36.606126Z"
    }
   },
   "id": "979e0e7ea5b4a4dd",
   "execution_count": 214
  },
  {
   "cell_type": "code",
   "execution_count": 215,
   "id": "0e834398",
   "metadata": {
    "pycharm": {
     "name": "#%%\n"
    },
    "ExecuteTime": {
     "end_time": "2024-01-15T04:59:40.103377Z",
     "start_time": "2024-01-15T04:59:36.895172Z"
    }
   },
   "outputs": [],
   "source": [
    "# Code incomplete passes on previous plays\n",
    "df2['prev1_incomplete_pass'] = df2['incomplete_pass'].shift(1).where(df2['drive'].shift(1) == df2['drive'], 0)\n",
    "df2['prev2_incomplete_pass'] = df2['incomplete_pass'].shift(2).where(df2['drive'].shift(2) == df2['drive'], 0)\n",
    "df2['prev3_incomplete_pass'] = df2['incomplete_pass'].shift(3).where(df2['drive'].shift(3) == df2['drive'], 0)\n",
    "df2['prev4_incomplete_pass'] = df2['incomplete_pass'].shift(4).where(df2['drive'].shift(4) == df2['drive'], 0)\n",
    "\n",
    "df2['prev1_incomplete_pass'].fillna(0, inplace = True)\n",
    "df2['prev2_incomplete_pass'].fillna(0, inplace = True)\n",
    "df2['prev3_incomplete_pass'].fillna(0, inplace = True)\n",
    "df2['prev4_incomplete_pass'].fillna(0, inplace = True)\n",
    "\n",
    "# Calculate the percent of play classification within prior plays of current drive\n",
    "df2['drive_incomplete_pass_pcnt'] = (df2.groupby(['game_id', 'drive'])['incomplete_pass'].transform(lambda x: x.rolling(window=rolling_series_window, min_periods=1, closed='left').sum())/df2['play_sequence_series'] - 1).fillna(0)\n",
    "\n",
    "# Convert values < 0 to zero\n",
    "df2['drive_incomplete_pass_pcnt'] = np.where(df2['drive_incomplete_pass_pcnt'] < 0, 0, df2['drive_incomplete_pass_pcnt'])\n",
    "\n",
    "# Convert Inf values to zero\n",
    "df2['drive_incomplete_pass_pcnt'] = np.where(df2['drive_incomplete_pass_pcnt'] == np.inf, 0, df2['drive_incomplete_pass_pcnt'])\n",
    "df2['drive_incomplete_pass_pcnt'] = np.where(df2['drive_incomplete_pass_pcnt'] == -np.inf, 0, df2['drive_incomplete_pass_pcnt'])"
   ]
  },
  {
   "cell_type": "code",
   "execution_count": 216,
   "id": "499ece7b",
   "metadata": {
    "pycharm": {
     "name": "#%%\n"
    },
    "ExecuteTime": {
     "end_time": "2024-01-15T04:59:40.152198Z",
     "start_time": "2024-01-15T04:59:40.108600Z"
    }
   },
   "outputs": [],
   "source": [
    "# Code yards on previous plays\n",
    "df2['prev1_yards_gained'] = df2['yards_gained'].shift(1).where(df2['drive'].shift(1) == df2['drive'], 0)\n",
    "df2['prev2_yards_gained'] = df2['yards_gained'].shift(2).where(df2['drive'].shift(2) == df2['drive'], 0)\n",
    "df2['prev3_yards_gained'] = df2['yards_gained'].shift(3).where(df2['drive'].shift(3) == df2['drive'], 0)\n",
    "df2['prev4_yards_gained'] = df2['yards_gained'].shift(4).where(df2['drive'].shift(4) == df2['drive'], 0)\n",
    "df2['prev5_yards_gained'] = df2['yards_gained'].shift(5).where(df2['drive'].shift(5) == df2['drive'], 0)\n",
    "\n",
    "df2['prev1_yards_gained'].fillna(0, inplace = True)\n",
    "df2['prev2_yards_gained'].fillna(0, inplace = True)\n",
    "df2['prev3_yards_gained'].fillna(0, inplace = True)\n",
    "df2['prev4_yards_gained'].fillna(0, inplace = True)\n",
    "df2['prev5_yards_gained'].fillna(0, inplace = True)"
   ]
  },
  {
   "cell_type": "code",
   "execution_count": 217,
   "id": "3d305698",
   "metadata": {
    "pycharm": {
     "name": "#%%\n"
    },
    "ExecuteTime": {
     "end_time": "2024-01-15T04:59:40.218913Z",
     "start_time": "2024-01-15T04:59:40.126111Z"
    }
   },
   "outputs": [],
   "source": [
    "# Code win probability of previous plays\n",
    "df2['prev1_wpa'] = df2['wpa'].shift(1).where(df2['drive'].shift(1) == df2['drive'], 0)\n",
    "df2['prev2_wpa'] = df2['wpa'].shift(2).where(df2['drive'].shift(2) == df2['drive'], 0)\n",
    "df2['prev3_wpa'] = df2['wpa'].shift(3).where(df2['drive'].shift(3) == df2['drive'], 0)\n",
    "df2['prev4_wpa'] = df2['wpa'].shift(4).where(df2['drive'].shift(4) == df2['drive'], 0)\n",
    "df2['prev5_wpa'] = df2['wpa'].shift(5).where(df2['drive'].shift(5) == df2['drive'], 0)\n",
    "\n",
    "df2['prev1_wpa'].fillna(0, inplace = True)\n",
    "df2['prev2_wpa'].fillna(0, inplace = True)\n",
    "df2['prev3_wpa'].fillna(0, inplace = True)\n",
    "df2['prev4_wpa'].fillna(0, inplace = True)\n",
    "df2['prev5_wpa'].fillna(0, inplace = True)"
   ]
  },
  {
   "cell_type": "code",
   "execution_count": 218,
   "id": "ebaddd5d",
   "metadata": {
    "pycharm": {
     "name": "#%%\n"
    },
    "ExecuteTime": {
     "end_time": "2024-01-15T04:59:43.216630Z",
     "start_time": "2024-01-15T04:59:40.183490Z"
    }
   },
   "outputs": [],
   "source": [
    "# Code shotgun formation of previous plays\n",
    "df2['prev1_shotgun'] = df2['shotgun'].shift(1).where(df2['drive'].shift(1) == df2['drive'], 0)\n",
    "df2['prev2_shotgun'] = df2['shotgun'].shift(2).where(df2['drive'].shift(2) == df2['drive'], 0)\n",
    "df2['prev3_shotgun'] = df2['shotgun'].shift(3).where(df2['drive'].shift(3) == df2['drive'], 0)\n",
    "df2['prev4_shotgun'] = df2['shotgun'].shift(4).where(df2['drive'].shift(4) == df2['drive'], 0)\n",
    "df2['prev5_shotgun'] = df2['shotgun'].shift(5).where(df2['drive'].shift(5) == df2['drive'], 0)\n",
    "\n",
    "df2['prev1_shotgun'].fillna(0, inplace = True)\n",
    "df2['prev2_shotgun'].fillna(0, inplace = True)\n",
    "df2['prev3_shotgun'].fillna(0, inplace = True)\n",
    "df2['prev4_shotgun'].fillna(0, inplace = True)\n",
    "df2['prev5_shotgun'].fillna(0, inplace = True)\n",
    "\n",
    "# Calculate the percent of play classification within prior plays of current drive\n",
    "df2['drive_shotgun_pcnt'] = (df2.groupby(['game_id', 'drive'])['shotgun'].transform(lambda x: x.rolling(window=rolling_series_window, min_periods=1, closed='left').sum())/df2['play_sequence_series'] - 1).fillna(0)\n",
    "\n",
    "# Convert inf values to zero\n",
    "df2['drive_shotgun_pcnt'] = np.where(df2['drive_shotgun_pcnt'] == np.inf, 0, df2['drive_shotgun_pcnt'])\n",
    "\n",
    "# Convert values < 0 to zero\n",
    "df2['drive_shotgun_pcnt'] = np.where(df2['drive_shotgun_pcnt'] < 0, 0, df2['drive_shotgun_pcnt'])"
   ]
  },
  {
   "cell_type": "code",
   "execution_count": 219,
   "id": "11667503",
   "metadata": {
    "pycharm": {
     "name": "#%%\n"
    },
    "ExecuteTime": {
     "end_time": "2024-01-15T04:59:46.599540Z",
     "start_time": "2024-01-15T04:59:43.221799Z"
    }
   },
   "outputs": [],
   "source": [
    "# Code qb_hit on previous plays\n",
    "df2['prev1_qb_hit'] = df2['qb_hit'].shift(1).where(df2['drive'].shift(1) == df2['drive'], 0)\n",
    "df2['prev2_qb_hit'] = df2['qb_hit'].shift(2).where(df2['drive'].shift(2) == df2['drive'], 0)\n",
    "df2['prev3_qb_hit'] = df2['qb_hit'].shift(3).where(df2['drive'].shift(3) == df2['drive'], 0)\n",
    "df2['prev4_qb_hit'] = df2['qb_hit'].shift(4).where(df2['drive'].shift(4) == df2['drive'], 0)\n",
    "df2['prev5_qb_hit'] = df2['qb_hit'].shift(5).where(df2['drive'].shift(5) == df2['drive'], 0)\n",
    "\n",
    "df2['prev1_qb_hit'].fillna(0, inplace = True)\n",
    "df2['prev2_qb_hit'].fillna(0, inplace = True)\n",
    "df2['prev3_qb_hit'].fillna(0, inplace = True)\n",
    "df2['prev4_qb_hit'].fillna(0, inplace = True)\n",
    "df2['prev5_qb_hit'].fillna(0, inplace = True)\n",
    "\n",
    "# Calculate the percent of play classification within prior plays of current drive\n",
    "df2['drive_qb_hit_pcnt'] = (df2.groupby(['game_id', 'drive'])['qb_hit'].transform(lambda x: x.rolling(window=rolling_series_window, min_periods=1, closed='left').sum())/df2['play_sequence_series'] - 1).fillna(0)\n",
    "\n",
    "# Convert values < 0 to zero\n",
    "df2['drive_qb_hit_pcnt'] = np.where(df2['drive_qb_hit_pcnt'] < 0, 0, df2['drive_qb_hit_pcnt'])\n",
    "\n",
    "# Convert Inf values to zero\n",
    "df2['drive_qb_hit_pcnt'] = np.where(df2['drive_qb_hit_pcnt'] == np.inf, 0, df2['drive_qb_hit_pcnt'])\n",
    "df2['drive_qb_hit_pcnt'] = np.where(df2['drive_qb_hit_pcnt'] == -np.inf, 0, df2['drive_qb_hit_pcnt'])\n",
    "\n",
    "# Drop qb_hit\n",
    "df2.drop(['qb_hit'], axis=1, inplace=True)"
   ]
  },
  {
   "cell_type": "code",
   "execution_count": 220,
   "id": "a8545b7c",
   "metadata": {
    "pycharm": {
     "name": "#%%\n"
    },
    "ExecuteTime": {
     "end_time": "2024-01-15T04:59:49.719239Z",
     "start_time": "2024-01-15T04:59:46.604414Z"
    }
   },
   "outputs": [],
   "source": [
    "# Code no huddle of previous plays\n",
    "df2['prev1_no_huddle'] = df2['no_huddle'].shift(1).where(df2['drive'].shift(1) == df2['drive'], 0)\n",
    "df2['prev2_no_huddle'] = df2['no_huddle'].shift(2).where(df2['drive'].shift(2) == df2['drive'], 0)\n",
    "df2['prev3_no_huddle'] = df2['no_huddle'].shift(3).where(df2['drive'].shift(3) == df2['drive'], 0)\n",
    "df2['prev4_no_huddle'] = df2['no_huddle'].shift(4).where(df2['drive'].shift(4) == df2['drive'], 0)\n",
    "df2['prev5_no_huddle'] = df2['no_huddle'].shift(5).where(df2['drive'].shift(5) == df2['drive'], 0)\n",
    "\n",
    "df2['prev1_no_huddle'].fillna(0, inplace = True)\n",
    "df2['prev2_no_huddle'].fillna(0, inplace = True)\n",
    "df2['prev3_no_huddle'].fillna(0, inplace = True)\n",
    "df2['prev4_no_huddle'].fillna(0, inplace = True)\n",
    "df2['prev5_no_huddle'].fillna(0, inplace = True)\n",
    "\n",
    "# Calculate the percent of play classification within prior plays of current drive\n",
    "df2['drive_no_huddle_pcnt'] = (df2.groupby(['game_id', 'drive'])['no_huddle'].transform(lambda x: x.rolling(window=rolling_series_window, min_periods=1, closed='left').sum())/df2['play_sequence_series'] - 1).fillna(0)\n",
    "\n",
    "# Convert values < 0 to zero\n",
    "df2['drive_no_huddle_pcnt'] = np.where(df2['drive_no_huddle_pcnt'] < 0, 0, df2['drive_no_huddle_pcnt'])\n",
    "\n",
    "# Convert Inf values to zero\n",
    "df2['drive_no_huddle_pcnt'] = np.where(df2['drive_no_huddle_pcnt'] == np.inf, 0, df2['drive_no_huddle_pcnt'])\n",
    "df2['drive_no_huddle_pcnt'] = np.where(df2['drive_no_huddle_pcnt'] == -np.inf, 0, df2['drive_no_huddle_pcnt'])\n"
   ]
  },
  {
   "cell_type": "code",
   "execution_count": 221,
   "id": "54249c62",
   "metadata": {
    "pycharm": {
     "name": "#%%\n"
    },
    "ExecuteTime": {
     "end_time": "2024-01-15T04:59:50.011398Z",
     "start_time": "2024-01-15T04:59:49.722590Z"
    }
   },
   "outputs": [],
   "source": [
    "# Code first down achieved on a previous play\n",
    "df2['prev1_first_down_pass'] = df2['first_down_pass'].shift(1).where(df2['drive'].shift(1) == df2['drive'], 0)\n",
    "df2['prev2_first_down_pass'] = df2['first_down_pass'].shift(2).where(df2['drive'].shift(2) == df2['drive'], 0)\n",
    "df2['prev3_first_down_pass'] = df2['first_down_pass'].shift(3).where(df2['drive'].shift(3) == df2['drive'], 0)\n",
    "\n",
    "df2['prev1_first_down_pass'].fillna(0, inplace = True)\n",
    "df2['prev2_first_down_pass'].fillna(0, inplace = True)\n",
    "df2['prev3_first_down_pass'].fillna(0, inplace = True)\n",
    "\n",
    "# Drop first_down_pass\n",
    "df2.drop(['first_down_pass'], axis=1, inplace=True)"
   ]
  },
  {
   "cell_type": "code",
   "execution_count": 222,
   "id": "18866cfc",
   "metadata": {
    "pycharm": {
     "name": "#%%\n"
    },
    "ExecuteTime": {
     "end_time": "2024-01-15T04:59:50.253723Z",
     "start_time": "2024-01-15T04:59:50.016711Z"
    }
   },
   "outputs": [],
   "source": [
    "# Code first down achieved on a previous play\n",
    "df2['prev1_first_down_run'] = df2['first_down_rush'].shift(1).where(df2['drive'].shift(1) == df2['drive'], 0)\n",
    "df2['prev2_first_down_run'] = df2['first_down_rush'].shift(2).where(df2['drive'].shift(2) == df2['drive'], 0)\n",
    "df2['prev3_first_down_run'] = df2['first_down_rush'].shift(3).where(df2['drive'].shift(3) == df2['drive'], 0)\n",
    "\n",
    "df2['prev1_first_down_run'].fillna(0, inplace = True)\n",
    "df2['prev2_first_down_run'].fillna(0, inplace = True)\n",
    "df2['prev3_first_down_run'].fillna(0, inplace = True)\n",
    "\n",
    "# Drop first_down_rush\n",
    "df2.drop(['first_down_rush'], axis=1, inplace=True)"
   ]
  },
  {
   "cell_type": "code",
   "execution_count": 223,
   "id": "d596bfa2",
   "metadata": {
    "pycharm": {
     "name": "#%%\n"
    },
    "ExecuteTime": {
     "end_time": "2024-01-15T04:59:53.575862Z",
     "start_time": "2024-01-15T04:59:50.242601Z"
    }
   },
   "outputs": [],
   "source": [
    "# Code play efficiency (1st down >= 4, 2nd down half the distance, 3rd and 4th down = first down)\n",
    "df2['effct_play'] = np.where((df2['down']==1) & (df2['yards_gained'] >= 4) & (df2['turnover'] == 0), 1,\n",
    "                             np.where((df2['down']==2) & (df2['yards_gained'] >= (df2['ydstogo']/2)) & (df2['turnover'] == 0), 1,\n",
    "                                      np.where((df2['down']==3) & (df2['yards_gained'] >= df2['ydstogo']) & (df2['turnover'] == 0), 1,\n",
    "                                               np.where((df2['down']==4) & (df2['yards_gained'] >= df2['ydstogo']) & (df2['turnover'] == 0), 1, 0))))\n",
    "\n",
    "df2['prev1_effct_play'] = df2['effct_play'].shift(1).where(df2['drive'].shift(1) == df2['drive'], 0)\n",
    "df2['prev2_effct_play'] = df2['effct_play'].shift(2).where(df2['drive'].shift(2) == df2['drive'], 0)\n",
    "df2['prev3_effct_play'] = df2['effct_play'].shift(3).where(df2['drive'].shift(3) == df2['drive'], 0)\n",
    "df2['prev4_effct_play'] = df2['effct_play'].shift(4).where(df2['drive'].shift(4) == df2['drive'], 0)\n",
    "df2['prev5_effct_play'] = df2['effct_play'].shift(5).where(df2['drive'].shift(5) == df2['drive'], 0)\n",
    "\n",
    "# Calculate the percent of play classification within prior plays of current drive\n",
    "df2['drive_effct_play_pcnt'] = (df2.groupby(['game_id', 'drive'])['effct_play'].transform(lambda x: x.rolling(window=rolling_series_window, min_periods=1, closed='left').sum())/df2['play_sequence_series'] - 1).fillna(0)\n",
    "\n",
    "# Convert Inf values to zero\n",
    "df2['drive_effct_play_pcnt'] = np.where(df2['drive_effct_play_pcnt'] == np.inf, 0, df2['drive_effct_play_pcnt'])\n",
    "df2['drive_effct_play_pcnt'] = np.where(df2['drive_effct_play_pcnt'] == -np.inf, 0, df2['drive_effct_play_pcnt'])\n",
    "\n",
    "# Convert values < 0 to zero\n",
    "df2['drive_effct_play_pcnt'] = np.where(df2['drive_effct_play_pcnt'] < 0, 0, df2['drive_effct_play_pcnt'])\n",
    "\n",
    "# Drop effct_play\n",
    "df2.drop(['effct_play'], axis=1, inplace=True)"
   ]
  },
  {
   "cell_type": "code",
   "outputs": [],
   "source": [
    "# Code the offensive personnel on previous plays\n",
    "df2['offense_personnel_prev1'] = df2['offense_personnel'].shift(1).where(df2['drive'].shift(1) == df2['drive'], np.nan)\n",
    "df2['offense_personnel_prev2'] = df2['offense_personnel'].shift(2).where(df2['drive'].shift(2) == df2['drive'], np.nan)\n",
    "df2['offense_personnel_prev3'] = df2['offense_personnel'].shift(3).where(df2['drive'].shift(3) == df2['drive'], np.nan)\n",
    "\n",
    "df2['offense_personnel_prev1'] = np.where(df2['offense_personnel_prev1'].isnull(), 'none', df2['offense_personnel_prev1'])\n",
    "df2['offense_personnel_prev2'] = np.where(df2['offense_personnel_prev2'].isnull(), 'none', df2['offense_personnel_prev2'])\n",
    "df2['offense_personnel_prev3'] = np.where(df2['offense_personnel_prev3'].isnull(), 'none', df2['offense_personnel_prev3'])\n",
    "\n",
    "# Code the offensive personnel on previous plays\n",
    "df2['defense_personnel_prev1'] = df2['defense_personnel'].shift(1).where(df2['drive'].shift(1) == df2['drive'], np.nan)\n",
    "df2['defense_personnel_prev2'] = df2['defense_personnel'].shift(2).where(df2['drive'].shift(2) == df2['drive'], np.nan)\n",
    "df2['defense_personnel_prev3'] = df2['defense_personnel'].shift(3).where(df2['drive'].shift(3) == df2['drive'], np.nan)\n",
    "\n",
    "df2['defense_personnel_prev1'] = np.where(df2['defense_personnel_prev1'].isnull(), 'none', df2['defense_personnel_prev1'])\n",
    "df2['defense_personnel_prev2'] = np.where(df2['defense_personnel_prev2'].isnull(), 'none', df2['defense_personnel_prev2'])\n",
    "df2['defense_personnel_prev3'] = np.where(df2['defense_personnel_prev3'].isnull(), 'none', df2['defense_personnel_prev3'])\n"
   ],
   "metadata": {
    "collapsed": false,
    "ExecuteTime": {
     "end_time": "2024-01-15T04:59:53.665929Z",
     "start_time": "2024-01-15T04:59:53.584073Z"
    }
   },
   "id": "7295d9b519702bc3",
   "execution_count": 224
  },
  {
   "cell_type": "code",
   "execution_count": 225,
   "id": "ae362f7c",
   "metadata": {
    "pycharm": {
     "name": "#%%\n"
    },
    "ExecuteTime": {
     "end_time": "2024-01-15T04:59:53.731889Z",
     "start_time": "2024-01-15T04:59:53.657700Z"
    }
   },
   "outputs": [],
   "source": [
    "# Code downs_remaining\n",
    "df2['remaining_downs'] = np.where(df2['down'] == 1, 3, \n",
    "                                  np.where(df2['down'] == 2, 2,\n",
    "                                           np.where((df2['down'] == 3) & (df2['yardline_100'] <= 55) & (df2['yardline_100'] >= 33) & (df2['ydstogo'] <= 8), 2,\n",
    "                                                    np.where(df2['down'] == 3, 1,\n",
    "                                                             np.where(df2['down'] == 4, 1, 1)))))\n",
    "\n",
    "# Code yards_per_down remaining\n",
    "df2['remaining_yards_per_down'] = df2['ydstogo'] / df2['remaining_downs']"
   ]
  },
  {
   "cell_type": "code",
   "execution_count": 226,
   "id": "46fc0074",
   "metadata": {
    "pycharm": {
     "name": "#%%\n"
    },
    "ExecuteTime": {
     "end_time": "2024-01-15T04:59:53.816789Z",
     "start_time": "2024-01-15T04:59:53.668837Z"
    }
   },
   "outputs": [],
   "source": [
    "df2['game_half'] = np.where(df2['game_half'] == 'Half1', 1, np.where(df2['game_half'] == 'Half2', 2, 3))"
   ]
  },
  {
   "cell_type": "code",
   "execution_count": 227,
   "id": "d4e8738039da1358",
   "metadata": {
    "pycharm": {
     "name": "#%%\n"
    },
    "ExecuteTime": {
     "end_time": "2024-01-15T04:59:53.872456Z",
     "start_time": "2024-01-15T04:59:53.686298Z"
    }
   },
   "outputs": [
    {
     "data": {
      "text/plain": "drive_start\ntransfer_poss    61224\nsudden_change     6045\nName: count, dtype: int64"
     },
     "execution_count": 227,
     "metadata": {},
     "output_type": "execute_result"
    }
   ],
   "source": [
    "df2['drive_start_transition'] = df2['drive_start_transition'].str.strip().str.replace(',','').replace('_','').str.strip().str.upper()\n",
    "\n",
    "# Create mapping between drive start transition and drive start category\n",
    "drive_start_map = {'INTERCEPTION': 'sudden_change',\n",
    "                   'FUMBLE': 'sudden_change',\n",
    "                   'MUFFED_PUNT': 'sudden_change',\n",
    "                   'ONSIDE_KICK': 'sudden_change',\n",
    "                   'BLOCKED_FG': 'sudden_change',\n",
    "                   'BLOCKED_PUNT': 'sudden_change',\n",
    "                   'BLOCKED_FG_DOWNS': 'sudden_change',\n",
    "                   'BLOCKED_FG, DOWNS': 'sudden_change',\n",
    "                   'BLOCKED_PUNT_DOWNS': 'sudden_change',\n",
    "                   'MUFFED_KICKOFF': 'sudden_change',\n",
    "                   'OWN_KICKOFF': 'sudden_change',\n",
    "                   'DOWNS': 'transfer_poss',\n",
    "                   'MISSED_FG': 'transfer_poss',\n",
    "                   'KICKOFF': 'transfer_poss',\n",
    "                   'PUNT': 'transfer_poss',\n",
    "                   }\n",
    "\n",
    "df2['drive_start'] = df2['drive_start_transition'].map(drive_start_map).fillna(df2['drive_start_transition'])\n",
    "df2['drive_start'].fillna('NULL', inplace=True)\n",
    "\n",
    "df2.drive_start.value_counts(dropna=False)"
   ]
  },
  {
   "cell_type": "code",
   "execution_count": 228,
   "id": "acc2c710",
   "metadata": {
    "pycharm": {
     "name": "#%%\n"
    },
    "ExecuteTime": {
     "end_time": "2024-01-15T04:59:53.903082Z",
     "start_time": "2024-01-15T04:59:53.778710Z"
    }
   },
   "outputs": [],
   "source": [
    "df2['two_min_warning'] = np.where(df2['half_seconds_remaining'] <= 120, 1, 0)"
   ]
  },
  {
   "cell_type": "code",
   "execution_count": 229,
   "id": "ff49edde",
   "metadata": {
    "pycharm": {
     "name": "#%%\n"
    },
    "ExecuteTime": {
     "end_time": "2024-01-15T04:59:53.942177Z",
     "start_time": "2024-01-15T04:59:53.789347Z"
    }
   },
   "outputs": [],
   "source": [
    "df2['ep_half_sec_ratio'] = (df2['ep'] / (df2['half_seconds_remaining'] + 1 ))\n",
    "df2['ep_game_sec_ratio'] = (df2['ep'] / (df2['game_seconds_remaining'] + 1 ))\n",
    "\n",
    "# Convert Inf values to zero\n",
    "df2['ep_half_sec_ratio'] = np.where(df2['ep_half_sec_ratio'] == np.inf, 0, df2['ep_half_sec_ratio'])\n",
    "df2['ep_game_sec_ratio'] = np.where(df2['ep_game_sec_ratio'] == np.inf, 0, df2['ep_game_sec_ratio'])\n",
    "\n",
    "# Convert Inf values to zero\n",
    "df2['ep_half_sec_ratio'] = np.where(df2['ep_half_sec_ratio'] == -np.inf, 0, df2['ep_half_sec_ratio'])\n",
    "df2['ep_game_sec_ratio'] = np.where(df2['ep_game_sec_ratio'] == -np.inf, 0, df2['ep_game_sec_ratio'])"
   ]
  },
  {
   "cell_type": "markdown",
   "source": [
    "## IMPUTE MISSING VALUES"
   ],
   "metadata": {
    "collapsed": false
   },
   "id": "ebe7ff576538a52a"
  },
  {
   "cell_type": "code",
   "outputs": [
    {
     "data": {
      "text/plain": "(67269, 443)"
     },
     "execution_count": 230,
     "metadata": {},
     "output_type": "execute_result"
    }
   ],
   "source": [
    "# Duplicate dataframe\n",
    "df3 = df2.copy()\n",
    "\n",
    "df3.shape"
   ],
   "metadata": {
    "pycharm": {
     "name": "#%%\n"
    },
    "ExecuteTime": {
     "end_time": "2024-01-15T04:59:54.528772Z",
     "start_time": "2024-01-15T04:59:53.800928Z"
    }
   },
   "id": "0db5d489",
   "execution_count": 230
  },
  {
   "cell_type": "code",
   "execution_count": 231,
   "outputs": [
    {
     "data": {
      "text/plain": "0"
     },
     "execution_count": 231,
     "metadata": {},
     "output_type": "execute_result"
    }
   ],
   "source": [
    "# Impute missing offense_personnel using the previous play within drive\n",
    "df3['offense_personnel'] = df3['offense_personnel'].fillna(df3.groupby(['game_id', 'drive'])['offense_personnel'].transform('last'))\n",
    "\n",
    "df3.offense_personnel.isnull().sum()"
   ],
   "metadata": {
    "collapsed": false,
    "ExecuteTime": {
     "end_time": "2024-01-15T04:59:54.641183Z",
     "start_time": "2024-01-15T04:59:54.523895Z"
    }
   },
   "id": "eadf1a9124524faf"
  },
  {
   "cell_type": "code",
   "execution_count": 232,
   "outputs": [
    {
     "data": {
      "text/plain": "0"
     },
     "execution_count": 232,
     "metadata": {},
     "output_type": "execute_result"
    }
   ],
   "source": [
    "df3['defense_personnel'] = df3['defense_personnel'].fillna(df3.groupby(['game_id', 'drive'])['defense_personnel'].transform('last'))\n",
    "\n",
    "df3.defense_personnel.isnull().sum()"
   ],
   "metadata": {
    "collapsed": false,
    "ExecuteTime": {
     "end_time": "2024-01-15T04:59:54.688891Z",
     "start_time": "2024-01-15T04:59:54.575252Z"
    }
   },
   "id": "3df2a3af7397754c"
  },
  {
   "cell_type": "code",
   "execution_count": 233,
   "outputs": [
    {
     "data": {
      "text/plain": "0"
     },
     "execution_count": 233,
     "metadata": {},
     "output_type": "execute_result"
    }
   ],
   "source": [
    "# Impute defenders_in_box\n",
    "df3['defenders_in_box'] = df3['defenders_in_box'].fillna(df3.groupby(['defteam'])['defenders_in_box'].transform('mean'))\n",
    "\n",
    "# Print missing value counts\n",
    "df3['defenders_in_box'].isnull().sum()"
   ],
   "metadata": {
    "collapsed": false,
    "ExecuteTime": {
     "end_time": "2024-01-15T04:59:54.763282Z",
     "start_time": "2024-01-15T04:59:54.607137Z"
    }
   },
   "id": "7b310cc77b106812"
  },
  {
   "cell_type": "markdown",
   "id": "e18e8f00",
   "metadata": {
    "pycharm": {
     "name": "#%% md\n"
    }
   },
   "source": [
    "## FEATURE ENGINEERING"
   ]
  },
  {
   "cell_type": "code",
   "execution_count": 234,
   "outputs": [],
   "source": [
    "# Binary code for side of field = posteam\n",
    "df3['posteam_side'] = np.where(df3['posteam'] == df3['side_of_field'], 1, 0)\n",
    "\n",
    "# Drop side_of_field\n",
    "df3.drop(['side_of_field'], axis=1, inplace=True)"
   ],
   "metadata": {
    "collapsed": false,
    "ExecuteTime": {
     "end_time": "2024-01-15T04:59:55.120937Z",
     "start_time": "2024-01-15T04:59:54.620105Z"
    }
   },
   "id": "c9be070286185e70"
  },
  {
   "cell_type": "code",
   "execution_count": 235,
   "outputs": [],
   "source": [
    "# Combine half_seconds_remaining and score_differential_norm\n",
    "df3['half_seconds_div_score_diff'] = (df3['half_seconds_remaining'] + 1) / df3['score_differential_norm']\n",
    "df3['half_seconds_prod_score_diff'] = (df3['half_seconds_remaining'] + 1) * df3['score_differential_norm']\n",
    "\n",
    "# Convert Inf values to zero\n",
    "df3['half_seconds_div_score_diff'] = np.where(df3['half_seconds_div_score_diff'] == np.inf, 0, df3['half_seconds_div_score_diff'])\n",
    "df3['half_seconds_prod_score_diff'] = np.where(df3['half_seconds_prod_score_diff'] == np.inf, 0, df3['half_seconds_prod_score_diff'])\n",
    "\n",
    "# Convert Inf values to zero\n",
    "df3['half_seconds_div_score_diff'] = np.where(df3['half_seconds_div_score_diff'] == -np.inf, 0, df3['half_seconds_div_score_diff'])\n",
    "df3['half_seconds_prod_score_diff'] = np.where(df3['half_seconds_prod_score_diff'] == -np.inf, 0, df3['half_seconds_prod_score_diff'])"
   ],
   "metadata": {
    "collapsed": false,
    "ExecuteTime": {
     "end_time": "2024-01-15T04:59:55.154040Z",
     "start_time": "2024-01-15T04:59:54.887963Z"
    }
   },
   "id": "b4883a4a2b73e836"
  },
  {
   "cell_type": "code",
   "execution_count": 236,
   "outputs": [],
   "source": [
    "# Combine wind and temperature\n",
    "df3['game_wind_div_game_temp'] = df3['game_wind'] / df3['game_temp']\n",
    "df3['game_wind_prod_game_temp'] = df3['game_wind'] * df3['game_temp']\n",
    "\n",
    "# Combine temperature and humidity\n",
    "df3['game_temp_div_game_humidity'] = df3['game_temp'] / df3['game_humidity']\n",
    "df3['game_temp_prod_game_humidity'] = df3['game_temp'] * df3['game_humidity']\n",
    "\n",
    "# Convert inf values to zero\n",
    "df3['game_wind_div_game_temp'] = np.where(df3['game_wind_div_game_temp'] == np.inf, 0, df3['game_wind_div_game_temp'])\n",
    "df3['game_wind_prod_game_temp'] = np.where(df3['game_wind_prod_game_temp'] == np.inf, 0, df3['game_wind_prod_game_temp'])\n",
    "df3['game_temp_div_game_humidity'] = np.where(df3['game_temp_div_game_humidity'] == np.inf, 0, df3['game_temp_div_game_humidity'])\n",
    "df3['game_temp_prod_game_humidity'] = np.where(df3['game_temp_prod_game_humidity'] == np.inf, 0, df3['game_temp_prod_game_humidity'])\n",
    "\n",
    "# Convert -inf values to zero\n",
    "df3['game_wind_div_game_temp'] = np.where(df3['game_wind_div_game_temp'] == -np.inf, 0, df3['game_wind_div_game_temp'])\n",
    "df3['game_wind_prod_game_temp'] = np.where(df3['game_wind_prod_game_temp'] == -np.inf, 0, df3['game_wind_prod_game_temp'])\n",
    "df3['game_temp_div_game_humidity'] = np.where(df3['game_temp_div_game_humidity'] == -np.inf, 0, df3['game_temp_div_game_humidity'])\n",
    "df3['game_temp_prod_game_humidity'] = np.where(df3['game_temp_prod_game_humidity'] == -np.inf, 0, df3['game_temp_prod_game_humidity'])\n"
   ],
   "metadata": {
    "collapsed": false,
    "ExecuteTime": {
     "end_time": "2024-01-15T04:59:55.165449Z",
     "start_time": "2024-01-15T04:59:54.898509Z"
    }
   },
   "id": "59ea36c251f7a6a9"
  },
  {
   "cell_type": "raw",
   "source": [
    "# Combine remaining yards with personnel counts\n",
    "df3['remain_yds_div_def_box'] = df3['remaining_yards_per_down'] / df3['defenders_in_box']\n",
    "df3['remain_yds_prod_def_box'] = df3['remaining_yards_per_down'] * df3['defenders_in_box']\n",
    "\n",
    "df3['remain_yds_div_off_hb_count'] = df3['remaining_yards_per_down'] / df3['off_hb_count']\n",
    "df3['remain_yds_prod_off_hb_count'] = df3['remaining_yards_per_down'] * df3['off_hb_count']\n",
    "\n",
    "df3['remain_yds_div_def_dl_count'] = df3['remaining_yards_per_down'] / df3['def_dl_count']\n",
    "df3['remain_yds_prod_def_dl_count'] = df3['remaining_yards_per_down'] * df3['def_dl_count']\n",
    "\n",
    "df3['remain_yds_div_def_db_count'] = df3['remaining_yards_per_down'] / df3['def_db_count']\n",
    "df3['remain_yds_prod_def_db_count'] = df3['remaining_yards_per_down'] * df3['def_db_count']\n",
    "\n",
    "df3['remain_yds_div_score_diff'] = df3['remaining_yards_per_down'] / df3['score_differential_norm']\n",
    "df3['remain_yds_prod_score_diff'] = df3['remaining_yards_per_down'] * df3['score_differential_norm']\n",
    "\n",
    "# Convert Inf values to zero\n",
    "df3['remain_yds_div_def_box'] = np.where(df3['remain_yds_div_def_box'] == np.inf, 0, df3['remain_yds_div_def_box'])\n",
    "df3['remain_yds_div_off_hb_count'] = np.where(df3['remain_yds_div_off_hb_count'] == np.inf, 0, df3['remain_yds_div_off_hb_count'])\n",
    "df3['remain_yds_div_def_dl_count'] = np.where(df3['remain_yds_div_def_dl_count'] == np.inf, 0, df3['remain_yds_div_def_dl_count'])\n",
    "df3['remain_yds_div_def_db_count'] = np.where(df3['remain_yds_div_def_db_count'] == np.inf, 0, df3['remain_yds_div_def_db_count'])\n",
    "df3['remain_yds_div_score_diff'] = np.where(df3['remain_yds_div_score_diff'] == np.inf, 0, df3['remain_yds_div_score_diff'])\n",
    "\n",
    "# Convert Inf values to zero\n",
    "df3['remain_yds_div_def_box'] = np.where(df3['remain_yds_div_def_box'] == -np.inf, 0, df3['remain_yds_div_def_box'])\n",
    "df3['remain_yds_div_off_hb_count'] = np.where(df3['remain_yds_div_off_hb_count'] == -np.inf, 0, df3['remain_yds_div_off_hb_count'])\n",
    "df3['remain_yds_div_def_dl_count'] = np.where(df3['remain_yds_div_def_dl_count'] == -np.inf, 0, df3['remain_yds_div_def_dl_count'])\n",
    "df3['remain_yds_div_def_db_count'] = np.where(df3['remain_yds_div_def_db_count'] == -np.inf, 0, df3['remain_yds_div_def_db_count'])\n",
    "df3['remain_yds_div_score_diff'] = np.where(df3['remain_yds_div_score_diff'] == -np.inf, 0, df3['remain_yds_div_score_diff'])\n"
   ],
   "metadata": {
    "collapsed": false
   },
   "id": "9927c6f36d5ef32"
  },
  {
   "cell_type": "code",
   "execution_count": 237,
   "id": "c24a330b",
   "metadata": {
    "pycharm": {
     "name": "#%%\n"
    },
    "ExecuteTime": {
     "end_time": "2024-01-15T04:59:57.517855Z",
     "start_time": "2024-01-15T04:59:54.907675Z"
    }
   },
   "outputs": [],
   "source": [
    "# Calculate average run ratio per game\n",
    "rro_df = df3.groupby(['posteam','game_id','qtr','down'])['rush_attempt'].apply(lambda x : x.astype(float).mean()).reset_index()\n",
    "\n",
    "# Sort dataframe\n",
    "rro_df = rro_df.sort_values(by=['posteam','qtr','down'], ascending=True)\n",
    "\n",
    "# Calculate rolling average per quarter\n",
    "rro_df['run_ratio_off_priors'] = rro_df.groupby(['posteam','qtr','down'])['rush_attempt'].transform(lambda x: x.rolling(window=rolling_play_quarter_window,\n",
    "                                                                                                                        min_periods=1,\n",
    "                                                                                                                        closed='left',\n",
    "                                                                                                                        center=False).mean())\n",
    "\n",
    "rro_df = rro_df.sort_values(by=['posteam','qtr','down'], ascending=True)\n",
    "\n",
    "rro_df.drop(['rush_attempt'], axis=1, inplace=True)\n",
    "\n",
    "# Impute missing values by the league average per qtr/down\n",
    "rro_df['run_ratio_off_priors'] = rro_df['run_ratio_off_priors'].fillna(rro_df.groupby(['qtr','down'])['run_ratio_off_priors'].transform('mean'))\n",
    "\n",
    "# Merge msa_df with df\n",
    "df3 = df3.merge(rro_df, how='left', left_on=['posteam','game_id','qtr','down'], right_on=['posteam','game_id','qtr','down'])\n",
    "\n",
    "# Impute values\n",
    "df3['run_ratio_off_priors'] = df3['run_ratio_off_priors'].fillna(df3.groupby(['game_id', 'posteam'])['run_ratio_off_priors'].transform('last'))\n",
    "\n",
    "df3['run_ratio_off_priors'] = np.where(df3['run_ratio_off_priors'] < 0, 0, df3['run_ratio_off_priors'])"
   ]
  },
  {
   "cell_type": "code",
   "execution_count": 238,
   "id": "621268f8",
   "metadata": {
    "ExecuteTime": {
     "end_time": "2024-01-15T04:59:59.773344Z",
     "start_time": "2024-01-15T04:59:57.518041Z"
    }
   },
   "outputs": [],
   "source": [
    "# Calculate average run ratio per game\n",
    "rrd_df = df3.groupby(['defteam','game_id','qtr','down'])['rush_attempt'].apply(lambda x : x.astype(float).mean()).reset_index()\n",
    "\n",
    "# Sort dataframe\n",
    "rrd_df = rrd_df.sort_values(by=['defteam','qtr','down'], ascending=True)\n",
    "\n",
    "# Calculate rolling average per quarter\n",
    "rrd_df['run_ratio_def_priors'] = rrd_df.groupby(['defteam','qtr','down'])['rush_attempt'].transform(lambda x: x.rolling(window=rolling_play_quarter_window,\n",
    "                                                                                                                        min_periods=1,\n",
    "                                                                                                                        closed='left',\n",
    "                                                                                                                        center=False).mean())\n",
    "\n",
    "rrd_df = rrd_df.sort_values(by=['defteam','qtr','down'], ascending=True)\n",
    "\n",
    "rrd_df.drop(['rush_attempt'], axis=1, inplace=True)\n",
    "\n",
    "# Impute missing values by the league average per qtr/down\n",
    "rrd_df['run_ratio_def_priors'] = rrd_df['run_ratio_def_priors'].fillna(rrd_df.groupby(['qtr','down'])['run_ratio_def_priors'].transform('mean'))\n",
    "\n",
    "# Merge msa_df with df\n",
    "df3 = df3.merge(rrd_df, how='left', left_on=['defteam','game_id','qtr','down'], right_on=['defteam','game_id','qtr','down'])\n",
    "\n",
    "# Impute defenders_in_box\n",
    "df3['run_ratio_def_priors'] = df3['run_ratio_def_priors'].fillna(df3.groupby(['game_id', 'posteam'])['run_ratio_def_priors'].transform('last'))"
   ]
  },
  {
   "cell_type": "raw",
   "source": [
    "# Create posteam plus season and defteam plus season\n",
    "df3['posteam_season'] = df3['posteam'].str.lower().str.strip() + '_' + df3['season'].astype(str)\n",
    "df3['defteam_season'] = df3['defteam'].str.lower().str.strip() + '_' + df3['season'].astype(str)\n",
    "\n",
    "# Do not use, possible leakage"
   ],
   "metadata": {
    "collapsed": false
   },
   "id": "1fd532b88a2489c3"
  },
  {
   "cell_type": "markdown",
   "id": "2bb96e39",
   "metadata": {
    "pycharm": {
     "name": "#%% md\n"
    }
   },
   "source": [
    "## FUTURE FEATURES"
   ]
  },
  {
   "cell_type": "raw",
   "id": "c07e1771",
   "metadata": {
    "pycharm": {
     "name": "#%% raw\n"
    }
   },
   "source": [
    "Offensive Roster: \n",
    "    Average Height of starting wide receivers/tight end\n",
    "    Average weight of starting offensive line\n",
    "    All-Pro QB\n",
    "    All-Pro RB\n",
    "    All-Pro WR (Count)\n",
    "    All-Pro TE\n",
    "    Pro Bowl QB\n",
    "    Pro Bowl RB\n",
    "    Pro Bowl WR (Count)\n",
    "    Number of starters during the season / 11"
   ]
  },
  {
   "cell_type": "markdown",
   "id": "f69df925",
   "metadata": {
    "pycharm": {
     "name": "#%% md\n"
    }
   },
   "source": [
    "## PLAY PREDICTION FILTERS"
   ]
  },
  {
   "cell_type": "code",
   "execution_count": 239,
   "outputs": [
    {
     "data": {
      "text/plain": "(67269, 451)"
     },
     "execution_count": 239,
     "metadata": {},
     "output_type": "execute_result"
    }
   ],
   "source": [
    "df3.shape"
   ],
   "metadata": {
    "collapsed": false,
    "ExecuteTime": {
     "end_time": "2024-01-15T04:59:59.817517Z",
     "start_time": "2024-01-15T04:59:59.776470Z"
    }
   },
   "id": "3f4b28a04b0a70a6"
  },
  {
   "cell_type": "code",
   "execution_count": 240,
   "outputs": [
    {
     "data": {
      "text/plain": "(67267, 451)"
     },
     "execution_count": 240,
     "metadata": {},
     "output_type": "execute_result"
    }
   ],
   "source": [
    "df3 = df3.loc[~df3['desc'].str.contains('punt formation')]\n",
    "df3 = df3.loc[~df3['desc'].str.contains('field goal formation')]\n",
    "\n",
    "df3.shape"
   ],
   "metadata": {
    "collapsed": false,
    "ExecuteTime": {
     "end_time": "2024-01-15T05:00:00.169949Z",
     "start_time": "2024-01-15T04:59:59.782710Z"
    }
   },
   "id": "89d204e47e7db838"
  },
  {
   "cell_type": "code",
   "execution_count": 241,
   "outputs": [
    {
     "data": {
      "text/plain": "(67267, 451)"
     },
     "execution_count": 241,
     "metadata": {},
     "output_type": "execute_result"
    }
   ],
   "source": [
    "df3 = df3.loc[df3['drive_start'] != 'NULL']\n",
    "\n",
    "df3.shape"
   ],
   "metadata": {
    "collapsed": false,
    "ExecuteTime": {
     "end_time": "2024-01-15T05:00:00.470417Z",
     "start_time": "2024-01-15T05:00:00.167804Z"
    }
   },
   "id": "c58e1a8415432aff"
  },
  {
   "cell_type": "code",
   "execution_count": 242,
   "outputs": [
    {
     "data": {
      "text/plain": "(67267, 451)"
     },
     "execution_count": 242,
     "metadata": {},
     "output_type": "execute_result"
    }
   ],
   "source": [
    "df3 = df3.loc[(df3['play_type'] == 'pass') | (df3['play_type'] == 'run')]\n",
    "\n",
    "df3.shape"
   ],
   "metadata": {
    "pycharm": {
     "name": "#%%\n"
    },
    "ExecuteTime": {
     "end_time": "2024-01-15T05:00:00.715135Z",
     "start_time": "2024-01-15T05:00:00.368895Z"
    }
   },
   "id": "e72b6525dab6daf8"
  },
  {
   "cell_type": "raw",
   "source": [
    "# Filter intentional_grounding = 0\n",
    "df3 = df3.loc[df3['intentional_grounding'] == 0]\n",
    "\n",
    "df3.shape"
   ],
   "metadata": {
    "collapsed": false
   },
   "id": "1e80c41a61ea6d8a"
  },
  {
   "cell_type": "code",
   "execution_count": 243,
   "outputs": [
    {
     "data": {
      "text/plain": "(67267, 451)"
     },
     "execution_count": 243,
     "metadata": {},
     "output_type": "execute_result"
    }
   ],
   "source": [
    "df3 = df3[~df3['play_type_detail'].isin(['qb_scramble','qb_spike','qb_kneel'])]\n",
    "\n",
    "df3.shape"
   ],
   "metadata": {
    "collapsed": false,
    "ExecuteTime": {
     "end_time": "2024-01-15T05:00:01.012017Z",
     "start_time": "2024-01-15T05:00:00.593397Z"
    }
   },
   "id": "a56f7ccb4087a861"
  },
  {
   "cell_type": "code",
   "execution_count": 244,
   "outputs": [
    {
     "data": {
      "text/plain": "(67243, 451)"
     },
     "execution_count": 244,
     "metadata": {},
     "output_type": "execute_result"
    }
   ],
   "source": [
    "# Code and filter \"broken plays\" (plays with a fumble prior to the scripted play could be executed0\n",
    "df3['play_type'] = np.where((df3['play_type_detail'] == 'run') & (df3['desc'].str.find('fumbles')>= 0) & (df3['desc'].str.find(', and recovers')>= 0), 'broken_play', \n",
    "                            np.where((df3['play_type_detail'] == 'run') & (df3['desc'].str.find('fumbles')>= 0) & (df3['desc'].str.find('ball out of bounds')>= 0), 'broken_play', \n",
    "                                     np.where((df3['play_type_detail'] == 'run') & (df3['desc'].str.find('fumbles')>= 0) & (df3['desc'].str.find(', recovered by')>= 0), 'broken_play',\n",
    "                                     df3['play_type'])))\n",
    "\n",
    "df3 = df3[df3['play_type'] != 'broken_play']\n",
    "\n",
    "df3.shape"
   ],
   "metadata": {
    "collapsed": false,
    "ExecuteTime": {
     "end_time": "2024-01-15T05:00:01.513224Z",
     "start_time": "2024-01-15T05:00:01.021756Z"
    }
   },
   "id": "78d44eb864fa1926"
  },
  {
   "cell_type": "code",
   "execution_count": 245,
   "outputs": [
    {
     "data": {
      "text/plain": "play_type_detail\npass_short     26402\nrun_inside     14021\nrun_outside    13046\npass_deep      10997\npass_sack       2775\npass               2\nName: count, dtype: int64"
     },
     "execution_count": 245,
     "metadata": {},
     "output_type": "execute_result"
    }
   ],
   "source": [
    "counts = df3.play_type_detail.value_counts(normalize=False)\n",
    "counts"
   ],
   "metadata": {
    "pycharm": {
     "name": "#%%\n"
    },
    "ExecuteTime": {
     "end_time": "2024-01-15T05:00:01.580645Z",
     "start_time": "2024-01-15T05:00:01.513224Z"
    }
   },
   "id": "28726b32"
  },
  {
   "cell_type": "code",
   "execution_count": 246,
   "outputs": [
    {
     "data": {
      "text/plain": "       play_id         game_id old_game_id        game_alt_id home_team  \\\n42430     1644  2022_04_MIN_NO  2022100200  NO_MIN_2022_10_02        NO   \n59289     3990   2022_07_KC_SF  2022102310   SF_KC_2022_10_23        SF   \n\n      away_team season_type  week posteam posteam_type  ... ep_game_sec_ratio  \\\n42430       MIN         REG     4     MIN         away  ...          0.001813   \n59289        KC         REG     7      SF         home  ...          0.004943   \n\n       posteam_side half_seconds_div_score_diff  half_seconds_prod_score_diff  \\\n42430             0                  230.928571                     64.452830   \n59289             1                 1044.857143                    113.915094   \n\n       game_wind_div_game_temp  game_wind_prod_game_temp  \\\n42430                  0.09375                     384.0   \n59289                  0.15625                     640.0   \n\n       game_temp_div_game_humidity  game_temp_prod_game_humidity  \\\n42430                     0.810127                        5056.0   \n59289                     1.882353                        2176.0   \n\n       run_ratio_off_priors  run_ratio_def_priors  \n42430              0.276353              0.583333  \n59289              0.402778              0.191667  \n\n[2 rows x 451 columns]",
      "text/html": "<div>\n<style scoped>\n    .dataframe tbody tr th:only-of-type {\n        vertical-align: middle;\n    }\n\n    .dataframe tbody tr th {\n        vertical-align: top;\n    }\n\n    .dataframe thead th {\n        text-align: right;\n    }\n</style>\n<table border=\"1\" class=\"dataframe\">\n  <thead>\n    <tr style=\"text-align: right;\">\n      <th></th>\n      <th>play_id</th>\n      <th>game_id</th>\n      <th>old_game_id</th>\n      <th>game_alt_id</th>\n      <th>home_team</th>\n      <th>away_team</th>\n      <th>season_type</th>\n      <th>week</th>\n      <th>posteam</th>\n      <th>posteam_type</th>\n      <th>...</th>\n      <th>ep_game_sec_ratio</th>\n      <th>posteam_side</th>\n      <th>half_seconds_div_score_diff</th>\n      <th>half_seconds_prod_score_diff</th>\n      <th>game_wind_div_game_temp</th>\n      <th>game_wind_prod_game_temp</th>\n      <th>game_temp_div_game_humidity</th>\n      <th>game_temp_prod_game_humidity</th>\n      <th>run_ratio_off_priors</th>\n      <th>run_ratio_def_priors</th>\n    </tr>\n  </thead>\n  <tbody>\n    <tr>\n      <th>42430</th>\n      <td>1644</td>\n      <td>2022_04_MIN_NO</td>\n      <td>2022100200</td>\n      <td>NO_MIN_2022_10_02</td>\n      <td>NO</td>\n      <td>MIN</td>\n      <td>REG</td>\n      <td>4</td>\n      <td>MIN</td>\n      <td>away</td>\n      <td>...</td>\n      <td>0.001813</td>\n      <td>0</td>\n      <td>230.928571</td>\n      <td>64.452830</td>\n      <td>0.09375</td>\n      <td>384.0</td>\n      <td>0.810127</td>\n      <td>5056.0</td>\n      <td>0.276353</td>\n      <td>0.583333</td>\n    </tr>\n    <tr>\n      <th>59289</th>\n      <td>3990</td>\n      <td>2022_07_KC_SF</td>\n      <td>2022102310</td>\n      <td>SF_KC_2022_10_23</td>\n      <td>SF</td>\n      <td>KC</td>\n      <td>REG</td>\n      <td>7</td>\n      <td>SF</td>\n      <td>home</td>\n      <td>...</td>\n      <td>0.004943</td>\n      <td>1</td>\n      <td>1044.857143</td>\n      <td>113.915094</td>\n      <td>0.15625</td>\n      <td>640.0</td>\n      <td>1.882353</td>\n      <td>2176.0</td>\n      <td>0.402778</td>\n      <td>0.191667</td>\n    </tr>\n  </tbody>\n</table>\n<p>2 rows × 451 columns</p>\n</div>"
     },
     "execution_count": 246,
     "metadata": {},
     "output_type": "execute_result"
    }
   ],
   "source": [
    "# Return rows where play_type_detail is not in the top 5\n",
    "test_df = df3.loc[df3['play_type_detail'].isin(['run','pass'])]\n",
    "test_df"
   ],
   "metadata": {
    "collapsed": false,
    "ExecuteTime": {
     "end_time": "2024-01-15T05:00:01.721079Z",
     "start_time": "2024-01-15T05:00:01.553241Z"
    }
   },
   "id": "2f397eac63e86874"
  },
  {
   "cell_type": "markdown",
   "source": [
    "## DROP COLUMNS"
   ],
   "metadata": {
    "collapsed": false
   },
   "id": "9636a83d"
  },
  {
   "cell_type": "code",
   "outputs": [
    {
     "data": {
      "text/plain": "(67243, 451)"
     },
     "execution_count": 247,
     "metadata": {},
     "output_type": "execute_result"
    }
   ],
   "source": [
    "df4 = df3.copy()\n",
    "\n",
    "df4.shape"
   ],
   "metadata": {
    "collapsed": false,
    "ExecuteTime": {
     "end_time": "2024-01-15T05:00:02.241747Z",
     "start_time": "2024-01-15T05:00:01.559620Z"
    }
   },
   "id": "718817772793139b",
   "execution_count": 247
  },
  {
   "cell_type": "raw",
   "source": [
    "# Print columns as a list\n",
    "print(df4.columns.tolist())"
   ],
   "metadata": {
    "collapsed": false
   },
   "id": "f4f75959168a1bf"
  },
  {
   "cell_type": "code",
   "outputs": [
    {
     "name": "stdout",
     "output_type": "stream",
     "text": [
      "Single value columns: Index(['qb_scramble', 'offsetting_penalties', 'drive_big_play_pass_pcnt',\n",
      "       'drive_big_play_run_pcnt', 'drive_incomplete_pass_pcnt',\n",
      "       'drive_shotgun_pcnt', 'drive_qb_hit_pcnt', 'drive_no_huddle_pcnt',\n",
      "       'drive_effct_play_pcnt'],\n",
      "      dtype='object')\n",
      "Remaining columns: 442\n"
     ]
    }
   ],
   "source": [
    "# Print a list of columns with only one value and then drop them\n",
    "single_value_columns = df4.loc[:,df4.nunique() == 1].columns\n",
    "df4 = df4.loc[:,df4.nunique() > 1]\n",
    "\n",
    "print('Single value columns:', single_value_columns)\n",
    "print('Remaining columns:', df4.shape[1])"
   ],
   "metadata": {
    "collapsed": false,
    "ExecuteTime": {
     "end_time": "2024-01-15T05:02:47.745563Z",
     "start_time": "2024-01-15T05:02:44.357697Z"
    }
   },
   "id": "87fa752fb821e6fc",
   "execution_count": 249
  },
  {
   "cell_type": "code",
   "execution_count": 250,
   "outputs": [
    {
     "data": {
      "text/plain": "(67243, 145)"
     },
     "execution_count": 250,
     "metadata": {},
     "output_type": "execute_result"
    }
   ],
   "source": [
    "# Drop unused features\n",
    "df4.drop(['old_game_id','game_alt_id','season_type','game_date','drive','time','yrdln','ydsnet','play','desc','qb_dropback','air_yards','yards_after_catch','timeout','timeout_team','td_team','td_player_name','td_player_id','total_home_score','total_away_score','posteam_score_post','defteam_score_post','score_differential_post','opp_fg_prob','opp_safety_prob','opp_td_prob','total_home_epa','total_away_epa','total_home_rush_epa','total_away_rush_epa','total_home_pass_epa','total_away_pass_epa','air_epa','yac_epa','comp_air_epa','comp_yac_epa','total_home_comp_air_epa','total_away_comp_air_epa','total_home_comp_yac_epa','total_away_comp_yac_epa','total_home_raw_air_epa','total_away_raw_air_epa','total_home_raw_yac_epa','total_away_raw_yac_epa','def_wp','home_wp','away_wp','wpa','vegas_wpa','vegas_home_wpa','home_wp_post','away_wp_post','vegas_wp','vegas_home_wp','total_home_rush_wpa','total_away_rush_wpa','total_home_pass_wpa','total_away_pass_wpa','air_wpa','yac_wpa','comp_air_wpa','comp_yac_wpa','total_home_comp_air_wpa','total_away_comp_air_wpa','total_home_comp_yac_wpa','total_away_comp_yac_wpa','total_home_raw_air_wpa','total_away_raw_air_wpa','total_home_raw_yac_wpa','total_away_raw_yac_wpa','first_down_penalty','third_down_converted','third_down_failed','fourth_down_converted','fourth_down_failed','incomplete_pass','touchback','interception','fumble_forced','fumble_not_forced','fumble_out_of_bounds','solo_tackle','sack','safety','penalty','tackled_for_loss','fumble_lost','touchdown','pass_touchdown','rush_touchdown','return_touchdown','fumble','complete_pass','assist_tackle','lateral_reception','lateral_rush','lateral_return','lateral_recovery','passer_player_id','passer_player_name','passing_yards','receiver_player_id','receiver_player_name','receiving_yards','rusher_player_id','rusher_player_name','rushing_yards','lateral_receiver_player_id','lateral_receiver_player_name','lateral_receiving_yards','lateral_rusher_player_id','lateral_rusher_player_name','lateral_rushing_yards','interception_player_id','interception_player_name','lateral_interception_player_id','lateral_interception_player_name','tackle_for_loss_1_player_id','tackle_for_loss_1_player_name','qb_hit_1_player_id','qb_hit_1_player_name','qb_hit_2_player_id','qb_hit_2_player_name','sack_player_id','sack_player_name', 'half_sack_1_player_id', 'half_sack_1_player_name','half_sack_2_player_id', 'half_sack_2_player_name','forced_fumble_player_1_team','forced_fumble_player_1_player_id','forced_fumble_player_1_player_name','forced_fumble_player_2_team','forced_fumble_player_2_player_id','forced_fumble_player_2_player_name','solo_tackle_1_team','solo_tackle_2_team','solo_tackle_1_player_id','solo_tackle_2_player_id','solo_tackle_1_player_name','solo_tackle_2_player_name','assist_tackle_1_player_id','assist_tackle_1_player_name','assist_tackle_1_team','assist_tackle_2_player_id','assist_tackle_2_player_name','assist_tackle_2_team','tackle_with_assist','tackle_with_assist_1_player_id','tackle_with_assist_1_player_name','tackle_with_assist_1_team','pass_defense_1_player_id','pass_defense_1_player_name','pass_defense_2_player_id','pass_defense_2_player_name','fumbled_1_team','fumbled_1_player_id','fumbled_1_player_name','fumbled_2_player_id','fumbled_2_player_name','fumbled_2_team','fumble_recovery_1_team','fumble_recovery_1_yards','fumble_recovery_1_player_id','fumble_recovery_1_player_name','fumble_recovery_2_team','fumble_recovery_2_yards','fumble_recovery_2_player_id','fumble_recovery_2_player_name','return_team','return_yards','penalty_player_id','penalty_player_name','penalty_yards','replay_or_challenge','replay_or_challenge_result','penalty_type','safety_player_name','safety_player_id','series','series_success','series_result','start_time','time_of_day','stadium','weather','nfl_api_id','play_clock','play_type_nfl','end_clock_time','end_yard_line','fixed_drive','fixed_drive_result','drive_real_start_time','drive_time_of_possession','drive_first_downs','drive_inside20','drive_ended_with_score','drive_quarter_start','drive_quarter_end','drive_yards_penalized','drive_end_transition','drive_start_transition','drive_game_clock_start','drive_game_clock_end','drive_start_yard_line','drive_end_yard_line','drive_play_id_started','drive_play_id_ended','away_score','home_score','location','result','total','home_coach','away_coach','stadium_id','game_stadium','success','passer','passer_jersey_number','rusher','rusher_jersey_number','receiver','receiver_jersey_number','pass','rush','first_down','passer_id','rusher_id','receiver_id','name','jersey_number','id','fantasy_player_name','fantasy_player_id','fantasy','fantasy_id','out_of_bounds','home_opening_kickoff','qb_epa','xyac_epa','xyac_mean_yardage','xyac_median_yardage','xyac_success','xyac_fd','xpass','pass_oe','cp','cpoe','pass_length','pass_location','run_location','run_gap','pass_attempt','game_id','home_team','away_team','sp','yards_gained','home_timeouts_remaining','away_timeouts_remaining','order_sequence','play_id','epa','turnover','rush_attempt','nflverse_game_id','players_on_play','offense_players','defense_players','number_of_pass_rushers','season','temp','wind','possession_team','time_to_throw','was_pressure','route','defense_coverage_type','defense_man_zone_type','ngs_air_yards','n_offense','n_defense','drive_play_count','score_differential','td_prob','fg_prob','game_temp','game_humidity','game_wind','half_seconds_prod_score_diff','quarter_seconds_remaining','yardline_100','game_half','intentional_grounding','play_type_detail'], axis=1, inplace=True)\n",
    "\n",
    "df4.shape"
   ],
   "metadata": {
    "collapsed": false,
    "ExecuteTime": {
     "end_time": "2024-01-15T05:03:47.139578Z",
     "start_time": "2024-01-15T05:03:47.000055Z"
    }
   },
   "id": "074eeba3"
  },
  {
   "cell_type": "code",
   "execution_count": 251,
   "outputs": [
    {
     "name": "stdout",
     "output_type": "stream",
     "text": [
      "Index([], dtype='object')\n"
     ]
    }
   ],
   "source": [
    "# Create a list of columns with any inf values\n",
    "inf_columns = df4.columns[df4.isin([np.inf, -np.inf]).any()]\n",
    "\n",
    "# Drop inf_columns from dataframe\n",
    "df4.drop(inf_columns, axis=1, inplace=True)\n",
    "print(inf_columns)"
   ],
   "metadata": {
    "collapsed": false,
    "ExecuteTime": {
     "end_time": "2024-01-15T05:03:50.221968Z",
     "start_time": "2024-01-15T05:03:49.699184Z"
    }
   },
   "id": "cb1fdfa5f1fa5ea8"
  },
  {
   "cell_type": "code",
   "execution_count": 252,
   "outputs": [
    {
     "name": "stdout",
     "output_type": "stream",
     "text": [
      "Dropping the following columns with missing values:\n",
      "Index([], dtype='object')\n"
     ]
    }
   ],
   "source": [
    "# Drop columns with missing values\n",
    "null_columns = df4.columns[df4.isnull().any()]\n",
    "\n",
    "df4.dropna(axis=0, inplace=True)\n",
    "print('Dropping the following columns with missing values:')\n",
    "print(null_columns)"
   ],
   "metadata": {
    "collapsed": false,
    "ExecuteTime": {
     "end_time": "2024-01-15T05:03:53.556949Z",
     "start_time": "2024-01-15T05:03:53.345057Z"
    }
   },
   "id": "27da6cd627a59ca0"
  },
  {
   "cell_type": "code",
   "execution_count": 253,
   "outputs": [
    {
     "data": {
      "text/plain": "['week',\n 'posteam',\n 'posteam_type',\n 'defteam',\n 'half_seconds_remaining',\n 'game_seconds_remaining',\n 'qtr',\n 'down',\n 'goal_to_go',\n 'ydstogo',\n 'play_type',\n 'shotgun',\n 'no_huddle',\n 'posteam_timeouts_remaining',\n 'defteam_timeouts_remaining',\n 'posteam_score',\n 'defteam_score',\n 'no_score_prob',\n 'safety_prob',\n 'ep',\n 'wp',\n 'spread_line',\n 'total_line',\n 'div_game',\n 'roof',\n 'surface',\n 'offense_formation',\n 'offense_personnel',\n 'defenders_in_box',\n 'defense_personnel',\n 'report_eligible',\n 'wr_to_db_ratio',\n 'ol_to_dl_ratio',\n 'play_sequence_game',\n 'play_sequence_series',\n 'score_differential_norm',\n 'game_weather',\n 'dtg_99to96',\n 'dtg_95to90',\n 'dtg_89to75',\n 'dtg_74to55',\n 'dtg_54to45',\n 'dtg_44to35',\n 'dtg_34to21',\n 'dtg_20to10',\n 'dtg_09to00',\n 'prev1_big_play_pass',\n 'prev2_big_play_pass',\n 'prev3_big_play_pass',\n 'prev1_big_play_run',\n 'prev2_big_play_run',\n 'prev3_big_play_run',\n 'prev1_negative_pass',\n 'prev2_negative_pass',\n 'prev3_negative_pass',\n 'prev1_negative_run',\n 'prev2_negative_run',\n 'prev3_negative_run',\n 'play_type_prev1',\n 'play_type_prev2',\n 'play_type_prev3',\n 'play_type_prev4',\n 'play_type_prev5',\n 'prev1_play_off_penalty',\n 'prev1_play_def_penalty',\n 'prev2_play_off_penalty',\n 'prev2_play_def_penalty',\n 'prev3_play_off_penalty',\n 'prev3_play_def_penalty',\n 'prev4_play_off_penalty',\n 'prev4_play_def_penalty',\n 'prev5_play_off_penalty',\n 'prev5_play_def_penalty',\n 'prev1_play_run_outside',\n 'prev1_play_run_inside',\n 'prev1_play_pass_deep',\n 'prev1_play_pass_short',\n 'prev2_play_run_outside',\n 'prev2_play_run_inside',\n 'prev2_play_pass_deep',\n 'prev2_play_pass_short',\n 'prev3_play_run_outside',\n 'prev3_play_run_inside',\n 'prev3_play_pass_deep',\n 'prev3_play_pass_short',\n 'prev1_incomplete_pass',\n 'prev2_incomplete_pass',\n 'prev3_incomplete_pass',\n 'prev4_incomplete_pass',\n 'prev1_yards_gained',\n 'prev2_yards_gained',\n 'prev3_yards_gained',\n 'prev4_yards_gained',\n 'prev5_yards_gained',\n 'prev1_wpa',\n 'prev2_wpa',\n 'prev3_wpa',\n 'prev4_wpa',\n 'prev5_wpa',\n 'prev1_shotgun',\n 'prev2_shotgun',\n 'prev3_shotgun',\n 'prev4_shotgun',\n 'prev5_shotgun',\n 'prev1_qb_hit',\n 'prev2_qb_hit',\n 'prev3_qb_hit',\n 'prev4_qb_hit',\n 'prev5_qb_hit',\n 'prev1_no_huddle',\n 'prev2_no_huddle',\n 'prev3_no_huddle',\n 'prev4_no_huddle',\n 'prev5_no_huddle',\n 'prev1_first_down_pass',\n 'prev2_first_down_pass',\n 'prev3_first_down_pass',\n 'prev1_first_down_run',\n 'prev2_first_down_run',\n 'prev3_first_down_run',\n 'prev1_effct_play',\n 'prev2_effct_play',\n 'prev3_effct_play',\n 'prev4_effct_play',\n 'prev5_effct_play',\n 'offense_personnel_prev1',\n 'offense_personnel_prev2',\n 'offense_personnel_prev3',\n 'defense_personnel_prev1',\n 'defense_personnel_prev2',\n 'defense_personnel_prev3',\n 'remaining_downs',\n 'remaining_yards_per_down',\n 'drive_start',\n 'two_min_warning',\n 'ep_half_sec_ratio',\n 'ep_game_sec_ratio',\n 'posteam_side',\n 'half_seconds_div_score_diff',\n 'game_wind_div_game_temp',\n 'game_wind_prod_game_temp',\n 'game_temp_div_game_humidity',\n 'game_temp_prod_game_humidity',\n 'run_ratio_off_priors',\n 'run_ratio_def_priors']"
     },
     "execution_count": 253,
     "metadata": {},
     "output_type": "execute_result"
    }
   ],
   "source": [
    "# Print list of columns\n",
    "list(df4.columns)"
   ],
   "metadata": {
    "collapsed": false,
    "ExecuteTime": {
     "end_time": "2024-01-15T05:04:15.929873Z",
     "start_time": "2024-01-15T05:04:15.783853Z"
    }
   },
   "id": "50502e39349afe2e"
  },
  {
   "cell_type": "code",
   "execution_count": 254,
   "outputs": [
    {
     "data": {
      "text/plain": "play_type\n1    0.597475\n0    0.402525\nName: proportion, dtype: float64"
     },
     "execution_count": 254,
     "metadata": {},
     "output_type": "execute_result"
    }
   ],
   "source": [
    "# Convert target variable to binary\n",
    "df4['play_type'] = np.where(df4['play_type'] == 'pass', 1, 0)\n",
    "\n",
    "# Print value counts\n",
    "df4['play_type'].value_counts(dropna=False, normalize=True)"
   ],
   "metadata": {
    "collapsed": false,
    "ExecuteTime": {
     "end_time": "2024-01-15T05:04:48.378455Z",
     "start_time": "2024-01-15T05:04:48.247010Z"
    }
   },
   "id": "5095b5591f7ba17e"
  },
  {
   "cell_type": "markdown",
   "source": [
    "## CALCULATE MULTICOLLINEARITY & FEATURE SIGNIFICANCE"
   ],
   "metadata": {
    "collapsed": false
   },
   "id": "b8619dc80ca44ddf"
  },
  {
   "cell_type": "code",
   "outputs": [
    {
     "data": {
      "text/plain": "['posteam',\n 'posteam_type',\n 'defteam',\n 'roof',\n 'surface',\n 'offense_formation',\n 'offense_personnel',\n 'defense_personnel',\n 'game_weather',\n 'play_type_prev1',\n 'play_type_prev2',\n 'play_type_prev3',\n 'play_type_prev4',\n 'play_type_prev5',\n 'offense_personnel_prev1',\n 'offense_personnel_prev2',\n 'offense_personnel_prev3',\n 'defense_personnel_prev1',\n 'defense_personnel_prev2',\n 'defense_personnel_prev3',\n 'drive_start']"
     },
     "execution_count": 255,
     "metadata": {},
     "output_type": "execute_result"
    }
   ],
   "source": [
    "# Create a list of categorical variables\n",
    "categorical_columns = list(df4.select_dtypes(include='object'))\n",
    "\n",
    "# Create new dataframe with categorical variables\n",
    "df4_cat = df4[categorical_columns]\n",
    "\n",
    "list(df4_cat.columns)"
   ],
   "metadata": {
    "collapsed": false,
    "ExecuteTime": {
     "end_time": "2024-01-15T05:05:49.019377Z",
     "start_time": "2024-01-15T05:05:48.878298Z"
    }
   },
   "id": "fb6c0cb6888fa4d6",
   "execution_count": 255
  },
  {
   "cell_type": "code",
   "execution_count": 256,
   "outputs": [
    {
     "data": {
      "text/plain": "(67243, 124)"
     },
     "execution_count": 256,
     "metadata": {},
     "output_type": "execute_result"
    }
   ],
   "source": [
    "# Exclude categorical columns from df4\n",
    "df4 = df4.drop(categorical_columns, axis=1)\n",
    "\n",
    "df4.shape"
   ],
   "metadata": {
    "collapsed": false,
    "ExecuteTime": {
     "end_time": "2024-01-15T05:06:43.761926Z",
     "start_time": "2024-01-15T05:06:43.528960Z"
    }
   },
   "id": "5fac02518a94643d"
  },
  {
   "cell_type": "code",
   "outputs": [
    {
     "data": {
      "text/plain": "                   variable     vif\n2    game_seconds_remaining  26.310\n110         remaining_downs  24.393\n4                      down  21.812\n3                       qtr  21.022\n1    half_seconds_remaining  18.536\n..                      ...     ...\n28               dtg_95to90   0.000\n29               dtg_89to75   0.000\n30               dtg_74to55   0.000\n33               dtg_34to21   0.000\n31               dtg_54to45   0.000\n\n[123 rows x 2 columns]",
      "text/html": "<div>\n<style scoped>\n    .dataframe tbody tr th:only-of-type {\n        vertical-align: middle;\n    }\n\n    .dataframe tbody tr th {\n        vertical-align: top;\n    }\n\n    .dataframe thead th {\n        text-align: right;\n    }\n</style>\n<table border=\"1\" class=\"dataframe\">\n  <thead>\n    <tr style=\"text-align: right;\">\n      <th></th>\n      <th>variable</th>\n      <th>vif</th>\n    </tr>\n  </thead>\n  <tbody>\n    <tr>\n      <th>2</th>\n      <td>game_seconds_remaining</td>\n      <td>26.310</td>\n    </tr>\n    <tr>\n      <th>110</th>\n      <td>remaining_downs</td>\n      <td>24.393</td>\n    </tr>\n    <tr>\n      <th>4</th>\n      <td>down</td>\n      <td>21.812</td>\n    </tr>\n    <tr>\n      <th>3</th>\n      <td>qtr</td>\n      <td>21.022</td>\n    </tr>\n    <tr>\n      <th>1</th>\n      <td>half_seconds_remaining</td>\n      <td>18.536</td>\n    </tr>\n    <tr>\n      <th>...</th>\n      <td>...</td>\n      <td>...</td>\n    </tr>\n    <tr>\n      <th>28</th>\n      <td>dtg_95to90</td>\n      <td>0.000</td>\n    </tr>\n    <tr>\n      <th>29</th>\n      <td>dtg_89to75</td>\n      <td>0.000</td>\n    </tr>\n    <tr>\n      <th>30</th>\n      <td>dtg_74to55</td>\n      <td>0.000</td>\n    </tr>\n    <tr>\n      <th>33</th>\n      <td>dtg_34to21</td>\n      <td>0.000</td>\n    </tr>\n    <tr>\n      <th>31</th>\n      <td>dtg_54to45</td>\n      <td>0.000</td>\n    </tr>\n  </tbody>\n</table>\n<p>123 rows × 2 columns</p>\n</div>"
     },
     "execution_count": 257,
     "metadata": {},
     "output_type": "execute_result"
    }
   ],
   "source": [
    "vif = df4.drop(['play_type'], axis=1)\n",
    "vif_df = pd.DataFrame()\n",
    "vif_df['variable'] = vif.columns\n",
    "vif_df['vif'] = [variance_inflation_factor(vif.values, i) for i in range(vif.shape[1])]\n",
    "vif_df['vif'] = round(vif_df['vif'], 3)\n",
    "\n",
    "# Convert inf to zero\n",
    "vif_df['vif'] = np.where(vif_df['vif'] == np.inf, 0, vif_df['vif'])\n",
    "vif_df = vif_df.sort_values(by=['vif'], ascending=False)\n",
    "vif_df"
   ],
   "metadata": {
    "collapsed": false,
    "ExecuteTime": {
     "end_time": "2024-01-15T05:14:44.986752Z",
     "start_time": "2024-01-15T05:07:03.479489Z"
    }
   },
   "id": "93f4f6f078633854",
   "execution_count": 257
  },
  {
   "cell_type": "code",
   "outputs": [
    {
     "data": {
      "text/plain": "                         variable   p_value\n56         prev4_play_def_penalty  0.987773\n38            prev2_big_play_pass  0.933289\n64          prev2_play_run_inside  0.896670\n121  game_temp_prod_game_humidity  0.483889\n33                     dtg_44to35  0.479589\n..                            ...       ...\n17                             wp  0.000000\n21               defenders_in_box  0.000000\n106              prev1_effct_play  0.000000\n80                      prev1_wpa  0.000000\n123          run_ratio_def_priors  0.000000\n\n[124 rows x 2 columns]",
      "text/html": "<div>\n<style scoped>\n    .dataframe tbody tr th:only-of-type {\n        vertical-align: middle;\n    }\n\n    .dataframe tbody tr th {\n        vertical-align: top;\n    }\n\n    .dataframe thead th {\n        text-align: right;\n    }\n</style>\n<table border=\"1\" class=\"dataframe\">\n  <thead>\n    <tr style=\"text-align: right;\">\n      <th></th>\n      <th>variable</th>\n      <th>p_value</th>\n    </tr>\n  </thead>\n  <tbody>\n    <tr>\n      <th>56</th>\n      <td>prev4_play_def_penalty</td>\n      <td>0.987773</td>\n    </tr>\n    <tr>\n      <th>38</th>\n      <td>prev2_big_play_pass</td>\n      <td>0.933289</td>\n    </tr>\n    <tr>\n      <th>64</th>\n      <td>prev2_play_run_inside</td>\n      <td>0.896670</td>\n    </tr>\n    <tr>\n      <th>121</th>\n      <td>game_temp_prod_game_humidity</td>\n      <td>0.483889</td>\n    </tr>\n    <tr>\n      <th>33</th>\n      <td>dtg_44to35</td>\n      <td>0.479589</td>\n    </tr>\n    <tr>\n      <th>...</th>\n      <td>...</td>\n      <td>...</td>\n    </tr>\n    <tr>\n      <th>17</th>\n      <td>wp</td>\n      <td>0.000000</td>\n    </tr>\n    <tr>\n      <th>21</th>\n      <td>defenders_in_box</td>\n      <td>0.000000</td>\n    </tr>\n    <tr>\n      <th>106</th>\n      <td>prev1_effct_play</td>\n      <td>0.000000</td>\n    </tr>\n    <tr>\n      <th>80</th>\n      <td>prev1_wpa</td>\n      <td>0.000000</td>\n    </tr>\n    <tr>\n      <th>123</th>\n      <td>run_ratio_def_priors</td>\n      <td>0.000000</td>\n    </tr>\n  </tbody>\n</table>\n<p>124 rows × 2 columns</p>\n</div>"
     },
     "execution_count": 258,
     "metadata": {},
     "output_type": "execute_result"
    }
   ],
   "source": [
    "# Create p_df dataframe and add p_value of each variable on play_type\n",
    "p_df = pd.DataFrame()\n",
    "p_df['variable'] = df4.columns\n",
    "p_df['p_value'] = [sm.OLS(df4['play_type'], sm.add_constant(df4[x])).fit().pvalues[1] for x in df4.columns]\n",
    "p_df = p_df.sort_values(by=['p_value'], ascending=False)\n",
    "p_df"
   ],
   "metadata": {
    "collapsed": false,
    "ExecuteTime": {
     "end_time": "2024-01-15T05:14:46.285691Z",
     "start_time": "2024-01-15T05:14:44.980835Z"
    }
   },
   "id": "afc651d8add53e12",
   "execution_count": 258
  },
  {
   "cell_type": "code",
   "outputs": [
    {
     "name": "stdout",
     "output_type": "stream",
     "text": [
      "Dropped columns: ['prev4_play_def_penalty', 'prev2_big_play_pass', 'prev2_play_run_inside', 'game_temp_prod_game_humidity', 'dtg_44to35', 'prev4_play_off_penalty', 'prev5_play_off_penalty', 'game_wind_div_game_temp', 'game_wind_prod_game_temp', 'prev5_play_def_penalty', 'prev3_play_off_penalty', 'spread_line', 'prev3_negative_pass', 'prev2_effct_play', 'prev2_play_def_penalty', 'half_seconds_div_score_diff', 'down']\n"
     ]
    }
   ],
   "source": [
    "# Combine vif and p_df dataframes\n",
    "multi_df = vif_df.merge(p_df, how='outer', on=['variable'])\n",
    "multi_df = multi_df.sort_values(by=['p_value'], ascending=False)\n",
    "\n",
    "# Set vif threshold\n",
    "vif_threshold = 10.0\n",
    "p_value_threshold = 0.10\n",
    "\n",
    "# Return a list of column names with vif > vif_threshold and p-value > p_value_threshold\n",
    "dropped_columns = list(multi_df.loc[(multi_df['vif'] > vif_threshold) | (multi_df['p_value'] > p_value_threshold), 'variable'])\n",
    "\n",
    "# Exclusion list of strings from dropped columns\n",
    "add_back_columns = ['ydstogo','remaining_downs','remaining_yards_per_down','ep','wp','game_seconds_remaining','half_seconds_remaining','qtr']\n",
    "\n",
    "# Remove add_back_columns from dropped_columns list\n",
    "dropped_columns = [x for x in dropped_columns if x not in add_back_columns]\n",
    "\n",
    "print('Dropped columns:', dropped_columns)"
   ],
   "metadata": {
    "collapsed": false,
    "ExecuteTime": {
     "end_time": "2024-01-15T05:15:14.614412Z",
     "start_time": "2024-01-15T05:15:14.501509Z"
    }
   },
   "id": "99cb68bd4e98fcee",
   "execution_count": 260
  },
  {
   "cell_type": "code",
   "outputs": [],
   "source": [
    " # Drop columns outside of scope\n",
    "df4.drop(dropped_columns, axis=1, inplace=True)"
   ],
   "metadata": {
    "collapsed": false,
    "ExecuteTime": {
     "end_time": "2024-01-15T05:15:43.423383Z",
     "start_time": "2024-01-15T05:15:43.206104Z"
    }
   },
   "id": "c85b50306e28f2d4",
   "execution_count": 262
  },
  {
   "cell_type": "code",
   "outputs": [
    {
     "data": {
      "text/plain": "(67243, 128)"
     },
     "execution_count": 263,
     "metadata": {},
     "output_type": "execute_result"
    }
   ],
   "source": [
    "# Add df4_cat back to df4\n",
    "df5 = pd.concat([df4, df4_cat], axis=1)\n",
    "\n",
    "df5.shape"
   ],
   "metadata": {
    "collapsed": false,
    "ExecuteTime": {
     "end_time": "2024-01-15T05:15:45.180417Z",
     "start_time": "2024-01-15T05:15:44.984711Z"
    }
   },
   "id": "5d75655f5bd669ca",
   "execution_count": 263
  },
  {
   "cell_type": "code",
   "outputs": [
    {
     "data": {
      "text/plain": "['week',\n 'half_seconds_remaining',\n 'game_seconds_remaining',\n 'qtr',\n 'goal_to_go',\n 'ydstogo',\n 'play_type',\n 'shotgun',\n 'no_huddle',\n 'posteam_timeouts_remaining',\n 'defteam_timeouts_remaining',\n 'posteam_score',\n 'defteam_score',\n 'no_score_prob',\n 'safety_prob',\n 'ep',\n 'wp',\n 'total_line',\n 'div_game',\n 'defenders_in_box',\n 'report_eligible',\n 'wr_to_db_ratio',\n 'ol_to_dl_ratio',\n 'play_sequence_game',\n 'play_sequence_series',\n 'score_differential_norm',\n 'dtg_99to96',\n 'dtg_95to90',\n 'dtg_89to75',\n 'dtg_74to55',\n 'dtg_54to45',\n 'dtg_34to21',\n 'dtg_20to10',\n 'dtg_09to00',\n 'prev1_big_play_pass',\n 'prev3_big_play_pass',\n 'prev1_big_play_run',\n 'prev2_big_play_run',\n 'prev3_big_play_run',\n 'prev1_negative_pass',\n 'prev2_negative_pass',\n 'prev1_negative_run',\n 'prev2_negative_run',\n 'prev3_negative_run',\n 'prev1_play_off_penalty',\n 'prev1_play_def_penalty',\n 'prev2_play_off_penalty',\n 'prev3_play_def_penalty',\n 'prev1_play_run_outside',\n 'prev1_play_run_inside',\n 'prev1_play_pass_deep',\n 'prev1_play_pass_short',\n 'prev2_play_run_outside',\n 'prev2_play_pass_deep',\n 'prev2_play_pass_short',\n 'prev3_play_run_outside',\n 'prev3_play_run_inside',\n 'prev3_play_pass_deep',\n 'prev3_play_pass_short',\n 'prev1_incomplete_pass',\n 'prev2_incomplete_pass',\n 'prev3_incomplete_pass',\n 'prev4_incomplete_pass',\n 'prev1_yards_gained',\n 'prev2_yards_gained',\n 'prev3_yards_gained',\n 'prev4_yards_gained',\n 'prev5_yards_gained',\n 'prev1_wpa',\n 'prev2_wpa',\n 'prev3_wpa',\n 'prev4_wpa',\n 'prev5_wpa',\n 'prev1_shotgun',\n 'prev2_shotgun',\n 'prev3_shotgun',\n 'prev4_shotgun',\n 'prev5_shotgun',\n 'prev1_qb_hit',\n 'prev2_qb_hit',\n 'prev3_qb_hit',\n 'prev4_qb_hit',\n 'prev5_qb_hit',\n 'prev1_no_huddle',\n 'prev2_no_huddle',\n 'prev3_no_huddle',\n 'prev4_no_huddle',\n 'prev5_no_huddle',\n 'prev1_first_down_pass',\n 'prev2_first_down_pass',\n 'prev3_first_down_pass',\n 'prev1_first_down_run',\n 'prev2_first_down_run',\n 'prev3_first_down_run',\n 'prev1_effct_play',\n 'prev3_effct_play',\n 'prev4_effct_play',\n 'prev5_effct_play',\n 'remaining_downs',\n 'remaining_yards_per_down',\n 'two_min_warning',\n 'ep_half_sec_ratio',\n 'ep_game_sec_ratio',\n 'posteam_side',\n 'game_temp_div_game_humidity',\n 'run_ratio_off_priors',\n 'run_ratio_def_priors',\n 'posteam',\n 'posteam_type',\n 'defteam',\n 'roof',\n 'surface',\n 'offense_formation',\n 'offense_personnel',\n 'defense_personnel',\n 'game_weather',\n 'play_type_prev1',\n 'play_type_prev2',\n 'play_type_prev3',\n 'play_type_prev4',\n 'play_type_prev5',\n 'offense_personnel_prev1',\n 'offense_personnel_prev2',\n 'offense_personnel_prev3',\n 'defense_personnel_prev1',\n 'defense_personnel_prev2',\n 'defense_personnel_prev3',\n 'drive_start']"
     },
     "execution_count": 264,
     "metadata": {},
     "output_type": "execute_result"
    }
   ],
   "source": [
    "df5.columns.to_list()"
   ],
   "metadata": {
    "collapsed": false,
    "ExecuteTime": {
     "end_time": "2024-01-15T05:15:46.789215Z",
     "start_time": "2024-01-15T05:15:46.631486Z"
    }
   },
   "id": "c0c1fe71ac075e12",
   "execution_count": 264
  },
  {
   "cell_type": "markdown",
   "source": [
    "## RUN PASS CLASSIFICATION DATAFRAME"
   ],
   "metadata": {
    "collapsed": false
   },
   "id": "b1db1444e0b15fd"
  },
  {
   "cell_type": "code",
   "execution_count": 265,
   "id": "8093d931",
   "metadata": {
    "pycharm": {
     "name": "#%%\n"
    },
    "ExecuteTime": {
     "end_time": "2024-01-15T05:16:28.574387Z",
     "start_time": "2024-01-15T05:16:22.393752Z"
    }
   },
   "outputs": [
    {
     "data": {
      "text/plain": "(67243, 128)"
     },
     "execution_count": 265,
     "metadata": {},
     "output_type": "execute_result"
    }
   ],
   "source": [
    "df6 = df5.copy()\n",
    "\n",
    "# Export binary classifier dataframe\n",
    "df6.to_csv(r'/Users/ttas2/Documents/Python/nfl-machine-learning-models/output_files/nfl_post_processing_run_pass_classification_data.csv', index=None, header=True)\n",
    "\n",
    "df6.shape"
   ]
  },
  {
   "cell_type": "code",
   "execution_count": null,
   "id": "b9b9cb86",
   "metadata": {
    "pycharm": {
     "name": "#%%\n"
    }
   },
   "outputs": [],
   "source": []
  }
 ],
 "metadata": {
  "colab": {
   "name": "nfl_offensive_play_classification_v1.1.ipynb",
   "provenance": []
  },
  "kernelspec": {
   "display_name": "Python 3 (ipykernel)",
   "language": "python",
   "name": "python3"
  },
  "language_info": {
   "codemirror_mode": {
    "name": "ipython",
    "version": 3
   },
   "file_extension": ".py",
   "mimetype": "text/x-python",
   "name": "python",
   "nbconvert_exporter": "python",
   "pygments_lexer": "ipython3",
   "version": "3.9.6"
  }
 },
 "nbformat": 4,
 "nbformat_minor": 5
}
