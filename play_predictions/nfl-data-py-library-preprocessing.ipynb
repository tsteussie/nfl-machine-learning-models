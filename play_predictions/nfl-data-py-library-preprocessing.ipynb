{
 "cells": [
  {
   "cell_type": "code",
   "execution_count": 126,
   "id": "5312cec7",
   "metadata": {
    "pycharm": {
     "name": "#%%\n"
    },
    "ExecuteTime": {
     "end_time": "2023-10-11T14:59:24.884985Z",
     "start_time": "2023-10-11T14:59:23.542765Z"
    }
   },
   "outputs": [],
   "source": [
    "import pandas as pd\n",
    "import numpy as np\n",
    "from joblib import Parallel, delayed\n",
    "import nfl_data_py as nfl\n",
    "import ssl\n",
    "ssl._create_default_https_context = ssl._create_stdlib_context\n",
    "from statsmodels.stats.outliers_influence import variance_inflation_factor as vif\n",
    "import warnings\n",
    "warnings.filterwarnings('ignore')"
   ]
  },
  {
   "cell_type": "markdown",
   "id": "bd81412b",
   "metadata": {
    "pycharm": {
     "name": "#%% md\n"
    }
   },
   "source": [
    "# nfl-data-py"
   ]
  },
  {
   "cell_type": "code",
   "execution_count": 127,
   "id": "349503b8",
   "metadata": {
    "pycharm": {
     "name": "#%%\n"
    },
    "ExecuteTime": {
     "end_time": "2023-10-11T14:59:26.159644Z",
     "start_time": "2023-10-11T14:59:23.614407Z"
    }
   },
   "outputs": [
    {
     "name": "stdout",
     "output_type": "stream",
     "text": [
      "[2022, 2023]\n",
      "[2000, 2001, 2002, 2003, 2004, 2005, 2006, 2007, 2008, 2009, 2010, 2011, 2012, 2013, 2014, 2015, 2016, 2017, 2018, 2019, 2020, 2021, 2022, 2023]\n"
     ]
    }
   ],
   "source": [
    "# 1999-2021 available for analysis. Some properties are not available in earlier years.  Offensive formation available starting in 2022\n",
    "seasons = [*range(2022, 2024, 1)]\n",
    "draft_years = [*range(2000, 2024, 1)]\n",
    "\n",
    "print(seasons)\n",
    "print(draft_years)"
   ]
  },
  {
   "cell_type": "markdown",
   "id": "d6bbdf80",
   "metadata": {
    "pycharm": {
     "name": "#%% md\n"
    }
   },
   "source": [
    "#### Data dictionary"
   ]
  },
  {
   "cell_type": "markdown",
   "id": "11bc07d1",
   "metadata": {
    "pycharm": {
     "name": "#%% md\n"
    }
   },
   "source": [
    "https://nflreadr.nflverse.com/articles/dictionary_pbp.html"
   ]
  },
  {
   "cell_type": "markdown",
   "id": "3ad92036",
   "metadata": {
    "pycharm": {
     "name": "#%% md\n"
    }
   },
   "source": [
    "#### Import play-by-play data"
   ]
  },
  {
   "cell_type": "code",
   "execution_count": 128,
   "id": "7905b061",
   "metadata": {
    "pycharm": {
     "name": "#%%\n"
    },
    "scrolled": true,
    "ExecuteTime": {
     "end_time": "2023-10-11T14:59:40.320624Z",
     "start_time": "2023-10-11T14:59:23.727677Z"
    }
   },
   "outputs": [
    {
     "name": "stdout",
     "output_type": "stream",
     "text": [
      "2022 done.\n",
      "2023 done.\n"
     ]
    },
    {
     "data": {
      "text/plain": "(63849, 384)"
     },
     "execution_count": 128,
     "metadata": {},
     "output_type": "execute_result"
    }
   ],
   "source": [
    "play_data = nfl.import_pbp_data(years=seasons, downcast=False, cache=False) # , alt_path=None)\n",
    "\n",
    "# Clean dataframe using nfl-data-api cleaning function\n",
    "play_df = nfl.clean_nfl_data(play_data)\n",
    "\n",
    "play_df.shape"
   ]
  },
  {
   "cell_type": "code",
   "execution_count": 129,
   "id": "98db002a",
   "metadata": {
    "pycharm": {
     "name": "#%%\n"
    },
    "ExecuteTime": {
     "end_time": "2023-10-11T14:59:40.321273Z",
     "start_time": "2023-10-11T14:59:34.187822Z"
    }
   },
   "outputs": [
    {
     "data": {
      "text/plain": "       play_id          game_id old_game_id home_team away_team season_type   \n55195   2794.0  2023_02_NYJ_DAL  2023091710       DAL       NYJ         REG  \\\n\n       week posteam posteam_type defteam  ... offense_personnel   \n55195     2     DAL         home     NYJ  ...  1 RB, 2 TE, 2 WR  \\\n\n       defenders_in_box defense_personnel  number_of_pass_rushers   \n55195               6.0  3 DL, 4 LB, 4 DB                     NaN  \\\n\n                                         players_on_play   \n55195  43424;54594;56450;46211;54469;47911;53575;5242...  \\\n\n                                         offense_players   \n55195  00-0033077;00-0038041;00-0038731;00-0035261;00...  \\\n\n                                         defense_players  n_offense   \n55195  00-0034384;00-0037190;00-0036500;00-0035680;00...         11  \\\n\n       n_defense         game_alt_id  \n55195         11  DAL_NYJ_2023_09_17  \n\n[1 rows x 385 columns]",
      "text/html": "<div>\n<style scoped>\n    .dataframe tbody tr th:only-of-type {\n        vertical-align: middle;\n    }\n\n    .dataframe tbody tr th {\n        vertical-align: top;\n    }\n\n    .dataframe thead th {\n        text-align: right;\n    }\n</style>\n<table border=\"1\" class=\"dataframe\">\n  <thead>\n    <tr style=\"text-align: right;\">\n      <th></th>\n      <th>play_id</th>\n      <th>game_id</th>\n      <th>old_game_id</th>\n      <th>home_team</th>\n      <th>away_team</th>\n      <th>season_type</th>\n      <th>week</th>\n      <th>posteam</th>\n      <th>posteam_type</th>\n      <th>defteam</th>\n      <th>...</th>\n      <th>offense_personnel</th>\n      <th>defenders_in_box</th>\n      <th>defense_personnel</th>\n      <th>number_of_pass_rushers</th>\n      <th>players_on_play</th>\n      <th>offense_players</th>\n      <th>defense_players</th>\n      <th>n_offense</th>\n      <th>n_defense</th>\n      <th>game_alt_id</th>\n    </tr>\n  </thead>\n  <tbody>\n    <tr>\n      <th>55195</th>\n      <td>2794.0</td>\n      <td>2023_02_NYJ_DAL</td>\n      <td>2023091710</td>\n      <td>DAL</td>\n      <td>NYJ</td>\n      <td>REG</td>\n      <td>2</td>\n      <td>DAL</td>\n      <td>home</td>\n      <td>NYJ</td>\n      <td>...</td>\n      <td>1 RB, 2 TE, 2 WR</td>\n      <td>6.0</td>\n      <td>3 DL, 4 LB, 4 DB</td>\n      <td>NaN</td>\n      <td>43424;54594;56450;46211;54469;47911;53575;5242...</td>\n      <td>00-0033077;00-0038041;00-0038731;00-0035261;00...</td>\n      <td>00-0034384;00-0037190;00-0036500;00-0035680;00...</td>\n      <td>11</td>\n      <td>11</td>\n      <td>DAL_NYJ_2023_09_17</td>\n    </tr>\n  </tbody>\n</table>\n<p>1 rows × 385 columns</p>\n</div>"
     },
     "execution_count": 129,
     "metadata": {},
     "output_type": "execute_result"
    }
   ],
   "source": [
    "# Modify team names to match other data sources\n",
    "play_df['home_team'] = np.where(play_df['home_team'] == 'OAK', 'LV', play_df['home_team'])\n",
    "play_df['away_team'] = np.where(play_df['away_team'] == 'OAK', 'LV', play_df['away_team'])\n",
    "play_df['posteam'] = np.where(play_df['posteam'] == 'OAK', 'LV', play_df['posteam'])\n",
    "play_df['defteam'] = np.where(play_df['defteam'] == 'OAK', 'LV', play_df['defteam'])\n",
    "\n",
    "play_df['side_of_field'] = np.where(play_df['side_of_field'] == 'OAK', 'LV', play_df['side_of_field'])\n",
    "\n",
    "play_df['game_id'] = play_df['game_id'].str.replace('OAK', 'LV', case=True)\n",
    "\n",
    "# Create teams_date_id\n",
    "play_df['year'] = pd.DatetimeIndex(play_df['game_date']).year\n",
    "play_df['month'] = pd.DatetimeIndex(play_df['game_date']).month\n",
    "play_df['day'] = pd.DatetimeIndex(play_df['game_date']).day\n",
    "\n",
    "play_df['game_alt_id'] = play_df['home_team'] + '_' + play_df['away_team'] + '_' +  play_df['year'].astype(str) + '_' + play_df['month'].astype(str).str.zfill(2) + '_' + play_df['day'].astype(str).str.zfill(2)\n",
    "    \n",
    "play_df.drop(['year','month','day'], axis=1, inplace=True)\n",
    "\n",
    "play_df.sample(1)"
   ]
  },
  {
   "cell_type": "code",
   "execution_count": 130,
   "outputs": [
    {
     "name": "stdout",
     "output_type": "stream",
     "text": [
      "['play_id', 'game_id', 'old_game_id', 'home_team', 'away_team', 'season_type', 'week', 'posteam', 'posteam_type', 'defteam', 'side_of_field', 'yardline_100', 'game_date', 'quarter_seconds_remaining', 'half_seconds_remaining', 'game_seconds_remaining', 'game_half', 'quarter_end', 'drive', 'sp', 'qtr', 'down', 'goal_to_go', 'time', 'yrdln', 'ydstogo', 'ydsnet', 'desc', 'play_type', 'yards_gained', 'shotgun', 'no_huddle', 'qb_dropback', 'qb_kneel', 'qb_spike', 'qb_scramble', 'pass_length', 'pass_location', 'air_yards', 'yards_after_catch', 'run_location', 'run_gap', 'field_goal_result', 'kick_distance', 'extra_point_result', 'two_point_conv_result', 'home_timeouts_remaining', 'away_timeouts_remaining', 'timeout', 'timeout_team', 'td_team', 'td_player_name', 'td_player_id', 'posteam_timeouts_remaining', 'defteam_timeouts_remaining', 'total_home_score', 'total_away_score', 'posteam_score', 'defteam_score', 'score_differential', 'posteam_score_post', 'defteam_score_post', 'score_differential_post', 'no_score_prob', 'opp_fg_prob', 'opp_safety_prob', 'opp_td_prob', 'fg_prob', 'safety_prob', 'td_prob', 'extra_point_prob', 'two_point_conversion_prob', 'ep', 'epa', 'total_home_epa', 'total_away_epa', 'total_home_rush_epa', 'total_away_rush_epa', 'total_home_pass_epa', 'total_away_pass_epa', 'air_epa', 'yac_epa', 'comp_air_epa', 'comp_yac_epa', 'total_home_comp_air_epa', 'total_away_comp_air_epa', 'total_home_comp_yac_epa', 'total_away_comp_yac_epa', 'total_home_raw_air_epa', 'total_away_raw_air_epa', 'total_home_raw_yac_epa', 'total_away_raw_yac_epa', 'wp', 'def_wp', 'home_wp', 'away_wp', 'wpa', 'vegas_wpa', 'vegas_home_wpa', 'home_wp_post', 'away_wp_post', 'vegas_wp', 'vegas_home_wp', 'total_home_rush_wpa', 'total_away_rush_wpa', 'total_home_pass_wpa', 'total_away_pass_wpa', 'air_wpa', 'yac_wpa', 'comp_air_wpa', 'comp_yac_wpa', 'total_home_comp_air_wpa', 'total_away_comp_air_wpa', 'total_home_comp_yac_wpa', 'total_away_comp_yac_wpa', 'total_home_raw_air_wpa', 'total_away_raw_air_wpa', 'total_home_raw_yac_wpa', 'total_away_raw_yac_wpa', 'punt_blocked', 'first_down_rush', 'first_down_pass', 'first_down_penalty', 'third_down_converted', 'third_down_failed', 'fourth_down_converted', 'fourth_down_failed', 'incomplete_pass', 'touchback', 'interception', 'punt_inside_twenty', 'punt_in_endzone', 'punt_out_of_bounds', 'punt_downed', 'punt_fair_catch', 'kickoff_inside_twenty', 'kickoff_in_endzone', 'kickoff_out_of_bounds', 'kickoff_downed', 'kickoff_fair_catch', 'fumble_forced', 'fumble_not_forced', 'fumble_out_of_bounds', 'solo_tackle', 'safety', 'penalty', 'tackled_for_loss', 'fumble_lost', 'own_kickoff_recovery', 'own_kickoff_recovery_td', 'qb_hit', 'rush_attempt', 'pass_attempt', 'sack', 'touchdown', 'pass_touchdown', 'rush_touchdown', 'return_touchdown', 'extra_point_attempt', 'two_point_attempt', 'field_goal_attempt', 'kickoff_attempt', 'punt_attempt', 'fumble', 'complete_pass', 'assist_tackle', 'lateral_reception', 'lateral_rush', 'lateral_return', 'lateral_recovery', 'passer_player_id', 'passer_player_name', 'passing_yards', 'receiver_player_id', 'receiver_player_name', 'receiving_yards', 'rusher_player_id', 'rusher_player_name', 'rushing_yards', 'lateral_receiver_player_id', 'lateral_receiver_player_name', 'lateral_receiving_yards', 'lateral_rusher_player_id', 'lateral_rusher_player_name', 'lateral_rushing_yards', 'lateral_sack_player_id', 'lateral_sack_player_name', 'interception_player_id', 'interception_player_name', 'lateral_interception_player_id', 'lateral_interception_player_name', 'punt_returner_player_id', 'punt_returner_player_name', 'lateral_punt_returner_player_id', 'lateral_punt_returner_player_name', 'kickoff_returner_player_name', 'kickoff_returner_player_id', 'lateral_kickoff_returner_player_id', 'lateral_kickoff_returner_player_name', 'punter_player_id', 'punter_player_name', 'kicker_player_name', 'kicker_player_id', 'own_kickoff_recovery_player_id', 'own_kickoff_recovery_player_name', 'blocked_player_id', 'blocked_player_name', 'tackle_for_loss_1_player_id', 'tackle_for_loss_1_player_name', 'tackle_for_loss_2_player_id', 'tackle_for_loss_2_player_name', 'qb_hit_1_player_id', 'qb_hit_1_player_name', 'qb_hit_2_player_id', 'qb_hit_2_player_name', 'forced_fumble_player_1_team', 'forced_fumble_player_1_player_id', 'forced_fumble_player_1_player_name', 'forced_fumble_player_2_team', 'forced_fumble_player_2_player_id', 'forced_fumble_player_2_player_name', 'solo_tackle_1_team', 'solo_tackle_2_team', 'solo_tackle_1_player_id', 'solo_tackle_2_player_id', 'solo_tackle_1_player_name', 'solo_tackle_2_player_name', 'assist_tackle_1_player_id', 'assist_tackle_1_player_name', 'assist_tackle_1_team', 'assist_tackle_2_player_id', 'assist_tackle_2_player_name', 'assist_tackle_2_team', 'assist_tackle_3_player_id', 'assist_tackle_3_player_name', 'assist_tackle_3_team', 'assist_tackle_4_player_id', 'assist_tackle_4_player_name', 'assist_tackle_4_team', 'tackle_with_assist', 'tackle_with_assist_1_player_id', 'tackle_with_assist_1_player_name', 'tackle_with_assist_1_team', 'tackle_with_assist_2_player_id', 'tackle_with_assist_2_player_name', 'tackle_with_assist_2_team', 'pass_defense_1_player_id', 'pass_defense_1_player_name', 'pass_defense_2_player_id', 'pass_defense_2_player_name', 'fumbled_1_team', 'fumbled_1_player_id', 'fumbled_1_player_name', 'fumbled_2_player_id', 'fumbled_2_player_name', 'fumbled_2_team', 'fumble_recovery_1_team', 'fumble_recovery_1_yards', 'fumble_recovery_1_player_id', 'fumble_recovery_1_player_name', 'fumble_recovery_2_team', 'fumble_recovery_2_yards', 'fumble_recovery_2_player_id', 'fumble_recovery_2_player_name', 'sack_player_id', 'sack_player_name', 'half_sack_1_player_id', 'half_sack_1_player_name', 'half_sack_2_player_id', 'half_sack_2_player_name', 'return_team', 'return_yards', 'penalty_team', 'penalty_player_id', 'penalty_player_name', 'penalty_yards', 'replay_or_challenge', 'replay_or_challenge_result', 'penalty_type', 'defensive_two_point_attempt', 'defensive_two_point_conv', 'defensive_extra_point_attempt', 'defensive_extra_point_conv', 'safety_player_name', 'safety_player_id', 'season', 'cp', 'cpoe', 'series', 'series_success', 'series_result', 'order_sequence', 'start_time', 'time_of_day', 'stadium', 'weather', 'nfl_api_id', 'play_clock', 'play_deleted', 'play_type_nfl', 'special_teams_play', 'st_play_type', 'end_clock_time', 'end_yard_line', 'fixed_drive', 'fixed_drive_result', 'drive_real_start_time', 'drive_play_count', 'drive_time_of_possession', 'drive_first_downs', 'drive_inside20', 'drive_ended_with_score', 'drive_quarter_start', 'drive_quarter_end', 'drive_yards_penalized', 'drive_start_transition', 'drive_end_transition', 'drive_game_clock_start', 'drive_game_clock_end', 'drive_start_yard_line', 'drive_end_yard_line', 'drive_play_id_started', 'drive_play_id_ended', 'away_score', 'home_score', 'location', 'result', 'total', 'spread_line', 'total_line', 'div_game', 'roof', 'surface', 'temp', 'wind', 'home_coach', 'away_coach', 'stadium_id', 'game_stadium', 'aborted_play', 'success', 'passer', 'passer_jersey_number', 'rusher', 'rusher_jersey_number', 'receiver', 'receiver_jersey_number', 'pass', 'rush', 'first_down', 'special', 'play', 'passer_id', 'rusher_id', 'receiver_id', 'name', 'jersey_number', 'id', 'fantasy_player_name', 'fantasy_player_id', 'fantasy', 'fantasy_id', 'out_of_bounds', 'home_opening_kickoff', 'qb_epa', 'xyac_epa', 'xyac_mean_yardage', 'xyac_median_yardage', 'xyac_success', 'xyac_fd', 'xpass', 'pass_oe', 'nflverse_game_id', 'possession_team', 'offense_formation', 'offense_personnel', 'defenders_in_box', 'defense_personnel', 'number_of_pass_rushers', 'players_on_play', 'offense_players', 'defense_players', 'n_offense', 'n_defense', 'game_alt_id']\n"
     ]
    }
   ],
   "source": [
    "# Print column names and missing values count\n",
    "print(play_df.columns.tolist())"
   ],
   "metadata": {
    "collapsed": false,
    "ExecuteTime": {
     "end_time": "2023-10-11T14:59:40.321902Z",
     "start_time": "2023-10-11T14:59:34.959605Z"
    }
   },
   "id": "d1f1052c892b97e7"
  },
  {
   "cell_type": "code",
   "execution_count": 131,
   "id": "75902bba",
   "metadata": {
    "pycharm": {
     "name": "#%%\n"
    },
    "ExecuteTime": {
     "end_time": "2023-10-11T14:59:40.322323Z",
     "start_time": "2023-10-11T14:59:34.970880Z"
    }
   },
   "outputs": [
    {
     "data": {
      "text/plain": "32"
     },
     "execution_count": 131,
     "metadata": {},
     "output_type": "execute_result"
    }
   ],
   "source": [
    "play_df.home_team.nunique()"
   ]
  },
  {
   "cell_type": "code",
   "execution_count": 132,
   "outputs": [
    {
     "data": {
      "text/plain": "                             count         mean          std        min   \nplay_id                    63849.0  2089.399583  1214.322939   1.000000  \\\nweek                       63849.0     8.411455     5.769192   1.000000   \nyardline_100               58663.0    48.790379    24.269474   1.000000   \nquarter_seconds_remaining  63849.0   407.819120   282.749645   0.000000   \nhalf_seconds_remaining     63849.0   798.962286   563.140655   0.000000   \n...                            ...          ...          ...        ...   \npass_oe                    46903.0    -1.512761    42.437702 -99.512959   \ndefenders_in_box           47655.0     6.359291     1.050716   1.000000   \nnumber_of_pass_rushers     27436.0     4.294212     0.739697   0.000000   \nn_offense                  63849.0    10.096556     3.020286   0.000000   \nn_defense                  63849.0    10.094708     3.020314   0.000000   \n\n                                  25%          50%          75%          max  \nplay_id                    1052.00000  2065.000000  3112.000000  5523.000000  \nweek                          3.00000     7.000000    13.000000    22.000000  \nyardline_100                 31.00000    50.000000    70.000000    99.000000  \nquarter_seconds_remaining   140.00000   387.000000   652.000000   900.000000  \nhalf_seconds_remaining      261.00000   776.000000  1285.000000  1800.000000  \n...                               ...          ...          ...          ...  \npass_oe                     -43.04107     3.822029    33.103177    97.995057  \ndefenders_in_box              6.00000     6.000000     7.000000    11.000000  \nnumber_of_pass_rushers        4.00000     4.000000     5.000000     9.000000  \nn_offense                    11.00000    11.000000    11.000000    12.000000  \nn_defense                    11.00000    11.000000    11.000000    22.000000  \n\n[211 rows x 8 columns]",
      "text/html": "<div>\n<style scoped>\n    .dataframe tbody tr th:only-of-type {\n        vertical-align: middle;\n    }\n\n    .dataframe tbody tr th {\n        vertical-align: top;\n    }\n\n    .dataframe thead th {\n        text-align: right;\n    }\n</style>\n<table border=\"1\" class=\"dataframe\">\n  <thead>\n    <tr style=\"text-align: right;\">\n      <th></th>\n      <th>count</th>\n      <th>mean</th>\n      <th>std</th>\n      <th>min</th>\n      <th>25%</th>\n      <th>50%</th>\n      <th>75%</th>\n      <th>max</th>\n    </tr>\n  </thead>\n  <tbody>\n    <tr>\n      <th>play_id</th>\n      <td>63849.0</td>\n      <td>2089.399583</td>\n      <td>1214.322939</td>\n      <td>1.000000</td>\n      <td>1052.00000</td>\n      <td>2065.000000</td>\n      <td>3112.000000</td>\n      <td>5523.000000</td>\n    </tr>\n    <tr>\n      <th>week</th>\n      <td>63849.0</td>\n      <td>8.411455</td>\n      <td>5.769192</td>\n      <td>1.000000</td>\n      <td>3.00000</td>\n      <td>7.000000</td>\n      <td>13.000000</td>\n      <td>22.000000</td>\n    </tr>\n    <tr>\n      <th>yardline_100</th>\n      <td>58663.0</td>\n      <td>48.790379</td>\n      <td>24.269474</td>\n      <td>1.000000</td>\n      <td>31.00000</td>\n      <td>50.000000</td>\n      <td>70.000000</td>\n      <td>99.000000</td>\n    </tr>\n    <tr>\n      <th>quarter_seconds_remaining</th>\n      <td>63849.0</td>\n      <td>407.819120</td>\n      <td>282.749645</td>\n      <td>0.000000</td>\n      <td>140.00000</td>\n      <td>387.000000</td>\n      <td>652.000000</td>\n      <td>900.000000</td>\n    </tr>\n    <tr>\n      <th>half_seconds_remaining</th>\n      <td>63849.0</td>\n      <td>798.962286</td>\n      <td>563.140655</td>\n      <td>0.000000</td>\n      <td>261.00000</td>\n      <td>776.000000</td>\n      <td>1285.000000</td>\n      <td>1800.000000</td>\n    </tr>\n    <tr>\n      <th>...</th>\n      <td>...</td>\n      <td>...</td>\n      <td>...</td>\n      <td>...</td>\n      <td>...</td>\n      <td>...</td>\n      <td>...</td>\n      <td>...</td>\n    </tr>\n    <tr>\n      <th>pass_oe</th>\n      <td>46903.0</td>\n      <td>-1.512761</td>\n      <td>42.437702</td>\n      <td>-99.512959</td>\n      <td>-43.04107</td>\n      <td>3.822029</td>\n      <td>33.103177</td>\n      <td>97.995057</td>\n    </tr>\n    <tr>\n      <th>defenders_in_box</th>\n      <td>47655.0</td>\n      <td>6.359291</td>\n      <td>1.050716</td>\n      <td>1.000000</td>\n      <td>6.00000</td>\n      <td>6.000000</td>\n      <td>7.000000</td>\n      <td>11.000000</td>\n    </tr>\n    <tr>\n      <th>number_of_pass_rushers</th>\n      <td>27436.0</td>\n      <td>4.294212</td>\n      <td>0.739697</td>\n      <td>0.000000</td>\n      <td>4.00000</td>\n      <td>4.000000</td>\n      <td>5.000000</td>\n      <td>9.000000</td>\n    </tr>\n    <tr>\n      <th>n_offense</th>\n      <td>63849.0</td>\n      <td>10.096556</td>\n      <td>3.020286</td>\n      <td>0.000000</td>\n      <td>11.00000</td>\n      <td>11.000000</td>\n      <td>11.000000</td>\n      <td>12.000000</td>\n    </tr>\n    <tr>\n      <th>n_defense</th>\n      <td>63849.0</td>\n      <td>10.094708</td>\n      <td>3.020314</td>\n      <td>0.000000</td>\n      <td>11.00000</td>\n      <td>11.000000</td>\n      <td>11.000000</td>\n      <td>22.000000</td>\n    </tr>\n  </tbody>\n</table>\n<p>211 rows × 8 columns</p>\n</div>"
     },
     "execution_count": 132,
     "metadata": {},
     "output_type": "execute_result"
    }
   ],
   "source": [
    "play_df.describe().transpose()"
   ],
   "metadata": {
    "collapsed": false,
    "ExecuteTime": {
     "end_time": "2023-10-11T14:59:40.322980Z",
     "start_time": "2023-10-11T14:59:34.985484Z"
    }
   },
   "id": "b0c919e12da3100e"
  },
  {
   "cell_type": "code",
   "execution_count": 133,
   "outputs": [
    {
     "data": {
      "text/plain": "play_id            0\ngame_id            0\nold_game_id        0\nhome_team          0\naway_team          0\n                  ..\noffense_players    0\ndefense_players    0\nn_offense          0\nn_defense          0\ngame_alt_id        0\nLength: 385, dtype: int64"
     },
     "execution_count": 133,
     "metadata": {},
     "output_type": "execute_result"
    }
   ],
   "source": [
    "# Print columns with missing values\n",
    "missing = play_df.isnull().sum()\n",
    "missing"
   ],
   "metadata": {
    "collapsed": false,
    "ExecuteTime": {
     "end_time": "2023-10-11T14:59:40.378520Z",
     "start_time": "2023-10-11T14:59:36.456321Z"
    }
   },
   "id": "60a1da79aae5d6f8"
  },
  {
   "cell_type": "markdown",
   "id": "46536268",
   "metadata": {
    "pycharm": {
     "name": "#%% md\n"
    }
   },
   "source": [
    "#### Import Schedule data"
   ]
  },
  {
   "cell_type": "code",
   "execution_count": 134,
   "id": "63f722f6",
   "metadata": {
    "pycharm": {
     "name": "#%%\n"
    },
    "ExecuteTime": {
     "end_time": "2023-10-11T14:59:40.379638Z",
     "start_time": "2023-10-11T14:59:36.905243Z"
    }
   },
   "outputs": [
    {
     "data": {
      "text/plain": "(556, 46)"
     },
     "execution_count": 134,
     "metadata": {},
     "output_type": "execute_result"
    }
   ],
   "source": [
    "game_data = nfl.import_schedules(years=seasons)\n",
    "\n",
    "# Clean dataframe using nfl-data-api cleaning function\n",
    "game_df = nfl.clean_nfl_data(game_data)\n",
    "\n",
    "# # Sort dataframe\n",
    "game_df = game_df.sort_values(by=['season','week','gameday'], ascending=True)\n",
    "\n",
    "game_df.shape"
   ]
  },
  {
   "cell_type": "code",
   "execution_count": 135,
   "id": "b64669eb",
   "metadata": {
    "pycharm": {
     "name": "#%%\n"
    },
    "scrolled": false,
    "ExecuteTime": {
     "end_time": "2023-10-11T14:59:40.381615Z",
     "start_time": "2023-10-11T14:59:38.058179Z"
    }
   },
   "outputs": [
    {
     "data": {
      "text/plain": "             game_id  season game_type  week     gameday   weekday gametime   \n6137  2022_01_BUF_LA    2022       REG     1  2022-09-08  Thursday    20:20  \\\n6138  2022_01_NO_ATL    2022       REG     1  2022-09-11    Sunday    13:00   \n\n     away_team  away_score home_team  ...  wind  away_qb_id  home_qb_id   \n6137       BUF        31.0        LA  ...   NaN  00-0034857  00-0026498  \\\n6138        NO        27.0       ATL  ...   NaN  00-0031503  00-0032268   \n\n        away_qb_name      home_qb_name      away_coach    home_coach   \n6137      Josh Allen  Matthew Stafford  Sean McDermott    Sean McVay  \\\n6138  Jameis Winston    Marcus Mariota    Dennis Allen  Arthur Smith   \n\n            referee stadium_id                stadium  \n6137  Carl Cheffers      LAX01           SoFi Stadium  \n6138      Alex Kemp      ATL97  Mercedes-Benz Stadium  \n\n[2 rows x 46 columns]",
      "text/html": "<div>\n<style scoped>\n    .dataframe tbody tr th:only-of-type {\n        vertical-align: middle;\n    }\n\n    .dataframe tbody tr th {\n        vertical-align: top;\n    }\n\n    .dataframe thead th {\n        text-align: right;\n    }\n</style>\n<table border=\"1\" class=\"dataframe\">\n  <thead>\n    <tr style=\"text-align: right;\">\n      <th></th>\n      <th>game_id</th>\n      <th>season</th>\n      <th>game_type</th>\n      <th>week</th>\n      <th>gameday</th>\n      <th>weekday</th>\n      <th>gametime</th>\n      <th>away_team</th>\n      <th>away_score</th>\n      <th>home_team</th>\n      <th>...</th>\n      <th>wind</th>\n      <th>away_qb_id</th>\n      <th>home_qb_id</th>\n      <th>away_qb_name</th>\n      <th>home_qb_name</th>\n      <th>away_coach</th>\n      <th>home_coach</th>\n      <th>referee</th>\n      <th>stadium_id</th>\n      <th>stadium</th>\n    </tr>\n  </thead>\n  <tbody>\n    <tr>\n      <th>6137</th>\n      <td>2022_01_BUF_LA</td>\n      <td>2022</td>\n      <td>REG</td>\n      <td>1</td>\n      <td>2022-09-08</td>\n      <td>Thursday</td>\n      <td>20:20</td>\n      <td>BUF</td>\n      <td>31.0</td>\n      <td>LA</td>\n      <td>...</td>\n      <td>NaN</td>\n      <td>00-0034857</td>\n      <td>00-0026498</td>\n      <td>Josh Allen</td>\n      <td>Matthew Stafford</td>\n      <td>Sean McDermott</td>\n      <td>Sean McVay</td>\n      <td>Carl Cheffers</td>\n      <td>LAX01</td>\n      <td>SoFi Stadium</td>\n    </tr>\n    <tr>\n      <th>6138</th>\n      <td>2022_01_NO_ATL</td>\n      <td>2022</td>\n      <td>REG</td>\n      <td>1</td>\n      <td>2022-09-11</td>\n      <td>Sunday</td>\n      <td>13:00</td>\n      <td>NO</td>\n      <td>27.0</td>\n      <td>ATL</td>\n      <td>...</td>\n      <td>NaN</td>\n      <td>00-0031503</td>\n      <td>00-0032268</td>\n      <td>Jameis Winston</td>\n      <td>Marcus Mariota</td>\n      <td>Dennis Allen</td>\n      <td>Arthur Smith</td>\n      <td>Alex Kemp</td>\n      <td>ATL97</td>\n      <td>Mercedes-Benz Stadium</td>\n    </tr>\n  </tbody>\n</table>\n<p>2 rows × 46 columns</p>\n</div>"
     },
     "execution_count": 135,
     "metadata": {},
     "output_type": "execute_result"
    }
   ],
   "source": [
    "game_df.head(2)"
   ]
  },
  {
   "cell_type": "code",
   "execution_count": 136,
   "id": "8752388f",
   "metadata": {
    "pycharm": {
     "name": "#%%\n"
    },
    "ExecuteTime": {
     "end_time": "2023-10-11T14:59:40.381909Z",
     "start_time": "2023-10-11T14:59:38.080686Z"
    }
   },
   "outputs": [],
   "source": [
    "# Modify team codes to match schedule\n",
    "game_df['home_team'] = np.where(game_df['home_team'] == 'OAK', 'LV', game_df['home_team'])\n",
    "game_df['away_team'] = np.where(game_df['away_team'] == 'OAK', 'LV', game_df['away_team'])\n",
    "game_df['game_id'] = game_df['game_id'].str.replace('OAK', 'LV', case=True)"
   ]
  },
  {
   "cell_type": "code",
   "execution_count": 137,
   "id": "53bb21e7",
   "metadata": {
    "pycharm": {
     "name": "#%%\n"
    },
    "ExecuteTime": {
     "end_time": "2023-10-11T14:59:40.382326Z",
     "start_time": "2023-10-11T14:59:38.088640Z"
    }
   },
   "outputs": [
    {
     "data": {
      "text/plain": "32"
     },
     "execution_count": 137,
     "metadata": {},
     "output_type": "execute_result"
    }
   ],
   "source": [
    "game_df.home_team.nunique()"
   ]
  },
  {
   "cell_type": "code",
   "execution_count": 138,
   "id": "a7bfeaeb",
   "metadata": {
    "pycharm": {
     "name": "#%%\n"
    },
    "ExecuteTime": {
     "end_time": "2023-10-11T14:59:40.382566Z",
     "start_time": "2023-10-11T14:59:38.098032Z"
    }
   },
   "outputs": [
    {
     "data": {
      "text/plain": "32"
     },
     "execution_count": 138,
     "metadata": {},
     "output_type": "execute_result"
    }
   ],
   "source": [
    "game_df.away_team.nunique()"
   ]
  },
  {
   "cell_type": "code",
   "execution_count": 139,
   "id": "cbbf6c4f",
   "metadata": {
    "pycharm": {
     "name": "#%%\n"
    },
    "ExecuteTime": {
     "end_time": "2023-10-11T14:59:40.444271Z",
     "start_time": "2023-10-11T14:59:38.111372Z"
    }
   },
   "outputs": [
    {
     "data": {
      "text/plain": "              game_id         game_alt_id     gameday weekday gametime   \n6454  2023_03_IND_BAL  BAL_IND_2023_09_24  2023-09-24  Sunday    13:00  \\\n6423  2023_01_HOU_BAL  BAL_HOU_2023_09_10  2023-09-10  Sunday    13:00   \n\n      under_odds  over_odds  away_rest  home_rest  \n6454      -110.0     -110.0          7          7  \n6423      -110.0     -110.0          7          7  ",
      "text/html": "<div>\n<style scoped>\n    .dataframe tbody tr th:only-of-type {\n        vertical-align: middle;\n    }\n\n    .dataframe tbody tr th {\n        vertical-align: top;\n    }\n\n    .dataframe thead th {\n        text-align: right;\n    }\n</style>\n<table border=\"1\" class=\"dataframe\">\n  <thead>\n    <tr style=\"text-align: right;\">\n      <th></th>\n      <th>game_id</th>\n      <th>game_alt_id</th>\n      <th>gameday</th>\n      <th>weekday</th>\n      <th>gametime</th>\n      <th>under_odds</th>\n      <th>over_odds</th>\n      <th>away_rest</th>\n      <th>home_rest</th>\n    </tr>\n  </thead>\n  <tbody>\n    <tr>\n      <th>6454</th>\n      <td>2023_03_IND_BAL</td>\n      <td>BAL_IND_2023_09_24</td>\n      <td>2023-09-24</td>\n      <td>Sunday</td>\n      <td>13:00</td>\n      <td>-110.0</td>\n      <td>-110.0</td>\n      <td>7</td>\n      <td>7</td>\n    </tr>\n    <tr>\n      <th>6423</th>\n      <td>2023_01_HOU_BAL</td>\n      <td>BAL_HOU_2023_09_10</td>\n      <td>2023-09-10</td>\n      <td>Sunday</td>\n      <td>13:00</td>\n      <td>-110.0</td>\n      <td>-110.0</td>\n      <td>7</td>\n      <td>7</td>\n    </tr>\n  </tbody>\n</table>\n</div>"
     },
     "execution_count": 139,
     "metadata": {},
     "output_type": "execute_result"
    }
   ],
   "source": [
    "# Create teams_date_id\n",
    "game_df['year'] = pd.DatetimeIndex(game_df['gameday']).year\n",
    "game_df['month'] = pd.DatetimeIndex(game_df['gameday']).month\n",
    "game_df['day'] = pd.DatetimeIndex(game_df['gameday']).day\n",
    "\n",
    "game_df['game_alt_id'] = game_df['home_team'] + '_' + game_df['away_team'] + '_' + game_df['year'].astype(str) + '_' + game_df['month'].astype(str).str.zfill(2) + '_' + game_df['day'].astype(str).str.zfill(2)\n",
    "    \n",
    "game_df.drop(['year','month','day'], axis=1, inplace=True)\n",
    "\n",
    "# Create game_id lookup table (joined with QBR table)\n",
    "game_df = game_df[['game_id','game_alt_id','gameday','weekday','gametime','under_odds','over_odds','away_rest','home_rest']]\n",
    "\n",
    "game_df.sample(2)"
   ]
  },
  {
   "cell_type": "markdown",
   "id": "b1c077dd",
   "metadata": {
    "pycharm": {
     "name": "#%% md\n"
    }
   },
   "source": [
    "#### Import QBR data"
   ]
  },
  {
   "cell_type": "code",
   "execution_count": 140,
   "id": "19302f2d",
   "metadata": {
    "pycharm": {
     "name": "#%%\n"
    },
    "ExecuteTime": {
     "end_time": "2023-10-11T14:59:40.444939Z",
     "start_time": "2023-10-11T14:59:38.136520Z"
    }
   },
   "outputs": [
    {
     "data": {
      "text/plain": "(716, 30)"
     },
     "execution_count": 140,
     "metadata": {},
     "output_type": "execute_result"
    }
   ],
   "source": [
    "qbr_data = nfl.import_qbr(years=seasons, level='nfl', frequency='weekly')\n",
    "\n",
    "# Clean dataframe using nfl-data-api cleaning function\n",
    "qbr_df = nfl.clean_nfl_data(qbr_data)\n",
    "\n",
    "qbr_df.shape"
   ]
  },
  {
   "cell_type": "code",
   "execution_count": 141,
   "id": "8f2f98af",
   "metadata": {
    "pycharm": {
     "name": "#%%\n"
    },
    "ExecuteTime": {
     "end_time": "2023-10-11T14:59:40.445731Z",
     "start_time": "2023-10-11T14:59:39.093619Z"
    }
   },
   "outputs": [
    {
     "data": {
      "text/plain": "      season season_type    game_id  game_week week_text team_abb  player_id   \n8559    2022     Regular  401437756          4    Week 4      PHI    4040715  \\\n8531    2022     Regular  401437736          3    Week 3      LAR    3052587   \n\n       name_short  rank  qbr_total  ...  name_last    name_display   \n8559     J. Hurts  28.0       17.8  ...      Hurts     Jalen Hurts  \\\n8531  B. Mayfield  32.0       11.5  ...   Mayfield  Baker Mayfield   \n\n                                          headshot_href    team  opp_id   \n8559  https://a.espncdn.com/i/headshots/nfl/players/...  Eagles      30  \\\n8531  https://a.espncdn.com/i/headshots/nfl/players/...    Rams      18   \n\n      opp_abb              opp_team  opp_name  week_num qualified  \n8559      JAX  Jacksonville Jaguars   Jaguars         4      True  \n8531       NO    New Orleans Saints    Saints         3      True  \n\n[2 rows x 30 columns]",
      "text/html": "<div>\n<style scoped>\n    .dataframe tbody tr th:only-of-type {\n        vertical-align: middle;\n    }\n\n    .dataframe tbody tr th {\n        vertical-align: top;\n    }\n\n    .dataframe thead th {\n        text-align: right;\n    }\n</style>\n<table border=\"1\" class=\"dataframe\">\n  <thead>\n    <tr style=\"text-align: right;\">\n      <th></th>\n      <th>season</th>\n      <th>season_type</th>\n      <th>game_id</th>\n      <th>game_week</th>\n      <th>week_text</th>\n      <th>team_abb</th>\n      <th>player_id</th>\n      <th>name_short</th>\n      <th>rank</th>\n      <th>qbr_total</th>\n      <th>...</th>\n      <th>name_last</th>\n      <th>name_display</th>\n      <th>headshot_href</th>\n      <th>team</th>\n      <th>opp_id</th>\n      <th>opp_abb</th>\n      <th>opp_team</th>\n      <th>opp_name</th>\n      <th>week_num</th>\n      <th>qualified</th>\n    </tr>\n  </thead>\n  <tbody>\n    <tr>\n      <th>8559</th>\n      <td>2022</td>\n      <td>Regular</td>\n      <td>401437756</td>\n      <td>4</td>\n      <td>Week 4</td>\n      <td>PHI</td>\n      <td>4040715</td>\n      <td>J. Hurts</td>\n      <td>28.0</td>\n      <td>17.8</td>\n      <td>...</td>\n      <td>Hurts</td>\n      <td>Jalen Hurts</td>\n      <td>https://a.espncdn.com/i/headshots/nfl/players/...</td>\n      <td>Eagles</td>\n      <td>30</td>\n      <td>JAX</td>\n      <td>Jacksonville Jaguars</td>\n      <td>Jaguars</td>\n      <td>4</td>\n      <td>True</td>\n    </tr>\n    <tr>\n      <th>8531</th>\n      <td>2022</td>\n      <td>Regular</td>\n      <td>401437736</td>\n      <td>3</td>\n      <td>Week 3</td>\n      <td>LAR</td>\n      <td>3052587</td>\n      <td>B. Mayfield</td>\n      <td>32.0</td>\n      <td>11.5</td>\n      <td>...</td>\n      <td>Mayfield</td>\n      <td>Baker Mayfield</td>\n      <td>https://a.espncdn.com/i/headshots/nfl/players/...</td>\n      <td>Rams</td>\n      <td>18</td>\n      <td>NO</td>\n      <td>New Orleans Saints</td>\n      <td>Saints</td>\n      <td>3</td>\n      <td>True</td>\n    </tr>\n  </tbody>\n</table>\n<p>2 rows × 30 columns</p>\n</div>"
     },
     "execution_count": 141,
     "metadata": {},
     "output_type": "execute_result"
    }
   ],
   "source": [
    "qbr_df.sample(2)"
   ]
  },
  {
   "cell_type": "code",
   "execution_count": 142,
   "id": "47fe0094",
   "metadata": {
    "pycharm": {
     "name": "#%%\n"
    },
    "ExecuteTime": {
     "end_time": "2023-10-11T14:59:40.446457Z",
     "start_time": "2023-10-11T14:59:39.118244Z"
    }
   },
   "outputs": [
    {
     "data": {
      "text/plain": "(716, 21)"
     },
     "execution_count": 142,
     "metadata": {},
     "output_type": "execute_result"
    }
   ],
   "source": [
    "# Rename columns\n",
    "qbr_df = qbr_df.rename(columns={'team_abb':'posteam', 'opp_abb':'defteam'})\n",
    "\n",
    "# Drop column\n",
    "qbr_df.drop(['game_id'], axis=1, inplace=True)\n",
    "\n",
    "# Rename columns\n",
    "qbr_df = qbr_df.rename(columns={'qb_plays': 'plays'})\n",
    "\n",
    "# Create sequential week column\n",
    "qbr_df['week'] = np.where((qbr_df['season'] < 2021) & (qbr_df['season_type'] == 'Playoffs'), (17 + qbr_df['game_week']),\n",
    "                 np.where((qbr_df['season'] >= 2021) & (qbr_df['season_type'] == 'Playoffs'), (18 + qbr_df['game_week']),\n",
    "                 qbr_df['game_week']))\n",
    "\n",
    "# Modify team codes to match schedule\n",
    "qbr_df['posteam'] = np.where(qbr_df['posteam'] == 'OAK', 'LV', qbr_df['posteam'])\n",
    "qbr_df['defteam'] = np.where(qbr_df['defteam'] == 'OAK', 'LV', qbr_df['defteam'])\n",
    "qbr_df['posteam'] = np.where(qbr_df['posteam'] == 'LAR', 'LA', qbr_df['posteam'])\n",
    "qbr_df['defteam'] = np.where(qbr_df['defteam'] == 'LAR', 'LA', qbr_df['defteam'])\n",
    "qbr_df['posteam'] = np.where(qbr_df['posteam'] == 'WSH', 'WAS', qbr_df['posteam'])\n",
    "qbr_df['defteam'] = np.where(qbr_df['defteam'] == 'WSH', 'WAS', qbr_df['defteam'])\n",
    "\n",
    "# Impute incorrect values\n",
    "qbr_df['week'] = np.where((qbr_df['season'] == 2018) & (qbr_df['posteam'] == 'LV') & (qbr_df['defteam'] == 'BAL') & (qbr_df['week'] == 1), 12, qbr_df['week'])\n",
    "qbr_df['week'] = np.where((qbr_df['season'] == 2018) & (qbr_df['posteam'] == 'BAL') & (qbr_df['defteam'] == 'LV') & (qbr_df['week'] == 1), 12, qbr_df['week'])\n",
    "qbr_df['defteam'] = np.where((qbr_df['season'] == 2018) & (qbr_df['posteam'] == 'LV') & (qbr_df['defteam'] == 'CHI') & (qbr_df['week'] == 9), 'SF', qbr_df['defteam'])\n",
    "qbr_df['defteam'] = np.where((qbr_df['season'] == 2018) & (qbr_df['posteam'] == 'CHI') & (qbr_df['defteam'] == 'LV') & (qbr_df['week'] == 9), 'SF', qbr_df['defteam'])\n",
    "\n",
    "# Create both combinations of game_id\n",
    "qbr_df['game_id_1'] = qbr_df['season'].astype(str) + '_' + qbr_df['week'].astype(str).str.zfill(2) + '_' + qbr_df['posteam'] + '_' + qbr_df['defteam']\n",
    "qbr_df['game_id_2'] = qbr_df['season'].astype(str) + '_' + qbr_df['week'].astype(str).str.zfill(2) + '_' + qbr_df['defteam'] + '_' + qbr_df['posteam']\n",
    "\n",
    "# Reduce dataframe dimensions\n",
    "qbr_df = qbr_df[['game_id_1','game_id_2','season','week','posteam','rank','pts_added','plays','qbr_raw','qbr_total','exp_sack','sack','pass','run']]\n",
    "\n",
    "# Merge with schedule dataframe to get game_id\n",
    "qbr_df = pd.merge(qbr_df, game_df, how='left', left_on=['game_id_1'], right_on = ['game_id'])\n",
    "qbr_df = qbr_df.rename(columns={'game_id':'game_id1',\n",
    "                                'game_alt_id':'game_alt_id1',\n",
    "                                'gameday':'gameday1',\n",
    "                                'weekday':'weekday1',\n",
    "                                'gametime':'gametime1',\n",
    "                                'under_odds':'under_odds1',\n",
    "                                'over_odds':'over_odds1',\n",
    "                                'away_rest':'away_rest1',\n",
    "                                'home_rest':'home_rest1',\n",
    "                                })\n",
    "\n",
    "qbr_df = pd.merge(qbr_df, game_df, how='left', left_on=['game_id_2'], right_on = ['game_id'])\n",
    "qbr_df = qbr_df.rename(columns={'game_id':'game_id2',\n",
    "                                'game_alt_id':'game_alt_id2',\n",
    "                                'gameday':'gameday2',\n",
    "                                'weekday':'weekday2',\n",
    "                                'gametime':'gametime2',\n",
    "                                'under_odds':'under_odds2',\n",
    "                                'over_odds':'over_odds2',\n",
    "                                'away_rest':'away_rest2',\n",
    "                                'home_rest':'home_rest2',\n",
    "                                })\n",
    "\n",
    "# Combine columns\n",
    "qbr_df['game_id'] = np.where(qbr_df['game_id1'].isnull(), qbr_df['game_id2'], qbr_df['game_id1'])\n",
    "qbr_df['game_alt_id'] = np.where(qbr_df['game_alt_id1'].isnull(), qbr_df['game_alt_id2'], qbr_df['game_alt_id1'])\n",
    "qbr_df['gameday'] = np.where(qbr_df['gameday1'].isnull(), qbr_df['gameday2'], qbr_df['gameday1'])\n",
    "qbr_df['weekday'] = np.where(qbr_df['weekday1'].isnull(), qbr_df['weekday2'], qbr_df['weekday1'])\n",
    "\n",
    "qbr_df['gametime'] = np.where(qbr_df['gametime1'].isnull(), qbr_df['gametime2'], qbr_df['gametime1'])\n",
    "qbr_df['under_odds'] = np.where(qbr_df['under_odds1'].isnull(), qbr_df['under_odds2'], qbr_df['under_odds1'])\n",
    "qbr_df['over_odds'] = np.where(qbr_df['over_odds1'].isnull(), qbr_df['over_odds2'], qbr_df['over_odds1'])\n",
    "qbr_df['away_rest'] = np.where(qbr_df['away_rest1'].isnull(), qbr_df['away_rest2'], qbr_df['away_rest1'])\n",
    "qbr_df['home_rest'] = np.where(qbr_df['home_rest1'].isnull(), qbr_df['home_rest2'], qbr_df['home_rest1'])\n",
    "\n",
    "qbr_df['game_id'].fillna('NULL', inplace = True)\n",
    "\n",
    "qbr_df.drop(['game_id_1','game_id_2','game_id1','game_id2','game_alt_id1','game_alt_id2','gameday1','gameday2','weekday1','weekday2','gametime1','gametime2','under_odds1','under_odds2','over_odds1','over_odds2','away_rest1','away_rest2','home_rest1','home_rest2'], axis=1, inplace=True)\n",
    "\n",
    "qbr_df.shape"
   ]
  },
  {
   "cell_type": "code",
   "execution_count": 143,
   "id": "54ea3a71",
   "metadata": {
    "pycharm": {
     "name": "#%%\n"
    },
    "ExecuteTime": {
     "end_time": "2023-10-11T14:59:40.446726Z",
     "start_time": "2023-10-11T14:59:39.174611Z"
    }
   },
   "outputs": [
    {
     "data": {
      "text/plain": "(706, 21)"
     },
     "execution_count": 143,
     "metadata": {},
     "output_type": "execute_result"
    }
   ],
   "source": [
    "# Sort dataframe and drop quarterback with fewer passes during week\n",
    "qbr_df = qbr_df.sort_values(by=['season','posteam','week','plays'], ascending=True)\n",
    "\n",
    "qbr_df = qbr_df.drop_duplicates(['season','posteam','week'], keep='last')\n",
    "\n",
    "qbr_df.shape"
   ]
  },
  {
   "cell_type": "code",
   "execution_count": 144,
   "id": "daf990b3",
   "metadata": {
    "pycharm": {
     "name": "#%%\n"
    },
    "ExecuteTime": {
     "end_time": "2023-10-11T14:59:40.446833Z",
     "start_time": "2023-10-11T14:59:39.197265Z"
    }
   },
   "outputs": [],
   "source": [
    "# Create rolling average of quarterback statistics\n",
    "qbr_df['qb_rank'] = qbr_df.groupby(['season',\n",
    "                                    'posteam'])['rank'].transform(lambda x: x.rolling(window=3,\n",
    "                                                                                      min_periods=1,\n",
    "                                                                                      closed='left',\n",
    "                                                                                      center=False).mean())\n",
    "\n",
    "qbr_df['qb_pts'] = qbr_df.groupby(['season',\n",
    "                                    'posteam'])['pts_added'].transform(lambda x: x.rolling(window=3,\n",
    "                                                                                      min_periods=1,\n",
    "                                                                                      closed='left',\n",
    "                                                                                      center=False).mean())\n",
    "\n",
    "qbr_df['qb_plays'] = qbr_df.groupby(['season',\n",
    "                                    'posteam'])['plays'].transform(lambda x: x.rolling(window=3,\n",
    "                                                                                      min_periods=1,\n",
    "                                                                                      closed='left',\n",
    "                                                                                      center=False).mean())\n",
    "qbr_df['qb_qbr_raw'] = qbr_df.groupby(['season',\n",
    "                                    'posteam'])['qbr_raw'].transform(lambda x: x.rolling(window=3,\n",
    "                                                                                      min_periods=1,\n",
    "                                                                                      closed='left',\n",
    "                                                                                      center=False).mean())\n",
    "qbr_df['qb_qbr'] = qbr_df.groupby(['season',\n",
    "                                    'posteam'])['qbr_total'].transform(lambda x: x.rolling(window=3,\n",
    "                                                                                      min_periods=1,\n",
    "                                                                                      closed='left',\n",
    "                                                                                      center=False).mean())\n",
    "# qbr_df['qb_sack'] = qbr_df.groupby(['season',\n",
    "#                                     'posteam'])['sack'].transform(lambda x: x.rolling(window=3,\n",
    "#                                                                                       min_periods=1,\n",
    "#                                                                                       closed='left',\n",
    "#                                                                                       center=False).mean())\n",
    "# qbr_df['qb_exp_sack'] = qbr_df.groupby(['season',\n",
    "#                                     'posteam'])['exp_sack'].transform(lambda x: x.rolling(window=3,\n",
    "#                                                                                       min_periods=1,\n",
    "#                                                                                       closed='left',\n",
    "#                                                                                       center=False).mean())\n",
    "qbr_df['qb_pass'] = qbr_df.groupby(['season',\n",
    "                                    'posteam'])['pass'].transform(lambda x: x.rolling(window=3,\n",
    "                                                                                      min_periods=1,\n",
    "                                                                                      closed='left',\n",
    "                                                                                      center=False).mean())\n",
    "qbr_df['qb_run'] = qbr_df.groupby(['season',\n",
    "                                    'posteam'])['run'].transform(lambda x: x.rolling(window=3,\n",
    "                                                                                      min_periods=1,\n",
    "                                                                                      closed='left',\n",
    "                                                                                      center=False).mean())\n",
    "\n",
    "qbr_df.drop(['rank','pts_added','plays','qbr_raw','qbr_total','exp_sack','sack','pass','run'],  axis=1, inplace=True)"
   ]
  },
  {
   "cell_type": "code",
   "execution_count": 145,
   "id": "085bae1d",
   "metadata": {
    "pycharm": {
     "name": "#%%\n"
    },
    "ExecuteTime": {
     "end_time": "2023-10-11T14:59:40.447133Z",
     "start_time": "2023-10-11T14:59:39.384324Z"
    }
   },
   "outputs": [
    {
     "data": {
      "text/plain": "(706, 16)"
     },
     "execution_count": 145,
     "metadata": {},
     "output_type": "execute_result"
    }
   ],
   "source": [
    "# Impute missing data with median values\n",
    "qbr_df['qb_rank'] = qbr_df['qb_rank'].fillna(qbr_df.qb_rank.median())\n",
    "qbr_df['qb_pts'] = qbr_df['qb_pts'].fillna(qbr_df.qb_pts.median())\n",
    "qbr_df['qb_plays'] = qbr_df['qb_plays'].fillna(qbr_df.qb_plays.median())\n",
    "qbr_df['qb_qbr_raw'] = qbr_df['qb_qbr_raw'].fillna(qbr_df.qb_qbr_raw.median())\n",
    "qbr_df['qb_qbr'] = qbr_df['qb_qbr'].fillna(qbr_df.qb_qbr.median())\n",
    "# qbr_df['qb_sack'] = qbr_df['qb_sack'].fillna(qbr_df.qb_sack.median())\n",
    "# qbr_df['qb_exp_sack'] = qbr_df['qb_exp_sack'].fillna(qbr_df.qb_exp_sack.median())\n",
    "qbr_df['qb_pass'] = qbr_df['qb_pass'].fillna(qbr_df.qb_pass.median())\n",
    "qbr_df['qb_run'] = qbr_df['qb_run'].fillna(qbr_df.qb_run.median())\n",
    "\n",
    "# Drop unused columns\n",
    "qbr_df.drop(['game_id','season','week'], axis=1, inplace=True)\n",
    "\n",
    "qbr_df.shape"
   ]
  },
  {
   "cell_type": "code",
   "execution_count": 146,
   "id": "f45aa49c",
   "metadata": {
    "pycharm": {
     "name": "#%%\n"
    },
    "ExecuteTime": {
     "end_time": "2023-10-11T14:59:40.447342Z",
     "start_time": "2023-10-11T14:59:39.403276Z"
    }
   },
   "outputs": [
    {
     "name": "stdout",
     "output_type": "stream",
     "text": [
      "team count: 32\n"
     ]
    }
   ],
   "source": [
    "print('team count:', qbr_df.posteam.nunique())"
   ]
  },
  {
   "cell_type": "code",
   "execution_count": 147,
   "id": "0cf35ea9",
   "metadata": {
    "pycharm": {
     "name": "#%%\n"
    },
    "ExecuteTime": {
     "end_time": "2023-10-11T14:59:40.447846Z",
     "start_time": "2023-10-11T14:59:39.408225Z"
    }
   },
   "outputs": [
    {
     "data": {
      "text/plain": "   posteam        game_alt_id     gameday weekday gametime  under_odds   \n14     ARI  ARI_KC_2022_09_11  2022-09-11  Sunday    16:25      -110.0  \\\n41     ARI  LV_ARI_2022_09_18  2022-09-18  Sunday    16:25      -105.0   \n\n    over_odds  away_rest  home_rest  qb_rank    qb_pts   qb_plays  qb_qbr_raw   \n14     -102.0        7.0        7.0     16.0  0.258333  41.333333        53.0  \\\n41     -107.0        7.0        7.0     15.0  1.400000  42.000000        61.4   \n\n       qb_qbr   qb_pass    qb_run  \n14  52.683333  2.966667  0.358333  \n41  53.100000  1.600000  1.900000  ",
      "text/html": "<div>\n<style scoped>\n    .dataframe tbody tr th:only-of-type {\n        vertical-align: middle;\n    }\n\n    .dataframe tbody tr th {\n        vertical-align: top;\n    }\n\n    .dataframe thead th {\n        text-align: right;\n    }\n</style>\n<table border=\"1\" class=\"dataframe\">\n  <thead>\n    <tr style=\"text-align: right;\">\n      <th></th>\n      <th>posteam</th>\n      <th>game_alt_id</th>\n      <th>gameday</th>\n      <th>weekday</th>\n      <th>gametime</th>\n      <th>under_odds</th>\n      <th>over_odds</th>\n      <th>away_rest</th>\n      <th>home_rest</th>\n      <th>qb_rank</th>\n      <th>qb_pts</th>\n      <th>qb_plays</th>\n      <th>qb_qbr_raw</th>\n      <th>qb_qbr</th>\n      <th>qb_pass</th>\n      <th>qb_run</th>\n    </tr>\n  </thead>\n  <tbody>\n    <tr>\n      <th>14</th>\n      <td>ARI</td>\n      <td>ARI_KC_2022_09_11</td>\n      <td>2022-09-11</td>\n      <td>Sunday</td>\n      <td>16:25</td>\n      <td>-110.0</td>\n      <td>-102.0</td>\n      <td>7.0</td>\n      <td>7.0</td>\n      <td>16.0</td>\n      <td>0.258333</td>\n      <td>41.333333</td>\n      <td>53.0</td>\n      <td>52.683333</td>\n      <td>2.966667</td>\n      <td>0.358333</td>\n    </tr>\n    <tr>\n      <th>41</th>\n      <td>ARI</td>\n      <td>LV_ARI_2022_09_18</td>\n      <td>2022-09-18</td>\n      <td>Sunday</td>\n      <td>16:25</td>\n      <td>-105.0</td>\n      <td>-107.0</td>\n      <td>7.0</td>\n      <td>7.0</td>\n      <td>15.0</td>\n      <td>1.400000</td>\n      <td>42.000000</td>\n      <td>61.4</td>\n      <td>53.100000</td>\n      <td>1.600000</td>\n      <td>1.900000</td>\n    </tr>\n  </tbody>\n</table>\n</div>"
     },
     "execution_count": 147,
     "metadata": {},
     "output_type": "execute_result"
    }
   ],
   "source": [
    "qbr_df.head(2)"
   ]
  },
  {
   "cell_type": "markdown",
   "id": "de726bb7",
   "metadata": {
    "pycharm": {
     "name": "#%% md\n"
    }
   },
   "source": [
    "#### Import game rosters"
   ]
  },
  {
   "cell_type": "code",
   "execution_count": 148,
   "id": "e31049ae",
   "metadata": {
    "pycharm": {
     "name": "#%%\n"
    },
    "ExecuteTime": {
     "end_time": "2023-10-11T14:59:43.083320Z",
     "start_time": "2023-10-11T14:59:39.432633Z"
    }
   },
   "outputs": [
    {
     "data": {
      "text/plain": "(6149, 36)"
     },
     "execution_count": 148,
     "metadata": {},
     "output_type": "execute_result"
    }
   ],
   "source": [
    "gr_data = nfl.import_rosters(years=seasons)\n",
    "\n",
    "# Clean dataframe using nfl-data-api cleaning function\n",
    "gr_df = nfl.clean_nfl_data(gr_data)\n",
    "\n",
    "gr_df.shape"
   ]
  },
  {
   "cell_type": "code",
   "execution_count": 149,
   "id": "62e38692",
   "metadata": {
    "pycharm": {
     "name": "#%%\n"
    },
    "ExecuteTime": {
     "end_time": "2023-10-11T14:59:43.083575Z",
     "start_time": "2023-10-11T14:59:42.557893Z"
    }
   },
   "outputs": [
    {
     "name": "stdout",
     "output_type": "stream",
     "text": [
      "team count: 32\n"
     ]
    }
   ],
   "source": [
    "print('team count:', gr_df.team.nunique())"
   ]
  },
  {
   "cell_type": "code",
   "execution_count": 150,
   "id": "17b8cf7d",
   "metadata": {
    "pycharm": {
     "name": "#%%\n"
    },
    "ExecuteTime": {
     "end_time": "2023-10-11T14:59:43.211044Z",
     "start_time": "2023-10-11T14:59:42.562504Z"
    }
   },
   "outputs": [
    {
     "data": {
      "text/plain": "      season team position depth_chart_position  jersey_number status   \n1542    2023  BAL       TE                   TE           38.0    CUT  \\\n\n     player_name first_name last_name birth_date  ...  game_type   \n1542   Ben Mason        Ben     Mason 1999-05-25  ...        REG  \\\n\n      status_description_abbr football_name     esb_id gsis_it_id   \n1542                      P01           Ben  MAS064506      53613  \\\n\n                                  smart_id entry_year rookie_year draft_club   \n1542  32004d41-5306-4506-17b5-c673fc78719b       2021      2021.0        BAL  \\\n\n     draft_number  \n1542        184.0  \n\n[1 rows x 36 columns]",
      "text/html": "<div>\n<style scoped>\n    .dataframe tbody tr th:only-of-type {\n        vertical-align: middle;\n    }\n\n    .dataframe tbody tr th {\n        vertical-align: top;\n    }\n\n    .dataframe thead th {\n        text-align: right;\n    }\n</style>\n<table border=\"1\" class=\"dataframe\">\n  <thead>\n    <tr style=\"text-align: right;\">\n      <th></th>\n      <th>season</th>\n      <th>team</th>\n      <th>position</th>\n      <th>depth_chart_position</th>\n      <th>jersey_number</th>\n      <th>status</th>\n      <th>player_name</th>\n      <th>first_name</th>\n      <th>last_name</th>\n      <th>birth_date</th>\n      <th>...</th>\n      <th>game_type</th>\n      <th>status_description_abbr</th>\n      <th>football_name</th>\n      <th>esb_id</th>\n      <th>gsis_it_id</th>\n      <th>smart_id</th>\n      <th>entry_year</th>\n      <th>rookie_year</th>\n      <th>draft_club</th>\n      <th>draft_number</th>\n    </tr>\n  </thead>\n  <tbody>\n    <tr>\n      <th>1542</th>\n      <td>2023</td>\n      <td>BAL</td>\n      <td>TE</td>\n      <td>TE</td>\n      <td>38.0</td>\n      <td>CUT</td>\n      <td>Ben Mason</td>\n      <td>Ben</td>\n      <td>Mason</td>\n      <td>1999-05-25</td>\n      <td>...</td>\n      <td>REG</td>\n      <td>P01</td>\n      <td>Ben</td>\n      <td>MAS064506</td>\n      <td>53613</td>\n      <td>32004d41-5306-4506-17b5-c673fc78719b</td>\n      <td>2021</td>\n      <td>2021.0</td>\n      <td>BAL</td>\n      <td>184.0</td>\n    </tr>\n  </tbody>\n</table>\n<p>1 rows × 36 columns</p>\n</div>"
     },
     "execution_count": 150,
     "metadata": {},
     "output_type": "execute_result"
    }
   ],
   "source": [
    "# Impute missing height with median by position\n",
    "gr_df['height'] = gr_df.groupby(['position'])['height'].transform(lambda x: x.fillna(x.median()))\n",
    "gr_df['weight'] = gr_df.groupby(['position'])['weight'].transform(lambda x: x.fillna(x.median()))\n",
    "\n",
    "gr_df['weight'] = gr_df['weight'].astype(np.int64)\n",
    "\n",
    "gr_df.sample(1)"
   ]
  },
  {
   "cell_type": "markdown",
   "id": "0573d5d5",
   "metadata": {
    "pycharm": {
     "name": "#%% md\n"
    }
   },
   "source": [
    "#### import depth charts"
   ]
  },
  {
   "cell_type": "raw",
   "source": [
    "dc_data = nfl.import_depth_charts(years=seasons)\n",
    "\n",
    "# Clean dataframe using nfl-data-api cleaning function\n",
    "dc_df = nfl.clean_nfl_data(dc_data)\n",
    "\n",
    "# season + week + away team + home team\n",
    "dc_df['season_week_team'] = dc_df['season'].astype(np.int64).astype(str) + '_' + dc_df['week'].astype(np.int64).astype(str).str.zfill(2) + '_' + dc_df.club_code.astype(str)\n",
    "\n",
    "dc_df.shape"
   ],
   "metadata": {
    "collapsed": false
   },
   "id": "b6a047cbf3a51f1"
  },
  {
   "cell_type": "raw",
   "source": [
    "print('team count:', dc_df.club_code.nunique())"
   ],
   "metadata": {
    "collapsed": false
   },
   "id": "aa2bdc0182473da4"
  },
  {
   "cell_type": "raw",
   "source": [
    "dc_df.sample(1)"
   ],
   "metadata": {
    "collapsed": false
   },
   "id": "bc53cd3511312f42"
  },
  {
   "cell_type": "markdown",
   "id": "63788128",
   "metadata": {
    "pycharm": {
     "name": "#%% md\n"
    }
   },
   "source": [
    "#### Import snap counts"
   ]
  },
  {
   "cell_type": "code",
   "execution_count": 151,
   "id": "3fcedae1",
   "metadata": {
    "pycharm": {
     "name": "#%%\n"
    },
    "ExecuteTime": {
     "end_time": "2023-10-11T14:59:44.476533Z",
     "start_time": "2023-10-11T14:59:42.607658Z"
    }
   },
   "outputs": [
    {
     "data": {
      "text/plain": "(33585, 16)"
     },
     "execution_count": 151,
     "metadata": {},
     "output_type": "execute_result"
    }
   ],
   "source": [
    "sc_data = nfl.import_snap_counts(years=seasons)\n",
    "\n",
    "# Clean dataframe using nfl-data-api cleaning function\n",
    "sc_df = nfl.clean_nfl_data(sc_data)\n",
    "\n",
    "sc_df.shape"
   ]
  },
  {
   "cell_type": "code",
   "execution_count": 152,
   "id": "ce93d9d6",
   "metadata": {
    "pycharm": {
     "name": "#%%\n"
    },
    "ExecuteTime": {
     "end_time": "2023-10-11T14:59:44.539413Z",
     "start_time": "2023-10-11T14:59:44.471278Z"
    }
   },
   "outputs": [
    {
     "name": "stdout",
     "output_type": "stream",
     "text": [
      "team count: 32\n"
     ]
    }
   ],
   "source": [
    "print('team count:', sc_df.team.nunique())"
   ]
  },
  {
   "cell_type": "code",
   "execution_count": 153,
   "id": "0a2453c9",
   "metadata": {
    "pycharm": {
     "name": "#%%\n"
    },
    "ExecuteTime": {
     "end_time": "2023-10-11T14:59:44.701973Z",
     "start_time": "2023-10-11T14:59:44.480485Z"
    }
   },
   "outputs": [
    {
     "data": {
      "text/plain": "              game_id   pfr_game_id  season game_type  week          player   \n21089  2022_16_DEN_LA  202212250ram    2022       REG    16  Russell Wilson  \\\n24992  2022_18_TB_ATL  202301080atl    2022       REG    18  Brandon Walton   \n\n      pfr_player_id position team opponent  offense_snaps  offense_pct   \n21089      WilsRu00       QB  DEN       LA           50.0         0.75  \\\n24992      WaltBr01        G   TB      ATL           55.0         1.00   \n\n       defense_snaps  defense_pct  st_snaps  st_pct  \n21089            0.0          0.0       0.0    0.00  \n24992            0.0          0.0       3.0    0.11  ",
      "text/html": "<div>\n<style scoped>\n    .dataframe tbody tr th:only-of-type {\n        vertical-align: middle;\n    }\n\n    .dataframe tbody tr th {\n        vertical-align: top;\n    }\n\n    .dataframe thead th {\n        text-align: right;\n    }\n</style>\n<table border=\"1\" class=\"dataframe\">\n  <thead>\n    <tr style=\"text-align: right;\">\n      <th></th>\n      <th>game_id</th>\n      <th>pfr_game_id</th>\n      <th>season</th>\n      <th>game_type</th>\n      <th>week</th>\n      <th>player</th>\n      <th>pfr_player_id</th>\n      <th>position</th>\n      <th>team</th>\n      <th>opponent</th>\n      <th>offense_snaps</th>\n      <th>offense_pct</th>\n      <th>defense_snaps</th>\n      <th>defense_pct</th>\n      <th>st_snaps</th>\n      <th>st_pct</th>\n    </tr>\n  </thead>\n  <tbody>\n    <tr>\n      <th>21089</th>\n      <td>2022_16_DEN_LA</td>\n      <td>202212250ram</td>\n      <td>2022</td>\n      <td>REG</td>\n      <td>16</td>\n      <td>Russell Wilson</td>\n      <td>WilsRu00</td>\n      <td>QB</td>\n      <td>DEN</td>\n      <td>LA</td>\n      <td>50.0</td>\n      <td>0.75</td>\n      <td>0.0</td>\n      <td>0.0</td>\n      <td>0.0</td>\n      <td>0.00</td>\n    </tr>\n    <tr>\n      <th>24992</th>\n      <td>2022_18_TB_ATL</td>\n      <td>202301080atl</td>\n      <td>2022</td>\n      <td>REG</td>\n      <td>18</td>\n      <td>Brandon Walton</td>\n      <td>WaltBr01</td>\n      <td>G</td>\n      <td>TB</td>\n      <td>ATL</td>\n      <td>55.0</td>\n      <td>1.00</td>\n      <td>0.0</td>\n      <td>0.0</td>\n      <td>3.0</td>\n      <td>0.11</td>\n    </tr>\n  </tbody>\n</table>\n</div>"
     },
     "execution_count": 153,
     "metadata": {},
     "output_type": "execute_result"
    }
   ],
   "source": [
    "sc_df.sample(2)"
   ]
  },
  {
   "cell_type": "markdown",
   "id": "d0cc139e",
   "metadata": {
    "pycharm": {
     "name": "#%% md\n"
    }
   },
   "source": [
    "#### Import combine data"
   ]
  },
  {
   "cell_type": "code",
   "execution_count": 154,
   "id": "199caa44",
   "metadata": {
    "pycharm": {
     "name": "#%%\n"
    },
    "ExecuteTime": {
     "end_time": "2023-10-11T14:59:45.569677Z",
     "start_time": "2023-10-11T14:59:44.505887Z"
    }
   },
   "outputs": [
    {
     "data": {
      "text/plain": "(7999, 18)"
     },
     "execution_count": 154,
     "metadata": {},
     "output_type": "execute_result"
    }
   ],
   "source": [
    "co_data = nfl.import_combine_data(years=draft_years)\n",
    "\n",
    "# Clean dataframe using nfl-data-api cleaning function\n",
    "co_df = nfl.clean_nfl_data(co_data)\n",
    "\n",
    "co_df.shape"
   ]
  },
  {
   "cell_type": "code",
   "execution_count": 155,
   "id": "8188f7e2",
   "metadata": {
    "pycharm": {
     "name": "#%%\n"
    },
    "ExecuteTime": {
     "end_time": "2023-10-11T14:59:45.702742Z",
     "start_time": "2023-10-11T14:59:45.567966Z"
    }
   },
   "outputs": [
    {
     "data": {
      "text/plain": "(6606, 13)"
     },
     "execution_count": 155,
     "metadata": {},
     "output_type": "execute_result"
    }
   ],
   "source": [
    "co_df['pfr_id'].fillna('NULL', inplace = True)\n",
    "co_df = co_df.loc[co_df['pfr_id'] != 'NULL']\n",
    "\n",
    "co_df = co_df.rename(columns={'pfr_id':'pfr_player_id',\n",
    "                              'season':'combine',\n",
    "                              'player_name':'comb_name',\n",
    "                              'school':'comb_school',\n",
    "                              'ht':'comb_ht',\n",
    "                              'wt':'comb_wt',\n",
    "                              'pos':'comb_pos',\n",
    "                              'forty':'comb_forty',\n",
    "                              'bench':'comb_bench',\n",
    "                              'vertical':'comb_vert',\n",
    "                              'broad_jump':'comb_broad',\n",
    "                              'cone':'comb_cone',\n",
    "                              'shuttle':'comb_shut',\n",
    "                              })\n",
    "\n",
    "co_df.drop(['draft_year','draft_team','draft_round','draft_ovr','cfb_id'], axis=1, inplace=True)\n",
    "\n",
    "co_df.shape"
   ]
  },
  {
   "cell_type": "code",
   "execution_count": 156,
   "id": "3f730caf",
   "metadata": {
    "pycharm": {
     "name": "#%%\n"
    },
    "ExecuteTime": {
     "end_time": "2023-10-11T14:59:45.750329Z",
     "start_time": "2023-10-11T14:59:45.578641Z"
    }
   },
   "outputs": [],
   "source": [
    "# Convert height to inches\n",
    "co_df['comb_ht'].fillna('NULL', inplace = True)\n",
    "co_df['comb_ht'] = np.where(co_df['comb_ht'] == 'NULL', '0-0', co_df['comb_ht'])\n",
    "co_df['comb_ht'] = (co_df['comb_ht'].astype(str).str[0]).astype(float) * 12 + (co_df['comb_ht'].astype(str).str[2]).astype(float)"
   ]
  },
  {
   "cell_type": "code",
   "execution_count": 157,
   "id": "8181c857",
   "metadata": {
    "pycharm": {
     "name": "#%%\n"
    },
    "ExecuteTime": {
     "end_time": "2023-10-11T14:59:45.750969Z",
     "start_time": "2023-10-11T14:59:45.611575Z"
    }
   },
   "outputs": [
    {
     "data": {
      "text/plain": "      combine pfr_player_id       comb_name comb_pos comb_school  comb_ht   \n2553     2007      StucCh20  Chansi Stuckey       WR     Clemson     61.0  \\\n\n      comb_wt  comb_forty  comb_bench  comb_vert  comb_broad  comb_cone   \n2553    197.0        4.56         NaN       35.0       120.0       6.91  \\\n\n      comb_shut  \n2553       4.14  ",
      "text/html": "<div>\n<style scoped>\n    .dataframe tbody tr th:only-of-type {\n        vertical-align: middle;\n    }\n\n    .dataframe tbody tr th {\n        vertical-align: top;\n    }\n\n    .dataframe thead th {\n        text-align: right;\n    }\n</style>\n<table border=\"1\" class=\"dataframe\">\n  <thead>\n    <tr style=\"text-align: right;\">\n      <th></th>\n      <th>combine</th>\n      <th>pfr_player_id</th>\n      <th>comb_name</th>\n      <th>comb_pos</th>\n      <th>comb_school</th>\n      <th>comb_ht</th>\n      <th>comb_wt</th>\n      <th>comb_forty</th>\n      <th>comb_bench</th>\n      <th>comb_vert</th>\n      <th>comb_broad</th>\n      <th>comb_cone</th>\n      <th>comb_shut</th>\n    </tr>\n  </thead>\n  <tbody>\n    <tr>\n      <th>2553</th>\n      <td>2007</td>\n      <td>StucCh20</td>\n      <td>Chansi Stuckey</td>\n      <td>WR</td>\n      <td>Clemson</td>\n      <td>61.0</td>\n      <td>197.0</td>\n      <td>4.56</td>\n      <td>NaN</td>\n      <td>35.0</td>\n      <td>120.0</td>\n      <td>6.91</td>\n      <td>4.14</td>\n    </tr>\n  </tbody>\n</table>\n</div>"
     },
     "execution_count": 157,
     "metadata": {},
     "output_type": "execute_result"
    }
   ],
   "source": [
    "co_df.sample(1)"
   ]
  },
  {
   "cell_type": "markdown",
   "id": "4c845090",
   "metadata": {
    "pycharm": {
     "name": "#%% md\n"
    }
   },
   "source": [
    "#### Import NFL draft selections"
   ]
  },
  {
   "cell_type": "code",
   "execution_count": 158,
   "id": "de2283b8",
   "metadata": {
    "pycharm": {
     "name": "#%%\n"
    },
    "ExecuteTime": {
     "end_time": "2023-10-11T14:59:46.708980Z",
     "start_time": "2023-10-11T14:59:45.620774Z"
    }
   },
   "outputs": [
    {
     "data": {
      "text/plain": "(6130, 36)"
     },
     "execution_count": 158,
     "metadata": {},
     "output_type": "execute_result"
    }
   ],
   "source": [
    "dr_data = nfl.import_draft_picks(years=draft_years)\n",
    "\n",
    "# Clean dataframe using nfl-data-api cleaning function\n",
    "dr_df = nfl.clean_nfl_data(dr_data)\n",
    "\n",
    "dr_df.shape"
   ]
  },
  {
   "cell_type": "code",
   "execution_count": 159,
   "id": "9dc60448",
   "metadata": {
    "pycharm": {
     "name": "#%%\n"
    },
    "ExecuteTime": {
     "end_time": "2023-10-11T14:59:46.773930Z",
     "start_time": "2023-10-11T14:59:46.715670Z"
    }
   },
   "outputs": [
    {
     "name": "stdout",
     "output_type": "stream",
     "text": [
      "team count: 32\n"
     ]
    }
   ],
   "source": [
    "dr_df['team'] = np.where(dr_df['team'] == 'GNB', 'GB', dr_df['team'])\n",
    "dr_df['team'] = np.where(dr_df['team'] == 'KAN', 'KC', dr_df['team'])\n",
    "\n",
    "dr_df['team'] = np.where(dr_df['team'] == 'RAM', 'LA', dr_df['team'])\n",
    "dr_df['team'] = np.where(dr_df['team'] == 'STL', 'LA', dr_df['team'])\n",
    "\n",
    "dr_df['team'] = np.where(dr_df['team'] == 'SDG', 'LAC', dr_df['team'])\n",
    "\n",
    "dr_df['team'] = np.where(dr_df['team'] == 'RAI', 'LV', dr_df['team'])\n",
    "dr_df['team'] = np.where(dr_df['team'] == 'OAK', 'LV', dr_df['team'])\n",
    "dr_df['team'] = np.where(dr_df['team'] == 'LVR', 'LV', dr_df['team'])\n",
    "dr_df['team'] = np.where(dr_df['team'] == 'LAR', 'LV', dr_df['team'])\n",
    "\n",
    "dr_df['team'] = np.where(dr_df['team'] == 'NWE', 'NE', dr_df['team'])\n",
    "dr_df['team'] = np.where(dr_df['team'] == 'NOR', 'NO', dr_df['team'])\n",
    "\n",
    "dr_df['team'] = np.where(dr_df['team'] == 'SFO', 'SF', dr_df['team'])\n",
    "dr_df['team'] = np.where(dr_df['team'] == 'TAM', 'TB', dr_df['team'])\n",
    "\n",
    "print('team count:', dr_df.team.nunique())"
   ]
  },
  {
   "cell_type": "code",
   "execution_count": 160,
   "id": "1c1f849b",
   "metadata": {
    "pycharm": {
     "name": "#%%\n"
    },
    "ExecuteTime": {
     "end_time": "2023-10-11T14:59:46.774151Z",
     "start_time": "2023-10-11T14:59:46.732486Z"
    }
   },
   "outputs": [],
   "source": [
    "# Calculate years in the NFL\n",
    "dr_df['to'].fillna((dr_df['season']-1), inplace=True)\n",
    "\n",
    "dr_df['nfl_years'] = dr_df['to'] - dr_df['season'] + 1"
   ]
  },
  {
   "cell_type": "code",
   "execution_count": 161,
   "id": "4969379f",
   "metadata": {
    "pycharm": {
     "name": "#%%\n"
    },
    "ExecuteTime": {
     "end_time": "2023-10-11T14:59:46.774297Z",
     "start_time": "2023-10-11T14:59:46.740260Z"
    }
   },
   "outputs": [],
   "source": [
    "# Conver HOF to binary\n",
    "dr_df['hof'] = np.where(dr_df['hof'] == True, 1, 0)"
   ]
  },
  {
   "cell_type": "code",
   "execution_count": 162,
   "id": "bc8785b2",
   "metadata": {
    "pycharm": {
     "name": "#%%\n"
    },
    "ExecuteTime": {
     "end_time": "2023-10-11T14:59:46.933216Z",
     "start_time": "2023-10-11T14:59:46.750453Z"
    }
   },
   "outputs": [
    {
     "data": {
      "text/plain": "(5874, 17)"
     },
     "execution_count": 162,
     "metadata": {},
     "output_type": "execute_result"
    }
   ],
   "source": [
    "dr_df['pfr_player_id'].fillna('NULL', inplace = True)\n",
    "dr_df = dr_df.loc[dr_df['pfr_player_id'] != 'NULL']\n",
    "\n",
    "dr_df = dr_df.rename(columns={'season':'draft',\n",
    "                              'team':'draft_team',\n",
    "                              'pfr_player_name':'player_name',\n",
    "                              'probowls':'pro_bowls'})\n",
    "\n",
    "dr_df.drop(['cfb_player_id','gsis_id','w_av','car_av','dr_av','pass_attempts','pass_completions','pass_yards','pass_tds','pass_ints','rush_atts','rush_yards','rush_tds','receptions','rec_yards','rec_tds','def_solo_tackles','def_ints','def_sacks','to'], axis=1, inplace=True)\n",
    "\n",
    "dr_df.shape"
   ]
  },
  {
   "cell_type": "markdown",
   "id": "ac90fd5a",
   "metadata": {
    "pycharm": {
     "name": "#%% md\n"
    }
   },
   "source": [
    "## Join draft data with combine data"
   ]
  },
  {
   "cell_type": "code",
   "execution_count": 163,
   "id": "0fa5e61e",
   "metadata": {
    "pycharm": {
     "name": "#%%\n"
    },
    "ExecuteTime": {
     "end_time": "2023-10-11T14:59:47.146760Z",
     "start_time": "2023-10-11T14:59:46.770985Z"
    }
   },
   "outputs": [
    {
     "name": "stdout",
     "output_type": "stream",
     "text": [
      "combine records: 6606\n",
      "draft records: 5874\n"
     ]
    }
   ],
   "source": [
    "print('combine records:', co_df.shape[0])\n",
    "print('draft records:', dr_df.shape[0])"
   ]
  },
  {
   "cell_type": "code",
   "execution_count": 164,
   "id": "0a770d40",
   "metadata": {
    "pycharm": {
     "name": "#%%\n"
    },
    "ExecuteTime": {
     "end_time": "2023-10-11T14:59:47.151411Z",
     "start_time": "2023-10-11T14:59:46.778838Z"
    }
   },
   "outputs": [
    {
     "data": {
      "text/plain": "(4967, 29)"
     },
     "execution_count": 164,
     "metadata": {},
     "output_type": "execute_result"
    }
   ],
   "source": [
    "draft_df = pd.merge(dr_df, co_df, how='inner', left_on=['pfr_player_id'], right_on = ['pfr_player_id'])\n",
    "\n",
    "draft_df.shape"
   ]
  },
  {
   "cell_type": "code",
   "execution_count": 165,
   "id": "001fa09d",
   "metadata": {
    "pycharm": {
     "name": "#%%\n"
    },
    "ExecuteTime": {
     "end_time": "2023-10-11T14:59:47.151673Z",
     "start_time": "2023-10-11T14:59:46.804068Z"
    }
   },
   "outputs": [
    {
     "data": {
      "text/plain": "(4892, 29)"
     },
     "execution_count": 165,
     "metadata": {},
     "output_type": "execute_result"
    }
   ],
   "source": [
    "draft_df = draft_df.loc[(draft_df['category'] != 'P') & \n",
    "                        (draft_df['category'] != 'K') & \n",
    "                        (draft_df['category'] != 'LS')]\n",
    "\n",
    "draft_df.shape"
   ]
  },
  {
   "cell_type": "code",
   "execution_count": 166,
   "id": "3395b7f8",
   "metadata": {
    "pycharm": {
     "name": "#%%\n"
    },
    "ExecuteTime": {
     "end_time": "2023-10-11T14:59:47.151837Z",
     "start_time": "2023-10-11T14:59:46.818236Z"
    }
   },
   "outputs": [],
   "source": [
    "# Impute missing values\n",
    "draft_df['age'] = draft_df.age.fillna(draft_df.groupby('category').age.transform('median'))\n",
    "draft_df['comb_ht'] = draft_df.comb_ht.fillna(draft_df.groupby('category').comb_ht.transform('median'))\n",
    "draft_df['comb_wt'] = draft_df.comb_wt.fillna(draft_df.groupby('category').comb_wt.transform('median'))\n",
    "draft_df['comb_forty'] = draft_df.comb_forty.fillna(draft_df.groupby('category').comb_forty.transform('median'))\n",
    "draft_df['comb_bench'] = draft_df.comb_bench.fillna(draft_df.groupby('category').comb_bench.transform('median'))\n",
    "draft_df['comb_vert'] = draft_df.comb_vert.fillna(draft_df.groupby('category').comb_vert.transform('median'))\n",
    "draft_df['comb_broad'] = draft_df.comb_broad.fillna(draft_df.groupby('category').comb_broad.transform('median'))\n",
    "draft_df['comb_cone'] = draft_df.comb_cone.fillna(draft_df.groupby('category').comb_cone.transform('median'))\n",
    "draft_df['comb_shut'] = draft_df.comb_shut.fillna(draft_df.groupby('category').comb_shut.transform('median'))\n",
    "draft_df['games'].fillna(0, inplace = True)"
   ]
  },
  {
   "cell_type": "code",
   "execution_count": 167,
   "id": "7032dcf2",
   "metadata": {
    "pycharm": {
     "name": "#%%\n"
    },
    "ExecuteTime": {
     "end_time": "2023-10-11T14:59:47.190872Z",
     "start_time": "2023-10-11T14:59:46.843591Z"
    }
   },
   "outputs": [
    {
     "data": {
      "text/plain": "draft              0\nround              0\npick               0\ndraft_team         0\npfr_player_id      0\nplayer_name        0\nhof                0\nposition           0\ncategory           0\nside               0\ncollege            0\nage                0\nallpro             0\npro_bowls          0\nseasons_started    0\ngames              0\nnfl_years          0\ncombine            0\ncomb_name          0\ncomb_pos           0\ncomb_school        0\ncomb_ht            0\ncomb_wt            0\ncomb_forty         0\ncomb_bench         0\ncomb_vert          0\ncomb_broad         0\ncomb_cone          0\ncomb_shut          0\ndtype: int64"
     },
     "execution_count": 167,
     "metadata": {},
     "output_type": "execute_result"
    }
   ],
   "source": [
    "# Count missing data\n",
    "missing = draft_df.isnull().sum()\n",
    "missing"
   ]
  },
  {
   "cell_type": "code",
   "execution_count": 168,
   "id": "8a960ae6",
   "metadata": {
    "pycharm": {
     "name": "#%%\n"
    },
    "ExecuteTime": {
     "end_time": "2023-10-11T14:59:47.206609Z",
     "start_time": "2023-10-11T14:59:46.884617Z"
    }
   },
   "outputs": [
    {
     "data": {
      "text/plain": "      draft  round  pick draft_team pfr_player_id          player_name  hof   \n3426   2016      5   166        HOU      ReadD.00          D.J. Reader    0  \\\n1590   2008      2    47        PHI      LawsTr99          Trevor Laws    0   \n2015   2010      2    53         NE      CunnJe99  Jermaine Cunningham    0   \n3430   2016      5   172        CLE      HiggRa00      Rashard Higgins    0   \n1409   2007      2    60        MIA      SateSa20        Samson Satele    0   \n\n     position category side  ... comb_pos     comb_school  comb_ht  comb_wt   \n3426       NT       DL    D  ...       DT         Clemson     75.0    327.0  \\\n1590       DT       DL    D  ...       DT      Notre Dame     73.0    304.0   \n2015       LB       LB    D  ...       DE         Florida     75.0    266.0   \n3430       WR       WR    O  ...       WR  Colorado State     73.0    196.0   \n1409        C       OL    O  ...        C          Hawaii     75.0    300.0   \n\n      comb_forty  comb_bench  comb_vert  comb_broad comb_cone comb_shut  \n3426        5.33        30.0       29.5        99.0      7.90      4.71  \n1590        5.09        35.0       30.5       103.0      7.37      4.49  \n2015        4.89        23.0       34.5       119.0      7.10      4.28  \n3430        4.64        13.0       32.0       116.0      6.95      4.20  \n1409        5.24        25.0       33.0       101.0      7.47      4.29  \n\n[5 rows x 29 columns]",
      "text/html": "<div>\n<style scoped>\n    .dataframe tbody tr th:only-of-type {\n        vertical-align: middle;\n    }\n\n    .dataframe tbody tr th {\n        vertical-align: top;\n    }\n\n    .dataframe thead th {\n        text-align: right;\n    }\n</style>\n<table border=\"1\" class=\"dataframe\">\n  <thead>\n    <tr style=\"text-align: right;\">\n      <th></th>\n      <th>draft</th>\n      <th>round</th>\n      <th>pick</th>\n      <th>draft_team</th>\n      <th>pfr_player_id</th>\n      <th>player_name</th>\n      <th>hof</th>\n      <th>position</th>\n      <th>category</th>\n      <th>side</th>\n      <th>...</th>\n      <th>comb_pos</th>\n      <th>comb_school</th>\n      <th>comb_ht</th>\n      <th>comb_wt</th>\n      <th>comb_forty</th>\n      <th>comb_bench</th>\n      <th>comb_vert</th>\n      <th>comb_broad</th>\n      <th>comb_cone</th>\n      <th>comb_shut</th>\n    </tr>\n  </thead>\n  <tbody>\n    <tr>\n      <th>3426</th>\n      <td>2016</td>\n      <td>5</td>\n      <td>166</td>\n      <td>HOU</td>\n      <td>ReadD.00</td>\n      <td>D.J. Reader</td>\n      <td>0</td>\n      <td>NT</td>\n      <td>DL</td>\n      <td>D</td>\n      <td>...</td>\n      <td>DT</td>\n      <td>Clemson</td>\n      <td>75.0</td>\n      <td>327.0</td>\n      <td>5.33</td>\n      <td>30.0</td>\n      <td>29.5</td>\n      <td>99.0</td>\n      <td>7.90</td>\n      <td>4.71</td>\n    </tr>\n    <tr>\n      <th>1590</th>\n      <td>2008</td>\n      <td>2</td>\n      <td>47</td>\n      <td>PHI</td>\n      <td>LawsTr99</td>\n      <td>Trevor Laws</td>\n      <td>0</td>\n      <td>DT</td>\n      <td>DL</td>\n      <td>D</td>\n      <td>...</td>\n      <td>DT</td>\n      <td>Notre Dame</td>\n      <td>73.0</td>\n      <td>304.0</td>\n      <td>5.09</td>\n      <td>35.0</td>\n      <td>30.5</td>\n      <td>103.0</td>\n      <td>7.37</td>\n      <td>4.49</td>\n    </tr>\n    <tr>\n      <th>2015</th>\n      <td>2010</td>\n      <td>2</td>\n      <td>53</td>\n      <td>NE</td>\n      <td>CunnJe99</td>\n      <td>Jermaine Cunningham</td>\n      <td>0</td>\n      <td>LB</td>\n      <td>LB</td>\n      <td>D</td>\n      <td>...</td>\n      <td>DE</td>\n      <td>Florida</td>\n      <td>75.0</td>\n      <td>266.0</td>\n      <td>4.89</td>\n      <td>23.0</td>\n      <td>34.5</td>\n      <td>119.0</td>\n      <td>7.10</td>\n      <td>4.28</td>\n    </tr>\n    <tr>\n      <th>3430</th>\n      <td>2016</td>\n      <td>5</td>\n      <td>172</td>\n      <td>CLE</td>\n      <td>HiggRa00</td>\n      <td>Rashard Higgins</td>\n      <td>0</td>\n      <td>WR</td>\n      <td>WR</td>\n      <td>O</td>\n      <td>...</td>\n      <td>WR</td>\n      <td>Colorado State</td>\n      <td>73.0</td>\n      <td>196.0</td>\n      <td>4.64</td>\n      <td>13.0</td>\n      <td>32.0</td>\n      <td>116.0</td>\n      <td>6.95</td>\n      <td>4.20</td>\n    </tr>\n    <tr>\n      <th>1409</th>\n      <td>2007</td>\n      <td>2</td>\n      <td>60</td>\n      <td>MIA</td>\n      <td>SateSa20</td>\n      <td>Samson Satele</td>\n      <td>0</td>\n      <td>C</td>\n      <td>OL</td>\n      <td>O</td>\n      <td>...</td>\n      <td>C</td>\n      <td>Hawaii</td>\n      <td>75.0</td>\n      <td>300.0</td>\n      <td>5.24</td>\n      <td>25.0</td>\n      <td>33.0</td>\n      <td>101.0</td>\n      <td>7.47</td>\n      <td>4.29</td>\n    </tr>\n  </tbody>\n</table>\n<p>5 rows × 29 columns</p>\n</div>"
     },
     "execution_count": 168,
     "metadata": {},
     "output_type": "execute_result"
    }
   ],
   "source": [
    "draft_df.sample(5)"
   ]
  },
  {
   "cell_type": "code",
   "execution_count": 169,
   "id": "844b8130",
   "metadata": {
    "pycharm": {
     "name": "#%%\n"
    },
    "ExecuteTime": {
     "end_time": "2023-10-11T14:59:47.477758Z",
     "start_time": "2023-10-11T14:59:46.892348Z"
    }
   },
   "outputs": [],
   "source": [
    "# Export binary classifier dataframe\n",
    "draft_df.to_csv(r'/Users/ttas2/Documents/Python/nfl-machine-learning-models/output_files/nfl_post_processing_draft_data.csv', index=None, header=True)"
   ]
  },
  {
   "cell_type": "markdown",
   "id": "7751f385",
   "metadata": {
    "pycharm": {
     "name": "#%% md\n"
    }
   },
   "source": [
    "## Join play-by-play data with supplemental data sources"
   ]
  },
  {
   "cell_type": "code",
   "execution_count": 170,
   "id": "c432b15c",
   "metadata": {
    "pycharm": {
     "name": "#%%\n"
    },
    "ExecuteTime": {
     "end_time": "2023-10-11T14:59:47.549581Z",
     "start_time": "2023-10-11T14:59:46.970832Z"
    }
   },
   "outputs": [
    {
     "data": {
      "text/plain": "(63849, 385)"
     },
     "execution_count": 170,
     "metadata": {},
     "output_type": "execute_result"
    }
   ],
   "source": [
    "play_df.shape"
   ]
  },
  {
   "cell_type": "code",
   "execution_count": 171,
   "outputs": [
    {
     "name": "stdout",
     "output_type": "stream",
     "text": [
      "['posteam', 'game_alt_id', 'gameday', 'weekday', 'gametime', 'under_odds', 'over_odds', 'away_rest', 'home_rest', 'qb_rank', 'qb_pts', 'qb_plays', 'qb_qbr_raw', 'qb_qbr', 'qb_pass', 'qb_run']\n"
     ]
    }
   ],
   "source": [
    "# Print qbr_df columns\n",
    "print(qbr_df.columns.tolist())"
   ],
   "metadata": {
    "collapsed": false,
    "ExecuteTime": {
     "end_time": "2023-10-11T14:59:47.549943Z",
     "start_time": "2023-10-11T14:59:46.981636Z"
    }
   },
   "id": "cdc13c3b5233c616"
  },
  {
   "cell_type": "code",
   "execution_count": 172,
   "outputs": [
    {
     "data": {
      "text/plain": "(706, 16)"
     },
     "execution_count": 172,
     "metadata": {},
     "output_type": "execute_result"
    }
   ],
   "source": [
    "qbr_df.shape"
   ],
   "metadata": {
    "collapsed": false,
    "ExecuteTime": {
     "end_time": "2023-10-11T14:59:47.550164Z",
     "start_time": "2023-10-11T14:59:46.989872Z"
    }
   },
   "id": "cd400ecd316ca70c"
  },
  {
   "cell_type": "code",
   "execution_count": 173,
   "id": "07199e2b",
   "metadata": {
    "pycharm": {
     "name": "#%%\n"
    },
    "ExecuteTime": {
     "end_time": "2023-10-11T14:59:49.102906Z",
     "start_time": "2023-10-11T14:59:47.022254Z"
    }
   },
   "outputs": [
    {
     "data": {
      "text/plain": "(63849, 385)"
     },
     "execution_count": 173,
     "metadata": {},
     "output_type": "execute_result"
    }
   ],
   "source": [
    "# Merge play-by-play and QBR data\n",
    "df = pd.merge(play_df, qbr_df, how='inner', left_on=['game_alt_id','posteam'], right_on = ['game_alt_id','posteam'])\n",
    "\n",
    "# df = df.rename(columns={'game_id_x': 'game_id'})\n",
    "\n",
    "df = play_df.copy()\n",
    "\n",
    "df.shape"
   ]
  },
  {
   "cell_type": "code",
   "execution_count": 174,
   "id": "2dfd43a9",
   "metadata": {
    "pycharm": {
     "name": "#%%\n"
    },
    "ExecuteTime": {
     "end_time": "2023-10-11T14:59:49.103386Z",
     "start_time": "2023-10-11T14:59:48.435023Z"
    }
   },
   "outputs": [
    {
     "name": "stdout",
     "output_type": "stream",
     "text": [
      "['play_id', 'game_id', 'old_game_id', 'home_team', 'away_team', 'season_type', 'week', 'posteam', 'posteam_type', 'defteam', 'side_of_field', 'yardline_100', 'game_date', 'quarter_seconds_remaining', 'half_seconds_remaining', 'game_seconds_remaining', 'game_half', 'quarter_end', 'drive', 'sp', 'qtr', 'down', 'goal_to_go', 'time', 'yrdln', 'ydstogo', 'ydsnet', 'desc', 'play_type', 'yards_gained', 'shotgun', 'no_huddle', 'qb_dropback', 'qb_kneel', 'qb_spike', 'qb_scramble', 'pass_length', 'pass_location', 'air_yards', 'yards_after_catch', 'run_location', 'run_gap', 'field_goal_result', 'kick_distance', 'extra_point_result', 'two_point_conv_result', 'home_timeouts_remaining', 'away_timeouts_remaining', 'timeout', 'timeout_team', 'td_team', 'td_player_name', 'td_player_id', 'posteam_timeouts_remaining', 'defteam_timeouts_remaining', 'total_home_score', 'total_away_score', 'posteam_score', 'defteam_score', 'score_differential', 'posteam_score_post', 'defteam_score_post', 'score_differential_post', 'no_score_prob', 'opp_fg_prob', 'opp_safety_prob', 'opp_td_prob', 'fg_prob', 'safety_prob', 'td_prob', 'extra_point_prob', 'two_point_conversion_prob', 'ep', 'epa', 'total_home_epa', 'total_away_epa', 'total_home_rush_epa', 'total_away_rush_epa', 'total_home_pass_epa', 'total_away_pass_epa', 'air_epa', 'yac_epa', 'comp_air_epa', 'comp_yac_epa', 'total_home_comp_air_epa', 'total_away_comp_air_epa', 'total_home_comp_yac_epa', 'total_away_comp_yac_epa', 'total_home_raw_air_epa', 'total_away_raw_air_epa', 'total_home_raw_yac_epa', 'total_away_raw_yac_epa', 'wp', 'def_wp', 'home_wp', 'away_wp', 'wpa', 'vegas_wpa', 'vegas_home_wpa', 'home_wp_post', 'away_wp_post', 'vegas_wp', 'vegas_home_wp', 'total_home_rush_wpa', 'total_away_rush_wpa', 'total_home_pass_wpa', 'total_away_pass_wpa', 'air_wpa', 'yac_wpa', 'comp_air_wpa', 'comp_yac_wpa', 'total_home_comp_air_wpa', 'total_away_comp_air_wpa', 'total_home_comp_yac_wpa', 'total_away_comp_yac_wpa', 'total_home_raw_air_wpa', 'total_away_raw_air_wpa', 'total_home_raw_yac_wpa', 'total_away_raw_yac_wpa', 'punt_blocked', 'first_down_rush', 'first_down_pass', 'first_down_penalty', 'third_down_converted', 'third_down_failed', 'fourth_down_converted', 'fourth_down_failed', 'incomplete_pass', 'touchback', 'interception', 'punt_inside_twenty', 'punt_in_endzone', 'punt_out_of_bounds', 'punt_downed', 'punt_fair_catch', 'kickoff_inside_twenty', 'kickoff_in_endzone', 'kickoff_out_of_bounds', 'kickoff_downed', 'kickoff_fair_catch', 'fumble_forced', 'fumble_not_forced', 'fumble_out_of_bounds', 'solo_tackle', 'safety', 'penalty', 'tackled_for_loss', 'fumble_lost', 'own_kickoff_recovery', 'own_kickoff_recovery_td', 'qb_hit', 'rush_attempt', 'pass_attempt', 'sack', 'touchdown', 'pass_touchdown', 'rush_touchdown', 'return_touchdown', 'extra_point_attempt', 'two_point_attempt', 'field_goal_attempt', 'kickoff_attempt', 'punt_attempt', 'fumble', 'complete_pass', 'assist_tackle', 'lateral_reception', 'lateral_rush', 'lateral_return', 'lateral_recovery', 'passer_player_id', 'passer_player_name', 'passing_yards', 'receiver_player_id', 'receiver_player_name', 'receiving_yards', 'rusher_player_id', 'rusher_player_name', 'rushing_yards', 'lateral_receiver_player_id', 'lateral_receiver_player_name', 'lateral_receiving_yards', 'lateral_rusher_player_id', 'lateral_rusher_player_name', 'lateral_rushing_yards', 'lateral_sack_player_id', 'lateral_sack_player_name', 'interception_player_id', 'interception_player_name', 'lateral_interception_player_id', 'lateral_interception_player_name', 'punt_returner_player_id', 'punt_returner_player_name', 'lateral_punt_returner_player_id', 'lateral_punt_returner_player_name', 'kickoff_returner_player_name', 'kickoff_returner_player_id', 'lateral_kickoff_returner_player_id', 'lateral_kickoff_returner_player_name', 'punter_player_id', 'punter_player_name', 'kicker_player_name', 'kicker_player_id', 'own_kickoff_recovery_player_id', 'own_kickoff_recovery_player_name', 'blocked_player_id', 'blocked_player_name', 'tackle_for_loss_1_player_id', 'tackle_for_loss_1_player_name', 'tackle_for_loss_2_player_id', 'tackle_for_loss_2_player_name', 'qb_hit_1_player_id', 'qb_hit_1_player_name', 'qb_hit_2_player_id', 'qb_hit_2_player_name', 'forced_fumble_player_1_team', 'forced_fumble_player_1_player_id', 'forced_fumble_player_1_player_name', 'forced_fumble_player_2_team', 'forced_fumble_player_2_player_id', 'forced_fumble_player_2_player_name', 'solo_tackle_1_team', 'solo_tackle_2_team', 'solo_tackle_1_player_id', 'solo_tackle_2_player_id', 'solo_tackle_1_player_name', 'solo_tackle_2_player_name', 'assist_tackle_1_player_id', 'assist_tackle_1_player_name', 'assist_tackle_1_team', 'assist_tackle_2_player_id', 'assist_tackle_2_player_name', 'assist_tackle_2_team', 'assist_tackle_3_player_id', 'assist_tackle_3_player_name', 'assist_tackle_3_team', 'assist_tackle_4_player_id', 'assist_tackle_4_player_name', 'assist_tackle_4_team', 'tackle_with_assist', 'tackle_with_assist_1_player_id', 'tackle_with_assist_1_player_name', 'tackle_with_assist_1_team', 'tackle_with_assist_2_player_id', 'tackle_with_assist_2_player_name', 'tackle_with_assist_2_team', 'pass_defense_1_player_id', 'pass_defense_1_player_name', 'pass_defense_2_player_id', 'pass_defense_2_player_name', 'fumbled_1_team', 'fumbled_1_player_id', 'fumbled_1_player_name', 'fumbled_2_player_id', 'fumbled_2_player_name', 'fumbled_2_team', 'fumble_recovery_1_team', 'fumble_recovery_1_yards', 'fumble_recovery_1_player_id', 'fumble_recovery_1_player_name', 'fumble_recovery_2_team', 'fumble_recovery_2_yards', 'fumble_recovery_2_player_id', 'fumble_recovery_2_player_name', 'sack_player_id', 'sack_player_name', 'half_sack_1_player_id', 'half_sack_1_player_name', 'half_sack_2_player_id', 'half_sack_2_player_name', 'return_team', 'return_yards', 'penalty_team', 'penalty_player_id', 'penalty_player_name', 'penalty_yards', 'replay_or_challenge', 'replay_or_challenge_result', 'penalty_type', 'defensive_two_point_attempt', 'defensive_two_point_conv', 'defensive_extra_point_attempt', 'defensive_extra_point_conv', 'safety_player_name', 'safety_player_id', 'season', 'cp', 'cpoe', 'series', 'series_success', 'series_result', 'order_sequence', 'start_time', 'time_of_day', 'stadium', 'weather', 'nfl_api_id', 'play_clock', 'play_deleted', 'play_type_nfl', 'special_teams_play', 'st_play_type', 'end_clock_time', 'end_yard_line', 'fixed_drive', 'fixed_drive_result', 'drive_real_start_time', 'drive_play_count', 'drive_time_of_possession', 'drive_first_downs', 'drive_inside20', 'drive_ended_with_score', 'drive_quarter_start', 'drive_quarter_end', 'drive_yards_penalized', 'drive_start_transition', 'drive_end_transition', 'drive_game_clock_start', 'drive_game_clock_end', 'drive_start_yard_line', 'drive_end_yard_line', 'drive_play_id_started', 'drive_play_id_ended', 'away_score', 'home_score', 'location', 'result', 'total', 'spread_line', 'total_line', 'div_game', 'roof', 'surface', 'temp', 'wind', 'home_coach', 'away_coach', 'stadium_id', 'game_stadium', 'aborted_play', 'success', 'passer', 'passer_jersey_number', 'rusher', 'rusher_jersey_number', 'receiver', 'receiver_jersey_number', 'pass', 'rush', 'first_down', 'special', 'play', 'passer_id', 'rusher_id', 'receiver_id', 'name', 'jersey_number', 'id', 'fantasy_player_name', 'fantasy_player_id', 'fantasy', 'fantasy_id', 'out_of_bounds', 'home_opening_kickoff', 'qb_epa', 'xyac_epa', 'xyac_mean_yardage', 'xyac_median_yardage', 'xyac_success', 'xyac_fd', 'xpass', 'pass_oe', 'nflverse_game_id', 'possession_team', 'offense_formation', 'offense_personnel', 'defenders_in_box', 'defense_personnel', 'number_of_pass_rushers', 'players_on_play', 'offense_players', 'defense_players', 'n_offense', 'n_defense', 'game_alt_id']\n"
     ]
    }
   ],
   "source": [
    "# Print column names\n",
    "print(df.columns.tolist())"
   ]
  },
  {
   "cell_type": "markdown",
   "id": "90a8726d",
   "metadata": {
    "pycharm": {
     "name": "#%% md\n"
    }
   },
   "source": [
    "# _______________\n",
    "## Primary play-by-play filters"
   ]
  },
  {
   "cell_type": "code",
   "execution_count": 175,
   "id": "64a55058",
   "metadata": {
    "pycharm": {
     "name": "#%%\n"
    },
    "ExecuteTime": {
     "end_time": "2023-10-11T14:59:54.985685Z",
     "start_time": "2023-10-11T14:59:48.486508Z"
    }
   },
   "outputs": [
    {
     "data": {
      "text/plain": "(47494, 385)"
     },
     "execution_count": 175,
     "metadata": {},
     "output_type": "execute_result"
    }
   ],
   "source": [
    "# Exclude columns with the following records\n",
    "df = df.loc[~(df['desc'].str.startswith(\"END |END_|Two-Minute|Two Minute|Two minute|Two-minute|Two minute|Two-min\"))]\n",
    "\n",
    "# Exclude columns with specific key words\n",
    "df = df.loc[~(df['desc'].str.contains(\"Captains:|CAPTAINS:|Captians:|Captains #|Captians #\"))]\n",
    "df = df.loc[~(df['desc'].str.contains(\"substitution infraction|Two-Minute Warning\"))]\n",
    "df = df.loc[~(df['desc'].str.contains(\"game has been suspended|game has resumed|Game was resumed\"))]\n",
    "df = df.loc[~(df['desc'].str.contains(\"Game delayed|game delayed|Game suspended|Game was resumed\"))]\n",
    "df = df.loc[~(df['desc'].str.contains(\"no play run|Humidity|weather delay|severe weather\"))]\n",
    "df = df.loc[df['play_deleted'] == 0]\n",
    "df = df.loc[df['qtr'] <= 4.0]\n",
    "df = df.loc[df['down'] >= 1.0]\n",
    "df = df.loc[df['special_teams_play'] == 0]\n",
    "df = df.loc[df['season_type'] != 'PRE']\n",
    "df = df.loc[df['aborted_play'] == 0]\n",
    "df = df.loc[~(df['play_type'].isin(['punt','kickoff','extra_point','field_goal','qb_kneel','qb_spike']))]\n",
    "df = df.loc[~df['drive'].isnull()]\n",
    "\n",
    "df.shape"
   ]
  },
  {
   "cell_type": "code",
   "execution_count": 176,
   "outputs": [
    {
     "name": "stdout",
     "output_type": "stream",
     "text": [
      "Single value columns: Index(['quarter_end', 'extra_point_prob', 'two_point_conversion_prob',\n",
      "       'punt_blocked', 'punt_inside_twenty', 'punt_in_endzone',\n",
      "       'punt_out_of_bounds', 'punt_downed', 'punt_fair_catch',\n",
      "       'kickoff_inside_twenty', 'kickoff_in_endzone', 'kickoff_out_of_bounds',\n",
      "       'kickoff_downed', 'kickoff_fair_catch', 'own_kickoff_recovery',\n",
      "       'own_kickoff_recovery_td', 'extra_point_attempt', 'two_point_attempt',\n",
      "       'field_goal_attempt', 'kickoff_attempt', 'punt_attempt',\n",
      "       'tackle_with_assist_2_player_id', 'tackle_with_assist_2_player_name',\n",
      "       'tackle_with_assist_2_team', 'defensive_two_point_attempt',\n",
      "       'defensive_two_point_conv', 'defensive_extra_point_attempt',\n",
      "       'defensive_extra_point_conv', 'play_deleted', 'special_teams_play',\n",
      "       'st_play_type', 'aborted_play', 'special'],\n",
      "      dtype='object')\n",
      "Remaining columns: 322\n"
     ]
    }
   ],
   "source": [
    "# Print a list of columns with only one value and then drop them\n",
    "single_value_columns = df.loc[:,df.nunique() == 1].columns\n",
    "df = df.loc[:,df.nunique() > 1]\n",
    "\n",
    "print('Single value columns:', single_value_columns)\n",
    "print('Remaining columns:', df.shape[1])"
   ],
   "metadata": {
    "collapsed": false,
    "ExecuteTime": {
     "end_time": "2023-10-11T14:59:58.899830Z",
     "start_time": "2023-10-11T14:59:54.976617Z"
    }
   },
   "id": "898a5775e5fd31b4"
  },
  {
   "cell_type": "code",
   "execution_count": 177,
   "id": "2557cf9e",
   "metadata": {
    "pycharm": {
     "name": "#%%\n"
    },
    "ExecuteTime": {
     "end_time": "2023-10-11T14:59:59.626612Z",
     "start_time": "2023-10-11T14:59:58.892864Z"
    }
   },
   "outputs": [],
   "source": [
    "# Convert missing values to Null\n",
    "df = df.fillna(value=np.nan)"
   ]
  },
  {
   "cell_type": "code",
   "execution_count": 178,
   "outputs": [
    {
     "data": {
      "text/plain": "(47494, 322)"
     },
     "execution_count": 178,
     "metadata": {},
     "output_type": "execute_result"
    }
   ],
   "source": [
    "# Convert field to datetime format\n",
    "df['game_date']= pd.to_datetime(df['game_date'])\n",
    "\n",
    "# Sort dataframe\n",
    "df = df.sort_values(by=['posteam','game_date','play'], ascending=True)\n",
    "\n",
    "df.shape"
   ],
   "metadata": {
    "collapsed": false,
    "ExecuteTime": {
     "end_time": "2023-10-11T14:59:59.897095Z",
     "start_time": "2023-10-11T14:59:59.634496Z"
    }
   },
   "id": "842b1e391a959cbf"
  },
  {
   "cell_type": "markdown",
   "source": [
    "## Modify dataframe"
   ],
   "metadata": {
    "collapsed": false
   },
   "id": "1dfa7a0e"
  },
  {
   "cell_type": "code",
   "execution_count": 179,
   "id": "4c090210",
   "metadata": {
    "pycharm": {
     "name": "#%%\n"
    },
    "ExecuteTime": {
     "end_time": "2023-10-11T14:59:59.965549Z",
     "start_time": "2023-10-11T14:59:59.899542Z"
    }
   },
   "outputs": [],
   "source": [
    "# Impute missing values\n",
    "df['time_of_day'].fillna(method='ffill', inplace=True)\n",
    "df['quarter_seconds_remaining'].fillna(method='bfill', inplace=True)\n",
    "df['half_seconds_remaining'].fillna(method='bfill', inplace=True)\n",
    "df['game_seconds_remaining'].fillna(method='bfill', inplace=True)\n",
    "df['wp'].fillna(method='bfill', inplace=True)\n",
    "df['def_wp'].fillna(method='bfill', inplace=True)\n"
   ]
  },
  {
   "cell_type": "code",
   "execution_count": 180,
   "outputs": [],
   "source": [
    "# Remove commas from strings\n",
    "df['offense_personnel'] = df['offense_personnel'].str.replace(',', '')\n",
    "df['defense_personnel'] = df['defense_personnel'].str.replace(',', '')"
   ],
   "metadata": {
    "collapsed": false,
    "ExecuteTime": {
     "end_time": "2023-10-11T14:59:59.970832Z",
     "start_time": "2023-10-11T14:59:59.954323Z"
    }
   },
   "id": "829a9585d59e901b"
  },
  {
   "cell_type": "code",
   "execution_count": 181,
   "id": "b780f49d",
   "metadata": {
    "pycharm": {
     "name": "#%%\n"
    },
    "ExecuteTime": {
     "end_time": "2023-10-11T15:00:07.915822Z",
     "start_time": "2023-10-11T14:59:59.979619Z"
    }
   },
   "outputs": [],
   "source": [
    "# Strip all whitespace from strings\n",
    "df = df.applymap(lambda x: x.strip() if isinstance(x, str) else x)\n",
    "\n",
    "# Strips all objects in dataframe\n",
    "df = df.apply(lambda x: x.str.strip() if x.dtype == \"object\" else x)"
   ]
  },
  {
   "cell_type": "code",
   "execution_count": 182,
   "id": "40bb776b",
   "metadata": {
    "pycharm": {
     "name": "#%%\n"
    },
    "ExecuteTime": {
     "end_time": "2023-10-11T15:00:08.110639Z",
     "start_time": "2023-10-11T15:00:07.948477Z"
    }
   },
   "outputs": [],
   "source": [
    "# Impute missing values\n",
    "df['play_type'].fillna('no_play', inplace = True)\n",
    "df['play_type_nfl'].fillna('NO_PLAY', inplace = True)\n",
    "# df['weekday'].fillna('NULL', inplace = True)  # included only when QBR/schedule data is include\n",
    "df['sp'].fillna(0, inplace = True)\n",
    "df['qtr'].fillna(0, inplace = True)\n",
    "df['goal_to_go'].fillna(0, inplace = True)\n",
    "df['ydstogo'].fillna(0, inplace = True) \n",
    "df['ydsnet'].fillna(0, inplace = True)\n",
    "df['shotgun'].fillna(0, inplace = True)\n",
    "df['no_huddle'].fillna(0, inplace = True)\n",
    "df['qb_dropback'].fillna(0, inplace = True)\n",
    "df['qb_kneel'].fillna(0, inplace = True)\n",
    "df['qb_scramble'].fillna(0, inplace = True)\n",
    "df['yards_after_catch'].fillna(0, inplace = True)\n",
    "df['home_timeouts_remaining'].fillna(0, inplace = True)\n",
    "df['away_timeouts_remaining'].fillna(0, inplace = True)\n",
    "df['timeout'].fillna(0, inplace = True)\n",
    "df['posteam_timeouts_remaining'].fillna(0, inplace = True) \n",
    "df['defteam_timeouts_remaining'].fillna(0, inplace = True)\n",
    "df['total_home_score'].fillna(0, inplace = True)\n",
    "df['total_away_score'].fillna(0, inplace = True)\n",
    "df['posteam_score'].fillna(0, inplace = True) \n",
    "df['defteam_score'].fillna(0, inplace = True)\n",
    "df['score_differential'].fillna(0, inplace = True)\n",
    "df['posteam_score_post'].fillna(0, inplace = True)\n",
    "df['defteam_score_post'].fillna(0, inplace = True)\n",
    "df['score_differential_post'].fillna(0, inplace = True)\n",
    "df['first_down_rush'].fillna(0, inplace = True)\n",
    "df['first_down_pass'].fillna(0, inplace = True)\n",
    "df['first_down_penalty'].fillna(0, inplace = True)\n",
    "df['third_down_converted'].fillna(0, inplace = True)\n",
    "df['third_down_failed'].fillna(0, inplace = True)\n",
    "df['fourth_down_converted'].fillna(0, inplace = True)\n",
    "df['fourth_down_failed'].fillna(0, inplace = True)\n",
    "df['incomplete_pass'].fillna(0, inplace = True)\n",
    "df['touchback'].fillna(0, inplace = True)\n",
    "df['interception'].fillna(0, inplace = True)\n",
    "df['fumble_forced'].fillna(0, inplace = True)\n",
    "df['fumble_not_forced'].fillna(0, inplace = True)\n",
    "df['fumble_out_of_bounds'].fillna(0, inplace = True)\n",
    "df['solo_tackle'].fillna(0, inplace = True)\n",
    "df['penalty'].fillna(0, inplace = True)\n",
    "df['tackled_for_loss'].fillna(0, inplace = True)\n",
    "df['fumble'].fillna(0, inplace = True)\n",
    "df['fumble_lost'].fillna(0, inplace = True)\n",
    "df['qb_hit'].fillna(0, inplace = True)\n",
    "df['rush_attempt'].fillna(0, inplace = True)\n",
    "df['pass_attempt'].fillna(0, inplace = True)\n",
    "df['sack'].fillna(0, inplace = True)\n",
    "df['safety'].fillna(0, inplace = True)\n",
    "df['touchdown'].fillna(0, inplace = True)\n",
    "df['pass_touchdown'].fillna(0, inplace = True)\n",
    "df['rush_touchdown'].fillna(0, inplace = True)\n",
    "df['return_touchdown'].fillna(0, inplace = True)\n",
    "df['complete_pass'].fillna(0, inplace = True)\n",
    "df['assist_tackle'].fillna(0, inplace = True)\n",
    "df['lateral_reception'].fillna(0, inplace = True)\n",
    "df['lateral_rush'].fillna(0, inplace = True)\n",
    "df['lateral_return'].fillna(0, inplace = True)\n",
    "df['lateral_recovery'].fillna(0, inplace = True)\n",
    "df['passing_yards'].fillna(0, inplace = True)\n",
    "df['receiving_yards'].fillna(0, inplace = True)\n",
    "df['rushing_yards'].fillna(0, inplace = True)\n",
    "df['lateral_receiving_yards'].fillna(0, inplace = True)\n",
    "df['lateral_rushing_yards'].fillna(0, inplace = True)\n",
    "df['tackle_with_assist'].fillna(0, inplace = True)\n",
    "df['return_yards'].fillna(0, inplace = True)\n",
    "df['replay_or_challenge'].fillna(0, inplace = True)\n",
    "df['series_success'].fillna(0, inplace = True)\n",
    "df['order_sequence'].fillna(0, inplace = True)\n",
    "df['fixed_drive'].fillna(0, inplace = True)\n",
    "df['drive_play_count'].fillna(0, inplace = True)\n",
    "df['drive_first_downs'].fillna(0, inplace = True)\n",
    "df['drive_inside20'].fillna(0, inplace = True)\n",
    "df['drive_ended_with_score'].fillna(0, inplace = True)\n",
    "df['drive_quarter_start'].fillna(0, inplace = True)\n",
    "df['drive_quarter_end'].fillna(0, inplace = True)\n",
    "df['drive_yards_penalized'].fillna(0, inplace = True)\n",
    "df['drive_play_id_started'].fillna(0, inplace = True)\n",
    "df['drive_play_id_ended'].fillna(0, inplace = True)\n",
    "df['success'].fillna(0, inplace = True)\n",
    "df['pass'].fillna(0, inplace = True)\n",
    "df['rush'].fillna(0, inplace = True)\n",
    "df['first_down'].fillna(0, inplace = True)\n",
    "df['play'].fillna(0, inplace = True)\n",
    "df['out_of_bounds'].fillna(0, inplace = True)\n",
    "df['home_opening_kickoff'].fillna(0, inplace = True)\n",
    "df['fumble_recovery_1_yards'].fillna(0, inplace = True)\n",
    "df['fumble_recovery_2_yards'].fillna(0, inplace = True)\n",
    "df['penalty_yards'].fillna(0, inplace = True)"
   ]
  },
  {
   "cell_type": "code",
   "execution_count": 183,
   "id": "f6e57cd8",
   "metadata": {
    "pycharm": {
     "name": "#%%\n"
    },
    "ExecuteTime": {
     "end_time": "2023-10-11T15:00:08.300788Z",
     "start_time": "2023-10-11T15:00:08.044750Z"
    }
   },
   "outputs": [
    {
     "data": {
      "text/plain": "(47494, 322)"
     },
     "execution_count": 183,
     "metadata": {},
     "output_type": "execute_result"
    }
   ],
   "source": [
    "# Convert to integer\n",
    "df['play_id'] = df['play_id'].astype(int)\n",
    "df['quarter_seconds_remaining'] = df['quarter_seconds_remaining'].astype(int)\n",
    "df['half_seconds_remaining'] = df['half_seconds_remaining'].astype(int)\n",
    "df['game_seconds_remaining'] = df['game_seconds_remaining'].astype(int)\n",
    "df['sp'] = df['sp'].astype(int)\n",
    "df['qtr'] = df['qtr'].astype(int)\n",
    "df['goal_to_go'] = df['goal_to_go'].astype(int)\n",
    "df['ydstogo'] = df['ydstogo'].astype(int)\n",
    "# df['ydsnet'] = df['ydsnet'].astype(int)\n",
    "df['shotgun'] = df['shotgun'].astype(int)\n",
    "df['no_huddle'] = df['no_huddle'].astype(int)\n",
    "df['qb_dropback'] = df['qb_dropback'].astype(int)\n",
    "df['qb_scramble'] = df['qb_scramble'].astype(int)\n",
    "df['yards_after_catch'] = df['yards_after_catch'].astype(int)\n",
    "df['home_timeouts_remaining'] = df['home_timeouts_remaining'].astype(int)\n",
    "df['away_timeouts_remaining'] = df['away_timeouts_remaining'].astype(int)\n",
    "df['timeout'] = df['timeout'].astype(int)\n",
    "df['posteam_timeouts_remaining'] = df['posteam_timeouts_remaining'].astype(int)\n",
    "df['defteam_timeouts_remaining'] = df['defteam_timeouts_remaining'].astype(int)\n",
    "df['total_home_score'] = df['total_home_score'].astype(int)\n",
    "df['total_away_score'] = df['total_away_score'].astype(int)\n",
    "df['posteam_score'] = df['posteam_score'].astype(int)\n",
    "df['defteam_score'] = df['defteam_score'].astype(int)\n",
    "df['score_differential'] = df['score_differential'].astype(int)\n",
    "df['posteam_score_post'] = df['posteam_score_post'].astype(int)\n",
    "df['defteam_score_post'] = df['defteam_score_post'].astype(int)\n",
    "df['score_differential_post'] = df['score_differential_post'].astype(int)\n",
    "df['first_down_rush'] = df['first_down_rush'].astype(int)\n",
    "df['first_down_pass'] = df['first_down_pass'].astype(int)\n",
    "df['first_down_penalty'] = df['first_down_penalty'].astype(int)\n",
    "df['third_down_converted'] = df['third_down_converted'].astype(int)\n",
    "df['third_down_failed'] = df['third_down_failed'].astype(int)\n",
    "df['fourth_down_converted'] = df['fourth_down_converted'].astype(int)\n",
    "df['fourth_down_failed'] = df['fourth_down_failed'].astype(int)\n",
    "df['incomplete_pass'] = df['incomplete_pass'].astype(int)\n",
    "df['touchback'] = df['touchback'].astype(int)\n",
    "df['interception'] = df['interception'].astype(int)\n",
    "df['fumble_forced'] = df['fumble_forced'].astype(int)\n",
    "df['fumble_not_forced'] = df['fumble_not_forced'].astype(int)\n",
    "df['fumble_out_of_bounds'] = df['fumble_out_of_bounds'].astype(int)\n",
    "df['solo_tackle'] = df['solo_tackle'].astype(int)\n",
    "df['safety'] = df['safety'].astype(int)\n",
    "df['penalty'] = df['penalty'].astype(int)\n",
    "df['tackled_for_loss'] = df['tackled_for_loss'].astype(int)\n",
    "df['fumble_lost'] = df['fumble_lost'].astype(int)\n",
    "df['qb_hit'] = df['qb_hit'].astype(int)\n",
    "df['rush_attempt'] = df['rush_attempt'].astype(int)\n",
    "df['pass_attempt'] = df['pass_attempt'].astype(int)\n",
    "df['sack'] = df['sack'].astype(int)\n",
    "df['touchdown'] = df['touchdown'].astype(int)\n",
    "df['rush_touchdown'] = df['rush_touchdown'].astype(int)\n",
    "df['pass_touchdown'] = df['pass_touchdown'].astype(int)\n",
    "df['return_touchdown'] = df['return_touchdown'].astype(int)\n",
    "df['fumble'] = df['fumble'].astype(int)\n",
    "df['complete_pass'] = df['complete_pass'].astype(int)\n",
    "df['assist_tackle'] = df['assist_tackle'].astype(int)\n",
    "df['lateral_reception'] = df['lateral_reception'].astype(int)\n",
    "df['lateral_rush'] = df['lateral_rush'].astype(int)\n",
    "df['lateral_return'] = df['lateral_return'].astype(int)\n",
    "df['lateral_recovery'] = df['lateral_recovery'].astype(int)\n",
    "df['passing_yards'] = df['passing_yards'].astype(int)\n",
    "df['receiving_yards'] = df['receiving_yards'].astype(int)\n",
    "df['rushing_yards'] = df['rushing_yards'].astype(int)\n",
    "df['lateral_receiving_yards'] = df['lateral_receiving_yards'].astype(int)\n",
    "df['lateral_rushing_yards'] = df['lateral_rushing_yards'].astype(int)\n",
    "df['tackle_with_assist'] = df['tackle_with_assist'].astype(int)\n",
    "df['return_yards'] = df['return_yards'].astype(int)\n",
    "df['replay_or_challenge'] = df['replay_or_challenge'].astype(int)\n",
    "df['series'] = df['series'].astype(int)\n",
    "df['series_success'] = df['series_success'].astype(int)\n",
    "df['order_sequence'] = df['order_sequence'].astype(int)\n",
    "df['fixed_drive'] = df['fixed_drive'].astype(int)\n",
    "df['drive_play_count'] = df['drive_play_count'].astype(int)\n",
    "df['drive_first_downs'] = df['drive_first_downs'].astype(int)\n",
    "df['drive_inside20'] = df['drive_inside20'].astype(int)\n",
    "df['drive_ended_with_score'] = df['drive_ended_with_score'].astype(int)\n",
    "df['drive_quarter_start'] = df['drive_quarter_start'].astype(int)\n",
    "df['drive_quarter_end'] = df['drive_quarter_end'].astype(int)\n",
    "df['drive_yards_penalized'] = df['drive_yards_penalized'].astype(int)\n",
    "df['drive_play_id_started'] = df['drive_play_id_started'].astype(int)\n",
    "df['drive_play_id_ended'] = df['drive_play_id_ended'].astype(int)\n",
    "df['success'] = df['success'].astype(int)\n",
    "df['pass'] = df['pass'].astype(int)\n",
    "df['rush'] = df['rush'].astype(int)\n",
    "df['first_down'] = df['first_down'].astype(int)\n",
    "df['play'] = df['play'].astype(int)\n",
    "df['out_of_bounds'] = df['out_of_bounds'].astype(int)\n",
    "df['home_opening_kickoff'] = df['home_opening_kickoff'].astype(int)\n",
    "df['fumble_recovery_1_yards'] = df['fumble_recovery_1_yards'].astype(int)\n",
    "df['fumble_recovery_2_yards'] = df['fumble_recovery_2_yards'].astype(int)\n",
    "df['penalty_yards'] = df['penalty_yards'].astype(int)\n",
    "# df['home_rest'] = df['home_rest'].astype(int)\n",
    "# df['away_rest'] = df['away_rest'].astype(int)\n",
    "df.shape"
   ]
  },
  {
   "cell_type": "code",
   "execution_count": 184,
   "id": "deacf807",
   "metadata": {
    "pycharm": {
     "name": "#%%\n"
    },
    "ExecuteTime": {
     "end_time": "2023-10-11T15:00:08.301199Z",
     "start_time": "2023-10-11T15:00:08.179579Z"
    }
   },
   "outputs": [
    {
     "data": {
      "text/plain": "play_type_nfl\nPASS                            23900\nRUSH                            18766\nPENALTY                          2913\nSACK                             1750\nINTERCEPTION                      119\nUNSPECIFIED                        38\nNO_PLAY                             5\nFUMBLE_RECOVERED_BY_OPPONENT        3\nName: count, dtype: int64"
     },
     "execution_count": 184,
     "metadata": {},
     "output_type": "execute_result"
    }
   ],
   "source": [
    "counts = df.play_type_nfl.value_counts(normalize=False)\n",
    "counts"
   ]
  },
  {
   "cell_type": "code",
   "execution_count": 185,
   "id": "11e507b0",
   "metadata": {
    "pycharm": {
     "name": "#%%\n"
    },
    "ExecuteTime": {
     "end_time": "2023-10-11T15:00:08.304970Z",
     "start_time": "2023-10-11T15:00:08.196436Z"
    }
   },
   "outputs": [
    {
     "data": {
      "text/plain": "play_type\npass       25772\nrun        18770\nno_play     2952\nName: count, dtype: int64"
     },
     "execution_count": 185,
     "metadata": {},
     "output_type": "execute_result"
    }
   ],
   "source": [
    "counts = df.play_type.value_counts(normalize=False)\n",
    "counts"
   ]
  },
  {
   "cell_type": "markdown",
   "id": "294748d7",
   "metadata": {
    "pycharm": {
     "name": "#%% md\n"
    }
   },
   "source": [
    "### Impute play_type"
   ]
  },
  {
   "cell_type": "code",
   "execution_count": 186,
   "id": "40e0f78c",
   "metadata": {
    "pycharm": {
     "name": "#%%\n"
    },
    "ExecuteTime": {
     "end_time": "2023-10-11T15:00:08.768710Z",
     "start_time": "2023-10-11T15:00:08.210379Z"
    }
   },
   "outputs": [
    {
     "data": {
      "text/plain": "(47494, 322)"
     },
     "execution_count": 186,
     "metadata": {},
     "output_type": "execute_result"
    }
   ],
   "source": [
    "df1 = df.copy()\n",
    "\n",
    "df1.shape"
   ]
  },
  {
   "cell_type": "code",
   "execution_count": 187,
   "id": "6de7e60a",
   "metadata": {
    "pycharm": {
     "name": "#%%\n"
    },
    "ExecuteTime": {
     "end_time": "2023-10-11T15:00:10.952902Z",
     "start_time": "2023-10-11T15:00:08.713260Z"
    }
   },
   "outputs": [],
   "source": [
    "# Modify description property\n",
    "df1['desc'] = df1['desc'].str.strip().str.lower()\n",
    "\n",
    "# QB Scramble\n",
    "df1['play_type'] = np.where((df1['play_type'] == 'no_play') & (df1['desc'].str.find('scrambles ')>= 0), 'qb_scramble', df1['play_type'])\n",
    "df1['play_type'] = np.where((df1['play_type'] == 'run') & (df1['desc'].str.find('scrambles ')>= 0), 'qb_scramble', df1['play_type'])\n",
    "\n",
    "# Kickoffs\n",
    "df1['play_type'] = np.where((df1['play_type'] == 'no_play') & (df1['desc'].str.find('kicks')>= 0), 'kickoff', df1['play_type'])\n",
    "df1['play_type'] = np.where((df1['play_type'] == 'no_play') & (df1['desc'].str.find('kick formation')>= 0), 'kickoff', df1['play_type'])\n",
    "\n",
    "# Field goals\n",
    "df1['play_type'] = np.where((df1['play_type'] == 'no_play') & (df1['desc'].str.find('field goal')>= 0), 'field_goal', df1['play_type'])\n",
    "\n",
    "# Punts\n",
    "df1['play_type'] = np.where((df1['play_type'] == 'no_play') & (df1['desc'].str.find(' punts')>= 0), 'punt', df1['play_type'])\n",
    "df1['play_type'] = np.where((df1['play_type'] == 'no_play') & (df1['desc'].str.find(' punt is')>= 0), 'punt', df1['play_type'])\n",
    "\n",
    "# Extra points (PATs)\n",
    "df1['play_type'] = np.where((df1['play_type'] == 'no_play') & (df1['desc'].str.find(' extra point')>= 0) & (df1['desc'].str.find('penalty')>= 0), 'extra_point', df1['play_type'])\n",
    "df1['play_type'] = np.where((df1['play_type'] == 'no_play') & (df1['desc'].str.find('two-point conversion')>= 0), 'two_point', df1['play_type'])\n",
    "\n",
    "# Kneel\n",
    "df1['play_type'] = np.where((df1['play_type'] == 'no_play') & (df1['desc'].str.find(' kneels')>= 0) & (df1['desc'].str.find('penalty')>= 0), 'qb_kneel', df1['play_type'])\n",
    "\n",
    "# QB spikes\n",
    "df1['play_type'] = np.where((df1['play_type'] == 'no_play') & (df1['desc'].str.find(' spiked')>= 0) & (df1['desc'].str.find('penalty')>= 0), 'qb_spike', df1['play_type'])\n",
    "\n",
    "# Passes\n",
    "df1['play_type'] = np.where((df1['play_type'] == 'no_play') & (df1['desc'].str.find('pass incomplete')>= 0), 'pass', df1['play_type'])\n",
    "df1['play_type'] = np.where((df1['play_type'] == 'no_play') & (df1['desc'].str.find('pass complete')>= 0), 'pass', df1['play_type'])\n",
    "df1['play_type'] = np.where((df1['play_type'] == 'no_play') & (df1['desc'].str.find('pass short')>= 0), 'pass', df1['play_type'])\n",
    "df1['play_type'] = np.where((df1['play_type'] == 'no_play') & (df1['desc'].str.find('pass deep')>= 0), 'pass', df1['play_type'])\n",
    "df1['play_type'] = np.where((df1['play_type'] == 'no_play') & (df1['desc'].str.find('pass to')>= 0), 'pass', df1['play_type'])\n",
    "df1['play_type'] = np.where((df1['play_type'] == 'no_play') & (df1['desc'].str.find('sacked')>= 0), 'pass', df1['play_type'])\n",
    "df1['play_type'] = np.where((df1['play_type'] == 'no_play') & (df1['desc'].str.find('pass intended')>= 0), 'pass', df1['play_type'])\n",
    "df1['play_type'] = np.where((df1['play_type'] == 'no_play') & (df1['desc'].str.find('pass intercepted')>= 0), 'pass', df1['play_type'])\n",
    "df1['play_type'] = np.where((df1['play_type'] == 'timeout') & (df1['desc'].str.find('pass incomplete')>= 0), 'pass', df1['play_type'])\n",
    "df1['play_type'] = np.where((df1['play_type'] == 'timeout') & (df1['desc'].str.find('pass complete')>= 0), 'pass', df1['play_type'])\n",
    "df1['play_type'] = np.where((df1['play_type'] == 'timeout') & (df1['desc'].str.find('pass short')>= 0), 'pass', df1['play_type'])\n",
    "df1['play_type'] = np.where((df1['play_type'] == 'timeout') & (df1['desc'].str.find('pass deep')>= 0), 'pass', df1['play_type'])\n",
    "df1['play_type'] = np.where((df1['play_type'] == 'timeout') & (df1['desc'].str.find('pass to')>= 0), 'pass', df1['play_type'])\n",
    "df1['play_type'] = np.where((df1['play_type'] == 'timeout') & (df1['desc'].str.find('sacked')>= 0), 'pass', df1['play_type'])\n",
    "df1['play_type'] = np.where((df1['play_type'] == 'timeout') & (df1['desc'].str.find('pass intended')>= 0), 'pass', df1['play_type'])\n",
    "df1['play_type'] = np.where((df1['play_type'] == 'timeout') & (df1['desc'].str.find('pass intercepted')>= 0), 'pass', df1['play_type'])\n",
    "\n",
    "# Runs\n",
    "df1['play_type'] = np.where((df1['play_type'] == 'no_play') & (df1['desc'].str.find('left end')>= 0), 'run', df1['play_type'])\n",
    "df1['play_type'] = np.where((df1['play_type'] == 'no_play') & (df1['desc'].str.find('left tackle')>= 0), 'run', df1['play_type'])\n",
    "df1['play_type'] = np.where((df1['play_type'] == 'no_play') & (df1['desc'].str.find('left guard')>= 0), 'run', df1['play_type'])\n",
    "df1['play_type'] = np.where((df1['play_type'] == 'no_play') & (df1['desc'].str.find('up the middle')>= 0), 'run', df1['play_type'])\n",
    "df1['play_type'] = np.where((df1['play_type'] == 'no_play') & (df1['desc'].str.find('right guard')>= 0), 'run', df1['play_type'])\n",
    "df1['play_type'] = np.where((df1['play_type'] == 'no_play') & (df1['desc'].str.find('right tackle')>= 0), 'run', df1['play_type'])\n",
    "df1['play_type'] = np.where((df1['play_type'] == 'no_play') & (df1['desc'].str.find('right end')>= 0), 'run', df1['play_type'])\n",
    "df1['play_type'] = np.where((df1['play_type'] == 'no_play') & (df1['desc'].str.find('end around')>= 0), 'run', df1['play_type'])\n",
    "df1['play_type'] = np.where((df1['play_type'] == 'timeout') & (df1['desc'].str.find('left end')>= 0), 'run', df1['play_type'])\n",
    "df1['play_type'] = np.where((df1['play_type'] == 'timeout') & (df1['desc'].str.find('left tackle')>= 0), 'run', df1['play_type'])\n",
    "df1['play_type'] = np.where((df1['play_type'] == 'timeout') & (df1['desc'].str.find('left guard')>= 0), 'run', df1['play_type'])\n",
    "df1['play_type'] = np.where((df1['play_type'] == 'timeout') & (df1['desc'].str.find('up the middle')>= 0), 'run', df1['play_type'])\n",
    "df1['play_type'] = np.where((df1['play_type'] == 'timeout') & (df1['desc'].str.find('right guard')>= 0), 'run', df1['play_type'])\n",
    "df1['play_type'] = np.where((df1['play_type'] == 'timeout') & (df1['desc'].str.find('right tackle')>= 0), 'run', df1['play_type'])\n",
    "df1['play_type'] = np.where((df1['play_type'] == 'timeout') & (df1['desc'].str.find('right end')>= 0), 'run', df1['play_type'])\n",
    "df1['play_type'] = np.where((df1['play_type'] == 'timeout') & (df1['desc'].str.find('end around')>= 0), 'run', df1['play_type'])"
   ]
  },
  {
   "cell_type": "code",
   "execution_count": 188,
   "id": "3d70fc00",
   "metadata": {
    "pycharm": {
     "name": "#%%\n"
    },
    "ExecuteTime": {
     "end_time": "2023-10-11T15:00:13.442742Z",
     "start_time": "2023-10-11T15:00:10.953281Z"
    }
   },
   "outputs": [],
   "source": [
    "# Penalties\n",
    "df1['play_type'] = np.where(df1['desc'].str.find('false start')>= 0, 'penalty', df1['play_type'])\n",
    "df1['play_type'] = np.where(df1['desc'].str.find('delay of game')>= 0, 'penalty', df1['play_type'])\n",
    "df1['play_type'] = np.where((df1['desc'].str.find('penalty') >= 0) & (df1['desc'].str.find('neutral zone')>= 0), 'penalty', df1['play_type'])\n",
    "df1['play_type'] = np.where((df1['desc'].str.find('penalty')>= 0) & (df1['desc'].str.find('delay of kickoff')>= 0), 'penalty', df1['play_type'])\n",
    "df1['play_type'] = np.where((df1['play_type'] == 'no_play') & (df1['desc'].str.find('penalty')>= 0) & (df1['desc'].str.find('too many men')>= 0), 'penalty', df1['play_type'])\n",
    "df1['play_type'] = np.where((df1['play_type'] == 'no_play') & (df1['desc'].str.find('penalty')>= 0) & (df1['desc'].str.find('encroachment')>= 0), 'penalty', df1['play_type'])\n",
    "df1['play_type'] = np.where((df1['play_type'] == 'no_play') & (df1['desc'].str.find('penalty')>= 0) & (df1['desc'].str.find('12 on-field')>= 0), 'penalty', df1['play_type'])\n",
    "df1['play_type'] = np.where((df1['play_type'] == 'no_play') & (df1['desc'].str.find('penalty')>= 0) & (df1['desc'].str.find('unsportsmanlike')>= 0), 'penalty', df1['play_type'])\n",
    "df1['play_type'] = np.where((df1['play_type'] == 'no_play') & (df1['desc'].str.find('penalty')>= 0) & (df1['desc'].str.find('interference')>= 0), 'penalty', df1['play_type'])\n",
    "df1['play_type'] = np.where((df1['play_type'] == 'no_play') & (df1['desc'].str.find('penalty')>= 0) & (df1['desc'].str.find('holding')>= 0), 'penalty', df1['play_type'])\n",
    "df1['play_type'] = np.where((df1['play_type'] == 'no_play') & (df1['desc'].str.find('penalty')>= 0) & (df1['desc'].str.find('illegal')>= 0), 'penalty', df1['play_type'])\n",
    "df1['play_type'] = np.where((df1['play_type'] == 'no_play') & (df1['desc'].str.find('penalty')>= 0) & (df1['desc'].str.find('offside')>= 0), 'penalty', df1['play_type'])\n",
    "df1['play_type'] = np.where((df1['play_type'] == 'no_play') & (df1['desc'].str.find('penalty')>= 0) & (df1['desc'].str.find('roughness')>= 0), 'penalty', df1['play_type'])\n",
    "df1['play_type'] = np.where((df1['play_type'] == 'no_play') & (df1['desc'].str.find('penalty')>= 0) & (df1['desc'].str.find('chop block')>= 0), 'penalty', df1['play_type'])\n",
    "df1['play_type'] = np.where((df1['play_type'] == 'no_play') & (df1['desc'].str.find('penalty')>= 0) & (df1['desc'].str.find('tripping')>= 0), 'penalty', df1['play_type'])\n",
    "df1['play_type'] = np.where((df1['play_type'] == 'no_play') & (df1['desc'].str.find('penalty')>= 0) & (df1['desc'].str.find('roughing')>= 0), 'penalty', df1['play_type'])\n",
    "df1['play_type'] = np.where((df1['play_type'] == 'no_play') & (df1['desc'].str.find('penalty')>= 0) & (df1['desc'].str.find('face mask')>= 0), 'penalty', df1['play_type'])\n",
    "df1['play_type'] = np.where((df1['play_type'] == 'no_play') & (df1['desc'].str.find('penalty')>= 0) & (df1['desc'].str.find('personal foul')>= 0), 'penalty', df1['play_type'])\n",
    "df1['play_type'] = np.where((df1['play_type'] == 'no_play') & (df1['desc'].str.find('penalty')>= 0) & (df1['desc'].str.find('disqualification')>= 0), 'penalty', df1['play_type'])\n",
    "df1['play_type'] = np.where((df1['play_type'] == 'no_play') & (df1['desc'].str.find('penalty')>= 0) & (df1['desc'].str.find('taunting')>= 0), 'penalty', df1['play_type'])\n",
    "df1['play_type'] = np.where((df1['play_type'] == 'no_play') & (df1['desc'].str.find('penalty')>= 0) & (df1['desc'].str.find('intentional grounding')>= 0), 'penalty', df1['play_type'])\n",
    "df1['play_type'] = np.where((df1['desc'].str.find('penalty')>= 0) & (df1['desc'].str.find('play over the down')>= 0), 'penalty', df1['play_type'])\n",
    "\n",
    "# Replay reviews\n",
    "df1['play_type'] = np.where((df1['play_type'] == 'no_play') & (df1['desc'].str.find('replay was upheld')>= 0), 'replay_review', df1['play_type'])\n",
    "df1['play_type'] = np.where((df1['play_type'] == 'no_play') & (df1['desc'].str.find('replay assistant')>= 0), 'replay_review', df1['play_type'])\n",
    "\n",
    "# Timeouts\n",
    "df1['play_type'] = np.where((df1['desc'].str.find('timeout #')>= 0) & (df1['desc'].str.find('passer_jersey_number')>= 0) &  (df1['desc'].str.find('rusher_jersey_number')>= 0), 'timeout', df1['play_type'])\n",
    "df1['play_type'] = np.where((df1['desc'].str.find('timeout at')>= 0) & (df1['desc'].str.find('passer_jersey_number')>= 0) &  (df1['desc'].str.find('rusher_jersey_number')>= 0), 'timeout', df1['play_type'])\n",
    "\n",
    "# Clock runoff (no play)\n",
    "df1['play_type'] = np.where(df1['desc'].str.find('end of quarter due to 10 second clock run-off')>= 0, 'clock_runoff', df1['play_type'])\n",
    "\n",
    "# Replay down (no play)\n",
    "df1['play_type'] = np.where(df1['desc'].str.find('play over the down')>= 0, 'replay_down', df1['play_type'])\n",
    "df1['play_type'] = np.where(df1['desc'].str.find('play the down')>= 0, 'replay_down', df1['play_type'])"
   ]
  },
  {
   "cell_type": "code",
   "execution_count": 189,
   "id": "f1e4f8ea",
   "metadata": {
    "pycharm": {
     "name": "#%%\n"
    },
    "ExecuteTime": {
     "end_time": "2023-10-11T15:00:13.618108Z",
     "start_time": "2023-10-11T15:00:13.441149Z"
    }
   },
   "outputs": [],
   "source": [
    "df1['play_type_nfl'] = np.where(df1['play_type'] == 'run', 'RUSH',\n",
    "                                np.where(df1['play_type'] == 'penalty', 'PENALTY',\n",
    "                                         np.where(df1['play_type'] == 'extra_point', 'XP_KICK',\n",
    "                                                  np.where(df1['play_type'] == 'field_goal', 'FIELD_GOAL',\n",
    "                                                           np.where(df1['play_type'] == 'timeout', 'TIMEOUT',\n",
    "                                                                    np.where(df1['play_type'] == 'two_point', 'PAT2',\n",
    "                                                                             df1['play_type_nfl']))))))\n",
    "\n",
    "# Impute down property\n",
    "df1['down'] = np.where(df1['play_type'] == 'kickoff', 0,\n",
    "                       np.where(df1['play_type'] == 'extra_point', 0,\n",
    "                                np.where(df1['play_type'] == 'two_point', 0,\n",
    "                                         np.where(df1['play_type'] == 'injury',  df1['down'].shift(-1),\n",
    "                                                  np.where(df1['play_type'] == 'replay',  df1['down'].shift(-1),\n",
    "                                                           np.where(df1['play_type'] == 'timeout', df1['down'].shift(1),\n",
    "                                                                    np.where(df1['play_type'] == 'penalty', df1['down'].shift(1),\n",
    "                                                                             df1['down'])))))))\n",
    "\n",
    "# Remove kickoff from drive groupings\n",
    "df1['drive'] = np.where(df1['play_type'] == 'kickoff', np.nan, df1['drive'])\n",
    "\n",
    "# Offsetting penalties\n",
    "df1['offsetting_penalties'] = np.where((df1['desc'].str.find('offsetting') >= 0) & (df1['desc'].str.find('no play') >= 0), 1, 0)\n",
    "\n",
    "# Impute missing yards_gained\n",
    "df1['yards_gained'] = np.where(df1['offsetting_penalties'] == 1, 0, df1['yards_gained'])\n",
    "df1['yards_gained'] = np.where(df1['play_type'] == 'timeout', 0, df1['yards_gained'])\n",
    "df1['yards_gained'] = np.where((df1['play_type']=='penalty') & (df1['yards_gained']==np.nan),0,df1['yards_gained'])"
   ]
  },
  {
   "cell_type": "markdown",
   "source": [
    "## PLAY FILTERS"
   ],
   "metadata": {
    "collapsed": false
   },
   "id": "5f6a5227b92070a7"
  },
  {
   "cell_type": "code",
   "execution_count": 190,
   "id": "3c0054c0",
   "metadata": {
    "pycharm": {
     "name": "#%%\n"
    },
    "ExecuteTime": {
     "end_time": "2023-10-11T15:00:14.240715Z",
     "start_time": "2023-10-11T15:00:13.619055Z"
    }
   },
   "outputs": [
    {
     "data": {
      "text/plain": "(47494, 323)"
     },
     "execution_count": 190,
     "metadata": {},
     "output_type": "execute_result"
    }
   ],
   "source": [
    "df2 = df1.copy()\n",
    "\n",
    "df2.shape"
   ]
  },
  {
   "cell_type": "code",
   "execution_count": 191,
   "id": "638d9dc1",
   "metadata": {
    "pycharm": {
     "name": "#%%\n"
    },
    "ExecuteTime": {
     "end_time": "2023-10-11T15:00:14.312386Z",
     "start_time": "2023-10-11T15:00:14.237866Z"
    }
   },
   "outputs": [
    {
     "data": {
      "text/plain": "play_type_nfl\nPASS                            23896\nRUSH                            19172\nPENALTY                          2546\nSACK                             1748\nINTERCEPTION                      119\nFIELD_GOAL                          5\nUNSPECIFIED                         5\nFUMBLE_RECOVERED_BY_OPPONENT        3\nName: count, dtype: int64"
     },
     "execution_count": 191,
     "metadata": {},
     "output_type": "execute_result"
    }
   ],
   "source": [
    "counts = df2.play_type_nfl.value_counts(normalize=False)\n",
    "counts"
   ]
  },
  {
   "cell_type": "code",
   "execution_count": 192,
   "outputs": [
    {
     "data": {
      "text/plain": "play_type\npass           27097\nrun            17922\nqb_scramble     1347\npenalty         1113\npunt               7\nfield_goal         5\nqb_kneel           2\nqb_spike           1\nName: count, dtype: int64"
     },
     "execution_count": 192,
     "metadata": {},
     "output_type": "execute_result"
    }
   ],
   "source": [
    "counts = df2.play_type.value_counts(normalize=False, dropna=False)\n",
    "counts"
   ],
   "metadata": {
    "collapsed": false,
    "ExecuteTime": {
     "end_time": "2023-10-11T15:00:14.371817Z",
     "start_time": "2023-10-11T15:00:14.241909Z"
    }
   },
   "id": "78e0e8c7d8ae46bb"
  },
  {
   "cell_type": "code",
   "execution_count": 193,
   "outputs": [
    {
     "data": {
      "text/plain": "(46132, 323)"
     },
     "execution_count": 193,
     "metadata": {},
     "output_type": "execute_result"
    }
   ],
   "source": [
    "df2 = df2[~df2['play_type'].isin(['punt', 'qb_kneel', 'field_goal', 'qb_scramble', 'qb_spike'])] # retain penalty to capture previous penalty events\n",
    "\n",
    "df2.shape"
   ],
   "metadata": {
    "collapsed": false,
    "ExecuteTime": {
     "end_time": "2023-10-11T15:00:14.739812Z",
     "start_time": "2023-10-11T15:00:14.259986Z"
    }
   },
   "id": "94ab495ff75ed747"
  },
  {
   "cell_type": "code",
   "execution_count": 194,
   "outputs": [
    {
     "data": {
      "text/plain": "play_type\npass       27097\nrun        17922\npenalty     1113\nName: count, dtype: int64"
     },
     "execution_count": 194,
     "metadata": {},
     "output_type": "execute_result"
    }
   ],
   "source": [
    "counts = df2.play_type.value_counts(normalize=False, dropna=False)\n",
    "counts"
   ],
   "metadata": {
    "collapsed": false,
    "ExecuteTime": {
     "end_time": "2023-10-11T15:00:14.740258Z",
     "start_time": "2023-10-11T15:00:14.507231Z"
    }
   },
   "id": "152e4d3b"
  },
  {
   "cell_type": "markdown",
   "id": "5bc410cd",
   "metadata": {
    "pycharm": {
     "name": "#%% md\n"
    }
   },
   "source": [
    "## FEATURE ENGINEERING"
   ]
  },
  {
   "cell_type": "code",
   "execution_count": 195,
   "id": "ccf48419",
   "metadata": {
    "pycharm": {
     "name": "#%%\n"
    },
    "ExecuteTime": {
     "end_time": "2023-10-11T15:00:14.740365Z",
     "start_time": "2023-10-11T15:00:14.518218Z"
    }
   },
   "outputs": [],
   "source": [
    "# Game-play sequence\n",
    "df2['play_sequence_game'] = df2.groupby(['game_id'])['play_id'].cumcount() + 1\n",
    "\n",
    "# Game-play-drive sequence\n",
    "df2['play_sequence_series'] = df2.groupby(['game_id', 'drive']).cumcount() + 1\n",
    "\n",
    "# Code turnover on play\n",
    "df2['turnover'] = np.where((df2['fumble_lost'] == 1) | (df2['interception'] == 1), 1, 0)"
   ]
  },
  {
   "cell_type": "code",
   "execution_count": 196,
   "id": "b295629c",
   "metadata": {
    "pycharm": {
     "name": "#%%\n"
    },
    "ExecuteTime": {
     "end_time": "2023-10-11T15:00:15.384027Z",
     "start_time": "2023-10-11T15:00:14.598466Z"
    }
   },
   "outputs": [
    {
     "data": {
      "text/plain": "play_type_detail\npass_short     0.367272\nrun_inside     0.198322\nrun_outside    0.189803\npass_deep      0.162404\npass_sack      0.040037\npenalty        0.024040\npass           0.017753\nrun            0.000369\nName: proportion, dtype: float64"
     },
     "execution_count": 196,
     "metadata": {},
     "output_type": "execute_result"
    }
   ],
   "source": [
    "df2['play_type_detail'] = np.where((df2['play_type']=='run') & (df2['desc'].str.find('left end')>= 0), 'run_outside',\n",
    "                          np.where((df2['play_type']=='run') & (df2['desc'].str.find('right end')>= 0), 'run_outside',\n",
    "                          np.where((df2['play_type']=='run') & (df2['desc'].str.find('end around')>= 0), 'run_outside',\n",
    "                          np.where((df2['play_type']=='run') & (df2['desc'].str.find('left tackle')>= 0), 'run_outside',\n",
    "                          np.where((df2['play_type']=='run') & (df2['desc'].str.find('left guard')>= 0), 'run_inside',\n",
    "                          np.where((df2['play_type']=='run') & (df2['desc'].str.find('middle')>= 0), 'run_inside',\n",
    "                          np.where((df2['play_type']=='run') & (df2['desc'].str.find('right guard')>= 0), 'run_inside',\n",
    "                          np.where((df2['play_type']=='run') & (df2['desc'].str.find('right tackle')>= 0), 'run_outside',\n",
    "\n",
    "                          np.where(df2['pass_length']=='deep', 'pass_deep',\n",
    "                          np.where((df2['play_type']=='pass') & (df2['air_yards']>10), 'pass_deep',\n",
    "                          np.where((df2['play_type']=='pass') & (df2['desc'].str.find('pass deep')>= 0),'pass_deep',\n",
    "                          np.where((df2['play_type']=='pass') & (df2['desc'].str.find('complete deep')>= 0), 'pass_deep',\n",
    "\n",
    "                          np.where(df2['pass_length']=='short', 'pass_short',\n",
    "                          np.where((df2['play_type']=='pass') & (df2['air_yards']<= 10), 'pass_short',\n",
    "\n",
    "                          np.where((df2['play_type']=='pass') & (df2['desc'].str.find('sack')>= 0),'pass_sack',\n",
    "                          np.where((df2['play_type']=='pass') & (df2['air_yards']==np.nan), 'pass',\n",
    "\n",
    "                          np.where((df2['play_type']=='pass') & (df2['desc'].str.find('aborted')>= 0),'aborted',\n",
    "                          df2['play_type'])))))))))))))))))\n",
    "\n",
    "counts = df2.play_type_detail.value_counts(normalize=True)\n",
    "counts"
   ]
  },
  {
   "cell_type": "code",
   "execution_count": 197,
   "id": "528d5203",
   "metadata": {
    "pycharm": {
     "name": "#%%\n"
    },
    "ExecuteTime": {
     "end_time": "2023-10-11T15:00:15.391125Z",
     "start_time": "2023-10-11T15:00:15.257273Z"
    }
   },
   "outputs": [
    {
     "data": {
      "text/plain": "surface\ngrass    23143\nturf     22989\nName: count, dtype: int64"
     },
     "execution_count": 197,
     "metadata": {},
     "output_type": "execute_result"
    }
   ],
   "source": [
    "# Impute nan values to NULL\n",
    "df2['surface'] = np.where(df2['surface'] == '', np.nan, df2['surface'])\n",
    "\n",
    "# Map stadiums to new values\n",
    "stadium_map = {'Allegiant Stadium': 'grass',\n",
    "               'Azteca Stadium': 'grass',\n",
    "               'FedExField': 'grass',\n",
    "               'State Farm Stadium': 'grass',\n",
    "               'Mercedes-Benz Stadium': 'turf',\n",
    "               'M&T Bank Stadium': 'grass',\n",
    "               'Paycor Stadium': 'turf',\n",
    "               'MetLife Stadium':'turf',\n",
    "               'Highmark Stadium':'turf',\n",
    "               'Bank of America Stadium': 'grass',\n",
    "               'Soldier Field': 'grass',\n",
    "               'Raymond James Stadium': 'grass',\n",
    "               'Cleveland Browns Stadium': 'grass', \n",
    "               'Acrisure Stadium': 'grass',\n",
    "               'AT&T Stadium': 'turf',\n",
    "               'Wembley Stadium': 'grass',\n",
    "               'Empower Field at Mile High': 'grass', \n",
    "               'GEHA Field at Arrowhead Stadium': 'grass', \n",
    "               'Ford Field': 'turf',\n",
    "               'Tottenham Hotspur Stadium': 'turf',\n",
    "               'NRG Stadium': 'turf',\n",
    "               'Lucas Oil Stadium': 'turf',\n",
    "               'EverBank Stadium': 'grass',\n",
    "               \"Levi's Stadium\": 'grass',\n",
    "               'Lumen Field': 'turf',\n",
    "               'SoFi Stadium': 'turf', \n",
    "               'Nissan Stadium': 'turf',\n",
    "               'Gillette Stadium': 'turf',\n",
    "               'U.S. Bank Stadium': 'turf',\n",
    "               'Lincoln Financial Field': 'grass',\n",
    "               'Caesars Superdome': 'turf',\n",
    "               'Allianz Arena': 'turf',\n",
    "               }\n",
    "\n",
    "# Group surface types\n",
    "df2['surface'] = df2['stadium'].map(stadium_map).fillna(df2['surface'])\n",
    "\n",
    "df2.surface.value_counts(dropna=False)"
   ]
  },
  {
   "cell_type": "code",
   "execution_count": 198,
   "outputs": [],
   "source": [
    "# Formation properties\n",
    "df2['pass_formation'] = np.where(df2['desc'].str.find('pass formation') >= 0, 1, 0)\n",
    "df2['run_formation'] = np.where(df2['desc'].str.find('run formation') >= 0, 1, 0)"
   ],
   "metadata": {
    "collapsed": false,
    "ExecuteTime": {
     "end_time": "2023-10-11T15:00:15.709973Z",
     "start_time": "2023-10-11T15:00:15.311051Z"
    }
   },
   "id": "f47313e763360c26"
  },
  {
   "cell_type": "code",
   "execution_count": 199,
   "outputs": [
    {
     "data": {
      "text/plain": "array(['PISTOL', 'EMPTY', 'SHOTGUN', 'SINGLEBACK', nan, 'WILDCAT',\n       'I_FORM', 'JUMBO'], dtype=object)"
     },
     "execution_count": 199,
     "metadata": {},
     "output_type": "execute_result"
    }
   ],
   "source": [
    "df2.offense_formation.unique()"
   ],
   "metadata": {
    "collapsed": false,
    "ExecuteTime": {
     "end_time": "2023-10-11T15:00:15.710404Z",
     "start_time": "2023-10-11T15:00:15.459879Z"
    }
   },
   "id": "5681b892dd60b1e5"
  },
  {
   "cell_type": "code",
   "execution_count": 200,
   "outputs": [],
   "source": [
    "df2['offense_formation'] = df2['offense_formation'].str.strip().str.lower()\n",
    "\n",
    "# Impute missing offense_formation with pass formation and run formation\n",
    "df2['offense_formation'] = np.where((df2['offense_formation'].isnull()) & (df2['shotgun'] == 1),'shotgun', \n",
    "                                    np.where((df2['offense_formation'].isnull()) & (df2['pass_formation'] == 1),'empty',\n",
    "                                             np.where((df2['offense_formation'].isnull()) & (df2['run_formation'] == 1),'jumbo',\n",
    "                                                      np.where((df2['offense_formation'].isnull()) & (df2['offense_personnel'].str[0:4] == '6 OL'),'jumbo',\n",
    "                                                               np.where((df2['offense_formation'].isnull()) & (df2['offense_personnel'].str.find('3 TE') >0),'jumbo',\n",
    "                                                                        np.where((df2['offense_formation'].isnull()) & (df2['offense_personnel'].str.find('0 WR') >0),'jumbo',\n",
    "                                                                                 np.where((df2['offense_formation'].isnull()) & (df2['offense_personnel'].str.find('3 WR') >0), 'shotgun',\n",
    "                                                                                          np.where((df2['offense_formation'].isnull()) & (df2['offense_personnel'].str[0:4] == '2 RB'), 'shotgun',\n",
    "                                                                                                   np.where((df2['offense_formation'].isnull()) & (df2['offense_personnel'].str[0:4] == '1 RB'), 'singleback',\n",
    "                                                                                                            np.where(df2['offense_formation'].isnull(), 'shotgun',\n",
    "                                                                                                                     df2['offense_formation']))))))))))\n"
   ],
   "metadata": {
    "collapsed": false,
    "ExecuteTime": {
     "end_time": "2023-10-11T15:00:16.028196Z",
     "start_time": "2023-10-11T15:00:15.520151Z"
    }
   },
   "id": "42d86bfc093b4d84"
  },
  {
   "cell_type": "code",
   "execution_count": 201,
   "outputs": [
    {
     "data": {
      "text/plain": "offense_formation\nshotgun       26322\nsingleback    10690\nempty          3597\ni_form         2707\npistol         2028\njumbo           505\nwildcat         283\nName: count, dtype: int64"
     },
     "execution_count": 201,
     "metadata": {},
     "output_type": "execute_result"
    }
   ],
   "source": [
    "df2.offense_formation.value_counts(dropna=False)"
   ],
   "metadata": {
    "collapsed": false,
    "ExecuteTime": {
     "end_time": "2023-10-11T15:00:16.092955Z",
     "start_time": "2023-10-11T15:00:15.792291Z"
    }
   },
   "id": "6489bbaeba004ac0"
  },
  {
   "cell_type": "code",
   "execution_count": 202,
   "id": "06c444c5",
   "metadata": {
    "pycharm": {
     "name": "#%%\n"
    },
    "ExecuteTime": {
     "end_time": "2023-10-11T15:00:16.095266Z",
     "start_time": "2023-10-11T15:00:15.801694Z"
    }
   },
   "outputs": [],
   "source": [
    "# Offsetting penalties\n",
    "df2['offsetting_penalties'] = np.where((df2['desc'].str.find('offsetting') >= 0) & (df2['desc'].str.find('no play') >= 0), 1, 0)\n",
    "\n",
    "# Impute missing yards_gained\n",
    "df2['yards_gained'] = np.where(df2['offsetting_penalties'] == 1, 0, df2['yards_gained'])"
   ]
  },
  {
   "cell_type": "code",
   "execution_count": 203,
   "id": "2b58dfba",
   "metadata": {
    "pycharm": {
     "name": "#%%\n"
    },
    "ExecuteTime": {
     "end_time": "2023-10-11T15:00:16.095469Z",
     "start_time": "2023-10-11T15:00:15.902931Z"
    }
   },
   "outputs": [],
   "source": [
    "# Code yardline zones\n",
    "df2['dtg_99to95'] = np.where(df2['yardline_100'] >= 95, 1, 0)\n",
    "df2['dtg_94to90'] = np.where((df2['yardline_100'] <= 94) & (df2['yardline_100'] >= 90), 1, 0)\n",
    "df2['dtg_40to31'] = np.where((df2['yardline_100'] <= 40) & (df2['yardline_100'] >= 31), 1, 0)\n",
    "df2['dtg_30to21'] = np.where((df2['yardline_100'] <= 30) & (df2['yardline_100'] >= 21), 1, 0)\n",
    "df2['dtg_20to11'] = np.where((df2['yardline_100'] <= 20) & (df2['yardline_100'] >= 11), 1, 0)\n",
    "df2['dtg_10to06'] = np.where((df2['yardline_100'] <= 10) & (df2['yardline_100'] >= 6), 1, 0)\n",
    "df2['dtg_05to01'] = np.where(df2['yardline_100'] <= 5, 1, 0)"
   ]
  },
  {
   "cell_type": "code",
   "execution_count": 204,
   "id": "6a1e2887",
   "metadata": {
    "pycharm": {
     "name": "#%%\n"
    },
    "ExecuteTime": {
     "end_time": "2023-10-11T15:00:18.852678Z",
     "start_time": "2023-10-11T15:00:15.936521Z"
    }
   },
   "outputs": [],
   "source": [
    "# Code big gains on previous run plays (>= 15 yards)\n",
    "df2['big_play_pass'] = np.where((df2['play_type']=='pass') & (df2['yards_gained']>=15) & (df2['turnover']==0), 1, 0)\n",
    "\n",
    "df2['prev1_big_play_pass'] = df2['big_play_pass'].shift(1).where(df2['drive'].shift(1) == df2['drive'], 0)\n",
    "df2['prev2_big_play_pass'] = df2['big_play_pass'].shift(2).where(df2['drive'].shift(2) == df2['drive'], 0)\n",
    "df2['prev3_big_play_pass'] = df2['big_play_pass'].shift(3).where(df2['drive'].shift(2) == df2['drive'], 0)\n",
    "\n",
    "# Calculate the percent of play classification within prior plays of current drive\n",
    "df2['drive_big_play_pass_pcnt'] = (df2.groupby(['game_id', 'drive'])['big_play_pass'].transform(lambda x: x.rolling(window=50, min_periods=1, closed='left').sum())/df2['play_sequence_series'] - 1).fillna(0)"
   ]
  },
  {
   "cell_type": "code",
   "execution_count": 205,
   "id": "de6800cd",
   "metadata": {
    "pycharm": {
     "name": "#%%\n"
    },
    "ExecuteTime": {
     "end_time": "2023-10-11T15:00:21.501924Z",
     "start_time": "2023-10-11T15:00:18.862285Z"
    }
   },
   "outputs": [],
   "source": [
    "# Code big gains on previous run plays (>= 7 yards)\n",
    "df2['big_play_run'] = np.where((df2['play_type']=='run') & (df2['yards_gained']>=7) & (df2['turnover']==0), 1, 0)\n",
    "\n",
    "df2['prev1_big_play_run'] = df2['big_play_run'].shift(1).where(df2['drive'].shift(1) == df2['drive'], 0)\n",
    "df2['prev2_big_play_run'] = df2['big_play_run'].shift(2).where(df2['drive'].shift(2) == df2['drive'], 0)\n",
    "df2['prev3_big_play_run'] = df2['big_play_run'].shift(3).where(df2['drive'].shift(2) == df2['drive'], 0)\n",
    "\n",
    "# Calculate the percent of play classification within prior plays of current drive\n",
    "df2['drive_big_play_run_pcnt'] = (df2.groupby(['game_id', 'drive'])['big_play_run'].transform(lambda x: x.rolling(window=50, min_periods=1, closed='left').sum())/df2['play_sequence_series'] - 1).fillna(0)"
   ]
  },
  {
   "cell_type": "code",
   "execution_count": 206,
   "id": "0c88d03d",
   "metadata": {
    "pycharm": {
     "name": "#%%\n"
    },
    "ExecuteTime": {
     "end_time": "2023-10-11T15:00:21.579837Z",
     "start_time": "2023-10-11T15:00:21.509752Z"
    }
   },
   "outputs": [],
   "source": [
    "# Code negative run on previous plays\n",
    "df2['negative_pass'] = np.where((df2['play_type']=='pass') & (df2['yards_gained']<0) & (df2['turnover']==0), 1, 0)\n",
    "\n",
    "df2['prev1_negative_pass'] = df2['negative_pass'].shift(1).where(df2['drive'].shift(1) == df2['drive'], 0)\n",
    "df2['prev2_negative_pass'] = df2['negative_pass'].shift(2).where(df2['drive'].shift(2) == df2['drive'], 0)\n",
    "df2['prev3_negative_pass'] = df2['negative_pass'].shift(3).where(df2['drive'].shift(2) == df2['drive'], 0)"
   ]
  },
  {
   "cell_type": "code",
   "execution_count": 207,
   "id": "a792fe83",
   "metadata": {
    "pycharm": {
     "name": "#%%\n"
    },
    "ExecuteTime": {
     "end_time": "2023-10-11T15:00:21.580339Z",
     "start_time": "2023-10-11T15:00:21.524619Z"
    }
   },
   "outputs": [],
   "source": [
    "# Code negative run on previous plays\n",
    "df2['negative_run'] = np.where((df2['play_type']=='run') & (df2['yards_gained'] < 0) & (df2['turnover']==0), 1, 0)\n",
    "\n",
    "df2['prev1_negative_run'] = df2['negative_run'].shift(1).where(df2['drive'].shift(1) == df2['drive'], 0)\n",
    "df2['prev2_negative_run'] = df2['negative_run'].shift(2).where(df2['drive'].shift(2) == df2['drive'], 0)\n",
    "df2['prev3_negative_run'] = df2['negative_run'].shift(3).where(df2['drive'].shift(2) == df2['drive'], 0)"
   ]
  },
  {
   "cell_type": "code",
   "execution_count": 208,
   "id": "db89426b",
   "metadata": {
    "pycharm": {
     "name": "#%%\n"
    },
    "ExecuteTime": {
     "end_time": "2023-10-11T15:00:21.872199Z",
     "start_time": "2023-10-11T15:00:21.551712Z"
    }
   },
   "outputs": [],
   "source": [
    "# Code the play_type on previous plays\n",
    "df2['play_type_prev1'] = df2['play_type'].shift(1).where(df2['drive'].shift(1) == df2['drive'], '')\n",
    "df2['play_type_prev2'] = df2['play_type'].shift(2).where(df2['drive'].shift(2) == df2['drive'], '')\n",
    "df2['play_type_prev3'] = df2['play_type'].shift(3).where(df2['drive'].shift(3) == df2['drive'], '')\n",
    "\n",
    "# Code binary penalty indicator on previous plays\n",
    "df2['penalty_team_prev1'] = df2['penalty_team'].shift(1).where(df2['drive'].shift(1) == df2['drive'], '')\n",
    "df2['penalty_team_prev2'] = df2['penalty_team'].shift(2).where(df2['drive'].shift(2) == df2['drive'], '')\n",
    "df2['penalty_team_prev3'] = df2['penalty_team'].shift(3).where(df2['drive'].shift(3) == df2['drive'], '')\n",
    "\n",
    "##########\n",
    "df2['prev1_play_off_penalty'] = np.where((df2['play_type_prev1'] == 'penalty') & (df2['penalty_team_prev1'] == df2['posteam']), 1, 0)\n",
    "df2['prev1_play_def_penalty'] = np.where((df2['play_type_prev1'] == 'penalty') & (df2['penalty_team_prev1'] == df2['defteam']), 1, 0)\n",
    "\n",
    "##########\n",
    "df2['prev2_play_off_penalty'] = np.where((df2['play_type_prev2'] == 'penalty') & (df2['penalty_team_prev2'] == df2['posteam']), 1, 0)\n",
    "df2['prev2_play_def_penalty'] = np.where((df2['play_type_prev2'] == 'penalty') & (df2['penalty_team_prev2'] == df2['defteam']), 1, 0)\n",
    "\n",
    "##########\n",
    "df2['prev3_play_off_penalty'] = np.where((df2['play_type_prev3'] == 'penalty') & (df2['penalty_team_prev3'] == df2['posteam']), 1, 0)\n",
    "df2['prev3_play_def_penalty'] = np.where((df2['play_type_prev3'] == 'penalty') & (df2['penalty_team_prev3'] == df2['defteam']), 1, 0)\n",
    "\n",
    "#########\n",
    "df2.drop(['play_type_prev1','play_type_prev2','play_type_prev3','penalty_team_prev1','penalty_team_prev2','penalty_team_prev3'], axis=1, inplace=True)"
   ]
  },
  {
   "cell_type": "code",
   "execution_count": 209,
   "id": "ee8b6b58",
   "metadata": {
    "pycharm": {
     "name": "#%%\n"
    },
    "ExecuteTime": {
     "end_time": "2023-10-11T15:00:22.065420Z",
     "start_time": "2023-10-11T15:00:21.813521Z"
    }
   },
   "outputs": [],
   "source": [
    "# Code the play_type_detail on previous plays\n",
    "df2['play_type_detail_prev1'] = df2['play_type_detail'].shift(1).where(df2['drive'].shift(1) == df2['drive'], '')\n",
    "df2['play_type_detail_prev2'] = df2['play_type_detail'].shift(2).where(df2['drive'].shift(2) == df2['drive'], '')\n",
    "df2['play_type_detail_prev3'] = df2['play_type_detail'].shift(3).where(df2['drive'].shift(3) == df2['drive'], '')\n",
    "\n",
    "df2['prev1_play_run_outside'] = np.where(df2['play_type_detail_prev1'] == 'run_outside', 1, 0)\n",
    "df2['prev1_play_run_inside'] = np.where(df2['play_type_detail_prev1'] == 'run_inside', 1, 0)\n",
    "df2['prev1_play_pass_deep'] = np.where(df2['play_type_detail_prev1'] == 'pass_deep', 1, 0)\n",
    "df2['prev1_play_pass_short'] = np.where(df2['play_type_detail_prev1'] == 'pass_short', 1, 0)\n",
    "\n",
    "df2['prev2_play_run_outside'] = np.where(df2['play_type_detail_prev2'] == 'run_outside', 1, 0)\n",
    "df2['prev2_play_run_inside'] = np.where(df2['play_type_detail_prev2'] == 'run_inside', 1, 0)\n",
    "df2['prev2_play_pass_deep'] = np.where(df2['play_type_detail_prev2'] == 'pass_deep', 1, 0)\n",
    "df2['prev2_play_pass_short'] = np.where(df2['play_type_detail_prev2'] == 'pass_short', 1, 0)\n",
    "\n",
    "df2['prev3_play_run_outside'] = np.where(df2['play_type_detail_prev3'] == 'run_outside', 1, 0)\n",
    "df2['prev3_play_run_inside'] = np.where(df2['play_type_detail_prev3'] == 'run_inside', 1, 0)\n",
    "df2['prev3_play_pass_deep'] = np.where(df2['play_type_detail_prev3'] == 'pass_deep', 1, 0)\n",
    "df2['prev3_play_pass_short'] = np.where(df2['play_type_detail_prev3'] == 'pass_short', 1, 0)\n",
    "\n",
    "df2.drop(['play_type_detail_prev1','play_type_detail_prev2','play_type_detail_prev3'], axis=1, inplace=True)"
   ]
  },
  {
   "cell_type": "code",
   "execution_count": 210,
   "id": "0e834398",
   "metadata": {
    "pycharm": {
     "name": "#%%\n"
    },
    "ExecuteTime": {
     "end_time": "2023-10-11T15:00:24.645601Z",
     "start_time": "2023-10-11T15:00:22.048989Z"
    }
   },
   "outputs": [],
   "source": [
    "# Code incomplete passes on previous plays\n",
    "df2['prev1_incomplete_pass'] = df2['incomplete_pass'].shift(1).where(df2['drive'].shift(1) == df2['drive'], 0)\n",
    "df2['prev2_incomplete_pass'] = df2['incomplete_pass'].shift(2).where(df2['drive'].shift(2) == df2['drive'], 0)\n",
    "df2['prev3_incomplete_pass'] = df2['incomplete_pass'].shift(3).where(df2['drive'].shift(2) == df2['drive'], 0)\n",
    "\n",
    "df2['prev1_incomplete_pass'].fillna(0, inplace = True)\n",
    "df2['prev2_incomplete_pass'].fillna(0, inplace = True)\n",
    "df2['prev3_incomplete_pass'].fillna(0, inplace = True)\n",
    "\n",
    "# Calculate the percent of play classification within prior plays of current drive\n",
    "df2['drive_incomplete_pass_pcnt'] = (df2.groupby(['game_id', 'drive'])['incomplete_pass'].transform(lambda x: x.rolling(window=50, min_periods=1, closed='left').sum())/df2['play_sequence_series'] - 1).fillna(0)"
   ]
  },
  {
   "cell_type": "code",
   "execution_count": 211,
   "id": "499ece7b",
   "metadata": {
    "pycharm": {
     "name": "#%%\n"
    },
    "ExecuteTime": {
     "end_time": "2023-10-11T15:00:24.661634Z",
     "start_time": "2023-10-11T15:00:24.647341Z"
    }
   },
   "outputs": [],
   "source": [
    "# Code yards on previous plays\n",
    "df2['prev1_yards_gained'] = df2['yards_gained'].shift(1).where(df2['drive'].shift(1) == df2['drive'], 0)\n",
    "df2['prev2_yards_gained'] = df2['yards_gained'].shift(2).where(df2['drive'].shift(2) == df2['drive'], 0)\n",
    "df2['prev3_yards_gained'] = df2['yards_gained'].shift(3).where(df2['drive'].shift(2) == df2['drive'], 0)\n",
    "\n",
    "df2['prev1_yards_gained'].fillna(0, inplace = True)\n",
    "df2['prev2_yards_gained'].fillna(0, inplace = True)\n",
    "df2['prev3_yards_gained'].fillna(0, inplace = True)"
   ]
  },
  {
   "cell_type": "code",
   "execution_count": 212,
   "id": "3d305698",
   "metadata": {
    "pycharm": {
     "name": "#%%\n"
    },
    "ExecuteTime": {
     "end_time": "2023-10-11T15:00:24.772122Z",
     "start_time": "2023-10-11T15:00:24.660953Z"
    }
   },
   "outputs": [],
   "source": [
    "# Code win probability of previous plays\n",
    "df2['prev1_wpa'] = df2['wpa'].shift(1).where(df2['drive'].shift(1) == df2['drive'], 0)\n",
    "df2['prev2_wpa'] = df2['wpa'].shift(2).where(df2['drive'].shift(2) == df2['drive'], 0)\n",
    "df2['prev3_wpa'] = df2['wpa'].shift(3).where(df2['drive'].shift(2) == df2['drive'], 0)\n",
    "\n",
    "df2['prev1_wpa'].fillna(0, inplace = True)\n",
    "df2['prev2_wpa'].fillna(0, inplace = True)\n",
    "df2['prev3_wpa'].fillna(0, inplace = True)"
   ]
  },
  {
   "cell_type": "code",
   "execution_count": 213,
   "id": "ebaddd5d",
   "metadata": {
    "pycharm": {
     "name": "#%%\n"
    },
    "ExecuteTime": {
     "end_time": "2023-10-11T15:00:27.403096Z",
     "start_time": "2023-10-11T15:00:24.675722Z"
    }
   },
   "outputs": [],
   "source": [
    "# Code shotgun formation of previous plays\n",
    "df2['prev1_shotgun'] = df2['shotgun'].shift(1).where(df2['drive'].shift(1) == df2['drive'], 0)\n",
    "df2['prev2_shotgun'] = df2['shotgun'].shift(2).where(df2['drive'].shift(2) == df2['drive'], 0)\n",
    "df2['prev3_shotgun'] = df2['shotgun'].shift(3).where(df2['drive'].shift(2) == df2['drive'], 0)\n",
    "\n",
    "df2['prev1_shotgun'].fillna(0, inplace = True)\n",
    "df2['prev2_shotgun'].fillna(0, inplace = True)\n",
    "df2['prev3_shotgun'].fillna(0, inplace = True)\n",
    "\n",
    "# Calculate the percent of play classification within prior plays of current drive\n",
    "df2['drive_shotgun_pcnt'] = (df2.groupby(['game_id', 'drive'])['shotgun'].transform(lambda x: x.rolling(window=50, min_periods=1, closed='left').sum())/df2['play_sequence_series'] - 1).fillna(0)"
   ]
  },
  {
   "cell_type": "code",
   "execution_count": 214,
   "id": "11667503",
   "metadata": {
    "pycharm": {
     "name": "#%%\n"
    },
    "ExecuteTime": {
     "end_time": "2023-10-11T15:00:30.591977Z",
     "start_time": "2023-10-11T15:00:27.409959Z"
    }
   },
   "outputs": [],
   "source": [
    "# Code qb_hit on previous plays\n",
    "df2['prev1_qb_hit'] = df2['qb_hit'].shift(1).where(df2['drive'].shift(1) == df2['drive'], 0)\n",
    "df2['prev2_qb_hit'] = df2['qb_hit'].shift(2).where(df2['drive'].shift(2) == df2['drive'], 0)\n",
    "df2['prev3_qb_hit'] = df2['qb_hit'].shift(3).where(df2['drive'].shift(2) == df2['drive'], 0)\n",
    "\n",
    "df2['prev1_qb_hit'].fillna(0, inplace = True)\n",
    "df2['prev2_qb_hit'].fillna(0, inplace = True)\n",
    "df2['prev3_qb_hit'].fillna(0, inplace = True)\n",
    "\n",
    "# Calculate the percent of play classification within prior plays of current drive\n",
    "df2['drive_qb_hit_pcnt'] = (df2.groupby(['game_id', 'drive'])['qb_hit'].transform(lambda x: x.rolling(window=50, min_periods=1, closed='left').sum())/df2['play_sequence_series'] - 1).fillna(0)"
   ]
  },
  {
   "cell_type": "code",
   "execution_count": 215,
   "id": "a8545b7c",
   "metadata": {
    "pycharm": {
     "name": "#%%\n"
    },
    "ExecuteTime": {
     "end_time": "2023-10-11T15:00:33.409711Z",
     "start_time": "2023-10-11T15:00:30.599436Z"
    }
   },
   "outputs": [],
   "source": [
    "# Code no huddle of previous plays\n",
    "df2['prev1_no_huddle'] = df2['no_huddle'].shift(1).where(df2['drive'].shift(1) == df2['drive'], 0)\n",
    "df2['prev2_no_huddle'] = df2['no_huddle'].shift(2).where(df2['drive'].shift(2) == df2['drive'], 0)\n",
    "df2['prev3_no_huddle'] = df2['no_huddle'].shift(3).where(df2['drive'].shift(2) == df2['drive'], 0)\n",
    "\n",
    "df2['prev1_no_huddle'].fillna(0, inplace = True)\n",
    "df2['prev2_no_huddle'].fillna(0, inplace = True)\n",
    "df2['prev3_no_huddle'].fillna(0, inplace = True)\n",
    "\n",
    "# Calculate the percent of play classification within prior plays of current drive\n",
    "df2['drive_no_huddle_pcnt'] = (df2.groupby(['game_id', 'drive'])['no_huddle'].transform(lambda x: x.rolling(window=50, min_periods=1, closed='left').sum())/df2['play_sequence_series'] - 1).fillna(0)"
   ]
  },
  {
   "cell_type": "code",
   "execution_count": 216,
   "id": "54249c62",
   "metadata": {
    "pycharm": {
     "name": "#%%\n"
    },
    "ExecuteTime": {
     "end_time": "2023-10-11T15:00:33.477315Z",
     "start_time": "2023-10-11T15:00:33.416596Z"
    }
   },
   "outputs": [],
   "source": [
    "# Code first down achieved on a previous play\n",
    "df2['prev1_first_down_pass'] = df2['first_down_pass'].shift(1).where(df2['drive'].shift(1) == df2['drive'], 0)\n",
    "df2['prev2_first_down_pass'] = df2['first_down_pass'].shift(2).where(df2['drive'].shift(2) == df2['drive'], 0)\n",
    "df2['prev3_first_down_pass'] = df2['first_down_pass'].shift(3).where(df2['drive'].shift(2) == df2['drive'], 0)\n",
    "\n",
    "df2['prev1_first_down_pass'].fillna(0, inplace = True)\n",
    "df2['prev2_first_down_pass'].fillna(0, inplace = True)\n",
    "df2['prev3_first_down_pass'].fillna(0, inplace = True)"
   ]
  },
  {
   "cell_type": "code",
   "execution_count": 217,
   "id": "18866cfc",
   "metadata": {
    "pycharm": {
     "name": "#%%\n"
    },
    "ExecuteTime": {
     "end_time": "2023-10-11T15:00:33.477938Z",
     "start_time": "2023-10-11T15:00:33.437209Z"
    }
   },
   "outputs": [],
   "source": [
    "# Code first down achieved on a previous play\n",
    "df2['prev1_first_down_run'] = df2['first_down_rush'].shift(1).where(df2['drive'].shift(1) == df2['drive'], 0)\n",
    "df2['prev2_first_down_run'] = df2['first_down_rush'].shift(2).where(df2['drive'].shift(2) == df2['drive'], 0)\n",
    "df2['prev3_first_down_run'] = df2['first_down_rush'].shift(3).where(df2['drive'].shift(2) == df2['drive'], 0)\n",
    "\n",
    "df2['prev1_first_down_run'].fillna(0, inplace = True)\n",
    "df2['prev2_first_down_run'].fillna(0, inplace = True)\n",
    "df2['prev3_first_down_run'].fillna(0, inplace = True)"
   ]
  },
  {
   "cell_type": "code",
   "execution_count": 218,
   "id": "d596bfa2",
   "metadata": {
    "pycharm": {
     "name": "#%%\n"
    },
    "ExecuteTime": {
     "end_time": "2023-10-11T15:00:36.240773Z",
     "start_time": "2023-10-11T15:00:33.459625Z"
    }
   },
   "outputs": [],
   "source": [
    "# Code play efficiency (1st down >= 4, 2nd down half the distance, 3rd and 4th down = first down)\n",
    "df2['effct_play'] = np.where((df2['down']==1) & (df2['yards_gained'] >= 4) & (df2['turnover'] == 0), 1,\n",
    "                    np.where((df2['down']==2) & (df2['yards_gained'] >= (df2['ydstogo']/2)) & (df2['turnover'] == 0), 1,\n",
    "                    np.where((df2['down']==3) & (df2['yards_gained'] >= df2['ydstogo']) & (df2['turnover'] == 0), 1,\n",
    "                    np.where((df2['down']==4) & (df2['yards_gained'] >= df2['ydstogo']) & (df2['turnover'] == 0), 1, 0))))\n",
    "\n",
    "df2['prev1_effct_play'] = df2['effct_play'].shift(1).where(df2['drive'].shift(1) == df2['drive'], 0)\n",
    "df2['prev2_effct_play'] = df2['effct_play'].shift(2).where(df2['drive'].shift(2) == df2['drive'], 0)\n",
    "df2['prev3_effct_play'] = df2['effct_play'].shift(3).where(df2['drive'].shift(3) == df2['drive'], 0)\n",
    "\n",
    "# Calculate the percent of play classification within prior plays of current drive\n",
    "df2['drive_effct_play_pcnt'] = (df2.groupby(['game_id', 'drive'])['effct_play'].transform(lambda x: x.rolling(window=50, min_periods=1, closed='left').sum())/df2['play_sequence_series'] - 1).fillna(0)"
   ]
  },
  {
   "cell_type": "code",
   "execution_count": 219,
   "id": "ae362f7c",
   "metadata": {
    "pycharm": {
     "name": "#%%\n"
    },
    "ExecuteTime": {
     "end_time": "2023-10-11T15:00:36.258290Z",
     "start_time": "2023-10-11T15:00:36.244441Z"
    }
   },
   "outputs": [],
   "source": [
    "# Code downs_remaining\n",
    "df2['remaining_downs'] = np.where(df2['down'] == 1, 3, \n",
    "                         np.where(df2['down'] == 2, 2,\n",
    "                         np.where(df2['down'] == 3, 1,\n",
    "                         np.where(df2['down'] == 4, 1, 1))))\n",
    "\n",
    "# Code yards_per_down remaining\n",
    "df2['remaining_yards_per_down'] = df2['ydstogo'] / df2['remaining_downs']"
   ]
  },
  {
   "cell_type": "code",
   "execution_count": 220,
   "id": "46fc0074",
   "metadata": {
    "pycharm": {
     "name": "#%%\n"
    },
    "ExecuteTime": {
     "end_time": "2023-10-11T15:00:36.315366Z",
     "start_time": "2023-10-11T15:00:36.251795Z"
    }
   },
   "outputs": [],
   "source": [
    "df2['game_half'] = np.where(df2['game_half'] == 'Half1', 1, np.where(df2['game_half'] == 'Half2', 2, 3))"
   ]
  },
  {
   "cell_type": "code",
   "execution_count": 221,
   "outputs": [
    {
     "data": {
      "text/plain": "array(['KICKOFF', 'PUNT', 'FUMBLE', 'DOWNS', 'INTERCEPTION', 'MISSED_FG',\n       'BLOCKED_FG_DOWNS', 'BLOCKED_PUNT', 'MUFFED_PUNT',\n       'MUFFED_KICKOFF', 'BLOCKED_FG', 'BLOCKED_FG,_DOWNS', 'ONSIDE_KICK',\n       'BLOCKED_PUNT_DOWNS'], dtype=object)"
     },
     "execution_count": 221,
     "metadata": {},
     "output_type": "execute_result"
    }
   ],
   "source": [
    "df2.drive_start_transition.unique()"
   ],
   "metadata": {
    "collapsed": false,
    "ExecuteTime": {
     "end_time": "2023-10-11T15:00:36.315762Z",
     "start_time": "2023-10-11T15:00:36.267602Z"
    }
   },
   "id": "aee914dfeae3a959"
  },
  {
   "cell_type": "code",
   "execution_count": 222,
   "id": "0f106484",
   "metadata": {
    "pycharm": {
     "name": "#%%\n"
    },
    "ExecuteTime": {
     "end_time": "2023-10-11T15:00:36.567246Z",
     "start_time": "2023-10-11T15:00:36.398186Z"
    }
   },
   "outputs": [
    {
     "data": {
      "text/plain": "array(['transfer_poss', 'sudden_change'], dtype=object)"
     },
     "execution_count": 222,
     "metadata": {},
     "output_type": "execute_result"
    }
   ],
   "source": [
    "df2['drive_start_transition'] = df2['drive_start_transition'].str.strip().str.upper()\n",
    "\n",
    "# Modify drive start category\n",
    "df2['drive_start'] = np.where(df2['drive_start_transition'] == 'INTERCEPTION', 'sudden_change',\n",
    "                     np.where(df2['drive_start_transition'] == 'FUMBLE', 'sudden_change',\n",
    "                     np.where(df2['drive_start_transition'] == 'MUFFED_PUNT', 'sudden_change',\n",
    "                     np.where(df2['drive_start_transition'] == 'ONSIDE_KICK', 'sudden_change',\n",
    "                     np.where(df2['drive_start_transition'] == 'BLOCKED_FG', 'sudden_change',\n",
    "                     np.where(df2['drive_start_transition'] == 'BLOCKED_PUNT', 'sudden_change',\n",
    "                     np.where(df2['drive_start_transition'] == 'BLOCKED_FG_DOWNS', 'sudden_change',\n",
    "                     np.where(df2['drive_start_transition'] == 'BLOCKED_FG,_DOWNS', 'sudden_change',\n",
    "                     np.where(df2['drive_start_transition'] == 'BLOCKED_PUNT_DOWNS', 'sudden_change',\n",
    "                     np.where(df2['drive_start_transition'] == 'MUFFED_KICKOFF', 'sudden_change',\n",
    "                     np.where(df2['drive_start_transition'] == 'OWN_KICKOFF', 'sudden_change',\n",
    "                     np.where(df2['drive_start_transition'] == 'DOWNS', 'sudden_change',\n",
    "                     np.where(df2['drive_start_transition'] == 'MISSED_FG', 'transfer_poss',\n",
    "                     np.where(df2['drive_start_transition'] == 'KICKOFF', 'transfer_poss',\n",
    "                     np.where(df2['drive_start_transition'] == 'PUNT', 'transfer_poss',\n",
    "                     df2['drive_start_transition'])))))))))))))))\n",
    "\n",
    "df2['drive_start'] = df2['drive_start'].str.strip().str.lower()\n",
    "\n",
    "df2['drive_start'].fillna('NULL', inplace=True)\n",
    "\n",
    "df2.drive_start.unique()"
   ]
  },
  {
   "cell_type": "code",
   "execution_count": 223,
   "id": "acc2c710",
   "metadata": {
    "pycharm": {
     "name": "#%%\n"
    },
    "ExecuteTime": {
     "end_time": "2023-10-11T15:00:36.612105Z",
     "start_time": "2023-10-11T15:00:36.441828Z"
    }
   },
   "outputs": [],
   "source": [
    "df2['two_min_warning'] = np.where(df2['half_seconds_remaining'] <= 120, 1, 0)"
   ]
  },
  {
   "cell_type": "code",
   "execution_count": 224,
   "id": "ff49edde",
   "metadata": {
    "pycharm": {
     "name": "#%%\n"
    },
    "ExecuteTime": {
     "end_time": "2023-10-11T15:00:36.612640Z",
     "start_time": "2023-10-11T15:00:36.448896Z"
    }
   },
   "outputs": [],
   "source": [
    "df2['ep_sec_ratio'] = (df2['ep'] / (df2['half_seconds_remaining'] + 1 ))"
   ]
  },
  {
   "cell_type": "code",
   "execution_count": 225,
   "outputs": [],
   "source": [
    "df2['posteam_season'] = df2['posteam'] + '_' + df2['season'].astype(str)"
   ],
   "metadata": {
    "collapsed": false,
    "ExecuteTime": {
     "end_time": "2023-10-11T15:00:36.613132Z",
     "start_time": "2023-10-11T15:00:36.492343Z"
    }
   },
   "id": "84940bfa33c85d70"
  },
  {
   "cell_type": "raw",
   "source": [
    "# Code possession team days-rest\n",
    "df2['posteam_rest'] = np.where(df2['posteam']==df2['home_team'], df2['home_rest'],\n",
    "                      np.where(df2['posteam']==df2['away_team'], df2['away_rest'], 0))"
   ],
   "metadata": {
    "collapsed": false
   },
   "id": "f54354d31e921896"
  },
  {
   "cell_type": "raw",
   "source": [
    "# Code defensive team days-rest\n",
    "df2['defteam_rest'] = np.where(df2['defteam']==df2['home_team'], df2['home_rest'],\n",
    "                      np.where(df2['defteam']==df2['away_team'], df2['away_rest'], 0))"
   ],
   "metadata": {
    "collapsed": false
   },
   "id": "9f0101c136a59a4f"
  },
  {
   "cell_type": "raw",
   "source": [
    "# Code possession team days-rest\n",
    "df2['posteam_rest'] = np.where(df2['posteam']==df2['home_team'], df2['home_rest'],\n",
    "                      np.where(df2['posteam']==df2['away_team'], df2['away_rest'], 0))"
   ],
   "metadata": {
    "collapsed": false
   },
   "id": "7becc404b9a3c840"
  },
  {
   "cell_type": "raw",
   "source": [
    "# Code defensive team days-rest\n",
    "df2['defteam_rest'] = np.where(df2['defteam']==df2['home_team'], df2['home_rest'],\n",
    "                      np.where(df2['defteam']==df2['away_team'], df2['away_rest'], 0))"
   ],
   "metadata": {
    "collapsed": false
   },
   "id": "f9d27b53626b770f"
  },
  {
   "cell_type": "raw",
   "source": [
    "# Code hour at start of game (24-hour)\n",
    "df2['game_start_hour'] = pd.DatetimeIndex(df2['gametime']).hour"
   ],
   "metadata": {
    "collapsed": false
   },
   "id": "ab1672fa2d745beb"
  },
  {
   "cell_type": "code",
   "execution_count": 226,
   "id": "0db5d489",
   "metadata": {
    "pycharm": {
     "name": "#%%\n"
    },
    "ExecuteTime": {
     "end_time": "2023-10-11T15:00:37.324697Z",
     "start_time": "2023-10-11T15:00:36.500810Z"
    }
   },
   "outputs": [
    {
     "data": {
      "text/plain": "(46132, 411)"
     },
     "execution_count": 226,
     "metadata": {},
     "output_type": "execute_result"
    }
   ],
   "source": [
    "# Duplicate dataframe\n",
    "df3 = df2.copy()\n",
    "\n",
    "df3.shape"
   ]
  },
  {
   "cell_type": "code",
   "execution_count": 227,
   "id": "698b666c",
   "metadata": {
    "pycharm": {
     "name": "#%%\n"
    },
    "ExecuteTime": {
     "end_time": "2023-10-11T15:00:37.386155Z",
     "start_time": "2023-10-11T15:00:37.313976Z"
    }
   },
   "outputs": [],
   "source": [
    "# Rename target classes\n",
    "df3['play_type_detail'] = np.where(df3['play_type_detail'] == 'pass_short', 'short',\n",
    "                                   np.where(df3['play_type_detail'] == 'pass_deep', 'deep',\n",
    "                                            np.where(df3['play_type_detail'] == 'run_inside', 'inside',\n",
    "                                                     np.where(df3['play_type_detail'] == 'run_outside', 'outside',\n",
    "                                                              df3['play_type_detail']))))"
   ]
  },
  {
   "cell_type": "markdown",
   "source": [
    "## Impute missing values"
   ],
   "metadata": {
    "collapsed": false
   },
   "id": "ebe7ff576538a52a"
  },
  {
   "cell_type": "code",
   "execution_count": 228,
   "outputs": [
    {
     "data": {
      "text/plain": "array(['1 RB 1 TE 3 WR', '1 RB 2 TE 2 WR', '2 RB 0 TE 3 WR',\n       '1 RB 0 TE 4 WR', '2 RB 1 TE 2 WR', '1 RB 3 TE 1 WR',\n       '2 RB 2 TE 2 WR', '2 RB 2 TE 1 WR', '6 OL 1 RB 2 TE 1 WR',\n       '1 RB 2 TE 1 WR1 LB', '1 RB 1 TE 2 WR1 LB', '0 RB 2 TE 3 WR',\n       '0 RB 1 TE 4 WR', '0 RB 2 TE 1 WR1 P5 LB1 LS1 DB',\n       '6 OL 2 RB 2 TE 0 WR', '3 RB 1 TE 1 WR', '2 QB 2 RB 1 TE 1 WR',\n       '2 QB 1 RB 1 TE 2 WR', '2 QB 1 RB 0 TE 3 WR',\n       '2 QB 2 RB 0 TE 2 WR', '2 QB 1 RB 2 TE 1 WR', '2 RB 3 TE 0 WR',\n       '1 RB 4 TE 0 WR', '0 RB 3 TE 2 WR', '6 OL 2 RB 1 TE 1 WR',\n       '0 RB 2 TE 2 WR', '3 RB 2 TE 0 WR', '7 OL 2 RB 1 TE 0 WR',\n       '6 OL 2 RB 0 TE 2 WR', '6 OL 1 RB 1 TE 2 WR',\n       '6 OL 1 RB 0 TE 3 WR', '6 OL 1 RB 3 TE 0 WR',\n       '8 OL 1 RB 0 TE 1 WR', '7 OL 1 RB 2 TE 0 WR',\n       '7 OL 1 RB 1 TE 1 WR', '1 RB 1 TE 4 WR', '6 OL 0 RB 1 TE 3 WR',\n       '1 RB 3 TE 0 WR1 LB', '2 RB 0 TE 4 WR', '6 OL 1 RB 2 TE 0 WR1 DL',\n       '2 RB 1 TE 1 WR', '7 OL 1 RB 0 TE 2 WR',\n       '2 RB 1 TE 0 WR1 P4 LB1 LS2 DB', '1 RB 1 TE 2 WR1 DB',\n       '2 QB 0 RB 2 TE 2 WR', '2 QB 0 RB 1 TE 3 WR',\n       '1 RB 1 TE 3 WR1 P1 LS1 K', '1 RB 2 TE 3 WR',\n       '6 OL 2 RB 1 TE 0 WR1 DL', '1 RB 3 TE 0 WR1 DL',\n       '1 RB 0 TE 2 WR4 LB1 LS1 DL2 DB', '1 RB 1 TE 2 WR1 DL',\n       '0 RB 0 TE 5 WR', '2 RB 1 TE 3 WR', '1 RB 0 TE 3 WR',\n       '3 RB 0 TE 2 WR', '2 RB 2 TE 1 WR1 DL',\n       '2 RB 2 TE 0 WR1 P2 LB1 LS3 DB', '0 RB 1 TE 3 WR1 DB',\n       '2 QB 0 RB 3 TE 1 WR', '7 OL 0 RB 3 TE 0 WR', '1 RB 3 TE 2 WR',\n       '1 RB 4 TE 1 WR', '3 RB 0 TE 3 WR', '6 OL 1 RB 3 TE 1 WR',\n       '7 OL 0 RB 4 TE 0 WR', '2 RB 3 TE 1 WR', '7 OL 1 RB 3 TE 0 WR',\n       '0 RB 2 TE 4 WR', '0 RB 3 TE 3 WR', '6 OL 2 RB 2 TE 1 WR',\n       '2 QB 6 OL 0 RB 1 TE 2 WR', '2 QB 6 OL 1 RB 0 TE 2 WR',\n       '1 RB 1 TE 2 WR', '1 RB 2 TE 1 WR', '8 OL 1 RB 1 TE 0 WR',\n       '1 RB 1 TE 0 WR1 P3 LB1 LS4 DB', '4 RB 0 TE 1 WR',\n       '7 OL 2 RB 0 TE 1 WR', '6 OL 1 RB 2 TE 0 WR1 LB',\n       '1 RB 1 TE 3 WR1 DL', '3 RB 1 TE 2 WR', '1 RB 2 TE 1 WR1 DL'],\n      dtype=object)"
     },
     "execution_count": 228,
     "metadata": {},
     "output_type": "execute_result"
    }
   ],
   "source": [
    "# Impute missing offense_personnel using the previous play within drive\n",
    "df3['offense_personnel'] = df3['offense_personnel'].fillna(df3.groupby(['game_id', 'drive'])['offense_personnel'].transform('last'))\n",
    "\n",
    "df3.offense_personnel.unique()"
   ],
   "metadata": {
    "collapsed": false,
    "ExecuteTime": {
     "end_time": "2023-10-11T15:00:37.506306Z",
     "start_time": "2023-10-11T15:00:37.347249Z"
    }
   },
   "id": "eadf1a9124524faf"
  },
  {
   "cell_type": "code",
   "execution_count": 229,
   "outputs": [
    {
     "data": {
      "text/plain": "array(['4 DL 2 LB 5 DB', '4 DL 3 LB 4 DB', '3 DL 3 LB 5 DB',\n       '3 DL 2 LB 6 DB', '4 DL 1 LB 6 DB', '3 DL 1 LB 7 DB',\n       '5 DL 1 LB 5 DB', '5 DL 2 LB 4 DB', '3 DL 4 LB 4 DB',\n       '2 DL 4 LB 5 DB', '2 DL 3 LB 6 DB', '5 DL 3 LB 3 DB',\n       '1 DL 5 LB 5 DB', '1 DL 4 LB 6 DB', '1 DL 5 LB 6 DB',\n       '0 DL 4 LB 7 DB', '1 DL 3 LB 7 DB', '0 DL 2 LB 5 DB 1 RB2 TE1 WR',\n       '2 DL 5 LB 4 DB', '6 DL 2 LB 3 DB', '6 DL 4 LB 1 DB',\n       '5 DL 0 LB 6 DB', '4 DL 4 LB 3 DB', '4 DL 1 LB 5 DB',\n       '5 DL 4 LB 2 DB', '2 DL 6 LB 3 DB', '3 DL 5 LB 3 DB',\n       '4 DL 5 LB 2 DB', '1 DL 6 LB 4 DB', '3 DL 4 LB 6 DB',\n       '2 DL 4 LB 4 DB', '5 DL 2 LB 5 DB', '5 DL 5 LB 1 DB',\n       '3 DL 4 LB 5 DB', '5 DL 4 LB 3 DB', '6 DL 3 LB 2 DB',\n       '3 DL 3 LB 4 DB', '4 DL 3 LB 3 DB', '6 DL 1 LB 4 DB',\n       '2 DL 2 LB 7 DB', '4 DL 3 LB 5 DB', '0 DL 5 LB 6 DB',\n       '2 DL 3 LB 5 DB', '3 DL 2 LB 5 DB', '3 DL 6 LB 2 DB',\n       '4 DL 4 LB 2 DB', '4 DL 2 LB 4 DB 1 WR', '5 DL 3 LB 4 DB',\n       '6 DL 5 LB 0 DB', '3 DL 1 LB 6 DB 1 WR', '4 DL 6 LB 1 DB',\n       '0 DL 5 LB 4 DB 1 RB1 WR', '0 DL 4 LB 6 DB', '3 DL 3 LB 6 DB',\n       '0 DL 6 LB 5 DB', '3 DL 5 LB 2 DB', '3 DL 5 LB 4 DB',\n       '6 DL 1 LB 5 DB', '1 DL 2 LB 8 DB', '2 DL 1 LB 7 DB',\n       '2 DL 1 LB 8 DB', '1 DL 2 LB 7 DB 1 WR', '4 DL 2 LB 6 DB',\n       '3 DL 0 LB 8 DB', '4 DL 0 LB 7 DB', '0 DL 3 LB 5 DB 2 RB1 WR',\n       '3 DL 4 LB 3 DB', '4 DL 3 LB 3 DB 1 WR', '4 DL 1 LB 5 DB 1 TE',\n       '4 DL 4 LB 4 DB', '2 DL 5 LB 5 DB', '1 DL 4 LB 5 DB',\n       '0 DL 3 LB 8 DB', '3 DL 1 LB 5 DB 1 TE1 WR', '3 DL 3 LB 5 DB 1 WR',\n       '0 DL 4 LB 6 DB 1 WR', '3 DL 1 LB 6 DB', '6 DL 4 LB 2 DB',\n       '5 DL 1 LB 6 DB', '2 DL 2 LB 6 DB'], dtype=object)"
     },
     "execution_count": 229,
     "metadata": {},
     "output_type": "execute_result"
    }
   ],
   "source": [
    "df3['defense_personnel'] = df3['defense_personnel'].fillna(df3.groupby(['game_id', 'drive'])['defense_personnel'].transform('last'))\n",
    "\n",
    "df3.defense_personnel.unique()"
   ],
   "metadata": {
    "collapsed": false,
    "ExecuteTime": {
     "end_time": "2023-10-11T15:00:37.602432Z",
     "start_time": "2023-10-11T15:00:37.393538Z"
    }
   },
   "id": "3df2a3af7397754c"
  },
  {
   "cell_type": "code",
   "execution_count": 230,
   "outputs": [],
   "source": [
    "# Impute defenders_in_box\n",
    "df3['defenders_in_box'] = df3['defenders_in_box'].fillna(df3.groupby(['game_id', 'defteam'])['defenders_in_box'].transform('last'))"
   ],
   "metadata": {
    "collapsed": false,
    "ExecuteTime": {
     "end_time": "2023-10-11T15:00:37.602689Z",
     "start_time": "2023-10-11T15:00:37.430544Z"
    }
   },
   "id": "7b310cc77b106812"
  },
  {
   "cell_type": "markdown",
   "id": "e18e8f00",
   "metadata": {
    "pycharm": {
     "name": "#%% md\n"
    }
   },
   "source": [
    "## Additional features"
   ]
  },
  {
   "cell_type": "code",
   "execution_count": 231,
   "outputs": [],
   "source": [
    "# Combine features\n",
    "df3['remain_yds_div_def_box'] = df3['remaining_yards_per_down'] / df3['defenders_in_box']\n",
    "df3['remain_yds_prod_def_box'] = df3['remaining_yards_per_down'] * df3['defenders_in_box']"
   ],
   "metadata": {
    "collapsed": false,
    "ExecuteTime": {
     "end_time": "2023-10-11T15:00:37.602975Z",
     "start_time": "2023-10-11T15:00:37.445379Z"
    }
   },
   "id": "b009ef99aa36a3b4"
  },
  {
   "cell_type": "code",
   "execution_count": 232,
   "id": "c24a330b",
   "metadata": {
    "pycharm": {
     "name": "#%%\n"
    },
    "ExecuteTime": {
     "end_time": "2023-10-11T15:00:40.454709Z",
     "start_time": "2023-10-11T15:00:37.462083Z"
    }
   },
   "outputs": [],
   "source": [
    "# Calculate average run ratio per game\n",
    "rro_df = df3.groupby(['posteam','game_id','qtr','down'])['rush_attempt'].apply(lambda x : x.astype(float).mean()).reset_index()\n",
    "\n",
    "# Sort dataframe\n",
    "rro_df = rro_df.sort_values(by=['posteam','qtr','down'], ascending=True)\n",
    "\n",
    "# Calculate rolling average per quarter\n",
    "rro_df['run_ratio_off_priors'] = rro_df.groupby(['posteam','qtr','down'])['rush_attempt'].transform(lambda x: x.rolling(window=3,\n",
    "                                                                                                                        min_periods=1,\n",
    "                                                                                                                        closed='left',\n",
    "                                                                                                                        center=False).mean())\n",
    "\n",
    "rro_df = rro_df.sort_values(by=['posteam','qtr','down'], ascending=True)\n",
    "\n",
    "rro_df.drop(['rush_attempt'], axis=1, inplace=True)\n",
    "\n",
    "# Impute missing values by the league average per qtr/down\n",
    "rro_df['run_ratio_off_priors'] = rro_df['run_ratio_off_priors'].fillna(rro_df.groupby(['qtr','down'])['run_ratio_off_priors'].transform('mean'))\n",
    "\n",
    "# Merge msa_df with df\n",
    "df3 = df3.merge(rro_df, how='left', left_on=['posteam','game_id','qtr','down'], right_on=['posteam','game_id','qtr','down'])"
   ]
  },
  {
   "cell_type": "code",
   "execution_count": 233,
   "id": "621268f8",
   "metadata": {
    "ExecuteTime": {
     "end_time": "2023-10-11T15:00:42.670752Z",
     "start_time": "2023-10-11T15:00:40.463001Z"
    }
   },
   "outputs": [],
   "source": [
    "# Calculate average run ratio per game\n",
    "rrd_df = df3.groupby(['defteam','game_id','qtr','down'])['rush_attempt'].apply(lambda x : x.astype(float).mean()).reset_index()\n",
    "\n",
    "# Sort dataframe\n",
    "rrd_df = rrd_df.sort_values(by=['defteam','qtr','down'], ascending=True)\n",
    "\n",
    "# Calculate rolling average per quarter\n",
    "rrd_df['run_ratio_def_priors'] = rrd_df.groupby(['defteam','qtr','down'])['rush_attempt'].transform(lambda x: x.rolling(window=3,\n",
    "                                                                                                                        min_periods=1,\n",
    "                                                                                                                        closed='left',\n",
    "                                                                                                                        center=False).mean())\n",
    "\n",
    "rrd_df = rrd_df.sort_values(by=['defteam','qtr','down'], ascending=True)\n",
    "\n",
    "rrd_df.drop(['rush_attempt'], axis=1, inplace=True)\n",
    "\n",
    "# Impute missing values by the league average per qtr/down\n",
    "rrd_df['run_ratio_def_priors'] = rrd_df['run_ratio_def_priors'].fillna(rrd_df.groupby(['qtr','down'])['run_ratio_def_priors'].transform('mean'))\n",
    "\n",
    "# Merge msa_df with df\n",
    "df3 = df3.merge(rrd_df, how='left', left_on=['defteam','game_id','qtr','down'], right_on=['defteam','game_id','qtr','down'])"
   ]
  },
  {
   "cell_type": "markdown",
   "id": "2bb96e39",
   "metadata": {
    "pycharm": {
     "name": "#%% md\n"
    }
   },
   "source": [
    "## Future features"
   ]
  },
  {
   "cell_type": "raw",
   "id": "c07e1771",
   "metadata": {
    "pycharm": {
     "name": "#%% raw\n"
    }
   },
   "source": [
    "Offensive Roster: \n",
    "    Average Height of starting wide receivers/tight end\n",
    "    Average weight of starting offensive line\n",
    "    All-Pro QB\n",
    "    All-Pro RB\n",
    "    All-Pro WR (Count)\n",
    "    All-Pro TE\n",
    "    Pro Bowl QB\n",
    "    Pro Bowl RB\n",
    "    Pro Bowl WR (Count)\n",
    "    Number of starters during the season / 11"
   ]
  },
  {
   "cell_type": "markdown",
   "id": "f69df925",
   "metadata": {
    "pycharm": {
     "name": "#%% md\n"
    }
   },
   "source": [
    "## Play prediction filters"
   ]
  },
  {
   "cell_type": "code",
   "execution_count": 234,
   "id": "e41bf783",
   "metadata": {
    "pycharm": {
     "name": "#%%\n"
    },
    "ExecuteTime": {
     "end_time": "2023-10-11T15:00:43.503265Z",
     "start_time": "2023-10-11T15:00:42.680166Z"
    }
   },
   "outputs": [
    {
     "data": {
      "text/plain": "(43172, 415)"
     },
     "execution_count": 234,
     "metadata": {},
     "output_type": "execute_result"
    }
   ],
   "source": [
    "# Filters used to eliminate non-typical offensive plays / plays with alterior incentives (preseason) \n",
    "df3 = df3.loc[df3['season_type'] != 'PRE']\n",
    "df3 = df3.loc[(df3['play_type'] == 'pass') | (df3['play_type'] == 'run')]\n",
    "df3 = df3.loc[df3['play_type_detail'] != 'pass_sack']\n",
    "df3 = df3.loc[df3['qb_scramble'] == 0]\n",
    "df3 = df3.loc[df3['sack'] == 0]\n",
    "df3 = df3.loc[df3['drive_start'] != 'NULL']\n",
    "\n",
    "df3.shape"
   ]
  },
  {
   "cell_type": "code",
   "execution_count": 235,
   "outputs": [
    {
     "name": "stdout",
     "output_type": "stream",
     "text": [
      "Single value columns: Index(['qb_kneel', 'qb_spike', 'qb_scramble', 'sack', 'play',\n",
      "       'pass_formation'],\n",
      "      dtype='object')\n",
      "Remaining columns: 401\n"
     ]
    }
   ],
   "source": [
    "# Print a list of columns with only one value and then drop them\n",
    "single_value_columns = df3.loc[:,df3.nunique() == 1].columns\n",
    "df3 = df3.loc[:,df3.nunique() > 1]\n",
    "\n",
    "print('Single value columns:', single_value_columns)\n",
    "print('Remaining columns:', df3.shape[1])"
   ],
   "metadata": {
    "collapsed": false,
    "ExecuteTime": {
     "end_time": "2023-10-11T15:00:44.975850Z",
     "start_time": "2023-10-11T15:00:43.496117Z"
    }
   },
   "id": "87fa752fb821e6fc"
  },
  {
   "cell_type": "code",
   "execution_count": 236,
   "id": "9da6ff5d",
   "metadata": {
    "pycharm": {
     "name": "#%%\n"
    },
    "ExecuteTime": {
     "end_time": "2023-10-11T15:00:45.031078Z",
     "start_time": "2023-10-11T15:00:44.969641Z"
    }
   },
   "outputs": [],
   "source": [
    "# Convert properties into integer\n",
    "df3['yardline_100'] = df3['yardline_100'].astype(int)\n",
    "df3['down'] = df3['down'].astype(int)\n",
    "df3['drive'] = df3['drive'].astype(int)"
   ]
  },
  {
   "cell_type": "code",
   "execution_count": 238,
   "id": "28726b32",
   "metadata": {
    "pycharm": {
     "name": "#%%\n"
    },
    "ExecuteTime": {
     "end_time": "2023-10-11T15:00:45.037374Z",
     "start_time": "2023-10-11T15:00:44.993518Z"
    }
   },
   "outputs": [
    {
     "data": {
      "text/plain": "play_type_detail\nshort      16939\ninside      9149\noutside     8756\ndeep        7492\npass         819\nrun           17\nName: count, dtype: int64"
     },
     "execution_count": 238,
     "metadata": {},
     "output_type": "execute_result"
    }
   ],
   "source": [
    "counts = df3.play_type_detail.value_counts(normalize=False)\n",
    "counts"
   ]
  },
  {
   "cell_type": "markdown",
   "id": "9636a83d",
   "metadata": {
    "pycharm": {
     "name": "#%% md\n"
    }
   },
   "source": [
    "## DROP COLUMNS"
   ]
  },
  {
   "cell_type": "code",
   "execution_count": 239,
   "outputs": [],
   "source": [
    "# Use get_loc to identify row where offense_personnel isnull\n",
    "# df3x = df3.loc[df3['offense_personnel'].isnull()]\n",
    "\n",
    "# df3x.shape"
   ],
   "metadata": {
    "collapsed": false,
    "ExecuteTime": {
     "end_time": "2023-10-11T15:00:45.037572Z",
     "start_time": "2023-10-11T15:00:45.007007Z"
    }
   },
   "id": "d032d4f1a0dd4e9"
  },
  {
   "cell_type": "code",
   "execution_count": 240,
   "outputs": [
    {
     "data": {
      "text/plain": "(43172, 122)"
     },
     "execution_count": 240,
     "metadata": {},
     "output_type": "execute_result"
    }
   ],
   "source": [
    "# Drop unused features\n",
    "df3.drop(['old_game_id','game_alt_id','season_type','side_of_field','game_date','drive','time','yrdln','ydsnet','desc','qb_dropback','air_yards','yards_after_catch','timeout','timeout_team','td_team','td_player_name','td_player_id','total_home_score','total_away_score','posteam_score_post','defteam_score_post','score_differential_post','opp_fg_prob','opp_safety_prob','opp_td_prob','total_home_epa','total_away_epa','total_home_rush_epa','total_away_rush_epa','total_home_pass_epa','total_away_pass_epa','air_epa','yac_epa','comp_air_epa','comp_yac_epa','total_home_comp_air_epa','total_away_comp_air_epa','total_home_comp_yac_epa','total_away_comp_yac_epa','total_home_raw_air_epa','total_away_raw_air_epa','total_home_raw_yac_epa','total_away_raw_yac_epa','def_wp','home_wp','away_wp','wpa','vegas_wpa','vegas_home_wpa','home_wp_post','away_wp_post','vegas_wp','vegas_home_wp','total_home_rush_wpa','total_away_rush_wpa','total_home_pass_wpa','total_away_pass_wpa','air_wpa','yac_wpa','comp_air_wpa','comp_yac_wpa','total_home_comp_air_wpa','total_away_comp_air_wpa','total_home_comp_yac_wpa','total_away_comp_yac_wpa','total_home_raw_air_wpa','total_away_raw_air_wpa','total_home_raw_yac_wpa','total_away_raw_yac_wpa','first_down_rush','first_down_pass','first_down_penalty','third_down_converted','third_down_failed','fourth_down_converted','fourth_down_failed','incomplete_pass','touchback','interception','fumble_forced','fumble_not_forced','fumble_out_of_bounds','solo_tackle','safety','penalty','tackled_for_loss','fumble_lost','qb_hit','touchdown','pass_touchdown','rush_touchdown','return_touchdown','fumble','complete_pass','assist_tackle','lateral_reception','lateral_rush','lateral_return','lateral_recovery','passer_player_id','passer_player_name','passing_yards','receiver_player_id','receiver_player_name','receiving_yards','rusher_player_id','rusher_player_name','rushing_yards','lateral_receiver_player_id','lateral_receiver_player_name','lateral_receiving_yards','lateral_rusher_player_id','lateral_rusher_player_name','lateral_rushing_yards','interception_player_id','interception_player_name','lateral_interception_player_id','lateral_interception_player_name','tackle_for_loss_1_player_id','tackle_for_loss_1_player_name','qb_hit_1_player_id','qb_hit_1_player_name','forced_fumble_player_1_team','forced_fumble_player_1_player_id','forced_fumble_player_1_player_name','forced_fumble_player_2_team','forced_fumble_player_2_player_id','forced_fumble_player_2_player_name','solo_tackle_1_team','solo_tackle_2_team','solo_tackle_1_player_id','solo_tackle_2_player_id','solo_tackle_1_player_name','solo_tackle_2_player_name','assist_tackle_1_player_id','assist_tackle_1_player_name','assist_tackle_1_team','assist_tackle_2_player_id','assist_tackle_2_player_name','assist_tackle_2_team','tackle_with_assist','tackle_with_assist_1_player_id','tackle_with_assist_1_player_name','tackle_with_assist_1_team','pass_defense_1_player_id','pass_defense_1_player_name','pass_defense_2_player_id','pass_defense_2_player_name','fumbled_1_team','fumbled_1_player_id','fumbled_1_player_name','fumbled_2_player_id','fumbled_2_player_name','fumbled_2_team','fumble_recovery_1_team','fumble_recovery_1_yards','fumble_recovery_1_player_id','fumble_recovery_1_player_name','fumble_recovery_2_team','fumble_recovery_2_yards','fumble_recovery_2_player_id','fumble_recovery_2_player_name','return_team','return_yards','penalty_team','penalty_player_id','penalty_player_name','penalty_yards','replay_or_challenge','replay_or_challenge_result','penalty_type','safety_player_name','safety_player_id','series','series_success','series_result','start_time','time_of_day','stadium','weather','nfl_api_id','play_clock','play_type_nfl','end_clock_time','end_yard_line','fixed_drive','fixed_drive_result','drive_real_start_time','drive_time_of_possession','drive_first_downs','drive_inside20','drive_ended_with_score','drive_quarter_start','drive_quarter_end','drive_yards_penalized','drive_end_transition','drive_start_transition','drive_game_clock_start','drive_game_clock_end','drive_start_yard_line','drive_end_yard_line','drive_play_id_started','drive_play_id_ended','away_score','home_score','location','result','total','home_coach','away_coach','stadium_id','game_stadium','success','passer','passer_jersey_number','rusher','rusher_jersey_number','receiver','receiver_jersey_number','pass','rush','first_down','passer_id','rusher_id','receiver_id','name','jersey_number','id','fantasy_player_name','fantasy_player_id','fantasy','fantasy_id','out_of_bounds','home_opening_kickoff','qb_epa','xyac_epa','xyac_mean_yardage','xyac_median_yardage','xyac_success','xyac_fd','xpass','pass_oe','cp','cpoe','pass_length','pass_location','run_location','run_gap','pass_attempt','game_id','home_team','away_team','sp','yards_gained','home_timeouts_remaining','away_timeouts_remaining','order_sequence','play_id','posteam_type','epa','turnover','temp','wind','roof','effct_play','negative_run','negative_pass','big_play_run','big_play_pass','offsetting_penalties','season','posteam_season','rush_attempt','nflverse_game_id','possession_team','players_on_play','offense_players','defense_players'], axis=1, inplace=True)\n",
    "# 'offense_personnel', 'defense_personnel', 'number_of_pass_rushers','n_offense','n_defense','gameday','weekday','gametime','home_rest', 'away_rest'\n",
    "\n",
    "df3.shape"
   ],
   "metadata": {
    "collapsed": false,
    "ExecuteTime": {
     "end_time": "2023-10-11T15:00:45.527713Z",
     "start_time": "2023-10-11T15:00:45.012069Z"
    }
   },
   "id": "074eeba3"
  },
  {
   "cell_type": "code",
   "execution_count": 241,
   "outputs": [
    {
     "name": "stdout",
     "output_type": "stream",
     "text": [
      "Columns with missing values:\n",
      "number_of_pass_rushers    19020\n",
      "dtype: int64\n"
     ]
    }
   ],
   "source": [
    "null_columns = df3.columns[df3.isnull().any()]\n",
    "\n",
    "# Print missing values counts for null_columns\n",
    "print('Columns with missing values:')\n",
    "print(df3[null_columns].isnull().sum())"
   ],
   "metadata": {
    "collapsed": false,
    "ExecuteTime": {
     "end_time": "2023-10-11T15:00:45.528079Z",
     "start_time": "2023-10-11T15:00:45.115648Z"
    }
   },
   "id": "27da6cd627a59ca0"
  },
  {
   "cell_type": "code",
   "execution_count": 242,
   "id": "87bb75ca",
   "metadata": {
    "pycharm": {
     "name": "#%%\n"
    },
    "ExecuteTime": {
     "end_time": "2023-10-11T15:00:45.528294Z",
     "start_time": "2023-10-11T15:00:45.182585Z"
    }
   },
   "outputs": [
    {
     "name": "stdout",
     "output_type": "stream",
     "text": [
      "Dropping the following columns with missing values:\n",
      "Index(['number_of_pass_rushers'], dtype='object')\n",
      "Remaining column count: 121\n"
     ]
    }
   ],
   "source": [
    "# drop columns with null values\n",
    "df3.dropna(axis=1, inplace=True)\n",
    "print('Dropping the following columns with missing values:')\n",
    "print(null_columns)\n",
    "print('Remaining column count:', df3.shape[1])"
   ]
  },
  {
   "cell_type": "markdown",
   "source": [
    "## VIF exclusion criteria"
   ],
   "metadata": {
    "collapsed": false
   },
   "id": "c0c2af8f7bbc855"
  },
  {
   "cell_type": "raw",
   "source": [
    "df4 = df3.copy()\n",
    "\n",
    "# Set VIF threshold\n",
    "vif_threshold_value = 10.0\n",
    "\n",
    "# create list of the non-numeric column names\n",
    "non_numeric_cols = list(df4.select_dtypes(exclude=['number']).columns)\n",
    "\n",
    "# Create numeric and non-numeric dataframes\n",
    "x = df4.drop(columns=non_numeric_cols)\n",
    "y = df4[non_numeric_cols]\n",
    "\n",
    "print('Non-numeric columns:', non_numeric_cols)"
   ],
   "metadata": {
    "collapsed": false
   },
   "id": "993a50d7149fa504"
  },
  {
   "cell_type": "raw",
   "source": [
    "# Multicollinearity function\n",
    "def remove_multi_coll(x, vif_threshold=vif_threshold_value):\n",
    "    for i in x.columns:\n",
    "        if x[i].nunique() == 1:\n",
    "            print(f\"Dropping {i} due to just 1 unique value\")\n",
    "        x.drop(columns = i, inplace = True)\n",
    "    drop=True\n",
    "    c_lst=list(x.columns)\n",
    "    while drop == True:\n",
    "        drop = False\n",
    "        v_lst=Parallel(n_jobs=-1,verbose=0)(delayed(vif)(x[c_lst].values, i) for i in range(x[c_lst].shape[1]))\n",
    "        max_index=v_lst.index(max(v_lst))\n",
    "        if v_lst[max_index] > vif_threshold:\n",
    "            print(f\"Dropping column : {c_lst[max_index]} at index - {max_index}\")\n",
    "            del c_lst[max_index]\n",
    "            drop = True\n",
    "    print(\"Remaining columns:\\n\", list(x[c_lst].columns))\n",
    "    return x[c_lst]"
   ],
   "metadata": {
    "collapsed": false
   },
   "id": "a23d28cbab988771"
  },
  {
   "cell_type": "raw",
   "source": [
    "# Execute multicollinearity function\n",
    "remove_multi_coll(x, vif_threshold_value)"
   ],
   "metadata": {
    "collapsed": false
   },
   "id": "89149cef3b379f4e"
  },
  {
   "cell_type": "raw",
   "source": [
    "# Combine numerical and category, and target dataframes\n",
    "df5 = pd.concat([y,x], axis=1)\n",
    "\n",
    "df5.shape"
   ],
   "metadata": {
    "collapsed": false
   },
   "id": "94531175aa7acb4d"
  },
  {
   "cell_type": "markdown",
   "source": [
    "## Create binary classification dataset"
   ],
   "metadata": {
    "collapsed": false
   },
   "id": "b1db1444e0b15fd"
  },
  {
   "cell_type": "code",
   "execution_count": 243,
   "outputs": [
    {
     "data": {
      "text/plain": "['week',\n 'posteam',\n 'defteam',\n 'yardline_100',\n 'quarter_seconds_remaining',\n 'half_seconds_remaining',\n 'game_seconds_remaining',\n 'game_half',\n 'qtr',\n 'down',\n 'goal_to_go',\n 'ydstogo',\n 'play_type',\n 'shotgun',\n 'no_huddle',\n 'posteam_timeouts_remaining',\n 'defteam_timeouts_remaining',\n 'posteam_score',\n 'defteam_score',\n 'score_differential',\n 'no_score_prob',\n 'fg_prob',\n 'safety_prob',\n 'td_prob',\n 'ep',\n 'wp',\n 'drive_play_count',\n 'spread_line',\n 'total_line',\n 'div_game',\n 'surface',\n 'offense_formation',\n 'offense_personnel',\n 'defenders_in_box',\n 'defense_personnel',\n 'n_offense',\n 'n_defense',\n 'play_sequence_game',\n 'play_sequence_series',\n 'play_type_detail',\n 'run_formation',\n 'dtg_99to95',\n 'dtg_94to90',\n 'dtg_40to31',\n 'dtg_30to21',\n 'dtg_20to11',\n 'dtg_10to06',\n 'dtg_05to01',\n 'prev1_big_play_pass',\n 'prev2_big_play_pass',\n 'prev3_big_play_pass',\n 'drive_big_play_pass_pcnt',\n 'prev1_big_play_run',\n 'prev2_big_play_run',\n 'prev3_big_play_run',\n 'drive_big_play_run_pcnt',\n 'prev1_negative_pass',\n 'prev2_negative_pass',\n 'prev3_negative_pass',\n 'prev1_negative_run',\n 'prev2_negative_run',\n 'prev3_negative_run',\n 'prev1_play_off_penalty',\n 'prev1_play_def_penalty',\n 'prev2_play_off_penalty',\n 'prev2_play_def_penalty',\n 'prev3_play_off_penalty',\n 'prev3_play_def_penalty',\n 'prev1_play_run_outside',\n 'prev1_play_run_inside',\n 'prev1_play_pass_deep',\n 'prev1_play_pass_short',\n 'prev2_play_run_outside',\n 'prev2_play_run_inside',\n 'prev2_play_pass_deep',\n 'prev2_play_pass_short',\n 'prev3_play_run_outside',\n 'prev3_play_run_inside',\n 'prev3_play_pass_deep',\n 'prev3_play_pass_short',\n 'prev1_incomplete_pass',\n 'prev2_incomplete_pass',\n 'prev3_incomplete_pass',\n 'drive_incomplete_pass_pcnt',\n 'prev1_yards_gained',\n 'prev2_yards_gained',\n 'prev3_yards_gained',\n 'prev1_wpa',\n 'prev2_wpa',\n 'prev3_wpa',\n 'prev1_shotgun',\n 'prev2_shotgun',\n 'prev3_shotgun',\n 'drive_shotgun_pcnt',\n 'prev1_qb_hit',\n 'prev2_qb_hit',\n 'prev3_qb_hit',\n 'drive_qb_hit_pcnt',\n 'prev1_no_huddle',\n 'prev2_no_huddle',\n 'prev3_no_huddle',\n 'drive_no_huddle_pcnt',\n 'prev1_first_down_pass',\n 'prev2_first_down_pass',\n 'prev3_first_down_pass',\n 'prev1_first_down_run',\n 'prev2_first_down_run',\n 'prev3_first_down_run',\n 'prev1_effct_play',\n 'prev2_effct_play',\n 'prev3_effct_play',\n 'drive_effct_play_pcnt',\n 'remaining_downs',\n 'remaining_yards_per_down',\n 'drive_start',\n 'two_min_warning',\n 'ep_sec_ratio',\n 'remain_yds_div_def_box',\n 'remain_yds_prod_def_box',\n 'run_ratio_off_priors',\n 'run_ratio_def_priors']"
     },
     "execution_count": 243,
     "metadata": {},
     "output_type": "execute_result"
    }
   ],
   "source": [
    "# Print list of columns\n",
    "list(df3.columns)"
   ],
   "metadata": {
    "collapsed": false,
    "ExecuteTime": {
     "end_time": "2023-10-11T15:00:45.528757Z",
     "start_time": "2023-10-11T15:00:45.270182Z"
    }
   },
   "id": "72a7086e96dd28e1"
  },
  {
   "cell_type": "code",
   "execution_count": 244,
   "id": "8093d931",
   "metadata": {
    "pycharm": {
     "name": "#%%\n"
    },
    "ExecuteTime": {
     "end_time": "2023-10-11T15:00:48.443102Z",
     "start_time": "2023-10-11T15:00:45.277563Z"
    }
   },
   "outputs": [],
   "source": [
    "df6 = df3.copy()\n",
    "\n",
    "# Drop column not used in classifier\n",
    "df6.drop(['play_type_detail'], axis=1, inplace=True)\n",
    "\n",
    "# Export binary classifier dataframe\n",
    "df6.to_csv(r'/Users/ttas2/Documents/Python/nfl-machine-learning-models/output_files/nfl_post_processing_run_pass_classification_data.csv', index=None, header=True)"
   ]
  },
  {
   "cell_type": "markdown",
   "id": "8d00e7bf",
   "metadata": {
    "pycharm": {
     "name": "#%% md\n"
    }
   },
   "source": [
    "## Create multi-classification dataset"
   ]
  },
  {
   "cell_type": "code",
   "execution_count": 245,
   "id": "c0fc48aa",
   "metadata": {
    "pycharm": {
     "name": "#%%\n"
    },
    "ExecuteTime": {
     "end_time": "2023-10-11T15:00:48.625423Z",
     "start_time": "2023-10-11T15:00:48.446795Z"
    }
   },
   "outputs": [
    {
     "data": {
      "text/plain": "(43172, 120)"
     },
     "execution_count": 245,
     "metadata": {},
     "output_type": "execute_result"
    }
   ],
   "source": [
    "df7 = df3.copy()\n",
    "\n",
    "# Drop column not used in classifier\n",
    "df7.drop(['play_type'], axis=1, inplace=True)\n",
    "df7.shape"
   ]
  },
  {
   "cell_type": "code",
   "execution_count": 246,
   "id": "176596c4",
   "metadata": {
    "pycharm": {
     "name": "#%%\n"
    },
    "ExecuteTime": {
     "end_time": "2023-10-11T15:00:48.707753Z",
     "start_time": "2023-10-11T15:00:48.591129Z"
    }
   },
   "outputs": [
    {
     "data": {
      "text/plain": "(43172, 120)"
     },
     "execution_count": 246,
     "metadata": {},
     "output_type": "execute_result"
    }
   ],
   "source": [
    "# Exclude sacks from dataset\n",
    "df7 = df7.loc[df7['play_type_detail'] != 'pass_sack']\n",
    "df7.shape"
   ]
  },
  {
   "cell_type": "code",
   "execution_count": 247,
   "id": "3193b4df",
   "metadata": {
    "pycharm": {
     "name": "#%%\n"
    },
    "ExecuteTime": {
     "end_time": "2023-10-11T15:00:48.821110Z",
     "start_time": "2023-10-11T15:00:48.631915Z"
    }
   },
   "outputs": [
    {
     "data": {
      "text/plain": "(42353, 120)"
     },
     "execution_count": 247,
     "metadata": {},
     "output_type": "execute_result"
    }
   ],
   "source": [
    "# Exclude passes with no depth designation\n",
    "df7 = df7.loc[df7['play_type_detail'] != 'pass']\n",
    "df7.shape"
   ]
  },
  {
   "cell_type": "code",
   "execution_count": 248,
   "id": "f0daee03",
   "metadata": {
    "pycharm": {
     "name": "#%%\n"
    },
    "ExecuteTime": {
     "end_time": "2023-10-11T15:00:48.940380Z",
     "start_time": "2023-10-11T15:00:48.682925Z"
    }
   },
   "outputs": [
    {
     "data": {
      "text/plain": "(42336, 120)"
     },
     "execution_count": 248,
     "metadata": {},
     "output_type": "execute_result"
    }
   ],
   "source": [
    "# Exclude runs with no direction/landmark designation\n",
    "df7 = df7.loc[df7['play_type_detail'] != 'run']\n",
    "df7.shape"
   ]
  },
  {
   "cell_type": "code",
   "execution_count": 249,
   "id": "98347d9d",
   "metadata": {
    "pycharm": {
     "name": "#%%\n"
    },
    "ExecuteTime": {
     "end_time": "2023-10-11T15:00:48.960809Z",
     "start_time": "2023-10-11T15:00:48.787543Z"
    }
   },
   "outputs": [
    {
     "data": {
      "text/plain": "play_type\nshort      0.400109\ninside     0.216104\noutside    0.206822\ndeep       0.176965\nName: proportion, dtype: float64"
     },
     "execution_count": 249,
     "metadata": {},
     "output_type": "execute_result"
    }
   ],
   "source": [
    "# Rename target\n",
    "df7['play_type'] = df7['play_type_detail']\n",
    "\n",
    "# Drop duplicate target\n",
    "df7.drop(['play_type_detail'], axis=1, inplace=True)\n",
    "\n",
    "# Check class frequency\n",
    "counts = df7.play_type.value_counts(normalize=True)\n",
    "counts"
   ]
  },
  {
   "cell_type": "code",
   "execution_count": 250,
   "id": "a0c84f7f",
   "metadata": {
    "pycharm": {
     "name": "#%%\n"
    },
    "ExecuteTime": {
     "end_time": "2023-10-11T15:00:51.692578Z",
     "start_time": "2023-10-11T15:00:48.794646Z"
    }
   },
   "outputs": [],
   "source": [
    "# Export binary classifier dataframe\n",
    "df7.to_csv(r'/Users/ttas2/Documents/Python/nfl-machine-learning-models/output_files/nfl_post_processing_multiclass_play_classification_data.csv', index=None, header=True)"
   ]
  },
  {
   "cell_type": "code",
   "execution_count": 250,
   "id": "b9b9cb86",
   "metadata": {
    "pycharm": {
     "name": "#%%\n"
    },
    "ExecuteTime": {
     "end_time": "2023-10-11T15:00:51.707919Z",
     "start_time": "2023-10-11T15:00:51.694193Z"
    }
   },
   "outputs": [],
   "source": []
  }
 ],
 "metadata": {
  "colab": {
   "name": "nfl_offensive_play_classification_v1.1.ipynb",
   "provenance": []
  },
  "kernelspec": {
   "display_name": "Python 3 (ipykernel)",
   "language": "python",
   "name": "python3"
  },
  "language_info": {
   "codemirror_mode": {
    "name": "ipython",
    "version": 3
   },
   "file_extension": ".py",
   "mimetype": "text/x-python",
   "name": "python",
   "nbconvert_exporter": "python",
   "pygments_lexer": "ipython3",
   "version": "3.9.6"
  }
 },
 "nbformat": 4,
 "nbformat_minor": 5
}
