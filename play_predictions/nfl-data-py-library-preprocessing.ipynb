{
 "cells": [
  {
   "cell_type": "code",
   "execution_count": 139,
   "id": "5312cec7",
   "metadata": {
    "pycharm": {
     "name": "#%%\n"
    },
    "ExecuteTime": {
     "end_time": "2024-01-01T14:27:26.886422Z",
     "start_time": "2024-01-01T14:27:24.354127Z"
    }
   },
   "outputs": [],
   "source": [
    "import pandas as pd\n",
    "import numpy as np\n",
    "import nfl_data_py as nfl\n",
    "import ssl\n",
    "ssl._create_default_https_context = ssl._create_stdlib_context\n",
    "import warnings\n",
    "warnings.filterwarnings('ignore')"
   ]
  },
  {
   "cell_type": "code",
   "execution_count": 140,
   "outputs": [],
   "source": [
    "rolling_game_window = 4\n",
    "rolling_play_window = 40"
   ],
   "metadata": {
    "collapsed": false,
    "ExecuteTime": {
     "end_time": "2024-01-01T14:27:27.035249Z",
     "start_time": "2024-01-01T14:27:26.879015Z"
    }
   },
   "id": "3426c1c71eace70"
  },
  {
   "cell_type": "markdown",
   "id": "bd81412b",
   "metadata": {
    "pycharm": {
     "name": "#%% md\n"
    }
   },
   "source": [
    "## nfl-data-py"
   ]
  },
  {
   "cell_type": "code",
   "execution_count": 141,
   "id": "349503b8",
   "metadata": {
    "pycharm": {
     "name": "#%%\n"
    },
    "ExecuteTime": {
     "end_time": "2024-01-01T14:27:27.172823Z",
     "start_time": "2024-01-01T14:27:27.018577Z"
    }
   },
   "outputs": [
    {
     "name": "stdout",
     "output_type": "stream",
     "text": [
      "[2022, 2023]\n",
      "[2000, 2001, 2002, 2003, 2004, 2005, 2006, 2007, 2008, 2009, 2010, 2011, 2012, 2013, 2014, 2015, 2016, 2017, 2018, 2019, 2020, 2021, 2022, 2023]\n"
     ]
    }
   ],
   "source": [
    "# 1999-2021 available for analysis. Some properties are not available in earlier years.  Offensive formation available starting in 2022\n",
    "start_season = 2022\n",
    "end_season = 2023\n",
    "\n",
    "end_season = end_season + 1\n",
    "seasons = [*range(start_season, end_season, 1)]\n",
    "\n",
    "draft_years = [*range(2000, 2024, 1)]\n",
    "\n",
    "print(seasons)\n",
    "print(draft_years)"
   ]
  },
  {
   "cell_type": "markdown",
   "id": "d6bbdf80",
   "metadata": {
    "pycharm": {
     "name": "#%% md\n"
    }
   },
   "source": [
    "## DATA DICTIONARY"
   ]
  },
  {
   "cell_type": "code",
   "execution_count": 142,
   "outputs": [],
   "source": [
    "# Display https://nflreadr.nflverse.com/articles/dictionary_pbp.html\n",
    "# from IPython.display import IFrame\n",
    "# IFrame(src='https://nflreadr.nflverse.com/articles/dictionary_pbp.html', width=1000, height=600)"
   ],
   "metadata": {
    "collapsed": false,
    "ExecuteTime": {
     "end_time": "2024-01-01T14:27:27.441725Z",
     "start_time": "2024-01-01T14:27:27.138248Z"
    }
   },
   "id": "289d0802c77dd9b"
  },
  {
   "cell_type": "markdown",
   "id": "3ad92036",
   "metadata": {
    "pycharm": {
     "name": "#%% md\n"
    }
   },
   "source": [
    "## NFL PLAY-BY-PLAY DATA"
   ]
  },
  {
   "cell_type": "code",
   "execution_count": 143,
   "id": "7905b061",
   "metadata": {
    "pycharm": {
     "name": "#%%\n"
    },
    "scrolled": true,
    "ExecuteTime": {
     "end_time": "2024-01-01T14:27:38.968224Z",
     "start_time": "2024-01-01T14:27:27.424059Z"
    }
   },
   "outputs": [
    {
     "name": "stdout",
     "output_type": "stream",
     "text": [
      "2022 done.\n",
      "2023 done.\n"
     ]
    },
    {
     "data": {
      "text/plain": "(94906, 390)"
     },
     "execution_count": 143,
     "metadata": {},
     "output_type": "execute_result"
    }
   ],
   "source": [
    "play_data = nfl.import_pbp_data(years=seasons, downcast=False, cache=False) # , alt_path=None)\n",
    "\n",
    "# Clean dataframe using nfl-data-api cleaning function\n",
    "play_df = nfl.clean_nfl_data(play_data)\n",
    "\n",
    "play_df.shape"
   ]
  },
  {
   "cell_type": "code",
   "outputs": [
    {
     "name": "stdout",
     "output_type": "stream",
     "text": [
      "['play_id', 'game_id', 'old_game_id', 'home_team', 'away_team', 'season_type', 'week', 'posteam', 'posteam_type', 'defteam', 'side_of_field', 'yardline_100', 'game_date', 'quarter_seconds_remaining', 'half_seconds_remaining', 'game_seconds_remaining', 'game_half', 'quarter_end', 'drive', 'sp', 'qtr', 'down', 'goal_to_go', 'time', 'yrdln', 'ydstogo', 'ydsnet', 'desc', 'play_type', 'yards_gained', 'shotgun', 'no_huddle', 'qb_dropback', 'qb_kneel', 'qb_spike', 'qb_scramble', 'pass_length', 'pass_location', 'air_yards', 'yards_after_catch', 'run_location', 'run_gap', 'field_goal_result', 'kick_distance', 'extra_point_result', 'two_point_conv_result', 'home_timeouts_remaining', 'away_timeouts_remaining', 'timeout', 'timeout_team', 'td_team', 'td_player_name', 'td_player_id', 'posteam_timeouts_remaining', 'defteam_timeouts_remaining', 'total_home_score', 'total_away_score', 'posteam_score', 'defteam_score', 'score_differential', 'posteam_score_post', 'defteam_score_post', 'score_differential_post', 'no_score_prob', 'opp_fg_prob', 'opp_safety_prob', 'opp_td_prob', 'fg_prob', 'safety_prob', 'td_prob', 'extra_point_prob', 'two_point_conversion_prob', 'ep', 'epa', 'total_home_epa', 'total_away_epa', 'total_home_rush_epa', 'total_away_rush_epa', 'total_home_pass_epa', 'total_away_pass_epa', 'air_epa', 'yac_epa', 'comp_air_epa', 'comp_yac_epa', 'total_home_comp_air_epa', 'total_away_comp_air_epa', 'total_home_comp_yac_epa', 'total_away_comp_yac_epa', 'total_home_raw_air_epa', 'total_away_raw_air_epa', 'total_home_raw_yac_epa', 'total_away_raw_yac_epa', 'wp', 'def_wp', 'home_wp', 'away_wp', 'wpa', 'vegas_wpa', 'vegas_home_wpa', 'home_wp_post', 'away_wp_post', 'vegas_wp', 'vegas_home_wp', 'total_home_rush_wpa', 'total_away_rush_wpa', 'total_home_pass_wpa', 'total_away_pass_wpa', 'air_wpa', 'yac_wpa', 'comp_air_wpa', 'comp_yac_wpa', 'total_home_comp_air_wpa', 'total_away_comp_air_wpa', 'total_home_comp_yac_wpa', 'total_away_comp_yac_wpa', 'total_home_raw_air_wpa', 'total_away_raw_air_wpa', 'total_home_raw_yac_wpa', 'total_away_raw_yac_wpa', 'punt_blocked', 'first_down_rush', 'first_down_pass', 'first_down_penalty', 'third_down_converted', 'third_down_failed', 'fourth_down_converted', 'fourth_down_failed', 'incomplete_pass', 'touchback', 'interception', 'punt_inside_twenty', 'punt_in_endzone', 'punt_out_of_bounds', 'punt_downed', 'punt_fair_catch', 'kickoff_inside_twenty', 'kickoff_in_endzone', 'kickoff_out_of_bounds', 'kickoff_downed', 'kickoff_fair_catch', 'fumble_forced', 'fumble_not_forced', 'fumble_out_of_bounds', 'solo_tackle', 'safety', 'penalty', 'tackled_for_loss', 'fumble_lost', 'own_kickoff_recovery', 'own_kickoff_recovery_td', 'qb_hit', 'rush_attempt', 'pass_attempt', 'sack', 'touchdown', 'pass_touchdown', 'rush_touchdown', 'return_touchdown', 'extra_point_attempt', 'two_point_attempt', 'field_goal_attempt', 'kickoff_attempt', 'punt_attempt', 'fumble', 'complete_pass', 'assist_tackle', 'lateral_reception', 'lateral_rush', 'lateral_return', 'lateral_recovery', 'passer_player_id', 'passer_player_name', 'passing_yards', 'receiver_player_id', 'receiver_player_name', 'receiving_yards', 'rusher_player_id', 'rusher_player_name', 'rushing_yards', 'lateral_receiver_player_id', 'lateral_receiver_player_name', 'lateral_receiving_yards', 'lateral_rusher_player_id', 'lateral_rusher_player_name', 'lateral_rushing_yards', 'lateral_sack_player_id', 'lateral_sack_player_name', 'interception_player_id', 'interception_player_name', 'lateral_interception_player_id', 'lateral_interception_player_name', 'punt_returner_player_id', 'punt_returner_player_name', 'lateral_punt_returner_player_id', 'lateral_punt_returner_player_name', 'kickoff_returner_player_name', 'kickoff_returner_player_id', 'lateral_kickoff_returner_player_id', 'lateral_kickoff_returner_player_name', 'punter_player_id', 'punter_player_name', 'kicker_player_name', 'kicker_player_id', 'own_kickoff_recovery_player_id', 'own_kickoff_recovery_player_name', 'blocked_player_id', 'blocked_player_name', 'tackle_for_loss_1_player_id', 'tackle_for_loss_1_player_name', 'tackle_for_loss_2_player_id', 'tackle_for_loss_2_player_name', 'qb_hit_1_player_id', 'qb_hit_1_player_name', 'qb_hit_2_player_id', 'qb_hit_2_player_name', 'forced_fumble_player_1_team', 'forced_fumble_player_1_player_id', 'forced_fumble_player_1_player_name', 'forced_fumble_player_2_team', 'forced_fumble_player_2_player_id', 'forced_fumble_player_2_player_name', 'solo_tackle_1_team', 'solo_tackle_2_team', 'solo_tackle_1_player_id', 'solo_tackle_2_player_id', 'solo_tackle_1_player_name', 'solo_tackle_2_player_name', 'assist_tackle_1_player_id', 'assist_tackle_1_player_name', 'assist_tackle_1_team', 'assist_tackle_2_player_id', 'assist_tackle_2_player_name', 'assist_tackle_2_team', 'assist_tackle_3_player_id', 'assist_tackle_3_player_name', 'assist_tackle_3_team', 'assist_tackle_4_player_id', 'assist_tackle_4_player_name', 'assist_tackle_4_team', 'tackle_with_assist', 'tackle_with_assist_1_player_id', 'tackle_with_assist_1_player_name', 'tackle_with_assist_1_team', 'tackle_with_assist_2_player_id', 'tackle_with_assist_2_player_name', 'tackle_with_assist_2_team', 'pass_defense_1_player_id', 'pass_defense_1_player_name', 'pass_defense_2_player_id', 'pass_defense_2_player_name', 'fumbled_1_team', 'fumbled_1_player_id', 'fumbled_1_player_name', 'fumbled_2_player_id', 'fumbled_2_player_name', 'fumbled_2_team', 'fumble_recovery_1_team', 'fumble_recovery_1_yards', 'fumble_recovery_1_player_id', 'fumble_recovery_1_player_name', 'fumble_recovery_2_team', 'fumble_recovery_2_yards', 'fumble_recovery_2_player_id', 'fumble_recovery_2_player_name', 'sack_player_id', 'sack_player_name', 'half_sack_1_player_id', 'half_sack_1_player_name', 'half_sack_2_player_id', 'half_sack_2_player_name', 'return_team', 'return_yards', 'penalty_team', 'penalty_player_id', 'penalty_player_name', 'penalty_yards', 'replay_or_challenge', 'replay_or_challenge_result', 'penalty_type', 'defensive_two_point_attempt', 'defensive_two_point_conv', 'defensive_extra_point_attempt', 'defensive_extra_point_conv', 'safety_player_name', 'safety_player_id', 'season', 'cp', 'cpoe', 'series', 'series_success', 'series_result', 'order_sequence', 'start_time', 'time_of_day', 'stadium', 'weather', 'nfl_api_id', 'play_clock', 'play_deleted', 'play_type_nfl', 'special_teams_play', 'st_play_type', 'end_clock_time', 'end_yard_line', 'fixed_drive', 'fixed_drive_result', 'drive_real_start_time', 'drive_play_count', 'drive_time_of_possession', 'drive_first_downs', 'drive_inside20', 'drive_ended_with_score', 'drive_quarter_start', 'drive_quarter_end', 'drive_yards_penalized', 'drive_start_transition', 'drive_end_transition', 'drive_game_clock_start', 'drive_game_clock_end', 'drive_start_yard_line', 'drive_end_yard_line', 'drive_play_id_started', 'drive_play_id_ended', 'away_score', 'home_score', 'location', 'result', 'total', 'spread_line', 'total_line', 'div_game', 'roof', 'surface', 'temp', 'wind', 'home_coach', 'away_coach', 'stadium_id', 'game_stadium', 'aborted_play', 'success', 'passer', 'passer_jersey_number', 'rusher', 'rusher_jersey_number', 'receiver', 'receiver_jersey_number', 'pass', 'rush', 'first_down', 'special', 'play', 'passer_id', 'rusher_id', 'receiver_id', 'name', 'jersey_number', 'id', 'fantasy_player_name', 'fantasy_player_id', 'fantasy', 'fantasy_id', 'out_of_bounds', 'home_opening_kickoff', 'qb_epa', 'xyac_epa', 'xyac_mean_yardage', 'xyac_median_yardage', 'xyac_success', 'xyac_fd', 'xpass', 'pass_oe', 'nflverse_game_id', 'possession_team', 'offense_formation', 'offense_personnel', 'defenders_in_box', 'defense_personnel', 'number_of_pass_rushers', 'players_on_play', 'offense_players', 'defense_players', 'n_offense', 'n_defense', 'ngs_air_yards', 'time_to_throw', 'was_pressure', 'route', 'defense_man_zone_type', 'defense_coverage_type']\n"
     ]
    }
   ],
   "source": [
    "# Print columns\n",
    "print(play_df.columns.tolist())"
   ],
   "metadata": {
    "collapsed": false,
    "ExecuteTime": {
     "end_time": "2024-01-01T14:27:38.993546Z",
     "start_time": "2024-01-01T14:27:38.922451Z"
    }
   },
   "id": "413cafec6489786e",
   "execution_count": 144
  },
  {
   "cell_type": "code",
   "execution_count": 145,
   "outputs": [
    {
     "data": {
      "text/plain": "(82723, 390)"
     },
     "execution_count": 145,
     "metadata": {},
     "output_type": "execute_result"
    }
   ],
   "source": [
    "# Preliminary play_type filter 'None' and 'no play'\n",
    "play_df = play_df.loc[~(play_df['play_type'].isin([None,'no_play']))]\n",
    "\n",
    "play_df.shape"
   ],
   "metadata": {
    "collapsed": false,
    "ExecuteTime": {
     "end_time": "2024-01-01T14:27:39.383577Z",
     "start_time": "2024-01-01T14:27:38.936186Z"
    }
   },
   "id": "82c2d371047d828a"
  },
  {
   "cell_type": "code",
   "execution_count": 146,
   "id": "98db002a",
   "metadata": {
    "pycharm": {
     "name": "#%%\n"
    },
    "ExecuteTime": {
     "end_time": "2024-01-01T14:27:39.966048Z",
     "start_time": "2024-01-01T14:27:39.263125Z"
    }
   },
   "outputs": [
    {
     "data": {
      "text/plain": "       play_id          game_id old_game_id home_team away_team season_type  \\\n75111   1081.0  2023_10_HOU_CIN  2023111202       CIN       HOU         REG   \n\n       week posteam posteam_type defteam  ...  \\\n75111    10     CIN         home     HOU  ...   \n\n                                         defense_players  n_offense n_defense  \\\n75111  00-0035276;00-0032759;00-0033926;00-0037246;00...       11.0      11.0   \n\n       ngs_air_yards  time_to_throw  was_pressure  route  \\\n75111           6.64          1.768           0.0  SLANT   \n\n       defense_man_zone_type  defense_coverage_type         game_alt_id  \n75111          ZONE_COVERAGE                COVER_4  CIN_HOU_2023_11_12  \n\n[1 rows x 391 columns]",
      "text/html": "<div>\n<style scoped>\n    .dataframe tbody tr th:only-of-type {\n        vertical-align: middle;\n    }\n\n    .dataframe tbody tr th {\n        vertical-align: top;\n    }\n\n    .dataframe thead th {\n        text-align: right;\n    }\n</style>\n<table border=\"1\" class=\"dataframe\">\n  <thead>\n    <tr style=\"text-align: right;\">\n      <th></th>\n      <th>play_id</th>\n      <th>game_id</th>\n      <th>old_game_id</th>\n      <th>home_team</th>\n      <th>away_team</th>\n      <th>season_type</th>\n      <th>week</th>\n      <th>posteam</th>\n      <th>posteam_type</th>\n      <th>defteam</th>\n      <th>...</th>\n      <th>defense_players</th>\n      <th>n_offense</th>\n      <th>n_defense</th>\n      <th>ngs_air_yards</th>\n      <th>time_to_throw</th>\n      <th>was_pressure</th>\n      <th>route</th>\n      <th>defense_man_zone_type</th>\n      <th>defense_coverage_type</th>\n      <th>game_alt_id</th>\n    </tr>\n  </thead>\n  <tbody>\n    <tr>\n      <th>75111</th>\n      <td>1081.0</td>\n      <td>2023_10_HOU_CIN</td>\n      <td>2023111202</td>\n      <td>CIN</td>\n      <td>HOU</td>\n      <td>REG</td>\n      <td>10</td>\n      <td>CIN</td>\n      <td>home</td>\n      <td>HOU</td>\n      <td>...</td>\n      <td>00-0035276;00-0032759;00-0033926;00-0037246;00...</td>\n      <td>11.0</td>\n      <td>11.0</td>\n      <td>6.64</td>\n      <td>1.768</td>\n      <td>0.0</td>\n      <td>SLANT</td>\n      <td>ZONE_COVERAGE</td>\n      <td>COVER_4</td>\n      <td>CIN_HOU_2023_11_12</td>\n    </tr>\n  </tbody>\n</table>\n<p>1 rows × 391 columns</p>\n</div>"
     },
     "execution_count": 146,
     "metadata": {},
     "output_type": "execute_result"
    }
   ],
   "source": [
    "# Modify team names to match other data sources\n",
    "play_df['home_team'] = np.where(play_df['home_team'] == 'OAK', 'LV', play_df['home_team'])\n",
    "play_df['away_team'] = np.where(play_df['away_team'] == 'OAK', 'LV', play_df['away_team'])\n",
    "play_df['posteam'] = np.where(play_df['posteam'] == 'OAK', 'LV', play_df['posteam'])\n",
    "play_df['defteam'] = np.where(play_df['defteam'] == 'OAK', 'LV', play_df['defteam'])\n",
    "play_df['penalty_team'] = np.where(play_df['penalty_team'] == 'OAK', 'LV', play_df['penalty_team'])\n",
    "play_df['side_of_field'] = np.where(play_df['side_of_field'] == 'OAK', 'LV', play_df['side_of_field'])\n",
    "play_df['game_id'] = play_df['game_id'].str.replace('OAK', 'LV', case=True)\n",
    "\n",
    "# Convert game_date to datetime format\n",
    "play_df['game_date']= pd.to_datetime(play_df['game_date'])\n",
    "\n",
    "# Create year column from game_date using isoformat\n",
    "play_df['year'] = play_df['game_date'].dt.year\n",
    "play_df['month'] = play_df['game_date'].dt.month\n",
    "play_df['day'] = play_df['game_date'].dt.day\n",
    "\n",
    "play_df['game_alt_id'] = play_df['home_team'] + '_' + play_df['away_team'] + '_' +  play_df['year'].astype(str) + '_' + play_df['month'].astype(str).str.zfill(2) + '_' + play_df['day'].astype(str).str.zfill(2)\n",
    "    \n",
    "play_df.drop(['year','month','day'], axis=1, inplace=True)\n",
    "\n",
    "play_df.sample(1)"
   ]
  },
  {
   "cell_type": "code",
   "execution_count": 147,
   "outputs": [],
   "source": [
    "# Move game_alt_id to fourth column in dataframe\n",
    "cols = play_df.columns.tolist()\n",
    "cols = cols[:3] + cols[-1:] + cols[3:-1]\n",
    "play_df = play_df[cols]"
   ],
   "metadata": {
    "collapsed": false,
    "ExecuteTime": {
     "end_time": "2024-01-01T14:27:40.287803Z",
     "start_time": "2024-01-01T14:27:39.960433Z"
    }
   },
   "id": "ce7405ebec078e6b"
  },
  {
   "cell_type": "code",
   "execution_count": 149,
   "id": "75902bba",
   "metadata": {
    "pycharm": {
     "name": "#%%\n"
    },
    "ExecuteTime": {
     "end_time": "2024-01-01T14:27:40.363407Z",
     "start_time": "2024-01-01T14:27:40.297454Z"
    }
   },
   "outputs": [
    {
     "data": {
      "text/plain": "32"
     },
     "execution_count": 149,
     "metadata": {},
     "output_type": "execute_result"
    }
   ],
   "source": [
    "play_df.home_team.nunique()"
   ]
  },
  {
   "cell_type": "code",
   "execution_count": 150,
   "outputs": [
    {
     "data": {
      "text/plain": "208"
     },
     "execution_count": 150,
     "metadata": {},
     "output_type": "execute_result"
    }
   ],
   "source": [
    "# Game-play sequence\n",
    "play_df['play'] = play_df.groupby(['game_id'])['play_id'].cumcount() + 1\n",
    "\n",
    "play_df.play.nunique()"
   ],
   "metadata": {
    "collapsed": false,
    "ExecuteTime": {
     "end_time": "2024-01-01T14:27:40.552625Z",
     "start_time": "2024-01-01T14:27:40.309987Z"
    }
   },
   "id": "50d3c38c52d45e0d"
  },
  {
   "cell_type": "markdown",
   "id": "46536268",
   "metadata": {
    "pycharm": {
     "name": "#%% md\n"
    }
   },
   "source": [
    "## NFL GAME SCHEDULE DATA"
   ]
  },
  {
   "cell_type": "code",
   "execution_count": 152,
   "id": "63f722f6",
   "metadata": {
    "pycharm": {
     "name": "#%%\n"
    },
    "ExecuteTime": {
     "end_time": "2024-01-01T14:27:42.045428Z",
     "start_time": "2024-01-01T14:27:40.351433Z"
    }
   },
   "outputs": [
    {
     "data": {
      "text/plain": "(556, 46)"
     },
     "execution_count": 152,
     "metadata": {},
     "output_type": "execute_result"
    }
   ],
   "source": [
    "game_data = nfl.import_schedules(years=seasons)\n",
    "\n",
    "# Clean dataframe using nfl-data-api cleaning function\n",
    "game_df = nfl.clean_nfl_data(game_data)\n",
    "\n",
    "# # Sort dataframe\n",
    "game_df = game_df.sort_values(by=['season','week','gameday'], ascending=True)\n",
    "\n",
    "game_df.shape"
   ]
  },
  {
   "cell_type": "code",
   "execution_count": 153,
   "id": "b64669eb",
   "metadata": {
    "pycharm": {
     "name": "#%%\n"
    },
    "scrolled": false,
    "ExecuteTime": {
     "end_time": "2024-01-01T14:27:42.168479Z",
     "start_time": "2024-01-01T14:27:41.887203Z"
    }
   },
   "outputs": [
    {
     "data": {
      "text/plain": "             game_id  season game_type  week     gameday   weekday gametime  \\\n6137  2022_01_BUF_LA    2022       REG     1  2022-09-08  Thursday    20:20   \n6138  2022_01_NO_ATL    2022       REG     1  2022-09-11    Sunday    13:00   \n\n     away_team  away_score home_team  ...  wind  away_qb_id  home_qb_id  \\\n6137       BUF        31.0        LA  ...   NaN  00-0034857  00-0026498   \n6138        NO        27.0       ATL  ...   NaN  00-0031503  00-0032268   \n\n        away_qb_name      home_qb_name      away_coach    home_coach  \\\n6137      Josh Allen  Matthew Stafford  Sean McDermott    Sean McVay   \n6138  Jameis Winston    Marcus Mariota    Dennis Allen  Arthur Smith   \n\n            referee stadium_id                stadium  \n6137  Carl Cheffers      LAX01           SoFi Stadium  \n6138      Alex Kemp      ATL97  Mercedes-Benz Stadium  \n\n[2 rows x 46 columns]",
      "text/html": "<div>\n<style scoped>\n    .dataframe tbody tr th:only-of-type {\n        vertical-align: middle;\n    }\n\n    .dataframe tbody tr th {\n        vertical-align: top;\n    }\n\n    .dataframe thead th {\n        text-align: right;\n    }\n</style>\n<table border=\"1\" class=\"dataframe\">\n  <thead>\n    <tr style=\"text-align: right;\">\n      <th></th>\n      <th>game_id</th>\n      <th>season</th>\n      <th>game_type</th>\n      <th>week</th>\n      <th>gameday</th>\n      <th>weekday</th>\n      <th>gametime</th>\n      <th>away_team</th>\n      <th>away_score</th>\n      <th>home_team</th>\n      <th>...</th>\n      <th>wind</th>\n      <th>away_qb_id</th>\n      <th>home_qb_id</th>\n      <th>away_qb_name</th>\n      <th>home_qb_name</th>\n      <th>away_coach</th>\n      <th>home_coach</th>\n      <th>referee</th>\n      <th>stadium_id</th>\n      <th>stadium</th>\n    </tr>\n  </thead>\n  <tbody>\n    <tr>\n      <th>6137</th>\n      <td>2022_01_BUF_LA</td>\n      <td>2022</td>\n      <td>REG</td>\n      <td>1</td>\n      <td>2022-09-08</td>\n      <td>Thursday</td>\n      <td>20:20</td>\n      <td>BUF</td>\n      <td>31.0</td>\n      <td>LA</td>\n      <td>...</td>\n      <td>NaN</td>\n      <td>00-0034857</td>\n      <td>00-0026498</td>\n      <td>Josh Allen</td>\n      <td>Matthew Stafford</td>\n      <td>Sean McDermott</td>\n      <td>Sean McVay</td>\n      <td>Carl Cheffers</td>\n      <td>LAX01</td>\n      <td>SoFi Stadium</td>\n    </tr>\n    <tr>\n      <th>6138</th>\n      <td>2022_01_NO_ATL</td>\n      <td>2022</td>\n      <td>REG</td>\n      <td>1</td>\n      <td>2022-09-11</td>\n      <td>Sunday</td>\n      <td>13:00</td>\n      <td>NO</td>\n      <td>27.0</td>\n      <td>ATL</td>\n      <td>...</td>\n      <td>NaN</td>\n      <td>00-0031503</td>\n      <td>00-0032268</td>\n      <td>Jameis Winston</td>\n      <td>Marcus Mariota</td>\n      <td>Dennis Allen</td>\n      <td>Arthur Smith</td>\n      <td>Alex Kemp</td>\n      <td>ATL97</td>\n      <td>Mercedes-Benz Stadium</td>\n    </tr>\n  </tbody>\n</table>\n<p>2 rows × 46 columns</p>\n</div>"
     },
     "execution_count": 153,
     "metadata": {},
     "output_type": "execute_result"
    }
   ],
   "source": [
    "game_df.head(2)"
   ]
  },
  {
   "cell_type": "code",
   "execution_count": 154,
   "id": "8752388f",
   "metadata": {
    "pycharm": {
     "name": "#%%\n"
    },
    "ExecuteTime": {
     "end_time": "2024-01-01T14:27:42.209026Z",
     "start_time": "2024-01-01T14:27:41.982343Z"
    }
   },
   "outputs": [],
   "source": [
    "# Modify team codes to match schedule\n",
    "game_df['home_team'] = np.where(game_df['home_team'] == 'OAK', 'LV', game_df['home_team'])\n",
    "game_df['away_team'] = np.where(game_df['away_team'] == 'OAK', 'LV', game_df['away_team'])\n",
    "game_df['game_id'] = game_df['game_id'].str.replace('OAK', 'LV', case=True)"
   ]
  },
  {
   "cell_type": "code",
   "execution_count": 155,
   "id": "53bb21e7",
   "metadata": {
    "pycharm": {
     "name": "#%%\n"
    },
    "ExecuteTime": {
     "end_time": "2024-01-01T14:27:42.244485Z",
     "start_time": "2024-01-01T14:27:41.988257Z"
    }
   },
   "outputs": [
    {
     "data": {
      "text/plain": "32"
     },
     "execution_count": 155,
     "metadata": {},
     "output_type": "execute_result"
    }
   ],
   "source": [
    "game_df.home_team.nunique()"
   ]
  },
  {
   "cell_type": "code",
   "execution_count": 156,
   "id": "a7bfeaeb",
   "metadata": {
    "pycharm": {
     "name": "#%%\n"
    },
    "ExecuteTime": {
     "end_time": "2024-01-01T14:27:42.257859Z",
     "start_time": "2024-01-01T14:27:41.999370Z"
    }
   },
   "outputs": [
    {
     "data": {
      "text/plain": "32"
     },
     "execution_count": 156,
     "metadata": {},
     "output_type": "execute_result"
    }
   ],
   "source": [
    "game_df.away_team.nunique()"
   ]
  },
  {
   "cell_type": "code",
   "execution_count": 157,
   "id": "cbbf6c4f",
   "metadata": {
    "pycharm": {
     "name": "#%%\n"
    },
    "ExecuteTime": {
     "end_time": "2024-01-01T14:27:42.322253Z",
     "start_time": "2024-01-01T14:27:42.011336Z"
    }
   },
   "outputs": [
    {
     "data": {
      "text/plain": "              game_id         game_alt_id    gameday   weekday gametime  \\\n6617  2023_14_DET_CHI  CHI_DET_2023_12_10 2023-12-10    Sunday    13:00   \n6647  2023_16_BUF_LAC  LAC_BUF_2023_12_23 2023-12-23  Saturday    20:00   \n\n      under_odds  over_odds  away_rest  home_rest  \n6617      -110.0     -110.0          7         13  \n6647      -115.0     -105.0          6          9  ",
      "text/html": "<div>\n<style scoped>\n    .dataframe tbody tr th:only-of-type {\n        vertical-align: middle;\n    }\n\n    .dataframe tbody tr th {\n        vertical-align: top;\n    }\n\n    .dataframe thead th {\n        text-align: right;\n    }\n</style>\n<table border=\"1\" class=\"dataframe\">\n  <thead>\n    <tr style=\"text-align: right;\">\n      <th></th>\n      <th>game_id</th>\n      <th>game_alt_id</th>\n      <th>gameday</th>\n      <th>weekday</th>\n      <th>gametime</th>\n      <th>under_odds</th>\n      <th>over_odds</th>\n      <th>away_rest</th>\n      <th>home_rest</th>\n    </tr>\n  </thead>\n  <tbody>\n    <tr>\n      <th>6617</th>\n      <td>2023_14_DET_CHI</td>\n      <td>CHI_DET_2023_12_10</td>\n      <td>2023-12-10</td>\n      <td>Sunday</td>\n      <td>13:00</td>\n      <td>-110.0</td>\n      <td>-110.0</td>\n      <td>7</td>\n      <td>13</td>\n    </tr>\n    <tr>\n      <th>6647</th>\n      <td>2023_16_BUF_LAC</td>\n      <td>LAC_BUF_2023_12_23</td>\n      <td>2023-12-23</td>\n      <td>Saturday</td>\n      <td>20:00</td>\n      <td>-115.0</td>\n      <td>-105.0</td>\n      <td>6</td>\n      <td>9</td>\n    </tr>\n  </tbody>\n</table>\n</div>"
     },
     "execution_count": 157,
     "metadata": {},
     "output_type": "execute_result"
    }
   ],
   "source": [
    "# Encode year month and day from gameday using isoformat\n",
    "game_df['gameday'] = pd.to_datetime(game_df['gameday'])\n",
    "\n",
    "game_df['year'] = game_df['gameday'].dt.year\n",
    "game_df['month'] = game_df['gameday'].dt.month\n",
    "game_df['day'] = game_df['gameday'].dt.day\n",
    "\n",
    "game_df['game_alt_id'] = game_df['home_team'] + '_' + game_df['away_team'] + '_' + game_df['year'].astype(str) + '_' + game_df['month'].astype(str).str.zfill(2) + '_' + game_df['day'].astype(str).str.zfill(2)\n",
    "    \n",
    "game_df.drop(['year','month','day'], axis=1, inplace=True)\n",
    "\n",
    "# Create game_id lookup table (joined with QBR table)\n",
    "game_df = game_df[['game_id','game_alt_id','gameday','weekday','gametime','under_odds','over_odds','away_rest','home_rest']]\n",
    "\n",
    "game_df.sample(2)"
   ]
  },
  {
   "cell_type": "markdown",
   "id": "b1c077dd",
   "metadata": {
    "pycharm": {
     "name": "#%% md\n"
    }
   },
   "source": [
    "## NFL QBR DATA"
   ]
  },
  {
   "cell_type": "code",
   "execution_count": 158,
   "id": "19302f2d",
   "metadata": {
    "pycharm": {
     "name": "#%%\n"
    },
    "ExecuteTime": {
     "end_time": "2024-01-01T14:27:43.298188Z",
     "start_time": "2024-01-01T14:27:42.064244Z"
    }
   },
   "outputs": [
    {
     "data": {
      "text/plain": "(1075, 30)"
     },
     "execution_count": 158,
     "metadata": {},
     "output_type": "execute_result"
    }
   ],
   "source": [
    "qbr_data = nfl.import_qbr(years=seasons, level='nfl', frequency='weekly')\n",
    "\n",
    "# Clean dataframe using nfl-data-api cleaning function\n",
    "qbr_df = nfl.clean_nfl_data(qbr_data)\n",
    "\n",
    "qbr_df.shape"
   ]
  },
  {
   "cell_type": "code",
   "execution_count": 159,
   "outputs": [
    {
     "data": {
      "text/plain": "      season season_type    game_id  game_week week_text team_abb  player_id  \\\n8538    2022     Regular  401437751          4    Week 4      DAL    2972515   \n9386    2023     Regular  401547580         14   Week 14      CIN    3886812   \n\n       name_short  rank  qbr_total  ...  name_last   name_display  \\\n8538      C. Rush   7.0       81.2  ...       Rush    Cooper Rush   \n9386  J. Browning   3.0       71.2  ...   Browning  Jake Browning   \n\n                                          headshot_href     team  opp_id  \\\n8538  https://a.espncdn.com/i/headshots/nfl/players/...  Cowboys      28   \n9386  https://a.espncdn.com/i/headshots/nfl/players/...  Bengals      11   \n\n      opp_abb               opp_team    opp_name  week_num qualified  \n8538      WSH  Washington Commanders  Commanders         4      True  \n9386      IND     Indianapolis Colts       Colts        14      True  \n\n[2 rows x 30 columns]",
      "text/html": "<div>\n<style scoped>\n    .dataframe tbody tr th:only-of-type {\n        vertical-align: middle;\n    }\n\n    .dataframe tbody tr th {\n        vertical-align: top;\n    }\n\n    .dataframe thead th {\n        text-align: right;\n    }\n</style>\n<table border=\"1\" class=\"dataframe\">\n  <thead>\n    <tr style=\"text-align: right;\">\n      <th></th>\n      <th>season</th>\n      <th>season_type</th>\n      <th>game_id</th>\n      <th>game_week</th>\n      <th>week_text</th>\n      <th>team_abb</th>\n      <th>player_id</th>\n      <th>name_short</th>\n      <th>rank</th>\n      <th>qbr_total</th>\n      <th>...</th>\n      <th>name_last</th>\n      <th>name_display</th>\n      <th>headshot_href</th>\n      <th>team</th>\n      <th>opp_id</th>\n      <th>opp_abb</th>\n      <th>opp_team</th>\n      <th>opp_name</th>\n      <th>week_num</th>\n      <th>qualified</th>\n    </tr>\n  </thead>\n  <tbody>\n    <tr>\n      <th>8538</th>\n      <td>2022</td>\n      <td>Regular</td>\n      <td>401437751</td>\n      <td>4</td>\n      <td>Week 4</td>\n      <td>DAL</td>\n      <td>2972515</td>\n      <td>C. Rush</td>\n      <td>7.0</td>\n      <td>81.2</td>\n      <td>...</td>\n      <td>Rush</td>\n      <td>Cooper Rush</td>\n      <td>https://a.espncdn.com/i/headshots/nfl/players/...</td>\n      <td>Cowboys</td>\n      <td>28</td>\n      <td>WSH</td>\n      <td>Washington Commanders</td>\n      <td>Commanders</td>\n      <td>4</td>\n      <td>True</td>\n    </tr>\n    <tr>\n      <th>9386</th>\n      <td>2023</td>\n      <td>Regular</td>\n      <td>401547580</td>\n      <td>14</td>\n      <td>Week 14</td>\n      <td>CIN</td>\n      <td>3886812</td>\n      <td>J. Browning</td>\n      <td>3.0</td>\n      <td>71.2</td>\n      <td>...</td>\n      <td>Browning</td>\n      <td>Jake Browning</td>\n      <td>https://a.espncdn.com/i/headshots/nfl/players/...</td>\n      <td>Bengals</td>\n      <td>11</td>\n      <td>IND</td>\n      <td>Indianapolis Colts</td>\n      <td>Colts</td>\n      <td>14</td>\n      <td>True</td>\n    </tr>\n  </tbody>\n</table>\n<p>2 rows × 30 columns</p>\n</div>"
     },
     "execution_count": 159,
     "metadata": {},
     "output_type": "execute_result"
    }
   ],
   "source": [
    "qbr_df.sample(2)"
   ],
   "metadata": {
    "collapsed": false,
    "ExecuteTime": {
     "end_time": "2024-01-01T14:27:43.331927Z",
     "start_time": "2024-01-01T14:27:43.288892Z"
    }
   },
   "id": "51e38494c0112001"
  },
  {
   "cell_type": "raw",
   "source": [
    "# Filter missing game_alt_id values\n",
    "qbr_df = qbr_df.loc[~(qbr_df['game_alt_id'].isnull())]\n",
    "\n",
    "qbr_df.shape"
   ],
   "metadata": {
    "collapsed": false
   },
   "id": "3b96201b23ce3263"
  },
  {
   "cell_type": "code",
   "execution_count": 160,
   "outputs": [
    {
     "data": {
      "text/plain": "(1075, 22)"
     },
     "execution_count": 160,
     "metadata": {},
     "output_type": "execute_result"
    }
   ],
   "source": [
    "# Rename columns\n",
    "qbr_df = qbr_df.rename(columns={'team_abb':'posteam', 'opp_abb':'defteam'})\n",
    "\n",
    "# Drop column\n",
    "# qbr_df.drop(['game_id'], axis=1, inplace=True)\n",
    "\n",
    "# Rename columns\n",
    "qbr_df = qbr_df.rename(columns={'qb_plays': 'plays'})\n",
    "\n",
    "# Create sequential week column\n",
    "qbr_df['week'] = np.where((qbr_df['season'] < 2021) & (qbr_df['season_type'] == 'Playoffs'), (17 + qbr_df['game_week']),\n",
    "                 np.where((qbr_df['season'] >= 2021) & (qbr_df['season_type'] == 'Playoffs'), (18 + qbr_df['game_week']),\n",
    "                 qbr_df['game_week']))\n",
    "\n",
    "# Modify team codes to match schedule\n",
    "qbr_df['posteam'] = np.where(qbr_df['posteam'] == 'OAK', 'LV', qbr_df['posteam'])\n",
    "qbr_df['defteam'] = np.where(qbr_df['defteam'] == 'OAK', 'LV', qbr_df['defteam'])\n",
    "qbr_df['posteam'] = np.where(qbr_df['posteam'] == 'LAR', 'LA', qbr_df['posteam'])\n",
    "qbr_df['defteam'] = np.where(qbr_df['defteam'] == 'LAR', 'LA', qbr_df['defteam'])\n",
    "qbr_df['posteam'] = np.where(qbr_df['posteam'] == 'WSH', 'WAS', qbr_df['posteam'])\n",
    "qbr_df['defteam'] = np.where(qbr_df['defteam'] == 'WSH', 'WAS', qbr_df['defteam'])\n",
    "\n",
    "# Impute incorrect values\n",
    "qbr_df['week'] = np.where((qbr_df['season'] == 2018) & (qbr_df['posteam'] == 'LV') & (qbr_df['defteam'] == 'BAL') & (qbr_df['week'] == 1), 12, qbr_df['week'])\n",
    "qbr_df['week'] = np.where((qbr_df['season'] == 2018) & (qbr_df['posteam'] == 'BAL') & (qbr_df['defteam'] == 'LV') & (qbr_df['week'] == 1), 12, qbr_df['week'])\n",
    "qbr_df['defteam'] = np.where((qbr_df['season'] == 2018) & (qbr_df['posteam'] == 'LV') & (qbr_df['defteam'] == 'CHI') & (qbr_df['week'] == 9), 'SF', qbr_df['defteam'])\n",
    "qbr_df['defteam'] = np.where((qbr_df['season'] == 2018) & (qbr_df['posteam'] == 'CHI') & (qbr_df['defteam'] == 'LV') & (qbr_df['week'] == 9), 'SF', qbr_df['defteam'])\n",
    "\n",
    "# Create both combinations of game_id\n",
    "qbr_df['game_id_1'] = qbr_df['season'].astype(str) + '_' + qbr_df['week'].astype(str).str.zfill(2) + '_' + qbr_df['posteam'] + '_' + qbr_df['defteam']\n",
    "qbr_df['game_id_2'] = qbr_df['season'].astype(str) + '_' + qbr_df['week'].astype(str).str.zfill(2) + '_' + qbr_df['defteam'] + '_' + qbr_df['posteam']\n",
    "\n",
    "# Reduce dataframe dimensions\n",
    "qbr_df = qbr_df[['game_id_1','game_id_2','season','week','posteam','rank','pts_added','plays','qbr_raw','qbr_total','exp_sack','sack','pass','run']]\n",
    "\n",
    "# Merge with schedule dataframe to get game_id\n",
    "qbr_df = pd.merge(qbr_df, game_df, how='left', left_on=['game_id_1'], right_on = ['game_id'])\n",
    "qbr_df = qbr_df.rename(columns={'game_id':'game_id1',\n",
    "                                'game_alt_id':'game_alt_id1',\n",
    "                                'gameday':'gameday1',\n",
    "                                'weekday':'weekday1',\n",
    "                                'gametime':'gametime1',\n",
    "                                'under_odds':'under_odds1',\n",
    "                                'over_odds':'over_odds1',\n",
    "                                'away_rest':'away_rest1',\n",
    "                                'home_rest':'home_rest1',\n",
    "                                })\n",
    "\n",
    "qbr_df = pd.merge(qbr_df, game_df, how='left', left_on=['game_id_2'], right_on = ['game_id'])\n",
    "qbr_df = qbr_df.rename(columns={'game_id':'game_id2',\n",
    "                                'game_alt_id':'game_alt_id2',\n",
    "                                'gameday':'gameday2',\n",
    "                                'weekday':'weekday2',\n",
    "                                'gametime':'gametime2',\n",
    "                                'under_odds':'under_odds2',\n",
    "                                'over_odds':'over_odds2',\n",
    "                                'away_rest':'away_rest2',\n",
    "                                'home_rest':'home_rest2',\n",
    "                                })\n",
    "\n",
    "# Combine columns\n",
    "qbr_df['game_id'] = np.where(qbr_df['game_id1'].isnull(), qbr_df['game_id2'], qbr_df['game_id1'])\n",
    "#qbr_df['game_alt_id'] = np.where(qbr_df['game_alt_id1'].isnull(), qbr_df['game_alt_id2'], qbr_df['game_alt_id1'])\n",
    "qbr_df['gameday'] = np.where(qbr_df['gameday1'].isnull(), qbr_df['gameday2'], qbr_df['gameday1'])\n",
    "qbr_df['weekday'] = np.where(qbr_df['weekday1'].isnull(), qbr_df['weekday2'], qbr_df['weekday1'])\n",
    "\n",
    "qbr_df['gametime'] = np.where(qbr_df['gametime1'].isnull(), qbr_df['gametime2'], qbr_df['gametime1'])\n",
    "qbr_df['under_odds'] = np.where(qbr_df['under_odds1'].isnull(), qbr_df['under_odds2'], qbr_df['under_odds1'])\n",
    "qbr_df['over_odds'] = np.where(qbr_df['over_odds1'].isnull(), qbr_df['over_odds2'], qbr_df['over_odds1'])\n",
    "qbr_df['away_rest'] = np.where(qbr_df['away_rest1'].isnull(), qbr_df['away_rest2'], qbr_df['away_rest1'])\n",
    "qbr_df['home_rest'] = np.where(qbr_df['home_rest1'].isnull(), qbr_df['home_rest2'], qbr_df['home_rest1'])\n",
    "\n",
    "qbr_df['game_id'].fillna('NULL', inplace = True)\n",
    "\n",
    "qbr_df.drop(['game_id_1','game_id_2','game_id1','game_id2','gameday1','gameday2','weekday1','weekday2','gametime1','gametime2','under_odds1','under_odds2','over_odds1','over_odds2','away_rest1','away_rest2','home_rest1','home_rest2'], axis=1, inplace=True) # 'game_alt_id1','game_alt_id2',\n",
    "\n",
    "qbr_df.shape"
   ],
   "metadata": {
    "pycharm": {
     "name": "#%%\n"
    },
    "ExecuteTime": {
     "end_time": "2024-01-01T14:27:43.535826Z",
     "start_time": "2024-01-01T14:27:43.303758Z"
    }
   },
   "id": "47fe0094"
  },
  {
   "cell_type": "code",
   "execution_count": 161,
   "id": "54ea3a71",
   "metadata": {
    "pycharm": {
     "name": "#%%\n"
    },
    "ExecuteTime": {
     "end_time": "2024-01-01T14:27:43.588606Z",
     "start_time": "2024-01-01T14:27:43.366888Z"
    }
   },
   "outputs": [
    {
     "data": {
      "text/plain": "(1049, 22)"
     },
     "execution_count": 161,
     "metadata": {},
     "output_type": "execute_result"
    }
   ],
   "source": [
    "# Sort dataframe and drop quarterback with fewer passes during week\n",
    "qbr_df = qbr_df.sort_values(by=['season','posteam','week','plays'], ascending=True)\n",
    "\n",
    "qbr_df = qbr_df.drop_duplicates(['season','posteam','week'], keep='last')\n",
    "\n",
    "qbr_df.shape"
   ]
  },
  {
   "cell_type": "code",
   "execution_count": 162,
   "id": "daf990b3",
   "metadata": {
    "pycharm": {
     "name": "#%%\n"
    },
    "ExecuteTime": {
     "end_time": "2024-01-01T14:27:43.739051Z",
     "start_time": "2024-01-01T14:27:43.387161Z"
    }
   },
   "outputs": [],
   "source": [
    "# Create rolling average of quarterback statistics\n",
    "qbr_df['qb_rank'] = qbr_df.groupby(['season',\n",
    "                                    'posteam'])['rank'].transform(lambda x: x.rolling(window=rolling_game_window,\n",
    "                                                                                      min_periods=1,\n",
    "                                                                                      closed='left',\n",
    "                                                                                      center=False).mean())\n",
    "\n",
    "qbr_df['qb_pts'] = qbr_df.groupby(['season',\n",
    "                                    'posteam'])['pts_added'].transform(lambda x: x.rolling(window=rolling_game_window,\n",
    "                                                                                      min_periods=1,\n",
    "                                                                                      closed='left',\n",
    "                                                                                      center=False).mean())\n",
    "\n",
    "qbr_df['qb_plays'] = qbr_df.groupby(['season',\n",
    "                                    'posteam'])['plays'].transform(lambda x: x.rolling(window=rolling_game_window,\n",
    "                                                                                      min_periods=1,\n",
    "                                                                                      closed='left',\n",
    "                                                                                      center=False).mean())\n",
    "qbr_df['qb_qbr_raw'] = qbr_df.groupby(['season',\n",
    "                                    'posteam'])['qbr_raw'].transform(lambda x: x.rolling(window=rolling_game_window,\n",
    "                                                                                      min_periods=1,\n",
    "                                                                                      closed='left',\n",
    "                                                                                      center=False).mean())\n",
    "qbr_df['qb_qbr'] = qbr_df.groupby(['season',\n",
    "                                    'posteam'])['qbr_total'].transform(lambda x: x.rolling(window=rolling_game_window,\n",
    "                                                                                      min_periods=1,\n",
    "                                                                                      closed='left',\n",
    "                                                                                      center=False).mean())\n",
    "# qbr_df['qb_sack'] = qbr_df.groupby(['season',\n",
    "#                                     'posteam'])['sack'].transform(lambda x: x.rolling(window=rolling_game_window,\n",
    "#                                                                                       min_periods=1,\n",
    "#                                                                                       closed='left',\n",
    "#                                                                                       center=False).mean())\n",
    "# qbr_df['qb_exp_sack'] = qbr_df.groupby(['season',\n",
    "#                                     'posteam'])['exp_sack'].transform(lambda x: x.rolling(window=rolling_game_window,\n",
    "#                                                                                       min_periods=1,\n",
    "#                                                                                       closed='left',\n",
    "#                                                                                       center=False).mean())\n",
    "qbr_df['qb_pass'] = qbr_df.groupby(['season',\n",
    "                                    'posteam'])['pass'].transform(lambda x: x.rolling(window=rolling_game_window,\n",
    "                                                                                      min_periods=1,\n",
    "                                                                                      closed='left',\n",
    "                                                                                      center=False).mean())\n",
    "qbr_df['qb_run'] = qbr_df.groupby(['season',\n",
    "                                    'posteam'])['run'].transform(lambda x: x.rolling(window=rolling_game_window,\n",
    "                                                                                      min_periods=1,\n",
    "                                                                                      closed='left',\n",
    "                                                                                      center=False).mean())\n",
    "\n",
    "# Sort dataframe by gameday and posteam\n",
    "qbr_df = qbr_df.sort_values(by=['gameday','posteam'], ascending=True)\n",
    "\n",
    "# Print column names\n",
    "qbr_df.drop(['game_id','season','week','rank','pts_added','plays','qbr_raw','qbr_total','exp_sack','sack','pass','run','gameday','weekday','gametime','under_odds','over_odds','away_rest','home_rest'],  axis=1, inplace=True)"
   ]
  },
  {
   "cell_type": "code",
   "execution_count": 163,
   "id": "085bae1d",
   "metadata": {
    "pycharm": {
     "name": "#%%\n"
    },
    "ExecuteTime": {
     "end_time": "2024-01-01T14:27:43.824663Z",
     "start_time": "2024-01-01T14:27:43.530780Z"
    }
   },
   "outputs": [
    {
     "data": {
      "text/plain": "(1049, 10)"
     },
     "execution_count": 163,
     "metadata": {},
     "output_type": "execute_result"
    }
   ],
   "source": [
    "# Impute missing data with median values\n",
    "qbr_df['qb_rank'] = qbr_df['qb_rank'].fillna(qbr_df.qb_rank.median())\n",
    "qbr_df['qb_pts'] = qbr_df['qb_pts'].fillna(qbr_df.qb_pts.median())\n",
    "qbr_df['qb_plays'] = qbr_df['qb_plays'].fillna(qbr_df.qb_plays.median())\n",
    "qbr_df['qb_qbr_raw'] = qbr_df['qb_qbr_raw'].fillna(qbr_df.qb_qbr_raw.median())\n",
    "qbr_df['qb_qbr'] = qbr_df['qb_qbr'].fillna(qbr_df.qb_qbr.median())\n",
    "# qbr_df['qb_sack'] = qbr_df['qb_sack'].fillna(qbr_df.qb_sack.median())\n",
    "# qbr_df['qb_exp_sack'] = qbr_df['qb_exp_sack'].fillna(qbr_df.qb_exp_sack.median())\n",
    "qbr_df['qb_pass'] = qbr_df['qb_pass'].fillna(qbr_df.qb_pass.median())\n",
    "qbr_df['qb_run'] = qbr_df['qb_run'].fillna(qbr_df.qb_run.median())\n",
    "\n",
    "qbr_df.shape"
   ]
  },
  {
   "cell_type": "code",
   "execution_count": 164,
   "id": "f45aa49c",
   "metadata": {
    "pycharm": {
     "name": "#%%\n"
    },
    "ExecuteTime": {
     "end_time": "2024-01-01T14:27:43.850041Z",
     "start_time": "2024-01-01T14:27:43.542186Z"
    }
   },
   "outputs": [
    {
     "name": "stdout",
     "output_type": "stream",
     "text": [
      "team count: 32\n"
     ]
    }
   ],
   "source": [
    "print('team count:', qbr_df.posteam.nunique())"
   ]
  },
  {
   "cell_type": "code",
   "execution_count": 165,
   "id": "0cf35ea9",
   "metadata": {
    "pycharm": {
     "name": "#%%\n"
    },
    "ExecuteTime": {
     "end_time": "2024-01-01T14:27:43.876647Z",
     "start_time": "2024-01-01T14:27:43.560015Z"
    }
   },
   "outputs": [
    {
     "data": {
      "text/plain": "   posteam       game_alt_id1       game_alt_id2  qb_rank  qb_pts  qb_plays  \\\n1      BUF  LA_BUF_2022_09_08                NaN    15.75     0.2      41.5   \n26      LA                NaN  LA_BUF_2022_09_08    15.75     0.2      41.5   \n14     ARI                NaN  ARI_KC_2022_09_11    15.75     0.2      41.5   \n\n    qb_qbr_raw  qb_qbr  qb_pass  qb_run  \n1       52.275    52.4    3.025     0.4  \n26      52.275    52.4    3.025     0.4  \n14      52.275    52.4    3.025     0.4  ",
      "text/html": "<div>\n<style scoped>\n    .dataframe tbody tr th:only-of-type {\n        vertical-align: middle;\n    }\n\n    .dataframe tbody tr th {\n        vertical-align: top;\n    }\n\n    .dataframe thead th {\n        text-align: right;\n    }\n</style>\n<table border=\"1\" class=\"dataframe\">\n  <thead>\n    <tr style=\"text-align: right;\">\n      <th></th>\n      <th>posteam</th>\n      <th>game_alt_id1</th>\n      <th>game_alt_id2</th>\n      <th>qb_rank</th>\n      <th>qb_pts</th>\n      <th>qb_plays</th>\n      <th>qb_qbr_raw</th>\n      <th>qb_qbr</th>\n      <th>qb_pass</th>\n      <th>qb_run</th>\n    </tr>\n  </thead>\n  <tbody>\n    <tr>\n      <th>1</th>\n      <td>BUF</td>\n      <td>LA_BUF_2022_09_08</td>\n      <td>NaN</td>\n      <td>15.75</td>\n      <td>0.2</td>\n      <td>41.5</td>\n      <td>52.275</td>\n      <td>52.4</td>\n      <td>3.025</td>\n      <td>0.4</td>\n    </tr>\n    <tr>\n      <th>26</th>\n      <td>LA</td>\n      <td>NaN</td>\n      <td>LA_BUF_2022_09_08</td>\n      <td>15.75</td>\n      <td>0.2</td>\n      <td>41.5</td>\n      <td>52.275</td>\n      <td>52.4</td>\n      <td>3.025</td>\n      <td>0.4</td>\n    </tr>\n    <tr>\n      <th>14</th>\n      <td>ARI</td>\n      <td>NaN</td>\n      <td>ARI_KC_2022_09_11</td>\n      <td>15.75</td>\n      <td>0.2</td>\n      <td>41.5</td>\n      <td>52.275</td>\n      <td>52.4</td>\n      <td>3.025</td>\n      <td>0.4</td>\n    </tr>\n  </tbody>\n</table>\n</div>"
     },
     "execution_count": 165,
     "metadata": {},
     "output_type": "execute_result"
    }
   ],
   "source": [
    "qbr_df.head(3)"
   ]
  },
  {
   "cell_type": "markdown",
   "id": "de726bb7",
   "metadata": {
    "pycharm": {
     "name": "#%% md\n"
    }
   },
   "source": [
    "## NFL GAME ROSTERS"
   ]
  },
  {
   "cell_type": "raw",
   "source": [
    "gr_data = nfl.import_rosters(years=seasons)\n",
    "\n",
    "# Clean dataframe using nfl-data-api cleaning function\n",
    "gr_df = nfl.clean_nfl_data(gr_data)\n",
    "\n",
    "gr_df.shape"
   ],
   "metadata": {
    "collapsed": false
   },
   "id": "b41fdc447488efed"
  },
  {
   "cell_type": "raw",
   "source": [
    "print('team count:', gr_df.team.nunique())"
   ],
   "metadata": {
    "collapsed": false
   },
   "id": "b7c1096c1dfb4507"
  },
  {
   "cell_type": "raw",
   "source": [
    "# Impute missing height with median by position\n",
    "gr_df['height'] = gr_df.groupby(['position'])['height'].transform(lambda x: x.fillna(x.median()))\n",
    "gr_df['weight'] = gr_df.groupby(['position'])['weight'].transform(lambda x: x.fillna(x.median()))\n",
    "\n",
    "gr_df['weight'] = gr_df['weight'].astype(np.int64)\n",
    "\n",
    "gr_df.sample(1)"
   ],
   "metadata": {
    "collapsed": false
   },
   "id": "4238dd92d119204b"
  },
  {
   "cell_type": "markdown",
   "id": "0573d5d5",
   "metadata": {
    "pycharm": {
     "name": "#%% md\n"
    }
   },
   "source": [
    "## NFL DEPTH CHART DATA"
   ]
  },
  {
   "cell_type": "raw",
   "source": [
    "dc_data = nfl.import_depth_charts(years=seasons)\n",
    "\n",
    "# Clean dataframe using nfl-data-api cleaning function\n",
    "dc_df = nfl.clean_nfl_data(dc_data)\n",
    "\n",
    "# season + week + away team + home team\n",
    "dc_df['season_week_team'] = dc_df['season'].astype(np.int64).astype(str) + '_' + dc_df['week'].astype(np.int64).astype(str).str.zfill(2) + '_' + dc_df.club_code.astype(str)\n",
    "\n",
    "dc_df.shape"
   ],
   "metadata": {
    "collapsed": false
   },
   "id": "b6a047cbf3a51f1"
  },
  {
   "cell_type": "raw",
   "source": [
    "print('team count:', dc_df.club_code.nunique())"
   ],
   "metadata": {
    "collapsed": false
   },
   "id": "aa2bdc0182473da4"
  },
  {
   "cell_type": "raw",
   "source": [
    "dc_df.sample(1)"
   ],
   "metadata": {
    "collapsed": false
   },
   "id": "bc53cd3511312f42"
  },
  {
   "cell_type": "markdown",
   "id": "63788128",
   "metadata": {
    "pycharm": {
     "name": "#%% md\n"
    }
   },
   "source": [
    "## NFL SNAP COUNT DATA"
   ]
  },
  {
   "cell_type": "code",
   "execution_count": 166,
   "id": "3fcedae1",
   "metadata": {
    "pycharm": {
     "name": "#%%\n"
    },
    "ExecuteTime": {
     "end_time": "2024-01-01T14:27:45.788768Z",
     "start_time": "2024-01-01T14:27:43.563734Z"
    }
   },
   "outputs": [
    {
     "data": {
      "text/plain": "(50170, 16)"
     },
     "execution_count": 166,
     "metadata": {},
     "output_type": "execute_result"
    }
   ],
   "source": [
    "sc_data = nfl.import_snap_counts(years=seasons)\n",
    "\n",
    "# Clean dataframe using nfl-data-api cleaning function\n",
    "sc_df = nfl.clean_nfl_data(sc_data)\n",
    "\n",
    "sc_df.shape"
   ]
  },
  {
   "cell_type": "code",
   "execution_count": 167,
   "id": "ce93d9d6",
   "metadata": {
    "pycharm": {
     "name": "#%%\n"
    },
    "ExecuteTime": {
     "end_time": "2024-01-01T14:27:45.850810Z",
     "start_time": "2024-01-01T14:27:45.780685Z"
    }
   },
   "outputs": [
    {
     "name": "stdout",
     "output_type": "stream",
     "text": [
      "team count: 32\n"
     ]
    }
   ],
   "source": [
    "print('team count:', sc_df.team.nunique())"
   ]
  },
  {
   "cell_type": "code",
   "execution_count": 168,
   "id": "0a2453c9",
   "metadata": {
    "pycharm": {
     "name": "#%%\n"
    },
    "ExecuteTime": {
     "end_time": "2024-01-01T14:27:45.969878Z",
     "start_time": "2024-01-01T14:27:45.785680Z"
    }
   },
   "outputs": [
    {
     "data": {
      "text/plain": "              game_id   pfr_game_id  season game_type  week           player  \\\n5456    2022_04_NE_GB  202210020gnb    2022       REG     4  David Bakhtiari   \n7186  2023_05_TEN_IND  202310080clt    2023       REG     5      Segun Olubi   \n\n     pfr_player_id position team opponent  offense_snaps  offense_pct  \\\n5456      BakhDa00        T   GB       NE           70.0         0.96   \n7186      OlubSe00       LB  IND      TEN            0.0         0.00   \n\n      defense_snaps  defense_pct  st_snaps  st_pct  \n5456            0.0          0.0       0.0    0.00  \n7186            0.0          0.0      17.0    0.77  ",
      "text/html": "<div>\n<style scoped>\n    .dataframe tbody tr th:only-of-type {\n        vertical-align: middle;\n    }\n\n    .dataframe tbody tr th {\n        vertical-align: top;\n    }\n\n    .dataframe thead th {\n        text-align: right;\n    }\n</style>\n<table border=\"1\" class=\"dataframe\">\n  <thead>\n    <tr style=\"text-align: right;\">\n      <th></th>\n      <th>game_id</th>\n      <th>pfr_game_id</th>\n      <th>season</th>\n      <th>game_type</th>\n      <th>week</th>\n      <th>player</th>\n      <th>pfr_player_id</th>\n      <th>position</th>\n      <th>team</th>\n      <th>opponent</th>\n      <th>offense_snaps</th>\n      <th>offense_pct</th>\n      <th>defense_snaps</th>\n      <th>defense_pct</th>\n      <th>st_snaps</th>\n      <th>st_pct</th>\n    </tr>\n  </thead>\n  <tbody>\n    <tr>\n      <th>5456</th>\n      <td>2022_04_NE_GB</td>\n      <td>202210020gnb</td>\n      <td>2022</td>\n      <td>REG</td>\n      <td>4</td>\n      <td>David Bakhtiari</td>\n      <td>BakhDa00</td>\n      <td>T</td>\n      <td>GB</td>\n      <td>NE</td>\n      <td>70.0</td>\n      <td>0.96</td>\n      <td>0.0</td>\n      <td>0.0</td>\n      <td>0.0</td>\n      <td>0.00</td>\n    </tr>\n    <tr>\n      <th>7186</th>\n      <td>2023_05_TEN_IND</td>\n      <td>202310080clt</td>\n      <td>2023</td>\n      <td>REG</td>\n      <td>5</td>\n      <td>Segun Olubi</td>\n      <td>OlubSe00</td>\n      <td>LB</td>\n      <td>IND</td>\n      <td>TEN</td>\n      <td>0.0</td>\n      <td>0.00</td>\n      <td>0.0</td>\n      <td>0.0</td>\n      <td>17.0</td>\n      <td>0.77</td>\n    </tr>\n  </tbody>\n</table>\n</div>"
     },
     "execution_count": 168,
     "metadata": {},
     "output_type": "execute_result"
    }
   ],
   "source": [
    "sc_df.sample(2)"
   ]
  },
  {
   "cell_type": "markdown",
   "id": "d0cc139e",
   "metadata": {
    "pycharm": {
     "name": "#%% md\n"
    }
   },
   "source": [
    "## NFL COMBINE DATA"
   ]
  },
  {
   "cell_type": "code",
   "execution_count": 169,
   "id": "199caa44",
   "metadata": {
    "pycharm": {
     "name": "#%%\n"
    },
    "ExecuteTime": {
     "end_time": "2024-01-01T14:27:47.021367Z",
     "start_time": "2024-01-01T14:27:45.806226Z"
    }
   },
   "outputs": [
    {
     "data": {
      "text/plain": "(7999, 18)"
     },
     "execution_count": 169,
     "metadata": {},
     "output_type": "execute_result"
    }
   ],
   "source": [
    "co_data = nfl.import_combine_data(years=draft_years)\n",
    "\n",
    "# Clean dataframe using nfl-data-api cleaning function\n",
    "co_df = nfl.clean_nfl_data(co_data)\n",
    "\n",
    "co_df.shape"
   ]
  },
  {
   "cell_type": "code",
   "execution_count": 170,
   "id": "8188f7e2",
   "metadata": {
    "pycharm": {
     "name": "#%%\n"
    },
    "ExecuteTime": {
     "end_time": "2024-01-01T14:27:47.107370Z",
     "start_time": "2024-01-01T14:27:47.024145Z"
    }
   },
   "outputs": [
    {
     "data": {
      "text/plain": "(6606, 13)"
     },
     "execution_count": 170,
     "metadata": {},
     "output_type": "execute_result"
    }
   ],
   "source": [
    "co_df['pfr_id'].fillna('NULL', inplace = True)\n",
    "co_df = co_df.loc[co_df['pfr_id'] != 'NULL']\n",
    "\n",
    "co_df = co_df.rename(columns={'pfr_id':'pfr_player_id',\n",
    "                              'season':'combine',\n",
    "                              'player_name':'comb_name',\n",
    "                              'school':'comb_school',\n",
    "                              'ht':'comb_ht',\n",
    "                              'wt':'comb_wt',\n",
    "                              'pos':'comb_pos',\n",
    "                              'forty':'comb_forty',\n",
    "                              'bench':'comb_bench',\n",
    "                              'vertical':'comb_vert',\n",
    "                              'broad_jump':'comb_broad',\n",
    "                              'cone':'comb_cone',\n",
    "                              'shuttle':'comb_shut',\n",
    "                              })\n",
    "\n",
    "co_df.drop(['draft_year','draft_team','draft_round','draft_ovr','cfb_id'], axis=1, inplace=True)\n",
    "\n",
    "co_df.shape"
   ]
  },
  {
   "cell_type": "code",
   "execution_count": 171,
   "id": "3f730caf",
   "metadata": {
    "pycharm": {
     "name": "#%%\n"
    },
    "ExecuteTime": {
     "end_time": "2024-01-01T14:27:47.241027Z",
     "start_time": "2024-01-01T14:27:47.036542Z"
    }
   },
   "outputs": [],
   "source": [
    "# Convert height to inches\n",
    "co_df['comb_ht'].fillna('NULL', inplace = True)\n",
    "co_df['comb_ht'] = np.where(co_df['comb_ht'] == 'NULL', '0-0', co_df['comb_ht'])\n",
    "co_df['comb_ht'] = (co_df['comb_ht'].astype(str).str[0]).astype(float) * 12 + (co_df['comb_ht'].astype(str).str[2]).astype(float)"
   ]
  },
  {
   "cell_type": "code",
   "execution_count": 172,
   "id": "8181c857",
   "metadata": {
    "pycharm": {
     "name": "#%%\n"
    },
    "ExecuteTime": {
     "end_time": "2024-01-01T14:27:47.287536Z",
     "start_time": "2024-01-01T14:27:47.066870Z"
    }
   },
   "outputs": [
    {
     "data": {
      "text/plain": "      combine pfr_player_id          comb_name comb_pos comb_school  comb_ht  \\\n5538     2016      WeatSt00  Stephen Weatherly      OLB  Vanderbilt     76.0   \n\n      comb_wt  comb_forty  comb_bench  comb_vert  comb_broad  comb_cone  \\\n5538    267.0        4.61        23.0       31.0       117.0        NaN   \n\n      comb_shut  \n5538        NaN  ",
      "text/html": "<div>\n<style scoped>\n    .dataframe tbody tr th:only-of-type {\n        vertical-align: middle;\n    }\n\n    .dataframe tbody tr th {\n        vertical-align: top;\n    }\n\n    .dataframe thead th {\n        text-align: right;\n    }\n</style>\n<table border=\"1\" class=\"dataframe\">\n  <thead>\n    <tr style=\"text-align: right;\">\n      <th></th>\n      <th>combine</th>\n      <th>pfr_player_id</th>\n      <th>comb_name</th>\n      <th>comb_pos</th>\n      <th>comb_school</th>\n      <th>comb_ht</th>\n      <th>comb_wt</th>\n      <th>comb_forty</th>\n      <th>comb_bench</th>\n      <th>comb_vert</th>\n      <th>comb_broad</th>\n      <th>comb_cone</th>\n      <th>comb_shut</th>\n    </tr>\n  </thead>\n  <tbody>\n    <tr>\n      <th>5538</th>\n      <td>2016</td>\n      <td>WeatSt00</td>\n      <td>Stephen Weatherly</td>\n      <td>OLB</td>\n      <td>Vanderbilt</td>\n      <td>76.0</td>\n      <td>267.0</td>\n      <td>4.61</td>\n      <td>23.0</td>\n      <td>31.0</td>\n      <td>117.0</td>\n      <td>NaN</td>\n      <td>NaN</td>\n    </tr>\n  </tbody>\n</table>\n</div>"
     },
     "execution_count": 172,
     "metadata": {},
     "output_type": "execute_result"
    }
   ],
   "source": [
    "co_df.sample(1)"
   ]
  },
  {
   "cell_type": "markdown",
   "id": "4c845090",
   "metadata": {
    "pycharm": {
     "name": "#%% md\n"
    }
   },
   "source": [
    "## NFL DRAFT DATA"
   ]
  },
  {
   "cell_type": "code",
   "execution_count": 173,
   "id": "de2283b8",
   "metadata": {
    "pycharm": {
     "name": "#%%\n"
    },
    "ExecuteTime": {
     "end_time": "2024-01-01T14:27:48.193634Z",
     "start_time": "2024-01-01T14:27:47.077379Z"
    }
   },
   "outputs": [
    {
     "data": {
      "text/plain": "(6130, 36)"
     },
     "execution_count": 173,
     "metadata": {},
     "output_type": "execute_result"
    }
   ],
   "source": [
    "dr_data = nfl.import_draft_picks(years=draft_years)\n",
    "\n",
    "# Clean dataframe using nfl-data-api cleaning function\n",
    "dr_df = nfl.clean_nfl_data(dr_data)\n",
    "\n",
    "dr_df.shape"
   ]
  },
  {
   "cell_type": "code",
   "execution_count": 174,
   "id": "9dc60448",
   "metadata": {
    "pycharm": {
     "name": "#%%\n"
    },
    "ExecuteTime": {
     "end_time": "2024-01-01T14:27:48.461067Z",
     "start_time": "2024-01-01T14:27:48.218652Z"
    }
   },
   "outputs": [
    {
     "name": "stdout",
     "output_type": "stream",
     "text": [
      "team count: 32\n"
     ]
    }
   ],
   "source": [
    "dr_df['team'] = np.where(dr_df['team'] == 'GNB', 'GB', dr_df['team'])\n",
    "dr_df['team'] = np.where(dr_df['team'] == 'KAN', 'KC', dr_df['team'])\n",
    "\n",
    "dr_df['team'] = np.where(dr_df['team'] == 'RAM', 'LA', dr_df['team'])\n",
    "dr_df['team'] = np.where(dr_df['team'] == 'STL', 'LA', dr_df['team'])\n",
    "\n",
    "dr_df['team'] = np.where(dr_df['team'] == 'SDG', 'LAC', dr_df['team'])\n",
    "\n",
    "dr_df['team'] = np.where(dr_df['team'] == 'RAI', 'LV', dr_df['team'])\n",
    "dr_df['team'] = np.where(dr_df['team'] == 'OAK', 'LV', dr_df['team'])\n",
    "dr_df['team'] = np.where(dr_df['team'] == 'LVR', 'LV', dr_df['team'])\n",
    "dr_df['team'] = np.where(dr_df['team'] == 'LAR', 'LV', dr_df['team'])\n",
    "\n",
    "dr_df['team'] = np.where(dr_df['team'] == 'NWE', 'NE', dr_df['team'])\n",
    "dr_df['team'] = np.where(dr_df['team'] == 'NOR', 'NO', dr_df['team'])\n",
    "\n",
    "dr_df['team'] = np.where(dr_df['team'] == 'SFO', 'SF', dr_df['team'])\n",
    "dr_df['team'] = np.where(dr_df['team'] == 'TAM', 'TB', dr_df['team'])\n",
    "\n",
    "print('team count:', dr_df.team.nunique())"
   ]
  },
  {
   "cell_type": "code",
   "execution_count": 175,
   "id": "1c1f849b",
   "metadata": {
    "pycharm": {
     "name": "#%%\n"
    },
    "ExecuteTime": {
     "end_time": "2024-01-01T14:27:48.505482Z",
     "start_time": "2024-01-01T14:27:48.227507Z"
    }
   },
   "outputs": [],
   "source": [
    "# Calculate years in the NFL\n",
    "dr_df['to'].fillna((dr_df['season']-1), inplace=True)\n",
    "\n",
    "dr_df['nfl_years'] = dr_df['to'] - dr_df['season'] + 1"
   ]
  },
  {
   "cell_type": "code",
   "execution_count": 176,
   "id": "4969379f",
   "metadata": {
    "pycharm": {
     "name": "#%%\n"
    },
    "ExecuteTime": {
     "end_time": "2024-01-01T14:27:48.536022Z",
     "start_time": "2024-01-01T14:27:48.232535Z"
    }
   },
   "outputs": [],
   "source": [
    "# Convert HOF to binary\n",
    "dr_df['hof'] = np.where(dr_df['hof'] == True, 1, 0)"
   ]
  },
  {
   "cell_type": "code",
   "execution_count": 177,
   "id": "bc8785b2",
   "metadata": {
    "pycharm": {
     "name": "#%%\n"
    },
    "ExecuteTime": {
     "end_time": "2024-01-01T14:27:48.572250Z",
     "start_time": "2024-01-01T14:27:48.245232Z"
    }
   },
   "outputs": [
    {
     "data": {
      "text/plain": "(5874, 17)"
     },
     "execution_count": 177,
     "metadata": {},
     "output_type": "execute_result"
    }
   ],
   "source": [
    "dr_df['pfr_player_id'].fillna('NULL', inplace = True)\n",
    "dr_df = dr_df.loc[dr_df['pfr_player_id'] != 'NULL']\n",
    "\n",
    "dr_df = dr_df.rename(columns={'season':'draft',\n",
    "                              'team':'draft_team',\n",
    "                              'pfr_player_name':'player_name',\n",
    "                              'probowls':'pro_bowls'})\n",
    "\n",
    "dr_df.drop(['cfb_player_id','gsis_id','w_av','car_av','dr_av','pass_attempts','pass_completions','pass_yards','pass_tds','pass_ints','rush_atts','rush_yards','rush_tds','receptions','rec_yards','rec_tds','def_solo_tackles','def_ints','def_sacks','to'], axis=1, inplace=True)\n",
    "\n",
    "dr_df.shape"
   ]
  },
  {
   "cell_type": "markdown",
   "id": "ac90fd5a",
   "metadata": {
    "pycharm": {
     "name": "#%% md\n"
    }
   },
   "source": [
    "## MERGE DRAFT AND COMBINE DATA"
   ]
  },
  {
   "cell_type": "code",
   "execution_count": 178,
   "id": "0fa5e61e",
   "metadata": {
    "pycharm": {
     "name": "#%%\n"
    },
    "ExecuteTime": {
     "end_time": "2024-01-01T14:27:48.608314Z",
     "start_time": "2024-01-01T14:27:48.267290Z"
    }
   },
   "outputs": [
    {
     "name": "stdout",
     "output_type": "stream",
     "text": [
      "combine records: 6606\n",
      "draft records: 5874\n"
     ]
    }
   ],
   "source": [
    "print('combine records:', co_df.shape[0])\n",
    "print('draft records:', dr_df.shape[0])"
   ]
  },
  {
   "cell_type": "code",
   "execution_count": 179,
   "id": "0a770d40",
   "metadata": {
    "pycharm": {
     "name": "#%%\n"
    },
    "ExecuteTime": {
     "end_time": "2024-01-01T14:27:48.627289Z",
     "start_time": "2024-01-01T14:27:48.281984Z"
    }
   },
   "outputs": [
    {
     "data": {
      "text/plain": "(4967, 29)"
     },
     "execution_count": 179,
     "metadata": {},
     "output_type": "execute_result"
    }
   ],
   "source": [
    "draft_df = pd.merge(dr_df, co_df, how='inner', left_on=['pfr_player_id'], right_on = ['pfr_player_id'])\n",
    "\n",
    "draft_df.shape"
   ]
  },
  {
   "cell_type": "code",
   "execution_count": 180,
   "id": "001fa09d",
   "metadata": {
    "pycharm": {
     "name": "#%%\n"
    },
    "ExecuteTime": {
     "end_time": "2024-01-01T14:27:48.660110Z",
     "start_time": "2024-01-01T14:27:48.301061Z"
    }
   },
   "outputs": [
    {
     "data": {
      "text/plain": "(4892, 29)"
     },
     "execution_count": 180,
     "metadata": {},
     "output_type": "execute_result"
    }
   ],
   "source": [
    "draft_df = draft_df.loc[(draft_df['category'] != 'P') & \n",
    "                        (draft_df['category'] != 'K') & \n",
    "                        (draft_df['category'] != 'LS')]\n",
    "\n",
    "draft_df.shape"
   ]
  },
  {
   "cell_type": "code",
   "execution_count": 181,
   "id": "3395b7f8",
   "metadata": {
    "pycharm": {
     "name": "#%%\n"
    },
    "ExecuteTime": {
     "end_time": "2024-01-01T14:27:48.701703Z",
     "start_time": "2024-01-01T14:27:48.318764Z"
    }
   },
   "outputs": [],
   "source": [
    "# Impute missing values\n",
    "draft_df['age'] = draft_df.age.fillna(draft_df.groupby('category').age.transform('median'))\n",
    "draft_df['comb_ht'] = draft_df.comb_ht.fillna(draft_df.groupby('category').comb_ht.transform('median'))\n",
    "draft_df['comb_wt'] = draft_df.comb_wt.fillna(draft_df.groupby('category').comb_wt.transform('median'))\n",
    "draft_df['comb_forty'] = draft_df.comb_forty.fillna(draft_df.groupby('category').comb_forty.transform('median'))\n",
    "draft_df['comb_bench'] = draft_df.comb_bench.fillna(draft_df.groupby('category').comb_bench.transform('median'))\n",
    "draft_df['comb_vert'] = draft_df.comb_vert.fillna(draft_df.groupby('category').comb_vert.transform('median'))\n",
    "draft_df['comb_broad'] = draft_df.comb_broad.fillna(draft_df.groupby('category').comb_broad.transform('median'))\n",
    "draft_df['comb_cone'] = draft_df.comb_cone.fillna(draft_df.groupby('category').comb_cone.transform('median'))\n",
    "draft_df['comb_shut'] = draft_df.comb_shut.fillna(draft_df.groupby('category').comb_shut.transform('median'))\n",
    "draft_df['games'].fillna(0, inplace = True)"
   ]
  },
  {
   "cell_type": "code",
   "execution_count": 182,
   "id": "7032dcf2",
   "metadata": {
    "pycharm": {
     "name": "#%%\n"
    },
    "ExecuteTime": {
     "end_time": "2024-01-01T14:27:48.968374Z",
     "start_time": "2024-01-01T14:27:48.345689Z"
    }
   },
   "outputs": [
    {
     "data": {
      "text/plain": "draft              0\nround              0\npick               0\ndraft_team         0\npfr_player_id      0\nplayer_name        0\nhof                0\nposition           0\ncategory           0\nside               0\ncollege            0\nage                0\nallpro             0\npro_bowls          0\nseasons_started    0\ngames              0\nnfl_years          0\ncombine            0\ncomb_name          0\ncomb_pos           0\ncomb_school        0\ncomb_ht            0\ncomb_wt            0\ncomb_forty         0\ncomb_bench         0\ncomb_vert          0\ncomb_broad         0\ncomb_cone          0\ncomb_shut          0\ndtype: int64"
     },
     "execution_count": 182,
     "metadata": {},
     "output_type": "execute_result"
    }
   ],
   "source": [
    "# Count missing data\n",
    "missing = draft_df.isnull().sum()\n",
    "missing"
   ]
  },
  {
   "cell_type": "code",
   "execution_count": 183,
   "id": "8a960ae6",
   "metadata": {
    "pycharm": {
     "name": "#%%\n"
    },
    "ExecuteTime": {
     "end_time": "2024-01-01T14:27:49.011761Z",
     "start_time": "2024-01-01T14:27:48.355888Z"
    }
   },
   "outputs": [
    {
     "data": {
      "text/plain": "      draft  round  pick draft_team pfr_player_id      player_name  hof  \\\n1603   2008      2    60         GB      LeexPa99          Pat Lee    0   \n583    2003      1    24        IND      ClarDa00     Dallas Clark    0   \n1790   2009      2    34         NE      ChunPa99    Patrick Chung    0   \n18     2000      1    19        SEA      AlexSh00  Shaun Alexander    0   \n2798   2013      7   213        MIN      MautMi00    Michael Mauti    0   \n\n     position category side  ... comb_pos  comb_school  comb_ht  comb_wt  \\\n1603       DB       DB    D  ...       CB     Colorado     72.0    200.0   \n583        TE       TE    O  ...       TE         Iowa     75.0    257.0   \n1790       DB       DB    D  ...        S       Oregon     61.0    212.0   \n18         RB       RB    O  ...       RB      Alabama     72.0    218.0   \n2798       LB       LB    D  ...      OLB   Penn State     74.0    243.0   \n\n      comb_forty  comb_bench  comb_vert  comb_broad comb_cone comb_shut  \n1603        4.41        15.0       31.0       120.0      7.07      4.30  \n583         4.65        21.0       37.5       123.0      7.12      4.33  \n1790        4.49        25.0       34.0       119.0      6.94      4.17  \n18          4.58        20.0       34.5       119.0      7.07      4.25  \n2798        4.83        28.0       34.5       119.0      7.10      4.28  \n\n[5 rows x 29 columns]",
      "text/html": "<div>\n<style scoped>\n    .dataframe tbody tr th:only-of-type {\n        vertical-align: middle;\n    }\n\n    .dataframe tbody tr th {\n        vertical-align: top;\n    }\n\n    .dataframe thead th {\n        text-align: right;\n    }\n</style>\n<table border=\"1\" class=\"dataframe\">\n  <thead>\n    <tr style=\"text-align: right;\">\n      <th></th>\n      <th>draft</th>\n      <th>round</th>\n      <th>pick</th>\n      <th>draft_team</th>\n      <th>pfr_player_id</th>\n      <th>player_name</th>\n      <th>hof</th>\n      <th>position</th>\n      <th>category</th>\n      <th>side</th>\n      <th>...</th>\n      <th>comb_pos</th>\n      <th>comb_school</th>\n      <th>comb_ht</th>\n      <th>comb_wt</th>\n      <th>comb_forty</th>\n      <th>comb_bench</th>\n      <th>comb_vert</th>\n      <th>comb_broad</th>\n      <th>comb_cone</th>\n      <th>comb_shut</th>\n    </tr>\n  </thead>\n  <tbody>\n    <tr>\n      <th>1603</th>\n      <td>2008</td>\n      <td>2</td>\n      <td>60</td>\n      <td>GB</td>\n      <td>LeexPa99</td>\n      <td>Pat Lee</td>\n      <td>0</td>\n      <td>DB</td>\n      <td>DB</td>\n      <td>D</td>\n      <td>...</td>\n      <td>CB</td>\n      <td>Colorado</td>\n      <td>72.0</td>\n      <td>200.0</td>\n      <td>4.41</td>\n      <td>15.0</td>\n      <td>31.0</td>\n      <td>120.0</td>\n      <td>7.07</td>\n      <td>4.30</td>\n    </tr>\n    <tr>\n      <th>583</th>\n      <td>2003</td>\n      <td>1</td>\n      <td>24</td>\n      <td>IND</td>\n      <td>ClarDa00</td>\n      <td>Dallas Clark</td>\n      <td>0</td>\n      <td>TE</td>\n      <td>TE</td>\n      <td>O</td>\n      <td>...</td>\n      <td>TE</td>\n      <td>Iowa</td>\n      <td>75.0</td>\n      <td>257.0</td>\n      <td>4.65</td>\n      <td>21.0</td>\n      <td>37.5</td>\n      <td>123.0</td>\n      <td>7.12</td>\n      <td>4.33</td>\n    </tr>\n    <tr>\n      <th>1790</th>\n      <td>2009</td>\n      <td>2</td>\n      <td>34</td>\n      <td>NE</td>\n      <td>ChunPa99</td>\n      <td>Patrick Chung</td>\n      <td>0</td>\n      <td>DB</td>\n      <td>DB</td>\n      <td>D</td>\n      <td>...</td>\n      <td>S</td>\n      <td>Oregon</td>\n      <td>61.0</td>\n      <td>212.0</td>\n      <td>4.49</td>\n      <td>25.0</td>\n      <td>34.0</td>\n      <td>119.0</td>\n      <td>6.94</td>\n      <td>4.17</td>\n    </tr>\n    <tr>\n      <th>18</th>\n      <td>2000</td>\n      <td>1</td>\n      <td>19</td>\n      <td>SEA</td>\n      <td>AlexSh00</td>\n      <td>Shaun Alexander</td>\n      <td>0</td>\n      <td>RB</td>\n      <td>RB</td>\n      <td>O</td>\n      <td>...</td>\n      <td>RB</td>\n      <td>Alabama</td>\n      <td>72.0</td>\n      <td>218.0</td>\n      <td>4.58</td>\n      <td>20.0</td>\n      <td>34.5</td>\n      <td>119.0</td>\n      <td>7.07</td>\n      <td>4.25</td>\n    </tr>\n    <tr>\n      <th>2798</th>\n      <td>2013</td>\n      <td>7</td>\n      <td>213</td>\n      <td>MIN</td>\n      <td>MautMi00</td>\n      <td>Michael Mauti</td>\n      <td>0</td>\n      <td>LB</td>\n      <td>LB</td>\n      <td>D</td>\n      <td>...</td>\n      <td>OLB</td>\n      <td>Penn State</td>\n      <td>74.0</td>\n      <td>243.0</td>\n      <td>4.83</td>\n      <td>28.0</td>\n      <td>34.5</td>\n      <td>119.0</td>\n      <td>7.10</td>\n      <td>4.28</td>\n    </tr>\n  </tbody>\n</table>\n<p>5 rows × 29 columns</p>\n</div>"
     },
     "execution_count": 183,
     "metadata": {},
     "output_type": "execute_result"
    }
   ],
   "source": [
    "draft_df.sample(5)"
   ]
  },
  {
   "cell_type": "code",
   "execution_count": 184,
   "id": "844b8130",
   "metadata": {
    "pycharm": {
     "name": "#%%\n"
    },
    "ExecuteTime": {
     "end_time": "2024-01-01T14:27:49.028692Z",
     "start_time": "2024-01-01T14:27:48.379381Z"
    }
   },
   "outputs": [],
   "source": [
    "# Export binary classifier dataframe\n",
    "draft_df.to_csv(r'/Users/ttas2/Documents/Python/nfl-machine-learning-models/output_files/nfl_post_processing_draft_data.csv', index=None, header=True)"
   ]
  },
  {
   "cell_type": "markdown",
   "id": "7751f385",
   "metadata": {
    "pycharm": {
     "name": "#%% md\n"
    }
   },
   "source": [
    "## MERGE PLAY-BY-PLAY WITH SUPPLEMENTARY DATA"
   ]
  },
  {
   "cell_type": "code",
   "execution_count": 185,
   "id": "c432b15c",
   "metadata": {
    "pycharm": {
     "name": "#%%\n"
    },
    "ExecuteTime": {
     "end_time": "2024-01-01T14:27:49.752453Z",
     "start_time": "2024-01-01T14:27:48.450598Z"
    }
   },
   "outputs": [],
   "source": [
    "df = play_df.copy()"
   ]
  },
  {
   "cell_type": "raw",
   "source": [
    "# Print qbr_df columns\n",
    "print(qbr_df.columns.tolist())"
   ],
   "metadata": {
    "collapsed": false
   },
   "id": "de39609ef7f96bc3"
  },
  {
   "cell_type": "raw",
   "source": [
    "qbr_df.shape"
   ],
   "metadata": {
    "collapsed": false
   },
   "id": "1593de2714e940a8"
  },
  {
   "cell_type": "raw",
   "source": [
    "# Merge play-by-play and QBR data\n",
    "df = pd.merge(play_df, \n",
    "              qbr_df, \n",
    "              how='left', \n",
    "              on=['game_alt_id','posteam'],\n",
    "              )\n",
    "\n",
    "df.shape"
   ],
   "metadata": {
    "collapsed": false
   },
   "id": "78453dcf05c31ee"
  },
  {
   "cell_type": "raw",
   "source": [
    "df.game_alt_id.nunique()"
   ],
   "metadata": {
    "collapsed": false
   },
   "id": "25115ba61805694b"
  },
  {
   "cell_type": "raw",
   "source": [
    "# Print column names\n",
    "print(df.columns.tolist())"
   ],
   "metadata": {
    "collapsed": false
   },
   "id": "98929e82977eb631"
  },
  {
   "cell_type": "raw",
   "source": [
    "# Fillna for qb_rank\n",
    "df['qb_rank'].fillna(df.qb_rank.median(), inplace=True)\n",
    "df['qb_pts'].fillna(df.qb_pts.median(), inplace=True)\n",
    "df['qb_plays'].fillna(df.qb_plays.median(), inplace=True)\n",
    "df['qb_qbr_raw'].fillna(df.qb_qbr_raw.median(), inplace=True)\n",
    "df['qb_qbr'].fillna(df.qb_qbr.median(), inplace=True)\n",
    "df['qb_pass'].fillna(df.qb_pass.median(), inplace=True)\n",
    "df['qb_run'].fillna(df.qb_run.median(), inplace=True)"
   ],
   "metadata": {
    "collapsed": false
   },
   "id": "919ba4176862a5a1"
  },
  {
   "cell_type": "markdown",
   "id": "90a8726d",
   "metadata": {
    "pycharm": {
     "name": "#%% md\n"
    }
   },
   "source": [
    "# _______________\n",
    "## PRELIMINARY PLAY-BY-PLAY FILTERS"
   ]
  },
  {
   "cell_type": "code",
   "execution_count": 186,
   "id": "64a55058",
   "metadata": {
    "pycharm": {
     "name": "#%%\n"
    },
    "ExecuteTime": {
     "end_time": "2024-01-01T14:27:55.633469Z",
     "start_time": "2024-01-01T14:27:49.449023Z"
    }
   },
   "outputs": [
    {
     "data": {
      "text/plain": "(66972, 391)"
     },
     "execution_count": 186,
     "metadata": {},
     "output_type": "execute_result"
    }
   ],
   "source": [
    "# Exclude columns with the following records\n",
    "df = df.loc[~(df['desc'].str.startswith(\"END |END_|Two-Minute|Two Minute|Two minute|Two-minute|Two minute|Two-min\"))]\n",
    "\n",
    "# Exclude columns with specific keywords\n",
    "df = df.loc[~(df['desc'].str.contains(\"Captains:|CAPTAINS:|Captians:|Captains #|Captians #\"))]\n",
    "df = df.loc[~(df['desc'].str.contains(\"Two-Minute Warning\"))]\n",
    "df = df.loc[~(df['desc'].str.contains(\"game has been suspended|game has resumed|Game was resumed\"))]\n",
    "df = df.loc[~(df['desc'].str.contains(\"Game delayed|game delayed|Game suspended|Game was resumed\"))]\n",
    "df = df.loc[~(df['desc'].str.contains(\"no play run|Humidity|weather delay|severe weather\"))]\n",
    "df = df.loc[df['down'] >= 1.0]\n",
    "df = df.loc[df['special_teams_play'] == 0]\n",
    "df = df.loc[df['season_type'] != 'PRE']\n",
    "df = df.loc[~(df['play_type'].isin(['punt','kickoff','extra_point','field_goal','qb_kneel','qb_spike']))]\n",
    "df = df.loc[df['aborted_play'] == 0]\n",
    "df = df.loc[df['play_deleted'] == 0]\n",
    "df = df.loc[~df['drive'].isnull()]\n",
    "df = df.loc[~(df['offense_personnel'].astype(str).str.contains(\"LS\"))]\n",
    "\n",
    "df.shape"
   ]
  },
  {
   "cell_type": "code",
   "execution_count": 187,
   "outputs": [
    {
     "name": "stdout",
     "output_type": "stream",
     "text": [
      "Single value columns: Index(['quarter_end', 'qb_kneel', 'qb_spike', 'extra_point_prob',\n",
      "       'two_point_conversion_prob', 'punt_blocked', 'punt_inside_twenty',\n",
      "       'punt_in_endzone', 'punt_out_of_bounds', 'punt_downed',\n",
      "       'punt_fair_catch', 'kickoff_inside_twenty', 'kickoff_in_endzone',\n",
      "       'kickoff_out_of_bounds', 'kickoff_downed', 'kickoff_fair_catch',\n",
      "       'own_kickoff_recovery', 'own_kickoff_recovery_td',\n",
      "       'extra_point_attempt', 'two_point_attempt', 'field_goal_attempt',\n",
      "       'kickoff_attempt', 'punt_attempt', 'tackle_with_assist_2_player_id',\n",
      "       'tackle_with_assist_2_player_name', 'tackle_with_assist_2_team',\n",
      "       'defensive_two_point_attempt', 'defensive_two_point_conv',\n",
      "       'defensive_extra_point_attempt', 'defensive_extra_point_conv',\n",
      "       'play_deleted', 'special_teams_play', 'aborted_play', 'special'],\n",
      "      dtype='object')\n",
      "Remaining columns: 326\n"
     ]
    }
   ],
   "source": [
    "# Print a list of columns with only one value and then drop them\n",
    "single_value_columns = df.loc[:,df.nunique() == 1].columns\n",
    "df = df.loc[:,df.nunique() > 1]\n",
    "\n",
    "print('Single value columns:', single_value_columns)\n",
    "print('Remaining columns:', df.shape[1])"
   ],
   "metadata": {
    "collapsed": false,
    "ExecuteTime": {
     "end_time": "2024-01-01T14:27:58.513160Z",
     "start_time": "2024-01-01T14:27:55.601360Z"
    }
   },
   "id": "898a5775e5fd31b4"
  },
  {
   "cell_type": "code",
   "execution_count": 188,
   "id": "2557cf9e",
   "metadata": {
    "pycharm": {
     "name": "#%%\n"
    },
    "ExecuteTime": {
     "end_time": "2024-01-01T14:27:59.579643Z",
     "start_time": "2024-01-01T14:27:58.505201Z"
    }
   },
   "outputs": [],
   "source": [
    "# Convert missing values to Null\n",
    "df = df.fillna(value=np.nan)"
   ]
  },
  {
   "cell_type": "code",
   "execution_count": 189,
   "outputs": [
    {
     "data": {
      "text/plain": "(66972, 326)"
     },
     "execution_count": 189,
     "metadata": {},
     "output_type": "execute_result"
    }
   ],
   "source": [
    "# Convert field to datetime format\n",
    "df['game_date']= pd.to_datetime(df['game_date'])\n",
    "\n",
    "# Sort dataframe\n",
    "df = df.sort_values(by=['posteam','game_date','play'], ascending=True)\n",
    "\n",
    "df.shape"
   ],
   "metadata": {
    "collapsed": false,
    "ExecuteTime": {
     "end_time": "2024-01-01T14:27:59.909416Z",
     "start_time": "2024-01-01T14:27:59.538167Z"
    }
   },
   "id": "842b1e391a959cbf"
  },
  {
   "cell_type": "markdown",
   "source": [
    "## PERSONNEL FEATURES"
   ],
   "metadata": {
    "collapsed": false
   },
   "id": "1dfa7a0e"
  },
  {
   "cell_type": "code",
   "execution_count": 190,
   "outputs": [
    {
     "data": {
      "text/plain": "0.018709311353998687"
     },
     "execution_count": 190,
     "metadata": {},
     "output_type": "execute_result"
    }
   ],
   "source": [
    "df['report_eligible'] = np.where(df['desc'].str.find('as eligible')>= 0, 1, 0)\n",
    "\n",
    "df.report_eligible.mean()"
   ],
   "metadata": {
    "collapsed": false,
    "ExecuteTime": {
     "end_time": "2024-01-01T14:28:00.089325Z",
     "start_time": "2024-01-01T14:27:59.953394Z"
    }
   },
   "id": "b5584191ef9444fc"
  },
  {
   "cell_type": "code",
   "execution_count": 191,
   "outputs": [],
   "source": [
    "# Remove commas from strings\n",
    "df['offense_personnel'] = df['offense_personnel'].str.replace(',', ', ').str.replace('  ',' ').str.replace(',', '').str.strip()\n",
    "df['defense_personnel'] = df['defense_personnel'].str.replace(',', ', ').str.replace('  ',' ').str.replace(',', '').str.strip()\n",
    "\n",
    "# Impute personnel with modes\n",
    "df['offense_personnel'].fillna(df['offense_personnel'].mode()[0], inplace=True)\n",
    "df['defense_personnel'].fillna(df['defense_personnel'].mode()[0], inplace=True)"
   ],
   "metadata": {
    "collapsed": false,
    "ExecuteTime": {
     "end_time": "2024-01-01T14:28:00.305272Z",
     "start_time": "2024-01-01T14:27:59.968833Z"
    }
   },
   "id": "829a9585d59e901b"
  },
  {
   "cell_type": "code",
   "execution_count": 192,
   "outputs": [],
   "source": [
    "# Offensive personnel counts\n",
    "df['off_rb_count'] = df['offense_personnel'].str.extract('(\\d+) RB').fillna(0).astype(int)\n",
    "df['off_te_count'] = df['offense_personnel'].str.extract('(\\d+) TE').fillna(0).astype(int)\n",
    "df['off_wr_count'] = df['offense_personnel'].str.extract('(\\d+) WR').fillna(0).astype(int)\n",
    "df['off_hb_count'] = df['off_rb_count'] + df['off_te_count']\n",
    "\n",
    "df['off_ol_count'] = df['offense_personnel'].str.extract('(\\d+) OL').fillna(5).astype(int)\n",
    "df['off_ol_count'] = np.where((df['off_ol_count'] == 5) & (df['report_eligible'] == 1), 6, df['off_ol_count']) \n",
    "\n",
    "# Defensive personnel counts\n",
    "df['def_dl_count'] = df['defense_personnel'].str.extract('(\\d+) DL').fillna(0).astype(int)\n",
    "df['def_lb_count'] = df['defense_personnel'].str.extract('(\\d+) LB').fillna(0).astype(int)\n",
    "df['def_db_count'] = df['defense_personnel'].str.extract('(\\d+) DB').fillna(0).astype(int)\n",
    "\n",
    "# Calculate personnel ratios\n",
    "df['wr_to_db_ratio'] = df['off_wr_count'] / df['def_db_count']\n",
    "df['hb_to_lb_ratio'] = df['off_hb_count'] / df['def_lb_count']\n",
    "df['ol_to_dl_ratio'] = df['off_ol_count'] / df['def_dl_count']\n",
    "\n",
    "# Convert inf to 0\n",
    "df['wr_to_db_ratio'] = np.where((df['off_wr_count'] > 0) & (df['def_db_count'] == 0), df['off_wr_count'], \n",
    "                                np.where((df['def_db_count'] > 0) & (df['off_wr_count'] == 0), df['def_db_count'],df['wr_to_db_ratio']))\n",
    "\n",
    "df['hb_to_lb_ratio'] = np.where((df['off_hb_count'] > 0) & (df['def_lb_count'] == 0), df['off_hb_count'], \n",
    "                                np.where((df['def_lb_count'] > 0) & (df['off_hb_count'] == 0), df['def_lb_count'], df['hb_to_lb_ratio']))\n",
    "\n",
    "df['ol_to_dl_ratio'] = np.where((df['off_ol_count'] > 0) & (df['def_dl_count'] == 0), df['off_ol_count'], \n",
    "                                np.where((df['def_dl_count'] > 0) & (df['off_ol_count'] == 0), df['def_dl_count'], df['ol_to_dl_ratio']))\n",
    "\n",
    "# Convert inf values to 0\n",
    "df['wr_to_db_ratio'] = np.where(df['wr_to_db_ratio'] == np.inf, 0, df['wr_to_db_ratio'])\n",
    "df['hb_to_lb_ratio'] = np.where(df['hb_to_lb_ratio'] == np.inf, 0, df['hb_to_lb_ratio'])\n",
    "df['ol_to_dl_ratio'] = np.where(df['ol_to_dl_ratio'] == np.inf, 0, df['ol_to_dl_ratio'])\n",
    "\n",
    "# Impute missing values\n",
    "df['wr_to_db_ratio'].fillna(df['wr_to_db_ratio'].median(), inplace=True)\n",
    "df['hb_to_lb_ratio'].fillna(df['hb_to_lb_ratio'].median(), inplace=True)\n",
    "df['ol_to_dl_ratio'].fillna(df['ol_to_dl_ratio'].median(), inplace=True)"
   ],
   "metadata": {
    "collapsed": false,
    "ExecuteTime": {
     "end_time": "2024-01-01T14:28:02.046175Z",
     "start_time": "2024-01-01T14:28:00.188602Z"
    }
   },
   "id": "271ca72e0eed6dd4"
  },
  {
   "cell_type": "markdown",
   "source": [
    "## MODIFY DATAFRAME"
   ],
   "metadata": {
    "collapsed": false
   },
   "id": "5a6a04437b294076"
  },
  {
   "cell_type": "code",
   "execution_count": 193,
   "outputs": [],
   "source": [
    "# Impute missing values\n",
    "df['time_of_day'].fillna(method='ffill', inplace=True)\n",
    "df['quarter_seconds_remaining'].fillna(method='bfill', inplace=True)\n",
    "df['half_seconds_remaining'].fillna(method='bfill', inplace=True)\n",
    "df['game_seconds_remaining'].fillna(method='bfill', inplace=True)\n",
    "df['wp'].fillna(method='bfill', inplace=True)\n",
    "df['def_wp'].fillna(method='bfill', inplace=True)\n"
   ],
   "metadata": {
    "collapsed": false,
    "ExecuteTime": {
     "end_time": "2024-01-01T14:28:02.138929Z",
     "start_time": "2024-01-01T14:28:02.045034Z"
    }
   },
   "id": "4c090210"
  },
  {
   "cell_type": "code",
   "execution_count": 194,
   "id": "b780f49d",
   "metadata": {
    "pycharm": {
     "name": "#%%\n"
    },
    "ExecuteTime": {
     "end_time": "2024-01-01T14:28:10.372630Z",
     "start_time": "2024-01-01T14:28:02.067Z"
    }
   },
   "outputs": [],
   "source": [
    "# Strip all whitespace from strings\n",
    "df = df.applymap(lambda x: x.strip() if isinstance(x, str) else x)\n",
    "\n",
    "# Strips all objects in dataframe\n",
    "df = df.apply(lambda x: x.str.strip() if x.dtype == \"object\" else x)"
   ]
  },
  {
   "cell_type": "code",
   "execution_count": 195,
   "id": "40bb776b",
   "metadata": {
    "pycharm": {
     "name": "#%%\n"
    },
    "ExecuteTime": {
     "end_time": "2024-01-01T14:28:10.575057Z",
     "start_time": "2024-01-01T14:28:10.428151Z"
    }
   },
   "outputs": [],
   "source": [
    "# Impute missing values\n",
    "df['play_type'].fillna('no_play', inplace = True)\n",
    "df['play_type_nfl'].fillna('NO_PLAY', inplace = True)\n",
    "df['sp'].fillna(0, inplace = True)\n",
    "df['qtr'].fillna(0, inplace = True)\n",
    "df['goal_to_go'].fillna(0, inplace = True)\n",
    "df['ydstogo'].fillna(0, inplace = True) \n",
    "df['ydsnet'].fillna(0, inplace = True)\n",
    "df['shotgun'].fillna(0, inplace = True)\n",
    "df['no_huddle'].fillna(0, inplace = True)\n",
    "df['qb_dropback'].fillna(0, inplace = True)\n",
    "df['qb_scramble'].fillna(0, inplace = True)\n",
    "df['yards_after_catch'].fillna(0, inplace = True)\n",
    "df['home_timeouts_remaining'].fillna(0, inplace = True)\n",
    "df['away_timeouts_remaining'].fillna(0, inplace = True)\n",
    "df['timeout'].fillna(0, inplace = True)\n",
    "df['posteam_timeouts_remaining'].fillna(0, inplace = True) \n",
    "df['defteam_timeouts_remaining'].fillna(0, inplace = True)\n",
    "df['total_home_score'].fillna(0, inplace = True)\n",
    "df['total_away_score'].fillna(0, inplace = True)\n",
    "df['posteam_score'].fillna(0, inplace = True) \n",
    "df['defteam_score'].fillna(0, inplace = True)\n",
    "df['score_differential'].fillna(0, inplace = True)\n",
    "df['posteam_score_post'].fillna(0, inplace = True)\n",
    "df['defteam_score_post'].fillna(0, inplace = True)\n",
    "df['score_differential_post'].fillna(0, inplace = True)\n",
    "df['first_down_rush'].fillna(0, inplace = True)\n",
    "df['first_down_pass'].fillna(0, inplace = True)\n",
    "df['first_down_penalty'].fillna(0, inplace = True)\n",
    "df['third_down_converted'].fillna(0, inplace = True)\n",
    "df['third_down_failed'].fillna(0, inplace = True)\n",
    "df['fourth_down_converted'].fillna(0, inplace = True)\n",
    "df['fourth_down_failed'].fillna(0, inplace = True)\n",
    "df['incomplete_pass'].fillna(0, inplace = True)\n",
    "df['touchback'].fillna(0, inplace = True)\n",
    "df['interception'].fillna(0, inplace = True)\n",
    "df['fumble_forced'].fillna(0, inplace = True)\n",
    "df['fumble_not_forced'].fillna(0, inplace = True)\n",
    "df['fumble_out_of_bounds'].fillna(0, inplace = True)\n",
    "df['solo_tackle'].fillna(0, inplace = True)\n",
    "df['penalty'].fillna(0, inplace = True)\n",
    "df['tackled_for_loss'].fillna(0, inplace = True)\n",
    "df['fumble'].fillna(0, inplace = True)\n",
    "df['fumble_lost'].fillna(0, inplace = True)\n",
    "df['qb_hit'].fillna(0, inplace = True)\n",
    "df['rush_attempt'].fillna(0, inplace = True)\n",
    "df['pass_attempt'].fillna(0, inplace = True)\n",
    "df['sack'].fillna(0, inplace = True)\n",
    "df['safety'].fillna(0, inplace = True)\n",
    "df['touchdown'].fillna(0, inplace = True)\n",
    "df['pass_touchdown'].fillna(0, inplace = True)\n",
    "df['rush_touchdown'].fillna(0, inplace = True)\n",
    "df['return_touchdown'].fillna(0, inplace = True)\n",
    "df['complete_pass'].fillna(0, inplace = True)\n",
    "df['assist_tackle'].fillna(0, inplace = True)\n",
    "df['lateral_reception'].fillna(0, inplace = True)\n",
    "df['lateral_rush'].fillna(0, inplace = True)\n",
    "df['lateral_return'].fillna(0, inplace = True)\n",
    "df['lateral_recovery'].fillna(0, inplace = True)\n",
    "df['passing_yards'].fillna(0, inplace = True)\n",
    "df['receiving_yards'].fillna(0, inplace = True)\n",
    "df['rushing_yards'].fillna(0, inplace = True)\n",
    "df['lateral_receiving_yards'].fillna(0, inplace = True)\n",
    "df['lateral_rushing_yards'].fillna(0, inplace = True)\n",
    "df['tackle_with_assist'].fillna(0, inplace = True)\n",
    "df['return_yards'].fillna(0, inplace = True)\n",
    "df['replay_or_challenge'].fillna(0, inplace = True)\n",
    "df['series_success'].fillna(0, inplace = True)\n",
    "df['order_sequence'].fillna(0, inplace = True)\n",
    "df['fixed_drive'].fillna(0, inplace = True)\n",
    "df['drive_play_count'].fillna(0, inplace = True)\n",
    "df['drive_first_downs'].fillna(0, inplace = True)\n",
    "df['drive_inside20'].fillna(0, inplace = True)\n",
    "df['drive_ended_with_score'].fillna(0, inplace = True)\n",
    "df['drive_quarter_start'].fillna(0, inplace = True)\n",
    "df['drive_quarter_end'].fillna(0, inplace = True)\n",
    "df['drive_yards_penalized'].fillna(0, inplace = True)\n",
    "df['drive_play_id_started'].fillna(0, inplace = True)\n",
    "df['drive_play_id_ended'].fillna(0, inplace = True)\n",
    "df['success'].fillna(0, inplace = True)\n",
    "df['pass'].fillna(0, inplace = True)\n",
    "df['rush'].fillna(0, inplace = True)\n",
    "df['first_down'].fillna(0, inplace = True)\n",
    "df['play'].fillna(0, inplace = True)\n",
    "df['out_of_bounds'].fillna(0, inplace = True)\n",
    "df['home_opening_kickoff'].fillna(0, inplace = True)\n",
    "df['fumble_recovery_1_yards'].fillna(0, inplace = True)\n",
    "df['fumble_recovery_2_yards'].fillna(0, inplace = True)\n",
    "df['penalty_yards'].fillna(0, inplace = True)"
   ]
  },
  {
   "cell_type": "code",
   "execution_count": 196,
   "id": "f6e57cd8",
   "metadata": {
    "pycharm": {
     "name": "#%%\n"
    },
    "ExecuteTime": {
     "end_time": "2024-01-01T14:28:10.691296Z",
     "start_time": "2024-01-01T14:28:10.466730Z"
    }
   },
   "outputs": [
    {
     "data": {
      "text/plain": "(66972, 338)"
     },
     "execution_count": 196,
     "metadata": {},
     "output_type": "execute_result"
    }
   ],
   "source": [
    "# Convert to integer\n",
    "df['play_id'] = df['play_id'].astype(int)\n",
    "df['quarter_seconds_remaining'] = df['quarter_seconds_remaining'].astype(int)\n",
    "df['half_seconds_remaining'] = df['half_seconds_remaining'].astype(int)\n",
    "df['game_seconds_remaining'] = df['game_seconds_remaining'].astype(int)\n",
    "df['sp'] = df['sp'].astype(int)\n",
    "df['qtr'] = df['qtr'].astype(int)\n",
    "df['goal_to_go'] = df['goal_to_go'].astype(int)\n",
    "df['ydstogo'] = df['ydstogo'].astype(int)\n",
    "df['shotgun'] = df['shotgun'].astype(int)\n",
    "df['no_huddle'] = df['no_huddle'].astype(int)\n",
    "df['qb_dropback'] = df['qb_dropback'].astype(int)\n",
    "df['qb_scramble'] = df['qb_scramble'].astype(int)\n",
    "df['yards_after_catch'] = df['yards_after_catch'].astype(int)\n",
    "df['home_timeouts_remaining'] = df['home_timeouts_remaining'].astype(int)\n",
    "df['away_timeouts_remaining'] = df['away_timeouts_remaining'].astype(int)\n",
    "df['timeout'] = df['timeout'].astype(int)\n",
    "df['posteam_timeouts_remaining'] = df['posteam_timeouts_remaining'].astype(int)\n",
    "df['defteam_timeouts_remaining'] = df['defteam_timeouts_remaining'].astype(int)\n",
    "df['total_home_score'] = df['total_home_score'].astype(int)\n",
    "df['total_away_score'] = df['total_away_score'].astype(int)\n",
    "df['posteam_score'] = df['posteam_score'].astype(int)\n",
    "df['defteam_score'] = df['defteam_score'].astype(int)\n",
    "df['score_differential'] = df['score_differential'].astype(int)\n",
    "df['posteam_score_post'] = df['posteam_score_post'].astype(int)\n",
    "df['defteam_score_post'] = df['defteam_score_post'].astype(int)\n",
    "df['score_differential_post'] = df['score_differential_post'].astype(int)\n",
    "df['first_down_rush'] = df['first_down_rush'].astype(int)\n",
    "df['first_down_pass'] = df['first_down_pass'].astype(int)\n",
    "df['first_down_penalty'] = df['first_down_penalty'].astype(int)\n",
    "df['third_down_converted'] = df['third_down_converted'].astype(int)\n",
    "df['third_down_failed'] = df['third_down_failed'].astype(int)\n",
    "df['fourth_down_converted'] = df['fourth_down_converted'].astype(int)\n",
    "df['fourth_down_failed'] = df['fourth_down_failed'].astype(int)\n",
    "df['incomplete_pass'] = df['incomplete_pass'].astype(int)\n",
    "df['touchback'] = df['touchback'].astype(int)\n",
    "df['interception'] = df['interception'].astype(int)\n",
    "df['fumble_forced'] = df['fumble_forced'].astype(int)\n",
    "df['fumble_not_forced'] = df['fumble_not_forced'].astype(int)\n",
    "df['fumble_out_of_bounds'] = df['fumble_out_of_bounds'].astype(int)\n",
    "df['solo_tackle'] = df['solo_tackle'].astype(int)\n",
    "df['safety'] = df['safety'].astype(int)\n",
    "df['penalty'] = df['penalty'].astype(int)\n",
    "df['tackled_for_loss'] = df['tackled_for_loss'].astype(int)\n",
    "df['fumble_lost'] = df['fumble_lost'].astype(int)\n",
    "df['qb_hit'] = df['qb_hit'].astype(int)\n",
    "df['rush_attempt'] = df['rush_attempt'].astype(int)\n",
    "df['pass_attempt'] = df['pass_attempt'].astype(int)\n",
    "df['sack'] = df['sack'].astype(int)\n",
    "df['touchdown'] = df['touchdown'].astype(int)\n",
    "df['rush_touchdown'] = df['rush_touchdown'].astype(int)\n",
    "df['pass_touchdown'] = df['pass_touchdown'].astype(int)\n",
    "df['return_touchdown'] = df['return_touchdown'].astype(int)\n",
    "df['fumble'] = df['fumble'].astype(int)\n",
    "df['complete_pass'] = df['complete_pass'].astype(int)\n",
    "df['assist_tackle'] = df['assist_tackle'].astype(int)\n",
    "df['lateral_reception'] = df['lateral_reception'].astype(int)\n",
    "df['lateral_rush'] = df['lateral_rush'].astype(int)\n",
    "df['lateral_return'] = df['lateral_return'].astype(int)\n",
    "df['lateral_recovery'] = df['lateral_recovery'].astype(int)\n",
    "df['passing_yards'] = df['passing_yards'].astype(int)\n",
    "df['receiving_yards'] = df['receiving_yards'].astype(int)\n",
    "df['rushing_yards'] = df['rushing_yards'].astype(int)\n",
    "df['lateral_receiving_yards'] = df['lateral_receiving_yards'].astype(int)\n",
    "df['lateral_rushing_yards'] = df['lateral_rushing_yards'].astype(int)\n",
    "df['tackle_with_assist'] = df['tackle_with_assist'].astype(int)\n",
    "df['return_yards'] = df['return_yards'].astype(int)\n",
    "df['replay_or_challenge'] = df['replay_or_challenge'].astype(int)\n",
    "df['series'] = df['series'].astype(int)\n",
    "df['series_success'] = df['series_success'].astype(int)\n",
    "df['order_sequence'] = df['order_sequence'].astype(int)\n",
    "df['fixed_drive'] = df['fixed_drive'].astype(int)\n",
    "df['drive_play_count'] = df['drive_play_count'].astype(int)\n",
    "df['drive_first_downs'] = df['drive_first_downs'].astype(int)\n",
    "df['drive_inside20'] = df['drive_inside20'].astype(int)\n",
    "df['drive_ended_with_score'] = df['drive_ended_with_score'].astype(int)\n",
    "df['drive_quarter_start'] = df['drive_quarter_start'].astype(int)\n",
    "df['drive_quarter_end'] = df['drive_quarter_end'].astype(int)\n",
    "df['drive_yards_penalized'] = df['drive_yards_penalized'].astype(int)\n",
    "df['drive_play_id_started'] = df['drive_play_id_started'].astype(int)\n",
    "df['drive_play_id_ended'] = df['drive_play_id_ended'].astype(int)\n",
    "df['success'] = df['success'].astype(int)\n",
    "df['pass'] = df['pass'].astype(int)\n",
    "df['rush'] = df['rush'].astype(int)\n",
    "df['first_down'] = df['first_down'].astype(int)\n",
    "df['play'] = df['play'].astype(int)\n",
    "df['out_of_bounds'] = df['out_of_bounds'].astype(int)\n",
    "df['home_opening_kickoff'] = df['home_opening_kickoff'].astype(int)\n",
    "df['fumble_recovery_1_yards'] = df['fumble_recovery_1_yards'].astype(int)\n",
    "df['fumble_recovery_2_yards'] = df['fumble_recovery_2_yards'].astype(int)\n",
    "df['penalty_yards'] = df['penalty_yards'].astype(int)\n",
    "# df['home_rest'] = df['home_rest'].astype(int)\n",
    "# df['away_rest'] = df['away_rest'].astype(int)\n",
    "df.shape"
   ]
  },
  {
   "cell_type": "code",
   "execution_count": 197,
   "id": "deacf807",
   "metadata": {
    "pycharm": {
     "name": "#%%\n"
    },
    "ExecuteTime": {
     "end_time": "2024-01-01T14:28:10.727152Z",
     "start_time": "2024-01-01T14:28:10.587874Z"
    }
   },
   "outputs": [
    {
     "data": {
      "text/plain": "play_type_nfl\nPASS                            35783\nRUSH                            28075\nSACK                             2684\nINTERCEPTION                      416\nFUMBLE_RECOVERED_BY_OPPONENT       14\nName: count, dtype: int64"
     },
     "execution_count": 197,
     "metadata": {},
     "output_type": "execute_result"
    }
   ],
   "source": [
    "counts = df.play_type_nfl.value_counts(normalize=False)\n",
    "counts"
   ]
  },
  {
   "cell_type": "code",
   "execution_count": 198,
   "id": "11e507b0",
   "metadata": {
    "pycharm": {
     "name": "#%%\n"
    },
    "ExecuteTime": {
     "end_time": "2024-01-01T14:28:10.882717Z",
     "start_time": "2024-01-01T14:28:10.602483Z"
    }
   },
   "outputs": [
    {
     "data": {
      "text/plain": "play_type\npass    38897\nrun     28075\nName: count, dtype: int64"
     },
     "execution_count": 198,
     "metadata": {},
     "output_type": "execute_result"
    }
   ],
   "source": [
    "counts = df.play_type.value_counts(normalize=False)\n",
    "counts"
   ]
  },
  {
   "cell_type": "markdown",
   "id": "294748d7",
   "metadata": {
    "pycharm": {
     "name": "#%% md\n"
    }
   },
   "source": [
    "## IMPUTE PLAY TYPE"
   ]
  },
  {
   "cell_type": "code",
   "execution_count": 199,
   "id": "40e0f78c",
   "metadata": {
    "pycharm": {
     "name": "#%%\n"
    },
    "ExecuteTime": {
     "end_time": "2024-01-01T14:28:11.172496Z",
     "start_time": "2024-01-01T14:28:10.607941Z"
    }
   },
   "outputs": [
    {
     "data": {
      "text/plain": "(66972, 338)"
     },
     "execution_count": 199,
     "metadata": {},
     "output_type": "execute_result"
    }
   ],
   "source": [
    "df1 = df.copy()\n",
    "\n",
    "df1.shape"
   ]
  },
  {
   "cell_type": "code",
   "execution_count": 200,
   "id": "6de7e60a",
   "metadata": {
    "pycharm": {
     "name": "#%%\n"
    },
    "ExecuteTime": {
     "end_time": "2024-01-01T14:28:16.270828Z",
     "start_time": "2024-01-01T14:28:11.077136Z"
    }
   },
   "outputs": [],
   "source": [
    "# Modify play type\n",
    "df1['desc'] = df1['desc'].str.strip().str.lower()\n",
    "\n",
    "# QB Scramble\n",
    "df1['play_type'] = np.where((df1['play_type'] == 'no_play') & (df1['desc'].str.find('scrambles ')>= 0), 'qb_scramble', df1['play_type'])\n",
    "df1['play_type'] = np.where((df1['play_type'] == 'run') & (df1['desc'].str.find('scrambles ')>= 0), 'qb_scramble', df1['play_type'])\n",
    "\n",
    "# Kickoffs\n",
    "df1['play_type'] = np.where((df1['play_type'] == 'no_play') & (df1['desc'].str.find('kicks')>= 0), 'kickoff', df1['play_type'])\n",
    "df1['play_type'] = np.where((df1['play_type'] == 'no_play') & (df1['desc'].str.find('kick formation')>= 0), 'kickoff', df1['play_type'])\n",
    "\n",
    "# Field goals\n",
    "df1['play_type'] = np.where((df1['play_type'] == 'no_play') & (df1['desc'].str.find('field goal')>= 0), 'field_goal', df1['play_type'])\n",
    "\n",
    "# Punts\n",
    "df1['play_type'] = np.where((df1['play_type'] == 'no_play') & (df1['desc'].str.find(' punts')>= 0), 'punt', df1['play_type'])\n",
    "df1['play_type'] = np.where((df1['play_type'] == 'no_play') & (df1['desc'].str.find(' punt is')>= 0), 'punt', df1['play_type'])\n",
    "\n",
    "# Extra points (PATs)\n",
    "df1['play_type'] = np.where((df1['play_type'] == 'no_play') & (df1['desc'].str.find(' extra point')>= 0) & (df1['desc'].str.find('penalty')>= 0), 'extra_point', df1['play_type'])\n",
    "df1['play_type'] = np.where((df1['play_type'] == 'no_play') & (df1['desc'].str.find('two-point conversion')>= 0), 'two_point', df1['play_type'])\n",
    "\n",
    "# Kneel\n",
    "df1['play_type'] = np.where((df1['play_type'] == 'no_play') & (df1['desc'].str.find(' kneels')>= 0) & (df1['desc'].str.find('penalty')>= 0), 'qb_kneel', df1['play_type'])\n",
    "\n",
    "# QB spikes\n",
    "df1['play_type'] = np.where((df1['play_type'] == 'no_play') & (df1['desc'].str.find(' spiked')>= 0) & (df1['desc'].str.find('penalty')>= 0), 'qb_spike', df1['play_type'])\n",
    "\n",
    "# Passes\n",
    "df1['play_type'] = np.where((df1['play_type'] == 'no_play') & (df1['desc'].str.find('pass incomplete')>= 0), 'pass', df1['play_type'])\n",
    "df1['play_type'] = np.where((df1['play_type'] == 'no_play') & (df1['desc'].str.find('pass complete')>= 0), 'pass', df1['play_type'])\n",
    "df1['play_type'] = np.where((df1['play_type'] == 'no_play') & (df1['desc'].str.find('pass short')>= 0), 'pass', df1['play_type'])\n",
    "df1['play_type'] = np.where((df1['play_type'] == 'no_play') & (df1['desc'].str.find('pass deep')>= 0), 'pass', df1['play_type'])\n",
    "df1['play_type'] = np.where((df1['play_type'] == 'no_play') & (df1['desc'].str.find('pass to')>= 0), 'pass', df1['play_type'])\n",
    "df1['play_type'] = np.where((df1['play_type'] == 'no_play') & (df1['desc'].str.find('sacked')>= 0), 'pass', df1['play_type'])\n",
    "df1['play_type'] = np.where((df1['play_type'] == 'no_play') & (df1['desc'].str.find('pass intended')>= 0), 'pass', df1['play_type'])\n",
    "df1['play_type'] = np.where((df1['play_type'] == 'no_play') & (df1['desc'].str.find('pass intercepted')>= 0), 'pass', df1['play_type'])\n",
    "df1['play_type'] = np.where((df1['play_type'] == 'timeout') & (df1['desc'].str.find('pass incomplete')>= 0), 'pass', df1['play_type'])\n",
    "df1['play_type'] = np.where((df1['play_type'] == 'timeout') & (df1['desc'].str.find('pass complete')>= 0), 'pass', df1['play_type'])\n",
    "df1['play_type'] = np.where((df1['play_type'] == 'timeout') & (df1['desc'].str.find('pass short')>= 0), 'pass', df1['play_type'])\n",
    "df1['play_type'] = np.where((df1['play_type'] == 'timeout') & (df1['desc'].str.find('pass deep')>= 0), 'pass', df1['play_type'])\n",
    "df1['play_type'] = np.where((df1['play_type'] == 'timeout') & (df1['desc'].str.find('pass to')>= 0), 'pass', df1['play_type'])\n",
    "df1['play_type'] = np.where((df1['play_type'] == 'timeout') & (df1['desc'].str.find('sacked')>= 0), 'pass', df1['play_type'])\n",
    "df1['play_type'] = np.where((df1['play_type'] == 'timeout') & (df1['desc'].str.find('pass intended')>= 0), 'pass', df1['play_type'])\n",
    "df1['play_type'] = np.where((df1['play_type'] == 'timeout') & (df1['desc'].str.find('pass intercepted')>= 0), 'pass', df1['play_type'])\n",
    "\n",
    "# Runs\n",
    "df1['play_type'] = np.where((df1['play_type'] == 'no_play') & (df1['desc'].str.find('left end')>= 0), 'run', df1['play_type'])\n",
    "df1['play_type'] = np.where((df1['play_type'] == 'no_play') & (df1['desc'].str.find('left tackle')>= 0), 'run', df1['play_type'])\n",
    "df1['play_type'] = np.where((df1['play_type'] == 'no_play') & (df1['desc'].str.find('left guard')>= 0), 'run', df1['play_type'])\n",
    "df1['play_type'] = np.where((df1['play_type'] == 'no_play') & (df1['desc'].str.find('up the middle')>= 0), 'run', df1['play_type'])\n",
    "df1['play_type'] = np.where((df1['play_type'] == 'no_play') & (df1['desc'].str.find('right guard')>= 0), 'run', df1['play_type'])\n",
    "df1['play_type'] = np.where((df1['play_type'] == 'no_play') & (df1['desc'].str.find('right tackle')>= 0), 'run', df1['play_type'])\n",
    "df1['play_type'] = np.where((df1['play_type'] == 'no_play') & (df1['desc'].str.find('right end')>= 0), 'run', df1['play_type'])\n",
    "df1['play_type'] = np.where((df1['play_type'] == 'no_play') & (df1['desc'].str.find('end around')>= 0), 'run', df1['play_type'])\n",
    "df1['play_type'] = np.where((df1['play_type'] == 'timeout') & (df1['desc'].str.find('left end')>= 0), 'run', df1['play_type'])\n",
    "df1['play_type'] = np.where((df1['play_type'] == 'timeout') & (df1['desc'].str.find('left tackle')>= 0), 'run', df1['play_type'])\n",
    "df1['play_type'] = np.where((df1['play_type'] == 'timeout') & (df1['desc'].str.find('left guard')>= 0), 'run', df1['play_type'])\n",
    "df1['play_type'] = np.where((df1['play_type'] == 'timeout') & (df1['desc'].str.find('up the middle')>= 0), 'run', df1['play_type'])\n",
    "df1['play_type'] = np.where((df1['play_type'] == 'timeout') & (df1['desc'].str.find('right guard')>= 0), 'run', df1['play_type'])\n",
    "df1['play_type'] = np.where((df1['play_type'] == 'timeout') & (df1['desc'].str.find('right tackle')>= 0), 'run', df1['play_type'])\n",
    "df1['play_type'] = np.where((df1['play_type'] == 'timeout') & (df1['desc'].str.find('right end')>= 0), 'run', df1['play_type'])\n",
    "df1['play_type'] = np.where((df1['play_type'] == 'timeout') & (df1['desc'].str.find('end around')>= 0), 'run', df1['play_type'])"
   ]
  },
  {
   "cell_type": "code",
   "execution_count": 201,
   "id": "3d70fc00",
   "metadata": {
    "pycharm": {
     "name": "#%%\n"
    },
    "ExecuteTime": {
     "end_time": "2024-01-01T14:28:20.181892Z",
     "start_time": "2024-01-01T14:28:16.299509Z"
    }
   },
   "outputs": [],
   "source": [
    "# Penalties\n",
    "df1['play_type'] = np.where(df1['desc'].str.find('false start')>= 0, 'penalty', df1['play_type'])\n",
    "df1['play_type'] = np.where(df1['desc'].str.find('offensive delay of game')>= 0, 'penalty', df1['play_type'])\n",
    "df1['play_type'] = np.where((df1['desc'].str.find('penalty') >= 0) & (df1['desc'].str.find('neutral zone')>= 0), 'penalty', df1['play_type'])\n",
    "df1['play_type'] = np.where((df1['desc'].str.find('penalty')>= 0) & (df1['desc'].str.find('delay of kickoff')>= 0), 'penalty', df1['play_type'])\n",
    "df1['play_type'] = np.where((df1['play_type'] == 'no_play') & (df1['desc'].str.find('penalty')>= 0) & (df1['desc'].str.find('too many men')>= 0), 'penalty', df1['play_type'])\n",
    "df1['play_type'] = np.where((df1['play_type'] == 'no_play') & (df1['desc'].str.find('penalty')>= 0) & (df1['desc'].str.find('encroachment')>= 0), 'penalty', df1['play_type'])\n",
    "df1['play_type'] = np.where((df1['play_type'] == 'no_play') & (df1['desc'].str.find('penalty')>= 0) & (df1['desc'].str.find('12 on-field')>= 0), 'penalty', df1['play_type'])\n",
    "df1['play_type'] = np.where((df1['play_type'] == 'no_play') & (df1['desc'].str.find('penalty')>= 0) & (df1['desc'].str.find('unsportsmanlike')>= 0), 'penalty', df1['play_type'])\n",
    "df1['play_type'] = np.where((df1['play_type'] == 'no_play') & (df1['desc'].str.find('penalty')>= 0) & (df1['desc'].str.find('interference')>= 0), 'penalty', df1['play_type'])\n",
    "df1['play_type'] = np.where((df1['play_type'] == 'no_play') & (df1['desc'].str.find('penalty')>= 0) & (df1['desc'].str.find('holding')>= 0), 'penalty', df1['play_type'])\n",
    "df1['play_type'] = np.where((df1['play_type'] == 'no_play') & (df1['desc'].str.find('penalty')>= 0) & (df1['desc'].str.find('illegal')>= 0), 'penalty', df1['play_type'])\n",
    "df1['play_type'] = np.where((df1['play_type'] == 'no_play') & (df1['desc'].str.find('penalty')>= 0) & (df1['desc'].str.find('offside')>= 0), 'penalty', df1['play_type'])\n",
    "df1['play_type'] = np.where((df1['play_type'] == 'no_play') & (df1['desc'].str.find('penalty')>= 0) & (df1['desc'].str.find('roughness')>= 0), 'penalty', df1['play_type'])\n",
    "df1['play_type'] = np.where((df1['play_type'] == 'no_play') & (df1['desc'].str.find('penalty')>= 0) & (df1['desc'].str.find('chop block')>= 0), 'penalty', df1['play_type'])\n",
    "df1['play_type'] = np.where((df1['play_type'] == 'no_play') & (df1['desc'].str.find('penalty')>= 0) & (df1['desc'].str.find('tripping')>= 0), 'penalty', df1['play_type'])\n",
    "df1['play_type'] = np.where((df1['play_type'] == 'no_play') & (df1['desc'].str.find('penalty')>= 0) & (df1['desc'].str.find('roughing')>= 0), 'penalty', df1['play_type'])\n",
    "df1['play_type'] = np.where((df1['play_type'] == 'no_play') & (df1['desc'].str.find('penalty')>= 0) & (df1['desc'].str.find('face mask')>= 0), 'penalty', df1['play_type'])\n",
    "df1['play_type'] = np.where((df1['play_type'] == 'no_play') & (df1['desc'].str.find('penalty')>= 0) & (df1['desc'].str.find('personal foul')>= 0), 'penalty', df1['play_type'])\n",
    "df1['play_type'] = np.where((df1['play_type'] == 'no_play') & (df1['desc'].str.find('penalty')>= 0) & (df1['desc'].str.find('disqualification')>= 0), 'penalty', df1['play_type'])\n",
    "df1['play_type'] = np.where((df1['play_type'] == 'no_play') & (df1['desc'].str.find('penalty')>= 0) & (df1['desc'].str.find('taunting')>= 0), 'penalty', df1['play_type'])\n",
    "df1['play_type'] = np.where((df1['play_type'] == 'no_play') & (df1['desc'].str.find('penalty')>= 0) & (df1['desc'].str.find('intentional grounding')>= 0), 'penalty', df1['play_type'])\n",
    "df1['play_type'] = np.where((df1['desc'].str.find('penalty')>= 0) & (df1['desc'].str.find('play over the down')>= 0), 'penalty', df1['play_type'])\n",
    "\n",
    "# Replay reviews\n",
    "df1['play_type'] = np.where((df1['play_type'] == 'no_play') & (df1['desc'].str.find('replay was upheld')>= 0), 'replay_review', df1['play_type'])\n",
    "df1['play_type'] = np.where((df1['play_type'] == 'no_play') & (df1['desc'].str.find('replay assistant')>= 0), 'replay_review', df1['play_type'])\n",
    "\n",
    "# Timeouts\n",
    "df1['play_type'] = np.where((df1['desc'].str.find('timeout #')>= 0) & (df1['desc'].str.find('passer_jersey_number')>= 0) &  (df1['desc'].str.find('rusher_jersey_number')>= 0), 'timeout', df1['play_type'])\n",
    "df1['play_type'] = np.where((df1['desc'].str.find('timeout at')>= 0) & (df1['desc'].str.find('passer_jersey_number')>= 0) &  (df1['desc'].str.find('rusher_jersey_number')>= 0), 'timeout', df1['play_type'])\n",
    "\n",
    "# Clock runoff (no play)\n",
    "df1['play_type'] = np.where(df1['desc'].str.find('end of quarter due to 10 second clock run-off')>= 0, 'clock_runoff', df1['play_type'])\n",
    "\n",
    "# Replay down (no play)\n",
    "df1['play_type'] = np.where(df1['desc'].str.find('play over the down')>= 0, 'replay_down', df1['play_type'])\n",
    "df1['play_type'] = np.where(df1['desc'].str.find('play the down')>= 0, 'replay_down', df1['play_type'])"
   ]
  },
  {
   "cell_type": "code",
   "execution_count": 202,
   "id": "f1e4f8ea",
   "metadata": {
    "pycharm": {
     "name": "#%%\n"
    },
    "ExecuteTime": {
     "end_time": "2024-01-01T14:28:20.363488Z",
     "start_time": "2024-01-01T14:28:20.181608Z"
    }
   },
   "outputs": [],
   "source": [
    "df1['play_type_nfl'] = np.where(df1['play_type'] == 'run', 'RUSH',\n",
    "                                np.where(df1['play_type'] == 'penalty', 'PENALTY',\n",
    "                                         np.where(df1['play_type'] == 'extra_point', 'XP_KICK',\n",
    "                                                  np.where(df1['play_type'] == 'field_goal', 'FIELD_GOAL',\n",
    "                                                           np.where(df1['play_type'] == 'timeout', 'TIMEOUT',\n",
    "                                                                    np.where(df1['play_type'] == 'two_point', 'PAT2',\n",
    "                                                                             df1['play_type_nfl']))))))\n",
    "\n",
    "# Impute down property\n",
    "df1['down'] = np.where(df1['play_type'] == 'kickoff', 0,\n",
    "                       np.where(df1['play_type'] == 'extra_point', 0,\n",
    "                                np.where(df1['play_type'] == 'two_point', 0,\n",
    "                                         np.where(df1['play_type'] == 'injury',  df1['down'].shift(-1),\n",
    "                                                  np.where(df1['play_type'] == 'replay',  df1['down'].shift(-1),\n",
    "                                                           np.where(df1['play_type'] == 'timeout', df1['down'].shift(1),\n",
    "                                                                    np.where(df1['play_type'] == 'penalty', df1['down'].shift(1),\n",
    "                                                                             df1['down'])))))))\n",
    "\n",
    "# Remove kickoff from drive groupings\n",
    "df1['drive'] = np.where(df1['play_type'] == 'kickoff', np.nan, df1['drive'])\n",
    "\n",
    "# Offsetting penalties\n",
    "df1['offsetting_penalties'] = np.where((df1['desc'].str.find('offsetting') >= 0) & (df1['desc'].str.find('no play') >= 0), 1, 0)\n",
    "\n",
    "# Impute missing yards_gained\n",
    "df1['yards_gained'] = np.where(df1['offsetting_penalties'] == 1, 0, df1['yards_gained'])\n",
    "df1['yards_gained'] = np.where(df1['play_type'] == 'timeout', 0, df1['yards_gained'])\n",
    "df1['yards_gained'] = np.where((df1['play_type']=='penalty') & (df1['yards_gained']==np.nan),0,df1['yards_gained'])"
   ]
  },
  {
   "cell_type": "code",
   "execution_count": 203,
   "outputs": [],
   "source": [
    "# Impute pass location for pass play type when missing\n",
    "df1['pass_location'] = np.where((df1['play_type']=='pass') & (df1['desc'].str.find('pass middle')>= 0), 'middle',\n",
    "                                np.where((df1['play_type']=='pass') &  (df1['desc'].str.find('incomplete middle')>= 0), 'middle', \n",
    "                                         np.where((df1['play_type']=='pass') & (df1['desc'].str.find('pass left')>= 0), 'left',\n",
    "                                                  np.where((df1['play_type']=='pass') & (df1['desc'].str.find('incomplete left')>= 0), 'left', \n",
    "                                                           np.where((df1['play_type']=='pass') & (df1['desc'].str.find('pass right')>= 0), 'right',\n",
    "                                                                    np.where((df1['play_type']=='pass') & (df1['desc'].str.find('incomplete right')>= 0), 'right',\n",
    "                                                                             df1['pass_location']))))))\n",
    "\n",
    "# Impute pass length for pass play type when missing\n",
    "df1['pass_length'] = np.where((df1['play_type']=='pass') & (df1['pass_length']==np.nan) & (df1['desc'].str.find('deep')>= 0), 'deep',\n",
    "                              np.where((df1['play_type']=='pass') & (df1['pass_length']==np.nan) & (df1['desc'].str.find('short')>= 0), 'short',\n",
    "                                       np.where((df1['play_type']=='pass') & (df1['pass_length']==np.nan) & (df1['desc'].str.find('deep, incomplete')>= 0), 'deep',\n",
    "                                                np.where((df1['play_type']=='pass') & (df1['pass_length']==np.nan) & (df1['desc'].str.find('short, incomplete')>= 0), 'short',\n",
    "                                                         df1['pass_length']))))\n",
    "\n",
    "df1['intentional_grounding'] = np.where((df1['play_type']=='pass') & (df1['desc'].str.find('intentional grounding')>= 0), 1, 0)\n"
   ],
   "metadata": {
    "collapsed": false,
    "ExecuteTime": {
     "end_time": "2024-01-01T14:28:21.527997Z",
     "start_time": "2024-01-01T14:28:20.363824Z"
    }
   },
   "id": "190232d468dcfdb5"
  },
  {
   "cell_type": "markdown",
   "source": [
    "## INITIAL PLAY FILTERS"
   ],
   "metadata": {
    "collapsed": false
   },
   "id": "5f6a5227b92070a7"
  },
  {
   "cell_type": "code",
   "execution_count": 297,
   "id": "3c0054c0",
   "metadata": {
    "pycharm": {
     "name": "#%%\n"
    },
    "ExecuteTime": {
     "end_time": "2024-01-01T14:40:41.223729Z",
     "start_time": "2024-01-01T14:40:40.345955Z"
    }
   },
   "outputs": [
    {
     "data": {
      "text/plain": "(66972, 340)"
     },
     "execution_count": 297,
     "metadata": {},
     "output_type": "execute_result"
    }
   ],
   "source": [
    "df2 = df1.copy()\n",
    "\n",
    "df2.shape"
   ]
  },
  {
   "cell_type": "code",
   "execution_count": 298,
   "id": "638d9dc1",
   "metadata": {
    "pycharm": {
     "name": "#%%\n"
    },
    "ExecuteTime": {
     "end_time": "2024-01-01T14:40:41.262376Z",
     "start_time": "2024-01-01T14:40:41.138771Z"
    }
   },
   "outputs": [
    {
     "data": {
      "text/plain": "play_type_nfl\nPASS                            35783\nRUSH                            28075\nSACK                             2684\nINTERCEPTION                      416\nFUMBLE_RECOVERED_BY_OPPONENT       14\nName: count, dtype: int64"
     },
     "execution_count": 298,
     "metadata": {},
     "output_type": "execute_result"
    }
   ],
   "source": [
    "counts = df2.play_type_nfl.value_counts(normalize=False)\n",
    "counts"
   ]
  },
  {
   "cell_type": "code",
   "execution_count": 299,
   "outputs": [
    {
     "data": {
      "text/plain": "play_type\npass           38897\nrun            26146\nqb_scramble     1929\nName: count, dtype: int64"
     },
     "execution_count": 299,
     "metadata": {},
     "output_type": "execute_result"
    }
   ],
   "source": [
    "counts = df2.play_type.value_counts(normalize=False, dropna=False)\n",
    "counts"
   ],
   "metadata": {
    "collapsed": false,
    "ExecuteTime": {
     "end_time": "2024-01-01T14:40:41.914474Z",
     "start_time": "2024-01-01T14:40:41.752047Z"
    }
   },
   "id": "78e0e8c7d8ae46bb"
  },
  {
   "cell_type": "code",
   "execution_count": 300,
   "outputs": [
    {
     "data": {
      "text/plain": "(65043, 340)"
     },
     "execution_count": 300,
     "metadata": {},
     "output_type": "execute_result"
    }
   ],
   "source": [
    "df2 = df2[~df2['play_type'].isin(['punt','qb_kneel','field_goal','qb_scramble','qb_spike'])] # retain penalty to capture previous penalty events\n",
    "\n",
    "df2.shape"
   ],
   "metadata": {
    "collapsed": false,
    "ExecuteTime": {
     "end_time": "2024-01-01T14:40:42.670681Z",
     "start_time": "2024-01-01T14:40:42.375156Z"
    }
   },
   "id": "94ab495ff75ed747"
  },
  {
   "cell_type": "code",
   "execution_count": 301,
   "outputs": [
    {
     "data": {
      "text/plain": "play_type\npass    38897\nrun     26146\nName: count, dtype: int64"
     },
     "execution_count": 301,
     "metadata": {},
     "output_type": "execute_result"
    }
   ],
   "source": [
    "counts = df2.play_type.value_counts(normalize=False, dropna=False)\n",
    "counts"
   ],
   "metadata": {
    "collapsed": false,
    "ExecuteTime": {
     "end_time": "2024-01-01T14:40:43.316719Z",
     "start_time": "2024-01-01T14:40:43.124487Z"
    }
   },
   "id": "152e4d3b"
  },
  {
   "cell_type": "markdown",
   "id": "5bc410cd",
   "metadata": {
    "pycharm": {
     "name": "#%% md\n"
    }
   },
   "source": [
    "## FEATURE ENGINEERING"
   ]
  },
  {
   "cell_type": "code",
   "execution_count": 302,
   "id": "ccf48419",
   "metadata": {
    "pycharm": {
     "name": "#%%\n"
    },
    "ExecuteTime": {
     "end_time": "2024-01-01T14:40:55.048454Z",
     "start_time": "2024-01-01T14:40:54.849574Z"
    }
   },
   "outputs": [],
   "source": [
    "# Game-play sequence\n",
    "df2['play_sequence_game'] = df2.groupby(['game_id'])['play_id'].cumcount() + 1\n",
    "\n",
    "# Game-play-drive sequence\n",
    "df2['play_sequence_series'] = df2.groupby(['game_id','drive']).cumcount() + 1\n",
    "\n",
    "# Code turnover on play\n",
    "df2['turnover'] = np.where((df2['fumble_lost'] == 1) | (df2['interception'] == 1), 1, 0)"
   ]
  },
  {
   "cell_type": "code",
   "execution_count": 303,
   "outputs": [],
   "source": [
    "# Normalize score_differential between 0 and 1, based on min and max values\n",
    "df2['score_differential_norm'] = (df2['score_differential'] - df2['score_differential'].min()) / (df2['score_differential'].max() - df2['score_differential'].min())\n"
   ],
   "metadata": {
    "collapsed": false,
    "ExecuteTime": {
     "end_time": "2024-01-01T14:40:55.656689Z",
     "start_time": "2024-01-01T14:40:55.487177Z"
    }
   },
   "id": "bc17647b27060f1"
  },
  {
   "cell_type": "code",
   "execution_count": 304,
   "id": "b295629c",
   "metadata": {
    "pycharm": {
     "name": "#%%\n"
    },
    "ExecuteTime": {
     "end_time": "2024-01-01T14:40:57.344624Z",
     "start_time": "2024-01-01T14:40:56.346033Z"
    }
   },
   "outputs": [
    {
     "data": {
      "text/plain": "play_type_detail\npass_short     25562\nrun_inside     13545\nrun_outside    12577\npass_deep      10648\npass_sack       2685\nrun               24\npass               2\nName: count, dtype: int64"
     },
     "execution_count": 304,
     "metadata": {},
     "output_type": "execute_result"
    }
   ],
   "source": [
    "df2['play_type_detail'] = np.where((df2['play_type']=='run') & (df2['desc'].str.find('left end')>= 0), 'run_outside',\n",
    "                          np.where((df2['play_type']=='run') & (df2['desc'].str.find('right end')>= 0), 'run_outside',\n",
    "                          np.where((df2['play_type']=='run') & (df2['desc'].str.find('end around')>= 0), 'run_outside',\n",
    "                          np.where((df2['play_type']=='run') & (df2['desc'].str.find('left tackle')>= 0), 'run_outside',\n",
    "                          np.where((df2['play_type']=='run') & (df2['desc'].str.find('left guard')>= 0), 'run_inside',\n",
    "                          np.where((df2['play_type']=='run') & (df2['desc'].str.find('middle')>= 0), 'run_inside',\n",
    "                          np.where((df2['play_type']=='run') & (df2['desc'].str.find('right guard')>= 0), 'run_inside',\n",
    "                          np.where((df2['play_type']=='run') & (df2['desc'].str.find('right tackle')>= 0), 'run_outside',\n",
    "\n",
    "                          np.where(df2['pass_length']=='deep', 'pass_deep',\n",
    "                          np.where((df2['play_type']=='pass') & (df2['air_yards']>10), 'pass_deep',\n",
    "                          np.where((df2['play_type']=='pass') & (df2['desc'].str.find('pass deep')>= 0),'pass_deep',\n",
    "                          np.where((df2['play_type']=='pass') & (df2['desc'].str.find('complete deep')>= 0), 'pass_deep',\n",
    "                          np.where((df2['play_type']=='pass') & (df2['air_yards'] == np.nan) & (df2['yards_after_catch'] == 0) & (df2['passing_yards'] >= 10), 'pass_deep',\n",
    "\n",
    "                          np.where(df2['pass_length']=='short', 'pass_short',\n",
    "                          np.where((df2['play_type']=='pass') & (df2['air_yards']<= 10), 'pass_short',\n",
    "                          np.where((df2['play_type']=='pass') & (df2['air_yards'] == np.nan) & (df2['yards_after_catch'] == 0) & (df2['passing_yards'] < 10), 'pass_short',\n",
    "                          np.where((df2['play_type']=='pass') & (df2['desc'].str.find('intentional grounding')>= 0), 'pass_short',\n",
    "\n",
    "                          np.where((df2['play_type']=='pass') & (df2['desc'].str.find('sack')>= 0),'pass_sack',\n",
    "                          np.where((df2['play_type']=='pass') & (df2['air_yards']==np.nan), 'pass',\n",
    "\n",
    "                          np.where((df2['play_type']=='pass') & (df2['desc'].str.find('aborted')>= 0),'aborted',\n",
    "                          df2['play_type']))))))))))))))))))))\n",
    "\n",
    "counts = df2.play_type_detail.value_counts(normalize=False)\n",
    "counts"
   ]
  },
  {
   "cell_type": "code",
   "execution_count": 305,
   "id": "528d5203",
   "metadata": {
    "pycharm": {
     "name": "#%%\n"
    },
    "ExecuteTime": {
     "end_time": "2024-01-01T14:40:57.736108Z",
     "start_time": "2024-01-01T14:40:57.315006Z"
    }
   },
   "outputs": [
    {
     "data": {
      "text/plain": "array(['grass', 'turf'], dtype=object)"
     },
     "execution_count": 305,
     "metadata": {},
     "output_type": "execute_result"
    }
   ],
   "source": [
    "# Remove ® from stadium names\n",
    "df2['stadium'] = df2['stadium'].str.replace('®', '').str.replace('-','').str.replace('&','').str.replace('.','').str.replace(\"'\",\"\").str.strip().str.lower()\n",
    "\n",
    "# Impute nan values to NULL\n",
    "df2['surface'] = np.where(df2['surface'] == '', np.nan, df2['surface'])\n",
    "\n",
    "# Map stadiums to new values\n",
    "stadium_map = {'allegiant stadium': 'grass',\n",
    "               'azteca stadium': 'grass',\n",
    "               'fedexfield': 'grass',\n",
    "               'state farm stadium': 'grass',\n",
    "               'mercedesbenz stadium': 'turf',\n",
    "               'mt bank stadium': 'grass',\n",
    "               'paycor stadium': 'turf',\n",
    "               'metlife stadium':'turf',\n",
    "               'highmark stadium':'turf',\n",
    "               'bank of america stadium': 'grass',\n",
    "               'soldier field': 'grass',\n",
    "               'raymond james stadium': 'grass',\n",
    "               'cleveland browns stadium': 'grass', \n",
    "               'firstenergy stadium': 'grass',\n",
    "               'acrisure stadium': 'grass',\n",
    "               'att stadium': 'turf',\n",
    "               'wembley stadium': 'grass',\n",
    "               'empower field at mile high': 'grass', \n",
    "               'geha field at arrowhead stadium': 'grass', \n",
    "               'ford field': 'turf',\n",
    "               'tottenham hotspur stadium': 'turf',\n",
    "               'nrg stadium': 'turf',\n",
    "               'lucas oil stadium': 'turf',\n",
    "               'everbank stadium': 'grass',\n",
    "               'tiaa bank field': 'grass',\n",
    "               \"levis stadium\": 'grass',\n",
    "               'lumen field': 'turf',\n",
    "               'sofi stadium': 'turf', \n",
    "               'nissan stadium': 'turf',\n",
    "               'gillette stadium': 'turf',\n",
    "               'us bank stadium': 'turf',\n",
    "               'lincoln financial field': 'grass',\n",
    "               'caesars superdome': 'turf',\n",
    "               'allianz arena': 'turf',\n",
    "               'hard rock stadium': 'grass',\n",
    "               'lambeau field': 'grass',\n",
    "               'frankfurt stadium': 'turf',\n",
    "               }\n",
    "\n",
    "df2['surface'] = df2['stadium'].map(stadium_map).fillna(df2['surface'])\n",
    "\n",
    "df2.surface.unique()"
   ]
  },
  {
   "cell_type": "code",
   "execution_count": 306,
   "outputs": [
    {
     "data": {
      "text/plain": "503"
     },
     "execution_count": 306,
     "metadata": {},
     "output_type": "execute_result"
    }
   ],
   "source": [
    "# Remove ® from stadium names\n",
    "df2.weather.str.strip()\n",
    "df2['weather'] = df2['weather'].str.lower().str.replace('(','').str.replace(')','').str.replace('.','').str.replace(\"'\",\"\").str.replace('n/a','').str.replace('  ', ' ').str.strip()\n",
    "df2['weather'] = df2['weather'].str.replace(' n ', ' ').str.replace(' nnw ', ' ').str.replace(' wnw ', ' ').str.replace(' nw ', ' ')\n",
    "df2['weather'] = df2['weather'].str.replace(' w ', ' ').str.replace(' ssw ', ' ').str.replace(' sws ', ' ').str.replace(' sw ', ' ')\n",
    "df2['weather'] = df2['weather'].str.replace(' s ', ' ').str.replace(' sse ', ' ').str.replace(' ese ', ' ').str.replace(' se ', ' ')\n",
    "df2['weather'] = df2['weather'].str.replace(' e ', ' ').str.replace(' nne ', ' ').str.replace(' ene ', ' ').str.replace(' ne ', ' ')\n",
    "\n",
    "df2.weather.nunique()"
   ],
   "metadata": {
    "collapsed": false,
    "ExecuteTime": {
     "end_time": "2024-01-01T14:40:58.828189Z",
     "start_time": "2024-01-01T14:40:58.132279Z"
    }
   },
   "id": "c89688c4612605dd"
  },
  {
   "cell_type": "code",
   "execution_count": 307,
   "outputs": [
    {
     "name": "stdout",
     "output_type": "stream",
     "text": [
      "[]\n"
     ]
    }
   ],
   "source": [
    "df2.weather.str.strip()\n",
    "\n",
    "df2['weather'] = np.where(df2['weather'] == 'n/a temp: humidity: wind: mph', np.nan,\n",
    "                          np.where(df2['weather'] == 'temp: humidity: wind: mph', np.nan,\n",
    "                                   np.where(df2['weather'] == '', np.nan,\n",
    "                                            df2['weather'])))\n",
    "\n",
    "# Impute missing values with previous value within game\n",
    "df2['weather'] = df2.groupby(['game_id'])['weather'].fillna(method='ffill')\n",
    "\n",
    "# Map stadiums to new values\n",
    "weather_map = {'ARI_KC_2022_09_11': 'indoors temp: 72° f, humidity: 18%, wind: 0 mph',\n",
    "               'ARI_LA_2022_09_25': 'indoors temp: 72° f, humidity: 18%, wind: 0 mph',\n",
    "               'ARI_PHI_2022_10_09': 'indoors temp: 72° f, humidity: 18%, wind: 0 mph',\n",
    "               'ARI_NE_2022_12_12': 'indoors temp: 72° f, humidity: 18%, wind: 0 mph',\n",
    "               'ARI_NYG_2023_09_17': 'indoors temp: 72° f, humidity: 18%, wind: 0 mph',\n",
    "               'ARI_CIN_2023_10_08': 'indoors temp: 72° f, humidity: 18%, wind: 0 mph',\n",
    "               'ARI_ATL_2023_11_12': 'indoors temp: 72° f, humidity: 18%, wind: 0 mph',\n",
    "               'DAL_CIN_2022_09_18': 'indoors temp: 72° f, humidity: 18%, wind: 0 mph',\n",
    "               'KC_CIN_2023_01_29': 'mostly cloudy temp: 22° f, humidity: 55%, wind: 10 mph',\n",
    "               'DAL_TB_2022_09_11':  'indoors temp: 72° f, humidity: 18%, wind: 0 mph',\n",
    "               'DAL_WAS_2022_10_02': 'indoors temp: 72° f, humidity: 18%, wind: 0 mph',\n",
    "               'DAL_DET_2022_10_23': 'indoors temp: 72° f, humidity: 18%, wind: 0 mph',\n",
    "               'DAL_NYG_2022_11_24': 'indoors temp: 72° f, humidity: 18%, wind: 0 mph',\n",
    "               'DAL_IND_2022_12_04': 'indoors temp: 72° f, humidity: 18%, wind: 0 mph',\n",
    "               'DAL_HOU_2022_12_11': 'indoors temp: 72° f, humidity: 18%, wind: 0 mph',\n",
    "               'DAL_PHI_2022_12_24': 'indoors temp: 72° f, humidity: 18%, wind: 0 mph',\n",
    "               'DAL_NYJ_2023_09_17': 'indoors temp: 72° f, humidity: 18%, wind: 0 mph',\n",
    "               'DAL_NE_2023_10_01':  'indoors temp: 72° f, humidity: 18%, wind: 0 mph',\n",
    "               'DAL_NYG_2023_11_12': 'indoors temp: 72° f, humidity: 18%, wind: 0 mph',\n",
    "               'DAL_WAS_2023_11_23': 'indoors temp: 72° f, humidity: 18%, wind: 0 mph',\n",
    "               'DAL_SEA_2023_11_30': 'indoors temp: 72° f, humidity: 18%, wind: 0 mph',\n",
    "               'PHI_KC_2023_02_12': 'sunny temp: 77° f, humidity: 9%, wind: 0 mph',\n",
    "               }\n",
    "\n",
    "# Use weather map values based on game_alt_id\n",
    "df2['weather'] = np.where(df2['game_alt_id'].isin(weather_map.keys()), df2['game_alt_id'].map(weather_map), df2['weather'])\n",
    "\n",
    "# Impute missing weather values\n",
    "df2['weather'] = np.where(df2['weather'].isnull(), 'indoors temp: 65° f, humidity: 18%, wind: 0 mph', df2['weather'])\n",
    "\n",
    "# replace different format\n",
    "df2['weather'] = np.where(df2['weather'] == 't: 66; h: 60%; w: 7mph', 'temp: 66° f, humidity: 60%, wind: 7 mph', df2['weather'])\n",
    "# Print game_alt_id with null values\n",
    "missing_weather = df2[df2['weather'].isnull()]['game_alt_id'].unique()\n",
    "print(missing_weather)"
   ],
   "metadata": {
    "collapsed": false,
    "ExecuteTime": {
     "end_time": "2024-01-01T14:40:59.184533Z",
     "start_time": "2024-01-01T14:40:58.731096Z"
    }
   },
   "id": "85e183a448bfb026"
  },
  {
   "cell_type": "code",
   "execution_count": 308,
   "outputs": [
    {
     "data": {
      "text/plain": "game_weather\nsunny       19933\ncloudy      17132\nfair        13136\nindoor       8346\nrain         4490\novercast      932\nsnow          361\nunknown       246\ncold          235\nfog           232\nName: count, dtype: int64"
     },
     "execution_count": 308,
     "metadata": {},
     "output_type": "execute_result"
    }
   ],
   "source": [
    "# Extract values from weather\n",
    "df2['game_temp'] = df2['weather'].str.extract(r'temp: (\\d+)').astype(float)\n",
    "df2['game_humidity'] = df2['weather'].str.extract(r'humidity: (\\d+)').astype(float)\n",
    "df2['game_wind'] = df2['weather'].str.extract(r'wind: (\\d+)').fillna(0).astype(float)\n",
    "\n",
    "# Impute with median value\n",
    "df2['game_temp'] = df2['game_temp'].fillna(df2['game_temp'].median())\n",
    "df2['game_humidity'] = df2['game_humidity'].fillna(df2['game_humidity'].median())\n",
    "df2['game_wind'] = df2['game_wind'].fillna(0)\n",
    "\n",
    "# Code weather conditions, cloudy, sunny, rain, snow, partly cloudy\n",
    "df2['game_weather'] = np.where(df2['weather'].str.find('controlled climate') >= 0, 'indoor',\n",
    "                               np.where(df2['weather'].str.find('indoor') >= 0, 'indoor', \n",
    "                               np.where(df2['weather'].str[0:7] == 'indoors', 'indoors',\n",
    "                               np.where(df2['weather'].str[0:18] == 'controlled climate', 'indoors',\n",
    "                               np.where(df2['weather'].str.find('rain') >= 0, 'rain',\n",
    "                               np.where(df2['weather'].str.find('drizzle') >= 0, 'rain',\n",
    "                               np.where(df2['weather'].str.find('snow') >= 0, 'snow',\n",
    "                               np.where(df2['weather'].str[0:9] == 'scattered', 'fair',\n",
    "                               np.where(df2['weather'].str[0:5] == 'hazey', 'overcast',\n",
    "                               np.where(df2['weather'].str.find('overcast') >= 0, 'overcast',\n",
    "                               np.where(df2['weather'].str.find('partly') >= 0, 'fair',\n",
    "                               np.where(df2['weather'].str[0:6] == 'cloudy', 'cloudy',\n",
    "                               np.where(df2['weather'].str.find('sunny') >= 0, 'sunny',\n",
    "                               np.where(df2['weather'].str.find('clear') >= 0, 'sunny',\n",
    "                               np.where(df2['weather'].str[0:5] == 'sunny', 'sunny',\n",
    "                               np.where(df2['weather'].str[0:4] == 'temp', 'fair',\n",
    "                               np.where(df2['weather'].str[0:4] == 'fair', 'fair',\n",
    "                               np.where(df2['weather'].str[0:3] == 'fog', 'fog',\n",
    "                               np.where(df2['weather'].str[0:5] == 'frigid', 'cold',\n",
    "                               np.where(df2['weather'].str[0:4] == 'cold', 'cold',\n",
    "                               np.where(df2['weather'].str[0:6] == 'frigid', 'cold',\n",
    "                               np.where(df2['weather'].str[0:4] == 'sun/', 'sunny',\n",
    "                               np.where(df2['weather'].str[0:7] == 'drizzle', 'rain',\n",
    "                               np.where(df2['weather'].str[0:13] == 'thunderstorms', 'rain',\n",
    "                               np.where(df2['weather'].str.find('cloudy') >= 0, 'cloudy',\n",
    "                               'unknown')))))))))))))))))))))))))\n",
    "\n",
    "# Impute missing game_weather values with mode\n",
    "df2['game_weather'] = df2['game_weather'].fillna(df2['game_weather'].mode()[0])\n",
    "\n",
    "df2.game_weather.value_counts(dropna=False, normalize=False)"
   ],
   "metadata": {
    "collapsed": false,
    "ExecuteTime": {
     "end_time": "2024-01-01T14:41:02.604727Z",
     "start_time": "2024-01-01T14:40:59.738874Z"
    }
   },
   "id": "ca4fb562b0309900"
  },
  {
   "cell_type": "code",
   "outputs": [
    {
     "data": {
      "text/plain": "2"
     },
     "execution_count": 309,
     "metadata": {},
     "output_type": "execute_result"
    }
   ],
   "source": [
    "# Return the rows with unknown weather\n",
    "test_df = df2[df2['game_weather'] == 'unknown']\n",
    "test_df = test_df[['game_id','game_weather','weather']]\n",
    "test_df.weather.nunique()"
   ],
   "metadata": {
    "collapsed": false,
    "ExecuteTime": {
     "end_time": "2024-01-01T14:41:07.742425Z",
     "start_time": "2024-01-01T14:41:07.550702Z"
    }
   },
   "id": "15f1f56e7ca2fd65",
   "execution_count": 309
  },
  {
   "cell_type": "code",
   "outputs": [
    {
     "data": {
      "text/plain": "array(['t: 66; h: 60%; w: 7mph temp: 66° f, humidity: 60%, wind: northwest 7 mph',\n       'upper 40s to mid 30s by end of game temp: 46° f, humidity: 27%, wind: 8 mph'],\n      dtype=object)"
     },
     "execution_count": 310,
     "metadata": {},
     "output_type": "execute_result"
    }
   ],
   "source": [
    "test_df.weather.unique()"
   ],
   "metadata": {
    "collapsed": false,
    "ExecuteTime": {
     "end_time": "2024-01-01T14:41:10.054443Z",
     "start_time": "2024-01-01T14:41:09.933749Z"
    }
   },
   "id": "499d371ab799e4a9",
   "execution_count": 310
  },
  {
   "cell_type": "code",
   "execution_count": 311,
   "outputs": [
    {
     "data": {
      "text/plain": "          game_temp  game_humidity     game_wind\ncount  65043.000000   65043.000000  65043.000000\nmean      60.465200      57.770091      6.747628\nstd       16.471703      21.397680      5.054204\nmin        3.000000       0.000000      0.000000\n25%       50.000000      44.000000      3.000000\n50%       63.000000      60.000000      6.000000\n75%       72.000000      72.000000     10.000000\nmax       93.000000     100.000000     44.000000",
      "text/html": "<div>\n<style scoped>\n    .dataframe tbody tr th:only-of-type {\n        vertical-align: middle;\n    }\n\n    .dataframe tbody tr th {\n        vertical-align: top;\n    }\n\n    .dataframe thead th {\n        text-align: right;\n    }\n</style>\n<table border=\"1\" class=\"dataframe\">\n  <thead>\n    <tr style=\"text-align: right;\">\n      <th></th>\n      <th>game_temp</th>\n      <th>game_humidity</th>\n      <th>game_wind</th>\n    </tr>\n  </thead>\n  <tbody>\n    <tr>\n      <th>count</th>\n      <td>65043.000000</td>\n      <td>65043.000000</td>\n      <td>65043.000000</td>\n    </tr>\n    <tr>\n      <th>mean</th>\n      <td>60.465200</td>\n      <td>57.770091</td>\n      <td>6.747628</td>\n    </tr>\n    <tr>\n      <th>std</th>\n      <td>16.471703</td>\n      <td>21.397680</td>\n      <td>5.054204</td>\n    </tr>\n    <tr>\n      <th>min</th>\n      <td>3.000000</td>\n      <td>0.000000</td>\n      <td>0.000000</td>\n    </tr>\n    <tr>\n      <th>25%</th>\n      <td>50.000000</td>\n      <td>44.000000</td>\n      <td>3.000000</td>\n    </tr>\n    <tr>\n      <th>50%</th>\n      <td>63.000000</td>\n      <td>60.000000</td>\n      <td>6.000000</td>\n    </tr>\n    <tr>\n      <th>75%</th>\n      <td>72.000000</td>\n      <td>72.000000</td>\n      <td>10.000000</td>\n    </tr>\n    <tr>\n      <th>max</th>\n      <td>93.000000</td>\n      <td>100.000000</td>\n      <td>44.000000</td>\n    </tr>\n  </tbody>\n</table>\n</div>"
     },
     "execution_count": 311,
     "metadata": {},
     "output_type": "execute_result"
    }
   ],
   "source": [
    "# Print summary stats for game_temp, game_humidity, game_wind\n",
    "df2[['game_temp','game_humidity','game_wind']].describe()"
   ],
   "metadata": {
    "collapsed": false,
    "ExecuteTime": {
     "end_time": "2024-01-01T14:41:20.226521Z",
     "start_time": "2024-01-01T14:41:19.997273Z"
    }
   },
   "id": "795c890e9dc76ecb"
  },
  {
   "cell_type": "code",
   "execution_count": 312,
   "outputs": [
    {
     "data": {
      "text/plain": "array(['PISTOL', 'EMPTY', 'SHOTGUN', 'SINGLEBACK', 'WILDCAT', 'I_FORM',\n       'JUMBO', nan], dtype=object)"
     },
     "execution_count": 312,
     "metadata": {},
     "output_type": "execute_result"
    }
   ],
   "source": [
    "df2.offense_formation.unique()"
   ],
   "metadata": {
    "collapsed": false,
    "ExecuteTime": {
     "end_time": "2024-01-01T14:41:22.124965Z",
     "start_time": "2024-01-01T14:41:21.834857Z"
    }
   },
   "id": "5681b892dd60b1e5"
  },
  {
   "cell_type": "code",
   "execution_count": 313,
   "outputs": [],
   "source": [
    "df2['offense_formation'] = df2['offense_formation'].str.strip().str.lower()\n",
    "\n",
    "# Impute missing offense_formation with pass formation and run formation\n",
    "df2['offense_formation'] = np.where((df2['offense_formation'].isnull()) & (df2['shotgun'] == 1),'shotgun', \n",
    "                                             np.where((df2['offense_formation'].isnull()) & (df2['offense_personnel'].str[0:4] == '6 OL'),'jumbo',\n",
    "                                                      np.where((df2['offense_formation'].isnull()) & (df2['offense_personnel'].str.find('3 TE') >0),'jumbo',\n",
    "                                                               np.where((df2['offense_formation'].isnull()) & (df2['offense_personnel'].str.find('0 WR') >0),'jumbo',\n",
    "                                                                        np.where((df2['offense_formation'].isnull()) & (df2['offense_personnel'].str.find('3 WR') >0), 'shotgun',\n",
    "                                                                                 np.where((df2['offense_formation'].isnull()) & (df2['offense_personnel'].str[0:4] == '2 RB'), 'shotgun',\n",
    "                                                                                          np.where((df2['offense_formation'].isnull()) & (df2['offense_personnel'].str[0:4] == '1 RB'), 'singleback',\n",
    "                                                                                                   np.where(df2['offense_formation'].isnull(), 'shotgun',\n",
    "                                                                                                            df2['offense_formation']))))))))\n"
   ],
   "metadata": {
    "collapsed": false,
    "ExecuteTime": {
     "end_time": "2024-01-01T14:41:23.174218Z",
     "start_time": "2024-01-01T14:41:22.824269Z"
    }
   },
   "id": "42d86bfc093b4d84"
  },
  {
   "cell_type": "code",
   "execution_count": 314,
   "outputs": [
    {
     "data": {
      "text/plain": "offense_formation\nshotgun       38744\nsingleback    14113\nempty          4788\ni_form         3507\npistol         2980\njumbo           575\nwildcat         336\nName: count, dtype: int64"
     },
     "execution_count": 314,
     "metadata": {},
     "output_type": "execute_result"
    }
   ],
   "source": [
    "df2.offense_formation.value_counts(dropna=False)"
   ],
   "metadata": {
    "collapsed": false,
    "ExecuteTime": {
     "end_time": "2024-01-01T14:41:24.095586Z",
     "start_time": "2024-01-01T14:41:23.839406Z"
    }
   },
   "id": "6489bbaeba004ac0"
  },
  {
   "cell_type": "code",
   "execution_count": 315,
   "id": "06c444c5",
   "metadata": {
    "pycharm": {
     "name": "#%%\n"
    },
    "ExecuteTime": {
     "end_time": "2024-01-01T14:41:24.964423Z",
     "start_time": "2024-01-01T14:41:24.751048Z"
    }
   },
   "outputs": [],
   "source": [
    "# Offsetting penalties\n",
    "df2['offsetting_penalties'] = np.where((df2['desc'].str.find('offsetting') >= 0) & (df2['desc'].str.find('no play') >= 0), 1, 0)\n",
    "\n",
    "# Impute missing yards_gained\n",
    "df2['yards_gained'] = np.where(df2['offsetting_penalties'] == 1, 0, df2['yards_gained'])"
   ]
  },
  {
   "cell_type": "code",
   "execution_count": 316,
   "id": "2b58dfba",
   "metadata": {
    "pycharm": {
     "name": "#%%\n"
    },
    "ExecuteTime": {
     "end_time": "2024-01-01T14:41:25.805923Z",
     "start_time": "2024-01-01T14:41:25.679338Z"
    }
   },
   "outputs": [],
   "source": [
    "# Code yardline zones\n",
    "df2['dtg_99to90'] = np.where(df2['yardline_100'] >= 90, 1, 0)\n",
    "df2['dtg_89to60'] = np.where((df2['yardline_100'] <= 89) & (df2['yardline_100'] >= 60), 1, 0)\n",
    "df2['dtg_59to45'] = np.where((df2['yardline_100'] <= 59) & (df2['yardline_100'] >= 45), 1, 0)\n",
    "df2['dtg_44to35'] = np.where((df2['yardline_100'] <= 44) & (df2['yardline_100'] >= 35), 1, 0)\n",
    "df2['dtg_34to21'] = np.where((df2['yardline_100'] <= 34) & (df2['yardline_100'] >= 21), 1, 0)\n",
    "df2['dtg_20to10'] = np.where((df2['yardline_100'] <= 20) & (df2['yardline_100'] >= 10), 1, 0)\n",
    "df2['dtg_09to00'] = np.where(df2['yardline_100'] <=9, 1, 0)"
   ]
  },
  {
   "cell_type": "code",
   "execution_count": 317,
   "id": "6a1e2887",
   "metadata": {
    "pycharm": {
     "name": "#%%\n"
    },
    "ExecuteTime": {
     "end_time": "2024-01-01T14:41:29.809569Z",
     "start_time": "2024-01-01T14:41:26.449223Z"
    }
   },
   "outputs": [],
   "source": [
    "# Code big gains on previous run plays (>= 15 yards)\n",
    "df2['big_play_pass'] = np.where((df2['play_type']=='pass') & (df2['yards_gained']>=15) & (df2['turnover']==0), 1, 0)\n",
    "\n",
    "df2['prev1_big_play_pass'] = df2['big_play_pass'].shift(1).where(df2['drive'].shift(1) == df2['drive'], 0)\n",
    "df2['prev2_big_play_pass'] = df2['big_play_pass'].shift(2).where(df2['drive'].shift(2) == df2['drive'], 0)\n",
    "df2['prev3_big_play_pass'] = df2['big_play_pass'].shift(3).where(df2['drive'].shift(3) == df2['drive'], 0)\n",
    "\n",
    "# Calculate the percent of play classification within prior plays of current drive\n",
    "df2['drive_big_play_pass_pcnt'] = (df2.groupby(['game_id', 'drive'])['big_play_pass'].transform(lambda x: x.rolling(window=rolling_play_window, min_periods=1, closed='left').sum())/df2['play_sequence_series'] - 1).fillna(0)\n",
    "\n",
    "# Convert inf values to zero\n",
    "df2['drive_big_play_pass_pcnt'] = np.where(df2['drive_big_play_pass_pcnt'] == np.inf, 0, df2['drive_big_play_pass_pcnt'])\n",
    "df2['drive_big_play_pass_pcnt'] = np.where(df2['drive_big_play_pass_pcnt'] == -np.inf, 0, df2['drive_big_play_pass_pcnt'])\n",
    "\n",
    "# Convert values < 0 to zero\n",
    "df2['drive_big_play_pass_pcnt'] = np.where(df2['drive_big_play_pass_pcnt'] < 0, 0, df2['drive_big_play_pass_pcnt'])\n",
    "\n",
    "# Drop big play pass\n",
    "df2.drop(['big_play_pass'], axis=1, inplace=True)"
   ]
  },
  {
   "cell_type": "code",
   "execution_count": 318,
   "id": "de6800cd",
   "metadata": {
    "pycharm": {
     "name": "#%%\n"
    },
    "ExecuteTime": {
     "end_time": "2024-01-01T14:41:33.534009Z",
     "start_time": "2024-01-01T14:41:29.821012Z"
    }
   },
   "outputs": [],
   "source": [
    "# Code big gains on previous run plays (>= 7 yards)\n",
    "df2['big_play_run'] = np.where((df2['play_type']=='run') & (df2['yards_gained']>=7) & (df2['turnover']==0), 1, 0)\n",
    "\n",
    "df2['prev1_big_play_run'] = df2['big_play_run'].shift(1).where(df2['drive'].shift(1) == df2['drive'], 0)\n",
    "df2['prev2_big_play_run'] = df2['big_play_run'].shift(2).where(df2['drive'].shift(2) == df2['drive'], 0)\n",
    "df2['prev3_big_play_run'] = df2['big_play_run'].shift(3).where(df2['drive'].shift(3) == df2['drive'], 0)\n",
    "\n",
    "# Calculate the percent of play classification within prior plays of current drive\n",
    "df2['drive_big_play_run_pcnt'] = (df2.groupby(['game_id', 'drive'])['big_play_run'].transform(lambda x: x.rolling(window=rolling_play_window, min_periods=1, closed='left').sum())/df2['play_sequence_series'] - 1).fillna(0)\n",
    "\n",
    "# Convert inf values to zero\n",
    "df2['drive_big_play_run_pcnt'] = np.where(df2['drive_big_play_run_pcnt'] == np.inf, 0, df2['drive_big_play_run_pcnt'])\n",
    "df2['drive_big_play_run_pcnt'] = np.where(df2['drive_big_play_run_pcnt'] == -np.inf, 0, df2['drive_big_play_run_pcnt'])\n",
    "\n",
    "# Convert values < 0 to zero\n",
    "df2['drive_big_play_run_pcnt'] = np.where(df2['drive_big_play_run_pcnt'] < 0, 0, df2['drive_big_play_run_pcnt'])\n",
    "\n",
    "# Drop big play run\n",
    "df2.drop(['big_play_run'], axis=1, inplace=True)"
   ]
  },
  {
   "cell_type": "code",
   "execution_count": 319,
   "id": "0c88d03d",
   "metadata": {
    "pycharm": {
     "name": "#%%\n"
    },
    "ExecuteTime": {
     "end_time": "2024-01-01T14:41:33.747202Z",
     "start_time": "2024-01-01T14:41:33.544151Z"
    }
   },
   "outputs": [],
   "source": [
    "# Code negative run on previous plays\n",
    "df2['negative_pass'] = np.where((df2['play_type']=='pass') & (df2['yards_gained']<0) & (df2['turnover']==0), 1, 0)\n",
    "\n",
    "df2['prev1_negative_pass'] = df2['negative_pass'].shift(1).where(df2['drive'].shift(1) == df2['drive'], 0)\n",
    "df2['prev2_negative_pass'] = df2['negative_pass'].shift(2).where(df2['drive'].shift(2) == df2['drive'], 0)\n",
    "df2['prev3_negative_pass'] = df2['negative_pass'].shift(3).where(df2['drive'].shift(3) == df2['drive'], 0)\n",
    "\n",
    "# Drop negative pass\n",
    "df2.drop(['negative_pass'], axis=1, inplace=True)"
   ]
  },
  {
   "cell_type": "code",
   "execution_count": 320,
   "id": "a792fe83",
   "metadata": {
    "pycharm": {
     "name": "#%%\n"
    },
    "ExecuteTime": {
     "end_time": "2024-01-01T14:41:33.967727Z",
     "start_time": "2024-01-01T14:41:33.717687Z"
    }
   },
   "outputs": [],
   "source": [
    "# Code negative run on previous plays\n",
    "df2['negative_run'] = np.where((df2['play_type']=='run') & (df2['yards_gained'] < 0) & (df2['turnover']==0), 1, 0)\n",
    "\n",
    "df2['prev1_negative_run'] = df2['negative_run'].shift(1).where(df2['drive'].shift(1) == df2['drive'], 0)\n",
    "df2['prev2_negative_run'] = df2['negative_run'].shift(2).where(df2['drive'].shift(2) == df2['drive'], 0)\n",
    "df2['prev3_negative_run'] = df2['negative_run'].shift(3).where(df2['drive'].shift(3) == df2['drive'], 0)\n",
    "\n",
    "# Drop negative run\n",
    "df2.drop(['negative_run'], axis=1, inplace=True)"
   ]
  },
  {
   "cell_type": "code",
   "execution_count": 321,
   "id": "a9c916bb4fbfb0a8",
   "metadata": {
    "pycharm": {
     "name": "#%%\n"
    },
    "ExecuteTime": {
     "end_time": "2024-01-01T14:41:34.083707Z",
     "start_time": "2024-01-01T14:41:33.891107Z"
    }
   },
   "outputs": [
    {
     "data": {
      "text/plain": "play_type_prev1\npass    29752\nrun     23828\nnone    11463\nName: count, dtype: int64"
     },
     "execution_count": 321,
     "metadata": {},
     "output_type": "execute_result"
    }
   ],
   "source": [
    "# Code the play_type on previous plays\n",
    "df2['play_type_prev1'] = df2['play_type'].shift(1).where(df2['drive'].shift(1) == df2['drive'], np.nan)\n",
    "df2['play_type_prev2'] = df2['play_type'].shift(2).where(df2['drive'].shift(2) == df2['drive'], np.nan)\n",
    "df2['play_type_prev3'] = df2['play_type'].shift(3).where(df2['drive'].shift(3) == df2['drive'], np.nan)\n",
    "df2['play_type_prev4'] = df2['play_type'].shift(4).where(df2['drive'].shift(4) == df2['drive'], np.nan)\n",
    "\n",
    "# Impute with mode value\n",
    "df2['play_type_prev1'] = np.where(df2['play_type_prev1'].isnull(), 'none', df2['play_type_prev1'])\n",
    "df2['play_type_prev2'] = np.where(df2['play_type_prev2'].isnull(), 'none', df2['play_type_prev2'])\n",
    "df2['play_type_prev3'] = np.where(df2['play_type_prev3'].isnull(), 'none', df2['play_type_prev3'])\n",
    "df2['play_type_prev4'] = np.where(df2['play_type_prev4'].isnull(), 'none', df2['play_type_prev4'])\n",
    "\n",
    "df2.play_type_prev1.value_counts(dropna=False)"
   ]
  },
  {
   "cell_type": "code",
   "execution_count": 322,
   "outputs": [],
   "source": [
    "# Code the play_type on previous plays\n",
    "df2['penalty_team_prev1'] = df2['penalty_team'].shift(1).where(df2['drive'].shift(1) == df2['drive'], '')\n",
    "df2['penalty_team_prev2'] = df2['penalty_team'].shift(2).where(df2['drive'].shift(2) == df2['drive'], '')\n",
    "df2['penalty_team_prev3'] = df2['penalty_team'].shift(3).where(df2['drive'].shift(3) == df2['drive'], '')\n",
    "\n",
    "##########\n",
    "df2['prev1_play_off_penalty'] = np.where(df2['penalty_team_prev1'] == df2['posteam'], 1, 0)\n",
    "df2['prev1_play_def_penalty'] = np.where(df2['penalty_team_prev1'] == df2['defteam'], 1, 0)\n",
    "\n",
    "##########\n",
    "df2['prev2_play_off_penalty'] = np.where(df2['penalty_team_prev2'] == df2['posteam'], 1, 0)\n",
    "df2['prev2_play_def_penalty'] = np.where(df2['penalty_team_prev2'] == df2['defteam'], 1, 0)\n",
    "\n",
    "##########\n",
    "df2['prev3_play_off_penalty'] = np.where(df2['penalty_team_prev3'] == df2['posteam'], 1, 0)\n",
    "df2['prev3_play_def_penalty'] = np.where(df2['penalty_team_prev3'] == df2['defteam'], 1, 0)\n",
    "\n",
    "#########\n",
    "df2.drop(['penalty_team','penalty_team_prev1','penalty_team_prev2','penalty_team_prev3'], axis=1, inplace=True)"
   ],
   "metadata": {
    "collapsed": false,
    "ExecuteTime": {
     "end_time": "2024-01-01T14:41:34.318229Z",
     "start_time": "2024-01-01T14:41:33.918711Z"
    }
   },
   "id": "53492c4f9a22319d"
  },
  {
   "cell_type": "code",
   "execution_count": 323,
   "id": "ee8b6b58",
   "metadata": {
    "pycharm": {
     "name": "#%%\n"
    },
    "ExecuteTime": {
     "end_time": "2024-01-01T14:41:34.477033Z",
     "start_time": "2024-01-01T14:41:34.104861Z"
    }
   },
   "outputs": [],
   "source": [
    "# Code the play_type_detail on previous plays\n",
    "df2['play_type_detail_prev1'] = df2['play_type_detail'].shift(1).where(df2['drive'].shift(1) == df2['drive'], '')\n",
    "df2['play_type_detail_prev2'] = df2['play_type_detail'].shift(2).where(df2['drive'].shift(2) == df2['drive'], '')\n",
    "df2['play_type_detail_prev3'] = df2['play_type_detail'].shift(3).where(df2['drive'].shift(3) == df2['drive'], '')\n",
    "\n",
    "df2['prev1_play_run_outside'] = np.where(df2['play_type_detail_prev1'] == 'run_outside', 1, 0)\n",
    "df2['prev1_play_run_inside'] = np.where(df2['play_type_detail_prev1'] == 'run_inside', 1, 0)\n",
    "df2['prev1_play_pass_deep'] = np.where(df2['play_type_detail_prev1'] == 'pass_deep', 1, 0)\n",
    "df2['prev1_play_pass_short'] = np.where(df2['play_type_detail_prev1'] == 'pass_short', 1, 0)\n",
    "\n",
    "df2['prev2_play_run_outside'] = np.where(df2['play_type_detail_prev2'] == 'run_outside', 1, 0)\n",
    "df2['prev2_play_run_inside'] = np.where(df2['play_type_detail_prev2'] == 'run_inside', 1, 0)\n",
    "df2['prev2_play_pass_deep'] = np.where(df2['play_type_detail_prev2'] == 'pass_deep', 1, 0)\n",
    "df2['prev2_play_pass_short'] = np.where(df2['play_type_detail_prev2'] == 'pass_short', 1, 0)\n",
    "\n",
    "df2['prev3_play_run_outside'] = np.where(df2['play_type_detail_prev3'] == 'run_outside', 1, 0)\n",
    "df2['prev3_play_run_inside'] = np.where(df2['play_type_detail_prev3'] == 'run_inside', 1, 0)\n",
    "df2['prev3_play_pass_deep'] = np.where(df2['play_type_detail_prev3'] == 'pass_deep', 1, 0)\n",
    "df2['prev3_play_pass_short'] = np.where(df2['play_type_detail_prev3'] == 'pass_short', 1, 0)\n",
    "\n",
    "df2.drop(['play_type_detail_prev1','play_type_detail_prev2','play_type_detail_prev3'], axis=1, inplace=True)"
   ]
  },
  {
   "cell_type": "code",
   "execution_count": 324,
   "id": "0e834398",
   "metadata": {
    "pycharm": {
     "name": "#%%\n"
    },
    "ExecuteTime": {
     "end_time": "2024-01-01T14:41:38.265353Z",
     "start_time": "2024-01-01T14:41:34.365376Z"
    }
   },
   "outputs": [],
   "source": [
    "# Code incomplete passes on previous plays\n",
    "df2['prev1_incomplete_pass'] = df2['incomplete_pass'].shift(1).where(df2['drive'].shift(1) == df2['drive'], 0)\n",
    "df2['prev2_incomplete_pass'] = df2['incomplete_pass'].shift(2).where(df2['drive'].shift(2) == df2['drive'], 0)\n",
    "df2['prev3_incomplete_pass'] = df2['incomplete_pass'].shift(3).where(df2['drive'].shift(3) == df2['drive'], 0)\n",
    "df2['prev4_incomplete_pass'] = df2['incomplete_pass'].shift(4).where(df2['drive'].shift(4) == df2['drive'], 0)\n",
    "\n",
    "df2['prev1_incomplete_pass'].fillna(0, inplace = True)\n",
    "df2['prev2_incomplete_pass'].fillna(0, inplace = True)\n",
    "df2['prev3_incomplete_pass'].fillna(0, inplace = True)\n",
    "df2['prev4_incomplete_pass'].fillna(0, inplace = True)\n",
    "\n",
    "# Calculate the percent of play classification within prior plays of current drive\n",
    "df2['drive_incomplete_pass_pcnt'] = (df2.groupby(['game_id', 'drive'])['incomplete_pass'].transform(lambda x: x.rolling(window=rolling_play_window, min_periods=1, closed='left').sum())/df2['play_sequence_series'] - 1).fillna(0)\n",
    "\n",
    "# Convert values < 0 to zero\n",
    "df2['drive_incomplete_pass_pcnt'] = np.where(df2['drive_incomplete_pass_pcnt'] < 0, 0, df2['drive_incomplete_pass_pcnt'])\n",
    "\n",
    "# Convert Inf values to zero\n",
    "df2['drive_incomplete_pass_pcnt'] = np.where(df2['drive_incomplete_pass_pcnt'] == np.inf, 0, df2['drive_incomplete_pass_pcnt'])\n",
    "df2['drive_incomplete_pass_pcnt'] = np.where(df2['drive_incomplete_pass_pcnt'] == -np.inf, 0, df2['drive_incomplete_pass_pcnt'])"
   ]
  },
  {
   "cell_type": "code",
   "execution_count": 325,
   "id": "499ece7b",
   "metadata": {
    "pycharm": {
     "name": "#%%\n"
    },
    "ExecuteTime": {
     "end_time": "2024-01-01T14:41:38.329995Z",
     "start_time": "2024-01-01T14:41:38.257284Z"
    }
   },
   "outputs": [],
   "source": [
    "# Code yards on previous plays\n",
    "df2['prev1_yards_gained'] = df2['yards_gained'].shift(1).where(df2['drive'].shift(1) == df2['drive'], 0)\n",
    "df2['prev2_yards_gained'] = df2['yards_gained'].shift(2).where(df2['drive'].shift(2) == df2['drive'], 0)\n",
    "df2['prev3_yards_gained'] = df2['yards_gained'].shift(3).where(df2['drive'].shift(3) == df2['drive'], 0)\n",
    "df2['prev4_yards_gained'] = df2['yards_gained'].shift(4).where(df2['drive'].shift(4) == df2['drive'], 0)\n",
    "\n",
    "df2['prev1_yards_gained'].fillna(0, inplace = True)\n",
    "df2['prev2_yards_gained'].fillna(0, inplace = True)\n",
    "df2['prev3_yards_gained'].fillna(0, inplace = True)\n",
    "df2['prev4_yards_gained'].fillna(0, inplace = True)"
   ]
  },
  {
   "cell_type": "code",
   "execution_count": 326,
   "id": "3d305698",
   "metadata": {
    "pycharm": {
     "name": "#%%\n"
    },
    "ExecuteTime": {
     "end_time": "2024-01-01T14:41:38.445440Z",
     "start_time": "2024-01-01T14:41:38.279985Z"
    }
   },
   "outputs": [],
   "source": [
    "# Code win probability of previous plays\n",
    "df2['prev1_wpa'] = df2['wpa'].shift(1).where(df2['drive'].shift(1) == df2['drive'], 0)\n",
    "df2['prev2_wpa'] = df2['wpa'].shift(2).where(df2['drive'].shift(2) == df2['drive'], 0)\n",
    "df2['prev3_wpa'] = df2['wpa'].shift(3).where(df2['drive'].shift(3) == df2['drive'], 0)\n",
    "df2['prev4_wpa'] = df2['wpa'].shift(4).where(df2['drive'].shift(4) == df2['drive'], 0)\n",
    "\n",
    "df2['prev1_wpa'].fillna(0, inplace = True)\n",
    "df2['prev2_wpa'].fillna(0, inplace = True)\n",
    "df2['prev3_wpa'].fillna(0, inplace = True)\n",
    "df2['prev4_wpa'].fillna(0, inplace = True)"
   ]
  },
  {
   "cell_type": "code",
   "execution_count": 327,
   "id": "ebaddd5d",
   "metadata": {
    "pycharm": {
     "name": "#%%\n"
    },
    "ExecuteTime": {
     "end_time": "2024-01-01T14:41:42.457065Z",
     "start_time": "2024-01-01T14:41:38.297702Z"
    }
   },
   "outputs": [],
   "source": [
    "# Code shotgun formation of previous plays\n",
    "df2['prev1_shotgun'] = df2['shotgun'].shift(1).where(df2['drive'].shift(1) == df2['drive'], 0)\n",
    "df2['prev2_shotgun'] = df2['shotgun'].shift(2).where(df2['drive'].shift(2) == df2['drive'], 0)\n",
    "df2['prev3_shotgun'] = df2['shotgun'].shift(3).where(df2['drive'].shift(3) == df2['drive'], 0)\n",
    "\n",
    "df2['prev1_shotgun'].fillna(0, inplace = True)\n",
    "df2['prev2_shotgun'].fillna(0, inplace = True)\n",
    "df2['prev3_shotgun'].fillna(0, inplace = True)\n",
    "\n",
    "# Calculate the percent of play classification within prior plays of current drive\n",
    "df2['drive_shotgun_pcnt'] = (df2.groupby(['game_id', 'drive'])['shotgun'].transform(lambda x: x.rolling(window=rolling_play_window, min_periods=1, closed='left').sum())/df2['play_sequence_series'] - 1).fillna(0)\n",
    "\n",
    "# Convert inf values to zero\n",
    "df2['drive_shotgun_pcnt'] = np.where(df2['drive_shotgun_pcnt'] == np.inf, 0, df2['drive_shotgun_pcnt'])\n",
    "\n",
    "# Convert values < 0 to zero\n",
    "df2['drive_shotgun_pcnt'] = np.where(df2['drive_shotgun_pcnt'] < 0, 0, df2['drive_shotgun_pcnt'])"
   ]
  },
  {
   "cell_type": "code",
   "execution_count": 328,
   "id": "11667503",
   "metadata": {
    "pycharm": {
     "name": "#%%\n"
    },
    "ExecuteTime": {
     "end_time": "2024-01-01T14:41:47.904336Z",
     "start_time": "2024-01-01T14:41:42.456765Z"
    }
   },
   "outputs": [],
   "source": [
    "# Code qb_hit on previous plays\n",
    "df2['prev1_qb_hit'] = df2['qb_hit'].shift(1).where(df2['drive'].shift(1) == df2['drive'], 0)\n",
    "df2['prev2_qb_hit'] = df2['qb_hit'].shift(2).where(df2['drive'].shift(2) == df2['drive'], 0)\n",
    "df2['prev3_qb_hit'] = df2['qb_hit'].shift(3).where(df2['drive'].shift(3) == df2['drive'], 0)\n",
    "\n",
    "df2['prev1_qb_hit'].fillna(0, inplace = True)\n",
    "df2['prev2_qb_hit'].fillna(0, inplace = True)\n",
    "df2['prev3_qb_hit'].fillna(0, inplace = True)\n",
    "\n",
    "# Calculate the percent of play classification within prior plays of current drive\n",
    "df2['drive_qb_hit_pcnt'] = (df2.groupby(['game_id', 'drive'])['qb_hit'].transform(lambda x: x.rolling(window=rolling_play_window, min_periods=1, closed='left').sum())/df2['play_sequence_series'] - 1).fillna(0)\n",
    "\n",
    "# Convert values < 0 to zero\n",
    "df2['drive_qb_hit_pcnt'] = np.where(df2['drive_qb_hit_pcnt'] < 0, 0, df2['drive_qb_hit_pcnt'])\n",
    "\n",
    "# Convert Inf values to zero\n",
    "df2['drive_qb_hit_pcnt'] = np.where(df2['drive_qb_hit_pcnt'] == np.inf, 0, df2['drive_qb_hit_pcnt'])\n",
    "df2['drive_qb_hit_pcnt'] = np.where(df2['drive_qb_hit_pcnt'] == -np.inf, 0, df2['drive_qb_hit_pcnt'])\n",
    "\n",
    "# Drop qb_hit\n",
    "df2.drop(['qb_hit'], axis=1, inplace=True)"
   ]
  },
  {
   "cell_type": "code",
   "execution_count": 329,
   "id": "a8545b7c",
   "metadata": {
    "pycharm": {
     "name": "#%%\n"
    },
    "ExecuteTime": {
     "end_time": "2024-01-01T14:41:52.500070Z",
     "start_time": "2024-01-01T14:41:47.706567Z"
    }
   },
   "outputs": [],
   "source": [
    "# Code no huddle of previous plays\n",
    "df2['prev1_no_huddle'] = df2['no_huddle'].shift(1).where(df2['drive'].shift(1) == df2['drive'], 0)\n",
    "df2['prev2_no_huddle'] = df2['no_huddle'].shift(2).where(df2['drive'].shift(2) == df2['drive'], 0)\n",
    "df2['prev3_no_huddle'] = df2['no_huddle'].shift(3).where(df2['drive'].shift(3) == df2['drive'], 0)\n",
    "\n",
    "df2['prev1_no_huddle'].fillna(0, inplace = True)\n",
    "df2['prev2_no_huddle'].fillna(0, inplace = True)\n",
    "df2['prev3_no_huddle'].fillna(0, inplace = True)\n",
    "\n",
    "# Calculate the percent of play classification within prior plays of current drive\n",
    "df2['drive_no_huddle_pcnt'] = (df2.groupby(['game_id', 'drive'])['no_huddle'].transform(lambda x: x.rolling(window=rolling_play_window, min_periods=1, closed='left').sum())/df2['play_sequence_series'] - 1).fillna(0)\n",
    "\n",
    "# Convert values < 0 to zero\n",
    "df2['drive_no_huddle_pcnt'] = np.where(df2['drive_no_huddle_pcnt'] < 0, 0, df2['drive_no_huddle_pcnt'])\n",
    "\n",
    "# Convert Inf values to zero\n",
    "df2['drive_no_huddle_pcnt'] = np.where(df2['drive_no_huddle_pcnt'] == np.inf, 0, df2['drive_no_huddle_pcnt'])\n",
    "df2['drive_no_huddle_pcnt'] = np.where(df2['drive_no_huddle_pcnt'] == -np.inf, 0, df2['drive_no_huddle_pcnt'])\n"
   ]
  },
  {
   "cell_type": "code",
   "execution_count": 330,
   "id": "54249c62",
   "metadata": {
    "pycharm": {
     "name": "#%%\n"
    },
    "ExecuteTime": {
     "end_time": "2024-01-01T14:41:52.718931Z",
     "start_time": "2024-01-01T14:41:52.390425Z"
    }
   },
   "outputs": [],
   "source": [
    "# Code first down achieved on a previous play\n",
    "df2['prev1_first_down_pass'] = df2['first_down_pass'].shift(1).where(df2['drive'].shift(1) == df2['drive'], 0)\n",
    "df2['prev2_first_down_pass'] = df2['first_down_pass'].shift(2).where(df2['drive'].shift(2) == df2['drive'], 0)\n",
    "df2['prev3_first_down_pass'] = df2['first_down_pass'].shift(3).where(df2['drive'].shift(3) == df2['drive'], 0)\n",
    "\n",
    "df2['prev1_first_down_pass'].fillna(0, inplace = True)\n",
    "df2['prev2_first_down_pass'].fillna(0, inplace = True)\n",
    "df2['prev3_first_down_pass'].fillna(0, inplace = True)\n",
    "\n",
    "# Drop first_down_pass\n",
    "df2.drop(['first_down_pass'], axis=1, inplace=True)"
   ]
  },
  {
   "cell_type": "code",
   "execution_count": 331,
   "id": "18866cfc",
   "metadata": {
    "pycharm": {
     "name": "#%%\n"
    },
    "ExecuteTime": {
     "end_time": "2024-01-01T14:41:52.922123Z",
     "start_time": "2024-01-01T14:41:52.676468Z"
    }
   },
   "outputs": [],
   "source": [
    "# Code first down achieved on a previous play\n",
    "df2['prev1_first_down_run'] = df2['first_down_rush'].shift(1).where(df2['drive'].shift(1) == df2['drive'], 0)\n",
    "df2['prev2_first_down_run'] = df2['first_down_rush'].shift(2).where(df2['drive'].shift(2) == df2['drive'], 0)\n",
    "df2['prev3_first_down_run'] = df2['first_down_rush'].shift(3).where(df2['drive'].shift(3) == df2['drive'], 0)\n",
    "\n",
    "df2['prev1_first_down_run'].fillna(0, inplace = True)\n",
    "df2['prev2_first_down_run'].fillna(0, inplace = True)\n",
    "df2['prev3_first_down_run'].fillna(0, inplace = True)\n",
    "\n",
    "# Drop first_down_rush\n",
    "df2.drop(['first_down_rush'], axis=1, inplace=True)"
   ]
  },
  {
   "cell_type": "code",
   "execution_count": 332,
   "id": "d596bfa2",
   "metadata": {
    "pycharm": {
     "name": "#%%\n"
    },
    "ExecuteTime": {
     "end_time": "2024-01-01T14:41:58.232070Z",
     "start_time": "2024-01-01T14:41:52.902138Z"
    }
   },
   "outputs": [],
   "source": [
    "# Code play efficiency (1st down >= 4, 2nd down half the distance, 3rd and 4th down = first down)\n",
    "df2['effct_play'] = np.where((df2['down']==1) & (df2['yards_gained'] >= 4) & (df2['turnover'] == 0), 1,\n",
    "                             np.where((df2['down']==2) & (df2['yards_gained'] >= (df2['ydstogo']/2)) & (df2['turnover'] == 0), 1,\n",
    "                                      np.where((df2['down']==3) & (df2['yards_gained'] >= df2['ydstogo']) & (df2['turnover'] == 0), 1,\n",
    "                                               np.where((df2['down']==4) & (df2['yards_gained'] >= df2['ydstogo']) & (df2['turnover'] == 0), 1, 0))))\n",
    "\n",
    "df2['prev1_effct_play'] = df2['effct_play'].shift(1).where(df2['drive'].shift(1) == df2['drive'], 0)\n",
    "df2['prev2_effct_play'] = df2['effct_play'].shift(2).where(df2['drive'].shift(2) == df2['drive'], 0)\n",
    "df2['prev3_effct_play'] = df2['effct_play'].shift(3).where(df2['drive'].shift(3) == df2['drive'], 0)\n",
    "\n",
    "# Calculate the percent of play classification within prior plays of current drive\n",
    "df2['drive_effct_play_pcnt'] = (df2.groupby(['game_id', 'drive'])['effct_play'].transform(lambda x: x.rolling(window=rolling_play_window, min_periods=1, closed='left').sum())/df2['play_sequence_series'] - 1).fillna(0)\n",
    "\n",
    "# Convert Inf values to zero\n",
    "df2['drive_effct_play_pcnt'] = np.where(df2['drive_effct_play_pcnt'] == np.inf, 0, df2['drive_effct_play_pcnt'])\n",
    "df2['drive_effct_play_pcnt'] = np.where(df2['drive_effct_play_pcnt'] == -np.inf, 0, df2['drive_effct_play_pcnt'])\n",
    "\n",
    "# Convert values < 0 to zero\n",
    "df2['drive_effct_play_pcnt'] = np.where(df2['drive_effct_play_pcnt'] < 0, 0, df2['drive_effct_play_pcnt'])\n",
    "\n",
    "# Drop effct_play\n",
    "df2.drop(['effct_play'], axis=1, inplace=True)"
   ]
  },
  {
   "cell_type": "code",
   "execution_count": 333,
   "id": "ae362f7c",
   "metadata": {
    "pycharm": {
     "name": "#%%\n"
    },
    "ExecuteTime": {
     "end_time": "2024-01-01T14:41:58.283425Z",
     "start_time": "2024-01-01T14:41:58.230717Z"
    }
   },
   "outputs": [],
   "source": [
    "# Code downs_remaining\n",
    "df2['remaining_downs'] = np.where(df2['down'] == 1, 3, \n",
    "                                  np.where(df2['down'] == 2, 2,\n",
    "                                           np.where((df2['down'] == 3) & (df2['yardline_100'] <= 55) & (df2['yardline_100'] >= 33) & (df2['ydstogo'] <= 8), 2,\n",
    "                                                    np.where(df2['down'] == 3, 1,\n",
    "                                                             np.where(df2['down'] == 4, 1, 1)))))\n",
    "\n",
    "# Code yards_per_down remaining\n",
    "df2['remaining_yards_per_down'] = df2['ydstogo'] / df2['remaining_downs']"
   ]
  },
  {
   "cell_type": "code",
   "execution_count": 334,
   "id": "46fc0074",
   "metadata": {
    "pycharm": {
     "name": "#%%\n"
    },
    "ExecuteTime": {
     "end_time": "2024-01-01T14:41:58.392477Z",
     "start_time": "2024-01-01T14:41:58.258295Z"
    }
   },
   "outputs": [],
   "source": [
    "df2['game_half'] = np.where(df2['game_half'] == 'Half1', 1, np.where(df2['game_half'] == 'Half2', 2, 3))"
   ]
  },
  {
   "cell_type": "code",
   "execution_count": 335,
   "id": "d4e8738039da1358",
   "metadata": {
    "pycharm": {
     "name": "#%%\n"
    },
    "ExecuteTime": {
     "end_time": "2024-01-01T14:41:58.529597Z",
     "start_time": "2024-01-01T14:41:58.284599Z"
    }
   },
   "outputs": [
    {
     "data": {
      "text/plain": "drive_start\ntransfer_poss    59191\nsudden_change     5852\nName: count, dtype: int64"
     },
     "execution_count": 335,
     "metadata": {},
     "output_type": "execute_result"
    }
   ],
   "source": [
    "df2['drive_start_transition'] = df2['drive_start_transition'].str.strip().str.replace(',','').replace('_','').str.strip().str.upper()\n",
    "\n",
    "# Create mapping between drive start transition and drive start category\n",
    "drive_start_map = {'INTERCEPTION': 'sudden_change',\n",
    "                   'FUMBLE': 'sudden_change',\n",
    "                   'MUFFED_PUNT': 'sudden_change',\n",
    "                   'ONSIDE_KICK': 'sudden_change',\n",
    "                   'BLOCKED_FG': 'sudden_change',\n",
    "                   'BLOCKED_PUNT': 'sudden_change',\n",
    "                   'BLOCKED_FG_DOWNS': 'sudden_change',\n",
    "                   'BLOCKED_FG, DOWNS': 'sudden_change',\n",
    "                   'BLOCKED_PUNT_DOWNS': 'sudden_change',\n",
    "                   'MUFFED_KICKOFF': 'sudden_change',\n",
    "                   'OWN_KICKOFF': 'sudden_change',\n",
    "                   'DOWNS': 'transfer_poss',\n",
    "                   'MISSED_FG': 'transfer_poss',\n",
    "                   'KICKOFF': 'transfer_poss',\n",
    "                   'PUNT': 'transfer_poss',\n",
    "                   }\n",
    "\n",
    "df2['drive_start'] = df2['drive_start_transition'].map(drive_start_map).fillna(df2['drive_start_transition'])\n",
    "df2['drive_start'].fillna('NULL', inplace=True)\n",
    "\n",
    "df2.drive_start.value_counts(dropna=False)"
   ]
  },
  {
   "cell_type": "code",
   "execution_count": 336,
   "id": "acc2c710",
   "metadata": {
    "pycharm": {
     "name": "#%%\n"
    },
    "ExecuteTime": {
     "end_time": "2024-01-01T14:41:58.615203Z",
     "start_time": "2024-01-01T14:41:58.370999Z"
    }
   },
   "outputs": [],
   "source": [
    "df2['two_min_warning'] = np.where(df2['half_seconds_remaining'] <= 120, 1, 0)"
   ]
  },
  {
   "cell_type": "code",
   "execution_count": 337,
   "id": "ff49edde",
   "metadata": {
    "pycharm": {
     "name": "#%%\n"
    },
    "ExecuteTime": {
     "end_time": "2024-01-01T14:41:58.658247Z",
     "start_time": "2024-01-01T14:41:58.381821Z"
    }
   },
   "outputs": [],
   "source": [
    "df2['ep_half_sec_ratio'] = (df2['ep'] / (df2['half_seconds_remaining'] + 1 ))\n",
    "df2['ep_game_sec_ratio'] = (df2['ep'] / (df2['game_seconds_remaining'] + 1 ))\n",
    "\n",
    "# Convert Inf values to zero\n",
    "df2['ep_half_sec_ratio'] = np.where(df2['ep_half_sec_ratio'] == np.inf, 0, df2['ep_half_sec_ratio'])\n",
    "df2['ep_game_sec_ratio'] = np.where(df2['ep_game_sec_ratio'] == np.inf, 0, df2['ep_game_sec_ratio'])\n",
    "\n",
    "# Convert Inf values to zero\n",
    "df2['ep_half_sec_ratio'] = np.where(df2['ep_half_sec_ratio'] == -np.inf, 0, df2['ep_half_sec_ratio'])\n",
    "df2['ep_game_sec_ratio'] = np.where(df2['ep_game_sec_ratio'] == -np.inf, 0, df2['ep_game_sec_ratio'])"
   ]
  },
  {
   "cell_type": "raw",
   "source": [
    "# Code possession team days-rest\n",
    "df2['posteam_rest'] = np.where(df2['posteam']==df2['home_team'], df2['home_rest'],\n",
    "                      np.where(df2['posteam']==df2['away_team'], df2['away_rest'], 0))"
   ],
   "metadata": {
    "collapsed": false
   },
   "id": "f54354d31e921896"
  },
  {
   "cell_type": "raw",
   "source": [
    "# Code defensive team days-rest\n",
    "df2['defteam_rest'] = np.where(df2['defteam']==df2['home_team'], df2['home_rest'],\n",
    "                      np.where(df2['defteam']==df2['away_team'], df2['away_rest'], 0))"
   ],
   "metadata": {
    "collapsed": false
   },
   "id": "9f0101c136a59a4f"
  },
  {
   "cell_type": "raw",
   "source": [
    "# Code possession team days-rest\n",
    "df2['posteam_rest'] = np.where(df2['posteam']==df2['home_team'], df2['home_rest'],\n",
    "                      np.where(df2['posteam']==df2['away_team'], df2['away_rest'], 0))"
   ],
   "metadata": {
    "collapsed": false
   },
   "id": "7becc404b9a3c840"
  },
  {
   "cell_type": "raw",
   "source": [
    "# Code defensive team days-rest\n",
    "df2['defteam_rest'] = np.where(df2['defteam']==df2['home_team'], df2['home_rest'],\n",
    "                      np.where(df2['defteam']==df2['away_team'], df2['away_rest'], 0))"
   ],
   "metadata": {
    "collapsed": false
   },
   "id": "f9d27b53626b770f"
  },
  {
   "cell_type": "raw",
   "source": [
    "# Code hour at start of game (24-hour)\n",
    "df2['game_start_hour'] = pd.DatetimeIndex(df2['gametime']).hour"
   ],
   "metadata": {
    "collapsed": false
   },
   "id": "ab1672fa2d745beb"
  },
  {
   "cell_type": "code",
   "execution_count": 338,
   "id": "0db5d489",
   "metadata": {
    "pycharm": {
     "name": "#%%\n"
    },
    "ExecuteTime": {
     "end_time": "2024-01-01T14:41:59.110514Z",
     "start_time": "2024-01-01T14:41:58.390325Z"
    }
   },
   "outputs": [
    {
     "data": {
      "text/plain": "(65043, 429)"
     },
     "execution_count": 338,
     "metadata": {},
     "output_type": "execute_result"
    }
   ],
   "source": [
    "# Duplicate dataframe\n",
    "df3 = df2.copy()\n",
    "\n",
    "df3.shape"
   ]
  },
  {
   "cell_type": "code",
   "execution_count": 339,
   "id": "698b666c",
   "metadata": {
    "pycharm": {
     "name": "#%%\n"
    },
    "ExecuteTime": {
     "end_time": "2024-01-01T14:41:59.251903Z",
     "start_time": "2024-01-01T14:41:59.125259Z"
    }
   },
   "outputs": [],
   "source": [
    "# Rename target classes\n",
    "df3['play_type_detail'] = np.where(df3['play_type_detail'] == 'pass_short', 'short',\n",
    "                                   np.where(df3['play_type_detail'] == 'pass_deep', 'deep',\n",
    "                                            np.where(df3['play_type_detail'] == 'run_inside', 'inside',\n",
    "                                                     np.where(df3['play_type_detail'] == 'run_outside', 'outside',\n",
    "                                                              df3['play_type_detail']))))"
   ]
  },
  {
   "cell_type": "markdown",
   "source": [
    "## IMPUTE MISSING VALUES"
   ],
   "metadata": {
    "collapsed": false
   },
   "id": "ebe7ff576538a52a"
  },
  {
   "cell_type": "code",
   "execution_count": 340,
   "outputs": [
    {
     "data": {
      "text/plain": "0"
     },
     "execution_count": 340,
     "metadata": {},
     "output_type": "execute_result"
    }
   ],
   "source": [
    "# Impute missing offense_personnel using the previous play within drive\n",
    "df3['offense_personnel'] = df3['offense_personnel'].fillna(df3.groupby(['game_id', 'drive'])['offense_personnel'].transform('last'))\n",
    "\n",
    "df3.offense_personnel.isnull().sum()"
   ],
   "metadata": {
    "collapsed": false,
    "ExecuteTime": {
     "end_time": "2024-01-01T14:41:59.289806Z",
     "start_time": "2024-01-01T14:41:59.134201Z"
    }
   },
   "id": "eadf1a9124524faf"
  },
  {
   "cell_type": "code",
   "execution_count": 341,
   "outputs": [
    {
     "data": {
      "text/plain": "0"
     },
     "execution_count": 341,
     "metadata": {},
     "output_type": "execute_result"
    }
   ],
   "source": [
    "df3['defense_personnel'] = df3['defense_personnel'].fillna(df3.groupby(['game_id', 'drive'])['defense_personnel'].transform('last'))\n",
    "\n",
    "df3.defense_personnel.isnull().sum()"
   ],
   "metadata": {
    "collapsed": false,
    "ExecuteTime": {
     "end_time": "2024-01-01T14:41:59.486544Z",
     "start_time": "2024-01-01T14:41:59.192360Z"
    }
   },
   "id": "3df2a3af7397754c"
  },
  {
   "cell_type": "code",
   "execution_count": 342,
   "outputs": [
    {
     "data": {
      "text/plain": "0"
     },
     "execution_count": 342,
     "metadata": {},
     "output_type": "execute_result"
    }
   ],
   "source": [
    "# Impute defenders_in_box\n",
    "df3['defenders_in_box'] = df3['defenders_in_box'].fillna(df3.groupby(['defteam'])['defenders_in_box'].transform('mean'))\n",
    "\n",
    "# Print missing value counts\n",
    "df3['defenders_in_box'].isnull().sum()"
   ],
   "metadata": {
    "collapsed": false,
    "ExecuteTime": {
     "end_time": "2024-01-01T14:41:59.522961Z",
     "start_time": "2024-01-01T14:41:59.223346Z"
    }
   },
   "id": "7b310cc77b106812"
  },
  {
   "cell_type": "markdown",
   "id": "e18e8f00",
   "metadata": {
    "pycharm": {
     "name": "#%% md\n"
    }
   },
   "source": [
    "## FEATURE ENGINEERING"
   ]
  },
  {
   "cell_type": "code",
   "execution_count": 343,
   "outputs": [],
   "source": [
    "# Binary code for side of field = posteam\n",
    "df3['posteam_side'] = np.where(df3['posteam'] == df3['side_of_field'], 1, 0)\n",
    "\n",
    "# Drop side_of_field\n",
    "df3.drop(['side_of_field'], axis=1, inplace=True)"
   ],
   "metadata": {
    "collapsed": false,
    "ExecuteTime": {
     "end_time": "2024-01-01T14:41:59.710975Z",
     "start_time": "2024-01-01T14:41:59.231883Z"
    }
   },
   "id": "c9be070286185e70"
  },
  {
   "cell_type": "code",
   "execution_count": 344,
   "outputs": [],
   "source": [
    "# Combine half_seconds_remaining and score_differential_norm\n",
    "df3['half_seconds_div_score_diff'] = (df3['half_seconds_remaining'] + 1) / df3['score_differential_norm']\n",
    "df3['half_seconds_prod_score_diff'] = (df3['half_seconds_remaining'] + 1) * df3['score_differential_norm']\n",
    "\n",
    "# Convert Inf values to zero\n",
    "df3['half_seconds_div_score_diff'] = np.where(df3['half_seconds_div_score_diff'] == np.inf, 0, df3['half_seconds_div_score_diff'])\n",
    "df3['half_seconds_prod_score_diff'] = np.where(df3['half_seconds_prod_score_diff'] == np.inf, 0, df3['half_seconds_prod_score_diff'])\n",
    "\n",
    "# Convert Inf values to zero\n",
    "df3['half_seconds_div_score_diff'] = np.where(df3['half_seconds_div_score_diff'] == -np.inf, 0, df3['half_seconds_div_score_diff'])\n",
    "df3['half_seconds_prod_score_diff'] = np.where(df3['half_seconds_prod_score_diff'] == -np.inf, 0, df3['half_seconds_prod_score_diff'])"
   ],
   "metadata": {
    "collapsed": false,
    "ExecuteTime": {
     "end_time": "2024-01-01T14:41:59.808505Z",
     "start_time": "2024-01-01T14:41:59.505314Z"
    }
   },
   "id": "b4883a4a2b73e836"
  },
  {
   "cell_type": "code",
   "execution_count": 345,
   "outputs": [],
   "source": [
    "# Combine wind and temperature\n",
    "df3['game_wind_div_game_temp'] = df3['game_wind'] / df3['game_temp']\n",
    "df3['game_wind_prod_game_temp'] = df3['game_wind'] * df3['game_temp']\n",
    "\n",
    "# Combine temperature and humidity\n",
    "df3['game_temp_div_game_humidity'] = df3['game_temp'] / df3['game_humidity']\n",
    "df3['game_temp_prod_game_humidity'] = df3['game_temp'] * df3['game_humidity']\n",
    "\n",
    "# Convert inf values to zero\n",
    "df3['game_wind_div_game_temp'] = np.where(df3['game_wind_div_game_temp'] == np.inf, 0, df3['game_wind_div_game_temp'])\n",
    "df3['game_wind_prod_game_temp'] = np.where(df3['game_wind_prod_game_temp'] == np.inf, 0, df3['game_wind_prod_game_temp'])\n",
    "df3['game_temp_div_game_humidity'] = np.where(df3['game_temp_div_game_humidity'] == np.inf, 0, df3['game_temp_div_game_humidity'])\n",
    "df3['game_temp_prod_game_humidity'] = np.where(df3['game_temp_prod_game_humidity'] == np.inf, 0, df3['game_temp_prod_game_humidity'])\n",
    "\n",
    "# Convert -inf values to zero\n",
    "df3['game_wind_div_game_temp'] = np.where(df3['game_wind_div_game_temp'] == -np.inf, 0, df3['game_wind_div_game_temp'])\n",
    "df3['game_wind_prod_game_temp'] = np.where(df3['game_wind_prod_game_temp'] == -np.inf, 0, df3['game_wind_prod_game_temp'])\n",
    "df3['game_temp_div_game_humidity'] = np.where(df3['game_temp_div_game_humidity'] == -np.inf, 0, df3['game_temp_div_game_humidity'])\n",
    "df3['game_temp_prod_game_humidity'] = np.where(df3['game_temp_prod_game_humidity'] == -np.inf, 0, df3['game_temp_prod_game_humidity'])\n"
   ],
   "metadata": {
    "collapsed": false,
    "ExecuteTime": {
     "end_time": "2024-01-01T14:41:59.932989Z",
     "start_time": "2024-01-01T14:41:59.516930Z"
    }
   },
   "id": "59ea36c251f7a6a9"
  },
  {
   "cell_type": "code",
   "execution_count": 346,
   "outputs": [],
   "source": [
    "# Combine remaining yards with personnel counts\n",
    "df3['remain_yds_div_def_box'] = df3['remaining_yards_per_down'] / df3['defenders_in_box']\n",
    "df3['remain_yds_prod_def_box'] = df3['remaining_yards_per_down'] * df3['defenders_in_box']\n",
    "\n",
    "df3['remain_yds_div_off_hb_count'] = df3['remaining_yards_per_down'] / df3['off_hb_count']\n",
    "df3['remain_yds_prod_off_hb_count'] = df3['remaining_yards_per_down'] * df3['off_hb_count']\n",
    "\n",
    "df3['remain_yds_div_def_dl_count'] = df3['remaining_yards_per_down'] / df3['def_dl_count']\n",
    "df3['remain_yds_prod_def_dl_count'] = df3['remaining_yards_per_down'] * df3['def_dl_count']\n",
    "\n",
    "df3['remain_yds_div_def_db_count'] = df3['remaining_yards_per_down'] / df3['def_db_count']\n",
    "df3['remain_yds_prod_def_db_count'] = df3['remaining_yards_per_down'] * df3['def_db_count']\n",
    "\n",
    "df3['remain_yds_div_score_diff'] = df3['remaining_yards_per_down'] / df3['score_differential_norm']\n",
    "df3['remain_yds_prod_score_diff'] = df3['remaining_yards_per_down'] * df3['score_differential_norm']\n",
    "\n",
    "# Convert Inf values to zero\n",
    "df3['remain_yds_div_def_box'] = np.where(df3['remain_yds_div_def_box'] == np.inf, 0, df3['remain_yds_div_def_box'])\n",
    "df3['remain_yds_div_off_hb_count'] = np.where(df3['remain_yds_div_off_hb_count'] == np.inf, 0, df3['remain_yds_div_off_hb_count'])\n",
    "df3['remain_yds_div_def_dl_count'] = np.where(df3['remain_yds_div_def_dl_count'] == np.inf, 0, df3['remain_yds_div_def_dl_count'])\n",
    "df3['remain_yds_div_def_db_count'] = np.where(df3['remain_yds_div_def_db_count'] == np.inf, 0, df3['remain_yds_div_def_db_count'])\n",
    "df3['remain_yds_div_score_diff'] = np.where(df3['remain_yds_div_score_diff'] == np.inf, 0, df3['remain_yds_div_score_diff'])\n",
    "\n",
    "# Convert Inf values to zero\n",
    "df3['remain_yds_div_def_box'] = np.where(df3['remain_yds_div_def_box'] == -np.inf, 0, df3['remain_yds_div_def_box'])\n",
    "df3['remain_yds_div_off_hb_count'] = np.where(df3['remain_yds_div_off_hb_count'] == -np.inf, 0, df3['remain_yds_div_off_hb_count'])\n",
    "df3['remain_yds_div_def_dl_count'] = np.where(df3['remain_yds_div_def_dl_count'] == -np.inf, 0, df3['remain_yds_div_def_dl_count'])\n",
    "df3['remain_yds_div_def_db_count'] = np.where(df3['remain_yds_div_def_db_count'] == -np.inf, 0, df3['remain_yds_div_def_db_count'])\n",
    "df3['remain_yds_div_score_diff'] = np.where(df3['remain_yds_div_score_diff'] == -np.inf, 0, df3['remain_yds_div_score_diff'])\n"
   ],
   "metadata": {
    "collapsed": false,
    "ExecuteTime": {
     "end_time": "2024-01-01T14:41:59.944973Z",
     "start_time": "2024-01-01T14:41:59.536526Z"
    }
   },
   "id": "b009ef99aa36a3b4"
  },
  {
   "cell_type": "code",
   "execution_count": 347,
   "id": "c24a330b",
   "metadata": {
    "pycharm": {
     "name": "#%%\n"
    },
    "ExecuteTime": {
     "end_time": "2024-01-01T14:42:04.044298Z",
     "start_time": "2024-01-01T14:41:59.566938Z"
    }
   },
   "outputs": [],
   "source": [
    "# Calculate average run ratio per game\n",
    "rro_df = df3.groupby(['posteam','game_id','qtr','down'])['rush_attempt'].apply(lambda x : x.astype(float).mean()).reset_index()\n",
    "\n",
    "# Sort dataframe\n",
    "rro_df = rro_df.sort_values(by=['posteam','qtr','down'], ascending=True)\n",
    "\n",
    "# Calculate rolling average per quarter\n",
    "rro_df['run_ratio_off_priors'] = rro_df.groupby(['posteam','qtr','down'])['rush_attempt'].transform(lambda x: x.rolling(window=rolling_play_window,\n",
    "                                                                                                                        min_periods=1,\n",
    "                                                                                                                        closed='left',\n",
    "                                                                                                                        center=False).mean())\n",
    "\n",
    "rro_df = rro_df.sort_values(by=['posteam','qtr','down'], ascending=True)\n",
    "\n",
    "rro_df.drop(['rush_attempt'], axis=1, inplace=True)\n",
    "\n",
    "# Impute missing values by the league average per qtr/down\n",
    "rro_df['run_ratio_off_priors'] = rro_df['run_ratio_off_priors'].fillna(rro_df.groupby(['qtr','down'])['run_ratio_off_priors'].transform('mean'))\n",
    "\n",
    "# Merge msa_df with df\n",
    "df3 = df3.merge(rro_df, how='left', left_on=['posteam','game_id','qtr','down'], right_on=['posteam','game_id','qtr','down'])\n",
    "\n",
    "# Impute values\n",
    "df3['run_ratio_off_priors'] = df3['run_ratio_off_priors'].fillna(df3.groupby(['game_id', 'posteam'])['run_ratio_off_priors'].transform('last'))\n",
    "\n",
    "df3['run_ratio_off_priors'] = np.where(df3['run_ratio_off_priors'] < 0, 0, df3['run_ratio_off_priors'])"
   ]
  },
  {
   "cell_type": "code",
   "execution_count": 348,
   "id": "621268f8",
   "metadata": {
    "ExecuteTime": {
     "end_time": "2024-01-01T14:42:07.551381Z",
     "start_time": "2024-01-01T14:42:04.031363Z"
    }
   },
   "outputs": [],
   "source": [
    "# Calculate average run ratio per game\n",
    "rrd_df = df3.groupby(['defteam','game_id','qtr','down'])['rush_attempt'].apply(lambda x : x.astype(float).mean()).reset_index()\n",
    "\n",
    "# Sort dataframe\n",
    "rrd_df = rrd_df.sort_values(by=['defteam','qtr','down'], ascending=True)\n",
    "\n",
    "# Calculate rolling average per quarter\n",
    "rrd_df['run_ratio_def_priors'] = rrd_df.groupby(['defteam','qtr','down'])['rush_attempt'].transform(lambda x: x.rolling(window=rolling_play_window,\n",
    "                                                                                                                        min_periods=1,\n",
    "                                                                                                                        closed='left',\n",
    "                                                                                                                        center=False).mean())\n",
    "\n",
    "rrd_df = rrd_df.sort_values(by=['defteam','qtr','down'], ascending=True)\n",
    "\n",
    "rrd_df.drop(['rush_attempt'], axis=1, inplace=True)\n",
    "\n",
    "# Impute missing values by the league average per qtr/down\n",
    "rrd_df['run_ratio_def_priors'] = rrd_df['run_ratio_def_priors'].fillna(rrd_df.groupby(['qtr','down'])['run_ratio_def_priors'].transform('mean'))\n",
    "\n",
    "# Merge msa_df with df\n",
    "df3 = df3.merge(rrd_df, how='left', left_on=['defteam','game_id','qtr','down'], right_on=['defteam','game_id','qtr','down'])\n",
    "\n",
    "# Impute defenders_in_box\n",
    "df3['run_ratio_def_priors'] = df3['run_ratio_def_priors'].fillna(df3.groupby(['game_id', 'posteam'])['run_ratio_def_priors'].transform('last'))"
   ]
  },
  {
   "cell_type": "code",
   "execution_count": 349,
   "outputs": [],
   "source": [
    "# Create posteam plus season and defteam plus season\n",
    "df3['posteam_season'] = df3['posteam'].str.lower().str.strip() + '_' + df3['season'].astype(str)\n",
    "df3['defteam_season'] = df3['defteam'].str.lower().str.strip() + '_' + df3['season'].astype(str)"
   ],
   "metadata": {
    "collapsed": false,
    "ExecuteTime": {
     "end_time": "2024-01-01T14:42:07.696832Z",
     "start_time": "2024-01-01T14:42:07.553350Z"
    }
   },
   "id": "2a863e4e4bff562a"
  },
  {
   "cell_type": "markdown",
   "id": "2bb96e39",
   "metadata": {
    "pycharm": {
     "name": "#%% md\n"
    }
   },
   "source": [
    "## FUTURE FEATURES"
   ]
  },
  {
   "cell_type": "raw",
   "id": "c07e1771",
   "metadata": {
    "pycharm": {
     "name": "#%% raw\n"
    }
   },
   "source": [
    "Offensive Roster: \n",
    "    Average Height of starting wide receivers/tight end\n",
    "    Average weight of starting offensive line\n",
    "    All-Pro QB\n",
    "    All-Pro RB\n",
    "    All-Pro WR (Count)\n",
    "    All-Pro TE\n",
    "    Pro Bowl QB\n",
    "    Pro Bowl RB\n",
    "    Pro Bowl WR (Count)\n",
    "    Number of starters during the season / 11"
   ]
  },
  {
   "cell_type": "markdown",
   "id": "f69df925",
   "metadata": {
    "pycharm": {
     "name": "#%% md\n"
    }
   },
   "source": [
    "## PLAY PREDICTION FILTERS"
   ]
  },
  {
   "cell_type": "code",
   "execution_count": 350,
   "outputs": [
    {
     "data": {
      "text/plain": "(65043, 449)"
     },
     "execution_count": 350,
     "metadata": {},
     "output_type": "execute_result"
    }
   ],
   "source": [
    "df3.shape"
   ],
   "metadata": {
    "collapsed": false,
    "ExecuteTime": {
     "end_time": "2024-01-01T14:42:07.756661Z",
     "start_time": "2024-01-01T14:42:07.703044Z"
    }
   },
   "id": "3f4b28a04b0a70a6"
  },
  {
   "cell_type": "code",
   "execution_count": 351,
   "outputs": [
    {
     "data": {
      "text/plain": "(65043, 449)"
     },
     "execution_count": 351,
     "metadata": {},
     "output_type": "execute_result"
    }
   ],
   "source": [
    "df3 = df3.loc[~df3['desc'].str.contains('punt formation')]\n",
    "df3 = df3.loc[~df3['desc'].str.contains('field goal formation')]\n",
    "\n",
    "df3.shape"
   ],
   "metadata": {
    "collapsed": false,
    "ExecuteTime": {
     "end_time": "2024-01-01T14:42:08.469044Z",
     "start_time": "2024-01-01T14:42:07.722232Z"
    }
   },
   "id": "89d204e47e7db838"
  },
  {
   "cell_type": "code",
   "execution_count": 352,
   "outputs": [
    {
     "data": {
      "text/plain": "(65043, 449)"
     },
     "execution_count": 352,
     "metadata": {},
     "output_type": "execute_result"
    }
   ],
   "source": [
    "df3 = df3.loc[df3['drive_start'] != 'NULL']\n",
    "\n",
    "df3.shape"
   ],
   "metadata": {
    "collapsed": false,
    "ExecuteTime": {
     "end_time": "2024-01-01T14:42:08.596891Z",
     "start_time": "2024-01-01T14:42:08.095902Z"
    }
   },
   "id": "c58e1a8415432aff"
  },
  {
   "cell_type": "code",
   "execution_count": 353,
   "outputs": [
    {
     "data": {
      "text/plain": "(65043, 449)"
     },
     "execution_count": 353,
     "metadata": {},
     "output_type": "execute_result"
    }
   ],
   "source": [
    "df3 = df3.loc[(df3['play_type'] == 'pass') | (df3['play_type'] == 'run')]\n",
    "\n",
    "df3.shape"
   ],
   "metadata": {
    "pycharm": {
     "name": "#%%\n"
    },
    "ExecuteTime": {
     "end_time": "2024-01-01T14:42:08.826586Z",
     "start_time": "2024-01-01T14:42:08.305151Z"
    }
   },
   "id": "e72b6525dab6daf8"
  },
  {
   "cell_type": "code",
   "execution_count": 354,
   "outputs": [
    {
     "data": {
      "text/plain": "(65043, 449)"
     },
     "execution_count": 354,
     "metadata": {},
     "output_type": "execute_result"
    }
   ],
   "source": [
    "df3 = df3[~df3['play_type_detail'].isin(['qb_scramble','qb_spike','qb_kneel'])]\n",
    "\n",
    "df3.shape"
   ],
   "metadata": {
    "collapsed": false,
    "ExecuteTime": {
     "end_time": "2024-01-01T14:42:09.273420Z",
     "start_time": "2024-01-01T14:42:08.503065Z"
    }
   },
   "id": "a56f7ccb4087a861"
  },
  {
   "cell_type": "code",
   "execution_count": 355,
   "outputs": [
    {
     "data": {
      "text/plain": "(65019, 449)"
     },
     "execution_count": 355,
     "metadata": {},
     "output_type": "execute_result"
    }
   ],
   "source": [
    "# Code and filter \"broken plays\" (plays with a fumble prior to the scripted play could be executed0\n",
    "df3['play_type'] = np.where((df3['play_type_detail'] == 'run') & (df3['desc'].str.find('fumbles')>= 0) & (df3['desc'].str.find(', and recovers')>= 0), 'broken_play', \n",
    "                            np.where((df3['play_type_detail'] == 'run') & (df3['desc'].str.find('fumbles')>= 0) & (df3['desc'].str.find('ball out of bounds')>= 0), 'broken_play', \n",
    "                                     np.where((df3['play_type_detail'] == 'run') & (df3['desc'].str.find('fumbles')>= 0) & (df3['desc'].str.find(', recovered by')>= 0), 'broken_play',\n",
    "                                     df3['play_type'])))\n",
    "\n",
    "df3 = df3[df3['play_type'] != 'broken_play']\n",
    "\n",
    "df3.shape"
   ],
   "metadata": {
    "collapsed": false,
    "ExecuteTime": {
     "end_time": "2024-01-01T14:42:09.662586Z",
     "start_time": "2024-01-01T14:42:09.047883Z"
    }
   },
   "id": "78d44eb864fa1926"
  },
  {
   "cell_type": "code",
   "execution_count": 356,
   "outputs": [
    {
     "data": {
      "text/plain": "play_type_detail\nshort        25562\ninside       13545\noutside      12577\ndeep         10648\npass_sack     2685\npass             2\nName: count, dtype: int64"
     },
     "execution_count": 356,
     "metadata": {},
     "output_type": "execute_result"
    }
   ],
   "source": [
    "counts = df3.play_type_detail.value_counts(normalize=False)\n",
    "counts"
   ],
   "metadata": {
    "pycharm": {
     "name": "#%%\n"
    },
    "ExecuteTime": {
     "end_time": "2024-01-01T14:42:09.772554Z",
     "start_time": "2024-01-01T14:42:09.537835Z"
    }
   },
   "id": "28726b32"
  },
  {
   "cell_type": "code",
   "execution_count": 357,
   "outputs": [
    {
     "data": {
      "text/plain": "       play_id         game_id old_game_id        game_alt_id home_team  \\\n40902     1644  2022_04_MIN_NO  2022100200  NO_MIN_2022_10_02        NO   \n57274     3990   2022_07_KC_SF  2022102310   SF_KC_2022_10_23        SF   \n\n      away_team season_type  week posteam posteam_type  ...  \\\n40902       MIN         REG     4     MIN         away  ...   \n57274        KC         REG     7      SF         home  ...   \n\n      remain_yds_div_def_dl_count  remain_yds_prod_def_dl_count  \\\n40902                    0.833333                     13.333333   \n57274                    0.166667                      1.500000   \n\n      remain_yds_div_def_db_count  remain_yds_prod_def_db_count  \\\n40902                    0.666667                     16.666667   \n57274                    0.083333                      3.000000   \n\n       remain_yds_div_score_diff  remain_yds_prod_score_diff  \\\n40902                   6.309524                    1.761006   \n57274                   1.514286                    0.165094   \n\n       run_ratio_off_priors  run_ratio_def_priors  posteam_season  \\\n40902              0.276353              0.583333        min_2022   \n57274              0.402778              0.191667         sf_2022   \n\n       defteam_season  \n40902         no_2022  \n57274         kc_2022  \n\n[2 rows x 449 columns]",
      "text/html": "<div>\n<style scoped>\n    .dataframe tbody tr th:only-of-type {\n        vertical-align: middle;\n    }\n\n    .dataframe tbody tr th {\n        vertical-align: top;\n    }\n\n    .dataframe thead th {\n        text-align: right;\n    }\n</style>\n<table border=\"1\" class=\"dataframe\">\n  <thead>\n    <tr style=\"text-align: right;\">\n      <th></th>\n      <th>play_id</th>\n      <th>game_id</th>\n      <th>old_game_id</th>\n      <th>game_alt_id</th>\n      <th>home_team</th>\n      <th>away_team</th>\n      <th>season_type</th>\n      <th>week</th>\n      <th>posteam</th>\n      <th>posteam_type</th>\n      <th>...</th>\n      <th>remain_yds_div_def_dl_count</th>\n      <th>remain_yds_prod_def_dl_count</th>\n      <th>remain_yds_div_def_db_count</th>\n      <th>remain_yds_prod_def_db_count</th>\n      <th>remain_yds_div_score_diff</th>\n      <th>remain_yds_prod_score_diff</th>\n      <th>run_ratio_off_priors</th>\n      <th>run_ratio_def_priors</th>\n      <th>posteam_season</th>\n      <th>defteam_season</th>\n    </tr>\n  </thead>\n  <tbody>\n    <tr>\n      <th>40902</th>\n      <td>1644</td>\n      <td>2022_04_MIN_NO</td>\n      <td>2022100200</td>\n      <td>NO_MIN_2022_10_02</td>\n      <td>NO</td>\n      <td>MIN</td>\n      <td>REG</td>\n      <td>4</td>\n      <td>MIN</td>\n      <td>away</td>\n      <td>...</td>\n      <td>0.833333</td>\n      <td>13.333333</td>\n      <td>0.666667</td>\n      <td>16.666667</td>\n      <td>6.309524</td>\n      <td>1.761006</td>\n      <td>0.276353</td>\n      <td>0.583333</td>\n      <td>min_2022</td>\n      <td>no_2022</td>\n    </tr>\n    <tr>\n      <th>57274</th>\n      <td>3990</td>\n      <td>2022_07_KC_SF</td>\n      <td>2022102310</td>\n      <td>SF_KC_2022_10_23</td>\n      <td>SF</td>\n      <td>KC</td>\n      <td>REG</td>\n      <td>7</td>\n      <td>SF</td>\n      <td>home</td>\n      <td>...</td>\n      <td>0.166667</td>\n      <td>1.500000</td>\n      <td>0.083333</td>\n      <td>3.000000</td>\n      <td>1.514286</td>\n      <td>0.165094</td>\n      <td>0.402778</td>\n      <td>0.191667</td>\n      <td>sf_2022</td>\n      <td>kc_2022</td>\n    </tr>\n  </tbody>\n</table>\n<p>2 rows × 449 columns</p>\n</div>"
     },
     "execution_count": 357,
     "metadata": {},
     "output_type": "execute_result"
    }
   ],
   "source": [
    "# Return rows where play_type_detail is not in the top 5\n",
    "test_df = df3.loc[df3['play_type_detail'].isin(['run','pass'])]\n",
    "test_df"
   ],
   "metadata": {
    "collapsed": false,
    "ExecuteTime": {
     "end_time": "2024-01-01T14:42:11.377382Z",
     "start_time": "2024-01-01T14:42:11.246593Z"
    }
   },
   "id": "2f397eac63e86874"
  },
  {
   "cell_type": "markdown",
   "source": [
    "## DROP COLUMNS"
   ],
   "metadata": {
    "collapsed": false
   },
   "id": "9636a83d"
  },
  {
   "cell_type": "code",
   "execution_count": 358,
   "outputs": [
    {
     "name": "stdout",
     "output_type": "stream",
     "text": [
      "Single value columns: Index(['qb_scramble', 'offsetting_penalties', 'drive_big_play_pass_pcnt',\n",
      "       'drive_big_play_run_pcnt', 'drive_incomplete_pass_pcnt',\n",
      "       'drive_shotgun_pcnt', 'drive_qb_hit_pcnt', 'drive_no_huddle_pcnt',\n",
      "       'drive_effct_play_pcnt'],\n",
      "      dtype='object')\n",
      "Remaining columns: 440\n"
     ]
    }
   ],
   "source": [
    "# Print a list of columns with only one value and then drop them\n",
    "single_value_columns = df3.loc[:,df3.nunique() == 1].columns\n",
    "df3 = df3.loc[:,df3.nunique() > 1]\n",
    "\n",
    "print('Single value columns:', single_value_columns)\n",
    "print('Remaining columns:', df3.shape[1])"
   ],
   "metadata": {
    "collapsed": false,
    "ExecuteTime": {
     "end_time": "2024-01-01T14:42:17.149706Z",
     "start_time": "2024-01-01T14:42:13.614428Z"
    }
   },
   "id": "87fa752fb821e6fc"
  },
  {
   "cell_type": "code",
   "execution_count": 359,
   "outputs": [
    {
     "data": {
      "text/plain": "(65019, 156)"
     },
     "execution_count": 359,
     "metadata": {},
     "output_type": "execute_result"
    }
   ],
   "source": [
    "# Drop unused features\n",
    "df3.drop(['old_game_id','game_alt_id','season_type','game_date','drive','time','yrdln','ydsnet','play','desc','qb_dropback','air_yards','yards_after_catch','timeout','timeout_team','td_team','td_player_name','td_player_id','total_home_score','total_away_score','posteam_score_post','defteam_score_post','score_differential_post','opp_fg_prob','opp_safety_prob','opp_td_prob','total_home_epa','total_away_epa','total_home_rush_epa','total_away_rush_epa','total_home_pass_epa','total_away_pass_epa','air_epa','yac_epa','comp_air_epa','comp_yac_epa','total_home_comp_air_epa','total_away_comp_air_epa','total_home_comp_yac_epa','total_away_comp_yac_epa','total_home_raw_air_epa','total_away_raw_air_epa','total_home_raw_yac_epa','total_away_raw_yac_epa','def_wp','home_wp','away_wp','wpa','vegas_wpa','vegas_home_wpa','home_wp_post','away_wp_post','vegas_wp','vegas_home_wp','total_home_rush_wpa','total_away_rush_wpa','total_home_pass_wpa','total_away_pass_wpa','air_wpa','yac_wpa','comp_air_wpa','comp_yac_wpa','total_home_comp_air_wpa','total_away_comp_air_wpa','total_home_comp_yac_wpa','total_away_comp_yac_wpa','total_home_raw_air_wpa','total_away_raw_air_wpa','total_home_raw_yac_wpa','total_away_raw_yac_wpa','first_down_penalty','third_down_converted','third_down_failed','fourth_down_converted','fourth_down_failed','incomplete_pass','touchback','interception','fumble_forced','fumble_not_forced','fumble_out_of_bounds','solo_tackle','sack','safety','penalty','tackled_for_loss','fumble_lost','touchdown','pass_touchdown','rush_touchdown','return_touchdown','fumble','complete_pass','assist_tackle','lateral_reception','lateral_rush','lateral_return','lateral_recovery','passer_player_id','passer_player_name','passing_yards','receiver_player_id','receiver_player_name','receiving_yards','rusher_player_id','rusher_player_name','rushing_yards','lateral_receiver_player_id','lateral_receiver_player_name','lateral_receiving_yards','lateral_rusher_player_id','lateral_rusher_player_name','lateral_rushing_yards','interception_player_id','interception_player_name','lateral_interception_player_id','lateral_interception_player_name','tackle_for_loss_1_player_id','tackle_for_loss_1_player_name','qb_hit_1_player_id','qb_hit_1_player_name','qb_hit_2_player_id','qb_hit_2_player_name','sack_player_id','sack_player_name', 'half_sack_1_player_id', 'half_sack_1_player_name','half_sack_2_player_id', 'half_sack_2_player_name','forced_fumble_player_1_team','forced_fumble_player_1_player_id','forced_fumble_player_1_player_name','forced_fumble_player_2_team','forced_fumble_player_2_player_id','forced_fumble_player_2_player_name','solo_tackle_1_team','solo_tackle_2_team','solo_tackle_1_player_id','solo_tackle_2_player_id','solo_tackle_1_player_name','solo_tackle_2_player_name','assist_tackle_1_player_id','assist_tackle_1_player_name','assist_tackle_1_team','assist_tackle_2_player_id','assist_tackle_2_player_name','assist_tackle_2_team','tackle_with_assist','tackle_with_assist_1_player_id','tackle_with_assist_1_player_name','tackle_with_assist_1_team','pass_defense_1_player_id','pass_defense_1_player_name','pass_defense_2_player_id','pass_defense_2_player_name','fumbled_1_team','fumbled_1_player_id','fumbled_1_player_name','fumbled_2_player_id','fumbled_2_player_name','fumbled_2_team','fumble_recovery_1_team','fumble_recovery_1_yards','fumble_recovery_1_player_id','fumble_recovery_1_player_name','fumble_recovery_2_team','fumble_recovery_2_yards','fumble_recovery_2_player_id','fumble_recovery_2_player_name','return_team','return_yards','penalty_player_id','penalty_player_name','penalty_yards','replay_or_challenge','replay_or_challenge_result','penalty_type','safety_player_name','safety_player_id','series','series_success','series_result','start_time','time_of_day','stadium','weather','nfl_api_id','play_clock','play_type_nfl','end_clock_time','end_yard_line','fixed_drive','fixed_drive_result','drive_real_start_time','drive_time_of_possession','drive_first_downs','drive_inside20','drive_ended_with_score','drive_quarter_start','drive_quarter_end','drive_yards_penalized','drive_end_transition','drive_start_transition','drive_game_clock_start','drive_game_clock_end','drive_start_yard_line','drive_end_yard_line','drive_play_id_started','drive_play_id_ended','away_score','home_score','location','result','total','home_coach','away_coach','stadium_id','game_stadium','success','passer','passer_jersey_number','rusher','rusher_jersey_number','receiver','receiver_jersey_number','pass','rush','first_down','passer_id','rusher_id','receiver_id','name','jersey_number','id','fantasy_player_name','fantasy_player_id','fantasy','fantasy_id','out_of_bounds','home_opening_kickoff','qb_epa','xyac_epa','xyac_mean_yardage','xyac_median_yardage','xyac_success','xyac_fd','xpass','pass_oe','cp','cpoe','pass_length','pass_location','run_location','run_gap','pass_attempt','game_id','home_team','away_team','sp','yards_gained','home_timeouts_remaining','away_timeouts_remaining','order_sequence','play_id','epa','turnover','rush_attempt','nflverse_game_id','players_on_play','offense_players','defense_players','number_of_pass_rushers','season','temp','wind','possession_team','time_to_throw','was_pressure','route','defense_coverage_type','defense_man_zone_type','ngs_air_yards','n_offense','n_defense'], axis=1, inplace=True)\n",
    "\n",
    "df3.shape"
   ],
   "metadata": {
    "collapsed": false,
    "ExecuteTime": {
     "end_time": "2024-01-01T14:42:29.017266Z",
     "start_time": "2024-01-01T14:42:28.724634Z"
    }
   },
   "id": "074eeba3"
  },
  {
   "cell_type": "code",
   "execution_count": 360,
   "outputs": [
    {
     "name": "stdout",
     "output_type": "stream",
     "text": [
      "Index([], dtype='object')\n"
     ]
    }
   ],
   "source": [
    "# Create a list of columns with any inf values\n",
    "inf_columns = df3.columns[df3.isin([np.inf, -np.inf]).any()]\n",
    "\n",
    "# Drop inf_columns from dataframe\n",
    "df3.drop(inf_columns, axis=1, inplace=True)\n",
    "print(inf_columns)"
   ],
   "metadata": {
    "collapsed": false,
    "ExecuteTime": {
     "end_time": "2024-01-01T14:42:29.879637Z",
     "start_time": "2024-01-01T14:42:29.356949Z"
    }
   },
   "id": "cb1fdfa5f1fa5ea8"
  },
  {
   "cell_type": "code",
   "execution_count": 361,
   "outputs": [
    {
     "name": "stdout",
     "output_type": "stream",
     "text": [
      "Dropping the following columns with missing values:\n",
      "Index([], dtype='object')\n"
     ]
    }
   ],
   "source": [
    "# Drop columns with missing values\n",
    "null_columns = df3.columns[df3.isnull().any()]\n",
    "\n",
    "df3.dropna(axis=0, inplace=True)\n",
    "print('Dropping the following columns with missing values:')\n",
    "print(null_columns)"
   ],
   "metadata": {
    "collapsed": false,
    "ExecuteTime": {
     "end_time": "2024-01-01T14:42:31.188669Z",
     "start_time": "2024-01-01T14:42:30.945992Z"
    }
   },
   "id": "27da6cd627a59ca0"
  },
  {
   "cell_type": "code",
   "execution_count": 362,
   "outputs": [
    {
     "data": {
      "text/plain": "['week',\n 'posteam',\n 'posteam_type',\n 'defteam',\n 'yardline_100',\n 'quarter_seconds_remaining',\n 'half_seconds_remaining',\n 'game_seconds_remaining',\n 'game_half',\n 'qtr',\n 'down',\n 'goal_to_go',\n 'ydstogo',\n 'play_type',\n 'shotgun',\n 'no_huddle',\n 'posteam_timeouts_remaining',\n 'defteam_timeouts_remaining',\n 'posteam_score',\n 'defteam_score',\n 'score_differential',\n 'no_score_prob',\n 'fg_prob',\n 'safety_prob',\n 'td_prob',\n 'ep',\n 'wp',\n 'drive_play_count',\n 'spread_line',\n 'total_line',\n 'div_game',\n 'roof',\n 'surface',\n 'offense_formation',\n 'offense_personnel',\n 'defenders_in_box',\n 'defense_personnel',\n 'report_eligible',\n 'off_rb_count',\n 'off_te_count',\n 'off_wr_count',\n 'off_hb_count',\n 'off_ol_count',\n 'def_dl_count',\n 'def_lb_count',\n 'def_db_count',\n 'wr_to_db_ratio',\n 'hb_to_lb_ratio',\n 'ol_to_dl_ratio',\n 'intentional_grounding',\n 'play_sequence_game',\n 'play_sequence_series',\n 'score_differential_norm',\n 'play_type_detail',\n 'game_temp',\n 'game_humidity',\n 'game_wind',\n 'game_weather',\n 'dtg_99to90',\n 'dtg_89to60',\n 'dtg_59to45',\n 'dtg_44to35',\n 'dtg_34to21',\n 'dtg_20to10',\n 'dtg_09to00',\n 'prev1_big_play_pass',\n 'prev2_big_play_pass',\n 'prev3_big_play_pass',\n 'prev1_big_play_run',\n 'prev2_big_play_run',\n 'prev3_big_play_run',\n 'prev1_negative_pass',\n 'prev2_negative_pass',\n 'prev3_negative_pass',\n 'prev1_negative_run',\n 'prev2_negative_run',\n 'prev3_negative_run',\n 'play_type_prev1',\n 'play_type_prev2',\n 'play_type_prev3',\n 'play_type_prev4',\n 'prev1_play_off_penalty',\n 'prev1_play_def_penalty',\n 'prev2_play_off_penalty',\n 'prev2_play_def_penalty',\n 'prev3_play_off_penalty',\n 'prev3_play_def_penalty',\n 'prev1_play_run_outside',\n 'prev1_play_run_inside',\n 'prev1_play_pass_deep',\n 'prev1_play_pass_short',\n 'prev2_play_run_outside',\n 'prev2_play_run_inside',\n 'prev2_play_pass_deep',\n 'prev2_play_pass_short',\n 'prev3_play_run_outside',\n 'prev3_play_run_inside',\n 'prev3_play_pass_deep',\n 'prev3_play_pass_short',\n 'prev1_incomplete_pass',\n 'prev2_incomplete_pass',\n 'prev3_incomplete_pass',\n 'prev4_incomplete_pass',\n 'prev1_yards_gained',\n 'prev2_yards_gained',\n 'prev3_yards_gained',\n 'prev4_yards_gained',\n 'prev1_wpa',\n 'prev2_wpa',\n 'prev3_wpa',\n 'prev4_wpa',\n 'prev1_shotgun',\n 'prev2_shotgun',\n 'prev3_shotgun',\n 'prev1_qb_hit',\n 'prev2_qb_hit',\n 'prev3_qb_hit',\n 'prev1_no_huddle',\n 'prev2_no_huddle',\n 'prev3_no_huddle',\n 'prev1_first_down_pass',\n 'prev2_first_down_pass',\n 'prev3_first_down_pass',\n 'prev1_first_down_run',\n 'prev2_first_down_run',\n 'prev3_first_down_run',\n 'prev1_effct_play',\n 'prev2_effct_play',\n 'prev3_effct_play',\n 'remaining_downs',\n 'remaining_yards_per_down',\n 'drive_start',\n 'two_min_warning',\n 'ep_half_sec_ratio',\n 'ep_game_sec_ratio',\n 'posteam_side',\n 'half_seconds_div_score_diff',\n 'half_seconds_prod_score_diff',\n 'game_wind_div_game_temp',\n 'game_wind_prod_game_temp',\n 'game_temp_div_game_humidity',\n 'game_temp_prod_game_humidity',\n 'remain_yds_div_def_box',\n 'remain_yds_prod_def_box',\n 'remain_yds_div_off_hb_count',\n 'remain_yds_prod_off_hb_count',\n 'remain_yds_div_def_dl_count',\n 'remain_yds_prod_def_dl_count',\n 'remain_yds_div_def_db_count',\n 'remain_yds_prod_def_db_count',\n 'remain_yds_div_score_diff',\n 'remain_yds_prod_score_diff',\n 'run_ratio_off_priors',\n 'run_ratio_def_priors',\n 'posteam_season',\n 'defteam_season']"
     },
     "execution_count": 362,
     "metadata": {},
     "output_type": "execute_result"
    }
   ],
   "source": [
    "df4 = df3.copy()\n",
    "\n",
    "# Print list of columns\n",
    "list(df4.columns)"
   ],
   "metadata": {
    "collapsed": false,
    "ExecuteTime": {
     "end_time": "2024-01-01T14:42:31.902879Z",
     "start_time": "2024-01-01T14:42:31.710158Z"
    }
   },
   "id": "50502e39349afe2e"
  },
  {
   "cell_type": "code",
   "execution_count": 363,
   "outputs": [
    {
     "data": {
      "text/plain": "play_type_detail\nshort        25562\ninside       13545\noutside      12577\ndeep         10648\npass_sack     2685\npass             2\nName: count, dtype: int64"
     },
     "execution_count": 363,
     "metadata": {},
     "output_type": "execute_result"
    }
   ],
   "source": [
    "counts = df4.play_type_detail.value_counts(normalize=False)\n",
    "counts"
   ],
   "metadata": {
    "collapsed": false,
    "ExecuteTime": {
     "end_time": "2024-01-01T14:42:33.300496Z",
     "start_time": "2024-01-01T14:42:33.133962Z"
    }
   },
   "id": "5095b5591f7ba17e"
  },
  {
   "cell_type": "markdown",
   "source": [
    "## RUN PASS CLASSIFICATION DATAFRAME"
   ],
   "metadata": {
    "collapsed": false
   },
   "id": "b1db1444e0b15fd"
  },
  {
   "cell_type": "code",
   "execution_count": 364,
   "id": "8093d931",
   "metadata": {
    "pycharm": {
     "name": "#%%\n"
    },
    "ExecuteTime": {
     "end_time": "2024-01-01T14:42:47.868545Z",
     "start_time": "2024-01-01T14:42:36.402134Z"
    }
   },
   "outputs": [
    {
     "data": {
      "text/plain": "(65019, 154)"
     },
     "execution_count": 364,
     "metadata": {},
     "output_type": "execute_result"
    }
   ],
   "source": [
    "df5 = df4.copy()\n",
    "\n",
    "# Drop column not used in classifier\n",
    "df5.drop(['play_type_detail','intentional_grounding'], axis=1, inplace=True)\n",
    "\n",
    "# Export binary classifier dataframe\n",
    "df5.to_csv(r'/Users/ttas2/Documents/Python/nfl-machine-learning-models/output_files/nfl_post_processing_run_pass_classification_data.csv', index=None, header=True)\n",
    "\n",
    "df5.shape"
   ]
  },
  {
   "cell_type": "markdown",
   "id": "8d00e7bf",
   "metadata": {
    "pycharm": {
     "name": "#%% md\n"
    }
   },
   "source": [
    "## MULTI-CLASS DATAFRAME"
   ]
  },
  {
   "cell_type": "code",
   "execution_count": 365,
   "id": "c0fc48aa",
   "metadata": {
    "pycharm": {
     "name": "#%%\n"
    },
    "ExecuteTime": {
     "end_time": "2024-01-01T14:42:48.104169Z",
     "start_time": "2024-01-01T14:42:47.861950Z"
    }
   },
   "outputs": [
    {
     "data": {
      "text/plain": "(65019, 155)"
     },
     "execution_count": 365,
     "metadata": {},
     "output_type": "execute_result"
    }
   ],
   "source": [
    "df6 = df4.copy()\n",
    "\n",
    "# Drop column not used in classifier\n",
    "df6.drop(['play_type'], axis=1, inplace=True)\n",
    "df6.shape"
   ]
  },
  {
   "cell_type": "code",
   "execution_count": 366,
   "id": "176596c4",
   "metadata": {
    "pycharm": {
     "name": "#%%\n"
    },
    "ExecuteTime": {
     "end_time": "2024-01-01T14:42:48.260883Z",
     "start_time": "2024-01-01T14:42:48.039366Z"
    }
   },
   "outputs": [
    {
     "data": {
      "text/plain": "(62334, 155)"
     },
     "execution_count": 366,
     "metadata": {},
     "output_type": "execute_result"
    }
   ],
   "source": [
    "# Exclude sacks from dataset\n",
    "df6 = df6.loc[df6['play_type_detail'] != 'pass_sack']\n",
    "df6.shape"
   ]
  },
  {
   "cell_type": "code",
   "execution_count": 367,
   "outputs": [
    {
     "data": {
      "text/plain": "(62238, 154)"
     },
     "execution_count": 367,
     "metadata": {},
     "output_type": "execute_result"
    }
   ],
   "source": [
    "# Exclude sacks from dataset\n",
    "df6 = df6.loc[df6['intentional_grounding'] == 0]\n",
    "\n",
    "# Drop column not used in classifier\n",
    "df6.drop(['intentional_grounding'], axis=1, inplace=True)\n",
    "\n",
    "df6.shape"
   ],
   "metadata": {
    "collapsed": false,
    "ExecuteTime": {
     "end_time": "2024-01-01T14:42:48.381575Z",
     "start_time": "2024-01-01T14:42:48.100472Z"
    }
   },
   "id": "8733cf1f9b1376eb"
  },
  {
   "cell_type": "code",
   "execution_count": 368,
   "id": "3193b4df",
   "metadata": {
    "pycharm": {
     "name": "#%%\n"
    },
    "ExecuteTime": {
     "end_time": "2024-01-01T14:42:48.488044Z",
     "start_time": "2024-01-01T14:42:48.181274Z"
    }
   },
   "outputs": [
    {
     "data": {
      "text/plain": "(62236, 154)"
     },
     "execution_count": 368,
     "metadata": {},
     "output_type": "execute_result"
    }
   ],
   "source": [
    "# Exclude passes with no depth designation\n",
    "df6 = df6.loc[df6['play_type_detail'] != 'pass']\n",
    "df6.shape"
   ]
  },
  {
   "cell_type": "code",
   "execution_count": 369,
   "id": "f0daee03",
   "metadata": {
    "pycharm": {
     "name": "#%%\n"
    },
    "ExecuteTime": {
     "end_time": "2024-01-01T14:42:48.611905Z",
     "start_time": "2024-01-01T14:42:48.240032Z"
    }
   },
   "outputs": [
    {
     "data": {
      "text/plain": "(62236, 154)"
     },
     "execution_count": 369,
     "metadata": {},
     "output_type": "execute_result"
    }
   ],
   "source": [
    "# Exclude runs with no direction/landmark designation\n",
    "df6 = df6.loc[df6['play_type_detail'] != 'run']\n",
    "df6.shape"
   ]
  },
  {
   "cell_type": "code",
   "execution_count": 370,
   "id": "98347d9d",
   "metadata": {
    "pycharm": {
     "name": "#%%\n"
    },
    "ExecuteTime": {
     "end_time": "2024-01-01T14:42:51.637311Z",
     "start_time": "2024-01-01T14:42:51.481452Z"
    }
   },
   "outputs": [
    {
     "data": {
      "text/plain": "play_type\nshort      0.409393\ninside     0.217639\noutside    0.202086\ndeep       0.170882\nName: proportion, dtype: float64"
     },
     "execution_count": 370,
     "metadata": {},
     "output_type": "execute_result"
    }
   ],
   "source": [
    "# Rename target\n",
    "df6['play_type'] = df6['play_type_detail']\n",
    "\n",
    "# Drop duplicate target\n",
    "df6.drop(['play_type_detail'], axis=1, inplace=True)\n",
    "\n",
    "# Check class frequency\n",
    "counts = df6.play_type.value_counts(normalize=True)\n",
    "counts"
   ]
  },
  {
   "cell_type": "code",
   "execution_count": 371,
   "id": "a0c84f7f",
   "metadata": {
    "pycharm": {
     "name": "#%%\n"
    },
    "ExecuteTime": {
     "end_time": "2024-01-01T14:43:04.708314Z",
     "start_time": "2024-01-01T14:42:53.294540Z"
    }
   },
   "outputs": [
    {
     "data": {
      "text/plain": "(62236, 154)"
     },
     "execution_count": 371,
     "metadata": {},
     "output_type": "execute_result"
    }
   ],
   "source": [
    "# Export binary classifier dataframe\n",
    "df6.to_csv(r'/Users/ttas2/Documents/Python/nfl-machine-learning-models/output_files/nfl_post_processing_multiclass_play_classification_data.csv', index=None, header=True)\n",
    "\n",
    "df6.shape"
   ]
  },
  {
   "cell_type": "code",
   "execution_count": 276,
   "id": "b9b9cb86",
   "metadata": {
    "pycharm": {
     "name": "#%%\n"
    },
    "ExecuteTime": {
     "end_time": "2024-01-01T14:29:33.330916Z",
     "start_time": "2024-01-01T14:29:33.303623Z"
    }
   },
   "outputs": [],
   "source": []
  }
 ],
 "metadata": {
  "colab": {
   "name": "nfl_offensive_play_classification_v1.1.ipynb",
   "provenance": []
  },
  "kernelspec": {
   "display_name": "Python 3 (ipykernel)",
   "language": "python",
   "name": "python3"
  },
  "language_info": {
   "codemirror_mode": {
    "name": "ipython",
    "version": 3
   },
   "file_extension": ".py",
   "mimetype": "text/x-python",
   "name": "python",
   "nbconvert_exporter": "python",
   "pygments_lexer": "ipython3",
   "version": "3.9.6"
  }
 },
 "nbformat": 4,
 "nbformat_minor": 5
}
