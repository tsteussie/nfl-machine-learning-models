{
 "cells": [
  {
   "cell_type": "code",
   "execution_count": 1,
   "id": "5312cec7",
   "metadata": {
    "pycharm": {
     "name": "#%%\n"
    },
    "ExecuteTime": {
     "end_time": "2023-12-06T04:42:46.761091Z",
     "start_time": "2023-12-06T04:42:36.925596Z"
    }
   },
   "outputs": [],
   "source": [
    "import pandas as pd\n",
    "import numpy as np\n",
    "from joblib import Parallel, delayed\n",
    "import nfl_data_py as nfl\n",
    "import ssl\n",
    "ssl._create_default_https_context = ssl._create_stdlib_context\n",
    "from statsmodels.stats.outliers_influence import variance_inflation_factor as vif\n",
    "import warnings\n",
    "warnings.filterwarnings('ignore')"
   ]
  },
  {
   "cell_type": "markdown",
   "id": "bd81412b",
   "metadata": {
    "pycharm": {
     "name": "#%% md\n"
    }
   },
   "source": [
    "# nfl-data-py"
   ]
  },
  {
   "cell_type": "code",
   "execution_count": 2,
   "id": "349503b8",
   "metadata": {
    "pycharm": {
     "name": "#%%\n"
    },
    "ExecuteTime": {
     "end_time": "2023-12-06T04:42:46.780125Z",
     "start_time": "2023-12-06T04:42:38.066364Z"
    }
   },
   "outputs": [
    {
     "name": "stdout",
     "output_type": "stream",
     "text": [
      "[2022, 2023]\n",
      "[2000, 2001, 2002, 2003, 2004, 2005, 2006, 2007, 2008, 2009, 2010, 2011, 2012, 2013, 2014, 2015, 2016, 2017, 2018, 2019, 2020, 2021, 2022, 2023]\n"
     ]
    }
   ],
   "source": [
    "# 1999-2021 available for analysis. Some properties are not available in earlier years.  Offensive formation available starting in 2022\n",
    "start_season = 2022\n",
    "end_season = 2023\n",
    "\n",
    "end_season = end_season + 1\n",
    "seasons = [*range(start_season, end_season, 1)]\n",
    "\n",
    "draft_years = [*range(2000, 2024, 1)]\n",
    "\n",
    "print(seasons)\n",
    "print(draft_years)"
   ]
  },
  {
   "cell_type": "markdown",
   "id": "d6bbdf80",
   "metadata": {
    "pycharm": {
     "name": "#%% md\n"
    }
   },
   "source": [
    "#### Data dictionary"
   ]
  },
  {
   "cell_type": "markdown",
   "id": "11bc07d1",
   "metadata": {
    "pycharm": {
     "name": "#%% md\n"
    }
   },
   "source": [
    "https://nflreadr.nflverse.com/articles/dictionary_pbp.html"
   ]
  },
  {
   "cell_type": "markdown",
   "id": "3ad92036",
   "metadata": {
    "pycharm": {
     "name": "#%% md\n"
    }
   },
   "source": [
    "#### Import play-by-play data"
   ]
  },
  {
   "cell_type": "code",
   "execution_count": 3,
   "id": "7905b061",
   "metadata": {
    "pycharm": {
     "name": "#%%\n"
    },
    "scrolled": true,
    "ExecuteTime": {
     "end_time": "2023-12-06T04:42:48.917929Z",
     "start_time": "2023-12-06T04:42:38.071691Z"
    }
   },
   "outputs": [
    {
     "name": "stdout",
     "output_type": "stream",
     "text": [
      "2022 done.\n",
      "2023 done.\n"
     ]
    },
    {
     "data": {
      "text/plain": "(83968, 384)"
     },
     "execution_count": 3,
     "metadata": {},
     "output_type": "execute_result"
    }
   ],
   "source": [
    "play_data = nfl.import_pbp_data(years=seasons, downcast=False, cache=False) # , alt_path=None)\n",
    "\n",
    "# Clean dataframe using nfl-data-api cleaning function\n",
    "play_df = nfl.clean_nfl_data(play_data)\n",
    "\n",
    "play_df.shape"
   ]
  },
  {
   "cell_type": "code",
   "execution_count": 4,
   "outputs": [
    {
     "data": {
      "text/plain": "(73067, 384)"
     },
     "execution_count": 4,
     "metadata": {},
     "output_type": "execute_result"
    }
   ],
   "source": [
    "# Preliminary play_type filter 'None' and 'no play'\n",
    "play_df = play_df.loc[~(play_df['play_type'].isin([None,'no_play']))]\n",
    "\n",
    "play_df.shape"
   ],
   "metadata": {
    "collapsed": false,
    "ExecuteTime": {
     "end_time": "2023-12-06T04:42:49.158404Z",
     "start_time": "2023-12-06T04:42:48.856621Z"
    }
   },
   "id": "82c2d371047d828a"
  },
  {
   "cell_type": "code",
   "execution_count": 5,
   "id": "98db002a",
   "metadata": {
    "pycharm": {
     "name": "#%%\n"
    },
    "ExecuteTime": {
     "end_time": "2023-12-06T04:42:49.906600Z",
     "start_time": "2023-12-06T04:42:49.135482Z"
    }
   },
   "outputs": [
    {
     "data": {
      "text/plain": "       play_id          game_id old_game_id home_team away_team season_type   \n48212    327.0  2022_19_LAC_JAX  2023011401       JAX       LAC        POST  \\\n\n       week posteam posteam_type defteam  ... offense_personnel   \n48212    19     JAX         home     LAC  ...  1 RB, 1 TE, 3 WR  \\\n\n       defenders_in_box defense_personnel  number_of_pass_rushers   \n48212               6.0  2 DL, 4 LB, 5 DB                     4.0  \\\n\n                                         players_on_play   \n48212  41665;54530;53474;44835;45571;46116;53476;4608...  \\\n\n                                         offense_players   \n48212  00-0030827;00-0037814;00-0036975;00-0033881;00...  \\\n\n                                         defense_players  n_offense   \n48212  00-0033697;00-0036617;00-0034790;00-0035262;00...         11  \\\n\n       n_defense         game_alt_id  \n48212         11  JAX_LAC_2023_01_14  \n\n[1 rows x 385 columns]",
      "text/html": "<div>\n<style scoped>\n    .dataframe tbody tr th:only-of-type {\n        vertical-align: middle;\n    }\n\n    .dataframe tbody tr th {\n        vertical-align: top;\n    }\n\n    .dataframe thead th {\n        text-align: right;\n    }\n</style>\n<table border=\"1\" class=\"dataframe\">\n  <thead>\n    <tr style=\"text-align: right;\">\n      <th></th>\n      <th>play_id</th>\n      <th>game_id</th>\n      <th>old_game_id</th>\n      <th>home_team</th>\n      <th>away_team</th>\n      <th>season_type</th>\n      <th>week</th>\n      <th>posteam</th>\n      <th>posteam_type</th>\n      <th>defteam</th>\n      <th>...</th>\n      <th>offense_personnel</th>\n      <th>defenders_in_box</th>\n      <th>defense_personnel</th>\n      <th>number_of_pass_rushers</th>\n      <th>players_on_play</th>\n      <th>offense_players</th>\n      <th>defense_players</th>\n      <th>n_offense</th>\n      <th>n_defense</th>\n      <th>game_alt_id</th>\n    </tr>\n  </thead>\n  <tbody>\n    <tr>\n      <th>48212</th>\n      <td>327.0</td>\n      <td>2022_19_LAC_JAX</td>\n      <td>2023011401</td>\n      <td>JAX</td>\n      <td>LAC</td>\n      <td>POST</td>\n      <td>19</td>\n      <td>JAX</td>\n      <td>home</td>\n      <td>LAC</td>\n      <td>...</td>\n      <td>1 RB, 1 TE, 3 WR</td>\n      <td>6.0</td>\n      <td>2 DL, 4 LB, 5 DB</td>\n      <td>4.0</td>\n      <td>41665;54530;53474;44835;45571;46116;53476;4608...</td>\n      <td>00-0030827;00-0037814;00-0036975;00-0033881;00...</td>\n      <td>00-0033697;00-0036617;00-0034790;00-0035262;00...</td>\n      <td>11</td>\n      <td>11</td>\n      <td>JAX_LAC_2023_01_14</td>\n    </tr>\n  </tbody>\n</table>\n<p>1 rows × 385 columns</p>\n</div>"
     },
     "execution_count": 5,
     "metadata": {},
     "output_type": "execute_result"
    }
   ],
   "source": [
    "# Modify team names to match other data sources\n",
    "play_df['home_team'] = np.where(play_df['home_team'] == 'OAK', 'LV', play_df['home_team'])\n",
    "play_df['away_team'] = np.where(play_df['away_team'] == 'OAK', 'LV', play_df['away_team'])\n",
    "play_df['posteam'] = np.where(play_df['posteam'] == 'OAK', 'LV', play_df['posteam'])\n",
    "play_df['defteam'] = np.where(play_df['defteam'] == 'OAK', 'LV', play_df['defteam'])\n",
    "play_df['penalty_team'] = np.where(play_df['penalty_team'] == 'OAK', 'LV', play_df['penalty_team'])\n",
    "play_df['side_of_field'] = np.where(play_df['side_of_field'] == 'OAK', 'LV', play_df['side_of_field'])\n",
    "play_df['game_id'] = play_df['game_id'].str.replace('OAK', 'LV', case=True)\n",
    "\n",
    "# Convert game_date to datetime format\n",
    "play_df['game_date']= pd.to_datetime(play_df['game_date'])\n",
    "\n",
    "# Create year column from game_date\n",
    "play_df['year'] = pd.DatetimeIndex(play_df['game_date']).year\n",
    "play_df['month'] = pd.DatetimeIndex(play_df['game_date']).month\n",
    "play_df['day'] = pd.DatetimeIndex(play_df['game_date']).day\n",
    "\n",
    "play_df['game_alt_id'] = play_df['home_team'] + '_' + play_df['away_team'] + '_' +  play_df['year'].astype(str) + '_' + play_df['month'].astype(str).str.zfill(2) + '_' + play_df['day'].astype(str).str.zfill(2)\n",
    "    \n",
    "play_df.drop(['year','month','day'], axis=1, inplace=True)\n",
    "\n",
    "play_df.sample(1)"
   ]
  },
  {
   "cell_type": "code",
   "execution_count": 6,
   "outputs": [],
   "source": [
    "# Move game_alt_id to fourth column in dataframe\n",
    "cols = play_df.columns.tolist()\n",
    "cols = cols[:3] + cols[-1:] + cols[3:-1]\n",
    "play_df = play_df[cols]"
   ],
   "metadata": {
    "collapsed": false,
    "ExecuteTime": {
     "end_time": "2023-12-06T04:42:50.245773Z",
     "start_time": "2023-12-06T04:42:49.921681Z"
    }
   },
   "id": "ce7405ebec078e6b"
  },
  {
   "cell_type": "code",
   "execution_count": 7,
   "outputs": [
    {
     "name": "stdout",
     "output_type": "stream",
     "text": [
      "['play_id', 'game_id', 'old_game_id', 'game_alt_id', 'home_team', 'away_team', 'season_type', 'week', 'posteam', 'posteam_type', 'defteam', 'side_of_field', 'yardline_100', 'game_date', 'quarter_seconds_remaining', 'half_seconds_remaining', 'game_seconds_remaining', 'game_half', 'quarter_end', 'drive', 'sp', 'qtr', 'down', 'goal_to_go', 'time', 'yrdln', 'ydstogo', 'ydsnet', 'desc', 'play_type', 'yards_gained', 'shotgun', 'no_huddle', 'qb_dropback', 'qb_kneel', 'qb_spike', 'qb_scramble', 'pass_length', 'pass_location', 'air_yards', 'yards_after_catch', 'run_location', 'run_gap', 'field_goal_result', 'kick_distance', 'extra_point_result', 'two_point_conv_result', 'home_timeouts_remaining', 'away_timeouts_remaining', 'timeout', 'timeout_team', 'td_team', 'td_player_name', 'td_player_id', 'posteam_timeouts_remaining', 'defteam_timeouts_remaining', 'total_home_score', 'total_away_score', 'posteam_score', 'defteam_score', 'score_differential', 'posteam_score_post', 'defteam_score_post', 'score_differential_post', 'no_score_prob', 'opp_fg_prob', 'opp_safety_prob', 'opp_td_prob', 'fg_prob', 'safety_prob', 'td_prob', 'extra_point_prob', 'two_point_conversion_prob', 'ep', 'epa', 'total_home_epa', 'total_away_epa', 'total_home_rush_epa', 'total_away_rush_epa', 'total_home_pass_epa', 'total_away_pass_epa', 'air_epa', 'yac_epa', 'comp_air_epa', 'comp_yac_epa', 'total_home_comp_air_epa', 'total_away_comp_air_epa', 'total_home_comp_yac_epa', 'total_away_comp_yac_epa', 'total_home_raw_air_epa', 'total_away_raw_air_epa', 'total_home_raw_yac_epa', 'total_away_raw_yac_epa', 'wp', 'def_wp', 'home_wp', 'away_wp', 'wpa', 'vegas_wpa', 'vegas_home_wpa', 'home_wp_post', 'away_wp_post', 'vegas_wp', 'vegas_home_wp', 'total_home_rush_wpa', 'total_away_rush_wpa', 'total_home_pass_wpa', 'total_away_pass_wpa', 'air_wpa', 'yac_wpa', 'comp_air_wpa', 'comp_yac_wpa', 'total_home_comp_air_wpa', 'total_away_comp_air_wpa', 'total_home_comp_yac_wpa', 'total_away_comp_yac_wpa', 'total_home_raw_air_wpa', 'total_away_raw_air_wpa', 'total_home_raw_yac_wpa', 'total_away_raw_yac_wpa', 'punt_blocked', 'first_down_rush', 'first_down_pass', 'first_down_penalty', 'third_down_converted', 'third_down_failed', 'fourth_down_converted', 'fourth_down_failed', 'incomplete_pass', 'touchback', 'interception', 'punt_inside_twenty', 'punt_in_endzone', 'punt_out_of_bounds', 'punt_downed', 'punt_fair_catch', 'kickoff_inside_twenty', 'kickoff_in_endzone', 'kickoff_out_of_bounds', 'kickoff_downed', 'kickoff_fair_catch', 'fumble_forced', 'fumble_not_forced', 'fumble_out_of_bounds', 'solo_tackle', 'safety', 'penalty', 'tackled_for_loss', 'fumble_lost', 'own_kickoff_recovery', 'own_kickoff_recovery_td', 'qb_hit', 'rush_attempt', 'pass_attempt', 'sack', 'touchdown', 'pass_touchdown', 'rush_touchdown', 'return_touchdown', 'extra_point_attempt', 'two_point_attempt', 'field_goal_attempt', 'kickoff_attempt', 'punt_attempt', 'fumble', 'complete_pass', 'assist_tackle', 'lateral_reception', 'lateral_rush', 'lateral_return', 'lateral_recovery', 'passer_player_id', 'passer_player_name', 'passing_yards', 'receiver_player_id', 'receiver_player_name', 'receiving_yards', 'rusher_player_id', 'rusher_player_name', 'rushing_yards', 'lateral_receiver_player_id', 'lateral_receiver_player_name', 'lateral_receiving_yards', 'lateral_rusher_player_id', 'lateral_rusher_player_name', 'lateral_rushing_yards', 'lateral_sack_player_id', 'lateral_sack_player_name', 'interception_player_id', 'interception_player_name', 'lateral_interception_player_id', 'lateral_interception_player_name', 'punt_returner_player_id', 'punt_returner_player_name', 'lateral_punt_returner_player_id', 'lateral_punt_returner_player_name', 'kickoff_returner_player_name', 'kickoff_returner_player_id', 'lateral_kickoff_returner_player_id', 'lateral_kickoff_returner_player_name', 'punter_player_id', 'punter_player_name', 'kicker_player_name', 'kicker_player_id', 'own_kickoff_recovery_player_id', 'own_kickoff_recovery_player_name', 'blocked_player_id', 'blocked_player_name', 'tackle_for_loss_1_player_id', 'tackle_for_loss_1_player_name', 'tackle_for_loss_2_player_id', 'tackle_for_loss_2_player_name', 'qb_hit_1_player_id', 'qb_hit_1_player_name', 'qb_hit_2_player_id', 'qb_hit_2_player_name', 'forced_fumble_player_1_team', 'forced_fumble_player_1_player_id', 'forced_fumble_player_1_player_name', 'forced_fumble_player_2_team', 'forced_fumble_player_2_player_id', 'forced_fumble_player_2_player_name', 'solo_tackle_1_team', 'solo_tackle_2_team', 'solo_tackle_1_player_id', 'solo_tackle_2_player_id', 'solo_tackle_1_player_name', 'solo_tackle_2_player_name', 'assist_tackle_1_player_id', 'assist_tackle_1_player_name', 'assist_tackle_1_team', 'assist_tackle_2_player_id', 'assist_tackle_2_player_name', 'assist_tackle_2_team', 'assist_tackle_3_player_id', 'assist_tackle_3_player_name', 'assist_tackle_3_team', 'assist_tackle_4_player_id', 'assist_tackle_4_player_name', 'assist_tackle_4_team', 'tackle_with_assist', 'tackle_with_assist_1_player_id', 'tackle_with_assist_1_player_name', 'tackle_with_assist_1_team', 'tackle_with_assist_2_player_id', 'tackle_with_assist_2_player_name', 'tackle_with_assist_2_team', 'pass_defense_1_player_id', 'pass_defense_1_player_name', 'pass_defense_2_player_id', 'pass_defense_2_player_name', 'fumbled_1_team', 'fumbled_1_player_id', 'fumbled_1_player_name', 'fumbled_2_player_id', 'fumbled_2_player_name', 'fumbled_2_team', 'fumble_recovery_1_team', 'fumble_recovery_1_yards', 'fumble_recovery_1_player_id', 'fumble_recovery_1_player_name', 'fumble_recovery_2_team', 'fumble_recovery_2_yards', 'fumble_recovery_2_player_id', 'fumble_recovery_2_player_name', 'sack_player_id', 'sack_player_name', 'half_sack_1_player_id', 'half_sack_1_player_name', 'half_sack_2_player_id', 'half_sack_2_player_name', 'return_team', 'return_yards', 'penalty_team', 'penalty_player_id', 'penalty_player_name', 'penalty_yards', 'replay_or_challenge', 'replay_or_challenge_result', 'penalty_type', 'defensive_two_point_attempt', 'defensive_two_point_conv', 'defensive_extra_point_attempt', 'defensive_extra_point_conv', 'safety_player_name', 'safety_player_id', 'season', 'cp', 'cpoe', 'series', 'series_success', 'series_result', 'order_sequence', 'start_time', 'time_of_day', 'stadium', 'weather', 'nfl_api_id', 'play_clock', 'play_deleted', 'play_type_nfl', 'special_teams_play', 'st_play_type', 'end_clock_time', 'end_yard_line', 'fixed_drive', 'fixed_drive_result', 'drive_real_start_time', 'drive_play_count', 'drive_time_of_possession', 'drive_first_downs', 'drive_inside20', 'drive_ended_with_score', 'drive_quarter_start', 'drive_quarter_end', 'drive_yards_penalized', 'drive_start_transition', 'drive_end_transition', 'drive_game_clock_start', 'drive_game_clock_end', 'drive_start_yard_line', 'drive_end_yard_line', 'drive_play_id_started', 'drive_play_id_ended', 'away_score', 'home_score', 'location', 'result', 'total', 'spread_line', 'total_line', 'div_game', 'roof', 'surface', 'temp', 'wind', 'home_coach', 'away_coach', 'stadium_id', 'game_stadium', 'aborted_play', 'success', 'passer', 'passer_jersey_number', 'rusher', 'rusher_jersey_number', 'receiver', 'receiver_jersey_number', 'pass', 'rush', 'first_down', 'special', 'play', 'passer_id', 'rusher_id', 'receiver_id', 'name', 'jersey_number', 'id', 'fantasy_player_name', 'fantasy_player_id', 'fantasy', 'fantasy_id', 'out_of_bounds', 'home_opening_kickoff', 'qb_epa', 'xyac_epa', 'xyac_mean_yardage', 'xyac_median_yardage', 'xyac_success', 'xyac_fd', 'xpass', 'pass_oe', 'nflverse_game_id', 'possession_team', 'offense_formation', 'offense_personnel', 'defenders_in_box', 'defense_personnel', 'number_of_pass_rushers', 'players_on_play', 'offense_players', 'defense_players', 'n_offense', 'n_defense']\n"
     ]
    }
   ],
   "source": [
    "# Print column names and missing values count\n",
    "print(play_df.columns.tolist())"
   ],
   "metadata": {
    "collapsed": false,
    "ExecuteTime": {
     "end_time": "2023-12-06T04:42:50.246525Z",
     "start_time": "2023-12-06T04:42:50.108933Z"
    }
   },
   "id": "d1f1052c892b97e7"
  },
  {
   "cell_type": "code",
   "execution_count": 8,
   "id": "75902bba",
   "metadata": {
    "pycharm": {
     "name": "#%%\n"
    },
    "ExecuteTime": {
     "end_time": "2023-12-06T04:42:50.246883Z",
     "start_time": "2023-12-06T04:42:50.121666Z"
    }
   },
   "outputs": [
    {
     "data": {
      "text/plain": "32"
     },
     "execution_count": 8,
     "metadata": {},
     "output_type": "execute_result"
    }
   ],
   "source": [
    "play_df.home_team.nunique()"
   ]
  },
  {
   "cell_type": "code",
   "execution_count": 9,
   "outputs": [
    {
     "data": {
      "text/plain": "208"
     },
     "execution_count": 9,
     "metadata": {},
     "output_type": "execute_result"
    }
   ],
   "source": [
    "# Game-play sequence\n",
    "play_df['play'] = play_df.groupby(['game_id'])['play_id'].cumcount() + 1\n",
    "\n",
    "play_df.play.nunique()"
   ],
   "metadata": {
    "collapsed": false,
    "ExecuteTime": {
     "end_time": "2023-12-06T04:42:50.261283Z",
     "start_time": "2023-12-06T04:42:50.134023Z"
    }
   },
   "id": "50d3c38c52d45e0d"
  },
  {
   "cell_type": "code",
   "execution_count": 10,
   "outputs": [
    {
     "data": {
      "text/plain": "play_id            0\ngame_id            0\nold_game_id        0\ngame_alt_id        0\nhome_team          0\n                  ..\nplayers_on_play    0\noffense_players    0\ndefense_players    0\nn_offense          0\nn_defense          0\nLength: 385, dtype: int64"
     },
     "execution_count": 10,
     "metadata": {},
     "output_type": "execute_result"
    }
   ],
   "source": [
    "# Print columns with missing values\n",
    "missing = play_df.isnull().sum()\n",
    "missing"
   ],
   "metadata": {
    "collapsed": false,
    "ExecuteTime": {
     "end_time": "2023-12-06T04:42:50.638675Z",
     "start_time": "2023-12-06T04:42:50.153770Z"
    }
   },
   "id": "60a1da79aae5d6f8"
  },
  {
   "cell_type": "code",
   "execution_count": 11,
   "outputs": [
    {
     "data": {
      "text/plain": "Empty DataFrame\nColumns: [play_id, game_id, old_game_id, game_alt_id, home_team, away_team, season_type, week, posteam, posteam_type, defteam, side_of_field, yardline_100, game_date, quarter_seconds_remaining, half_seconds_remaining, game_seconds_remaining, game_half, quarter_end, drive, sp, qtr, down, goal_to_go, time, yrdln, ydstogo, ydsnet, desc, play_type, yards_gained, shotgun, no_huddle, qb_dropback, qb_kneel, qb_spike, qb_scramble, pass_length, pass_location, air_yards, yards_after_catch, run_location, run_gap, field_goal_result, kick_distance, extra_point_result, two_point_conv_result, home_timeouts_remaining, away_timeouts_remaining, timeout, timeout_team, td_team, td_player_name, td_player_id, posteam_timeouts_remaining, defteam_timeouts_remaining, total_home_score, total_away_score, posteam_score, defteam_score, score_differential, posteam_score_post, defteam_score_post, score_differential_post, no_score_prob, opp_fg_prob, opp_safety_prob, opp_td_prob, fg_prob, safety_prob, td_prob, extra_point_prob, two_point_conversion_prob, ep, epa, total_home_epa, total_away_epa, total_home_rush_epa, total_away_rush_epa, total_home_pass_epa, total_away_pass_epa, air_epa, yac_epa, comp_air_epa, comp_yac_epa, total_home_comp_air_epa, total_away_comp_air_epa, total_home_comp_yac_epa, total_away_comp_yac_epa, total_home_raw_air_epa, total_away_raw_air_epa, total_home_raw_yac_epa, total_away_raw_yac_epa, wp, def_wp, home_wp, away_wp, wpa, vegas_wpa, vegas_home_wpa, ...]\nIndex: []\n\n[0 rows x 385 columns]",
      "text/html": "<div>\n<style scoped>\n    .dataframe tbody tr th:only-of-type {\n        vertical-align: middle;\n    }\n\n    .dataframe tbody tr th {\n        vertical-align: top;\n    }\n\n    .dataframe thead th {\n        text-align: right;\n    }\n</style>\n<table border=\"1\" class=\"dataframe\">\n  <thead>\n    <tr style=\"text-align: right;\">\n      <th></th>\n      <th>play_id</th>\n      <th>game_id</th>\n      <th>old_game_id</th>\n      <th>game_alt_id</th>\n      <th>home_team</th>\n      <th>away_team</th>\n      <th>season_type</th>\n      <th>week</th>\n      <th>posteam</th>\n      <th>posteam_type</th>\n      <th>...</th>\n      <th>offense_formation</th>\n      <th>offense_personnel</th>\n      <th>defenders_in_box</th>\n      <th>defense_personnel</th>\n      <th>number_of_pass_rushers</th>\n      <th>players_on_play</th>\n      <th>offense_players</th>\n      <th>defense_players</th>\n      <th>n_offense</th>\n      <th>n_defense</th>\n    </tr>\n  </thead>\n  <tbody>\n  </tbody>\n</table>\n<p>0 rows × 385 columns</p>\n</div>"
     },
     "execution_count": 11,
     "metadata": {},
     "output_type": "execute_result"
    }
   ],
   "source": [
    "# Return dataframe with missing posteam values\n",
    "play_check = play_df.loc[play_df['posteam'].isnull()]\n",
    "play_check"
   ],
   "metadata": {
    "collapsed": false,
    "ExecuteTime": {
     "end_time": "2023-12-06T04:42:50.639430Z",
     "start_time": "2023-12-06T04:42:50.507222Z"
    }
   },
   "id": "a8f429531f0fa743"
  },
  {
   "cell_type": "markdown",
   "id": "46536268",
   "metadata": {
    "pycharm": {
     "name": "#%% md\n"
    }
   },
   "source": [
    "#### Import Schedule data"
   ]
  },
  {
   "cell_type": "code",
   "execution_count": 12,
   "id": "63f722f6",
   "metadata": {
    "pycharm": {
     "name": "#%%\n"
    },
    "ExecuteTime": {
     "end_time": "2023-12-06T04:42:52.013736Z",
     "start_time": "2023-12-06T04:42:50.529640Z"
    }
   },
   "outputs": [
    {
     "data": {
      "text/plain": "(556, 46)"
     },
     "execution_count": 12,
     "metadata": {},
     "output_type": "execute_result"
    }
   ],
   "source": [
    "game_data = nfl.import_schedules(years=seasons)\n",
    "\n",
    "# Clean dataframe using nfl-data-api cleaning function\n",
    "game_df = nfl.clean_nfl_data(game_data)\n",
    "\n",
    "# # Sort dataframe\n",
    "game_df = game_df.sort_values(by=['season','week','gameday'], ascending=True)\n",
    "\n",
    "game_df.shape"
   ]
  },
  {
   "cell_type": "code",
   "execution_count": 13,
   "id": "b64669eb",
   "metadata": {
    "pycharm": {
     "name": "#%%\n"
    },
    "scrolled": false,
    "ExecuteTime": {
     "end_time": "2023-12-06T04:42:52.054577Z",
     "start_time": "2023-12-06T04:42:52.002036Z"
    }
   },
   "outputs": [
    {
     "data": {
      "text/plain": "             game_id  season game_type  week     gameday   weekday gametime   \n6137  2022_01_BUF_LA    2022       REG     1  2022-09-08  Thursday    20:20  \\\n6138  2022_01_NO_ATL    2022       REG     1  2022-09-11    Sunday    13:00   \n\n     away_team  away_score home_team  ...  wind  away_qb_id  home_qb_id   \n6137       BUF        31.0        LA  ...   NaN  00-0034857  00-0026498  \\\n6138        NO        27.0       ATL  ...   NaN  00-0031503  00-0032268   \n\n        away_qb_name      home_qb_name      away_coach    home_coach   \n6137      Josh Allen  Matthew Stafford  Sean McDermott    Sean McVay  \\\n6138  Jameis Winston    Marcus Mariota    Dennis Allen  Arthur Smith   \n\n            referee stadium_id                stadium  \n6137  Carl Cheffers      LAX01           SoFi Stadium  \n6138      Alex Kemp      ATL97  Mercedes-Benz Stadium  \n\n[2 rows x 46 columns]",
      "text/html": "<div>\n<style scoped>\n    .dataframe tbody tr th:only-of-type {\n        vertical-align: middle;\n    }\n\n    .dataframe tbody tr th {\n        vertical-align: top;\n    }\n\n    .dataframe thead th {\n        text-align: right;\n    }\n</style>\n<table border=\"1\" class=\"dataframe\">\n  <thead>\n    <tr style=\"text-align: right;\">\n      <th></th>\n      <th>game_id</th>\n      <th>season</th>\n      <th>game_type</th>\n      <th>week</th>\n      <th>gameday</th>\n      <th>weekday</th>\n      <th>gametime</th>\n      <th>away_team</th>\n      <th>away_score</th>\n      <th>home_team</th>\n      <th>...</th>\n      <th>wind</th>\n      <th>away_qb_id</th>\n      <th>home_qb_id</th>\n      <th>away_qb_name</th>\n      <th>home_qb_name</th>\n      <th>away_coach</th>\n      <th>home_coach</th>\n      <th>referee</th>\n      <th>stadium_id</th>\n      <th>stadium</th>\n    </tr>\n  </thead>\n  <tbody>\n    <tr>\n      <th>6137</th>\n      <td>2022_01_BUF_LA</td>\n      <td>2022</td>\n      <td>REG</td>\n      <td>1</td>\n      <td>2022-09-08</td>\n      <td>Thursday</td>\n      <td>20:20</td>\n      <td>BUF</td>\n      <td>31.0</td>\n      <td>LA</td>\n      <td>...</td>\n      <td>NaN</td>\n      <td>00-0034857</td>\n      <td>00-0026498</td>\n      <td>Josh Allen</td>\n      <td>Matthew Stafford</td>\n      <td>Sean McDermott</td>\n      <td>Sean McVay</td>\n      <td>Carl Cheffers</td>\n      <td>LAX01</td>\n      <td>SoFi Stadium</td>\n    </tr>\n    <tr>\n      <th>6138</th>\n      <td>2022_01_NO_ATL</td>\n      <td>2022</td>\n      <td>REG</td>\n      <td>1</td>\n      <td>2022-09-11</td>\n      <td>Sunday</td>\n      <td>13:00</td>\n      <td>NO</td>\n      <td>27.0</td>\n      <td>ATL</td>\n      <td>...</td>\n      <td>NaN</td>\n      <td>00-0031503</td>\n      <td>00-0032268</td>\n      <td>Jameis Winston</td>\n      <td>Marcus Mariota</td>\n      <td>Dennis Allen</td>\n      <td>Arthur Smith</td>\n      <td>Alex Kemp</td>\n      <td>ATL97</td>\n      <td>Mercedes-Benz Stadium</td>\n    </tr>\n  </tbody>\n</table>\n<p>2 rows × 46 columns</p>\n</div>"
     },
     "execution_count": 13,
     "metadata": {},
     "output_type": "execute_result"
    }
   ],
   "source": [
    "game_df.head(2)"
   ]
  },
  {
   "cell_type": "code",
   "execution_count": 14,
   "id": "8752388f",
   "metadata": {
    "pycharm": {
     "name": "#%%\n"
    },
    "ExecuteTime": {
     "end_time": "2023-12-06T04:42:52.136791Z",
     "start_time": "2023-12-06T04:42:52.023645Z"
    }
   },
   "outputs": [],
   "source": [
    "# Modify team codes to match schedule\n",
    "game_df['home_team'] = np.where(game_df['home_team'] == 'OAK', 'LV', game_df['home_team'])\n",
    "game_df['away_team'] = np.where(game_df['away_team'] == 'OAK', 'LV', game_df['away_team'])\n",
    "game_df['game_id'] = game_df['game_id'].str.replace('OAK', 'LV', case=True)"
   ]
  },
  {
   "cell_type": "code",
   "execution_count": 15,
   "id": "53bb21e7",
   "metadata": {
    "pycharm": {
     "name": "#%%\n"
    },
    "ExecuteTime": {
     "end_time": "2023-12-06T04:42:52.137265Z",
     "start_time": "2023-12-06T04:42:52.031493Z"
    }
   },
   "outputs": [
    {
     "data": {
      "text/plain": "32"
     },
     "execution_count": 15,
     "metadata": {},
     "output_type": "execute_result"
    }
   ],
   "source": [
    "game_df.home_team.nunique()"
   ]
  },
  {
   "cell_type": "code",
   "execution_count": 16,
   "id": "a7bfeaeb",
   "metadata": {
    "pycharm": {
     "name": "#%%\n"
    },
    "ExecuteTime": {
     "end_time": "2023-12-06T04:42:52.137555Z",
     "start_time": "2023-12-06T04:42:52.038155Z"
    }
   },
   "outputs": [
    {
     "data": {
      "text/plain": "32"
     },
     "execution_count": 16,
     "metadata": {},
     "output_type": "execute_result"
    }
   ],
   "source": [
    "game_df.away_team.nunique()"
   ]
  },
  {
   "cell_type": "code",
   "execution_count": 17,
   "id": "cbbf6c4f",
   "metadata": {
    "pycharm": {
     "name": "#%%\n"
    },
    "ExecuteTime": {
     "end_time": "2023-12-06T04:42:52.225865Z",
     "start_time": "2023-12-06T04:42:52.064808Z"
    }
   },
   "outputs": [
    {
     "data": {
      "text/plain": "              game_id         game_alt_id     gameday weekday gametime   \n6300   2022_11_SF_ARI   ARI_SF_2022_11_21  2022-11-21  Monday    20:15  \\\n6139  2022_01_CLE_CAR  CAR_CLE_2022_09_11  2022-09-11  Sunday    13:00   \n\n      under_odds  over_odds  away_rest  home_rest  \n6300      -114.0      101.0          8          8  \n6139      -113.0      100.0          7          7  ",
      "text/html": "<div>\n<style scoped>\n    .dataframe tbody tr th:only-of-type {\n        vertical-align: middle;\n    }\n\n    .dataframe tbody tr th {\n        vertical-align: top;\n    }\n\n    .dataframe thead th {\n        text-align: right;\n    }\n</style>\n<table border=\"1\" class=\"dataframe\">\n  <thead>\n    <tr style=\"text-align: right;\">\n      <th></th>\n      <th>game_id</th>\n      <th>game_alt_id</th>\n      <th>gameday</th>\n      <th>weekday</th>\n      <th>gametime</th>\n      <th>under_odds</th>\n      <th>over_odds</th>\n      <th>away_rest</th>\n      <th>home_rest</th>\n    </tr>\n  </thead>\n  <tbody>\n    <tr>\n      <th>6300</th>\n      <td>2022_11_SF_ARI</td>\n      <td>ARI_SF_2022_11_21</td>\n      <td>2022-11-21</td>\n      <td>Monday</td>\n      <td>20:15</td>\n      <td>-114.0</td>\n      <td>101.0</td>\n      <td>8</td>\n      <td>8</td>\n    </tr>\n    <tr>\n      <th>6139</th>\n      <td>2022_01_CLE_CAR</td>\n      <td>CAR_CLE_2022_09_11</td>\n      <td>2022-09-11</td>\n      <td>Sunday</td>\n      <td>13:00</td>\n      <td>-113.0</td>\n      <td>100.0</td>\n      <td>7</td>\n      <td>7</td>\n    </tr>\n  </tbody>\n</table>\n</div>"
     },
     "execution_count": 17,
     "metadata": {},
     "output_type": "execute_result"
    }
   ],
   "source": [
    "# Create teams_date_id\n",
    "game_df['year'] = pd.DatetimeIndex(game_df['gameday']).year\n",
    "game_df['month'] = pd.DatetimeIndex(game_df['gameday']).month\n",
    "game_df['day'] = pd.DatetimeIndex(game_df['gameday']).day\n",
    "\n",
    "game_df['game_alt_id'] = game_df['home_team'] + '_' + game_df['away_team'] + '_' + game_df['year'].astype(str) + '_' + game_df['month'].astype(str).str.zfill(2) + '_' + game_df['day'].astype(str).str.zfill(2)\n",
    "    \n",
    "game_df.drop(['year','month','day'], axis=1, inplace=True)\n",
    "\n",
    "# Create game_id lookup table (joined with QBR table)\n",
    "game_df = game_df[['game_id','game_alt_id','gameday','weekday','gametime','under_odds','over_odds','away_rest','home_rest']]\n",
    "\n",
    "game_df.sample(2)"
   ]
  },
  {
   "cell_type": "markdown",
   "id": "b1c077dd",
   "metadata": {
    "pycharm": {
     "name": "#%% md\n"
    }
   },
   "source": [
    "#### Import QBR data"
   ]
  },
  {
   "cell_type": "code",
   "execution_count": 18,
   "id": "19302f2d",
   "metadata": {
    "pycharm": {
     "name": "#%%\n"
    },
    "ExecuteTime": {
     "end_time": "2023-12-06T04:42:53.253085Z",
     "start_time": "2023-12-06T04:42:52.073760Z"
    }
   },
   "outputs": [
    {
     "data": {
      "text/plain": "(948, 30)"
     },
     "execution_count": 18,
     "metadata": {},
     "output_type": "execute_result"
    }
   ],
   "source": [
    "qbr_data = nfl.import_qbr(years=seasons, level='nfl', frequency='weekly')\n",
    "\n",
    "# Clean dataframe using nfl-data-api cleaning function\n",
    "qbr_df = nfl.clean_nfl_data(qbr_data)\n",
    "\n",
    "qbr_df.shape"
   ]
  },
  {
   "cell_type": "code",
   "execution_count": 19,
   "id": "8f2f98af",
   "metadata": {
    "pycharm": {
     "name": "#%%\n"
    },
    "ExecuteTime": {
     "end_time": "2023-12-06T04:42:53.303580Z",
     "start_time": "2023-12-06T04:42:53.249354Z"
    }
   },
   "outputs": [
    {
     "data": {
      "text/plain": "      season season_type    game_id  game_week week_text team_abb  player_id   \n9381    2023     Regular  401547569         13   Week 13      CAR    4685720  \\\n9382    2023     Regular  401547571         13   Week 13      HOU    4432577   \n9383    2023     Regular  401547567         13   Week 13       NE    4250360   \n\n       name_short  rank  qbr_total  ...  name_last  name_display   \n9381     B. Young  24.0       18.9  ...      Young   Bryce Young  \\\n9382  C.J. Stroud  25.0       17.1  ...     Stroud   C.J. Stroud   \n9383     B. Zappe  26.0       16.2  ...      Zappe  Bailey Zappe   \n\n                                          headshot_href      team  opp_id   \n9381  https://a.espncdn.com/i/headshots/nfl/players/...  Panthers      27  \\\n9382  https://a.espncdn.com/i/headshots/nfl/players/...    Texans       7   \n9383  https://a.espncdn.com/i/headshots/nfl/players/...  Patriots      24   \n\n      opp_abb              opp_team    opp_name  week_num qualified  \n9381       TB  Tampa Bay Buccaneers  Buccaneers        13      True  \n9382      DEN        Denver Broncos     Broncos        13      True  \n9383      LAC  Los Angeles Chargers    Chargers        13      True  \n\n[3 rows x 30 columns]",
      "text/html": "<div>\n<style scoped>\n    .dataframe tbody tr th:only-of-type {\n        vertical-align: middle;\n    }\n\n    .dataframe tbody tr th {\n        vertical-align: top;\n    }\n\n    .dataframe thead th {\n        text-align: right;\n    }\n</style>\n<table border=\"1\" class=\"dataframe\">\n  <thead>\n    <tr style=\"text-align: right;\">\n      <th></th>\n      <th>season</th>\n      <th>season_type</th>\n      <th>game_id</th>\n      <th>game_week</th>\n      <th>week_text</th>\n      <th>team_abb</th>\n      <th>player_id</th>\n      <th>name_short</th>\n      <th>rank</th>\n      <th>qbr_total</th>\n      <th>...</th>\n      <th>name_last</th>\n      <th>name_display</th>\n      <th>headshot_href</th>\n      <th>team</th>\n      <th>opp_id</th>\n      <th>opp_abb</th>\n      <th>opp_team</th>\n      <th>opp_name</th>\n      <th>week_num</th>\n      <th>qualified</th>\n    </tr>\n  </thead>\n  <tbody>\n    <tr>\n      <th>9381</th>\n      <td>2023</td>\n      <td>Regular</td>\n      <td>401547569</td>\n      <td>13</td>\n      <td>Week 13</td>\n      <td>CAR</td>\n      <td>4685720</td>\n      <td>B. Young</td>\n      <td>24.0</td>\n      <td>18.9</td>\n      <td>...</td>\n      <td>Young</td>\n      <td>Bryce Young</td>\n      <td>https://a.espncdn.com/i/headshots/nfl/players/...</td>\n      <td>Panthers</td>\n      <td>27</td>\n      <td>TB</td>\n      <td>Tampa Bay Buccaneers</td>\n      <td>Buccaneers</td>\n      <td>13</td>\n      <td>True</td>\n    </tr>\n    <tr>\n      <th>9382</th>\n      <td>2023</td>\n      <td>Regular</td>\n      <td>401547571</td>\n      <td>13</td>\n      <td>Week 13</td>\n      <td>HOU</td>\n      <td>4432577</td>\n      <td>C.J. Stroud</td>\n      <td>25.0</td>\n      <td>17.1</td>\n      <td>...</td>\n      <td>Stroud</td>\n      <td>C.J. Stroud</td>\n      <td>https://a.espncdn.com/i/headshots/nfl/players/...</td>\n      <td>Texans</td>\n      <td>7</td>\n      <td>DEN</td>\n      <td>Denver Broncos</td>\n      <td>Broncos</td>\n      <td>13</td>\n      <td>True</td>\n    </tr>\n    <tr>\n      <th>9383</th>\n      <td>2023</td>\n      <td>Regular</td>\n      <td>401547567</td>\n      <td>13</td>\n      <td>Week 13</td>\n      <td>NE</td>\n      <td>4250360</td>\n      <td>B. Zappe</td>\n      <td>26.0</td>\n      <td>16.2</td>\n      <td>...</td>\n      <td>Zappe</td>\n      <td>Bailey Zappe</td>\n      <td>https://a.espncdn.com/i/headshots/nfl/players/...</td>\n      <td>Patriots</td>\n      <td>24</td>\n      <td>LAC</td>\n      <td>Los Angeles Chargers</td>\n      <td>Chargers</td>\n      <td>13</td>\n      <td>True</td>\n    </tr>\n  </tbody>\n</table>\n<p>3 rows × 30 columns</p>\n</div>"
     },
     "execution_count": 19,
     "metadata": {},
     "output_type": "execute_result"
    }
   ],
   "source": [
    "qbr_df.tail(3)"
   ]
  },
  {
   "cell_type": "code",
   "execution_count": 20,
   "id": "47fe0094",
   "metadata": {
    "pycharm": {
     "name": "#%%\n"
    },
    "ExecuteTime": {
     "end_time": "2023-12-06T04:42:53.519819Z",
     "start_time": "2023-12-06T04:42:53.268133Z"
    }
   },
   "outputs": [
    {
     "data": {
      "text/plain": "(948, 21)"
     },
     "execution_count": 20,
     "metadata": {},
     "output_type": "execute_result"
    }
   ],
   "source": [
    "# Rename columns\n",
    "qbr_df = qbr_df.rename(columns={'team_abb':'posteam', 'opp_abb':'defteam'})\n",
    "\n",
    "# Drop column\n",
    "qbr_df.drop(['game_id'], axis=1, inplace=True)\n",
    "\n",
    "# Rename columns\n",
    "qbr_df = qbr_df.rename(columns={'qb_plays': 'plays'})\n",
    "\n",
    "# Create sequential week column\n",
    "qbr_df['week'] = np.where((qbr_df['season'] < 2021) & (qbr_df['season_type'] == 'Playoffs'), (17 + qbr_df['game_week']),\n",
    "                 np.where((qbr_df['season'] >= 2021) & (qbr_df['season_type'] == 'Playoffs'), (18 + qbr_df['game_week']),\n",
    "                 qbr_df['game_week']))\n",
    "\n",
    "# Modify team codes to match schedule\n",
    "qbr_df['posteam'] = np.where(qbr_df['posteam'] == 'OAK', 'LV', qbr_df['posteam'])\n",
    "qbr_df['defteam'] = np.where(qbr_df['defteam'] == 'OAK', 'LV', qbr_df['defteam'])\n",
    "qbr_df['posteam'] = np.where(qbr_df['posteam'] == 'LAR', 'LA', qbr_df['posteam'])\n",
    "qbr_df['defteam'] = np.where(qbr_df['defteam'] == 'LAR', 'LA', qbr_df['defteam'])\n",
    "qbr_df['posteam'] = np.where(qbr_df['posteam'] == 'WSH', 'WAS', qbr_df['posteam'])\n",
    "qbr_df['defteam'] = np.where(qbr_df['defteam'] == 'WSH', 'WAS', qbr_df['defteam'])\n",
    "\n",
    "# Impute incorrect values\n",
    "qbr_df['week'] = np.where((qbr_df['season'] == 2018) & (qbr_df['posteam'] == 'LV') & (qbr_df['defteam'] == 'BAL') & (qbr_df['week'] == 1), 12, qbr_df['week'])\n",
    "qbr_df['week'] = np.where((qbr_df['season'] == 2018) & (qbr_df['posteam'] == 'BAL') & (qbr_df['defteam'] == 'LV') & (qbr_df['week'] == 1), 12, qbr_df['week'])\n",
    "qbr_df['defteam'] = np.where((qbr_df['season'] == 2018) & (qbr_df['posteam'] == 'LV') & (qbr_df['defteam'] == 'CHI') & (qbr_df['week'] == 9), 'SF', qbr_df['defteam'])\n",
    "qbr_df['defteam'] = np.where((qbr_df['season'] == 2018) & (qbr_df['posteam'] == 'CHI') & (qbr_df['defteam'] == 'LV') & (qbr_df['week'] == 9), 'SF', qbr_df['defteam'])\n",
    "\n",
    "# Create both combinations of game_id\n",
    "qbr_df['game_id_1'] = qbr_df['season'].astype(str) + '_' + qbr_df['week'].astype(str).str.zfill(2) + '_' + qbr_df['posteam'] + '_' + qbr_df['defteam']\n",
    "qbr_df['game_id_2'] = qbr_df['season'].astype(str) + '_' + qbr_df['week'].astype(str).str.zfill(2) + '_' + qbr_df['defteam'] + '_' + qbr_df['posteam']\n",
    "\n",
    "# Reduce dataframe dimensions\n",
    "qbr_df = qbr_df[['game_id_1','game_id_2','season','week','posteam','rank','pts_added','plays','qbr_raw','qbr_total','exp_sack','sack','pass','run']]\n",
    "\n",
    "# Merge with schedule dataframe to get game_id\n",
    "qbr_df = pd.merge(qbr_df, game_df, how='left', left_on=['game_id_1'], right_on = ['game_id'])\n",
    "qbr_df = qbr_df.rename(columns={'game_id':'game_id1',\n",
    "                                'game_alt_id':'game_alt_id1',\n",
    "                                'gameday':'gameday1',\n",
    "                                'weekday':'weekday1',\n",
    "                                'gametime':'gametime1',\n",
    "                                'under_odds':'under_odds1',\n",
    "                                'over_odds':'over_odds1',\n",
    "                                'away_rest':'away_rest1',\n",
    "                                'home_rest':'home_rest1',\n",
    "                                })\n",
    "\n",
    "qbr_df = pd.merge(qbr_df, game_df, how='left', left_on=['game_id_2'], right_on = ['game_id'])\n",
    "qbr_df = qbr_df.rename(columns={'game_id':'game_id2',\n",
    "                                'game_alt_id':'game_alt_id2',\n",
    "                                'gameday':'gameday2',\n",
    "                                'weekday':'weekday2',\n",
    "                                'gametime':'gametime2',\n",
    "                                'under_odds':'under_odds2',\n",
    "                                'over_odds':'over_odds2',\n",
    "                                'away_rest':'away_rest2',\n",
    "                                'home_rest':'home_rest2',\n",
    "                                })\n",
    "\n",
    "# Combine columns\n",
    "qbr_df['game_id'] = np.where(qbr_df['game_id1'].isnull(), qbr_df['game_id2'], qbr_df['game_id1'])\n",
    "qbr_df['game_alt_id'] = np.where(qbr_df['game_alt_id1'].isnull(), qbr_df['game_alt_id2'], qbr_df['game_alt_id1'])\n",
    "qbr_df['gameday'] = np.where(qbr_df['gameday1'].isnull(), qbr_df['gameday2'], qbr_df['gameday1'])\n",
    "qbr_df['weekday'] = np.where(qbr_df['weekday1'].isnull(), qbr_df['weekday2'], qbr_df['weekday1'])\n",
    "\n",
    "qbr_df['gametime'] = np.where(qbr_df['gametime1'].isnull(), qbr_df['gametime2'], qbr_df['gametime1'])\n",
    "qbr_df['under_odds'] = np.where(qbr_df['under_odds1'].isnull(), qbr_df['under_odds2'], qbr_df['under_odds1'])\n",
    "qbr_df['over_odds'] = np.where(qbr_df['over_odds1'].isnull(), qbr_df['over_odds2'], qbr_df['over_odds1'])\n",
    "qbr_df['away_rest'] = np.where(qbr_df['away_rest1'].isnull(), qbr_df['away_rest2'], qbr_df['away_rest1'])\n",
    "qbr_df['home_rest'] = np.where(qbr_df['home_rest1'].isnull(), qbr_df['home_rest2'], qbr_df['home_rest1'])\n",
    "\n",
    "qbr_df['game_id'].fillna('NULL', inplace = True)\n",
    "\n",
    "qbr_df.drop(['game_id_1','game_id_2','game_id1','game_id2','game_alt_id1','game_alt_id2','gameday1','gameday2','weekday1','weekday2','gametime1','gametime2','under_odds1','under_odds2','over_odds1','over_odds2','away_rest1','away_rest2','home_rest1','home_rest2'], axis=1, inplace=True)\n",
    "\n",
    "qbr_df.shape"
   ]
  },
  {
   "cell_type": "code",
   "execution_count": 21,
   "outputs": [
    {
     "data": {
      "text/plain": "(932, 21)"
     },
     "execution_count": 21,
     "metadata": {},
     "output_type": "execute_result"
    }
   ],
   "source": [
    "# Filter missing game_alt_id values\n",
    "qbr_df = qbr_df.loc[~(qbr_df['game_alt_id'].isnull())]\n",
    "\n",
    "qbr_df.shape"
   ],
   "metadata": {
    "collapsed": false,
    "ExecuteTime": {
     "end_time": "2023-12-06T04:42:53.520275Z",
     "start_time": "2023-12-06T04:42:53.328413Z"
    }
   },
   "id": "2d8e6cee88d4a52e"
  },
  {
   "cell_type": "code",
   "execution_count": 22,
   "id": "54ea3a71",
   "metadata": {
    "pycharm": {
     "name": "#%%\n"
    },
    "ExecuteTime": {
     "end_time": "2023-12-06T04:42:53.520672Z",
     "start_time": "2023-12-06T04:42:53.334701Z"
    }
   },
   "outputs": [
    {
     "data": {
      "text/plain": "(926, 21)"
     },
     "execution_count": 22,
     "metadata": {},
     "output_type": "execute_result"
    }
   ],
   "source": [
    "# Sort dataframe and drop quarterback with fewer passes during week\n",
    "qbr_df = qbr_df.sort_values(by=['season','posteam','week','plays'], ascending=True)\n",
    "\n",
    "qbr_df = qbr_df.drop_duplicates(['season','posteam','week'], keep='last')\n",
    "\n",
    "qbr_df.shape"
   ]
  },
  {
   "cell_type": "code",
   "execution_count": 23,
   "id": "daf990b3",
   "metadata": {
    "pycharm": {
     "name": "#%%\n"
    },
    "ExecuteTime": {
     "end_time": "2023-12-06T04:42:53.659218Z",
     "start_time": "2023-12-06T04:42:53.347696Z"
    }
   },
   "outputs": [],
   "source": [
    "# Create rolling average of quarterback statistics\n",
    "qbr_df['qb_rank'] = qbr_df.groupby(['season',\n",
    "                                    'posteam'])['rank'].transform(lambda x: x.rolling(window=3,\n",
    "                                                                                      min_periods=1,\n",
    "                                                                                      closed='left',\n",
    "                                                                                      center=False).mean())\n",
    "\n",
    "qbr_df['qb_pts'] = qbr_df.groupby(['season',\n",
    "                                    'posteam'])['pts_added'].transform(lambda x: x.rolling(window=3,\n",
    "                                                                                      min_periods=1,\n",
    "                                                                                      closed='left',\n",
    "                                                                                      center=False).mean())\n",
    "\n",
    "qbr_df['qb_plays'] = qbr_df.groupby(['season',\n",
    "                                    'posteam'])['plays'].transform(lambda x: x.rolling(window=3,\n",
    "                                                                                      min_periods=1,\n",
    "                                                                                      closed='left',\n",
    "                                                                                      center=False).mean())\n",
    "qbr_df['qb_qbr_raw'] = qbr_df.groupby(['season',\n",
    "                                    'posteam'])['qbr_raw'].transform(lambda x: x.rolling(window=3,\n",
    "                                                                                      min_periods=1,\n",
    "                                                                                      closed='left',\n",
    "                                                                                      center=False).mean())\n",
    "qbr_df['qb_qbr'] = qbr_df.groupby(['season',\n",
    "                                    'posteam'])['qbr_total'].transform(lambda x: x.rolling(window=3,\n",
    "                                                                                      min_periods=1,\n",
    "                                                                                      closed='left',\n",
    "                                                                                      center=False).mean())\n",
    "# qbr_df['qb_sack'] = qbr_df.groupby(['season',\n",
    "#                                     'posteam'])['sack'].transform(lambda x: x.rolling(window=3,\n",
    "#                                                                                       min_periods=1,\n",
    "#                                                                                       closed='left',\n",
    "#                                                                                       center=False).mean())\n",
    "# qbr_df['qb_exp_sack'] = qbr_df.groupby(['season',\n",
    "#                                     'posteam'])['exp_sack'].transform(lambda x: x.rolling(window=3,\n",
    "#                                                                                       min_periods=1,\n",
    "#                                                                                       closed='left',\n",
    "#                                                                                       center=False).mean())\n",
    "qbr_df['qb_pass'] = qbr_df.groupby(['season',\n",
    "                                    'posteam'])['pass'].transform(lambda x: x.rolling(window=3,\n",
    "                                                                                      min_periods=1,\n",
    "                                                                                      closed='left',\n",
    "                                                                                      center=False).mean())\n",
    "qbr_df['qb_run'] = qbr_df.groupby(['season',\n",
    "                                    'posteam'])['run'].transform(lambda x: x.rolling(window=3,\n",
    "                                                                                      min_periods=1,\n",
    "                                                                                      closed='left',\n",
    "                                                                                      center=False).mean())\n",
    "\n",
    "# Sort dataframe by gameday and posteam\n",
    "qbr_df = qbr_df.sort_values(by=['gameday','posteam'], ascending=True)\n",
    "\n",
    "# Print column names\n",
    "qbr_df.drop(['game_id','season','week','rank','pts_added','plays','qbr_raw','qbr_total','exp_sack','sack','pass','run','gameday','weekday','gametime','under_odds','over_odds','away_rest','home_rest'],  axis=1, inplace=True)"
   ]
  },
  {
   "cell_type": "code",
   "execution_count": 24,
   "id": "085bae1d",
   "metadata": {
    "pycharm": {
     "name": "#%%\n"
    },
    "ExecuteTime": {
     "end_time": "2023-12-06T04:42:53.845926Z",
     "start_time": "2023-12-06T04:42:53.508362Z"
    }
   },
   "outputs": [
    {
     "data": {
      "text/plain": "(926, 9)"
     },
     "execution_count": 24,
     "metadata": {},
     "output_type": "execute_result"
    }
   ],
   "source": [
    "# Impute missing data with median values\n",
    "qbr_df['qb_rank'] = qbr_df['qb_rank'].fillna(qbr_df.qb_rank.median())\n",
    "qbr_df['qb_pts'] = qbr_df['qb_pts'].fillna(qbr_df.qb_pts.median())\n",
    "qbr_df['qb_plays'] = qbr_df['qb_plays'].fillna(qbr_df.qb_plays.median())\n",
    "qbr_df['qb_qbr_raw'] = qbr_df['qb_qbr_raw'].fillna(qbr_df.qb_qbr_raw.median())\n",
    "qbr_df['qb_qbr'] = qbr_df['qb_qbr'].fillna(qbr_df.qb_qbr.median())\n",
    "# qbr_df['qb_sack'] = qbr_df['qb_sack'].fillna(qbr_df.qb_sack.median())\n",
    "# qbr_df['qb_exp_sack'] = qbr_df['qb_exp_sack'].fillna(qbr_df.qb_exp_sack.median())\n",
    "qbr_df['qb_pass'] = qbr_df['qb_pass'].fillna(qbr_df.qb_pass.median())\n",
    "qbr_df['qb_run'] = qbr_df['qb_run'].fillna(qbr_df.qb_run.median())\n",
    "\n",
    "qbr_df.shape"
   ]
  },
  {
   "cell_type": "code",
   "execution_count": 25,
   "id": "f45aa49c",
   "metadata": {
    "pycharm": {
     "name": "#%%\n"
    },
    "ExecuteTime": {
     "end_time": "2023-12-06T04:42:53.846352Z",
     "start_time": "2023-12-06T04:42:53.523643Z"
    }
   },
   "outputs": [
    {
     "name": "stdout",
     "output_type": "stream",
     "text": [
      "team count: 32\n"
     ]
    }
   ],
   "source": [
    "print('team count:', qbr_df.posteam.nunique())"
   ]
  },
  {
   "cell_type": "code",
   "execution_count": 26,
   "id": "0cf35ea9",
   "metadata": {
    "pycharm": {
     "name": "#%%\n"
    },
    "ExecuteTime": {
     "end_time": "2023-12-06T04:42:53.960828Z",
     "start_time": "2023-12-06T04:42:53.535848Z"
    }
   },
   "outputs": [
    {
     "data": {
      "text/plain": "   posteam        game_alt_id    qb_rank    qb_pts  qb_plays  qb_qbr_raw   \n1      BUF  LA_BUF_2022_09_08  15.666667  0.233333      41.5   52.608333  \\\n26      LA  LA_BUF_2022_09_08  15.666667  0.233333      41.5   52.608333   \n14     ARI  ARI_KC_2022_09_11  15.666667  0.233333      41.5   52.608333   \n\n       qb_qbr   qb_pass    qb_run  \n1   52.683333  3.033333  0.383333  \n26  52.683333  3.033333  0.383333  \n14  52.683333  3.033333  0.383333  ",
      "text/html": "<div>\n<style scoped>\n    .dataframe tbody tr th:only-of-type {\n        vertical-align: middle;\n    }\n\n    .dataframe tbody tr th {\n        vertical-align: top;\n    }\n\n    .dataframe thead th {\n        text-align: right;\n    }\n</style>\n<table border=\"1\" class=\"dataframe\">\n  <thead>\n    <tr style=\"text-align: right;\">\n      <th></th>\n      <th>posteam</th>\n      <th>game_alt_id</th>\n      <th>qb_rank</th>\n      <th>qb_pts</th>\n      <th>qb_plays</th>\n      <th>qb_qbr_raw</th>\n      <th>qb_qbr</th>\n      <th>qb_pass</th>\n      <th>qb_run</th>\n    </tr>\n  </thead>\n  <tbody>\n    <tr>\n      <th>1</th>\n      <td>BUF</td>\n      <td>LA_BUF_2022_09_08</td>\n      <td>15.666667</td>\n      <td>0.233333</td>\n      <td>41.5</td>\n      <td>52.608333</td>\n      <td>52.683333</td>\n      <td>3.033333</td>\n      <td>0.383333</td>\n    </tr>\n    <tr>\n      <th>26</th>\n      <td>LA</td>\n      <td>LA_BUF_2022_09_08</td>\n      <td>15.666667</td>\n      <td>0.233333</td>\n      <td>41.5</td>\n      <td>52.608333</td>\n      <td>52.683333</td>\n      <td>3.033333</td>\n      <td>0.383333</td>\n    </tr>\n    <tr>\n      <th>14</th>\n      <td>ARI</td>\n      <td>ARI_KC_2022_09_11</td>\n      <td>15.666667</td>\n      <td>0.233333</td>\n      <td>41.5</td>\n      <td>52.608333</td>\n      <td>52.683333</td>\n      <td>3.033333</td>\n      <td>0.383333</td>\n    </tr>\n  </tbody>\n</table>\n</div>"
     },
     "execution_count": 26,
     "metadata": {},
     "output_type": "execute_result"
    }
   ],
   "source": [
    "qbr_df.head(3)"
   ]
  },
  {
   "cell_type": "markdown",
   "id": "de726bb7",
   "metadata": {
    "pycharm": {
     "name": "#%% md\n"
    }
   },
   "source": [
    "#### Import game rosters"
   ]
  },
  {
   "cell_type": "code",
   "execution_count": 27,
   "id": "e31049ae",
   "metadata": {
    "pycharm": {
     "name": "#%%\n"
    },
    "ExecuteTime": {
     "end_time": "2023-12-06T04:42:56.198713Z",
     "start_time": "2023-12-06T04:42:53.549903Z"
    }
   },
   "outputs": [
    {
     "data": {
      "text/plain": "(6202, 36)"
     },
     "execution_count": 27,
     "metadata": {},
     "output_type": "execute_result"
    }
   ],
   "source": [
    "gr_data = nfl.import_rosters(years=seasons)\n",
    "\n",
    "# Clean dataframe using nfl-data-api cleaning function\n",
    "gr_df = nfl.clean_nfl_data(gr_data)\n",
    "\n",
    "gr_df.shape"
   ]
  },
  {
   "cell_type": "code",
   "execution_count": 28,
   "id": "62e38692",
   "metadata": {
    "pycharm": {
     "name": "#%%\n"
    },
    "ExecuteTime": {
     "end_time": "2023-12-06T04:42:56.199226Z",
     "start_time": "2023-12-06T04:42:56.168590Z"
    }
   },
   "outputs": [
    {
     "name": "stdout",
     "output_type": "stream",
     "text": [
      "team count: 32\n"
     ]
    }
   ],
   "source": [
    "print('team count:', gr_df.team.nunique())"
   ]
  },
  {
   "cell_type": "code",
   "execution_count": 29,
   "id": "17b8cf7d",
   "metadata": {
    "pycharm": {
     "name": "#%%\n"
    },
    "ExecuteTime": {
     "end_time": "2023-12-06T04:42:56.414042Z",
     "start_time": "2023-12-06T04:42:56.177970Z"
    }
   },
   "outputs": [
    {
     "data": {
      "text/plain": "     season team position depth_chart_position  jersey_number status   \n647    2023  CAR       OL                    C           56.0    ACT  \\\n\n         player_name first_name last_name birth_date  ...  game_type   \n647  Bradley Bozeman    Bradley   Bozeman 1994-11-24  ...        REG  \\\n\n     status_description_abbr football_name     esb_id gsis_it_id   \n647                      A01       Bradley  BOZ167481      46284  \\\n\n                                 smart_id entry_year rookie_year draft_club   \n647  3200424f-5a16-7481-3ce0-9b84ae6531f2       2018      2018.0        BAL  \\\n\n    draft_number  \n647        215.0  \n\n[1 rows x 36 columns]",
      "text/html": "<div>\n<style scoped>\n    .dataframe tbody tr th:only-of-type {\n        vertical-align: middle;\n    }\n\n    .dataframe tbody tr th {\n        vertical-align: top;\n    }\n\n    .dataframe thead th {\n        text-align: right;\n    }\n</style>\n<table border=\"1\" class=\"dataframe\">\n  <thead>\n    <tr style=\"text-align: right;\">\n      <th></th>\n      <th>season</th>\n      <th>team</th>\n      <th>position</th>\n      <th>depth_chart_position</th>\n      <th>jersey_number</th>\n      <th>status</th>\n      <th>player_name</th>\n      <th>first_name</th>\n      <th>last_name</th>\n      <th>birth_date</th>\n      <th>...</th>\n      <th>game_type</th>\n      <th>status_description_abbr</th>\n      <th>football_name</th>\n      <th>esb_id</th>\n      <th>gsis_it_id</th>\n      <th>smart_id</th>\n      <th>entry_year</th>\n      <th>rookie_year</th>\n      <th>draft_club</th>\n      <th>draft_number</th>\n    </tr>\n  </thead>\n  <tbody>\n    <tr>\n      <th>647</th>\n      <td>2023</td>\n      <td>CAR</td>\n      <td>OL</td>\n      <td>C</td>\n      <td>56.0</td>\n      <td>ACT</td>\n      <td>Bradley Bozeman</td>\n      <td>Bradley</td>\n      <td>Bozeman</td>\n      <td>1994-11-24</td>\n      <td>...</td>\n      <td>REG</td>\n      <td>A01</td>\n      <td>Bradley</td>\n      <td>BOZ167481</td>\n      <td>46284</td>\n      <td>3200424f-5a16-7481-3ce0-9b84ae6531f2</td>\n      <td>2018</td>\n      <td>2018.0</td>\n      <td>BAL</td>\n      <td>215.0</td>\n    </tr>\n  </tbody>\n</table>\n<p>1 rows × 36 columns</p>\n</div>"
     },
     "execution_count": 29,
     "metadata": {},
     "output_type": "execute_result"
    }
   ],
   "source": [
    "# Impute missing height with median by position\n",
    "gr_df['height'] = gr_df.groupby(['position'])['height'].transform(lambda x: x.fillna(x.median()))\n",
    "gr_df['weight'] = gr_df.groupby(['position'])['weight'].transform(lambda x: x.fillna(x.median()))\n",
    "\n",
    "gr_df['weight'] = gr_df['weight'].astype(np.int64)\n",
    "\n",
    "gr_df.sample(1)"
   ]
  },
  {
   "cell_type": "markdown",
   "id": "0573d5d5",
   "metadata": {
    "pycharm": {
     "name": "#%% md\n"
    }
   },
   "source": [
    "#### import depth charts"
   ]
  },
  {
   "cell_type": "raw",
   "source": [
    "dc_data = nfl.import_depth_charts(years=seasons)\n",
    "\n",
    "# Clean dataframe using nfl-data-api cleaning function\n",
    "dc_df = nfl.clean_nfl_data(dc_data)\n",
    "\n",
    "# season + week + away team + home team\n",
    "dc_df['season_week_team'] = dc_df['season'].astype(np.int64).astype(str) + '_' + dc_df['week'].astype(np.int64).astype(str).str.zfill(2) + '_' + dc_df.club_code.astype(str)\n",
    "\n",
    "dc_df.shape"
   ],
   "metadata": {
    "collapsed": false
   },
   "id": "b6a047cbf3a51f1"
  },
  {
   "cell_type": "raw",
   "source": [
    "print('team count:', dc_df.club_code.nunique())"
   ],
   "metadata": {
    "collapsed": false
   },
   "id": "aa2bdc0182473da4"
  },
  {
   "cell_type": "raw",
   "source": [
    "dc_df.sample(1)"
   ],
   "metadata": {
    "collapsed": false
   },
   "id": "bc53cd3511312f42"
  },
  {
   "cell_type": "markdown",
   "id": "63788128",
   "metadata": {
    "pycharm": {
     "name": "#%% md\n"
    }
   },
   "source": [
    "#### Import snap counts"
   ]
  },
  {
   "cell_type": "code",
   "execution_count": 30,
   "id": "3fcedae1",
   "metadata": {
    "pycharm": {
     "name": "#%%\n"
    },
    "ExecuteTime": {
     "end_time": "2023-12-06T04:42:58.502053Z",
     "start_time": "2023-12-06T04:42:56.223269Z"
    }
   },
   "outputs": [
    {
     "data": {
      "text/plain": "(44296, 16)"
     },
     "execution_count": 30,
     "metadata": {},
     "output_type": "execute_result"
    }
   ],
   "source": [
    "sc_data = nfl.import_snap_counts(years=seasons)\n",
    "\n",
    "# Clean dataframe using nfl-data-api cleaning function\n",
    "sc_df = nfl.clean_nfl_data(sc_data)\n",
    "\n",
    "sc_df.shape"
   ]
  },
  {
   "cell_type": "code",
   "execution_count": 31,
   "id": "ce93d9d6",
   "metadata": {
    "pycharm": {
     "name": "#%%\n"
    },
    "ExecuteTime": {
     "end_time": "2023-12-06T04:42:58.502581Z",
     "start_time": "2023-12-06T04:42:58.489640Z"
    }
   },
   "outputs": [
    {
     "name": "stdout",
     "output_type": "stream",
     "text": [
      "team count: 32\n"
     ]
    }
   ],
   "source": [
    "print('team count:', sc_df.team.nunique())"
   ]
  },
  {
   "cell_type": "code",
   "execution_count": 32,
   "id": "0a2453c9",
   "metadata": {
    "pycharm": {
     "name": "#%%\n"
    },
    "ExecuteTime": {
     "end_time": "2023-12-06T04:42:58.666862Z",
     "start_time": "2023-12-06T04:42:58.497670Z"
    }
   },
   "outputs": [
    {
     "data": {
      "text/plain": "              game_id   pfr_game_id  season game_type  week           player   \n3336  2023_03_DAL_ARI  202309240crd    2023       REG     3  Hjalte Froholdt  \\\n7717   2022_06_CAR_LA  202210160ram    2022       REG     6      Riley Dixon   \n\n     pfr_player_id position team opponent  offense_snaps  offense_pct   \n3336      FrohHj00        C  ARI      DAL           61.0          1.0  \\\n7717      DixoRi00        P   LA      CAR            0.0          0.0   \n\n      defense_snaps  defense_pct  st_snaps  st_pct  \n3336            0.0          0.0       6.0    0.24  \n7717            0.0          0.0       9.0    0.35  ",
      "text/html": "<div>\n<style scoped>\n    .dataframe tbody tr th:only-of-type {\n        vertical-align: middle;\n    }\n\n    .dataframe tbody tr th {\n        vertical-align: top;\n    }\n\n    .dataframe thead th {\n        text-align: right;\n    }\n</style>\n<table border=\"1\" class=\"dataframe\">\n  <thead>\n    <tr style=\"text-align: right;\">\n      <th></th>\n      <th>game_id</th>\n      <th>pfr_game_id</th>\n      <th>season</th>\n      <th>game_type</th>\n      <th>week</th>\n      <th>player</th>\n      <th>pfr_player_id</th>\n      <th>position</th>\n      <th>team</th>\n      <th>opponent</th>\n      <th>offense_snaps</th>\n      <th>offense_pct</th>\n      <th>defense_snaps</th>\n      <th>defense_pct</th>\n      <th>st_snaps</th>\n      <th>st_pct</th>\n    </tr>\n  </thead>\n  <tbody>\n    <tr>\n      <th>3336</th>\n      <td>2023_03_DAL_ARI</td>\n      <td>202309240crd</td>\n      <td>2023</td>\n      <td>REG</td>\n      <td>3</td>\n      <td>Hjalte Froholdt</td>\n      <td>FrohHj00</td>\n      <td>C</td>\n      <td>ARI</td>\n      <td>DAL</td>\n      <td>61.0</td>\n      <td>1.0</td>\n      <td>0.0</td>\n      <td>0.0</td>\n      <td>6.0</td>\n      <td>0.24</td>\n    </tr>\n    <tr>\n      <th>7717</th>\n      <td>2022_06_CAR_LA</td>\n      <td>202210160ram</td>\n      <td>2022</td>\n      <td>REG</td>\n      <td>6</td>\n      <td>Riley Dixon</td>\n      <td>DixoRi00</td>\n      <td>P</td>\n      <td>LA</td>\n      <td>CAR</td>\n      <td>0.0</td>\n      <td>0.0</td>\n      <td>0.0</td>\n      <td>0.0</td>\n      <td>9.0</td>\n      <td>0.35</td>\n    </tr>\n  </tbody>\n</table>\n</div>"
     },
     "execution_count": 32,
     "metadata": {},
     "output_type": "execute_result"
    }
   ],
   "source": [
    "sc_df.sample(2)"
   ]
  },
  {
   "cell_type": "markdown",
   "id": "d0cc139e",
   "metadata": {
    "pycharm": {
     "name": "#%% md\n"
    }
   },
   "source": [
    "#### Import combine data"
   ]
  },
  {
   "cell_type": "code",
   "execution_count": 33,
   "id": "199caa44",
   "metadata": {
    "pycharm": {
     "name": "#%%\n"
    },
    "ExecuteTime": {
     "end_time": "2023-12-06T04:42:59.778947Z",
     "start_time": "2023-12-06T04:42:58.516638Z"
    }
   },
   "outputs": [
    {
     "data": {
      "text/plain": "(7999, 18)"
     },
     "execution_count": 33,
     "metadata": {},
     "output_type": "execute_result"
    }
   ],
   "source": [
    "co_data = nfl.import_combine_data(years=draft_years)\n",
    "\n",
    "# Clean dataframe using nfl-data-api cleaning function\n",
    "co_df = nfl.clean_nfl_data(co_data)\n",
    "\n",
    "co_df.shape"
   ]
  },
  {
   "cell_type": "code",
   "execution_count": 34,
   "id": "8188f7e2",
   "metadata": {
    "pycharm": {
     "name": "#%%\n"
    },
    "ExecuteTime": {
     "end_time": "2023-12-06T04:42:59.779488Z",
     "start_time": "2023-12-06T04:42:59.697003Z"
    }
   },
   "outputs": [
    {
     "data": {
      "text/plain": "(6606, 13)"
     },
     "execution_count": 34,
     "metadata": {},
     "output_type": "execute_result"
    }
   ],
   "source": [
    "co_df['pfr_id'].fillna('NULL', inplace = True)\n",
    "co_df = co_df.loc[co_df['pfr_id'] != 'NULL']\n",
    "\n",
    "co_df = co_df.rename(columns={'pfr_id':'pfr_player_id',\n",
    "                              'season':'combine',\n",
    "                              'player_name':'comb_name',\n",
    "                              'school':'comb_school',\n",
    "                              'ht':'comb_ht',\n",
    "                              'wt':'comb_wt',\n",
    "                              'pos':'comb_pos',\n",
    "                              'forty':'comb_forty',\n",
    "                              'bench':'comb_bench',\n",
    "                              'vertical':'comb_vert',\n",
    "                              'broad_jump':'comb_broad',\n",
    "                              'cone':'comb_cone',\n",
    "                              'shuttle':'comb_shut',\n",
    "                              })\n",
    "\n",
    "co_df.drop(['draft_year','draft_team','draft_round','draft_ovr','cfb_id'], axis=1, inplace=True)\n",
    "\n",
    "co_df.shape"
   ]
  },
  {
   "cell_type": "code",
   "execution_count": 35,
   "id": "3f730caf",
   "metadata": {
    "pycharm": {
     "name": "#%%\n"
    },
    "ExecuteTime": {
     "end_time": "2023-12-06T04:42:59.780065Z",
     "start_time": "2023-12-06T04:42:59.733039Z"
    }
   },
   "outputs": [],
   "source": [
    "# Convert height to inches\n",
    "co_df['comb_ht'].fillna('NULL', inplace = True)\n",
    "co_df['comb_ht'] = np.where(co_df['comb_ht'] == 'NULL', '0-0', co_df['comb_ht'])\n",
    "co_df['comb_ht'] = (co_df['comb_ht'].astype(str).str[0]).astype(float) * 12 + (co_df['comb_ht'].astype(str).str[2]).astype(float)"
   ]
  },
  {
   "cell_type": "code",
   "execution_count": 36,
   "id": "8181c857",
   "metadata": {
    "pycharm": {
     "name": "#%%\n"
    },
    "ExecuteTime": {
     "end_time": "2023-12-06T04:42:59.929185Z",
     "start_time": "2023-12-06T04:42:59.771358Z"
    }
   },
   "outputs": [
    {
     "data": {
      "text/plain": "      combine pfr_player_id         comb_name comb_pos comb_school  comb_ht   \n4822     2014      RichCy00  Cyril Richardson       OG      Baylor     77.0  \\\n\n      comb_wt  comb_forty  comb_bench  comb_vert  comb_broad  comb_cone   \n4822    329.0        5.36        25.0       25.5        91.0        7.7  \\\n\n      comb_shut  \n4822       4.83  ",
      "text/html": "<div>\n<style scoped>\n    .dataframe tbody tr th:only-of-type {\n        vertical-align: middle;\n    }\n\n    .dataframe tbody tr th {\n        vertical-align: top;\n    }\n\n    .dataframe thead th {\n        text-align: right;\n    }\n</style>\n<table border=\"1\" class=\"dataframe\">\n  <thead>\n    <tr style=\"text-align: right;\">\n      <th></th>\n      <th>combine</th>\n      <th>pfr_player_id</th>\n      <th>comb_name</th>\n      <th>comb_pos</th>\n      <th>comb_school</th>\n      <th>comb_ht</th>\n      <th>comb_wt</th>\n      <th>comb_forty</th>\n      <th>comb_bench</th>\n      <th>comb_vert</th>\n      <th>comb_broad</th>\n      <th>comb_cone</th>\n      <th>comb_shut</th>\n    </tr>\n  </thead>\n  <tbody>\n    <tr>\n      <th>4822</th>\n      <td>2014</td>\n      <td>RichCy00</td>\n      <td>Cyril Richardson</td>\n      <td>OG</td>\n      <td>Baylor</td>\n      <td>77.0</td>\n      <td>329.0</td>\n      <td>5.36</td>\n      <td>25.0</td>\n      <td>25.5</td>\n      <td>91.0</td>\n      <td>7.7</td>\n      <td>4.83</td>\n    </tr>\n  </tbody>\n</table>\n</div>"
     },
     "execution_count": 36,
     "metadata": {},
     "output_type": "execute_result"
    }
   ],
   "source": [
    "co_df.sample(1)"
   ]
  },
  {
   "cell_type": "markdown",
   "id": "4c845090",
   "metadata": {
    "pycharm": {
     "name": "#%% md\n"
    }
   },
   "source": [
    "#### Import NFL draft selections"
   ]
  },
  {
   "cell_type": "code",
   "execution_count": 37,
   "id": "de2283b8",
   "metadata": {
    "pycharm": {
     "name": "#%%\n"
    },
    "ExecuteTime": {
     "end_time": "2023-12-06T04:43:01.172166Z",
     "start_time": "2023-12-06T04:42:59.788484Z"
    }
   },
   "outputs": [
    {
     "data": {
      "text/plain": "(6130, 36)"
     },
     "execution_count": 37,
     "metadata": {},
     "output_type": "execute_result"
    }
   ],
   "source": [
    "dr_data = nfl.import_draft_picks(years=draft_years)\n",
    "\n",
    "# Clean dataframe using nfl-data-api cleaning function\n",
    "dr_df = nfl.clean_nfl_data(dr_data)\n",
    "\n",
    "dr_df.shape"
   ]
  },
  {
   "cell_type": "code",
   "execution_count": 38,
   "id": "9dc60448",
   "metadata": {
    "pycharm": {
     "name": "#%%\n"
    },
    "ExecuteTime": {
     "end_time": "2023-12-06T04:43:01.257179Z",
     "start_time": "2023-12-06T04:43:01.187096Z"
    }
   },
   "outputs": [
    {
     "name": "stdout",
     "output_type": "stream",
     "text": [
      "team count: 32\n"
     ]
    }
   ],
   "source": [
    "dr_df['team'] = np.where(dr_df['team'] == 'GNB', 'GB', dr_df['team'])\n",
    "dr_df['team'] = np.where(dr_df['team'] == 'KAN', 'KC', dr_df['team'])\n",
    "\n",
    "dr_df['team'] = np.where(dr_df['team'] == 'RAM', 'LA', dr_df['team'])\n",
    "dr_df['team'] = np.where(dr_df['team'] == 'STL', 'LA', dr_df['team'])\n",
    "\n",
    "dr_df['team'] = np.where(dr_df['team'] == 'SDG', 'LAC', dr_df['team'])\n",
    "\n",
    "dr_df['team'] = np.where(dr_df['team'] == 'RAI', 'LV', dr_df['team'])\n",
    "dr_df['team'] = np.where(dr_df['team'] == 'OAK', 'LV', dr_df['team'])\n",
    "dr_df['team'] = np.where(dr_df['team'] == 'LVR', 'LV', dr_df['team'])\n",
    "dr_df['team'] = np.where(dr_df['team'] == 'LAR', 'LV', dr_df['team'])\n",
    "\n",
    "dr_df['team'] = np.where(dr_df['team'] == 'NWE', 'NE', dr_df['team'])\n",
    "dr_df['team'] = np.where(dr_df['team'] == 'NOR', 'NO', dr_df['team'])\n",
    "\n",
    "dr_df['team'] = np.where(dr_df['team'] == 'SFO', 'SF', dr_df['team'])\n",
    "dr_df['team'] = np.where(dr_df['team'] == 'TAM', 'TB', dr_df['team'])\n",
    "\n",
    "print('team count:', dr_df.team.nunique())"
   ]
  },
  {
   "cell_type": "code",
   "execution_count": 39,
   "id": "1c1f849b",
   "metadata": {
    "pycharm": {
     "name": "#%%\n"
    },
    "ExecuteTime": {
     "end_time": "2023-12-06T04:43:01.318594Z",
     "start_time": "2023-12-06T04:43:01.193344Z"
    }
   },
   "outputs": [],
   "source": [
    "# Calculate years in the NFL\n",
    "dr_df['to'].fillna((dr_df['season']-1), inplace=True)\n",
    "\n",
    "dr_df['nfl_years'] = dr_df['to'] - dr_df['season'] + 1"
   ]
  },
  {
   "cell_type": "code",
   "execution_count": 40,
   "id": "4969379f",
   "metadata": {
    "pycharm": {
     "name": "#%%\n"
    },
    "ExecuteTime": {
     "end_time": "2023-12-06T04:43:01.318861Z",
     "start_time": "2023-12-06T04:43:01.201192Z"
    }
   },
   "outputs": [],
   "source": [
    "# Conver HOF to binary\n",
    "dr_df['hof'] = np.where(dr_df['hof'] == True, 1, 0)"
   ]
  },
  {
   "cell_type": "code",
   "execution_count": 41,
   "id": "bc8785b2",
   "metadata": {
    "pycharm": {
     "name": "#%%\n"
    },
    "ExecuteTime": {
     "end_time": "2023-12-06T04:43:01.401778Z",
     "start_time": "2023-12-06T04:43:01.226975Z"
    }
   },
   "outputs": [
    {
     "data": {
      "text/plain": "(5874, 17)"
     },
     "execution_count": 41,
     "metadata": {},
     "output_type": "execute_result"
    }
   ],
   "source": [
    "dr_df['pfr_player_id'].fillna('NULL', inplace = True)\n",
    "dr_df = dr_df.loc[dr_df['pfr_player_id'] != 'NULL']\n",
    "\n",
    "dr_df = dr_df.rename(columns={'season':'draft',\n",
    "                              'team':'draft_team',\n",
    "                              'pfr_player_name':'player_name',\n",
    "                              'probowls':'pro_bowls'})\n",
    "\n",
    "dr_df.drop(['cfb_player_id','gsis_id','w_av','car_av','dr_av','pass_attempts','pass_completions','pass_yards','pass_tds','pass_ints','rush_atts','rush_yards','rush_tds','receptions','rec_yards','rec_tds','def_solo_tackles','def_ints','def_sacks','to'], axis=1, inplace=True)\n",
    "\n",
    "dr_df.shape"
   ]
  },
  {
   "cell_type": "markdown",
   "id": "ac90fd5a",
   "metadata": {
    "pycharm": {
     "name": "#%% md\n"
    }
   },
   "source": [
    "## Join draft data with combine data"
   ]
  },
  {
   "cell_type": "code",
   "execution_count": 42,
   "id": "0fa5e61e",
   "metadata": {
    "pycharm": {
     "name": "#%%\n"
    },
    "ExecuteTime": {
     "end_time": "2023-12-06T04:43:01.402108Z",
     "start_time": "2023-12-06T04:43:01.239176Z"
    }
   },
   "outputs": [
    {
     "name": "stdout",
     "output_type": "stream",
     "text": [
      "combine records: 6606\n",
      "draft records: 5874\n"
     ]
    }
   ],
   "source": [
    "print('combine records:', co_df.shape[0])\n",
    "print('draft records:', dr_df.shape[0])"
   ]
  },
  {
   "cell_type": "code",
   "execution_count": 43,
   "id": "0a770d40",
   "metadata": {
    "pycharm": {
     "name": "#%%\n"
    },
    "ExecuteTime": {
     "end_time": "2023-12-06T04:43:01.448603Z",
     "start_time": "2023-12-06T04:43:01.245544Z"
    }
   },
   "outputs": [
    {
     "data": {
      "text/plain": "(4967, 29)"
     },
     "execution_count": 43,
     "metadata": {},
     "output_type": "execute_result"
    }
   ],
   "source": [
    "draft_df = pd.merge(dr_df, co_df, how='inner', left_on=['pfr_player_id'], right_on = ['pfr_player_id'])\n",
    "\n",
    "draft_df.shape"
   ]
  },
  {
   "cell_type": "code",
   "execution_count": 44,
   "id": "001fa09d",
   "metadata": {
    "pycharm": {
     "name": "#%%\n"
    },
    "ExecuteTime": {
     "end_time": "2023-12-06T04:43:01.469414Z",
     "start_time": "2023-12-06T04:43:01.262635Z"
    }
   },
   "outputs": [
    {
     "data": {
      "text/plain": "(4892, 29)"
     },
     "execution_count": 44,
     "metadata": {},
     "output_type": "execute_result"
    }
   ],
   "source": [
    "draft_df = draft_df.loc[(draft_df['category'] != 'P') & \n",
    "                        (draft_df['category'] != 'K') & \n",
    "                        (draft_df['category'] != 'LS')]\n",
    "\n",
    "draft_df.shape"
   ]
  },
  {
   "cell_type": "code",
   "execution_count": 45,
   "id": "3395b7f8",
   "metadata": {
    "pycharm": {
     "name": "#%%\n"
    },
    "ExecuteTime": {
     "end_time": "2023-12-06T04:43:01.469968Z",
     "start_time": "2023-12-06T04:43:01.274105Z"
    }
   },
   "outputs": [],
   "source": [
    "# Impute missing values\n",
    "draft_df['age'] = draft_df.age.fillna(draft_df.groupby('category').age.transform('median'))\n",
    "draft_df['comb_ht'] = draft_df.comb_ht.fillna(draft_df.groupby('category').comb_ht.transform('median'))\n",
    "draft_df['comb_wt'] = draft_df.comb_wt.fillna(draft_df.groupby('category').comb_wt.transform('median'))\n",
    "draft_df['comb_forty'] = draft_df.comb_forty.fillna(draft_df.groupby('category').comb_forty.transform('median'))\n",
    "draft_df['comb_bench'] = draft_df.comb_bench.fillna(draft_df.groupby('category').comb_bench.transform('median'))\n",
    "draft_df['comb_vert'] = draft_df.comb_vert.fillna(draft_df.groupby('category').comb_vert.transform('median'))\n",
    "draft_df['comb_broad'] = draft_df.comb_broad.fillna(draft_df.groupby('category').comb_broad.transform('median'))\n",
    "draft_df['comb_cone'] = draft_df.comb_cone.fillna(draft_df.groupby('category').comb_cone.transform('median'))\n",
    "draft_df['comb_shut'] = draft_df.comb_shut.fillna(draft_df.groupby('category').comb_shut.transform('median'))\n",
    "draft_df['games'].fillna(0, inplace = True)"
   ]
  },
  {
   "cell_type": "code",
   "execution_count": 46,
   "id": "7032dcf2",
   "metadata": {
    "pycharm": {
     "name": "#%%\n"
    },
    "ExecuteTime": {
     "end_time": "2023-12-06T04:43:01.470379Z",
     "start_time": "2023-12-06T04:43:01.305432Z"
    }
   },
   "outputs": [
    {
     "data": {
      "text/plain": "draft              0\nround              0\npick               0\ndraft_team         0\npfr_player_id      0\nplayer_name        0\nhof                0\nposition           0\ncategory           0\nside               0\ncollege            0\nage                0\nallpro             0\npro_bowls          0\nseasons_started    0\ngames              0\nnfl_years          0\ncombine            0\ncomb_name          0\ncomb_pos           0\ncomb_school        0\ncomb_ht            0\ncomb_wt            0\ncomb_forty         0\ncomb_bench         0\ncomb_vert          0\ncomb_broad         0\ncomb_cone          0\ncomb_shut          0\ndtype: int64"
     },
     "execution_count": 46,
     "metadata": {},
     "output_type": "execute_result"
    }
   ],
   "source": [
    "# Count missing data\n",
    "missing = draft_df.isnull().sum()\n",
    "missing"
   ]
  },
  {
   "cell_type": "code",
   "execution_count": 47,
   "id": "8a960ae6",
   "metadata": {
    "pycharm": {
     "name": "#%%\n"
    },
    "ExecuteTime": {
     "end_time": "2023-12-06T04:43:01.516133Z",
     "start_time": "2023-12-06T04:43:01.332214Z"
    }
   },
   "outputs": [
    {
     "data": {
      "text/plain": "      draft  round  pick draft_team pfr_player_id      player_name  hof   \n325    2001      6   165        CLE      JameMi20  Michael Jameson    0  \\\n589    2003      1    30        LAC      DaviSa21      Sammy Davis    0   \n3137   2015      3    86        ARI      JohnDa08    David Johnson    0   \n4592   2017      2    38        LAC      LampFo00     Forrest Lamp    0   \n4118   2020      7   245         TB      CalaRa00   Raymond Calais    0   \n\n     position category side  ... comb_pos          comb_school  comb_ht   \n325        DB       DB    D  ...        S            Texas A&M     61.0  \\\n589        DB       DB    D  ...       CB            Texas A&M     72.0   \n3137       RB       RB    O  ...       RB           New Mexico     73.0   \n4592        G       OL    O  ...       OG     Western Kentucky     76.0   \n4118       RB       RB    O  ...       RB  Louisiana-Lafayette     68.0   \n\n      comb_wt  comb_forty  comb_bench  comb_vert  comb_broad comb_cone   \n325     186.0        4.50         9.0       34.5       118.0      7.13  \\\n589     186.0        4.42        19.0       40.0       131.0      7.01   \n3137    224.0        4.50        25.0       41.5       127.0      6.82   \n4592    309.0        5.00        34.0       27.5       111.0      7.55   \n4118    188.0        4.42        20.0       37.5       120.0      7.07   \n\n     comb_shut  \n325       4.20  \n589       4.17  \n3137      4.27  \n4592      4.62  \n4118      4.25  \n\n[5 rows x 29 columns]",
      "text/html": "<div>\n<style scoped>\n    .dataframe tbody tr th:only-of-type {\n        vertical-align: middle;\n    }\n\n    .dataframe tbody tr th {\n        vertical-align: top;\n    }\n\n    .dataframe thead th {\n        text-align: right;\n    }\n</style>\n<table border=\"1\" class=\"dataframe\">\n  <thead>\n    <tr style=\"text-align: right;\">\n      <th></th>\n      <th>draft</th>\n      <th>round</th>\n      <th>pick</th>\n      <th>draft_team</th>\n      <th>pfr_player_id</th>\n      <th>player_name</th>\n      <th>hof</th>\n      <th>position</th>\n      <th>category</th>\n      <th>side</th>\n      <th>...</th>\n      <th>comb_pos</th>\n      <th>comb_school</th>\n      <th>comb_ht</th>\n      <th>comb_wt</th>\n      <th>comb_forty</th>\n      <th>comb_bench</th>\n      <th>comb_vert</th>\n      <th>comb_broad</th>\n      <th>comb_cone</th>\n      <th>comb_shut</th>\n    </tr>\n  </thead>\n  <tbody>\n    <tr>\n      <th>325</th>\n      <td>2001</td>\n      <td>6</td>\n      <td>165</td>\n      <td>CLE</td>\n      <td>JameMi20</td>\n      <td>Michael Jameson</td>\n      <td>0</td>\n      <td>DB</td>\n      <td>DB</td>\n      <td>D</td>\n      <td>...</td>\n      <td>S</td>\n      <td>Texas A&amp;M</td>\n      <td>61.0</td>\n      <td>186.0</td>\n      <td>4.50</td>\n      <td>9.0</td>\n      <td>34.5</td>\n      <td>118.0</td>\n      <td>7.13</td>\n      <td>4.20</td>\n    </tr>\n    <tr>\n      <th>589</th>\n      <td>2003</td>\n      <td>1</td>\n      <td>30</td>\n      <td>LAC</td>\n      <td>DaviSa21</td>\n      <td>Sammy Davis</td>\n      <td>0</td>\n      <td>DB</td>\n      <td>DB</td>\n      <td>D</td>\n      <td>...</td>\n      <td>CB</td>\n      <td>Texas A&amp;M</td>\n      <td>72.0</td>\n      <td>186.0</td>\n      <td>4.42</td>\n      <td>19.0</td>\n      <td>40.0</td>\n      <td>131.0</td>\n      <td>7.01</td>\n      <td>4.17</td>\n    </tr>\n    <tr>\n      <th>3137</th>\n      <td>2015</td>\n      <td>3</td>\n      <td>86</td>\n      <td>ARI</td>\n      <td>JohnDa08</td>\n      <td>David Johnson</td>\n      <td>0</td>\n      <td>RB</td>\n      <td>RB</td>\n      <td>O</td>\n      <td>...</td>\n      <td>RB</td>\n      <td>New Mexico</td>\n      <td>73.0</td>\n      <td>224.0</td>\n      <td>4.50</td>\n      <td>25.0</td>\n      <td>41.5</td>\n      <td>127.0</td>\n      <td>6.82</td>\n      <td>4.27</td>\n    </tr>\n    <tr>\n      <th>4592</th>\n      <td>2017</td>\n      <td>2</td>\n      <td>38</td>\n      <td>LAC</td>\n      <td>LampFo00</td>\n      <td>Forrest Lamp</td>\n      <td>0</td>\n      <td>G</td>\n      <td>OL</td>\n      <td>O</td>\n      <td>...</td>\n      <td>OG</td>\n      <td>Western Kentucky</td>\n      <td>76.0</td>\n      <td>309.0</td>\n      <td>5.00</td>\n      <td>34.0</td>\n      <td>27.5</td>\n      <td>111.0</td>\n      <td>7.55</td>\n      <td>4.62</td>\n    </tr>\n    <tr>\n      <th>4118</th>\n      <td>2020</td>\n      <td>7</td>\n      <td>245</td>\n      <td>TB</td>\n      <td>CalaRa00</td>\n      <td>Raymond Calais</td>\n      <td>0</td>\n      <td>RB</td>\n      <td>RB</td>\n      <td>O</td>\n      <td>...</td>\n      <td>RB</td>\n      <td>Louisiana-Lafayette</td>\n      <td>68.0</td>\n      <td>188.0</td>\n      <td>4.42</td>\n      <td>20.0</td>\n      <td>37.5</td>\n      <td>120.0</td>\n      <td>7.07</td>\n      <td>4.25</td>\n    </tr>\n  </tbody>\n</table>\n<p>5 rows × 29 columns</p>\n</div>"
     },
     "execution_count": 47,
     "metadata": {},
     "output_type": "execute_result"
    }
   ],
   "source": [
    "draft_df.sample(5)"
   ]
  },
  {
   "cell_type": "code",
   "execution_count": 48,
   "id": "844b8130",
   "metadata": {
    "pycharm": {
     "name": "#%%\n"
    },
    "ExecuteTime": {
     "end_time": "2023-12-06T04:43:01.820878Z",
     "start_time": "2023-12-06T04:43:01.339264Z"
    }
   },
   "outputs": [],
   "source": [
    "# Export binary classifier dataframe\n",
    "draft_df.to_csv(r'/Users/ttas2/Documents/Python/nfl-machine-learning-models/output_files/nfl_post_processing_draft_data.csv', index=None, header=True)"
   ]
  },
  {
   "cell_type": "markdown",
   "id": "7751f385",
   "metadata": {
    "pycharm": {
     "name": "#%% md\n"
    }
   },
   "source": [
    "## Join play-by-play data with supplemental data sources"
   ]
  },
  {
   "cell_type": "code",
   "execution_count": 49,
   "id": "c432b15c",
   "metadata": {
    "pycharm": {
     "name": "#%%\n"
    },
    "ExecuteTime": {
     "end_time": "2023-12-06T04:43:01.821673Z",
     "start_time": "2023-12-06T04:43:01.412800Z"
    }
   },
   "outputs": [
    {
     "data": {
      "text/plain": "(73067, 385)"
     },
     "execution_count": 49,
     "metadata": {},
     "output_type": "execute_result"
    }
   ],
   "source": [
    "play_df.shape"
   ]
  },
  {
   "cell_type": "code",
   "execution_count": 50,
   "outputs": [
    {
     "name": "stdout",
     "output_type": "stream",
     "text": [
      "['posteam', 'game_alt_id', 'qb_rank', 'qb_pts', 'qb_plays', 'qb_qbr_raw', 'qb_qbr', 'qb_pass', 'qb_run']\n"
     ]
    }
   ],
   "source": [
    "# Print qbr_df columns\n",
    "print(qbr_df.columns.tolist())"
   ],
   "metadata": {
    "collapsed": false,
    "ExecuteTime": {
     "end_time": "2023-12-06T04:43:01.822009Z",
     "start_time": "2023-12-06T04:43:01.420515Z"
    }
   },
   "id": "cdc13c3b5233c616"
  },
  {
   "cell_type": "code",
   "execution_count": 51,
   "outputs": [
    {
     "data": {
      "text/plain": "(926, 9)"
     },
     "execution_count": 51,
     "metadata": {},
     "output_type": "execute_result"
    }
   ],
   "source": [
    "qbr_df.shape"
   ],
   "metadata": {
    "collapsed": false,
    "ExecuteTime": {
     "end_time": "2023-12-06T04:43:01.823838Z",
     "start_time": "2023-12-06T04:43:01.425697Z"
    }
   },
   "id": "cd400ecd316ca70c"
  },
  {
   "cell_type": "code",
   "execution_count": 52,
   "id": "07199e2b",
   "metadata": {
    "pycharm": {
     "name": "#%%\n"
    },
    "ExecuteTime": {
     "end_time": "2023-12-06T04:43:02.083723Z",
     "start_time": "2023-12-06T04:43:01.449608Z"
    }
   },
   "outputs": [
    {
     "data": {
      "text/plain": "(73067, 392)"
     },
     "execution_count": 52,
     "metadata": {},
     "output_type": "execute_result"
    }
   ],
   "source": [
    "# Merge play-by-play and QBR data\n",
    "df = pd.merge(play_df, \n",
    "              qbr_df, \n",
    "              how='left', \n",
    "              on=['game_alt_id','posteam'],\n",
    "              #indicator=True,\n",
    "              )\n",
    "\n",
    "df.shape"
   ]
  },
  {
   "cell_type": "code",
   "execution_count": 53,
   "outputs": [
    {
     "data": {
      "text/plain": "477"
     },
     "execution_count": 53,
     "metadata": {},
     "output_type": "execute_result"
    }
   ],
   "source": [
    "df.game_alt_id.nunique()"
   ],
   "metadata": {
    "collapsed": false,
    "ExecuteTime": {
     "end_time": "2023-12-06T04:43:02.086816Z",
     "start_time": "2023-12-06T04:43:01.640213Z"
    }
   },
   "id": "8a26908f9c46df"
  },
  {
   "cell_type": "code",
   "execution_count": 54,
   "id": "2dfd43a9",
   "metadata": {
    "pycharm": {
     "name": "#%%\n"
    },
    "ExecuteTime": {
     "end_time": "2023-12-06T04:43:02.087194Z",
     "start_time": "2023-12-06T04:43:01.650070Z"
    }
   },
   "outputs": [
    {
     "name": "stdout",
     "output_type": "stream",
     "text": [
      "['play_id', 'game_id', 'old_game_id', 'game_alt_id', 'home_team', 'away_team', 'season_type', 'week', 'posteam', 'posteam_type', 'defteam', 'side_of_field', 'yardline_100', 'game_date', 'quarter_seconds_remaining', 'half_seconds_remaining', 'game_seconds_remaining', 'game_half', 'quarter_end', 'drive', 'sp', 'qtr', 'down', 'goal_to_go', 'time', 'yrdln', 'ydstogo', 'ydsnet', 'desc', 'play_type', 'yards_gained', 'shotgun', 'no_huddle', 'qb_dropback', 'qb_kneel', 'qb_spike', 'qb_scramble', 'pass_length', 'pass_location', 'air_yards', 'yards_after_catch', 'run_location', 'run_gap', 'field_goal_result', 'kick_distance', 'extra_point_result', 'two_point_conv_result', 'home_timeouts_remaining', 'away_timeouts_remaining', 'timeout', 'timeout_team', 'td_team', 'td_player_name', 'td_player_id', 'posteam_timeouts_remaining', 'defteam_timeouts_remaining', 'total_home_score', 'total_away_score', 'posteam_score', 'defteam_score', 'score_differential', 'posteam_score_post', 'defteam_score_post', 'score_differential_post', 'no_score_prob', 'opp_fg_prob', 'opp_safety_prob', 'opp_td_prob', 'fg_prob', 'safety_prob', 'td_prob', 'extra_point_prob', 'two_point_conversion_prob', 'ep', 'epa', 'total_home_epa', 'total_away_epa', 'total_home_rush_epa', 'total_away_rush_epa', 'total_home_pass_epa', 'total_away_pass_epa', 'air_epa', 'yac_epa', 'comp_air_epa', 'comp_yac_epa', 'total_home_comp_air_epa', 'total_away_comp_air_epa', 'total_home_comp_yac_epa', 'total_away_comp_yac_epa', 'total_home_raw_air_epa', 'total_away_raw_air_epa', 'total_home_raw_yac_epa', 'total_away_raw_yac_epa', 'wp', 'def_wp', 'home_wp', 'away_wp', 'wpa', 'vegas_wpa', 'vegas_home_wpa', 'home_wp_post', 'away_wp_post', 'vegas_wp', 'vegas_home_wp', 'total_home_rush_wpa', 'total_away_rush_wpa', 'total_home_pass_wpa', 'total_away_pass_wpa', 'air_wpa', 'yac_wpa', 'comp_air_wpa', 'comp_yac_wpa', 'total_home_comp_air_wpa', 'total_away_comp_air_wpa', 'total_home_comp_yac_wpa', 'total_away_comp_yac_wpa', 'total_home_raw_air_wpa', 'total_away_raw_air_wpa', 'total_home_raw_yac_wpa', 'total_away_raw_yac_wpa', 'punt_blocked', 'first_down_rush', 'first_down_pass', 'first_down_penalty', 'third_down_converted', 'third_down_failed', 'fourth_down_converted', 'fourth_down_failed', 'incomplete_pass', 'touchback', 'interception', 'punt_inside_twenty', 'punt_in_endzone', 'punt_out_of_bounds', 'punt_downed', 'punt_fair_catch', 'kickoff_inside_twenty', 'kickoff_in_endzone', 'kickoff_out_of_bounds', 'kickoff_downed', 'kickoff_fair_catch', 'fumble_forced', 'fumble_not_forced', 'fumble_out_of_bounds', 'solo_tackle', 'safety', 'penalty', 'tackled_for_loss', 'fumble_lost', 'own_kickoff_recovery', 'own_kickoff_recovery_td', 'qb_hit', 'rush_attempt', 'pass_attempt', 'sack', 'touchdown', 'pass_touchdown', 'rush_touchdown', 'return_touchdown', 'extra_point_attempt', 'two_point_attempt', 'field_goal_attempt', 'kickoff_attempt', 'punt_attempt', 'fumble', 'complete_pass', 'assist_tackle', 'lateral_reception', 'lateral_rush', 'lateral_return', 'lateral_recovery', 'passer_player_id', 'passer_player_name', 'passing_yards', 'receiver_player_id', 'receiver_player_name', 'receiving_yards', 'rusher_player_id', 'rusher_player_name', 'rushing_yards', 'lateral_receiver_player_id', 'lateral_receiver_player_name', 'lateral_receiving_yards', 'lateral_rusher_player_id', 'lateral_rusher_player_name', 'lateral_rushing_yards', 'lateral_sack_player_id', 'lateral_sack_player_name', 'interception_player_id', 'interception_player_name', 'lateral_interception_player_id', 'lateral_interception_player_name', 'punt_returner_player_id', 'punt_returner_player_name', 'lateral_punt_returner_player_id', 'lateral_punt_returner_player_name', 'kickoff_returner_player_name', 'kickoff_returner_player_id', 'lateral_kickoff_returner_player_id', 'lateral_kickoff_returner_player_name', 'punter_player_id', 'punter_player_name', 'kicker_player_name', 'kicker_player_id', 'own_kickoff_recovery_player_id', 'own_kickoff_recovery_player_name', 'blocked_player_id', 'blocked_player_name', 'tackle_for_loss_1_player_id', 'tackle_for_loss_1_player_name', 'tackle_for_loss_2_player_id', 'tackle_for_loss_2_player_name', 'qb_hit_1_player_id', 'qb_hit_1_player_name', 'qb_hit_2_player_id', 'qb_hit_2_player_name', 'forced_fumble_player_1_team', 'forced_fumble_player_1_player_id', 'forced_fumble_player_1_player_name', 'forced_fumble_player_2_team', 'forced_fumble_player_2_player_id', 'forced_fumble_player_2_player_name', 'solo_tackle_1_team', 'solo_tackle_2_team', 'solo_tackle_1_player_id', 'solo_tackle_2_player_id', 'solo_tackle_1_player_name', 'solo_tackle_2_player_name', 'assist_tackle_1_player_id', 'assist_tackle_1_player_name', 'assist_tackle_1_team', 'assist_tackle_2_player_id', 'assist_tackle_2_player_name', 'assist_tackle_2_team', 'assist_tackle_3_player_id', 'assist_tackle_3_player_name', 'assist_tackle_3_team', 'assist_tackle_4_player_id', 'assist_tackle_4_player_name', 'assist_tackle_4_team', 'tackle_with_assist', 'tackle_with_assist_1_player_id', 'tackle_with_assist_1_player_name', 'tackle_with_assist_1_team', 'tackle_with_assist_2_player_id', 'tackle_with_assist_2_player_name', 'tackle_with_assist_2_team', 'pass_defense_1_player_id', 'pass_defense_1_player_name', 'pass_defense_2_player_id', 'pass_defense_2_player_name', 'fumbled_1_team', 'fumbled_1_player_id', 'fumbled_1_player_name', 'fumbled_2_player_id', 'fumbled_2_player_name', 'fumbled_2_team', 'fumble_recovery_1_team', 'fumble_recovery_1_yards', 'fumble_recovery_1_player_id', 'fumble_recovery_1_player_name', 'fumble_recovery_2_team', 'fumble_recovery_2_yards', 'fumble_recovery_2_player_id', 'fumble_recovery_2_player_name', 'sack_player_id', 'sack_player_name', 'half_sack_1_player_id', 'half_sack_1_player_name', 'half_sack_2_player_id', 'half_sack_2_player_name', 'return_team', 'return_yards', 'penalty_team', 'penalty_player_id', 'penalty_player_name', 'penalty_yards', 'replay_or_challenge', 'replay_or_challenge_result', 'penalty_type', 'defensive_two_point_attempt', 'defensive_two_point_conv', 'defensive_extra_point_attempt', 'defensive_extra_point_conv', 'safety_player_name', 'safety_player_id', 'season', 'cp', 'cpoe', 'series', 'series_success', 'series_result', 'order_sequence', 'start_time', 'time_of_day', 'stadium', 'weather', 'nfl_api_id', 'play_clock', 'play_deleted', 'play_type_nfl', 'special_teams_play', 'st_play_type', 'end_clock_time', 'end_yard_line', 'fixed_drive', 'fixed_drive_result', 'drive_real_start_time', 'drive_play_count', 'drive_time_of_possession', 'drive_first_downs', 'drive_inside20', 'drive_ended_with_score', 'drive_quarter_start', 'drive_quarter_end', 'drive_yards_penalized', 'drive_start_transition', 'drive_end_transition', 'drive_game_clock_start', 'drive_game_clock_end', 'drive_start_yard_line', 'drive_end_yard_line', 'drive_play_id_started', 'drive_play_id_ended', 'away_score', 'home_score', 'location', 'result', 'total', 'spread_line', 'total_line', 'div_game', 'roof', 'surface', 'temp', 'wind', 'home_coach', 'away_coach', 'stadium_id', 'game_stadium', 'aborted_play', 'success', 'passer', 'passer_jersey_number', 'rusher', 'rusher_jersey_number', 'receiver', 'receiver_jersey_number', 'pass', 'rush', 'first_down', 'special', 'play', 'passer_id', 'rusher_id', 'receiver_id', 'name', 'jersey_number', 'id', 'fantasy_player_name', 'fantasy_player_id', 'fantasy', 'fantasy_id', 'out_of_bounds', 'home_opening_kickoff', 'qb_epa', 'xyac_epa', 'xyac_mean_yardage', 'xyac_median_yardage', 'xyac_success', 'xyac_fd', 'xpass', 'pass_oe', 'nflverse_game_id', 'possession_team', 'offense_formation', 'offense_personnel', 'defenders_in_box', 'defense_personnel', 'number_of_pass_rushers', 'players_on_play', 'offense_players', 'defense_players', 'n_offense', 'n_defense', 'qb_rank', 'qb_pts', 'qb_plays', 'qb_qbr_raw', 'qb_qbr', 'qb_pass', 'qb_run']\n"
     ]
    }
   ],
   "source": [
    "# Print column names\n",
    "print(df.columns.tolist())"
   ]
  },
  {
   "cell_type": "code",
   "execution_count": 55,
   "outputs": [],
   "source": [
    "# Fillna for qb_rank\n",
    "df['qb_rank'].fillna(df.qb_rank.median(), inplace=True)\n",
    "df['qb_pts'].fillna(df.qb_pts.median(), inplace=True)\n",
    "df['qb_plays'].fillna(df.qb_plays.median(), inplace=True)\n",
    "df['qb_qbr_raw'].fillna(df.qb_qbr_raw.median(), inplace=True)\n",
    "df['qb_qbr'].fillna(df.qb_qbr.median(), inplace=True)\n",
    "df['qb_pass'].fillna(df.qb_pass.median(), inplace=True)\n",
    "df['qb_run'].fillna(df.qb_run.median(), inplace=True)"
   ],
   "metadata": {
    "collapsed": false,
    "ExecuteTime": {
     "end_time": "2023-12-06T04:43:02.087325Z",
     "start_time": "2023-12-06T04:43:01.655357Z"
    }
   },
   "id": "45b083e4cab652ea"
  },
  {
   "cell_type": "markdown",
   "id": "90a8726d",
   "metadata": {
    "pycharm": {
     "name": "#%% md\n"
    }
   },
   "source": [
    "# _______________\n",
    "## Primary play-by-play filters"
   ]
  },
  {
   "cell_type": "code",
   "execution_count": 56,
   "id": "64a55058",
   "metadata": {
    "pycharm": {
     "name": "#%%\n"
    },
    "ExecuteTime": {
     "end_time": "2023-12-06T04:43:07.430582Z",
     "start_time": "2023-12-06T04:43:01.669213Z"
    }
   },
   "outputs": [
    {
     "data": {
      "text/plain": "(59173, 392)"
     },
     "execution_count": 56,
     "metadata": {},
     "output_type": "execute_result"
    }
   ],
   "source": [
    "# Exclude columns with the following records\n",
    "df = df.loc[~(df['desc'].str.startswith(\"END |END_|Two-Minute|Two Minute|Two minute|Two-minute|Two minute|Two-min\"))]\n",
    "\n",
    "# Exclude columns with specific key words\n",
    "df = df.loc[~(df['desc'].str.contains(\"Captains:|CAPTAINS:|Captians:|Captains #|Captians #\"))]\n",
    "# df = df.loc[~(df['desc'].str.contains(\"substitution infraction\"))]\n",
    "df = df.loc[~(df['desc'].str.contains(\"Two-Minute Warning\"))]\n",
    "df = df.loc[~(df['desc'].str.contains(\"game has been suspended|game has resumed|Game was resumed\"))]\n",
    "df = df.loc[~(df['desc'].str.contains(\"Game delayed|game delayed|Game suspended|Game was resumed\"))]\n",
    "df = df.loc[~(df['desc'].str.contains(\"no play run|Humidity|weather delay|severe weather\"))]\n",
    "# df = df.loc[df['qtr'] <= 4.0]\n",
    "df = df.loc[df['down'] >= 1.0]\n",
    "df = df.loc[df['special_teams_play'] == 0]\n",
    "df = df.loc[df['season_type'] != 'PRE']\n",
    "df = df.loc[~(df['play_type'].isin(['punt','kickoff','extra_point','field_goal','qb_kneel','qb_spike']))]\n",
    "df = df.loc[df['aborted_play'] == 0]\n",
    "df = df.loc[df['play_deleted'] == 0]\n",
    "df = df.loc[~df['drive'].isnull()]\n",
    "df = df.loc[~(df['offense_personnel'].astype(str).str.contains(\"LS\"))]\n",
    "\n",
    "df.shape"
   ]
  },
  {
   "cell_type": "code",
   "execution_count": 57,
   "outputs": [
    {
     "name": "stdout",
     "output_type": "stream",
     "text": [
      "Single value columns: Index(['quarter_end', 'qb_kneel', 'qb_spike', 'extra_point_prob',\n",
      "       'two_point_conversion_prob', 'punt_blocked', 'punt_inside_twenty',\n",
      "       'punt_in_endzone', 'punt_out_of_bounds', 'punt_downed',\n",
      "       'punt_fair_catch', 'kickoff_inside_twenty', 'kickoff_in_endzone',\n",
      "       'kickoff_out_of_bounds', 'kickoff_downed', 'kickoff_fair_catch',\n",
      "       'own_kickoff_recovery', 'own_kickoff_recovery_td',\n",
      "       'extra_point_attempt', 'two_point_attempt', 'field_goal_attempt',\n",
      "       'kickoff_attempt', 'punt_attempt', 'tackle_with_assist_2_player_id',\n",
      "       'tackle_with_assist_2_player_name', 'tackle_with_assist_2_team',\n",
      "       'defensive_two_point_attempt', 'defensive_two_point_conv',\n",
      "       'defensive_extra_point_attempt', 'defensive_extra_point_conv',\n",
      "       'play_deleted', 'special_teams_play', 'aborted_play', 'special'],\n",
      "      dtype='object')\n",
      "Remaining columns: 327\n"
     ]
    }
   ],
   "source": [
    "# Print a list of columns with only one value and then drop them\n",
    "single_value_columns = df.loc[:,df.nunique() == 1].columns\n",
    "df = df.loc[:,df.nunique() > 1]\n",
    "\n",
    "print('Single value columns:', single_value_columns)\n",
    "print('Remaining columns:', df.shape[1])"
   ],
   "metadata": {
    "collapsed": false,
    "ExecuteTime": {
     "end_time": "2023-12-06T04:43:10.448150Z",
     "start_time": "2023-12-06T04:43:07.424372Z"
    }
   },
   "id": "898a5775e5fd31b4"
  },
  {
   "cell_type": "code",
   "execution_count": 58,
   "id": "2557cf9e",
   "metadata": {
    "pycharm": {
     "name": "#%%\n"
    },
    "ExecuteTime": {
     "end_time": "2023-12-06T04:43:10.962667Z",
     "start_time": "2023-12-06T04:43:10.437587Z"
    }
   },
   "outputs": [],
   "source": [
    "# Convert missing values to Null\n",
    "df = df.fillna(value=np.nan)"
   ]
  },
  {
   "cell_type": "code",
   "execution_count": 59,
   "outputs": [
    {
     "data": {
      "text/plain": "(59173, 327)"
     },
     "execution_count": 59,
     "metadata": {},
     "output_type": "execute_result"
    }
   ],
   "source": [
    "# Convert field to datetime format\n",
    "df['game_date']= pd.to_datetime(df['game_date'])\n",
    "\n",
    "# Sort dataframe\n",
    "df = df.sort_values(by=['posteam','game_date','play'], ascending=True)\n",
    "\n",
    "df.shape"
   ],
   "metadata": {
    "collapsed": false,
    "ExecuteTime": {
     "end_time": "2023-12-06T04:43:11.245311Z",
     "start_time": "2023-12-06T04:43:10.964508Z"
    }
   },
   "id": "842b1e391a959cbf"
  },
  {
   "cell_type": "markdown",
   "source": [
    "## PERSONNEL FEATURES"
   ],
   "metadata": {
    "collapsed": false
   },
   "id": "1dfa7a0e"
  },
  {
   "cell_type": "code",
   "execution_count": 60,
   "outputs": [
    {
     "data": {
      "text/plain": "0.018251567437851723"
     },
     "execution_count": 60,
     "metadata": {},
     "output_type": "execute_result"
    }
   ],
   "source": [
    "df['report_eligible'] = np.where(df['desc'].str.find('as eligible')>= 0, 1, 0)\n",
    "\n",
    "df.report_eligible.mean()"
   ],
   "metadata": {
    "collapsed": false,
    "ExecuteTime": {
     "end_time": "2023-12-06T04:43:11.362811Z",
     "start_time": "2023-12-06T04:43:11.238301Z"
    }
   },
   "id": "b5584191ef9444fc"
  },
  {
   "cell_type": "code",
   "execution_count": 61,
   "outputs": [],
   "source": [
    "# Remove commas from strings\n",
    "df['offense_personnel'] = df['offense_personnel'].str.replace(',', ', ').str.replace('  ',' ').str.replace(',', '').str.strip()\n",
    "df['defense_personnel'] = df['defense_personnel'].str.replace(',', ', ').str.replace('  ',' ').str.replace(',', '').str.strip()\n",
    "\n",
    "# Impute personnel with modes\n",
    "df['offense_personnel'].fillna(df['offense_personnel'].mode()[0], inplace=True)\n",
    "df['defense_personnel'].fillna(df['defense_personnel'].mode()[0], inplace=True)"
   ],
   "metadata": {
    "collapsed": false,
    "ExecuteTime": {
     "end_time": "2023-12-06T04:43:11.578187Z",
     "start_time": "2023-12-06T04:43:11.337344Z"
    }
   },
   "id": "829a9585d59e901b"
  },
  {
   "cell_type": "code",
   "execution_count": 62,
   "outputs": [],
   "source": [
    "# Offensive personnel counts\n",
    "df['off_rb_count'] = df['offense_personnel'].str.extract('(\\d+) RB').fillna(0).astype(int)\n",
    "df['off_te_count'] = df['offense_personnel'].str.extract('(\\d+) TE').fillna(0).astype(int)\n",
    "df['off_wr_count'] = df['offense_personnel'].str.extract('(\\d+) WR').fillna(0).astype(int)\n",
    "df['off_hb_count'] = df['off_rb_count'] + df['off_te_count']\n",
    "\n",
    "df['off_ol_count'] = df['offense_personnel'].str.extract('(\\d+) OL').fillna(5).astype(int)\n",
    "df['off_ol_count'] = np.where((df['off_ol_count'] == 5) & (df['report_eligible'] == 1), 6, df['off_ol_count']) \n",
    "\n",
    "# Defensive personnel counts\n",
    "df['def_dl_count'] = df['defense_personnel'].str.extract('(\\d+) DL').fillna(0).astype(int)\n",
    "df['def_lb_count'] = df['defense_personnel'].str.extract('(\\d+) LB').fillna(0).astype(int)\n",
    "df['def_db_count'] = df['defense_personnel'].str.extract('(\\d+) DB').fillna(0).astype(int)\n",
    "\n",
    "# Calculate personnel ratios\n",
    "df['wr_to_db_ratio'] = df['off_wr_count'] / df['def_db_count']\n",
    "df['hb_to_lb_ratio'] = df['off_hb_count'] / df['def_lb_count']\n",
    "df['ol_to_dl_ratio'] = df['off_ol_count'] / df['def_dl_count']\n",
    "\n",
    "# Convert inf to 0\n",
    "df['wr_to_db_ratio'] = np.where((df['off_wr_count'] > 0) & (df['def_db_count'] == 0), df['off_wr_count'], \n",
    "                                np.where((df['def_db_count'] > 0) & (df['off_wr_count'] == 0), df['def_db_count'],df['wr_to_db_ratio']))\n",
    "\n",
    "df['hb_to_lb_ratio'] = np.where((df['off_hb_count'] > 0) & (df['def_lb_count'] == 0), df['off_hb_count'], \n",
    "                                np.where((df['def_lb_count'] > 0) & (df['off_hb_count'] == 0), df['def_lb_count'], df['hb_to_lb_ratio']))\n",
    "\n",
    "df['ol_to_dl_ratio'] = np.where((df['off_ol_count'] > 0) & (df['def_dl_count'] == 0), df['off_ol_count'], \n",
    "                                np.where((df['def_dl_count'] > 0) & (df['off_ol_count'] == 0), df['def_dl_count'], df['ol_to_dl_ratio']))\n",
    "\n",
    "# Impute missing values\n",
    "df['wr_to_db_ratio'].fillna(df['wr_to_db_ratio'].median(), inplace=True)\n",
    "df['hb_to_lb_ratio'].fillna(df['hb_to_lb_ratio'].median(), inplace=True)\n",
    "df['ol_to_dl_ratio'].fillna(df['ol_to_dl_ratio'].median(), inplace=True)"
   ],
   "metadata": {
    "collapsed": false,
    "ExecuteTime": {
     "end_time": "2023-12-06T04:43:12.291690Z",
     "start_time": "2023-12-06T04:43:11.546484Z"
    }
   },
   "id": "271ca72e0eed6dd4"
  },
  {
   "cell_type": "markdown",
   "source": [
    "## MODIFY DATAFRAME"
   ],
   "metadata": {
    "collapsed": false
   },
   "id": "5a6a04437b294076"
  },
  {
   "cell_type": "code",
   "execution_count": 63,
   "outputs": [],
   "source": [
    "# Impute missing values\n",
    "df['time_of_day'].fillna(method='ffill', inplace=True)\n",
    "df['quarter_seconds_remaining'].fillna(method='bfill', inplace=True)\n",
    "df['half_seconds_remaining'].fillna(method='bfill', inplace=True)\n",
    "df['game_seconds_remaining'].fillna(method='bfill', inplace=True)\n",
    "df['wp'].fillna(method='bfill', inplace=True)\n",
    "df['def_wp'].fillna(method='bfill', inplace=True)\n"
   ],
   "metadata": {
    "collapsed": false,
    "ExecuteTime": {
     "end_time": "2023-12-06T04:43:12.328500Z",
     "start_time": "2023-12-06T04:43:12.292465Z"
    }
   },
   "id": "4c090210"
  },
  {
   "cell_type": "code",
   "execution_count": 64,
   "id": "b780f49d",
   "metadata": {
    "pycharm": {
     "name": "#%%\n"
    },
    "ExecuteTime": {
     "end_time": "2023-12-06T04:43:18.612715Z",
     "start_time": "2023-12-06T04:43:12.321855Z"
    }
   },
   "outputs": [],
   "source": [
    "# Strip all whitespace from strings\n",
    "df = df.applymap(lambda x: x.strip() if isinstance(x, str) else x)\n",
    "\n",
    "# Strips all objects in dataframe\n",
    "df = df.apply(lambda x: x.str.strip() if x.dtype == \"object\" else x)"
   ]
  },
  {
   "cell_type": "code",
   "execution_count": 65,
   "id": "40bb776b",
   "metadata": {
    "pycharm": {
     "name": "#%%\n"
    },
    "ExecuteTime": {
     "end_time": "2023-12-06T04:43:18.712388Z",
     "start_time": "2023-12-06T04:43:18.635425Z"
    }
   },
   "outputs": [],
   "source": [
    "# Impute missing values\n",
    "df['play_type'].fillna('no_play', inplace = True)\n",
    "df['play_type_nfl'].fillna('NO_PLAY', inplace = True)\n",
    "df['sp'].fillna(0, inplace = True)\n",
    "df['qtr'].fillna(0, inplace = True)\n",
    "df['goal_to_go'].fillna(0, inplace = True)\n",
    "df['ydstogo'].fillna(0, inplace = True) \n",
    "df['ydsnet'].fillna(0, inplace = True)\n",
    "df['shotgun'].fillna(0, inplace = True)\n",
    "df['no_huddle'].fillna(0, inplace = True)\n",
    "df['qb_dropback'].fillna(0, inplace = True)\n",
    "df['qb_scramble'].fillna(0, inplace = True)\n",
    "df['yards_after_catch'].fillna(0, inplace = True)\n",
    "df['home_timeouts_remaining'].fillna(0, inplace = True)\n",
    "df['away_timeouts_remaining'].fillna(0, inplace = True)\n",
    "df['timeout'].fillna(0, inplace = True)\n",
    "df['posteam_timeouts_remaining'].fillna(0, inplace = True) \n",
    "df['defteam_timeouts_remaining'].fillna(0, inplace = True)\n",
    "df['total_home_score'].fillna(0, inplace = True)\n",
    "df['total_away_score'].fillna(0, inplace = True)\n",
    "df['posteam_score'].fillna(0, inplace = True) \n",
    "df['defteam_score'].fillna(0, inplace = True)\n",
    "df['score_differential'].fillna(0, inplace = True)\n",
    "df['posteam_score_post'].fillna(0, inplace = True)\n",
    "df['defteam_score_post'].fillna(0, inplace = True)\n",
    "df['score_differential_post'].fillna(0, inplace = True)\n",
    "df['first_down_rush'].fillna(0, inplace = True)\n",
    "df['first_down_pass'].fillna(0, inplace = True)\n",
    "df['first_down_penalty'].fillna(0, inplace = True)\n",
    "df['third_down_converted'].fillna(0, inplace = True)\n",
    "df['third_down_failed'].fillna(0, inplace = True)\n",
    "df['fourth_down_converted'].fillna(0, inplace = True)\n",
    "df['fourth_down_failed'].fillna(0, inplace = True)\n",
    "df['incomplete_pass'].fillna(0, inplace = True)\n",
    "df['touchback'].fillna(0, inplace = True)\n",
    "df['interception'].fillna(0, inplace = True)\n",
    "df['fumble_forced'].fillna(0, inplace = True)\n",
    "df['fumble_not_forced'].fillna(0, inplace = True)\n",
    "df['fumble_out_of_bounds'].fillna(0, inplace = True)\n",
    "df['solo_tackle'].fillna(0, inplace = True)\n",
    "df['penalty'].fillna(0, inplace = True)\n",
    "df['tackled_for_loss'].fillna(0, inplace = True)\n",
    "df['fumble'].fillna(0, inplace = True)\n",
    "df['fumble_lost'].fillna(0, inplace = True)\n",
    "df['qb_hit'].fillna(0, inplace = True)\n",
    "df['rush_attempt'].fillna(0, inplace = True)\n",
    "df['pass_attempt'].fillna(0, inplace = True)\n",
    "df['sack'].fillna(0, inplace = True)\n",
    "df['safety'].fillna(0, inplace = True)\n",
    "df['touchdown'].fillna(0, inplace = True)\n",
    "df['pass_touchdown'].fillna(0, inplace = True)\n",
    "df['rush_touchdown'].fillna(0, inplace = True)\n",
    "df['return_touchdown'].fillna(0, inplace = True)\n",
    "df['complete_pass'].fillna(0, inplace = True)\n",
    "df['assist_tackle'].fillna(0, inplace = True)\n",
    "df['lateral_reception'].fillna(0, inplace = True)\n",
    "df['lateral_rush'].fillna(0, inplace = True)\n",
    "df['lateral_return'].fillna(0, inplace = True)\n",
    "df['lateral_recovery'].fillna(0, inplace = True)\n",
    "df['passing_yards'].fillna(0, inplace = True)\n",
    "df['receiving_yards'].fillna(0, inplace = True)\n",
    "df['rushing_yards'].fillna(0, inplace = True)\n",
    "df['lateral_receiving_yards'].fillna(0, inplace = True)\n",
    "df['lateral_rushing_yards'].fillna(0, inplace = True)\n",
    "df['tackle_with_assist'].fillna(0, inplace = True)\n",
    "df['return_yards'].fillna(0, inplace = True)\n",
    "df['replay_or_challenge'].fillna(0, inplace = True)\n",
    "df['series_success'].fillna(0, inplace = True)\n",
    "df['order_sequence'].fillna(0, inplace = True)\n",
    "df['fixed_drive'].fillna(0, inplace = True)\n",
    "df['drive_play_count'].fillna(0, inplace = True)\n",
    "df['drive_first_downs'].fillna(0, inplace = True)\n",
    "df['drive_inside20'].fillna(0, inplace = True)\n",
    "df['drive_ended_with_score'].fillna(0, inplace = True)\n",
    "df['drive_quarter_start'].fillna(0, inplace = True)\n",
    "df['drive_quarter_end'].fillna(0, inplace = True)\n",
    "df['drive_yards_penalized'].fillna(0, inplace = True)\n",
    "df['drive_play_id_started'].fillna(0, inplace = True)\n",
    "df['drive_play_id_ended'].fillna(0, inplace = True)\n",
    "df['success'].fillna(0, inplace = True)\n",
    "df['pass'].fillna(0, inplace = True)\n",
    "df['rush'].fillna(0, inplace = True)\n",
    "df['first_down'].fillna(0, inplace = True)\n",
    "df['play'].fillna(0, inplace = True)\n",
    "df['out_of_bounds'].fillna(0, inplace = True)\n",
    "df['home_opening_kickoff'].fillna(0, inplace = True)\n",
    "df['fumble_recovery_1_yards'].fillna(0, inplace = True)\n",
    "df['fumble_recovery_2_yards'].fillna(0, inplace = True)\n",
    "df['penalty_yards'].fillna(0, inplace = True)"
   ]
  },
  {
   "cell_type": "code",
   "execution_count": 66,
   "id": "f6e57cd8",
   "metadata": {
    "pycharm": {
     "name": "#%%\n"
    },
    "ExecuteTime": {
     "end_time": "2023-12-06T04:43:18.868570Z",
     "start_time": "2023-12-06T04:43:18.669841Z"
    }
   },
   "outputs": [
    {
     "data": {
      "text/plain": "(59173, 339)"
     },
     "execution_count": 66,
     "metadata": {},
     "output_type": "execute_result"
    }
   ],
   "source": [
    "# Convert to integer\n",
    "df['play_id'] = df['play_id'].astype(int)\n",
    "df['quarter_seconds_remaining'] = df['quarter_seconds_remaining'].astype(int)\n",
    "df['half_seconds_remaining'] = df['half_seconds_remaining'].astype(int)\n",
    "df['game_seconds_remaining'] = df['game_seconds_remaining'].astype(int)\n",
    "df['sp'] = df['sp'].astype(int)\n",
    "df['qtr'] = df['qtr'].astype(int)\n",
    "df['goal_to_go'] = df['goal_to_go'].astype(int)\n",
    "df['ydstogo'] = df['ydstogo'].astype(int)\n",
    "# df['ydsnet'] = df['ydsnet'].astype(int)\n",
    "df['shotgun'] = df['shotgun'].astype(int)\n",
    "df['no_huddle'] = df['no_huddle'].astype(int)\n",
    "df['qb_dropback'] = df['qb_dropback'].astype(int)\n",
    "df['qb_scramble'] = df['qb_scramble'].astype(int)\n",
    "df['yards_after_catch'] = df['yards_after_catch'].astype(int)\n",
    "df['home_timeouts_remaining'] = df['home_timeouts_remaining'].astype(int)\n",
    "df['away_timeouts_remaining'] = df['away_timeouts_remaining'].astype(int)\n",
    "df['timeout'] = df['timeout'].astype(int)\n",
    "df['posteam_timeouts_remaining'] = df['posteam_timeouts_remaining'].astype(int)\n",
    "df['defteam_timeouts_remaining'] = df['defteam_timeouts_remaining'].astype(int)\n",
    "df['total_home_score'] = df['total_home_score'].astype(int)\n",
    "df['total_away_score'] = df['total_away_score'].astype(int)\n",
    "df['posteam_score'] = df['posteam_score'].astype(int)\n",
    "df['defteam_score'] = df['defteam_score'].astype(int)\n",
    "df['score_differential'] = df['score_differential'].astype(int)\n",
    "df['posteam_score_post'] = df['posteam_score_post'].astype(int)\n",
    "df['defteam_score_post'] = df['defteam_score_post'].astype(int)\n",
    "df['score_differential_post'] = df['score_differential_post'].astype(int)\n",
    "df['first_down_rush'] = df['first_down_rush'].astype(int)\n",
    "df['first_down_pass'] = df['first_down_pass'].astype(int)\n",
    "df['first_down_penalty'] = df['first_down_penalty'].astype(int)\n",
    "df['third_down_converted'] = df['third_down_converted'].astype(int)\n",
    "df['third_down_failed'] = df['third_down_failed'].astype(int)\n",
    "df['fourth_down_converted'] = df['fourth_down_converted'].astype(int)\n",
    "df['fourth_down_failed'] = df['fourth_down_failed'].astype(int)\n",
    "df['incomplete_pass'] = df['incomplete_pass'].astype(int)\n",
    "df['touchback'] = df['touchback'].astype(int)\n",
    "df['interception'] = df['interception'].astype(int)\n",
    "df['fumble_forced'] = df['fumble_forced'].astype(int)\n",
    "df['fumble_not_forced'] = df['fumble_not_forced'].astype(int)\n",
    "df['fumble_out_of_bounds'] = df['fumble_out_of_bounds'].astype(int)\n",
    "df['solo_tackle'] = df['solo_tackle'].astype(int)\n",
    "df['safety'] = df['safety'].astype(int)\n",
    "df['penalty'] = df['penalty'].astype(int)\n",
    "df['tackled_for_loss'] = df['tackled_for_loss'].astype(int)\n",
    "df['fumble_lost'] = df['fumble_lost'].astype(int)\n",
    "df['qb_hit'] = df['qb_hit'].astype(int)\n",
    "df['rush_attempt'] = df['rush_attempt'].astype(int)\n",
    "df['pass_attempt'] = df['pass_attempt'].astype(int)\n",
    "df['sack'] = df['sack'].astype(int)\n",
    "df['touchdown'] = df['touchdown'].astype(int)\n",
    "df['rush_touchdown'] = df['rush_touchdown'].astype(int)\n",
    "df['pass_touchdown'] = df['pass_touchdown'].astype(int)\n",
    "df['return_touchdown'] = df['return_touchdown'].astype(int)\n",
    "df['fumble'] = df['fumble'].astype(int)\n",
    "df['complete_pass'] = df['complete_pass'].astype(int)\n",
    "df['assist_tackle'] = df['assist_tackle'].astype(int)\n",
    "df['lateral_reception'] = df['lateral_reception'].astype(int)\n",
    "df['lateral_rush'] = df['lateral_rush'].astype(int)\n",
    "df['lateral_return'] = df['lateral_return'].astype(int)\n",
    "df['lateral_recovery'] = df['lateral_recovery'].astype(int)\n",
    "df['passing_yards'] = df['passing_yards'].astype(int)\n",
    "df['receiving_yards'] = df['receiving_yards'].astype(int)\n",
    "df['rushing_yards'] = df['rushing_yards'].astype(int)\n",
    "df['lateral_receiving_yards'] = df['lateral_receiving_yards'].astype(int)\n",
    "df['lateral_rushing_yards'] = df['lateral_rushing_yards'].astype(int)\n",
    "df['tackle_with_assist'] = df['tackle_with_assist'].astype(int)\n",
    "df['return_yards'] = df['return_yards'].astype(int)\n",
    "df['replay_or_challenge'] = df['replay_or_challenge'].astype(int)\n",
    "df['series'] = df['series'].astype(int)\n",
    "df['series_success'] = df['series_success'].astype(int)\n",
    "df['order_sequence'] = df['order_sequence'].astype(int)\n",
    "df['fixed_drive'] = df['fixed_drive'].astype(int)\n",
    "df['drive_play_count'] = df['drive_play_count'].astype(int)\n",
    "df['drive_first_downs'] = df['drive_first_downs'].astype(int)\n",
    "df['drive_inside20'] = df['drive_inside20'].astype(int)\n",
    "df['drive_ended_with_score'] = df['drive_ended_with_score'].astype(int)\n",
    "df['drive_quarter_start'] = df['drive_quarter_start'].astype(int)\n",
    "df['drive_quarter_end'] = df['drive_quarter_end'].astype(int)\n",
    "df['drive_yards_penalized'] = df['drive_yards_penalized'].astype(int)\n",
    "df['drive_play_id_started'] = df['drive_play_id_started'].astype(int)\n",
    "df['drive_play_id_ended'] = df['drive_play_id_ended'].astype(int)\n",
    "df['success'] = df['success'].astype(int)\n",
    "df['pass'] = df['pass'].astype(int)\n",
    "df['rush'] = df['rush'].astype(int)\n",
    "df['first_down'] = df['first_down'].astype(int)\n",
    "df['play'] = df['play'].astype(int)\n",
    "df['out_of_bounds'] = df['out_of_bounds'].astype(int)\n",
    "df['home_opening_kickoff'] = df['home_opening_kickoff'].astype(int)\n",
    "df['fumble_recovery_1_yards'] = df['fumble_recovery_1_yards'].astype(int)\n",
    "df['fumble_recovery_2_yards'] = df['fumble_recovery_2_yards'].astype(int)\n",
    "df['penalty_yards'] = df['penalty_yards'].astype(int)\n",
    "# df['home_rest'] = df['home_rest'].astype(int)\n",
    "# df['away_rest'] = df['away_rest'].astype(int)\n",
    "df.shape"
   ]
  },
  {
   "cell_type": "code",
   "execution_count": 67,
   "id": "deacf807",
   "metadata": {
    "pycharm": {
     "name": "#%%\n"
    },
    "ExecuteTime": {
     "end_time": "2023-12-06T04:43:18.869087Z",
     "start_time": "2023-12-06T04:43:18.780008Z"
    }
   },
   "outputs": [
    {
     "data": {
      "text/plain": "play_type_nfl\nPASS                            31656\nRUSH                            24835\nSACK                             2362\nINTERCEPTION                      311\nFUMBLE_RECOVERED_BY_OPPONENT        9\nName: count, dtype: int64"
     },
     "execution_count": 67,
     "metadata": {},
     "output_type": "execute_result"
    }
   ],
   "source": [
    "counts = df.play_type_nfl.value_counts(normalize=False)\n",
    "counts"
   ]
  },
  {
   "cell_type": "code",
   "execution_count": 68,
   "id": "11e507b0",
   "metadata": {
    "pycharm": {
     "name": "#%%\n"
    },
    "ExecuteTime": {
     "end_time": "2023-12-06T04:43:18.869467Z",
     "start_time": "2023-12-06T04:43:18.787110Z"
    }
   },
   "outputs": [
    {
     "data": {
      "text/plain": "play_type\npass    34338\nrun     24835\nName: count, dtype: int64"
     },
     "execution_count": 68,
     "metadata": {},
     "output_type": "execute_result"
    }
   ],
   "source": [
    "counts = df.play_type.value_counts(normalize=False)\n",
    "counts"
   ]
  },
  {
   "cell_type": "markdown",
   "id": "294748d7",
   "metadata": {
    "pycharm": {
     "name": "#%% md\n"
    }
   },
   "source": [
    "## IMPUTE PLAY TYPE"
   ]
  },
  {
   "cell_type": "code",
   "execution_count": 69,
   "id": "40e0f78c",
   "metadata": {
    "pycharm": {
     "name": "#%%\n"
    },
    "ExecuteTime": {
     "end_time": "2023-12-06T04:43:19.191284Z",
     "start_time": "2023-12-06T04:43:18.796774Z"
    }
   },
   "outputs": [
    {
     "data": {
      "text/plain": "(59173, 339)"
     },
     "execution_count": 69,
     "metadata": {},
     "output_type": "execute_result"
    }
   ],
   "source": [
    "df1 = df.copy()\n",
    "\n",
    "df1.shape"
   ]
  },
  {
   "cell_type": "code",
   "execution_count": 70,
   "id": "6de7e60a",
   "metadata": {
    "pycharm": {
     "name": "#%%\n"
    },
    "ExecuteTime": {
     "end_time": "2023-12-06T04:43:21.041417Z",
     "start_time": "2023-12-06T04:43:19.060689Z"
    }
   },
   "outputs": [],
   "source": [
    "# Modify play type\n",
    "df1['desc'] = df1['desc'].str.strip().str.lower()\n",
    "\n",
    "# QB Scramble\n",
    "df1['play_type'] = np.where((df1['play_type'] == 'no_play') & (df1['desc'].str.find('scrambles ')>= 0), 'qb_scramble', df1['play_type'])\n",
    "df1['play_type'] = np.where((df1['play_type'] == 'run') & (df1['desc'].str.find('scrambles ')>= 0), 'qb_scramble', df1['play_type'])\n",
    "\n",
    "# Kickoffs\n",
    "df1['play_type'] = np.where((df1['play_type'] == 'no_play') & (df1['desc'].str.find('kicks')>= 0), 'kickoff', df1['play_type'])\n",
    "df1['play_type'] = np.where((df1['play_type'] == 'no_play') & (df1['desc'].str.find('kick formation')>= 0), 'kickoff', df1['play_type'])\n",
    "\n",
    "# Field goals\n",
    "df1['play_type'] = np.where((df1['play_type'] == 'no_play') & (df1['desc'].str.find('field goal')>= 0), 'field_goal', df1['play_type'])\n",
    "\n",
    "# Punts\n",
    "df1['play_type'] = np.where((df1['play_type'] == 'no_play') & (df1['desc'].str.find(' punts')>= 0), 'punt', df1['play_type'])\n",
    "df1['play_type'] = np.where((df1['play_type'] == 'no_play') & (df1['desc'].str.find(' punt is')>= 0), 'punt', df1['play_type'])\n",
    "\n",
    "# Extra points (PATs)\n",
    "df1['play_type'] = np.where((df1['play_type'] == 'no_play') & (df1['desc'].str.find(' extra point')>= 0) & (df1['desc'].str.find('penalty')>= 0), 'extra_point', df1['play_type'])\n",
    "df1['play_type'] = np.where((df1['play_type'] == 'no_play') & (df1['desc'].str.find('two-point conversion')>= 0), 'two_point', df1['play_type'])\n",
    "\n",
    "# Kneel\n",
    "df1['play_type'] = np.where((df1['play_type'] == 'no_play') & (df1['desc'].str.find(' kneels')>= 0) & (df1['desc'].str.find('penalty')>= 0), 'qb_kneel', df1['play_type'])\n",
    "\n",
    "# QB spikes\n",
    "df1['play_type'] = np.where((df1['play_type'] == 'no_play') & (df1['desc'].str.find(' spiked')>= 0) & (df1['desc'].str.find('penalty')>= 0), 'qb_spike', df1['play_type'])\n",
    "\n",
    "# Passes\n",
    "df1['play_type'] = np.where((df1['play_type'] == 'no_play') & (df1['desc'].str.find('pass incomplete')>= 0), 'pass', df1['play_type'])\n",
    "df1['play_type'] = np.where((df1['play_type'] == 'no_play') & (df1['desc'].str.find('pass complete')>= 0), 'pass', df1['play_type'])\n",
    "df1['play_type'] = np.where((df1['play_type'] == 'no_play') & (df1['desc'].str.find('pass short')>= 0), 'pass', df1['play_type'])\n",
    "df1['play_type'] = np.where((df1['play_type'] == 'no_play') & (df1['desc'].str.find('pass deep')>= 0), 'pass', df1['play_type'])\n",
    "df1['play_type'] = np.where((df1['play_type'] == 'no_play') & (df1['desc'].str.find('pass to')>= 0), 'pass', df1['play_type'])\n",
    "df1['play_type'] = np.where((df1['play_type'] == 'no_play') & (df1['desc'].str.find('sacked')>= 0), 'pass', df1['play_type'])\n",
    "df1['play_type'] = np.where((df1['play_type'] == 'no_play') & (df1['desc'].str.find('pass intended')>= 0), 'pass', df1['play_type'])\n",
    "df1['play_type'] = np.where((df1['play_type'] == 'no_play') & (df1['desc'].str.find('pass intercepted')>= 0), 'pass', df1['play_type'])\n",
    "df1['play_type'] = np.where((df1['play_type'] == 'timeout') & (df1['desc'].str.find('pass incomplete')>= 0), 'pass', df1['play_type'])\n",
    "df1['play_type'] = np.where((df1['play_type'] == 'timeout') & (df1['desc'].str.find('pass complete')>= 0), 'pass', df1['play_type'])\n",
    "df1['play_type'] = np.where((df1['play_type'] == 'timeout') & (df1['desc'].str.find('pass short')>= 0), 'pass', df1['play_type'])\n",
    "df1['play_type'] = np.where((df1['play_type'] == 'timeout') & (df1['desc'].str.find('pass deep')>= 0), 'pass', df1['play_type'])\n",
    "df1['play_type'] = np.where((df1['play_type'] == 'timeout') & (df1['desc'].str.find('pass to')>= 0), 'pass', df1['play_type'])\n",
    "df1['play_type'] = np.where((df1['play_type'] == 'timeout') & (df1['desc'].str.find('sacked')>= 0), 'pass', df1['play_type'])\n",
    "df1['play_type'] = np.where((df1['play_type'] == 'timeout') & (df1['desc'].str.find('pass intended')>= 0), 'pass', df1['play_type'])\n",
    "df1['play_type'] = np.where((df1['play_type'] == 'timeout') & (df1['desc'].str.find('pass intercepted')>= 0), 'pass', df1['play_type'])\n",
    "\n",
    "# Runs\n",
    "df1['play_type'] = np.where((df1['play_type'] == 'no_play') & (df1['desc'].str.find('left end')>= 0), 'run', df1['play_type'])\n",
    "df1['play_type'] = np.where((df1['play_type'] == 'no_play') & (df1['desc'].str.find('left tackle')>= 0), 'run', df1['play_type'])\n",
    "df1['play_type'] = np.where((df1['play_type'] == 'no_play') & (df1['desc'].str.find('left guard')>= 0), 'run', df1['play_type'])\n",
    "df1['play_type'] = np.where((df1['play_type'] == 'no_play') & (df1['desc'].str.find('up the middle')>= 0), 'run', df1['play_type'])\n",
    "df1['play_type'] = np.where((df1['play_type'] == 'no_play') & (df1['desc'].str.find('right guard')>= 0), 'run', df1['play_type'])\n",
    "df1['play_type'] = np.where((df1['play_type'] == 'no_play') & (df1['desc'].str.find('right tackle')>= 0), 'run', df1['play_type'])\n",
    "df1['play_type'] = np.where((df1['play_type'] == 'no_play') & (df1['desc'].str.find('right end')>= 0), 'run', df1['play_type'])\n",
    "df1['play_type'] = np.where((df1['play_type'] == 'no_play') & (df1['desc'].str.find('end around')>= 0), 'run', df1['play_type'])\n",
    "df1['play_type'] = np.where((df1['play_type'] == 'timeout') & (df1['desc'].str.find('left end')>= 0), 'run', df1['play_type'])\n",
    "df1['play_type'] = np.where((df1['play_type'] == 'timeout') & (df1['desc'].str.find('left tackle')>= 0), 'run', df1['play_type'])\n",
    "df1['play_type'] = np.where((df1['play_type'] == 'timeout') & (df1['desc'].str.find('left guard')>= 0), 'run', df1['play_type'])\n",
    "df1['play_type'] = np.where((df1['play_type'] == 'timeout') & (df1['desc'].str.find('up the middle')>= 0), 'run', df1['play_type'])\n",
    "df1['play_type'] = np.where((df1['play_type'] == 'timeout') & (df1['desc'].str.find('right guard')>= 0), 'run', df1['play_type'])\n",
    "df1['play_type'] = np.where((df1['play_type'] == 'timeout') & (df1['desc'].str.find('right tackle')>= 0), 'run', df1['play_type'])\n",
    "df1['play_type'] = np.where((df1['play_type'] == 'timeout') & (df1['desc'].str.find('right end')>= 0), 'run', df1['play_type'])\n",
    "df1['play_type'] = np.where((df1['play_type'] == 'timeout') & (df1['desc'].str.find('end around')>= 0), 'run', df1['play_type'])"
   ]
  },
  {
   "cell_type": "code",
   "execution_count": 71,
   "id": "3d70fc00",
   "metadata": {
    "pycharm": {
     "name": "#%%\n"
    },
    "ExecuteTime": {
     "end_time": "2023-12-06T04:43:23.049466Z",
     "start_time": "2023-12-06T04:43:21.042150Z"
    }
   },
   "outputs": [],
   "source": [
    "# Penalties\n",
    "df1['play_type'] = np.where(df1['desc'].str.find('false start')>= 0, 'penalty', df1['play_type'])\n",
    "df1['play_type'] = np.where(df1['desc'].str.find('offensive delay of game')>= 0, 'penalty', df1['play_type'])\n",
    "df1['play_type'] = np.where((df1['desc'].str.find('penalty') >= 0) & (df1['desc'].str.find('neutral zone')>= 0), 'penalty', df1['play_type'])\n",
    "df1['play_type'] = np.where((df1['desc'].str.find('penalty')>= 0) & (df1['desc'].str.find('delay of kickoff')>= 0), 'penalty', df1['play_type'])\n",
    "df1['play_type'] = np.where((df1['play_type'] == 'no_play') & (df1['desc'].str.find('penalty')>= 0) & (df1['desc'].str.find('too many men')>= 0), 'penalty', df1['play_type'])\n",
    "df1['play_type'] = np.where((df1['play_type'] == 'no_play') & (df1['desc'].str.find('penalty')>= 0) & (df1['desc'].str.find('encroachment')>= 0), 'penalty', df1['play_type'])\n",
    "df1['play_type'] = np.where((df1['play_type'] == 'no_play') & (df1['desc'].str.find('penalty')>= 0) & (df1['desc'].str.find('12 on-field')>= 0), 'penalty', df1['play_type'])\n",
    "df1['play_type'] = np.where((df1['play_type'] == 'no_play') & (df1['desc'].str.find('penalty')>= 0) & (df1['desc'].str.find('unsportsmanlike')>= 0), 'penalty', df1['play_type'])\n",
    "df1['play_type'] = np.where((df1['play_type'] == 'no_play') & (df1['desc'].str.find('penalty')>= 0) & (df1['desc'].str.find('interference')>= 0), 'penalty', df1['play_type'])\n",
    "df1['play_type'] = np.where((df1['play_type'] == 'no_play') & (df1['desc'].str.find('penalty')>= 0) & (df1['desc'].str.find('holding')>= 0), 'penalty', df1['play_type'])\n",
    "df1['play_type'] = np.where((df1['play_type'] == 'no_play') & (df1['desc'].str.find('penalty')>= 0) & (df1['desc'].str.find('illegal')>= 0), 'penalty', df1['play_type'])\n",
    "df1['play_type'] = np.where((df1['play_type'] == 'no_play') & (df1['desc'].str.find('penalty')>= 0) & (df1['desc'].str.find('offside')>= 0), 'penalty', df1['play_type'])\n",
    "df1['play_type'] = np.where((df1['play_type'] == 'no_play') & (df1['desc'].str.find('penalty')>= 0) & (df1['desc'].str.find('roughness')>= 0), 'penalty', df1['play_type'])\n",
    "df1['play_type'] = np.where((df1['play_type'] == 'no_play') & (df1['desc'].str.find('penalty')>= 0) & (df1['desc'].str.find('chop block')>= 0), 'penalty', df1['play_type'])\n",
    "df1['play_type'] = np.where((df1['play_type'] == 'no_play') & (df1['desc'].str.find('penalty')>= 0) & (df1['desc'].str.find('tripping')>= 0), 'penalty', df1['play_type'])\n",
    "df1['play_type'] = np.where((df1['play_type'] == 'no_play') & (df1['desc'].str.find('penalty')>= 0) & (df1['desc'].str.find('roughing')>= 0), 'penalty', df1['play_type'])\n",
    "df1['play_type'] = np.where((df1['play_type'] == 'no_play') & (df1['desc'].str.find('penalty')>= 0) & (df1['desc'].str.find('face mask')>= 0), 'penalty', df1['play_type'])\n",
    "df1['play_type'] = np.where((df1['play_type'] == 'no_play') & (df1['desc'].str.find('penalty')>= 0) & (df1['desc'].str.find('personal foul')>= 0), 'penalty', df1['play_type'])\n",
    "df1['play_type'] = np.where((df1['play_type'] == 'no_play') & (df1['desc'].str.find('penalty')>= 0) & (df1['desc'].str.find('disqualification')>= 0), 'penalty', df1['play_type'])\n",
    "df1['play_type'] = np.where((df1['play_type'] == 'no_play') & (df1['desc'].str.find('penalty')>= 0) & (df1['desc'].str.find('taunting')>= 0), 'penalty', df1['play_type'])\n",
    "df1['play_type'] = np.where((df1['play_type'] == 'no_play') & (df1['desc'].str.find('penalty')>= 0) & (df1['desc'].str.find('intentional grounding')>= 0), 'penalty', df1['play_type'])\n",
    "df1['play_type'] = np.where((df1['desc'].str.find('penalty')>= 0) & (df1['desc'].str.find('play over the down')>= 0), 'penalty', df1['play_type'])\n",
    "\n",
    "# Replay reviews\n",
    "df1['play_type'] = np.where((df1['play_type'] == 'no_play') & (df1['desc'].str.find('replay was upheld')>= 0), 'replay_review', df1['play_type'])\n",
    "df1['play_type'] = np.where((df1['play_type'] == 'no_play') & (df1['desc'].str.find('replay assistant')>= 0), 'replay_review', df1['play_type'])\n",
    "\n",
    "# Timeouts\n",
    "df1['play_type'] = np.where((df1['desc'].str.find('timeout #')>= 0) & (df1['desc'].str.find('passer_jersey_number')>= 0) &  (df1['desc'].str.find('rusher_jersey_number')>= 0), 'timeout', df1['play_type'])\n",
    "df1['play_type'] = np.where((df1['desc'].str.find('timeout at')>= 0) & (df1['desc'].str.find('passer_jersey_number')>= 0) &  (df1['desc'].str.find('rusher_jersey_number')>= 0), 'timeout', df1['play_type'])\n",
    "\n",
    "# Clock runoff (no play)\n",
    "df1['play_type'] = np.where(df1['desc'].str.find('end of quarter due to 10 second clock run-off')>= 0, 'clock_runoff', df1['play_type'])\n",
    "\n",
    "# Replay down (no play)\n",
    "df1['play_type'] = np.where(df1['desc'].str.find('play over the down')>= 0, 'replay_down', df1['play_type'])\n",
    "df1['play_type'] = np.where(df1['desc'].str.find('play the down')>= 0, 'replay_down', df1['play_type'])"
   ]
  },
  {
   "cell_type": "code",
   "execution_count": 72,
   "id": "f1e4f8ea",
   "metadata": {
    "pycharm": {
     "name": "#%%\n"
    },
    "ExecuteTime": {
     "end_time": "2023-12-06T04:43:23.229466Z",
     "start_time": "2023-12-06T04:43:23.050149Z"
    }
   },
   "outputs": [],
   "source": [
    "df1['play_type_nfl'] = np.where(df1['play_type'] == 'run', 'RUSH',\n",
    "                                np.where(df1['play_type'] == 'penalty', 'PENALTY',\n",
    "                                         np.where(df1['play_type'] == 'extra_point', 'XP_KICK',\n",
    "                                                  np.where(df1['play_type'] == 'field_goal', 'FIELD_GOAL',\n",
    "                                                           np.where(df1['play_type'] == 'timeout', 'TIMEOUT',\n",
    "                                                                    np.where(df1['play_type'] == 'two_point', 'PAT2',\n",
    "                                                                             df1['play_type_nfl']))))))\n",
    "\n",
    "# Impute down property\n",
    "df1['down'] = np.where(df1['play_type'] == 'kickoff', 0,\n",
    "                       np.where(df1['play_type'] == 'extra_point', 0,\n",
    "                                np.where(df1['play_type'] == 'two_point', 0,\n",
    "                                         np.where(df1['play_type'] == 'injury',  df1['down'].shift(-1),\n",
    "                                                  np.where(df1['play_type'] == 'replay',  df1['down'].shift(-1),\n",
    "                                                           np.where(df1['play_type'] == 'timeout', df1['down'].shift(1),\n",
    "                                                                    np.where(df1['play_type'] == 'penalty', df1['down'].shift(1),\n",
    "                                                                             df1['down'])))))))\n",
    "\n",
    "# Remove kickoff from drive groupings\n",
    "df1['drive'] = np.where(df1['play_type'] == 'kickoff', np.nan, df1['drive'])\n",
    "\n",
    "# Offsetting penalties\n",
    "df1['offsetting_penalties'] = np.where((df1['desc'].str.find('offsetting') >= 0) & (df1['desc'].str.find('no play') >= 0), 1, 0)\n",
    "\n",
    "# Impute missing yards_gained\n",
    "df1['yards_gained'] = np.where(df1['offsetting_penalties'] == 1, 0, df1['yards_gained'])\n",
    "df1['yards_gained'] = np.where(df1['play_type'] == 'timeout', 0, df1['yards_gained'])\n",
    "df1['yards_gained'] = np.where((df1['play_type']=='penalty') & (df1['yards_gained']==np.nan),0,df1['yards_gained'])"
   ]
  },
  {
   "cell_type": "markdown",
   "source": [
    "## PLAY FILTERS"
   ],
   "metadata": {
    "collapsed": false
   },
   "id": "5f6a5227b92070a7"
  },
  {
   "cell_type": "code",
   "execution_count": 73,
   "id": "3c0054c0",
   "metadata": {
    "pycharm": {
     "name": "#%%\n"
    },
    "ExecuteTime": {
     "end_time": "2023-12-06T04:43:23.693546Z",
     "start_time": "2023-12-06T04:43:23.210540Z"
    }
   },
   "outputs": [
    {
     "data": {
      "text/plain": "(59173, 340)"
     },
     "execution_count": 73,
     "metadata": {},
     "output_type": "execute_result"
    }
   ],
   "source": [
    "df2 = df1.copy()\n",
    "\n",
    "df2.shape"
   ]
  },
  {
   "cell_type": "code",
   "execution_count": 74,
   "id": "638d9dc1",
   "metadata": {
    "pycharm": {
     "name": "#%%\n"
    },
    "ExecuteTime": {
     "end_time": "2023-12-06T04:43:23.781329Z",
     "start_time": "2023-12-06T04:43:23.695616Z"
    }
   },
   "outputs": [
    {
     "data": {
      "text/plain": "play_type_nfl\nPASS                            31656\nRUSH                            24835\nSACK                             2362\nINTERCEPTION                      311\nFUMBLE_RECOVERED_BY_OPPONENT        9\nName: count, dtype: int64"
     },
     "execution_count": 74,
     "metadata": {},
     "output_type": "execute_result"
    }
   ],
   "source": [
    "counts = df2.play_type_nfl.value_counts(normalize=False)\n",
    "counts"
   ]
  },
  {
   "cell_type": "code",
   "execution_count": 75,
   "outputs": [
    {
     "data": {
      "text/plain": "play_type\npass           34338\nrun            23105\nqb_scramble     1730\nName: count, dtype: int64"
     },
     "execution_count": 75,
     "metadata": {},
     "output_type": "execute_result"
    }
   ],
   "source": [
    "counts = df2.play_type.value_counts(normalize=False, dropna=False)\n",
    "counts"
   ],
   "metadata": {
    "collapsed": false,
    "ExecuteTime": {
     "end_time": "2023-12-06T04:43:23.781714Z",
     "start_time": "2023-12-06T04:43:23.704709Z"
    }
   },
   "id": "78e0e8c7d8ae46bb"
  },
  {
   "cell_type": "code",
   "execution_count": 76,
   "outputs": [
    {
     "data": {
      "text/plain": "(57443, 340)"
     },
     "execution_count": 76,
     "metadata": {},
     "output_type": "execute_result"
    }
   ],
   "source": [
    "df2 = df2[~df2['play_type'].isin(['punt','qb_kneel','field_goal','qb_scramble','qb_spike'])] # retain penalty to capture previous penalty events\n",
    "\n",
    "df2.shape"
   ],
   "metadata": {
    "collapsed": false,
    "ExecuteTime": {
     "end_time": "2023-12-06T04:43:24.029072Z",
     "start_time": "2023-12-06T04:43:23.713342Z"
    }
   },
   "id": "94ab495ff75ed747"
  },
  {
   "cell_type": "code",
   "execution_count": 77,
   "outputs": [
    {
     "data": {
      "text/plain": "play_type\npass    34338\nrun     23105\nName: count, dtype: int64"
     },
     "execution_count": 77,
     "metadata": {},
     "output_type": "execute_result"
    }
   ],
   "source": [
    "counts = df2.play_type.value_counts(normalize=False, dropna=False)\n",
    "counts"
   ],
   "metadata": {
    "collapsed": false,
    "ExecuteTime": {
     "end_time": "2023-12-06T04:43:24.066155Z",
     "start_time": "2023-12-06T04:43:23.914875Z"
    }
   },
   "id": "152e4d3b"
  },
  {
   "cell_type": "markdown",
   "id": "5bc410cd",
   "metadata": {
    "pycharm": {
     "name": "#%% md\n"
    }
   },
   "source": [
    "## FEATURE ENGINEERING"
   ]
  },
  {
   "cell_type": "code",
   "execution_count": 78,
   "id": "ccf48419",
   "metadata": {
    "pycharm": {
     "name": "#%%\n"
    },
    "ExecuteTime": {
     "end_time": "2023-12-06T04:43:24.066554Z",
     "start_time": "2023-12-06T04:43:23.924950Z"
    }
   },
   "outputs": [],
   "source": [
    "# Game-play sequence\n",
    "df2['play_sequence_game'] = df2.groupby(['game_id'])['play_id'].cumcount() + 1\n",
    "\n",
    "# Game-play-drive sequence\n",
    "df2['play_sequence_series'] = df2.groupby(['game_id', 'drive']).cumcount() + 1\n",
    "\n",
    "# Code turnover on play\n",
    "df2['turnover'] = np.where((df2['fumble_lost'] == 1) | (df2['interception'] == 1), 1, 0)"
   ]
  },
  {
   "cell_type": "code",
   "execution_count": 79,
   "id": "b295629c",
   "metadata": {
    "pycharm": {
     "name": "#%%\n"
    },
    "ExecuteTime": {
     "end_time": "2023-12-06T04:43:24.513316Z",
     "start_time": "2023-12-06T04:43:23.971957Z"
    }
   },
   "outputs": [
    {
     "data": {
      "text/plain": "play_type_detail\npass_short     0.392963\nrun_inside     0.207771\nrun_outside    0.194071\npass_deep      0.163623\npass_sack      0.041136\nrun            0.000383\npass           0.000052\nName: proportion, dtype: float64"
     },
     "execution_count": 79,
     "metadata": {},
     "output_type": "execute_result"
    }
   ],
   "source": [
    "df2['play_type_detail'] = np.where((df2['play_type']=='run') & (df2['desc'].str.find('left end')>= 0), 'run_outside',\n",
    "                          np.where((df2['play_type']=='run') & (df2['desc'].str.find('right end')>= 0), 'run_outside',\n",
    "                          np.where((df2['play_type']=='run') & (df2['desc'].str.find('end around')>= 0), 'run_outside',\n",
    "                          np.where((df2['play_type']=='run') & (df2['desc'].str.find('left tackle')>= 0), 'run_outside',\n",
    "                          np.where((df2['play_type']=='run') & (df2['desc'].str.find('left guard')>= 0), 'run_inside',\n",
    "                          np.where((df2['play_type']=='run') & (df2['desc'].str.find('middle')>= 0), 'run_inside',\n",
    "                          np.where((df2['play_type']=='run') & (df2['desc'].str.find('right guard')>= 0), 'run_inside',\n",
    "                          np.where((df2['play_type']=='run') & (df2['desc'].str.find('right tackle')>= 0), 'run_outside',\n",
    "\n",
    "                          np.where(df2['pass_length']=='deep', 'pass_deep',\n",
    "                          np.where((df2['play_type']=='pass') & (df2['air_yards']>10), 'pass_deep',\n",
    "                          np.where((df2['play_type']=='pass') & (df2['desc'].str.find('pass deep')>= 0),'pass_deep',\n",
    "                          np.where((df2['play_type']=='pass') & (df2['desc'].str.find('complete deep')>= 0), 'pass_deep',\n",
    "\n",
    "                          np.where(df2['pass_length']=='short', 'pass_short',\n",
    "                          np.where((df2['play_type']=='pass') & (df2['air_yards']<= 10), 'pass_short',\n",
    "\n",
    "                          np.where((df2['play_type']=='pass') & (df2['desc'].str.find('sack')>= 0),'pass_sack',\n",
    "                          np.where((df2['play_type']=='pass') & (df2['air_yards']==np.nan), 'pass',\n",
    "\n",
    "                          np.where((df2['play_type']=='pass') & (df2['desc'].str.find('aborted')>= 0),'aborted',\n",
    "                          df2['play_type'])))))))))))))))))\n",
    "\n",
    "counts = df2.play_type_detail.value_counts(normalize=True)\n",
    "counts"
   ]
  },
  {
   "cell_type": "code",
   "execution_count": 80,
   "id": "528d5203",
   "metadata": {
    "pycharm": {
     "name": "#%%\n"
    },
    "ExecuteTime": {
     "end_time": "2023-12-06T04:43:24.642554Z",
     "start_time": "2023-12-06T04:43:24.506727Z"
    }
   },
   "outputs": [
    {
     "data": {
      "text/plain": "array(['grass', 'turf'], dtype=object)"
     },
     "execution_count": 80,
     "metadata": {},
     "output_type": "execute_result"
    }
   ],
   "source": [
    "# Remove ® from stadium names\n",
    "df2['stadium'] = df2['stadium'].str.replace('®', '').str.replace('-','').str.replace('&','').str.replace('.','').str.replace(\"'\",\"\").str.strip().str.lower()\n",
    "\n",
    "# Impute nan values to NULL\n",
    "df2['surface'] = np.where(df2['surface'] == '', np.nan, df2['surface'])\n",
    "\n",
    "# Map stadiums to new values\n",
    "stadium_map = {'allegiant stadium': 'grass',\n",
    "               'azteca stadium': 'grass',\n",
    "               'fedexfield': 'grass',\n",
    "               'state farm stadium': 'grass',\n",
    "               'mercedesbenz stadium': 'turf',\n",
    "               'mt bank stadium': 'grass',\n",
    "               'paycor stadium': 'turf',\n",
    "               'metlife stadium':'turf',\n",
    "               'highmark stadium':'turf',\n",
    "               'bank of america stadium': 'grass',\n",
    "               'soldier field': 'grass',\n",
    "               'raymond james stadium': 'grass',\n",
    "               'cleveland browns stadium': 'grass', \n",
    "               'firstenergy stadium': 'grass',\n",
    "               'acrisure stadium': 'grass',\n",
    "               'att stadium': 'turf',\n",
    "               'wembley stadium': 'grass',\n",
    "               'empower field at mile high': 'grass', \n",
    "               'geha field at arrowhead stadium': 'grass', \n",
    "               'ford field': 'turf',\n",
    "               'tottenham hotspur stadium': 'turf',\n",
    "               'nrg stadium': 'turf',\n",
    "               'lucas oil stadium': 'turf',\n",
    "               'everbank stadium': 'grass',\n",
    "               'tiaa bank field': 'grass',\n",
    "               \"levis stadium\": 'grass',\n",
    "               'lumen field': 'turf',\n",
    "               'sofi stadium': 'turf', \n",
    "               'nissan stadium': 'turf',\n",
    "               'gillette stadium': 'turf',\n",
    "               'us bank stadium': 'turf',\n",
    "               'lincoln financial field': 'grass',\n",
    "               'caesars superdome': 'turf',\n",
    "               'allianz arena': 'turf',\n",
    "               'hard rock stadium': 'grass',\n",
    "               'lambeau field': 'grass',\n",
    "               'frankfurt stadium': 'turf',\n",
    "               }\n",
    "\n",
    "df2['surface'] = df2['stadium'].map(stadium_map).fillna(df2['surface'])\n",
    "\n",
    "df2.surface.unique()"
   ]
  },
  {
   "cell_type": "code",
   "execution_count": 82,
   "outputs": [
    {
     "data": {
      "text/plain": "array(['PISTOL', 'EMPTY', 'SHOTGUN', 'SINGLEBACK', 'WILDCAT', 'I_FORM',\n       'JUMBO', nan], dtype=object)"
     },
     "execution_count": 82,
     "metadata": {},
     "output_type": "execute_result"
    }
   ],
   "source": [
    "df2.offense_formation.unique()"
   ],
   "metadata": {
    "collapsed": false,
    "ExecuteTime": {
     "end_time": "2023-12-06T04:43:24.795271Z",
     "start_time": "2023-12-06T04:43:24.705060Z"
    }
   },
   "id": "5681b892dd60b1e5"
  },
  {
   "cell_type": "code",
   "execution_count": 83,
   "outputs": [],
   "source": [
    "df2['offense_formation'] = df2['offense_formation'].str.strip().str.lower()\n",
    "\n",
    "# Impute missing offense_formation with pass formation and run formation\n",
    "df2['offense_formation'] = np.where((df2['offense_formation'].isnull()) & (df2['shotgun'] == 1),'shotgun', \n",
    "                                             np.where((df2['offense_formation'].isnull()) & (df2['offense_personnel'].str[0:4] == '6 OL'),'jumbo',\n",
    "                                                      np.where((df2['offense_formation'].isnull()) & (df2['offense_personnel'].str.find('3 TE') >0),'jumbo',\n",
    "                                                               np.where((df2['offense_formation'].isnull()) & (df2['offense_personnel'].str.find('0 WR') >0),'jumbo',\n",
    "                                                                        np.where((df2['offense_formation'].isnull()) & (df2['offense_personnel'].str.find('3 WR') >0), 'shotgun',\n",
    "                                                                                 np.where((df2['offense_formation'].isnull()) & (df2['offense_personnel'].str[0:4] == '2 RB'), 'shotgun',\n",
    "                                                                                          np.where((df2['offense_formation'].isnull()) & (df2['offense_personnel'].str[0:4] == '1 RB'), 'singleback',\n",
    "                                                                                                   np.where(df2['offense_formation'].isnull(), 'shotgun',\n",
    "                                                                                                            df2['offense_formation']))))))))\n"
   ],
   "metadata": {
    "collapsed": false,
    "ExecuteTime": {
     "end_time": "2023-12-06T04:43:24.995070Z",
     "start_time": "2023-12-06T04:43:24.715570Z"
    }
   },
   "id": "42d86bfc093b4d84"
  },
  {
   "cell_type": "code",
   "execution_count": 84,
   "outputs": [
    {
     "data": {
      "text/plain": "offense_formation\nshotgun       32634\nsingleback    13343\nempty          4534\ni_form         3305\npistol         2773\njumbo           535\nwildcat         319\nName: count, dtype: int64"
     },
     "execution_count": 84,
     "metadata": {},
     "output_type": "execute_result"
    }
   ],
   "source": [
    "df2.offense_formation.value_counts(dropna=False)"
   ],
   "metadata": {
    "collapsed": false,
    "ExecuteTime": {
     "end_time": "2023-12-06T04:43:25.031367Z",
     "start_time": "2023-12-06T04:43:24.947939Z"
    }
   },
   "id": "6489bbaeba004ac0"
  },
  {
   "cell_type": "code",
   "execution_count": 85,
   "id": "06c444c5",
   "metadata": {
    "pycharm": {
     "name": "#%%\n"
    },
    "ExecuteTime": {
     "end_time": "2023-12-06T04:43:25.283206Z",
     "start_time": "2023-12-06T04:43:24.996127Z"
    }
   },
   "outputs": [],
   "source": [
    "# Offsetting penalties\n",
    "df2['offsetting_penalties'] = np.where((df2['desc'].str.find('offsetting') >= 0) & (df2['desc'].str.find('no play') >= 0), 1, 0)\n",
    "\n",
    "# Impute missing yards_gained\n",
    "df2['yards_gained'] = np.where(df2['offsetting_penalties'] == 1, 0, df2['yards_gained'])"
   ]
  },
  {
   "cell_type": "code",
   "execution_count": 86,
   "id": "2b58dfba",
   "metadata": {
    "pycharm": {
     "name": "#%%\n"
    },
    "ExecuteTime": {
     "end_time": "2023-12-06T04:43:25.283635Z",
     "start_time": "2023-12-06T04:43:25.045095Z"
    }
   },
   "outputs": [],
   "source": [
    "# Code yardline zones\n",
    "df2['dtg_99to90'] = np.where(df2['yardline_100'] >= 90, 1, 0)\n",
    "df2['dtg_89to60'] = np.where((df2['yardline_100'] <= 89) & (df2['yardline_100'] >= 60), 1, 0)\n",
    "df2['dtg_59to45'] = np.where((df2['yardline_100'] <= 59) & (df2['yardline_100'] >= 45), 1, 0)\n",
    "df2['dtg_44to35'] = np.where((df2['yardline_100'] <= 44) & (df2['yardline_100'] >= 35), 1, 0)\n",
    "df2['dtg_34to21'] = np.where((df2['yardline_100'] <= 34) & (df2['yardline_100'] >= 21), 1, 0)\n",
    "df2['dtg_20to10'] = np.where((df2['yardline_100'] <= 20) & (df2['yardline_100'] >= 10), 1, 0)\n",
    "df2['dtg_09to00'] = np.where(df2['yardline_100'] <=9, 1, 0)"
   ]
  },
  {
   "cell_type": "code",
   "execution_count": 87,
   "id": "6a1e2887",
   "metadata": {
    "pycharm": {
     "name": "#%%\n"
    },
    "ExecuteTime": {
     "end_time": "2023-12-06T04:43:25.372074Z",
     "start_time": "2023-12-06T04:43:25.065493Z"
    }
   },
   "outputs": [],
   "source": [
    "# Code big gains on previous run plays (>= 15 yards)\n",
    "df2['big_play_pass'] = np.where((df2['play_type']=='pass') & (df2['yards_gained']>=15) & (df2['turnover']==0), 1, 0)\n",
    "\n",
    "df2['prev1_big_play_pass'] = df2['big_play_pass'].shift(1).where(df2['drive'].shift(1) == df2['drive'], 0)\n",
    "df2['prev2_big_play_pass'] = df2['big_play_pass'].shift(2).where(df2['drive'].shift(2) == df2['drive'], 0)\n",
    "df2['prev3_big_play_pass'] = df2['big_play_pass'].shift(3).where(df2['drive'].shift(3) == df2['drive'], 0)\n",
    "\n",
    "# Calculate the percent of play classification within prior plays of current drive\n",
    "# df2['drive_big_play_pass_pcnt'] = (df2.groupby(['game_id', 'drive'])['big_play_pass'].transform(lambda x: x.rolling(window=50, min_periods=1, closed='left').sum())/df2['play_sequence_series'] - 1).fillna(0)\n",
    "\n",
    "# Drop big play pass\n",
    "df2.drop(['big_play_pass'], axis=1, inplace=True)"
   ]
  },
  {
   "cell_type": "code",
   "execution_count": 88,
   "id": "de6800cd",
   "metadata": {
    "pycharm": {
     "name": "#%%\n"
    },
    "ExecuteTime": {
     "end_time": "2023-12-06T04:43:25.503725Z",
     "start_time": "2023-12-06T04:43:25.295890Z"
    }
   },
   "outputs": [],
   "source": [
    "# Code big gains on previous run plays (>= 7 yards)\n",
    "df2['big_play_run'] = np.where((df2['play_type']=='run') & (df2['yards_gained']>=7) & (df2['turnover']==0), 1, 0)\n",
    "\n",
    "df2['prev1_big_play_run'] = df2['big_play_run'].shift(1).where(df2['drive'].shift(1) == df2['drive'], 0)\n",
    "df2['prev2_big_play_run'] = df2['big_play_run'].shift(2).where(df2['drive'].shift(2) == df2['drive'], 0)\n",
    "df2['prev3_big_play_run'] = df2['big_play_run'].shift(3).where(df2['drive'].shift(3) == df2['drive'], 0)\n",
    "\n",
    "# Calculate the percent of play classification within prior plays of current drive\n",
    "# df2['drive_big_play_run_pcnt'] = (df2.groupby(['game_id', 'drive'])['big_play_run'].transform(lambda x: x.rolling(window=50, min_periods=1, closed='left').sum())/df2['play_sequence_series'] - 1).fillna(0)\n",
    "\n",
    "# Drop big play run\n",
    "df2.drop(['big_play_run'], axis=1, inplace=True)"
   ]
  },
  {
   "cell_type": "code",
   "execution_count": 89,
   "id": "0c88d03d",
   "metadata": {
    "pycharm": {
     "name": "#%%\n"
    },
    "ExecuteTime": {
     "end_time": "2023-12-06T04:43:25.621388Z",
     "start_time": "2023-12-06T04:43:25.451916Z"
    }
   },
   "outputs": [],
   "source": [
    "# Code negative run on previous plays\n",
    "df2['negative_pass'] = np.where((df2['play_type']=='pass') & (df2['yards_gained']<0) & (df2['turnover']==0), 1, 0)\n",
    "\n",
    "df2['prev1_negative_pass'] = df2['negative_pass'].shift(1).where(df2['drive'].shift(1) == df2['drive'], 0)\n",
    "df2['prev2_negative_pass'] = df2['negative_pass'].shift(2).where(df2['drive'].shift(2) == df2['drive'], 0)\n",
    "df2['prev3_negative_pass'] = df2['negative_pass'].shift(3).where(df2['drive'].shift(3) == df2['drive'], 0)\n",
    "\n",
    "# Drop negative pass\n",
    "df2.drop(['negative_pass'], axis=1, inplace=True)"
   ]
  },
  {
   "cell_type": "code",
   "execution_count": 90,
   "id": "a792fe83",
   "metadata": {
    "pycharm": {
     "name": "#%%\n"
    },
    "ExecuteTime": {
     "end_time": "2023-12-06T04:43:25.851590Z",
     "start_time": "2023-12-06T04:43:25.622393Z"
    }
   },
   "outputs": [],
   "source": [
    "# Code negative run on previous plays\n",
    "df2['negative_run'] = np.where((df2['play_type']=='run') & (df2['yards_gained'] < 0) & (df2['turnover']==0), 1, 0)\n",
    "\n",
    "df2['prev1_negative_run'] = df2['negative_run'].shift(1).where(df2['drive'].shift(1) == df2['drive'], 0)\n",
    "df2['prev2_negative_run'] = df2['negative_run'].shift(2).where(df2['drive'].shift(2) == df2['drive'], 0)\n",
    "df2['prev3_negative_run'] = df2['negative_run'].shift(3).where(df2['drive'].shift(3) == df2['drive'], 0)\n",
    "\n",
    "# Drop negative run\n",
    "df2.drop(['negative_run'], axis=1, inplace=True)"
   ]
  },
  {
   "cell_type": "code",
   "execution_count": 91,
   "id": "a9c916bb4fbfb0a8",
   "metadata": {
    "pycharm": {
     "name": "#%%\n"
    },
    "ExecuteTime": {
     "end_time": "2023-12-06T04:43:25.881258Z",
     "start_time": "2023-12-06T04:43:25.774843Z"
    }
   },
   "outputs": [
    {
     "data": {
      "text/plain": "play_type_prev1\npass    26281\nrun     21072\nnone    10090\nName: count, dtype: int64"
     },
     "execution_count": 91,
     "metadata": {},
     "output_type": "execute_result"
    }
   ],
   "source": [
    "# Code the play_type on previous plays\n",
    "df2['play_type_prev1'] = df2['play_type'].shift(1).where(df2['drive'].shift(1) == df2['drive'], np.nan)\n",
    "df2['play_type_prev2'] = df2['play_type'].shift(2).where(df2['drive'].shift(2) == df2['drive'], np.nan)\n",
    "df2['play_type_prev3'] = df2['play_type'].shift(3).where(df2['drive'].shift(3) == df2['drive'], np.nan)\n",
    "df2['play_type_prev4'] = df2['play_type'].shift(4).where(df2['drive'].shift(4) == df2['drive'], np.nan)\n",
    "\n",
    "# Impute with mode value\n",
    "df2['play_type_prev1'] = np.where(df2['play_type_prev1'].isnull(), 'none', df2['play_type_prev1'])\n",
    "df2['play_type_prev2'] = np.where(df2['play_type_prev2'].isnull(), 'none', df2['play_type_prev2'])\n",
    "df2['play_type_prev3'] = np.where(df2['play_type_prev3'].isnull(), 'none', df2['play_type_prev3'])\n",
    "df2['play_type_prev4'] = np.where(df2['play_type_prev4'].isnull(), 'none', df2['play_type_prev4'])\n",
    "\n",
    "df2.play_type_prev1.value_counts(dropna=False)"
   ]
  },
  {
   "cell_type": "code",
   "execution_count": 92,
   "outputs": [],
   "source": [
    "# Code the play_type on previous plays\n",
    "df2['penalty_team_prev1'] = df2['penalty_team'].shift(1).where(df2['drive'].shift(1) == df2['drive'], '')\n",
    "df2['penalty_team_prev2'] = df2['penalty_team'].shift(2).where(df2['drive'].shift(2) == df2['drive'], '')\n",
    "df2['penalty_team_prev3'] = df2['penalty_team'].shift(3).where(df2['drive'].shift(3) == df2['drive'], '')\n",
    "\n",
    "##########\n",
    "df2['prev1_play_off_penalty'] = np.where(df2['penalty_team_prev1'] == df2['posteam'], 1, 0)\n",
    "df2['prev1_play_def_penalty'] = np.where(df2['penalty_team_prev1'] == df2['defteam'], 1, 0)\n",
    "\n",
    "##########\n",
    "df2['prev2_play_off_penalty'] = np.where(df2['penalty_team_prev2'] == df2['posteam'], 1, 0)\n",
    "df2['prev2_play_def_penalty'] = np.where(df2['penalty_team_prev2'] == df2['defteam'], 1, 0)\n",
    "\n",
    "##########\n",
    "df2['prev3_play_off_penalty'] = np.where(df2['penalty_team_prev3'] == df2['posteam'], 1, 0)\n",
    "df2['prev3_play_def_penalty'] = np.where(df2['penalty_team_prev3'] == df2['defteam'], 1, 0)\n",
    "\n",
    "#########\n",
    "df2.drop(['penalty_team','penalty_team_prev1','penalty_team_prev2','penalty_team_prev3'], axis=1, inplace=True)"
   ],
   "metadata": {
    "collapsed": false,
    "ExecuteTime": {
     "end_time": "2023-12-06T04:43:26.094976Z",
     "start_time": "2023-12-06T04:43:25.838048Z"
    }
   },
   "id": "53492c4f9a22319d"
  },
  {
   "cell_type": "code",
   "execution_count": 93,
   "id": "ee8b6b58",
   "metadata": {
    "pycharm": {
     "name": "#%%\n"
    },
    "ExecuteTime": {
     "end_time": "2023-12-06T04:43:26.246044Z",
     "start_time": "2023-12-06T04:43:26.023181Z"
    }
   },
   "outputs": [],
   "source": [
    "# Code the play_type_detail on previous plays\n",
    "df2['play_type_detail_prev1'] = df2['play_type_detail'].shift(1).where(df2['drive'].shift(1) == df2['drive'], '')\n",
    "df2['play_type_detail_prev2'] = df2['play_type_detail'].shift(2).where(df2['drive'].shift(2) == df2['drive'], '')\n",
    "df2['play_type_detail_prev3'] = df2['play_type_detail'].shift(3).where(df2['drive'].shift(3) == df2['drive'], '')\n",
    "\n",
    "df2['prev1_play_run_outside'] = np.where(df2['play_type_detail_prev1'] == 'run_outside', 1, 0)\n",
    "df2['prev1_play_run_inside'] = np.where(df2['play_type_detail_prev1'] == 'run_inside', 1, 0)\n",
    "df2['prev1_play_pass_deep'] = np.where(df2['play_type_detail_prev1'] == 'pass_deep', 1, 0)\n",
    "df2['prev1_play_pass_short'] = np.where(df2['play_type_detail_prev1'] == 'pass_short', 1, 0)\n",
    "\n",
    "df2['prev2_play_run_outside'] = np.where(df2['play_type_detail_prev2'] == 'run_outside', 1, 0)\n",
    "df2['prev2_play_run_inside'] = np.where(df2['play_type_detail_prev2'] == 'run_inside', 1, 0)\n",
    "df2['prev2_play_pass_deep'] = np.where(df2['play_type_detail_prev2'] == 'pass_deep', 1, 0)\n",
    "df2['prev2_play_pass_short'] = np.where(df2['play_type_detail_prev2'] == 'pass_short', 1, 0)\n",
    "\n",
    "df2['prev3_play_run_outside'] = np.where(df2['play_type_detail_prev3'] == 'run_outside', 1, 0)\n",
    "df2['prev3_play_run_inside'] = np.where(df2['play_type_detail_prev3'] == 'run_inside', 1, 0)\n",
    "df2['prev3_play_pass_deep'] = np.where(df2['play_type_detail_prev3'] == 'pass_deep', 1, 0)\n",
    "df2['prev3_play_pass_short'] = np.where(df2['play_type_detail_prev3'] == 'pass_short', 1, 0)\n",
    "\n",
    "df2.drop(['play_type_detail_prev1','play_type_detail_prev2','play_type_detail_prev3'], axis=1, inplace=True)"
   ]
  },
  {
   "cell_type": "code",
   "execution_count": 94,
   "id": "0e834398",
   "metadata": {
    "pycharm": {
     "name": "#%%\n"
    },
    "ExecuteTime": {
     "end_time": "2023-12-06T04:43:29.054304Z",
     "start_time": "2023-12-06T04:43:26.245821Z"
    }
   },
   "outputs": [],
   "source": [
    "# Code incomplete passes on previous plays\n",
    "df2['prev1_incomplete_pass'] = df2['incomplete_pass'].shift(1).where(df2['drive'].shift(1) == df2['drive'], 0)\n",
    "df2['prev2_incomplete_pass'] = df2['incomplete_pass'].shift(2).where(df2['drive'].shift(2) == df2['drive'], 0)\n",
    "df2['prev3_incomplete_pass'] = df2['incomplete_pass'].shift(3).where(df2['drive'].shift(3) == df2['drive'], 0)\n",
    "df2['prev4_incomplete_pass'] = df2['incomplete_pass'].shift(4).where(df2['drive'].shift(4) == df2['drive'], 0)\n",
    "\n",
    "df2['prev1_incomplete_pass'].fillna(0, inplace = True)\n",
    "df2['prev2_incomplete_pass'].fillna(0, inplace = True)\n",
    "df2['prev3_incomplete_pass'].fillna(0, inplace = True)\n",
    "df2['prev4_incomplete_pass'].fillna(0, inplace = True)\n",
    "\n",
    "# Calculate the percent of play classification within prior plays of current drive\n",
    "df2['drive_incomplete_pass_pcnt'] = (df2.groupby(['game_id', 'drive'])['incomplete_pass'].transform(lambda x: x.rolling(window=50, min_periods=1, closed='left').sum())/df2['play_sequence_series'] - 1).fillna(0)"
   ]
  },
  {
   "cell_type": "code",
   "execution_count": 95,
   "id": "499ece7b",
   "metadata": {
    "pycharm": {
     "name": "#%%\n"
    },
    "ExecuteTime": {
     "end_time": "2023-12-06T04:43:29.091140Z",
     "start_time": "2023-12-06T04:43:29.057584Z"
    }
   },
   "outputs": [],
   "source": [
    "# Code yards on previous plays\n",
    "df2['prev1_yards_gained'] = df2['yards_gained'].shift(1).where(df2['drive'].shift(1) == df2['drive'], 0)\n",
    "df2['prev2_yards_gained'] = df2['yards_gained'].shift(2).where(df2['drive'].shift(2) == df2['drive'], 0)\n",
    "df2['prev3_yards_gained'] = df2['yards_gained'].shift(3).where(df2['drive'].shift(3) == df2['drive'], 0)\n",
    "df2['prev4_yards_gained'] = df2['yards_gained'].shift(4).where(df2['drive'].shift(4) == df2['drive'], 0)\n",
    "\n",
    "df2['prev1_yards_gained'].fillna(0, inplace = True)\n",
    "df2['prev2_yards_gained'].fillna(0, inplace = True)\n",
    "df2['prev3_yards_gained'].fillna(0, inplace = True)\n",
    "df2['prev4_yards_gained'].fillna(0, inplace = True)"
   ]
  },
  {
   "cell_type": "code",
   "execution_count": 96,
   "id": "3d305698",
   "metadata": {
    "pycharm": {
     "name": "#%%\n"
    },
    "ExecuteTime": {
     "end_time": "2023-12-06T04:43:29.153814Z",
     "start_time": "2023-12-06T04:43:29.070552Z"
    }
   },
   "outputs": [],
   "source": [
    "# Code win probability of previous plays\n",
    "df2['prev1_wpa'] = df2['wpa'].shift(1).where(df2['drive'].shift(1) == df2['drive'], 0)\n",
    "df2['prev2_wpa'] = df2['wpa'].shift(2).where(df2['drive'].shift(2) == df2['drive'], 0)\n",
    "df2['prev3_wpa'] = df2['wpa'].shift(3).where(df2['drive'].shift(3) == df2['drive'], 0)\n",
    "df2['prev4_wpa'] = df2['wpa'].shift(4).where(df2['drive'].shift(4) == df2['drive'], 0)\n",
    "\n",
    "df2['prev1_wpa'].fillna(0, inplace = True)\n",
    "df2['prev2_wpa'].fillna(0, inplace = True)\n",
    "df2['prev3_wpa'].fillna(0, inplace = True)\n",
    "df2['prev4_wpa'].fillna(0, inplace = True)"
   ]
  },
  {
   "cell_type": "code",
   "execution_count": 97,
   "id": "ebaddd5d",
   "metadata": {
    "pycharm": {
     "name": "#%%\n"
    },
    "ExecuteTime": {
     "end_time": "2023-12-06T04:43:31.919018Z",
     "start_time": "2023-12-06T04:43:29.086647Z"
    }
   },
   "outputs": [],
   "source": [
    "# Code shotgun formation of previous plays\n",
    "df2['prev1_shotgun'] = df2['shotgun'].shift(1).where(df2['drive'].shift(1) == df2['drive'], 0)\n",
    "df2['prev2_shotgun'] = df2['shotgun'].shift(2).where(df2['drive'].shift(2) == df2['drive'], 0)\n",
    "df2['prev3_shotgun'] = df2['shotgun'].shift(3).where(df2['drive'].shift(3) == df2['drive'], 0)\n",
    "\n",
    "df2['prev1_shotgun'].fillna(0, inplace = True)\n",
    "df2['prev2_shotgun'].fillna(0, inplace = True)\n",
    "df2['prev3_shotgun'].fillna(0, inplace = True)\n",
    "\n",
    "# Calculate the percent of play classification within prior plays of current drive\n",
    "df2['drive_shotgun_pcnt'] = (df2.groupby(['game_id', 'drive'])['shotgun'].transform(lambda x: x.rolling(window=50, min_periods=1, closed='left').sum())/df2['play_sequence_series'] - 1).fillna(0)"
   ]
  },
  {
   "cell_type": "code",
   "execution_count": 98,
   "id": "11667503",
   "metadata": {
    "pycharm": {
     "name": "#%%\n"
    },
    "ExecuteTime": {
     "end_time": "2023-12-06T04:43:34.851932Z",
     "start_time": "2023-12-06T04:43:31.921210Z"
    }
   },
   "outputs": [],
   "source": [
    "# Code qb_hit on previous plays\n",
    "df2['prev1_qb_hit'] = df2['qb_hit'].shift(1).where(df2['drive'].shift(1) == df2['drive'], 0)\n",
    "df2['prev2_qb_hit'] = df2['qb_hit'].shift(2).where(df2['drive'].shift(2) == df2['drive'], 0)\n",
    "df2['prev3_qb_hit'] = df2['qb_hit'].shift(3).where(df2['drive'].shift(3) == df2['drive'], 0)\n",
    "\n",
    "df2['prev1_qb_hit'].fillna(0, inplace = True)\n",
    "df2['prev2_qb_hit'].fillna(0, inplace = True)\n",
    "df2['prev3_qb_hit'].fillna(0, inplace = True)\n",
    "\n",
    "# Calculate the percent of play classification within prior plays of current drive\n",
    "df2['drive_qb_hit_pcnt'] = (df2.groupby(['game_id', 'drive'])['qb_hit'].transform(lambda x: x.rolling(window=50, min_periods=1, closed='left').sum())/df2['play_sequence_series'] - 1).fillna(0)\n",
    "\n",
    "# Drop qb_hit\n",
    "df2.drop(['qb_hit'], axis=1, inplace=True)"
   ]
  },
  {
   "cell_type": "code",
   "execution_count": 99,
   "id": "a8545b7c",
   "metadata": {
    "pycharm": {
     "name": "#%%\n"
    },
    "ExecuteTime": {
     "end_time": "2023-12-06T04:43:37.553093Z",
     "start_time": "2023-12-06T04:43:34.852736Z"
    }
   },
   "outputs": [],
   "source": [
    "# Code no huddle of previous plays\n",
    "df2['prev1_no_huddle'] = df2['no_huddle'].shift(1).where(df2['drive'].shift(1) == df2['drive'], 0)\n",
    "df2['prev2_no_huddle'] = df2['no_huddle'].shift(2).where(df2['drive'].shift(2) == df2['drive'], 0)\n",
    "df2['prev3_no_huddle'] = df2['no_huddle'].shift(3).where(df2['drive'].shift(3) == df2['drive'], 0)\n",
    "\n",
    "df2['prev1_no_huddle'].fillna(0, inplace = True)\n",
    "df2['prev2_no_huddle'].fillna(0, inplace = True)\n",
    "df2['prev3_no_huddle'].fillna(0, inplace = True)\n",
    "\n",
    "# Calculate the percent of play classification within prior plays of current drive\n",
    "df2['drive_no_huddle_pcnt'] = (df2.groupby(['game_id', 'drive'])['no_huddle'].transform(lambda x: x.rolling(window=50, min_periods=1, closed='left').sum())/df2['play_sequence_series'] - 1).fillna(0)\n"
   ]
  },
  {
   "cell_type": "code",
   "execution_count": 100,
   "id": "54249c62",
   "metadata": {
    "pycharm": {
     "name": "#%%\n"
    },
    "ExecuteTime": {
     "end_time": "2023-12-06T04:43:37.804659Z",
     "start_time": "2023-12-06T04:43:37.557258Z"
    }
   },
   "outputs": [],
   "source": [
    "# Code first down achieved on a previous play\n",
    "df2['prev1_first_down_pass'] = df2['first_down_pass'].shift(1).where(df2['drive'].shift(1) == df2['drive'], 0)\n",
    "df2['prev2_first_down_pass'] = df2['first_down_pass'].shift(2).where(df2['drive'].shift(2) == df2['drive'], 0)\n",
    "df2['prev3_first_down_pass'] = df2['first_down_pass'].shift(3).where(df2['drive'].shift(3) == df2['drive'], 0)\n",
    "\n",
    "df2['prev1_first_down_pass'].fillna(0, inplace = True)\n",
    "df2['prev2_first_down_pass'].fillna(0, inplace = True)\n",
    "df2['prev3_first_down_pass'].fillna(0, inplace = True)\n",
    "\n",
    "# Drop first_down_pass\n",
    "df2.drop(['first_down_pass'], axis=1, inplace=True)"
   ]
  },
  {
   "cell_type": "code",
   "execution_count": 101,
   "id": "18866cfc",
   "metadata": {
    "pycharm": {
     "name": "#%%\n"
    },
    "ExecuteTime": {
     "end_time": "2023-12-06T04:43:37.989547Z",
     "start_time": "2023-12-06T04:43:37.807695Z"
    }
   },
   "outputs": [],
   "source": [
    "# Code first down achieved on a previous play\n",
    "df2['prev1_first_down_run'] = df2['first_down_rush'].shift(1).where(df2['drive'].shift(1) == df2['drive'], 0)\n",
    "df2['prev2_first_down_run'] = df2['first_down_rush'].shift(2).where(df2['drive'].shift(2) == df2['drive'], 0)\n",
    "df2['prev3_first_down_run'] = df2['first_down_rush'].shift(3).where(df2['drive'].shift(3) == df2['drive'], 0)\n",
    "\n",
    "df2['prev1_first_down_run'].fillna(0, inplace = True)\n",
    "df2['prev2_first_down_run'].fillna(0, inplace = True)\n",
    "df2['prev3_first_down_run'].fillna(0, inplace = True)\n",
    "\n",
    "# Drop first_down_rush\n",
    "df2.drop(['first_down_rush'], axis=1, inplace=True)"
   ]
  },
  {
   "cell_type": "code",
   "execution_count": 102,
   "id": "d596bfa2",
   "metadata": {
    "pycharm": {
     "name": "#%%\n"
    },
    "ExecuteTime": {
     "end_time": "2023-12-06T04:43:40.763486Z",
     "start_time": "2023-12-06T04:43:37.993635Z"
    }
   },
   "outputs": [],
   "source": [
    "# Code play efficiency (1st down >= 4, 2nd down half the distance, 3rd and 4th down = first down)\n",
    "df2['effct_play'] = np.where((df2['down']==1) & (df2['yards_gained'] >= 4) & (df2['turnover'] == 0), 1,\n",
    "                             np.where((df2['down']==2) & (df2['yards_gained'] >= (df2['ydstogo']/2)) & (df2['turnover'] == 0), 1,\n",
    "                                      np.where((df2['down']==3) & (df2['yards_gained'] >= df2['ydstogo']) & (df2['turnover'] == 0), 1,\n",
    "                                               np.where((df2['down']==4) & (df2['yards_gained'] >= df2['ydstogo']) & (df2['turnover'] == 0), 1, 0))))\n",
    "\n",
    "df2['prev1_effct_play'] = df2['effct_play'].shift(1).where(df2['drive'].shift(1) == df2['drive'], 0)\n",
    "df2['prev2_effct_play'] = df2['effct_play'].shift(2).where(df2['drive'].shift(2) == df2['drive'], 0)\n",
    "df2['prev3_effct_play'] = df2['effct_play'].shift(3).where(df2['drive'].shift(3) == df2['drive'], 0)\n",
    "\n",
    "# Calculate the percent of play classification within prior plays of current drive\n",
    "df2['drive_effct_play_pcnt'] = (df2.groupby(['game_id', 'drive'])['effct_play'].transform(lambda x: x.rolling(window=50, min_periods=1, closed='left').sum())/df2['play_sequence_series'] - 1).fillna(0)"
   ]
  },
  {
   "cell_type": "code",
   "execution_count": 103,
   "id": "ae362f7c",
   "metadata": {
    "pycharm": {
     "name": "#%%\n"
    },
    "ExecuteTime": {
     "end_time": "2023-12-06T04:43:40.777966Z",
     "start_time": "2023-12-06T04:43:40.762349Z"
    }
   },
   "outputs": [],
   "source": [
    "# Code downs_remaining\n",
    "df2['remaining_downs'] = np.where(df2['down'] == 1, 3, \n",
    "                                  np.where(df2['down'] == 2, 2,\n",
    "                                           np.where((df2['down'] == 3) & (df2['yardline_100'] <= 55) & (df2['yardline_100'] >= 33) & (df2['ydstogo'] <= 8), 2,\n",
    "                                                    np.where(df2['down'] == 3, 1,\n",
    "                                                             np.where(df2['down'] == 4, 1, 1)))))\n",
    "\n",
    "# Code yards_per_down remaining\n",
    "df2['remaining_yards_per_down'] = df2['ydstogo'] / df2['remaining_downs']"
   ]
  },
  {
   "cell_type": "code",
   "execution_count": 104,
   "id": "46fc0074",
   "metadata": {
    "pycharm": {
     "name": "#%%\n"
    },
    "ExecuteTime": {
     "end_time": "2023-12-06T04:43:40.868951Z",
     "start_time": "2023-12-06T04:43:40.784553Z"
    }
   },
   "outputs": [],
   "source": [
    "df2['game_half'] = np.where(df2['game_half'] == 'Half1', 1, np.where(df2['game_half'] == 'Half2', 2, 3))"
   ]
  },
  {
   "cell_type": "code",
   "execution_count": 105,
   "id": "d4e8738039da1358",
   "metadata": {
    "pycharm": {
     "name": "#%%\n"
    },
    "ExecuteTime": {
     "end_time": "2023-12-06T04:43:40.920469Z",
     "start_time": "2023-12-06T04:43:40.823654Z"
    }
   },
   "outputs": [
    {
     "data": {
      "text/plain": "drive_start\ntransfer_poss    52282\nsudden_change     5161\nName: count, dtype: int64"
     },
     "execution_count": 105,
     "metadata": {},
     "output_type": "execute_result"
    }
   ],
   "source": [
    "df2['drive_start_transition'] = df2['drive_start_transition'].str.strip().str.replace(',','').replace('_','').str.strip().str.upper()\n",
    "\n",
    "# Create mapping between drive start transition and drive start category\n",
    "drive_start_map = {'INTERCEPTION': 'sudden_change',\n",
    "                   'FUMBLE': 'sudden_change',\n",
    "                   'MUFFED_PUNT': 'sudden_change',\n",
    "                   'ONSIDE_KICK': 'sudden_change',\n",
    "                   'BLOCKED_FG': 'sudden_change',\n",
    "                   'BLOCKED_PUNT': 'sudden_change',\n",
    "                   'BLOCKED_FG_DOWNS': 'sudden_change',\n",
    "                   'BLOCKED_FG, DOWNS': 'sudden_change',\n",
    "                   'BLOCKED_PUNT_DOWNS': 'sudden_change',\n",
    "                   'MUFFED_KICKOFF': 'sudden_change',\n",
    "                   'OWN_KICKOFF': 'sudden_change',\n",
    "                   'DOWNS': 'transfer_poss',\n",
    "                   'MISSED_FG': 'transfer_poss',\n",
    "                   'KICKOFF': 'transfer_poss',\n",
    "                   'PUNT': 'transfer_poss',\n",
    "                   }\n",
    "\n",
    "df2['drive_start'] = df2['drive_start_transition'].map(drive_start_map).fillna(df2['drive_start_transition'])\n",
    "df2['drive_start'].fillna('NULL', inplace=True)\n",
    "\n",
    "df2.drive_start.value_counts(dropna=False)"
   ]
  },
  {
   "cell_type": "code",
   "execution_count": 106,
   "id": "acc2c710",
   "metadata": {
    "pycharm": {
     "name": "#%%\n"
    },
    "ExecuteTime": {
     "end_time": "2023-12-06T04:43:40.956586Z",
     "start_time": "2023-12-06T04:43:40.870485Z"
    }
   },
   "outputs": [],
   "source": [
    "df2['two_min_warning'] = np.where(df2['half_seconds_remaining'] <= 120, 1, 0)"
   ]
  },
  {
   "cell_type": "code",
   "execution_count": 107,
   "id": "ff49edde",
   "metadata": {
    "pycharm": {
     "name": "#%%\n"
    },
    "ExecuteTime": {
     "end_time": "2023-12-06T04:43:40.961185Z",
     "start_time": "2023-12-06T04:43:40.876121Z"
    }
   },
   "outputs": [],
   "source": [
    "df2['ep_half_sec_ratio'] = (df2['ep'] / (df2['half_seconds_remaining'] + 1 ))\n",
    "df2['ep_game_sec_ratio'] = (df2['ep'] / (df2['game_seconds_remaining'] + 1 ))"
   ]
  },
  {
   "cell_type": "code",
   "execution_count": 108,
   "outputs": [],
   "source": [
    "df2['posteam_season'] = df2['posteam'] + '_' + df2['season'].astype(str)"
   ],
   "metadata": {
    "collapsed": false,
    "ExecuteTime": {
     "end_time": "2023-12-06T04:43:41.092182Z",
     "start_time": "2023-12-06T04:43:40.927898Z"
    }
   },
   "id": "84940bfa33c85d70"
  },
  {
   "cell_type": "raw",
   "source": [
    "# Code possession team days-rest\n",
    "df2['posteam_rest'] = np.where(df2['posteam']==df2['home_team'], df2['home_rest'],\n",
    "                      np.where(df2['posteam']==df2['away_team'], df2['away_rest'], 0))"
   ],
   "metadata": {
    "collapsed": false
   },
   "id": "f54354d31e921896"
  },
  {
   "cell_type": "raw",
   "source": [
    "# Code defensive team days-rest\n",
    "df2['defteam_rest'] = np.where(df2['defteam']==df2['home_team'], df2['home_rest'],\n",
    "                      np.where(df2['defteam']==df2['away_team'], df2['away_rest'], 0))"
   ],
   "metadata": {
    "collapsed": false
   },
   "id": "9f0101c136a59a4f"
  },
  {
   "cell_type": "raw",
   "source": [
    "# Code possession team days-rest\n",
    "df2['posteam_rest'] = np.where(df2['posteam']==df2['home_team'], df2['home_rest'],\n",
    "                      np.where(df2['posteam']==df2['away_team'], df2['away_rest'], 0))"
   ],
   "metadata": {
    "collapsed": false
   },
   "id": "7becc404b9a3c840"
  },
  {
   "cell_type": "raw",
   "source": [
    "# Code defensive team days-rest\n",
    "df2['defteam_rest'] = np.where(df2['defteam']==df2['home_team'], df2['home_rest'],\n",
    "                      np.where(df2['defteam']==df2['away_team'], df2['away_rest'], 0))"
   ],
   "metadata": {
    "collapsed": false
   },
   "id": "f9d27b53626b770f"
  },
  {
   "cell_type": "raw",
   "source": [
    "# Code hour at start of game (24-hour)\n",
    "df2['game_start_hour'] = pd.DatetimeIndex(df2['gametime']).hour"
   ],
   "metadata": {
    "collapsed": false
   },
   "id": "ab1672fa2d745beb"
  },
  {
   "cell_type": "code",
   "execution_count": 109,
   "id": "0db5d489",
   "metadata": {
    "pycharm": {
     "name": "#%%\n"
    },
    "ExecuteTime": {
     "end_time": "2023-12-06T04:43:41.517442Z",
     "start_time": "2023-12-06T04:43:40.933446Z"
    }
   },
   "outputs": [
    {
     "data": {
      "text/plain": "(57443, 425)"
     },
     "execution_count": 109,
     "metadata": {},
     "output_type": "execute_result"
    }
   ],
   "source": [
    "# Duplicate dataframe\n",
    "df3 = df2.copy()\n",
    "\n",
    "df3.shape"
   ]
  },
  {
   "cell_type": "code",
   "execution_count": 110,
   "id": "698b666c",
   "metadata": {
    "pycharm": {
     "name": "#%%\n"
    },
    "ExecuteTime": {
     "end_time": "2023-12-06T04:43:41.600845Z",
     "start_time": "2023-12-06T04:43:41.507224Z"
    }
   },
   "outputs": [],
   "source": [
    "# Rename target classes\n",
    "df3['play_type_detail'] = np.where(df3['play_type_detail'] == 'pass_short', 'short',\n",
    "                                   np.where(df3['play_type_detail'] == 'pass_deep', 'deep',\n",
    "                                            np.where(df3['play_type_detail'] == 'run_inside', 'inside',\n",
    "                                                     np.where(df3['play_type_detail'] == 'run_outside', 'outside',\n",
    "                                                              df3['play_type_detail']))))"
   ]
  },
  {
   "cell_type": "markdown",
   "source": [
    "## Impute missing values"
   ],
   "metadata": {
    "collapsed": false
   },
   "id": "ebe7ff576538a52a"
  },
  {
   "cell_type": "code",
   "execution_count": 111,
   "outputs": [
    {
     "data": {
      "text/plain": "0"
     },
     "execution_count": 111,
     "metadata": {},
     "output_type": "execute_result"
    }
   ],
   "source": [
    "# Impute missing offense_personnel using the previous play within drive\n",
    "df3['offense_personnel'] = df3['offense_personnel'].fillna(df3.groupby(['game_id', 'drive'])['offense_personnel'].transform('last'))\n",
    "\n",
    "df3.offense_personnel.isnull().sum()"
   ],
   "metadata": {
    "collapsed": false,
    "ExecuteTime": {
     "end_time": "2023-12-06T04:43:41.638658Z",
     "start_time": "2023-12-06T04:43:41.537940Z"
    }
   },
   "id": "eadf1a9124524faf"
  },
  {
   "cell_type": "code",
   "execution_count": 112,
   "outputs": [
    {
     "data": {
      "text/plain": "0"
     },
     "execution_count": 112,
     "metadata": {},
     "output_type": "execute_result"
    }
   ],
   "source": [
    "df3['defense_personnel'] = df3['defense_personnel'].fillna(df3.groupby(['game_id', 'drive'])['defense_personnel'].transform('last'))\n",
    "\n",
    "df3.defense_personnel.isnull().sum()"
   ],
   "metadata": {
    "collapsed": false,
    "ExecuteTime": {
     "end_time": "2023-12-06T04:43:41.639030Z",
     "start_time": "2023-12-06T04:43:41.578300Z"
    }
   },
   "id": "3df2a3af7397754c"
  },
  {
   "cell_type": "code",
   "execution_count": 113,
   "outputs": [
    {
     "data": {
      "text/plain": "0"
     },
     "execution_count": 113,
     "metadata": {},
     "output_type": "execute_result"
    }
   ],
   "source": [
    "# Impute defenders_in_box\n",
    "df3['defenders_in_box'] = df3['defenders_in_box'].fillna(df3.groupby(['defteam'])['defenders_in_box'].transform('mean'))\n",
    "\n",
    "# Print missing value counts\n",
    "df3['defenders_in_box'].isnull().sum()"
   ],
   "metadata": {
    "collapsed": false,
    "ExecuteTime": {
     "end_time": "2023-12-06T04:43:41.711178Z",
     "start_time": "2023-12-06T04:43:41.605783Z"
    }
   },
   "id": "7b310cc77b106812"
  },
  {
   "cell_type": "markdown",
   "id": "e18e8f00",
   "metadata": {
    "pycharm": {
     "name": "#%% md\n"
    }
   },
   "source": [
    "## FEATURE ENGINEERING"
   ]
  },
  {
   "cell_type": "code",
   "execution_count": 114,
   "outputs": [],
   "source": [
    "# Binary code for side of field = posteam\n",
    "df3['posteam_side'] = np.where(df3['posteam'] == df3['side_of_field'], 1, 0)\n",
    "\n",
    "# Drop side_of_field\n",
    "df3.drop(['side_of_field'], axis=1, inplace=True)"
   ],
   "metadata": {
    "collapsed": false,
    "ExecuteTime": {
     "end_time": "2023-12-06T04:43:41.993957Z",
     "start_time": "2023-12-06T04:43:41.755893Z"
    }
   },
   "id": "c9be070286185e70"
  },
  {
   "cell_type": "code",
   "execution_count": 115,
   "outputs": [],
   "source": [
    "# Combine features\n",
    "df3['remain_yds_div_def_box'] = df3['remaining_yards_per_down'] / df3['defenders_in_box']\n",
    "df3['remain_yds_prod_def_box'] = df3['remaining_yards_per_down'] * df3['defenders_in_box']"
   ],
   "metadata": {
    "collapsed": false,
    "ExecuteTime": {
     "end_time": "2023-12-06T04:43:41.994621Z",
     "start_time": "2023-12-06T04:43:41.849819Z"
    }
   },
   "id": "b009ef99aa36a3b4"
  },
  {
   "cell_type": "code",
   "execution_count": 116,
   "id": "c24a330b",
   "metadata": {
    "pycharm": {
     "name": "#%%\n"
    },
    "ExecuteTime": {
     "end_time": "2023-12-06T04:43:43.889653Z",
     "start_time": "2023-12-06T04:43:41.858307Z"
    }
   },
   "outputs": [],
   "source": [
    "# Calculate average run ratio per game\n",
    "rro_df = df3.groupby(['posteam','game_id','qtr','down'])['rush_attempt'].apply(lambda x : x.astype(float).mean()).reset_index()\n",
    "\n",
    "# Sort dataframe\n",
    "rro_df = rro_df.sort_values(by=['posteam','qtr','down'], ascending=True)\n",
    "\n",
    "# Calculate rolling average per quarter\n",
    "rro_df['run_ratio_off_priors'] = rro_df.groupby(['posteam','qtr','down'])['rush_attempt'].transform(lambda x: x.rolling(window=3,\n",
    "                                                                                                                        min_periods=1,\n",
    "                                                                                                                        closed='left',\n",
    "                                                                                                                        center=False).mean())\n",
    "\n",
    "rro_df = rro_df.sort_values(by=['posteam','qtr','down'], ascending=True)\n",
    "\n",
    "rro_df.drop(['rush_attempt'], axis=1, inplace=True)\n",
    "\n",
    "# Impute missing values by the league average per qtr/down\n",
    "rro_df['run_ratio_off_priors'] = rro_df['run_ratio_off_priors'].fillna(rro_df.groupby(['qtr','down'])['run_ratio_off_priors'].transform('mean'))\n",
    "\n",
    "# Merge msa_df with df\n",
    "df3 = df3.merge(rro_df, how='left', left_on=['posteam','game_id','qtr','down'], right_on=['posteam','game_id','qtr','down'])\n",
    "\n",
    "# Impute values\n",
    "df3['run_ratio_off_priors'] = df3['run_ratio_off_priors'].fillna(df3.groupby(['game_id', 'posteam'])['run_ratio_off_priors'].transform('last'))"
   ]
  },
  {
   "cell_type": "code",
   "execution_count": 117,
   "id": "621268f8",
   "metadata": {
    "ExecuteTime": {
     "end_time": "2023-12-06T04:43:45.717827Z",
     "start_time": "2023-12-06T04:43:43.890360Z"
    }
   },
   "outputs": [],
   "source": [
    "# Calculate average run ratio per game\n",
    "rrd_df = df3.groupby(['defteam','game_id','qtr','down'])['rush_attempt'].apply(lambda x : x.astype(float).mean()).reset_index()\n",
    "\n",
    "# Sort dataframe\n",
    "rrd_df = rrd_df.sort_values(by=['defteam','qtr','down'], ascending=True)\n",
    "\n",
    "# Calculate rolling average per quarter\n",
    "rrd_df['run_ratio_def_priors'] = rrd_df.groupby(['defteam','qtr','down'])['rush_attempt'].transform(lambda x: x.rolling(window=3,\n",
    "                                                                                                                        min_periods=1,\n",
    "                                                                                                                        closed='left',\n",
    "                                                                                                                        center=False).mean())\n",
    "\n",
    "rrd_df = rrd_df.sort_values(by=['defteam','qtr','down'], ascending=True)\n",
    "\n",
    "rrd_df.drop(['rush_attempt'], axis=1, inplace=True)\n",
    "\n",
    "# Impute missing values by the league average per qtr/down\n",
    "rrd_df['run_ratio_def_priors'] = rrd_df['run_ratio_def_priors'].fillna(rrd_df.groupby(['qtr','down'])['run_ratio_def_priors'].transform('mean'))\n",
    "\n",
    "# Merge msa_df with df\n",
    "df3 = df3.merge(rrd_df, how='left', left_on=['defteam','game_id','qtr','down'], right_on=['defteam','game_id','qtr','down'])\n",
    "\n",
    "# Impute defenders_in_box\n",
    "df3['run_ratio_def_priors'] = df3['run_ratio_def_priors'].fillna(df3.groupby(['game_id', 'posteam'])['run_ratio_def_priors'].transform('last'))"
   ]
  },
  {
   "cell_type": "markdown",
   "id": "2bb96e39",
   "metadata": {
    "pycharm": {
     "name": "#%% md\n"
    }
   },
   "source": [
    "## Future features"
   ]
  },
  {
   "cell_type": "raw",
   "id": "c07e1771",
   "metadata": {
    "pycharm": {
     "name": "#%% raw\n"
    }
   },
   "source": [
    "Offensive Roster: \n",
    "    Average Height of starting wide receivers/tight end\n",
    "    Average weight of starting offensive line\n",
    "    All-Pro QB\n",
    "    All-Pro RB\n",
    "    All-Pro WR (Count)\n",
    "    All-Pro TE\n",
    "    Pro Bowl QB\n",
    "    Pro Bowl RB\n",
    "    Pro Bowl WR (Count)\n",
    "    Number of starters during the season / 11"
   ]
  },
  {
   "cell_type": "markdown",
   "id": "f69df925",
   "metadata": {
    "pycharm": {
     "name": "#%% md\n"
    }
   },
   "source": [
    "## Play prediction filters"
   ]
  },
  {
   "cell_type": "code",
   "execution_count": 118,
   "outputs": [
    {
     "data": {
      "text/plain": "(57443, 429)"
     },
     "execution_count": 118,
     "metadata": {},
     "output_type": "execute_result"
    }
   ],
   "source": [
    "df3.shape"
   ],
   "metadata": {
    "collapsed": false,
    "ExecuteTime": {
     "end_time": "2023-12-06T04:43:45.729995Z",
     "start_time": "2023-12-06T04:43:45.718997Z"
    }
   },
   "id": "3f4b28a04b0a70a6"
  },
  {
   "cell_type": "code",
   "execution_count": 119,
   "id": "e72b6525dab6daf8",
   "metadata": {
    "pycharm": {
     "name": "#%%\n"
    },
    "ExecuteTime": {
     "end_time": "2023-12-06T04:43:46.314671Z",
     "start_time": "2023-12-06T04:43:45.724449Z"
    }
   },
   "outputs": [
    {
     "data": {
      "text/plain": "(57443, 429)"
     },
     "execution_count": 119,
     "metadata": {},
     "output_type": "execute_result"
    }
   ],
   "source": [
    "df3 = df3.loc[(df3['play_type'] == 'pass') | (df3['play_type'] == 'run')]\n",
    "df3 = df3[~df3['play_type_detail'].isin(['qb_scramble','qb_spike','qb_kneel'])]\n",
    "\n",
    "df3.shape"
   ]
  },
  {
   "cell_type": "code",
   "execution_count": 120,
   "outputs": [
    {
     "data": {
      "text/plain": "(57443, 429)"
     },
     "execution_count": 120,
     "metadata": {},
     "output_type": "execute_result"
    }
   ],
   "source": [
    "df3 = df3.loc[~df3['desc'].str.contains('punt formation')]\n",
    "df3 = df3.loc[~df3['desc'].str.contains('field goal formation')]\n",
    "\n",
    "df3.shape"
   ],
   "metadata": {
    "collapsed": false,
    "ExecuteTime": {
     "end_time": "2023-12-06T04:43:46.700240Z",
     "start_time": "2023-12-06T04:43:46.335285Z"
    }
   },
   "id": "89d204e47e7db838"
  },
  {
   "cell_type": "code",
   "execution_count": 121,
   "outputs": [
    {
     "data": {
      "text/plain": "(57443, 429)"
     },
     "execution_count": 121,
     "metadata": {},
     "output_type": "execute_result"
    }
   ],
   "source": [
    "df3 = df3.loc[df3['drive_start'] != 'NULL']\n",
    "\n",
    "df3.shape"
   ],
   "metadata": {
    "collapsed": false,
    "ExecuteTime": {
     "end_time": "2023-12-06T04:43:46.887271Z",
     "start_time": "2023-12-06T04:43:46.694253Z"
    }
   },
   "id": "c58e1a8415432aff"
  },
  {
   "cell_type": "code",
   "execution_count": 122,
   "outputs": [
    {
     "name": "stdout",
     "output_type": "stream",
     "text": [
      "Single value columns: Index(['qb_scramble', 'offsetting_penalties', 'run_formation'], dtype='object')\n",
      "Remaining columns: 426\n"
     ]
    }
   ],
   "source": [
    "# Print a list of columns with only one value and then drop them\n",
    "single_value_columns = df3.loc[:,df3.nunique() == 1].columns\n",
    "df3 = df3.loc[:,df3.nunique() > 1]\n",
    "\n",
    "print('Single value columns:', single_value_columns)\n",
    "print('Remaining columns:', df3.shape[1])"
   ],
   "metadata": {
    "collapsed": false,
    "ExecuteTime": {
     "end_time": "2023-12-06T04:43:48.285369Z",
     "start_time": "2023-12-06T04:43:46.878086Z"
    }
   },
   "id": "87fa752fb821e6fc"
  },
  {
   "cell_type": "code",
   "execution_count": 123,
   "id": "9da6ff5d",
   "metadata": {
    "pycharm": {
     "name": "#%%\n"
    },
    "ExecuteTime": {
     "end_time": "2023-12-06T04:43:48.288057Z",
     "start_time": "2023-12-06T04:43:48.279352Z"
    }
   },
   "outputs": [],
   "source": [
    "# Convert properties into integer\n",
    "df3['yardline_100'] = df3['yardline_100'].astype(int)\n",
    "df3['down'] = df3['down'].astype(int)\n",
    "df3['drive'] = df3['drive'].astype(int)\n",
    "df3['ydstogo'] = df3['ydstogo'].astype(int)"
   ]
  },
  {
   "cell_type": "code",
   "execution_count": 124,
   "id": "28726b32",
   "metadata": {
    "pycharm": {
     "name": "#%%\n"
    },
    "ExecuteTime": {
     "end_time": "2023-12-06T04:43:48.350504Z",
     "start_time": "2023-12-06T04:43:48.290734Z"
    }
   },
   "outputs": [
    {
     "data": {
      "text/plain": "play_type_detail\nshort        22573\ninside       11935\noutside      11148\ndeep          9399\npass_sack     2363\nrun             22\npass             3\nName: count, dtype: int64"
     },
     "execution_count": 124,
     "metadata": {},
     "output_type": "execute_result"
    }
   ],
   "source": [
    "counts = df3.play_type_detail.value_counts(normalize=False)\n",
    "counts"
   ]
  },
  {
   "cell_type": "markdown",
   "id": "9636a83d",
   "metadata": {
    "pycharm": {
     "name": "#%% md\n"
    }
   },
   "source": [
    "## DROP COLUMNS"
   ]
  },
  {
   "cell_type": "code",
   "execution_count": 125,
   "outputs": [
    {
     "data": {
      "text/plain": "(57443, 147)"
     },
     "execution_count": 125,
     "metadata": {},
     "output_type": "execute_result"
    }
   ],
   "source": [
    "# Drop unused features\n",
    "df3.drop(['old_game_id','game_alt_id','season_type','game_date','drive','time','yrdln','ydsnet','play','qb_dropback','air_yards','yards_after_catch','timeout','timeout_team','td_team','td_player_name','td_player_id','total_home_score','total_away_score','posteam_score_post','defteam_score_post','score_differential_post','opp_fg_prob','opp_safety_prob','opp_td_prob','total_home_epa','total_away_epa','total_home_rush_epa','total_away_rush_epa','total_home_pass_epa','total_away_pass_epa','air_epa','yac_epa','comp_air_epa','comp_yac_epa','total_home_comp_air_epa','total_away_comp_air_epa','total_home_comp_yac_epa','total_away_comp_yac_epa','total_home_raw_air_epa','total_away_raw_air_epa','total_home_raw_yac_epa','total_away_raw_yac_epa','def_wp','home_wp','away_wp','wpa','vegas_wpa','vegas_home_wpa','home_wp_post','away_wp_post','vegas_wp','vegas_home_wp','total_home_rush_wpa','total_away_rush_wpa','total_home_pass_wpa','total_away_pass_wpa','air_wpa','yac_wpa','comp_air_wpa','comp_yac_wpa','total_home_comp_air_wpa','total_away_comp_air_wpa','total_home_comp_yac_wpa','total_away_comp_yac_wpa','total_home_raw_air_wpa','total_away_raw_air_wpa','total_home_raw_yac_wpa','total_away_raw_yac_wpa','first_down_penalty','third_down_converted','third_down_failed','fourth_down_converted','fourth_down_failed','incomplete_pass','touchback','interception','fumble_forced','fumble_not_forced','fumble_out_of_bounds','solo_tackle','sack','safety','penalty','tackled_for_loss','fumble_lost','touchdown','pass_touchdown','rush_touchdown','return_touchdown','fumble','complete_pass','assist_tackle','lateral_reception','lateral_rush','lateral_return','lateral_recovery','passer_player_id','passer_player_name','passing_yards','receiver_player_id','receiver_player_name','receiving_yards','rusher_player_id','rusher_player_name','rushing_yards','lateral_receiver_player_id','lateral_receiver_player_name','lateral_receiving_yards','lateral_rusher_player_id','lateral_rusher_player_name','lateral_rushing_yards','interception_player_id','interception_player_name','lateral_interception_player_id','lateral_interception_player_name','tackle_for_loss_1_player_id','tackle_for_loss_1_player_name','qb_hit_1_player_id','qb_hit_1_player_name','qb_hit_2_player_id','qb_hit_2_player_name','sack_player_id','sack_player_name', 'half_sack_1_player_id', 'half_sack_1_player_name','half_sack_2_player_id', 'half_sack_2_player_name','forced_fumble_player_1_team','forced_fumble_player_1_player_id','forced_fumble_player_1_player_name','forced_fumble_player_2_team','forced_fumble_player_2_player_id','forced_fumble_player_2_player_name','solo_tackle_1_team','solo_tackle_2_team','solo_tackle_1_player_id','solo_tackle_2_player_id','solo_tackle_1_player_name','solo_tackle_2_player_name','assist_tackle_1_player_id','assist_tackle_1_player_name','assist_tackle_1_team','assist_tackle_2_player_id','assist_tackle_2_player_name','assist_tackle_2_team','tackle_with_assist','tackle_with_assist_1_player_id','tackle_with_assist_1_player_name','tackle_with_assist_1_team','pass_defense_1_player_id','pass_defense_1_player_name','pass_defense_2_player_id','pass_defense_2_player_name','fumbled_1_team','fumbled_1_player_id','fumbled_1_player_name','fumbled_2_player_id','fumbled_2_player_name','fumbled_2_team','fumble_recovery_1_team','fumble_recovery_1_yards','fumble_recovery_1_player_id','fumble_recovery_1_player_name','fumble_recovery_2_team','fumble_recovery_2_yards','fumble_recovery_2_player_id','fumble_recovery_2_player_name','return_team','return_yards','penalty_player_id','penalty_player_name','penalty_yards','replay_or_challenge','replay_or_challenge_result','penalty_type','safety_player_name','safety_player_id','series','series_success','series_result','start_time','time_of_day','stadium','weather','nfl_api_id','play_clock','play_type_nfl','end_clock_time','end_yard_line','fixed_drive','fixed_drive_result','drive_real_start_time','drive_time_of_possession','drive_first_downs','drive_inside20','drive_ended_with_score','drive_quarter_start','drive_quarter_end','drive_yards_penalized','drive_end_transition','drive_start_transition','drive_game_clock_start','drive_game_clock_end','drive_start_yard_line','drive_end_yard_line','drive_play_id_started','drive_play_id_ended','away_score','home_score','location','result','total','home_coach','away_coach','stadium_id','game_stadium','success','passer','passer_jersey_number','rusher','rusher_jersey_number','receiver','receiver_jersey_number','pass','rush','first_down','passer_id','rusher_id','receiver_id','name','jersey_number','id','fantasy_player_name','fantasy_player_id','fantasy','fantasy_id','out_of_bounds','home_opening_kickoff','qb_epa','xyac_epa','xyac_mean_yardage','xyac_median_yardage','xyac_success','xyac_fd','xpass','pass_oe','cp','cpoe','pass_length','pass_location','run_location','run_gap','pass_attempt','game_id','home_team','away_team','sp','yards_gained','home_timeouts_remaining','away_timeouts_remaining','order_sequence','play_id','posteam_type','epa','turnover','temp','wind','roof','effct_play','season','posteam_season','rush_attempt','nflverse_game_id','possession_team','players_on_play','offense_players','defense_players','number_of_pass_rushers'], axis=1, inplace=True)\n",
    "\n",
    "df3.shape"
   ],
   "metadata": {
    "collapsed": false,
    "ExecuteTime": {
     "end_time": "2023-12-06T04:43:48.498194Z",
     "start_time": "2023-12-06T04:43:48.299842Z"
    }
   },
   "id": "074eeba3"
  },
  {
   "cell_type": "code",
   "execution_count": 126,
   "outputs": [
    {
     "name": "stdout",
     "output_type": "stream",
     "text": [
      "Columns with missing values:\n",
      "Series([], dtype: float64)\n",
      "Index([], dtype='object')\n"
     ]
    }
   ],
   "source": [
    "null_columns = df3.columns[df3.isnull().any()]\n",
    "\n",
    "# Print missing values counts for null_columns\n",
    "print('Columns with missing values:')\n",
    "print(df3[null_columns].isnull().sum())\n",
    "print(null_columns)"
   ],
   "metadata": {
    "collapsed": false,
    "ExecuteTime": {
     "end_time": "2023-12-06T04:43:48.499388Z",
     "start_time": "2023-12-06T04:43:48.424545Z"
    }
   },
   "id": "27da6cd627a59ca0"
  },
  {
   "cell_type": "code",
   "execution_count": 127,
   "id": "87bb75ca",
   "metadata": {
    "pycharm": {
     "name": "#%%\n"
    },
    "ExecuteTime": {
     "end_time": "2023-12-06T04:43:48.748578Z",
     "start_time": "2023-12-06T04:43:48.480762Z"
    }
   },
   "outputs": [
    {
     "name": "stdout",
     "output_type": "stream",
     "text": [
      "Dropping the missing values for the following columns:\n",
      "Index([], dtype='object')\n",
      "Remaining observations: 57443\n"
     ]
    }
   ],
   "source": [
    "# drop rows with null values\n",
    "df3.dropna(axis=0, inplace=True)\n",
    "print('Dropping the missing values for the following columns:')\n",
    "print(null_columns)\n",
    "print('Remaining observations:', df3.shape[0])"
   ]
  },
  {
   "cell_type": "code",
   "execution_count": 128,
   "outputs": [],
   "source": [
    "df4 = df3.copy()"
   ],
   "metadata": {
    "collapsed": false,
    "ExecuteTime": {
     "end_time": "2023-12-06T04:43:48.749288Z",
     "start_time": "2023-12-06T04:43:48.607660Z"
    }
   },
   "id": "50502e39349afe2e"
  },
  {
   "cell_type": "markdown",
   "source": [
    "## VIF exclusion criteria"
   ],
   "metadata": {
    "collapsed": false
   },
   "id": "c0c2af8f7bbc855"
  },
  {
   "cell_type": "raw",
   "source": [
    "# Set VIF threshold\n",
    "vif_threshold_value = 10.0\n",
    "\n",
    "# create list of the non-numeric column names\n",
    "non_numeric_cols = list(df3.select_dtypes(exclude=['number']).columns)\n",
    "\n",
    "# Create numeric and non-numeric dataframes\n",
    "x = df4.drop(columns=non_numeric_cols)\n",
    "y = df4[non_numeric_cols]\n",
    "\n",
    "print('Non-numeric columns:', non_numeric_cols)"
   ],
   "metadata": {
    "collapsed": false
   },
   "id": "53b8eb491ddb867b"
  },
  {
   "cell_type": "raw",
   "source": [
    "# Multicollinearity function\n",
    "def remove_multi_coll(x, vif_threshold=vif_threshold_value):\n",
    "    for i in x.columns:\n",
    "        if x[i].nunique() == 1:\n",
    "            print(f\"Dropping {i} due to just 1 unique value\")\n",
    "        x.drop(columns = i, inplace = True)\n",
    "    drop=True\n",
    "    c_lst=list(x.columns)\n",
    "    while drop == True:\n",
    "        drop = False\n",
    "        v_lst=Parallel(n_jobs=-1,verbose=0)(delayed(vif)(x[c_lst].values, i) for i in range(x[c_lst].shape[1]))\n",
    "        max_index=v_lst.index(max(v_lst))\n",
    "        if v_lst[max_index] > vif_threshold:\n",
    "            print(f\"Dropping column : {c_lst[max_index]} at index - {max_index}\")\n",
    "            del c_lst[max_index]\n",
    "            drop = True\n",
    "    print(\"Remaining columns:\\n\", list(x[c_lst].columns))\n",
    "    return x[c_lst]"
   ],
   "metadata": {
    "collapsed": false
   },
   "id": "7c0b1dab6d36b78c"
  },
  {
   "cell_type": "raw",
   "source": [
    "# Execute multicollinearity function\n",
    "remove_multi_coll(x, vif_threshold_value)"
   ],
   "metadata": {
    "collapsed": false
   },
   "id": "fa144ad2bc5653a3"
  },
  {
   "cell_type": "raw",
   "source": [
    "# Combine numerical and category, and target dataframes\n",
    "df4 = pd.concat([y,x], axis=1)\n",
    "\n",
    "df4.shape"
   ],
   "metadata": {
    "collapsed": false
   },
   "id": "32e8ac8b3a4afbe1"
  },
  {
   "cell_type": "markdown",
   "source": [
    "## Create binary classification dataset"
   ],
   "metadata": {
    "collapsed": false
   },
   "id": "b1db1444e0b15fd"
  },
  {
   "cell_type": "code",
   "execution_count": 129,
   "outputs": [
    {
     "data": {
      "text/plain": "['week',\n 'posteam',\n 'defteam',\n 'yardline_100',\n 'quarter_seconds_remaining',\n 'half_seconds_remaining',\n 'game_seconds_remaining',\n 'game_half',\n 'qtr',\n 'down',\n 'goal_to_go',\n 'ydstogo',\n 'desc',\n 'play_type',\n 'shotgun',\n 'no_huddle',\n 'posteam_timeouts_remaining',\n 'defteam_timeouts_remaining',\n 'posteam_score',\n 'defteam_score',\n 'score_differential',\n 'no_score_prob',\n 'fg_prob',\n 'safety_prob',\n 'td_prob',\n 'ep',\n 'wp',\n 'drive_play_count',\n 'spread_line',\n 'total_line',\n 'div_game',\n 'surface',\n 'offense_formation',\n 'offense_personnel',\n 'defenders_in_box',\n 'defense_personnel',\n 'n_offense',\n 'n_defense',\n 'qb_rank',\n 'qb_pts',\n 'qb_plays',\n 'qb_qbr_raw',\n 'qb_qbr',\n 'qb_pass',\n 'qb_run',\n 'report_eligible',\n 'off_rb_count',\n 'off_te_count',\n 'off_wr_count',\n 'off_hb_count',\n 'off_ol_count',\n 'def_dl_count',\n 'def_lb_count',\n 'def_db_count',\n 'wr_to_db_ratio',\n 'hb_to_lb_ratio',\n 'ol_to_dl_ratio',\n 'play_sequence_game',\n 'play_sequence_series',\n 'play_type_detail',\n 'dtg_99to90',\n 'dtg_89to60',\n 'dtg_59to45',\n 'dtg_44to35',\n 'dtg_34to21',\n 'dtg_20to10',\n 'dtg_09to00',\n 'prev1_big_play_pass',\n 'prev2_big_play_pass',\n 'prev3_big_play_pass',\n 'prev1_big_play_run',\n 'prev2_big_play_run',\n 'prev3_big_play_run',\n 'prev1_negative_pass',\n 'prev2_negative_pass',\n 'prev3_negative_pass',\n 'prev1_negative_run',\n 'prev2_negative_run',\n 'prev3_negative_run',\n 'play_type_prev1',\n 'play_type_prev2',\n 'play_type_prev3',\n 'play_type_prev4',\n 'prev1_play_off_penalty',\n 'prev1_play_def_penalty',\n 'prev2_play_off_penalty',\n 'prev2_play_def_penalty',\n 'prev3_play_off_penalty',\n 'prev3_play_def_penalty',\n 'prev1_play_run_outside',\n 'prev1_play_run_inside',\n 'prev1_play_pass_deep',\n 'prev1_play_pass_short',\n 'prev2_play_run_outside',\n 'prev2_play_run_inside',\n 'prev2_play_pass_deep',\n 'prev2_play_pass_short',\n 'prev3_play_run_outside',\n 'prev3_play_run_inside',\n 'prev3_play_pass_deep',\n 'prev3_play_pass_short',\n 'prev1_incomplete_pass',\n 'prev2_incomplete_pass',\n 'prev3_incomplete_pass',\n 'prev4_incomplete_pass',\n 'drive_incomplete_pass_pcnt',\n 'prev1_yards_gained',\n 'prev2_yards_gained',\n 'prev3_yards_gained',\n 'prev4_yards_gained',\n 'prev1_wpa',\n 'prev2_wpa',\n 'prev3_wpa',\n 'prev4_wpa',\n 'prev1_shotgun',\n 'prev2_shotgun',\n 'prev3_shotgun',\n 'drive_shotgun_pcnt',\n 'prev1_qb_hit',\n 'prev2_qb_hit',\n 'prev3_qb_hit',\n 'drive_qb_hit_pcnt',\n 'prev1_no_huddle',\n 'prev2_no_huddle',\n 'prev3_no_huddle',\n 'drive_no_huddle_pcnt',\n 'prev1_first_down_pass',\n 'prev2_first_down_pass',\n 'prev3_first_down_pass',\n 'prev1_first_down_run',\n 'prev2_first_down_run',\n 'prev3_first_down_run',\n 'prev1_effct_play',\n 'prev2_effct_play',\n 'prev3_effct_play',\n 'drive_effct_play_pcnt',\n 'remaining_downs',\n 'remaining_yards_per_down',\n 'drive_start',\n 'two_min_warning',\n 'ep_half_sec_ratio',\n 'ep_game_sec_ratio',\n 'posteam_side',\n 'remain_yds_div_def_box',\n 'remain_yds_prod_def_box',\n 'run_ratio_off_priors',\n 'run_ratio_def_priors']"
     },
     "execution_count": 129,
     "metadata": {},
     "output_type": "execute_result"
    }
   ],
   "source": [
    "# Print list of columns\n",
    "list(df4.columns)"
   ],
   "metadata": {
    "collapsed": false,
    "ExecuteTime": {
     "end_time": "2023-12-06T04:43:48.749877Z",
     "start_time": "2023-12-06T04:43:48.631536Z"
    }
   },
   "id": "72a7086e96dd28e1"
  },
  {
   "cell_type": "code",
   "execution_count": 130,
   "id": "8093d931",
   "metadata": {
    "pycharm": {
     "name": "#%%\n"
    },
    "ExecuteTime": {
     "end_time": "2023-12-06T04:43:53.073578Z",
     "start_time": "2023-12-06T04:43:48.641299Z"
    }
   },
   "outputs": [
    {
     "data": {
      "text/plain": "(57443, 146)"
     },
     "execution_count": 130,
     "metadata": {},
     "output_type": "execute_result"
    }
   ],
   "source": [
    "df5 = df4.copy()\n",
    "\n",
    "# Drop column not used in classifier\n",
    "df5.drop(['play_type_detail'], axis=1, inplace=True)\n",
    "\n",
    "# Export binary classifier dataframe\n",
    "df5.to_csv(r'/Users/ttas2/Documents/Python/nfl-machine-learning-models/output_files/nfl_post_processing_run_pass_classification_data.csv', index=None, header=True)\n",
    "\n",
    "df5.shape"
   ]
  },
  {
   "cell_type": "markdown",
   "id": "8d00e7bf",
   "metadata": {
    "pycharm": {
     "name": "#%% md\n"
    }
   },
   "source": [
    "## Create multi-classification dataset"
   ]
  },
  {
   "cell_type": "code",
   "execution_count": 131,
   "id": "c0fc48aa",
   "metadata": {
    "pycharm": {
     "name": "#%%\n"
    },
    "ExecuteTime": {
     "end_time": "2023-12-06T04:43:53.306649Z",
     "start_time": "2023-12-06T04:43:53.053612Z"
    }
   },
   "outputs": [
    {
     "data": {
      "text/plain": "(57443, 146)"
     },
     "execution_count": 131,
     "metadata": {},
     "output_type": "execute_result"
    }
   ],
   "source": [
    "df6 = df4.copy()\n",
    "\n",
    "# Drop column not used in classifier\n",
    "df6.drop(['play_type'], axis=1, inplace=True)\n",
    "df6.shape"
   ]
  },
  {
   "cell_type": "code",
   "execution_count": 132,
   "id": "176596c4",
   "metadata": {
    "pycharm": {
     "name": "#%%\n"
    },
    "ExecuteTime": {
     "end_time": "2023-12-06T04:43:53.307580Z",
     "start_time": "2023-12-06T04:43:53.164512Z"
    }
   },
   "outputs": [
    {
     "data": {
      "text/plain": "(55080, 146)"
     },
     "execution_count": 132,
     "metadata": {},
     "output_type": "execute_result"
    }
   ],
   "source": [
    "# Exclude sacks from dataset\n",
    "df6 = df6.loc[df6['play_type_detail'] != 'pass_sack']\n",
    "df6.shape"
   ]
  },
  {
   "cell_type": "code",
   "execution_count": 133,
   "id": "3193b4df",
   "metadata": {
    "pycharm": {
     "name": "#%%\n"
    },
    "ExecuteTime": {
     "end_time": "2023-12-06T04:43:53.359530Z",
     "start_time": "2023-12-06T04:43:53.218776Z"
    }
   },
   "outputs": [
    {
     "data": {
      "text/plain": "(55077, 146)"
     },
     "execution_count": 133,
     "metadata": {},
     "output_type": "execute_result"
    }
   ],
   "source": [
    "# Exclude passes with no depth designation\n",
    "df6 = df6.loc[df6['play_type_detail'] != 'pass']\n",
    "df6.shape"
   ]
  },
  {
   "cell_type": "code",
   "execution_count": 134,
   "id": "f0daee03",
   "metadata": {
    "pycharm": {
     "name": "#%%\n"
    },
    "ExecuteTime": {
     "end_time": "2023-12-06T04:43:53.362349Z",
     "start_time": "2023-12-06T04:43:53.268085Z"
    }
   },
   "outputs": [
    {
     "data": {
      "text/plain": "(55055, 146)"
     },
     "execution_count": 134,
     "metadata": {},
     "output_type": "execute_result"
    }
   ],
   "source": [
    "# Exclude runs with no direction/landmark designation\n",
    "df6 = df6.loc[df6['play_type_detail'] != 'run']\n",
    "df6.shape"
   ]
  },
  {
   "cell_type": "code",
   "execution_count": 135,
   "id": "98347d9d",
   "metadata": {
    "pycharm": {
     "name": "#%%\n"
    },
    "ExecuteTime": {
     "end_time": "2023-12-06T04:43:53.741731Z",
     "start_time": "2023-12-06T04:43:53.349939Z"
    }
   },
   "outputs": [
    {
     "data": {
      "text/plain": "play_type\nshort      0.410008\ninside     0.216783\noutside    0.202488\ndeep       0.170720\nName: proportion, dtype: float64"
     },
     "execution_count": 135,
     "metadata": {},
     "output_type": "execute_result"
    }
   ],
   "source": [
    "# Rename target\n",
    "df6['play_type'] = df6['play_type_detail']\n",
    "\n",
    "# Drop duplicate target\n",
    "df6.drop(['play_type_detail'], axis=1, inplace=True)\n",
    "\n",
    "# Check class frequency\n",
    "counts = df6.play_type.value_counts(normalize=True)\n",
    "counts"
   ]
  },
  {
   "cell_type": "code",
   "execution_count": 136,
   "id": "a0c84f7f",
   "metadata": {
    "pycharm": {
     "name": "#%%\n"
    },
    "ExecuteTime": {
     "end_time": "2023-12-06T04:43:58.213239Z",
     "start_time": "2023-12-06T04:43:53.357055Z"
    }
   },
   "outputs": [
    {
     "data": {
      "text/plain": "(55055, 146)"
     },
     "execution_count": 136,
     "metadata": {},
     "output_type": "execute_result"
    }
   ],
   "source": [
    "# Export binary classifier dataframe\n",
    "df6.to_csv(r'/Users/ttas2/Documents/Python/nfl-machine-learning-models/output_files/nfl_post_processing_multiclass_play_classification_data.csv', index=None, header=True)\n",
    "\n",
    "df6.shape"
   ]
  },
  {
   "cell_type": "code",
   "execution_count": 136,
   "id": "b9b9cb86",
   "metadata": {
    "pycharm": {
     "name": "#%%\n"
    },
    "ExecuteTime": {
     "end_time": "2023-12-06T04:43:58.215864Z",
     "start_time": "2023-12-06T04:43:58.206668Z"
    }
   },
   "outputs": [],
   "source": []
  }
 ],
 "metadata": {
  "colab": {
   "name": "nfl_offensive_play_classification_v1.1.ipynb",
   "provenance": []
  },
  "kernelspec": {
   "display_name": "Python 3 (ipykernel)",
   "language": "python",
   "name": "python3"
  },
  "language_info": {
   "codemirror_mode": {
    "name": "ipython",
    "version": 3
   },
   "file_extension": ".py",
   "mimetype": "text/x-python",
   "name": "python",
   "nbconvert_exporter": "python",
   "pygments_lexer": "ipython3",
   "version": "3.9.6"
  }
 },
 "nbformat": 4,
 "nbformat_minor": 5
}
