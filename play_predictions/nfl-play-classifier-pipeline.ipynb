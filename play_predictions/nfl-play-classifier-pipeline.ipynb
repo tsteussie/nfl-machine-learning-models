{
 "cells": [
  {
   "cell_type": "code",
   "execution_count": 1,
   "outputs": [],
   "source": [
    "import warnings\n",
    "from numba.core.errors import NumbaDeprecationWarning, NumbaPendingDeprecationWarning\n",
    "warnings.simplefilter('ignore', category=UserWarning)\n",
    "warnings.filterwarnings('ignore',category=ImportWarning)\n",
    "warnings.filterwarnings('ignore',category=DeprecationWarning)\n",
    "warnings.simplefilter('ignore', category=NumbaDeprecationWarning)\n",
    "warnings.simplefilter('ignore', category=NumbaPendingDeprecationWarning)\n",
    "\n",
    "import pandas as pd\n",
    "import numpy as np\n",
    "import time\n",
    "import matplotlib.pyplot as plt\n",
    "\n",
    "from scipy.stats import randint, loguniform\n",
    "from imblearn.pipeline import Pipeline\n",
    "from sklearn.dummy import DummyClassifier\n",
    "from sklearn.base import BaseEstimator, TransformerMixin\n",
    "from category_encoders import LeaveOneOutEncoder\n",
    "from sklearn.compose import ColumnTransformer\n",
    "from sklearn.feature_selection import RFE\n",
    "from imblearn.over_sampling import ADASYN\n",
    "from sklearn.impute import SimpleImputer\n",
    "from sklearn.preprocessing import OrdinalEncoder, StandardScaler, MinMaxScaler, RobustScaler, MaxAbsScaler, PowerTransformer, QuantileTransformer\n",
    "from sklearn.experimental import enable_halving_search_cv\n",
    "from sklearn.model_selection import train_test_split, HalvingRandomSearchCV\n",
    "from sklearn.metrics import accuracy_score, confusion_matrix, ConfusionMatrixDisplay, classification_report\n",
    "from sklearn.ensemble import RandomForestClassifier, ExtraTreesClassifier, GradientBoostingClassifier, AdaBoostClassifier\n",
    "from xgboost import XGBClassifier"
   ],
   "metadata": {
    "collapsed": false,
    "ExecuteTime": {
     "end_time": "2024-01-07T23:48:29.409420Z",
     "start_time": "2024-01-07T23:48:25.957112Z"
    }
   },
   "id": "774348c602e5ca1e"
  },
  {
   "cell_type": "code",
   "execution_count": 2,
   "outputs": [],
   "source": [
    "# Train test split parameters\n",
    "test_holdout_percentage = 0.15\n",
    "\n",
    "# RFE feature selection\n",
    "rfc_estimators = 100\n",
    "rfc_max_features = 'sqrt'\n",
    "\n",
    "# Define list of scalers being used\n",
    "feature_scaler_list = [StandardScaler(), \n",
    "                       RobustScaler(), \n",
    "                       MinMaxScaler(), \n",
    "                       MaxAbsScaler(), \n",
    "                       PowerTransformer(), \n",
    "                       QuantileTransformer(output_distribution='normal'), \n",
    "                       QuantileTransformer(output_distribution='uniform'),\n",
    "                       ]\n",
    "\n",
    "# Specify the HalvingRandomSearchCV parameters\n",
    "scoring = 'accuracy'                        \n",
    "n_cross_validation = 3\n",
    "halving_parameter = 5.0\n",
    "max_resource = 1500\n",
    "resource_divisor = 5.0\n",
    "min_resource = int(round((max_resource / resource_divisor), 0))"
   ],
   "metadata": {
    "collapsed": false,
    "ExecuteTime": {
     "end_time": "2024-01-07T23:48:29.418400Z",
     "start_time": "2024-01-07T23:48:29.413039Z"
    }
   },
   "id": "39c59abc33e5e515"
  },
  {
   "cell_type": "code",
   "execution_count": 3,
   "outputs": [],
   "source": [
    "# Create timer to calculate total workbook time in hours\n",
    "start_time = time.time()"
   ],
   "metadata": {
    "collapsed": false,
    "ExecuteTime": {
     "end_time": "2024-01-07T23:48:29.420678Z",
     "start_time": "2024-01-07T23:48:29.418507Z"
    }
   },
   "id": "5dc8446203dc414e"
  },
  {
   "cell_type": "markdown",
   "id": "c4f8e047",
   "metadata": {
    "pycharm": {
     "name": "#%% md\n"
    }
   },
   "source": [
    "## IMPORT PROCESSED NFL-DATA-PY CSV FILE\n",
    "##### https://pypi.org/project/nfl-data-py/"
   ]
  },
  {
   "cell_type": "code",
   "execution_count": 4,
   "outputs": [
    {
     "data": {
      "text/plain": "(65019, 156)"
     },
     "execution_count": 4,
     "metadata": {},
     "output_type": "execute_result"
    }
   ],
   "source": [
    "# Import csv file from nfl-data-py\n",
    "df = pd.read_csv(r'/Users/ttas2/Documents/Python/nfl-machine-learning-models/output_files/nfl_post_processing_run_pass_classification_data.csv')\n",
    "\n",
    "df.shape"
   ],
   "metadata": {
    "collapsed": false,
    "ExecuteTime": {
     "end_time": "2024-01-07T23:48:30.381669Z",
     "start_time": "2024-01-07T23:48:29.425265Z"
    }
   },
   "id": "f8d686327dce3e32"
  },
  {
   "cell_type": "code",
   "execution_count": 5,
   "outputs": [],
   "source": [
    "# Convert binary columns to integers\n",
    "binary_columns = df.columns[df.isin([0,1]).all()].tolist()\n",
    "df[binary_columns] = df[binary_columns].apply(pd.to_numeric, downcast='integer', errors='coerce', axis=1)"
   ],
   "metadata": {
    "collapsed": false,
    "ExecuteTime": {
     "end_time": "2024-01-07T23:48:43.314196Z",
     "start_time": "2024-01-07T23:48:30.592190Z"
    }
   },
   "id": "41f7422bcc2cf003"
  },
  {
   "cell_type": "code",
   "execution_count": 6,
   "outputs": [
    {
     "name": "stdout",
     "output_type": "stream",
     "text": [
      "[]\n"
     ]
    }
   ],
   "source": [
    "# Print columns with missing values\n",
    "print(df.columns[df.isnull().any()].tolist())"
   ],
   "metadata": {
    "collapsed": false,
    "ExecuteTime": {
     "end_time": "2024-01-07T23:48:43.381860Z",
     "start_time": "2024-01-07T23:48:43.306996Z"
    }
   },
   "id": "629bc39586b0fba6"
  },
  {
   "cell_type": "code",
   "execution_count": 7,
   "id": "4c9bcb28",
   "metadata": {
    "pycharm": {
     "name": "#%%\n"
    },
    "ExecuteTime": {
     "end_time": "2024-01-07T23:48:43.409695Z",
     "start_time": "2024-01-07T23:48:43.387376Z"
    }
   },
   "outputs": [
    {
     "data": {
      "text/plain": "play_type\npass    0.598241\nrun     0.401759\nName: proportion, dtype: float64"
     },
     "execution_count": 7,
     "metadata": {},
     "output_type": "execute_result"
    }
   ],
   "source": [
    "# Target frequency\n",
    "target_count = df.play_type.value_counts(normalize=True)\n",
    "\n",
    "target_count"
   ]
  },
  {
   "cell_type": "code",
   "execution_count": 8,
   "outputs": [],
   "source": [
    "df['play_type'] = np.where(df['play_type'] == 'pass', 1, 0)"
   ],
   "metadata": {
    "collapsed": false,
    "ExecuteTime": {
     "end_time": "2024-01-07T23:48:43.410523Z",
     "start_time": "2024-01-07T23:48:43.392336Z"
    }
   },
   "id": "91112ef9f7a1ba3c"
  },
  {
   "cell_type": "markdown",
   "source": [
    "## TRAIN TEST SPLIT\n",
    "##### https://scikit-learn.org/stable/modules/generated/sklearn.model_selection.train_test_split.html"
   ],
   "metadata": {
    "collapsed": false
   },
   "id": "4c140526b778c182"
  },
  {
   "cell_type": "code",
   "execution_count": 9,
   "id": "4943bbf5",
   "metadata": {
    "pycharm": {
     "name": "#%%\n"
    },
    "ExecuteTime": {
     "end_time": "2024-01-07T23:48:43.597420Z",
     "start_time": "2024-01-07T23:48:43.404413Z"
    }
   },
   "outputs": [],
   "source": [
    "# split data into target and feature datasets\n",
    "X, y = df.loc[:, df.columns != 'play_type'], df['play_type']\n",
    "\n",
    "initial_features = X.columns.to_list()\n",
    "\n",
    "# Create train and test datasets\n",
    "X_train, X_test, y_train, y_test = train_test_split(X, y, test_size=test_holdout_percentage, random_state=67)\n"
   ]
  },
  {
   "cell_type": "markdown",
   "id": "4b6cd4c3",
   "metadata": {
    "pycharm": {
     "name": "#%% md\n"
    }
   },
   "source": [
    "## BASELINE MODEL\n",
    "##### https://scikit-learn.org/stable/modules/generated/sklearn.dummy.DummyClassifier.html"
   ]
  },
  {
   "cell_type": "code",
   "execution_count": 10,
   "id": "28e9513e",
   "metadata": {
    "pycharm": {
     "name": "#%%\n"
    },
    "ExecuteTime": {
     "end_time": "2024-01-07T23:48:43.618881Z",
     "start_time": "2024-01-07T23:48:43.601924Z"
    }
   },
   "outputs": [
    {
     "name": "stdout",
     "output_type": "stream",
     "text": [
      "Baseline accuracy: 59.3%\n"
     ]
    }
   ],
   "source": [
    "# Create and fit baseline model to compare performance\n",
    "baseline_model = DummyClassifier(strategy='most_frequent', random_state=67)\n",
    "baseline_model.fit(X_train, y_train)\n",
    "\n",
    "# Calculate model accuracy on test data\n",
    "y_baseline_pred = baseline_model.predict(X_test)\n",
    "\n",
    "print(f\"Baseline accuracy: {round(accuracy_score(y_test,y_baseline_pred)*100, 1)}%\")\n"
   ]
  },
  {
   "cell_type": "markdown",
   "source": [
    "## MODEL PIPELINE\n",
    "##### https://scikit-learn.org/stable/modules/generated/sklearn.compose.ColumnTransformer.html\n",
    "##### https://scikit-learn.org/stable/modules/generated/sklearn.impute.SimpleImputer.html\n",
    "##### https://scikit-learn.org/stable/modules/generated/sklearn.preprocessing.PowerTransformer.html\n",
    "##### https://www.statsmodels.org/dev/generated/statsmodels.stats.outliers_influence.variance_inflation_factor.html\n",
    "##### https://imbalanced-learn.org/stable/references/over_sampling.html\n",
    "##### https://scikit-learn.org/stable/modules/generated/sklearn.model_selection.HalvingRandomSearchCV.html\n",
    "##### https://scikit-learn.org/stable/modules/generated/sklearn.metrics.f1_score.html\n",
    "##### https://scikit-learn.org/stable/modules/generated/sklearn.ensemble.GradientBoostingClassifier.html\n",
    "##### https://scikit-learn.org/stable/modules/generated/sklearn.ensemble.RandomForestClassifier.html\n",
    "##### https://scikit-learn.org/stable/modules/generated/sklearn.ensemble.ExtraTreesClassifier.html\n",
    "##### https://xgboost.readthedocs.io/en/stable/parameter.html"
   ],
   "metadata": {
    "collapsed": false
   },
   "id": "28eb7c49ea06b6d2"
  },
  {
   "cell_type": "code",
   "execution_count": 11,
   "outputs": [
    {
     "name": "stdout",
     "output_type": "stream",
     "text": [
      "Ordinal feature count: 8 : ['week', 'game_half', 'qtr', 'down', 'drive_play_count', 'off_ol_count', 'play_sequence_series', 'remaining_downs']\n",
      "Boolean feature count: 68\n",
      "Numeric feature count: 63\n",
      "Categorical feature count: 16 : ['posteam', 'posteam_type', 'defteam', 'roof', 'surface', 'offense_formation', 'offense_personnel', 'defense_personnel', 'game_weather', 'play_type_prev1', 'play_type_prev2', 'play_type_prev3', 'play_type_prev4', 'drive_start', 'posteam_season', 'defteam_season']\n",
      "155 total features\n"
     ]
    }
   ],
   "source": [
    "# Create feature type lists for column transform stage of the pipeline\n",
    "ordinal_features = X_train.columns[X_train.isin([1,2,3,4,5,6,7,8,9,10,11,12,13,14,15,16,17,18,19,20,21,22,23,24,25]).all()].tolist()\n",
    "categorical_features = list(X_train.select_dtypes(include='object'))\n",
    "boolean_features = X_train.columns[X_train.isin([0, 1]).all()].tolist()\n",
    "numeric_features = list(set(X_train.columns) - set(ordinal_features) - set(categorical_features) - set(boolean_features))\n",
    "\n",
    "#print('categorical features:', len(categorical_features), ':', categorical_features)\n",
    "print('Ordinal feature count:', len(ordinal_features), ':', ordinal_features)\n",
    "print('Boolean feature count:', len(boolean_features)) #, ':', boolean_features)\n",
    "print('Numeric feature count:', len(numeric_features)) #, ':', numeric_features)\n",
    "print('Categorical feature count:', len(categorical_features), ':', categorical_features)\n",
    "print(len(initial_features), 'total features')"
   ],
   "metadata": {
    "collapsed": false,
    "ExecuteTime": {
     "end_time": "2024-01-07T23:48:45.795758Z",
     "start_time": "2024-01-07T23:48:43.625183Z"
    }
   },
   "id": "e95804b4c341fcbb"
  },
  {
   "cell_type": "code",
   "execution_count": 12,
   "outputs": [],
   "source": [
    "# Custom transformer for IQR outlier exclusion\n",
    "class IQRTransformer:\n",
    "    def __init__(self, numerical_cols):\n",
    "        self.numerical_cols = numerical_cols\n",
    "        self.lower_bound = None\n",
    "        self.upper_bound = None\n",
    "\n",
    "    def fit(self, x, y=None):\n",
    "        if isinstance(x, pd.DataFrame):\n",
    "            # Calculate the IQR for each numerical column\n",
    "            q1 = x[self.numerical_cols].quantile(0.25)\n",
    "            q3 = x[self.numerical_cols].quantile(0.75)\n",
    "            iqr = q3 - q1\n",
    "\n",
    "            # Define the lower and upper bounds for outliers\n",
    "            self.lower_bound = (q1 - 1.5 * iqr).to_dict()\n",
    "            self.upper_bound = (q3 + 1.5 * iqr).to_dict()\n",
    "        else:\n",
    "            # Calculate the IQR for each numerical column\n",
    "            q1 = np.quantile(x[:, :], 0.25, axis=0)\n",
    "            q3 = np.quantile(x[:, :], 0.75, axis=0)\n",
    "            iqr = q3 - q1\n",
    "\n",
    "            # Define the lower and upper bounds for outliers\n",
    "            self.lower_bound = (q1 - 1.5 * iqr).tolist()\n",
    "            self.upper_bound = (q3 + 1.5 * iqr).tolist()\n",
    "\n",
    "        return self\n",
    "\n",
    "    def transform(self, x, y=None):\n",
    "        if isinstance(x, pd.DataFrame):\n",
    "            # Exclude outliers based on the IQR for each numerical column\n",
    "            x_outlier_removed = x.copy()\n",
    "            for col in self.numerical_cols:\n",
    "                if col in self.lower_bound and col in self.upper_bound:\n",
    "                    x_outlier_removed = x_outlier_removed[\n",
    "                        (x_outlier_removed[col] >= self.lower_bound[col]) & (x_outlier_removed[col] <= self.upper_bound[col])\n",
    "                    ].dropna()\n",
    "        else:\n",
    "            # Exclude outliers based on the IQR for each numerical column\n",
    "            x_outlier_removed = x.copy()\n",
    "            for i, col in enumerate(self.numerical_cols):\n",
    "                if col in self.lower_bound and col in self.upper_bound:\n",
    "                    lower_bound = self.lower_bound[col]\n",
    "                    upper_bound = self.upper_bound[col]\n",
    "                    x_outlier_removed = x_outlier_removed[\n",
    "                        (x_outlier_removed[:, i] >= lower_bound) & (x_outlier_removed[:, i] <= upper_bound)\n",
    "                    ].dropna()\n",
    "\n",
    "        return x_outlier_removed"
   ],
   "metadata": {
    "collapsed": false,
    "ExecuteTime": {
     "end_time": "2024-01-07T23:48:45.798502Z",
     "start_time": "2024-01-07T23:48:45.789386Z"
    }
   },
   "id": "716f61f917c8a815"
  },
  {
   "cell_type": "code",
   "outputs": [],
   "source": [
    "# Create custom transformer for selecting a feature scaler: StandardScaler, RobustScaler, MinMaxScaler, MaxAbsScaler\n",
    "class ScalerSelector(BaseEstimator, TransformerMixin):\n",
    "    \n",
    "    def __init__(self, scaler=StandardScaler()):\n",
    "        super().__init__()\n",
    "        self.scaler = scaler\n",
    "\n",
    "    def fit(self, x, y=None):\n",
    "        return self.scaler.fit(x)\n",
    "\n",
    "    def transform(self, x, y=None):\n",
    "        return self.scaler.transform(x)\n",
    "    \n",
    "# scaler and encoder options\n",
    "feature_scaler = ScalerSelector()"
   ],
   "metadata": {
    "collapsed": false,
    "ExecuteTime": {
     "end_time": "2024-01-07T23:48:45.801299Z",
     "start_time": "2024-01-07T23:48:45.792413Z"
    }
   },
   "id": "7cb04ee44508f87e",
   "execution_count": 13
  },
  {
   "cell_type": "code",
   "outputs": [],
   "source": [
    "# Specify the transformations per data type\n",
    "num_trans = Pipeline(steps=[('num_imputer', SimpleImputer(missing_values=np.nan, strategy='median')),\n",
    "                            ('num_outlier', IQRTransformer(numerical_cols=numeric_features)),\n",
    "                            ('num_scaler', feature_scaler),\n",
    "                           ])\n",
    "\n",
    "cat_trans = Pipeline(steps=[('cat_imputer', SimpleImputer(missing_values=np.nan, strategy='most_frequent')),\n",
    "                            ('cat_encoder', LeaveOneOutEncoder(handle_missing='value', handle_unknown='value', random_state=67)),\n",
    "                            ])\n",
    "\n",
    "ord_trans = Pipeline(steps=[('ord_imputer', SimpleImputer(missing_values=np.nan, strategy='most_frequent')),\n",
    "                            ('ord_encoder', OrdinalEncoder(categories='auto', handle_unknown='use_encoded_value', unknown_value=-1)),\n",
    "                           ])\n",
    "\n",
    "preprocessing = ColumnTransformer(transformers=[('num_transform', num_trans, numeric_features),\n",
    "                                                ('cat_transform', cat_trans, categorical_features),\n",
    "                                                ('ord_transform', ord_trans, ordinal_features),\n",
    "                                                ],\n",
    "                                  remainder='passthrough',\n",
    "                                  )"
   ],
   "metadata": {
    "collapsed": false,
    "ExecuteTime": {
     "end_time": "2024-01-07T23:48:45.856876Z",
     "start_time": "2024-01-07T23:48:45.804865Z"
    }
   },
   "id": "7b32bfe8bf6eb824",
   "execution_count": 14
  },
  {
   "cell_type": "code",
   "outputs": [
    {
     "name": "stdout",
     "output_type": "stream",
     "text": [
      "n_iterations: 2\n",
      "n_required_iterations: 2\n",
      "n_possible_iterations: 2\n",
      "min_resources_: 200\n",
      "max_resources_: 1000\n",
      "aggressive_elimination: False\n",
      "factor: 5.0\n",
      "----------\n",
      "iter: 0\n",
      "n_candidates: 5\n",
      "n_resources: 200\n",
      "Fitting 5 folds for each of 5 candidates, totalling 25 fits\n",
      "----------\n",
      "iter: 1\n",
      "n_candidates: 1\n",
      "n_resources: 1000\n",
      "Fitting 5 folds for each of 1 candidates, totalling 5 fits\n",
      "--------------------------\n",
      " \n",
      "RandomForest runtime: 89.0 minutes\n",
      "RandomForest best training score: 0.7303948583605373\n",
      "RandomForest best test score: 0.7392597149594996\n",
      " \n",
      "RandomForest parameters: {'clf__bootstrap': True, 'clf__ccp_alpha': 0.0436502455637482, 'clf__criterion': 'gini', 'clf__max_depth': 75, 'clf__max_features': 0.5121225755830996, 'clf__min_impurity_decrease': 2.3366365121727147e-09, 'clf__min_samples_leaf': 0.1246906401554744, 'clf__min_samples_split': 0.12104677718113582, 'clf__min_weight_fraction_leaf': 0.09927987205184088, 'clf__n_jobs': 6, 'clf__oob_score': False, 'clf__random_state': 67, 'clf__warm_start': True, 'ovr__n_neighbors': 3, 'pre__cat_transform__cat_encoder__sigma': 0.008871867951963618, 'pre__num_transform__num_scaler': StandardScaler(), 'sel__n_features_to_select': 67, 'sel__step': 2, 'clf__n_estimators': 1000}\n",
      " \n",
      "RandomForest features: ['week', 'posteam', 'defteam', 'yardline_100', 'half_seconds_remaining', 'game_seconds_remaining', 'qtr', 'down', 'goal_to_go', 'shotgun', 'no_huddle', 'posteam_score', 'defteam_score', 'score_differential', 'no_score_prob', 'fg_prob', 'safety_prob', 'ep', 'drive_play_count', 'spread_line', 'total_line', 'roof', 'offense_formation', 'offense_personnel', 'defenders_in_box', 'defense_personnel', 'off_rb_count', 'off_te_count', 'off_wr_count', 'off_hb_count', 'def_dl_count', 'def_lb_count', 'def_db_count', 'hb_to_lb_ratio', 'ol_to_dl_ratio', 'play_sequence_game', 'play_sequence_series', 'score_differential_norm', 'game_temp', 'game_humidity', 'game_wind', 'dtg_99to96', 'dtg_95to90', 'dtg_89to75', 'dtg_74to55', 'dtg_54to45', 'dtg_44to35', 'dtg_09to00', 'prev1_big_play_pass', 'prev2_big_play_pass', 'prev3_big_play_pass', 'prev1_big_play_run', 'prev2_big_play_run', 'prev3_big_play_run', 'prev1_negative_pass', 'prev2_negative_pass', 'prev3_negative_pass', 'prev1_negative_run', 'prev2_negative_run', 'prev3_negative_run', 'play_type_prev1', 'play_type_prev2', 'play_type_prev3', 'play_type_prev4', 'prev2_play_off_penalty', 'prev2_play_def_penalty', 'prev1_play_pass_deep']\n",
      " \n",
      "              precision    recall  f1-score   support\n",
      "\n",
      "         run     0.7130    0.6011    0.6523      3968\n",
      "        pass     0.7530    0.8341    0.7914      5785\n",
      "\n",
      "    accuracy                         0.7393      9753\n",
      "   macro avg     0.7330    0.7176    0.7219      9753\n",
      "weighted avg     0.7367    0.7393    0.7348      9753\n"
     ]
    },
    {
     "data": {
      "text/plain": "<Figure size 640x480 with 2 Axes>",
      "image/png": "[encoded data removed]"
     },
     "metadata": {},
     "output_type": "display_data"
    },
    {
     "name": "stdout",
     "output_type": "stream",
     "text": [
      " \n",
      "-------------------------------------------------------------------------------------------------------------------------------\n",
      "\n",
      "\n",
      "n_iterations: 2\n",
      "n_required_iterations: 2\n",
      "n_possible_iterations: 2\n",
      "min_resources_: 200\n",
      "max_resources_: 1000\n",
      "aggressive_elimination: False\n",
      "factor: 5.0\n",
      "----------\n",
      "iter: 0\n",
      "n_candidates: 5\n",
      "n_resources: 200\n",
      "Fitting 5 folds for each of 5 candidates, totalling 25 fits\n",
      "----------\n",
      "iter: 1\n",
      "n_candidates: 1\n",
      "n_resources: 1000\n",
      "Fitting 5 folds for each of 1 candidates, totalling 5 fits\n",
      "--------------------------\n",
      " \n",
      "ExtraTrees runtime: 85.0 minutes\n",
      "ExtraTrees best training score: 0.7349906893821831\n",
      "ExtraTrees best test score: 0.741412898595304\n",
      " \n",
      "ExtraTrees parameters: {'clf__bootstrap': False, 'clf__ccp_alpha': 1.9286054848532533e-05, 'clf__criterion': 'entropy', 'clf__max_depth': 73, 'clf__max_features': 0.29463690009089677, 'clf__max_leaf_nodes': 56, 'clf__min_impurity_decrease': 3.660277959888096e-09, 'clf__min_samples_leaf': 0.014280608442806464, 'clf__min_samples_split': 0.01080564309174908, 'clf__min_weight_fraction_leaf': 0.005169276963401578, 'clf__n_jobs': 6, 'clf__oob_score': False, 'clf__random_state': 67, 'clf__warm_start': False, 'ovr__n_neighbors': 3, 'pre__cat_transform__cat_encoder__sigma': 0.008098760871399846, 'pre__num_transform__num_scaler': QuantileTransformer(), 'sel__n_features_to_select': 57, 'sel__step': 2, 'clf__n_estimators': 1000}\n",
      " \n",
      "ExtraTrees features: ['posteam', 'defteam', 'half_seconds_remaining', 'game_seconds_remaining', 'goal_to_go', 'shotgun', 'no_huddle', 'defteam_score', 'score_differential', 'fg_prob', 'safety_prob', 'ep', 'drive_play_count', 'spread_line', 'total_line', 'roof', 'offense_formation', 'offense_personnel', 'defenders_in_box', 'defense_personnel', 'off_rb_count', 'off_te_count', 'off_wr_count', 'off_hb_count', 'def_lb_count', 'hb_to_lb_ratio', 'ol_to_dl_ratio', 'play_sequence_game', 'play_sequence_series', 'score_differential_norm', 'game_temp', 'game_humidity', 'game_wind', 'dtg_99to96', 'dtg_89to75', 'dtg_74to55', 'dtg_54to45', 'dtg_44to35', 'dtg_09to00', 'prev1_big_play_pass', 'prev2_big_play_pass', 'prev3_big_play_pass', 'prev1_big_play_run', 'prev2_big_play_run', 'prev3_big_play_run', 'prev1_negative_pass', 'prev2_negative_pass', 'prev3_negative_pass', 'prev1_negative_run', 'prev2_negative_run', 'prev3_negative_run', 'play_type_prev1', 'play_type_prev2', 'play_type_prev3', 'play_type_prev4', 'prev2_play_def_penalty', 'prev1_play_pass_deep']\n",
      " \n",
      "              precision    recall  f1-score   support\n",
      "\n",
      "         run     0.6521    0.7812    0.7108      3968\n",
      "        pass     0.8264    0.7141    0.7661      5785\n",
      "\n",
      "    accuracy                         0.7414      9753\n",
      "   macro avg     0.7392    0.7477    0.7385      9753\n",
      "weighted avg     0.7555    0.7414    0.7436      9753\n"
     ]
    },
    {
     "data": {
      "text/plain": "<Figure size 640x480 with 2 Axes>",
      "image/png": "[encoded data removed]"
     },
     "metadata": {},
     "output_type": "display_data"
    },
    {
     "name": "stdout",
     "output_type": "stream",
     "text": [
      " \n",
      "-------------------------------------------------------------------------------------------------------------------------------\n",
      "\n",
      "\n",
      "n_iterations: 2\n",
      "n_required_iterations: 2\n",
      "n_possible_iterations: 2\n",
      "min_resources_: 200\n",
      "max_resources_: 1000\n",
      "aggressive_elimination: False\n",
      "factor: 5.0\n",
      "----------\n",
      "iter: 0\n",
      "n_candidates: 5\n",
      "n_resources: 200\n",
      "Fitting 5 folds for each of 5 candidates, totalling 25 fits\n",
      "----------\n",
      "iter: 1\n",
      "n_candidates: 1\n",
      "n_resources: 1000\n",
      "Fitting 5 folds for each of 1 candidates, totalling 5 fits\n",
      "--------------------------\n",
      " \n",
      "GradientBoosting runtime: 93.0 minutes\n",
      "GradientBoosting best training score: 0.7197372607934358\n",
      "GradientBoosting best test score: 0.7315697734030555\n",
      " \n",
      "GradientBoosting parameters: {'clf__ccp_alpha': 1.525477195575269e-08, 'clf__criterion': 'friedman_mse', 'clf__learning_rate': 0.37719839122350163, 'clf__loss': 'exponential', 'clf__max_depth': 42, 'clf__max_features': 0.4075288180783251, 'clf__max_leaf_nodes': 67, 'clf__min_impurity_decrease': 1.5135396015039732e-10, 'clf__min_samples_leaf': 0.01860154961551285, 'clf__min_samples_split': 0.0757011596017946, 'clf__min_weight_fraction_leaf': 0.47714731191446985, 'clf__n_iter_no_change': 150, 'clf__random_state': 67, 'clf__subsample': 0.9712183089566733, 'clf__tol': 1.5402145674976086e-10, 'clf__validation_fraction': 0.1, 'clf__warm_start': True, 'ovr__n_neighbors': 5, 'pre__cat_transform__cat_encoder__sigma': 0.007675514803218879, 'pre__num_transform__num_scaler': QuantileTransformer(output_distribution='normal'), 'sel__n_features_to_select': 53, 'sel__step': 2, 'clf__n_estimators': 1000}\n",
      " \n",
      "GradientBoosting features: ['posteam', 'defteam', 'half_seconds_remaining', 'game_seconds_remaining', 'goal_to_go', 'shotgun', 'no_huddle', 'defteam_score', 'score_differential', 'fg_prob', 'ep', 'drive_play_count', 'spread_line', 'total_line', 'roof', 'offense_formation', 'offense_personnel', 'defenders_in_box', 'defense_personnel', 'off_rb_count', 'off_te_count', 'off_wr_count', 'off_hb_count', 'def_lb_count', 'hb_to_lb_ratio', 'ol_to_dl_ratio', 'play_sequence_game', 'play_sequence_series', 'score_differential_norm', 'game_temp', 'game_humidity', 'game_wind', 'dtg_89to75', 'dtg_74to55', 'dtg_54to45', 'dtg_44to35', 'dtg_09to00', 'prev1_big_play_pass', 'prev2_big_play_pass', 'prev3_big_play_pass', 'prev1_big_play_run', 'prev2_big_play_run', 'prev3_big_play_run', 'prev1_negative_pass', 'prev2_negative_pass', 'prev3_negative_pass', 'prev1_negative_run', 'prev2_negative_run', 'prev3_negative_run', 'play_type_prev1', 'play_type_prev2', 'play_type_prev3', 'prev1_play_pass_deep']\n",
      " \n",
      "              precision    recall  f1-score   support\n",
      "\n",
      "         run     0.6907    0.6162    0.6513      3968\n",
      "        pass     0.7549    0.8107    0.7818      5785\n",
      "\n",
      "    accuracy                         0.7316      9753\n",
      "   macro avg     0.7228    0.7134    0.7166      9753\n",
      "weighted avg     0.7288    0.7316    0.7287      9753\n"
     ]
    },
    {
     "data": {
      "text/plain": "<Figure size 640x480 with 2 Axes>",
      "image/png": "[encoded data removed]"
     },
     "metadata": {},
     "output_type": "display_data"
    },
    {
     "name": "stdout",
     "output_type": "stream",
     "text": [
      " \n",
      "-------------------------------------------------------------------------------------------------------------------------------\n",
      "\n",
      "\n",
      "n_iterations: 2\n",
      "n_required_iterations: 2\n",
      "n_possible_iterations: 2\n",
      "min_resources_: 200\n",
      "max_resources_: 1000\n",
      "aggressive_elimination: False\n",
      "factor: 5.0\n",
      "----------\n",
      "iter: 0\n",
      "n_candidates: 5\n",
      "n_resources: 200\n",
      "Fitting 5 folds for each of 5 candidates, totalling 25 fits\n",
      "----------\n",
      "iter: 1\n",
      "n_candidates: 1\n",
      "n_resources: 1000\n",
      "Fitting 5 folds for each of 1 candidates, totalling 5 fits\n",
      "--------------------------\n",
      " \n",
      "AdaBoost runtime: 120.0 minutes\n",
      "AdaBoost best training score: 0.7267397633826105\n",
      "AdaBoost best test score: 0.7369014662155234\n",
      " \n",
      "AdaBoost parameters: {'clf__algorithm': 'SAMME', 'clf__learning_rate': 0.6273645146502753, 'clf__random_state': 67, 'ovr__n_neighbors': 5, 'pre__cat_transform__cat_encoder__sigma': 0.033746506391495235, 'pre__num_transform__num_scaler': PowerTransformer(), 'sel__n_features_to_select': 36, 'sel__step': 2, 'clf__n_estimators': 1000}\n",
      " \n",
      "AdaBoost features: ['defteam', 'half_seconds_remaining', 'goal_to_go', 'no_huddle', 'fg_prob', 'drive_play_count', 'spread_line', 'total_line', 'roof', 'offense_formation', 'off_rb_count', 'off_te_count', 'off_wr_count', 'hb_to_lb_ratio', 'play_sequence_series', 'score_differential_norm', 'game_humidity', 'game_wind', 'dtg_74to55', 'dtg_09to00', 'prev1_big_play_pass', 'prev2_big_play_pass', 'prev3_big_play_pass', 'prev1_big_play_run', 'prev2_big_play_run', 'prev3_big_play_run', 'prev1_negative_pass', 'prev2_negative_pass', 'prev3_negative_pass', 'prev1_negative_run', 'prev2_negative_run', 'prev3_negative_run', 'play_type_prev1', 'play_type_prev2', 'play_type_prev3', 'prev1_play_pass_deep']\n",
      " \n",
      "              precision    recall  f1-score   support\n",
      "\n",
      "         run     0.6417    0.8002    0.7122      3968\n",
      "        pass     0.8350    0.6935    0.7577      5785\n",
      "\n",
      "    accuracy                         0.7369      9753\n",
      "   macro avg     0.7383    0.7468    0.7349      9753\n",
      "weighted avg     0.7563    0.7369    0.7392      9753\n"
     ]
    },
    {
     "data": {
      "text/plain": "<Figure size 640x480 with 2 Axes>",
      "image/png": "[encoded data removed]"
     },
     "metadata": {},
     "output_type": "display_data"
    },
    {
     "name": "stdout",
     "output_type": "stream",
     "text": [
      " \n",
      "-------------------------------------------------------------------------------------------------------------------------------\n",
      "\n",
      "\n",
      "n_iterations: 2\n",
      "n_required_iterations: 2\n",
      "n_possible_iterations: 2\n",
      "min_resources_: 200\n",
      "max_resources_: 1000\n",
      "aggressive_elimination: False\n",
      "factor: 5.0\n",
      "----------\n",
      "iter: 0\n",
      "n_candidates: 5\n",
      "n_resources: 200\n",
      "Fitting 5 folds for each of 5 candidates, totalling 25 fits\n",
      "----------\n",
      "iter: 1\n",
      "n_candidates: 1\n",
      "n_resources: 1000\n",
      "Fitting 5 folds for each of 1 candidates, totalling 5 fits\n",
      "--------------------------\n",
      " \n",
      "XGBoost runtime: 93.0 minutes\n",
      "XGBoost best training score: 0.7339413331470288\n",
      "XGBoost best test score: 0.7422331590279914\n",
      " \n",
      "XGBoost parameters: {'clf__booster': 'gbtree', 'clf__eta': 0.3, 'clf__eval_metric': 'logloss', 'clf__grow_policy': 'lossguide', 'clf__max_bin': 256, 'clf__max_depth': 8, 'clf__objective': 'binary:hinge', 'clf__seed': 67, 'clf__tree_method': 'hist', 'ovr__n_neighbors': 5, 'pre__cat_transform__cat_encoder__sigma': 0.011201854088090362, 'pre__num_transform__num_scaler': MinMaxScaler(), 'sel__n_features_to_select': 39, 'sel__step': 2, 'clf__n_estimators': 1000}\n",
      " \n",
      "XGBoost features: ['posteam', 'defteam', 'half_seconds_remaining', 'goal_to_go', 'no_huddle', 'fg_prob', 'drive_play_count', 'spread_line', 'total_line', 'roof', 'offense_formation', 'offense_personnel', 'off_rb_count', 'off_te_count', 'off_wr_count', 'hb_to_lb_ratio', 'ol_to_dl_ratio', 'play_sequence_series', 'score_differential_norm', 'game_humidity', 'game_wind', 'dtg_74to55', 'dtg_09to00', 'prev1_big_play_pass', 'prev2_big_play_pass', 'prev3_big_play_pass', 'prev1_big_play_run', 'prev2_big_play_run', 'prev3_big_play_run', 'prev1_negative_pass', 'prev2_negative_pass', 'prev3_negative_pass', 'prev1_negative_run', 'prev2_negative_run', 'prev3_negative_run', 'play_type_prev1', 'play_type_prev2', 'play_type_prev3', 'prev1_play_pass_deep']\n",
      " \n",
      "              precision    recall  f1-score   support\n",
      "\n",
      "         run     0.6593    0.7583    0.7053      3968\n",
      "        pass     0.8152    0.7312    0.7709      5785\n",
      "\n",
      "    accuracy                         0.7422      9753\n",
      "   macro avg     0.7372    0.7448    0.7381      9753\n",
      "weighted avg     0.7518    0.7422    0.7442      9753\n"
     ]
    },
    {
     "data": {
      "text/plain": "<Figure size 640x480 with 2 Axes>",
      "image/png": "[encoded data removed]"
     },
     "metadata": {},
     "output_type": "display_data"
    },
    {
     "name": "stdout",
     "output_type": "stream",
     "text": [
      " \n",
      "-------------------------------------------------------------------------------------------------------------------------------\n",
      "\n"
     ]
    }
   ],
   "source": [
    "# Define the models\n",
    "models = [\n",
    "    ('RandomForest', RandomForestClassifier()),\n",
    "    ('ExtraTrees', ExtraTreesClassifier()),\n",
    "    ('GradientBoosting', GradientBoostingClassifier()),\n",
    "    ('AdaBoost', AdaBoostClassifier()),\n",
    "    ('XGBoost', XGBClassifier()),\n",
    "]\n",
    "\n",
    "# Create and run the pipeline\n",
    "for model_name, model in models:\n",
    "    pipeline = Pipeline([\n",
    "        ('pre', preprocessing),\n",
    "        ('sel', RFE(RandomForestClassifier(n_estimators=rfc_estimators, max_features=rfc_max_features, class_weight='balanced_subsample', n_jobs=6, random_state=67))),\n",
    "        ('ovr', ADASYN(sampling_strategy='not majority', random_state=67)),\n",
    "        ('clf', model)\n",
    "    ])\n",
    " \n",
    "    params = {}\n",
    "\n",
    "    if model_name == 'RandomForest':\n",
    "        params = {\n",
    "            'pre__cat_transform__cat_encoder__sigma': loguniform(0.001, 0.05),\n",
    "            'pre__num_transform__num_scaler': feature_scaler_list,\n",
    "            'sel__n_features_to_select': randint(40, 80),\n",
    "            'sel__step': [2],\n",
    "            'ovr__n_neighbors': randint(2, 6),\n",
    "            'clf__bootstrap': [True],\n",
    "            'clf__ccp_alpha': loguniform(1e-05, 1e-00),                       # Cost-complexity pruning is an algorithm used to prune a tree to avoid over-fitting\n",
    "            'clf__criterion': ['gini'],\n",
    "            'clf__max_depth': randint(50, 85),\n",
    "            'clf__max_features': loguniform(0.35, 0.80), \n",
    "            'clf__min_impurity_decrease': loguniform(1e-10, 1e-06),\n",
    "            #'clf__max_samples': loguniform(0.05, 0.40),                      # Only for bootstrap=True. Including this parameter significantly reduced model performance. \n",
    "            'clf__min_samples_leaf': loguniform(0.05, 0.25),\n",
    "            'clf__min_samples_split': loguniform(0.05, 0.25),\n",
    "            'clf__min_weight_fraction_leaf': loguniform(0.05, 0.25),\n",
    "            'clf__oob_score': [False],                                        # Only for bootstrap=True\n",
    "            'clf__warm_start': [True],\n",
    "            'clf__n_jobs': [6],\n",
    "            'clf__random_state': [67],\n",
    "        }\n",
    "\n",
    "    elif model_name == 'ExtraTrees':\n",
    "        params = {\n",
    "            'pre__cat_transform__cat_encoder__sigma': loguniform(0.001, 0.05),\n",
    "            'pre__num_transform__num_scaler': feature_scaler_list,\n",
    "            'sel__n_features_to_select': randint(35, 85),\n",
    "            'sel__step': [2],\n",
    "            'ovr__n_neighbors': randint(2, 6), \n",
    "            'clf__bootstrap': [False],\n",
    "            'clf__ccp_alpha': loguniform(1e-08, 1e-03),                       # Cost-complexity pruning is an algorithm used to prune a tree to avoid over-fitting\n",
    "            'clf__criterion': ['entropy'],\n",
    "            'clf__max_depth': randint(50, 85),\n",
    "            'clf__max_features': loguniform(0.20, 0.55),\n",
    "            'clf__max_leaf_nodes': randint(30, 75),\n",
    "            #'clf__max_samples': loguniform(0.10, 0.50),                      # Only for bootstrap=True\n",
    "            'clf__min_impurity_decrease': loguniform(1e-10, 1e-07),\n",
    "            'clf__min_samples_leaf': loguniform(0.001, 0.10),\n",
    "            'clf__min_samples_split': loguniform(0.001, 0.10),\n",
    "            'clf__min_weight_fraction_leaf': loguniform(0.001, 0.10),\n",
    "            'clf__oob_score': [False],                                        # Only for bootstrap=True\n",
    "            'clf__warm_start': [False],\n",
    "            'clf__n_jobs': [6],\n",
    "            'clf__random_state': [67],\n",
    "        }\n",
    "\n",
    "    elif model_name == 'GradientBoosting':\n",
    "        params = {\n",
    "            'pre__cat_transform__cat_encoder__sigma': loguniform(0.001, 0.05),\n",
    "            'pre__num_transform__num_scaler': feature_scaler_list,\n",
    "            'sel__n_features_to_select': randint(30, 70),\n",
    "            'sel__step': [2],\n",
    "            'ovr__n_neighbors':randint(2, 6),\n",
    "            'clf__criterion': ['friedman_mse'],\n",
    "            'clf__ccp_alpha': loguniform(1e-10, 1e-06),                       # Cost-complexity pruning is an algorithm used to prune a tree to avoid over-fitting\n",
    "            'clf__learning_rate': loguniform(1e-02, 1e-00),\n",
    "            'clf__loss': ['exponential'],\n",
    "            'clf__max_depth': randint(30, 65),\n",
    "            'clf__max_features': loguniform(0.20, 0.55), \n",
    "            'clf__max_leaf_nodes': randint(50, 80),\n",
    "            'clf__min_weight_fraction_leaf': loguniform(0.30, 0.50),          # Must be <= 0.5\n",
    "            'clf__min_impurity_decrease': loguniform(1e-10, 1e-07),\n",
    "            'clf__min_samples_leaf': loguniform(0.005, 0.15),\n",
    "            'clf__min_samples_split': loguniform(0.02, 0.25),\n",
    "            'clf__n_iter_no_change': [150],\n",
    "            'clf__tol': loguniform(1e-10, 1e-06),\n",
    "            'clf__validation_fraction': [0.07],\n",
    "            'clf__warm_start': [True],\n",
    "            'clf__subsample': loguniform(0.95, 1.0),\n",
    "            'clf__random_state': [67],\n",
    "        }\n",
    "\n",
    "    elif model_name == 'AdaBoost':\n",
    "        params = {\n",
    "            'pre__cat_transform__cat_encoder__sigma': loguniform(0.005, 0.05),\n",
    "            'pre__num_transform__num_scaler': feature_scaler_list,\n",
    "            'sel__n_features_to_select': randint(5, 40),\n",
    "            'sel__step': [2],\n",
    "            'ovr__n_neighbors': randint(2, 6), \n",
    "            'clf__algorithm': ['SAMME'],\n",
    "            'clf__learning_rate': loguniform(1e-03, 1e-00),\n",
    "            'clf__random_state': [67],\n",
    "        }\n",
    "\n",
    "    elif model_name == 'XGBoost':\n",
    "        params = {\n",
    "            'pre__cat_transform__cat_encoder__sigma': loguniform(0.005, 0.05),\n",
    "            'pre__num_transform__num_scaler': feature_scaler_list,\n",
    "            'sel__n_features_to_select': randint(5, 40),\n",
    "            'sel__step': [2],\n",
    "            'ovr__n_neighbors': randint(2, 6), \n",
    "            'clf__tree_method': ['hist'],                                     # 'hist' is faster than 'auto'\n",
    "            'clf__booster': ['gbtree'],                                       # 'gbtree' is faster than 'gblinear'\n",
    "            'clf__eta': [0.3],\n",
    "            'clf__max_depth': [8],\n",
    "            'clf__max_bin': [256],\n",
    "            'clf__grow_policy': ['depthwise','lossguide'],                    # 'lossguide','depthwise'\n",
    "            'clf__objective': ['binary:hinge'],\n",
    "            'clf__eval_metric': ['logloss'],\n",
    "            'clf__seed': [67],\n",
    "        }\n",
    "    \n",
    "    search = HalvingRandomSearchCV(\n",
    "        estimator=pipeline,\n",
    "        param_distributions=params,\n",
    "        scoring='accuracy',\n",
    "        factor=halving_parameter,\n",
    "        resource='clf__n_estimators',\n",
    "        n_candidates='exhaust',\n",
    "        min_resources=min_resource,\n",
    "        max_resources=max_resource,\n",
    "        aggressive_elimination=False,\n",
    "        return_train_score=True,\n",
    "        refit=True,\n",
    "        cv=n_cross_validation,\n",
    "        n_jobs=-1,\n",
    "        random_state=67,\n",
    "        verbose=1,\n",
    "        error_score='raise',\n",
    "    )\n",
    "    \n",
    "    start_training_time = time.time()\n",
    "    search.fit(X_train, y_train)\n",
    "    \n",
    "    # Print training and test results\n",
    "    print('--------------------------')\n",
    "    print(' ')\n",
    "    end_training_time = time.time()\n",
    "    print(f\"{model_name} runtime:\", round((end_training_time - start_training_time) / 60, 0), 'minutes')\n",
    "    print(f\"{model_name} best training score: {search.best_score_}\")\n",
    "    print(f\"{model_name} best test score: {search.score(X_test, y_test)}\")\n",
    "    print(' ')\n",
    "    print(f\"{model_name} parameters: {search.best_params_}\")\n",
    "    print(' ')\n",
    "\n",
    "    # Print features selected during recursive feature selection (RFE)\n",
    "    selected_features = zip(search.best_estimator_.named_steps['sel'].ranking_, initial_features, search.best_estimator_.named_steps['sel'].support_)\n",
    "    selected_features = [x for x in selected_features if x[2] == True]\n",
    "    selected_features = [x[1] for x in selected_features]\n",
    "    print(f\"{model_name} features: {selected_features}\")\n",
    "    print(' ')\n",
    "    \n",
    "    # Print classification report and confusion matrix\n",
    "    print(classification_report(y_test, search.predict(X_test), target_names=['run','pass'], digits=4))\n",
    "    cm = confusion_matrix(y_test, search.predict(X_test))\n",
    "    ConfusionMatrixDisplay(confusion_matrix=cm, display_labels=['run','pass']).plot(cmap=plt.cm.Blues) \n",
    "    plt.show()\n",
    "    \n",
    "    print(' ')\n",
    "    print('-------------------------------------------------------------------------------------------------------------------------------')\n",
    "    print(\"\\n\")"
   ],
   "metadata": {
    "pycharm": {
     "name": "#%%\n"
    },
    "ExecuteTime": {
     "end_time": "2024-01-08T07:50:21.059949Z",
     "start_time": "2024-01-07T23:48:45.835759Z"
    }
   },
   "id": "58cc5161",
   "execution_count": 15
  },
  {
   "cell_type": "code",
   "outputs": [
    {
     "name": "stdout",
     "output_type": "stream",
     "text": [
      "Total HalvingRandomSearchCV runtime 8.03 hours\n"
     ]
    }
   ],
   "source": [
    "# Calculate workbook processing time in hours\n",
    "end_time = time.time()\n",
    "total_time = end_time - start_time\n",
    "\n",
    "print('Total HalvingRandomSearchCV runtime', round(total_time / 3600, 2), 'hours')"
   ],
   "metadata": {
    "collapsed": false,
    "ExecuteTime": {
     "end_time": "2024-01-08T07:50:21.069179Z",
     "start_time": "2024-01-08T07:50:21.064673Z"
    }
   },
   "id": "5ab8b5efee71f3d3",
   "execution_count": 16
  }
 ],
 "metadata": {
  "colab": {
   "name": "nfl_offensive_play_classification_v1.1.ipynb",
   "provenance": []
  },
  "kernelspec": {
   "display_name": "Python 3 (ipykernel)",
   "language": "python",
   "name": "python3"
  },
  "language_info": {
   "codemirror_mode": {
    "name": "ipython",
    "version": 3
   },
   "file_extension": ".py",
   "mimetype": "text/x-python",
   "name": "python",
   "nbconvert_exporter": "python",
   "pygments_lexer": "ipython3",
   "version": "3.9.6"
  }
 },
 "nbformat": 4,
 "nbformat_minor": 5
}
