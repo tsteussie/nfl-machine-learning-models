{
 "cells": [
  {
   "cell_type": "code",
   "execution_count": 1,
   "outputs": [],
   "source": [
    "import warnings\n",
    "from numba.core.errors import NumbaDeprecationWarning, NumbaPendingDeprecationWarning\n",
    "warnings.simplefilter('ignore', category=UserWarning)\n",
    "warnings.filterwarnings('ignore',category=ImportWarning)\n",
    "warnings.filterwarnings('ignore',category=DeprecationWarning)\n",
    "warnings.simplefilter('ignore', category=NumbaDeprecationWarning)\n",
    "warnings.simplefilter('ignore', category=NumbaPendingDeprecationWarning)\n",
    "\n",
    "import pandas as pd\n",
    "import numpy as np\n",
    "import time\n",
    "import matplotlib.pyplot as plt\n",
    "\n",
    "from scipy.stats import randint, loguniform\n",
    "from imblearn.pipeline import Pipeline\n",
    "from sklearn.dummy import DummyClassifier\n",
    "from sklearn.base import BaseEstimator, TransformerMixin\n",
    "from category_encoders import LeaveOneOutEncoder\n",
    "from sklearn.compose import ColumnTransformer\n",
    "from sklearn.preprocessing import KBinsDiscretizer\n",
    "from sklearn.feature_selection import RFE\n",
    "from imblearn.over_sampling import ADASYN\n",
    "from sklearn.impute import SimpleImputer\n",
    "from sklearn.preprocessing import OrdinalEncoder, StandardScaler, MinMaxScaler, RobustScaler, MaxAbsScaler, PowerTransformer, QuantileTransformer\n",
    "from sklearn.experimental import enable_halving_search_cv\n",
    "from sklearn.model_selection import train_test_split, HalvingRandomSearchCV\n",
    "from sklearn.metrics import accuracy_score, confusion_matrix, ConfusionMatrixDisplay, classification_report\n",
    "from sklearn.ensemble import RandomForestClassifier, ExtraTreesClassifier, GradientBoostingClassifier, AdaBoostClassifier\n",
    "from xgboost import XGBClassifier"
   ],
   "metadata": {
    "collapsed": false,
    "ExecuteTime": {
     "end_time": "2024-01-15T05:18:42.001216Z",
     "start_time": "2024-01-15T05:18:38.842270Z"
    }
   },
   "id": "774348c602e5ca1e"
  },
  {
   "cell_type": "code",
   "execution_count": 2,
   "outputs": [],
   "source": [
    "# List of continuous features to be binned into intervals\n",
    "ordinal_features = ['week','qtr']\n",
    "binned_features = ['play_sequence_game','game_seconds_remaining','half_seconds_remaining']\n",
    "\n",
    "bin_discretizer_strategy = ['quantile','kmeans','uniform']        # KBinsDiscretizer strategy: uniform, quantile, kmeans\n",
    "bin_discretizer_encode = ['ordinal']                              # KBinsDiscretizer encode: ordinal, onehot, onehot-dense\n",
    "\n",
    "# Train test split parameters\n",
    "test_holdout_percentage = 0.10\n",
    "\n",
    "# RFE feature selection\n",
    "rfc_est = 150                     # random_forest_classifier_n_estimators\n",
    "rfc_max = 'sqrt'                  # random_forest_classifier_max_features\n",
    "\n",
    "# Define list of scalers being used\n",
    "scaler_list = [StandardScaler(), \n",
    "               RobustScaler(), \n",
    "               MinMaxScaler(), \n",
    "               MaxAbsScaler(), \n",
    "               PowerTransformer(),\n",
    "               QuantileTransformer(output_distribution='normal'), \n",
    "               QuantileTransformer(output_distribution='uniform'),\n",
    "               ]\n",
    "\n",
    "# Specify the HalvingRandomSearchCV parameters\n",
    "scoring = 'accuracy'                        \n",
    "n_cross_validation = 3\n",
    "halving_parameter = 5.0\n",
    "max_resource = 2000\n",
    "resource_divisor = 5.0\n",
    "min_resource = int(round((max_resource / resource_divisor), 0))"
   ],
   "metadata": {
    "collapsed": false,
    "ExecuteTime": {
     "end_time": "2024-01-15T05:18:42.010411Z",
     "start_time": "2024-01-15T05:18:42.004814Z"
    }
   },
   "id": "39c59abc33e5e515"
  },
  {
   "cell_type": "code",
   "execution_count": 3,
   "outputs": [],
   "source": [
    "# Create timer to calculate total workbook time in hours\n",
    "start_time = time.time()"
   ],
   "metadata": {
    "collapsed": false,
    "ExecuteTime": {
     "end_time": "2024-01-15T05:18:42.012042Z",
     "start_time": "2024-01-15T05:18:42.007507Z"
    }
   },
   "id": "5dc8446203dc414e"
  },
  {
   "cell_type": "markdown",
   "id": "c4f8e047",
   "metadata": {
    "pycharm": {
     "name": "#%% md\n"
    }
   },
   "source": [
    "## IMPORT PROCESSED NFL-DATA-PY CSV FILE\n",
    "##### https://pypi.org/project/nfl-data-py/"
   ]
  },
  {
   "cell_type": "code",
   "execution_count": 4,
   "outputs": [
    {
     "data": {
      "text/plain": "(67243, 128)"
     },
     "execution_count": 4,
     "metadata": {},
     "output_type": "execute_result"
    }
   ],
   "source": [
    "# Import csv file from nfl-data-py\n",
    "df = pd.read_csv(r'/Users/ttas2/Documents/Python/nfl-machine-learning-models/output_files/nfl_post_processing_run_pass_classification_data.csv')\n",
    "\n",
    "df.shape"
   ],
   "metadata": {
    "collapsed": false,
    "ExecuteTime": {
     "end_time": "2024-01-15T05:18:42.954672Z",
     "start_time": "2024-01-15T05:18:42.014388Z"
    }
   },
   "id": "f8d686327dce3e32"
  },
  {
   "cell_type": "code",
   "outputs": [
    {
     "name": "stdout",
     "output_type": "stream",
     "text": [
      "['week', 'half_seconds_remaining', 'game_seconds_remaining', 'qtr', 'goal_to_go', 'ydstogo', 'play_type', 'shotgun', 'no_huddle', 'posteam_timeouts_remaining', 'defteam_timeouts_remaining', 'posteam_score', 'defteam_score', 'no_score_prob', 'safety_prob', 'ep', 'wp', 'total_line', 'div_game', 'defenders_in_box', 'report_eligible', 'wr_to_db_ratio', 'ol_to_dl_ratio', 'play_sequence_game', 'play_sequence_series', 'score_differential_norm', 'dtg_99to96', 'dtg_95to90', 'dtg_89to75', 'dtg_74to55', 'dtg_54to45', 'dtg_34to21', 'dtg_20to10', 'dtg_09to00', 'prev1_big_play_pass', 'prev3_big_play_pass', 'prev1_big_play_run', 'prev2_big_play_run', 'prev3_big_play_run', 'prev1_negative_pass', 'prev2_negative_pass', 'prev1_negative_run', 'prev2_negative_run', 'prev3_negative_run', 'prev1_play_off_penalty', 'prev1_play_def_penalty', 'prev2_play_off_penalty', 'prev3_play_def_penalty', 'prev1_play_run_outside', 'prev1_play_run_inside', 'prev1_play_pass_deep', 'prev1_play_pass_short', 'prev2_play_run_outside', 'prev2_play_pass_deep', 'prev2_play_pass_short', 'prev3_play_run_outside', 'prev3_play_run_inside', 'prev3_play_pass_deep', 'prev3_play_pass_short', 'prev1_incomplete_pass', 'prev2_incomplete_pass', 'prev3_incomplete_pass', 'prev4_incomplete_pass', 'prev1_yards_gained', 'prev2_yards_gained', 'prev3_yards_gained', 'prev4_yards_gained', 'prev5_yards_gained', 'prev1_wpa', 'prev2_wpa', 'prev3_wpa', 'prev4_wpa', 'prev5_wpa', 'prev1_shotgun', 'prev2_shotgun', 'prev3_shotgun', 'prev4_shotgun', 'prev5_shotgun', 'prev1_qb_hit', 'prev2_qb_hit', 'prev3_qb_hit', 'prev4_qb_hit', 'prev5_qb_hit', 'prev1_no_huddle', 'prev2_no_huddle', 'prev3_no_huddle', 'prev4_no_huddle', 'prev5_no_huddle', 'prev1_first_down_pass', 'prev2_first_down_pass', 'prev3_first_down_pass', 'prev1_first_down_run', 'prev2_first_down_run', 'prev3_first_down_run', 'prev1_effct_play', 'prev3_effct_play', 'prev4_effct_play', 'prev5_effct_play', 'remaining_downs', 'remaining_yards_per_down', 'two_min_warning', 'ep_half_sec_ratio', 'ep_game_sec_ratio', 'posteam_side', 'game_temp_div_game_humidity', 'run_ratio_off_priors', 'run_ratio_def_priors', 'posteam', 'posteam_type', 'defteam', 'roof', 'surface', 'offense_formation', 'offense_personnel', 'defense_personnel', 'game_weather', 'play_type_prev1', 'play_type_prev2', 'play_type_prev3', 'play_type_prev4', 'play_type_prev5', 'offense_personnel_prev1', 'offense_personnel_prev2', 'offense_personnel_prev3', 'defense_personnel_prev1', 'defense_personnel_prev2', 'defense_personnel_prev3', 'drive_start']\n"
     ]
    }
   ],
   "source": [
    "# Print list of columns\n",
    "print(df.columns.to_list())"
   ],
   "metadata": {
    "collapsed": false,
    "ExecuteTime": {
     "end_time": "2024-01-15T05:18:42.966861Z",
     "start_time": "2024-01-15T05:18:42.954858Z"
    }
   },
   "id": "cac9fffdc5a77fe3",
   "execution_count": 5
  },
  {
   "cell_type": "code",
   "outputs": [
    {
     "name": "stdout",
     "output_type": "stream",
     "text": [
      "set()\n",
      "set()\n"
     ]
    }
   ],
   "source": [
    "# Identify columns in bin_discretizer_strategy or bin_discretizer_encode that are not in the dataframe\n",
    "print(set(ordinal_features) - set(df.columns))\n",
    "print(set(binned_features) - set(df.columns))"
   ],
   "metadata": {
    "collapsed": false,
    "ExecuteTime": {
     "end_time": "2024-01-15T05:18:42.968429Z",
     "start_time": "2024-01-15T05:18:42.963196Z"
    }
   },
   "id": "19b7a0df1e98a592",
   "execution_count": 6
  },
  {
   "cell_type": "code",
   "outputs": [],
   "source": [
    "# Convert binary columns to integers\n",
    "binary_columns = df.columns[df.isin([0,1]).all()].tolist()\n",
    "df[binary_columns] = df[binary_columns].apply(pd.to_numeric, downcast='integer', errors='coerce', axis=1)"
   ],
   "metadata": {
    "collapsed": false,
    "ExecuteTime": {
     "end_time": "2024-01-15T05:18:52.695352Z",
     "start_time": "2024-01-15T05:18:43.158817Z"
    }
   },
   "id": "41f7422bcc2cf003",
   "execution_count": 7
  },
  {
   "cell_type": "code",
   "outputs": [
    {
     "name": "stdout",
     "output_type": "stream",
     "text": [
      "[]\n"
     ]
    }
   ],
   "source": [
    "# Print columns with missing values\n",
    "print(df.columns[df.isnull().any()].tolist())"
   ],
   "metadata": {
    "collapsed": false,
    "ExecuteTime": {
     "end_time": "2024-01-15T05:18:52.773044Z",
     "start_time": "2024-01-15T05:18:52.697146Z"
    }
   },
   "id": "629bc39586b0fba6",
   "execution_count": 8
  },
  {
   "cell_type": "code",
   "execution_count": 9,
   "id": "4c9bcb28",
   "metadata": {
    "pycharm": {
     "name": "#%%\n"
    },
    "ExecuteTime": {
     "end_time": "2024-01-15T05:18:52.774515Z",
     "start_time": "2024-01-15T05:18:52.769301Z"
    }
   },
   "outputs": [
    {
     "data": {
      "text/plain": "play_type\n1    0.597475\n0    0.402525\nName: proportion, dtype: float64"
     },
     "execution_count": 9,
     "metadata": {},
     "output_type": "execute_result"
    }
   ],
   "source": [
    "# Target frequency\n",
    "target_count = df.play_type.value_counts(normalize=True)\n",
    "\n",
    "target_count"
   ]
  },
  {
   "cell_type": "markdown",
   "source": [
    "## TRAIN TEST SPLIT\n",
    "##### https://scikit-learn.org/stable/modules/generated/sklearn.model_selection.train_test_split.html"
   ],
   "metadata": {
    "collapsed": false
   },
   "id": "4c140526b778c182"
  },
  {
   "cell_type": "code",
   "execution_count": 10,
   "id": "4943bbf5",
   "metadata": {
    "pycharm": {
     "name": "#%%\n"
    },
    "ExecuteTime": {
     "end_time": "2024-01-15T05:18:52.924669Z",
     "start_time": "2024-01-15T05:18:52.779273Z"
    }
   },
   "outputs": [],
   "source": [
    "# split data into target and feature datasets\n",
    "X, y = df.loc[:, df.columns != 'play_type'], df['play_type']\n",
    "\n",
    "initial_features = X.columns.to_list()\n",
    "\n",
    "# Create train and test datasets\n",
    "X_train, X_test, y_train, y_test = train_test_split(X, y, test_size=test_holdout_percentage, random_state=67)\n"
   ]
  },
  {
   "cell_type": "markdown",
   "id": "4b6cd4c3",
   "metadata": {
    "pycharm": {
     "name": "#%% md\n"
    }
   },
   "source": [
    "## BASELINE MODEL\n",
    "##### https://scikit-learn.org/stable/modules/generated/sklearn.dummy.DummyClassifier.html"
   ]
  },
  {
   "cell_type": "code",
   "execution_count": 11,
   "id": "28e9513e",
   "metadata": {
    "pycharm": {
     "name": "#%%\n"
    },
    "ExecuteTime": {
     "end_time": "2024-01-15T05:18:52.942435Z",
     "start_time": "2024-01-15T05:18:52.924792Z"
    }
   },
   "outputs": [
    {
     "name": "stdout",
     "output_type": "stream",
     "text": [
      "Baseline accuracy: 58.3%\n"
     ]
    }
   ],
   "source": [
    "# Create and fit baseline model to compare performance\n",
    "baseline_model = DummyClassifier(strategy='most_frequent', random_state=67)\n",
    "baseline_model.fit(X_train, y_train)\n",
    "\n",
    "# Calculate model accuracy on test data\n",
    "y_baseline_pred = baseline_model.predict(X_test)\n",
    "\n",
    "print(f\"Baseline accuracy: {round(accuracy_score(y_test,y_baseline_pred)*100, 1)}%\")\n"
   ]
  },
  {
   "cell_type": "markdown",
   "source": [
    "## MODEL PIPELINE\n",
    "##### https://scikit-learn.org/stable/modules/generated/sklearn.compose.ColumnTransformer.html\n",
    "##### https://scikit-learn.org/stable/modules/generated/sklearn.impute.SimpleImputer.html\n",
    "##### https://scikit-learn.org/stable/modules/generated/sklearn.preprocessing.PowerTransformer.html\n",
    "##### https://www.statsmodels.org/dev/generated/statsmodels.stats.outliers_influence.variance_inflation_factor.html\n",
    "##### https://imbalanced-learn.org/stable/references/over_sampling.html\n",
    "##### https://scikit-learn.org/stable/modules/generated/sklearn.model_selection.HalvingRandomSearchCV.html\n",
    "##### https://scikit-learn.org/stable/modules/generated/sklearn.ensemble.GradientBoostingClassifier.html\n",
    "##### https://scikit-learn.org/stable/modules/generated/sklearn.ensemble.RandomForestClassifier.html\n",
    "##### https://scikit-learn.org/stable/modules/generated/sklearn.ensemble.ExtraTreesClassifier.html\n",
    "##### https://xgboost.readthedocs.io/en/stable/parameter.html"
   ],
   "metadata": {
    "collapsed": false
   },
   "id": "28eb7c49ea06b6d2"
  },
  {
   "cell_type": "code",
   "execution_count": 12,
   "outputs": [
    {
     "name": "stdout",
     "output_type": "stream",
     "text": [
      "Total features: 127\n",
      " \n",
      "Boolean features: 69\n",
      "Numeric features: 32 : ['prev1_wpa', 'score_differential_norm', 'prev1_yards_gained', 'posteam_timeouts_remaining', 'defteam_timeouts_remaining', 'ep', 'remaining_downs', 'prev4_yards_gained', 'wr_to_db_ratio', 'run_ratio_def_priors', 'prev3_yards_gained', 'game_temp_div_game_humidity', 'ep_game_sec_ratio', 'prev5_yards_gained', 'play_sequence_series', 'prev5_wpa', 'ol_to_dl_ratio', 'ydstogo', 'defenders_in_box', 'posteam_score', 'prev3_wpa', 'prev2_yards_gained', 'safety_prob', 'remaining_yards_per_down', 'no_score_prob', 'run_ratio_off_priors', 'total_line', 'prev2_wpa', 'wp', 'prev4_wpa', 'defteam_score', 'ep_half_sec_ratio']\n",
      "Ordinal features: 2 : ['week', 'qtr']\n",
      "Binned features: 3 : ['play_sequence_game', 'game_seconds_remaining', 'half_seconds_remaining']\n",
      "Categorical features: 21 : ['posteam', 'posteam_type', 'defteam', 'roof', 'surface', 'offense_formation', 'offense_personnel', 'defense_personnel', 'game_weather', 'play_type_prev1', 'play_type_prev2', 'play_type_prev3', 'play_type_prev4', 'play_type_prev5', 'offense_personnel_prev1', 'offense_personnel_prev2', 'offense_personnel_prev3', 'defense_personnel_prev1', 'defense_personnel_prev2', 'defense_personnel_prev3', 'drive_start']\n"
     ]
    }
   ],
   "source": [
    "# Create feature type lists for column transform stage of the pipeline\n",
    "categorical_features = list(X_train.select_dtypes(include='object'))\n",
    "boolean_features = X_train.columns[X_train.isin([0, 1]).all()].tolist()\n",
    "numeric_features = list(set(X_train.columns) - set(ordinal_features) - set(categorical_features) - set(boolean_features) - set(binned_features))\n",
    "\n",
    "print('Total features:', len(initial_features))\n",
    "print(' ')\n",
    "print('Boolean features:', len(boolean_features)) #, ':', boolean_features)\n",
    "print('Numeric features:', len(numeric_features), ':', numeric_features)\n",
    "print('Ordinal features:', len(ordinal_features), ':', ordinal_features)\n",
    "print('Binned features:', len(binned_features), ':', binned_features)\n",
    "print('Categorical features:', len(categorical_features), ':', categorical_features)"
   ],
   "metadata": {
    "collapsed": false,
    "ExecuteTime": {
     "end_time": "2024-01-15T05:18:53.195525Z",
     "start_time": "2024-01-15T05:18:52.952365Z"
    }
   },
   "id": "e95804b4c341fcbb"
  },
  {
   "cell_type": "code",
   "execution_count": 13,
   "outputs": [],
   "source": [
    "# Custom transformer for IQR outlier exclusion\n",
    "class IQRTransformer:\n",
    "    def __init__(self, numerical_cols):\n",
    "        self.numerical_cols = numerical_cols\n",
    "        self.lower_bound = None\n",
    "        self.upper_bound = None\n",
    "\n",
    "    def fit(self, x):\n",
    "        if isinstance(x, pd.DataFrame):\n",
    "            # Calculate the IQR for each numerical column\n",
    "            q1 = x[self.numerical_cols].quantile(0.25)\n",
    "            q3 = x[self.numerical_cols].quantile(0.75)\n",
    "            iqr = q3 - q1\n",
    "\n",
    "            # Define the lower and upper bounds for outliers\n",
    "            self.lower_bound = (q1 - 1.5 * iqr).to_dict()\n",
    "            self.upper_bound = (q3 + 1.5 * iqr).to_dict()\n",
    "        else:\n",
    "            # Calculate the IQR for each numerical column\n",
    "            q1 = np.quantile(x[:, :], 0.25, axis=0)\n",
    "            q3 = np.quantile(x[:, :], 0.75, axis=0)\n",
    "            iqr = q3 - q1\n",
    "\n",
    "            # Define the lower and upper bounds for outliers\n",
    "            self.lower_bound = (q1 - 1.5 * iqr).tolist()\n",
    "            self.upper_bound = (q3 + 1.5 * iqr).tolist()\n",
    "\n",
    "        return self\n",
    "\n",
    "    def transform(self, x):\n",
    "        if isinstance(x, pd.DataFrame):\n",
    "            # Exclude outliers based on the IQR for each numerical column\n",
    "            x_outlier_removed = x.copy()\n",
    "            for col in self.numerical_cols:\n",
    "                if col in self.lower_bound and col in self.upper_bound:\n",
    "                    x_outlier_removed = x_outlier_removed[\n",
    "                        (x_outlier_removed[col] >= self.lower_bound[col]) & (x_outlier_removed[col] <= self.upper_bound[col])\n",
    "                    ].dropna()\n",
    "        else:\n",
    "            # Exclude outliers based on the IQR for each numerical column\n",
    "            x_outlier_removed = x.copy()\n",
    "            for i, col in enumerate(self.numerical_cols):\n",
    "                if col in self.lower_bound and col in self.upper_bound:\n",
    "                    lower_bound = self.lower_bound[col]\n",
    "                    upper_bound = self.upper_bound[col]\n",
    "                    x_outlier_removed = x_outlier_removed[\n",
    "                        (x_outlier_removed[:, i] >= lower_bound) & (x_outlier_removed[:, i] <= upper_bound)\n",
    "                    ].dropna()\n",
    "\n",
    "        return x_outlier_removed"
   ],
   "metadata": {
    "collapsed": false,
    "ExecuteTime": {
     "end_time": "2024-01-15T05:18:53.206433Z",
     "start_time": "2024-01-15T05:18:53.196150Z"
    }
   },
   "id": "716f61f917c8a815"
  },
  {
   "cell_type": "code",
   "outputs": [],
   "source": [
    "# Create custom transformer for selecting a feature scaler: StandardScaler, RobustScaler, MinMaxScaler, MaxAbsScaler\n",
    "class ScalerSelector(BaseEstimator, TransformerMixin):\n",
    "    \n",
    "    def __init__(self, scaler=StandardScaler()):\n",
    "        super().__init__()\n",
    "        self.scaler = scaler\n",
    "\n",
    "    def fit(self, x):\n",
    "        return self.scaler.fit(x)\n",
    "\n",
    "    def transform(self, x):\n",
    "        return self.scaler.transform(x)\n",
    "    \n",
    "# scaler and encoder options\n",
    "feature_scaler = ScalerSelector()"
   ],
   "metadata": {
    "collapsed": false,
    "ExecuteTime": {
     "end_time": "2024-01-15T05:18:53.207236Z",
     "start_time": "2024-01-15T05:18:53.203249Z"
    }
   },
   "id": "7cb04ee44508f87e",
   "execution_count": 14
  },
  {
   "cell_type": "code",
   "outputs": [],
   "source": [
    "# Specify the transformations per data type\n",
    "num_trans = Pipeline(steps=[('num_imputer', SimpleImputer(missing_values=np.nan, strategy='median')),\n",
    "                            ('num_outlier', IQRTransformer(numerical_cols=numeric_features)),\n",
    "                            ('num_scaler', feature_scaler),\n",
    "                           ])\n",
    "\n",
    "cat_trans = Pipeline(steps=[('cat_imputer', SimpleImputer(missing_values=np.nan, strategy='most_frequent')),\n",
    "                            ('cat_encoder', LeaveOneOutEncoder(handle_missing='value', handle_unknown='value', random_state=67)),\n",
    "                            ])\n",
    "\n",
    "ord_trans = Pipeline(steps=[('ord_imputer', SimpleImputer(missing_values=np.nan, strategy='most_frequent')),\n",
    "                            ('ord_encoder', OrdinalEncoder(categories='auto', handle_unknown='use_encoded_value', unknown_value=-1)),\n",
    "                           ])\n",
    "\n",
    "bin_trans = Pipeline(steps=[('bin_imputer', SimpleImputer(missing_values=np.nan, strategy='most_frequent')),\n",
    "                            ('bin_discretizer', KBinsDiscretizer(subsample=None, random_state=67)),\n",
    "                            ('bin_scaler', feature_scaler),\n",
    "                           ])\n",
    "\n",
    "preprocessing = ColumnTransformer(transformers=[('num_transform', num_trans, numeric_features),\n",
    "                                                ('cat_transform', cat_trans, categorical_features),\n",
    "                                                ('ord_transform', ord_trans, ordinal_features),\n",
    "                                                ('bin_transform', bin_trans, binned_features),\n",
    "                                                ],\n",
    "                                  remainder='passthrough',\n",
    "                                  )"
   ],
   "metadata": {
    "collapsed": false,
    "ExecuteTime": {
     "end_time": "2024-01-15T05:18:53.233082Z",
     "start_time": "2024-01-15T05:18:53.213921Z"
    }
   },
   "id": "7b32bfe8bf6eb824",
   "execution_count": 15
  },
  {
   "cell_type": "code",
   "outputs": [
    {
     "name": "stdout",
     "output_type": "stream",
     "text": [
      "n_iterations: 2\n",
      "n_required_iterations: 2\n",
      "n_possible_iterations: 2\n",
      "min_resources_: 400\n",
      "max_resources_: 2000\n",
      "aggressive_elimination: False\n",
      "factor: 5.0\n",
      "----------\n",
      "iter: 0\n",
      "n_candidates: 5\n",
      "n_resources: 400\n",
      "Fitting 3 folds for each of 5 candidates, totalling 15 fits\n",
      "----------\n",
      "iter: 1\n",
      "n_candidates: 1\n",
      "n_resources: 2000\n",
      "Fitting 3 folds for each of 1 candidates, totalling 3 fits\n",
      "--------------------------\n",
      " \n",
      "RandomForest runtime: 85.0 minutes\n",
      "RandomForest best training score: 0.7315179232063826\n",
      "RandomForest best test score: 0.7326394052044609\n",
      " \n",
      "RandomForest parameters: {'clf__bootstrap': True, 'clf__ccp_alpha': 0.0015665107114220724, 'clf__criterion': 'gini', 'clf__max_depth': 71, 'clf__max_features': 0.40254432033157506, 'clf__min_impurity_decrease': 3.783443062244536e-07, 'clf__min_samples_leaf': 0.08841950957408536, 'clf__min_samples_split': 0.2223002222708904, 'clf__min_weight_fraction_leaf': 0.09525743239026849, 'clf__n_jobs': 6, 'clf__oob_score': False, 'clf__random_state': 67, 'clf__warm_start': True, 'ovr__n_neighbors': 4, 'pre__bin_transform__bin_discretizer__encode': 'ordinal', 'pre__bin_transform__bin_discretizer__n_bins': 9, 'pre__bin_transform__bin_discretizer__strategy': 'uniform', 'pre__bin_transform__bin_scaler': MaxAbsScaler(), 'pre__cat_transform__cat_encoder__sigma': 0.004305368798854621, 'pre__num_transform__num_scaler': RobustScaler(), 'sel__n_features_to_select': 69, 'sel__step': 2, 'clf__n_estimators': 2000}\n",
      " \n",
      "RandomForest features: ['week', 'half_seconds_remaining', 'game_seconds_remaining', 'qtr', 'goal_to_go', 'ydstogo', 'shotgun', 'no_huddle', 'posteam_timeouts_remaining', 'defteam_timeouts_remaining', 'posteam_score', 'defteam_score', 'no_score_prob', 'safety_prob', 'ep', 'wp', 'total_line', 'div_game', 'defenders_in_box', 'report_eligible', 'wr_to_db_ratio', 'ol_to_dl_ratio', 'play_sequence_game', 'play_sequence_series', 'score_differential_norm', 'dtg_99to96', 'dtg_95to90', 'dtg_89to75', 'dtg_74to55', 'dtg_54to45', 'dtg_34to21', 'dtg_20to10', 'dtg_09to00', 'prev1_big_play_pass', 'prev3_big_play_pass', 'prev1_big_play_run', 'prev2_big_play_run', 'prev3_big_play_run', 'prev1_negative_pass', 'prev2_negative_pass', 'prev1_negative_run', 'prev2_negative_run', 'prev3_negative_run', 'prev1_play_off_penalty', 'prev1_play_def_penalty', 'prev2_play_off_penalty', 'prev3_play_def_penalty', 'prev1_play_run_outside', 'prev1_play_run_inside', 'prev1_play_pass_deep', 'prev1_play_pass_short', 'prev2_play_run_outside', 'prev2_play_pass_deep', 'prev2_play_pass_short', 'prev3_play_run_outside', 'prev3_play_run_inside', 'prev3_play_pass_deep', 'prev3_play_pass_short', 'prev2_incomplete_pass', 'prev3_incomplete_pass', 'prev4_incomplete_pass', 'prev5_yards_gained', 'prev4_no_huddle', 'prev5_no_huddle', 'prev2_first_down_pass', 'prev5_effct_play', 'ep_half_sec_ratio', 'offense_personnel_prev2', 'defense_personnel_prev3']\n",
      " \n",
      "              precision    recall  f1-score   support\n",
      "\n",
      "         run     0.6711    0.7050    0.6876      2807\n",
      "        pass     0.7807    0.7524    0.7663      3918\n",
      "\n",
      "    accuracy                         0.7326      6725\n",
      "   macro avg     0.7259    0.7287    0.7270      6725\n",
      "weighted avg     0.7350    0.7326    0.7335      6725\n"
     ]
    },
    {
     "data": {
      "text/plain": "<Figure size 640x480 with 2 Axes>",
      "image/png": "[encoded data removed]"
     },
     "metadata": {},
     "output_type": "display_data"
    },
    {
     "name": "stdout",
     "output_type": "stream",
     "text": [
      " \n",
      "-------------------------------------------------------------------------------------------------------------------------------\n",
      "\n",
      "\n",
      "n_iterations: 2\n",
      "n_required_iterations: 2\n",
      "n_possible_iterations: 2\n",
      "min_resources_: 400\n",
      "max_resources_: 2000\n",
      "aggressive_elimination: False\n",
      "factor: 5.0\n",
      "----------\n",
      "iter: 0\n",
      "n_candidates: 5\n",
      "n_resources: 400\n",
      "Fitting 3 folds for each of 5 candidates, totalling 15 fits\n",
      "----------\n",
      "iter: 1\n",
      "n_candidates: 1\n",
      "n_resources: 2000\n",
      "Fitting 3 folds for each of 1 candidates, totalling 3 fits\n",
      "--------------------------\n",
      " \n",
      "ExtraTrees runtime: 110.0 minutes\n",
      "ExtraTrees best training score: 0.735979455710615\n",
      "ExtraTrees best test score: 0.7415613382899628\n",
      " \n",
      "ExtraTrees parameters: {'clf__bootstrap': False, 'clf__ccp_alpha': 1.7009826850826932e-08, 'clf__criterion': 'entropy', 'clf__max_depth': 46, 'clf__max_features': 0.7586861415697828, 'clf__max_leaf_nodes': 49, 'clf__min_impurity_decrease': 1.320786777633551e-08, 'clf__min_samples_leaf': 0.003530704761003295, 'clf__min_samples_split': 0.0031484016382831623, 'clf__min_weight_fraction_leaf': 0.0040732846442903484, 'clf__n_jobs': 6, 'clf__oob_score': False, 'clf__random_state': 67, 'clf__warm_start': False, 'ovr__n_neighbors': 4, 'pre__bin_transform__bin_discretizer__encode': 'ordinal', 'pre__bin_transform__bin_discretizer__n_bins': 14, 'pre__bin_transform__bin_discretizer__strategy': 'uniform', 'pre__bin_transform__bin_scaler': QuantileTransformer(output_distribution='normal'), 'pre__cat_transform__cat_encoder__sigma': 0.0010334550057493153, 'pre__num_transform__num_scaler': PowerTransformer(), 'sel__n_features_to_select': 43, 'sel__step': 2, 'clf__n_estimators': 2000}\n",
      " \n",
      "ExtraTrees features: ['week', 'half_seconds_remaining', 'game_seconds_remaining', 'ydstogo', 'defteam_timeouts_remaining', 'defteam_score', 'no_score_prob', 'div_game', 'defenders_in_box', 'play_sequence_game', 'play_sequence_series', 'score_differential_norm', 'dtg_99to96', 'dtg_95to90', 'dtg_89to75', 'dtg_74to55', 'dtg_34to21', 'dtg_20to10', 'dtg_09to00', 'prev1_big_play_pass', 'prev3_big_play_pass', 'prev1_big_play_run', 'prev2_big_play_run', 'prev3_big_play_run', 'prev1_negative_pass', 'prev2_negative_pass', 'prev1_negative_run', 'prev2_negative_run', 'prev3_negative_run', 'prev1_play_off_penalty', 'prev1_play_def_penalty', 'prev2_play_off_penalty', 'prev3_play_def_penalty', 'prev1_play_run_outside', 'prev1_play_run_inside', 'prev1_play_pass_deep', 'prev1_play_pass_short', 'prev2_play_run_outside', 'prev2_play_pass_deep', 'prev2_play_pass_short', 'prev3_play_pass_deep', 'prev3_play_pass_short', 'prev2_incomplete_pass']\n",
      " \n",
      "              precision    recall  f1-score   support\n",
      "\n",
      "         run     0.6665    0.7624    0.7112      2807\n",
      "        pass     0.8102    0.7266    0.7661      3918\n",
      "\n",
      "    accuracy                         0.7416      6725\n",
      "   macro avg     0.7383    0.7445    0.7387      6725\n",
      "weighted avg     0.7502    0.7416    0.7432      6725\n"
     ]
    },
    {
     "data": {
      "text/plain": "<Figure size 640x480 with 2 Axes>",
      "image/png": "[encoded data removed]"
     },
     "metadata": {},
     "output_type": "display_data"
    },
    {
     "name": "stdout",
     "output_type": "stream",
     "text": [
      " \n",
      "-------------------------------------------------------------------------------------------------------------------------------\n",
      "\n",
      "\n",
      "n_iterations: 2\n",
      "n_required_iterations: 2\n",
      "n_possible_iterations: 2\n",
      "min_resources_: 400\n",
      "max_resources_: 2000\n",
      "aggressive_elimination: False\n",
      "factor: 5.0\n",
      "----------\n",
      "iter: 0\n",
      "n_candidates: 5\n",
      "n_resources: 400\n",
      "Fitting 3 folds for each of 5 candidates, totalling 15 fits\n",
      "----------\n",
      "iter: 1\n",
      "n_candidates: 1\n",
      "n_resources: 2000\n",
      "Fitting 3 folds for each of 1 candidates, totalling 3 fits\n",
      "--------------------------\n",
      " \n",
      "GradientBoosting runtime: 98.0 minutes\n",
      "GradientBoosting best training score: 0.737499622252577\n",
      "GradientBoosting best test score: 0.737992565055762\n",
      " \n",
      "GradientBoosting parameters: {'clf__ccp_alpha': 1.5503438071896285e-09, 'clf__criterion': 'friedman_mse', 'clf__learning_rate': 0.11901080861901027, 'clf__loss': 'exponential', 'clf__max_depth': 74, 'clf__max_features': 0.2376613493220846, 'clf__max_leaf_nodes': 73, 'clf__min_impurity_decrease': 3.9114181766447915e-09, 'clf__min_samples_leaf': 0.09078503130877702, 'clf__min_samples_split': 0.06315654882451587, 'clf__min_weight_fraction_leaf': 0.30680874553620097, 'clf__n_iter_no_change': 150, 'clf__random_state': 67, 'clf__subsample': 0.9683593774095459, 'clf__tol': 4.1121422330495564e-07, 'clf__validation_fraction': 0.1, 'clf__warm_start': True, 'ovr__n_neighbors': 2, 'pre__bin_transform__bin_discretizer__encode': 'ordinal', 'pre__bin_transform__bin_discretizer__n_bins': 5, 'pre__bin_transform__bin_discretizer__strategy': 'kmeans', 'pre__bin_transform__bin_scaler': StandardScaler(), 'pre__cat_transform__cat_encoder__sigma': 0.0018111900787052848, 'pre__num_transform__num_scaler': StandardScaler(), 'sel__n_features_to_select': 54, 'sel__step': 2, 'clf__n_estimators': 2000}\n",
      " \n",
      "GradientBoosting features: ['week', 'half_seconds_remaining', 'game_seconds_remaining', 'ydstogo', 'shotgun', 'posteam_timeouts_remaining', 'defteam_timeouts_remaining', 'posteam_score', 'defteam_score', 'no_score_prob', 'ep', 'wp', 'total_line', 'div_game', 'defenders_in_box', 'report_eligible', 'wr_to_db_ratio', 'ol_to_dl_ratio', 'play_sequence_game', 'play_sequence_series', 'score_differential_norm', 'dtg_99to96', 'dtg_95to90', 'dtg_89to75', 'dtg_74to55', 'dtg_54to45', 'dtg_34to21', 'dtg_20to10', 'dtg_09to00', 'prev1_big_play_pass', 'prev3_big_play_pass', 'prev1_big_play_run', 'prev2_big_play_run', 'prev3_big_play_run', 'prev1_negative_pass', 'prev2_negative_pass', 'prev1_negative_run', 'prev2_negative_run', 'prev3_negative_run', 'prev1_play_off_penalty', 'prev1_play_def_penalty', 'prev2_play_off_penalty', 'prev3_play_def_penalty', 'prev1_play_run_outside', 'prev1_play_run_inside', 'prev1_play_pass_deep', 'prev1_play_pass_short', 'prev2_play_run_outside', 'prev2_play_pass_deep', 'prev2_play_pass_short', 'prev3_play_run_inside', 'prev3_play_pass_deep', 'prev3_play_pass_short', 'prev2_incomplete_pass']\n",
      " \n",
      "              precision    recall  f1-score   support\n",
      "\n",
      "         run     0.6873    0.6829    0.6851      2807\n",
      "        pass     0.7739    0.7774    0.7757      3918\n",
      "\n",
      "    accuracy                         0.7380      6725\n",
      "   macro avg     0.7306    0.7302    0.7304      6725\n",
      "weighted avg     0.7378    0.7380    0.7379      6725\n"
     ]
    },
    {
     "data": {
      "text/plain": "<Figure size 640x480 with 2 Axes>",
      "image/png": "[encoded data removed]"
     },
     "metadata": {},
     "output_type": "display_data"
    },
    {
     "name": "stdout",
     "output_type": "stream",
     "text": [
      " \n",
      "-------------------------------------------------------------------------------------------------------------------------------\n",
      "\n",
      "\n",
      "n_iterations: 2\n",
      "n_required_iterations: 2\n",
      "n_possible_iterations: 2\n",
      "min_resources_: 400\n",
      "max_resources_: 2000\n",
      "aggressive_elimination: False\n",
      "factor: 5.0\n",
      "----------\n",
      "iter: 0\n",
      "n_candidates: 5\n",
      "n_resources: 400\n",
      "Fitting 3 folds for each of 5 candidates, totalling 15 fits\n",
      "----------\n",
      "iter: 1\n",
      "n_candidates: 1\n",
      "n_resources: 2000\n",
      "Fitting 3 folds for each of 1 candidates, totalling 3 fits\n",
      "--------------------------\n",
      " \n",
      "AdaBoost runtime: 150.0 minutes\n",
      "AdaBoost best training score: 0.7238838628125949\n",
      "AdaBoost best test score: 0.7202973977695167\n",
      " \n",
      "AdaBoost parameters: {'clf__algorithm': 'SAMME', 'clf__learning_rate': 0.0005553285954939532, 'clf__random_state': 67, 'ovr__n_neighbors': 3, 'pre__bin_transform__bin_discretizer__encode': 'ordinal', 'pre__bin_transform__bin_discretizer__n_bins': 6, 'pre__bin_transform__bin_discretizer__strategy': 'uniform', 'pre__bin_transform__bin_scaler': MinMaxScaler(), 'pre__cat_transform__cat_encoder__sigma': 0.00794785440557212, 'pre__num_transform__num_scaler': StandardScaler(), 'sel__n_features_to_select': 44, 'sel__step': 2, 'clf__n_estimators': 2000}\n",
      " \n",
      "AdaBoost features: ['week', 'half_seconds_remaining', 'game_seconds_remaining', 'ydstogo', 'shotgun', 'defteam_timeouts_remaining', 'defteam_score', 'no_score_prob', 'div_game', 'defenders_in_box', 'report_eligible', 'wr_to_db_ratio', 'play_sequence_game', 'play_sequence_series', 'score_differential_norm', 'dtg_99to96', 'dtg_95to90', 'dtg_89to75', 'dtg_74to55', 'dtg_34to21', 'dtg_20to10', 'dtg_09to00', 'prev1_big_play_pass', 'prev3_big_play_pass', 'prev1_big_play_run', 'prev2_big_play_run', 'prev3_big_play_run', 'prev1_negative_pass', 'prev2_negative_pass', 'prev1_negative_run', 'prev2_negative_run', 'prev3_negative_run', 'prev1_play_off_penalty', 'prev1_play_def_penalty', 'prev2_play_off_penalty', 'prev3_play_def_penalty', 'prev1_play_run_outside', 'prev1_play_run_inside', 'prev1_play_pass_deep', 'prev1_play_pass_short', 'prev2_play_run_outside', 'prev2_play_pass_deep', 'prev2_play_pass_short', 'prev2_incomplete_pass']\n",
      " \n",
      "              precision    recall  f1-score   support\n",
      "\n",
      "         run     0.7080    0.5615    0.6263      2807\n",
      "        pass     0.7264    0.8341    0.7765      3918\n",
      "\n",
      "    accuracy                         0.7203      6725\n",
      "   macro avg     0.7172    0.6978    0.7014      6725\n",
      "weighted avg     0.7187    0.7203    0.7138      6725\n"
     ]
    },
    {
     "data": {
      "text/plain": "<Figure size 640x480 with 2 Axes>",
      "image/png": "[encoded data removed]"
     },
     "metadata": {},
     "output_type": "display_data"
    },
    {
     "name": "stdout",
     "output_type": "stream",
     "text": [
      " \n",
      "-------------------------------------------------------------------------------------------------------------------------------\n",
      "\n",
      "\n",
      "n_iterations: 2\n",
      "n_required_iterations: 2\n",
      "n_possible_iterations: 2\n",
      "min_resources_: 400\n",
      "max_resources_: 2000\n",
      "aggressive_elimination: False\n",
      "factor: 5.0\n",
      "----------\n",
      "iter: 0\n",
      "n_candidates: 5\n",
      "n_resources: 400\n",
      "Fitting 3 folds for each of 5 candidates, totalling 15 fits\n",
      "----------\n",
      "iter: 1\n",
      "n_candidates: 1\n",
      "n_resources: 2000\n",
      "Fitting 3 folds for each of 1 candidates, totalling 3 fits\n",
      "--------------------------\n",
      " \n",
      "XGBoost runtime: 130.0 minutes\n",
      "XGBoost best training score: 0.7319476140742088\n",
      "XGBoost best test score: 0.7418587360594796\n",
      " \n",
      "XGBoost parameters: {'clf__booster': 'gbtree', 'clf__eta': 0.20607775341273496, 'clf__eval_metric': 'logloss', 'clf__grow_policy': 'depthwise', 'clf__max_bin': 256, 'clf__max_depth': 10, 'clf__objective': 'binary:hinge', 'clf__seed': 67, 'clf__tree_method': 'hist', 'ovr__n_neighbors': 3, 'pre__bin_transform__bin_discretizer__encode': 'ordinal', 'pre__bin_transform__bin_discretizer__n_bins': 11, 'pre__bin_transform__bin_discretizer__strategy': 'quantile', 'pre__bin_transform__bin_scaler': StandardScaler(), 'pre__cat_transform__cat_encoder__sigma': 0.0024862348814246042, 'pre__num_transform__num_scaler': MinMaxScaler(), 'sel__n_features_to_select': 17, 'sel__step': 2, 'clf__n_estimators': 2000}\n",
      " \n",
      "XGBoost features: ['week', 'defteam_timeouts_remaining', 'no_score_prob', 'defenders_in_box', 'play_sequence_game', 'play_sequence_series', 'score_differential_norm', 'dtg_99to96', 'dtg_74to55', 'dtg_09to00', 'prev3_big_play_run', 'prev1_negative_pass', 'prev2_negative_pass', 'prev2_negative_run', 'prev3_negative_run', 'prev1_play_off_penalty', 'prev2_incomplete_pass']\n",
      " \n",
      "              precision    recall  f1-score   support\n",
      "\n",
      "         run     0.6850    0.7064    0.6955      2807\n",
      "        pass     0.7849    0.7672    0.7759      3918\n",
      "\n",
      "    accuracy                         0.7419      6725\n",
      "   macro avg     0.7349    0.7368    0.7357      6725\n",
      "weighted avg     0.7432    0.7419    0.7424      6725\n"
     ]
    },
    {
     "data": {
      "text/plain": "<Figure size 640x480 with 2 Axes>",
      "image/png": "[encoded data removed]"
     },
     "metadata": {},
     "output_type": "display_data"
    },
    {
     "name": "stdout",
     "output_type": "stream",
     "text": [
      " \n",
      "-------------------------------------------------------------------------------------------------------------------------------\n",
      "\n"
     ]
    }
   ],
   "source": [
    "# Define the models\n",
    "models = [\n",
    "    ('RandomForest', RandomForestClassifier()),\n",
    "    ('ExtraTrees', ExtraTreesClassifier()),\n",
    "    ('GradientBoosting', GradientBoostingClassifier()),\n",
    "    ('AdaBoost', AdaBoostClassifier()),\n",
    "    ('XGBoost', XGBClassifier()),\n",
    "]\n",
    "\n",
    "# Create and run the pipeline\n",
    "for model_name, model in models:\n",
    "    pipeline = Pipeline([\n",
    "        ('pre', preprocessing),\n",
    "        ('sel', RFE(RandomForestClassifier(n_estimators=rfc_est, max_features=rfc_max, class_weight='balanced_subsample', n_jobs=6, random_state=67))),\n",
    "        ('ovr', ADASYN(sampling_strategy='not majority', random_state=67)),\n",
    "        ('clf', model)\n",
    "    ])\n",
    " \n",
    "    params = {}\n",
    "\n",
    "    if model_name == 'RandomForest':\n",
    "        params = {\n",
    "            'pre__cat_transform__cat_encoder__sigma': loguniform(0.001, 0.05),\n",
    "            'pre__num_transform__num_scaler': scaler_list,\n",
    "            'pre__bin_transform__bin_discretizer__n_bins': randint(5, 15),\n",
    "            'pre__bin_transform__bin_discretizer__strategy': bin_discretizer_strategy, \n",
    "            'pre__bin_transform__bin_discretizer__encode': bin_discretizer_encode,\n",
    "            'pre__bin_transform__bin_scaler': scaler_list,\n",
    "            'sel__n_features_to_select': randint(40, 85),\n",
    "            'sel__step': [2],\n",
    "            'ovr__n_neighbors': randint(2, 6),\n",
    "            'clf__bootstrap': [True],\n",
    "            'clf__ccp_alpha': loguniform(1e-05, 1e-00),                                   # Cost-complexity pruning is an algorithm used to prune a tree to avoid over-fitting\n",
    "            'clf__criterion': ['gini'],\n",
    "            'clf__max_depth': randint(50, 90),\n",
    "            'clf__max_features': loguniform(0.40, 0.85), \n",
    "            'clf__min_impurity_decrease': loguniform(1e-10, 1e-06),\n",
    "            #'clf__max_samples': loguniform(0.05, 0.40),                                  # Only for bootstrap=True. Including this parameter significantly reduced model performance. \n",
    "            'clf__min_samples_leaf': loguniform(0.05, 0.25),\n",
    "            'clf__min_samples_split': loguniform(0.05, 0.25),\n",
    "            'clf__min_weight_fraction_leaf': loguniform(0.05, 0.25),\n",
    "            'clf__oob_score': [False],                                                    # Only for bootstrap=True\n",
    "            'clf__warm_start': [True],\n",
    "            'clf__n_jobs': [6],\n",
    "            'clf__random_state': [67],\n",
    "        }\n",
    "\n",
    "    elif model_name == 'ExtraTrees':\n",
    "        params = {\n",
    "            'pre__cat_transform__cat_encoder__sigma': loguniform(0.001, 0.05),\n",
    "            'pre__num_transform__num_scaler': scaler_list,\n",
    "            'pre__bin_transform__bin_discretizer__n_bins': randint(5, 15),\n",
    "            'pre__bin_transform__bin_discretizer__strategy': bin_discretizer_strategy, \n",
    "            'pre__bin_transform__bin_discretizer__encode': bin_discretizer_encode,\n",
    "            'pre__bin_transform__bin_scaler': scaler_list,\n",
    "            'sel__n_features_to_select': randint(35, 85),\n",
    "            'sel__step': [2],\n",
    "            'ovr__n_neighbors': randint(2, 6), \n",
    "            'clf__bootstrap': [False],\n",
    "            'clf__ccp_alpha': loguniform(1e-08, 1e-03),                                   # Cost-complexity pruning is an algorithm used to prune a tree to avoid over-fitting\n",
    "            'clf__criterion': ['entropy'],\n",
    "            'clf__max_depth': randint(40, 90),\n",
    "            'clf__max_features': loguniform(0.35, 0.85),\n",
    "            'clf__max_leaf_nodes': randint(30, 85),\n",
    "            #'clf__max_samples': loguniform(0.10, 0.50),                                  # Only for bootstrap=True\n",
    "            'clf__min_impurity_decrease': loguniform(1e-10, 1e-07),\n",
    "            'clf__min_samples_leaf': loguniform(0.001, 0.10),\n",
    "            'clf__min_samples_split': loguniform(0.001, 0.10),\n",
    "            'clf__min_weight_fraction_leaf': loguniform(0.001, 0.10),\n",
    "            'clf__oob_score': [False],                                                    # Only for bootstrap=True\n",
    "            'clf__warm_start': [False],\n",
    "            'clf__n_jobs': [6],\n",
    "            'clf__random_state': [67],\n",
    "        }\n",
    "\n",
    "    elif model_name == 'GradientBoosting':\n",
    "        params = {\n",
    "            'pre__cat_transform__cat_encoder__sigma': loguniform(0.001, 0.05),\n",
    "            'pre__num_transform__num_scaler': scaler_list,\n",
    "            'pre__bin_transform__bin_discretizer__n_bins': randint(5, 15),\n",
    "            'pre__bin_transform__bin_discretizer__strategy': bin_discretizer_strategy, \n",
    "            'pre__bin_transform__bin_discretizer__encode': bin_discretizer_encode,\n",
    "            'pre__bin_transform__bin_scaler': scaler_list,\n",
    "            'sel__n_features_to_select': randint(30, 75),\n",
    "            'sel__step': [2],\n",
    "            'ovr__n_neighbors':randint(2, 6),\n",
    "            'clf__criterion': ['friedman_mse'],\n",
    "            'clf__ccp_alpha': loguniform(1e-10, 1e-06),                                   # Cost-complexity pruning is an algorithm used to prune a tree to avoid over-fitting\n",
    "            'clf__learning_rate': loguniform(1e-03, 1e-00),\n",
    "            'clf__loss': ['exponential'],\n",
    "            'clf__max_depth': randint(30, 75),\n",
    "            'clf__max_features': loguniform(0.15, 0.55), \n",
    "            'clf__max_leaf_nodes': randint(50, 80),\n",
    "            'clf__min_weight_fraction_leaf': loguniform(0.30, 0.50),                      # Must be <= 0.5\n",
    "            'clf__min_impurity_decrease': loguniform(1e-10, 1e-07),\n",
    "            'clf__min_samples_leaf': loguniform(0.005, 0.15),\n",
    "            'clf__min_samples_split': loguniform(0.02, 0.25),\n",
    "            'clf__n_iter_no_change': [150],\n",
    "            'clf__tol': loguniform(1e-10, 1e-06),\n",
    "            'clf__validation_fraction': [0.10],\n",
    "            'clf__warm_start': [True, False],\n",
    "            'clf__subsample': loguniform(0.95, 1.0),\n",
    "            'clf__random_state': [67],\n",
    "        }\n",
    "\n",
    "    elif model_name == 'AdaBoost':\n",
    "        params = {\n",
    "            'pre__cat_transform__cat_encoder__sigma': loguniform(0.001, 0.05),\n",
    "            'pre__num_transform__num_scaler': scaler_list,\n",
    "            'pre__bin_transform__bin_discretizer__n_bins': randint(5, 15),\n",
    "            'pre__bin_transform__bin_discretizer__strategy': bin_discretizer_strategy, \n",
    "            'pre__bin_transform__bin_discretizer__encode': bin_discretizer_encode,\n",
    "            'pre__bin_transform__bin_scaler': scaler_list,\n",
    "            'sel__n_features_to_select': randint(5, 50),\n",
    "            'sel__step': [2],\n",
    "            'ovr__n_neighbors': randint(2, 6), \n",
    "            'clf__algorithm': ['SAMME'],\n",
    "            'clf__learning_rate': loguniform(1e-04, 1e-00),\n",
    "            'clf__random_state': [67],\n",
    "        }\n",
    "\n",
    "    elif model_name == 'XGBoost':\n",
    "        params = {\n",
    "            'pre__cat_transform__cat_encoder__sigma': loguniform(0.001, 0.05),\n",
    "            'pre__num_transform__num_scaler': scaler_list,\n",
    "            'pre__bin_transform__bin_discretizer__n_bins': randint(5, 15),\n",
    "            'pre__bin_transform__bin_discretizer__strategy': bin_discretizer_strategy, \n",
    "            'pre__bin_transform__bin_discretizer__encode': bin_discretizer_encode,\n",
    "            'pre__bin_transform__bin_scaler': scaler_list,\n",
    "            'sel__n_features_to_select': randint(5, 50),\n",
    "            'sel__step': [2],\n",
    "            'ovr__n_neighbors': randint(2, 6), \n",
    "            'clf__tree_method': ['hist','auto'],                                                      # 'hist' is faster than 'auto'\n",
    "            'clf__booster': ['gbtree'],                                                        # 'gbtree' is faster than 'gblinear'\n",
    "            'clf__eta': loguniform(0.20, 0.40),\n",
    "            'clf__max_depth': [10],\n",
    "            'clf__max_bin': [256],\n",
    "            'clf__grow_policy': ['depthwise','lossguide'],                                     # 'lossguide','depthwise'\n",
    "            'clf__objective': ['binary:hinge'],\n",
    "            'clf__eval_metric': ['logloss'],\n",
    "            'clf__seed': [67],\n",
    "        }\n",
    "    \n",
    "    search = HalvingRandomSearchCV(\n",
    "        estimator=pipeline,\n",
    "        param_distributions=params,\n",
    "        scoring='accuracy',\n",
    "        factor=halving_parameter,\n",
    "        resource='clf__n_estimators',\n",
    "        n_candidates='exhaust',\n",
    "        min_resources=min_resource,\n",
    "        max_resources=max_resource,\n",
    "        aggressive_elimination=False,\n",
    "        return_train_score=True,\n",
    "        refit=True,\n",
    "        cv=n_cross_validation,\n",
    "        n_jobs=6,\n",
    "        random_state=67,\n",
    "        verbose=1,\n",
    "        error_score='raise',\n",
    "    )\n",
    "    \n",
    "    start_training_time = time.time()\n",
    "    search.fit(X_train, y_train)\n",
    "    \n",
    "    # Print training and test results\n",
    "    print('--------------------------')\n",
    "    print(' ')\n",
    "    end_training_time = time.time()\n",
    "    print(f\"{model_name} runtime:\", round((end_training_time - start_training_time) / 60, 0), 'minutes')\n",
    "    print(f\"{model_name} best training score: {search.best_score_}\")\n",
    "    print(f\"{model_name} best test score: {search.score(X_test, y_test)}\")\n",
    "    print(' ')\n",
    "    print(f\"{model_name} parameters: {search.best_params_}\")\n",
    "    print(' ')\n",
    "\n",
    "    # Print features selected during recursive feature selection (RFE)\n",
    "    selected_features = zip(search.best_estimator_.named_steps['sel'].ranking_, initial_features, search.best_estimator_.named_steps['sel'].support_)\n",
    "    selected_features = [x for x in selected_features if x[2] == True]\n",
    "    selected_features = [x[1] for x in selected_features]\n",
    "    print(f\"{model_name} features: {selected_features}\")\n",
    "    print(' ')\n",
    "    \n",
    "    # Print classification report and confusion matrix\n",
    "    print(classification_report(y_test, search.predict(X_test), target_names=['run','pass'], digits=4))\n",
    "    cm = confusion_matrix(y_test, search.predict(X_test))\n",
    "    ConfusionMatrixDisplay(confusion_matrix=cm, display_labels=['run','pass']).plot(cmap=plt.cm.Blues) \n",
    "    plt.show()\n",
    "    \n",
    "    # Save the best model, parameters, and features for each model, naming the file with the model name\n",
    "    model_file = f'/Users/ttas2/Documents/Python/nfl-machine-learning-models/output_files/play_predictions/{model_name}_halving_random_search_cv_model.pkl'\n",
    "    params_file = f'/Users/ttas2/Documents/Python/nfl-machine-learning-models/output_files/play_predictions/{model_name}_halving_random_search_cv_params.pkl'\n",
    "    features_file = f'/Users/ttas2/Documents/Python/nfl-machine-learning-models/output_files/play_predictions/{model_name}_halving_random_search_cv_features.pkl'\n",
    "    \n",
    "    print(' ')\n",
    "    print('-------------------------------------------------------------------------------------------------------------------------------')\n",
    "    print(\"\\n\")\n"
   ],
   "metadata": {
    "pycharm": {
     "name": "#%%\n"
    },
    "ExecuteTime": {
     "end_time": "2024-01-15T14:52:38.259933Z",
     "start_time": "2024-01-15T05:18:53.217009Z"
    }
   },
   "id": "58cc5161",
   "execution_count": 16
  },
  {
   "cell_type": "code",
   "outputs": [
    {
     "name": "stdout",
     "output_type": "stream",
     "text": [
      "Total HalvingRandomSearchCV runtime 9.57 hours\n"
     ]
    }
   ],
   "source": [
    "# Calculate workbook processing time in hours\n",
    "end_time = time.time()\n",
    "total_time = end_time - start_time\n",
    "\n",
    "print('Total HalvingRandomSearchCV runtime', round(total_time / 3600, 2), 'hours')"
   ],
   "metadata": {
    "collapsed": false,
    "ExecuteTime": {
     "end_time": "2024-01-15T14:52:38.263138Z",
     "start_time": "2024-01-15T14:52:38.259233Z"
    }
   },
   "id": "5ab8b5efee71f3d3",
   "execution_count": 17
  }
 ],
 "metadata": {
  "colab": {
   "name": "nfl_offensive_play_classification_v1.1.ipynb",
   "provenance": []
  },
  "kernelspec": {
   "display_name": "Python 3 (ipykernel)",
   "language": "python",
   "name": "python3"
  },
  "language_info": {
   "codemirror_mode": {
    "name": "ipython",
    "version": 3
   },
   "file_extension": ".py",
   "mimetype": "text/x-python",
   "name": "python",
   "nbconvert_exporter": "python",
   "pygments_lexer": "ipython3",
   "version": "3.9.6"
  }
 },
 "nbformat": 4,
 "nbformat_minor": 5
}
