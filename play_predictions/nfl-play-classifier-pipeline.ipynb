{
 "cells": [
  {
   "cell_type": "code",
   "execution_count": 1,
   "outputs": [],
   "source": [
    "import warnings\n",
    "from numba.core.errors import NumbaDeprecationWarning, NumbaPendingDeprecationWarning\n",
    "warnings.simplefilter('ignore', category=UserWarning)\n",
    "warnings.filterwarnings('ignore',category=ImportWarning)\n",
    "warnings.filterwarnings('ignore',category=DeprecationWarning)\n",
    "warnings.simplefilter('ignore', category=NumbaDeprecationWarning)\n",
    "warnings.simplefilter('ignore', category=NumbaPendingDeprecationWarning)\n",
    "\n",
    "import pandas as pd\n",
    "import numpy as np\n",
    "import time\n",
    "import matplotlib.pyplot as plt\n",
    "\n",
    "from scipy.stats import randint, loguniform\n",
    "from imblearn.pipeline import Pipeline\n",
    "from sklearn.dummy import DummyClassifier\n",
    "from category_encoders import LeaveOneOutEncoder\n",
    "from sklearn.compose import ColumnTransformer\n",
    "from sklearn.feature_selection import RFE\n",
    "from imblearn.over_sampling import ADASYN\n",
    "from sklearn.impute import SimpleImputer\n",
    "from sklearn.preprocessing import OrdinalEncoder, StandardScaler\n",
    "from sklearn.experimental import enable_halving_search_cv\n",
    "from sklearn.model_selection import train_test_split, HalvingRandomSearchCV\n",
    "from sklearn.metrics import accuracy_score, f1_score, classification_report, confusion_matrix, ConfusionMatrixDisplay\n",
    "from sklearn.ensemble import RandomForestClassifier, ExtraTreesClassifier, GradientBoostingClassifier, AdaBoostClassifier\n",
    "from xgboost import XGBClassifier"
   ],
   "metadata": {
    "collapsed": false,
    "ExecuteTime": {
     "end_time": "2024-01-02T23:02:58.313009Z",
     "start_time": "2024-01-02T23:02:49.355425Z"
    }
   },
   "id": "774348c602e5ca1e"
  },
  {
   "cell_type": "code",
   "execution_count": 2,
   "outputs": [],
   "source": [
    "# Train test split parameters\n",
    "test_holdout_percentage = 0.15\n",
    "\n",
    "# Leave One Out Encoder Sigma value - 0.04 is the top performing value.\n",
    "sigma = 0.05                                                                 # Tested parameters: 0.04, 0.05, 0.10, 0.30, 0.60\n",
    "\n",
    "# Feature scaler\n",
    "feature_scaler = StandardScaler()                                              # Tested parameters: MinMaxScaler(), StandardScaler(), MaxAbsScaler(), RobustScaler()\n",
    "\n",
    "# RFE feature selection\n",
    "rfc_estimators = 200\n",
    "rfc_max_features = 'sqrt'\n",
    "\n",
    "# HalvingRandomSearchCV parameters\n",
    "scoring = 'accuracy'\n",
    "n_cross_validation = 3\n",
    "\n",
    "# Specify the HalvingRandomSearchCV parameters\n",
    "halving_parameter = 2.0\n",
    "max_resource = 2500\n",
    "resource_divisor = 2.0\n",
    "min_resource = int(round((max_resource / resource_divisor), 0))"
   ],
   "metadata": {
    "collapsed": false,
    "ExecuteTime": {
     "end_time": "2024-01-02T23:02:58.323398Z",
     "start_time": "2024-01-02T23:02:58.315966Z"
    }
   },
   "id": "39c59abc33e5e515"
  },
  {
   "cell_type": "code",
   "execution_count": 3,
   "outputs": [],
   "source": [
    "# Create timer to calculate total workbook time in hours\n",
    "start_time = time.time()"
   ],
   "metadata": {
    "collapsed": false,
    "ExecuteTime": {
     "end_time": "2024-01-02T23:02:58.323932Z",
     "start_time": "2024-01-02T23:02:58.320273Z"
    }
   },
   "id": "5dc8446203dc414e"
  },
  {
   "cell_type": "markdown",
   "id": "c4f8e047",
   "metadata": {
    "pycharm": {
     "name": "#%% md\n"
    }
   },
   "source": [
    "## IMPORT PROCESSED NFL-DATA-PY CSV FILE\n",
    "##### https://pypi.org/project/nfl-data-py/"
   ]
  },
  {
   "cell_type": "code",
   "execution_count": 4,
   "outputs": [
    {
     "data": {
      "text/plain": "(65019, 156)"
     },
     "execution_count": 4,
     "metadata": {},
     "output_type": "execute_result"
    }
   ],
   "source": [
    "# Import csv file from nfl-data-py\n",
    "df = pd.read_csv(r'/Users/ttas2/Documents/Python/nfl-machine-learning-models/output_files/nfl_post_processing_run_pass_classification_data.csv')\n",
    "\n",
    "df.shape"
   ],
   "metadata": {
    "collapsed": false,
    "ExecuteTime": {
     "end_time": "2024-01-02T23:02:59.344263Z",
     "start_time": "2024-01-02T23:02:58.324887Z"
    }
   },
   "id": "f8d686327dce3e32"
  },
  {
   "cell_type": "code",
   "execution_count": 5,
   "outputs": [],
   "source": [
    "# Convert binary columns to integers\n",
    "binary_columns = df.columns[df.isin([0,1]).all()].tolist()\n",
    "df[binary_columns] = df[binary_columns].apply(pd.to_numeric, downcast='integer', errors='coerce', axis=1)\n",
    "\n",
    "# df.sample(2)"
   ],
   "metadata": {
    "collapsed": false,
    "ExecuteTime": {
     "end_time": "2024-01-02T23:03:08.731515Z",
     "start_time": "2024-01-02T23:02:59.558303Z"
    }
   },
   "id": "41f7422bcc2cf003"
  },
  {
   "cell_type": "code",
   "execution_count": 6,
   "outputs": [
    {
     "name": "stdout",
     "output_type": "stream",
     "text": [
      "[]\n"
     ]
    }
   ],
   "source": [
    "# Print columns with missing values\n",
    "print(df.columns[df.isnull().any()].tolist())"
   ],
   "metadata": {
    "collapsed": false,
    "ExecuteTime": {
     "end_time": "2024-01-02T23:03:08.796129Z",
     "start_time": "2024-01-02T23:03:08.731893Z"
    }
   },
   "id": "629bc39586b0fba6"
  },
  {
   "cell_type": "code",
   "execution_count": 7,
   "id": "4c9bcb28",
   "metadata": {
    "pycharm": {
     "name": "#%%\n"
    },
    "ExecuteTime": {
     "end_time": "2024-01-02T23:03:08.808351Z",
     "start_time": "2024-01-02T23:03:08.798930Z"
    }
   },
   "outputs": [
    {
     "data": {
      "text/plain": "play_type\npass    0.598241\nrun     0.401759\nName: proportion, dtype: float64"
     },
     "execution_count": 7,
     "metadata": {},
     "output_type": "execute_result"
    }
   ],
   "source": [
    "# Target frequency\n",
    "target_count = df.play_type.value_counts(normalize=True)\n",
    "\n",
    "target_count"
   ]
  },
  {
   "cell_type": "code",
   "execution_count": 8,
   "outputs": [],
   "source": [
    "df['play_type'] = np.where(df['play_type'] == 'pass', 1, 0)\n"
   ],
   "metadata": {
    "collapsed": false,
    "ExecuteTime": {
     "end_time": "2024-01-02T23:03:08.827073Z",
     "start_time": "2024-01-02T23:03:08.811035Z"
    }
   },
   "id": "91112ef9f7a1ba3c"
  },
  {
   "cell_type": "markdown",
   "source": [
    "## TRAIN TEST SPLIT\n",
    "##### https://scikit-learn.org/stable/modules/generated/sklearn.model_selection.train_test_split.html"
   ],
   "metadata": {
    "collapsed": false
   },
   "id": "4c140526b778c182"
  },
  {
   "cell_type": "code",
   "execution_count": 9,
   "id": "4943bbf5",
   "metadata": {
    "pycharm": {
     "name": "#%%\n"
    },
    "ExecuteTime": {
     "end_time": "2024-01-02T23:03:08.970140Z",
     "start_time": "2024-01-02T23:03:08.817894Z"
    }
   },
   "outputs": [],
   "source": [
    "# split data into target and feature datasets\n",
    "X, y = df.loc[:, df.columns != 'play_type'], df['play_type']\n",
    "\n",
    "initial_features = X.columns.to_list()\n",
    "\n",
    "# Create train and test datasets\n",
    "X_train, X_test, y_train, y_test = train_test_split(X, y, test_size=test_holdout_percentage, random_state=67)\n"
   ]
  },
  {
   "cell_type": "markdown",
   "id": "4b6cd4c3",
   "metadata": {
    "pycharm": {
     "name": "#%% md\n"
    }
   },
   "source": [
    "## BASELINE MODEL\n",
    "##### https://scikit-learn.org/stable/modules/generated/sklearn.dummy.DummyClassifier.html"
   ]
  },
  {
   "cell_type": "code",
   "execution_count": 10,
   "id": "28e9513e",
   "metadata": {
    "pycharm": {
     "name": "#%%\n"
    },
    "ExecuteTime": {
     "end_time": "2024-01-02T23:03:09.015946Z",
     "start_time": "2024-01-02T23:03:08.970362Z"
    }
   },
   "outputs": [
    {
     "name": "stdout",
     "output_type": "stream",
     "text": [
      "Baseline accuracy: 59.3%\n",
      "Baseline f1 score: 74.5%\n"
     ]
    }
   ],
   "source": [
    "# Create and fit baseline model to compare performance\n",
    "baseline_model = DummyClassifier(strategy='most_frequent', random_state=67)\n",
    "baseline_model.fit(X_train, y_train)\n",
    "\n",
    "# Calculate model accuracy on test data\n",
    "y_baseline_pred = baseline_model.predict(X_test)\n",
    "\n",
    "print(f\"Baseline accuracy: {round(accuracy_score(y_test,y_baseline_pred)*100, 1)}%\")\n",
    "print(f\"Baseline f1 score: {round(f1_score(y_test,y_baseline_pred)*100, 1)}%\")\n"
   ]
  },
  {
   "cell_type": "markdown",
   "source": [
    "## MODEL PIPELINE\n",
    "##### https://scikit-learn.org/stable/modules/generated/sklearn.compose.ColumnTransformer.html\n",
    "##### https://scikit-learn.org/stable/modules/generated/sklearn.impute.SimpleImputer.html\n",
    "##### https://scikit-learn.org/stable/modules/generated/sklearn.preprocessing.PowerTransformer.html\n",
    "##### https://www.statsmodels.org/dev/generated/statsmodels.stats.outliers_influence.variance_inflation_factor.html\n",
    "##### https://imbalanced-learn.org/stable/references/over_sampling.html\n",
    "##### https://scikit-learn.org/stable/modules/generated/sklearn.model_selection.HalvingRandomSearchCV.html\n",
    "##### https://scikit-learn.org/stable/modules/generated/sklearn.metrics.f1_score.html\n",
    "##### https://scikit-learn.org/stable/modules/generated/sklearn.ensemble.GradientBoostingClassifier.html\n",
    "##### https://scikit-learn.org/stable/modules/generated/sklearn.ensemble.RandomForestClassifier.html\n",
    "##### https://scikit-learn.org/stable/modules/generated/sklearn.ensemble.ExtraTreesClassifier.html\n",
    "##### https://xgboost.readthedocs.io/en/stable/parameter.html"
   ],
   "metadata": {
    "collapsed": false
   },
   "id": "28eb7c49ea06b6d2"
  },
  {
   "cell_type": "code",
   "execution_count": 11,
   "outputs": [
    {
     "name": "stdout",
     "output_type": "stream",
     "text": [
      "Ordinal feature count: 8 : ['week', 'game_half', 'qtr', 'down', 'drive_play_count', 'off_ol_count', 'play_sequence_series', 'remaining_downs']\n",
      "Boolean feature count: 68\n",
      "Numeric feature count: 63\n",
      "Categorical feature count: 16 : ['posteam', 'posteam_type', 'defteam', 'roof', 'surface', 'offense_formation', 'offense_personnel', 'defense_personnel', 'game_weather', 'play_type_prev1', 'play_type_prev2', 'play_type_prev3', 'play_type_prev4', 'drive_start', 'posteam_season', 'defteam_season']\n",
      "155 total features\n"
     ]
    }
   ],
   "source": [
    "# Create feature type lists for column transform stage of the pipeline\n",
    "ordinal_features = X_train.columns[X_train.isin([1,2,3,4,5,6,7,8,9,10,11,12,13,14,15,16,17,18,19,20,21,22,23,24,25]).all()].tolist()\n",
    "categorical_features = list(X_train.select_dtypes(include='object'))\n",
    "boolean_features = X_train.columns[X_train.isin([0, 1]).all()].tolist()\n",
    "numeric_features = list(set(X_train.columns) - set(ordinal_features) - set(categorical_features) - set(boolean_features))\n",
    "\n",
    "#print('categorical features:', len(categorical_features), ':', categorical_features)\n",
    "print('Ordinal feature count:', len(ordinal_features), ':', ordinal_features)\n",
    "print('Boolean feature count:', len(boolean_features)) #, ':', boolean_features)\n",
    "print('Numeric feature count:', len(numeric_features)) #, ':', numeric_features)\n",
    "print('Categorical feature count:', len(categorical_features), ':', categorical_features)\n",
    "print(len(initial_features), 'total features')"
   ],
   "metadata": {
    "collapsed": false,
    "ExecuteTime": {
     "end_time": "2024-01-02T23:03:10.748155Z",
     "start_time": "2024-01-02T23:03:09.001769Z"
    }
   },
   "id": "e95804b4c341fcbb"
  },
  {
   "cell_type": "code",
   "execution_count": 12,
   "outputs": [],
   "source": [
    "# Custom transformer for IQR outlier exclusion\n",
    "class IQRTransformer:\n",
    "    def __init__(self, numerical_cols):\n",
    "        self.numerical_cols = numerical_cols\n",
    "        self.lower_bound = None\n",
    "        self.upper_bound = None\n",
    "\n",
    "    def fit(self, x, y=None):\n",
    "        if isinstance(x, pd.DataFrame):\n",
    "            # Calculate the IQR for each numerical column\n",
    "            q1 = x[self.numerical_cols].quantile(0.25)\n",
    "            q3 = x[self.numerical_cols].quantile(0.75)\n",
    "            iqr = q3 - q1\n",
    "\n",
    "            # Define the lower and upper bounds for outliers\n",
    "            self.lower_bound = (q1 - 1.5 * iqr).to_dict()\n",
    "            self.upper_bound = (q3 + 1.5 * iqr).to_dict()\n",
    "        else:\n",
    "            # Calculate the IQR for each numerical column\n",
    "            q1 = np.quantile(x[:, :], 0.25, axis=0)\n",
    "            q3 = np.quantile(x[:, :], 0.75, axis=0)\n",
    "            iqr = q3 - q1\n",
    "\n",
    "            # Define the lower and upper bounds for outliers\n",
    "            self.lower_bound = (q1 - 1.5 * iqr).tolist()\n",
    "            self.upper_bound = (q3 + 1.5 * iqr).tolist()\n",
    "\n",
    "        return self\n",
    "\n",
    "    def transform(self, x, y=None):\n",
    "        if isinstance(x, pd.DataFrame):\n",
    "            # Exclude outliers based on the IQR for each numerical column\n",
    "            x_outlier_removed = x.copy()\n",
    "            for col in self.numerical_cols:\n",
    "                if col in self.lower_bound and col in self.upper_bound:\n",
    "                    x_outlier_removed = x_outlier_removed[\n",
    "                        (x_outlier_removed[col] >= self.lower_bound[col]) & (x_outlier_removed[col] <= self.upper_bound[col])\n",
    "                    ].dropna()\n",
    "        else:\n",
    "            # Exclude outliers based on the IQR for each numerical column\n",
    "            x_outlier_removed = x.copy()\n",
    "            for i, col in enumerate(self.numerical_cols):\n",
    "                if col in self.lower_bound and col in self.upper_bound:\n",
    "                    lower_bound = self.lower_bound[col]\n",
    "                    upper_bound = self.upper_bound[col]\n",
    "                    x_outlier_removed = x_outlier_removed[\n",
    "                        (x_outlier_removed[:, i] >= lower_bound) & (x_outlier_removed[:, i] <= upper_bound)\n",
    "                    ].dropna()\n",
    "\n",
    "        return x_outlier_removed"
   ],
   "metadata": {
    "collapsed": false,
    "ExecuteTime": {
     "end_time": "2024-01-02T23:03:10.756378Z",
     "start_time": "2024-01-02T23:03:10.741969Z"
    }
   },
   "id": "716f61f917c8a815"
  },
  {
   "cell_type": "code",
   "execution_count": 13,
   "outputs": [
    {
     "name": "stdout",
     "output_type": "stream",
     "text": [
      "n_iterations: 2\n",
      "n_required_iterations: 2\n",
      "n_possible_iterations: 2\n",
      "min_resources_: 1250\n",
      "max_resources_: 2500\n",
      "aggressive_elimination: False\n",
      "factor: 2.0\n",
      "----------\n",
      "iter: 0\n",
      "n_candidates: 2\n",
      "n_resources: 1250\n",
      "Fitting 3 folds for each of 2 candidates, totalling 6 fits\n",
      "----------\n",
      "iter: 1\n",
      "n_candidates: 1\n",
      "n_resources: 2500\n",
      "Fitting 3 folds for each of 1 candidates, totalling 3 fits\n",
      "----------\n",
      " \n",
      "Best training score for RandomForest: 0.7313719103969891\n",
      "Best test score for RandomForest: 0.7392597149594996\n",
      " \n",
      "              precision    recall  f1-score   support\n",
      "\n",
      "         run    0.71822   0.59098   0.64842      3968\n",
      "        pass    0.74985   0.84097   0.79280      5785\n",
      "\n",
      "    accuracy                        0.73926      9753\n",
      "   macro avg    0.73403   0.71597   0.72061      9753\n",
      "weighted avg    0.73698   0.73926   0.73406      9753\n",
      "\n",
      "Best parameters for RandomForest: {'clf__bootstrap': True, 'clf__ccp_alpha': 0.005361140014825927, 'clf__criterion': 'gini', 'clf__max_depth': 50, 'clf__max_features': 0.7032930605794655, 'clf__min_impurity_decrease': 1.2736434868647245e-06, 'clf__min_samples_leaf': 0.12376918542284134, 'clf__min_samples_split': 0.10671937261943792, 'clf__min_weight_fraction_leaf': 0.11456917261865913, 'clf__n_jobs': 6, 'clf__oob_score': False, 'clf__random_state': 67, 'clf__warm_start': True, 'ovr__n_neighbors': 3, 'sel__n_features_to_select': 75, 'sel__step': 2, 'clf__n_estimators': 2500}\n",
      " \n",
      "RandomForest selected features: ['week', 'posteam', 'posteam_type', 'defteam', 'yardline_100', 'quarter_seconds_remaining', 'half_seconds_remaining', 'game_seconds_remaining', 'game_half', 'qtr', 'down', 'goal_to_go', 'ydstogo', 'no_huddle', 'posteam_timeouts_remaining', 'defteam_timeouts_remaining', 'score_differential', 'no_score_prob', 'fg_prob', 'safety_prob', 'td_prob', 'ep', 'wp', 'drive_play_count', 'spread_line', 'div_game', 'roof', 'surface', 'offense_formation', 'offense_personnel', 'defense_personnel', 'report_eligible', 'off_rb_count', 'off_wr_count', 'off_hb_count', 'off_ol_count', 'def_dl_count', 'def_lb_count', 'wr_to_db_ratio', 'hb_to_lb_ratio', 'play_sequence_game', 'score_differential_norm', 'game_temp', 'game_humidity', 'game_wind', 'game_weather', 'dtg_99to96', 'dtg_95to90', 'dtg_89to75', 'dtg_74to55', 'dtg_44to35', 'dtg_34to21', 'dtg_20to10', 'dtg_09to00', 'prev1_big_play_pass', 'prev2_big_play_pass', 'prev3_big_play_pass', 'prev1_big_play_run', 'prev2_big_play_run', 'prev3_big_play_run', 'prev1_negative_pass', 'prev2_negative_pass', 'prev3_negative_pass', 'prev1_negative_run', 'prev2_negative_run', 'prev3_negative_run', 'play_type_prev1', 'play_type_prev2', 'play_type_prev3', 'play_type_prev4', 'prev2_play_off_penalty', 'prev2_play_def_penalty', 'prev3_play_def_penalty', 'prev1_play_run_outside', 'prev1_play_pass_deep']\n"
     ]
    },
    {
     "data": {
      "text/plain": "<Figure size 640x480 with 2 Axes>",
      "image/png": "[encoded data removed]"
     },
     "metadata": {},
     "output_type": "display_data"
    },
    {
     "name": "stdout",
     "output_type": "stream",
     "text": [
      " \n",
      "-------------------------------------------------------------------------------------------------------------------------------\n",
      "\n",
      "\n",
      "n_iterations: 2\n",
      "n_required_iterations: 2\n",
      "n_possible_iterations: 2\n",
      "min_resources_: 1250\n",
      "max_resources_: 2500\n",
      "aggressive_elimination: False\n",
      "factor: 2.0\n",
      "----------\n",
      "iter: 0\n",
      "n_candidates: 2\n",
      "n_resources: 1250\n",
      "Fitting 3 folds for each of 2 candidates, totalling 6 fits\n",
      "----------\n",
      "iter: 1\n",
      "n_candidates: 1\n",
      "n_resources: 2500\n",
      "Fitting 3 folds for each of 1 candidates, totalling 3 fits\n",
      "----------\n",
      " \n",
      "Best training score for ExtraTrees: 0.7350812434408135\n",
      "Best test score for ExtraTrees: 0.7434635496770224\n",
      " \n",
      "              precision    recall  f1-score   support\n",
      "\n",
      "         run    0.67255   0.72001   0.69547      3968\n",
      "        pass    0.79818   0.75955   0.77839      5785\n",
      "\n",
      "    accuracy                        0.74346      9753\n",
      "   macro avg    0.73537   0.73978   0.73693      9753\n",
      "weighted avg    0.74707   0.74346   0.74465      9753\n",
      "\n",
      "Best parameters for ExtraTrees: {'clf__bootstrap': False, 'clf__ccp_alpha': 1.5402145674976066e-08, 'clf__criterion': 'entropy', 'clf__max_depth': 73, 'clf__max_features': 0.34052365102422116, 'clf__max_leaf_nodes': 46, 'clf__min_impurity_decrease': 8.693408977543132e-09, 'clf__min_samples_leaf': 0.025823088316181977, 'clf__min_samples_split': 0.02006970655201347, 'clf__min_weight_fraction_leaf': 0.010305550929175532, 'clf__n_jobs': 6, 'clf__oob_score': False, 'clf__random_state': 67, 'clf__warm_start': False, 'ovr__n_neighbors': 5, 'sel__n_features_to_select': 74, 'sel__step': 2, 'clf__n_estimators': 2500}\n",
      " \n",
      "ExtraTrees selected features: ['week', 'posteam', 'posteam_type', 'defteam', 'yardline_100', 'quarter_seconds_remaining', 'half_seconds_remaining', 'game_seconds_remaining', 'game_half', 'qtr', 'down', 'goal_to_go', 'ydstogo', 'no_huddle', 'posteam_timeouts_remaining', 'defteam_timeouts_remaining', 'score_differential', 'no_score_prob', 'fg_prob', 'td_prob', 'ep', 'wp', 'drive_play_count', 'spread_line', 'div_game', 'roof', 'surface', 'offense_formation', 'offense_personnel', 'defense_personnel', 'report_eligible', 'off_rb_count', 'off_wr_count', 'off_hb_count', 'off_ol_count', 'def_dl_count', 'def_lb_count', 'wr_to_db_ratio', 'hb_to_lb_ratio', 'play_sequence_game', 'score_differential_norm', 'game_temp', 'game_humidity', 'game_wind', 'game_weather', 'dtg_99to96', 'dtg_95to90', 'dtg_89to75', 'dtg_74to55', 'dtg_44to35', 'dtg_34to21', 'dtg_20to10', 'dtg_09to00', 'prev1_big_play_pass', 'prev2_big_play_pass', 'prev3_big_play_pass', 'prev1_big_play_run', 'prev2_big_play_run', 'prev3_big_play_run', 'prev1_negative_pass', 'prev2_negative_pass', 'prev3_negative_pass', 'prev1_negative_run', 'prev2_negative_run', 'prev3_negative_run', 'play_type_prev1', 'play_type_prev2', 'play_type_prev3', 'play_type_prev4', 'prev2_play_off_penalty', 'prev2_play_def_penalty', 'prev3_play_def_penalty', 'prev1_play_run_outside', 'prev1_play_pass_deep']\n"
     ]
    },
    {
     "data": {
      "text/plain": "<Figure size 640x480 with 2 Axes>",
      "image/png": "[encoded data removed]"
     },
     "metadata": {},
     "output_type": "display_data"
    },
    {
     "name": "stdout",
     "output_type": "stream",
     "text": [
      " \n",
      "-------------------------------------------------------------------------------------------------------------------------------\n",
      "\n",
      "\n",
      "n_iterations: 2\n",
      "n_required_iterations: 2\n",
      "n_possible_iterations: 2\n",
      "min_resources_: 1250\n",
      "max_resources_: 2500\n",
      "aggressive_elimination: False\n",
      "factor: 2.0\n",
      "----------\n",
      "iter: 0\n",
      "n_candidates: 2\n",
      "n_resources: 1250\n",
      "Fitting 3 folds for each of 2 candidates, totalling 6 fits\n",
      "----------\n",
      "iter: 1\n",
      "n_candidates: 1\n",
      "n_resources: 2500\n",
      "Fitting 3 folds for each of 1 candidates, totalling 3 fits\n",
      "----------\n",
      " \n",
      "Best training score for GradientBoosting: 0.7254550718344008\n",
      "Best test score for GradientBoosting: 0.7310571106326259\n",
      " \n",
      "              precision    recall  f1-score   support\n",
      "\n",
      "         run    0.63117   0.81552   0.71160      3968\n",
      "        pass    0.84176   0.67312   0.74805      5785\n",
      "\n",
      "    accuracy                        0.73106      9753\n",
      "   macro avg    0.73647   0.74432   0.72983      9753\n",
      "weighted avg    0.75608   0.73106   0.73322      9753\n",
      "\n",
      "Best parameters for GradientBoosting: {'clf__ccp_alpha': 3.964119301148862e-10, 'clf__criterion': 'friedman_mse', 'clf__learning_rate': 0.013167982457618363, 'clf__loss': 'exponential', 'clf__max_depth': 79, 'clf__max_features': 0.34448057620326017, 'clf__max_leaf_nodes': 75, 'clf__min_impurity_decrease': 4.456745207091682e-08, 'clf__min_samples_leaf': 0.011240714979355991, 'clf__min_samples_split': 0.5255288729846875, 'clf__min_weight_fraction_leaf': 0.11431635758812674, 'clf__n_iter_no_change': 150, 'clf__random_state': 67, 'clf__subsample': 0.9516524022016225, 'clf__tol': 8.535945835873947e-09, 'clf__validation_fraction': 0.1, 'clf__warm_start': True, 'ovr__n_neighbors': 4, 'sel__n_features_to_select': 22, 'sel__step': 2, 'clf__n_estimators': 2500}\n",
      " \n",
      "GradientBoosting selected features: ['posteam_type', 'goal_to_go', 'ydstogo', 'no_score_prob', 'fg_prob', 'td_prob', 'ep', 'drive_play_count', 'offense_formation', 'hb_to_lb_ratio', 'game_temp', 'game_weather', 'dtg_20to10', 'dtg_09to00', 'prev2_big_play_run', 'prev3_big_play_run', 'prev1_negative_pass', 'prev3_negative_pass', 'prev1_negative_run', 'prev2_negative_run', 'play_type_prev2', 'prev1_play_pass_deep']\n"
     ]
    },
    {
     "data": {
      "text/plain": "<Figure size 640x480 with 2 Axes>",
      "image/png": "[encoded data removed]"
     },
     "metadata": {},
     "output_type": "display_data"
    },
    {
     "name": "stdout",
     "output_type": "stream",
     "text": [
      " \n",
      "-------------------------------------------------------------------------------------------------------------------------------\n",
      "\n",
      "\n",
      "n_iterations: 2\n",
      "n_required_iterations: 2\n",
      "n_possible_iterations: 2\n",
      "min_resources_: 1250\n",
      "max_resources_: 2500\n",
      "aggressive_elimination: False\n",
      "factor: 2.0\n",
      "----------\n",
      "iter: 0\n",
      "n_candidates: 2\n",
      "n_resources: 1250\n",
      "Fitting 3 folds for each of 2 candidates, totalling 6 fits\n",
      "----------\n",
      "iter: 1\n",
      "n_candidates: 1\n",
      "n_resources: 2500\n",
      "Fitting 3 folds for each of 1 candidates, totalling 3 fits\n",
      "----------\n",
      " \n",
      "Best training score for AdaBoost: 0.7282596895016828\n",
      "Best test score for AdaBoost: 0.7356710755664924\n",
      " \n",
      "              precision    recall  f1-score   support\n",
      "\n",
      "         run    0.64787   0.76739   0.70258      3968\n",
      "        pass    0.81734   0.71392   0.76213      5785\n",
      "\n",
      "    accuracy                        0.73567      9753\n",
      "   macro avg    0.73260   0.74065   0.73236      9753\n",
      "weighted avg    0.74839   0.73567   0.73791      9753\n",
      "\n",
      "Best parameters for AdaBoost: {'clf__algorithm': 'SAMME', 'clf__learning_rate': 0.10132021756292171, 'clf__random_state': 67, 'ovr__n_neighbors': 3, 'sel__n_features_to_select': 12, 'sel__step': 2, 'clf__n_estimators': 2500}\n",
      " \n",
      "AdaBoost selected features: ['posteam_type', 'goal_to_go', 'no_score_prob', 'fg_prob', 'offense_formation', 'game_temp', 'game_weather', 'dtg_20to10', 'prev2_big_play_run', 'prev3_big_play_run', 'prev1_negative_pass', 'prev3_negative_pass']\n"
     ]
    },
    {
     "data": {
      "text/plain": "<Figure size 640x480 with 2 Axes>",
      "image/png": "[encoded data removed]"
     },
     "metadata": {},
     "output_type": "display_data"
    },
    {
     "name": "stdout",
     "output_type": "stream",
     "text": [
      " \n",
      "-------------------------------------------------------------------------------------------------------------------------------\n",
      "\n",
      "\n",
      "n_iterations: 2\n",
      "n_required_iterations: 2\n",
      "n_possible_iterations: 2\n",
      "min_resources_: 1250\n",
      "max_resources_: 2500\n",
      "aggressive_elimination: False\n",
      "factor: 2.0\n",
      "----------\n",
      "iter: 0\n",
      "n_candidates: 2\n",
      "n_resources: 1250\n",
      "Fitting 3 folds for each of 2 candidates, totalling 6 fits\n",
      "----------\n",
      "iter: 1\n",
      "n_candidates: 1\n",
      "n_resources: 2500\n",
      "Fitting 3 folds for each of 1 candidates, totalling 3 fits\n",
      "----------\n",
      " \n",
      "Best training score for XGBoost: 0.7258169579850179\n",
      "Best test score for XGBoost: 0.7372090638777812\n",
      " \n",
      "              precision    recall  f1-score   support\n",
      "\n",
      "         run    0.65463   0.74950   0.69886      3968\n",
      "        pass    0.80921   0.72878   0.76689      5785\n",
      "\n",
      "    accuracy                        0.73721      9753\n",
      "   macro avg    0.73192   0.73914   0.73288      9753\n",
      "weighted avg    0.74632   0.73721   0.73921      9753\n",
      "\n",
      "Best parameters for XGBoost: {'clf__booster': 'gbtree', 'clf__eta': 0.3, 'clf__eval_metric': 'logloss', 'clf__grow_policy': 'depthwise', 'clf__max_bin': 256, 'clf__max_depth': 8, 'clf__objective': 'binary:hinge', 'clf__seed': 67, 'clf__tree_method': 'hist', 'ovr__n_neighbors': 3, 'sel__n_features_to_select': 12, 'sel__step': 2, 'clf__n_estimators': 2500}\n",
      " \n",
      "XGBoost selected features: ['posteam_type', 'goal_to_go', 'no_score_prob', 'fg_prob', 'offense_formation', 'game_temp', 'game_weather', 'dtg_20to10', 'prev2_big_play_run', 'prev3_big_play_run', 'prev1_negative_pass', 'prev3_negative_pass']\n"
     ]
    },
    {
     "data": {
      "text/plain": "<Figure size 640x480 with 2 Axes>",
      "image/png": "[encoded data removed]"
     },
     "metadata": {},
     "output_type": "display_data"
    },
    {
     "name": "stdout",
     "output_type": "stream",
     "text": [
      " \n",
      "-------------------------------------------------------------------------------------------------------------------------------\n",
      "\n"
     ]
    }
   ],
   "source": [
    "# Specify the transformations per data type\n",
    "num_trans = Pipeline(steps=[('simple_imputer', SimpleImputer(missing_values=np.nan, strategy='median')),\n",
    "                            ('iqr_outlier', IQRTransformer(numerical_cols=numeric_features)),\n",
    "                            ('scaler', feature_scaler),\n",
    "                           ])\n",
    "\n",
    "cat_trans = Pipeline(steps=[('simple_imputer', SimpleImputer(missing_values=np.nan, strategy='most_frequent')),\n",
    "                            ('cat_encoder', LeaveOneOutEncoder(handle_missing='value', handle_unknown='value', sigma=sigma, random_state=67)),\n",
    "                            ])\n",
    "\n",
    "ord_trans = Pipeline(steps=[('simple_imputer', SimpleImputer(missing_values=np.nan, strategy='most_frequent')),\n",
    "                            ('ordinal_encoder', OrdinalEncoder(categories='auto', handle_unknown='use_encoded_value', unknown_value=-1)),\n",
    "                           ])\n",
    "\n",
    "preprocessing = ColumnTransformer(transformers=[('numeric_transform', num_trans, numeric_features),\n",
    "                                                ('categorical_transform', cat_trans, categorical_features),\n",
    "                                                ('ordinal_transform', ord_trans, ordinal_features),\n",
    "                                                ],\n",
    "                                     remainder='passthrough',\n",
    "                                    )\n",
    "\n",
    "# Define the models\n",
    "models = [\n",
    "    ('RandomForest', RandomForestClassifier()),\n",
    "    ('ExtraTrees', ExtraTreesClassifier()),\n",
    "    ('GradientBoosting', GradientBoostingClassifier()),\n",
    "    ('AdaBoost', AdaBoostClassifier()),\n",
    "    ('XGBoost', XGBClassifier()),\n",
    "]\n",
    "\n",
    "# Create and run the pipeline\n",
    "for model_name, model in models:\n",
    "    pipeline = Pipeline([\n",
    "        ('pre', preprocessing),\n",
    "        ('sel', RFE(RandomForestClassifier(n_estimators=rfc_estimators, max_features=rfc_max_features, class_weight='balanced_subsample', n_jobs=6, random_state=67))),\n",
    "        ('ovr', ADASYN(sampling_strategy='not majority', random_state=67)),\n",
    "        ('clf', model)\n",
    "    ])\n",
    " \n",
    "    params = {}\n",
    " \n",
    "    if model_name == 'RandomForest':\n",
    "        params = {\n",
    "            'sel__n_features_to_select': randint(40, 80),\n",
    "            'sel__step': [2],\n",
    "            'ovr__n_neighbors': randint(2, 6),\n",
    "            'clf__bootstrap': [True],\n",
    "            'clf__ccp_alpha': loguniform(1e-05, 1e-00),                       # Cost-complexity pruning is an algorithm used to prune a tree to avoid over-fitting\n",
    "            'clf__criterion': ['gini'],\n",
    "            'clf__max_depth': randint(40, 80),\n",
    "            'clf__max_features': loguniform(0.20, 0.75), \n",
    "            'clf__min_impurity_decrease': loguniform(1e-09, 1e-04),\n",
    "            #'clf__max_samples': loguniform(0.05, 0.40),                      # Significantly reduced model performance. Only for bootstrap=True\n",
    "            'clf__min_samples_leaf': loguniform(0.01, 0.20),\n",
    "            'clf__min_samples_split': loguniform(0.01, 0.20),\n",
    "            'clf__min_weight_fraction_leaf': loguniform(0.10, 0.25),\n",
    "            'clf__oob_score': [True, False],                                  # Only for bootstrap=True\n",
    "            'clf__warm_start': [True, False],\n",
    "            'clf__n_jobs': [6],\n",
    "            'clf__random_state': [67],\n",
    "        }\n",
    "\n",
    "    elif model_name == 'ExtraTrees':\n",
    "        params = {\n",
    "            'sel__n_features_to_select': randint(40, 80),\n",
    "            'sel__step': [2],\n",
    "            'ovr__n_neighbors': randint(2, 6), \n",
    "            'clf__bootstrap': [False],\n",
    "            'clf__ccp_alpha': loguniform(1e-08, 1e-04),                       # Cost-complexity pruning is an algorithm used to prune a tree to avoid over-fitting\n",
    "            'clf__criterion': ['gini','entropy'],\n",
    "            'clf__max_depth': randint(40, 80),\n",
    "            'clf__max_features': loguniform(0.30, 0.70),\n",
    "            'clf__max_leaf_nodes': randint(20, 60),\n",
    "            #'clf__max_samples': loguniform(0.10, 0.50),                      # Only for bootstrap=True\n",
    "            'clf__min_impurity_decrease': loguniform(1e-09, 1e-04),\n",
    "            'clf__min_samples_leaf': loguniform(0.01, 0.15),\n",
    "            'clf__min_samples_split': loguniform(0.01, 0.15),\n",
    "            'clf__min_weight_fraction_leaf': loguniform(0.01, 0.15),\n",
    "            'clf__oob_score': [False],                                        # Only for bootstrap=True\n",
    "            'clf__warm_start': [True, False],\n",
    "            'clf__n_jobs': [6],\n",
    "            'clf__random_state': [67],\n",
    "        }\n",
    "\n",
    "    elif model_name == 'GradientBoosting':\n",
    "        params = {\n",
    "            'sel__n_features_to_select': randint(10, 50),\n",
    "            'sel__step': [2],\n",
    "            'ovr__n_neighbors':randint(2, 6),\n",
    "            'clf__criterion': ['friedman_mse'],\n",
    "            'clf__ccp_alpha': loguniform(1e-10, 1e-06),                       # Cost-complexity pruning is an algorithm used to prune a tree to avoid over-fitting\n",
    "            'clf__learning_rate': loguniform(1e-04, 1e-00),\n",
    "            'clf__loss': ['log_loss','exponential'],\n",
    "            'clf__max_depth': randint(40, 80),\n",
    "            'clf__max_features': loguniform(0.15, 0.45), \n",
    "            'clf__max_leaf_nodes': randint(40, 90),\n",
    "            'clf__min_weight_fraction_leaf': loguniform(0.05, 0.40),          # Must be <= 0.5\n",
    "            'clf__min_impurity_decrease': loguniform(1e-09, 1e-05),\n",
    "            'clf__min_samples_leaf': loguniform(0.01, 0.15),\n",
    "            'clf__min_samples_split': loguniform(0.20, 0.55),\n",
    "            'clf__n_iter_no_change': [150],\n",
    "            'clf__tol': loguniform(1e-09, 1e-05),\n",
    "            'clf__validation_fraction': [0.10],\n",
    "            'clf__warm_start': [True],\n",
    "            'clf__subsample': loguniform(0.90, 1.0),\n",
    "            'clf__random_state': [67],\n",
    "        }\n",
    "\n",
    "    elif model_name == 'AdaBoost':\n",
    "        params = {\n",
    "            'sel__n_features_to_select': randint(5, 40),\n",
    "            'sel__step': [2],\n",
    "            'ovr__n_neighbors': randint(2, 6), \n",
    "            'clf__algorithm': ['SAMME.R','SAMME'],\n",
    "            'clf__learning_rate': loguniform(1e-04, 1e-00),\n",
    "            'clf__random_state': [67],\n",
    "        }\n",
    "\n",
    "    elif model_name == 'XGBoost':\n",
    "        params = {\n",
    "            'sel__n_features_to_select': randint(5, 40),\n",
    "            'sel__step': [2],\n",
    "            'ovr__n_neighbors': randint(2, 6), \n",
    "            'clf__tree_method': ['hist'],                                     # 'hist' is faster than 'auto'\n",
    "            'clf__booster': ['gbtree'],                                       # 'gbtree' is faster than 'gblinear'\n",
    "            'clf__eta': [0.3],\n",
    "            'clf__max_depth': [8],\n",
    "            'clf__max_bin': [256],\n",
    "            'clf__grow_policy': ['depthwise'],                                # 'lossguide','depthwise'\n",
    "            'clf__objective': ['binary:hinge'],\n",
    "            'clf__eval_metric': ['logloss'],\n",
    "            'clf__seed': [67],\n",
    "        }\n",
    "    \n",
    "    search = HalvingRandomSearchCV(\n",
    "        estimator=pipeline,\n",
    "        param_distributions=params,\n",
    "        scoring='accuracy',\n",
    "        factor=halving_parameter,\n",
    "        resource='clf__n_estimators',\n",
    "        n_candidates='exhaust',\n",
    "        min_resources=min_resource,\n",
    "        max_resources=max_resource,\n",
    "        aggressive_elimination=False,\n",
    "        return_train_score=True,\n",
    "        refit=True,\n",
    "        cv=n_cross_validation,\n",
    "        n_jobs=-1,\n",
    "        random_state=67,\n",
    "        verbose=1,\n",
    "        error_score='raise',\n",
    "    )\n",
    "    \n",
    "    search.fit(X_train, y_train)\n",
    "    \n",
    "    # Print results\n",
    "    print('----------')\n",
    "    print(' ')\n",
    "    print(f\"Best training score for {model_name}: {search.best_score_}\")\n",
    "    print(f\"Best test score for {model_name}: {search.score(X_test, y_test)}\")\n",
    "    print(' ')\n",
    "    print(classification_report(y_test, search.predict(X_test), digits=5, target_names=['run', 'pass']))\n",
    "    print(f\"Best parameters for {model_name}: {search.best_params_}\")\n",
    "    print(' ')\n",
    "    \n",
    "    selected_features = zip(search.best_estimator_.named_steps['sel'].ranking_, initial_features, search.best_estimator_.named_steps['sel'].support_)\n",
    "    selected_features = [x for x in selected_features if x[2] == True]\n",
    "    selected_features = [x[1] for x in selected_features]\n",
    "    print(f\"{model_name} selected features: {selected_features}\")       # Prints the features and rank from recursive feature elimination (RFE)\n",
    "    \n",
    "    cm = confusion_matrix(y_test, search.predict(X_test))\n",
    "    ConfusionMatrixDisplay(confusion_matrix=cm, display_labels=['run', 'pass']).plot(cmap=plt.cm.Blues) \n",
    "    plt.show()\n",
    "    \n",
    "    print(' ')\n",
    "    print('-------------------------------------------------------------------------------------------------------------------------------')\n",
    "    print(\"\\n\")"
   ],
   "metadata": {
    "pycharm": {
     "name": "#%%\n"
    },
    "ExecuteTime": {
     "end_time": "2024-01-03T08:22:33.058965Z",
     "start_time": "2024-01-02T23:03:10.767941Z"
    }
   },
   "id": "58cc5161"
  },
  {
   "cell_type": "code",
   "execution_count": 14,
   "outputs": [
    {
     "name": "stdout",
     "output_type": "stream",
     "text": [
      "Total HalvingRandomSearchCV runtime: 9.33 hours\n"
     ]
    }
   ],
   "source": [
    "# Calculate workbook processing time in hours\n",
    "end_time = time.time()\n",
    "total_time = end_time - start_time\n",
    "\n",
    "print('Total HalvingRandomSearchCV runtime:', round(total_time / 3600, 2), 'hours')"
   ],
   "metadata": {
    "collapsed": false,
    "ExecuteTime": {
     "end_time": "2024-01-03T08:22:33.064912Z",
     "start_time": "2024-01-03T08:22:33.060548Z"
    }
   },
   "id": "d7e4b6574bc08686"
  }
 ],
 "metadata": {
  "colab": {
   "name": "nfl_offensive_play_classification_v1.1.ipynb",
   "provenance": []
  },
  "kernelspec": {
   "display_name": "Python 3 (ipykernel)",
   "language": "python",
   "name": "python3"
  },
  "language_info": {
   "codemirror_mode": {
    "name": "ipython",
    "version": 3
   },
   "file_extension": ".py",
   "mimetype": "text/x-python",
   "name": "python",
   "nbconvert_exporter": "python",
   "pygments_lexer": "ipython3",
   "version": "3.9.6"
  }
 },
 "nbformat": 4,
 "nbformat_minor": 5
}
